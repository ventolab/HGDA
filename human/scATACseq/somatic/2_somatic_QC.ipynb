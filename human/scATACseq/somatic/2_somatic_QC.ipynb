{
 "cells": [
  {
   "cell_type": "markdown",
   "metadata": {},
   "source": [
    "## ATAC + MULTIOME (gonadal somatic) - september 2021\n",
    "\n",
    "### Build anndata from cellatac output "
   ]
  },
  {
   "cell_type": "code",
   "execution_count": 99,
   "metadata": {},
   "outputs": [],
   "source": [
    "# Load libraries\n",
    "import pandas as pd \n",
    "import scanpy as sc\n",
    "import numpy as np\n",
    "import scipy.sparse"
   ]
  },
  {
   "cell_type": "code",
   "execution_count": 100,
   "metadata": {},
   "outputs": [],
   "source": [
    "# Define variables\n",
    "outdir = \"/nfs/team292/vl6/my_MULTIOME_dir/supporting_july2021/\"\n",
    "experiment_prefix = 'supporting_'\n",
    "cellatac_outdir = '/lustre/scratch117/cellgen/cellgeni/TIC-atacseq/tic-1138/support-results200k/'\n"
   ]
  },
  {
   "cell_type": "code",
   "execution_count": 101,
   "metadata": {},
   "outputs": [],
   "source": [
    "input={'cnts': cellatac_outdir + 'peak_matrix/peaks_bc_matrix.mmtx.gz',\n",
    "        \"bcs\": cellatac_outdir + 'peak_matrix/bc.txt',\n",
    "      \"peaks\": cellatac_outdir + 'peak_matrix/peaks.txt',\n",
    "      'clusters': cellatac_outdir + 'qc/seurat-clades.tsv'}\n",
    "\n",
    "output = {\n",
    "    \"cnt_mmtx\":outdir + experiment_prefix + '_ATAC_cisTopic.mmtx',\n",
    "    \"cnt_peaks\":outdir + experiment_prefix + '_ATAC_cisTopic.peaks.tsv',\n",
    "    \"cnt_cells\":outdir + experiment_prefix + '_ATAC_cisTopic.cells.tsv',\n",
    "    \"h5ad\":outdir + experiment_prefix + '_ATAC_raw.h5ad',\n",
    "}"
   ]
  },
  {
   "cell_type": "markdown",
   "metadata": {},
   "source": [
    "#### Make anndata object"
   ]
  },
  {
   "cell_type": "code",
   "execution_count": 102,
   "metadata": {},
   "outputs": [],
   "source": [
    "adata = sc.read_mtx(input[\"cnts\"]).T\n",
    "\n",
    "bc = pd.read_table(input[\"bcs\"], header=None)\n",
    "feat = pd.read_table(input[\"peaks\"], header=None)\n",
    "\n",
    "adata.obs_names = bc[0]\n",
    "adata.var_names = feat[0]"
   ]
  },
  {
   "cell_type": "code",
   "execution_count": 103,
   "metadata": {},
   "outputs": [
    {
     "data": {
      "text/plain": [
       "AnnData object with n_obs × n_vars = 78750 × 391697"
      ]
     },
     "execution_count": 103,
     "metadata": {},
     "output_type": "execute_result"
    }
   ],
   "source": [
    "adata"
   ]
  },
  {
   "cell_type": "code",
   "execution_count": 104,
   "metadata": {},
   "outputs": [
    {
     "data": {
      "text/plain": [
       "16    9102\n",
       "06    7769\n",
       "22    5332\n",
       "19    4564\n",
       "18    4470\n",
       "21    4354\n",
       "13    4072\n",
       "20    3825\n",
       "27    3687\n",
       "26    3548\n",
       "23    3515\n",
       "15    2866\n",
       "11    2654\n",
       "17    2586\n",
       "14    2224\n",
       "05    1782\n",
       "28    1631\n",
       "01    1323\n",
       "02    1287\n",
       "25    1164\n",
       "10    1140\n",
       "24    1126\n",
       "08    1115\n",
       "04     978\n",
       "29     900\n",
       "07     637\n",
       "03     562\n",
       "09     375\n",
       "12     162\n",
       "Name: code, dtype: int64"
      ]
     },
     "execution_count": 104,
     "metadata": {},
     "output_type": "execute_result"
    }
   ],
   "source": [
    "# Code from cell barcodes \n",
    "adata.obs['code'] = [name[0:2] for name in adata.obs_names]\n",
    "adata.obs['code'].value_counts(dropna = False)"
   ]
  },
  {
   "cell_type": "code",
   "execution_count": 105,
   "metadata": {},
   "outputs": [
    {
     "data": {
      "text/plain": [
       "HCA_F_GON10535399    9102\n",
       "FCA_GND8046539       7769\n",
       "HD_F_GON9479874      5332\n",
       "HCA_F_GON10687820    4564\n",
       "HCA_F_GON10687819    4470\n",
       "HD_F_GON9479873      4354\n",
       "FCA_GND8795927       4072\n",
       "HD_F_GON9479872      3825\n",
       "HD_F_GON9883958      3687\n",
       "HD_F_GON9883955      3548\n",
       "HD_F_GON9479875      3515\n",
       "FCA_GND9332157       2866\n",
       "FCA_GND8768485       2654\n",
       "HCA_F_GON10687818    2586\n",
       "FCA_GND8795928       2224\n",
       "FCA_GND10288180      1782\n",
       "HD_F_GON9883959      1631\n",
       "FCA_GND10288176      1323\n",
       "FCA_GND10288177      1287\n",
       "HD_F_GON9525612      1164\n",
       "FCA_GND8768484       1140\n",
       "HD_F_GON9525611      1126\n",
       "FCA_GND8768482       1115\n",
       "FCA_GND10288179       978\n",
       "HD_F_GON9883960       900\n",
       "FCA_GND8768481        637\n",
       "FCA_GND10288178       562\n",
       "FCA_GND8768483        375\n",
       "FCA_GND8768487        162\n",
       "Name: sample, dtype: int64"
      ]
     },
     "execution_count": 105,
     "metadata": {},
     "output_type": "execute_result"
    }
   ],
   "source": [
    "# Sample from code \n",
    "sample_code = {'01' : 'FCA_GND10288176', '02' : 'FCA_GND10288177', '03' : 'FCA_GND10288178', '04' : 'FCA_GND10288179', \n",
    "               '05' : 'FCA_GND10288180', '06' : 'FCA_GND8046539', '07' : 'FCA_GND8768481', '08' : 'FCA_GND8768482',\n",
    "               '09' : 'FCA_GND8768483', '10' : 'FCA_GND8768484', '11' : 'FCA_GND8768485', '12' : 'FCA_GND8768487',\n",
    "               '13' : 'FCA_GND8795927', '14' : 'FCA_GND8795928', '15' : 'FCA_GND9332157', '16' : 'HCA_F_GON10535399',\n",
    "               '17' : 'HCA_F_GON10687818', '18' : 'HCA_F_GON10687819', '19' : 'HCA_F_GON10687820', '20' : 'HD_F_GON9479872',\n",
    "               '21' : 'HD_F_GON9479873', '22' : 'HD_F_GON9479874', '23' : 'HD_F_GON9479875', '24' : 'HD_F_GON9525611',\n",
    "               '25' : 'HD_F_GON9525612', '26' : 'HD_F_GON9883955', '27' : 'HD_F_GON9883958', '28' : 'HD_F_GON9883959',\n",
    "               '29' : 'HD_F_GON9883960'}\n",
    "adata.obs['sample'] = adata.obs['code'].map(sample_code) \n",
    "adata.obs['sample'].value_counts(dropna = False)"
   ]
  },
  {
   "cell_type": "code",
   "execution_count": 106,
   "metadata": {},
   "outputs": [
    {
     "data": {
      "text/html": [
       "<div>\n",
       "<style scoped>\n",
       "    .dataframe tbody tr th:only-of-type {\n",
       "        vertical-align: middle;\n",
       "    }\n",
       "\n",
       "    .dataframe tbody tr th {\n",
       "        vertical-align: top;\n",
       "    }\n",
       "\n",
       "    .dataframe thead th {\n",
       "        text-align: right;\n",
       "    }\n",
       "</style>\n",
       "<table border=\"1\" class=\"dataframe\">\n",
       "  <thead>\n",
       "    <tr style=\"text-align: right;\">\n",
       "      <th></th>\n",
       "      <th>code</th>\n",
       "      <th>sample</th>\n",
       "    </tr>\n",
       "  </thead>\n",
       "  <tbody>\n",
       "    <tr>\n",
       "      <th>29-TTTGGTTAGTTGCTTG-1</th>\n",
       "      <td>29</td>\n",
       "      <td>HD_F_GON9883960</td>\n",
       "    </tr>\n",
       "    <tr>\n",
       "      <th>29-TTTGGTTCAAGATGCG-1</th>\n",
       "      <td>29</td>\n",
       "      <td>HD_F_GON9883960</td>\n",
       "    </tr>\n",
       "    <tr>\n",
       "      <th>29-TTTGGTTGTGTAGGAC-1</th>\n",
       "      <td>29</td>\n",
       "      <td>HD_F_GON9883960</td>\n",
       "    </tr>\n",
       "    <tr>\n",
       "      <th>29-TTTGTGTGTGCTGAAG-1</th>\n",
       "      <td>29</td>\n",
       "      <td>HD_F_GON9883960</td>\n",
       "    </tr>\n",
       "    <tr>\n",
       "      <th>29-TTTGTGTGTTAACCGT-1</th>\n",
       "      <td>29</td>\n",
       "      <td>HD_F_GON9883960</td>\n",
       "    </tr>\n",
       "  </tbody>\n",
       "</table>\n",
       "</div>"
      ],
      "text/plain": [
       "                      code           sample\n",
       "29-TTTGGTTAGTTGCTTG-1   29  HD_F_GON9883960\n",
       "29-TTTGGTTCAAGATGCG-1   29  HD_F_GON9883960\n",
       "29-TTTGGTTGTGTAGGAC-1   29  HD_F_GON9883960\n",
       "29-TTTGTGTGTGCTGAAG-1   29  HD_F_GON9883960\n",
       "29-TTTGTGTGTTAACCGT-1   29  HD_F_GON9883960"
      ]
     },
     "execution_count": 106,
     "metadata": {},
     "output_type": "execute_result"
    }
   ],
   "source": [
    "adata.obs.tail()"
   ]
  },
  {
   "cell_type": "markdown",
   "metadata": {},
   "source": [
    "#### Load peak annotations (done with R script by Emma)"
   ]
  },
  {
   "cell_type": "code",
   "execution_count": 107,
   "metadata": {},
   "outputs": [],
   "source": [
    "peak_anno_df = pd.read_csv(outdir + \"ATACpeaks_annotation.csv\", index_col=0)\n",
    "peak_anno_df.index = peak_anno_df[\"peak_id\"]\n",
    "peak_anno_df.drop(\"peak_id\",1, inplace=True)\n",
    "adata.var = pd.concat([adata.var, peak_anno_df], 1)"
   ]
  },
  {
   "cell_type": "markdown",
   "metadata": {},
   "source": [
    "#### Save binary data to layers"
   ]
  },
  {
   "cell_type": "code",
   "execution_count": 108,
   "metadata": {},
   "outputs": [
    {
     "data": {
      "text/plain": [
       "AnnData object with n_obs × n_vars = 78750 × 391697\n",
       "    obs: 'code', 'sample'\n",
       "    var: 'peak_width', 'exon', 'gene', 'promoter', 'annotation', 'gene_name', 'gene_id', 'tss_distance', 'ENCODE_blacklist'\n",
       "    layers: 'binary_raw'"
      ]
     },
     "execution_count": 108,
     "metadata": {},
     "output_type": "execute_result"
    }
   ],
   "source": [
    "adata.layers[\"binary_raw\"] = adata.X\n",
    "adata.layers[\"binary_raw\"][adata.layers[\"binary_raw\"] > 1] = 1\n",
    "adata"
   ]
  },
  {
   "cell_type": "markdown",
   "metadata": {},
   "source": [
    "#### Load annotations of snRNAseq from MULTIOME samples "
   ]
  },
  {
   "cell_type": "code",
   "execution_count": 109,
   "metadata": {},
   "outputs": [],
   "source": [
    "path_to_multiome = '/nfs/team292/lg18/with_valentina/gonadsV2_revision/'"
   ]
  },
  {
   "cell_type": "code",
   "execution_count": 110,
   "metadata": {},
   "outputs": [],
   "source": [
    "code_correspondence = {'FCA_GND10288176' : '01', 'FCA_GND10288177' : '02', 'FCA_GND10288178' : '03',\n",
    "       'FCA_GND10288179' : '04', 'FCA_GND10288180' : '05', 'HCA_F_GON10535399' : '16',\n",
    "       'HCA_F_GON10687818' : '17', 'HCA_F_GON10687819' : '18', 'HCA_F_GON10687820' : '19',\n",
    "       'HD_F_GON9525611' : '24', 'HD_F_GON9525612' : '25'}"
   ]
  },
  {
   "cell_type": "code",
   "execution_count": 111,
   "metadata": {},
   "outputs": [
    {
     "data": {
      "text/html": [
       "<div>\n",
       "<style scoped>\n",
       "    .dataframe tbody tr th:only-of-type {\n",
       "        vertical-align: middle;\n",
       "    }\n",
       "\n",
       "    .dataframe tbody tr th {\n",
       "        vertical-align: top;\n",
       "    }\n",
       "\n",
       "    .dataframe thead th {\n",
       "        text-align: right;\n",
       "    }\n",
       "</style>\n",
       "<table border=\"1\" class=\"dataframe\">\n",
       "  <thead>\n",
       "    <tr style=\"text-align: right;\">\n",
       "      <th></th>\n",
       "      <th>Unnamed: 0</th>\n",
       "      <th>n_genes</th>\n",
       "      <th>sample</th>\n",
       "      <th>donor</th>\n",
       "      <th>Library_ATAC</th>\n",
       "      <th>Library_RNA</th>\n",
       "      <th>iRods_path</th>\n",
       "      <th>percent_mito</th>\n",
       "      <th>n_counts</th>\n",
       "      <th>batch</th>\n",
       "      <th>...</th>\n",
       "      <th>pcw</th>\n",
       "      <th>lineage</th>\n",
       "      <th>celltype_previous</th>\n",
       "      <th>celltype_samplespecific</th>\n",
       "      <th>S_score</th>\n",
       "      <th>G2M_score</th>\n",
       "      <th>phase</th>\n",
       "      <th>leiden</th>\n",
       "      <th>leiden_R</th>\n",
       "      <th>celltype</th>\n",
       "    </tr>\n",
       "  </thead>\n",
       "  <tbody>\n",
       "    <tr>\n",
       "      <th>0</th>\n",
       "      <td>HCA_F_GON10535495_AAACAGCCATAAGCAA</td>\n",
       "      <td>4286</td>\n",
       "      <td>HCA_F_GON10535495</td>\n",
       "      <td>Hrv92</td>\n",
       "      <td>HCA_F_GON10535399</td>\n",
       "      <td>HCA_F_GON10535495</td>\n",
       "      <td>/seq/illumina/cellranger-arc/cellranger-arc101...</td>\n",
       "      <td>0.024780</td>\n",
       "      <td>9347.0</td>\n",
       "      <td>0</td>\n",
       "      <td>...</td>\n",
       "      <td>8.6</td>\n",
       "      <td>Supporting</td>\n",
       "      <td>preGC_I</td>\n",
       "      <td>NaN</td>\n",
       "      <td>-0.279762</td>\n",
       "      <td>-0.437812</td>\n",
       "      <td>G1</td>\n",
       "      <td>3</td>\n",
       "      <td>3</td>\n",
       "      <td>preGC_I</td>\n",
       "    </tr>\n",
       "    <tr>\n",
       "      <th>1</th>\n",
       "      <td>HCA_F_GON10535495_AAACATGCACTAAGAA</td>\n",
       "      <td>3509</td>\n",
       "      <td>HCA_F_GON10535495</td>\n",
       "      <td>Hrv92</td>\n",
       "      <td>HCA_F_GON10535399</td>\n",
       "      <td>HCA_F_GON10535495</td>\n",
       "      <td>/seq/illumina/cellranger-arc/cellranger-arc101...</td>\n",
       "      <td>0.027097</td>\n",
       "      <td>6939.0</td>\n",
       "      <td>0</td>\n",
       "      <td>...</td>\n",
       "      <td>8.6</td>\n",
       "      <td>Supporting</td>\n",
       "      <td>preGC_I</td>\n",
       "      <td>NaN</td>\n",
       "      <td>-0.119048</td>\n",
       "      <td>-0.282884</td>\n",
       "      <td>G1</td>\n",
       "      <td>3</td>\n",
       "      <td>3</td>\n",
       "      <td>preGC_I</td>\n",
       "    </tr>\n",
       "    <tr>\n",
       "      <th>2</th>\n",
       "      <td>HCA_F_GON10535495_AAACCAACACTGACCG</td>\n",
       "      <td>4443</td>\n",
       "      <td>HCA_F_GON10535495</td>\n",
       "      <td>Hrv92</td>\n",
       "      <td>HCA_F_GON10535399</td>\n",
       "      <td>HCA_F_GON10535495</td>\n",
       "      <td>/seq/illumina/cellranger-arc/cellranger-arc101...</td>\n",
       "      <td>0.020062</td>\n",
       "      <td>9803.0</td>\n",
       "      <td>0</td>\n",
       "      <td>...</td>\n",
       "      <td>8.6</td>\n",
       "      <td>Supporting</td>\n",
       "      <td>preGC_I</td>\n",
       "      <td>NaN</td>\n",
       "      <td>-0.371032</td>\n",
       "      <td>-0.396936</td>\n",
       "      <td>G1</td>\n",
       "      <td>3</td>\n",
       "      <td>3</td>\n",
       "      <td>preGC_I</td>\n",
       "    </tr>\n",
       "    <tr>\n",
       "      <th>3</th>\n",
       "      <td>HCA_F_GON10535495_AAACCAACAGTAATAG</td>\n",
       "      <td>3430</td>\n",
       "      <td>HCA_F_GON10535495</td>\n",
       "      <td>Hrv92</td>\n",
       "      <td>HCA_F_GON10535399</td>\n",
       "      <td>HCA_F_GON10535495</td>\n",
       "      <td>/seq/illumina/cellranger-arc/cellranger-arc101...</td>\n",
       "      <td>0.018368</td>\n",
       "      <td>6758.0</td>\n",
       "      <td>0</td>\n",
       "      <td>...</td>\n",
       "      <td>8.6</td>\n",
       "      <td>Supporting</td>\n",
       "      <td>Mesenchymal_LHX9</td>\n",
       "      <td>NaN</td>\n",
       "      <td>-0.257937</td>\n",
       "      <td>-0.255245</td>\n",
       "      <td>G1</td>\n",
       "      <td>7</td>\n",
       "      <td>7</td>\n",
       "      <td>Mesenchymal_LHX9</td>\n",
       "    </tr>\n",
       "    <tr>\n",
       "      <th>4</th>\n",
       "      <td>HCA_F_GON10535495_AAACCGAAGAACAAGT</td>\n",
       "      <td>3627</td>\n",
       "      <td>HCA_F_GON10535495</td>\n",
       "      <td>Hrv92</td>\n",
       "      <td>HCA_F_GON10535399</td>\n",
       "      <td>HCA_F_GON10535495</td>\n",
       "      <td>/seq/illumina/cellranger-arc/cellranger-arc101...</td>\n",
       "      <td>0.026207</td>\n",
       "      <td>7202.0</td>\n",
       "      <td>0</td>\n",
       "      <td>...</td>\n",
       "      <td>8.6</td>\n",
       "      <td>Supporting</td>\n",
       "      <td>lowQC</td>\n",
       "      <td>NaN</td>\n",
       "      <td>-0.384921</td>\n",
       "      <td>-0.264652</td>\n",
       "      <td>G1</td>\n",
       "      <td>9</td>\n",
       "      <td>9</td>\n",
       "      <td>lowQC</td>\n",
       "    </tr>\n",
       "  </tbody>\n",
       "</table>\n",
       "<p>5 rows × 25 columns</p>\n",
       "</div>"
      ],
      "text/plain": [
       "                           Unnamed: 0  n_genes             sample  donor  \\\n",
       "0  HCA_F_GON10535495_AAACAGCCATAAGCAA     4286  HCA_F_GON10535495  Hrv92   \n",
       "1  HCA_F_GON10535495_AAACATGCACTAAGAA     3509  HCA_F_GON10535495  Hrv92   \n",
       "2  HCA_F_GON10535495_AAACCAACACTGACCG     4443  HCA_F_GON10535495  Hrv92   \n",
       "3  HCA_F_GON10535495_AAACCAACAGTAATAG     3430  HCA_F_GON10535495  Hrv92   \n",
       "4  HCA_F_GON10535495_AAACCGAAGAACAAGT     3627  HCA_F_GON10535495  Hrv92   \n",
       "\n",
       "        Library_ATAC        Library_RNA  \\\n",
       "0  HCA_F_GON10535399  HCA_F_GON10535495   \n",
       "1  HCA_F_GON10535399  HCA_F_GON10535495   \n",
       "2  HCA_F_GON10535399  HCA_F_GON10535495   \n",
       "3  HCA_F_GON10535399  HCA_F_GON10535495   \n",
       "4  HCA_F_GON10535399  HCA_F_GON10535495   \n",
       "\n",
       "                                          iRods_path  percent_mito  n_counts  \\\n",
       "0  /seq/illumina/cellranger-arc/cellranger-arc101...      0.024780    9347.0   \n",
       "1  /seq/illumina/cellranger-arc/cellranger-arc101...      0.027097    6939.0   \n",
       "2  /seq/illumina/cellranger-arc/cellranger-arc101...      0.020062    9803.0   \n",
       "3  /seq/illumina/cellranger-arc/cellranger-arc101...      0.018368    6758.0   \n",
       "4  /seq/illumina/cellranger-arc/cellranger-arc101...      0.026207    7202.0   \n",
       "\n",
       "   batch  ...  pcw     lineage  celltype_previous  celltype_samplespecific  \\\n",
       "0      0  ...  8.6  Supporting            preGC_I                      NaN   \n",
       "1      0  ...  8.6  Supporting            preGC_I                      NaN   \n",
       "2      0  ...  8.6  Supporting            preGC_I                      NaN   \n",
       "3      0  ...  8.6  Supporting   Mesenchymal_LHX9                      NaN   \n",
       "4      0  ...  8.6  Supporting              lowQC                      NaN   \n",
       "\n",
       "    S_score  G2M_score phase leiden leiden_R          celltype  \n",
       "0 -0.279762  -0.437812    G1      3        3           preGC_I  \n",
       "1 -0.119048  -0.282884    G1      3        3           preGC_I  \n",
       "2 -0.371032  -0.396936    G1      3        3           preGC_I  \n",
       "3 -0.257937  -0.255245    G1      7        7  Mesenchymal_LHX9  \n",
       "4 -0.384921  -0.264652    G1      9        9             lowQC  \n",
       "\n",
       "[5 rows x 25 columns]"
      ]
     },
     "execution_count": 111,
     "metadata": {},
     "output_type": "execute_result"
    }
   ],
   "source": [
    "supporting_female = pd.read_csv(path_to_multiome + 'multiomics_female_somatic.csv')\n",
    "supporting_female.head()"
   ]
  },
  {
   "cell_type": "code",
   "execution_count": 112,
   "metadata": {},
   "outputs": [
    {
     "data": {
      "text/html": [
       "<div>\n",
       "<style scoped>\n",
       "    .dataframe tbody tr th:only-of-type {\n",
       "        vertical-align: middle;\n",
       "    }\n",
       "\n",
       "    .dataframe tbody tr th {\n",
       "        vertical-align: top;\n",
       "    }\n",
       "\n",
       "    .dataframe thead th {\n",
       "        text-align: right;\n",
       "    }\n",
       "</style>\n",
       "<table border=\"1\" class=\"dataframe\">\n",
       "  <thead>\n",
       "    <tr style=\"text-align: right;\">\n",
       "      <th></th>\n",
       "      <th>Unnamed: 0</th>\n",
       "      <th>n_genes</th>\n",
       "      <th>sample</th>\n",
       "      <th>donor</th>\n",
       "      <th>Library_ATAC</th>\n",
       "      <th>Library_RNA</th>\n",
       "      <th>iRods_path</th>\n",
       "      <th>percent_mito</th>\n",
       "      <th>n_counts</th>\n",
       "      <th>batch</th>\n",
       "      <th>...</th>\n",
       "      <th>bonf_pval</th>\n",
       "      <th>pcw</th>\n",
       "      <th>lineage</th>\n",
       "      <th>celltype_samplespecific</th>\n",
       "      <th>S_score</th>\n",
       "      <th>G2M_score</th>\n",
       "      <th>phase</th>\n",
       "      <th>leiden</th>\n",
       "      <th>leiden_R</th>\n",
       "      <th>celltype</th>\n",
       "    </tr>\n",
       "  </thead>\n",
       "  <tbody>\n",
       "    <tr>\n",
       "      <th>0</th>\n",
       "      <td>HCA_F_GON10713286_AAACATGCAGGTATTT</td>\n",
       "      <td>3875</td>\n",
       "      <td>HCA_F_GON10713286</td>\n",
       "      <td>Hrv41</td>\n",
       "      <td>HCA_F_GON10687820</td>\n",
       "      <td>HCA_F_GON10713286</td>\n",
       "      <td>/seq/illumina/cellranger-arc/cellranger-arc101...</td>\n",
       "      <td>0.002676</td>\n",
       "      <td>10070.0</td>\n",
       "      <td>0</td>\n",
       "      <td>...</td>\n",
       "      <td>1.000000</td>\n",
       "      <td>8.8</td>\n",
       "      <td>Mesenchymal_LHX9</td>\n",
       "      <td>NaN</td>\n",
       "      <td>1.507850</td>\n",
       "      <td>0.092105</td>\n",
       "      <td>S</td>\n",
       "      <td>7</td>\n",
       "      <td>7</td>\n",
       "      <td>Mesenchymal_LHX9</td>\n",
       "    </tr>\n",
       "    <tr>\n",
       "      <th>1</th>\n",
       "      <td>HCA_F_GON10713286_AAACATGCAGTTTACG</td>\n",
       "      <td>5139</td>\n",
       "      <td>HCA_F_GON10713286</td>\n",
       "      <td>Hrv41</td>\n",
       "      <td>HCA_F_GON10687820</td>\n",
       "      <td>HCA_F_GON10713286</td>\n",
       "      <td>/seq/illumina/cellranger-arc/cellranger-arc101...</td>\n",
       "      <td>0.005092</td>\n",
       "      <td>13619.0</td>\n",
       "      <td>0</td>\n",
       "      <td>...</td>\n",
       "      <td>1.000000</td>\n",
       "      <td>8.8</td>\n",
       "      <td>Sertoli</td>\n",
       "      <td>NaN</td>\n",
       "      <td>-0.091674</td>\n",
       "      <td>-0.706570</td>\n",
       "      <td>G1</td>\n",
       "      <td>4</td>\n",
       "      <td>4</td>\n",
       "      <td>Sertoli</td>\n",
       "    </tr>\n",
       "    <tr>\n",
       "      <th>2</th>\n",
       "      <td>HCA_F_GON10713286_AAACCAACAAGCTTAT</td>\n",
       "      <td>5234</td>\n",
       "      <td>HCA_F_GON10713286</td>\n",
       "      <td>Hrv41</td>\n",
       "      <td>HCA_F_GON10687820</td>\n",
       "      <td>HCA_F_GON10713286</td>\n",
       "      <td>/seq/illumina/cellranger-arc/cellranger-arc101...</td>\n",
       "      <td>0.007096</td>\n",
       "      <td>14606.0</td>\n",
       "      <td>0</td>\n",
       "      <td>...</td>\n",
       "      <td>1.000000</td>\n",
       "      <td>8.8</td>\n",
       "      <td>Sertoli</td>\n",
       "      <td>NaN</td>\n",
       "      <td>-0.039820</td>\n",
       "      <td>-0.939547</td>\n",
       "      <td>G1</td>\n",
       "      <td>0</td>\n",
       "      <td>0</td>\n",
       "      <td>Sertoli</td>\n",
       "    </tr>\n",
       "    <tr>\n",
       "      <th>3</th>\n",
       "      <td>HCA_F_GON10713286_AAACCAACATAACGGG</td>\n",
       "      <td>1195</td>\n",
       "      <td>HCA_F_GON10713286</td>\n",
       "      <td>Hrv41</td>\n",
       "      <td>HCA_F_GON10687820</td>\n",
       "      <td>HCA_F_GON10713286</td>\n",
       "      <td>/seq/illumina/cellranger-arc/cellranger-arc101...</td>\n",
       "      <td>0.007257</td>\n",
       "      <td>1487.0</td>\n",
       "      <td>0</td>\n",
       "      <td>...</td>\n",
       "      <td>1.000000</td>\n",
       "      <td>8.8</td>\n",
       "      <td>Sertoli</td>\n",
       "      <td>NaN</td>\n",
       "      <td>-0.002272</td>\n",
       "      <td>-0.006809</td>\n",
       "      <td>G1</td>\n",
       "      <td>0</td>\n",
       "      <td>0</td>\n",
       "      <td>Sertoli</td>\n",
       "    </tr>\n",
       "    <tr>\n",
       "      <th>4</th>\n",
       "      <td>HCA_F_GON10713286_AAACCGAAGAAGCTAG</td>\n",
       "      <td>4897</td>\n",
       "      <td>HCA_F_GON10713286</td>\n",
       "      <td>Hrv41</td>\n",
       "      <td>HCA_F_GON10687820</td>\n",
       "      <td>HCA_F_GON10713286</td>\n",
       "      <td>/seq/illumina/cellranger-arc/cellranger-arc101...</td>\n",
       "      <td>0.004505</td>\n",
       "      <td>11114.0</td>\n",
       "      <td>0</td>\n",
       "      <td>...</td>\n",
       "      <td>0.046413</td>\n",
       "      <td>8.8</td>\n",
       "      <td>Sertoli</td>\n",
       "      <td>NaN</td>\n",
       "      <td>0.127001</td>\n",
       "      <td>-0.411759</td>\n",
       "      <td>S</td>\n",
       "      <td>0</td>\n",
       "      <td>0</td>\n",
       "      <td>Sertoli</td>\n",
       "    </tr>\n",
       "  </tbody>\n",
       "</table>\n",
       "<p>5 rows × 24 columns</p>\n",
       "</div>"
      ],
      "text/plain": [
       "                           Unnamed: 0  n_genes             sample  donor  \\\n",
       "0  HCA_F_GON10713286_AAACATGCAGGTATTT     3875  HCA_F_GON10713286  Hrv41   \n",
       "1  HCA_F_GON10713286_AAACATGCAGTTTACG     5139  HCA_F_GON10713286  Hrv41   \n",
       "2  HCA_F_GON10713286_AAACCAACAAGCTTAT     5234  HCA_F_GON10713286  Hrv41   \n",
       "3  HCA_F_GON10713286_AAACCAACATAACGGG     1195  HCA_F_GON10713286  Hrv41   \n",
       "4  HCA_F_GON10713286_AAACCGAAGAAGCTAG     4897  HCA_F_GON10713286  Hrv41   \n",
       "\n",
       "        Library_ATAC        Library_RNA  \\\n",
       "0  HCA_F_GON10687820  HCA_F_GON10713286   \n",
       "1  HCA_F_GON10687820  HCA_F_GON10713286   \n",
       "2  HCA_F_GON10687820  HCA_F_GON10713286   \n",
       "3  HCA_F_GON10687820  HCA_F_GON10713286   \n",
       "4  HCA_F_GON10687820  HCA_F_GON10713286   \n",
       "\n",
       "                                          iRods_path  percent_mito  n_counts  \\\n",
       "0  /seq/illumina/cellranger-arc/cellranger-arc101...      0.002676   10070.0   \n",
       "1  /seq/illumina/cellranger-arc/cellranger-arc101...      0.005092   13619.0   \n",
       "2  /seq/illumina/cellranger-arc/cellranger-arc101...      0.007096   14606.0   \n",
       "3  /seq/illumina/cellranger-arc/cellranger-arc101...      0.007257    1487.0   \n",
       "4  /seq/illumina/cellranger-arc/cellranger-arc101...      0.004505   11114.0   \n",
       "\n",
       "   batch  ...  bonf_pval  pcw           lineage  celltype_samplespecific  \\\n",
       "0      0  ...   1.000000  8.8  Mesenchymal_LHX9                      NaN   \n",
       "1      0  ...   1.000000  8.8           Sertoli                      NaN   \n",
       "2      0  ...   1.000000  8.8           Sertoli                      NaN   \n",
       "3      0  ...   1.000000  8.8           Sertoli                      NaN   \n",
       "4      0  ...   0.046413  8.8           Sertoli                      NaN   \n",
       "\n",
       "    S_score  G2M_score phase leiden  leiden_R          celltype  \n",
       "0  1.507850   0.092105     S      7         7  Mesenchymal_LHX9  \n",
       "1 -0.091674  -0.706570    G1      4         4           Sertoli  \n",
       "2 -0.039820  -0.939547    G1      0         0           Sertoli  \n",
       "3 -0.002272  -0.006809    G1      0         0           Sertoli  \n",
       "4  0.127001  -0.411759     S      0         0           Sertoli  \n",
       "\n",
       "[5 rows x 24 columns]"
      ]
     },
     "execution_count": 112,
     "metadata": {},
     "output_type": "execute_result"
    }
   ],
   "source": [
    "supporting_male = pd.read_csv(path_to_multiome + 'multiomics_male_somatic.csv')\n",
    "supporting_male.head()"
   ]
  },
  {
   "cell_type": "code",
   "execution_count": 113,
   "metadata": {},
   "outputs": [
    {
     "data": {
      "text/plain": [
       "Sertoli             6304\n",
       "preGC_IIa           3470\n",
       "preGC_I             3269\n",
       "Mesenchymal_LHX9    3244\n",
       "preGC_IIb           2165\n",
       "early_sPAX8         1772\n",
       "granulosa           1351\n",
       "OSE                 1320\n",
       "FetalLeydig         1235\n",
       "early_supporting    1100\n",
       "Doublet              943\n",
       "CoelEpi_LHX9         653\n",
       "OSE_cycling          641\n",
       "lowQC                385\n",
       "Name: celltype, dtype: int64"
      ]
     },
     "execution_count": 113,
     "metadata": {},
     "output_type": "execute_result"
    }
   ],
   "source": [
    "supporting = supporting_female.append(supporting_male)\n",
    "supporting['celltype'].value_counts(dropna = False)"
   ]
  },
  {
   "cell_type": "code",
   "execution_count": 114,
   "metadata": {},
   "outputs": [
    {
     "data": {
      "text/plain": [
       "HCA_F_GON10535399    7315\n",
       "HCA_F_GON10687819    4824\n",
       "HCA_F_GON10687820    4197\n",
       "HCA_F_GON10687818    2614\n",
       "FCA_GND10288180      1972\n",
       "FCA_GND10288176      1693\n",
       "FCA_GND10288177      1621\n",
       "HD_F_GON9525612      1057\n",
       "HD_F_GON9525611      1035\n",
       "FCA_GND10288179       991\n",
       "FCA_GND10288178       533\n",
       "Name: Library_ATAC, dtype: int64"
      ]
     },
     "execution_count": 114,
     "metadata": {},
     "output_type": "execute_result"
    }
   ],
   "source": [
    "supporting['Library_ATAC'].value_counts(dropna = False)"
   ]
  },
  {
   "cell_type": "code",
   "execution_count": 115,
   "metadata": {},
   "outputs": [
    {
     "data": {
      "text/plain": [
       "array(['FCA_GND10288176', 'FCA_GND10288177', 'FCA_GND10288178',\n",
       "       'FCA_GND10288179', 'FCA_GND10288180', 'HCA_F_GON10535399',\n",
       "       'HCA_F_GON10687818', 'HCA_F_GON10687819', 'HCA_F_GON10687820',\n",
       "       'HD_F_GON9525611', 'HD_F_GON9525612'], dtype=object)"
      ]
     },
     "execution_count": 115,
     "metadata": {},
     "output_type": "execute_result"
    }
   ],
   "source": [
    "np.unique(supporting['Library_ATAC'])"
   ]
  },
  {
   "cell_type": "code",
   "execution_count": 116,
   "metadata": {},
   "outputs": [],
   "source": [
    "supporting['ATAC_code'] = supporting['Library_ATAC'].map(code_correspondence)"
   ]
  },
  {
   "cell_type": "code",
   "execution_count": 117,
   "metadata": {},
   "outputs": [],
   "source": [
    "supporting['barcode'] = [i.split('_')[-1] for i in supporting['Unnamed: 0']]"
   ]
  },
  {
   "cell_type": "code",
   "execution_count": 118,
   "metadata": {},
   "outputs": [],
   "source": [
    "supporting['ATAC_barcode'] = supporting['ATAC_code'] + '-' + supporting['barcode'] + '-1'"
   ]
  },
  {
   "cell_type": "code",
   "execution_count": 119,
   "metadata": {},
   "outputs": [],
   "source": [
    "adata.obs['multiome_Somatic'] = adata.obs_names.map(pd.Series(supporting.celltype.values,index=supporting.ATAC_barcode).to_dict())"
   ]
  },
  {
   "cell_type": "code",
   "execution_count": 120,
   "metadata": {},
   "outputs": [
    {
     "data": {
      "text/plain": [
       "NaN                 55589\n",
       "Sertoli              5726\n",
       "preGC_I              3062\n",
       "preGC_IIa            2875\n",
       "Mesenchymal_LHX9     2604\n",
       "preGC_IIb            1747\n",
       "early_sPAX8          1644\n",
       "OSE                  1197\n",
       "FetalLeydig          1115\n",
       "early_supporting     1050\n",
       "granulosa            1029\n",
       "OSE_cycling           593\n",
       "CoelEpi_LHX9          519\n",
       "Name: multiome_Somatic, dtype: int64"
      ]
     },
     "execution_count": 120,
     "metadata": {},
     "output_type": "execute_result"
    }
   ],
   "source": [
    "adata.obs['multiome_Somatic'].value_counts(dropna = False)"
   ]
  },
  {
   "cell_type": "markdown",
   "metadata": {},
   "source": [
    "#### Peak filtering"
   ]
  },
  {
   "cell_type": "code",
   "execution_count": 121,
   "metadata": {},
   "outputs": [
    {
     "data": {
      "text/plain": [
       "array([[<AxesSubplot:title={'center':'peak_width'}>]], dtype=object)"
      ]
     },
     "execution_count": 121,
     "metadata": {},
     "output_type": "execute_result"
    },
    {
     "data": {
      "image/png": "[encoded data removed]",
      "text/plain": [
       "<Figure size 1800x432 with 1 Axes>"
      ]
     },
     "metadata": {
      "needs_background": "light"
     },
     "output_type": "display_data"
    }
   ],
   "source": [
    "adata.var.hist(column = 'peak_width', bins = 200, grid = False, figsize = (25,6), color = '#870052')"
   ]
  },
  {
   "cell_type": "code",
   "execution_count": 122,
   "metadata": {},
   "outputs": [
    {
     "data": {
      "text/plain": [
       "AnnData object with n_obs × n_vars = 78750 × 391697\n",
       "    obs: 'code', 'sample', 'multiome_Somatic'\n",
       "    var: 'peak_width', 'exon', 'gene', 'promoter', 'annotation', 'gene_name', 'gene_id', 'tss_distance', 'ENCODE_blacklist', 'n_cells_by_counts', 'mean_counts', 'log1p_mean_counts', 'pct_dropout_by_counts', 'total_counts', 'log1p_total_counts'\n",
       "    layers: 'binary_raw'"
      ]
     },
     "execution_count": 122,
     "metadata": {},
     "output_type": "execute_result"
    }
   ],
   "source": [
    "var_qc = sc.pp.calculate_qc_metrics(adata, layer = \"binary_raw\")[1]\n",
    "adata.var = pd.concat([adata.var, var_qc], 1)\n",
    "adata"
   ]
  },
  {
   "cell_type": "code",
   "execution_count": 123,
   "metadata": {},
   "outputs": [
    {
     "data": {
      "text/html": [
       "<div>\n",
       "<style scoped>\n",
       "    .dataframe tbody tr th:only-of-type {\n",
       "        vertical-align: middle;\n",
       "    }\n",
       "\n",
       "    .dataframe tbody tr th {\n",
       "        vertical-align: top;\n",
       "    }\n",
       "\n",
       "    .dataframe thead th {\n",
       "        text-align: right;\n",
       "    }\n",
       "</style>\n",
       "<table border=\"1\" class=\"dataframe\">\n",
       "  <thead>\n",
       "    <tr style=\"text-align: right;\">\n",
       "      <th></th>\n",
       "      <th>peak_width</th>\n",
       "      <th>exon</th>\n",
       "      <th>gene</th>\n",
       "      <th>promoter</th>\n",
       "      <th>annotation</th>\n",
       "      <th>gene_name</th>\n",
       "      <th>gene_id</th>\n",
       "      <th>tss_distance</th>\n",
       "      <th>ENCODE_blacklist</th>\n",
       "      <th>n_cells_by_counts</th>\n",
       "      <th>mean_counts</th>\n",
       "      <th>log1p_mean_counts</th>\n",
       "      <th>pct_dropout_by_counts</th>\n",
       "      <th>total_counts</th>\n",
       "      <th>log1p_total_counts</th>\n",
       "    </tr>\n",
       "  </thead>\n",
       "  <tbody>\n",
       "    <tr>\n",
       "      <th>chr1:10003-10391</th>\n",
       "      <td>389</td>\n",
       "      <td>0</td>\n",
       "      <td>0</td>\n",
       "      <td>0</td>\n",
       "      <td>intergenic</td>\n",
       "      <td>NaN</td>\n",
       "      <td>NaN</td>\n",
       "      <td>58699</td>\n",
       "      <td>1</td>\n",
       "      <td>472</td>\n",
       "      <td>0.005994</td>\n",
       "      <td>0.005976</td>\n",
       "      <td>99.400635</td>\n",
       "      <td>472.0</td>\n",
       "      <td>6.159095</td>\n",
       "    </tr>\n",
       "    <tr>\n",
       "      <th>chr1:180676-181615</th>\n",
       "      <td>940</td>\n",
       "      <td>0</td>\n",
       "      <td>0</td>\n",
       "      <td>1</td>\n",
       "      <td>promoter</td>\n",
       "      <td>FO538757.2</td>\n",
       "      <td>ENSG00000279928</td>\n",
       "      <td>777</td>\n",
       "      <td>1</td>\n",
       "      <td>1873</td>\n",
       "      <td>0.023784</td>\n",
       "      <td>0.023506</td>\n",
       "      <td>97.621587</td>\n",
       "      <td>1873.0</td>\n",
       "      <td>7.535830</td>\n",
       "    </tr>\n",
       "    <tr>\n",
       "      <th>chr1:191340-191559</th>\n",
       "      <td>220</td>\n",
       "      <td>0</td>\n",
       "      <td>1</td>\n",
       "      <td>0</td>\n",
       "      <td>intron</td>\n",
       "      <td>FO538757.1</td>\n",
       "      <td>ENSG00000279457</td>\n",
       "      <td>3851</td>\n",
       "      <td>1</td>\n",
       "      <td>205</td>\n",
       "      <td>0.002603</td>\n",
       "      <td>0.002600</td>\n",
       "      <td>99.739683</td>\n",
       "      <td>205.0</td>\n",
       "      <td>5.327876</td>\n",
       "    </tr>\n",
       "    <tr>\n",
       "      <th>chr1:267865-268095</th>\n",
       "      <td>231</td>\n",
       "      <td>0</td>\n",
       "      <td>0</td>\n",
       "      <td>0</td>\n",
       "      <td>intergenic</td>\n",
       "      <td>NaN</td>\n",
       "      <td>NaN</td>\n",
       "      <td>67542</td>\n",
       "      <td>1</td>\n",
       "      <td>793</td>\n",
       "      <td>0.010070</td>\n",
       "      <td>0.010019</td>\n",
       "      <td>98.993016</td>\n",
       "      <td>793.0</td>\n",
       "      <td>6.677083</td>\n",
       "    </tr>\n",
       "    <tr>\n",
       "      <th>chr1:586070-586287</th>\n",
       "      <td>218</td>\n",
       "      <td>0</td>\n",
       "      <td>0</td>\n",
       "      <td>0</td>\n",
       "      <td>intergenic</td>\n",
       "      <td>NaN</td>\n",
       "      <td>NaN</td>\n",
       "      <td>100366</td>\n",
       "      <td>1</td>\n",
       "      <td>675</td>\n",
       "      <td>0.008571</td>\n",
       "      <td>0.008535</td>\n",
       "      <td>99.142857</td>\n",
       "      <td>675.0</td>\n",
       "      <td>6.516193</td>\n",
       "    </tr>\n",
       "  </tbody>\n",
       "</table>\n",
       "</div>"
      ],
      "text/plain": [
       "                    peak_width  exon  gene  promoter  annotation   gene_name  \\\n",
       "chr1:10003-10391           389     0     0         0  intergenic         NaN   \n",
       "chr1:180676-181615         940     0     0         1    promoter  FO538757.2   \n",
       "chr1:191340-191559         220     0     1         0      intron  FO538757.1   \n",
       "chr1:267865-268095         231     0     0         0  intergenic         NaN   \n",
       "chr1:586070-586287         218     0     0         0  intergenic         NaN   \n",
       "\n",
       "                            gene_id  tss_distance  ENCODE_blacklist  \\\n",
       "chr1:10003-10391                NaN         58699                 1   \n",
       "chr1:180676-181615  ENSG00000279928           777                 1   \n",
       "chr1:191340-191559  ENSG00000279457          3851                 1   \n",
       "chr1:267865-268095              NaN         67542                 1   \n",
       "chr1:586070-586287              NaN        100366                 1   \n",
       "\n",
       "                    n_cells_by_counts  mean_counts  log1p_mean_counts  \\\n",
       "chr1:10003-10391                  472     0.005994           0.005976   \n",
       "chr1:180676-181615               1873     0.023784           0.023506   \n",
       "chr1:191340-191559                205     0.002603           0.002600   \n",
       "chr1:267865-268095                793     0.010070           0.010019   \n",
       "chr1:586070-586287                675     0.008571           0.008535   \n",
       "\n",
       "                    pct_dropout_by_counts  total_counts  log1p_total_counts  \n",
       "chr1:10003-10391                99.400635         472.0            6.159095  \n",
       "chr1:180676-181615              97.621587        1873.0            7.535830  \n",
       "chr1:191340-191559              99.739683         205.0            5.327876  \n",
       "chr1:267865-268095              98.993016         793.0            6.677083  \n",
       "chr1:586070-586287              99.142857         675.0            6.516193  "
      ]
     },
     "execution_count": 123,
     "metadata": {},
     "output_type": "execute_result"
    }
   ],
   "source": [
    "adata.var.head()"
   ]
  },
  {
   "cell_type": "code",
   "execution_count": 124,
   "metadata": {},
   "outputs": [
    {
     "data": {
      "text/plain": [
       "array([[<AxesSubplot:title={'center':'total_counts'}>]], dtype=object)"
      ]
     },
     "execution_count": 124,
     "metadata": {},
     "output_type": "execute_result"
    },
    {
     "data": {
      "image/png": "[encoded data removed]",
      "text/plain": [
       "<Figure size 1800x432 with 1 Axes>"
      ]
     },
     "metadata": {
      "needs_background": "light"
     },
     "output_type": "display_data"
    }
   ],
   "source": [
    "adata.var.hist(column = 'total_counts', bins = 200, grid = False, figsize = (25,6), color = '#870052')"
   ]
  },
  {
   "cell_type": "code",
   "execution_count": 125,
   "metadata": {},
   "outputs": [
    {
     "name": "stdout",
     "output_type": "stream",
     "text": [
      "30% : 23625.0\n",
      "0.1% : 78.75\n"
     ]
    }
   ],
   "source": [
    "thirty_percent = len(adata.obs_names) / 100 * 30\n",
    "point_one_percent = len(adata.obs_names) / 100 * 0.1\n",
    "print(\"30% : {}\".format(thirty_percent))\n",
    "print(\"0.1% : {}\".format(point_one_percent))"
   ]
  },
  {
   "cell_type": "code",
   "execution_count": 126,
   "metadata": {},
   "outputs": [
    {
     "data": {
      "text/plain": [
       "View of AnnData object with n_obs × n_vars = 78750 × 379839\n",
       "    obs: 'code', 'sample', 'multiome_Somatic'\n",
       "    var: 'peak_width', 'exon', 'gene', 'promoter', 'annotation', 'gene_name', 'gene_id', 'tss_distance', 'ENCODE_blacklist', 'n_cells_by_counts', 'mean_counts', 'log1p_mean_counts', 'pct_dropout_by_counts', 'total_counts', 'log1p_total_counts'\n",
       "    layers: 'binary_raw'"
      ]
     },
     "execution_count": 126,
     "metadata": {},
     "output_type": "execute_result"
    }
   ],
   "source": [
    "# Accessible in at least k cells\n",
    "adata = adata[:,adata.var.total_counts > point_one_percent]\n",
    "adata = adata[:,adata.var.total_counts < thirty_percent]\n",
    "adata"
   ]
  },
  {
   "cell_type": "code",
   "execution_count": 127,
   "metadata": {},
   "outputs": [
    {
     "data": {
      "text/plain": [
       "View of AnnData object with n_obs × n_vars = 78750 × 378314\n",
       "    obs: 'code', 'sample', 'multiome_Somatic'\n",
       "    var: 'peak_width', 'exon', 'gene', 'promoter', 'annotation', 'gene_name', 'gene_id', 'tss_distance', 'ENCODE_blacklist', 'n_cells_by_counts', 'mean_counts', 'log1p_mean_counts', 'pct_dropout_by_counts', 'total_counts', 'log1p_total_counts'\n",
       "    layers: 'binary_raw'"
      ]
     },
     "execution_count": 127,
     "metadata": {},
     "output_type": "execute_result"
    }
   ],
   "source": [
    "# Remove peaks in ENCODE blacklist\n",
    "adata = adata[:, adata.var.ENCODE_blacklist == 0]\n",
    "adata"
   ]
  },
  {
   "cell_type": "code",
   "execution_count": 128,
   "metadata": {},
   "outputs": [
    {
     "data": {
      "text/plain": [
       "View of AnnData object with n_obs × n_vars = 78750 × 338064\n",
       "    obs: 'code', 'sample', 'multiome_Somatic'\n",
       "    var: 'peak_width', 'exon', 'gene', 'promoter', 'annotation', 'gene_name', 'gene_id', 'tss_distance', 'ENCODE_blacklist', 'n_cells_by_counts', 'mean_counts', 'log1p_mean_counts', 'pct_dropout_by_counts', 'total_counts', 'log1p_total_counts'\n",
       "    layers: 'binary_raw'"
      ]
     },
     "execution_count": 128,
     "metadata": {},
     "output_type": "execute_result"
    }
   ],
   "source": [
    "# Filter by width (remove peaks at the lowest end, closest to min peak width in MACS2)\n",
    "\n",
    "adata = adata[:, adata.var.peak_width > 210]\n",
    "adata = adata[:, adata.var.peak_width < 1500]\n",
    "adata"
   ]
  },
  {
   "cell_type": "code",
   "execution_count": 129,
   "metadata": {},
   "outputs": [
    {
     "data": {
      "text/html": [
       "<div>\n",
       "<style scoped>\n",
       "    .dataframe tbody tr th:only-of-type {\n",
       "        vertical-align: middle;\n",
       "    }\n",
       "\n",
       "    .dataframe tbody tr th {\n",
       "        vertical-align: top;\n",
       "    }\n",
       "\n",
       "    .dataframe thead th {\n",
       "        text-align: right;\n",
       "    }\n",
       "</style>\n",
       "<table border=\"1\" class=\"dataframe\">\n",
       "  <thead>\n",
       "    <tr style=\"text-align: right;\">\n",
       "      <th></th>\n",
       "      <th>peak_width</th>\n",
       "      <th>exon</th>\n",
       "      <th>gene</th>\n",
       "      <th>promoter</th>\n",
       "      <th>annotation</th>\n",
       "      <th>gene_name</th>\n",
       "      <th>gene_id</th>\n",
       "      <th>tss_distance</th>\n",
       "      <th>ENCODE_blacklist</th>\n",
       "      <th>n_cells_by_counts</th>\n",
       "      <th>mean_counts</th>\n",
       "      <th>log1p_mean_counts</th>\n",
       "      <th>pct_dropout_by_counts</th>\n",
       "      <th>total_counts</th>\n",
       "      <th>log1p_total_counts</th>\n",
       "    </tr>\n",
       "  </thead>\n",
       "  <tbody>\n",
       "    <tr>\n",
       "      <th>chr1:816748-817444</th>\n",
       "      <td>697</td>\n",
       "      <td>0</td>\n",
       "      <td>0</td>\n",
       "      <td>0</td>\n",
       "      <td>intergenic</td>\n",
       "      <td>NaN</td>\n",
       "      <td>NaN</td>\n",
       "      <td>106483</td>\n",
       "      <td>0</td>\n",
       "      <td>765</td>\n",
       "      <td>0.009714</td>\n",
       "      <td>0.009667</td>\n",
       "      <td>99.028571</td>\n",
       "      <td>765.0</td>\n",
       "      <td>6.641182</td>\n",
       "    </tr>\n",
       "    <tr>\n",
       "      <th>chr1:817870-818350</th>\n",
       "      <td>481</td>\n",
       "      <td>0</td>\n",
       "      <td>0</td>\n",
       "      <td>0</td>\n",
       "      <td>intergenic</td>\n",
       "      <td>NaN</td>\n",
       "      <td>NaN</td>\n",
       "      <td>105577</td>\n",
       "      <td>0</td>\n",
       "      <td>249</td>\n",
       "      <td>0.003162</td>\n",
       "      <td>0.003157</td>\n",
       "      <td>99.683810</td>\n",
       "      <td>249.0</td>\n",
       "      <td>5.521461</td>\n",
       "    </tr>\n",
       "    <tr>\n",
       "      <th>chr1:825667-826059</th>\n",
       "      <td>393</td>\n",
       "      <td>0</td>\n",
       "      <td>0</td>\n",
       "      <td>0</td>\n",
       "      <td>intergenic</td>\n",
       "      <td>NaN</td>\n",
       "      <td>NaN</td>\n",
       "      <td>97868</td>\n",
       "      <td>0</td>\n",
       "      <td>812</td>\n",
       "      <td>0.010311</td>\n",
       "      <td>0.010258</td>\n",
       "      <td>98.968889</td>\n",
       "      <td>812.0</td>\n",
       "      <td>6.700731</td>\n",
       "    </tr>\n",
       "    <tr>\n",
       "      <th>chr1:826598-827811</th>\n",
       "      <td>1214</td>\n",
       "      <td>0</td>\n",
       "      <td>0</td>\n",
       "      <td>0</td>\n",
       "      <td>intergenic</td>\n",
       "      <td>NaN</td>\n",
       "      <td>NaN</td>\n",
       "      <td>96116</td>\n",
       "      <td>0</td>\n",
       "      <td>10094</td>\n",
       "      <td>0.128178</td>\n",
       "      <td>0.120604</td>\n",
       "      <td>87.182222</td>\n",
       "      <td>10094.0</td>\n",
       "      <td>9.219795</td>\n",
       "    </tr>\n",
       "    <tr>\n",
       "      <th>chr1:828783-829046</th>\n",
       "      <td>264</td>\n",
       "      <td>0</td>\n",
       "      <td>0</td>\n",
       "      <td>0</td>\n",
       "      <td>intergenic</td>\n",
       "      <td>NaN</td>\n",
       "      <td>NaN</td>\n",
       "      <td>94881</td>\n",
       "      <td>0</td>\n",
       "      <td>362</td>\n",
       "      <td>0.004597</td>\n",
       "      <td>0.004586</td>\n",
       "      <td>99.540317</td>\n",
       "      <td>362.0</td>\n",
       "      <td>5.894403</td>\n",
       "    </tr>\n",
       "  </tbody>\n",
       "</table>\n",
       "</div>"
      ],
      "text/plain": [
       "                    peak_width  exon  gene  promoter  annotation gene_name  \\\n",
       "chr1:816748-817444         697     0     0         0  intergenic       NaN   \n",
       "chr1:817870-818350         481     0     0         0  intergenic       NaN   \n",
       "chr1:825667-826059         393     0     0         0  intergenic       NaN   \n",
       "chr1:826598-827811        1214     0     0         0  intergenic       NaN   \n",
       "chr1:828783-829046         264     0     0         0  intergenic       NaN   \n",
       "\n",
       "                   gene_id  tss_distance  ENCODE_blacklist  n_cells_by_counts  \\\n",
       "chr1:816748-817444     NaN        106483                 0                765   \n",
       "chr1:817870-818350     NaN        105577                 0                249   \n",
       "chr1:825667-826059     NaN         97868                 0                812   \n",
       "chr1:826598-827811     NaN         96116                 0              10094   \n",
       "chr1:828783-829046     NaN         94881                 0                362   \n",
       "\n",
       "                    mean_counts  log1p_mean_counts  pct_dropout_by_counts  \\\n",
       "chr1:816748-817444     0.009714           0.009667              99.028571   \n",
       "chr1:817870-818350     0.003162           0.003157              99.683810   \n",
       "chr1:825667-826059     0.010311           0.010258              98.968889   \n",
       "chr1:826598-827811     0.128178           0.120604              87.182222   \n",
       "chr1:828783-829046     0.004597           0.004586              99.540317   \n",
       "\n",
       "                    total_counts  log1p_total_counts  \n",
       "chr1:816748-817444         765.0            6.641182  \n",
       "chr1:817870-818350         249.0            5.521461  \n",
       "chr1:825667-826059         812.0            6.700731  \n",
       "chr1:826598-827811       10094.0            9.219795  \n",
       "chr1:828783-829046         362.0            5.894403  "
      ]
     },
     "execution_count": 129,
     "metadata": {},
     "output_type": "execute_result"
    }
   ],
   "source": [
    "adata.var.head()"
   ]
  },
  {
   "cell_type": "code",
   "execution_count": 130,
   "metadata": {},
   "outputs": [
    {
     "data": {
      "text/plain": [
       "intergenic    154184\n",
       "intron        138401\n",
       "exon           35355\n",
       "promoter       10124\n",
       "Name: annotation, dtype: int64"
      ]
     },
     "execution_count": 130,
     "metadata": {},
     "output_type": "execute_result"
    }
   ],
   "source": [
    "adata.var['annotation'].value_counts()"
   ]
  },
  {
   "cell_type": "code",
   "execution_count": 131,
   "metadata": {},
   "outputs": [
    {
     "data": {
      "text/html": [
       "<div>\n",
       "<style scoped>\n",
       "    .dataframe tbody tr th:only-of-type {\n",
       "        vertical-align: middle;\n",
       "    }\n",
       "\n",
       "    .dataframe tbody tr th {\n",
       "        vertical-align: top;\n",
       "    }\n",
       "\n",
       "    .dataframe thead th {\n",
       "        text-align: right;\n",
       "    }\n",
       "</style>\n",
       "<table border=\"1\" class=\"dataframe\">\n",
       "  <thead>\n",
       "    <tr style=\"text-align: right;\">\n",
       "      <th></th>\n",
       "      <th>code</th>\n",
       "      <th>sample</th>\n",
       "      <th>multiome_Somatic</th>\n",
       "    </tr>\n",
       "  </thead>\n",
       "  <tbody>\n",
       "    <tr>\n",
       "      <th>01-AAACAGCCACTAGCGT-1</th>\n",
       "      <td>01</td>\n",
       "      <td>FCA_GND10288176</td>\n",
       "      <td>preGC_IIb</td>\n",
       "    </tr>\n",
       "    <tr>\n",
       "      <th>01-AAACATGCATCCCGCT-1</th>\n",
       "      <td>01</td>\n",
       "      <td>FCA_GND10288176</td>\n",
       "      <td>preGC_IIb</td>\n",
       "    </tr>\n",
       "    <tr>\n",
       "      <th>01-AAACCGAAGTTATGGC-1</th>\n",
       "      <td>01</td>\n",
       "      <td>FCA_GND10288176</td>\n",
       "      <td>preGC_IIa</td>\n",
       "    </tr>\n",
       "    <tr>\n",
       "      <th>01-AAACCGCGTTTCGCCA-1</th>\n",
       "      <td>01</td>\n",
       "      <td>FCA_GND10288176</td>\n",
       "      <td>granulosa</td>\n",
       "    </tr>\n",
       "    <tr>\n",
       "      <th>01-AAACCGGCAACCCTCC-1</th>\n",
       "      <td>01</td>\n",
       "      <td>FCA_GND10288176</td>\n",
       "      <td>granulosa</td>\n",
       "    </tr>\n",
       "  </tbody>\n",
       "</table>\n",
       "</div>"
      ],
      "text/plain": [
       "                      code           sample multiome_Somatic\n",
       "01-AAACAGCCACTAGCGT-1   01  FCA_GND10288176        preGC_IIb\n",
       "01-AAACATGCATCCCGCT-1   01  FCA_GND10288176        preGC_IIb\n",
       "01-AAACCGAAGTTATGGC-1   01  FCA_GND10288176        preGC_IIa\n",
       "01-AAACCGCGTTTCGCCA-1   01  FCA_GND10288176        granulosa\n",
       "01-AAACCGGCAACCCTCC-1   01  FCA_GND10288176        granulosa"
      ]
     },
     "execution_count": 131,
     "metadata": {},
     "output_type": "execute_result"
    }
   ],
   "source": [
    "adata.obs.head()"
   ]
  },
  {
   "cell_type": "code",
   "execution_count": 132,
   "metadata": {},
   "outputs": [
    {
     "data": {
      "text/plain": [
       "AnnData object with n_obs × n_vars = 78750 × 338064\n",
       "    obs: 'cellatac_clusters'\n",
       "    var: 'peak_width', 'exon', 'gene', 'promoter', 'annotation', 'gene_name', 'gene_id', 'tss_distance', 'ENCODE_blacklist', 'n_cells_by_counts', 'mean_counts', 'log1p_mean_counts', 'pct_dropout_by_counts', 'total_counts', 'log1p_total_counts'\n",
       "    layers: 'binary_raw'"
      ]
     },
     "execution_count": 132,
     "metadata": {},
     "output_type": "execute_result"
    }
   ],
   "source": [
    "### Filter peaks that are not accessible in at least 5% of cells from a coarse cluster\n",
    "min_frac=0.04\n",
    "# Load cluster information from cellatac outputs\n",
    "clusters = pd.read_table(input[\"clusters\"], header = None, index_col = 0)\n",
    "clusters.columns = [\"cellatac_clusters\"]\n",
    "adata.obs = clusters.loc[adata.obs_names]\n",
    "adata"
   ]
  },
  {
   "cell_type": "code",
   "execution_count": 133,
   "metadata": {},
   "outputs": [
    {
     "data": {
      "text/html": [
       "<div>\n",
       "<style scoped>\n",
       "    .dataframe tbody tr th:only-of-type {\n",
       "        vertical-align: middle;\n",
       "    }\n",
       "\n",
       "    .dataframe tbody tr th {\n",
       "        vertical-align: top;\n",
       "    }\n",
       "\n",
       "    .dataframe thead th {\n",
       "        text-align: right;\n",
       "    }\n",
       "</style>\n",
       "<table border=\"1\" class=\"dataframe\">\n",
       "  <thead>\n",
       "    <tr style=\"text-align: right;\">\n",
       "      <th></th>\n",
       "      <th>cellatac_clusters</th>\n",
       "    </tr>\n",
       "  </thead>\n",
       "  <tbody>\n",
       "    <tr>\n",
       "      <th>01-AAACAGCCACTAGCGT-1</th>\n",
       "      <td>9</td>\n",
       "    </tr>\n",
       "    <tr>\n",
       "      <th>01-AAACATGCATCCCGCT-1</th>\n",
       "      <td>9</td>\n",
       "    </tr>\n",
       "    <tr>\n",
       "      <th>01-AAACCGAAGTTATGGC-1</th>\n",
       "      <td>9</td>\n",
       "    </tr>\n",
       "    <tr>\n",
       "      <th>01-AAACCGCGTTTCGCCA-1</th>\n",
       "      <td>9</td>\n",
       "    </tr>\n",
       "    <tr>\n",
       "      <th>01-AAACCGGCAACCCTCC-1</th>\n",
       "      <td>9</td>\n",
       "    </tr>\n",
       "  </tbody>\n",
       "</table>\n",
       "</div>"
      ],
      "text/plain": [
       "                       cellatac_clusters\n",
       "01-AAACAGCCACTAGCGT-1                  9\n",
       "01-AAACATGCATCCCGCT-1                  9\n",
       "01-AAACCGAAGTTATGGC-1                  9\n",
       "01-AAACCGCGTTTCGCCA-1                  9\n",
       "01-AAACCGGCAACCCTCC-1                  9"
      ]
     },
     "execution_count": 133,
     "metadata": {},
     "output_type": "execute_result"
    }
   ],
   "source": [
    "adata.obs.head()"
   ]
  },
  {
   "cell_type": "code",
   "execution_count": 134,
   "metadata": {},
   "outputs": [
    {
     "name": "stderr",
     "output_type": "stream",
     "text": [
      "/opt/conda/envs/atac_env/lib/python3.8/site-packages/IPython/core/interactiveshell.py:3427: SparseEfficiencyWarning: Comparing a sparse matrix with a nonzero scalar using != is inefficient, try using == instead.\n",
      "  exec(code_obj, self.user_global_ns, self.user_ns)\n",
      "/opt/conda/envs/atac_env/lib/python3.8/site-packages/scipy/sparse/_index.py:125: SparseEfficiencyWarning: Changing the sparsity structure of a csr_matrix is expensive. lil_matrix is more efficient.\n",
      "  self._set_arrayXarray(i, j, x)\n"
     ]
    }
   ],
   "source": [
    "n_clusters = len(np.unique(adata.obs[[\"cellatac_clusters\"]]))\n",
    "clus_mat = np.empty([adata.n_obs, n_clusters])\n",
    "for cl in np.unique(adata.obs[[\"cellatac_clusters\"]]):\n",
    "    clus_mat[np.where(adata.obs['cellatac_clusters']==cl)[0],cl] = 1\n",
    "\n",
    "clus_mat = scipy.sparse.csr_matrix(clus_mat)\n",
    "clus_mat[clus_mat != 1 ] = 0"
   ]
  },
  {
   "cell_type": "code",
   "execution_count": 135,
   "metadata": {},
   "outputs": [],
   "source": [
    "cl_peak_mat = np.dot(clus_mat.T, adata.layers[\"binary_raw\"])"
   ]
  },
  {
   "cell_type": "code",
   "execution_count": 136,
   "metadata": {},
   "outputs": [],
   "source": [
    "cl_peak_frac = cl_peak_mat/clus_mat.sum(0).T"
   ]
  },
  {
   "cell_type": "code",
   "execution_count": 137,
   "metadata": {},
   "outputs": [
    {
     "data": {
      "text/plain": [
       "(1, 338064)"
      ]
     },
     "execution_count": 137,
     "metadata": {},
     "output_type": "execute_result"
    }
   ],
   "source": [
    "cl_peak_frac.max(0).shape"
   ]
  },
  {
   "cell_type": "code",
   "execution_count": 138,
   "metadata": {},
   "outputs": [
    {
     "data": {
      "text/plain": [
       "(1, 338064)"
      ]
     },
     "execution_count": 138,
     "metadata": {},
     "output_type": "execute_result"
    }
   ],
   "source": [
    "bool_matrix = cl_peak_frac.max(0) > min_frac\n",
    "bool_matrix.shape"
   ]
  },
  {
   "cell_type": "code",
   "execution_count": 139,
   "metadata": {},
   "outputs": [
    {
     "data": {
      "text/plain": [
       "(338064,)"
      ]
     },
     "execution_count": 139,
     "metadata": {},
     "output_type": "execute_result"
    }
   ],
   "source": [
    "bool_vector = np.squeeze(np.asarray(bool_matrix))\n",
    "bool_vector.shape"
   ]
  },
  {
   "cell_type": "code",
   "execution_count": 140,
   "metadata": {},
   "outputs": [],
   "source": [
    "adata = adata[:, bool_vector]"
   ]
  },
  {
   "cell_type": "code",
   "execution_count": 141,
   "metadata": {},
   "outputs": [
    {
     "data": {
      "text/plain": [
       "View of AnnData object with n_obs × n_vars = 78750 × 159132\n",
       "    obs: 'cellatac_clusters'\n",
       "    var: 'peak_width', 'exon', 'gene', 'promoter', 'annotation', 'gene_name', 'gene_id', 'tss_distance', 'ENCODE_blacklist', 'n_cells_by_counts', 'mean_counts', 'log1p_mean_counts', 'pct_dropout_by_counts', 'total_counts', 'log1p_total_counts'\n",
       "    layers: 'binary_raw'"
      ]
     },
     "execution_count": 141,
     "metadata": {},
     "output_type": "execute_result"
    }
   ],
   "source": [
    "adata"
   ]
  },
  {
   "cell_type": "code",
   "execution_count": 142,
   "metadata": {},
   "outputs": [
    {
     "name": "stderr",
     "output_type": "stream",
     "text": [
      "Trying to set attribute `.obs` of view, copying.\n"
     ]
    }
   ],
   "source": [
    "sc.pp.calculate_qc_metrics(adata, layer = \"binary_raw\", inplace = True)"
   ]
  },
  {
   "cell_type": "code",
   "execution_count": 143,
   "metadata": {},
   "outputs": [
    {
     "data": {
      "text/plain": [
       "array([[<AxesSubplot:title={'center':'log1p_total_counts'}>]],\n",
       "      dtype=object)"
      ]
     },
     "execution_count": 143,
     "metadata": {},
     "output_type": "execute_result"
    },
    {
     "data": {
      "image/png": "[encoded data removed]",
      "text/plain": [
       "<Figure size 1800x432 with 1 Axes>"
      ]
     },
     "metadata": {
      "needs_background": "light"
     },
     "output_type": "display_data"
    }
   ],
   "source": [
    "adata.var.hist(column = 'log1p_total_counts', bins = 200, grid = False, figsize = (25,6), color = '#870052')"
   ]
  },
  {
   "cell_type": "code",
   "execution_count": 144,
   "metadata": {},
   "outputs": [
    {
     "data": {
      "text/plain": [
       "array([[<AxesSubplot:title={'center':'log1p_total_counts'}>]],\n",
       "      dtype=object)"
      ]
     },
     "execution_count": 144,
     "metadata": {},
     "output_type": "execute_result"
    },
    {
     "data": {
      "image/png": "[encoded data removed]",
      "text/plain": [
       "<Figure size 1800x432 with 1 Axes>"
      ]
     },
     "metadata": {
      "needs_background": "light"
     },
     "output_type": "display_data"
    }
   ],
   "source": [
    "adata.obs.hist(column = 'log1p_total_counts', bins = 200, grid = False, figsize = (25,6), color = '#870052')"
   ]
  },
  {
   "cell_type": "code",
   "execution_count": 145,
   "metadata": {},
   "outputs": [],
   "source": [
    "adata.obs['multiome_Somatic'] = adata.obs_names.map(pd.Series(supporting.celltype.values,index=supporting.ATAC_barcode).to_dict())"
   ]
  },
  {
   "cell_type": "code",
   "execution_count": 146,
   "metadata": {},
   "outputs": [
    {
     "data": {
      "text/html": [
       "<div>\n",
       "<style scoped>\n",
       "    .dataframe tbody tr th:only-of-type {\n",
       "        vertical-align: middle;\n",
       "    }\n",
       "\n",
       "    .dataframe tbody tr th {\n",
       "        vertical-align: top;\n",
       "    }\n",
       "\n",
       "    .dataframe thead th {\n",
       "        text-align: right;\n",
       "    }\n",
       "</style>\n",
       "<table border=\"1\" class=\"dataframe\">\n",
       "  <thead>\n",
       "    <tr style=\"text-align: right;\">\n",
       "      <th></th>\n",
       "      <th>multiome_Somatic</th>\n",
       "      <th>log1p_total_counts</th>\n",
       "    </tr>\n",
       "  </thead>\n",
       "  <tbody>\n",
       "    <tr>\n",
       "      <th>0</th>\n",
       "      <td>CoelEpi_LHX9</td>\n",
       "      <td>7.062634</td>\n",
       "    </tr>\n",
       "    <tr>\n",
       "      <th>1</th>\n",
       "      <td>FetalLeydig</td>\n",
       "      <td>7.747046</td>\n",
       "    </tr>\n",
       "    <tr>\n",
       "      <th>2</th>\n",
       "      <td>Mesenchymal_LHX9</td>\n",
       "      <td>7.140434</td>\n",
       "    </tr>\n",
       "    <tr>\n",
       "      <th>3</th>\n",
       "      <td>OSE</td>\n",
       "      <td>6.975188</td>\n",
       "    </tr>\n",
       "    <tr>\n",
       "      <th>4</th>\n",
       "      <td>OSE_cycling</td>\n",
       "      <td>7.517588</td>\n",
       "    </tr>\n",
       "    <tr>\n",
       "      <th>5</th>\n",
       "      <td>Sertoli</td>\n",
       "      <td>7.573287</td>\n",
       "    </tr>\n",
       "    <tr>\n",
       "      <th>6</th>\n",
       "      <td>early_sPAX8</td>\n",
       "      <td>7.019826</td>\n",
       "    </tr>\n",
       "    <tr>\n",
       "      <th>7</th>\n",
       "      <td>early_supporting</td>\n",
       "      <td>7.297402</td>\n",
       "    </tr>\n",
       "    <tr>\n",
       "      <th>8</th>\n",
       "      <td>granulosa</td>\n",
       "      <td>6.561055</td>\n",
       "    </tr>\n",
       "    <tr>\n",
       "      <th>9</th>\n",
       "      <td>preGC_I</td>\n",
       "      <td>7.121058</td>\n",
       "    </tr>\n",
       "    <tr>\n",
       "      <th>10</th>\n",
       "      <td>preGC_IIa</td>\n",
       "      <td>7.007895</td>\n",
       "    </tr>\n",
       "    <tr>\n",
       "      <th>11</th>\n",
       "      <td>preGC_IIb</td>\n",
       "      <td>7.037750</td>\n",
       "    </tr>\n",
       "  </tbody>\n",
       "</table>\n",
       "</div>"
      ],
      "text/plain": [
       "    multiome_Somatic  log1p_total_counts\n",
       "0       CoelEpi_LHX9            7.062634\n",
       "1        FetalLeydig            7.747046\n",
       "2   Mesenchymal_LHX9            7.140434\n",
       "3                OSE            6.975188\n",
       "4        OSE_cycling            7.517588\n",
       "5            Sertoli            7.573287\n",
       "6        early_sPAX8            7.019826\n",
       "7   early_supporting            7.297402\n",
       "8          granulosa            6.561055\n",
       "9            preGC_I            7.121058\n",
       "10         preGC_IIa            7.007895\n",
       "11         preGC_IIb            7.037750"
      ]
     },
     "execution_count": 146,
     "metadata": {},
     "output_type": "execute_result"
    }
   ],
   "source": [
    "adata.obs.groupby('multiome_Somatic', as_index=False)['log1p_total_counts'].mean()"
   ]
  },
  {
   "cell_type": "code",
   "execution_count": 149,
   "metadata": {},
   "outputs": [
    {
     "data": {
      "text/plain": [
       "Sertoli             5726\n",
       "preGC_I             3062\n",
       "preGC_IIa           2875\n",
       "Mesenchymal_LHX9    2604\n",
       "preGC_IIb           1747\n",
       "early_sPAX8         1644\n",
       "OSE                 1197\n",
       "FetalLeydig         1115\n",
       "early_supporting    1050\n",
       "granulosa           1029\n",
       "OSE_cycling          593\n",
       "CoelEpi_LHX9         519\n",
       "Name: multiome_Somatic, dtype: int64"
      ]
     },
     "execution_count": 149,
     "metadata": {},
     "output_type": "execute_result"
    }
   ],
   "source": [
    "adata.obs['multiome_Somatic'].value_counts()"
   ]
  },
  {
   "cell_type": "code",
   "execution_count": 147,
   "metadata": {},
   "outputs": [
    {
     "data": {
      "text/plain": [
       "View of AnnData object with n_obs × n_vars = 77780 × 159132\n",
       "    obs: 'cellatac_clusters', 'n_genes_by_counts', 'log1p_n_genes_by_counts', 'total_counts', 'log1p_total_counts', 'pct_counts_in_top_50_genes', 'pct_counts_in_top_100_genes', 'pct_counts_in_top_200_genes', 'pct_counts_in_top_500_genes', 'multiome_Somatic'\n",
       "    var: 'peak_width', 'exon', 'gene', 'promoter', 'annotation', 'gene_name', 'gene_id', 'tss_distance', 'ENCODE_blacklist', 'n_cells_by_counts', 'mean_counts', 'log1p_mean_counts', 'pct_dropout_by_counts', 'total_counts', 'log1p_total_counts'\n",
       "    layers: 'binary_raw'"
      ]
     },
     "execution_count": 147,
     "metadata": {},
     "output_type": "execute_result"
    }
   ],
   "source": [
    "bdata = adata[adata.obs.log1p_total_counts >= 5]\n",
    "bdata"
   ]
  },
  {
   "cell_type": "code",
   "execution_count": 150,
   "metadata": {},
   "outputs": [
    {
     "data": {
      "text/plain": [
       "Sertoli             5679\n",
       "preGC_I             2949\n",
       "preGC_IIa           2750\n",
       "Mesenchymal_LHX9    2536\n",
       "preGC_IIb           1668\n",
       "early_sPAX8         1592\n",
       "OSE                 1152\n",
       "FetalLeydig         1107\n",
       "early_supporting    1027\n",
       "granulosa            957\n",
       "OSE_cycling          579\n",
       "CoelEpi_LHX9         510\n",
       "Name: multiome_Somatic, dtype: int64"
      ]
     },
     "execution_count": 150,
     "metadata": {},
     "output_type": "execute_result"
    }
   ],
   "source": [
    "bdata.obs['multiome_Somatic'].value_counts()"
   ]
  },
  {
   "cell_type": "code",
   "execution_count": 151,
   "metadata": {},
   "outputs": [
    {
     "name": "stderr",
     "output_type": "stream",
     "text": [
      "/opt/conda/envs/atac_env/lib/python3.8/site-packages/anndata/_core/anndata.py:1207: ImplicitModificationWarning: Initializing view as actual.\n",
      "  warnings.warn(\n",
      "Trying to set attribute `.obs` of view, copying.\n",
      "... storing 'multiome_Somatic' as categorical\n",
      "Trying to set attribute `.var` of view, copying.\n",
      "... storing 'annotation' as categorical\n",
      "Trying to set attribute `.var` of view, copying.\n",
      "... storing 'gene_name' as categorical\n",
      "Trying to set attribute `.var` of view, copying.\n",
      "... storing 'gene_id' as categorical\n"
     ]
    }
   ],
   "source": [
    "## Write output anndata\n",
    "bdata.write_h5ad(output[\"h5ad\"])"
   ]
  },
  {
   "cell_type": "markdown",
   "metadata": {},
   "source": [
    "#### End of notebook"
   ]
  },
  {
   "cell_type": "code",
   "execution_count": null,
   "metadata": {},
   "outputs": [],
   "source": []
  }
 ],
 "metadata": {
  "kernelspec": {
   "display_name": "atac_env",
   "language": "python",
   "name": "atac_env"
  },
  "language_info": {
   "codemirror_mode": {
    "name": "ipython",
    "version": 3
   },
   "file_extension": ".py",
   "mimetype": "text/x-python",
   "name": "python",
   "nbconvert_exporter": "python",
   "pygments_lexer": "ipython3",
   "version": "3.8.6"
  }
 },
 "nbformat": 4,
 "nbformat_minor": 4
}
