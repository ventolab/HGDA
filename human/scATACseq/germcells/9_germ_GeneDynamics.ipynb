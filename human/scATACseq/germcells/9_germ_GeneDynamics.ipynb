{
 "cells": [
  {
   "cell_type": "markdown",
   "metadata": {},
   "source": [
    "### Gene dynamics with snRNA/ATAC-seq (10X multiome) samples"
   ]
  },
  {
   "cell_type": "code",
   "execution_count": 1,
   "metadata": {},
   "outputs": [],
   "source": [
    "import numpy as np\n",
    "import scanpy as sc \n",
    "import pandas as pd\n",
    "import anndata\n",
    "sc.settings.figdir = '/home/jovyan/MULTIOME_july2021/figures_germ/'"
   ]
  },
  {
   "cell_type": "code",
   "execution_count": 2,
   "metadata": {},
   "outputs": [],
   "source": [
    "sc.settings.set_figure_params(dpi=80)  # low dpi (dots per inch) yields small inline figures"
   ]
  },
  {
   "cell_type": "code",
   "execution_count": 3,
   "metadata": {},
   "outputs": [],
   "source": [
    "import rpy2.rinterface_lib.callbacks\n",
    "import logging"
   ]
  },
  {
   "cell_type": "code",
   "execution_count": 4,
   "metadata": {},
   "outputs": [],
   "source": [
    "# Ignore R warning messages\n",
    "#Note: this can be commented out to get more verbose R output\n",
    "rpy2.rinterface_lib.callbacks.logger.setLevel(logging.ERROR)"
   ]
  },
  {
   "cell_type": "code",
   "execution_count": 5,
   "metadata": {},
   "outputs": [],
   "source": [
    "import anndata2ri\n",
    "anndata2ri.activate()"
   ]
  },
  {
   "cell_type": "code",
   "execution_count": 6,
   "metadata": {},
   "outputs": [],
   "source": [
    "%load_ext rpy2.ipython"
   ]
  },
  {
   "cell_type": "code",
   "execution_count": 7,
   "metadata": {},
   "outputs": [],
   "source": [
    "%%R\n",
    "## Install dependencies\n",
    "#devtools::install_github(\"aertslab/RcisTarget\")\n",
    "#devtools::install_github(\"aertslab/AUCell\")\n",
    "        \n",
    "#devtools::install_github(\"aertslab/cisTopic\")\n",
    "library(cisTopic)\n",
    "library(Matrix)\n",
    "library(Seurat)\n",
    "library(dplyr)\n",
    "library(data.table)\n",
    "library(GenomicRanges)\n",
    "library(EnsDb.Hsapiens.v86)\n",
    "#library(cicero)\n",
    "library(Signac)\n",
    "#library(clustree)\n",
    "library(Matrix)\n",
    "library(reticulate)\n",
    "#if (!requireNamespace(\"remotes\", quietly = TRUE)) {\n",
    "#  install.packages(\"remotes\")\n",
    "#}\n",
    "#remotes::install_github(\"mojaveazure/seurat-disk\")\n",
    "\n",
    "library(SeuratDisk)"
   ]
  },
  {
   "cell_type": "markdown",
   "metadata": {},
   "source": [
    "#### Load ATAC and RNA from 10X multiome samples"
   ]
  },
  {
   "cell_type": "markdown",
   "metadata": {},
   "source": [
    "### RNA "
   ]
  },
  {
   "cell_type": "code",
   "execution_count": 38,
   "metadata": {},
   "outputs": [
    {
     "name": "stdout",
     "output_type": "stream",
     "text": [
      "Hrv15\n",
      "Hrv39\n",
      "Hrv3\n",
      "Hrv41\n",
      "Hrv58\n",
      "Hrv65\n",
      "Hrv91\n",
      "Hrv92\n",
      "Hrv93\n"
     ]
    }
   ],
   "source": [
    "rnas = []\n",
    "donors = ['Hrv15', 'Hrv39', 'Hrv3', 'Hrv41', 'Hrv58', 'Hrv65', 'Hrv91', 'Hrv92', 'Hrv93']\n",
    "for i in donors: \n",
    "    print(i)\n",
    "    rna_donor = sc.read('/nfs/team292/lg18/with_valentina/gonadsV2_revision/multiomics_rna_counts_denoised_' + i + '.h5ad')\n",
    "    rnas.append(rna_donor)"
   ]
  },
  {
   "cell_type": "code",
   "execution_count": 39,
   "metadata": {},
   "outputs": [
    {
     "name": "stdout",
     "output_type": "stream",
     "text": [
      "9\n"
     ]
    },
    {
     "data": {
      "text/plain": [
       "AnnData object with n_obs × n_vars = 73218 × 33997\n",
       "    obs: 'n_genes', 'sample', 'donor', 'Library_ATAC', 'Library_RNA', 'iRods_path', 'percent_mito', 'n_counts', 'batch', 'scrublet_score', 'scrublet_cluster_score', 'zscore', 'bh_pval', 'bonf_pval'\n",
       "    var: 'gene_ids-10', 'feature_types-10', 'gene_ids-11', 'feature_types-11', 'gene_ids-12', 'feature_types-12', 'gene_ids-13', 'feature_types-13', 'gene_ids-9', 'feature_types-9', 'n_cells', 'gene_ids-0', 'feature_types-0', 'n_cells-0-0', 'n_cells-1-0', 'n_cells-10-0', 'n_cells-11-0', 'n_cells-12-0', 'n_cells-13-0', 'n_cells-2-0', 'n_cells-3-0', 'n_cells-4-0', 'n_cells-5-0', 'n_cells-6-0', 'n_cells-7-0', 'n_cells-8-0', 'n_cells-9-0', 'gene_ids-1', 'feature_types-1', 'n_cells-0-1', 'n_cells-1-1', 'n_cells-10-1', 'n_cells-11-1', 'n_cells-12-1', 'n_cells-13-1', 'n_cells-2-1', 'n_cells-3-1', 'n_cells-4-1', 'n_cells-5-1', 'n_cells-6-1', 'n_cells-7-1', 'n_cells-8-1', 'n_cells-9-1', 'gene_ids-2', 'feature_types-2', 'n_cells-0-2', 'n_cells-1-2', 'n_cells-10-2', 'n_cells-11-2', 'n_cells-12-2', 'n_cells-13-2', 'n_cells-2-2', 'n_cells-3-2', 'n_cells-4-2', 'n_cells-5-2', 'n_cells-6-2', 'n_cells-7-2', 'n_cells-8-2', 'n_cells-9-2', 'gene_ids-3', 'feature_types-3', 'n_cells-0-3', 'n_cells-1-3', 'n_cells-10-3', 'n_cells-11-3', 'n_cells-12-3', 'n_cells-13-3', 'n_cells-2-3', 'n_cells-3-3', 'n_cells-4-3', 'n_cells-5-3', 'n_cells-6-3', 'n_cells-7-3', 'n_cells-8-3', 'n_cells-9-3', 'gene_ids-4', 'feature_types-4', 'n_cells-0-4', 'n_cells-1-4', 'n_cells-10-4', 'n_cells-11-4', 'n_cells-12-4', 'n_cells-13-4', 'n_cells-2-4', 'n_cells-3-4', 'n_cells-4-4', 'n_cells-5-4', 'n_cells-6-4', 'n_cells-7-4', 'n_cells-8-4', 'n_cells-9-4', 'gene_ids-5', 'feature_types-5', 'n_cells-0-5', 'n_cells-1-5', 'n_cells-10-5', 'n_cells-11-5', 'n_cells-12-5', 'n_cells-13-5', 'n_cells-2-5', 'n_cells-3-5', 'n_cells-4-5', 'n_cells-5-5', 'n_cells-6-5', 'n_cells-7-5', 'n_cells-8-5', 'n_cells-9-5', 'gene_ids-6', 'feature_types-6', 'n_cells-0-6', 'n_cells-1-6', 'n_cells-10-6', 'n_cells-11-6', 'n_cells-12-6', 'n_cells-13-6', 'n_cells-2-6', 'n_cells-3-6', 'n_cells-4-6', 'n_cells-5-6', 'n_cells-6-6', 'n_cells-7-6', 'n_cells-8-6', 'n_cells-9-6', 'gene_ids-7', 'feature_types-7', 'n_cells-0-7', 'n_cells-1-7', 'n_cells-10-7', 'n_cells-11-7', 'n_cells-12-7', 'n_cells-13-7', 'n_cells-2-7', 'n_cells-3-7', 'n_cells-4-7', 'n_cells-5-7', 'n_cells-6-7', 'n_cells-7-7', 'n_cells-8-7', 'n_cells-9-7', 'gene_ids-8', 'feature_types-8', 'n_cells-0-8', 'n_cells-1-8', 'n_cells-10-8', 'n_cells-11-8', 'n_cells-12-8', 'n_cells-13-8', 'n_cells-2-8', 'n_cells-3-8', 'n_cells-4-8', 'n_cells-5-8', 'n_cells-6-8', 'n_cells-7-8', 'n_cells-8-8', 'n_cells-9-8'"
      ]
     },
     "execution_count": 39,
     "metadata": {},
     "output_type": "execute_result"
    }
   ],
   "source": [
    "# confirm N samples\n",
    "print(len(rnas))\n",
    "# merge datasets\n",
    "rna = rnas[0].concatenate(rnas[1:],join='outer',index_unique=None)\n",
    "# copy of this matrix in Compressed Sparse Row format\n",
    "rna.X = rna.X.tocsr()\n",
    "rna"
   ]
  },
  {
   "cell_type": "markdown",
   "metadata": {},
   "source": [
    "#### 1. Import annotations for germ cells of both males and females"
   ]
  },
  {
   "cell_type": "code",
   "execution_count": 57,
   "metadata": {},
   "outputs": [
    {
     "data": {
      "text/html": [
       "<div>\n",
       "<style scoped>\n",
       "    .dataframe tbody tr th:only-of-type {\n",
       "        vertical-align: middle;\n",
       "    }\n",
       "\n",
       "    .dataframe tbody tr th {\n",
       "        vertical-align: top;\n",
       "    }\n",
       "\n",
       "    .dataframe thead th {\n",
       "        text-align: right;\n",
       "    }\n",
       "</style>\n",
       "<table border=\"1\" class=\"dataframe\">\n",
       "  <thead>\n",
       "    <tr style=\"text-align: right;\">\n",
       "      <th></th>\n",
       "      <th>n_genes</th>\n",
       "      <th>sample</th>\n",
       "      <th>donor</th>\n",
       "      <th>Library_ATAC</th>\n",
       "      <th>Library_RNA</th>\n",
       "      <th>iRods_path</th>\n",
       "      <th>percent_mito</th>\n",
       "      <th>n_counts</th>\n",
       "      <th>batch</th>\n",
       "      <th>scrublet_score</th>\n",
       "      <th>...</th>\n",
       "      <th>bonf_pval</th>\n",
       "      <th>pcw</th>\n",
       "      <th>lineage</th>\n",
       "      <th>celltype_samplespecific</th>\n",
       "      <th>S_score</th>\n",
       "      <th>G2M_score</th>\n",
       "      <th>phase</th>\n",
       "      <th>leiden</th>\n",
       "      <th>leiden_R</th>\n",
       "      <th>celltype</th>\n",
       "    </tr>\n",
       "  </thead>\n",
       "  <tbody>\n",
       "    <tr>\n",
       "      <th>HCA_F_GON10535495_AAACCAACACGAATTT</th>\n",
       "      <td>5728</td>\n",
       "      <td>HCA_F_GON10535495</td>\n",
       "      <td>Hrv92</td>\n",
       "      <td>HCA_F_GON10535399</td>\n",
       "      <td>HCA_F_GON10535495</td>\n",
       "      <td>/seq/illumina/cellranger-arc/cellranger-arc101...</td>\n",
       "      <td>0.014532</td>\n",
       "      <td>4735.2485</td>\n",
       "      <td>0</td>\n",
       "      <td>0.068746</td>\n",
       "      <td>...</td>\n",
       "      <td>1.0</td>\n",
       "      <td>8.6</td>\n",
       "      <td>GermCells</td>\n",
       "      <td>NaN</td>\n",
       "      <td>0.237842</td>\n",
       "      <td>0.087936</td>\n",
       "      <td>S</td>\n",
       "      <td>0</td>\n",
       "      <td>0</td>\n",
       "      <td>PGC</td>\n",
       "    </tr>\n",
       "    <tr>\n",
       "      <th>HCA_F_GON10535495_AACCCGCAGTTTGAGC</th>\n",
       "      <td>5456</td>\n",
       "      <td>HCA_F_GON10535495</td>\n",
       "      <td>Hrv92</td>\n",
       "      <td>HCA_F_GON10535399</td>\n",
       "      <td>HCA_F_GON10535495</td>\n",
       "      <td>/seq/illumina/cellranger-arc/cellranger-arc101...</td>\n",
       "      <td>0.017976</td>\n",
       "      <td>4645.2330</td>\n",
       "      <td>0</td>\n",
       "      <td>0.043975</td>\n",
       "      <td>...</td>\n",
       "      <td>1.0</td>\n",
       "      <td>8.6</td>\n",
       "      <td>GermCells</td>\n",
       "      <td>NaN</td>\n",
       "      <td>0.037234</td>\n",
       "      <td>-0.421033</td>\n",
       "      <td>S</td>\n",
       "      <td>0</td>\n",
       "      <td>0</td>\n",
       "      <td>PGC</td>\n",
       "    </tr>\n",
       "    <tr>\n",
       "      <th>HCA_F_GON10535495_AACGACAAGCGGCTGT</th>\n",
       "      <td>5901</td>\n",
       "      <td>HCA_F_GON10535495</td>\n",
       "      <td>Hrv92</td>\n",
       "      <td>HCA_F_GON10535399</td>\n",
       "      <td>HCA_F_GON10535495</td>\n",
       "      <td>/seq/illumina/cellranger-arc/cellranger-arc101...</td>\n",
       "      <td>0.018170</td>\n",
       "      <td>4060.9746</td>\n",
       "      <td>0</td>\n",
       "      <td>0.090307</td>\n",
       "      <td>...</td>\n",
       "      <td>1.0</td>\n",
       "      <td>8.6</td>\n",
       "      <td>GermCells</td>\n",
       "      <td>NaN</td>\n",
       "      <td>0.114108</td>\n",
       "      <td>4.491824</td>\n",
       "      <td>G2M</td>\n",
       "      <td>0</td>\n",
       "      <td>0</td>\n",
       "      <td>PGC</td>\n",
       "    </tr>\n",
       "    <tr>\n",
       "      <th>HCA_F_GON10535495_AACTTAGTCTTGTCCA</th>\n",
       "      <td>6781</td>\n",
       "      <td>HCA_F_GON10535495</td>\n",
       "      <td>Hrv92</td>\n",
       "      <td>HCA_F_GON10535399</td>\n",
       "      <td>HCA_F_GON10535495</td>\n",
       "      <td>/seq/illumina/cellranger-arc/cellranger-arc101...</td>\n",
       "      <td>0.020457</td>\n",
       "      <td>4499.4067</td>\n",
       "      <td>0</td>\n",
       "      <td>0.075205</td>\n",
       "      <td>...</td>\n",
       "      <td>1.0</td>\n",
       "      <td>8.6</td>\n",
       "      <td>GermCells</td>\n",
       "      <td>NaN</td>\n",
       "      <td>0.002280</td>\n",
       "      <td>6.158810</td>\n",
       "      <td>G2M</td>\n",
       "      <td>0</td>\n",
       "      <td>0</td>\n",
       "      <td>PGC</td>\n",
       "    </tr>\n",
       "    <tr>\n",
       "      <th>HCA_F_GON10535495_AAGACCAAGCACCACA</th>\n",
       "      <td>4881</td>\n",
       "      <td>HCA_F_GON10535495</td>\n",
       "      <td>Hrv92</td>\n",
       "      <td>HCA_F_GON10535399</td>\n",
       "      <td>HCA_F_GON10535495</td>\n",
       "      <td>/seq/illumina/cellranger-arc/cellranger-arc101...</td>\n",
       "      <td>0.015051</td>\n",
       "      <td>4630.9404</td>\n",
       "      <td>0</td>\n",
       "      <td>0.046010</td>\n",
       "      <td>...</td>\n",
       "      <td>1.0</td>\n",
       "      <td>8.6</td>\n",
       "      <td>GermCells</td>\n",
       "      <td>NaN</td>\n",
       "      <td>-0.099797</td>\n",
       "      <td>-0.189805</td>\n",
       "      <td>G1</td>\n",
       "      <td>0</td>\n",
       "      <td>0</td>\n",
       "      <td>PGC</td>\n",
       "    </tr>\n",
       "  </tbody>\n",
       "</table>\n",
       "<p>5 rows × 23 columns</p>\n",
       "</div>"
      ],
      "text/plain": [
       "                                    n_genes             sample  donor  \\\n",
       "HCA_F_GON10535495_AAACCAACACGAATTT     5728  HCA_F_GON10535495  Hrv92   \n",
       "HCA_F_GON10535495_AACCCGCAGTTTGAGC     5456  HCA_F_GON10535495  Hrv92   \n",
       "HCA_F_GON10535495_AACGACAAGCGGCTGT     5901  HCA_F_GON10535495  Hrv92   \n",
       "HCA_F_GON10535495_AACTTAGTCTTGTCCA     6781  HCA_F_GON10535495  Hrv92   \n",
       "HCA_F_GON10535495_AAGACCAAGCACCACA     4881  HCA_F_GON10535495  Hrv92   \n",
       "\n",
       "                                         Library_ATAC        Library_RNA  \\\n",
       "HCA_F_GON10535495_AAACCAACACGAATTT  HCA_F_GON10535399  HCA_F_GON10535495   \n",
       "HCA_F_GON10535495_AACCCGCAGTTTGAGC  HCA_F_GON10535399  HCA_F_GON10535495   \n",
       "HCA_F_GON10535495_AACGACAAGCGGCTGT  HCA_F_GON10535399  HCA_F_GON10535495   \n",
       "HCA_F_GON10535495_AACTTAGTCTTGTCCA  HCA_F_GON10535399  HCA_F_GON10535495   \n",
       "HCA_F_GON10535495_AAGACCAAGCACCACA  HCA_F_GON10535399  HCA_F_GON10535495   \n",
       "\n",
       "                                                                           iRods_path  \\\n",
       "HCA_F_GON10535495_AAACCAACACGAATTT  /seq/illumina/cellranger-arc/cellranger-arc101...   \n",
       "HCA_F_GON10535495_AACCCGCAGTTTGAGC  /seq/illumina/cellranger-arc/cellranger-arc101...   \n",
       "HCA_F_GON10535495_AACGACAAGCGGCTGT  /seq/illumina/cellranger-arc/cellranger-arc101...   \n",
       "HCA_F_GON10535495_AACTTAGTCTTGTCCA  /seq/illumina/cellranger-arc/cellranger-arc101...   \n",
       "HCA_F_GON10535495_AAGACCAAGCACCACA  /seq/illumina/cellranger-arc/cellranger-arc101...   \n",
       "\n",
       "                                    percent_mito   n_counts  batch  \\\n",
       "HCA_F_GON10535495_AAACCAACACGAATTT      0.014532  4735.2485      0   \n",
       "HCA_F_GON10535495_AACCCGCAGTTTGAGC      0.017976  4645.2330      0   \n",
       "HCA_F_GON10535495_AACGACAAGCGGCTGT      0.018170  4060.9746      0   \n",
       "HCA_F_GON10535495_AACTTAGTCTTGTCCA      0.020457  4499.4067      0   \n",
       "HCA_F_GON10535495_AAGACCAAGCACCACA      0.015051  4630.9404      0   \n",
       "\n",
       "                                    scrublet_score  ...  bonf_pval  pcw  \\\n",
       "HCA_F_GON10535495_AAACCAACACGAATTT        0.068746  ...        1.0  8.6   \n",
       "HCA_F_GON10535495_AACCCGCAGTTTGAGC        0.043975  ...        1.0  8.6   \n",
       "HCA_F_GON10535495_AACGACAAGCGGCTGT        0.090307  ...        1.0  8.6   \n",
       "HCA_F_GON10535495_AACTTAGTCTTGTCCA        0.075205  ...        1.0  8.6   \n",
       "HCA_F_GON10535495_AAGACCAAGCACCACA        0.046010  ...        1.0  8.6   \n",
       "\n",
       "                                      lineage  celltype_samplespecific  \\\n",
       "HCA_F_GON10535495_AAACCAACACGAATTT  GermCells                      NaN   \n",
       "HCA_F_GON10535495_AACCCGCAGTTTGAGC  GermCells                      NaN   \n",
       "HCA_F_GON10535495_AACGACAAGCGGCTGT  GermCells                      NaN   \n",
       "HCA_F_GON10535495_AACTTAGTCTTGTCCA  GermCells                      NaN   \n",
       "HCA_F_GON10535495_AAGACCAAGCACCACA  GermCells                      NaN   \n",
       "\n",
       "                                     S_score G2M_score phase  leiden  \\\n",
       "HCA_F_GON10535495_AAACCAACACGAATTT  0.237842  0.087936     S       0   \n",
       "HCA_F_GON10535495_AACCCGCAGTTTGAGC  0.037234 -0.421033     S       0   \n",
       "HCA_F_GON10535495_AACGACAAGCGGCTGT  0.114108  4.491824   G2M       0   \n",
       "HCA_F_GON10535495_AACTTAGTCTTGTCCA  0.002280  6.158810   G2M       0   \n",
       "HCA_F_GON10535495_AAGACCAAGCACCACA -0.099797 -0.189805    G1       0   \n",
       "\n",
       "                                    leiden_R celltype  \n",
       "HCA_F_GON10535495_AAACCAACACGAATTT         0      PGC  \n",
       "HCA_F_GON10535495_AACCCGCAGTTTGAGC         0      PGC  \n",
       "HCA_F_GON10535495_AACGACAAGCGGCTGT         0      PGC  \n",
       "HCA_F_GON10535495_AACTTAGTCTTGTCCA         0      PGC  \n",
       "HCA_F_GON10535495_AAGACCAAGCACCACA         0      PGC  \n",
       "\n",
       "[5 rows x 23 columns]"
      ]
     },
     "execution_count": 57,
     "metadata": {},
     "output_type": "execute_result"
    }
   ],
   "source": [
    "path_to_multiome = '/nfs/team292/lg18/with_valentina/gonadsV2_revision/'\n",
    "germcells_females = pd.read_csv(path_to_multiome + 'multiomics_female_germcells.csv', index_col = 0)\n",
    "germcells_females.head()"
   ]
  },
  {
   "cell_type": "code",
   "execution_count": 58,
   "metadata": {},
   "outputs": [
    {
     "data": {
      "text/plain": [
       "FCA_GND10288180      1171\n",
       "HCA_F_GON10687818    1091\n",
       "FCA_GND10288176       942\n",
       "FCA_GND10288177       923\n",
       "FCA_GND10288179       781\n",
       "FCA_GND10288178       533\n",
       "HCA_F_GON10535399     252\n",
       "Name: Library_ATAC, dtype: int64"
      ]
     },
     "execution_count": 58,
     "metadata": {},
     "output_type": "execute_result"
    }
   ],
   "source": [
    "germcells_females['Library_ATAC'].value_counts()"
   ]
  },
  {
   "cell_type": "code",
   "execution_count": 59,
   "metadata": {},
   "outputs": [
    {
     "data": {
      "text/html": [
       "<div>\n",
       "<style scoped>\n",
       "    .dataframe tbody tr th:only-of-type {\n",
       "        vertical-align: middle;\n",
       "    }\n",
       "\n",
       "    .dataframe tbody tr th {\n",
       "        vertical-align: top;\n",
       "    }\n",
       "\n",
       "    .dataframe thead th {\n",
       "        text-align: right;\n",
       "    }\n",
       "</style>\n",
       "<table border=\"1\" class=\"dataframe\">\n",
       "  <thead>\n",
       "    <tr style=\"text-align: right;\">\n",
       "      <th></th>\n",
       "      <th>n_genes</th>\n",
       "      <th>sample</th>\n",
       "      <th>donor</th>\n",
       "      <th>Library_ATAC</th>\n",
       "      <th>Library_RNA</th>\n",
       "      <th>iRods_path</th>\n",
       "      <th>percent_mito</th>\n",
       "      <th>n_counts</th>\n",
       "      <th>batch</th>\n",
       "      <th>scrublet_score</th>\n",
       "      <th>...</th>\n",
       "      <th>bh_pval</th>\n",
       "      <th>bonf_pval</th>\n",
       "      <th>pcw</th>\n",
       "      <th>lineage</th>\n",
       "      <th>celltype_samplespecific</th>\n",
       "      <th>S_score</th>\n",
       "      <th>G2M_score</th>\n",
       "      <th>phase</th>\n",
       "      <th>leiden</th>\n",
       "      <th>celltype</th>\n",
       "    </tr>\n",
       "  </thead>\n",
       "  <tbody>\n",
       "    <tr>\n",
       "      <th>HCA_F_GON10713286_AAACGCGCACTGGCCA</th>\n",
       "      <td>5701</td>\n",
       "      <td>HCA_F_GON10713286</td>\n",
       "      <td>Hrv41</td>\n",
       "      <td>HCA_F_GON10687820</td>\n",
       "      <td>HCA_F_GON10713286</td>\n",
       "      <td>/seq/illumina/cellranger-arc/cellranger-arc101...</td>\n",
       "      <td>0.001894</td>\n",
       "      <td>18223.0</td>\n",
       "      <td>0</td>\n",
       "      <td>0.034580</td>\n",
       "      <td>...</td>\n",
       "      <td>0.901686</td>\n",
       "      <td>1.000000</td>\n",
       "      <td>8.8</td>\n",
       "      <td>GermCells</td>\n",
       "      <td>NaN</td>\n",
       "      <td>1.146592</td>\n",
       "      <td>0.513035</td>\n",
       "      <td>S</td>\n",
       "      <td>2</td>\n",
       "      <td>PGC_mitotic</td>\n",
       "    </tr>\n",
       "    <tr>\n",
       "      <th>HCA_F_GON10713286_AACAGCAAGAGGAGGA</th>\n",
       "      <td>6154</td>\n",
       "      <td>HCA_F_GON10713286</td>\n",
       "      <td>Hrv41</td>\n",
       "      <td>HCA_F_GON10687820</td>\n",
       "      <td>HCA_F_GON10713286</td>\n",
       "      <td>/seq/illumina/cellranger-arc/cellranger-arc101...</td>\n",
       "      <td>0.002846</td>\n",
       "      <td>20717.0</td>\n",
       "      <td>0</td>\n",
       "      <td>0.068073</td>\n",
       "      <td>...</td>\n",
       "      <td>0.901686</td>\n",
       "      <td>1.000000</td>\n",
       "      <td>8.8</td>\n",
       "      <td>GermCells</td>\n",
       "      <td>NaN</td>\n",
       "      <td>0.037504</td>\n",
       "      <td>-0.186892</td>\n",
       "      <td>S</td>\n",
       "      <td>0</td>\n",
       "      <td>PGC</td>\n",
       "    </tr>\n",
       "    <tr>\n",
       "      <th>HCA_F_GON10713286_AACAGCAAGCTAAAGG</th>\n",
       "      <td>5009</td>\n",
       "      <td>HCA_F_GON10713286</td>\n",
       "      <td>Hrv41</td>\n",
       "      <td>HCA_F_GON10687820</td>\n",
       "      <td>HCA_F_GON10713286</td>\n",
       "      <td>/seq/illumina/cellranger-arc/cellranger-arc101...</td>\n",
       "      <td>0.001948</td>\n",
       "      <td>15032.0</td>\n",
       "      <td>0</td>\n",
       "      <td>0.048780</td>\n",
       "      <td>...</td>\n",
       "      <td>0.901686</td>\n",
       "      <td>1.000000</td>\n",
       "      <td>8.8</td>\n",
       "      <td>GermCells</td>\n",
       "      <td>NaN</td>\n",
       "      <td>-0.347650</td>\n",
       "      <td>-0.672939</td>\n",
       "      <td>G1</td>\n",
       "      <td>0</td>\n",
       "      <td>PGC</td>\n",
       "    </tr>\n",
       "    <tr>\n",
       "      <th>HCA_F_GON10713286_AACAGCAAGTCAATCA</th>\n",
       "      <td>8263</td>\n",
       "      <td>HCA_F_GON10713286</td>\n",
       "      <td>Hrv41</td>\n",
       "      <td>HCA_F_GON10687820</td>\n",
       "      <td>HCA_F_GON10713286</td>\n",
       "      <td>/seq/illumina/cellranger-arc/cellranger-arc101...</td>\n",
       "      <td>0.003338</td>\n",
       "      <td>38623.0</td>\n",
       "      <td>0</td>\n",
       "      <td>0.305785</td>\n",
       "      <td>...</td>\n",
       "      <td>0.000037</td>\n",
       "      <td>0.010037</td>\n",
       "      <td>8.8</td>\n",
       "      <td>GermCells</td>\n",
       "      <td>NaN</td>\n",
       "      <td>0.018986</td>\n",
       "      <td>3.420874</td>\n",
       "      <td>G2M</td>\n",
       "      <td>2</td>\n",
       "      <td>PGC_mitotic</td>\n",
       "    </tr>\n",
       "    <tr>\n",
       "      <th>HCA_F_GON10713286_AACATCATCCACCCTG</th>\n",
       "      <td>5685</td>\n",
       "      <td>HCA_F_GON10713286</td>\n",
       "      <td>Hrv41</td>\n",
       "      <td>HCA_F_GON10687820</td>\n",
       "      <td>HCA_F_GON10713286</td>\n",
       "      <td>/seq/illumina/cellranger-arc/cellranger-arc101...</td>\n",
       "      <td>0.001917</td>\n",
       "      <td>17283.0</td>\n",
       "      <td>0</td>\n",
       "      <td>0.031335</td>\n",
       "      <td>...</td>\n",
       "      <td>0.901686</td>\n",
       "      <td>1.000000</td>\n",
       "      <td>8.8</td>\n",
       "      <td>GermCells</td>\n",
       "      <td>NaN</td>\n",
       "      <td>0.281357</td>\n",
       "      <td>-0.657518</td>\n",
       "      <td>S</td>\n",
       "      <td>0</td>\n",
       "      <td>PGC</td>\n",
       "    </tr>\n",
       "  </tbody>\n",
       "</table>\n",
       "<p>5 rows × 22 columns</p>\n",
       "</div>"
      ],
      "text/plain": [
       "                                    n_genes             sample  donor  \\\n",
       "HCA_F_GON10713286_AAACGCGCACTGGCCA     5701  HCA_F_GON10713286  Hrv41   \n",
       "HCA_F_GON10713286_AACAGCAAGAGGAGGA     6154  HCA_F_GON10713286  Hrv41   \n",
       "HCA_F_GON10713286_AACAGCAAGCTAAAGG     5009  HCA_F_GON10713286  Hrv41   \n",
       "HCA_F_GON10713286_AACAGCAAGTCAATCA     8263  HCA_F_GON10713286  Hrv41   \n",
       "HCA_F_GON10713286_AACATCATCCACCCTG     5685  HCA_F_GON10713286  Hrv41   \n",
       "\n",
       "                                         Library_ATAC        Library_RNA  \\\n",
       "HCA_F_GON10713286_AAACGCGCACTGGCCA  HCA_F_GON10687820  HCA_F_GON10713286   \n",
       "HCA_F_GON10713286_AACAGCAAGAGGAGGA  HCA_F_GON10687820  HCA_F_GON10713286   \n",
       "HCA_F_GON10713286_AACAGCAAGCTAAAGG  HCA_F_GON10687820  HCA_F_GON10713286   \n",
       "HCA_F_GON10713286_AACAGCAAGTCAATCA  HCA_F_GON10687820  HCA_F_GON10713286   \n",
       "HCA_F_GON10713286_AACATCATCCACCCTG  HCA_F_GON10687820  HCA_F_GON10713286   \n",
       "\n",
       "                                                                           iRods_path  \\\n",
       "HCA_F_GON10713286_AAACGCGCACTGGCCA  /seq/illumina/cellranger-arc/cellranger-arc101...   \n",
       "HCA_F_GON10713286_AACAGCAAGAGGAGGA  /seq/illumina/cellranger-arc/cellranger-arc101...   \n",
       "HCA_F_GON10713286_AACAGCAAGCTAAAGG  /seq/illumina/cellranger-arc/cellranger-arc101...   \n",
       "HCA_F_GON10713286_AACAGCAAGTCAATCA  /seq/illumina/cellranger-arc/cellranger-arc101...   \n",
       "HCA_F_GON10713286_AACATCATCCACCCTG  /seq/illumina/cellranger-arc/cellranger-arc101...   \n",
       "\n",
       "                                    percent_mito  n_counts  batch  \\\n",
       "HCA_F_GON10713286_AAACGCGCACTGGCCA      0.001894   18223.0      0   \n",
       "HCA_F_GON10713286_AACAGCAAGAGGAGGA      0.002846   20717.0      0   \n",
       "HCA_F_GON10713286_AACAGCAAGCTAAAGG      0.001948   15032.0      0   \n",
       "HCA_F_GON10713286_AACAGCAAGTCAATCA      0.003338   38623.0      0   \n",
       "HCA_F_GON10713286_AACATCATCCACCCTG      0.001917   17283.0      0   \n",
       "\n",
       "                                    scrublet_score  ...   bh_pval  bonf_pval  \\\n",
       "HCA_F_GON10713286_AAACGCGCACTGGCCA        0.034580  ...  0.901686   1.000000   \n",
       "HCA_F_GON10713286_AACAGCAAGAGGAGGA        0.068073  ...  0.901686   1.000000   \n",
       "HCA_F_GON10713286_AACAGCAAGCTAAAGG        0.048780  ...  0.901686   1.000000   \n",
       "HCA_F_GON10713286_AACAGCAAGTCAATCA        0.305785  ...  0.000037   0.010037   \n",
       "HCA_F_GON10713286_AACATCATCCACCCTG        0.031335  ...  0.901686   1.000000   \n",
       "\n",
       "                                    pcw    lineage  celltype_samplespecific  \\\n",
       "HCA_F_GON10713286_AAACGCGCACTGGCCA  8.8  GermCells                      NaN   \n",
       "HCA_F_GON10713286_AACAGCAAGAGGAGGA  8.8  GermCells                      NaN   \n",
       "HCA_F_GON10713286_AACAGCAAGCTAAAGG  8.8  GermCells                      NaN   \n",
       "HCA_F_GON10713286_AACAGCAAGTCAATCA  8.8  GermCells                      NaN   \n",
       "HCA_F_GON10713286_AACATCATCCACCCTG  8.8  GermCells                      NaN   \n",
       "\n",
       "                                     S_score G2M_score  phase  leiden  \\\n",
       "HCA_F_GON10713286_AAACGCGCACTGGCCA  1.146592  0.513035      S       2   \n",
       "HCA_F_GON10713286_AACAGCAAGAGGAGGA  0.037504 -0.186892      S       0   \n",
       "HCA_F_GON10713286_AACAGCAAGCTAAAGG -0.347650 -0.672939     G1       0   \n",
       "HCA_F_GON10713286_AACAGCAAGTCAATCA  0.018986  3.420874    G2M       2   \n",
       "HCA_F_GON10713286_AACATCATCCACCCTG  0.281357 -0.657518      S       0   \n",
       "\n",
       "                                       celltype  \n",
       "HCA_F_GON10713286_AAACGCGCACTGGCCA  PGC_mitotic  \n",
       "HCA_F_GON10713286_AACAGCAAGAGGAGGA          PGC  \n",
       "HCA_F_GON10713286_AACAGCAAGCTAAAGG          PGC  \n",
       "HCA_F_GON10713286_AACAGCAAGTCAATCA  PGC_mitotic  \n",
       "HCA_F_GON10713286_AACATCATCCACCCTG          PGC  \n",
       "\n",
       "[5 rows x 22 columns]"
      ]
     },
     "execution_count": 59,
     "metadata": {},
     "output_type": "execute_result"
    }
   ],
   "source": [
    "germcells_male = pd.read_csv(path_to_multiome + 'multiomics_male_germcells.csv', index_col = 0)\n",
    "germcells_male.head()"
   ]
  },
  {
   "cell_type": "code",
   "execution_count": 60,
   "metadata": {},
   "outputs": [
    {
     "data": {
      "text/plain": [
       "FCA_GND10288180      1171\n",
       "HCA_F_GON10687818    1091\n",
       "FCA_GND10288176       942\n",
       "FCA_GND10288177       923\n",
       "FCA_GND10288179       781\n",
       "FCA_GND10288178       533\n",
       "HCA_F_GON10687819     475\n",
       "HCA_F_GON10535399     252\n",
       "HCA_F_GON10687820     194\n",
       "HD_F_GON9525612        38\n",
       "HD_F_GON9525611        32\n",
       "Name: Library_ATAC, dtype: int64"
      ]
     },
     "execution_count": 60,
     "metadata": {},
     "output_type": "execute_result"
    }
   ],
   "source": [
    "germcells = germcells_females.append(germcells_male)\n",
    "germcells['Library_ATAC'].value_counts(dropna = False)"
   ]
  },
  {
   "cell_type": "code",
   "execution_count": 61,
   "metadata": {},
   "outputs": [],
   "source": [
    "code_correspondence = {'FCA_GND10288180' : '05', 'HCA_F_GON10687818' : '15', 'FCA_GND10288176' : '01', \n",
    "                      'FCA_GND10288177' : '02', 'FCA_GND10288179' : '04', 'FCA_GND10288178' : '03', \n",
    "                      'HCA_F_GON10687819' : '16', 'HCA_F_GON10535399' : '14', 'HCA_F_GON10687820' : '17', \n",
    "                      'HD_F_GON9525612' : '22', 'HD_F_GON9525611' : '21'}"
   ]
  },
  {
   "cell_type": "code",
   "execution_count": 62,
   "metadata": {},
   "outputs": [
    {
     "data": {
      "text/plain": [
       "05    1171\n",
       "15    1091\n",
       "01     942\n",
       "02     923\n",
       "04     781\n",
       "03     533\n",
       "16     475\n",
       "14     252\n",
       "17     194\n",
       "22      38\n",
       "21      32\n",
       "Name: ATAC_code, dtype: int64"
      ]
     },
     "execution_count": 62,
     "metadata": {},
     "output_type": "execute_result"
    }
   ],
   "source": [
    "germcells['ATAC_code'] = germcells['Library_ATAC'].map(code_correspondence)\n",
    "germcells['ATAC_code'].value_counts(dropna = False)"
   ]
  },
  {
   "cell_type": "code",
   "execution_count": 63,
   "metadata": {},
   "outputs": [
    {
     "data": {
      "text/plain": [
       "oogonia_STRA8       2215\n",
       "PGC                 1722\n",
       "oogonia_meiotic     1178\n",
       "preOocyte            311\n",
       "Doublet              274\n",
       "preSpermatogonia     221\n",
       "oocyte               162\n",
       "PGC_mitotic          152\n",
       "GC                   105\n",
       "lowQC                 92\n",
       "Name: celltype, dtype: int64"
      ]
     },
     "execution_count": 63,
     "metadata": {},
     "output_type": "execute_result"
    }
   ],
   "source": [
    "germcells['celltype'].value_counts(dropna = False)"
   ]
  },
  {
   "cell_type": "code",
   "execution_count": 64,
   "metadata": {},
   "outputs": [
    {
     "data": {
      "text/plain": [
       "oogonia_STRA8        2215\n",
       "PGC                  1874\n",
       "oogonia_meiotic      1178\n",
       "pre_oocyte            311\n",
       "pre_spermatogonia     221\n",
       "oocyte                162\n",
       "GC                    105\n",
       "Name: celltype, dtype: int64"
      ]
     },
     "execution_count": 64,
     "metadata": {},
     "output_type": "execute_result"
    }
   ],
   "source": [
    "germcells['celltype'] = ['pre_spermatogonia' if i == 'preSpermatogonia' else i for i in germcells['celltype']]\n",
    "germcells['celltype'] = ['PGC' if i == 'PGC_mitotic' else i for i in germcells['celltype']]\n",
    "germcells['celltype'] = ['pre_oocyte' if i == 'preOocyte' else i for i in germcells['celltype']]\n",
    "\n",
    "germcells = germcells[germcells['celltype'] != 'Doublet']\n",
    "germcells = germcells[germcells['celltype'] != 'lowQC']\n",
    "germcells['celltype'].value_counts(dropna = False)"
   ]
  },
  {
   "cell_type": "code",
   "execution_count": 66,
   "metadata": {},
   "outputs": [
    {
     "data": {
      "text/html": [
       "<div>\n",
       "<style scoped>\n",
       "    .dataframe tbody tr th:only-of-type {\n",
       "        vertical-align: middle;\n",
       "    }\n",
       "\n",
       "    .dataframe tbody tr th {\n",
       "        vertical-align: top;\n",
       "    }\n",
       "\n",
       "    .dataframe thead th {\n",
       "        text-align: right;\n",
       "    }\n",
       "</style>\n",
       "<table border=\"1\" class=\"dataframe\">\n",
       "  <thead>\n",
       "    <tr style=\"text-align: right;\">\n",
       "      <th></th>\n",
       "      <th>n_genes</th>\n",
       "      <th>sample</th>\n",
       "      <th>donor</th>\n",
       "      <th>Library_ATAC</th>\n",
       "      <th>Library_RNA</th>\n",
       "      <th>iRods_path</th>\n",
       "      <th>percent_mito</th>\n",
       "      <th>n_counts</th>\n",
       "      <th>batch</th>\n",
       "      <th>scrublet_score</th>\n",
       "      <th>scrublet_cluster_score</th>\n",
       "      <th>zscore</th>\n",
       "      <th>bh_pval</th>\n",
       "      <th>bonf_pval</th>\n",
       "      <th>germcell_RNA</th>\n",
       "    </tr>\n",
       "  </thead>\n",
       "  <tbody>\n",
       "    <tr>\n",
       "      <th>HD_F_GON9525419_AAACAGCCACCTCAGG</th>\n",
       "      <td>4816</td>\n",
       "      <td>HD_F_GON9525419</td>\n",
       "      <td>Hrv15</td>\n",
       "      <td>HD_F_GON9525611</td>\n",
       "      <td>HD_F_GON9525419</td>\n",
       "      <td>/seq/illumina/cellranger-arc/cellranger-arc101...</td>\n",
       "      <td>0.000665</td>\n",
       "      <td>12037.0</td>\n",
       "      <td>0</td>\n",
       "      <td>0.080000</td>\n",
       "      <td>0.130409</td>\n",
       "      <td>0.409733</td>\n",
       "      <td>0.784586</td>\n",
       "      <td>1.0</td>\n",
       "      <td>NaN</td>\n",
       "    </tr>\n",
       "    <tr>\n",
       "      <th>HD_F_GON9525419_AAACATGCAGGCTAGA</th>\n",
       "      <td>4581</td>\n",
       "      <td>HD_F_GON9525419</td>\n",
       "      <td>Hrv15</td>\n",
       "      <td>HD_F_GON9525611</td>\n",
       "      <td>HD_F_GON9525419</td>\n",
       "      <td>/seq/illumina/cellranger-arc/cellranger-arc101...</td>\n",
       "      <td>0.000544</td>\n",
       "      <td>12873.0</td>\n",
       "      <td>0</td>\n",
       "      <td>0.140127</td>\n",
       "      <td>0.125300</td>\n",
       "      <td>0.345647</td>\n",
       "      <td>0.784586</td>\n",
       "      <td>1.0</td>\n",
       "      <td>NaN</td>\n",
       "    </tr>\n",
       "    <tr>\n",
       "      <th>HD_F_GON9525419_AAACCAACATACTCCT</th>\n",
       "      <td>1754</td>\n",
       "      <td>HD_F_GON9525419</td>\n",
       "      <td>Hrv15</td>\n",
       "      <td>HD_F_GON9525611</td>\n",
       "      <td>HD_F_GON9525419</td>\n",
       "      <td>/seq/illumina/cellranger-arc/cellranger-arc101...</td>\n",
       "      <td>0.000000</td>\n",
       "      <td>2951.0</td>\n",
       "      <td>0</td>\n",
       "      <td>0.050967</td>\n",
       "      <td>0.050967</td>\n",
       "      <td>-0.586771</td>\n",
       "      <td>0.784586</td>\n",
       "      <td>1.0</td>\n",
       "      <td>NaN</td>\n",
       "    </tr>\n",
       "    <tr>\n",
       "      <th>HD_F_GON9525419_AAACCAACATGGTTAT</th>\n",
       "      <td>1880</td>\n",
       "      <td>HD_F_GON9525419</td>\n",
       "      <td>Hrv15</td>\n",
       "      <td>HD_F_GON9525611</td>\n",
       "      <td>HD_F_GON9525419</td>\n",
       "      <td>/seq/illumina/cellranger-arc/cellranger-arc101...</td>\n",
       "      <td>0.000713</td>\n",
       "      <td>2807.0</td>\n",
       "      <td>0</td>\n",
       "      <td>0.164286</td>\n",
       "      <td>0.151515</td>\n",
       "      <td>0.674491</td>\n",
       "      <td>0.776981</td>\n",
       "      <td>1.0</td>\n",
       "      <td>NaN</td>\n",
       "    </tr>\n",
       "    <tr>\n",
       "      <th>HD_F_GON9525419_AAACCGAAGCGTGCAC</th>\n",
       "      <td>3804</td>\n",
       "      <td>HD_F_GON9525419</td>\n",
       "      <td>Hrv15</td>\n",
       "      <td>HD_F_GON9525611</td>\n",
       "      <td>HD_F_GON9525419</td>\n",
       "      <td>/seq/illumina/cellranger-arc/cellranger-arc101...</td>\n",
       "      <td>0.000357</td>\n",
       "      <td>8394.0</td>\n",
       "      <td>0</td>\n",
       "      <td>0.164286</td>\n",
       "      <td>0.164286</td>\n",
       "      <td>0.834682</td>\n",
       "      <td>0.776981</td>\n",
       "      <td>1.0</td>\n",
       "      <td>NaN</td>\n",
       "    </tr>\n",
       "  </tbody>\n",
       "</table>\n",
       "</div>"
      ],
      "text/plain": [
       "                                  n_genes           sample  donor  \\\n",
       "HD_F_GON9525419_AAACAGCCACCTCAGG     4816  HD_F_GON9525419  Hrv15   \n",
       "HD_F_GON9525419_AAACATGCAGGCTAGA     4581  HD_F_GON9525419  Hrv15   \n",
       "HD_F_GON9525419_AAACCAACATACTCCT     1754  HD_F_GON9525419  Hrv15   \n",
       "HD_F_GON9525419_AAACCAACATGGTTAT     1880  HD_F_GON9525419  Hrv15   \n",
       "HD_F_GON9525419_AAACCGAAGCGTGCAC     3804  HD_F_GON9525419  Hrv15   \n",
       "\n",
       "                                     Library_ATAC      Library_RNA  \\\n",
       "HD_F_GON9525419_AAACAGCCACCTCAGG  HD_F_GON9525611  HD_F_GON9525419   \n",
       "HD_F_GON9525419_AAACATGCAGGCTAGA  HD_F_GON9525611  HD_F_GON9525419   \n",
       "HD_F_GON9525419_AAACCAACATACTCCT  HD_F_GON9525611  HD_F_GON9525419   \n",
       "HD_F_GON9525419_AAACCAACATGGTTAT  HD_F_GON9525611  HD_F_GON9525419   \n",
       "HD_F_GON9525419_AAACCGAAGCGTGCAC  HD_F_GON9525611  HD_F_GON9525419   \n",
       "\n",
       "                                                                         iRods_path  \\\n",
       "HD_F_GON9525419_AAACAGCCACCTCAGG  /seq/illumina/cellranger-arc/cellranger-arc101...   \n",
       "HD_F_GON9525419_AAACATGCAGGCTAGA  /seq/illumina/cellranger-arc/cellranger-arc101...   \n",
       "HD_F_GON9525419_AAACCAACATACTCCT  /seq/illumina/cellranger-arc/cellranger-arc101...   \n",
       "HD_F_GON9525419_AAACCAACATGGTTAT  /seq/illumina/cellranger-arc/cellranger-arc101...   \n",
       "HD_F_GON9525419_AAACCGAAGCGTGCAC  /seq/illumina/cellranger-arc/cellranger-arc101...   \n",
       "\n",
       "                                  percent_mito  n_counts batch  \\\n",
       "HD_F_GON9525419_AAACAGCCACCTCAGG      0.000665   12037.0     0   \n",
       "HD_F_GON9525419_AAACATGCAGGCTAGA      0.000544   12873.0     0   \n",
       "HD_F_GON9525419_AAACCAACATACTCCT      0.000000    2951.0     0   \n",
       "HD_F_GON9525419_AAACCAACATGGTTAT      0.000713    2807.0     0   \n",
       "HD_F_GON9525419_AAACCGAAGCGTGCAC      0.000357    8394.0     0   \n",
       "\n",
       "                                  scrublet_score  scrublet_cluster_score  \\\n",
       "HD_F_GON9525419_AAACAGCCACCTCAGG        0.080000                0.130409   \n",
       "HD_F_GON9525419_AAACATGCAGGCTAGA        0.140127                0.125300   \n",
       "HD_F_GON9525419_AAACCAACATACTCCT        0.050967                0.050967   \n",
       "HD_F_GON9525419_AAACCAACATGGTTAT        0.164286                0.151515   \n",
       "HD_F_GON9525419_AAACCGAAGCGTGCAC        0.164286                0.164286   \n",
       "\n",
       "                                    zscore   bh_pval  bonf_pval germcell_RNA  \n",
       "HD_F_GON9525419_AAACAGCCACCTCAGG  0.409733  0.784586        1.0          NaN  \n",
       "HD_F_GON9525419_AAACATGCAGGCTAGA  0.345647  0.784586        1.0          NaN  \n",
       "HD_F_GON9525419_AAACCAACATACTCCT -0.586771  0.784586        1.0          NaN  \n",
       "HD_F_GON9525419_AAACCAACATGGTTAT  0.674491  0.776981        1.0          NaN  \n",
       "HD_F_GON9525419_AAACCGAAGCGTGCAC  0.834682  0.776981        1.0          NaN  "
      ]
     },
     "execution_count": 66,
     "metadata": {},
     "output_type": "execute_result"
    }
   ],
   "source": [
    "rna.obs.head()"
   ]
  },
  {
   "cell_type": "code",
   "execution_count": 67,
   "metadata": {},
   "outputs": [
    {
     "data": {
      "text/plain": [
       "Hrv65    1907\n",
       "Hrv58    1678\n",
       "Hrv91    1038\n",
       "Hrv39     524\n",
       "Hrv3      470\n",
       "Hrv92     202\n",
       "Hrv41     194\n",
       "Hrv15      53\n",
       "Name: donor, dtype: int64"
      ]
     },
     "execution_count": 67,
     "metadata": {},
     "output_type": "execute_result"
    }
   ],
   "source": [
    "germcells.donor.value_counts()"
   ]
  },
  {
   "cell_type": "code",
   "execution_count": 68,
   "metadata": {},
   "outputs": [
    {
     "data": {
      "text/plain": [
       "Hrv93    19897\n",
       "Hrv92    12190\n",
       "Hrv65     7423\n",
       "Hrv41     6774\n",
       "Hrv39     6677\n",
       "Hrv3      6304\n",
       "Hrv58     6269\n",
       "Hrv91     4862\n",
       "Hrv15     2822\n",
       "Name: donor, dtype: int64"
      ]
     },
     "execution_count": 68,
     "metadata": {},
     "output_type": "execute_result"
    }
   ],
   "source": [
    "rna.obs.donor.value_counts()"
   ]
  },
  {
   "cell_type": "markdown",
   "metadata": {},
   "source": [
    "#### 2. Add germ cell annotation to RNA object"
   ]
  },
  {
   "cell_type": "code",
   "execution_count": 69,
   "metadata": {},
   "outputs": [],
   "source": [
    "rna.obs['germcell_RNA'] = rna.obs_names.map(germcells['celltype'].to_dict())"
   ]
  },
  {
   "cell_type": "code",
   "execution_count": 70,
   "metadata": {},
   "outputs": [
    {
     "data": {
      "text/plain": [
       "NaN                  67152\n",
       "oogonia_STRA8         2215\n",
       "PGC                   1874\n",
       "oogonia_meiotic       1178\n",
       "pre_oocyte             311\n",
       "pre_spermatogonia      221\n",
       "oocyte                 162\n",
       "GC                     105\n",
       "Name: germcell_RNA, dtype: int64"
      ]
     },
     "execution_count": 70,
     "metadata": {},
     "output_type": "execute_result"
    }
   ],
   "source": [
    "rna.obs['germcell_RNA'].value_counts(dropna = False)"
   ]
  },
  {
   "cell_type": "code",
   "execution_count": 71,
   "metadata": {},
   "outputs": [
    {
     "name": "stderr",
     "output_type": "stream",
     "text": [
      "/opt/conda/envs/atac_env/lib/python3.8/site-packages/pandas/core/arrays/categorical.py:2487: FutureWarning: The `inplace` parameter in pandas.Categorical.remove_unused_categories is deprecated and will be removed in a future version.\n",
      "  res = method(*args, **kwargs)\n"
     ]
    }
   ],
   "source": [
    "rna.obs['germcell_RNA'] = rna.obs['germcell_RNA'].astype(str)\n",
    "rna = rna[[i not in ['nan'] for i in rna.obs['germcell_RNA']]]"
   ]
  },
  {
   "cell_type": "code",
   "execution_count": 72,
   "metadata": {},
   "outputs": [
    {
     "data": {
      "text/plain": [
       "View of AnnData object with n_obs × n_vars = 6066 × 33997\n",
       "    obs: 'n_genes', 'sample', 'donor', 'Library_ATAC', 'Library_RNA', 'iRods_path', 'percent_mito', 'n_counts', 'batch', 'scrublet_score', 'scrublet_cluster_score', 'zscore', 'bh_pval', 'bonf_pval', 'germcell_RNA'\n",
       "    var: 'gene_ids-10', 'feature_types-10', 'gene_ids-11', 'feature_types-11', 'gene_ids-12', 'feature_types-12', 'gene_ids-13', 'feature_types-13', 'gene_ids-9', 'feature_types-9', 'n_cells', 'gene_ids-0', 'feature_types-0', 'n_cells-0-0', 'n_cells-1-0', 'n_cells-10-0', 'n_cells-11-0', 'n_cells-12-0', 'n_cells-13-0', 'n_cells-2-0', 'n_cells-3-0', 'n_cells-4-0', 'n_cells-5-0', 'n_cells-6-0', 'n_cells-7-0', 'n_cells-8-0', 'n_cells-9-0', 'gene_ids-1', 'feature_types-1', 'n_cells-0-1', 'n_cells-1-1', 'n_cells-10-1', 'n_cells-11-1', 'n_cells-12-1', 'n_cells-13-1', 'n_cells-2-1', 'n_cells-3-1', 'n_cells-4-1', 'n_cells-5-1', 'n_cells-6-1', 'n_cells-7-1', 'n_cells-8-1', 'n_cells-9-1', 'gene_ids-2', 'feature_types-2', 'n_cells-0-2', 'n_cells-1-2', 'n_cells-10-2', 'n_cells-11-2', 'n_cells-12-2', 'n_cells-13-2', 'n_cells-2-2', 'n_cells-3-2', 'n_cells-4-2', 'n_cells-5-2', 'n_cells-6-2', 'n_cells-7-2', 'n_cells-8-2', 'n_cells-9-2', 'gene_ids-3', 'feature_types-3', 'n_cells-0-3', 'n_cells-1-3', 'n_cells-10-3', 'n_cells-11-3', 'n_cells-12-3', 'n_cells-13-3', 'n_cells-2-3', 'n_cells-3-3', 'n_cells-4-3', 'n_cells-5-3', 'n_cells-6-3', 'n_cells-7-3', 'n_cells-8-3', 'n_cells-9-3', 'gene_ids-4', 'feature_types-4', 'n_cells-0-4', 'n_cells-1-4', 'n_cells-10-4', 'n_cells-11-4', 'n_cells-12-4', 'n_cells-13-4', 'n_cells-2-4', 'n_cells-3-4', 'n_cells-4-4', 'n_cells-5-4', 'n_cells-6-4', 'n_cells-7-4', 'n_cells-8-4', 'n_cells-9-4', 'gene_ids-5', 'feature_types-5', 'n_cells-0-5', 'n_cells-1-5', 'n_cells-10-5', 'n_cells-11-5', 'n_cells-12-5', 'n_cells-13-5', 'n_cells-2-5', 'n_cells-3-5', 'n_cells-4-5', 'n_cells-5-5', 'n_cells-6-5', 'n_cells-7-5', 'n_cells-8-5', 'n_cells-9-5', 'gene_ids-6', 'feature_types-6', 'n_cells-0-6', 'n_cells-1-6', 'n_cells-10-6', 'n_cells-11-6', 'n_cells-12-6', 'n_cells-13-6', 'n_cells-2-6', 'n_cells-3-6', 'n_cells-4-6', 'n_cells-5-6', 'n_cells-6-6', 'n_cells-7-6', 'n_cells-8-6', 'n_cells-9-6', 'gene_ids-7', 'feature_types-7', 'n_cells-0-7', 'n_cells-1-7', 'n_cells-10-7', 'n_cells-11-7', 'n_cells-12-7', 'n_cells-13-7', 'n_cells-2-7', 'n_cells-3-7', 'n_cells-4-7', 'n_cells-5-7', 'n_cells-6-7', 'n_cells-7-7', 'n_cells-8-7', 'n_cells-9-7', 'gene_ids-8', 'feature_types-8', 'n_cells-0-8', 'n_cells-1-8', 'n_cells-10-8', 'n_cells-11-8', 'n_cells-12-8', 'n_cells-13-8', 'n_cells-2-8', 'n_cells-3-8', 'n_cells-4-8', 'n_cells-5-8', 'n_cells-6-8', 'n_cells-7-8', 'n_cells-8-8', 'n_cells-9-8'"
      ]
     },
     "execution_count": 72,
     "metadata": {},
     "output_type": "execute_result"
    }
   ],
   "source": [
    "rna"
   ]
  },
  {
   "cell_type": "code",
   "execution_count": 73,
   "metadata": {},
   "outputs": [
    {
     "name": "stderr",
     "output_type": "stream",
     "text": [
      "Trying to set attribute `.obs` of view, copying.\n"
     ]
    }
   ],
   "source": [
    "rna.obs['ATAC_code'] = rna.obs_names.map(germcells['ATAC_code'].to_dict())"
   ]
  },
  {
   "cell_type": "code",
   "execution_count": 74,
   "metadata": {},
   "outputs": [
    {
     "data": {
      "text/html": [
       "<div>\n",
       "<style scoped>\n",
       "    .dataframe tbody tr th:only-of-type {\n",
       "        vertical-align: middle;\n",
       "    }\n",
       "\n",
       "    .dataframe tbody tr th {\n",
       "        vertical-align: top;\n",
       "    }\n",
       "\n",
       "    .dataframe thead th {\n",
       "        text-align: right;\n",
       "    }\n",
       "</style>\n",
       "<table border=\"1\" class=\"dataframe\">\n",
       "  <thead>\n",
       "    <tr style=\"text-align: right;\">\n",
       "      <th></th>\n",
       "      <th>n_genes</th>\n",
       "      <th>sample</th>\n",
       "      <th>donor</th>\n",
       "      <th>Library_ATAC</th>\n",
       "      <th>Library_RNA</th>\n",
       "      <th>iRods_path</th>\n",
       "      <th>percent_mito</th>\n",
       "      <th>n_counts</th>\n",
       "      <th>batch</th>\n",
       "      <th>scrublet_score</th>\n",
       "      <th>scrublet_cluster_score</th>\n",
       "      <th>zscore</th>\n",
       "      <th>bh_pval</th>\n",
       "      <th>bonf_pval</th>\n",
       "      <th>germcell_RNA</th>\n",
       "      <th>ATAC_code</th>\n",
       "    </tr>\n",
       "  </thead>\n",
       "  <tbody>\n",
       "    <tr>\n",
       "      <th>HD_F_GON9525419_AAACCGGCAGCAACCT</th>\n",
       "      <td>8129</td>\n",
       "      <td>HD_F_GON9525419</td>\n",
       "      <td>Hrv15</td>\n",
       "      <td>HD_F_GON9525611</td>\n",
       "      <td>HD_F_GON9525419</td>\n",
       "      <td>/seq/illumina/cellranger-arc/cellranger-arc101...</td>\n",
       "      <td>0.000697</td>\n",
       "      <td>31547.0</td>\n",
       "      <td>0</td>\n",
       "      <td>0.140127</td>\n",
       "      <td>0.224911</td>\n",
       "      <td>1.595160</td>\n",
       "      <td>0.776981</td>\n",
       "      <td>1.0</td>\n",
       "      <td>PGC</td>\n",
       "      <td>21</td>\n",
       "    </tr>\n",
       "    <tr>\n",
       "      <th>HD_F_GON9525419_ACTGAAACATCCCGCT</th>\n",
       "      <td>5454</td>\n",
       "      <td>HD_F_GON9525419</td>\n",
       "      <td>Hrv15</td>\n",
       "      <td>HD_F_GON9525611</td>\n",
       "      <td>HD_F_GON9525419</td>\n",
       "      <td>/seq/illumina/cellranger-arc/cellranger-arc101...</td>\n",
       "      <td>0.000193</td>\n",
       "      <td>15538.0</td>\n",
       "      <td>0</td>\n",
       "      <td>0.091346</td>\n",
       "      <td>0.085450</td>\n",
       "      <td>-0.154214</td>\n",
       "      <td>0.784586</td>\n",
       "      <td>1.0</td>\n",
       "      <td>PGC</td>\n",
       "      <td>21</td>\n",
       "    </tr>\n",
       "    <tr>\n",
       "      <th>HD_F_GON9525419_AGGTTGCGTGGAAGGC</th>\n",
       "      <td>3936</td>\n",
       "      <td>HD_F_GON9525419</td>\n",
       "      <td>Hrv15</td>\n",
       "      <td>HD_F_GON9525611</td>\n",
       "      <td>HD_F_GON9525419</td>\n",
       "      <td>/seq/illumina/cellranger-arc/cellranger-arc101...</td>\n",
       "      <td>0.000527</td>\n",
       "      <td>7590.0</td>\n",
       "      <td>0</td>\n",
       "      <td>0.080000</td>\n",
       "      <td>0.085450</td>\n",
       "      <td>-0.154214</td>\n",
       "      <td>0.784586</td>\n",
       "      <td>1.0</td>\n",
       "      <td>PGC</td>\n",
       "      <td>21</td>\n",
       "    </tr>\n",
       "    <tr>\n",
       "      <th>HD_F_GON9525419_ATAGCATGTGTTGCAA</th>\n",
       "      <td>4524</td>\n",
       "      <td>HD_F_GON9525419</td>\n",
       "      <td>Hrv15</td>\n",
       "      <td>HD_F_GON9525611</td>\n",
       "      <td>HD_F_GON9525419</td>\n",
       "      <td>/seq/illumina/cellranger-arc/cellranger-arc101...</td>\n",
       "      <td>0.000104</td>\n",
       "      <td>9627.0</td>\n",
       "      <td>0</td>\n",
       "      <td>0.091346</td>\n",
       "      <td>0.127816</td>\n",
       "      <td>0.377212</td>\n",
       "      <td>0.784586</td>\n",
       "      <td>1.0</td>\n",
       "      <td>GC</td>\n",
       "      <td>21</td>\n",
       "    </tr>\n",
       "    <tr>\n",
       "      <th>HD_F_GON9525419_CAGCCTAAGAGGCTAA</th>\n",
       "      <td>6044</td>\n",
       "      <td>HD_F_GON9525419</td>\n",
       "      <td>Hrv15</td>\n",
       "      <td>HD_F_GON9525611</td>\n",
       "      <td>HD_F_GON9525419</td>\n",
       "      <td>/seq/illumina/cellranger-arc/cellranger-arc101...</td>\n",
       "      <td>0.001694</td>\n",
       "      <td>15938.0</td>\n",
       "      <td>0</td>\n",
       "      <td>0.085450</td>\n",
       "      <td>0.085450</td>\n",
       "      <td>-0.154214</td>\n",
       "      <td>0.784586</td>\n",
       "      <td>1.0</td>\n",
       "      <td>PGC</td>\n",
       "      <td>21</td>\n",
       "    </tr>\n",
       "  </tbody>\n",
       "</table>\n",
       "</div>"
      ],
      "text/plain": [
       "                                  n_genes           sample  donor  \\\n",
       "HD_F_GON9525419_AAACCGGCAGCAACCT     8129  HD_F_GON9525419  Hrv15   \n",
       "HD_F_GON9525419_ACTGAAACATCCCGCT     5454  HD_F_GON9525419  Hrv15   \n",
       "HD_F_GON9525419_AGGTTGCGTGGAAGGC     3936  HD_F_GON9525419  Hrv15   \n",
       "HD_F_GON9525419_ATAGCATGTGTTGCAA     4524  HD_F_GON9525419  Hrv15   \n",
       "HD_F_GON9525419_CAGCCTAAGAGGCTAA     6044  HD_F_GON9525419  Hrv15   \n",
       "\n",
       "                                     Library_ATAC      Library_RNA  \\\n",
       "HD_F_GON9525419_AAACCGGCAGCAACCT  HD_F_GON9525611  HD_F_GON9525419   \n",
       "HD_F_GON9525419_ACTGAAACATCCCGCT  HD_F_GON9525611  HD_F_GON9525419   \n",
       "HD_F_GON9525419_AGGTTGCGTGGAAGGC  HD_F_GON9525611  HD_F_GON9525419   \n",
       "HD_F_GON9525419_ATAGCATGTGTTGCAA  HD_F_GON9525611  HD_F_GON9525419   \n",
       "HD_F_GON9525419_CAGCCTAAGAGGCTAA  HD_F_GON9525611  HD_F_GON9525419   \n",
       "\n",
       "                                                                         iRods_path  \\\n",
       "HD_F_GON9525419_AAACCGGCAGCAACCT  /seq/illumina/cellranger-arc/cellranger-arc101...   \n",
       "HD_F_GON9525419_ACTGAAACATCCCGCT  /seq/illumina/cellranger-arc/cellranger-arc101...   \n",
       "HD_F_GON9525419_AGGTTGCGTGGAAGGC  /seq/illumina/cellranger-arc/cellranger-arc101...   \n",
       "HD_F_GON9525419_ATAGCATGTGTTGCAA  /seq/illumina/cellranger-arc/cellranger-arc101...   \n",
       "HD_F_GON9525419_CAGCCTAAGAGGCTAA  /seq/illumina/cellranger-arc/cellranger-arc101...   \n",
       "\n",
       "                                  percent_mito  n_counts batch  \\\n",
       "HD_F_GON9525419_AAACCGGCAGCAACCT      0.000697   31547.0     0   \n",
       "HD_F_GON9525419_ACTGAAACATCCCGCT      0.000193   15538.0     0   \n",
       "HD_F_GON9525419_AGGTTGCGTGGAAGGC      0.000527    7590.0     0   \n",
       "HD_F_GON9525419_ATAGCATGTGTTGCAA      0.000104    9627.0     0   \n",
       "HD_F_GON9525419_CAGCCTAAGAGGCTAA      0.001694   15938.0     0   \n",
       "\n",
       "                                  scrublet_score  scrublet_cluster_score  \\\n",
       "HD_F_GON9525419_AAACCGGCAGCAACCT        0.140127                0.224911   \n",
       "HD_F_GON9525419_ACTGAAACATCCCGCT        0.091346                0.085450   \n",
       "HD_F_GON9525419_AGGTTGCGTGGAAGGC        0.080000                0.085450   \n",
       "HD_F_GON9525419_ATAGCATGTGTTGCAA        0.091346                0.127816   \n",
       "HD_F_GON9525419_CAGCCTAAGAGGCTAA        0.085450                0.085450   \n",
       "\n",
       "                                    zscore   bh_pval  bonf_pval germcell_RNA  \\\n",
       "HD_F_GON9525419_AAACCGGCAGCAACCT  1.595160  0.776981        1.0          PGC   \n",
       "HD_F_GON9525419_ACTGAAACATCCCGCT -0.154214  0.784586        1.0          PGC   \n",
       "HD_F_GON9525419_AGGTTGCGTGGAAGGC -0.154214  0.784586        1.0          PGC   \n",
       "HD_F_GON9525419_ATAGCATGTGTTGCAA  0.377212  0.784586        1.0           GC   \n",
       "HD_F_GON9525419_CAGCCTAAGAGGCTAA -0.154214  0.784586        1.0          PGC   \n",
       "\n",
       "                                 ATAC_code  \n",
       "HD_F_GON9525419_AAACCGGCAGCAACCT        21  \n",
       "HD_F_GON9525419_ACTGAAACATCCCGCT        21  \n",
       "HD_F_GON9525419_AGGTTGCGTGGAAGGC        21  \n",
       "HD_F_GON9525419_ATAGCATGTGTTGCAA        21  \n",
       "HD_F_GON9525419_CAGCCTAAGAGGCTAA        21  "
      ]
     },
     "execution_count": 74,
     "metadata": {},
     "output_type": "execute_result"
    }
   ],
   "source": [
    "rna.obs.head()"
   ]
  },
  {
   "cell_type": "code",
   "execution_count": 75,
   "metadata": {},
   "outputs": [],
   "source": [
    "for i in rna.var.columns: \n",
    "    if i != 'gene_ids-0':\n",
    "        del rna.var[i]"
   ]
  },
  {
   "cell_type": "code",
   "execution_count": 76,
   "metadata": {},
   "outputs": [],
   "source": [
    "for i in rna.obs.columns: \n",
    "    if i not in ['sample', 'donor', 'Library_ATAC', 'Library_RNA', 'germcell_RNA', 'ATAC_code']:\n",
    "        del rna.obs[i]"
   ]
  },
  {
   "cell_type": "code",
   "execution_count": 77,
   "metadata": {},
   "outputs": [
    {
     "data": {
      "text/plain": [
       "<6066x33997 sparse matrix of type '<class 'numpy.float32'>'\n",
       "\twith 31013008 stored elements in Compressed Sparse Row format>"
      ]
     },
     "execution_count": 77,
     "metadata": {},
     "output_type": "execute_result"
    }
   ],
   "source": [
    "rna.X"
   ]
  },
  {
   "cell_type": "code",
   "execution_count": 78,
   "metadata": {},
   "outputs": [
    {
     "name": "stderr",
     "output_type": "stream",
     "text": [
      "... storing 'sample' as categorical\n",
      "... storing 'donor' as categorical\n",
      "... storing 'Library_ATAC' as categorical\n",
      "... storing 'Library_RNA' as categorical\n",
      "... storing 'germcell_RNA' as categorical\n",
      "... storing 'ATAC_code' as categorical\n"
     ]
    }
   ],
   "source": [
    "rna.write('/nfs/team292/vl6/my_MULTIOME_dir/germcells_july2021/germcells__RNAseq_multiome.h5ad')"
   ]
  },
  {
   "cell_type": "code",
   "execution_count": 79,
   "metadata": {},
   "outputs": [
    {
     "data": {
      "text/plain": [
       "0"
      ]
     },
     "execution_count": 79,
     "metadata": {},
     "output_type": "execute_result"
    }
   ],
   "source": [
    "np.isnan(rna.X.toarray()).sum()"
   ]
  },
  {
   "cell_type": "markdown",
   "metadata": {},
   "source": [
    "#### 3. Make Seurat object "
   ]
  },
  {
   "cell_type": "code",
   "execution_count": 80,
   "metadata": {},
   "outputs": [],
   "source": [
    "outdir = \"/nfs/team292/vl6/my_MULTIOME_dir/germcells_july2021/\"\n",
    "experiment_prefix = 'germcells_'"
   ]
  },
  {
   "cell_type": "code",
   "execution_count": 81,
   "metadata": {},
   "outputs": [
    {
     "name": "stdout",
     "output_type": "stream",
     "text": [
      "An object of class Seurat \n",
      "33997 features across 6066 samples within 1 assay \n",
      "Active assay: RNA (33997 features, 0 variable features)\n"
     ]
    }
   ],
   "source": [
    "%%R -i outdir -i experiment_prefix -o RNAseq\n",
    "Convert(paste0(outdir, experiment_prefix, \"_RNAseq_multiome.h5ad\"),  \n",
    "        dest = paste0(outdir, experiment_prefix, \"_RNAseq_multiome.h5seurat\"), overwrite = TRUE, verbose = TRUE)\n",
    "\n",
    "RNAseq <- LoadH5Seurat(paste0(outdir, experiment_prefix, \"_RNAseq_multiome.h5seurat\"))\n",
    "RNAseq"
   ]
  },
  {
   "cell_type": "code",
   "execution_count": 82,
   "metadata": {},
   "outputs": [
    {
     "name": "stdout",
     "output_type": "stream",
     "text": [
      "\n",
      "               GC               PGC            oocyte     oogonia_STRA8 \n",
      "              105              1874               162              2215 \n",
      "  oogonia_meiotic        pre_oocyte pre_spermatogonia \n",
      "             1178               311               221 \n"
     ]
    }
   ],
   "source": [
    "%%R \n",
    "\n",
    "print(table(RNAseq@meta.data$germcell_RNA))"
   ]
  },
  {
   "cell_type": "markdown",
   "metadata": {},
   "source": [
    "### ATAC"
   ]
  },
  {
   "cell_type": "code",
   "execution_count": 83,
   "metadata": {},
   "outputs": [],
   "source": [
    "%%R -i outdir -i experiment_prefix\n",
    "\n",
    "ATAC_Seurat <- readRDS(file = paste0(outdir, experiment_prefix, \"_full.rds\"))"
   ]
  },
  {
   "cell_type": "code",
   "execution_count": 84,
   "metadata": {},
   "outputs": [
    {
     "name": "stdout",
     "output_type": "stream",
     "text": [
      "\n",
      "              PGC                GC     oogonia_STRA8   oogonia_meiotic \n",
      "             3016               903              2467              1466 \n",
      "       pre_oocyte            oocyte pre_spermatogonia \n",
      "              148               442               459 \n"
     ]
    }
   ],
   "source": [
    "%%R \n",
    "\n",
    "print(table(ATAC_Seurat@meta.data$cell_type))"
   ]
  },
  {
   "cell_type": "markdown",
   "metadata": {},
   "source": [
    "#### 1. Select barcodes from multiomic samples "
   ]
  },
  {
   "cell_type": "code",
   "execution_count": 85,
   "metadata": {},
   "outputs": [],
   "source": [
    "rna.obs['transfer_barcode'] = [i.split('_')[-1] for i in rna.obs_names]"
   ]
  },
  {
   "cell_type": "code",
   "execution_count": 86,
   "metadata": {},
   "outputs": [],
   "source": [
    "rna.obs['transfer_barcode'] = rna.obs['transfer_barcode'].astype(str)"
   ]
  },
  {
   "cell_type": "code",
   "execution_count": 87,
   "metadata": {},
   "outputs": [],
   "source": [
    "rna.obs['ATAC_code'] = rna.obs['ATAC_code'].astype(str)"
   ]
  },
  {
   "cell_type": "code",
   "execution_count": 88,
   "metadata": {},
   "outputs": [],
   "source": [
    "rna.obs['transfer_barcode2'] = rna.obs['ATAC_code'] + '-' + rna.obs['transfer_barcode'] + '-1'"
   ]
  },
  {
   "cell_type": "code",
   "execution_count": 89,
   "metadata": {},
   "outputs": [
    {
     "data": {
      "text/html": [
       "<div>\n",
       "<style scoped>\n",
       "    .dataframe tbody tr th:only-of-type {\n",
       "        vertical-align: middle;\n",
       "    }\n",
       "\n",
       "    .dataframe tbody tr th {\n",
       "        vertical-align: top;\n",
       "    }\n",
       "\n",
       "    .dataframe thead th {\n",
       "        text-align: right;\n",
       "    }\n",
       "</style>\n",
       "<table border=\"1\" class=\"dataframe\">\n",
       "  <thead>\n",
       "    <tr style=\"text-align: right;\">\n",
       "      <th></th>\n",
       "      <th>sample</th>\n",
       "      <th>donor</th>\n",
       "      <th>Library_ATAC</th>\n",
       "      <th>Library_RNA</th>\n",
       "      <th>germcell_RNA</th>\n",
       "      <th>ATAC_code</th>\n",
       "      <th>transfer_barcode</th>\n",
       "      <th>transfer_barcode2</th>\n",
       "    </tr>\n",
       "  </thead>\n",
       "  <tbody>\n",
       "    <tr>\n",
       "      <th>HD_F_GON9525419_AAACCGGCAGCAACCT</th>\n",
       "      <td>HD_F_GON9525419</td>\n",
       "      <td>Hrv15</td>\n",
       "      <td>HD_F_GON9525611</td>\n",
       "      <td>HD_F_GON9525419</td>\n",
       "      <td>PGC</td>\n",
       "      <td>21</td>\n",
       "      <td>AAACCGGCAGCAACCT</td>\n",
       "      <td>21-AAACCGGCAGCAACCT-1</td>\n",
       "    </tr>\n",
       "    <tr>\n",
       "      <th>HD_F_GON9525419_ACTGAAACATCCCGCT</th>\n",
       "      <td>HD_F_GON9525419</td>\n",
       "      <td>Hrv15</td>\n",
       "      <td>HD_F_GON9525611</td>\n",
       "      <td>HD_F_GON9525419</td>\n",
       "      <td>PGC</td>\n",
       "      <td>21</td>\n",
       "      <td>ACTGAAACATCCCGCT</td>\n",
       "      <td>21-ACTGAAACATCCCGCT-1</td>\n",
       "    </tr>\n",
       "    <tr>\n",
       "      <th>HD_F_GON9525419_AGGTTGCGTGGAAGGC</th>\n",
       "      <td>HD_F_GON9525419</td>\n",
       "      <td>Hrv15</td>\n",
       "      <td>HD_F_GON9525611</td>\n",
       "      <td>HD_F_GON9525419</td>\n",
       "      <td>PGC</td>\n",
       "      <td>21</td>\n",
       "      <td>AGGTTGCGTGGAAGGC</td>\n",
       "      <td>21-AGGTTGCGTGGAAGGC-1</td>\n",
       "    </tr>\n",
       "    <tr>\n",
       "      <th>HD_F_GON9525419_ATAGCATGTGTTGCAA</th>\n",
       "      <td>HD_F_GON9525419</td>\n",
       "      <td>Hrv15</td>\n",
       "      <td>HD_F_GON9525611</td>\n",
       "      <td>HD_F_GON9525419</td>\n",
       "      <td>GC</td>\n",
       "      <td>21</td>\n",
       "      <td>ATAGCATGTGTTGCAA</td>\n",
       "      <td>21-ATAGCATGTGTTGCAA-1</td>\n",
       "    </tr>\n",
       "    <tr>\n",
       "      <th>HD_F_GON9525419_CAGCCTAAGAGGCTAA</th>\n",
       "      <td>HD_F_GON9525419</td>\n",
       "      <td>Hrv15</td>\n",
       "      <td>HD_F_GON9525611</td>\n",
       "      <td>HD_F_GON9525419</td>\n",
       "      <td>PGC</td>\n",
       "      <td>21</td>\n",
       "      <td>CAGCCTAAGAGGCTAA</td>\n",
       "      <td>21-CAGCCTAAGAGGCTAA-1</td>\n",
       "    </tr>\n",
       "  </tbody>\n",
       "</table>\n",
       "</div>"
      ],
      "text/plain": [
       "                                           sample  donor     Library_ATAC  \\\n",
       "HD_F_GON9525419_AAACCGGCAGCAACCT  HD_F_GON9525419  Hrv15  HD_F_GON9525611   \n",
       "HD_F_GON9525419_ACTGAAACATCCCGCT  HD_F_GON9525419  Hrv15  HD_F_GON9525611   \n",
       "HD_F_GON9525419_AGGTTGCGTGGAAGGC  HD_F_GON9525419  Hrv15  HD_F_GON9525611   \n",
       "HD_F_GON9525419_ATAGCATGTGTTGCAA  HD_F_GON9525419  Hrv15  HD_F_GON9525611   \n",
       "HD_F_GON9525419_CAGCCTAAGAGGCTAA  HD_F_GON9525419  Hrv15  HD_F_GON9525611   \n",
       "\n",
       "                                      Library_RNA germcell_RNA ATAC_code  \\\n",
       "HD_F_GON9525419_AAACCGGCAGCAACCT  HD_F_GON9525419          PGC        21   \n",
       "HD_F_GON9525419_ACTGAAACATCCCGCT  HD_F_GON9525419          PGC        21   \n",
       "HD_F_GON9525419_AGGTTGCGTGGAAGGC  HD_F_GON9525419          PGC        21   \n",
       "HD_F_GON9525419_ATAGCATGTGTTGCAA  HD_F_GON9525419           GC        21   \n",
       "HD_F_GON9525419_CAGCCTAAGAGGCTAA  HD_F_GON9525419          PGC        21   \n",
       "\n",
       "                                  transfer_barcode      transfer_barcode2  \n",
       "HD_F_GON9525419_AAACCGGCAGCAACCT  AAACCGGCAGCAACCT  21-AAACCGGCAGCAACCT-1  \n",
       "HD_F_GON9525419_ACTGAAACATCCCGCT  ACTGAAACATCCCGCT  21-ACTGAAACATCCCGCT-1  \n",
       "HD_F_GON9525419_AGGTTGCGTGGAAGGC  AGGTTGCGTGGAAGGC  21-AGGTTGCGTGGAAGGC-1  \n",
       "HD_F_GON9525419_ATAGCATGTGTTGCAA  ATAGCATGTGTTGCAA  21-ATAGCATGTGTTGCAA-1  \n",
       "HD_F_GON9525419_CAGCCTAAGAGGCTAA  CAGCCTAAGAGGCTAA  21-CAGCCTAAGAGGCTAA-1  "
      ]
     },
     "execution_count": 89,
     "metadata": {},
     "output_type": "execute_result"
    }
   ],
   "source": [
    "rna.obs.head()"
   ]
  },
  {
   "cell_type": "code",
   "execution_count": 90,
   "metadata": {},
   "outputs": [],
   "source": [
    "to_keep = rna.obs['transfer_barcode2'].to_list()"
   ]
  },
  {
   "cell_type": "code",
   "execution_count": 91,
   "metadata": {},
   "outputs": [
    {
     "data": {
      "text/plain": [
       "6066"
      ]
     },
     "execution_count": 91,
     "metadata": {},
     "output_type": "execute_result"
    }
   ],
   "source": [
    "len(to_keep)"
   ]
  },
  {
   "cell_type": "code",
   "execution_count": 92,
   "metadata": {},
   "outputs": [
    {
     "name": "stdout",
     "output_type": "stream",
     "text": [
      "[1] \"21-AAACCGGCAGCAACCT-1\" \"21-ACTGAAACATCCCGCT-1\" \"21-AGGTTGCGTGGAAGGC-1\"\n",
      "[4] \"21-ATAGCATGTGTTGCAA-1\" \"21-CAGCCTAAGAGGCTAA-1\" \"21-CATAGGTTCACAGCCA-1\"\n",
      "An object of class Seurat \n",
      "120127 features across 5605 samples within 1 assay \n",
      "Active assay: peaks (120127 features, 0 variable features)\n",
      " 3 dimensional reductions calculated: cisTopics, umap, harmony\n"
     ]
    }
   ],
   "source": [
    "%%R -i to_keep\n",
    "\n",
    "to_keep_vector = unlist(to_keep, recursive = TRUE, use.names = TRUE)\n",
    "print(head(to_keep_vector))\n",
    "ATAC_Seurat <- subset(ATAC_Seurat, cells = to_keep_vector)\n",
    "ATAC_Seurat"
   ]
  },
  {
   "cell_type": "code",
   "execution_count": 93,
   "metadata": {},
   "outputs": [
    {
     "name": "stdout",
     "output_type": "stream",
     "text": [
      "\n",
      "              PGC                GC     oogonia_STRA8   oogonia_meiotic \n",
      "             1692               524              1737              1005 \n",
      "       pre_oocyte            oocyte pre_spermatogonia \n",
      "              101               342               204 \n",
      "\n",
      "  F81  Hrv3 Hrv10 Hrv13 Hrv15 Hrv17 Hrv18 Hrv21 Hrv39 Hrv41 Hrv49 Hrv50 Hrv54 \n",
      "    0   377     0     0    47     0     0     0   511   139     0     0     0 \n",
      "Hrv55 Hrv58 Hrv59 Hrv65 Hrv91 Hrv92 \n",
      "    0  1532     0  1834   973   192 \n",
      "\n",
      " Hrv3 Hrv15 Hrv39 Hrv41 Hrv58 Hrv65 Hrv91 Hrv92 \n",
      "  470    53   524   194  1678  1907  1038   202 \n",
      "\n",
      "               GC               PGC            oocyte     oogonia_STRA8 \n",
      "              105              1874               162              2215 \n",
      "  oogonia_meiotic        pre_oocyte pre_spermatogonia \n",
      "             1178               311               221 \n"
     ]
    }
   ],
   "source": [
    "%%R \n",
    "\n",
    "print(table(ATAC_Seurat@meta.data$cell_type))\n",
    "print(table(ATAC_Seurat@meta.data$individual))\n",
    "print(table(RNAseq@meta.data$donor))\n",
    "print(table(RNAseq@meta.data$germcell))"
   ]
  },
  {
   "cell_type": "code",
   "execution_count": 94,
   "metadata": {},
   "outputs": [],
   "source": [
    "%%R -i outdir -i experiment_prefix\n",
    "\n",
    "saveRDS(ATAC_Seurat, file = paste0(outdir, experiment_prefix, \"_ATAC_multiome.rds\"))"
   ]
  },
  {
   "cell_type": "code",
   "execution_count": 95,
   "metadata": {},
   "outputs": [],
   "source": [
    "%%R -o to_keep2\n",
    "\n",
    "to_keep2 = colnames(ATAC_Seurat)"
   ]
  },
  {
   "cell_type": "code",
   "execution_count": 96,
   "metadata": {},
   "outputs": [
    {
     "data": {
      "text/plain": [
       "5605"
      ]
     },
     "execution_count": 96,
     "metadata": {},
     "output_type": "execute_result"
    }
   ],
   "source": [
    "len(to_keep2)"
   ]
  },
  {
   "cell_type": "code",
   "execution_count": 97,
   "metadata": {},
   "outputs": [],
   "source": [
    "to_keep2_list = []\n",
    "for i in range(len(to_keep2)):\n",
    "    to_keep2_list.append(to_keep2[i])"
   ]
  },
  {
   "cell_type": "code",
   "execution_count": 98,
   "metadata": {},
   "outputs": [
    {
     "data": {
      "text/plain": [
       "5605"
      ]
     },
     "execution_count": 98,
     "metadata": {},
     "output_type": "execute_result"
    }
   ],
   "source": [
    "len(to_keep2_list)"
   ]
  },
  {
   "cell_type": "code",
   "execution_count": 99,
   "metadata": {},
   "outputs": [
    {
     "name": "stderr",
     "output_type": "stream",
     "text": [
      "/opt/conda/envs/atac_env/lib/python3.8/site-packages/pandas/core/arrays/categorical.py:2487: FutureWarning: The `inplace` parameter in pandas.Categorical.remove_unused_categories is deprecated and will be removed in a future version.\n",
      "  res = method(*args, **kwargs)\n"
     ]
    },
    {
     "data": {
      "text/plain": [
       "View of AnnData object with n_obs × n_vars = 5605 × 33997\n",
       "    obs: 'sample', 'donor', 'Library_ATAC', 'Library_RNA', 'germcell_RNA', 'ATAC_code', 'transfer_barcode', 'transfer_barcode2'\n",
       "    var: 'gene_ids-0'"
      ]
     },
     "execution_count": 99,
     "metadata": {},
     "output_type": "execute_result"
    }
   ],
   "source": [
    "rna = rna[[i in to_keep2_list for i in rna.obs['transfer_barcode2']]]\n",
    "rna"
   ]
  },
  {
   "cell_type": "code",
   "execution_count": 100,
   "metadata": {},
   "outputs": [
    {
     "name": "stderr",
     "output_type": "stream",
     "text": [
      "Trying to set attribute `.obs` of view, copying.\n"
     ]
    },
    {
     "data": {
      "text/html": [
       "<div>\n",
       "<style scoped>\n",
       "    .dataframe tbody tr th:only-of-type {\n",
       "        vertical-align: middle;\n",
       "    }\n",
       "\n",
       "    .dataframe tbody tr th {\n",
       "        vertical-align: top;\n",
       "    }\n",
       "\n",
       "    .dataframe thead th {\n",
       "        text-align: right;\n",
       "    }\n",
       "</style>\n",
       "<table border=\"1\" class=\"dataframe\">\n",
       "  <thead>\n",
       "    <tr style=\"text-align: right;\">\n",
       "      <th></th>\n",
       "      <th>sample</th>\n",
       "      <th>donor</th>\n",
       "      <th>Library_ATAC</th>\n",
       "      <th>Library_RNA</th>\n",
       "      <th>germcell_RNA</th>\n",
       "      <th>ATAC_code</th>\n",
       "      <th>transfer_barcode</th>\n",
       "      <th>transfer_barcode2</th>\n",
       "      <th>original_barcode</th>\n",
       "    </tr>\n",
       "    <tr>\n",
       "      <th>transfer_barcode2</th>\n",
       "      <th></th>\n",
       "      <th></th>\n",
       "      <th></th>\n",
       "      <th></th>\n",
       "      <th></th>\n",
       "      <th></th>\n",
       "      <th></th>\n",
       "      <th></th>\n",
       "      <th></th>\n",
       "    </tr>\n",
       "  </thead>\n",
       "  <tbody>\n",
       "    <tr>\n",
       "      <th>21-ACTGAAACATCCCGCT-1</th>\n",
       "      <td>HD_F_GON9525419</td>\n",
       "      <td>Hrv15</td>\n",
       "      <td>HD_F_GON9525611</td>\n",
       "      <td>HD_F_GON9525419</td>\n",
       "      <td>PGC</td>\n",
       "      <td>21</td>\n",
       "      <td>ACTGAAACATCCCGCT</td>\n",
       "      <td>21-ACTGAAACATCCCGCT-1</td>\n",
       "      <td>HD_F_GON9525419_ACTGAAACATCCCGCT</td>\n",
       "    </tr>\n",
       "    <tr>\n",
       "      <th>21-AGGTTGCGTGGAAGGC-1</th>\n",
       "      <td>HD_F_GON9525419</td>\n",
       "      <td>Hrv15</td>\n",
       "      <td>HD_F_GON9525611</td>\n",
       "      <td>HD_F_GON9525419</td>\n",
       "      <td>PGC</td>\n",
       "      <td>21</td>\n",
       "      <td>AGGTTGCGTGGAAGGC</td>\n",
       "      <td>21-AGGTTGCGTGGAAGGC-1</td>\n",
       "      <td>HD_F_GON9525419_AGGTTGCGTGGAAGGC</td>\n",
       "    </tr>\n",
       "    <tr>\n",
       "      <th>21-ATAGCATGTGTTGCAA-1</th>\n",
       "      <td>HD_F_GON9525419</td>\n",
       "      <td>Hrv15</td>\n",
       "      <td>HD_F_GON9525611</td>\n",
       "      <td>HD_F_GON9525419</td>\n",
       "      <td>GC</td>\n",
       "      <td>21</td>\n",
       "      <td>ATAGCATGTGTTGCAA</td>\n",
       "      <td>21-ATAGCATGTGTTGCAA-1</td>\n",
       "      <td>HD_F_GON9525419_ATAGCATGTGTTGCAA</td>\n",
       "    </tr>\n",
       "    <tr>\n",
       "      <th>21-CAGCCTAAGAGGCTAA-1</th>\n",
       "      <td>HD_F_GON9525419</td>\n",
       "      <td>Hrv15</td>\n",
       "      <td>HD_F_GON9525611</td>\n",
       "      <td>HD_F_GON9525419</td>\n",
       "      <td>PGC</td>\n",
       "      <td>21</td>\n",
       "      <td>CAGCCTAAGAGGCTAA</td>\n",
       "      <td>21-CAGCCTAAGAGGCTAA-1</td>\n",
       "      <td>HD_F_GON9525419_CAGCCTAAGAGGCTAA</td>\n",
       "    </tr>\n",
       "    <tr>\n",
       "      <th>21-CATAGGTTCACAGCCA-1</th>\n",
       "      <td>HD_F_GON9525419</td>\n",
       "      <td>Hrv15</td>\n",
       "      <td>HD_F_GON9525611</td>\n",
       "      <td>HD_F_GON9525419</td>\n",
       "      <td>GC</td>\n",
       "      <td>21</td>\n",
       "      <td>CATAGGTTCACAGCCA</td>\n",
       "      <td>21-CATAGGTTCACAGCCA-1</td>\n",
       "      <td>HD_F_GON9525419_CATAGGTTCACAGCCA</td>\n",
       "    </tr>\n",
       "  </tbody>\n",
       "</table>\n",
       "</div>"
      ],
      "text/plain": [
       "                                sample  donor     Library_ATAC  \\\n",
       "transfer_barcode2                                                \n",
       "21-ACTGAAACATCCCGCT-1  HD_F_GON9525419  Hrv15  HD_F_GON9525611   \n",
       "21-AGGTTGCGTGGAAGGC-1  HD_F_GON9525419  Hrv15  HD_F_GON9525611   \n",
       "21-ATAGCATGTGTTGCAA-1  HD_F_GON9525419  Hrv15  HD_F_GON9525611   \n",
       "21-CAGCCTAAGAGGCTAA-1  HD_F_GON9525419  Hrv15  HD_F_GON9525611   \n",
       "21-CATAGGTTCACAGCCA-1  HD_F_GON9525419  Hrv15  HD_F_GON9525611   \n",
       "\n",
       "                           Library_RNA germcell_RNA ATAC_code  \\\n",
       "transfer_barcode2                                               \n",
       "21-ACTGAAACATCCCGCT-1  HD_F_GON9525419          PGC        21   \n",
       "21-AGGTTGCGTGGAAGGC-1  HD_F_GON9525419          PGC        21   \n",
       "21-ATAGCATGTGTTGCAA-1  HD_F_GON9525419           GC        21   \n",
       "21-CAGCCTAAGAGGCTAA-1  HD_F_GON9525419          PGC        21   \n",
       "21-CATAGGTTCACAGCCA-1  HD_F_GON9525419           GC        21   \n",
       "\n",
       "                       transfer_barcode      transfer_barcode2  \\\n",
       "transfer_barcode2                                                \n",
       "21-ACTGAAACATCCCGCT-1  ACTGAAACATCCCGCT  21-ACTGAAACATCCCGCT-1   \n",
       "21-AGGTTGCGTGGAAGGC-1  AGGTTGCGTGGAAGGC  21-AGGTTGCGTGGAAGGC-1   \n",
       "21-ATAGCATGTGTTGCAA-1  ATAGCATGTGTTGCAA  21-ATAGCATGTGTTGCAA-1   \n",
       "21-CAGCCTAAGAGGCTAA-1  CAGCCTAAGAGGCTAA  21-CAGCCTAAGAGGCTAA-1   \n",
       "21-CATAGGTTCACAGCCA-1  CATAGGTTCACAGCCA  21-CATAGGTTCACAGCCA-1   \n",
       "\n",
       "                                       original_barcode  \n",
       "transfer_barcode2                                        \n",
       "21-ACTGAAACATCCCGCT-1  HD_F_GON9525419_ACTGAAACATCCCGCT  \n",
       "21-AGGTTGCGTGGAAGGC-1  HD_F_GON9525419_AGGTTGCGTGGAAGGC  \n",
       "21-ATAGCATGTGTTGCAA-1  HD_F_GON9525419_ATAGCATGTGTTGCAA  \n",
       "21-CAGCCTAAGAGGCTAA-1  HD_F_GON9525419_CAGCCTAAGAGGCTAA  \n",
       "21-CATAGGTTCACAGCCA-1  HD_F_GON9525419_CATAGGTTCACAGCCA  "
      ]
     },
     "execution_count": 100,
     "metadata": {},
     "output_type": "execute_result"
    }
   ],
   "source": [
    "rna.obs['original_barcode'] = rna.obs_names\n",
    "rna.obs_names = rna.obs['transfer_barcode2']\n",
    "rna.obs.head()"
   ]
  },
  {
   "cell_type": "code",
   "execution_count": 101,
   "metadata": {},
   "outputs": [],
   "source": [
    "del rna.obs['transfer_barcode2']"
   ]
  },
  {
   "cell_type": "code",
   "execution_count": 102,
   "metadata": {},
   "outputs": [
    {
     "name": "stderr",
     "output_type": "stream",
     "text": [
      "... storing 'ATAC_code' as categorical\n",
      "... storing 'transfer_barcode' as categorical\n"
     ]
    }
   ],
   "source": [
    "rna.write('/nfs/team292/vl6/my_MULTIOME_dir/germcells_july2021/germcells__RNAseq_multiome.h5ad')"
   ]
  },
  {
   "cell_type": "code",
   "execution_count": 103,
   "metadata": {},
   "outputs": [
    {
     "name": "stdout",
     "output_type": "stream",
     "text": [
      "An object of class Seurat \n",
      "33997 features across 5605 samples within 1 assay \n",
      "Active assay: RNA (33997 features, 0 variable features)\n"
     ]
    }
   ],
   "source": [
    "%%R -i outdir -i experiment_prefix -o RNAseq\n",
    "Convert(paste0(outdir, experiment_prefix, \"_RNAseq_multiome.h5ad\"),  \n",
    "        dest = paste0(outdir, experiment_prefix, \"_RNAseq_multiome.h5seurat\"), overwrite = TRUE, verbose = TRUE)\n",
    "\n",
    "RNAseq <- LoadH5Seurat(paste0(outdir, experiment_prefix, \"_RNAseq_multiome.h5seurat\"))\n",
    "RNAseq"
   ]
  },
  {
   "cell_type": "code",
   "execution_count": null,
   "metadata": {},
   "outputs": [],
   "source": []
  }
 ],
 "metadata": {
  "kernelspec": {
   "display_name": "atac_env",
   "language": "python",
   "name": "atac_env"
  },
  "language_info": {
   "codemirror_mode": {
    "name": "ipython",
    "version": 3
   },
   "file_extension": ".py",
   "mimetype": "text/x-python",
   "name": "python",
   "nbconvert_exporter": "python",
   "pygments_lexer": "ipython3",
   "version": "3.8.6"
  }
 },
 "nbformat": 4,
 "nbformat_minor": 4
}
