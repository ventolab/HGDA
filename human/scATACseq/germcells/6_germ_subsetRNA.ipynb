{
 "cells": [
  {
   "cell_type": "markdown",
   "metadata": {},
   "source": [
    "### Subset scRNAseq data from matched individuals for label transfer to scATACseq"
   ]
  },
  {
   "cell_type": "code",
   "execution_count": 1,
   "metadata": {},
   "outputs": [
    {
     "name": "stderr",
     "output_type": "stream",
     "text": [
      "WARNING: If you miss a compact list, please try `print_header`!\n"
     ]
    },
    {
     "name": "stdout",
     "output_type": "stream",
     "text": [
      "-----\n",
      "anndata     0.7.5\n",
      "scanpy      1.7.0\n",
      "sinfo       0.3.1\n",
      "-----\n",
      "PIL                 8.1.0\n",
      "anndata             0.7.5\n",
      "backcall            0.2.0\n",
      "cairo               1.20.0\n",
      "cffi                1.14.4\n",
      "constants           NA\n",
      "cycler              0.10.0\n",
      "cython_runtime      NA\n",
      "dateutil            2.8.1\n",
      "decorator           4.4.2\n",
      "get_version         2.1\n",
      "h5py                3.1.0\n",
      "highs_wrapper       NA\n",
      "igraph              0.8.3\n",
      "ipykernel           5.4.3\n",
      "ipython_genutils    0.2.0\n",
      "jedi                0.18.0\n",
      "joblib              1.0.0\n",
      "kiwisolver          1.3.1\n",
      "legacy_api_wrap     1.2\n",
      "leidenalg           0.8.3\n",
      "llvmlite            0.35.0\n",
      "matplotlib          3.3.4\n",
      "mpl_toolkits        NA\n",
      "natsort             7.1.1\n",
      "numba               0.52.0\n",
      "numexpr             2.7.2\n",
      "numpy               1.21.2\n",
      "packaging           20.9\n",
      "pandas              1.2.1\n",
      "parso               0.8.1\n",
      "pexpect             4.8.0\n",
      "pickleshare         0.7.5\n",
      "pkg_resources       NA\n",
      "prompt_toolkit      3.0.14\n",
      "ptyprocess          0.7.0\n",
      "pygments            2.7.4\n",
      "pyparsing           2.4.7\n",
      "pytz                2021.1\n",
      "scanpy              1.7.0\n",
      "scipy               1.6.0\n",
      "setuptools_scm      NA\n",
      "sinfo               0.3.1\n",
      "six                 1.15.0\n",
      "sklearn             0.24.1\n",
      "storemagic          NA\n",
      "tables              3.6.1\n",
      "texttable           1.6.3\n",
      "tornado             6.1\n",
      "traitlets           5.0.5\n",
      "wcwidth             0.2.5\n",
      "zmq                 22.0.2\n",
      "-----\n",
      "IPython             7.20.0\n",
      "jupyter_client      6.1.11\n",
      "jupyter_core        4.7.1\n",
      "-----\n",
      "Python 3.8.6 | packaged by conda-forge | (default, Jan 25 2021, 23:21:18) [GCC 9.3.0]\n",
      "Linux-4.15.0-158-generic-x86_64-with-glibc2.10\n",
      "60 logical CPU cores, x86_64\n",
      "-----\n",
      "Session information updated at 2021-10-10 09:36\n",
      "\n"
     ]
    },
    {
     "data": {
      "text/plain": [
       "'/opt/conda/envs/atac_env/bin/python'"
      ]
     },
     "execution_count": 1,
     "metadata": {},
     "output_type": "execute_result"
    }
   ],
   "source": [
    "import numpy as np\n",
    "import pandas as pd\n",
    "import scanpy as sc\n",
    "import anndata\n",
    "import os\n",
    "\n",
    "import sys\n",
    "\n",
    "def MovePlots(plotpattern, subplotdir):\n",
    "    os.system('mkdir -p '+str(sc.settings.figdir)+'/'+subplotdir)\n",
    "    os.system('mv '+str(sc.settings.figdir)+'/*'+plotpattern+'** '+str(sc.settings.figdir)+'/'+subplotdir)\n",
    "\n",
    "sc.settings.verbosity = 3  # verbosity: errors (0), warnings (1), info (2), hints (3)\n",
    "sc.settings.figdir = '/home/jovyan/MULTIOME_july2021/figures_germ/'\n",
    "sc.logging.print_versions()\n",
    "sc.settings.set_figure_params(dpi=80)  # low dpi (dots per inch) yields small inline figures\n",
    "\n",
    "sys.executable"
   ]
  },
  {
   "cell_type": "markdown",
   "metadata": {},
   "source": [
    "#### Load scRNAseq data"
   ]
  },
  {
   "cell_type": "code",
   "execution_count": 2,
   "metadata": {},
   "outputs": [],
   "source": [
    "adata = sc.read('/nfs/users/nfs_l/lg18/team292/lg18/with_valentina/gonadsV2_revision/FCA-gonads_rawcounts.h5ad')\n",
    "metadata = pd.read_csv('/nfs/users/nfs_l/lg18/team292/lg18/with_valentina/gonadsV2_revision/FCA-gonads_germcellsClean_annotated.csv', index_col = 0)\n"
   ]
  },
  {
   "cell_type": "code",
   "execution_count": 3,
   "metadata": {},
   "outputs": [
    {
     "data": {
      "text/plain": [
       "array([[0., 0., 0., 0., 0., 0., 0., 0., 0.],\n",
       "       [0., 0., 0., 0., 0., 0., 0., 0., 0.],\n",
       "       [0., 0., 0., 0., 0., 0., 0., 0., 0.],\n",
       "       [0., 0., 0., 0., 0., 0., 0., 1., 0.],\n",
       "       [0., 0., 0., 0., 0., 0., 0., 0., 0.],\n",
       "       [0., 0., 0., 0., 0., 0., 0., 0., 0.],\n",
       "       [0., 0., 0., 0., 0., 0., 0., 0., 0.],\n",
       "       [0., 0., 0., 0., 0., 0., 0., 0., 0.],\n",
       "       [0., 0., 0., 0., 0., 0., 0., 0., 0.]], dtype=float32)"
      ]
     },
     "execution_count": 3,
     "metadata": {},
     "output_type": "execute_result"
    }
   ],
   "source": [
    "adata.X[1:10, 1:10].toarray()"
   ]
  },
  {
   "cell_type": "code",
   "execution_count": 4,
   "metadata": {},
   "outputs": [
    {
     "data": {
      "text/html": [
       "<div>\n",
       "<style scoped>\n",
       "    .dataframe tbody tr th:only-of-type {\n",
       "        vertical-align: middle;\n",
       "    }\n",
       "\n",
       "    .dataframe tbody tr th {\n",
       "        vertical-align: top;\n",
       "    }\n",
       "\n",
       "    .dataframe thead th {\n",
       "        text-align: right;\n",
       "    }\n",
       "</style>\n",
       "<table border=\"1\" class=\"dataframe\">\n",
       "  <thead>\n",
       "    <tr style=\"text-align: right;\">\n",
       "      <th></th>\n",
       "      <th>n_genes</th>\n",
       "      <th>sample</th>\n",
       "      <th>donor</th>\n",
       "      <th>location</th>\n",
       "      <th>stage</th>\n",
       "      <th>sex</th>\n",
       "      <th>study</th>\n",
       "      <th>batch_collection</th>\n",
       "      <th>enrichment</th>\n",
       "      <th>cryopreserved</th>\n",
       "      <th>...</th>\n",
       "      <th>lineage_v2</th>\n",
       "      <th>somatic_celltype_v2</th>\n",
       "      <th>PCW</th>\n",
       "      <th>sample_source</th>\n",
       "      <th>trimester</th>\n",
       "      <th>lineage</th>\n",
       "      <th>celltype_germcellDirty</th>\n",
       "      <th>leiden</th>\n",
       "      <th>leiden_R</th>\n",
       "      <th>celltype</th>\n",
       "    </tr>\n",
       "  </thead>\n",
       "  <tbody>\n",
       "    <tr>\n",
       "      <th>FCA_GND8047885_AAGACCTCAGTATAAG</th>\n",
       "      <td>3446</td>\n",
       "      <td>FCA_GND8047885</td>\n",
       "      <td>F81</td>\n",
       "      <td>Gonad_and_extragonadal</td>\n",
       "      <td>8.8</td>\n",
       "      <td>female</td>\n",
       "      <td>FCA</td>\n",
       "      <td>A</td>\n",
       "      <td>CD45-</td>\n",
       "      <td>No</td>\n",
       "      <td>...</td>\n",
       "      <td>GermCells</td>\n",
       "      <td>NaN</td>\n",
       "      <td>8.8</td>\n",
       "      <td>N</td>\n",
       "      <td>1st</td>\n",
       "      <td>GermCells</td>\n",
       "      <td>PGC_mitotic</td>\n",
       "      <td>0</td>\n",
       "      <td>0</td>\n",
       "      <td>PGC</td>\n",
       "    </tr>\n",
       "    <tr>\n",
       "      <th>FCA_GND8047885_AAGGTTCAGTTAAGTG</th>\n",
       "      <td>3821</td>\n",
       "      <td>FCA_GND8047885</td>\n",
       "      <td>F81</td>\n",
       "      <td>Gonad_and_extragonadal</td>\n",
       "      <td>8.8</td>\n",
       "      <td>female</td>\n",
       "      <td>FCA</td>\n",
       "      <td>A</td>\n",
       "      <td>CD45-</td>\n",
       "      <td>No</td>\n",
       "      <td>...</td>\n",
       "      <td>GermCells</td>\n",
       "      <td>NaN</td>\n",
       "      <td>8.8</td>\n",
       "      <td>N</td>\n",
       "      <td>1st</td>\n",
       "      <td>GermCells</td>\n",
       "      <td>PGC_mitotic</td>\n",
       "      <td>0</td>\n",
       "      <td>0</td>\n",
       "      <td>PGC</td>\n",
       "    </tr>\n",
       "    <tr>\n",
       "      <th>FCA_GND8047885_CCTCTGAAGTGACATA</th>\n",
       "      <td>4123</td>\n",
       "      <td>FCA_GND8047885</td>\n",
       "      <td>F81</td>\n",
       "      <td>Gonad_and_extragonadal</td>\n",
       "      <td>8.8</td>\n",
       "      <td>female</td>\n",
       "      <td>FCA</td>\n",
       "      <td>A</td>\n",
       "      <td>CD45-</td>\n",
       "      <td>No</td>\n",
       "      <td>...</td>\n",
       "      <td>GermCells</td>\n",
       "      <td>NaN</td>\n",
       "      <td>8.8</td>\n",
       "      <td>N</td>\n",
       "      <td>1st</td>\n",
       "      <td>GermCells</td>\n",
       "      <td>PGC</td>\n",
       "      <td>0</td>\n",
       "      <td>0</td>\n",
       "      <td>PGC</td>\n",
       "    </tr>\n",
       "    <tr>\n",
       "      <th>FCA_GND8047885_CGAACATAGCCGGTAA</th>\n",
       "      <td>4494</td>\n",
       "      <td>FCA_GND8047885</td>\n",
       "      <td>F81</td>\n",
       "      <td>Gonad_and_extragonadal</td>\n",
       "      <td>8.8</td>\n",
       "      <td>female</td>\n",
       "      <td>FCA</td>\n",
       "      <td>A</td>\n",
       "      <td>CD45-</td>\n",
       "      <td>No</td>\n",
       "      <td>...</td>\n",
       "      <td>GermCells</td>\n",
       "      <td>NaN</td>\n",
       "      <td>8.8</td>\n",
       "      <td>N</td>\n",
       "      <td>1st</td>\n",
       "      <td>GermCells</td>\n",
       "      <td>PGC</td>\n",
       "      <td>0</td>\n",
       "      <td>0</td>\n",
       "      <td>PGC</td>\n",
       "    </tr>\n",
       "    <tr>\n",
       "      <th>FCA_GND8047885_CGTGAGCTCATCATTC</th>\n",
       "      <td>3152</td>\n",
       "      <td>FCA_GND8047885</td>\n",
       "      <td>F81</td>\n",
       "      <td>Gonad_and_extragonadal</td>\n",
       "      <td>8.8</td>\n",
       "      <td>female</td>\n",
       "      <td>FCA</td>\n",
       "      <td>A</td>\n",
       "      <td>CD45-</td>\n",
       "      <td>No</td>\n",
       "      <td>...</td>\n",
       "      <td>GermCells</td>\n",
       "      <td>NaN</td>\n",
       "      <td>8.8</td>\n",
       "      <td>N</td>\n",
       "      <td>1st</td>\n",
       "      <td>GermCells</td>\n",
       "      <td>PGC</td>\n",
       "      <td>0</td>\n",
       "      <td>0</td>\n",
       "      <td>PGC</td>\n",
       "    </tr>\n",
       "  </tbody>\n",
       "</table>\n",
       "<p>5 rows × 40 columns</p>\n",
       "</div>"
      ],
      "text/plain": [
       "                                 n_genes          sample donor  \\\n",
       "FCA_GND8047885_AAGACCTCAGTATAAG     3446  FCA_GND8047885   F81   \n",
       "FCA_GND8047885_AAGGTTCAGTTAAGTG     3821  FCA_GND8047885   F81   \n",
       "FCA_GND8047885_CCTCTGAAGTGACATA     4123  FCA_GND8047885   F81   \n",
       "FCA_GND8047885_CGAACATAGCCGGTAA     4494  FCA_GND8047885   F81   \n",
       "FCA_GND8047885_CGTGAGCTCATCATTC     3152  FCA_GND8047885   F81   \n",
       "\n",
       "                                               location  stage     sex study  \\\n",
       "FCA_GND8047885_AAGACCTCAGTATAAG  Gonad_and_extragonadal    8.8  female   FCA   \n",
       "FCA_GND8047885_AAGGTTCAGTTAAGTG  Gonad_and_extragonadal    8.8  female   FCA   \n",
       "FCA_GND8047885_CCTCTGAAGTGACATA  Gonad_and_extragonadal    8.8  female   FCA   \n",
       "FCA_GND8047885_CGAACATAGCCGGTAA  Gonad_and_extragonadal    8.8  female   FCA   \n",
       "FCA_GND8047885_CGTGAGCTCATCATTC  Gonad_and_extragonadal    8.8  female   FCA   \n",
       "\n",
       "                                batch_collection enrichment cryopreserved  \\\n",
       "FCA_GND8047885_AAGACCTCAGTATAAG                A      CD45-            No   \n",
       "FCA_GND8047885_AAGGTTCAGTTAAGTG                A      CD45-            No   \n",
       "FCA_GND8047885_CCTCTGAAGTGACATA                A      CD45-            No   \n",
       "FCA_GND8047885_CGAACATAGCCGGTAA                A      CD45-            No   \n",
       "FCA_GND8047885_CGTGAGCTCATCATTC                A      CD45-            No   \n",
       "\n",
       "                                 ... lineage_v2 somatic_celltype_v2  PCW  \\\n",
       "FCA_GND8047885_AAGACCTCAGTATAAG  ...  GermCells                 NaN  8.8   \n",
       "FCA_GND8047885_AAGGTTCAGTTAAGTG  ...  GermCells                 NaN  8.8   \n",
       "FCA_GND8047885_CCTCTGAAGTGACATA  ...  GermCells                 NaN  8.8   \n",
       "FCA_GND8047885_CGAACATAGCCGGTAA  ...  GermCells                 NaN  8.8   \n",
       "FCA_GND8047885_CGTGAGCTCATCATTC  ...  GermCells                 NaN  8.8   \n",
       "\n",
       "                                 sample_source  trimester    lineage  \\\n",
       "FCA_GND8047885_AAGACCTCAGTATAAG              N        1st  GermCells   \n",
       "FCA_GND8047885_AAGGTTCAGTTAAGTG              N        1st  GermCells   \n",
       "FCA_GND8047885_CCTCTGAAGTGACATA              N        1st  GermCells   \n",
       "FCA_GND8047885_CGAACATAGCCGGTAA              N        1st  GermCells   \n",
       "FCA_GND8047885_CGTGAGCTCATCATTC              N        1st  GermCells   \n",
       "\n",
       "                                 celltype_germcellDirty  leiden  leiden_R  \\\n",
       "FCA_GND8047885_AAGACCTCAGTATAAG             PGC_mitotic       0         0   \n",
       "FCA_GND8047885_AAGGTTCAGTTAAGTG             PGC_mitotic       0         0   \n",
       "FCA_GND8047885_CCTCTGAAGTGACATA                     PGC       0         0   \n",
       "FCA_GND8047885_CGAACATAGCCGGTAA                     PGC       0         0   \n",
       "FCA_GND8047885_CGTGAGCTCATCATTC                     PGC       0         0   \n",
       "\n",
       "                                 celltype  \n",
       "FCA_GND8047885_AAGACCTCAGTATAAG       PGC  \n",
       "FCA_GND8047885_AAGGTTCAGTTAAGTG       PGC  \n",
       "FCA_GND8047885_CCTCTGAAGTGACATA       PGC  \n",
       "FCA_GND8047885_CGAACATAGCCGGTAA       PGC  \n",
       "FCA_GND8047885_CGTGAGCTCATCATTC       PGC  \n",
       "\n",
       "[5 rows x 40 columns]"
      ]
     },
     "execution_count": 4,
     "metadata": {},
     "output_type": "execute_result"
    }
   ],
   "source": [
    "metadata.head()"
   ]
  },
  {
   "cell_type": "code",
   "execution_count": 5,
   "metadata": {},
   "outputs": [
    {
     "data": {
      "text/plain": [
       "PGC                  3764\n",
       "oogonia_STRA8        2203\n",
       "oogonia_meiotic      1875\n",
       "pre_oocyte            812\n",
       "oocyte                723\n",
       "pre_spermatogonia     621\n",
       "GC_mitotic            510\n",
       "GC                    485\n",
       "Name: celltype, dtype: int64"
      ]
     },
     "execution_count": 5,
     "metadata": {},
     "output_type": "execute_result"
    }
   ],
   "source": [
    "metadata['celltype'].value_counts(dropna = False)"
   ]
  },
  {
   "cell_type": "code",
   "execution_count": 6,
   "metadata": {},
   "outputs": [],
   "source": [
    "adata.obs['germ_celltype'] = adata.obs_names.map(metadata['celltype'].to_dict())"
   ]
  },
  {
   "cell_type": "code",
   "execution_count": 7,
   "metadata": {},
   "outputs": [
    {
     "data": {
      "text/plain": [
       "NaN                  385572\n",
       "PGC                    3764\n",
       "oogonia_STRA8          2203\n",
       "oogonia_meiotic        1875\n",
       "pre_oocyte              812\n",
       "oocyte                  723\n",
       "pre_spermatogonia       621\n",
       "GC_mitotic              510\n",
       "GC                      485\n",
       "Name: germ_celltype, dtype: int64"
      ]
     },
     "execution_count": 7,
     "metadata": {},
     "output_type": "execute_result"
    }
   ],
   "source": [
    "adata.obs['germ_celltype'].value_counts(dropna = False)"
   ]
  },
  {
   "cell_type": "code",
   "execution_count": 8,
   "metadata": {},
   "outputs": [],
   "source": [
    "adata.obs['germ_celltype'] = adata.obs['germ_celltype'].astype(str)"
   ]
  },
  {
   "cell_type": "code",
   "execution_count": 9,
   "metadata": {},
   "outputs": [
    {
     "name": "stderr",
     "output_type": "stream",
     "text": [
      "/opt/conda/envs/atac_env/lib/python3.8/site-packages/pandas/core/arrays/categorical.py:2487: FutureWarning: The `inplace` parameter in pandas.Categorical.remove_unused_categories is deprecated and will be removed in a future version.\n",
      "  res = method(*args, **kwargs)\n"
     ]
    },
    {
     "data": {
      "text/plain": [
       "(10993, 28820)"
      ]
     },
     "execution_count": 9,
     "metadata": {},
     "output_type": "execute_result"
    }
   ],
   "source": [
    "adata = adata[[i not in ['nan', 'Doublet'] for i in adata.obs['germ_celltype']]]\n",
    "adata.shape"
   ]
  },
  {
   "cell_type": "code",
   "execution_count": 10,
   "metadata": {},
   "outputs": [
    {
     "name": "stderr",
     "output_type": "stream",
     "text": [
      "Trying to set attribute `.obs` of view, copying.\n"
     ]
    },
    {
     "data": {
      "text/plain": [
       "PGC                  3764\n",
       "oogonia_STRA8        2203\n",
       "oogonia_meiotic      1875\n",
       "GC                    995\n",
       "pre_oocyte            812\n",
       "oocyte                723\n",
       "pre_spermatogonia     621\n",
       "Name: germ_celltype, dtype: int64"
      ]
     },
     "execution_count": 10,
     "metadata": {},
     "output_type": "execute_result"
    }
   ],
   "source": [
    "adata.obs['germ_celltype'] = np.where(adata.obs['germ_celltype'] == 'GC_mitotic', 'GC', adata.obs['germ_celltype'])\n",
    "adata.obs['germ_celltype'].value_counts()"
   ]
  },
  {
   "cell_type": "code",
   "execution_count": 11,
   "metadata": {},
   "outputs": [
    {
     "data": {
      "text/plain": [
       "array(['F100', 'F122', 'F123', 'F126', 'F133', 'F81', 'F83', 'F84', 'F87',\n",
       "       'F88', 'F89', 'F91', 'F96', 'F99', 'Hrv10', 'Hrv11', 'Hrv12',\n",
       "       'Hrv13', 'Hrv17', 'Hrv21', 'Hrv25', 'Hrv27', 'Hrv3', 'Hrv30',\n",
       "       'Hrv31', 'Hrv32', 'Hrv33', 'Hrv34', 'Hrv37', 'Hrv39', 'Hrv40',\n",
       "       'Hrv41', 'Hrv49', 'Hrv54', 'Hrv55', 'Hrv57', 'Hrv58', 'Hrv59',\n",
       "       'Hrv85', 'Hrv86', 'Hrv91', 'Hrv92', 'Hrv93', 'Hrv99'], dtype=object)"
      ]
     },
     "execution_count": 11,
     "metadata": {},
     "output_type": "execute_result"
    }
   ],
   "source": [
    "np.unique(adata.obs['donor'])"
   ]
  },
  {
   "cell_type": "code",
   "execution_count": 12,
   "metadata": {},
   "outputs": [
    {
     "data": {
      "text/plain": [
       "array([3764, 2203, 1875,  995,  812,  723,  621])"
      ]
     },
     "execution_count": 12,
     "metadata": {},
     "output_type": "execute_result"
    }
   ],
   "source": [
    "myindex = adata.obs['germ_celltype'].value_counts().index \n",
    "myvalues = adata.obs['germ_celltype'].value_counts().values\n",
    "clusters = pd.Series(myvalues, index = myindex)\n",
    "clusters.values"
   ]
  },
  {
   "cell_type": "code",
   "execution_count": 13,
   "metadata": {},
   "outputs": [
    {
     "name": "stdout",
     "output_type": "stream",
     "text": [
      "PGC\n",
      "oogonia_STRA8\n",
      "oogonia_meiotic\n",
      "GC\n",
      "pre_oocyte\n",
      "oocyte\n",
      "pre_spermatogonia\n"
     ]
    },
    {
     "data": {
      "text/plain": [
       "(4200, 28820)"
      ]
     },
     "execution_count": 13,
     "metadata": {},
     "output_type": "execute_result"
    }
   ],
   "source": [
    "import random\n",
    "from itertools import chain\n",
    "\n",
    "# Find clusters with > n cells\n",
    "n = 600\n",
    "cl2downsample = clusters.index[ clusters.values > n ]\n",
    "\n",
    "# save all barcode ids from small clusters\n",
    "holder = []\n",
    "holder.append( adata.obs_names[[ i not in cl2downsample for i in adata.obs['germ_celltype'] ]] ) \n",
    "\n",
    "# randomly sample n cells in the cl2downsample\n",
    "for cl in cl2downsample:\n",
    "    print(cl)\n",
    "    cl_sample = adata[[ i == cl for i in adata.obs['germ_celltype'] ]].obs_names\n",
    "    # n = int(round(len(cl_sample)/2, 0))\n",
    "    cl_downsample = random.sample(set(cl_sample), n )\n",
    "    holder.append(cl_downsample)\n",
    "    \n",
    "# samples to include\n",
    "samples = list(chain(*holder))\n",
    "\n",
    "# Filter adata_count\n",
    "adata = adata[[ i in samples for i in adata.obs_names ]]\n",
    "adata.X.shape"
   ]
  },
  {
   "cell_type": "markdown",
   "metadata": {},
   "source": [
    "#### Don't select matching donors as there aren't many germ cells"
   ]
  },
  {
   "cell_type": "code",
   "execution_count": 14,
   "metadata": {},
   "outputs": [],
   "source": [
    "#adata = adata[[i in ['F81', 'Hrv10', 'Hrv13', 'Hrv15', 'Hrv17', 'Hrv18', 'Hrv21',\n",
    "#       'Hrv3', 'Hrv39', 'Hrv41', 'Hrv49', 'Hrv50', 'Hrv54', 'Hrv55',\n",
    "#       'Hrv58', 'Hrv59', 'Hrv65', 'Hrv91', 'Hrv92'] for i in adata.obs['donor']]]\n",
    "#adata.shape"
   ]
  },
  {
   "cell_type": "markdown",
   "metadata": {},
   "source": [
    "#### Save anndata object to perform integration with ATAC with Seurat"
   ]
  },
  {
   "cell_type": "code",
   "execution_count": 15,
   "metadata": {},
   "outputs": [],
   "source": [
    "del adata.uns "
   ]
  },
  {
   "cell_type": "code",
   "execution_count": 16,
   "metadata": {},
   "outputs": [],
   "source": [
    "for i in adata.obs.columns:\n",
    "    if i not in ['germ_celltype', 'donor']:\n",
    "        del adata.obs[i] "
   ]
  },
  {
   "cell_type": "code",
   "execution_count": 17,
   "metadata": {},
   "outputs": [
    {
     "data": {
      "text/html": [
       "<div>\n",
       "<style scoped>\n",
       "    .dataframe tbody tr th:only-of-type {\n",
       "        vertical-align: middle;\n",
       "    }\n",
       "\n",
       "    .dataframe tbody tr th {\n",
       "        vertical-align: top;\n",
       "    }\n",
       "\n",
       "    .dataframe thead th {\n",
       "        text-align: right;\n",
       "    }\n",
       "</style>\n",
       "<table border=\"1\" class=\"dataframe\">\n",
       "  <thead>\n",
       "    <tr style=\"text-align: right;\">\n",
       "      <th></th>\n",
       "      <th>donor</th>\n",
       "      <th>germ_celltype</th>\n",
       "    </tr>\n",
       "  </thead>\n",
       "  <tbody>\n",
       "    <tr>\n",
       "      <th>FCA_GND8047885_CCTCTGAAGTGACATA</th>\n",
       "      <td>F81</td>\n",
       "      <td>PGC</td>\n",
       "    </tr>\n",
       "    <tr>\n",
       "      <th>FCA_GND8047885_CGAACATAGCCGGTAA</th>\n",
       "      <td>F81</td>\n",
       "      <td>PGC</td>\n",
       "    </tr>\n",
       "    <tr>\n",
       "      <th>FCA_GND8047885_TCCACACAGACTAAGT</th>\n",
       "      <td>F81</td>\n",
       "      <td>PGC</td>\n",
       "    </tr>\n",
       "    <tr>\n",
       "      <th>FCA_GND8125925_GGCGACTCATGTAAGA</th>\n",
       "      <td>F87</td>\n",
       "      <td>GC</td>\n",
       "    </tr>\n",
       "    <tr>\n",
       "      <th>FCA_GND8125925_GGGTTGCTCTGTGCAA</th>\n",
       "      <td>F87</td>\n",
       "      <td>GC</td>\n",
       "    </tr>\n",
       "    <tr>\n",
       "      <th>...</th>\n",
       "      <td>...</td>\n",
       "      <td>...</td>\n",
       "    </tr>\n",
       "    <tr>\n",
       "      <th>FCA_GND10375780_TTGCGTCTCGACGGAA</th>\n",
       "      <td>Hrv86</td>\n",
       "      <td>pre_oocyte</td>\n",
       "    </tr>\n",
       "    <tr>\n",
       "      <th>FCA_GND10375780_TTTGCGCCATGCAATC</th>\n",
       "      <td>Hrv86</td>\n",
       "      <td>oogonia_meiotic</td>\n",
       "    </tr>\n",
       "    <tr>\n",
       "      <th>FCA_GND10375780_TTTGCGCTCCCATTTA</th>\n",
       "      <td>Hrv86</td>\n",
       "      <td>oogonia_meiotic</td>\n",
       "    </tr>\n",
       "    <tr>\n",
       "      <th>HCA_F_GON10941968_CTCTACGGTTGATTCG</th>\n",
       "      <td>Hrv99</td>\n",
       "      <td>PGC</td>\n",
       "    </tr>\n",
       "    <tr>\n",
       "      <th>HCA_F_GON10941969_AAGTCTGCAAGGTTCT</th>\n",
       "      <td>Hrv99</td>\n",
       "      <td>PGC</td>\n",
       "    </tr>\n",
       "  </tbody>\n",
       "</table>\n",
       "<p>4200 rows × 2 columns</p>\n",
       "</div>"
      ],
      "text/plain": [
       "                                    donor    germ_celltype\n",
       "FCA_GND8047885_CCTCTGAAGTGACATA       F81              PGC\n",
       "FCA_GND8047885_CGAACATAGCCGGTAA       F81              PGC\n",
       "FCA_GND8047885_TCCACACAGACTAAGT       F81              PGC\n",
       "FCA_GND8125925_GGCGACTCATGTAAGA       F87               GC\n",
       "FCA_GND8125925_GGGTTGCTCTGTGCAA       F87               GC\n",
       "...                                   ...              ...\n",
       "FCA_GND10375780_TTGCGTCTCGACGGAA    Hrv86       pre_oocyte\n",
       "FCA_GND10375780_TTTGCGCCATGCAATC    Hrv86  oogonia_meiotic\n",
       "FCA_GND10375780_TTTGCGCTCCCATTTA    Hrv86  oogonia_meiotic\n",
       "HCA_F_GON10941968_CTCTACGGTTGATTCG  Hrv99              PGC\n",
       "HCA_F_GON10941969_AAGTCTGCAAGGTTCT  Hrv99              PGC\n",
       "\n",
       "[4200 rows x 2 columns]"
      ]
     },
     "execution_count": 17,
     "metadata": {},
     "output_type": "execute_result"
    }
   ],
   "source": [
    "adata.obs"
   ]
  },
  {
   "cell_type": "code",
   "execution_count": 18,
   "metadata": {},
   "outputs": [],
   "source": [
    "for j in adata.var.columns:\n",
    "    if j != 'gene_ids-0':\n",
    "        del adata.var[j]"
   ]
  },
  {
   "cell_type": "code",
   "execution_count": 19,
   "metadata": {},
   "outputs": [
    {
     "data": {
      "text/html": [
       "<div>\n",
       "<style scoped>\n",
       "    .dataframe tbody tr th:only-of-type {\n",
       "        vertical-align: middle;\n",
       "    }\n",
       "\n",
       "    .dataframe tbody tr th {\n",
       "        vertical-align: top;\n",
       "    }\n",
       "\n",
       "    .dataframe thead th {\n",
       "        text-align: right;\n",
       "    }\n",
       "</style>\n",
       "<table border=\"1\" class=\"dataframe\">\n",
       "  <thead>\n",
       "    <tr style=\"text-align: right;\">\n",
       "      <th></th>\n",
       "      <th>gene_ids-0</th>\n",
       "    </tr>\n",
       "  </thead>\n",
       "  <tbody>\n",
       "    <tr>\n",
       "      <th>A1BG</th>\n",
       "      <td>ENSG00000121410</td>\n",
       "    </tr>\n",
       "    <tr>\n",
       "      <th>A1BG-AS1</th>\n",
       "      <td>ENSG00000268895</td>\n",
       "    </tr>\n",
       "    <tr>\n",
       "      <th>A1CF</th>\n",
       "      <td>nan</td>\n",
       "    </tr>\n",
       "    <tr>\n",
       "      <th>A2M</th>\n",
       "      <td>ENSG00000175899</td>\n",
       "    </tr>\n",
       "    <tr>\n",
       "      <th>A2M-AS1</th>\n",
       "      <td>ENSG00000245105</td>\n",
       "    </tr>\n",
       "    <tr>\n",
       "      <th>...</th>\n",
       "      <td>...</td>\n",
       "    </tr>\n",
       "    <tr>\n",
       "      <th>ZXDC</th>\n",
       "      <td>ENSG00000070476</td>\n",
       "    </tr>\n",
       "    <tr>\n",
       "      <th>ZYG11A</th>\n",
       "      <td>ENSG00000203995</td>\n",
       "    </tr>\n",
       "    <tr>\n",
       "      <th>ZYG11B</th>\n",
       "      <td>ENSG00000162378</td>\n",
       "    </tr>\n",
       "    <tr>\n",
       "      <th>ZYX</th>\n",
       "      <td>ENSG00000159840</td>\n",
       "    </tr>\n",
       "    <tr>\n",
       "      <th>ZZEF1</th>\n",
       "      <td>ENSG00000074755</td>\n",
       "    </tr>\n",
       "  </tbody>\n",
       "</table>\n",
       "<p>28820 rows × 1 columns</p>\n",
       "</div>"
      ],
      "text/plain": [
       "               gene_ids-0\n",
       "A1BG      ENSG00000121410\n",
       "A1BG-AS1  ENSG00000268895\n",
       "A1CF                  nan\n",
       "A2M       ENSG00000175899\n",
       "A2M-AS1   ENSG00000245105\n",
       "...                   ...\n",
       "ZXDC      ENSG00000070476\n",
       "ZYG11A    ENSG00000203995\n",
       "ZYG11B    ENSG00000162378\n",
       "ZYX       ENSG00000159840\n",
       "ZZEF1     ENSG00000074755\n",
       "\n",
       "[28820 rows x 1 columns]"
      ]
     },
     "execution_count": 19,
     "metadata": {},
     "output_type": "execute_result"
    }
   ],
   "source": [
    "adata.var"
   ]
  },
  {
   "cell_type": "code",
   "execution_count": 20,
   "metadata": {},
   "outputs": [
    {
     "data": {
      "text/plain": [
       "AnnData object with n_obs × n_vars = 4200 × 28820\n",
       "    obs: 'donor', 'germ_celltype'\n",
       "    var: 'gene_ids-0'"
      ]
     },
     "execution_count": 20,
     "metadata": {},
     "output_type": "execute_result"
    }
   ],
   "source": [
    "adata"
   ]
  },
  {
   "cell_type": "code",
   "execution_count": 21,
   "metadata": {},
   "outputs": [],
   "source": [
    "# Define variables\n",
    "outdir = \"/nfs/team292/vl6/my_MULTIOME_dir/germcells_july2021/\"\n",
    "experiment_prefix = 'germcells_'"
   ]
  },
  {
   "cell_type": "code",
   "execution_count": 22,
   "metadata": {},
   "outputs": [
    {
     "name": "stderr",
     "output_type": "stream",
     "text": [
      "... storing 'germ_celltype' as categorical\n"
     ]
    }
   ],
   "source": [
    "adata.write(outdir + experiment_prefix + \"_RNAseq.h5ad\")"
   ]
  },
  {
   "cell_type": "markdown",
   "metadata": {},
   "source": [
    "#### End of notebook "
   ]
  },
  {
   "cell_type": "code",
   "execution_count": null,
   "metadata": {},
   "outputs": [],
   "source": []
  }
 ],
 "metadata": {
  "kernelspec": {
   "display_name": "atac_env",
   "language": "python",
   "name": "atac_env"
  },
  "language_info": {
   "codemirror_mode": {
    "name": "ipython",
    "version": 3
   },
   "file_extension": ".py",
   "mimetype": "text/x-python",
   "name": "python",
   "nbconvert_exporter": "python",
   "pygments_lexer": "ipython3",
   "version": "3.8.6"
  }
 },
 "nbformat": 4,
 "nbformat_minor": 4
}
