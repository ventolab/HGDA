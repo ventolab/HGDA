{
 "cells": [
  {
   "cell_type": "markdown",
   "metadata": {},
   "source": [
    "## ATAC + MULTIOME (germ cells) - september 2021\n",
    "\n",
    "### Build anndata from cellatac output "
   ]
  },
  {
   "cell_type": "code",
   "execution_count": 1,
   "metadata": {},
   "outputs": [],
   "source": [
    "# Load libraries\n",
    "import pandas as pd \n",
    "import scanpy as sc\n",
    "import numpy as np\n",
    "import scipy.sparse"
   ]
  },
  {
   "cell_type": "code",
   "execution_count": 2,
   "metadata": {},
   "outputs": [],
   "source": [
    "# Define variables\n",
    "outdir = \"/nfs/team292/vl6/my_MULTIOME_dir/germcells_july2021/\"\n",
    "experiment_prefix = 'germcells_'\n",
    "cellatac_outdir = '/lustre/scratch117/cellgen/cellgeni/TIC-atacseq/tic-1138/germ-results200k/'\n"
   ]
  },
  {
   "cell_type": "code",
   "execution_count": 3,
   "metadata": {},
   "outputs": [],
   "source": [
    "input={'cnts': cellatac_outdir + 'peak_matrix/peaks_bc_matrix.mmtx.gz',\n",
    "        \"bcs\": cellatac_outdir + 'peak_matrix/bc.txt',\n",
    "      \"peaks\": cellatac_outdir + 'peak_matrix/peaks.txt',\n",
    "      'clusters': cellatac_outdir + 'qc/seurat-clades.tsv'}\n",
    "\n",
    "output = {\n",
    "    \"cnt_mmtx\":outdir + experiment_prefix + '_ATAC_cisTopic.mmtx',\n",
    "    \"cnt_peaks\":outdir + experiment_prefix + '_ATAC_cisTopic.peaks.tsv',\n",
    "    \"cnt_cells\":outdir + experiment_prefix + '_ATAC_cisTopic.cells.tsv',\n",
    "    \"h5ad\":outdir + experiment_prefix + '_ATAC_raw.h5ad',\n",
    "}"
   ]
  },
  {
   "cell_type": "markdown",
   "metadata": {},
   "source": [
    "#### Make anndata object"
   ]
  },
  {
   "cell_type": "code",
   "execution_count": 4,
   "metadata": {},
   "outputs": [],
   "source": [
    "adata = sc.read_mtx(input[\"cnts\"]).T\n",
    "\n",
    "bc = pd.read_table(input[\"bcs\"], header=None)\n",
    "feat = pd.read_table(input[\"peaks\"], header=None)\n",
    "\n",
    "adata.obs_names = bc[0]\n",
    "adata.var_names = feat[0]"
   ]
  },
  {
   "cell_type": "code",
   "execution_count": 5,
   "metadata": {},
   "outputs": [
    {
     "data": {
      "text/plain": [
       "AnnData object with n_obs × n_vars = 10387 × 173584"
      ]
     },
     "execution_count": 5,
     "metadata": {},
     "output_type": "execute_result"
    }
   ],
   "source": [
    "adata"
   ]
  },
  {
   "cell_type": "code",
   "execution_count": 6,
   "metadata": {},
   "outputs": [
    {
     "data": {
      "text/plain": [
       "05    1878\n",
       "15    1237\n",
       "02    1219\n",
       "01    1164\n",
       "04     957\n",
       "03     720\n",
       "16     429\n",
       "19     416\n",
       "14     414\n",
       "24     351\n",
       "25     293\n",
       "20     292\n",
       "18     228\n",
       "07     216\n",
       "17     148\n",
       "10     120\n",
       "23      94\n",
       "22      46\n",
       "06      39\n",
       "09      38\n",
       "21      33\n",
       "26      18\n",
       "12      15\n",
       "13       9\n",
       "11       7\n",
       "08       6\n",
       "Name: code, dtype: int64"
      ]
     },
     "execution_count": 6,
     "metadata": {},
     "output_type": "execute_result"
    }
   ],
   "source": [
    "# Code from cell barcodes \n",
    "adata.obs['code'] = [name[0:2] for name in adata.obs_names]\n",
    "adata.obs['code'].value_counts(dropna = False)"
   ]
  },
  {
   "cell_type": "code",
   "execution_count": 7,
   "metadata": {},
   "outputs": [
    {
     "data": {
      "text/plain": [
       "FCA_GND10288180      1878\n",
       "HCA_F_GON10687818    1237\n",
       "FCA_GND10288177      1219\n",
       "FCA_GND10288176      1164\n",
       "FCA_GND10288179       957\n",
       "FCA_GND10288178       720\n",
       "HCA_F_GON10687819     429\n",
       "HD_F_GON9479874       416\n",
       "HCA_F_GON10535399     414\n",
       "HD_F_GON9883958       351\n",
       "HD_F_GON9883959       293\n",
       "HD_F_GON9479875       292\n",
       "HD_F_GON9479873       228\n",
       "FCA_GND8768481        216\n",
       "HCA_F_GON10687820     148\n",
       "FCA_GND8768485        120\n",
       "HD_F_GON9883955        94\n",
       "HD_F_GON9525612        46\n",
       "FCA_GND8046539         39\n",
       "FCA_GND8768484         38\n",
       "HD_F_GON9525611        33\n",
       "HD_F_GON9883960        18\n",
       "FCA_GND8795928         15\n",
       "FCA_GND9332157          9\n",
       "FCA_GND8795927          7\n",
       "FCA_GND8768482          6\n",
       "Name: sample, dtype: int64"
      ]
     },
     "execution_count": 7,
     "metadata": {},
     "output_type": "execute_result"
    }
   ],
   "source": [
    "# Sample from code \n",
    "sample_dictionary = {'01' : 'FCA_GND10288176', '02' : 'FCA_GND10288177', '03' : 'FCA_GND10288178', \n",
    "                    '04' : 'FCA_GND10288179', '05' : 'FCA_GND10288180', '06' : 'FCA_GND8046539', \n",
    "                     '07' : 'FCA_GND8768481', '08' : 'FCA_GND8768482', '09' : 'FCA_GND8768484', \n",
    "                     '10' : 'FCA_GND8768485', '11' : 'FCA_GND8795927', '12' : 'FCA_GND8795928', \n",
    "                    '13' : 'FCA_GND9332157', '14' : 'HCA_F_GON10535399', '15' : 'HCA_F_GON10687818', \n",
    "                    '16' : 'HCA_F_GON10687819', '17' : 'HCA_F_GON10687820', '18' : 'HD_F_GON9479873',\n",
    "                    '19' : 'HD_F_GON9479874', '20' : 'HD_F_GON9479875', '21' : 'HD_F_GON9525611',\n",
    "                    '22' : 'HD_F_GON9525612', '23' : 'HD_F_GON9883955', '24' : 'HD_F_GON9883958', \n",
    "                    '25' : 'HD_F_GON9883959', '26' : 'HD_F_GON9883960'}\n",
    "adata.obs['sample'] = adata.obs['code'].map(sample_dictionary) \n",
    "adata.obs['sample'].value_counts(dropna = False)"
   ]
  },
  {
   "cell_type": "code",
   "execution_count": 67,
   "metadata": {},
   "outputs": [
    {
     "data": {
      "text/html": [
       "<div>\n",
       "<style scoped>\n",
       "    .dataframe tbody tr th:only-of-type {\n",
       "        vertical-align: middle;\n",
       "    }\n",
       "\n",
       "    .dataframe tbody tr th {\n",
       "        vertical-align: top;\n",
       "    }\n",
       "\n",
       "    .dataframe thead th {\n",
       "        text-align: right;\n",
       "    }\n",
       "</style>\n",
       "<table border=\"1\" class=\"dataframe\">\n",
       "  <thead>\n",
       "    <tr style=\"text-align: right;\">\n",
       "      <th></th>\n",
       "      <th>code</th>\n",
       "      <th>sample</th>\n",
       "    </tr>\n",
       "  </thead>\n",
       "  <tbody>\n",
       "    <tr>\n",
       "      <th>26-TCGGGACGTCTGATTG-1</th>\n",
       "      <td>26</td>\n",
       "      <td>HD_F_GON9883960</td>\n",
       "    </tr>\n",
       "    <tr>\n",
       "      <th>26-TCTCAGCAGTATACCC-1</th>\n",
       "      <td>26</td>\n",
       "      <td>HD_F_GON9883960</td>\n",
       "    </tr>\n",
       "    <tr>\n",
       "      <th>26-TGAGCCGAGTACAGAT-1</th>\n",
       "      <td>26</td>\n",
       "      <td>HD_F_GON9883960</td>\n",
       "    </tr>\n",
       "    <tr>\n",
       "      <th>26-TGGCCTTCATCCCTCA-1</th>\n",
       "      <td>26</td>\n",
       "      <td>HD_F_GON9883960</td>\n",
       "    </tr>\n",
       "    <tr>\n",
       "      <th>26-TGTGGCGAGACACAAT-1</th>\n",
       "      <td>26</td>\n",
       "      <td>HD_F_GON9883960</td>\n",
       "    </tr>\n",
       "  </tbody>\n",
       "</table>\n",
       "</div>"
      ],
      "text/plain": [
       "                      code           sample\n",
       "26-TCGGGACGTCTGATTG-1   26  HD_F_GON9883960\n",
       "26-TCTCAGCAGTATACCC-1   26  HD_F_GON9883960\n",
       "26-TGAGCCGAGTACAGAT-1   26  HD_F_GON9883960\n",
       "26-TGGCCTTCATCCCTCA-1   26  HD_F_GON9883960\n",
       "26-TGTGGCGAGACACAAT-1   26  HD_F_GON9883960"
      ]
     },
     "execution_count": 67,
     "metadata": {},
     "output_type": "execute_result"
    }
   ],
   "source": [
    "adata.obs.tail()"
   ]
  },
  {
   "cell_type": "code",
   "execution_count": 9,
   "metadata": {},
   "outputs": [
    {
     "data": {
      "text/plain": [
       "female    9033\n",
       "male      1354\n",
       "Name: sex, dtype: int64"
      ]
     },
     "execution_count": 9,
     "metadata": {},
     "output_type": "execute_result"
    }
   ],
   "source": [
    "sex_dictionary = {'HCA_F_GON10535399' : 'female', 'HCA_F_GON10687818' : 'female', 'FCA_GND8046539' : 'female', \n",
    "                    'FCA_GND8768483' : 'female', 'FCA_GND8768484' : 'female', 'FCA_GND8768485' : 'female', \n",
    "                     'HD_F_GON9479873' : 'female', 'HD_F_GON9479874' : 'female', 'HD_F_GON9479875' : 'female', \n",
    "                'HD_F_GON9883959' : 'female', 'HD_F_GON9883960' : 'female', \n",
    "                   'FCA_GND10288176' : 'female', 'FCA_GND10288177' : 'female', 'FCA_GND10288178' : 'female', \n",
    "                    'FCA_GND10288179' : 'female', 'FCA_GND10288180' : 'female', \n",
    "                 'HCA_F_GON10687819' : 'male', 'HCA_F_GON10687820' : 'male', 'FCA_GND8768481' : 'male', \n",
    "                   'FCA_GND8768482' : 'male', 'FCA_GND8768487' : 'male', 'FCA_GND8795927' : 'male',\n",
    "                     'FCA_GND8795928' : 'male', 'HD_F_GON9479872' : 'male', 'HD_F_GON9525611' : 'male', \n",
    "                     'HD_F_GON9525612' : 'male', 'FCA_GND9332157' : 'male', 'HD_F_GON9883958' : 'male',\n",
    "                     'HD_F_GON9883955' : 'male'}\n",
    "adata.obs['sex'] = adata.obs['sample'].map(sex_dictionary)\n",
    "adata.obs['sex'].value_counts(dropna = False)"
   ]
  },
  {
   "cell_type": "code",
   "execution_count": 10,
   "metadata": {},
   "outputs": [
    {
     "data": {
      "text/plain": [
       "20 PCW     2835\n",
       "21 PCW     2752\n",
       "13 PCW     1465\n",
       "14 PCW     1428\n",
       "19 PCW      645\n",
       "8.6 PCW     414\n",
       "18 PCW      293\n",
       "8.8 PCW     148\n",
       "9 PCW       126\n",
       "17 PCW      103\n",
       "12 PCW       94\n",
       "8 PCW        77\n",
       "7 PCW         7\n",
       "Name: stage, dtype: int64"
      ]
     },
     "execution_count": 10,
     "metadata": {},
     "output_type": "execute_result"
    }
   ],
   "source": [
    "stage_dictionary = {'FCA_GND8046539' : '8 PCW', 'FCA_GND8768484' : '8 PCW', 'FCA_GND8768483' : '14 PCW', \n",
    "                    'HD_F_GON9479874' : '14 PCW', 'HD_F_GON9479873' : '13 PCW',\n",
    "                  'HD_F_GON9479875' : '14 PCW', \n",
    "                    'FCA_GND8768485' : '9 PCW', \n",
    "                   'HD_F_GON9883959' : '18 PCW', 'HD_F_GON9883960' : '21 PCW', \n",
    "                   'FCA_GND10288176' : '21 PCW', \n",
    "                 'FCA_GND10288177' : '21 PCW', 'FCA_GND10288178' : '14 PCW', 'FCA_GND10288179' : '20 PCW', \n",
    "                 'FCA_GND10288180' : '20 PCW', 'HCA_F_GON10535399' : '8.6 PCW', 'HCA_F_GON10687818' : '13 PCW',\n",
    "                    'HCA_F_GON10687819' : '19 PCW', 'HCA_F_GON10687820' : '8.8 PCW', 'FCA_GND8768481' : '19 PCW', \n",
    "                   'FCA_GND8768482' : '9 PCW', 'FCA_GND8768487' : '12 PCW', 'FCA_GND8795927' : '7 PCW',\n",
    "                     'FCA_GND8795928' : '12 PCW', 'HD_F_GON9479872' : '15 PCW', 'HD_F_GON9525611' : '12 PCW', \n",
    "                     'HD_F_GON9525612' : '12 PCW', 'FCA_GND9332157' : '17 PCW', 'HD_F_GON9883958' : '21 PCW',\n",
    "                     'HD_F_GON9883955' : '17 PCW'\n",
    "                  }\n",
    "adata.obs['stage'] = adata.obs['sample'].map(stage_dictionary)\n",
    "adata.obs['stage'].value_counts(dropna = False)"
   ]
  },
  {
   "cell_type": "code",
   "execution_count": 11,
   "metadata": {},
   "outputs": [
    {
     "data": {
      "text/plain": [
       "Hrv65    2835\n",
       "Hrv58    2401\n",
       "Hrv91    1237\n",
       "Hrv39     720\n",
       "Hrv50     708\n",
       "Hrv3      645\n",
       "Hrv92     414\n",
       "Hrv54     351\n",
       "Hrv59     293\n",
       "Hrv49     228\n",
       "Hrv41     148\n",
       "Hrv13     120\n",
       "Hrv55      94\n",
       "Hrv15      79\n",
       "F81        39\n",
       "Hrv12      38\n",
       "Hrv18      15\n",
       "Hrv21       9\n",
       "Hrv17       7\n",
       "Hrv10       6\n",
       "Name: individual, dtype: int64"
      ]
     },
     "execution_count": 11,
     "metadata": {},
     "output_type": "execute_result"
    }
   ],
   "source": [
    "individual_dictionary = {'FCA_GND8046539' : 'F81', 'FCA_GND8768484' : 'Hrv12', 'FCA_GND8768483' : 'Hrv11', \n",
    "                    'HD_F_GON9479874' : 'Hrv50', 'HD_F_GON9479871' : 'Hrv39', 'HD_F_GON9479873' : 'Hrv49',\n",
    "                  'HD_F_GON9479875' : 'Hrv50', \n",
    "                    'FCA_GND8768485' : 'Hrv13', \n",
    "                        'HD_F_GON9883959' : 'Hrv59', 'HD_F_GON9883960' : 'Hrv58', \n",
    "                         'FCA_GND10288176' : 'Hrv58', \n",
    "                 'FCA_GND10288177' : 'Hrv58', 'FCA_GND10288178' : 'Hrv39', 'FCA_GND10288179' : 'Hrv65', \n",
    "                 'FCA_GND10288180' : 'Hrv65', 'HCA_F_GON10535399' : 'Hrv92', 'HCA_F_GON10687818' : 'Hrv91', \n",
    "                         'HCA_F_GON10687819' : 'Hrv3', 'HCA_F_GON10687820' : 'Hrv41', 'FCA_GND8768481' : 'Hrv3', \n",
    "                   'FCA_GND8768482' : 'Hrv10', 'FCA_GND8768487' : 'Hrv15', 'FCA_GND8795927' : 'Hrv17',\n",
    "                     'FCA_GND8795928' : 'Hrv18', 'HD_F_GON9479872' : 'Hrv40', 'HD_F_GON9525611' : 'Hrv15', \n",
    "                     'HD_F_GON9525612' : 'Hrv15', 'FCA_GND9332157' : 'Hrv21', 'HD_F_GON9883958' : 'Hrv54',\n",
    "                     'HD_F_GON9883955' : 'Hrv55'\n",
    "                        }\n",
    "adata.obs['individual'] = adata.obs['sample'].map(individual_dictionary)\n",
    "adata.obs['individual'].value_counts(dropna = False)"
   ]
  },
  {
   "cell_type": "code",
   "execution_count": 12,
   "metadata": {},
   "outputs": [
    {
     "data": {
      "text/plain": [
       "AnnData object with n_obs × n_vars = 10387 × 173584\n",
       "    obs: 'code', 'sample', 'sex', 'stage', 'individual'"
      ]
     },
     "execution_count": 12,
     "metadata": {},
     "output_type": "execute_result"
    }
   ],
   "source": [
    "adata"
   ]
  },
  {
   "cell_type": "markdown",
   "metadata": {},
   "source": [
    "#### Load peak annotations (done with R script by Emma)"
   ]
  },
  {
   "cell_type": "code",
   "execution_count": 13,
   "metadata": {},
   "outputs": [],
   "source": [
    "peak_anno_df = pd.read_csv(outdir + \"ATACpeaks_annotation.csv\", index_col=0)\n",
    "peak_anno_df.index = peak_anno_df[\"peak_id\"]\n",
    "peak_anno_df.drop(\"peak_id\",1, inplace=True)\n",
    "adata.var = pd.concat([adata.var, peak_anno_df], 1)"
   ]
  },
  {
   "cell_type": "markdown",
   "metadata": {},
   "source": [
    "#### Save binary data to layers"
   ]
  },
  {
   "cell_type": "code",
   "execution_count": 14,
   "metadata": {},
   "outputs": [
    {
     "data": {
      "text/plain": [
       "AnnData object with n_obs × n_vars = 10387 × 173584\n",
       "    obs: 'code', 'sample', 'sex', 'stage', 'individual'\n",
       "    var: 'peak_width', 'exon', 'gene', 'promoter', 'annotation', 'gene_name', 'gene_id', 'tss_distance', 'ENCODE_blacklist'\n",
       "    layers: 'binary_raw'"
      ]
     },
     "execution_count": 14,
     "metadata": {},
     "output_type": "execute_result"
    }
   ],
   "source": [
    "adata.layers[\"binary_raw\"] = adata.X\n",
    "adata.layers[\"binary_raw\"][adata.layers[\"binary_raw\"] > 1] = 1\n",
    "adata"
   ]
  },
  {
   "cell_type": "code",
   "execution_count": 15,
   "metadata": {},
   "outputs": [
    {
     "data": {
      "text/plain": [
       "AnnData object with n_obs × n_vars = 8901 × 120127\n",
       "    obs: 'cellatac_clusters', 'n_genes_by_counts', 'log1p_n_genes_by_counts', 'total_counts', 'log1p_total_counts', 'pct_counts_in_top_50_genes', 'pct_counts_in_top_100_genes', 'pct_counts_in_top_200_genes', 'pct_counts_in_top_500_genes', 'multiome_GermCells', 'code', 'sample', 'sex', 'stage', 'individual', 'doublet_score', 'doublet_score_0.75', 'leiden', 'leiden_R', 'PGC', 'GC', 'oocyte', 'pre_oocyte', 'oogonia_STRA8', 'oogonia_meiotic', 'pre_spermatogonia', 'max', 'cell_type'\n",
       "    var: 'peak_width', 'exon', 'gene', 'promoter', 'annotation', 'gene_name', 'gene_id', 'tss_distance', 'ENCODE_blacklist', 'n_cells_by_counts', 'mean_counts', 'log1p_mean_counts', 'pct_dropout_by_counts', 'total_counts', 'log1p_total_counts'\n",
       "    uns: 'cell_type_colors', 'cellatac_clusters_colors', 'germ_colors', 'germcells_colors', 'individual_colors', 'leiden', 'leiden_R_colors', 'leiden_colors', 'multiome_GermCells_colors', 'neighbors', 'sample_colors', 'sex_colors', 'stage_colors', 'umap'\n",
       "    obsm: 'X_cistopic_30', 'X_harmony', 'X_umap'\n",
       "    varm: 'peak2gene'\n",
       "    layers: 'binary_raw'\n",
       "    obsp: 'connectivities', 'distances'"
      ]
     },
     "execution_count": 15,
     "metadata": {},
     "output_type": "execute_result"
    }
   ],
   "source": [
    "celltype = sc.read('/nfs/team292/vl6/my_MULTIOME_dir/germcells_july2021/germcells__harmony_ATACwCisTopic.h5ad')\n",
    "celltype"
   ]
  },
  {
   "cell_type": "code",
   "execution_count": 18,
   "metadata": {},
   "outputs": [],
   "source": [
    "adata.obs['cell_type'] = adata.obs_names.map(celltype.obs['cell_type'].to_dict())"
   ]
  },
  {
   "cell_type": "code",
   "execution_count": 20,
   "metadata": {},
   "outputs": [
    {
     "data": {
      "text/plain": [
       "PGC                  3016\n",
       "oogonia_STRA8        2467\n",
       "lowQC/other          1486\n",
       "oogonia_meiotic      1466\n",
       "GC                    903\n",
       "pre_spermatogonia     459\n",
       "oocyte                442\n",
       "pre_oocyte            148\n",
       "Name: cell_type, dtype: int64"
      ]
     },
     "execution_count": 20,
     "metadata": {},
     "output_type": "execute_result"
    }
   ],
   "source": [
    "adata.obs['cell_type'] = adata.obs['cell_type'].fillna('lowQC/other')\n",
    "adata.obs['cell_type'].value_counts(dropna = False)"
   ]
  },
  {
   "cell_type": "code",
   "execution_count": 21,
   "metadata": {},
   "outputs": [
    {
     "name": "stderr",
     "output_type": "stream",
     "text": [
      "... storing 'code' as categorical\n",
      "... storing 'sample' as categorical\n",
      "... storing 'sex' as categorical\n",
      "... storing 'stage' as categorical\n",
      "... storing 'individual' as categorical\n",
      "... storing 'cell_type' as categorical\n",
      "... storing 'annotation' as categorical\n",
      "... storing 'gene_name' as categorical\n",
      "... storing 'gene_id' as categorical\n"
     ]
    }
   ],
   "source": [
    "adata.write('/nfs/team292/vl6/forShaista/germcells_ATAC.h5ad')"
   ]
  },
  {
   "cell_type": "code",
   "execution_count": 22,
   "metadata": {},
   "outputs": [
    {
     "data": {
      "text/plain": [
       "AnnData object with n_obs × n_vars = 10387 × 173584\n",
       "    obs: 'code', 'sample', 'sex', 'stage', 'individual', 'cell_type'\n",
       "    var: 'peak_width', 'exon', 'gene', 'promoter', 'annotation', 'gene_name', 'gene_id', 'tss_distance', 'ENCODE_blacklist'\n",
       "    layers: 'binary_raw'"
      ]
     },
     "execution_count": 22,
     "metadata": {},
     "output_type": "execute_result"
    }
   ],
   "source": [
    "adata"
   ]
  },
  {
   "cell_type": "markdown",
   "metadata": {},
   "source": [
    "#### Load annotations of snRNAseq from MULTIOME samples "
   ]
  },
  {
   "cell_type": "code",
   "execution_count": 70,
   "metadata": {},
   "outputs": [],
   "source": [
    "path_to_multiome = '/nfs/team292/lg18/with_valentina/gonadsV2_revision/'"
   ]
  },
  {
   "cell_type": "markdown",
   "metadata": {},
   "source": [
    "**!!! Library_ATAC has wrong codes, replace them with correct ones**"
   ]
  },
  {
   "cell_type": "code",
   "execution_count": 71,
   "metadata": {},
   "outputs": [
    {
     "data": {
      "text/html": [
       "<div>\n",
       "<style scoped>\n",
       "    .dataframe tbody tr th:only-of-type {\n",
       "        vertical-align: middle;\n",
       "    }\n",
       "\n",
       "    .dataframe tbody tr th {\n",
       "        vertical-align: top;\n",
       "    }\n",
       "\n",
       "    .dataframe thead th {\n",
       "        text-align: right;\n",
       "    }\n",
       "</style>\n",
       "<table border=\"1\" class=\"dataframe\">\n",
       "  <thead>\n",
       "    <tr style=\"text-align: right;\">\n",
       "      <th></th>\n",
       "      <th>Unnamed: 0</th>\n",
       "      <th>n_genes</th>\n",
       "      <th>sample</th>\n",
       "      <th>donor</th>\n",
       "      <th>Library_ATAC</th>\n",
       "      <th>Library_RNA</th>\n",
       "      <th>iRods_path</th>\n",
       "      <th>percent_mito</th>\n",
       "      <th>n_counts</th>\n",
       "      <th>batch</th>\n",
       "      <th>...</th>\n",
       "      <th>bonf_pval</th>\n",
       "      <th>pcw</th>\n",
       "      <th>lineage</th>\n",
       "      <th>celltype_samplespecific</th>\n",
       "      <th>S_score</th>\n",
       "      <th>G2M_score</th>\n",
       "      <th>phase</th>\n",
       "      <th>leiden</th>\n",
       "      <th>leiden_R</th>\n",
       "      <th>celltype</th>\n",
       "    </tr>\n",
       "  </thead>\n",
       "  <tbody>\n",
       "    <tr>\n",
       "      <th>0</th>\n",
       "      <td>HCA_F_GON10535495_AAACCAACACGAATTT</td>\n",
       "      <td>5728</td>\n",
       "      <td>HCA_F_GON10535495</td>\n",
       "      <td>Hrv92</td>\n",
       "      <td>HCA_F_GON10535399</td>\n",
       "      <td>HCA_F_GON10535495</td>\n",
       "      <td>/seq/illumina/cellranger-arc/cellranger-arc101...</td>\n",
       "      <td>0.014532</td>\n",
       "      <td>4735.2485</td>\n",
       "      <td>0</td>\n",
       "      <td>...</td>\n",
       "      <td>1.0</td>\n",
       "      <td>8.6</td>\n",
       "      <td>GermCells</td>\n",
       "      <td>NaN</td>\n",
       "      <td>0.237842</td>\n",
       "      <td>0.087936</td>\n",
       "      <td>S</td>\n",
       "      <td>0</td>\n",
       "      <td>0</td>\n",
       "      <td>PGC</td>\n",
       "    </tr>\n",
       "    <tr>\n",
       "      <th>1</th>\n",
       "      <td>HCA_F_GON10535495_AACCCGCAGTTTGAGC</td>\n",
       "      <td>5456</td>\n",
       "      <td>HCA_F_GON10535495</td>\n",
       "      <td>Hrv92</td>\n",
       "      <td>HCA_F_GON10535399</td>\n",
       "      <td>HCA_F_GON10535495</td>\n",
       "      <td>/seq/illumina/cellranger-arc/cellranger-arc101...</td>\n",
       "      <td>0.017976</td>\n",
       "      <td>4645.2330</td>\n",
       "      <td>0</td>\n",
       "      <td>...</td>\n",
       "      <td>1.0</td>\n",
       "      <td>8.6</td>\n",
       "      <td>GermCells</td>\n",
       "      <td>NaN</td>\n",
       "      <td>0.037234</td>\n",
       "      <td>-0.421033</td>\n",
       "      <td>S</td>\n",
       "      <td>0</td>\n",
       "      <td>0</td>\n",
       "      <td>PGC</td>\n",
       "    </tr>\n",
       "    <tr>\n",
       "      <th>2</th>\n",
       "      <td>HCA_F_GON10535495_AACGACAAGCGGCTGT</td>\n",
       "      <td>5901</td>\n",
       "      <td>HCA_F_GON10535495</td>\n",
       "      <td>Hrv92</td>\n",
       "      <td>HCA_F_GON10535399</td>\n",
       "      <td>HCA_F_GON10535495</td>\n",
       "      <td>/seq/illumina/cellranger-arc/cellranger-arc101...</td>\n",
       "      <td>0.018170</td>\n",
       "      <td>4060.9746</td>\n",
       "      <td>0</td>\n",
       "      <td>...</td>\n",
       "      <td>1.0</td>\n",
       "      <td>8.6</td>\n",
       "      <td>GermCells</td>\n",
       "      <td>NaN</td>\n",
       "      <td>0.114108</td>\n",
       "      <td>4.491824</td>\n",
       "      <td>G2M</td>\n",
       "      <td>0</td>\n",
       "      <td>0</td>\n",
       "      <td>PGC</td>\n",
       "    </tr>\n",
       "    <tr>\n",
       "      <th>3</th>\n",
       "      <td>HCA_F_GON10535495_AACTTAGTCTTGTCCA</td>\n",
       "      <td>6781</td>\n",
       "      <td>HCA_F_GON10535495</td>\n",
       "      <td>Hrv92</td>\n",
       "      <td>HCA_F_GON10535399</td>\n",
       "      <td>HCA_F_GON10535495</td>\n",
       "      <td>/seq/illumina/cellranger-arc/cellranger-arc101...</td>\n",
       "      <td>0.020457</td>\n",
       "      <td>4499.4067</td>\n",
       "      <td>0</td>\n",
       "      <td>...</td>\n",
       "      <td>1.0</td>\n",
       "      <td>8.6</td>\n",
       "      <td>GermCells</td>\n",
       "      <td>NaN</td>\n",
       "      <td>0.002280</td>\n",
       "      <td>6.158810</td>\n",
       "      <td>G2M</td>\n",
       "      <td>0</td>\n",
       "      <td>0</td>\n",
       "      <td>PGC</td>\n",
       "    </tr>\n",
       "    <tr>\n",
       "      <th>4</th>\n",
       "      <td>HCA_F_GON10535495_AAGACCAAGCACCACA</td>\n",
       "      <td>4881</td>\n",
       "      <td>HCA_F_GON10535495</td>\n",
       "      <td>Hrv92</td>\n",
       "      <td>HCA_F_GON10535399</td>\n",
       "      <td>HCA_F_GON10535495</td>\n",
       "      <td>/seq/illumina/cellranger-arc/cellranger-arc101...</td>\n",
       "      <td>0.015051</td>\n",
       "      <td>4630.9404</td>\n",
       "      <td>0</td>\n",
       "      <td>...</td>\n",
       "      <td>1.0</td>\n",
       "      <td>8.6</td>\n",
       "      <td>GermCells</td>\n",
       "      <td>NaN</td>\n",
       "      <td>-0.099797</td>\n",
       "      <td>-0.189805</td>\n",
       "      <td>G1</td>\n",
       "      <td>0</td>\n",
       "      <td>0</td>\n",
       "      <td>PGC</td>\n",
       "    </tr>\n",
       "  </tbody>\n",
       "</table>\n",
       "<p>5 rows × 24 columns</p>\n",
       "</div>"
      ],
      "text/plain": [
       "                           Unnamed: 0  n_genes             sample  donor  \\\n",
       "0  HCA_F_GON10535495_AAACCAACACGAATTT     5728  HCA_F_GON10535495  Hrv92   \n",
       "1  HCA_F_GON10535495_AACCCGCAGTTTGAGC     5456  HCA_F_GON10535495  Hrv92   \n",
       "2  HCA_F_GON10535495_AACGACAAGCGGCTGT     5901  HCA_F_GON10535495  Hrv92   \n",
       "3  HCA_F_GON10535495_AACTTAGTCTTGTCCA     6781  HCA_F_GON10535495  Hrv92   \n",
       "4  HCA_F_GON10535495_AAGACCAAGCACCACA     4881  HCA_F_GON10535495  Hrv92   \n",
       "\n",
       "        Library_ATAC        Library_RNA  \\\n",
       "0  HCA_F_GON10535399  HCA_F_GON10535495   \n",
       "1  HCA_F_GON10535399  HCA_F_GON10535495   \n",
       "2  HCA_F_GON10535399  HCA_F_GON10535495   \n",
       "3  HCA_F_GON10535399  HCA_F_GON10535495   \n",
       "4  HCA_F_GON10535399  HCA_F_GON10535495   \n",
       "\n",
       "                                          iRods_path  percent_mito   n_counts  \\\n",
       "0  /seq/illumina/cellranger-arc/cellranger-arc101...      0.014532  4735.2485   \n",
       "1  /seq/illumina/cellranger-arc/cellranger-arc101...      0.017976  4645.2330   \n",
       "2  /seq/illumina/cellranger-arc/cellranger-arc101...      0.018170  4060.9746   \n",
       "3  /seq/illumina/cellranger-arc/cellranger-arc101...      0.020457  4499.4067   \n",
       "4  /seq/illumina/cellranger-arc/cellranger-arc101...      0.015051  4630.9404   \n",
       "\n",
       "   batch  ...  bonf_pval  pcw    lineage  celltype_samplespecific   S_score  \\\n",
       "0      0  ...        1.0  8.6  GermCells                      NaN  0.237842   \n",
       "1      0  ...        1.0  8.6  GermCells                      NaN  0.037234   \n",
       "2      0  ...        1.0  8.6  GermCells                      NaN  0.114108   \n",
       "3      0  ...        1.0  8.6  GermCells                      NaN  0.002280   \n",
       "4      0  ...        1.0  8.6  GermCells                      NaN -0.099797   \n",
       "\n",
       "   G2M_score phase leiden  leiden_R  celltype  \n",
       "0   0.087936     S      0         0       PGC  \n",
       "1  -0.421033     S      0         0       PGC  \n",
       "2   4.491824   G2M      0         0       PGC  \n",
       "3   6.158810   G2M      0         0       PGC  \n",
       "4  -0.189805    G1      0         0       PGC  \n",
       "\n",
       "[5 rows x 24 columns]"
      ]
     },
     "execution_count": 71,
     "metadata": {},
     "output_type": "execute_result"
    }
   ],
   "source": [
    "germcells_female = pd.read_csv(path_to_multiome + 'multiomics_female_germcells.csv')\n",
    "germcells_female.head()"
   ]
  },
  {
   "cell_type": "code",
   "execution_count": 72,
   "metadata": {},
   "outputs": [
    {
     "data": {
      "text/html": [
       "<div>\n",
       "<style scoped>\n",
       "    .dataframe tbody tr th:only-of-type {\n",
       "        vertical-align: middle;\n",
       "    }\n",
       "\n",
       "    .dataframe tbody tr th {\n",
       "        vertical-align: top;\n",
       "    }\n",
       "\n",
       "    .dataframe thead th {\n",
       "        text-align: right;\n",
       "    }\n",
       "</style>\n",
       "<table border=\"1\" class=\"dataframe\">\n",
       "  <thead>\n",
       "    <tr style=\"text-align: right;\">\n",
       "      <th></th>\n",
       "      <th>Unnamed: 0</th>\n",
       "      <th>n_genes</th>\n",
       "      <th>sample</th>\n",
       "      <th>donor</th>\n",
       "      <th>Library_ATAC</th>\n",
       "      <th>Library_RNA</th>\n",
       "      <th>iRods_path</th>\n",
       "      <th>percent_mito</th>\n",
       "      <th>n_counts</th>\n",
       "      <th>batch</th>\n",
       "      <th>...</th>\n",
       "      <th>bh_pval</th>\n",
       "      <th>bonf_pval</th>\n",
       "      <th>pcw</th>\n",
       "      <th>lineage</th>\n",
       "      <th>celltype_samplespecific</th>\n",
       "      <th>S_score</th>\n",
       "      <th>G2M_score</th>\n",
       "      <th>phase</th>\n",
       "      <th>leiden</th>\n",
       "      <th>celltype</th>\n",
       "    </tr>\n",
       "  </thead>\n",
       "  <tbody>\n",
       "    <tr>\n",
       "      <th>0</th>\n",
       "      <td>HCA_F_GON10713286_AAACGCGCACTGGCCA</td>\n",
       "      <td>5701</td>\n",
       "      <td>HCA_F_GON10713286</td>\n",
       "      <td>Hrv41</td>\n",
       "      <td>HCA_F_GON10687820</td>\n",
       "      <td>HCA_F_GON10713286</td>\n",
       "      <td>/seq/illumina/cellranger-arc/cellranger-arc101...</td>\n",
       "      <td>0.001894</td>\n",
       "      <td>18223.0</td>\n",
       "      <td>0</td>\n",
       "      <td>...</td>\n",
       "      <td>0.901686</td>\n",
       "      <td>1.000000</td>\n",
       "      <td>8.8</td>\n",
       "      <td>GermCells</td>\n",
       "      <td>NaN</td>\n",
       "      <td>1.146592</td>\n",
       "      <td>0.513035</td>\n",
       "      <td>S</td>\n",
       "      <td>2</td>\n",
       "      <td>PGC_mitotic</td>\n",
       "    </tr>\n",
       "    <tr>\n",
       "      <th>1</th>\n",
       "      <td>HCA_F_GON10713286_AACAGCAAGAGGAGGA</td>\n",
       "      <td>6154</td>\n",
       "      <td>HCA_F_GON10713286</td>\n",
       "      <td>Hrv41</td>\n",
       "      <td>HCA_F_GON10687820</td>\n",
       "      <td>HCA_F_GON10713286</td>\n",
       "      <td>/seq/illumina/cellranger-arc/cellranger-arc101...</td>\n",
       "      <td>0.002846</td>\n",
       "      <td>20717.0</td>\n",
       "      <td>0</td>\n",
       "      <td>...</td>\n",
       "      <td>0.901686</td>\n",
       "      <td>1.000000</td>\n",
       "      <td>8.8</td>\n",
       "      <td>GermCells</td>\n",
       "      <td>NaN</td>\n",
       "      <td>0.037504</td>\n",
       "      <td>-0.186892</td>\n",
       "      <td>S</td>\n",
       "      <td>0</td>\n",
       "      <td>PGC</td>\n",
       "    </tr>\n",
       "    <tr>\n",
       "      <th>2</th>\n",
       "      <td>HCA_F_GON10713286_AACAGCAAGCTAAAGG</td>\n",
       "      <td>5009</td>\n",
       "      <td>HCA_F_GON10713286</td>\n",
       "      <td>Hrv41</td>\n",
       "      <td>HCA_F_GON10687820</td>\n",
       "      <td>HCA_F_GON10713286</td>\n",
       "      <td>/seq/illumina/cellranger-arc/cellranger-arc101...</td>\n",
       "      <td>0.001948</td>\n",
       "      <td>15032.0</td>\n",
       "      <td>0</td>\n",
       "      <td>...</td>\n",
       "      <td>0.901686</td>\n",
       "      <td>1.000000</td>\n",
       "      <td>8.8</td>\n",
       "      <td>GermCells</td>\n",
       "      <td>NaN</td>\n",
       "      <td>-0.347650</td>\n",
       "      <td>-0.672939</td>\n",
       "      <td>G1</td>\n",
       "      <td>0</td>\n",
       "      <td>PGC</td>\n",
       "    </tr>\n",
       "    <tr>\n",
       "      <th>3</th>\n",
       "      <td>HCA_F_GON10713286_AACAGCAAGTCAATCA</td>\n",
       "      <td>8263</td>\n",
       "      <td>HCA_F_GON10713286</td>\n",
       "      <td>Hrv41</td>\n",
       "      <td>HCA_F_GON10687820</td>\n",
       "      <td>HCA_F_GON10713286</td>\n",
       "      <td>/seq/illumina/cellranger-arc/cellranger-arc101...</td>\n",
       "      <td>0.003338</td>\n",
       "      <td>38623.0</td>\n",
       "      <td>0</td>\n",
       "      <td>...</td>\n",
       "      <td>0.000037</td>\n",
       "      <td>0.010037</td>\n",
       "      <td>8.8</td>\n",
       "      <td>GermCells</td>\n",
       "      <td>NaN</td>\n",
       "      <td>0.018986</td>\n",
       "      <td>3.420874</td>\n",
       "      <td>G2M</td>\n",
       "      <td>2</td>\n",
       "      <td>PGC_mitotic</td>\n",
       "    </tr>\n",
       "    <tr>\n",
       "      <th>4</th>\n",
       "      <td>HCA_F_GON10713286_AACATCATCCACCCTG</td>\n",
       "      <td>5685</td>\n",
       "      <td>HCA_F_GON10713286</td>\n",
       "      <td>Hrv41</td>\n",
       "      <td>HCA_F_GON10687820</td>\n",
       "      <td>HCA_F_GON10713286</td>\n",
       "      <td>/seq/illumina/cellranger-arc/cellranger-arc101...</td>\n",
       "      <td>0.001917</td>\n",
       "      <td>17283.0</td>\n",
       "      <td>0</td>\n",
       "      <td>...</td>\n",
       "      <td>0.901686</td>\n",
       "      <td>1.000000</td>\n",
       "      <td>8.8</td>\n",
       "      <td>GermCells</td>\n",
       "      <td>NaN</td>\n",
       "      <td>0.281357</td>\n",
       "      <td>-0.657518</td>\n",
       "      <td>S</td>\n",
       "      <td>0</td>\n",
       "      <td>PGC</td>\n",
       "    </tr>\n",
       "  </tbody>\n",
       "</table>\n",
       "<p>5 rows × 23 columns</p>\n",
       "</div>"
      ],
      "text/plain": [
       "                           Unnamed: 0  n_genes             sample  donor  \\\n",
       "0  HCA_F_GON10713286_AAACGCGCACTGGCCA     5701  HCA_F_GON10713286  Hrv41   \n",
       "1  HCA_F_GON10713286_AACAGCAAGAGGAGGA     6154  HCA_F_GON10713286  Hrv41   \n",
       "2  HCA_F_GON10713286_AACAGCAAGCTAAAGG     5009  HCA_F_GON10713286  Hrv41   \n",
       "3  HCA_F_GON10713286_AACAGCAAGTCAATCA     8263  HCA_F_GON10713286  Hrv41   \n",
       "4  HCA_F_GON10713286_AACATCATCCACCCTG     5685  HCA_F_GON10713286  Hrv41   \n",
       "\n",
       "        Library_ATAC        Library_RNA  \\\n",
       "0  HCA_F_GON10687820  HCA_F_GON10713286   \n",
       "1  HCA_F_GON10687820  HCA_F_GON10713286   \n",
       "2  HCA_F_GON10687820  HCA_F_GON10713286   \n",
       "3  HCA_F_GON10687820  HCA_F_GON10713286   \n",
       "4  HCA_F_GON10687820  HCA_F_GON10713286   \n",
       "\n",
       "                                          iRods_path  percent_mito  n_counts  \\\n",
       "0  /seq/illumina/cellranger-arc/cellranger-arc101...      0.001894   18223.0   \n",
       "1  /seq/illumina/cellranger-arc/cellranger-arc101...      0.002846   20717.0   \n",
       "2  /seq/illumina/cellranger-arc/cellranger-arc101...      0.001948   15032.0   \n",
       "3  /seq/illumina/cellranger-arc/cellranger-arc101...      0.003338   38623.0   \n",
       "4  /seq/illumina/cellranger-arc/cellranger-arc101...      0.001917   17283.0   \n",
       "\n",
       "   batch  ...   bh_pval  bonf_pval  pcw    lineage  celltype_samplespecific  \\\n",
       "0      0  ...  0.901686   1.000000  8.8  GermCells                      NaN   \n",
       "1      0  ...  0.901686   1.000000  8.8  GermCells                      NaN   \n",
       "2      0  ...  0.901686   1.000000  8.8  GermCells                      NaN   \n",
       "3      0  ...  0.000037   0.010037  8.8  GermCells                      NaN   \n",
       "4      0  ...  0.901686   1.000000  8.8  GermCells                      NaN   \n",
       "\n",
       "    S_score G2M_score phase  leiden     celltype  \n",
       "0  1.146592  0.513035     S       2  PGC_mitotic  \n",
       "1  0.037504 -0.186892     S       0          PGC  \n",
       "2 -0.347650 -0.672939    G1       0          PGC  \n",
       "3  0.018986  3.420874   G2M       2  PGC_mitotic  \n",
       "4  0.281357 -0.657518     S       0          PGC  \n",
       "\n",
       "[5 rows x 23 columns]"
      ]
     },
     "execution_count": 72,
     "metadata": {},
     "output_type": "execute_result"
    }
   ],
   "source": [
    "germcells_male = pd.read_csv(path_to_multiome + 'multiomics_male_germcells.csv')\n",
    "germcells_male.head()"
   ]
  },
  {
   "cell_type": "code",
   "execution_count": 73,
   "metadata": {},
   "outputs": [
    {
     "data": {
      "text/plain": [
       "FCA_GND10288180      1171\n",
       "HCA_F_GON10687818    1091\n",
       "FCA_GND10288176       942\n",
       "FCA_GND10288177       923\n",
       "FCA_GND10288179       781\n",
       "FCA_GND10288178       533\n",
       "HCA_F_GON10535399     252\n",
       "Name: Library_ATAC, dtype: int64"
      ]
     },
     "execution_count": 73,
     "metadata": {},
     "output_type": "execute_result"
    }
   ],
   "source": [
    "germcells_female['Library_ATAC'].value_counts()"
   ]
  },
  {
   "cell_type": "code",
   "execution_count": 74,
   "metadata": {},
   "outputs": [
    {
     "data": {
      "text/plain": [
       "HCA_F_GON10687819    475\n",
       "HCA_F_GON10687820    194\n",
       "HD_F_GON9525612       38\n",
       "HD_F_GON9525611       32\n",
       "Name: Library_ATAC, dtype: int64"
      ]
     },
     "execution_count": 74,
     "metadata": {},
     "output_type": "execute_result"
    }
   ],
   "source": [
    "germcells_male['Library_ATAC'].value_counts()"
   ]
  },
  {
   "cell_type": "code",
   "execution_count": 75,
   "metadata": {},
   "outputs": [
    {
     "data": {
      "text/plain": [
       "FCA_GND10288180      1171\n",
       "HCA_F_GON10687818    1091\n",
       "FCA_GND10288176       942\n",
       "FCA_GND10288177       923\n",
       "FCA_GND10288179       781\n",
       "FCA_GND10288178       533\n",
       "HCA_F_GON10687819     475\n",
       "HCA_F_GON10535399     252\n",
       "HCA_F_GON10687820     194\n",
       "HD_F_GON9525612        38\n",
       "HD_F_GON9525611        32\n",
       "Name: Library_ATAC, dtype: int64"
      ]
     },
     "execution_count": 75,
     "metadata": {},
     "output_type": "execute_result"
    }
   ],
   "source": [
    "germcells = germcells_female.append(germcells_male)\n",
    "germcells['Library_ATAC'].value_counts(dropna = False)"
   ]
  },
  {
   "cell_type": "code",
   "execution_count": 76,
   "metadata": {},
   "outputs": [],
   "source": [
    "code_correspondence = {'FCA_GND10288180' : '05', 'HCA_F_GON10687818' : '15', 'FCA_GND10288176' : '01', \n",
    "                      'FCA_GND10288177' : '02', 'FCA_GND10288179' : '04', 'FCA_GND10288178' : '03', \n",
    "                      'HCA_F_GON10687819' : '16', 'HCA_F_GON10535399' : '14', 'HCA_F_GON10687820' : '17', \n",
    "                      'HD_F_GON9525612' : '22', 'HD_F_GON9525611' : '21'}"
   ]
  },
  {
   "cell_type": "code",
   "execution_count": 77,
   "metadata": {},
   "outputs": [],
   "source": [
    "germcells['ATAC_code'] = germcells['Library_ATAC'].map(code_correspondence)"
   ]
  },
  {
   "cell_type": "code",
   "execution_count": 78,
   "metadata": {},
   "outputs": [
    {
     "data": {
      "text/plain": [
       "05    1171\n",
       "15    1091\n",
       "01     942\n",
       "02     923\n",
       "04     781\n",
       "03     533\n",
       "16     475\n",
       "14     252\n",
       "17     194\n",
       "22      38\n",
       "21      32\n",
       "Name: ATAC_code, dtype: int64"
      ]
     },
     "execution_count": 78,
     "metadata": {},
     "output_type": "execute_result"
    }
   ],
   "source": [
    "germcells['ATAC_code'].value_counts(dropna = False)"
   ]
  },
  {
   "cell_type": "code",
   "execution_count": 79,
   "metadata": {},
   "outputs": [],
   "source": [
    "germcells['barcode'] = [i.split('_')[-1] for i in germcells['Unnamed: 0']]"
   ]
  },
  {
   "cell_type": "code",
   "execution_count": 80,
   "metadata": {},
   "outputs": [],
   "source": [
    "germcells['ATAC_barcode'] = germcells['ATAC_code'] + '-' + germcells['barcode'] + '-1'"
   ]
  },
  {
   "cell_type": "code",
   "execution_count": 81,
   "metadata": {},
   "outputs": [],
   "source": [
    "adata.obs['multiome_GermCells'] = adata.obs_names.map(pd.Series(germcells.celltype.values,index=germcells.ATAC_barcode).to_dict())\n"
   ]
  },
  {
   "cell_type": "code",
   "execution_count": 82,
   "metadata": {},
   "outputs": [
    {
     "data": {
      "text/plain": [
       "NaN                 4667\n",
       "oogonia_STRA8       2109\n",
       "PGC                 1608\n",
       "oogonia_meiotic     1136\n",
       "preOocyte            294\n",
       "preSpermatogonia     197\n",
       "oocyte               157\n",
       "PGC_mitotic          126\n",
       "GC                    93\n",
       "Name: multiome_GermCells, dtype: int64"
      ]
     },
     "execution_count": 82,
     "metadata": {},
     "output_type": "execute_result"
    }
   ],
   "source": [
    "adata.obs['multiome_GermCells'].value_counts(dropna = False)"
   ]
  },
  {
   "cell_type": "markdown",
   "metadata": {},
   "source": [
    "#### Peak filtering"
   ]
  },
  {
   "cell_type": "code",
   "execution_count": 83,
   "metadata": {},
   "outputs": [
    {
     "data": {
      "text/plain": [
       "array([[<AxesSubplot:title={'center':'peak_width'}>]], dtype=object)"
      ]
     },
     "execution_count": 83,
     "metadata": {},
     "output_type": "execute_result"
    },
    {
     "data": {
      "image/png": "[encoded data removed]",
      "text/plain": [
       "<Figure size 1800x432 with 1 Axes>"
      ]
     },
     "metadata": {
      "needs_background": "light"
     },
     "output_type": "display_data"
    }
   ],
   "source": [
    "adata.var.hist(column = 'peak_width', bins = 200, grid = False, figsize = (25,6), color = '#870052')"
   ]
  },
  {
   "cell_type": "code",
   "execution_count": 84,
   "metadata": {},
   "outputs": [
    {
     "data": {
      "text/plain": [
       "AnnData object with n_obs × n_vars = 10387 × 173584\n",
       "    obs: 'code', 'sample', 'multiome_GermCells'\n",
       "    var: 'peak_width', 'exon', 'gene', 'promoter', 'annotation', 'gene_name', 'gene_id', 'tss_distance', 'ENCODE_blacklist', 'n_cells_by_counts', 'mean_counts', 'log1p_mean_counts', 'pct_dropout_by_counts', 'total_counts', 'log1p_total_counts'\n",
       "    layers: 'binary_raw'"
      ]
     },
     "execution_count": 84,
     "metadata": {},
     "output_type": "execute_result"
    }
   ],
   "source": [
    "var_qc = sc.pp.calculate_qc_metrics(adata, layer = \"binary_raw\")[1]\n",
    "adata.var = pd.concat([adata.var, var_qc], 1)\n",
    "adata"
   ]
  },
  {
   "cell_type": "code",
   "execution_count": 85,
   "metadata": {},
   "outputs": [
    {
     "data": {
      "text/html": [
       "<div>\n",
       "<style scoped>\n",
       "    .dataframe tbody tr th:only-of-type {\n",
       "        vertical-align: middle;\n",
       "    }\n",
       "\n",
       "    .dataframe tbody tr th {\n",
       "        vertical-align: top;\n",
       "    }\n",
       "\n",
       "    .dataframe thead th {\n",
       "        text-align: right;\n",
       "    }\n",
       "</style>\n",
       "<table border=\"1\" class=\"dataframe\">\n",
       "  <thead>\n",
       "    <tr style=\"text-align: right;\">\n",
       "      <th></th>\n",
       "      <th>peak_width</th>\n",
       "      <th>exon</th>\n",
       "      <th>gene</th>\n",
       "      <th>promoter</th>\n",
       "      <th>annotation</th>\n",
       "      <th>gene_name</th>\n",
       "      <th>gene_id</th>\n",
       "      <th>tss_distance</th>\n",
       "      <th>ENCODE_blacklist</th>\n",
       "      <th>n_cells_by_counts</th>\n",
       "      <th>mean_counts</th>\n",
       "      <th>log1p_mean_counts</th>\n",
       "      <th>pct_dropout_by_counts</th>\n",
       "      <th>total_counts</th>\n",
       "      <th>log1p_total_counts</th>\n",
       "    </tr>\n",
       "  </thead>\n",
       "  <tbody>\n",
       "    <tr>\n",
       "      <th>chr1:10051-10498</th>\n",
       "      <td>448</td>\n",
       "      <td>0</td>\n",
       "      <td>0</td>\n",
       "      <td>0</td>\n",
       "      <td>intergenic</td>\n",
       "      <td>NaN</td>\n",
       "      <td>NaN</td>\n",
       "      <td>58592</td>\n",
       "      <td>1</td>\n",
       "      <td>211</td>\n",
       "      <td>0.020314</td>\n",
       "      <td>0.020110</td>\n",
       "      <td>97.968615</td>\n",
       "      <td>211.0</td>\n",
       "      <td>5.356586</td>\n",
       "    </tr>\n",
       "    <tr>\n",
       "      <th>chr1:180726-181621</th>\n",
       "      <td>896</td>\n",
       "      <td>0</td>\n",
       "      <td>0</td>\n",
       "      <td>1</td>\n",
       "      <td>promoter</td>\n",
       "      <td>FO538757.2</td>\n",
       "      <td>ENSG00000279928</td>\n",
       "      <td>771</td>\n",
       "      <td>1</td>\n",
       "      <td>2344</td>\n",
       "      <td>0.225667</td>\n",
       "      <td>0.203485</td>\n",
       "      <td>77.433330</td>\n",
       "      <td>2344.0</td>\n",
       "      <td>7.760041</td>\n",
       "    </tr>\n",
       "    <tr>\n",
       "      <th>chr1:191249-191603</th>\n",
       "      <td>355</td>\n",
       "      <td>0</td>\n",
       "      <td>1</td>\n",
       "      <td>0</td>\n",
       "      <td>intron</td>\n",
       "      <td>FO538757.1</td>\n",
       "      <td>ENSG00000279457</td>\n",
       "      <td>3807</td>\n",
       "      <td>1</td>\n",
       "      <td>130</td>\n",
       "      <td>0.012516</td>\n",
       "      <td>0.012438</td>\n",
       "      <td>98.748436</td>\n",
       "      <td>130.0</td>\n",
       "      <td>4.875197</td>\n",
       "    </tr>\n",
       "    <tr>\n",
       "      <th>chr1:267875-268082</th>\n",
       "      <td>208</td>\n",
       "      <td>0</td>\n",
       "      <td>0</td>\n",
       "      <td>0</td>\n",
       "      <td>intergenic</td>\n",
       "      <td>NaN</td>\n",
       "      <td>NaN</td>\n",
       "      <td>67552</td>\n",
       "      <td>1</td>\n",
       "      <td>66</td>\n",
       "      <td>0.006354</td>\n",
       "      <td>0.006334</td>\n",
       "      <td>99.364590</td>\n",
       "      <td>66.0</td>\n",
       "      <td>4.204693</td>\n",
       "    </tr>\n",
       "    <tr>\n",
       "      <th>chr1:586080-586285</th>\n",
       "      <td>206</td>\n",
       "      <td>0</td>\n",
       "      <td>0</td>\n",
       "      <td>0</td>\n",
       "      <td>intergenic</td>\n",
       "      <td>NaN</td>\n",
       "      <td>NaN</td>\n",
       "      <td>100368</td>\n",
       "      <td>1</td>\n",
       "      <td>48</td>\n",
       "      <td>0.004621</td>\n",
       "      <td>0.004611</td>\n",
       "      <td>99.537884</td>\n",
       "      <td>48.0</td>\n",
       "      <td>3.891820</td>\n",
       "    </tr>\n",
       "  </tbody>\n",
       "</table>\n",
       "</div>"
      ],
      "text/plain": [
       "                    peak_width  exon  gene  promoter  annotation   gene_name  \\\n",
       "chr1:10051-10498           448     0     0         0  intergenic         NaN   \n",
       "chr1:180726-181621         896     0     0         1    promoter  FO538757.2   \n",
       "chr1:191249-191603         355     0     1         0      intron  FO538757.1   \n",
       "chr1:267875-268082         208     0     0         0  intergenic         NaN   \n",
       "chr1:586080-586285         206     0     0         0  intergenic         NaN   \n",
       "\n",
       "                            gene_id  tss_distance  ENCODE_blacklist  \\\n",
       "chr1:10051-10498                NaN         58592                 1   \n",
       "chr1:180726-181621  ENSG00000279928           771                 1   \n",
       "chr1:191249-191603  ENSG00000279457          3807                 1   \n",
       "chr1:267875-268082              NaN         67552                 1   \n",
       "chr1:586080-586285              NaN        100368                 1   \n",
       "\n",
       "                    n_cells_by_counts  mean_counts  log1p_mean_counts  \\\n",
       "chr1:10051-10498                  211     0.020314           0.020110   \n",
       "chr1:180726-181621               2344     0.225667           0.203485   \n",
       "chr1:191249-191603                130     0.012516           0.012438   \n",
       "chr1:267875-268082                 66     0.006354           0.006334   \n",
       "chr1:586080-586285                 48     0.004621           0.004611   \n",
       "\n",
       "                    pct_dropout_by_counts  total_counts  log1p_total_counts  \n",
       "chr1:10051-10498                97.968615         211.0            5.356586  \n",
       "chr1:180726-181621              77.433330        2344.0            7.760041  \n",
       "chr1:191249-191603              98.748436         130.0            4.875197  \n",
       "chr1:267875-268082              99.364590          66.0            4.204693  \n",
       "chr1:586080-586285              99.537884          48.0            3.891820  "
      ]
     },
     "execution_count": 85,
     "metadata": {},
     "output_type": "execute_result"
    }
   ],
   "source": [
    "adata.var.head()"
   ]
  },
  {
   "cell_type": "code",
   "execution_count": 86,
   "metadata": {},
   "outputs": [
    {
     "data": {
      "text/plain": [
       "array([[<AxesSubplot:title={'center':'total_counts'}>]], dtype=object)"
      ]
     },
     "execution_count": 86,
     "metadata": {},
     "output_type": "execute_result"
    },
    {
     "data": {
      "image/png": "[encoded data removed]",
      "text/plain": [
       "<Figure size 1800x432 with 1 Axes>"
      ]
     },
     "metadata": {
      "needs_background": "light"
     },
     "output_type": "display_data"
    }
   ],
   "source": [
    "adata.var.hist(column = 'total_counts', bins = 200, grid = False, figsize = (25,6), color = '#870052')"
   ]
  },
  {
   "cell_type": "code",
   "execution_count": 87,
   "metadata": {},
   "outputs": [
    {
     "name": "stdout",
     "output_type": "stream",
     "text": [
      "30% : 3116.1000000000004\n",
      "0.1% : 10.387\n"
     ]
    }
   ],
   "source": [
    "thirty_percent = len(adata.obs_names) / 100 * 30\n",
    "point_one_percent = len(adata.obs_names) / 100 * 0.1\n",
    "print(\"30% : {}\".format(thirty_percent))\n",
    "print(\"0.1% : {}\".format(point_one_percent))"
   ]
  },
  {
   "cell_type": "code",
   "execution_count": 88,
   "metadata": {},
   "outputs": [
    {
     "data": {
      "text/plain": [
       "View of AnnData object with n_obs × n_vars = 10387 × 173300\n",
       "    obs: 'code', 'sample', 'multiome_GermCells'\n",
       "    var: 'peak_width', 'exon', 'gene', 'promoter', 'annotation', 'gene_name', 'gene_id', 'tss_distance', 'ENCODE_blacklist', 'n_cells_by_counts', 'mean_counts', 'log1p_mean_counts', 'pct_dropout_by_counts', 'total_counts', 'log1p_total_counts'\n",
       "    layers: 'binary_raw'"
      ]
     },
     "execution_count": 88,
     "metadata": {},
     "output_type": "execute_result"
    }
   ],
   "source": [
    "# Accessible in at least k cells\n",
    "adata = adata[:,adata.var.total_counts > point_one_percent]\n",
    "adata = adata[:,adata.var.total_counts < thirty_percent]\n",
    "adata"
   ]
  },
  {
   "cell_type": "code",
   "execution_count": 89,
   "metadata": {},
   "outputs": [
    {
     "data": {
      "text/plain": [
       "View of AnnData object with n_obs × n_vars = 10387 × 172053\n",
       "    obs: 'code', 'sample', 'multiome_GermCells'\n",
       "    var: 'peak_width', 'exon', 'gene', 'promoter', 'annotation', 'gene_name', 'gene_id', 'tss_distance', 'ENCODE_blacklist', 'n_cells_by_counts', 'mean_counts', 'log1p_mean_counts', 'pct_dropout_by_counts', 'total_counts', 'log1p_total_counts'\n",
       "    layers: 'binary_raw'"
      ]
     },
     "execution_count": 89,
     "metadata": {},
     "output_type": "execute_result"
    }
   ],
   "source": [
    "# Remove peaks in ENCODE blacklist\n",
    "adata = adata[:, adata.var.ENCODE_blacklist == 0]\n",
    "adata"
   ]
  },
  {
   "cell_type": "code",
   "execution_count": 90,
   "metadata": {},
   "outputs": [
    {
     "data": {
      "text/plain": [
       "View of AnnData object with n_obs × n_vars = 10387 × 143531\n",
       "    obs: 'code', 'sample', 'multiome_GermCells'\n",
       "    var: 'peak_width', 'exon', 'gene', 'promoter', 'annotation', 'gene_name', 'gene_id', 'tss_distance', 'ENCODE_blacklist', 'n_cells_by_counts', 'mean_counts', 'log1p_mean_counts', 'pct_dropout_by_counts', 'total_counts', 'log1p_total_counts'\n",
       "    layers: 'binary_raw'"
      ]
     },
     "execution_count": 90,
     "metadata": {},
     "output_type": "execute_result"
    }
   ],
   "source": [
    "# Filter by width (remove peaks at the lowest end, closest to min peak width in MACS2)\n",
    "\n",
    "adata = adata[:, adata.var.peak_width > 210]\n",
    "adata = adata[:, adata.var.peak_width < 1500]\n",
    "adata"
   ]
  },
  {
   "cell_type": "code",
   "execution_count": 91,
   "metadata": {},
   "outputs": [
    {
     "data": {
      "text/html": [
       "<div>\n",
       "<style scoped>\n",
       "    .dataframe tbody tr th:only-of-type {\n",
       "        vertical-align: middle;\n",
       "    }\n",
       "\n",
       "    .dataframe tbody tr th {\n",
       "        vertical-align: top;\n",
       "    }\n",
       "\n",
       "    .dataframe thead th {\n",
       "        text-align: right;\n",
       "    }\n",
       "</style>\n",
       "<table border=\"1\" class=\"dataframe\">\n",
       "  <thead>\n",
       "    <tr style=\"text-align: right;\">\n",
       "      <th></th>\n",
       "      <th>peak_width</th>\n",
       "      <th>exon</th>\n",
       "      <th>gene</th>\n",
       "      <th>promoter</th>\n",
       "      <th>annotation</th>\n",
       "      <th>gene_name</th>\n",
       "      <th>gene_id</th>\n",
       "      <th>tss_distance</th>\n",
       "      <th>ENCODE_blacklist</th>\n",
       "      <th>n_cells_by_counts</th>\n",
       "      <th>mean_counts</th>\n",
       "      <th>log1p_mean_counts</th>\n",
       "      <th>pct_dropout_by_counts</th>\n",
       "      <th>total_counts</th>\n",
       "      <th>log1p_total_counts</th>\n",
       "    </tr>\n",
       "  </thead>\n",
       "  <tbody>\n",
       "    <tr>\n",
       "      <th>chr1:818667-818886</th>\n",
       "      <td>220</td>\n",
       "      <td>0</td>\n",
       "      <td>0</td>\n",
       "      <td>0</td>\n",
       "      <td>intergenic</td>\n",
       "      <td>NaN</td>\n",
       "      <td>NaN</td>\n",
       "      <td>105041</td>\n",
       "      <td>0</td>\n",
       "      <td>116</td>\n",
       "      <td>0.011168</td>\n",
       "      <td>0.011106</td>\n",
       "      <td>98.883219</td>\n",
       "      <td>116.0</td>\n",
       "      <td>4.762174</td>\n",
       "    </tr>\n",
       "    <tr>\n",
       "      <th>chr1:827077-827691</th>\n",
       "      <td>615</td>\n",
       "      <td>0</td>\n",
       "      <td>0</td>\n",
       "      <td>0</td>\n",
       "      <td>intergenic</td>\n",
       "      <td>NaN</td>\n",
       "      <td>NaN</td>\n",
       "      <td>96236</td>\n",
       "      <td>0</td>\n",
       "      <td>647</td>\n",
       "      <td>0.062289</td>\n",
       "      <td>0.060426</td>\n",
       "      <td>93.771060</td>\n",
       "      <td>647.0</td>\n",
       "      <td>6.473891</td>\n",
       "    </tr>\n",
       "    <tr>\n",
       "      <th>chr1:869540-870172</th>\n",
       "      <td>633</td>\n",
       "      <td>0</td>\n",
       "      <td>0</td>\n",
       "      <td>0</td>\n",
       "      <td>intergenic</td>\n",
       "      <td>NaN</td>\n",
       "      <td>NaN</td>\n",
       "      <td>53755</td>\n",
       "      <td>0</td>\n",
       "      <td>549</td>\n",
       "      <td>0.052855</td>\n",
       "      <td>0.051505</td>\n",
       "      <td>94.714547</td>\n",
       "      <td>549.0</td>\n",
       "      <td>6.309918</td>\n",
       "    </tr>\n",
       "    <tr>\n",
       "      <th>chr1:876378-877525</th>\n",
       "      <td>1148</td>\n",
       "      <td>0</td>\n",
       "      <td>0</td>\n",
       "      <td>0</td>\n",
       "      <td>intergenic</td>\n",
       "      <td>NaN</td>\n",
       "      <td>NaN</td>\n",
       "      <td>46402</td>\n",
       "      <td>0</td>\n",
       "      <td>324</td>\n",
       "      <td>0.031193</td>\n",
       "      <td>0.030716</td>\n",
       "      <td>96.880716</td>\n",
       "      <td>324.0</td>\n",
       "      <td>5.783825</td>\n",
       "    </tr>\n",
       "    <tr>\n",
       "      <th>chr1:902611-903058</th>\n",
       "      <td>448</td>\n",
       "      <td>0</td>\n",
       "      <td>0</td>\n",
       "      <td>0</td>\n",
       "      <td>intergenic</td>\n",
       "      <td>NaN</td>\n",
       "      <td>NaN</td>\n",
       "      <td>20869</td>\n",
       "      <td>0</td>\n",
       "      <td>272</td>\n",
       "      <td>0.026187</td>\n",
       "      <td>0.025850</td>\n",
       "      <td>97.381342</td>\n",
       "      <td>272.0</td>\n",
       "      <td>5.609472</td>\n",
       "    </tr>\n",
       "  </tbody>\n",
       "</table>\n",
       "</div>"
      ],
      "text/plain": [
       "                    peak_width  exon  gene  promoter  annotation gene_name  \\\n",
       "chr1:818667-818886         220     0     0         0  intergenic       NaN   \n",
       "chr1:827077-827691         615     0     0         0  intergenic       NaN   \n",
       "chr1:869540-870172         633     0     0         0  intergenic       NaN   \n",
       "chr1:876378-877525        1148     0     0         0  intergenic       NaN   \n",
       "chr1:902611-903058         448     0     0         0  intergenic       NaN   \n",
       "\n",
       "                   gene_id  tss_distance  ENCODE_blacklist  n_cells_by_counts  \\\n",
       "chr1:818667-818886     NaN        105041                 0                116   \n",
       "chr1:827077-827691     NaN         96236                 0                647   \n",
       "chr1:869540-870172     NaN         53755                 0                549   \n",
       "chr1:876378-877525     NaN         46402                 0                324   \n",
       "chr1:902611-903058     NaN         20869                 0                272   \n",
       "\n",
       "                    mean_counts  log1p_mean_counts  pct_dropout_by_counts  \\\n",
       "chr1:818667-818886     0.011168           0.011106              98.883219   \n",
       "chr1:827077-827691     0.062289           0.060426              93.771060   \n",
       "chr1:869540-870172     0.052855           0.051505              94.714547   \n",
       "chr1:876378-877525     0.031193           0.030716              96.880716   \n",
       "chr1:902611-903058     0.026187           0.025850              97.381342   \n",
       "\n",
       "                    total_counts  log1p_total_counts  \n",
       "chr1:818667-818886         116.0            4.762174  \n",
       "chr1:827077-827691         647.0            6.473891  \n",
       "chr1:869540-870172         549.0            6.309918  \n",
       "chr1:876378-877525         324.0            5.783825  \n",
       "chr1:902611-903058         272.0            5.609472  "
      ]
     },
     "execution_count": 91,
     "metadata": {},
     "output_type": "execute_result"
    }
   ],
   "source": [
    "adata.var.head()"
   ]
  },
  {
   "cell_type": "code",
   "execution_count": 92,
   "metadata": {},
   "outputs": [
    {
     "data": {
      "text/plain": [
       "intergenic    59525\n",
       "intron        51271\n",
       "exon          27189\n",
       "promoter       5546\n",
       "Name: annotation, dtype: int64"
      ]
     },
     "execution_count": 92,
     "metadata": {},
     "output_type": "execute_result"
    }
   ],
   "source": [
    "adata.var['annotation'].value_counts()"
   ]
  },
  {
   "cell_type": "code",
   "execution_count": 93,
   "metadata": {},
   "outputs": [
    {
     "data": {
      "text/html": [
       "<div>\n",
       "<style scoped>\n",
       "    .dataframe tbody tr th:only-of-type {\n",
       "        vertical-align: middle;\n",
       "    }\n",
       "\n",
       "    .dataframe tbody tr th {\n",
       "        vertical-align: top;\n",
       "    }\n",
       "\n",
       "    .dataframe thead th {\n",
       "        text-align: right;\n",
       "    }\n",
       "</style>\n",
       "<table border=\"1\" class=\"dataframe\">\n",
       "  <thead>\n",
       "    <tr style=\"text-align: right;\">\n",
       "      <th></th>\n",
       "      <th>code</th>\n",
       "      <th>sample</th>\n",
       "      <th>multiome_GermCells</th>\n",
       "    </tr>\n",
       "  </thead>\n",
       "  <tbody>\n",
       "    <tr>\n",
       "      <th>01-AAACAGCCAGCCAGAA-1</th>\n",
       "      <td>01</td>\n",
       "      <td>FCA_GND10288176</td>\n",
       "      <td>oogonia_meiotic</td>\n",
       "    </tr>\n",
       "    <tr>\n",
       "      <th>01-AAACAGCCATCCAGGT-1</th>\n",
       "      <td>01</td>\n",
       "      <td>FCA_GND10288176</td>\n",
       "      <td>oogonia_STRA8</td>\n",
       "    </tr>\n",
       "    <tr>\n",
       "      <th>01-AAACATGCATTGTCCT-1</th>\n",
       "      <td>01</td>\n",
       "      <td>FCA_GND10288176</td>\n",
       "      <td>oogonia_STRA8</td>\n",
       "    </tr>\n",
       "    <tr>\n",
       "      <th>01-AAACCGAAGCTTCCCG-1</th>\n",
       "      <td>01</td>\n",
       "      <td>FCA_GND10288176</td>\n",
       "      <td>preOocyte</td>\n",
       "    </tr>\n",
       "    <tr>\n",
       "      <th>01-AAACCGAAGGCGAATA-1</th>\n",
       "      <td>01</td>\n",
       "      <td>FCA_GND10288176</td>\n",
       "      <td>oogonia_STRA8</td>\n",
       "    </tr>\n",
       "  </tbody>\n",
       "</table>\n",
       "</div>"
      ],
      "text/plain": [
       "                      code           sample multiome_GermCells\n",
       "01-AAACAGCCAGCCAGAA-1   01  FCA_GND10288176    oogonia_meiotic\n",
       "01-AAACAGCCATCCAGGT-1   01  FCA_GND10288176      oogonia_STRA8\n",
       "01-AAACATGCATTGTCCT-1   01  FCA_GND10288176      oogonia_STRA8\n",
       "01-AAACCGAAGCTTCCCG-1   01  FCA_GND10288176          preOocyte\n",
       "01-AAACCGAAGGCGAATA-1   01  FCA_GND10288176      oogonia_STRA8"
      ]
     },
     "execution_count": 93,
     "metadata": {},
     "output_type": "execute_result"
    }
   ],
   "source": [
    "adata.obs.head()"
   ]
  },
  {
   "cell_type": "code",
   "execution_count": 94,
   "metadata": {},
   "outputs": [
    {
     "data": {
      "text/plain": [
       "AnnData object with n_obs × n_vars = 10387 × 143531\n",
       "    obs: 'cellatac_clusters'\n",
       "    var: 'peak_width', 'exon', 'gene', 'promoter', 'annotation', 'gene_name', 'gene_id', 'tss_distance', 'ENCODE_blacklist', 'n_cells_by_counts', 'mean_counts', 'log1p_mean_counts', 'pct_dropout_by_counts', 'total_counts', 'log1p_total_counts'\n",
       "    layers: 'binary_raw'"
      ]
     },
     "execution_count": 94,
     "metadata": {},
     "output_type": "execute_result"
    }
   ],
   "source": [
    "### Filter peaks that are not accessible in at least 5% of cells from a coarse cluster\n",
    "min_frac=0.03\n",
    "# Load cluster information from cellatac outputs\n",
    "clusters = pd.read_table(input[\"clusters\"], header = None, index_col = 0)\n",
    "clusters.columns = [\"cellatac_clusters\"]\n",
    "adata.obs = clusters.loc[adata.obs_names]\n",
    "adata"
   ]
  },
  {
   "cell_type": "code",
   "execution_count": 95,
   "metadata": {},
   "outputs": [
    {
     "data": {
      "text/html": [
       "<div>\n",
       "<style scoped>\n",
       "    .dataframe tbody tr th:only-of-type {\n",
       "        vertical-align: middle;\n",
       "    }\n",
       "\n",
       "    .dataframe tbody tr th {\n",
       "        vertical-align: top;\n",
       "    }\n",
       "\n",
       "    .dataframe thead th {\n",
       "        text-align: right;\n",
       "    }\n",
       "</style>\n",
       "<table border=\"1\" class=\"dataframe\">\n",
       "  <thead>\n",
       "    <tr style=\"text-align: right;\">\n",
       "      <th></th>\n",
       "      <th>cellatac_clusters</th>\n",
       "    </tr>\n",
       "  </thead>\n",
       "  <tbody>\n",
       "    <tr>\n",
       "      <th>01-AAACAGCCAGCCAGAA-1</th>\n",
       "      <td>5</td>\n",
       "    </tr>\n",
       "    <tr>\n",
       "      <th>01-AAACAGCCATCCAGGT-1</th>\n",
       "      <td>3</td>\n",
       "    </tr>\n",
       "    <tr>\n",
       "      <th>01-AAACATGCATTGTCCT-1</th>\n",
       "      <td>3</td>\n",
       "    </tr>\n",
       "    <tr>\n",
       "      <th>01-AAACCGAAGCTTCCCG-1</th>\n",
       "      <td>5</td>\n",
       "    </tr>\n",
       "    <tr>\n",
       "      <th>01-AAACCGAAGGCGAATA-1</th>\n",
       "      <td>3</td>\n",
       "    </tr>\n",
       "  </tbody>\n",
       "</table>\n",
       "</div>"
      ],
      "text/plain": [
       "                       cellatac_clusters\n",
       "01-AAACAGCCAGCCAGAA-1                  5\n",
       "01-AAACAGCCATCCAGGT-1                  3\n",
       "01-AAACATGCATTGTCCT-1                  3\n",
       "01-AAACCGAAGCTTCCCG-1                  5\n",
       "01-AAACCGAAGGCGAATA-1                  3"
      ]
     },
     "execution_count": 95,
     "metadata": {},
     "output_type": "execute_result"
    }
   ],
   "source": [
    "adata.obs.head()"
   ]
  },
  {
   "cell_type": "code",
   "execution_count": 96,
   "metadata": {},
   "outputs": [
    {
     "name": "stderr",
     "output_type": "stream",
     "text": [
      "/opt/conda/envs/atac_env/lib/python3.8/site-packages/IPython/core/interactiveshell.py:3427: SparseEfficiencyWarning: Comparing a sparse matrix with a nonzero scalar using != is inefficient, try using == instead.\n",
      "  exec(code_obj, self.user_global_ns, self.user_ns)\n",
      "/opt/conda/envs/atac_env/lib/python3.8/site-packages/scipy/sparse/_index.py:125: SparseEfficiencyWarning: Changing the sparsity structure of a csr_matrix is expensive. lil_matrix is more efficient.\n",
      "  self._set_arrayXarray(i, j, x)\n"
     ]
    }
   ],
   "source": [
    "n_clusters = len(np.unique(adata.obs[[\"cellatac_clusters\"]]))\n",
    "clus_mat = np.empty([adata.n_obs, n_clusters])\n",
    "for cl in np.unique(adata.obs[[\"cellatac_clusters\"]]):\n",
    "    clus_mat[np.where(adata.obs['cellatac_clusters']==cl)[0],cl] = 1\n",
    "\n",
    "clus_mat = scipy.sparse.csr_matrix(clus_mat)\n",
    "clus_mat[clus_mat != 1 ] = 0"
   ]
  },
  {
   "cell_type": "code",
   "execution_count": 97,
   "metadata": {},
   "outputs": [],
   "source": [
    "cl_peak_mat = np.dot(clus_mat.T, adata.layers[\"binary_raw\"])"
   ]
  },
  {
   "cell_type": "code",
   "execution_count": 98,
   "metadata": {},
   "outputs": [],
   "source": [
    "cl_peak_frac = cl_peak_mat/clus_mat.sum(0).T"
   ]
  },
  {
   "cell_type": "code",
   "execution_count": 99,
   "metadata": {},
   "outputs": [
    {
     "data": {
      "text/plain": [
       "(1, 143531)"
      ]
     },
     "execution_count": 99,
     "metadata": {},
     "output_type": "execute_result"
    }
   ],
   "source": [
    "cl_peak_frac.max(0).shape"
   ]
  },
  {
   "cell_type": "code",
   "execution_count": 100,
   "metadata": {},
   "outputs": [
    {
     "data": {
      "text/plain": [
       "(1, 143531)"
      ]
     },
     "execution_count": 100,
     "metadata": {},
     "output_type": "execute_result"
    }
   ],
   "source": [
    "bool_matrix = cl_peak_frac.max(0) > min_frac\n",
    "bool_matrix.shape"
   ]
  },
  {
   "cell_type": "code",
   "execution_count": 101,
   "metadata": {},
   "outputs": [
    {
     "data": {
      "text/plain": [
       "(143531,)"
      ]
     },
     "execution_count": 101,
     "metadata": {},
     "output_type": "execute_result"
    }
   ],
   "source": [
    "bool_vector = np.squeeze(np.asarray(bool_matrix))\n",
    "bool_vector.shape"
   ]
  },
  {
   "cell_type": "code",
   "execution_count": 102,
   "metadata": {},
   "outputs": [],
   "source": [
    "adata = adata[:, bool_vector]"
   ]
  },
  {
   "cell_type": "code",
   "execution_count": 103,
   "metadata": {},
   "outputs": [
    {
     "data": {
      "text/plain": [
       "View of AnnData object with n_obs × n_vars = 10387 × 120127\n",
       "    obs: 'cellatac_clusters'\n",
       "    var: 'peak_width', 'exon', 'gene', 'promoter', 'annotation', 'gene_name', 'gene_id', 'tss_distance', 'ENCODE_blacklist', 'n_cells_by_counts', 'mean_counts', 'log1p_mean_counts', 'pct_dropout_by_counts', 'total_counts', 'log1p_total_counts'\n",
       "    layers: 'binary_raw'"
      ]
     },
     "execution_count": 103,
     "metadata": {},
     "output_type": "execute_result"
    }
   ],
   "source": [
    "adata"
   ]
  },
  {
   "cell_type": "code",
   "execution_count": 104,
   "metadata": {},
   "outputs": [
    {
     "name": "stderr",
     "output_type": "stream",
     "text": [
      "Trying to set attribute `.obs` of view, copying.\n"
     ]
    }
   ],
   "source": [
    "sc.pp.calculate_qc_metrics(adata, layer = \"binary_raw\", inplace = True)"
   ]
  },
  {
   "cell_type": "code",
   "execution_count": 105,
   "metadata": {},
   "outputs": [
    {
     "data": {
      "text/plain": [
       "array([[<AxesSubplot:title={'center':'log1p_total_counts'}>]],\n",
       "      dtype=object)"
      ]
     },
     "execution_count": 105,
     "metadata": {},
     "output_type": "execute_result"
    },
    {
     "data": {
      "image/png": "[encoded data removed]",
      "text/plain": [
       "<Figure size 1800x432 with 1 Axes>"
      ]
     },
     "metadata": {
      "needs_background": "light"
     },
     "output_type": "display_data"
    }
   ],
   "source": [
    "adata.var.hist(column = 'log1p_total_counts', bins = 200, grid = False, figsize = (25,6), color = '#870052')"
   ]
  },
  {
   "cell_type": "code",
   "execution_count": 106,
   "metadata": {},
   "outputs": [
    {
     "data": {
      "text/plain": [
       "array([[<AxesSubplot:title={'center':'log1p_total_counts'}>]],\n",
       "      dtype=object)"
      ]
     },
     "execution_count": 106,
     "metadata": {},
     "output_type": "execute_result"
    },
    {
     "data": {
      "image/png": "[encoded data removed]",
      "text/plain": [
       "<Figure size 1800x432 with 1 Axes>"
      ]
     },
     "metadata": {
      "needs_background": "light"
     },
     "output_type": "display_data"
    }
   ],
   "source": [
    "adata.obs.hist(column = 'log1p_total_counts', bins = 200, grid = False, figsize = (25,6), color = '#870052')"
   ]
  },
  {
   "cell_type": "code",
   "execution_count": 107,
   "metadata": {},
   "outputs": [],
   "source": [
    "adata.obs['multiome_GermCells'] = adata.obs_names.map(pd.Series(germcells.celltype.values,index=germcells.ATAC_barcode).to_dict())\n"
   ]
  },
  {
   "cell_type": "code",
   "execution_count": 108,
   "metadata": {},
   "outputs": [
    {
     "data": {
      "text/html": [
       "<div>\n",
       "<style scoped>\n",
       "    .dataframe tbody tr th:only-of-type {\n",
       "        vertical-align: middle;\n",
       "    }\n",
       "\n",
       "    .dataframe tbody tr th {\n",
       "        vertical-align: top;\n",
       "    }\n",
       "\n",
       "    .dataframe thead th {\n",
       "        text-align: right;\n",
       "    }\n",
       "</style>\n",
       "<table border=\"1\" class=\"dataframe\">\n",
       "  <thead>\n",
       "    <tr style=\"text-align: right;\">\n",
       "      <th></th>\n",
       "      <th>multiome_GermCells</th>\n",
       "      <th>log1p_total_counts</th>\n",
       "    </tr>\n",
       "  </thead>\n",
       "  <tbody>\n",
       "    <tr>\n",
       "      <th>0</th>\n",
       "      <td>GC</td>\n",
       "      <td>7.292147</td>\n",
       "    </tr>\n",
       "    <tr>\n",
       "      <th>1</th>\n",
       "      <td>PGC</td>\n",
       "      <td>7.383014</td>\n",
       "    </tr>\n",
       "    <tr>\n",
       "      <th>2</th>\n",
       "      <td>PGC_mitotic</td>\n",
       "      <td>7.287230</td>\n",
       "    </tr>\n",
       "    <tr>\n",
       "      <th>3</th>\n",
       "      <td>oocyte</td>\n",
       "      <td>7.215958</td>\n",
       "    </tr>\n",
       "    <tr>\n",
       "      <th>4</th>\n",
       "      <td>oogonia_STRA8</td>\n",
       "      <td>7.463876</td>\n",
       "    </tr>\n",
       "    <tr>\n",
       "      <th>5</th>\n",
       "      <td>oogonia_meiotic</td>\n",
       "      <td>7.869999</td>\n",
       "    </tr>\n",
       "    <tr>\n",
       "      <th>6</th>\n",
       "      <td>preOocyte</td>\n",
       "      <td>7.314049</td>\n",
       "    </tr>\n",
       "    <tr>\n",
       "      <th>7</th>\n",
       "      <td>preSpermatogonia</td>\n",
       "      <td>7.394839</td>\n",
       "    </tr>\n",
       "  </tbody>\n",
       "</table>\n",
       "</div>"
      ],
      "text/plain": [
       "  multiome_GermCells  log1p_total_counts\n",
       "0                 GC            7.292147\n",
       "1                PGC            7.383014\n",
       "2        PGC_mitotic            7.287230\n",
       "3             oocyte            7.215958\n",
       "4      oogonia_STRA8            7.463876\n",
       "5    oogonia_meiotic            7.869999\n",
       "6          preOocyte            7.314049\n",
       "7   preSpermatogonia            7.394839"
      ]
     },
     "execution_count": 108,
     "metadata": {},
     "output_type": "execute_result"
    }
   ],
   "source": [
    "adata.obs.groupby('multiome_GermCells', as_index=False)['log1p_total_counts'].mean()"
   ]
  },
  {
   "cell_type": "code",
   "execution_count": 110,
   "metadata": {},
   "outputs": [],
   "source": [
    "adata.obs['multiome_GermCells'] = adata.obs['multiome_GermCells'].astype(str)"
   ]
  },
  {
   "cell_type": "code",
   "execution_count": 111,
   "metadata": {},
   "outputs": [
    {
     "name": "stderr",
     "output_type": "stream",
     "text": [
      "/opt/conda/envs/atac_env/lib/python3.8/site-packages/anndata/_core/anndata.py:1207: ImplicitModificationWarning: Initializing view as actual.\n",
      "  warnings.warn(\n",
      "Trying to set attribute `.obs` of view, copying.\n",
      "... storing 'multiome_GermCells' as categorical\n",
      "Trying to set attribute `.var` of view, copying.\n",
      "... storing 'annotation' as categorical\n",
      "Trying to set attribute `.var` of view, copying.\n",
      "... storing 'gene_name' as categorical\n",
      "Trying to set attribute `.var` of view, copying.\n",
      "... storing 'gene_id' as categorical\n",
      "WARNING: saving figure to file figures/violin_filtering.pdf\n"
     ]
    },
    {
     "data": {
      "image/png": "[encoded data removed]",
      "text/plain": [
       "<Figure size 538.128x288 with 1 Axes>"
      ]
     },
     "metadata": {
      "needs_background": "light"
     },
     "output_type": "display_data"
    }
   ],
   "source": [
    "sc.pl.violin(adata[[i not in ['nan', 'lowQC', 'Doublet'] for i in adata.obs['multiome_GermCells']]], keys = ['log1p_total_counts'], groupby = 'multiome_GermCells', rotation = 90,\n",
    "            save = '_filtering.pdf')"
   ]
  },
  {
   "cell_type": "code",
   "execution_count": 112,
   "metadata": {},
   "outputs": [
    {
     "data": {
      "text/plain": [
       "View of AnnData object with n_obs × n_vars = 10387 × 120127\n",
       "    obs: 'cellatac_clusters', 'n_genes_by_counts', 'log1p_n_genes_by_counts', 'total_counts', 'log1p_total_counts', 'pct_counts_in_top_50_genes', 'pct_counts_in_top_100_genes', 'pct_counts_in_top_200_genes', 'pct_counts_in_top_500_genes', 'multiome_GermCells'\n",
       "    var: 'peak_width', 'exon', 'gene', 'promoter', 'annotation', 'gene_name', 'gene_id', 'tss_distance', 'ENCODE_blacklist', 'n_cells_by_counts', 'mean_counts', 'log1p_mean_counts', 'pct_dropout_by_counts', 'total_counts', 'log1p_total_counts'\n",
       "    layers: 'binary_raw'"
      ]
     },
     "execution_count": 112,
     "metadata": {},
     "output_type": "execute_result"
    }
   ],
   "source": [
    "bdata = adata[adata.obs.log1p_total_counts >= 3]\n",
    "bdata"
   ]
  },
  {
   "cell_type": "code",
   "execution_count": 113,
   "metadata": {},
   "outputs": [
    {
     "data": {
      "text/plain": [
       "nan                 4667\n",
       "oogonia_STRA8       2109\n",
       "PGC                 1608\n",
       "oogonia_meiotic     1136\n",
       "preOocyte            294\n",
       "preSpermatogonia     197\n",
       "oocyte               157\n",
       "PGC_mitotic          126\n",
       "GC                    93\n",
       "Name: multiome_GermCells, dtype: int64"
      ]
     },
     "execution_count": 113,
     "metadata": {},
     "output_type": "execute_result"
    }
   ],
   "source": [
    "bdata.obs['multiome_GermCells'].value_counts()"
   ]
  },
  {
   "cell_type": "code",
   "execution_count": 114,
   "metadata": {},
   "outputs": [
    {
     "name": "stderr",
     "output_type": "stream",
     "text": [
      "/opt/conda/envs/atac_env/lib/python3.8/site-packages/anndata/_core/anndata.py:1207: ImplicitModificationWarning: Initializing view as actual.\n",
      "  warnings.warn(\n",
      "Trying to set attribute `.obs` of view, copying.\n",
      "... storing 'multiome_GermCells' as categorical\n",
      "Trying to set attribute `.var` of view, copying.\n",
      "... storing 'annotation' as categorical\n",
      "Trying to set attribute `.var` of view, copying.\n",
      "... storing 'gene_name' as categorical\n",
      "Trying to set attribute `.var` of view, copying.\n",
      "... storing 'gene_id' as categorical\n"
     ]
    }
   ],
   "source": [
    "## Write output anndata\n",
    "bdata.write_h5ad(output[\"h5ad\"])"
   ]
  },
  {
   "cell_type": "markdown",
   "metadata": {},
   "source": [
    "#### End of notebook"
   ]
  },
  {
   "cell_type": "code",
   "execution_count": null,
   "metadata": {},
   "outputs": [],
   "source": []
  }
 ],
 "metadata": {
  "kernelspec": {
   "display_name": "atac_env",
   "language": "python",
   "name": "atac_env"
  },
  "language_info": {
   "codemirror_mode": {
    "name": "ipython",
    "version": 3
   },
   "file_extension": ".py",
   "mimetype": "text/x-python",
   "name": "python",
   "nbconvert_exporter": "python",
   "pygments_lexer": "ipython3",
   "version": "3.8.6"
  }
 },
 "nbformat": 4,
 "nbformat_minor": 4
}
