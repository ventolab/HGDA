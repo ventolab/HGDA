{
 "cells": [
  {
   "cell_type": "markdown",
   "metadata": {},
   "source": [
    "## ATAC + MULTIOME GERM CELLS (july 2021)"
   ]
  },
  {
   "cell_type": "markdown",
   "metadata": {},
   "source": [
    "### Convert to Seurat objects for CICERO"
   ]
  },
  {
   "cell_type": "code",
   "execution_count": 1,
   "metadata": {},
   "outputs": [],
   "source": [
    "import numpy as np\n",
    "import scanpy as sc \n",
    "import pandas as pd\n",
    "import anndata\n"
   ]
  },
  {
   "cell_type": "code",
   "execution_count": 2,
   "metadata": {},
   "outputs": [],
   "source": [
    "import rpy2.rinterface_lib.callbacks\n",
    "import logging"
   ]
  },
  {
   "cell_type": "code",
   "execution_count": 3,
   "metadata": {},
   "outputs": [],
   "source": [
    "# Ignore R warning messages\n",
    "#Note: this can be commented out to get more verbose R output\n",
    "rpy2.rinterface_lib.callbacks.logger.setLevel(logging.ERROR)"
   ]
  },
  {
   "cell_type": "code",
   "execution_count": 4,
   "metadata": {},
   "outputs": [
    {
     "name": "stderr",
     "output_type": "stream",
     "text": [
      "WARNING: If you miss a compact list, please try `print_header`!\n"
     ]
    },
    {
     "name": "stdout",
     "output_type": "stream",
     "text": [
      "-----\n",
      "anndata     0.7.5\n",
      "scanpy      1.7.0\n",
      "sinfo       0.3.1\n",
      "-----\n",
      "PIL                 8.1.0\n",
      "anndata             0.7.5\n",
      "anndata2ri          1.0.6\n",
      "backcall            0.2.0\n",
      "cairo               1.20.0\n",
      "cffi                1.14.4\n",
      "constants           NA\n",
      "cycler              0.10.0\n",
      "cython_runtime      NA\n",
      "dateutil            2.8.1\n",
      "decorator           4.4.2\n",
      "get_version         2.1\n",
      "h5py                3.1.0\n",
      "highs_wrapper       NA\n",
      "igraph              0.8.3\n",
      "ipykernel           5.4.3\n",
      "ipython_genutils    0.2.0\n",
      "jedi                0.18.0\n",
      "jinja2              2.11.3\n",
      "joblib              1.0.0\n",
      "kiwisolver          1.3.1\n",
      "legacy_api_wrap     1.2\n",
      "leidenalg           0.8.3\n",
      "llvmlite            0.35.0\n",
      "markupsafe          1.1.1\n",
      "matplotlib          3.3.4\n",
      "mpl_toolkits        NA\n",
      "natsort             7.1.1\n",
      "numba               0.52.0\n",
      "numexpr             2.7.2\n",
      "numpy               1.21.2\n",
      "packaging           20.9\n",
      "pandas              1.2.1\n",
      "parso               0.8.1\n",
      "pexpect             4.8.0\n",
      "pickleshare         0.7.5\n",
      "pkg_resources       NA\n",
      "prompt_toolkit      3.0.14\n",
      "ptyprocess          0.7.0\n",
      "pygments            2.7.4\n",
      "pyparsing           2.4.7\n",
      "pytz                2021.1\n",
      "rpy2                3.4.2\n",
      "scanpy              1.7.0\n",
      "scipy               1.6.0\n",
      "setuptools_scm      NA\n",
      "sinfo               0.3.1\n",
      "six                 1.15.0\n",
      "sklearn             0.24.1\n",
      "storemagic          NA\n",
      "tables              3.6.1\n",
      "texttable           1.6.3\n",
      "tornado             6.1\n",
      "traitlets           5.0.5\n",
      "tzlocal             NA\n",
      "wcwidth             0.2.5\n",
      "zmq                 22.0.2\n",
      "-----\n",
      "IPython             7.20.0\n",
      "jupyter_client      6.1.11\n",
      "jupyter_core        4.7.1\n",
      "-----\n",
      "Python 3.8.6 | packaged by conda-forge | (default, Jan 25 2021, 23:21:18) [GCC 9.3.0]\n",
      "Linux-4.15.0-158-generic-x86_64-with-glibc2.10\n",
      "60 logical CPU cores, x86_64\n",
      "-----\n",
      "Session information updated at 2021-12-21 15:01\n",
      "\n"
     ]
    }
   ],
   "source": [
    "import anndata2ri\n",
    "anndata2ri.activate()\n",
    "sc.logging.print_versions()"
   ]
  },
  {
   "cell_type": "code",
   "execution_count": 5,
   "metadata": {},
   "outputs": [
    {
     "name": "stdout",
     "output_type": "stream",
     "text": [
      "1.0.6\n",
      "0.7.5\n"
     ]
    }
   ],
   "source": [
    "print(anndata2ri.__version__)\n",
    "print(anndata.__version__)"
   ]
  },
  {
   "cell_type": "code",
   "execution_count": 6,
   "metadata": {},
   "outputs": [],
   "source": [
    "%load_ext rpy2.ipython"
   ]
  },
  {
   "cell_type": "code",
   "execution_count": 7,
   "metadata": {},
   "outputs": [],
   "source": [
    "%%R\n",
    "\n",
    "library(Signac)\n",
    "library(Seurat)\n",
    "library(SeuratDisk)\n",
    "library(GenomeInfoDb)\n",
    "library(EnsDb.Hsapiens.v86)\n",
    "library(BSgenome.Hsapiens.UCSC.hg38)\n",
    "library(ensembldb)\n",
    "library(JASPAR2018)\n",
    "library(TFBSTools)\n",
    "library(patchwork)\n",
    "library(universalmotif)\n",
    "library(MotifDb)\n",
    "library(TFBSTools)\n",
    "library(patchwork)\n",
    "library(chromVAR)\n",
    "library(motifmatchr)"
   ]
  },
  {
   "cell_type": "markdown",
   "metadata": {},
   "source": [
    "For future reference most packages were installed here: */tmp/RtmpGjkK1o/downloaded_packages/*"
   ]
  },
  {
   "cell_type": "markdown",
   "metadata": {},
   "source": [
    "**Set directories**"
   ]
  },
  {
   "cell_type": "code",
   "execution_count": 8,
   "metadata": {},
   "outputs": [],
   "source": [
    "# Define variables\n",
    "outdir = \"/nfs/team292/vl6/my_MULTIOME_dir/germcells_july2021/\"\n",
    "experiment_prefix = 'germcells_'"
   ]
  },
  {
   "cell_type": "markdown",
   "metadata": {},
   "source": [
    "#### Convert the h5ad created with cisTopic into a Seurat object with peaks assay"
   ]
  },
  {
   "cell_type": "code",
   "execution_count": 9,
   "metadata": {},
   "outputs": [
    {
     "data": {
      "text/plain": [
       "AnnData object with n_obs × n_vars = 8901 × 120127\n",
       "    obs: 'cellatac_clusters', 'n_genes_by_counts', 'log1p_n_genes_by_counts', 'total_counts', 'log1p_total_counts', 'pct_counts_in_top_50_genes', 'pct_counts_in_top_100_genes', 'pct_counts_in_top_200_genes', 'pct_counts_in_top_500_genes', 'multiome_GermCells', 'code', 'sample', 'sex', 'stage', 'individual', 'doublet_score', 'doublet_score_0.75', 'leiden', 'PGC', 'GC', 'oocyte', 'pre_oocyte', 'GC_mitotic', 'oogonia_STRA8', 'oogonia_meiotic', 'pre_spermatogonia', 'max', 'leiden_R', 'cell_type'\n",
       "    var: 'peak_width', 'exon', 'gene', 'promoter', 'annotation', 'gene_name', 'gene_id', 'tss_distance', 'ENCODE_blacklist', 'n_cells_by_counts', 'mean_counts', 'log1p_mean_counts', 'pct_dropout_by_counts', 'total_counts', 'log1p_total_counts'\n",
       "    uns: 'cell_type_colors', 'cellatac_clusters_colors', 'germ_colors', 'germcells_colors', 'individual_colors', 'leiden', 'leiden_R_colors', 'leiden_colors', 'multiome_GermCells_colors', 'neighbors', 'sample_colors', 'sex_colors', 'stage_colors', 'umap'\n",
       "    obsm: 'X_cistopic_30', 'X_harmony', 'X_umap'\n",
       "    varm: 'peak2gene'\n",
       "    layers: 'binary_raw'\n",
       "    obsp: 'connectivities', 'distances'"
      ]
     },
     "execution_count": 9,
     "metadata": {},
     "output_type": "execute_result"
    }
   ],
   "source": [
    "ATAC_scanpy = sc.read_h5ad(outdir + experiment_prefix + \"_harmony_ATACwCisTopic.h5ad\")\n",
    "ATAC_scanpy"
   ]
  },
  {
   "cell_type": "code",
   "execution_count": 10,
   "metadata": {},
   "outputs": [
    {
     "data": {
      "text/plain": [
       "<8901x120127 sparse matrix of type '<class 'numpy.float32'>'\n",
       "\twith 29789785 stored elements in Compressed Sparse Row format>"
      ]
     },
     "execution_count": 10,
     "metadata": {},
     "output_type": "execute_result"
    }
   ],
   "source": [
    "ATAC_scanpy.X"
   ]
  },
  {
   "cell_type": "code",
   "execution_count": 11,
   "metadata": {},
   "outputs": [
    {
     "data": {
      "text/plain": [
       "<8901x120127 sparse matrix of type '<class 'numpy.float32'>'\n",
       "\twith 29789785 stored elements in Compressed Sparse Row format>"
      ]
     },
     "execution_count": 11,
     "metadata": {},
     "output_type": "execute_result"
    }
   ],
   "source": [
    "binary_raw = ATAC_scanpy.layers['binary_raw']\n",
    "binary_raw"
   ]
  },
  {
   "cell_type": "code",
   "execution_count": 12,
   "metadata": {},
   "outputs": [
    {
     "data": {
      "text/plain": [
       "(8901, 120127)"
      ]
     },
     "execution_count": 12,
     "metadata": {},
     "output_type": "execute_result"
    }
   ],
   "source": [
    "binary_raw.shape"
   ]
  },
  {
   "cell_type": "markdown",
   "metadata": {},
   "source": [
    "Step 1: from sparse matrix (python format) to dgcMatrix (R format)\n",
    "\n",
    "I found this function here: <https://github.com/theislab/anndata2ri/issues/8>"
   ]
  },
  {
   "cell_type": "code",
   "execution_count": 7,
   "metadata": {},
   "outputs": [],
   "source": [
    "import numpy as np\n",
    "from scipy import sparse\n",
    "\n",
    "import rpy2.robjects as ro\n",
    "from rpy2.robjects import pandas2ri, numpy2ri\n",
    "from rpy2.robjects.conversion import localconverter\n",
    "\n",
    "ro.r(\"library(Matrix)\")\n",
    "\n",
    "def csr_to_dgc(csr):\n",
    "    \"\"\"Convert (and transpose) a csr matrix from python to a R dgCMatrix (not sure if type is consistent)\n",
    "    \"\"\"\n",
    "    numeric = ro.r(\"as.numeric\")\n",
    "    with localconverter(ro.default_converter + ro.numpy2ri.converter):\n",
    "        X = ro.r(\"sparseMatrix\")(\n",
    "            i=numeric(csr.indices),\n",
    "            p=numeric(csr.indptr),\n",
    "            x=numeric(csr.data),\n",
    "            dims=list(csr.shape[::-1]),\n",
    "            index1=False\n",
    "        )\n",
    "    return X"
   ]
  },
  {
   "cell_type": "code",
   "execution_count": 10,
   "metadata": {},
   "outputs": [
    {
     "name": "stdout",
     "output_type": "stream",
     "text": [
      "3.4.2\n"
     ]
    }
   ],
   "source": [
    "print(rpy2.__version__)"
   ]
  },
  {
   "cell_type": "code",
   "execution_count": 14,
   "metadata": {},
   "outputs": [
    {
     "data": {
      "text/plain": [
       "<rpy2.robjects.methods.RS4 object at 0x7f642ec6e280> [RTYPES.S4SXP]\n",
       "R classes: ('dgCMatrix',)"
      ]
     },
     "execution_count": 14,
     "metadata": {},
     "output_type": "execute_result"
    }
   ],
   "source": [
    "ATAC_R = csr_to_dgc(binary_raw)\n",
    "ATAC_R"
   ]
  },
  {
   "cell_type": "code",
   "execution_count": 15,
   "metadata": {},
   "outputs": [
    {
     "name": "stdout",
     "output_type": "stream",
     "text": [
      "[1] 120127   8901\n"
     ]
    }
   ],
   "source": [
    "%%R -i ATAC_R -o ATAC_dgT\n",
    "\n",
    "ATAC_dgT <- as(ATAC_R, \"dgTMatrix\")\n",
    "print(dim(ATAC_dgT)) # Check the shape of the matrix "
   ]
  },
  {
   "cell_type": "markdown",
   "metadata": {},
   "source": [
    "Step 2: save metadata per cell and per peak and add colnames and rownames to the peak matrix"
   ]
  },
  {
   "cell_type": "code",
   "execution_count": 16,
   "metadata": {},
   "outputs": [],
   "source": [
    "metadata_cell = ATAC_scanpy.obs\n",
    "metadata_peak = ATAC_scanpy.var\n",
    "layers = ATAC_scanpy.layers\n",
    "reduction_cistopic = ATAC_scanpy.obsm['X_cistopic_30']\n",
    "reduction_umap = ATAC_scanpy.obsm['X_umap']\n",
    "reduction_harmony = ATAC_scanpy.obsm['X_harmony']"
   ]
  },
  {
   "cell_type": "code",
   "execution_count": 17,
   "metadata": {},
   "outputs": [],
   "source": [
    "del ATAC_scanpy.obs['cellatac_clusters']"
   ]
  },
  {
   "cell_type": "code",
   "execution_count": 18,
   "metadata": {},
   "outputs": [],
   "source": [
    "%%R -i ATAC_dgT -i metadata_cell -i metadata_peak \n",
    "\n",
    "rownames(ATAC_dgT) <- rownames(metadata_peak) # Add rownames to peak matrix\n",
    "colnames(ATAC_dgT) <- rownames(metadata_cell) # Add colnames to peak matrix "
   ]
  },
  {
   "cell_type": "code",
   "execution_count": 19,
   "metadata": {},
   "outputs": [
    {
     "name": "stdout",
     "output_type": "stream",
     "text": [
      "[1] \"chr1:818667-818886\" \"chr1:827077-827691\" \"chr1:869540-870172\"\n",
      "[4] \"chr1:876378-877525\" \"chr1:902611-903058\" \"chr1:904097-904383\"\n",
      "[1] \"01-AAACAGCCAGCCAGAA-1\" \"01-AAACAGCCATCCAGGT-1\" \"01-AAACATGCATTGTCCT-1\"\n",
      "[4] \"01-AAACCGAAGCTTCCCG-1\" \"01-AAACCGAAGGCGAATA-1\" \"01-AAACCGAAGTTCCTGC-1\"\n",
      "NULL\n"
     ]
    }
   ],
   "source": [
    "%%R \n",
    "print(head(rownames(ATAC_dgT)))\n",
    "print(head(colnames(ATAC_dgT)))\n",
    "print(names(ATAC_dgT))"
   ]
  },
  {
   "cell_type": "markdown",
   "metadata": {},
   "source": [
    "Step 3: build ChromatinAssay with peaks x cells matrix "
   ]
  },
  {
   "cell_type": "code",
   "execution_count": 20,
   "metadata": {},
   "outputs": [
    {
     "name": "stdout",
     "output_type": "stream",
     "text": [
      "ChromatinAssay data with 120127 features for 8901 cells\n",
      "Variable features: 0 \n",
      "Genome: hg38 \n",
      "Annotation present: FALSE \n",
      "Motifs present: FALSE \n",
      "Fragment files: 0 \n"
     ]
    }
   ],
   "source": [
    "%%R -o chrom_assay \n",
    "\n",
    " chrom_assay <- CreateChromatinAssay(\n",
    "    counts = ATAC_dgT,\n",
    "    sep = c(\":\", \"-\"),\n",
    "    genome = \"hg38\",\n",
    "    ranges = NULL,\n",
    " )\n",
    "chrom_assay"
   ]
  },
  {
   "cell_type": "markdown",
   "metadata": {},
   "source": [
    "Step 4: build Seurat object from chromatin assay "
   ]
  },
  {
   "cell_type": "code",
   "execution_count": 21,
   "metadata": {},
   "outputs": [
    {
     "name": "stdout",
     "output_type": "stream",
     "text": [
      "An object of class Seurat \n",
      "120127 features across 8901 samples within 1 assay \n",
      "Active assay: peaks (120127 features, 0 variable features)\n"
     ]
    }
   ],
   "source": [
    "%%R -o ATAC_Seurat -i metadata_cell\n",
    "\n",
    "ATAC_Seurat <- CreateSeuratObject(\n",
    "    counts = chrom_assay,\n",
    "    assay = \"peaks\",\n",
    "    meta.data = metadata_cell,\n",
    "  )\n",
    "ATAC_Seurat"
   ]
  },
  {
   "cell_type": "code",
   "execution_count": 22,
   "metadata": {},
   "outputs": [
    {
     "name": "stdout",
     "output_type": "stream",
     "text": [
      "\n",
      "  F81  Hrv3 Hrv10 Hrv13 Hrv15 Hrv17 Hrv18 Hrv21 Hrv39 Hrv41 Hrv49 Hrv50 Hrv54 \n",
      "   15   604     5    55    70     2    14     9   660   141   188   542   345 \n",
      "Hrv55 Hrv58 Hrv59 Hrv65 Hrv91 Hrv92 \n",
      "   92  1903   266  2596  1089   305 \n",
      "\n",
      "              PGC                GC     oogonia_STRA8   oogonia_meiotic \n",
      "             3016               903              2467              1466 \n",
      "       pre_oocyte            oocyte pre_spermatogonia \n",
      "              148               442               459 \n"
     ]
    }
   ],
   "source": [
    "%%R \n",
    "print(table(ATAC_Seurat@meta.data$individual))\n",
    "print(table(ATAC_Seurat@meta.data$cell_type))"
   ]
  },
  {
   "cell_type": "markdown",
   "metadata": {},
   "source": [
    "Step 5: Add dimensionality reductions to Seurat object "
   ]
  },
  {
   "cell_type": "code",
   "execution_count": 23,
   "metadata": {},
   "outputs": [],
   "source": [
    "%%R -i reduction_cistopic -i metadata_cell -o reduction_cistopic_2 \n",
    "\n",
    "reduction_cistopic_2 <- data.matrix(reduction_cistopic)\n",
    "key <- \"cisTopic_\"\n",
    "colnames(reduction_cistopic_2) <- paste0(key, 1:ncol(x = reduction_cistopic_2))\n",
    "rownames(reduction_cistopic_2) <- rownames(metadata_cell)\n",
    "#print(head(reduction_cistopic_2))"
   ]
  },
  {
   "cell_type": "code",
   "execution_count": 24,
   "metadata": {},
   "outputs": [],
   "source": [
    "%%R -i reduction_umap -i metadata_cell -o reduction_umap_2 \n",
    "\n",
    "reduction_umap_2 <- data.matrix(reduction_umap)\n",
    "key2 <- \"UMAP_\"\n",
    "colnames(reduction_umap_2) <- paste0(key2, 1:ncol(x = reduction_umap_2))\n",
    "rownames(reduction_umap_2) <- rownames(metadata_cell)\n",
    "#print(head(reduction_umap_2))"
   ]
  },
  {
   "cell_type": "code",
   "execution_count": 25,
   "metadata": {},
   "outputs": [],
   "source": [
    "%%R -i reduction_harmony -i metadata_cell -o reduction_harmony_2 \n",
    "\n",
    "reduction_harmony_2 <- data.matrix(reduction_harmony)\n",
    "key3 <- \"Harmony_\"\n",
    "colnames(reduction_harmony_2) <- paste0(key3, 1:ncol(x = reduction_harmony_2))\n",
    "rownames(reduction_harmony_2) <- rownames(metadata_cell)\n",
    "#print(head(reduction_harmony_2))"
   ]
  },
  {
   "cell_type": "code",
   "execution_count": 26,
   "metadata": {},
   "outputs": [
    {
     "name": "stdout",
     "output_type": "stream",
     "text": [
      "An object of class Seurat \n",
      "120127 features across 8901 samples within 1 assay \n",
      "Active assay: peaks (120127 features, 0 variable features)\n",
      " 3 dimensional reductions calculated: cisTopics, umap, harmony\n"
     ]
    }
   ],
   "source": [
    "%%R \n",
    "\n",
    "ATAC_Seurat@reductions$cisTopics <- CreateDimReducObject(embeddings = reduction_cistopic_2, assay = \"peaks\")\n",
    "ATAC_Seurat@reductions$umap <- CreateDimReducObject(embeddings = reduction_umap_2, assay = \"peaks\")\n",
    "ATAC_Seurat@reductions$harmony <- CreateDimReducObject(embeddings = reduction_harmony_2, assay = \"peaks\")\n",
    "ATAC_Seurat"
   ]
  },
  {
   "cell_type": "markdown",
   "metadata": {},
   "source": [
    "### Save RDS object of germ cells "
   ]
  },
  {
   "cell_type": "code",
   "execution_count": 27,
   "metadata": {},
   "outputs": [],
   "source": [
    "%%R -i outdir -i experiment_prefix\n",
    "\n",
    "saveRDS(ATAC_Seurat, file = paste0(outdir, experiment_prefix, \"_full.rds\"))"
   ]
  },
  {
   "cell_type": "code",
   "execution_count": 28,
   "metadata": {},
   "outputs": [],
   "source": [
    "%%R -i outdir -i experiment_prefix\n",
    "\n",
    "ATAC_Seurat <- readRDS(file = paste0(outdir, experiment_prefix, \"_full.rds\"))"
   ]
  },
  {
   "cell_type": "markdown",
   "metadata": {},
   "source": [
    "## TF motifs with ChromVar"
   ]
  },
  {
   "cell_type": "markdown",
   "metadata": {},
   "source": [
    "#### Add motifs"
   ]
  },
  {
   "cell_type": "code",
   "execution_count": 29,
   "metadata": {},
   "outputs": [
    {
     "name": "stdout",
     "output_type": "stream",
     "text": [
      "[1] 638 147 683\n"
     ]
    }
   ],
   "source": [
    "%%R -o pfm\n",
    "\n",
    "# Get a list of motif position frequency matrices from the JASPAR, HOCOMOCO, HOMER and SwissRegulon databases\n",
    "pfm <- getMatrixSet(\n",
    "  x = JASPAR2018,\n",
    "  opts = list(species = 9606, all_versions = FALSE)\n",
    ")\n",
    "\n",
    "tf_motif_hoco=subset(MotifDb, organism=='Hsapiens' & dataSource=='HOCOMOCOv10')\n",
    "pfmHoco = convert_motifs(tf_motif_hoco, 'TFBSTools-PWMatrix')\n",
    "pfmHoco_names =  sapply(pfmHoco, function(x) x@ID)\n",
    "names(tf_motif_hoco) = pfmHoco_names\n",
    "for (i in 1:length(pfmHoco) ){\n",
    "    # Convert into a PCM\n",
    "    x = t(pfmHoco[[i]]@profileMatrix) - apply(pfmHoco[[i]]@profileMatrix, 2, min) # normalize per column\n",
    "    pfmHoco[[i]]@profileMatrix = round(t(x / apply(x, 1, max))*100) # mulitply x100 and round\n",
    "    class(pfmHoco[[i]]@profileMatrix) <- 'integer'\n",
    "    pfm[[pfmHoco_names[i]]] <- pfmHoco[[i]]\n",
    "}\n",
    "# add data from SwissRegulon                       \n",
    "tf_motif_SwissRegulon=subset(MotifDb, organism=='Hsapiens' & dataSource=='SwissRegulon')\n",
    "pfmSwissRegulon = convert_motifs(tf_motif_SwissRegulon, 'TFBSTools-PWMatrix')\n",
    "pfmSwissRegulon_names =  sapply(pfmSwissRegulon, function(x) x@ID)\n",
    "names(tf_motif_SwissRegulon) = pfmSwissRegulon_names\n",
    "for (i in 1:length(pfmSwissRegulon) ){\n",
    "    # Convert into a PCM\n",
    "    x = t(pfmSwissRegulon[[i]]@profileMatrix) - apply(pfmSwissRegulon[[i]]@profileMatrix, 2, min) # normalize per column\n",
    "    pfmSwissRegulon[[i]]@profileMatrix = round(t(x / apply(x, 1, max))*100) # mulitply x100 and round\n",
    "    class(pfmSwissRegulon[[i]]@profileMatrix) <- 'integer'\n",
    "    pfm[[pfmSwissRegulon_names[i]]] <- pfmSwissRegulon[[i]]\n",
    "}\n",
    "\n",
    "\n",
    "# add data from HOMER                       \n",
    "tf_motif_HOMER=subset(MotifDb, dataSource=='HOMER')\n",
    "pfmHOMER = convert_motifs(tf_motif_HOMER, 'TFBSTools-PWMatrix')\n",
    "pfmHOMER_names =  sapply(pfmHOMER, function(x) x@ID)\n",
    "names(pfmHOMER) = paste0( sapply( strsplit(pfmHOMER_names, '\\\\('), head, 1), '.HOMER')\n",
    "#print(names(pfmHOMER))\n",
    "names(pfmHOMER)[93] = \"FOXL2.HOMER\"\n",
    " \n",
    "pfmHOMER = pfmHOMER[ grep('[a-z]',  names(pfmHOMER), invert = T) ] # remove non-human (lowercase)\n",
    "#print(names(pfmHOMER))\n",
    "\n",
    "for (i in 1:length(pfmHOMER) ){\n",
    "    # Convert into a PCM\n",
    "    x = t(pfmHOMER[[i]]@profileMatrix) - apply(pfmHOMER[[i]]@profileMatrix, 2, min) # normalize per column\n",
    "    pfmHOMER[[i]]@profileMatrix = round(t(x / apply(x, 1, max))*100) # mulitply x100 and round\n",
    "    class(pfmHOMER[[i]]@profileMatrix) <- 'integer'\n",
    "    pfmHOMER[[i]]@name = gsub('.HOMER', '', names(pfmHOMER)[i])\n",
    "    pfm[[names(pfmHOMER)[i]]] <- pfmHOMER[[i]]\n",
    "}\n",
    "\n",
    "\n",
    "# Add name in id\n",
    "idx =  grep('^MA', names(pfm) )\n",
    "for (i in idx ){\n",
    "    pfm[[i]]@ID = paste0(pfm[[i]]@name, '.', pfm[[i]]@ID)\n",
    "    names(pfm)[i] = pfm[[i]]@ID\n",
    "}\n",
    "\n",
    "# remove pcm with NAs\n",
    "pfm = pfm[ ! sapply(pfm, function(x) any(is.na(x@profileMatrix))) ]\n",
    "\n",
    "length(pfm)\n",
    "table(unlist(sapply(pfm, function(x) x@tags$dataSource)))"
   ]
  },
  {
   "cell_type": "markdown",
   "metadata": {},
   "source": [
    "#### Add motifs"
   ]
  },
  {
   "cell_type": "code",
   "execution_count": 30,
   "metadata": {},
   "outputs": [
    {
     "name": "stdout",
     "output_type": "stream",
     "text": [
      "An object of class Seurat \n",
      "120127 features across 8901 samples within 1 assay \n",
      "Active assay: peaks (120127 features, 0 variable features)\n",
      " 3 dimensional reductions calculated: cisTopics, umap, harmony\n"
     ]
    }
   ],
   "source": [
    "%%R -o ATAC_Seurat_withMotifs\n",
    "\n",
    "ATAC_Seurat_withMotifs <- AddMotifs(object = ATAC_Seurat, \n",
    "                         genome= BSgenome.Hsapiens.UCSC.hg38, \n",
    "                         pfm = pfm, \n",
    "                         assay = \"peaks\", \n",
    "                         verbose = TRUE)\n",
    "\n",
    "ATAC_Seurat_withMotifs"
   ]
  },
  {
   "cell_type": "markdown",
   "metadata": {},
   "source": [
    "#### Compute per-cell motif activity scores with chromVar"
   ]
  },
  {
   "cell_type": "code",
   "execution_count": 31,
   "metadata": {},
   "outputs": [
    {
     "name": "stdout",
     "output_type": "stream",
     "text": [
      "An object of class Seurat \n",
      "122047 features across 8901 samples within 2 assays \n",
      "Active assay: peaks (120127 features, 0 variable features)\n",
      " 1 other assay present: chromvar\n",
      " 3 dimensional reductions calculated: cisTopics, umap, harmony\n"
     ]
    }
   ],
   "source": [
    "%%R -o ATAC_Seurat_withChromVar\n",
    "\n",
    "library(BiocParallel)\n",
    "register(SerialParam())\n",
    "ATAC_Seurat_withChromVar <- RunChromVAR(\n",
    "  object = ATAC_Seurat_withMotifs,\n",
    "  genome = BSgenome.Hsapiens.UCSC.hg38,\n",
    "  assay=\"peaks\"\n",
    ")\n",
    "ATAC_Seurat_withChromVar"
   ]
  },
  {
   "cell_type": "code",
   "execution_count": 32,
   "metadata": {},
   "outputs": [],
   "source": [
    "%%R -i outdir -i experiment_prefix\n",
    "\n",
    "saveRDS(ATAC_Seurat_withChromVar, file = paste0(outdir, experiment_prefix, \"_chromVar_binary.rds\"))"
   ]
  },
  {
   "cell_type": "code",
   "execution_count": 33,
   "metadata": {},
   "outputs": [],
   "source": [
    "%%R -i pfm -o motif2names\n",
    "\n",
    "library(dplyr) \n",
    "motif2names <- lapply(pfm, function(x) x@name)\n",
    "names(motif2names) <- sapply(pfm, function(x) x@ID) %>% gsub('_', '-', .)"
   ]
  },
  {
   "cell_type": "code",
   "execution_count": 34,
   "metadata": {},
   "outputs": [],
   "source": [
    "%%R \n",
    "\n",
    "DefaultAssay(ATAC_Seurat_withChromVar) <- \"chromvar\" # Change default assay "
   ]
  },
  {
   "cell_type": "code",
   "execution_count": 35,
   "metadata": {},
   "outputs": [
    {
     "name": "stdout",
     "output_type": "stream",
     "text": [
      "\n",
      "              PGC                GC     oogonia_STRA8   oogonia_meiotic \n",
      "             3016               903              2467              1466 \n",
      "       pre_oocyte            oocyte pre_spermatogonia \n",
      "              148               442               459 \n"
     ]
    }
   ],
   "source": [
    "%%R \n",
    "\n",
    "Idents(ATAC_Seurat_withChromVar) <- ATAC_Seurat_withChromVar@meta.data$cell_type\n",
    "print(table(Idents(ATAC_Seurat_withChromVar)))"
   ]
  },
  {
   "cell_type": "code",
   "execution_count": 36,
   "metadata": {},
   "outputs": [
    {
     "name": "stdout",
     "output_type": "stream",
     "text": [
      "  |                                                  | 0 % ~calculating   |+                                                 | 1 % ~03m 18s       |++                                                | 2 % ~03m 22s       |++                                                | 3 % ~03m 24s       |+++                                               | 4 % ~03m 23s       |+++                                               | 5 % ~03m 22s       |++++                                              | 6 % ~03m 20s       |++++                                              | 7 % ~03m 13s       |+++++                                             | 8 % ~03m 04s       |+++++                                             | 9 % ~02m 56s       |++++++                                            | 10% ~02m 50s       |++++++                                            | 11% ~02m 45s       |+++++++                                           | 12% ~02m 40s       |+++++++                                           | 13% ~02m 38s       |++++++++                                          | 14% ~02m 38s       |++++++++                                          | 15% ~02m 34s       |+++++++++                                         | 16% ~02m 30s       |+++++++++                                         | 17% ~02m 27s       |++++++++++                                        | 18% ~02m 24s       |++++++++++                                        | 19% ~02m 21s       |+++++++++++                                       | 20% ~02m 18s       |+++++++++++                                       | 21% ~02m 15s       |++++++++++++                                      | 22% ~02m 13s       |++++++++++++                                      | 23% ~02m 11s       |+++++++++++++                                     | 24% ~02m 09s       |+++++++++++++                                     | 26% ~02m 07s       |++++++++++++++                                    | 27% ~02m 05s       |++++++++++++++                                    | 28% ~02m 03s       |+++++++++++++++                                   | 29% ~02m 01s       |+++++++++++++++                                   | 30% ~01m 60s       |++++++++++++++++                                  | 31% ~01m 58s       |++++++++++++++++                                  | 32% ~01m 55s       |+++++++++++++++++                                 | 33% ~01m 52s       |+++++++++++++++++                                 | 34% ~01m 48s       |++++++++++++++++++                                | 35% ~01m 46s       |++++++++++++++++++                                | 36% ~01m 44s       |+++++++++++++++++++                               | 37% ~01m 42s       |+++++++++++++++++++                               | 38% ~01m 40s       |++++++++++++++++++++                              | 39% ~01m 38s       |++++++++++++++++++++                              | 40% ~01m 36s       |+++++++++++++++++++++                             | 41% ~01m 34s       |+++++++++++++++++++++                             | 42% ~01m 32s       |++++++++++++++++++++++                            | 43% ~01m 30s       |++++++++++++++++++++++                            | 44% ~01m 29s       |+++++++++++++++++++++++                           | 45% ~01m 27s       |+++++++++++++++++++++++                           | 46% ~01m 25s       |++++++++++++++++++++++++                          | 47% ~01m 24s       |++++++++++++++++++++++++                          | 48% ~01m 23s       |+++++++++++++++++++++++++                         | 49% ~01m 22s       |+++++++++++++++++++++++++                         | 50% ~01m 20s       |++++++++++++++++++++++++++                        | 51% ~01m 18s       |+++++++++++++++++++++++++++                       | 52% ~01m 17s       |+++++++++++++++++++++++++++                       | 53% ~01m 15s       |++++++++++++++++++++++++++++                      | 54% ~01m 12s       |++++++++++++++++++++++++++++                      | 55% ~01m 11s       |+++++++++++++++++++++++++++++                     | 56% ~01m 09s       |+++++++++++++++++++++++++++++                     | 57% ~01m 07s       |++++++++++++++++++++++++++++++                    | 58% ~01m 05s       |++++++++++++++++++++++++++++++                    | 59% ~01m 04s       |+++++++++++++++++++++++++++++++                   | 60% ~01m 03s       |+++++++++++++++++++++++++++++++                   | 61% ~01m 01s       |++++++++++++++++++++++++++++++++                  | 62% ~59s           |++++++++++++++++++++++++++++++++                  | 63% ~58s           |+++++++++++++++++++++++++++++++++                 | 64% ~56s           |+++++++++++++++++++++++++++++++++                 | 65% ~55s           |++++++++++++++++++++++++++++++++++                | 66% ~53s           |++++++++++++++++++++++++++++++++++                | 67% ~51s           |+++++++++++++++++++++++++++++++++++               | 68% ~50s           |+++++++++++++++++++++++++++++++++++               | 69% ~48s           |++++++++++++++++++++++++++++++++++++              | 70% ~47s           |++++++++++++++++++++++++++++++++++++              | 71% ~45s           |+++++++++++++++++++++++++++++++++++++             | 72% ~43s           |+++++++++++++++++++++++++++++++++++++             | 73% ~42s           |++++++++++++++++++++++++++++++++++++++            | 74% ~40s           |++++++++++++++++++++++++++++++++++++++            | 76% ~38s           |+++++++++++++++++++++++++++++++++++++++           | 77% ~37s           |+++++++++++++++++++++++++++++++++++++++           | 78% ~35s           |++++++++++++++++++++++++++++++++++++++++          | 79% ~34s           |++++++++++++++++++++++++++++++++++++++++          | 80% ~32s           |+++++++++++++++++++++++++++++++++++++++++         | 81% ~31s           |+++++++++++++++++++++++++++++++++++++++++         | 82% ~29s           |++++++++++++++++++++++++++++++++++++++++++        | 83% ~28s           |++++++++++++++++++++++++++++++++++++++++++        | 84% ~26s           |+++++++++++++++++++++++++++++++++++++++++++       | 85% ~24s           |+++++++++++++++++++++++++++++++++++++++++++       | 86% ~23s           |++++++++++++++++++++++++++++++++++++++++++++      | 87% ~21s           |++++++++++++++++++++++++++++++++++++++++++++      | 88% ~20s           |+++++++++++++++++++++++++++++++++++++++++++++     | 89% ~18s           |+++++++++++++++++++++++++++++++++++++++++++++     | 90% ~16s           |++++++++++++++++++++++++++++++++++++++++++++++    | 91% ~15s           |++++++++++++++++++++++++++++++++++++++++++++++    | 92% ~13s           |+++++++++++++++++++++++++++++++++++++++++++++++   | 93% ~11s           |+++++++++++++++++++++++++++++++++++++++++++++++   | 94% ~10s           |++++++++++++++++++++++++++++++++++++++++++++++++  | 95% ~08s           |++++++++++++++++++++++++++++++++++++++++++++++++  | 96% ~06s           |+++++++++++++++++++++++++++++++++++++++++++++++++ | 97% ~05s           |+++++++++++++++++++++++++++++++++++++++++++++++++ | 98% ~03s           |++++++++++++++++++++++++++++++++++++++++++++++++++| 99% ~02s           |++++++++++++++++++++++++++++++++++++++++++++++++++| 100% elapsed=02m 34s\n",
      "  |                                                  | 0 % ~calculating   |+                                                 | 1 % ~02m 26s       |++                                                | 2 % ~02m 40s       |++                                                | 3 % ~02m 46s       |+++                                               | 4 % ~02m 52s       |+++                                               | 5 % ~02m 46s       |++++                                              | 6 % ~02m 42s       |++++                                              | 7 % ~02m 40s       |+++++                                             | 8 % ~02m 37s       |+++++                                             | 9 % ~02m 28s       |++++++                                            | 10% ~02m 19s       |++++++                                            | 11% ~02m 14s       |+++++++                                           | 12% ~02m 13s       |+++++++                                           | 13% ~02m 12s       |++++++++                                          | 14% ~02m 12s       |++++++++                                          | 15% ~02m 12s       |+++++++++                                         | 16% ~02m 12s       |+++++++++                                         | 17% ~02m 11s       |++++++++++                                        | 18% ~02m 09s       |++++++++++                                        | 19% ~02m 07s       |+++++++++++                                       | 20% ~02m 06s       |+++++++++++                                       | 21% ~02m 04s       |++++++++++++                                      | 22% ~02m 02s       |++++++++++++                                      | 23% ~02m 00s       |+++++++++++++                                     | 24% ~02m 00s       |+++++++++++++                                     | 26% ~01m 58s       |++++++++++++++                                    | 27% ~01m 57s       |++++++++++++++                                    | 28% ~01m 55s       |+++++++++++++++                                   | 29% ~01m 53s       |+++++++++++++++                                   | 30% ~01m 52s       |++++++++++++++++                                  | 31% ~01m 50s       |++++++++++++++++                                  | 32% ~01m 48s       |+++++++++++++++++                                 | 33% ~01m 47s       |+++++++++++++++++                                 | 34% ~01m 46s       |++++++++++++++++++                                | 35% ~01m 44s       |++++++++++++++++++                                | 36% ~01m 43s       |+++++++++++++++++++                               | 37% ~01m 42s       |+++++++++++++++++++                               | 38% ~01m 41s       |++++++++++++++++++++                              | 39% ~01m 39s       |++++++++++++++++++++                              | 40% ~01m 37s       |+++++++++++++++++++++                             | 41% ~01m 35s       |+++++++++++++++++++++                             | 42% ~01m 33s       |++++++++++++++++++++++                            | 43% ~01m 31s       |++++++++++++++++++++++                            | 44% ~01m 30s       |+++++++++++++++++++++++                           | 45% ~01m 28s       |+++++++++++++++++++++++                           | 46% ~01m 27s       |++++++++++++++++++++++++                          | 47% ~01m 25s       |++++++++++++++++++++++++                          | 48% ~01m 24s       |+++++++++++++++++++++++++                         | 49% ~01m 22s       |+++++++++++++++++++++++++                         | 50% ~01m 21s       |++++++++++++++++++++++++++                        | 51% ~01m 19s       |+++++++++++++++++++++++++++                       | 52% ~01m 18s       |+++++++++++++++++++++++++++                       | 53% ~01m 17s       |++++++++++++++++++++++++++++                      | 54% ~01m 15s       |++++++++++++++++++++++++++++                      | 55% ~01m 14s       |+++++++++++++++++++++++++++++                     | 56% ~01m 13s       |+++++++++++++++++++++++++++++                     | 57% ~01m 11s       |++++++++++++++++++++++++++++++                    | 58% ~01m 10s       |++++++++++++++++++++++++++++++                    | 59% ~01m 08s       |+++++++++++++++++++++++++++++++                   | 60% ~01m 06s       |+++++++++++++++++++++++++++++++                   | 61% ~01m 04s       |++++++++++++++++++++++++++++++++                  | 62% ~01m 03s       |++++++++++++++++++++++++++++++++                  | 63% ~01m 01s       |+++++++++++++++++++++++++++++++++                 | 64% ~59s           |+++++++++++++++++++++++++++++++++                 | 65% ~57s           |++++++++++++++++++++++++++++++++++                | 66% ~56s           |++++++++++++++++++++++++++++++++++                | 67% ~54s           |+++++++++++++++++++++++++++++++++++               | 68% ~52s           |+++++++++++++++++++++++++++++++++++               | 69% ~51s           |++++++++++++++++++++++++++++++++++++              | 70% ~49s           |++++++++++++++++++++++++++++++++++++              | 71% ~48s           |+++++++++++++++++++++++++++++++++++++             | 72% ~46s           |+++++++++++++++++++++++++++++++++++++             | 73% ~44s           |++++++++++++++++++++++++++++++++++++++            | 74% ~43s           |++++++++++++++++++++++++++++++++++++++            | 76% ~41s           |+++++++++++++++++++++++++++++++++++++++           | 77% ~39s           |+++++++++++++++++++++++++++++++++++++++           | 78% ~37s           |++++++++++++++++++++++++++++++++++++++++          | 79% ~36s           |++++++++++++++++++++++++++++++++++++++++          | 80% ~34s           |+++++++++++++++++++++++++++++++++++++++++         | 81% ~32s           |+++++++++++++++++++++++++++++++++++++++++         | 82% ~30s           |++++++++++++++++++++++++++++++++++++++++++        | 83% ~29s           |++++++++++++++++++++++++++++++++++++++++++        | 84% ~27s           |+++++++++++++++++++++++++++++++++++++++++++       | 85% ~25s           |+++++++++++++++++++++++++++++++++++++++++++       | 86% ~24s           |++++++++++++++++++++++++++++++++++++++++++++      | 87% ~22s           |++++++++++++++++++++++++++++++++++++++++++++      | 88% ~20s           |+++++++++++++++++++++++++++++++++++++++++++++     | 89% ~19s           |+++++++++++++++++++++++++++++++++++++++++++++     | 90% ~17s           |++++++++++++++++++++++++++++++++++++++++++++++    | 91% ~15s           |++++++++++++++++++++++++++++++++++++++++++++++    | 92% ~14s           |+++++++++++++++++++++++++++++++++++++++++++++++   | 93% ~12s           |+++++++++++++++++++++++++++++++++++++++++++++++   | 94% ~10s           |++++++++++++++++++++++++++++++++++++++++++++++++  | 95% ~09s           |++++++++++++++++++++++++++++++++++++++++++++++++  | 96% ~07s           |+++++++++++++++++++++++++++++++++++++++++++++++++ | 97% ~05s           |+++++++++++++++++++++++++++++++++++++++++++++++++ | 98% ~03s           |++++++++++++++++++++++++++++++++++++++++++++++++++| 99% ~02s           |++++++++++++++++++++++++++++++++++++++++++++++++++| 100% elapsed=02m 48s\n",
      "  |                                                  | 0 % ~calculating   |+                                                 | 1 % ~02m 39s       |++                                                | 2 % ~02m 38s       |++                                                | 3 % ~02m 40s       |+++                                               | 4 % ~02m 37s       |+++                                               | 5 % ~02m 34s       |++++                                              | 6 % ~02m 36s       |++++                                              | 7 % ~02m 41s       |+++++                                             | 8 % ~02m 39s       |+++++                                             | 9 % ~02m 38s       |++++++                                            | 10% ~02m 38s       |++++++                                            | 11% ~02m 39s       |+++++++                                           | 12% ~02m 39s       |+++++++                                           | 13% ~02m 36s       |++++++++                                          | 14% ~02m 32s       |++++++++                                          | 15% ~02m 29s       |+++++++++                                         | 16% ~02m 26s       |+++++++++                                         | 17% ~02m 22s       |++++++++++                                        | 18% ~02m 19s       |++++++++++                                        | 19% ~02m 14s       |+++++++++++                                       | 20% ~02m 09s       |+++++++++++                                       | 21% ~02m 06s       |++++++++++++                                      | 22% ~02m 05s       |++++++++++++                                      | 23% ~02m 03s       |+++++++++++++                                     | 24% ~02m 01s       |+++++++++++++                                     | 26% ~01m 57s       |++++++++++++++                                    | 27% ~01m 53s       |++++++++++++++                                    | 28% ~01m 49s       |+++++++++++++++                                   | 29% ~01m 46s       |+++++++++++++++                                   | 30% ~01m 43s       |++++++++++++++++                                  | 31% ~01m 39s       |++++++++++++++++                                  | 32% ~01m 36s       |+++++++++++++++++                                 | 33% ~01m 34s       |+++++++++++++++++                                 | 34% ~01m 32s       |++++++++++++++++++                                | 35% ~01m 31s       |++++++++++++++++++                                | 36% ~01m 29s       |+++++++++++++++++++                               | 37% ~01m 28s       |+++++++++++++++++++                               | 38% ~01m 26s       |++++++++++++++++++++                              | 39% ~01m 25s       |++++++++++++++++++++                              | 40% ~01m 24s       |+++++++++++++++++++++                             | 41% ~01m 23s       |+++++++++++++++++++++                             | 42% ~01m 22s       |++++++++++++++++++++++                            | 43% ~01m 20s       |++++++++++++++++++++++                            | 44% ~01m 19s       |+++++++++++++++++++++++                           | 45% ~01m 18s       |+++++++++++++++++++++++                           | 46% ~01m 16s       |++++++++++++++++++++++++                          | 47% ~01m 15s       |++++++++++++++++++++++++                          | 48% ~01m 13s       |+++++++++++++++++++++++++                         | 49% ~01m 12s       |+++++++++++++++++++++++++                         | 50% ~01m 11s       |++++++++++++++++++++++++++                        | 51% ~01m 09s       |+++++++++++++++++++++++++++                       | 52% ~01m 08s       |+++++++++++++++++++++++++++                       | 53% ~01m 07s       |++++++++++++++++++++++++++++                      | 54% ~01m 06s       |++++++++++++++++++++++++++++                      | 55% ~01m 05s       |+++++++++++++++++++++++++++++                     | 56% ~01m 03s       |+++++++++++++++++++++++++++++                     | 57% ~01m 02s       |++++++++++++++++++++++++++++++                    | 58% ~01m 01s       |++++++++++++++++++++++++++++++                    | 59% ~59s           |+++++++++++++++++++++++++++++++                   | 60% ~58s           |+++++++++++++++++++++++++++++++                   | 61% ~56s           |++++++++++++++++++++++++++++++++                  | 62% ~55s           |++++++++++++++++++++++++++++++++                  | 63% ~53s           |+++++++++++++++++++++++++++++++++                 | 64% ~52s           |+++++++++++++++++++++++++++++++++                 | 65% ~50s           |++++++++++++++++++++++++++++++++++                | 66% ~49s           |++++++++++++++++++++++++++++++++++                | 67% ~47s           |+++++++++++++++++++++++++++++++++++               | 68% ~46s           |+++++++++++++++++++++++++++++++++++               | 69% ~45s           |++++++++++++++++++++++++++++++++++++              | 70% ~43s           |++++++++++++++++++++++++++++++++++++              | 71% ~42s           |+++++++++++++++++++++++++++++++++++++             | 72% ~40s           |+++++++++++++++++++++++++++++++++++++             | 73% ~39s           |++++++++++++++++++++++++++++++++++++++            | 74% ~37s           |++++++++++++++++++++++++++++++++++++++            | 76% ~36s           |+++++++++++++++++++++++++++++++++++++++           | 77% ~34s           |+++++++++++++++++++++++++++++++++++++++           | 78% ~33s           |++++++++++++++++++++++++++++++++++++++++          | 79% ~31s           |++++++++++++++++++++++++++++++++++++++++          | 80% ~30s           |+++++++++++++++++++++++++++++++++++++++++         | 81% ~29s           |+++++++++++++++++++++++++++++++++++++++++         | 82% ~27s           |++++++++++++++++++++++++++++++++++++++++++        | 83% ~26s           |++++++++++++++++++++++++++++++++++++++++++        | 84% ~24s           |+++++++++++++++++++++++++++++++++++++++++++       | 85% ~23s           |+++++++++++++++++++++++++++++++++++++++++++       | 86% ~21s           |++++++++++++++++++++++++++++++++++++++++++++      | 87% ~20s           |++++++++++++++++++++++++++++++++++++++++++++      | 88% ~18s           |+++++++++++++++++++++++++++++++++++++++++++++     | 89% ~17s           |+++++++++++++++++++++++++++++++++++++++++++++     | 90% ~15s           |++++++++++++++++++++++++++++++++++++++++++++++    | 91% ~14s           |++++++++++++++++++++++++++++++++++++++++++++++    | 92% ~12s           |+++++++++++++++++++++++++++++++++++++++++++++++   | 93% ~11s           |+++++++++++++++++++++++++++++++++++++++++++++++   | 94% ~09s           |++++++++++++++++++++++++++++++++++++++++++++++++  | 95% ~08s           |++++++++++++++++++++++++++++++++++++++++++++++++  | 96% ~06s           |+++++++++++++++++++++++++++++++++++++++++++++++++ | 97% ~05s           |+++++++++++++++++++++++++++++++++++++++++++++++++ | 98% ~03s           |++++++++++++++++++++++++++++++++++++++++++++++++++| 99% ~02s           |++++++++++++++++++++++++++++++++++++++++++++++++++| 100% elapsed=02m 28s\n",
      "  |                                                  | 0 % ~calculating   |+                                                 | 1 % ~02m 58s       |++                                                | 2 % ~02m 60s       |++                                                | 3 % ~02m 47s       |+++                                               | 4 % ~02m 43s       |+++                                               | 5 % ~02m 39s       |++++                                              | 6 % ~02m 36s       |++++                                              | 7 % ~02m 34s       |+++++                                             | 8 % ~02m 36s       |+++++                                             | 9 % ~02m 32s       |++++++                                            | 10% ~02m 27s       |++++++                                            | 11% ~02m 23s       |+++++++                                           | 12% ~02m 22s       |+++++++                                           | 13% ~02m 18s       |++++++++                                          | 14% ~02m 15s       |++++++++                                          | 15% ~02m 12s       |+++++++++                                         | 16% ~02m 10s       |+++++++++                                         | 17% ~02m 08s       |++++++++++                                        | 18% ~02m 05s       |++++++++++                                        | 19% ~02m 03s       |+++++++++++                                       | 20% ~02m 01s       |+++++++++++                                       | 21% ~01m 58s       |++++++++++++                                      | 22% ~02m 01s       |++++++++++++                                      | 23% ~01m 60s       |+++++++++++++                                     | 24% ~01m 59s       |+++++++++++++                                     | 26% ~01m 57s       |++++++++++++++                                    | 27% ~01m 54s       |++++++++++++++                                    | 28% ~01m 52s       |+++++++++++++++                                   | 29% ~01m 50s       |+++++++++++++++                                   | 30% ~01m 49s       |++++++++++++++++                                  | 31% ~01m 47s       |++++++++++++++++                                  | 32% ~01m 46s       |+++++++++++++++++                                 | 33% ~01m 45s       |+++++++++++++++++                                 | 34% ~01m 44s       |++++++++++++++++++                                | 35% ~01m 42s       |++++++++++++++++++                                | 36% ~01m 40s       |+++++++++++++++++++                               | 37% ~01m 39s       |+++++++++++++++++++                               | 38% ~01m 37s       |++++++++++++++++++++                              | 39% ~01m 35s       |++++++++++++++++++++                              | 40% ~01m 33s       |+++++++++++++++++++++                             | 41% ~01m 32s       |+++++++++++++++++++++                             | 42% ~01m 30s       |++++++++++++++++++++++                            | 43% ~01m 29s       |++++++++++++++++++++++                            | 44% ~01m 27s       |+++++++++++++++++++++++                           | 45% ~01m 26s       |+++++++++++++++++++++++                           | 46% ~01m 24s       |++++++++++++++++++++++++                          | 47% ~01m 23s       |++++++++++++++++++++++++                          | 48% ~01m 21s       |+++++++++++++++++++++++++                         | 49% ~01m 19s       |+++++++++++++++++++++++++                         | 50% ~01m 18s       |++++++++++++++++++++++++++                        | 51% ~01m 16s       |+++++++++++++++++++++++++++                       | 52% ~01m 14s       |+++++++++++++++++++++++++++                       | 53% ~01m 13s       |++++++++++++++++++++++++++++                      | 54% ~01m 12s       |++++++++++++++++++++++++++++                      | 55% ~01m 10s       |+++++++++++++++++++++++++++++                     | 56% ~01m 09s       |+++++++++++++++++++++++++++++                     | 57% ~01m 07s       |++++++++++++++++++++++++++++++                    | 58% ~01m 05s       |++++++++++++++++++++++++++++++                    | 59% ~01m 04s       |+++++++++++++++++++++++++++++++                   | 60% ~01m 02s       |+++++++++++++++++++++++++++++++                   | 61% ~01m 01s       |++++++++++++++++++++++++++++++++                  | 62% ~59s           |++++++++++++++++++++++++++++++++                  | 63% ~58s           |+++++++++++++++++++++++++++++++++                 | 64% ~56s           |+++++++++++++++++++++++++++++++++                 | 65% ~55s           |++++++++++++++++++++++++++++++++++                | 66% ~53s           |++++++++++++++++++++++++++++++++++                | 67% ~52s           |+++++++++++++++++++++++++++++++++++               | 68% ~51s           |+++++++++++++++++++++++++++++++++++               | 69% ~49s           |++++++++++++++++++++++++++++++++++++              | 70% ~47s           |++++++++++++++++++++++++++++++++++++              | 71% ~46s           |+++++++++++++++++++++++++++++++++++++             | 72% ~44s           |+++++++++++++++++++++++++++++++++++++             | 73% ~42s           |++++++++++++++++++++++++++++++++++++++            | 74% ~40s           |++++++++++++++++++++++++++++++++++++++            | 76% ~38s           |+++++++++++++++++++++++++++++++++++++++           | 77% ~37s           |+++++++++++++++++++++++++++++++++++++++           | 78% ~35s           |++++++++++++++++++++++++++++++++++++++++          | 79% ~33s           |++++++++++++++++++++++++++++++++++++++++          | 80% ~32s           |+++++++++++++++++++++++++++++++++++++++++         | 81% ~30s           |+++++++++++++++++++++++++++++++++++++++++         | 82% ~29s           |++++++++++++++++++++++++++++++++++++++++++        | 83% ~27s           |++++++++++++++++++++++++++++++++++++++++++        | 84% ~25s           |+++++++++++++++++++++++++++++++++++++++++++       | 85% ~24s           |+++++++++++++++++++++++++++++++++++++++++++       | 86% ~22s           |++++++++++++++++++++++++++++++++++++++++++++      | 87% ~21s           |++++++++++++++++++++++++++++++++++++++++++++      | 88% ~19s           |+++++++++++++++++++++++++++++++++++++++++++++     | 89% ~17s           |+++++++++++++++++++++++++++++++++++++++++++++     | 90% ~16s           |++++++++++++++++++++++++++++++++++++++++++++++    | 91% ~14s           |++++++++++++++++++++++++++++++++++++++++++++++    | 92% ~13s           |+++++++++++++++++++++++++++++++++++++++++++++++   | 93% ~11s           |+++++++++++++++++++++++++++++++++++++++++++++++   | 94% ~09s           |++++++++++++++++++++++++++++++++++++++++++++++++  | 95% ~08s           |++++++++++++++++++++++++++++++++++++++++++++++++  | 96% ~06s           |+++++++++++++++++++++++++++++++++++++++++++++++++ | 97% ~05s           |+++++++++++++++++++++++++++++++++++++++++++++++++ | 98% ~03s           |++++++++++++++++++++++++++++++++++++++++++++++++++| 99% ~02s           |++++++++++++++++++++++++++++++++++++++++++++++++++| 100% elapsed=02m 34s\n",
      "  |                                                  | 0 % ~calculating   |+                                                 | 1 % ~03m 37s       |++                                                | 2 % ~02m 59s       |++                                                | 3 % ~02m 45s       |+++                                               | 4 % ~02m 51s       |+++                                               | 5 % ~02m 53s       |++++                                              | 6 % ~02m 57s       |++++                                              | 7 % ~02m 57s       |+++++                                             | 8 % ~02m 55s       |+++++                                             | 9 % ~02m 53s       |++++++                                            | 10% ~02m 52s       |++++++                                            | 11% ~02m 56s       |+++++++                                           | 12% ~02m 57s       |+++++++                                           | 13% ~02m 57s       |++++++++                                          | 14% ~02m 56s       |++++++++                                          | 15% ~02m 55s       |+++++++++                                         | 16% ~02m 55s       |+++++++++                                         | 17% ~02m 52s       |++++++++++                                        | 18% ~02m 50s       |++++++++++                                        | 19% ~02m 48s       |+++++++++++                                       | 20% ~02m 47s       |+++++++++++                                       | 21% ~02m 45s       |++++++++++++                                      | 22% ~02m 43s       |++++++++++++                                      | 23% ~02m 42s       |+++++++++++++                                     | 24% ~02m 42s       |+++++++++++++                                     | 26% ~02m 42s       |++++++++++++++                                    | 27% ~02m 40s       |++++++++++++++                                    | 28% ~02m 37s       |+++++++++++++++                                   | 29% ~02m 36s       |+++++++++++++++                                   | 30% ~02m 33s       |++++++++++++++++                                  | 31% ~02m 30s       |++++++++++++++++                                  | 32% ~02m 28s       |+++++++++++++++++                                 | 33% ~02m 26s       |+++++++++++++++++                                 | 34% ~02m 24s       |++++++++++++++++++                                | 35% ~02m 21s       |++++++++++++++++++                                | 36% ~02m 19s       |+++++++++++++++++++                               | 37% ~02m 17s       |+++++++++++++++++++                               | 38% ~02m 15s       |++++++++++++++++++++                              | 39% ~02m 13s       |++++++++++++++++++++                              | 40% ~02m 10s       |+++++++++++++++++++++                             | 41% ~02m 08s       |+++++++++++++++++++++                             | 42% ~02m 06s       |++++++++++++++++++++++                            | 43% ~02m 04s       |++++++++++++++++++++++                            | 44% ~02m 02s       |+++++++++++++++++++++++                           | 45% ~02m 01s       |+++++++++++++++++++++++                           | 46% ~01m 59s       |++++++++++++++++++++++++                          | 47% ~01m 57s       |++++++++++++++++++++++++                          | 48% ~01m 54s       |+++++++++++++++++++++++++                         | 49% ~01m 52s       |+++++++++++++++++++++++++                         | 50% ~01m 49s       |++++++++++++++++++++++++++                        | 51% ~01m 47s       |+++++++++++++++++++++++++++                       | 52% ~01m 44s       |+++++++++++++++++++++++++++                       | 53% ~01m 42s       |++++++++++++++++++++++++++++                      | 54% ~01m 40s       |++++++++++++++++++++++++++++                      | 55% ~01m 38s       |+++++++++++++++++++++++++++++                     | 56% ~01m 35s       |+++++++++++++++++++++++++++++                     | 57% ~01m 33s       |++++++++++++++++++++++++++++++                    | 58% ~01m 30s       |++++++++++++++++++++++++++++++                    | 59% ~01m 28s       |+++++++++++++++++++++++++++++++                   | 60% ~01m 26s       |+++++++++++++++++++++++++++++++                   | 61% ~01m 24s       |++++++++++++++++++++++++++++++++                  | 62% ~01m 22s       |++++++++++++++++++++++++++++++++                  | 63% ~01m 20s       |+++++++++++++++++++++++++++++++++                 | 64% ~01m 18s       |+++++++++++++++++++++++++++++++++                 | 65% ~01m 16s       |++++++++++++++++++++++++++++++++++                | 66% ~01m 13s       |++++++++++++++++++++++++++++++++++                | 67% ~01m 11s       |+++++++++++++++++++++++++++++++++++               | 68% ~01m 09s       |+++++++++++++++++++++++++++++++++++               | 69% ~01m 06s       |++++++++++++++++++++++++++++++++++++              | 70% ~01m 04s       |++++++++++++++++++++++++++++++++++++              | 71% ~01m 02s       |+++++++++++++++++++++++++++++++++++++             | 72% ~60s           |+++++++++++++++++++++++++++++++++++++             | 73% ~58s           |++++++++++++++++++++++++++++++++++++++            | 74% ~55s           |++++++++++++++++++++++++++++++++++++++            | 76% ~53s           |+++++++++++++++++++++++++++++++++++++++           | 77% ~51s           |+++++++++++++++++++++++++++++++++++++++           | 78% ~49s           |++++++++++++++++++++++++++++++++++++++++          | 79% ~46s           |++++++++++++++++++++++++++++++++++++++++          | 80% ~44s           |+++++++++++++++++++++++++++++++++++++++++         | 81% ~42s           |+++++++++++++++++++++++++++++++++++++++++         | 82% ~40s           |++++++++++++++++++++++++++++++++++++++++++        | 83% ~38s           |++++++++++++++++++++++++++++++++++++++++++        | 84% ~36s           |+++++++++++++++++++++++++++++++++++++++++++       | 85% ~33s           |+++++++++++++++++++++++++++++++++++++++++++       | 86% ~31s           |++++++++++++++++++++++++++++++++++++++++++++      | 87% ~29s           |++++++++++++++++++++++++++++++++++++++++++++      | 88% ~27s           |+++++++++++++++++++++++++++++++++++++++++++++     | 89% ~25s           |+++++++++++++++++++++++++++++++++++++++++++++     | 90% ~22s           |++++++++++++++++++++++++++++++++++++++++++++++    | 91% ~20s           |++++++++++++++++++++++++++++++++++++++++++++++    | 92% ~18s           |+++++++++++++++++++++++++++++++++++++++++++++++   | 93% ~16s           |+++++++++++++++++++++++++++++++++++++++++++++++   | 94% ~14s           |++++++++++++++++++++++++++++++++++++++++++++++++  | 95% ~11s           |++++++++++++++++++++++++++++++++++++++++++++++++  | 96% ~09s           |+++++++++++++++++++++++++++++++++++++++++++++++++ | 97% ~07s           |+++++++++++++++++++++++++++++++++++++++++++++++++ | 98% ~05s           |++++++++++++++++++++++++++++++++++++++++++++++++++| 99% ~02s           |++++++++++++++++++++++++++++++++++++++++++++++++++| 100% elapsed=03m 42s\n",
      "  |                                                  | 0 % ~calculating   |+                                                 | 1 % ~03m 01s       |++                                                | 2 % ~03m 05s       |++                                                | 3 % ~03m 03s       |+++                                               | 4 % ~03m 09s       |+++                                               | 5 % ~03m 07s       |++++                                              | 6 % ~03m 03s       |++++                                              | 7 % ~03m 02s       |+++++                                             | 8 % ~02m 58s       |+++++                                             | 9 % ~02m 56s       |++++++                                            | 10% ~02m 53s       |++++++                                            | 11% ~02m 50s       |+++++++                                           | 12% ~02m 48s       |+++++++                                           | 13% ~02m 45s       |++++++++                                          | 14% ~02m 44s       |++++++++                                          | 15% ~02m 43s       |+++++++++                                         | 16% ~02m 42s       |+++++++++                                         | 17% ~02m 40s       |++++++++++                                        | 18% ~02m 39s       |++++++++++                                        | 19% ~02m 37s       |+++++++++++                                       | 20% ~02m 34s       |+++++++++++                                       | 21% ~02m 32s       |++++++++++++                                      | 22% ~02m 29s       |++++++++++++                                      | 23% ~02m 27s       |+++++++++++++                                     | 24% ~02m 24s       |+++++++++++++                                     | 26% ~02m 23s       |++++++++++++++                                    | 27% ~02m 22s       |++++++++++++++                                    | 28% ~02m 20s       |+++++++++++++++                                   | 29% ~02m 18s       |+++++++++++++++                                   | 30% ~02m 17s       |++++++++++++++++                                  | 31% ~02m 15s       |++++++++++++++++                                  | 32% ~02m 13s       |+++++++++++++++++                                 | 33% ~02m 12s       |+++++++++++++++++                                 | 34% ~02m 10s       |++++++++++++++++++                                | 35% ~02m 07s       |++++++++++++++++++                                | 36% ~02m 05s       |+++++++++++++++++++                               | 37% ~02m 03s       |+++++++++++++++++++                               | 38% ~02m 01s       |++++++++++++++++++++                              | 39% ~01m 59s       |++++++++++++++++++++                              | 40% ~01m 57s       |+++++++++++++++++++++                             | 41% ~01m 55s       |+++++++++++++++++++++                             | 42% ~01m 53s       |++++++++++++++++++++++                            | 43% ~01m 51s       |++++++++++++++++++++++                            | 44% ~01m 49s       |+++++++++++++++++++++++                           | 45% ~01m 47s       |+++++++++++++++++++++++                           | 46% ~01m 45s       |++++++++++++++++++++++++                          | 47% ~01m 43s       |++++++++++++++++++++++++                          | 48% ~01m 41s       |+++++++++++++++++++++++++                         | 49% ~01m 39s       |+++++++++++++++++++++++++                         | 50% ~01m 37s       |++++++++++++++++++++++++++                        | 51% ~01m 35s       |+++++++++++++++++++++++++++                       | 52% ~01m 33s       |+++++++++++++++++++++++++++                       | 53% ~01m 31s       |++++++++++++++++++++++++++++                      | 54% ~01m 29s       |++++++++++++++++++++++++++++                      | 55% ~01m 27s       |+++++++++++++++++++++++++++++                     | 56% ~01m 25s       |+++++++++++++++++++++++++++++                     | 57% ~01m 23s       |++++++++++++++++++++++++++++++                    | 58% ~01m 21s       |++++++++++++++++++++++++++++++                    | 59% ~01m 19s       |+++++++++++++++++++++++++++++++                   | 60% ~01m 17s       |+++++++++++++++++++++++++++++++                   | 61% ~01m 15s       |++++++++++++++++++++++++++++++++                  | 62% ~01m 13s       |++++++++++++++++++++++++++++++++                  | 63% ~01m 11s       |+++++++++++++++++++++++++++++++++                 | 64% ~01m 09s       |+++++++++++++++++++++++++++++++++                 | 65% ~01m 08s       |++++++++++++++++++++++++++++++++++                | 66% ~01m 06s       |++++++++++++++++++++++++++++++++++                | 67% ~01m 03s       |+++++++++++++++++++++++++++++++++++               | 68% ~01m 01s       |+++++++++++++++++++++++++++++++++++               | 69% ~60s           |++++++++++++++++++++++++++++++++++++              | 70% ~57s           |++++++++++++++++++++++++++++++++++++              | 71% ~55s           |+++++++++++++++++++++++++++++++++++++             | 72% ~53s           |+++++++++++++++++++++++++++++++++++++             | 73% ~52s           |++++++++++++++++++++++++++++++++++++++            | 74% ~50s           |++++++++++++++++++++++++++++++++++++++            | 76% ~48s           |+++++++++++++++++++++++++++++++++++++++           | 77% ~46s           |+++++++++++++++++++++++++++++++++++++++           | 78% ~44s           |++++++++++++++++++++++++++++++++++++++++          | 79% ~42s           |++++++++++++++++++++++++++++++++++++++++          | 80% ~40s           |+++++++++++++++++++++++++++++++++++++++++         | 81% ~38s           |+++++++++++++++++++++++++++++++++++++++++         | 82% ~36s           |++++++++++++++++++++++++++++++++++++++++++        | 83% ~33s           |++++++++++++++++++++++++++++++++++++++++++        | 84% ~31s           |+++++++++++++++++++++++++++++++++++++++++++       | 85% ~30s           |+++++++++++++++++++++++++++++++++++++++++++       | 86% ~28s           |++++++++++++++++++++++++++++++++++++++++++++      | 87% ~26s           |++++++++++++++++++++++++++++++++++++++++++++      | 88% ~24s           |+++++++++++++++++++++++++++++++++++++++++++++     | 89% ~22s           |+++++++++++++++++++++++++++++++++++++++++++++     | 90% ~20s           |++++++++++++++++++++++++++++++++++++++++++++++    | 91% ~18s           |++++++++++++++++++++++++++++++++++++++++++++++    | 92% ~16s           |+++++++++++++++++++++++++++++++++++++++++++++++   | 93% ~14s           |+++++++++++++++++++++++++++++++++++++++++++++++   | 94% ~12s           |++++++++++++++++++++++++++++++++++++++++++++++++  | 95% ~10s           |++++++++++++++++++++++++++++++++++++++++++++++++  | 96% ~08s           |+++++++++++++++++++++++++++++++++++++++++++++++++ | 97% ~06s           |+++++++++++++++++++++++++++++++++++++++++++++++++ | 98% ~04s           |++++++++++++++++++++++++++++++++++++++++++++++++++| 99% ~02s           |++++++++++++++++++++++++++++++++++++++++++++++++++| 100% elapsed=03m 12s\n",
      "  |                                                  | 0 % ~calculating   |+                                                 | 1 % ~03m 29s       |++                                                | 2 % ~03m 27s       |++                                                | 3 % ~03m 20s       |+++                                               | 4 % ~03m 12s       |+++                                               | 5 % ~03m 05s       |++++                                              | 6 % ~03m 03s       |++++                                              | 7 % ~03m 00s       |+++++                                             | 8 % ~02m 57s       |+++++                                             | 9 % ~02m 54s       |++++++                                            | 10% ~02m 52s       |++++++                                            | 11% ~02m 50s       |+++++++                                           | 12% ~02m 48s       |+++++++                                           | 13% ~02m 46s       |++++++++                                          | 14% ~02m 44s       |++++++++                                          | 15% ~02m 43s       |+++++++++                                         | 16% ~02m 42s       |+++++++++                                         | 17% ~02m 40s       |++++++++++                                        | 18% ~02m 40s       |++++++++++                                        | 19% ~02m 38s       |+++++++++++                                       | 20% ~02m 36s       |+++++++++++                                       | 21% ~02m 33s       |++++++++++++                                      | 22% ~02m 31s       |++++++++++++                                      | 23% ~02m 29s       |+++++++++++++                                     | 24% ~02m 27s       |+++++++++++++                                     | 26% ~02m 24s       |++++++++++++++                                    | 27% ~02m 22s       |++++++++++++++                                    | 28% ~02m 20s       |+++++++++++++++                                   | 29% ~02m 18s       |+++++++++++++++                                   | 30% ~02m 16s       |++++++++++++++++                                  | 31% ~02m 14s       |++++++++++++++++                                  | 32% ~02m 12s       |+++++++++++++++++                                 | 33% ~02m 10s       |+++++++++++++++++                                 | 34% ~02m 08s       |++++++++++++++++++                                | 35% ~02m 06s       |++++++++++++++++++                                | 36% ~02m 04s       |+++++++++++++++++++                               | 37% ~02m 02s       |+++++++++++++++++++                               | 38% ~02m 00s       |++++++++++++++++++++                              | 39% ~01m 58s       |++++++++++++++++++++                              | 40% ~01m 57s       |+++++++++++++++++++++                             | 41% ~01m 55s       |+++++++++++++++++++++                             | 42% ~01m 53s       |++++++++++++++++++++++                            | 43% ~01m 51s       |++++++++++++++++++++++                            | 44% ~01m 49s       |+++++++++++++++++++++++                           | 45% ~01m 47s       |+++++++++++++++++++++++                           | 46% ~01m 45s       |++++++++++++++++++++++++                          | 47% ~01m 43s       |++++++++++++++++++++++++                          | 48% ~01m 42s       |+++++++++++++++++++++++++                         | 49% ~01m 40s       |+++++++++++++++++++++++++                         | 50% ~01m 39s       |++++++++++++++++++++++++++                        | 51% ~01m 37s       |+++++++++++++++++++++++++++                       | 52% ~01m 35s       |+++++++++++++++++++++++++++                       | 53% ~01m 33s       |++++++++++++++++++++++++++++                      | 54% ~01m 31s       |++++++++++++++++++++++++++++                      | 55% ~01m 29s       |+++++++++++++++++++++++++++++                     | 56% ~01m 26s       |+++++++++++++++++++++++++++++                     | 57% ~01m 23s       |++++++++++++++++++++++++++++++                    | 58% ~01m 21s       |++++++++++++++++++++++++++++++                    | 59% ~01m 18s       |+++++++++++++++++++++++++++++++                   | 60% ~01m 16s       |+++++++++++++++++++++++++++++++                   | 61% ~01m 14s       |++++++++++++++++++++++++++++++++                  | 62% ~01m 11s       |++++++++++++++++++++++++++++++++                  | 63% ~01m 09s       |+++++++++++++++++++++++++++++++++                 | 64% ~01m 07s       |+++++++++++++++++++++++++++++++++                 | 65% ~01m 06s       |++++++++++++++++++++++++++++++++++                | 66% ~01m 04s       |++++++++++++++++++++++++++++++++++                | 67% ~01m 02s       |+++++++++++++++++++++++++++++++++++               | 68% ~60s           |+++++++++++++++++++++++++++++++++++               | 69% ~58s           |++++++++++++++++++++++++++++++++++++              | 70% ~56s           |++++++++++++++++++++++++++++++++++++              | 71% ~54s           |+++++++++++++++++++++++++++++++++++++             | 72% ~52s           |+++++++++++++++++++++++++++++++++++++             | 73% ~50s           |++++++++++++++++++++++++++++++++++++++            | 74% ~49s           |++++++++++++++++++++++++++++++++++++++            | 76% ~47s           |+++++++++++++++++++++++++++++++++++++++           | 77% ~45s           |+++++++++++++++++++++++++++++++++++++++           | 78% ~43s           |++++++++++++++++++++++++++++++++++++++++          | 79% ~41s           |++++++++++++++++++++++++++++++++++++++++          | 80% ~39s           |+++++++++++++++++++++++++++++++++++++++++         | 81% ~37s           |+++++++++++++++++++++++++++++++++++++++++         | 82% ~35s           |++++++++++++++++++++++++++++++++++++++++++        | 83% ~33s           |++++++++++++++++++++++++++++++++++++++++++        | 84% ~31s           |+++++++++++++++++++++++++++++++++++++++++++       | 85% ~29s           |+++++++++++++++++++++++++++++++++++++++++++       | 86% ~27s           |++++++++++++++++++++++++++++++++++++++++++++      | 87% ~25s           |++++++++++++++++++++++++++++++++++++++++++++      | 88% ~23s           |+++++++++++++++++++++++++++++++++++++++++++++     | 89% ~22s           |+++++++++++++++++++++++++++++++++++++++++++++     | 90% ~20s           |++++++++++++++++++++++++++++++++++++++++++++++    | 91% ~18s           |++++++++++++++++++++++++++++++++++++++++++++++    | 92% ~16s           |+++++++++++++++++++++++++++++++++++++++++++++++   | 93% ~14s           |+++++++++++++++++++++++++++++++++++++++++++++++   | 94% ~12s           |++++++++++++++++++++++++++++++++++++++++++++++++  | 95% ~10s           |++++++++++++++++++++++++++++++++++++++++++++++++  | 96% ~08s           |+++++++++++++++++++++++++++++++++++++++++++++++++ | 97% ~06s           |+++++++++++++++++++++++++++++++++++++++++++++++++ | 98% ~04s           |++++++++++++++++++++++++++++++++++++++++++++++++++| 99% ~02s           |++++++++++++++++++++++++++++++++++++++++++++++++++| 100% elapsed=03m 11s\n"
     ]
    }
   ],
   "source": [
    "%%R -i outdir -o all_da_peaks\n",
    "\n",
    "all_da_peaks = FindAllMarkers(ATAC_Seurat_withChromVar, test.use = 'LR', verbose = T, only.pos = F, random.seed = 1, logfc.threshold = 0, min.pct = 0, return.thresh = 1)\n",
    "write.csv(all_da_peaks, file = paste0(outdir, 'TFs/DARs/all_DA_peaks_LR.csv'))"
   ]
  },
  {
   "cell_type": "markdown",
   "metadata": {},
   "source": [
    "#### z-scores per cell type annotation"
   ]
  },
  {
   "cell_type": "code",
   "execution_count": 37,
   "metadata": {},
   "outputs": [
    {
     "name": "stdout",
     "output_type": "stream",
     "text": [
      "An object of class Seurat \n",
      "122047 features across 8901 samples within 2 assays \n",
      "Active assay: chromvar (1920 features, 0 variable features)\n",
      " 1 other assay present: peaks\n",
      " 3 dimensional reductions calculated: cisTopics, umap, harmony\n"
     ]
    }
   ],
   "source": [
    "%%R -i outdir -i experiment_prefix\n",
    "\n",
    "ATAC_Seurat_withChromVar <- readRDS(file = paste0(outdir, experiment_prefix, \"_chromVar_binary.rds\"))\n",
    "DefaultAssay(ATAC_Seurat_withChromVar) <- \"chromvar\" # Change default assay \n",
    "ATAC_Seurat_withChromVar"
   ]
  },
  {
   "cell_type": "code",
   "execution_count": 38,
   "metadata": {},
   "outputs": [],
   "source": [
    "%%R -o chromvar_assay\n",
    "\n",
    "chromvar_assay <- as.data.frame(t(x = as.matrix(x = GetAssayData(object = ATAC_Seurat_withChromVar))))"
   ]
  },
  {
   "cell_type": "code",
   "execution_count": 39,
   "metadata": {},
   "outputs": [
    {
     "data": {
      "text/plain": [
       "(8901, 1920)"
      ]
     },
     "execution_count": 39,
     "metadata": {},
     "output_type": "execute_result"
    }
   ],
   "source": [
    "chromvar_assay.shape"
   ]
  },
  {
   "cell_type": "code",
   "execution_count": 40,
   "metadata": {},
   "outputs": [
    {
     "data": {
      "text/html": [
       "<div>\n",
       "<style scoped>\n",
       "    .dataframe tbody tr th:only-of-type {\n",
       "        vertical-align: middle;\n",
       "    }\n",
       "\n",
       "    .dataframe tbody tr th {\n",
       "        vertical-align: top;\n",
       "    }\n",
       "\n",
       "    .dataframe thead th {\n",
       "        text-align: right;\n",
       "    }\n",
       "</style>\n",
       "<table border=\"1\" class=\"dataframe\">\n",
       "  <thead>\n",
       "    <tr style=\"text-align: right;\">\n",
       "      <th></th>\n",
       "      <th>barcode</th>\n",
       "      <th>cell_type</th>\n",
       "    </tr>\n",
       "  </thead>\n",
       "  <tbody>\n",
       "    <tr>\n",
       "      <th>01-AAACAGCCAGCCAGAA-1</th>\n",
       "      <td>01-AAACAGCCAGCCAGAA-1</td>\n",
       "      <td>oogonia_STRA8</td>\n",
       "    </tr>\n",
       "    <tr>\n",
       "      <th>01-AAACAGCCATCCAGGT-1</th>\n",
       "      <td>01-AAACAGCCATCCAGGT-1</td>\n",
       "      <td>oogonia_STRA8</td>\n",
       "    </tr>\n",
       "    <tr>\n",
       "      <th>01-AAACATGCATTGTCCT-1</th>\n",
       "      <td>01-AAACATGCATTGTCCT-1</td>\n",
       "      <td>oogonia_STRA8</td>\n",
       "    </tr>\n",
       "    <tr>\n",
       "      <th>01-AAACCGAAGCTTCCCG-1</th>\n",
       "      <td>01-AAACCGAAGCTTCCCG-1</td>\n",
       "      <td>pre_oocyte</td>\n",
       "    </tr>\n",
       "    <tr>\n",
       "      <th>01-AAACCGAAGGCGAATA-1</th>\n",
       "      <td>01-AAACCGAAGGCGAATA-1</td>\n",
       "      <td>oogonia_STRA8</td>\n",
       "    </tr>\n",
       "  </tbody>\n",
       "</table>\n",
       "</div>"
      ],
      "text/plain": [
       "                                     barcode      cell_type\n",
       "01-AAACAGCCAGCCAGAA-1  01-AAACAGCCAGCCAGAA-1  oogonia_STRA8\n",
       "01-AAACAGCCATCCAGGT-1  01-AAACAGCCATCCAGGT-1  oogonia_STRA8\n",
       "01-AAACATGCATTGTCCT-1  01-AAACATGCATTGTCCT-1  oogonia_STRA8\n",
       "01-AAACCGAAGCTTCCCG-1  01-AAACCGAAGCTTCCCG-1     pre_oocyte\n",
       "01-AAACCGAAGGCGAATA-1  01-AAACCGAAGGCGAATA-1  oogonia_STRA8"
      ]
     },
     "execution_count": 40,
     "metadata": {},
     "output_type": "execute_result"
    }
   ],
   "source": [
    "# Mapping of cells to cell types \n",
    "ATAC_scanpy.obs['barcode'] = ATAC_scanpy.obs_names\n",
    "cells_celltypes = ATAC_scanpy.obs[['barcode', 'cell_type']]\n",
    "cells_celltypes.head()"
   ]
  },
  {
   "cell_type": "code",
   "execution_count": 41,
   "metadata": {},
   "outputs": [],
   "source": [
    "cells_mapping_clusters = cells_celltypes.groupby('cell_type').groups"
   ]
  },
  {
   "cell_type": "code",
   "execution_count": 42,
   "metadata": {},
   "outputs": [
    {
     "name": "stdout",
     "output_type": "stream",
     "text": [
      "PGC\n",
      "GC\n",
      "oogonia_STRA8\n",
      "oogonia_meiotic\n",
      "pre_oocyte\n",
      "oocyte\n",
      "pre_spermatogonia\n"
     ]
    }
   ],
   "source": [
    "# Mean by rows \n",
    "for key in cells_mapping_clusters: \n",
    "    print(key)\n",
    "    chromvar_assay.loc[key] = chromvar_assay.loc[cells_mapping_clusters[key]].mean(axis = 0)"
   ]
  },
  {
   "cell_type": "code",
   "execution_count": 43,
   "metadata": {},
   "outputs": [
    {
     "name": "stdout",
     "output_type": "stream",
     "text": [
      "['GC', 'PGC', 'oocyte', 'oogonia_STRA8', 'oogonia_meiotic', 'pre_oocyte', 'pre_spermatogonia']\n"
     ]
    }
   ],
   "source": [
    "rows_celltypes = list(np.unique(cells_celltypes['cell_type']))\n",
    "print(rows_celltypes)\n",
    "# Select only aggregated rows\n",
    "chromvar_assay = chromvar_assay.loc[rows_celltypes, ]"
   ]
  },
  {
   "cell_type": "code",
   "execution_count": 44,
   "metadata": {},
   "outputs": [],
   "source": [
    "# Normalize by column (TF)\n",
    "from scipy.stats import zscore\n",
    "chromvar_assay_zscore = chromvar_assay.apply(zscore)"
   ]
  },
  {
   "cell_type": "code",
   "execution_count": 45,
   "metadata": {},
   "outputs": [],
   "source": [
    "chromvar_assay_zscore.to_csv(outdir + experiment_prefix + \"_chromvar_celltype_zscore.csv\")"
   ]
  },
  {
   "cell_type": "code",
   "execution_count": 10,
   "metadata": {},
   "outputs": [],
   "source": [
    "chromvar_assay_zscore = pd.read_csv(outdir + experiment_prefix + \"_chromvar_celltype_zscore.csv\", index_col = 0)"
   ]
  },
  {
   "cell_type": "code",
   "execution_count": 11,
   "metadata": {},
   "outputs": [],
   "source": [
    "chromvar_assay_zscore = chromvar_assay_zscore.reindex([ 'PGC', 'GC', 'oogonia_STRA8', 'oogonia_meiotic',\n",
    "                                                       'pre_oocyte','oocyte',  'pre_spermatogonia'])\n"
   ]
  },
  {
   "cell_type": "code",
   "execution_count": 12,
   "metadata": {},
   "outputs": [],
   "source": [
    "import matplotlib as mpl\n",
    "mpl.rcParams['pdf.fonttype'] = 42"
   ]
  },
  {
   "cell_type": "code",
   "execution_count": 13,
   "metadata": {},
   "outputs": [],
   "source": [
    "import seaborn as sns\n",
    "my_cmap = sns.diverging_palette(240, 10, s = 100, l = 40,n=10, as_cmap=True)\n"
   ]
  },
  {
   "cell_type": "code",
   "execution_count": 14,
   "metadata": {},
   "outputs": [
    {
     "data": {
      "text/plain": [
       "(7, 1920)"
      ]
     },
     "execution_count": 14,
     "metadata": {},
     "output_type": "execute_result"
    }
   ],
   "source": [
    "chromvar_assay_zscore.shape"
   ]
  },
  {
   "cell_type": "code",
   "execution_count": 18,
   "metadata": {},
   "outputs": [
    {
     "data": {
      "image/png": "[encoded data removed]",
      "text/plain": [
       "<Figure size 360x216 with 4 Axes>"
      ]
     },
     "metadata": {},
     "output_type": "display_data"
    }
   ],
   "source": [
    "sns.set(font_scale=1.3)\n",
    "heatmap_TFs = sns.clustermap(chromvar_assay_zscore, row_cluster=False, annot=False, xticklabels = False, yticklabels = \"auto\",  figsize=(5, 3),\n",
    "                         cmap = my_cmap)\n",
    "heatmap_TFs.savefig(\"/home/jovyan/MULTIOME_july2021/figures_germ/heatmap_germcells_TFs.pdf\")\n"
   ]
  },
  {
   "cell_type": "markdown",
   "metadata": {},
   "source": [
    "#### End of notebook"
   ]
  },
  {
   "cell_type": "code",
   "execution_count": 13,
   "metadata": {},
   "outputs": [
    {
     "data": {
      "text/html": [
       "<div>\n",
       "<style scoped>\n",
       "    .dataframe tbody tr th:only-of-type {\n",
       "        vertical-align: middle;\n",
       "    }\n",
       "\n",
       "    .dataframe tbody tr th {\n",
       "        vertical-align: top;\n",
       "    }\n",
       "\n",
       "    .dataframe thead th {\n",
       "        text-align: right;\n",
       "    }\n",
       "</style>\n",
       "<table border=\"1\" class=\"dataframe\">\n",
       "  <thead>\n",
       "    <tr style=\"text-align: right;\">\n",
       "      <th></th>\n",
       "      <th>p_val</th>\n",
       "      <th>avg_log2FC</th>\n",
       "      <th>pct.1</th>\n",
       "      <th>pct.2</th>\n",
       "      <th>p_val_adj</th>\n",
       "      <th>cluster</th>\n",
       "      <th>gene</th>\n",
       "    </tr>\n",
       "  </thead>\n",
       "  <tbody>\n",
       "    <tr>\n",
       "      <th>TFAP2B(var.2).MA0812.1</th>\n",
       "      <td>0.000000</td>\n",
       "      <td>14.532986</td>\n",
       "      <td>0.881</td>\n",
       "      <td>0.230</td>\n",
       "      <td>0.0</td>\n",
       "      <td>PGC</td>\n",
       "      <td>TFAP2B(var.2).MA0812.1</td>\n",
       "    </tr>\n",
       "    <tr>\n",
       "      <th>TFAP2A.MA0003.3</th>\n",
       "      <td>0.000000</td>\n",
       "      <td>13.920319</td>\n",
       "      <td>0.883</td>\n",
       "      <td>0.231</td>\n",
       "      <td>0.0</td>\n",
       "      <td>PGC</td>\n",
       "      <td>TFAP2A.MA0003.3</td>\n",
       "    </tr>\n",
       "    <tr>\n",
       "      <th>TFAP2B.MA0811.1</th>\n",
       "      <td>0.000000</td>\n",
       "      <td>13.084652</td>\n",
       "      <td>0.898</td>\n",
       "      <td>0.214</td>\n",
       "      <td>0.0</td>\n",
       "      <td>PGC</td>\n",
       "      <td>TFAP2B.MA0811.1</td>\n",
       "    </tr>\n",
       "    <tr>\n",
       "      <th>TFAP2C.MA0524.2</th>\n",
       "      <td>0.000000</td>\n",
       "      <td>12.551416</td>\n",
       "      <td>0.891</td>\n",
       "      <td>0.229</td>\n",
       "      <td>0.0</td>\n",
       "      <td>PGC</td>\n",
       "      <td>TFAP2C.MA0524.2</td>\n",
       "    </tr>\n",
       "    <tr>\n",
       "      <th>AP2A-HUMAN.H10MO.C</th>\n",
       "      <td>0.000000</td>\n",
       "      <td>11.818874</td>\n",
       "      <td>0.914</td>\n",
       "      <td>0.243</td>\n",
       "      <td>0.0</td>\n",
       "      <td>PGC</td>\n",
       "      <td>AP2A-HUMAN.H10MO.C</td>\n",
       "    </tr>\n",
       "    <tr>\n",
       "      <th>...</th>\n",
       "      <td>...</td>\n",
       "      <td>...</td>\n",
       "      <td>...</td>\n",
       "      <td>...</td>\n",
       "      <td>...</td>\n",
       "      <td>...</td>\n",
       "      <td>...</td>\n",
       "    </tr>\n",
       "    <tr>\n",
       "      <th>MITF.MA0620.2.6</th>\n",
       "      <td>0.978285</td>\n",
       "      <td>-2.726821</td>\n",
       "      <td>0.503</td>\n",
       "      <td>0.471</td>\n",
       "      <td>1.0</td>\n",
       "      <td>pre_spermatogonia</td>\n",
       "      <td>MITF.MA0620.2</td>\n",
       "    </tr>\n",
       "    <tr>\n",
       "      <th>PBX2.MA1113.1.6</th>\n",
       "      <td>0.984087</td>\n",
       "      <td>-0.110353</td>\n",
       "      <td>0.475</td>\n",
       "      <td>0.477</td>\n",
       "      <td>1.0</td>\n",
       "      <td>pre_spermatogonia</td>\n",
       "      <td>PBX2.MA1113.1</td>\n",
       "    </tr>\n",
       "    <tr>\n",
       "      <th>GSC2.SwissRegulon.6</th>\n",
       "      <td>0.993576</td>\n",
       "      <td>-0.064550</td>\n",
       "      <td>0.495</td>\n",
       "      <td>0.494</td>\n",
       "      <td>1.0</td>\n",
       "      <td>pre_spermatogonia</td>\n",
       "      <td>GSC2.SwissRegulon</td>\n",
       "    </tr>\n",
       "    <tr>\n",
       "      <th>ONECUT3.MA0757.1.6</th>\n",
       "      <td>0.995726</td>\n",
       "      <td>0.058047</td>\n",
       "      <td>0.458</td>\n",
       "      <td>0.482</td>\n",
       "      <td>1.0</td>\n",
       "      <td>pre_spermatogonia</td>\n",
       "      <td>ONECUT3.MA0757.1</td>\n",
       "    </tr>\n",
       "    <tr>\n",
       "      <th>MITF.SwissRegulon.6</th>\n",
       "      <td>0.996806</td>\n",
       "      <td>-1.003541</td>\n",
       "      <td>0.495</td>\n",
       "      <td>0.485</td>\n",
       "      <td>1.0</td>\n",
       "      <td>pre_spermatogonia</td>\n",
       "      <td>MITF.SwissRegulon</td>\n",
       "    </tr>\n",
       "  </tbody>\n",
       "</table>\n",
       "<p>12964 rows × 7 columns</p>\n",
       "</div>"
      ],
      "text/plain": [
       "                           p_val  avg_log2FC  pct.1  pct.2  p_val_adj  \\\n",
       "TFAP2B(var.2).MA0812.1  0.000000   14.532986  0.881  0.230        0.0   \n",
       "TFAP2A.MA0003.3         0.000000   13.920319  0.883  0.231        0.0   \n",
       "TFAP2B.MA0811.1         0.000000   13.084652  0.898  0.214        0.0   \n",
       "TFAP2C.MA0524.2         0.000000   12.551416  0.891  0.229        0.0   \n",
       "AP2A-HUMAN.H10MO.C      0.000000   11.818874  0.914  0.243        0.0   \n",
       "...                          ...         ...    ...    ...        ...   \n",
       "MITF.MA0620.2.6         0.978285   -2.726821  0.503  0.471        1.0   \n",
       "PBX2.MA1113.1.6         0.984087   -0.110353  0.475  0.477        1.0   \n",
       "GSC2.SwissRegulon.6     0.993576   -0.064550  0.495  0.494        1.0   \n",
       "ONECUT3.MA0757.1.6      0.995726    0.058047  0.458  0.482        1.0   \n",
       "MITF.SwissRegulon.6     0.996806   -1.003541  0.495  0.485        1.0   \n",
       "\n",
       "                                  cluster                    gene  \n",
       "TFAP2B(var.2).MA0812.1                PGC  TFAP2B(var.2).MA0812.1  \n",
       "TFAP2A.MA0003.3                       PGC         TFAP2A.MA0003.3  \n",
       "TFAP2B.MA0811.1                       PGC         TFAP2B.MA0811.1  \n",
       "TFAP2C.MA0524.2                       PGC         TFAP2C.MA0524.2  \n",
       "AP2A-HUMAN.H10MO.C                    PGC      AP2A-HUMAN.H10MO.C  \n",
       "...                                   ...                     ...  \n",
       "MITF.MA0620.2.6         pre_spermatogonia           MITF.MA0620.2  \n",
       "PBX2.MA1113.1.6         pre_spermatogonia           PBX2.MA1113.1  \n",
       "GSC2.SwissRegulon.6     pre_spermatogonia       GSC2.SwissRegulon  \n",
       "ONECUT3.MA0757.1.6      pre_spermatogonia        ONECUT3.MA0757.1  \n",
       "MITF.SwissRegulon.6     pre_spermatogonia       MITF.SwissRegulon  \n",
       "\n",
       "[12964 rows x 7 columns]"
      ]
     },
     "execution_count": 13,
     "metadata": {},
     "output_type": "execute_result"
    }
   ],
   "source": [
    "tfs_da = pd.read_csv(outdir + 'TFs/DARs/all_DA_peaks_LR.csv', index_col = 0)\n",
    "tfs_da"
   ]
  },
  {
   "cell_type": "code",
   "execution_count": 14,
   "metadata": {},
   "outputs": [
    {
     "name": "stdout",
     "output_type": "stream",
     "text": [
      "GC\n",
      "(1852, 7)\n",
      "PGC\n",
      "(1852, 7)\n",
      "oocyte\n",
      "(1852, 7)\n",
      "oogonia_STRA8\n",
      "(1852, 7)\n",
      "oogonia_meiotic\n",
      "(1852, 7)\n",
      "pre_oocyte\n",
      "(1852, 7)\n",
      "pre_spermatogonia\n",
      "(1852, 7)\n"
     ]
    }
   ],
   "source": [
    "for c in np.unique(tfs_da['cluster']):\n",
    "    print(c)\n",
    "    print(tfs_da[tfs_da['cluster'] == c].shape)"
   ]
  },
  {
   "cell_type": "code",
   "execution_count": null,
   "metadata": {},
   "outputs": [],
   "source": []
  }
 ],
 "metadata": {
  "kernelspec": {
   "display_name": "atac_env",
   "language": "python",
   "name": "atac_env"
  },
  "language_info": {
   "codemirror_mode": {
    "name": "ipython",
    "version": 3
   },
   "file_extension": ".py",
   "mimetype": "text/x-python",
   "name": "python",
   "nbconvert_exporter": "python",
   "pygments_lexer": "ipython3",
   "version": "3.8.6"
  }
 },
 "nbformat": 4,
 "nbformat_minor": 4
}
