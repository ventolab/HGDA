{
 "cells": [
  {
   "cell_type": "markdown",
   "metadata": {},
   "source": [
    "## ATAC + MULTIOME (females september 2021)\n",
    "\n",
    "### Matching genes to proximal peaks"
   ]
  },
  {
   "cell_type": "markdown",
   "metadata": {},
   "source": [
    "A common approach to start peak - gene correlation analysis is to find all peaks within 50kb of a gene. Here we build an adjacency matrix matching peak to genes.\n",
    "\n"
   ]
  },
  {
   "cell_type": "code",
   "execution_count": 1,
   "metadata": {},
   "outputs": [],
   "source": [
    "import numpy as np\n",
    "import scanpy as sc \n",
    "import pandas as pd\n",
    "import anndata\n",
    "import anndata2ri ## For sparse matrix conversion from r 2 py"
   ]
  },
  {
   "cell_type": "markdown",
   "metadata": {},
   "source": [
    "**r2py setup**"
   ]
  },
  {
   "cell_type": "code",
   "execution_count": 2,
   "metadata": {},
   "outputs": [],
   "source": [
    "import rpy2.rinterface_lib.callbacks\n",
    "import logging"
   ]
  },
  {
   "cell_type": "code",
   "execution_count": 3,
   "metadata": {},
   "outputs": [],
   "source": [
    "# Ignore R warning messages\n",
    "#Note: this can be commented out to get more verbose R output\n",
    "rpy2.rinterface_lib.callbacks.logger.setLevel(logging.ERROR)"
   ]
  },
  {
   "cell_type": "markdown",
   "metadata": {},
   "source": [
    "Loading the rpy2 extension enables cell magic to be used. This runs R code in jupyter notebook cells."
   ]
  },
  {
   "cell_type": "code",
   "execution_count": 4,
   "metadata": {},
   "outputs": [],
   "source": [
    "%load_ext rpy2.ipython"
   ]
  },
  {
   "cell_type": "markdown",
   "metadata": {},
   "source": [
    "**Load data**"
   ]
  },
  {
   "cell_type": "code",
   "execution_count": 5,
   "metadata": {},
   "outputs": [],
   "source": [
    "# Define variables\n",
    "outdir = \"/nfs/team292/vl6/my_MULTIOME_dir/females_july2021/\"\n",
    "experiment_prefix = 'females_'"
   ]
  },
  {
   "cell_type": "code",
   "execution_count": 6,
   "metadata": {},
   "outputs": [],
   "source": [
    "adata = sc.read_h5ad(outdir + experiment_prefix + \"_ATAC.wCisTopic.h5ad\")"
   ]
  },
  {
   "cell_type": "code",
   "execution_count": 7,
   "metadata": {},
   "outputs": [
    {
     "data": {
      "text/plain": [
       "AnnData object with n_obs × n_vars = 90920 × 153356\n",
       "    obs: 'cellatac_clusters', 'n_genes_by_counts', 'log1p_n_genes_by_counts', 'total_counts', 'log1p_total_counts', 'pct_counts_in_top_50_genes', 'pct_counts_in_top_100_genes', 'pct_counts_in_top_200_genes', 'pct_counts_in_top_500_genes', 'multiome_GermCells', 'multiome_Somatic', 'code', 'sample', 'sex', 'stage', 'individual'\n",
       "    var: 'peak_width', 'exon', 'gene', 'promoter', 'annotation', 'gene_name', 'gene_id', 'tss_distance', 'ENCODE_blacklist', 'n_cells_by_counts', 'mean_counts', 'log1p_mean_counts', 'pct_dropout_by_counts', 'total_counts', 'log1p_total_counts'\n",
       "    uns: 'cellatac_clusters_colors', 'individual_colors', 'multiome_GermCells_colors', 'multiome_Somatic_colors', 'neighbors', 'sample_colors', 'stage_colors', 'umap'\n",
       "    obsm: 'X_cistopic_46', 'X_umap'\n",
       "    layers: 'binary_raw'\n",
       "    obsp: 'connectivities', 'distances'"
      ]
     },
     "execution_count": 7,
     "metadata": {},
     "output_type": "execute_result"
    }
   ],
   "source": [
    "adata"
   ]
  },
  {
   "cell_type": "code",
   "execution_count": 8,
   "metadata": {},
   "outputs": [],
   "source": [
    "peaks = adata.var_names"
   ]
  },
  {
   "cell_type": "markdown",
   "metadata": {},
   "source": [
    "**Match peaks to genes**"
   ]
  },
  {
   "cell_type": "code",
   "execution_count": 9,
   "metadata": {},
   "outputs": [],
   "source": [
    "%%R \n",
    "library(Matrix)\n",
    "library(GenomicRanges)\n",
    "library(ensembldb)\n",
    "library(EnsDb.Hsapiens.v86) ## Remember to pick your genome!\n",
    "library(tidyr)\n",
    "# library(Signac)"
   ]
  },
  {
   "cell_type": "code",
   "execution_count": 10,
   "metadata": {},
   "outputs": [],
   "source": [
    "%%R\n",
    "## String - GRanges conversion\n",
    "## Borrowed from Signac functions \n",
    "## https://satijalab.org/signac/reference/GRangesToString.html\n",
    "StringToGRanges <- function(regions, sep = c(\"-\", \"-\"), ...) {\n",
    "  ranges.df <- data.frame(ranges = regions)\n",
    "  ranges.df <- separate(\n",
    "    data = ranges.df,\n",
    "    col = \"ranges\",\n",
    "    sep = paste0(sep[[1]], \"|\", sep[[2]]),\n",
    "    into = c(\"chr\", \"start\", \"end\")\n",
    "  )\n",
    "  granges <- makeGRangesFromDataFrame(df = ranges.df, ...)\n",
    "  return(granges)\n",
    "}\n",
    "\n",
    "GRangesToString <- function(grange, sep = c(\"-\", \"-\")) {\n",
    "  regions <- paste0(\n",
    "    as.character(x = seqnames(x = grange)),\n",
    "    sep[[1]],\n",
    "    start(x = grange),\n",
    "    sep[[2]],\n",
    "    end(x = grange)\n",
    "  )\n",
    "  return(regions)\n",
    "}\n",
    "\n",
    "# Extend genomicRanges\n",
    "# \n",
    "extend <- function(x, upstream=0, downstream=0)     \n",
    "{\n",
    "    if (any(strand(x) == \"*\"))\n",
    "        warning(\"'*' ranges were treated as '+'\")\n",
    "    on_plus <- strand(x) == \"+\" | strand(x) == \"*\"\n",
    "    new_start <- start(x) - ifelse(on_plus, upstream, downstream)\n",
    "    new_end <- end(x) + ifelse(on_plus, downstream, upstream)\n",
    "    ranges(x) <- IRanges(new_start, new_end)\n",
    "    trim(x)\n",
    "}\n",
    "\n",
    "\n",
    "# Find peaks close to features of interest\n",
    "#\n",
    "# @param peaks_gr GenomicRanges object containing peaks\n",
    "# @param features_gr GenomicRanges object containing features (e.g. genes)\n",
    "# @param d distance to include peak, in bps (default 50000)\n",
    "# @param feat_anno column in `features_gr@elementMetadata` containing annotation to name features (if NULL converts Granges to string)\n",
    "#\n",
    "# @return Sparse adjacency matrix indicating hits\n",
    "peak2feature <- function(peaks_gr, features_gr, d=50000, feat_anno=NULL){\n",
    "  seqlevelsStyle(features_gr) <- seqlevelsStyle(peaks_gr)\n",
    "  \n",
    "  ## Find peaks overlapping the search range around the features\n",
    "  ext_gr <- extend(features_gr, upstream = d, downstream = d)\n",
    "  ovs <- findOverlaps(peaks_gr, ext_gr)\n",
    "  \n",
    "  ## Define identifiers for peaks and features\n",
    "  all_peaks <- GRangesToString(peaks_gr, sep = c(\":\", '-'))\n",
    "  if (is.null(feat_anno)) {\n",
    "    all_feats <- GRangesToString(features_gr, sep = c(\":\", '-'))\n",
    "  } else {\n",
    "    all_feats <- features_gr@elementMetadata[[feat_anno]]\n",
    "  }\n",
    "  \n",
    "  ## Build adjacency matrix for hits\n",
    "  adj_mat <- Matrix::Matrix(data=0, nrow = length(all_peaks), ncol=length(all_feats))\n",
    "  for (i in unique(subjectHits(ovs))) {\n",
    "    # if (length(adj_mat[queryHits(ovs[subjectHits(ovs)==i]),i]) > 0) {\n",
    "    adj_mat[queryHits(ovs[subjectHits(ovs)==i]),i] <- 1\n",
    "    # }\n",
    "  }\n",
    "  colnames(adj_mat) <- all_feats\n",
    "  rownames(adj_mat) <- all_peaks\n",
    "  \n",
    "  adj_mat\n",
    "  \n",
    "}"
   ]
  },
  {
   "cell_type": "code",
   "execution_count": 11,
   "metadata": {},
   "outputs": [],
   "source": [
    "%%R  -i peaks -o adj_mat\n",
    "genes_gr <- genes(EnsDb.Hsapiens.v86)\n",
    "peaks_gr <- StringToGRanges(peaks, sep=c(\":\", \"-\"))\n",
    "\n",
    "## Compute peak2gene adjacency matrix\n",
    "adj_mat <- peak2feature(peaks_gr, genes_gr, feat_anno = \"gene_id\", d=50000)"
   ]
  },
  {
   "cell_type": "code",
   "execution_count": 12,
   "metadata": {},
   "outputs": [],
   "source": [
    "%%R -o genes\n",
    "genes <- colnames(adj_mat)"
   ]
  },
  {
   "cell_type": "code",
   "execution_count": 13,
   "metadata": {},
   "outputs": [
    {
     "data": {
      "text/plain": [
       "<rpy2.robjects.methods.RS4 object at 0x7f3e6df4e340> [RTYPES.S4SXP]\n",
       "R classes: ('dgCMatrix',)"
      ]
     },
     "execution_count": 13,
     "metadata": {},
     "output_type": "execute_result"
    }
   ],
   "source": [
    "adj_mat"
   ]
  },
  {
   "cell_type": "code",
   "execution_count": 14,
   "metadata": {},
   "outputs": [],
   "source": [
    "## Convert sparse matrix w anndata2ri\n",
    "adj_mat = anndata2ri.r2py.rmat_to_spmat(adj_mat)"
   ]
  },
  {
   "cell_type": "code",
   "execution_count": 15,
   "metadata": {},
   "outputs": [],
   "source": [
    "adata.varm[\"peak2gene\"] = adj_mat\n",
    "adata.uns[\"peak2gene_genes\"] = genes"
   ]
  },
  {
   "cell_type": "code",
   "execution_count": 16,
   "metadata": {},
   "outputs": [],
   "source": [
    "del adata.uns[\"peak2gene_genes\"]"
   ]
  },
  {
   "cell_type": "markdown",
   "metadata": {},
   "source": [
    "**Save anndata with cisTopic**"
   ]
  },
  {
   "cell_type": "code",
   "execution_count": 17,
   "metadata": {},
   "outputs": [],
   "source": [
    "adata.write_h5ad(outdir + experiment_prefix + \"_ATAC.wCisTopic.h5ad\")"
   ]
  },
  {
   "cell_type": "code",
   "execution_count": 6,
   "metadata": {},
   "outputs": [],
   "source": [
    "adata = sc.read(outdir + experiment_prefix + \"_ATAC.wCisTopic.h5ad\")"
   ]
  },
  {
   "cell_type": "code",
   "execution_count": 18,
   "metadata": {},
   "outputs": [],
   "source": [
    "adata.var['peaks_formatted'] = [i.replace(\":\", \"-\") for i in adata.var_names]"
   ]
  },
  {
   "cell_type": "code",
   "execution_count": 19,
   "metadata": {},
   "outputs": [],
   "source": [
    "adata.var = adata.var.set_index('peaks_formatted')\n",
    "adata.var.to_csv(outdir + experiment_prefix + \"adata_var_for_cicero.csv\")"
   ]
  },
  {
   "cell_type": "code",
   "execution_count": 20,
   "metadata": {},
   "outputs": [
    {
     "data": {
      "text/plain": [
       "(153356, 63970)"
      ]
     },
     "execution_count": 20,
     "metadata": {},
     "output_type": "execute_result"
    }
   ],
   "source": [
    "adata.varm[\"peak2gene\"].shape"
   ]
  },
  {
   "cell_type": "code",
   "execution_count": 21,
   "metadata": {},
   "outputs": [
    {
     "data": {
      "text/html": [
       "\n",
       "        <span>StrVector with 63970 elements.</span>\n",
       "        <table>\n",
       "        <tbody>\n",
       "          <tr>\n",
       "          \n",
       "            <td>\n",
       "            'ENSG0000...\n",
       "            </td>\n",
       "          \n",
       "            <td>\n",
       "            'ENSG0000...\n",
       "            </td>\n",
       "          \n",
       "            <td>\n",
       "            'ENSG0000...\n",
       "            </td>\n",
       "          \n",
       "            <td>\n",
       "            ...\n",
       "            </td>\n",
       "          \n",
       "            <td>\n",
       "            'ENSG0000...\n",
       "            </td>\n",
       "          \n",
       "            <td>\n",
       "            'ENSG0000...\n",
       "            </td>\n",
       "          \n",
       "            <td>\n",
       "            'ENSG0000...\n",
       "            </td>\n",
       "          \n",
       "          </tr>\n",
       "        </tbody>\n",
       "        </table>\n",
       "        "
      ],
      "text/plain": [
       "<rpy2.robjects.vectors.StrVector object at 0x7f3e7acbd600> [RTYPES.STRSXP]\n",
       "R classes: ('character',)\n",
       "['ENSG0000..., 'ENSG0000..., 'ENSG0000..., 'ENSG0000..., ..., 'ENSG0000..., 'ENSG0000..., 'ENSG0000..., 'ENSG0000...]"
      ]
     },
     "execution_count": 21,
     "metadata": {},
     "output_type": "execute_result"
    }
   ],
   "source": [
    "genes"
   ]
  },
  {
   "cell_type": "code",
   "execution_count": 22,
   "metadata": {},
   "outputs": [
    {
     "data": {
      "text/plain": [
       "array(['F81', 'Hrv11', 'Hrv12', 'Hrv13', 'Hrv39', 'Hrv49', 'Hrv50',\n",
       "       'Hrv58', 'Hrv59', 'Hrv65', 'Hrv91', 'Hrv92'], dtype=object)"
      ]
     },
     "execution_count": 22,
     "metadata": {},
     "output_type": "execute_result"
    }
   ],
   "source": [
    "np.unique(adata.obs['individual'])"
   ]
  },
  {
   "cell_type": "code",
   "execution_count": 23,
   "metadata": {},
   "outputs": [
    {
     "data": {
      "text/plain": [
       "chr1     14075\n",
       "chr2     12371\n",
       "chr3      9898\n",
       "chr6      8804\n",
       "chr5      8318\n",
       "chr7      7935\n",
       "chr11     7920\n",
       "chr10     7800\n",
       "chr4      7585\n",
       "chr12     7284\n",
       "chr8      6886\n",
       "chr9      6813\n",
       "chr17     6730\n",
       "chr16     5365\n",
       "chr15     5128\n",
       "chr19     4858\n",
       "chr14     4763\n",
       "chr20     4538\n",
       "chr13     4251\n",
       "chr18     3538\n",
       "chr22     3319\n",
       "chrX      3242\n",
       "chr21     1934\n",
       "chrY         1\n",
       "Name: chromosome, dtype: int64"
      ]
     },
     "execution_count": 23,
     "metadata": {},
     "output_type": "execute_result"
    }
   ],
   "source": [
    "adata.var['chromosome'] = [i.split(\"-\")[0] for i in adata.var_names]\n",
    "adata.var['chromosome'].value_counts(dropna = False)"
   ]
  },
  {
   "cell_type": "code",
   "execution_count": 24,
   "metadata": {},
   "outputs": [
    {
     "data": {
      "text/plain": [
       "Index(['chrY-6533757-6534449'], dtype='object', name='peaks_formatted')"
      ]
     },
     "execution_count": 24,
     "metadata": {},
     "output_type": "execute_result"
    }
   ],
   "source": [
    "adata.var[adata.var['chromosome'] == \"chrY\"].index"
   ]
  },
  {
   "cell_type": "markdown",
   "metadata": {},
   "source": [
    "#### Only 1 read from chromosome Y"
   ]
  },
  {
   "cell_type": "code",
   "execution_count": null,
   "metadata": {},
   "outputs": [],
   "source": []
  }
 ],
 "metadata": {
  "kernelspec": {
   "display_name": "atac_env",
   "language": "python",
   "name": "atac_env"
  },
  "language_info": {
   "codemirror_mode": {
    "name": "ipython",
    "version": 3
   },
   "file_extension": ".py",
   "mimetype": "text/x-python",
   "name": "python",
   "nbconvert_exporter": "python",
   "pygments_lexer": "ipython3",
   "version": "3.8.6"
  }
 },
 "nbformat": 4,
 "nbformat_minor": 4
}
