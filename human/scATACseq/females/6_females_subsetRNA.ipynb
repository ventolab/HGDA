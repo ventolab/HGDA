{
 "cells": [
  {
   "cell_type": "markdown",
   "metadata": {},
   "source": [
    "### Subset scRNAseq data from matched individuals for label transfer to scATACseq"
   ]
  },
  {
   "cell_type": "code",
   "execution_count": 1,
   "metadata": {},
   "outputs": [
    {
     "name": "stderr",
     "output_type": "stream",
     "text": [
      "WARNING: If you miss a compact list, please try `print_header`!\n"
     ]
    },
    {
     "name": "stdout",
     "output_type": "stream",
     "text": [
      "-----\n",
      "anndata     0.7.5\n",
      "scanpy      1.7.0\n",
      "sinfo       0.3.1\n",
      "-----\n",
      "PIL                 8.1.0\n",
      "anndata             0.7.5\n",
      "backcall            0.2.0\n",
      "cairo               1.20.0\n",
      "cffi                1.14.4\n",
      "constants           NA\n",
      "cycler              0.10.0\n",
      "cython_runtime      NA\n",
      "dateutil            2.8.1\n",
      "decorator           4.4.2\n",
      "get_version         2.1\n",
      "h5py                3.1.0\n",
      "highs_wrapper       NA\n",
      "igraph              0.8.3\n",
      "ipykernel           5.4.3\n",
      "ipython_genutils    0.2.0\n",
      "jedi                0.18.0\n",
      "joblib              1.0.0\n",
      "kiwisolver          1.3.1\n",
      "legacy_api_wrap     1.2\n",
      "leidenalg           0.8.3\n",
      "llvmlite            0.35.0\n",
      "matplotlib          3.3.4\n",
      "mpl_toolkits        NA\n",
      "natsort             7.1.1\n",
      "numba               0.52.0\n",
      "numexpr             2.7.2\n",
      "numpy               1.21.2\n",
      "packaging           20.9\n",
      "pandas              1.2.1\n",
      "parso               0.8.1\n",
      "pexpect             4.8.0\n",
      "pickleshare         0.7.5\n",
      "pkg_resources       NA\n",
      "prompt_toolkit      3.0.14\n",
      "ptyprocess          0.7.0\n",
      "pygments            2.7.4\n",
      "pyparsing           2.4.7\n",
      "pytz                2021.1\n",
      "scanpy              1.7.0\n",
      "scipy               1.6.0\n",
      "setuptools_scm      NA\n",
      "sinfo               0.3.1\n",
      "six                 1.15.0\n",
      "sklearn             0.24.1\n",
      "storemagic          NA\n",
      "tables              3.6.1\n",
      "texttable           1.6.3\n",
      "tornado             6.1\n",
      "traitlets           5.0.5\n",
      "wcwidth             0.2.5\n",
      "zmq                 22.0.2\n",
      "-----\n",
      "IPython             7.20.0\n",
      "jupyter_client      6.1.11\n",
      "jupyter_core        4.7.1\n",
      "-----\n",
      "Python 3.8.6 | packaged by conda-forge | (default, Jan 25 2021, 23:21:18) [GCC 9.3.0]\n",
      "Linux-4.15.0-158-generic-x86_64-with-glibc2.10\n",
      "60 logical CPU cores, x86_64\n",
      "-----\n",
      "Session information updated at 2021-09-27 08:18\n",
      "\n"
     ]
    },
    {
     "data": {
      "text/plain": [
       "'/opt/conda/envs/atac_env/bin/python'"
      ]
     },
     "execution_count": 1,
     "metadata": {},
     "output_type": "execute_result"
    }
   ],
   "source": [
    "import numpy as np\n",
    "import pandas as pd\n",
    "import scanpy as sc\n",
    "import anndata\n",
    "import os\n",
    "\n",
    "import sys\n",
    "\n",
    "def MovePlots(plotpattern, subplotdir):\n",
    "    os.system('mkdir -p '+str(sc.settings.figdir)+'/'+subplotdir)\n",
    "    os.system('mv '+str(sc.settings.figdir)+'/*'+plotpattern+'** '+str(sc.settings.figdir)+'/'+subplotdir)\n",
    "\n",
    "sc.settings.verbosity = 3  # verbosity: errors (0), warnings (1), info (2), hints (3)\n",
    "sc.settings.figdir = '/home/jovyan/MULTIOME_july2021/figures_females/'\n",
    "sc.logging.print_versions()\n",
    "sc.settings.set_figure_params(dpi=80)  # low dpi (dots per inch) yields small inline figures\n",
    "\n",
    "sys.executable"
   ]
  },
  {
   "cell_type": "markdown",
   "metadata": {},
   "source": [
    "#### Load scRNAseq data"
   ]
  },
  {
   "cell_type": "code",
   "execution_count": 2,
   "metadata": {},
   "outputs": [
    {
     "name": "stderr",
     "output_type": "stream",
     "text": [
      "/opt/conda/envs/atac_env/lib/python3.8/site-packages/IPython/core/interactiveshell.py:3155: DtypeWarning: Columns (29,30,32) have mixed types.Specify dtype option on import or set low_memory=False.\n",
      "  has_raised = await self.run_ast_nodes(code_ast.body, cell_name,\n"
     ]
    }
   ],
   "source": [
    "adata = sc.read('/nfs/users/nfs_l/lg18/team292/lg18/with_valentina/gonadsV2_revision/FCA-gonads_rawcounts.h5ad')\n",
    "metadata = pd.read_csv('/nfs/users/nfs_l/lg18/team292/lg18/with_valentina/gonadsV2_revision/FCA-gonads_female_annotated.csv', index_col = 0)\n"
   ]
  },
  {
   "cell_type": "code",
   "execution_count": 3,
   "metadata": {},
   "outputs": [
    {
     "data": {
      "text/html": [
       "<div>\n",
       "<style scoped>\n",
       "    .dataframe tbody tr th:only-of-type {\n",
       "        vertical-align: middle;\n",
       "    }\n",
       "\n",
       "    .dataframe tbody tr th {\n",
       "        vertical-align: top;\n",
       "    }\n",
       "\n",
       "    .dataframe thead th {\n",
       "        text-align: right;\n",
       "    }\n",
       "</style>\n",
       "<table border=\"1\" class=\"dataframe\">\n",
       "  <thead>\n",
       "    <tr style=\"text-align: right;\">\n",
       "      <th></th>\n",
       "      <th>n_genes</th>\n",
       "      <th>sample</th>\n",
       "      <th>donor</th>\n",
       "      <th>location</th>\n",
       "      <th>stage</th>\n",
       "      <th>sex</th>\n",
       "      <th>study</th>\n",
       "      <th>batch_collection</th>\n",
       "      <th>enrichment</th>\n",
       "      <th>cryopreserved</th>\n",
       "      <th>...</th>\n",
       "      <th>lineages_v1</th>\n",
       "      <th>celltype_v1</th>\n",
       "      <th>lineage_v2</th>\n",
       "      <th>somatic_celltype_v2</th>\n",
       "      <th>PCW</th>\n",
       "      <th>sample_source</th>\n",
       "      <th>trimester</th>\n",
       "      <th>leiden</th>\n",
       "      <th>leiden_R</th>\n",
       "      <th>lineage</th>\n",
       "    </tr>\n",
       "  </thead>\n",
       "  <tbody>\n",
       "    <tr>\n",
       "      <th>FCA_GND8047885_AAACCTGAGCACACAG</th>\n",
       "      <td>2554</td>\n",
       "      <td>FCA_GND8047885</td>\n",
       "      <td>F81</td>\n",
       "      <td>Gonad_and_extragonadal</td>\n",
       "      <td>8.8</td>\n",
       "      <td>female</td>\n",
       "      <td>FCA</td>\n",
       "      <td>A</td>\n",
       "      <td>CD45-</td>\n",
       "      <td>No</td>\n",
       "      <td>...</td>\n",
       "      <td>Supporting_female</td>\n",
       "      <td>preGC_II</td>\n",
       "      <td>Supporting</td>\n",
       "      <td>preGC_IIa</td>\n",
       "      <td>8.8</td>\n",
       "      <td>N</td>\n",
       "      <td>1st</td>\n",
       "      <td>1</td>\n",
       "      <td>1</td>\n",
       "      <td>preGranulosa</td>\n",
       "    </tr>\n",
       "    <tr>\n",
       "      <th>FCA_GND8047885_AAACCTGAGCACGCCT</th>\n",
       "      <td>2032</td>\n",
       "      <td>FCA_GND8047885</td>\n",
       "      <td>F81</td>\n",
       "      <td>Gonad_and_extragonadal</td>\n",
       "      <td>8.8</td>\n",
       "      <td>female</td>\n",
       "      <td>FCA</td>\n",
       "      <td>A</td>\n",
       "      <td>CD45-</td>\n",
       "      <td>No</td>\n",
       "      <td>...</td>\n",
       "      <td>Supporting_female</td>\n",
       "      <td>preGC_II_hypoxia</td>\n",
       "      <td>Supporting</td>\n",
       "      <td>preGC_IIa</td>\n",
       "      <td>8.8</td>\n",
       "      <td>N</td>\n",
       "      <td>1st</td>\n",
       "      <td>1</td>\n",
       "      <td>1</td>\n",
       "      <td>preGranulosa</td>\n",
       "    </tr>\n",
       "    <tr>\n",
       "      <th>FCA_GND8047885_AAACCTGAGCAGCCTC</th>\n",
       "      <td>2664</td>\n",
       "      <td>FCA_GND8047885</td>\n",
       "      <td>F81</td>\n",
       "      <td>Gonad_and_extragonadal</td>\n",
       "      <td>8.8</td>\n",
       "      <td>female</td>\n",
       "      <td>FCA</td>\n",
       "      <td>A</td>\n",
       "      <td>CD45-</td>\n",
       "      <td>No</td>\n",
       "      <td>...</td>\n",
       "      <td>Mesenchymal_LHX9_ARX</td>\n",
       "      <td>M_cycling</td>\n",
       "      <td>Mesenchymal_LHX9</td>\n",
       "      <td>Gi</td>\n",
       "      <td>8.8</td>\n",
       "      <td>N</td>\n",
       "      <td>1st</td>\n",
       "      <td>3</td>\n",
       "      <td>3</td>\n",
       "      <td>Mesenchymal_LHX9</td>\n",
       "    </tr>\n",
       "    <tr>\n",
       "      <th>FCA_GND8047885_AAACCTGAGCCACGCT</th>\n",
       "      <td>2256</td>\n",
       "      <td>FCA_GND8047885</td>\n",
       "      <td>F81</td>\n",
       "      <td>Gonad_and_extragonadal</td>\n",
       "      <td>8.8</td>\n",
       "      <td>female</td>\n",
       "      <td>FCA</td>\n",
       "      <td>A</td>\n",
       "      <td>CD45-</td>\n",
       "      <td>No</td>\n",
       "      <td>...</td>\n",
       "      <td>Supporting_female</td>\n",
       "      <td>sLGR5</td>\n",
       "      <td>Supporting</td>\n",
       "      <td>preGC_IIa</td>\n",
       "      <td>8.8</td>\n",
       "      <td>N</td>\n",
       "      <td>1st</td>\n",
       "      <td>7</td>\n",
       "      <td>7</td>\n",
       "      <td>Supporting</td>\n",
       "    </tr>\n",
       "    <tr>\n",
       "      <th>FCA_GND8047885_AAACCTGAGCTTTGGT</th>\n",
       "      <td>2064</td>\n",
       "      <td>FCA_GND8047885</td>\n",
       "      <td>F81</td>\n",
       "      <td>Gonad_and_extragonadal</td>\n",
       "      <td>8.8</td>\n",
       "      <td>female</td>\n",
       "      <td>FCA</td>\n",
       "      <td>A</td>\n",
       "      <td>CD45-</td>\n",
       "      <td>No</td>\n",
       "      <td>...</td>\n",
       "      <td>lowQC</td>\n",
       "      <td>lowQC</td>\n",
       "      <td>Mesenchymal_LHX9</td>\n",
       "      <td>Oi</td>\n",
       "      <td>8.8</td>\n",
       "      <td>N</td>\n",
       "      <td>1st</td>\n",
       "      <td>3</td>\n",
       "      <td>3</td>\n",
       "      <td>Mesenchymal_LHX9</td>\n",
       "    </tr>\n",
       "  </tbody>\n",
       "</table>\n",
       "<p>5 rows × 38 columns</p>\n",
       "</div>"
      ],
      "text/plain": [
       "                                 n_genes          sample donor  \\\n",
       "FCA_GND8047885_AAACCTGAGCACACAG     2554  FCA_GND8047885   F81   \n",
       "FCA_GND8047885_AAACCTGAGCACGCCT     2032  FCA_GND8047885   F81   \n",
       "FCA_GND8047885_AAACCTGAGCAGCCTC     2664  FCA_GND8047885   F81   \n",
       "FCA_GND8047885_AAACCTGAGCCACGCT     2256  FCA_GND8047885   F81   \n",
       "FCA_GND8047885_AAACCTGAGCTTTGGT     2064  FCA_GND8047885   F81   \n",
       "\n",
       "                                               location  stage     sex study  \\\n",
       "FCA_GND8047885_AAACCTGAGCACACAG  Gonad_and_extragonadal    8.8  female   FCA   \n",
       "FCA_GND8047885_AAACCTGAGCACGCCT  Gonad_and_extragonadal    8.8  female   FCA   \n",
       "FCA_GND8047885_AAACCTGAGCAGCCTC  Gonad_and_extragonadal    8.8  female   FCA   \n",
       "FCA_GND8047885_AAACCTGAGCCACGCT  Gonad_and_extragonadal    8.8  female   FCA   \n",
       "FCA_GND8047885_AAACCTGAGCTTTGGT  Gonad_and_extragonadal    8.8  female   FCA   \n",
       "\n",
       "                                batch_collection enrichment cryopreserved  \\\n",
       "FCA_GND8047885_AAACCTGAGCACACAG                A      CD45-            No   \n",
       "FCA_GND8047885_AAACCTGAGCACGCCT                A      CD45-            No   \n",
       "FCA_GND8047885_AAACCTGAGCAGCCTC                A      CD45-            No   \n",
       "FCA_GND8047885_AAACCTGAGCCACGCT                A      CD45-            No   \n",
       "FCA_GND8047885_AAACCTGAGCTTTGGT                A      CD45-            No   \n",
       "\n",
       "                                 ...           lineages_v1       celltype_v1  \\\n",
       "FCA_GND8047885_AAACCTGAGCACACAG  ...     Supporting_female          preGC_II   \n",
       "FCA_GND8047885_AAACCTGAGCACGCCT  ...     Supporting_female  preGC_II_hypoxia   \n",
       "FCA_GND8047885_AAACCTGAGCAGCCTC  ...  Mesenchymal_LHX9_ARX         M_cycling   \n",
       "FCA_GND8047885_AAACCTGAGCCACGCT  ...     Supporting_female             sLGR5   \n",
       "FCA_GND8047885_AAACCTGAGCTTTGGT  ...                 lowQC             lowQC   \n",
       "\n",
       "                                       lineage_v2  somatic_celltype_v2  PCW  \\\n",
       "FCA_GND8047885_AAACCTGAGCACACAG        Supporting            preGC_IIa  8.8   \n",
       "FCA_GND8047885_AAACCTGAGCACGCCT        Supporting            preGC_IIa  8.8   \n",
       "FCA_GND8047885_AAACCTGAGCAGCCTC  Mesenchymal_LHX9                   Gi  8.8   \n",
       "FCA_GND8047885_AAACCTGAGCCACGCT        Supporting            preGC_IIa  8.8   \n",
       "FCA_GND8047885_AAACCTGAGCTTTGGT  Mesenchymal_LHX9                   Oi  8.8   \n",
       "\n",
       "                                 sample_source  trimester  leiden  leiden_R  \\\n",
       "FCA_GND8047885_AAACCTGAGCACACAG              N        1st       1         1   \n",
       "FCA_GND8047885_AAACCTGAGCACGCCT              N        1st       1         1   \n",
       "FCA_GND8047885_AAACCTGAGCAGCCTC              N        1st       3         3   \n",
       "FCA_GND8047885_AAACCTGAGCCACGCT              N        1st       7         7   \n",
       "FCA_GND8047885_AAACCTGAGCTTTGGT              N        1st       3         3   \n",
       "\n",
       "                                          lineage  \n",
       "FCA_GND8047885_AAACCTGAGCACACAG      preGranulosa  \n",
       "FCA_GND8047885_AAACCTGAGCACGCCT      preGranulosa  \n",
       "FCA_GND8047885_AAACCTGAGCAGCCTC  Mesenchymal_LHX9  \n",
       "FCA_GND8047885_AAACCTGAGCCACGCT        Supporting  \n",
       "FCA_GND8047885_AAACCTGAGCTTTGGT  Mesenchymal_LHX9  \n",
       "\n",
       "[5 rows x 38 columns]"
      ]
     },
     "execution_count": 3,
     "metadata": {},
     "output_type": "execute_result"
    }
   ],
   "source": [
    "metadata.head()"
   ]
  },
  {
   "cell_type": "code",
   "execution_count": 4,
   "metadata": {},
   "outputs": [],
   "source": [
    "mapping = metadata['lineage'].to_dict()\n",
    "adata.obs['lineage'] = adata.obs.index.map(mapping)"
   ]
  },
  {
   "cell_type": "code",
   "execution_count": 5,
   "metadata": {},
   "outputs": [
    {
     "data": {
      "text/plain": [
       "NaN                  152593\n",
       "Mesenchymal_GATA2     48660\n",
       "preGranulosa          38881\n",
       "Mesenchymal_LHX9      30946\n",
       "Supporting            24168\n",
       "lowQC                 21802\n",
       "CoelEpi               21411\n",
       "Epithelial            16495\n",
       "GermCells             10892\n",
       "PV                    10338\n",
       "Endothelial            8362\n",
       "SMCs                   3044\n",
       "Immune                 2627\n",
       "Neural                 2264\n",
       "Doublet                1841\n",
       "cont                   1378\n",
       "Erythroid               863\n",
       "Name: lineage, dtype: int64"
      ]
     },
     "execution_count": 5,
     "metadata": {},
     "output_type": "execute_result"
    }
   ],
   "source": [
    "adata.obs['lineage'].value_counts(dropna = False)"
   ]
  },
  {
   "cell_type": "code",
   "execution_count": 6,
   "metadata": {},
   "outputs": [
    {
     "data": {
      "text/plain": [
       "array(['F100', 'F122', 'F123', 'F126', 'F133', 'F81', 'F83', 'F84', 'F86',\n",
       "       'F87', 'F88', 'F89', 'F91', 'F93', 'F96', 'F99', 'Hrv10', 'Hrv11',\n",
       "       'Hrv12', 'Hrv13', 'Hrv15', 'Hrv16', 'Hrv17', 'Hrv18', 'Hrv21',\n",
       "       'Hrv25', 'Hrv27', 'Hrv3', 'Hrv30', 'Hrv31', 'Hrv32', 'Hrv33',\n",
       "       'Hrv34', 'Hrv37', 'Hrv39', 'Hrv40', 'Hrv41', 'Hrv47', 'Hrv49',\n",
       "       'Hrv51', 'Hrv54', 'Hrv55', 'Hrv57', 'Hrv58', 'Hrv59', 'Hrv85',\n",
       "       'Hrv86', 'Hrv91', 'Hrv92', 'Hrv93', 'Hrv99'], dtype=object)"
      ]
     },
     "execution_count": 6,
     "metadata": {},
     "output_type": "execute_result"
    }
   ],
   "source": [
    "np.unique(adata.obs['donor'])"
   ]
  },
  {
   "cell_type": "code",
   "execution_count": 7,
   "metadata": {},
   "outputs": [
    {
     "name": "stderr",
     "output_type": "stream",
     "text": [
      "/opt/conda/envs/atac_env/lib/python3.8/site-packages/pandas/core/arrays/categorical.py:2487: FutureWarning: The `inplace` parameter in pandas.Categorical.remove_unused_categories is deprecated and will be removed in a future version.\n",
      "  res = method(*args, **kwargs)\n"
     ]
    }
   ],
   "source": [
    "adata = adata[[i in ['female'] for i in adata.obs.sex]]"
   ]
  },
  {
   "cell_type": "markdown",
   "metadata": {},
   "source": [
    "#### Select matching samples from ATACseq"
   ]
  },
  {
   "cell_type": "code",
   "execution_count": 8,
   "metadata": {},
   "outputs": [
    {
     "data": {
      "text/plain": [
       "(83329, 28820)"
      ]
     },
     "execution_count": 8,
     "metadata": {},
     "output_type": "execute_result"
    }
   ],
   "source": [
    "matching = ['F81', 'Hrv11', 'Hrv12', 'Hrv13', 'Hrv39', 'Hrv49', 'Hrv50',\n",
    "       'Hrv58', 'Hrv59', 'Hrv65', 'Hrv91', 'Hrv92'] # females\n",
    "adata = adata[[i in matching for i in adata.obs['donor']]]\n",
    "adata.shape"
   ]
  },
  {
   "cell_type": "code",
   "execution_count": 9,
   "metadata": {},
   "outputs": [
    {
     "data": {
      "text/plain": [
       "Mesenchymal_GATA2    18728\n",
       "Mesenchymal_LHX9     10891\n",
       "lowQC                10462\n",
       "Supporting            9157\n",
       "preGranulosa          8550\n",
       "Epithelial            5679\n",
       "PV                    5309\n",
       "CoelEpi               3583\n",
       "Endothelial           3176\n",
       "SMCs                  3038\n",
       "GermCells             2474\n",
       "Immune                1008\n",
       "Neural                 830\n",
       "Doublet                337\n",
       "Erythroid              105\n",
       "cont                     2\n",
       "Name: lineage, dtype: int64"
      ]
     },
     "execution_count": 9,
     "metadata": {},
     "output_type": "execute_result"
    }
   ],
   "source": [
    "adata.obs['lineage'].value_counts(dropna = False)"
   ]
  },
  {
   "cell_type": "code",
   "execution_count": 10,
   "metadata": {},
   "outputs": [],
   "source": [
    "adata = adata[[i not in ['cont', 'Doublet', 'lowQC']\n",
    "              for i in adata.obs['lineage']]]"
   ]
  },
  {
   "cell_type": "code",
   "execution_count": 11,
   "metadata": {},
   "outputs": [
    {
     "data": {
      "text/plain": [
       "Mesenchymal_GATA2    18728\n",
       "Mesenchymal_LHX9     10891\n",
       "Supporting            9157\n",
       "preGranulosa          8550\n",
       "Epithelial            5679\n",
       "PV                    5309\n",
       "CoelEpi               3583\n",
       "Endothelial           3176\n",
       "SMCs                  3038\n",
       "GermCells             2474\n",
       "Immune                1008\n",
       "Neural                 830\n",
       "Erythroid              105\n",
       "Name: lineage, dtype: int64"
      ]
     },
     "execution_count": 11,
     "metadata": {},
     "output_type": "execute_result"
    }
   ],
   "source": [
    "adata.obs['lineage'].value_counts(dropna = False)"
   ]
  },
  {
   "cell_type": "markdown",
   "metadata": {},
   "source": [
    "#### Downsample "
   ]
  },
  {
   "cell_type": "code",
   "execution_count": 12,
   "metadata": {},
   "outputs": [
    {
     "data": {
      "text/plain": [
       "array([18728, 10891,  9157,  8550,  5679,  5309,  3583,  3176,  3038,\n",
       "        2474,  1008,   830,   105])"
      ]
     },
     "execution_count": 12,
     "metadata": {},
     "output_type": "execute_result"
    }
   ],
   "source": [
    "myindex = adata.obs['lineage'].value_counts().index \n",
    "myvalues = adata.obs['lineage'].value_counts().values\n",
    "clusters = pd.Series(myvalues, index = myindex)\n",
    "clusters.values"
   ]
  },
  {
   "cell_type": "code",
   "execution_count": 13,
   "metadata": {},
   "outputs": [
    {
     "name": "stdout",
     "output_type": "stream",
     "text": [
      "Mesenchymal_GATA2\n",
      "Mesenchymal_LHX9\n",
      "Supporting\n",
      "preGranulosa\n"
     ]
    },
    {
     "data": {
      "text/plain": [
       "(57202, 28820)"
      ]
     },
     "execution_count": 13,
     "metadata": {},
     "output_type": "execute_result"
    }
   ],
   "source": [
    "import random\n",
    "from itertools import chain\n",
    "\n",
    "# Find clusters with > n cells\n",
    "n = 8000\n",
    "cl2downsample = clusters.index[ clusters.values > n ]\n",
    "\n",
    "# save all barcode ids from small clusters\n",
    "holder = []\n",
    "holder.append( adata.obs_names[[ i not in cl2downsample for i in adata.obs['lineage'] ]] ) \n",
    "\n",
    "# randomly sample n cells in the cl2downsample\n",
    "for cl in cl2downsample:\n",
    "    print(cl)\n",
    "    cl_sample = adata[[ i == cl for i in adata.obs['lineage'] ]].obs_names\n",
    "    # n = int(round(len(cl_sample)/2, 0))\n",
    "    cl_downsample = random.sample(set(cl_sample), n )\n",
    "    holder.append(cl_downsample)\n",
    "    \n",
    "# samples to include\n",
    "samples = list(chain(*holder))\n",
    "\n",
    "# Filter adata_count\n",
    "adata = adata[[ i in samples for i in adata.obs_names ]]\n",
    "adata.X.shape"
   ]
  },
  {
   "cell_type": "code",
   "execution_count": 14,
   "metadata": {},
   "outputs": [
    {
     "data": {
      "text/plain": [
       "View of AnnData object with n_obs × n_vars = 57202 × 28820\n",
       "    obs: 'n_genes', 'sample', 'donor', 'location', 'stage', 'sex', 'study', 'batch_collection', 'enrichment', 'cryopreserved', 'TP', '10xKit', 'dig_protocol', 'percent_mito', 'n_counts', 'batch', 'low_ncounts', 'high_mito', 'low_ncounts_high_mito', 'S_score', 'G2M_score', 'phase', 'scrublet_score', 'scrublet_cluster_score', 'zscore', 'bh_pval', 'bonf_pval', 'is_doublet', 'lineages_v1', 'celltype_v1', 'lineage_v2', 'somatic_celltype_v2', 'PCW', 'sample_source', 'trimester', 'lineage'\n",
       "    var: 'gene_ids-0', 'feature_types-0', 'n_cells-0', 'gene_ids-1', 'feature_types-1', 'n_cells-1', 'gene_ids-10', 'feature_types-10', 'n_cells-10', 'gene_ids-11', 'feature_types-11', 'n_cells-11', 'gene_ids-12', 'feature_types-12', 'n_cells-12', 'gene_ids-13', 'feature_types-13', 'n_cells-13', 'gene_ids-14', 'feature_types-14', 'n_cells-14', 'gene_ids-15', 'feature_types-15', 'n_cells-15', 'gene_ids-16', 'feature_types-16', 'n_cells-16', 'gene_ids-17', 'feature_types-17', 'n_cells-17', 'gene_ids-18', 'feature_types-18', 'n_cells-18', 'gene_ids-19', 'feature_types-19', 'n_cells-19', 'gene_ids-2', 'feature_types-2', 'n_cells-2', 'gene_ids-20', 'feature_types-20', 'n_cells-20', 'gene_ids-21', 'feature_types-21', 'n_cells-21', 'gene_ids-22', 'feature_types-22', 'n_cells-22', 'gene_ids-23', 'feature_types-23', 'n_cells-23', 'gene_ids-24', 'feature_types-24', 'n_cells-24', 'gene_ids-25', 'feature_types-25', 'n_cells-25', 'gene_ids-26', 'feature_types-26', 'n_cells-26', 'gene_ids-27', 'feature_types-27', 'n_cells-27', 'gene_ids-28', 'feature_types-28', 'n_cells-28', 'gene_ids-29', 'feature_types-29', 'n_cells-29', 'gene_ids-3', 'feature_types-3', 'n_cells-3', 'gene_ids-30', 'feature_types-30', 'n_cells-30', 'gene_ids-31', 'feature_types-31', 'n_cells-31', 'gene_ids-32', 'feature_types-32', 'n_cells-32', 'gene_ids-33', 'feature_types-33', 'n_cells-33', 'gene_ids-34', 'feature_types-34', 'n_cells-34', 'gene_ids-35', 'feature_types-35', 'n_cells-35', 'gene_ids-36', 'feature_types-36', 'n_cells-36', 'gene_ids-37', 'feature_types-37', 'n_cells-37', 'gene_ids-38', 'feature_types-38', 'n_cells-38', 'gene_ids-39', 'feature_types-39', 'n_cells-39', 'gene_ids-4', 'feature_types-4', 'n_cells-4', 'gene_ids-40', 'feature_types-40', 'n_cells-40', 'gene_ids-41', 'feature_types-41', 'n_cells-41', 'gene_ids-42', 'feature_types-42', 'n_cells-42', 'gene_ids-43', 'feature_types-43', 'n_cells-43', 'gene_ids-44', 'feature_types-44', 'n_cells-44', 'gene_ids-45', 'feature_types-45', 'n_cells-45', 'gene_ids-46', 'feature_types-46', 'n_cells-46', 'gene_ids-47', 'feature_types-47', 'n_cells-47', 'gene_ids-48', 'feature_types-48', 'n_cells-48', 'gene_ids-49', 'feature_types-49', 'n_cells-49', 'gene_ids-5', 'feature_types-5', 'n_cells-5', 'gene_ids-50', 'feature_types-50', 'n_cells-50', 'gene_ids-51', 'feature_types-51', 'n_cells-51', 'gene_ids-52', 'feature_types-52', 'n_cells-52', 'gene_ids-53', 'feature_types-53', 'n_cells-53', 'gene_ids-54', 'feature_types-54', 'n_cells-54', 'gene_ids-55', 'feature_types-55', 'n_cells-55', 'gene_ids-56', 'feature_types-56', 'n_cells-56', 'gene_ids-57', 'feature_types-57', 'n_cells-57', 'gene_ids-58', 'feature_types-58', 'n_cells-58', 'gene_ids-59', 'feature_types-59', 'n_cells-59', 'gene_ids-6', 'feature_types-6', 'n_cells-6', 'gene_ids-60', 'feature_types-60', 'n_cells-60', 'gene_ids-61', 'feature_types-61', 'n_cells-61', 'gene_ids-62', 'feature_types-62', 'n_cells-62', 'gene_ids-63', 'feature_types-63', 'n_cells-63', 'gene_ids-64', 'feature_types-64', 'n_cells-64', 'gene_ids-65', 'feature_types-65', 'n_cells-65', 'gene_ids-66', 'feature_types-66', 'n_cells-66', 'gene_ids-67', 'feature_types-67', 'n_cells-67', 'gene_ids-68', 'feature_types-68', 'n_cells-68', 'gene_ids-69', 'feature_types-69', 'n_cells-69', 'gene_ids-7', 'feature_types-7', 'n_cells-7', 'gene_ids-70', 'feature_types-70', 'n_cells-70', 'gene_ids-71', 'feature_types-71', 'n_cells-71', 'gene_ids-8', 'feature_types-8', 'n_cells-8', 'gene_ids-9', 'feature_types-9', 'n_cells-9', 'n_cells', 'highly_variable', 'highly_variable_rank', 'means', 'variances', 'variances_norm'\n",
       "    uns: 'TP_colors', 'batch_collection_colors', 'ccgs', 'donor_colors', 'hvg', 'sex_colors'"
      ]
     },
     "execution_count": 14,
     "metadata": {},
     "output_type": "execute_result"
    }
   ],
   "source": [
    "adata"
   ]
  },
  {
   "cell_type": "markdown",
   "metadata": {},
   "source": [
    "#### Save anndata object to perform integration with ATAC with Seurat"
   ]
  },
  {
   "cell_type": "code",
   "execution_count": 15,
   "metadata": {},
   "outputs": [],
   "source": [
    "del adata.uns "
   ]
  },
  {
   "cell_type": "code",
   "execution_count": 16,
   "metadata": {},
   "outputs": [],
   "source": [
    "for i in adata.obs.columns:\n",
    "    if i not in ['lineage', 'donor', 'sample']:\n",
    "        del adata.obs[i] "
   ]
  },
  {
   "cell_type": "code",
   "execution_count": 17,
   "metadata": {},
   "outputs": [
    {
     "data": {
      "text/html": [
       "<div>\n",
       "<style scoped>\n",
       "    .dataframe tbody tr th:only-of-type {\n",
       "        vertical-align: middle;\n",
       "    }\n",
       "\n",
       "    .dataframe tbody tr th {\n",
       "        vertical-align: top;\n",
       "    }\n",
       "\n",
       "    .dataframe thead th {\n",
       "        text-align: right;\n",
       "    }\n",
       "</style>\n",
       "<table border=\"1\" class=\"dataframe\">\n",
       "  <thead>\n",
       "    <tr style=\"text-align: right;\">\n",
       "      <th></th>\n",
       "      <th>sample</th>\n",
       "      <th>donor</th>\n",
       "      <th>lineage</th>\n",
       "    </tr>\n",
       "  </thead>\n",
       "  <tbody>\n",
       "    <tr>\n",
       "      <th>FCA_GND8047885_AAACCTGAGCACACAG</th>\n",
       "      <td>FCA_GND8047885</td>\n",
       "      <td>F81</td>\n",
       "      <td>preGranulosa</td>\n",
       "    </tr>\n",
       "    <tr>\n",
       "      <th>FCA_GND8047885_AAACCTGAGCACGCCT</th>\n",
       "      <td>FCA_GND8047885</td>\n",
       "      <td>F81</td>\n",
       "      <td>preGranulosa</td>\n",
       "    </tr>\n",
       "    <tr>\n",
       "      <th>FCA_GND8047885_AAACCTGAGCAGCCTC</th>\n",
       "      <td>FCA_GND8047885</td>\n",
       "      <td>F81</td>\n",
       "      <td>Mesenchymal_LHX9</td>\n",
       "    </tr>\n",
       "    <tr>\n",
       "      <th>FCA_GND8047885_AAACCTGAGCCACGCT</th>\n",
       "      <td>FCA_GND8047885</td>\n",
       "      <td>F81</td>\n",
       "      <td>Supporting</td>\n",
       "    </tr>\n",
       "    <tr>\n",
       "      <th>FCA_GND8047885_AAACCTGAGTACGTAA</th>\n",
       "      <td>FCA_GND8047885</td>\n",
       "      <td>F81</td>\n",
       "      <td>preGranulosa</td>\n",
       "    </tr>\n",
       "    <tr>\n",
       "      <th>...</th>\n",
       "      <td>...</td>\n",
       "      <td>...</td>\n",
       "      <td>...</td>\n",
       "    </tr>\n",
       "    <tr>\n",
       "      <th>HD_F_GON9525516_TTTGTCACACATCTTT</th>\n",
       "      <td>HD_F_GON9525516</td>\n",
       "      <td>Hrv91</td>\n",
       "      <td>preGranulosa</td>\n",
       "    </tr>\n",
       "    <tr>\n",
       "      <th>HD_F_GON9525516_TTTGTCAGTAGTAGTA</th>\n",
       "      <td>HD_F_GON9525516</td>\n",
       "      <td>Hrv91</td>\n",
       "      <td>Mesenchymal_LHX9</td>\n",
       "    </tr>\n",
       "    <tr>\n",
       "      <th>HD_F_GON9525516_TTTGTCATCGGCGCAT</th>\n",
       "      <td>HD_F_GON9525516</td>\n",
       "      <td>Hrv91</td>\n",
       "      <td>Mesenchymal_LHX9</td>\n",
       "    </tr>\n",
       "    <tr>\n",
       "      <th>HD_F_GON9525516_TTTGTCATCGTCTGCT</th>\n",
       "      <td>HD_F_GON9525516</td>\n",
       "      <td>Hrv91</td>\n",
       "      <td>preGranulosa</td>\n",
       "    </tr>\n",
       "    <tr>\n",
       "      <th>HD_F_GON9525516_TTTGTCATCTCCAGGG</th>\n",
       "      <td>HD_F_GON9525516</td>\n",
       "      <td>Hrv91</td>\n",
       "      <td>preGranulosa</td>\n",
       "    </tr>\n",
       "  </tbody>\n",
       "</table>\n",
       "<p>57202 rows × 3 columns</p>\n",
       "</div>"
      ],
      "text/plain": [
       "                                           sample  donor           lineage\n",
       "FCA_GND8047885_AAACCTGAGCACACAG    FCA_GND8047885    F81      preGranulosa\n",
       "FCA_GND8047885_AAACCTGAGCACGCCT    FCA_GND8047885    F81      preGranulosa\n",
       "FCA_GND8047885_AAACCTGAGCAGCCTC    FCA_GND8047885    F81  Mesenchymal_LHX9\n",
       "FCA_GND8047885_AAACCTGAGCCACGCT    FCA_GND8047885    F81        Supporting\n",
       "FCA_GND8047885_AAACCTGAGTACGTAA    FCA_GND8047885    F81      preGranulosa\n",
       "...                                           ...    ...               ...\n",
       "HD_F_GON9525516_TTTGTCACACATCTTT  HD_F_GON9525516  Hrv91      preGranulosa\n",
       "HD_F_GON9525516_TTTGTCAGTAGTAGTA  HD_F_GON9525516  Hrv91  Mesenchymal_LHX9\n",
       "HD_F_GON9525516_TTTGTCATCGGCGCAT  HD_F_GON9525516  Hrv91  Mesenchymal_LHX9\n",
       "HD_F_GON9525516_TTTGTCATCGTCTGCT  HD_F_GON9525516  Hrv91      preGranulosa\n",
       "HD_F_GON9525516_TTTGTCATCTCCAGGG  HD_F_GON9525516  Hrv91      preGranulosa\n",
       "\n",
       "[57202 rows x 3 columns]"
      ]
     },
     "execution_count": 17,
     "metadata": {},
     "output_type": "execute_result"
    }
   ],
   "source": [
    "adata.obs"
   ]
  },
  {
   "cell_type": "code",
   "execution_count": 18,
   "metadata": {},
   "outputs": [],
   "source": [
    "for j in adata.var.columns:\n",
    "    if j != 'gene_ids-0':\n",
    "        del adata.var[j]"
   ]
  },
  {
   "cell_type": "code",
   "execution_count": 19,
   "metadata": {},
   "outputs": [
    {
     "data": {
      "text/html": [
       "<div>\n",
       "<style scoped>\n",
       "    .dataframe tbody tr th:only-of-type {\n",
       "        vertical-align: middle;\n",
       "    }\n",
       "\n",
       "    .dataframe tbody tr th {\n",
       "        vertical-align: top;\n",
       "    }\n",
       "\n",
       "    .dataframe thead th {\n",
       "        text-align: right;\n",
       "    }\n",
       "</style>\n",
       "<table border=\"1\" class=\"dataframe\">\n",
       "  <thead>\n",
       "    <tr style=\"text-align: right;\">\n",
       "      <th></th>\n",
       "      <th>gene_ids-0</th>\n",
       "    </tr>\n",
       "  </thead>\n",
       "  <tbody>\n",
       "    <tr>\n",
       "      <th>A1BG</th>\n",
       "      <td>ENSG00000121410</td>\n",
       "    </tr>\n",
       "    <tr>\n",
       "      <th>A1BG-AS1</th>\n",
       "      <td>ENSG00000268895</td>\n",
       "    </tr>\n",
       "    <tr>\n",
       "      <th>A1CF</th>\n",
       "      <td>nan</td>\n",
       "    </tr>\n",
       "    <tr>\n",
       "      <th>A2M</th>\n",
       "      <td>ENSG00000175899</td>\n",
       "    </tr>\n",
       "    <tr>\n",
       "      <th>A2M-AS1</th>\n",
       "      <td>ENSG00000245105</td>\n",
       "    </tr>\n",
       "    <tr>\n",
       "      <th>...</th>\n",
       "      <td>...</td>\n",
       "    </tr>\n",
       "    <tr>\n",
       "      <th>ZXDC</th>\n",
       "      <td>ENSG00000070476</td>\n",
       "    </tr>\n",
       "    <tr>\n",
       "      <th>ZYG11A</th>\n",
       "      <td>ENSG00000203995</td>\n",
       "    </tr>\n",
       "    <tr>\n",
       "      <th>ZYG11B</th>\n",
       "      <td>ENSG00000162378</td>\n",
       "    </tr>\n",
       "    <tr>\n",
       "      <th>ZYX</th>\n",
       "      <td>ENSG00000159840</td>\n",
       "    </tr>\n",
       "    <tr>\n",
       "      <th>ZZEF1</th>\n",
       "      <td>ENSG00000074755</td>\n",
       "    </tr>\n",
       "  </tbody>\n",
       "</table>\n",
       "<p>28820 rows × 1 columns</p>\n",
       "</div>"
      ],
      "text/plain": [
       "               gene_ids-0\n",
       "A1BG      ENSG00000121410\n",
       "A1BG-AS1  ENSG00000268895\n",
       "A1CF                  nan\n",
       "A2M       ENSG00000175899\n",
       "A2M-AS1   ENSG00000245105\n",
       "...                   ...\n",
       "ZXDC      ENSG00000070476\n",
       "ZYG11A    ENSG00000203995\n",
       "ZYG11B    ENSG00000162378\n",
       "ZYX       ENSG00000159840\n",
       "ZZEF1     ENSG00000074755\n",
       "\n",
       "[28820 rows x 1 columns]"
      ]
     },
     "execution_count": 19,
     "metadata": {},
     "output_type": "execute_result"
    }
   ],
   "source": [
    "adata.var"
   ]
  },
  {
   "cell_type": "code",
   "execution_count": 20,
   "metadata": {},
   "outputs": [
    {
     "data": {
      "text/plain": [
       "AnnData object with n_obs × n_vars = 57202 × 28820\n",
       "    obs: 'sample', 'donor', 'lineage'\n",
       "    var: 'gene_ids-0'"
      ]
     },
     "execution_count": 20,
     "metadata": {},
     "output_type": "execute_result"
    }
   ],
   "source": [
    "adata"
   ]
  },
  {
   "cell_type": "code",
   "execution_count": 21,
   "metadata": {},
   "outputs": [],
   "source": [
    "# Define variables\n",
    "outdir = \"/nfs/team292/vl6/my_MULTIOME_dir/females_july2021/\"\n",
    "experiment_prefix = 'females_'"
   ]
  },
  {
   "cell_type": "code",
   "execution_count": 22,
   "metadata": {},
   "outputs": [
    {
     "name": "stderr",
     "output_type": "stream",
     "text": [
      "... storing 'lineage' as categorical\n"
     ]
    }
   ],
   "source": [
    "adata.write(outdir + experiment_prefix + \"_RNAseq.h5ad\")"
   ]
  },
  {
   "cell_type": "code",
   "execution_count": 15,
   "metadata": {},
   "outputs": [
    {
     "data": {
      "text/plain": [
       "M_MGP               14542\n",
       "preGC_II_KITLG      14067\n",
       "preGC_III_GJA1      13518\n",
       "Oi                  11065\n",
       "preGC_I_OSR1        10741\n",
       "Germ cells           8281\n",
       "Epithelial           7238\n",
       "M_MullDuct_LGR5      6639\n",
       "PV                   5298\n",
       "Gi                   5120\n",
       "Endothelial          5080\n",
       "ovarianSurf          4511\n",
       "Erythroid            3945\n",
       "Oi-like              3819\n",
       "M_prog_ISL1          3643\n",
       "M_ALX1               3068\n",
       "M_MullDuct_AMHR2     2522\n",
       "coelEpi              2335\n",
       "sLGR5                2183\n",
       "Immune               1876\n",
       "sPAX8                1411\n",
       "Neural                989\n",
       "sKITLG                740\n",
       "Name: annotated_clusters, dtype: int64"
      ]
     },
     "execution_count": 15,
     "metadata": {},
     "output_type": "execute_result"
    }
   ],
   "source": [
    "adata.obs['annotated_clusters'].value_counts(dropna = False)"
   ]
  },
  {
   "cell_type": "code",
   "execution_count": 33,
   "metadata": {},
   "outputs": [
    {
     "name": "stderr",
     "output_type": "stream",
     "text": [
      "/opt/conda/envs/atac_env/lib/python3.8/site-packages/pandas/core/arrays/categorical.py:2487: FutureWarning: The `inplace` parameter in pandas.Categorical.remove_unused_categories is deprecated and will be removed in a future version.\n",
      "  res = method(*args, **kwargs)\n"
     ]
    }
   ],
   "source": [
    "intragonadal = adata[[i not in ['M_MGP', 'Epithelial', 'Erythroid', 'M_prog_ISL1', 'M_ALX1', 'M_MullDuct_AMHR2', 'M_MullDuct_LGR5', 'Neural',\n",
    "                               ] for i in adata.obs['annotated_clusters']]]"
   ]
  },
  {
   "cell_type": "code",
   "execution_count": 34,
   "metadata": {},
   "outputs": [
    {
     "name": "stderr",
     "output_type": "stream",
     "text": [
      "Trying to set attribute `.obs` of view, copying.\n"
     ]
    }
   ],
   "source": [
    "intragonadal.obs['annotated_clusters'] = intragonadal.obs['annotated_clusters'].astype(\"category\")"
   ]
  },
  {
   "cell_type": "code",
   "execution_count": 35,
   "metadata": {},
   "outputs": [],
   "source": [
    "intragonadal.obs['annotated_clusters'] = ['Oi' if i == 'Oi-like' else i for i in intragonadal.obs['annotated_clusters']]"
   ]
  },
  {
   "cell_type": "code",
   "execution_count": 36,
   "metadata": {},
   "outputs": [
    {
     "data": {
      "text/plain": [
       "Oi                14884\n",
       "preGC_II_KITLG    14067\n",
       "preGC_III_GJA1    13518\n",
       "preGC_I_OSR1      10741\n",
       "Germ cells         8281\n",
       "PV                 5298\n",
       "Gi                 5120\n",
       "Endothelial        5080\n",
       "ovarianSurf        4511\n",
       "coelEpi            2335\n",
       "sLGR5              2183\n",
       "Immune             1876\n",
       "sPAX8              1411\n",
       "sKITLG              740\n",
       "Name: annotated_clusters, dtype: int64"
      ]
     },
     "execution_count": 36,
     "metadata": {},
     "output_type": "execute_result"
    }
   ],
   "source": [
    "intragonadal.obs['annotated_clusters'].value_counts(dropna = False)"
   ]
  },
  {
   "cell_type": "code",
   "execution_count": 37,
   "metadata": {},
   "outputs": [],
   "source": [
    "intragonadal.obs['annotated_clusters'] = intragonadal.obs['annotated_clusters'].astype(\"category\")\n",
    "intragonadal.obs['annotated_clusters'] = intragonadal.obs['annotated_clusters'].cat.reorder_categories(['Germ cells',\n",
    "                                            'coelEpi',  'sLGR5', 'sKITLG', 'sPAX8', 'preGC_I_OSR1',\n",
    "                                            'ovarianSurf','preGC_II_KITLG', 'preGC_III_GJA1',\n",
    "                                            'Oi', 'Gi', 'PV','Endothelial', 'Immune'])"
   ]
  },
  {
   "cell_type": "code",
   "execution_count": 38,
   "metadata": {},
   "outputs": [
    {
     "name": "stderr",
     "output_type": "stream",
     "text": [
      "... storing 'manual_clusters' as categorical\n",
      "WARNING: saving figure to file scRNAseq/dotplot_TOX3.pdf\n"
     ]
    },
    {
     "data": {
      "image/png": "[encoded data removed]",
      "text/plain": [
       "<Figure size 149.6x472 with 4 Axes>"
      ]
     },
     "metadata": {
      "needs_background": "light"
     },
     "output_type": "display_data"
    }
   ],
   "source": [
    "sc.pl.dotplot(intragonadal, var_names = ['TOX3'], groupby = 'annotated_clusters', \n",
    "             save = 'TOX3', standard_scale = 'var')"
   ]
  },
  {
   "cell_type": "code",
   "execution_count": null,
   "metadata": {},
   "outputs": [],
   "source": []
  }
 ],
 "metadata": {
  "kernelspec": {
   "display_name": "atac_env",
   "language": "python",
   "name": "atac_env"
  },
  "language_info": {
   "codemirror_mode": {
    "name": "ipython",
    "version": 3
   },
   "file_extension": ".py",
   "mimetype": "text/x-python",
   "name": "python",
   "nbconvert_exporter": "python",
   "pygments_lexer": "ipython3",
   "version": "3.8.6"
  }
 },
 "nbformat": 4,
 "nbformat_minor": 4
}
