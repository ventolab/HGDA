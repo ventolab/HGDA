{
 "cells": [
  {
   "cell_type": "markdown",
   "metadata": {},
   "source": [
    "## ATAC + MULTIOME (females) - september 2021\n",
    "\n",
    "### Build anndata from cellatac output "
   ]
  },
  {
   "cell_type": "code",
   "execution_count": 73,
   "metadata": {},
   "outputs": [],
   "source": [
    "# Load libraries\n",
    "import pandas as pd \n",
    "import scanpy as sc\n",
    "import numpy as np\n",
    "import scipy.sparse"
   ]
  },
  {
   "cell_type": "code",
   "execution_count": 74,
   "metadata": {},
   "outputs": [],
   "source": [
    "# Define variables\n",
    "outdir = \"/nfs/team292/vl6/my_MULTIOME_dir/females_july2021/\"\n",
    "experiment_prefix = 'females_'\n",
    "cellatac_outdir = '/warehouse/cellgeni/tic-1127/results200k/'\n"
   ]
  },
  {
   "cell_type": "code",
   "execution_count": 75,
   "metadata": {},
   "outputs": [],
   "source": [
    "input={'cnts': cellatac_outdir + 'peak_matrix/peaks_bc_matrix.mmtx.gz',\n",
    "        \"bcs\": cellatac_outdir + 'peak_matrix/bc.txt',\n",
    "      \"peaks\": cellatac_outdir + 'peak_matrix/peaks.txt',\n",
    "      'clusters': cellatac_outdir + 'qc/seurat-clades.tsv'}\n",
    "\n",
    "output = {\n",
    "    \"cnt_mmtx\":outdir + experiment_prefix + '_ATAC_cisTopic.mmtx',\n",
    "    \"cnt_peaks\":outdir + experiment_prefix + '_ATAC_cisTopic.peaks.tsv',\n",
    "    \"cnt_cells\":outdir + experiment_prefix + '_ATAC_cisTopic.cells.tsv',\n",
    "    \"h5ad\":outdir + experiment_prefix + '_ATAC_raw.h5ad',\n",
    "}"
   ]
  },
  {
   "cell_type": "markdown",
   "metadata": {},
   "source": [
    "#### Make anndata object"
   ]
  },
  {
   "cell_type": "code",
   "execution_count": 76,
   "metadata": {},
   "outputs": [],
   "source": [
    "adata = sc.read_mtx(input[\"cnts\"]).T\n",
    "\n",
    "bc = pd.read_table(input[\"bcs\"], header=None)\n",
    "feat = pd.read_table(input[\"peaks\"], header=None)\n",
    "\n",
    "adata.obs_names = bc[0]\n",
    "adata.var_names = feat[0]"
   ]
  },
  {
   "cell_type": "code",
   "execution_count": 77,
   "metadata": {},
   "outputs": [
    {
     "data": {
      "text/plain": [
       "AnnData object with n_obs × n_vars = 93860 × 534188"
      ]
     },
     "execution_count": 77,
     "metadata": {},
     "output_type": "execute_result"
    }
   ],
   "source": [
    "adata"
   ]
  },
  {
   "cell_type": "code",
   "execution_count": 78,
   "metadata": {},
   "outputs": [
    {
     "data": {
      "text/plain": [
       "08    12913\n",
       "01    12651\n",
       "07     8901\n",
       "03     8668\n",
       "09     8394\n",
       "11     5326\n",
       "17     5112\n",
       "12     4974\n",
       "02     4882\n",
       "06     4878\n",
       "05     3458\n",
       "13     3164\n",
       "14     3136\n",
       "16     2472\n",
       "10     2114\n",
       "15     1645\n",
       "04     1172\n",
       "Name: code, dtype: int64"
      ]
     },
     "execution_count": 78,
     "metadata": {},
     "output_type": "execute_result"
    }
   ],
   "source": [
    "# Code from cell barcodes \n",
    "adata.obs['code'] = [name[0:2] for name in adata.obs_names]\n",
    "adata.obs['code'].value_counts(dropna = False)"
   ]
  },
  {
   "cell_type": "code",
   "execution_count": 79,
   "metadata": {},
   "outputs": [
    {
     "data": {
      "text/plain": [
       "HD_F_GON9479874      12913\n",
       "HCA_F_GON10535399    12651\n",
       "HD_F_GON9479873       8901\n",
       "FCA_GND8046539        8668\n",
       "HD_F_GON9479875       8394\n",
       "HD_F_GON9883959       5326\n",
       "FCA_GND10288180       5112\n",
       "HD_F_GON9883960       4974\n",
       "HCA_F_GON10687818     4882\n",
       "FCA_GND8768485        4878\n",
       "FCA_GND8768484        3458\n",
       "FCA_GND10288176       3164\n",
       "FCA_GND10288177       3136\n",
       "FCA_GND10288179       2472\n",
       "HD_F_GON9525613       2114\n",
       "FCA_GND10288178       1645\n",
       "FCA_GND8768483        1172\n",
       "Name: sample, dtype: int64"
      ]
     },
     "execution_count": 79,
     "metadata": {},
     "output_type": "execute_result"
    }
   ],
   "source": [
    "# Sample from code \n",
    "sample_dictionary = {'01' : 'HCA_F_GON10535399', '02' : 'HCA_F_GON10687818', '03' : 'FCA_GND8046539', \n",
    "                    '04' : 'FCA_GND8768483', '05' : 'FCA_GND8768484', '06' : 'FCA_GND8768485', \n",
    "                     '07' : 'HD_F_GON9479873', '08' : 'HD_F_GON9479874', '09' : 'HD_F_GON9479875', \n",
    "                     '10' : 'HD_F_GON9525613', '11' : 'HD_F_GON9883959', '12' : 'HD_F_GON9883960', \n",
    "                    '13' : 'FCA_GND10288176', '14' : 'FCA_GND10288177', '15' : 'FCA_GND10288178', \n",
    "                    '16' : 'FCA_GND10288179', '17' : 'FCA_GND10288180'}\n",
    "adata.obs['sample'] = adata.obs['code'].map(sample_dictionary) \n",
    "adata.obs['sample'].value_counts(dropna = False)"
   ]
  },
  {
   "cell_type": "code",
   "execution_count": 80,
   "metadata": {},
   "outputs": [
    {
     "data": {
      "text/plain": [
       "(91746, 534188)"
      ]
     },
     "execution_count": 80,
     "metadata": {},
     "output_type": "execute_result"
    }
   ],
   "source": [
    "## Remove sample HD_F_GON9525613 which is extragonadal \n",
    "adata = adata[[i not in ['HD_F_GON9525613'] for i in adata.obs['sample']]]\n",
    "adata.shape"
   ]
  },
  {
   "cell_type": "markdown",
   "metadata": {},
   "source": [
    "#### Load peak annotations (done with R script by Emma)"
   ]
  },
  {
   "cell_type": "code",
   "execution_count": 81,
   "metadata": {},
   "outputs": [],
   "source": [
    "peak_anno_df = pd.read_csv(outdir + \"ATACpeaks_annotation.csv\", index_col=0)\n",
    "peak_anno_df.index = peak_anno_df[\"peak_id\"]\n",
    "peak_anno_df.drop(\"peak_id\",1, inplace=True)\n",
    "adata.var = pd.concat([adata.var, peak_anno_df], 1)"
   ]
  },
  {
   "cell_type": "markdown",
   "metadata": {},
   "source": [
    "#### Save binary data to layers"
   ]
  },
  {
   "cell_type": "code",
   "execution_count": 82,
   "metadata": {},
   "outputs": [
    {
     "data": {
      "text/plain": [
       "AnnData object with n_obs × n_vars = 91746 × 534188\n",
       "    obs: 'code', 'sample'\n",
       "    var: 'peak_width', 'exon', 'gene', 'promoter', 'annotation', 'gene_name', 'gene_id', 'tss_distance', 'ENCODE_blacklist'\n",
       "    layers: 'binary_raw'"
      ]
     },
     "execution_count": 82,
     "metadata": {},
     "output_type": "execute_result"
    }
   ],
   "source": [
    "adata.layers[\"binary_raw\"] = adata.X\n",
    "adata.layers[\"binary_raw\"][adata.layers[\"binary_raw\"] > 1] = 1\n",
    "adata"
   ]
  },
  {
   "cell_type": "markdown",
   "metadata": {},
   "source": [
    "#### Load annotations of snRNAseq from MULTIOME samples "
   ]
  },
  {
   "cell_type": "markdown",
   "metadata": {},
   "source": [
    "1. Germ cells "
   ]
  },
  {
   "cell_type": "code",
   "execution_count": 83,
   "metadata": {},
   "outputs": [],
   "source": [
    "path_to_multiome = '/nfs/team292/lg18/with_valentina/gonadsV2_revision/'"
   ]
  },
  {
   "cell_type": "code",
   "execution_count": 84,
   "metadata": {},
   "outputs": [
    {
     "data": {
      "text/html": [
       "<div>\n",
       "<style scoped>\n",
       "    .dataframe tbody tr th:only-of-type {\n",
       "        vertical-align: middle;\n",
       "    }\n",
       "\n",
       "    .dataframe tbody tr th {\n",
       "        vertical-align: top;\n",
       "    }\n",
       "\n",
       "    .dataframe thead th {\n",
       "        text-align: right;\n",
       "    }\n",
       "</style>\n",
       "<table border=\"1\" class=\"dataframe\">\n",
       "  <thead>\n",
       "    <tr style=\"text-align: right;\">\n",
       "      <th></th>\n",
       "      <th>Unnamed: 0</th>\n",
       "      <th>n_genes</th>\n",
       "      <th>sample</th>\n",
       "      <th>donor</th>\n",
       "      <th>Library_ATAC</th>\n",
       "      <th>Library_RNA</th>\n",
       "      <th>iRods_path</th>\n",
       "      <th>percent_mito</th>\n",
       "      <th>n_counts</th>\n",
       "      <th>batch</th>\n",
       "      <th>...</th>\n",
       "      <th>bonf_pval</th>\n",
       "      <th>pcw</th>\n",
       "      <th>lineage</th>\n",
       "      <th>celltype_samplespecific</th>\n",
       "      <th>S_score</th>\n",
       "      <th>G2M_score</th>\n",
       "      <th>phase</th>\n",
       "      <th>leiden</th>\n",
       "      <th>leiden_R</th>\n",
       "      <th>celltype</th>\n",
       "    </tr>\n",
       "  </thead>\n",
       "  <tbody>\n",
       "    <tr>\n",
       "      <th>0</th>\n",
       "      <td>HCA_F_GON10535495_AAACCAACACGAATTT</td>\n",
       "      <td>5728</td>\n",
       "      <td>HCA_F_GON10535495</td>\n",
       "      <td>Hrv92</td>\n",
       "      <td>HCA_F_GON10535399</td>\n",
       "      <td>HCA_F_GON10535495</td>\n",
       "      <td>/seq/illumina/cellranger-arc/cellranger-arc101...</td>\n",
       "      <td>0.014532</td>\n",
       "      <td>4735.2485</td>\n",
       "      <td>0</td>\n",
       "      <td>...</td>\n",
       "      <td>1.0</td>\n",
       "      <td>8.6</td>\n",
       "      <td>GermCells</td>\n",
       "      <td>NaN</td>\n",
       "      <td>0.237842</td>\n",
       "      <td>0.087936</td>\n",
       "      <td>S</td>\n",
       "      <td>0</td>\n",
       "      <td>0</td>\n",
       "      <td>PGC</td>\n",
       "    </tr>\n",
       "    <tr>\n",
       "      <th>1</th>\n",
       "      <td>HCA_F_GON10535495_AACCCGCAGTTTGAGC</td>\n",
       "      <td>5456</td>\n",
       "      <td>HCA_F_GON10535495</td>\n",
       "      <td>Hrv92</td>\n",
       "      <td>HCA_F_GON10535399</td>\n",
       "      <td>HCA_F_GON10535495</td>\n",
       "      <td>/seq/illumina/cellranger-arc/cellranger-arc101...</td>\n",
       "      <td>0.017976</td>\n",
       "      <td>4645.2330</td>\n",
       "      <td>0</td>\n",
       "      <td>...</td>\n",
       "      <td>1.0</td>\n",
       "      <td>8.6</td>\n",
       "      <td>GermCells</td>\n",
       "      <td>NaN</td>\n",
       "      <td>0.037234</td>\n",
       "      <td>-0.421033</td>\n",
       "      <td>S</td>\n",
       "      <td>0</td>\n",
       "      <td>0</td>\n",
       "      <td>PGC</td>\n",
       "    </tr>\n",
       "    <tr>\n",
       "      <th>2</th>\n",
       "      <td>HCA_F_GON10535495_AACGACAAGCGGCTGT</td>\n",
       "      <td>5901</td>\n",
       "      <td>HCA_F_GON10535495</td>\n",
       "      <td>Hrv92</td>\n",
       "      <td>HCA_F_GON10535399</td>\n",
       "      <td>HCA_F_GON10535495</td>\n",
       "      <td>/seq/illumina/cellranger-arc/cellranger-arc101...</td>\n",
       "      <td>0.018170</td>\n",
       "      <td>4060.9746</td>\n",
       "      <td>0</td>\n",
       "      <td>...</td>\n",
       "      <td>1.0</td>\n",
       "      <td>8.6</td>\n",
       "      <td>GermCells</td>\n",
       "      <td>NaN</td>\n",
       "      <td>0.114108</td>\n",
       "      <td>4.491824</td>\n",
       "      <td>G2M</td>\n",
       "      <td>0</td>\n",
       "      <td>0</td>\n",
       "      <td>PGC</td>\n",
       "    </tr>\n",
       "    <tr>\n",
       "      <th>3</th>\n",
       "      <td>HCA_F_GON10535495_AACTTAGTCTTGTCCA</td>\n",
       "      <td>6781</td>\n",
       "      <td>HCA_F_GON10535495</td>\n",
       "      <td>Hrv92</td>\n",
       "      <td>HCA_F_GON10535399</td>\n",
       "      <td>HCA_F_GON10535495</td>\n",
       "      <td>/seq/illumina/cellranger-arc/cellranger-arc101...</td>\n",
       "      <td>0.020457</td>\n",
       "      <td>4499.4067</td>\n",
       "      <td>0</td>\n",
       "      <td>...</td>\n",
       "      <td>1.0</td>\n",
       "      <td>8.6</td>\n",
       "      <td>GermCells</td>\n",
       "      <td>NaN</td>\n",
       "      <td>0.002280</td>\n",
       "      <td>6.158810</td>\n",
       "      <td>G2M</td>\n",
       "      <td>0</td>\n",
       "      <td>0</td>\n",
       "      <td>PGC</td>\n",
       "    </tr>\n",
       "    <tr>\n",
       "      <th>4</th>\n",
       "      <td>HCA_F_GON10535495_AAGACCAAGCACCACA</td>\n",
       "      <td>4881</td>\n",
       "      <td>HCA_F_GON10535495</td>\n",
       "      <td>Hrv92</td>\n",
       "      <td>HCA_F_GON10535399</td>\n",
       "      <td>HCA_F_GON10535495</td>\n",
       "      <td>/seq/illumina/cellranger-arc/cellranger-arc101...</td>\n",
       "      <td>0.015051</td>\n",
       "      <td>4630.9404</td>\n",
       "      <td>0</td>\n",
       "      <td>...</td>\n",
       "      <td>1.0</td>\n",
       "      <td>8.6</td>\n",
       "      <td>GermCells</td>\n",
       "      <td>NaN</td>\n",
       "      <td>-0.099797</td>\n",
       "      <td>-0.189805</td>\n",
       "      <td>G1</td>\n",
       "      <td>0</td>\n",
       "      <td>0</td>\n",
       "      <td>PGC</td>\n",
       "    </tr>\n",
       "  </tbody>\n",
       "</table>\n",
       "<p>5 rows × 24 columns</p>\n",
       "</div>"
      ],
      "text/plain": [
       "                           Unnamed: 0  n_genes             sample  donor  \\\n",
       "0  HCA_F_GON10535495_AAACCAACACGAATTT     5728  HCA_F_GON10535495  Hrv92   \n",
       "1  HCA_F_GON10535495_AACCCGCAGTTTGAGC     5456  HCA_F_GON10535495  Hrv92   \n",
       "2  HCA_F_GON10535495_AACGACAAGCGGCTGT     5901  HCA_F_GON10535495  Hrv92   \n",
       "3  HCA_F_GON10535495_AACTTAGTCTTGTCCA     6781  HCA_F_GON10535495  Hrv92   \n",
       "4  HCA_F_GON10535495_AAGACCAAGCACCACA     4881  HCA_F_GON10535495  Hrv92   \n",
       "\n",
       "        Library_ATAC        Library_RNA  \\\n",
       "0  HCA_F_GON10535399  HCA_F_GON10535495   \n",
       "1  HCA_F_GON10535399  HCA_F_GON10535495   \n",
       "2  HCA_F_GON10535399  HCA_F_GON10535495   \n",
       "3  HCA_F_GON10535399  HCA_F_GON10535495   \n",
       "4  HCA_F_GON10535399  HCA_F_GON10535495   \n",
       "\n",
       "                                          iRods_path  percent_mito   n_counts  \\\n",
       "0  /seq/illumina/cellranger-arc/cellranger-arc101...      0.014532  4735.2485   \n",
       "1  /seq/illumina/cellranger-arc/cellranger-arc101...      0.017976  4645.2330   \n",
       "2  /seq/illumina/cellranger-arc/cellranger-arc101...      0.018170  4060.9746   \n",
       "3  /seq/illumina/cellranger-arc/cellranger-arc101...      0.020457  4499.4067   \n",
       "4  /seq/illumina/cellranger-arc/cellranger-arc101...      0.015051  4630.9404   \n",
       "\n",
       "   batch  ...  bonf_pval  pcw    lineage  celltype_samplespecific   S_score  \\\n",
       "0      0  ...        1.0  8.6  GermCells                      NaN  0.237842   \n",
       "1      0  ...        1.0  8.6  GermCells                      NaN  0.037234   \n",
       "2      0  ...        1.0  8.6  GermCells                      NaN  0.114108   \n",
       "3      0  ...        1.0  8.6  GermCells                      NaN  0.002280   \n",
       "4      0  ...        1.0  8.6  GermCells                      NaN -0.099797   \n",
       "\n",
       "   G2M_score phase leiden  leiden_R  celltype  \n",
       "0   0.087936     S      0         0       PGC  \n",
       "1  -0.421033     S      0         0       PGC  \n",
       "2   4.491824   G2M      0         0       PGC  \n",
       "3   6.158810   G2M      0         0       PGC  \n",
       "4  -0.189805    G1      0         0       PGC  \n",
       "\n",
       "[5 rows x 24 columns]"
      ]
     },
     "execution_count": 84,
     "metadata": {},
     "output_type": "execute_result"
    }
   ],
   "source": [
    "germcells = pd.read_csv(path_to_multiome + 'multiomics_female_germcells.csv')\n",
    "germcells.head()"
   ]
  },
  {
   "cell_type": "markdown",
   "metadata": {},
   "source": [
    "**!!! Library_ATAC has wrong codes, replace them with correct ones**"
   ]
  },
  {
   "cell_type": "code",
   "execution_count": 85,
   "metadata": {},
   "outputs": [
    {
     "data": {
      "text/plain": [
       "FCA_GND10287604      1171\n",
       "HCA_F_GON10713284    1091\n",
       "FCA_GND10287600       942\n",
       "FCA_GND10287601       923\n",
       "FCA_GND10287603       781\n",
       "FCA_GND10287602       533\n",
       "HCA_F_GON10535495     252\n",
       "Name: Library_RNA, dtype: int64"
      ]
     },
     "execution_count": 85,
     "metadata": {},
     "output_type": "execute_result"
    }
   ],
   "source": [
    "germcells['Library_RNA'].value_counts()"
   ]
  },
  {
   "cell_type": "code",
   "execution_count": 86,
   "metadata": {},
   "outputs": [],
   "source": [
    "libraries_correspondence = {'FCA_GND10287600' : 'FCA_GND10288176', 'FCA_GND10287601' : 'FCA_GND10288177', \n",
    "                           'FCA_GND10287602' : 'FCA_GND10288178', 'FCA_GND10287603' : 'FCA_GND10288179', \n",
    "                           'FCA_GND10287604' : 'FCA_GND10288180', 'HCA_F_GON10535495' : 'HCA_F_GON10535399',\n",
    "                           'HCA_F_GON10713284' : 'HCA_F_GON10687818'}"
   ]
  },
  {
   "cell_type": "code",
   "execution_count": 87,
   "metadata": {},
   "outputs": [],
   "source": [
    "germcells['ATAC_correct'] = germcells['Library_RNA'].map(libraries_correspondence)"
   ]
  },
  {
   "cell_type": "code",
   "execution_count": 88,
   "metadata": {},
   "outputs": [],
   "source": [
    "code_correspondence = {'FCA_GND10288180' : '17', 'FCA_GND10288176' : '13', 'FCA_GND10288177' : '14',\n",
    "                      'FCA_GND10288179' : '16', 'FCA_GND10288178' : '15', 'HCA_F_GON10535399' : '01',\n",
    "                      'HCA_F_GON10687818' : '02'}"
   ]
  },
  {
   "cell_type": "code",
   "execution_count": 89,
   "metadata": {},
   "outputs": [],
   "source": [
    "germcells['ATAC_code'] = germcells['ATAC_correct'].map(code_correspondence)"
   ]
  },
  {
   "cell_type": "code",
   "execution_count": 90,
   "metadata": {},
   "outputs": [
    {
     "data": {
      "text/plain": [
       "17    1171\n",
       "02    1091\n",
       "13     942\n",
       "14     923\n",
       "16     781\n",
       "15     533\n",
       "01     252\n",
       "Name: ATAC_code, dtype: int64"
      ]
     },
     "execution_count": 90,
     "metadata": {},
     "output_type": "execute_result"
    }
   ],
   "source": [
    "germcells['ATAC_code'].value_counts(dropna = False)"
   ]
  },
  {
   "cell_type": "code",
   "execution_count": 91,
   "metadata": {},
   "outputs": [],
   "source": [
    "germcells['barcode'] = [i.split('_')[-1] for i in germcells['Unnamed: 0']]"
   ]
  },
  {
   "cell_type": "code",
   "execution_count": 92,
   "metadata": {},
   "outputs": [],
   "source": [
    "germcells['ATAC_barcode'] = germcells['ATAC_code'] + '-' + germcells['barcode'] + '-1'"
   ]
  },
  {
   "cell_type": "markdown",
   "metadata": {},
   "source": [
    "2. Somatic cells "
   ]
  },
  {
   "cell_type": "code",
   "execution_count": 93,
   "metadata": {},
   "outputs": [
    {
     "data": {
      "text/html": [
       "<div>\n",
       "<style scoped>\n",
       "    .dataframe tbody tr th:only-of-type {\n",
       "        vertical-align: middle;\n",
       "    }\n",
       "\n",
       "    .dataframe tbody tr th {\n",
       "        vertical-align: top;\n",
       "    }\n",
       "\n",
       "    .dataframe thead th {\n",
       "        text-align: right;\n",
       "    }\n",
       "</style>\n",
       "<table border=\"1\" class=\"dataframe\">\n",
       "  <thead>\n",
       "    <tr style=\"text-align: right;\">\n",
       "      <th></th>\n",
       "      <th>Unnamed: 0</th>\n",
       "      <th>n_genes</th>\n",
       "      <th>sample</th>\n",
       "      <th>donor</th>\n",
       "      <th>Library_ATAC</th>\n",
       "      <th>Library_RNA</th>\n",
       "      <th>iRods_path</th>\n",
       "      <th>percent_mito</th>\n",
       "      <th>n_counts</th>\n",
       "      <th>batch</th>\n",
       "      <th>...</th>\n",
       "      <th>pcw</th>\n",
       "      <th>lineage</th>\n",
       "      <th>celltype_previous</th>\n",
       "      <th>celltype_samplespecific</th>\n",
       "      <th>S_score</th>\n",
       "      <th>G2M_score</th>\n",
       "      <th>phase</th>\n",
       "      <th>leiden</th>\n",
       "      <th>leiden_R</th>\n",
       "      <th>celltype</th>\n",
       "    </tr>\n",
       "  </thead>\n",
       "  <tbody>\n",
       "    <tr>\n",
       "      <th>0</th>\n",
       "      <td>HCA_F_GON10535495_AAACAGCCATAAGCAA</td>\n",
       "      <td>4286</td>\n",
       "      <td>HCA_F_GON10535495</td>\n",
       "      <td>Hrv92</td>\n",
       "      <td>HCA_F_GON10535399</td>\n",
       "      <td>HCA_F_GON10535495</td>\n",
       "      <td>/seq/illumina/cellranger-arc/cellranger-arc101...</td>\n",
       "      <td>0.024780</td>\n",
       "      <td>9347.0</td>\n",
       "      <td>0</td>\n",
       "      <td>...</td>\n",
       "      <td>8.6</td>\n",
       "      <td>Supporting</td>\n",
       "      <td>preGC_I</td>\n",
       "      <td>NaN</td>\n",
       "      <td>-0.279762</td>\n",
       "      <td>-0.437812</td>\n",
       "      <td>G1</td>\n",
       "      <td>3</td>\n",
       "      <td>3</td>\n",
       "      <td>preGC_I</td>\n",
       "    </tr>\n",
       "    <tr>\n",
       "      <th>1</th>\n",
       "      <td>HCA_F_GON10535495_AAACATGCACTAAGAA</td>\n",
       "      <td>3509</td>\n",
       "      <td>HCA_F_GON10535495</td>\n",
       "      <td>Hrv92</td>\n",
       "      <td>HCA_F_GON10535399</td>\n",
       "      <td>HCA_F_GON10535495</td>\n",
       "      <td>/seq/illumina/cellranger-arc/cellranger-arc101...</td>\n",
       "      <td>0.027097</td>\n",
       "      <td>6939.0</td>\n",
       "      <td>0</td>\n",
       "      <td>...</td>\n",
       "      <td>8.6</td>\n",
       "      <td>Supporting</td>\n",
       "      <td>preGC_I</td>\n",
       "      <td>NaN</td>\n",
       "      <td>-0.119048</td>\n",
       "      <td>-0.282884</td>\n",
       "      <td>G1</td>\n",
       "      <td>3</td>\n",
       "      <td>3</td>\n",
       "      <td>preGC_I</td>\n",
       "    </tr>\n",
       "    <tr>\n",
       "      <th>2</th>\n",
       "      <td>HCA_F_GON10535495_AAACCAACACTGACCG</td>\n",
       "      <td>4443</td>\n",
       "      <td>HCA_F_GON10535495</td>\n",
       "      <td>Hrv92</td>\n",
       "      <td>HCA_F_GON10535399</td>\n",
       "      <td>HCA_F_GON10535495</td>\n",
       "      <td>/seq/illumina/cellranger-arc/cellranger-arc101...</td>\n",
       "      <td>0.020062</td>\n",
       "      <td>9803.0</td>\n",
       "      <td>0</td>\n",
       "      <td>...</td>\n",
       "      <td>8.6</td>\n",
       "      <td>Supporting</td>\n",
       "      <td>preGC_I</td>\n",
       "      <td>NaN</td>\n",
       "      <td>-0.371032</td>\n",
       "      <td>-0.396936</td>\n",
       "      <td>G1</td>\n",
       "      <td>3</td>\n",
       "      <td>3</td>\n",
       "      <td>preGC_I</td>\n",
       "    </tr>\n",
       "    <tr>\n",
       "      <th>3</th>\n",
       "      <td>HCA_F_GON10535495_AAACCAACAGTAATAG</td>\n",
       "      <td>3430</td>\n",
       "      <td>HCA_F_GON10535495</td>\n",
       "      <td>Hrv92</td>\n",
       "      <td>HCA_F_GON10535399</td>\n",
       "      <td>HCA_F_GON10535495</td>\n",
       "      <td>/seq/illumina/cellranger-arc/cellranger-arc101...</td>\n",
       "      <td>0.018368</td>\n",
       "      <td>6758.0</td>\n",
       "      <td>0</td>\n",
       "      <td>...</td>\n",
       "      <td>8.6</td>\n",
       "      <td>Supporting</td>\n",
       "      <td>Mesenchymal_LHX9</td>\n",
       "      <td>NaN</td>\n",
       "      <td>-0.257937</td>\n",
       "      <td>-0.255245</td>\n",
       "      <td>G1</td>\n",
       "      <td>7</td>\n",
       "      <td>7</td>\n",
       "      <td>Mesenchymal_LHX9</td>\n",
       "    </tr>\n",
       "    <tr>\n",
       "      <th>4</th>\n",
       "      <td>HCA_F_GON10535495_AAACCGAAGAACAAGT</td>\n",
       "      <td>3627</td>\n",
       "      <td>HCA_F_GON10535495</td>\n",
       "      <td>Hrv92</td>\n",
       "      <td>HCA_F_GON10535399</td>\n",
       "      <td>HCA_F_GON10535495</td>\n",
       "      <td>/seq/illumina/cellranger-arc/cellranger-arc101...</td>\n",
       "      <td>0.026207</td>\n",
       "      <td>7202.0</td>\n",
       "      <td>0</td>\n",
       "      <td>...</td>\n",
       "      <td>8.6</td>\n",
       "      <td>Supporting</td>\n",
       "      <td>lowQC</td>\n",
       "      <td>NaN</td>\n",
       "      <td>-0.384921</td>\n",
       "      <td>-0.264652</td>\n",
       "      <td>G1</td>\n",
       "      <td>9</td>\n",
       "      <td>9</td>\n",
       "      <td>lowQC</td>\n",
       "    </tr>\n",
       "  </tbody>\n",
       "</table>\n",
       "<p>5 rows × 25 columns</p>\n",
       "</div>"
      ],
      "text/plain": [
       "                           Unnamed: 0  n_genes             sample  donor  \\\n",
       "0  HCA_F_GON10535495_AAACAGCCATAAGCAA     4286  HCA_F_GON10535495  Hrv92   \n",
       "1  HCA_F_GON10535495_AAACATGCACTAAGAA     3509  HCA_F_GON10535495  Hrv92   \n",
       "2  HCA_F_GON10535495_AAACCAACACTGACCG     4443  HCA_F_GON10535495  Hrv92   \n",
       "3  HCA_F_GON10535495_AAACCAACAGTAATAG     3430  HCA_F_GON10535495  Hrv92   \n",
       "4  HCA_F_GON10535495_AAACCGAAGAACAAGT     3627  HCA_F_GON10535495  Hrv92   \n",
       "\n",
       "        Library_ATAC        Library_RNA  \\\n",
       "0  HCA_F_GON10535399  HCA_F_GON10535495   \n",
       "1  HCA_F_GON10535399  HCA_F_GON10535495   \n",
       "2  HCA_F_GON10535399  HCA_F_GON10535495   \n",
       "3  HCA_F_GON10535399  HCA_F_GON10535495   \n",
       "4  HCA_F_GON10535399  HCA_F_GON10535495   \n",
       "\n",
       "                                          iRods_path  percent_mito  n_counts  \\\n",
       "0  /seq/illumina/cellranger-arc/cellranger-arc101...      0.024780    9347.0   \n",
       "1  /seq/illumina/cellranger-arc/cellranger-arc101...      0.027097    6939.0   \n",
       "2  /seq/illumina/cellranger-arc/cellranger-arc101...      0.020062    9803.0   \n",
       "3  /seq/illumina/cellranger-arc/cellranger-arc101...      0.018368    6758.0   \n",
       "4  /seq/illumina/cellranger-arc/cellranger-arc101...      0.026207    7202.0   \n",
       "\n",
       "   batch  ...  pcw     lineage  celltype_previous  celltype_samplespecific  \\\n",
       "0      0  ...  8.6  Supporting            preGC_I                      NaN   \n",
       "1      0  ...  8.6  Supporting            preGC_I                      NaN   \n",
       "2      0  ...  8.6  Supporting            preGC_I                      NaN   \n",
       "3      0  ...  8.6  Supporting   Mesenchymal_LHX9                      NaN   \n",
       "4      0  ...  8.6  Supporting              lowQC                      NaN   \n",
       "\n",
       "    S_score  G2M_score phase leiden leiden_R          celltype  \n",
       "0 -0.279762  -0.437812    G1      3        3           preGC_I  \n",
       "1 -0.119048  -0.282884    G1      3        3           preGC_I  \n",
       "2 -0.371032  -0.396936    G1      3        3           preGC_I  \n",
       "3 -0.257937  -0.255245    G1      7        7  Mesenchymal_LHX9  \n",
       "4 -0.384921  -0.264652    G1      9        9             lowQC  \n",
       "\n",
       "[5 rows x 25 columns]"
      ]
     },
     "execution_count": 93,
     "metadata": {},
     "output_type": "execute_result"
    }
   ],
   "source": [
    "supporting = pd.read_csv(path_to_multiome + 'multiomics_female_somatic.csv')\n",
    "supporting.head()"
   ]
  },
  {
   "cell_type": "code",
   "execution_count": 94,
   "metadata": {},
   "outputs": [
    {
     "data": {
      "text/plain": [
       "(16739, 25)"
      ]
     },
     "execution_count": 94,
     "metadata": {},
     "output_type": "execute_result"
    }
   ],
   "source": [
    "supporting.shape"
   ]
  },
  {
   "cell_type": "code",
   "execution_count": 95,
   "metadata": {},
   "outputs": [
    {
     "data": {
      "text/plain": [
       "preGC_IIa           3470\n",
       "preGC_I             3269\n",
       "preGC_IIb           2165\n",
       "granulosa           1351\n",
       "OSE                 1320\n",
       "early_sPAX8         1171\n",
       "Mesenchymal_LHX9    1103\n",
       "early_supporting    1100\n",
       "OSE_cycling          641\n",
       "Doublet              459\n",
       "lowQC                385\n",
       "CoelEpi_LHX9         305\n",
       "Name: celltype, dtype: int64"
      ]
     },
     "execution_count": 95,
     "metadata": {},
     "output_type": "execute_result"
    }
   ],
   "source": [
    "supporting['celltype'].value_counts()"
   ]
  },
  {
   "cell_type": "code",
   "execution_count": 96,
   "metadata": {},
   "outputs": [],
   "source": [
    "supporting['ATAC_correct'] = supporting['Library_RNA'].map(libraries_correspondence)"
   ]
  },
  {
   "cell_type": "code",
   "execution_count": 97,
   "metadata": {},
   "outputs": [],
   "source": [
    "supporting['ATAC_code'] = supporting['ATAC_correct'].map(code_correspondence)"
   ]
  },
  {
   "cell_type": "code",
   "execution_count": 98,
   "metadata": {},
   "outputs": [],
   "source": [
    "supporting['barcode'] = [i.split('_')[-1] for i in supporting['Unnamed: 0']]"
   ]
  },
  {
   "cell_type": "code",
   "execution_count": 99,
   "metadata": {},
   "outputs": [],
   "source": [
    "supporting['ATAC_barcode'] = supporting['ATAC_code'] + '-' + supporting['barcode'] + '-1'"
   ]
  },
  {
   "cell_type": "code",
   "execution_count": 100,
   "metadata": {},
   "outputs": [],
   "source": [
    "adata.obs['multiome_GermCells'] = adata.obs_names.map(pd.Series(germcells.celltype.values,index=germcells.ATAC_barcode).to_dict())\n"
   ]
  },
  {
   "cell_type": "code",
   "execution_count": 101,
   "metadata": {},
   "outputs": [
    {
     "data": {
      "text/plain": [
       "NaN                86053\n",
       "oogonia_STRA8       2215\n",
       "PGC                 1483\n",
       "oogonia_meiotic     1178\n",
       "preOocyte            311\n",
       "Doublet              252\n",
       "oocyte               162\n",
       "lowQC                 92\n",
       "Name: multiome_GermCells, dtype: int64"
      ]
     },
     "execution_count": 101,
     "metadata": {},
     "output_type": "execute_result"
    }
   ],
   "source": [
    "adata.obs['multiome_GermCells'].value_counts(dropna = False)"
   ]
  },
  {
   "cell_type": "code",
   "execution_count": 102,
   "metadata": {},
   "outputs": [],
   "source": [
    "adata.obs['multiome_Somatic'] = adata.obs_names.map(pd.Series(supporting.celltype.values,index=supporting.ATAC_barcode).to_dict())"
   ]
  },
  {
   "cell_type": "code",
   "execution_count": 103,
   "metadata": {},
   "outputs": [
    {
     "data": {
      "text/plain": [
       "NaN                 75007\n",
       "preGC_IIa            3470\n",
       "preGC_I              3269\n",
       "preGC_IIb            2165\n",
       "granulosa            1351\n",
       "OSE                  1320\n",
       "early_sPAX8          1171\n",
       "Mesenchymal_LHX9     1103\n",
       "early_supporting     1100\n",
       "OSE_cycling           641\n",
       "Doublet               459\n",
       "lowQC                 385\n",
       "CoelEpi_LHX9          305\n",
       "Name: multiome_Somatic, dtype: int64"
      ]
     },
     "execution_count": 103,
     "metadata": {},
     "output_type": "execute_result"
    }
   ],
   "source": [
    "adata.obs['multiome_Somatic'].value_counts(dropna = False)"
   ]
  },
  {
   "cell_type": "markdown",
   "metadata": {},
   "source": [
    "#### Peak filtering"
   ]
  },
  {
   "cell_type": "code",
   "execution_count": 104,
   "metadata": {},
   "outputs": [
    {
     "data": {
      "text/plain": [
       "array([[<AxesSubplot:title={'center':'peak_width'}>]], dtype=object)"
      ]
     },
     "execution_count": 104,
     "metadata": {},
     "output_type": "execute_result"
    },
    {
     "data": {
      "image/png": "[encoded data removed]",
      "text/plain": [
       "<Figure size 1800x432 with 1 Axes>"
      ]
     },
     "metadata": {
      "needs_background": "light"
     },
     "output_type": "display_data"
    }
   ],
   "source": [
    "adata.var.hist(column = 'peak_width', bins = 200, grid = False, figsize = (25,6), color = '#870052')"
   ]
  },
  {
   "cell_type": "code",
   "execution_count": 105,
   "metadata": {},
   "outputs": [
    {
     "data": {
      "text/plain": [
       "AnnData object with n_obs × n_vars = 91746 × 534188\n",
       "    obs: 'code', 'sample', 'multiome_GermCells', 'multiome_Somatic'\n",
       "    var: 'peak_width', 'exon', 'gene', 'promoter', 'annotation', 'gene_name', 'gene_id', 'tss_distance', 'ENCODE_blacklist', 'n_cells_by_counts', 'mean_counts', 'log1p_mean_counts', 'pct_dropout_by_counts', 'total_counts', 'log1p_total_counts'\n",
       "    layers: 'binary_raw'"
      ]
     },
     "execution_count": 105,
     "metadata": {},
     "output_type": "execute_result"
    }
   ],
   "source": [
    "var_qc = sc.pp.calculate_qc_metrics(adata, layer = \"binary_raw\")[1]\n",
    "adata.var = pd.concat([adata.var, var_qc], 1)\n",
    "adata"
   ]
  },
  {
   "cell_type": "code",
   "execution_count": 106,
   "metadata": {},
   "outputs": [
    {
     "data": {
      "text/html": [
       "<div>\n",
       "<style scoped>\n",
       "    .dataframe tbody tr th:only-of-type {\n",
       "        vertical-align: middle;\n",
       "    }\n",
       "\n",
       "    .dataframe tbody tr th {\n",
       "        vertical-align: top;\n",
       "    }\n",
       "\n",
       "    .dataframe thead th {\n",
       "        text-align: right;\n",
       "    }\n",
       "</style>\n",
       "<table border=\"1\" class=\"dataframe\">\n",
       "  <thead>\n",
       "    <tr style=\"text-align: right;\">\n",
       "      <th></th>\n",
       "      <th>peak_width</th>\n",
       "      <th>exon</th>\n",
       "      <th>gene</th>\n",
       "      <th>promoter</th>\n",
       "      <th>annotation</th>\n",
       "      <th>gene_name</th>\n",
       "      <th>gene_id</th>\n",
       "      <th>tss_distance</th>\n",
       "      <th>ENCODE_blacklist</th>\n",
       "      <th>n_cells_by_counts</th>\n",
       "      <th>mean_counts</th>\n",
       "      <th>log1p_mean_counts</th>\n",
       "      <th>pct_dropout_by_counts</th>\n",
       "      <th>total_counts</th>\n",
       "      <th>log1p_total_counts</th>\n",
       "    </tr>\n",
       "  </thead>\n",
       "  <tbody>\n",
       "    <tr>\n",
       "      <th>chr1:10026-10440</th>\n",
       "      <td>415</td>\n",
       "      <td>0</td>\n",
       "      <td>0</td>\n",
       "      <td>0</td>\n",
       "      <td>intergenic</td>\n",
       "      <td>NaN</td>\n",
       "      <td>NaN</td>\n",
       "      <td>58650</td>\n",
       "      <td>1</td>\n",
       "      <td>692</td>\n",
       "      <td>0.007543</td>\n",
       "      <td>0.007514</td>\n",
       "      <td>99.245744</td>\n",
       "      <td>692.0</td>\n",
       "      <td>6.541030</td>\n",
       "    </tr>\n",
       "    <tr>\n",
       "      <th>chr1:180682-181625</th>\n",
       "      <td>944</td>\n",
       "      <td>0</td>\n",
       "      <td>0</td>\n",
       "      <td>1</td>\n",
       "      <td>promoter</td>\n",
       "      <td>FO538757.2</td>\n",
       "      <td>ENSG00000279928</td>\n",
       "      <td>767</td>\n",
       "      <td>1</td>\n",
       "      <td>3970</td>\n",
       "      <td>0.043272</td>\n",
       "      <td>0.042362</td>\n",
       "      <td>95.672836</td>\n",
       "      <td>3970.0</td>\n",
       "      <td>8.286774</td>\n",
       "    </tr>\n",
       "    <tr>\n",
       "      <th>chr1:191218-191938</th>\n",
       "      <td>721</td>\n",
       "      <td>0</td>\n",
       "      <td>1</td>\n",
       "      <td>0</td>\n",
       "      <td>intron</td>\n",
       "      <td>FO538757.1</td>\n",
       "      <td>ENSG00000279457</td>\n",
       "      <td>3472</td>\n",
       "      <td>1</td>\n",
       "      <td>520</td>\n",
       "      <td>0.005668</td>\n",
       "      <td>0.005652</td>\n",
       "      <td>99.433218</td>\n",
       "      <td>520.0</td>\n",
       "      <td>6.255750</td>\n",
       "    </tr>\n",
       "    <tr>\n",
       "      <th>chr1:267866-268126</th>\n",
       "      <td>261</td>\n",
       "      <td>0</td>\n",
       "      <td>0</td>\n",
       "      <td>0</td>\n",
       "      <td>intergenic</td>\n",
       "      <td>NaN</td>\n",
       "      <td>NaN</td>\n",
       "      <td>67543</td>\n",
       "      <td>1</td>\n",
       "      <td>773</td>\n",
       "      <td>0.008425</td>\n",
       "      <td>0.008390</td>\n",
       "      <td>99.157456</td>\n",
       "      <td>773.0</td>\n",
       "      <td>6.651572</td>\n",
       "    </tr>\n",
       "    <tr>\n",
       "      <th>chr1:586067-586291</th>\n",
       "      <td>225</td>\n",
       "      <td>0</td>\n",
       "      <td>0</td>\n",
       "      <td>0</td>\n",
       "      <td>intergenic</td>\n",
       "      <td>NaN</td>\n",
       "      <td>NaN</td>\n",
       "      <td>100362</td>\n",
       "      <td>1</td>\n",
       "      <td>685</td>\n",
       "      <td>0.007466</td>\n",
       "      <td>0.007439</td>\n",
       "      <td>99.253373</td>\n",
       "      <td>685.0</td>\n",
       "      <td>6.530878</td>\n",
       "    </tr>\n",
       "  </tbody>\n",
       "</table>\n",
       "</div>"
      ],
      "text/plain": [
       "                    peak_width  exon  gene  promoter  annotation   gene_name  \\\n",
       "chr1:10026-10440           415     0     0         0  intergenic         NaN   \n",
       "chr1:180682-181625         944     0     0         1    promoter  FO538757.2   \n",
       "chr1:191218-191938         721     0     1         0      intron  FO538757.1   \n",
       "chr1:267866-268126         261     0     0         0  intergenic         NaN   \n",
       "chr1:586067-586291         225     0     0         0  intergenic         NaN   \n",
       "\n",
       "                            gene_id  tss_distance  ENCODE_blacklist  \\\n",
       "chr1:10026-10440                NaN         58650                 1   \n",
       "chr1:180682-181625  ENSG00000279928           767                 1   \n",
       "chr1:191218-191938  ENSG00000279457          3472                 1   \n",
       "chr1:267866-268126              NaN         67543                 1   \n",
       "chr1:586067-586291              NaN        100362                 1   \n",
       "\n",
       "                    n_cells_by_counts  mean_counts  log1p_mean_counts  \\\n",
       "chr1:10026-10440                  692     0.007543           0.007514   \n",
       "chr1:180682-181625               3970     0.043272           0.042362   \n",
       "chr1:191218-191938                520     0.005668           0.005652   \n",
       "chr1:267866-268126                773     0.008425           0.008390   \n",
       "chr1:586067-586291                685     0.007466           0.007439   \n",
       "\n",
       "                    pct_dropout_by_counts  total_counts  log1p_total_counts  \n",
       "chr1:10026-10440                99.245744         692.0            6.541030  \n",
       "chr1:180682-181625              95.672836        3970.0            8.286774  \n",
       "chr1:191218-191938              99.433218         520.0            6.255750  \n",
       "chr1:267866-268126              99.157456         773.0            6.651572  \n",
       "chr1:586067-586291              99.253373         685.0            6.530878  "
      ]
     },
     "execution_count": 106,
     "metadata": {},
     "output_type": "execute_result"
    }
   ],
   "source": [
    "adata.var.head()"
   ]
  },
  {
   "cell_type": "code",
   "execution_count": 107,
   "metadata": {},
   "outputs": [
    {
     "data": {
      "text/plain": [
       "array([[<AxesSubplot:title={'center':'total_counts'}>]], dtype=object)"
      ]
     },
     "execution_count": 107,
     "metadata": {},
     "output_type": "execute_result"
    },
    {
     "data": {
      "image/png": "[encoded data removed]",
      "text/plain": [
       "<Figure size 1800x432 with 1 Axes>"
      ]
     },
     "metadata": {
      "needs_background": "light"
     },
     "output_type": "display_data"
    }
   ],
   "source": [
    "adata.var.hist(column = 'total_counts', bins = 200, grid = False, figsize = (25,6), color = '#870052')"
   ]
  },
  {
   "cell_type": "code",
   "execution_count": 108,
   "metadata": {},
   "outputs": [
    {
     "name": "stdout",
     "output_type": "stream",
     "text": [
      "30% : 27523.800000000003\n",
      "0.1% : 91.74600000000001\n"
     ]
    }
   ],
   "source": [
    "thirty_percent = len(adata.obs_names) / 100 * 30\n",
    "point_one_percent = len(adata.obs_names) / 100 * 0.1\n",
    "print(\"30% : {}\".format(thirty_percent))\n",
    "print(\"0.1% : {}\".format(point_one_percent))"
   ]
  },
  {
   "cell_type": "code",
   "execution_count": 109,
   "metadata": {},
   "outputs": [
    {
     "data": {
      "text/plain": [
       "View of AnnData object with n_obs × n_vars = 91746 × 500566\n",
       "    obs: 'code', 'sample', 'multiome_GermCells', 'multiome_Somatic'\n",
       "    var: 'peak_width', 'exon', 'gene', 'promoter', 'annotation', 'gene_name', 'gene_id', 'tss_distance', 'ENCODE_blacklist', 'n_cells_by_counts', 'mean_counts', 'log1p_mean_counts', 'pct_dropout_by_counts', 'total_counts', 'log1p_total_counts'\n",
       "    layers: 'binary_raw'"
      ]
     },
     "execution_count": 109,
     "metadata": {},
     "output_type": "execute_result"
    }
   ],
   "source": [
    "# Accessible in at least k cells\n",
    "adata = adata[:,adata.var.total_counts > point_one_percent]\n",
    "adata = adata[:,adata.var.total_counts < thirty_percent]\n",
    "adata"
   ]
  },
  {
   "cell_type": "code",
   "execution_count": 110,
   "metadata": {},
   "outputs": [
    {
     "data": {
      "text/plain": [
       "View of AnnData object with n_obs × n_vars = 91746 × 498561\n",
       "    obs: 'code', 'sample', 'multiome_GermCells', 'multiome_Somatic'\n",
       "    var: 'peak_width', 'exon', 'gene', 'promoter', 'annotation', 'gene_name', 'gene_id', 'tss_distance', 'ENCODE_blacklist', 'n_cells_by_counts', 'mean_counts', 'log1p_mean_counts', 'pct_dropout_by_counts', 'total_counts', 'log1p_total_counts'\n",
       "    layers: 'binary_raw'"
      ]
     },
     "execution_count": 110,
     "metadata": {},
     "output_type": "execute_result"
    }
   ],
   "source": [
    "# Remove peaks in ENCODE blacklist\n",
    "adata = adata[:, adata.var.ENCODE_blacklist == 0]\n",
    "adata"
   ]
  },
  {
   "cell_type": "code",
   "execution_count": 111,
   "metadata": {},
   "outputs": [
    {
     "data": {
      "text/plain": [
       "View of AnnData object with n_obs × n_vars = 91746 × 446862\n",
       "    obs: 'code', 'sample', 'multiome_GermCells', 'multiome_Somatic'\n",
       "    var: 'peak_width', 'exon', 'gene', 'promoter', 'annotation', 'gene_name', 'gene_id', 'tss_distance', 'ENCODE_blacklist', 'n_cells_by_counts', 'mean_counts', 'log1p_mean_counts', 'pct_dropout_by_counts', 'total_counts', 'log1p_total_counts'\n",
       "    layers: 'binary_raw'"
      ]
     },
     "execution_count": 111,
     "metadata": {},
     "output_type": "execute_result"
    }
   ],
   "source": [
    "# Filter by width (remove peaks at the lowest end, closest to min peak width in MACS2)\n",
    "\n",
    "adata = adata[:, adata.var.peak_width > 210]\n",
    "adata = adata[:, adata.var.peak_width < 1500]\n",
    "adata"
   ]
  },
  {
   "cell_type": "code",
   "execution_count": 112,
   "metadata": {},
   "outputs": [
    {
     "data": {
      "text/html": [
       "<div>\n",
       "<style scoped>\n",
       "    .dataframe tbody tr th:only-of-type {\n",
       "        vertical-align: middle;\n",
       "    }\n",
       "\n",
       "    .dataframe tbody tr th {\n",
       "        vertical-align: top;\n",
       "    }\n",
       "\n",
       "    .dataframe thead th {\n",
       "        text-align: right;\n",
       "    }\n",
       "</style>\n",
       "<table border=\"1\" class=\"dataframe\">\n",
       "  <thead>\n",
       "    <tr style=\"text-align: right;\">\n",
       "      <th></th>\n",
       "      <th>peak_width</th>\n",
       "      <th>exon</th>\n",
       "      <th>gene</th>\n",
       "      <th>promoter</th>\n",
       "      <th>annotation</th>\n",
       "      <th>gene_name</th>\n",
       "      <th>gene_id</th>\n",
       "      <th>tss_distance</th>\n",
       "      <th>ENCODE_blacklist</th>\n",
       "      <th>n_cells_by_counts</th>\n",
       "      <th>mean_counts</th>\n",
       "      <th>log1p_mean_counts</th>\n",
       "      <th>pct_dropout_by_counts</th>\n",
       "      <th>total_counts</th>\n",
       "      <th>log1p_total_counts</th>\n",
       "    </tr>\n",
       "  </thead>\n",
       "  <tbody>\n",
       "    <tr>\n",
       "      <th>chr1:816774-817439</th>\n",
       "      <td>666</td>\n",
       "      <td>0</td>\n",
       "      <td>0</td>\n",
       "      <td>0</td>\n",
       "      <td>intergenic</td>\n",
       "      <td>NaN</td>\n",
       "      <td>NaN</td>\n",
       "      <td>106488</td>\n",
       "      <td>0</td>\n",
       "      <td>722</td>\n",
       "      <td>0.007870</td>\n",
       "      <td>0.007839</td>\n",
       "      <td>99.213045</td>\n",
       "      <td>722.0</td>\n",
       "      <td>6.583409</td>\n",
       "    </tr>\n",
       "    <tr>\n",
       "      <th>chr1:817726-818992</th>\n",
       "      <td>1267</td>\n",
       "      <td>0</td>\n",
       "      <td>0</td>\n",
       "      <td>0</td>\n",
       "      <td>intergenic</td>\n",
       "      <td>NaN</td>\n",
       "      <td>NaN</td>\n",
       "      <td>104935</td>\n",
       "      <td>0</td>\n",
       "      <td>1057</td>\n",
       "      <td>0.011521</td>\n",
       "      <td>0.011455</td>\n",
       "      <td>98.847906</td>\n",
       "      <td>1057.0</td>\n",
       "      <td>6.964136</td>\n",
       "    </tr>\n",
       "    <tr>\n",
       "      <th>chr1:825667-826063</th>\n",
       "      <td>397</td>\n",
       "      <td>0</td>\n",
       "      <td>0</td>\n",
       "      <td>0</td>\n",
       "      <td>intergenic</td>\n",
       "      <td>NaN</td>\n",
       "      <td>NaN</td>\n",
       "      <td>97864</td>\n",
       "      <td>0</td>\n",
       "      <td>657</td>\n",
       "      <td>0.007161</td>\n",
       "      <td>0.007136</td>\n",
       "      <td>99.283892</td>\n",
       "      <td>657.0</td>\n",
       "      <td>6.489205</td>\n",
       "    </tr>\n",
       "    <tr>\n",
       "      <th>chr1:826596-827807</th>\n",
       "      <td>1212</td>\n",
       "      <td>0</td>\n",
       "      <td>0</td>\n",
       "      <td>0</td>\n",
       "      <td>intergenic</td>\n",
       "      <td>NaN</td>\n",
       "      <td>NaN</td>\n",
       "      <td>96120</td>\n",
       "      <td>0</td>\n",
       "      <td>10499</td>\n",
       "      <td>0.114436</td>\n",
       "      <td>0.108348</td>\n",
       "      <td>88.556449</td>\n",
       "      <td>10499.0</td>\n",
       "      <td>9.259130</td>\n",
       "    </tr>\n",
       "    <tr>\n",
       "      <th>chr1:828735-829044</th>\n",
       "      <td>310</td>\n",
       "      <td>0</td>\n",
       "      <td>0</td>\n",
       "      <td>0</td>\n",
       "      <td>intergenic</td>\n",
       "      <td>NaN</td>\n",
       "      <td>NaN</td>\n",
       "      <td>94883</td>\n",
       "      <td>0</td>\n",
       "      <td>340</td>\n",
       "      <td>0.003706</td>\n",
       "      <td>0.003699</td>\n",
       "      <td>99.629412</td>\n",
       "      <td>340.0</td>\n",
       "      <td>5.831882</td>\n",
       "    </tr>\n",
       "  </tbody>\n",
       "</table>\n",
       "</div>"
      ],
      "text/plain": [
       "                    peak_width  exon  gene  promoter  annotation gene_name  \\\n",
       "chr1:816774-817439         666     0     0         0  intergenic       NaN   \n",
       "chr1:817726-818992        1267     0     0         0  intergenic       NaN   \n",
       "chr1:825667-826063         397     0     0         0  intergenic       NaN   \n",
       "chr1:826596-827807        1212     0     0         0  intergenic       NaN   \n",
       "chr1:828735-829044         310     0     0         0  intergenic       NaN   \n",
       "\n",
       "                   gene_id  tss_distance  ENCODE_blacklist  n_cells_by_counts  \\\n",
       "chr1:816774-817439     NaN        106488                 0                722   \n",
       "chr1:817726-818992     NaN        104935                 0               1057   \n",
       "chr1:825667-826063     NaN         97864                 0                657   \n",
       "chr1:826596-827807     NaN         96120                 0              10499   \n",
       "chr1:828735-829044     NaN         94883                 0                340   \n",
       "\n",
       "                    mean_counts  log1p_mean_counts  pct_dropout_by_counts  \\\n",
       "chr1:816774-817439     0.007870           0.007839              99.213045   \n",
       "chr1:817726-818992     0.011521           0.011455              98.847906   \n",
       "chr1:825667-826063     0.007161           0.007136              99.283892   \n",
       "chr1:826596-827807     0.114436           0.108348              88.556449   \n",
       "chr1:828735-829044     0.003706           0.003699              99.629412   \n",
       "\n",
       "                    total_counts  log1p_total_counts  \n",
       "chr1:816774-817439         722.0            6.583409  \n",
       "chr1:817726-818992        1057.0            6.964136  \n",
       "chr1:825667-826063         657.0            6.489205  \n",
       "chr1:826596-827807       10499.0            9.259130  \n",
       "chr1:828735-829044         340.0            5.831882  "
      ]
     },
     "execution_count": 112,
     "metadata": {},
     "output_type": "execute_result"
    }
   ],
   "source": [
    "adata.var.head()"
   ]
  },
  {
   "cell_type": "code",
   "execution_count": 113,
   "metadata": {},
   "outputs": [
    {
     "data": {
      "text/plain": [
       "intergenic    201078\n",
       "intron        185666\n",
       "exon           46267\n",
       "promoter       13851\n",
       "Name: annotation, dtype: int64"
      ]
     },
     "execution_count": 113,
     "metadata": {},
     "output_type": "execute_result"
    }
   ],
   "source": [
    "adata.var['annotation'].value_counts()"
   ]
  },
  {
   "cell_type": "code",
   "execution_count": 114,
   "metadata": {},
   "outputs": [
    {
     "data": {
      "text/html": [
       "<div>\n",
       "<style scoped>\n",
       "    .dataframe tbody tr th:only-of-type {\n",
       "        vertical-align: middle;\n",
       "    }\n",
       "\n",
       "    .dataframe tbody tr th {\n",
       "        vertical-align: top;\n",
       "    }\n",
       "\n",
       "    .dataframe thead th {\n",
       "        text-align: right;\n",
       "    }\n",
       "</style>\n",
       "<table border=\"1\" class=\"dataframe\">\n",
       "  <thead>\n",
       "    <tr style=\"text-align: right;\">\n",
       "      <th></th>\n",
       "      <th>code</th>\n",
       "      <th>sample</th>\n",
       "      <th>multiome_GermCells</th>\n",
       "      <th>multiome_Somatic</th>\n",
       "    </tr>\n",
       "  </thead>\n",
       "  <tbody>\n",
       "    <tr>\n",
       "      <th>13-AAACAGCCAAGCGATG-1</th>\n",
       "      <td>13</td>\n",
       "      <td>FCA_GND10288176</td>\n",
       "      <td>NaN</td>\n",
       "      <td>granulosa</td>\n",
       "    </tr>\n",
       "    <tr>\n",
       "      <th>13-AAACAGCCACTAGCGT-1</th>\n",
       "      <td>13</td>\n",
       "      <td>FCA_GND10288176</td>\n",
       "      <td>NaN</td>\n",
       "      <td>preGC_IIb</td>\n",
       "    </tr>\n",
       "    <tr>\n",
       "      <th>13-AAACAGCCAGCCAGAA-1</th>\n",
       "      <td>13</td>\n",
       "      <td>FCA_GND10288176</td>\n",
       "      <td>oogonia_meiotic</td>\n",
       "      <td>NaN</td>\n",
       "    </tr>\n",
       "    <tr>\n",
       "      <th>13-AAACAGCCATCCAGGT-1</th>\n",
       "      <td>13</td>\n",
       "      <td>FCA_GND10288176</td>\n",
       "      <td>oogonia_STRA8</td>\n",
       "      <td>NaN</td>\n",
       "    </tr>\n",
       "    <tr>\n",
       "      <th>13-AAACATGCATCCCGCT-1</th>\n",
       "      <td>13</td>\n",
       "      <td>FCA_GND10288176</td>\n",
       "      <td>NaN</td>\n",
       "      <td>preGC_IIb</td>\n",
       "    </tr>\n",
       "  </tbody>\n",
       "</table>\n",
       "</div>"
      ],
      "text/plain": [
       "                      code           sample multiome_GermCells  \\\n",
       "13-AAACAGCCAAGCGATG-1   13  FCA_GND10288176                NaN   \n",
       "13-AAACAGCCACTAGCGT-1   13  FCA_GND10288176                NaN   \n",
       "13-AAACAGCCAGCCAGAA-1   13  FCA_GND10288176    oogonia_meiotic   \n",
       "13-AAACAGCCATCCAGGT-1   13  FCA_GND10288176      oogonia_STRA8   \n",
       "13-AAACATGCATCCCGCT-1   13  FCA_GND10288176                NaN   \n",
       "\n",
       "                      multiome_Somatic  \n",
       "13-AAACAGCCAAGCGATG-1        granulosa  \n",
       "13-AAACAGCCACTAGCGT-1        preGC_IIb  \n",
       "13-AAACAGCCAGCCAGAA-1              NaN  \n",
       "13-AAACAGCCATCCAGGT-1              NaN  \n",
       "13-AAACATGCATCCCGCT-1        preGC_IIb  "
      ]
     },
     "execution_count": 114,
     "metadata": {},
     "output_type": "execute_result"
    }
   ],
   "source": [
    "adata.obs.head()"
   ]
  },
  {
   "cell_type": "code",
   "execution_count": 115,
   "metadata": {},
   "outputs": [
    {
     "data": {
      "text/plain": [
       "AnnData object with n_obs × n_vars = 91746 × 446862\n",
       "    obs: 'cellatac_clusters'\n",
       "    var: 'peak_width', 'exon', 'gene', 'promoter', 'annotation', 'gene_name', 'gene_id', 'tss_distance', 'ENCODE_blacklist', 'n_cells_by_counts', 'mean_counts', 'log1p_mean_counts', 'pct_dropout_by_counts', 'total_counts', 'log1p_total_counts'\n",
       "    layers: 'binary_raw'"
      ]
     },
     "execution_count": 115,
     "metadata": {},
     "output_type": "execute_result"
    }
   ],
   "source": [
    "### Filter peaks that are not accessible in at least 5% of cells from a coarse cluster\n",
    "min_frac=0.05\n",
    "# Load cluster information from cellatac outputs\n",
    "clusters = pd.read_table(input[\"clusters\"], header = None, index_col = 0)\n",
    "clusters.columns = [\"cellatac_clusters\"]\n",
    "adata.obs = clusters.loc[adata.obs_names]\n",
    "adata"
   ]
  },
  {
   "cell_type": "code",
   "execution_count": 116,
   "metadata": {},
   "outputs": [
    {
     "data": {
      "text/html": [
       "<div>\n",
       "<style scoped>\n",
       "    .dataframe tbody tr th:only-of-type {\n",
       "        vertical-align: middle;\n",
       "    }\n",
       "\n",
       "    .dataframe tbody tr th {\n",
       "        vertical-align: top;\n",
       "    }\n",
       "\n",
       "    .dataframe thead th {\n",
       "        text-align: right;\n",
       "    }\n",
       "</style>\n",
       "<table border=\"1\" class=\"dataframe\">\n",
       "  <thead>\n",
       "    <tr style=\"text-align: right;\">\n",
       "      <th></th>\n",
       "      <th>cellatac_clusters</th>\n",
       "    </tr>\n",
       "  </thead>\n",
       "  <tbody>\n",
       "    <tr>\n",
       "      <th>13-AAACAGCCAAGCGATG-1</th>\n",
       "      <td>4</td>\n",
       "    </tr>\n",
       "    <tr>\n",
       "      <th>13-AAACAGCCACTAGCGT-1</th>\n",
       "      <td>3</td>\n",
       "    </tr>\n",
       "    <tr>\n",
       "      <th>13-AAACAGCCAGCCAGAA-1</th>\n",
       "      <td>3</td>\n",
       "    </tr>\n",
       "    <tr>\n",
       "      <th>13-AAACAGCCATCCAGGT-1</th>\n",
       "      <td>8</td>\n",
       "    </tr>\n",
       "    <tr>\n",
       "      <th>13-AAACATGCATCCCGCT-1</th>\n",
       "      <td>3</td>\n",
       "    </tr>\n",
       "  </tbody>\n",
       "</table>\n",
       "</div>"
      ],
      "text/plain": [
       "                       cellatac_clusters\n",
       "13-AAACAGCCAAGCGATG-1                  4\n",
       "13-AAACAGCCACTAGCGT-1                  3\n",
       "13-AAACAGCCAGCCAGAA-1                  3\n",
       "13-AAACAGCCATCCAGGT-1                  8\n",
       "13-AAACATGCATCCCGCT-1                  3"
      ]
     },
     "execution_count": 116,
     "metadata": {},
     "output_type": "execute_result"
    }
   ],
   "source": [
    "adata.obs.head()"
   ]
  },
  {
   "cell_type": "code",
   "execution_count": 117,
   "metadata": {},
   "outputs": [
    {
     "name": "stderr",
     "output_type": "stream",
     "text": [
      "/opt/conda/envs/atac_env/lib/python3.8/site-packages/IPython/core/interactiveshell.py:3427: SparseEfficiencyWarning: Comparing a sparse matrix with a nonzero scalar using != is inefficient, try using == instead.\n",
      "  exec(code_obj, self.user_global_ns, self.user_ns)\n",
      "/opt/conda/envs/atac_env/lib/python3.8/site-packages/scipy/sparse/_index.py:125: SparseEfficiencyWarning: Changing the sparsity structure of a csr_matrix is expensive. lil_matrix is more efficient.\n",
      "  self._set_arrayXarray(i, j, x)\n"
     ]
    }
   ],
   "source": [
    "n_clusters = len(np.unique(adata.obs[[\"cellatac_clusters\"]]))\n",
    "clus_mat = np.empty([adata.n_obs, n_clusters])\n",
    "for cl in np.unique(adata.obs[[\"cellatac_clusters\"]]):\n",
    "    clus_mat[np.where(adata.obs['cellatac_clusters']==cl)[0],cl] = 1\n",
    "\n",
    "clus_mat = scipy.sparse.csr_matrix(clus_mat)\n",
    "clus_mat[clus_mat != 1 ] = 0"
   ]
  },
  {
   "cell_type": "code",
   "execution_count": 118,
   "metadata": {},
   "outputs": [],
   "source": [
    "cl_peak_mat = np.dot(clus_mat.T, adata.layers[\"binary_raw\"])"
   ]
  },
  {
   "cell_type": "code",
   "execution_count": 119,
   "metadata": {},
   "outputs": [],
   "source": [
    "cl_peak_frac = cl_peak_mat/clus_mat.sum(0).T"
   ]
  },
  {
   "cell_type": "code",
   "execution_count": 120,
   "metadata": {},
   "outputs": [
    {
     "data": {
      "text/plain": [
       "(1, 446862)"
      ]
     },
     "execution_count": 120,
     "metadata": {},
     "output_type": "execute_result"
    }
   ],
   "source": [
    "cl_peak_frac.max(0).shape"
   ]
  },
  {
   "cell_type": "code",
   "execution_count": 121,
   "metadata": {},
   "outputs": [
    {
     "data": {
      "text/plain": [
       "(1, 446862)"
      ]
     },
     "execution_count": 121,
     "metadata": {},
     "output_type": "execute_result"
    }
   ],
   "source": [
    "bool_matrix = cl_peak_frac.max(0) > min_frac\n",
    "bool_matrix.shape"
   ]
  },
  {
   "cell_type": "code",
   "execution_count": 122,
   "metadata": {},
   "outputs": [
    {
     "data": {
      "text/plain": [
       "(446862,)"
      ]
     },
     "execution_count": 122,
     "metadata": {},
     "output_type": "execute_result"
    }
   ],
   "source": [
    "bool_vector = np.squeeze(np.asarray(bool_matrix))\n",
    "bool_vector.shape"
   ]
  },
  {
   "cell_type": "code",
   "execution_count": 123,
   "metadata": {},
   "outputs": [],
   "source": [
    "adata = adata[:, bool_vector]"
   ]
  },
  {
   "cell_type": "code",
   "execution_count": 124,
   "metadata": {},
   "outputs": [
    {
     "data": {
      "text/plain": [
       "View of AnnData object with n_obs × n_vars = 91746 × 153356\n",
       "    obs: 'cellatac_clusters'\n",
       "    var: 'peak_width', 'exon', 'gene', 'promoter', 'annotation', 'gene_name', 'gene_id', 'tss_distance', 'ENCODE_blacklist', 'n_cells_by_counts', 'mean_counts', 'log1p_mean_counts', 'pct_dropout_by_counts', 'total_counts', 'log1p_total_counts'\n",
       "    layers: 'binary_raw'"
      ]
     },
     "execution_count": 124,
     "metadata": {},
     "output_type": "execute_result"
    }
   ],
   "source": [
    "adata"
   ]
  },
  {
   "cell_type": "code",
   "execution_count": 125,
   "metadata": {},
   "outputs": [
    {
     "name": "stderr",
     "output_type": "stream",
     "text": [
      "Trying to set attribute `.obs` of view, copying.\n"
     ]
    }
   ],
   "source": [
    "sc.pp.calculate_qc_metrics(adata, layer = \"binary_raw\", inplace = True)"
   ]
  },
  {
   "cell_type": "code",
   "execution_count": 126,
   "metadata": {},
   "outputs": [
    {
     "data": {
      "text/plain": [
       "array([[<AxesSubplot:title={'center':'log1p_total_counts'}>]],\n",
       "      dtype=object)"
      ]
     },
     "execution_count": 126,
     "metadata": {},
     "output_type": "execute_result"
    },
    {
     "data": {
      "image/png": "[encoded data removed]",
      "text/plain": [
       "<Figure size 1800x432 with 1 Axes>"
      ]
     },
     "metadata": {
      "needs_background": "light"
     },
     "output_type": "display_data"
    }
   ],
   "source": [
    "adata.var.hist(column = 'log1p_total_counts', bins = 200, grid = False, figsize = (25,6), color = '#870052')"
   ]
  },
  {
   "cell_type": "code",
   "execution_count": 127,
   "metadata": {},
   "outputs": [
    {
     "data": {
      "text/plain": [
       "array([[<AxesSubplot:title={'center':'log1p_total_counts'}>]],\n",
       "      dtype=object)"
      ]
     },
     "execution_count": 127,
     "metadata": {},
     "output_type": "execute_result"
    },
    {
     "data": {
      "image/png": "[encoded data removed]",
      "text/plain": [
       "<Figure size 1800x432 with 1 Axes>"
      ]
     },
     "metadata": {
      "needs_background": "light"
     },
     "output_type": "display_data"
    }
   ],
   "source": [
    "adata.obs.hist(column = 'log1p_total_counts', bins = 200, grid = False, figsize = (25,6), color = '#870052')"
   ]
  },
  {
   "cell_type": "code",
   "execution_count": 128,
   "metadata": {},
   "outputs": [],
   "source": [
    "adata.obs['multiome_GermCells'] = adata.obs_names.map(pd.Series(germcells.celltype.values,index=germcells.ATAC_barcode).to_dict())\n",
    "adata.obs['multiome_Somatic'] = adata.obs_names.map(pd.Series(supporting.celltype.values,index=supporting.ATAC_barcode).to_dict())"
   ]
  },
  {
   "cell_type": "code",
   "execution_count": 129,
   "metadata": {},
   "outputs": [
    {
     "data": {
      "text/html": [
       "<div>\n",
       "<style scoped>\n",
       "    .dataframe tbody tr th:only-of-type {\n",
       "        vertical-align: middle;\n",
       "    }\n",
       "\n",
       "    .dataframe tbody tr th {\n",
       "        vertical-align: top;\n",
       "    }\n",
       "\n",
       "    .dataframe thead th {\n",
       "        text-align: right;\n",
       "    }\n",
       "</style>\n",
       "<table border=\"1\" class=\"dataframe\">\n",
       "  <thead>\n",
       "    <tr style=\"text-align: right;\">\n",
       "      <th></th>\n",
       "      <th>multiome_GermCells</th>\n",
       "      <th>log1p_total_counts</th>\n",
       "    </tr>\n",
       "  </thead>\n",
       "  <tbody>\n",
       "    <tr>\n",
       "      <th>0</th>\n",
       "      <td>Doublet</td>\n",
       "      <td>7.138975</td>\n",
       "    </tr>\n",
       "    <tr>\n",
       "      <th>1</th>\n",
       "      <td>PGC</td>\n",
       "      <td>6.888658</td>\n",
       "    </tr>\n",
       "    <tr>\n",
       "      <th>2</th>\n",
       "      <td>lowQC</td>\n",
       "      <td>6.137469</td>\n",
       "    </tr>\n",
       "    <tr>\n",
       "      <th>3</th>\n",
       "      <td>oocyte</td>\n",
       "      <td>7.134618</td>\n",
       "    </tr>\n",
       "    <tr>\n",
       "      <th>4</th>\n",
       "      <td>oogonia_STRA8</td>\n",
       "      <td>6.979627</td>\n",
       "    </tr>\n",
       "    <tr>\n",
       "      <th>5</th>\n",
       "      <td>oogonia_meiotic</td>\n",
       "      <td>7.515431</td>\n",
       "    </tr>\n",
       "    <tr>\n",
       "      <th>6</th>\n",
       "      <td>preOocyte</td>\n",
       "      <td>7.105744</td>\n",
       "    </tr>\n",
       "  </tbody>\n",
       "</table>\n",
       "</div>"
      ],
      "text/plain": [
       "  multiome_GermCells  log1p_total_counts\n",
       "0            Doublet            7.138975\n",
       "1                PGC            6.888658\n",
       "2              lowQC            6.137469\n",
       "3             oocyte            7.134618\n",
       "4      oogonia_STRA8            6.979627\n",
       "5    oogonia_meiotic            7.515431\n",
       "6          preOocyte            7.105744"
      ]
     },
     "execution_count": 129,
     "metadata": {},
     "output_type": "execute_result"
    }
   ],
   "source": [
    "adata.obs.groupby('multiome_GermCells', as_index=False)['log1p_total_counts'].mean()"
   ]
  },
  {
   "cell_type": "code",
   "execution_count": 130,
   "metadata": {},
   "outputs": [
    {
     "data": {
      "text/plain": [
       "count    162.000000\n",
       "mean       7.134618\n",
       "std        1.470978\n",
       "min        1.609438\n",
       "25%        6.530874\n",
       "50%        7.375849\n",
       "75%        8.073781\n",
       "max        9.868689\n",
       "Name: log1p_total_counts, dtype: float64"
      ]
     },
     "execution_count": 130,
     "metadata": {},
     "output_type": "execute_result"
    }
   ],
   "source": [
    "adata.obs[adata.obs['multiome_GermCells'] == 'oocyte']['log1p_total_counts'].describe()"
   ]
  },
  {
   "cell_type": "code",
   "execution_count": 131,
   "metadata": {},
   "outputs": [
    {
     "data": {
      "text/plain": [
       "oogonia_STRA8      2215\n",
       "PGC                1483\n",
       "oogonia_meiotic    1178\n",
       "preOocyte           311\n",
       "Doublet             252\n",
       "oocyte              162\n",
       "lowQC                92\n",
       "Name: multiome_GermCells, dtype: int64"
      ]
     },
     "execution_count": 131,
     "metadata": {},
     "output_type": "execute_result"
    }
   ],
   "source": [
    "adata.obs['multiome_GermCells'].value_counts()"
   ]
  },
  {
   "cell_type": "code",
   "execution_count": 132,
   "metadata": {},
   "outputs": [
    {
     "data": {
      "text/html": [
       "<div>\n",
       "<style scoped>\n",
       "    .dataframe tbody tr th:only-of-type {\n",
       "        vertical-align: middle;\n",
       "    }\n",
       "\n",
       "    .dataframe tbody tr th {\n",
       "        vertical-align: top;\n",
       "    }\n",
       "\n",
       "    .dataframe thead th {\n",
       "        text-align: right;\n",
       "    }\n",
       "</style>\n",
       "<table border=\"1\" class=\"dataframe\">\n",
       "  <thead>\n",
       "    <tr style=\"text-align: right;\">\n",
       "      <th></th>\n",
       "      <th>multiome_Somatic</th>\n",
       "      <th>log1p_total_counts</th>\n",
       "    </tr>\n",
       "  </thead>\n",
       "  <tbody>\n",
       "    <tr>\n",
       "      <th>0</th>\n",
       "      <td>CoelEpi_LHX9</td>\n",
       "      <td>6.997910</td>\n",
       "    </tr>\n",
       "    <tr>\n",
       "      <th>1</th>\n",
       "      <td>Doublet</td>\n",
       "      <td>7.511556</td>\n",
       "    </tr>\n",
       "    <tr>\n",
       "      <th>2</th>\n",
       "      <td>Mesenchymal_LHX9</td>\n",
       "      <td>6.765028</td>\n",
       "    </tr>\n",
       "    <tr>\n",
       "      <th>3</th>\n",
       "      <td>OSE</td>\n",
       "      <td>6.804958</td>\n",
       "    </tr>\n",
       "    <tr>\n",
       "      <th>4</th>\n",
       "      <td>OSE_cycling</td>\n",
       "      <td>7.452723</td>\n",
       "    </tr>\n",
       "    <tr>\n",
       "      <th>5</th>\n",
       "      <td>early_sPAX8</td>\n",
       "      <td>6.914789</td>\n",
       "    </tr>\n",
       "    <tr>\n",
       "      <th>6</th>\n",
       "      <td>early_supporting</td>\n",
       "      <td>7.170866</td>\n",
       "    </tr>\n",
       "    <tr>\n",
       "      <th>7</th>\n",
       "      <td>granulosa</td>\n",
       "      <td>6.233542</td>\n",
       "    </tr>\n",
       "    <tr>\n",
       "      <th>8</th>\n",
       "      <td>lowQC</td>\n",
       "      <td>6.359138</td>\n",
       "    </tr>\n",
       "    <tr>\n",
       "      <th>9</th>\n",
       "      <td>preGC_I</td>\n",
       "      <td>7.020728</td>\n",
       "    </tr>\n",
       "    <tr>\n",
       "      <th>10</th>\n",
       "      <td>preGC_IIa</td>\n",
       "      <td>6.794529</td>\n",
       "    </tr>\n",
       "    <tr>\n",
       "      <th>11</th>\n",
       "      <td>preGC_IIb</td>\n",
       "      <td>6.940772</td>\n",
       "    </tr>\n",
       "  </tbody>\n",
       "</table>\n",
       "</div>"
      ],
      "text/plain": [
       "    multiome_Somatic  log1p_total_counts\n",
       "0       CoelEpi_LHX9            6.997910\n",
       "1            Doublet            7.511556\n",
       "2   Mesenchymal_LHX9            6.765028\n",
       "3                OSE            6.804958\n",
       "4        OSE_cycling            7.452723\n",
       "5        early_sPAX8            6.914789\n",
       "6   early_supporting            7.170866\n",
       "7          granulosa            6.233542\n",
       "8              lowQC            6.359138\n",
       "9            preGC_I            7.020728\n",
       "10         preGC_IIa            6.794529\n",
       "11         preGC_IIb            6.940772"
      ]
     },
     "execution_count": 132,
     "metadata": {},
     "output_type": "execute_result"
    }
   ],
   "source": [
    "adata.obs.groupby('multiome_Somatic', as_index=False)['log1p_total_counts'].mean()"
   ]
  },
  {
   "cell_type": "code",
   "execution_count": 137,
   "metadata": {},
   "outputs": [
    {
     "data": {
      "text/plain": [
       "View of AnnData object with n_obs × n_vars = 90920 × 153356\n",
       "    obs: 'cellatac_clusters', 'n_genes_by_counts', 'log1p_n_genes_by_counts', 'total_counts', 'log1p_total_counts', 'pct_counts_in_top_50_genes', 'pct_counts_in_top_100_genes', 'pct_counts_in_top_200_genes', 'pct_counts_in_top_500_genes', 'multiome_GermCells', 'multiome_Somatic'\n",
       "    var: 'peak_width', 'exon', 'gene', 'promoter', 'annotation', 'gene_name', 'gene_id', 'tss_distance', 'ENCODE_blacklist', 'n_cells_by_counts', 'mean_counts', 'log1p_mean_counts', 'pct_dropout_by_counts', 'total_counts', 'log1p_total_counts'\n",
       "    layers: 'binary_raw'"
      ]
     },
     "execution_count": 137,
     "metadata": {},
     "output_type": "execute_result"
    }
   ],
   "source": [
    "bdata = adata[adata.obs.log1p_total_counts >= 4]\n",
    "bdata"
   ]
  },
  {
   "cell_type": "code",
   "execution_count": 138,
   "metadata": {},
   "outputs": [
    {
     "data": {
      "text/plain": [
       "preGC_IIa           3347\n",
       "preGC_I             3236\n",
       "preGC_IIb           2101\n",
       "OSE                 1288\n",
       "granulosa           1254\n",
       "early_sPAX8         1160\n",
       "early_supporting    1083\n",
       "Mesenchymal_LHX9    1080\n",
       "OSE_cycling          635\n",
       "Doublet              452\n",
       "lowQC                377\n",
       "CoelEpi_LHX9         302\n",
       "Name: multiome_Somatic, dtype: int64"
      ]
     },
     "execution_count": 138,
     "metadata": {},
     "output_type": "execute_result"
    }
   ],
   "source": [
    "bdata.obs['multiome_Somatic'].value_counts()"
   ]
  },
  {
   "cell_type": "code",
   "execution_count": 139,
   "metadata": {},
   "outputs": [
    {
     "data": {
      "text/plain": [
       "oogonia_STRA8      2135\n",
       "PGC                1452\n",
       "oogonia_meiotic    1142\n",
       "preOocyte           299\n",
       "Doublet             242\n",
       "oocyte              158\n",
       "lowQC                88\n",
       "Name: multiome_GermCells, dtype: int64"
      ]
     },
     "execution_count": 139,
     "metadata": {},
     "output_type": "execute_result"
    }
   ],
   "source": [
    "bdata.obs['multiome_GermCells'].value_counts()"
   ]
  },
  {
   "cell_type": "code",
   "execution_count": 140,
   "metadata": {},
   "outputs": [
    {
     "data": {
      "text/plain": [
       "View of AnnData object with n_obs × n_vars = 90920 × 153356\n",
       "    obs: 'cellatac_clusters', 'n_genes_by_counts', 'log1p_n_genes_by_counts', 'total_counts', 'log1p_total_counts', 'pct_counts_in_top_50_genes', 'pct_counts_in_top_100_genes', 'pct_counts_in_top_200_genes', 'pct_counts_in_top_500_genes', 'multiome_GermCells', 'multiome_Somatic'\n",
       "    var: 'peak_width', 'exon', 'gene', 'promoter', 'annotation', 'gene_name', 'gene_id', 'tss_distance', 'ENCODE_blacklist', 'n_cells_by_counts', 'mean_counts', 'log1p_mean_counts', 'pct_dropout_by_counts', 'total_counts', 'log1p_total_counts'\n",
       "    layers: 'binary_raw'"
      ]
     },
     "execution_count": 140,
     "metadata": {},
     "output_type": "execute_result"
    }
   ],
   "source": [
    "bdata"
   ]
  },
  {
   "cell_type": "code",
   "execution_count": 141,
   "metadata": {},
   "outputs": [
    {
     "name": "stderr",
     "output_type": "stream",
     "text": [
      "/opt/conda/envs/atac_env/lib/python3.8/site-packages/anndata/_core/anndata.py:1207: ImplicitModificationWarning: Initializing view as actual.\n",
      "  warnings.warn(\n",
      "Trying to set attribute `.obs` of view, copying.\n",
      "... storing 'multiome_GermCells' as categorical\n",
      "Trying to set attribute `.obs` of view, copying.\n",
      "... storing 'multiome_Somatic' as categorical\n",
      "Trying to set attribute `.var` of view, copying.\n",
      "... storing 'annotation' as categorical\n",
      "Trying to set attribute `.var` of view, copying.\n",
      "... storing 'gene_name' as categorical\n",
      "Trying to set attribute `.var` of view, copying.\n",
      "... storing 'gene_id' as categorical\n"
     ]
    }
   ],
   "source": [
    "## Write output anndata\n",
    "bdata.write_h5ad(output[\"h5ad\"])"
   ]
  },
  {
   "cell_type": "markdown",
   "metadata": {},
   "source": [
    "#### End of notebook"
   ]
  },
  {
   "cell_type": "code",
   "execution_count": null,
   "metadata": {},
   "outputs": [],
   "source": []
  }
 ],
 "metadata": {
  "kernelspec": {
   "display_name": "atac_env",
   "language": "python",
   "name": "atac_env"
  },
  "language_info": {
   "codemirror_mode": {
    "name": "ipython",
    "version": 3
   },
   "file_extension": ".py",
   "mimetype": "text/x-python",
   "name": "python",
   "nbconvert_exporter": "python",
   "pygments_lexer": "ipython3",
   "version": "3.8.6"
  }
 },
 "nbformat": 4,
 "nbformat_minor": 4
}
