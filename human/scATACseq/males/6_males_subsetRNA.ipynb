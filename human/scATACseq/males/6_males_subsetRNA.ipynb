{
 "cells": [
  {
   "cell_type": "markdown",
   "metadata": {},
   "source": [
    "### Subset scRNAseq data from matched individuals for label transfer to scATACseq"
   ]
  },
  {
   "cell_type": "code",
   "execution_count": 23,
   "metadata": {},
   "outputs": [
    {
     "name": "stderr",
     "output_type": "stream",
     "text": [
      "WARNING: If you miss a compact list, please try `print_header`!\n"
     ]
    },
    {
     "name": "stdout",
     "output_type": "stream",
     "text": [
      "-----\n",
      "anndata     0.7.5\n",
      "scanpy      1.7.0\n",
      "sinfo       0.3.1\n",
      "-----\n",
      "PIL                 8.1.0\n",
      "anndata             0.7.5\n",
      "backcall            0.2.0\n",
      "cairo               1.20.0\n",
      "cffi                1.14.4\n",
      "constants           NA\n",
      "cycler              0.10.0\n",
      "cython_runtime      NA\n",
      "dateutil            2.8.1\n",
      "decorator           4.4.2\n",
      "get_version         2.1\n",
      "h5py                3.1.0\n",
      "highs_wrapper       NA\n",
      "igraph              0.8.3\n",
      "ipykernel           5.4.3\n",
      "ipython_genutils    0.2.0\n",
      "jedi                0.18.0\n",
      "joblib              1.0.0\n",
      "kiwisolver          1.3.1\n",
      "legacy_api_wrap     1.2\n",
      "leidenalg           0.8.3\n",
      "llvmlite            0.35.0\n",
      "matplotlib          3.3.4\n",
      "mpl_toolkits        NA\n",
      "natsort             7.1.1\n",
      "numba               0.52.0\n",
      "numexpr             2.7.2\n",
      "numpy               1.21.2\n",
      "packaging           20.9\n",
      "pandas              1.2.1\n",
      "parso               0.8.1\n",
      "pexpect             4.8.0\n",
      "pickleshare         0.7.5\n",
      "pkg_resources       NA\n",
      "prompt_toolkit      3.0.14\n",
      "ptyprocess          0.7.0\n",
      "pygments            2.7.4\n",
      "pyparsing           2.4.7\n",
      "pytz                2021.1\n",
      "scanpy              1.7.0\n",
      "scipy               1.6.0\n",
      "setuptools_scm      NA\n",
      "sinfo               0.3.1\n",
      "six                 1.15.0\n",
      "sklearn             0.24.1\n",
      "storemagic          NA\n",
      "tables              3.6.1\n",
      "texttable           1.6.3\n",
      "tornado             6.1\n",
      "traitlets           5.0.5\n",
      "wcwidth             0.2.5\n",
      "zmq                 22.0.2\n",
      "-----\n",
      "IPython             7.20.0\n",
      "jupyter_client      6.1.11\n",
      "jupyter_core        4.7.1\n",
      "-----\n",
      "Python 3.8.6 | packaged by conda-forge | (default, Jan 25 2021, 23:21:18) [GCC 9.3.0]\n",
      "Linux-4.15.0-158-generic-x86_64-with-glibc2.10\n",
      "60 logical CPU cores, x86_64\n",
      "-----\n",
      "Session information updated at 2021-09-23 13:59\n",
      "\n"
     ]
    },
    {
     "data": {
      "text/plain": [
       "'/opt/conda/envs/atac_env/bin/python'"
      ]
     },
     "execution_count": 23,
     "metadata": {},
     "output_type": "execute_result"
    }
   ],
   "source": [
    "import numpy as np\n",
    "import pandas as pd\n",
    "import scanpy as sc\n",
    "import anndata\n",
    "import os\n",
    "\n",
    "import sys\n",
    "\n",
    "def MovePlots(plotpattern, subplotdir):\n",
    "    os.system('mkdir -p '+str(sc.settings.figdir)+'/'+subplotdir)\n",
    "    os.system('mv '+str(sc.settings.figdir)+'/*'+plotpattern+'** '+str(sc.settings.figdir)+'/'+subplotdir)\n",
    "\n",
    "sc.settings.verbosity = 3  # verbosity: errors (0), warnings (1), info (2), hints (3)\n",
    "sc.settings.figdir = '/home/jovyan/MULTIOME_july2021/figures_males/'\n",
    "sc.logging.print_versions()\n",
    "sc.settings.set_figure_params(dpi=80)  # low dpi (dots per inch) yields small inline figures\n",
    "\n",
    "sys.executable"
   ]
  },
  {
   "cell_type": "markdown",
   "metadata": {},
   "source": [
    "#### Load scRNAseq data"
   ]
  },
  {
   "cell_type": "code",
   "execution_count": 24,
   "metadata": {},
   "outputs": [
    {
     "name": "stderr",
     "output_type": "stream",
     "text": [
      "/opt/conda/envs/atac_env/lib/python3.8/site-packages/IPython/core/interactiveshell.py:3155: DtypeWarning: Columns (29,30) have mixed types.Specify dtype option on import or set low_memory=False.\n",
      "  has_raised = await self.run_ast_nodes(code_ast.body, cell_name,\n"
     ]
    }
   ],
   "source": [
    "adata = sc.read('/nfs/users/nfs_l/lg18/team292/lg18/with_valentina/gonadsV2_revision/FCA-gonads_rawcounts.h5ad')\n",
    "metadata_males = pd.read_csv('/nfs/users/nfs_l/lg18/team292/lg18/with_valentina/gonadsV2_revision/FCA-gonads_male_annotated.csv', index_col = 0)"
   ]
  },
  {
   "cell_type": "code",
   "execution_count": 25,
   "metadata": {},
   "outputs": [
    {
     "data": {
      "text/html": [
       "<div>\n",
       "<style scoped>\n",
       "    .dataframe tbody tr th:only-of-type {\n",
       "        vertical-align: middle;\n",
       "    }\n",
       "\n",
       "    .dataframe tbody tr th {\n",
       "        vertical-align: top;\n",
       "    }\n",
       "\n",
       "    .dataframe thead th {\n",
       "        text-align: right;\n",
       "    }\n",
       "</style>\n",
       "<table border=\"1\" class=\"dataframe\">\n",
       "  <thead>\n",
       "    <tr style=\"text-align: right;\">\n",
       "      <th></th>\n",
       "      <th>n_genes</th>\n",
       "      <th>sample</th>\n",
       "      <th>donor</th>\n",
       "      <th>location</th>\n",
       "      <th>stage</th>\n",
       "      <th>sex</th>\n",
       "      <th>study</th>\n",
       "      <th>batch_collection</th>\n",
       "      <th>enrichment</th>\n",
       "      <th>cryopreserved</th>\n",
       "      <th>...</th>\n",
       "      <th>lineages_v1</th>\n",
       "      <th>celltype_v1</th>\n",
       "      <th>lineage_v2</th>\n",
       "      <th>somatic_celltype_v2</th>\n",
       "      <th>PCW</th>\n",
       "      <th>sample_source</th>\n",
       "      <th>trimester</th>\n",
       "      <th>leiden</th>\n",
       "      <th>leiden_R</th>\n",
       "      <th>lineage</th>\n",
       "    </tr>\n",
       "  </thead>\n",
       "  <tbody>\n",
       "    <tr>\n",
       "      <th>FCA_GND8289580_AAACCTGAGACAGGCT</th>\n",
       "      <td>2696</td>\n",
       "      <td>FCA_GND8289580</td>\n",
       "      <td>F88</td>\n",
       "      <td>Gonad_and_extragonadal</td>\n",
       "      <td>11.0</td>\n",
       "      <td>male</td>\n",
       "      <td>FCA</td>\n",
       "      <td>D</td>\n",
       "      <td>CD45-</td>\n",
       "      <td>No</td>\n",
       "      <td>...</td>\n",
       "      <td>Mesenchymal_LHX9_ARX</td>\n",
       "      <td>Ti</td>\n",
       "      <td>Mesenchymal_LHX9</td>\n",
       "      <td>Ti</td>\n",
       "      <td>11.0</td>\n",
       "      <td>N</td>\n",
       "      <td>1st</td>\n",
       "      <td>0</td>\n",
       "      <td>0</td>\n",
       "      <td>Mesenchymal_LHX9</td>\n",
       "    </tr>\n",
       "    <tr>\n",
       "      <th>FCA_GND8289580_AAACCTGAGACGCACA</th>\n",
       "      <td>1591</td>\n",
       "      <td>FCA_GND8289580</td>\n",
       "      <td>F88</td>\n",
       "      <td>Gonad_and_extragonadal</td>\n",
       "      <td>11.0</td>\n",
       "      <td>male</td>\n",
       "      <td>FCA</td>\n",
       "      <td>D</td>\n",
       "      <td>CD45-</td>\n",
       "      <td>No</td>\n",
       "      <td>...</td>\n",
       "      <td>Mesenchymal_LHX9_ARX</td>\n",
       "      <td>Ti</td>\n",
       "      <td>Mesenchymal_LHX9</td>\n",
       "      <td>Ti</td>\n",
       "      <td>11.0</td>\n",
       "      <td>N</td>\n",
       "      <td>1st</td>\n",
       "      <td>0</td>\n",
       "      <td>0</td>\n",
       "      <td>Mesenchymal_LHX9</td>\n",
       "    </tr>\n",
       "    <tr>\n",
       "      <th>FCA_GND8289580_AAACCTGAGAGTCGGT</th>\n",
       "      <td>1383</td>\n",
       "      <td>FCA_GND8289580</td>\n",
       "      <td>F88</td>\n",
       "      <td>Gonad_and_extragonadal</td>\n",
       "      <td>11.0</td>\n",
       "      <td>male</td>\n",
       "      <td>FCA</td>\n",
       "      <td>D</td>\n",
       "      <td>CD45-</td>\n",
       "      <td>No</td>\n",
       "      <td>...</td>\n",
       "      <td>Coel Epi</td>\n",
       "      <td>coelEpi</td>\n",
       "      <td>CoelEpi</td>\n",
       "      <td>CoelEpi_LHX9</td>\n",
       "      <td>11.0</td>\n",
       "      <td>N</td>\n",
       "      <td>1st</td>\n",
       "      <td>10</td>\n",
       "      <td>10</td>\n",
       "      <td>CoelEpi</td>\n",
       "    </tr>\n",
       "    <tr>\n",
       "      <th>FCA_GND8289580_AAACCTGAGCCCTAAT</th>\n",
       "      <td>1365</td>\n",
       "      <td>FCA_GND8289580</td>\n",
       "      <td>F88</td>\n",
       "      <td>Gonad_and_extragonadal</td>\n",
       "      <td>11.0</td>\n",
       "      <td>male</td>\n",
       "      <td>FCA</td>\n",
       "      <td>D</td>\n",
       "      <td>CD45-</td>\n",
       "      <td>No</td>\n",
       "      <td>...</td>\n",
       "      <td>Sertoli</td>\n",
       "      <td>Sertoli</td>\n",
       "      <td>Sertoli</td>\n",
       "      <td>Sertoli</td>\n",
       "      <td>11.0</td>\n",
       "      <td>N</td>\n",
       "      <td>1st</td>\n",
       "      <td>2</td>\n",
       "      <td>2</td>\n",
       "      <td>Sertoli</td>\n",
       "    </tr>\n",
       "    <tr>\n",
       "      <th>FCA_GND8289580_AAACCTGAGCTTCGCG</th>\n",
       "      <td>1221</td>\n",
       "      <td>FCA_GND8289580</td>\n",
       "      <td>F88</td>\n",
       "      <td>Gonad_and_extragonadal</td>\n",
       "      <td>11.0</td>\n",
       "      <td>male</td>\n",
       "      <td>FCA</td>\n",
       "      <td>D</td>\n",
       "      <td>CD45-</td>\n",
       "      <td>No</td>\n",
       "      <td>...</td>\n",
       "      <td>Sertoli</td>\n",
       "      <td>Sertoli</td>\n",
       "      <td>Sertoli</td>\n",
       "      <td>Sertoli</td>\n",
       "      <td>11.0</td>\n",
       "      <td>N</td>\n",
       "      <td>1st</td>\n",
       "      <td>2</td>\n",
       "      <td>2</td>\n",
       "      <td>Sertoli</td>\n",
       "    </tr>\n",
       "  </tbody>\n",
       "</table>\n",
       "<p>5 rows × 38 columns</p>\n",
       "</div>"
      ],
      "text/plain": [
       "                                 n_genes          sample donor  \\\n",
       "FCA_GND8289580_AAACCTGAGACAGGCT     2696  FCA_GND8289580   F88   \n",
       "FCA_GND8289580_AAACCTGAGACGCACA     1591  FCA_GND8289580   F88   \n",
       "FCA_GND8289580_AAACCTGAGAGTCGGT     1383  FCA_GND8289580   F88   \n",
       "FCA_GND8289580_AAACCTGAGCCCTAAT     1365  FCA_GND8289580   F88   \n",
       "FCA_GND8289580_AAACCTGAGCTTCGCG     1221  FCA_GND8289580   F88   \n",
       "\n",
       "                                               location  stage   sex study  \\\n",
       "FCA_GND8289580_AAACCTGAGACAGGCT  Gonad_and_extragonadal   11.0  male   FCA   \n",
       "FCA_GND8289580_AAACCTGAGACGCACA  Gonad_and_extragonadal   11.0  male   FCA   \n",
       "FCA_GND8289580_AAACCTGAGAGTCGGT  Gonad_and_extragonadal   11.0  male   FCA   \n",
       "FCA_GND8289580_AAACCTGAGCCCTAAT  Gonad_and_extragonadal   11.0  male   FCA   \n",
       "FCA_GND8289580_AAACCTGAGCTTCGCG  Gonad_and_extragonadal   11.0  male   FCA   \n",
       "\n",
       "                                batch_collection enrichment cryopreserved  \\\n",
       "FCA_GND8289580_AAACCTGAGACAGGCT                D      CD45-            No   \n",
       "FCA_GND8289580_AAACCTGAGACGCACA                D      CD45-            No   \n",
       "FCA_GND8289580_AAACCTGAGAGTCGGT                D      CD45-            No   \n",
       "FCA_GND8289580_AAACCTGAGCCCTAAT                D      CD45-            No   \n",
       "FCA_GND8289580_AAACCTGAGCTTCGCG                D      CD45-            No   \n",
       "\n",
       "                                 ...           lineages_v1 celltype_v1  \\\n",
       "FCA_GND8289580_AAACCTGAGACAGGCT  ...  Mesenchymal_LHX9_ARX          Ti   \n",
       "FCA_GND8289580_AAACCTGAGACGCACA  ...  Mesenchymal_LHX9_ARX          Ti   \n",
       "FCA_GND8289580_AAACCTGAGAGTCGGT  ...              Coel Epi     coelEpi   \n",
       "FCA_GND8289580_AAACCTGAGCCCTAAT  ...               Sertoli     Sertoli   \n",
       "FCA_GND8289580_AAACCTGAGCTTCGCG  ...               Sertoli     Sertoli   \n",
       "\n",
       "                                       lineage_v2  somatic_celltype_v2   PCW  \\\n",
       "FCA_GND8289580_AAACCTGAGACAGGCT  Mesenchymal_LHX9                   Ti  11.0   \n",
       "FCA_GND8289580_AAACCTGAGACGCACA  Mesenchymal_LHX9                   Ti  11.0   \n",
       "FCA_GND8289580_AAACCTGAGAGTCGGT           CoelEpi         CoelEpi_LHX9  11.0   \n",
       "FCA_GND8289580_AAACCTGAGCCCTAAT           Sertoli              Sertoli  11.0   \n",
       "FCA_GND8289580_AAACCTGAGCTTCGCG           Sertoli              Sertoli  11.0   \n",
       "\n",
       "                                 sample_source  trimester  leiden  leiden_R  \\\n",
       "FCA_GND8289580_AAACCTGAGACAGGCT              N        1st       0         0   \n",
       "FCA_GND8289580_AAACCTGAGACGCACA              N        1st       0         0   \n",
       "FCA_GND8289580_AAACCTGAGAGTCGGT              N        1st      10        10   \n",
       "FCA_GND8289580_AAACCTGAGCCCTAAT              N        1st       2         2   \n",
       "FCA_GND8289580_AAACCTGAGCTTCGCG              N        1st       2         2   \n",
       "\n",
       "                                          lineage  \n",
       "FCA_GND8289580_AAACCTGAGACAGGCT  Mesenchymal_LHX9  \n",
       "FCA_GND8289580_AAACCTGAGACGCACA  Mesenchymal_LHX9  \n",
       "FCA_GND8289580_AAACCTGAGAGTCGGT           CoelEpi  \n",
       "FCA_GND8289580_AAACCTGAGCCCTAAT           Sertoli  \n",
       "FCA_GND8289580_AAACCTGAGCTTCGCG           Sertoli  \n",
       "\n",
       "[5 rows x 38 columns]"
      ]
     },
     "execution_count": 25,
     "metadata": {},
     "output_type": "execute_result"
    }
   ],
   "source": [
    "metadata_males.head()"
   ]
  },
  {
   "cell_type": "code",
   "execution_count": 26,
   "metadata": {},
   "outputs": [
    {
     "data": {
      "text/plain": [
       "Mesenchymal_LHX9     38177\n",
       "Sertoli              34893\n",
       "Mesenchymal_GATA2    33036\n",
       "lowQC                11046\n",
       "Endothelial           6123\n",
       "Doublet               4156\n",
       "Supporting            3959\n",
       "GermCells             3608\n",
       "Immune                2942\n",
       "CoelEpi               2877\n",
       "FetalLeydig           2772\n",
       "Epithelial            2716\n",
       "Erythroid             2622\n",
       "PV                    2056\n",
       "Neural                1610\n",
       "Name: lineage, dtype: int64"
      ]
     },
     "execution_count": 26,
     "metadata": {},
     "output_type": "execute_result"
    }
   ],
   "source": [
    "metadata_males['lineage'].value_counts(dropna = False)"
   ]
  },
  {
   "cell_type": "code",
   "execution_count": 27,
   "metadata": {},
   "outputs": [],
   "source": [
    "mapping = metadata_males['lineage'].to_dict()\n",
    "adata.obs['lineage'] = adata.obs.index.map(mapping)"
   ]
  },
  {
   "cell_type": "code",
   "execution_count": 28,
   "metadata": {},
   "outputs": [
    {
     "data": {
      "text/plain": [
       "NaN                  243972\n",
       "Mesenchymal_LHX9      38177\n",
       "Sertoli               34893\n",
       "Mesenchymal_GATA2     33036\n",
       "lowQC                 11046\n",
       "Endothelial            6123\n",
       "Doublet                4156\n",
       "Supporting             3959\n",
       "GermCells              3608\n",
       "Immune                 2942\n",
       "CoelEpi                2877\n",
       "FetalLeydig            2772\n",
       "Epithelial             2716\n",
       "Erythroid              2622\n",
       "PV                     2056\n",
       "Neural                 1610\n",
       "Name: lineage, dtype: int64"
      ]
     },
     "execution_count": 28,
     "metadata": {},
     "output_type": "execute_result"
    }
   ],
   "source": [
    "adata.obs['lineage'].value_counts(dropna = False)"
   ]
  },
  {
   "cell_type": "code",
   "execution_count": 29,
   "metadata": {},
   "outputs": [
    {
     "data": {
      "text/plain": [
       "array(['F100', 'F122', 'F123', 'F126', 'F133', 'F81', 'F83', 'F84', 'F86',\n",
       "       'F87', 'F88', 'F89', 'F91', 'F93', 'F96', 'F99', 'Hrv10', 'Hrv11',\n",
       "       'Hrv12', 'Hrv13', 'Hrv15', 'Hrv16', 'Hrv17', 'Hrv18', 'Hrv21',\n",
       "       'Hrv25', 'Hrv27', 'Hrv3', 'Hrv30', 'Hrv31', 'Hrv32', 'Hrv33',\n",
       "       'Hrv34', 'Hrv37', 'Hrv39', 'Hrv40', 'Hrv41', 'Hrv47', 'Hrv49',\n",
       "       'Hrv51', 'Hrv54', 'Hrv55', 'Hrv57', 'Hrv58', 'Hrv59', 'Hrv85',\n",
       "       'Hrv86', 'Hrv91', 'Hrv92', 'Hrv93', 'Hrv99'], dtype=object)"
      ]
     },
     "execution_count": 29,
     "metadata": {},
     "output_type": "execute_result"
    }
   ],
   "source": [
    "np.unique(adata.obs['donor'])"
   ]
  },
  {
   "cell_type": "code",
   "execution_count": 30,
   "metadata": {},
   "outputs": [
    {
     "name": "stderr",
     "output_type": "stream",
     "text": [
      "/opt/conda/envs/atac_env/lib/python3.8/site-packages/pandas/core/arrays/categorical.py:2487: FutureWarning: The `inplace` parameter in pandas.Categorical.remove_unused_categories is deprecated and will be removed in a future version.\n",
      "  res = method(*args, **kwargs)\n"
     ]
    },
    {
     "data": {
      "text/plain": [
       "(69917, 28820)"
      ]
     },
     "execution_count": 30,
     "metadata": {},
     "output_type": "execute_result"
    }
   ],
   "source": [
    "adata = adata[[i in ['Hrv10', 'Hrv15', 'Hrv17', 'Hrv18', 'Hrv21', 'Hrv3', 'Hrv40',\n",
    "       'Hrv41', 'Hrv54', 'Hrv55'] for i in adata.obs['donor']]]\n",
    "adata.shape"
   ]
  },
  {
   "cell_type": "code",
   "execution_count": 31,
   "metadata": {},
   "outputs": [
    {
     "data": {
      "text/plain": [
       "Mesenchymal_GATA2    18099\n",
       "Sertoli              12874\n",
       "Mesenchymal_LHX9     12350\n",
       "lowQC                 9626\n",
       "Endothelial           2334\n",
       "Supporting            2268\n",
       "Epithelial            2115\n",
       "Immune                1646\n",
       "Neural                1579\n",
       "CoelEpi               1570\n",
       "GermCells             1558\n",
       "FetalLeydig           1531\n",
       "PV                    1053\n",
       "Erythroid              695\n",
       "Doublet                619\n",
       "Name: lineage, dtype: int64"
      ]
     },
     "execution_count": 31,
     "metadata": {},
     "output_type": "execute_result"
    }
   ],
   "source": [
    "adata.obs['lineage'].value_counts(dropna = False)"
   ]
  },
  {
   "cell_type": "code",
   "execution_count": 32,
   "metadata": {},
   "outputs": [
    {
     "data": {
      "text/plain": [
       "Mesenchymal_GATA2    18099\n",
       "Sertoli              12874\n",
       "Mesenchymal_LHX9     12350\n",
       "Endothelial           2334\n",
       "Supporting            2268\n",
       "Epithelial            2115\n",
       "Immune                1646\n",
       "Neural                1579\n",
       "CoelEpi               1570\n",
       "GermCells             1558\n",
       "FetalLeydig           1531\n",
       "PV                    1053\n",
       "Erythroid              695\n",
       "Name: lineage, dtype: int64"
      ]
     },
     "execution_count": 32,
     "metadata": {},
     "output_type": "execute_result"
    }
   ],
   "source": [
    "adata = adata[[i not in ['lowQC', 'Doublet'] for i in adata.obs['lineage']]]\n",
    "adata.obs['lineage'].value_counts(dropna = False)"
   ]
  },
  {
   "cell_type": "markdown",
   "metadata": {},
   "source": [
    "#### Downsample "
   ]
  },
  {
   "cell_type": "code",
   "execution_count": 33,
   "metadata": {},
   "outputs": [
    {
     "data": {
      "text/plain": [
       "array([18099, 12874, 12350,  2334,  2268,  2115,  1646,  1579,  1570,\n",
       "        1558,  1531,  1053,   695])"
      ]
     },
     "execution_count": 33,
     "metadata": {},
     "output_type": "execute_result"
    }
   ],
   "source": [
    "myindex = adata.obs['lineage'].value_counts().index \n",
    "myvalues = adata.obs['lineage'].value_counts().values\n",
    "clusters = pd.Series(myvalues, index = myindex)\n",
    "clusters.values"
   ]
  },
  {
   "cell_type": "code",
   "execution_count": 34,
   "metadata": {},
   "outputs": [
    {
     "name": "stdout",
     "output_type": "stream",
     "text": [
      "Mesenchymal_GATA2\n",
      "Sertoli\n",
      "Mesenchymal_LHX9\n"
     ]
    },
    {
     "data": {
      "text/plain": [
       "(40349, 28820)"
      ]
     },
     "execution_count": 34,
     "metadata": {},
     "output_type": "execute_result"
    }
   ],
   "source": [
    "import random\n",
    "from itertools import chain\n",
    "\n",
    "# Find clusters with > n cells\n",
    "n = 8000\n",
    "cl2downsample = clusters.index[ clusters.values > n ]\n",
    "\n",
    "# save all barcode ids from small clusters\n",
    "holder = []\n",
    "holder.append( adata.obs_names[[ i not in cl2downsample for i in adata.obs['lineage'] ]] ) \n",
    "\n",
    "# randomly sample n cells in the cl2downsample\n",
    "for cl in cl2downsample:\n",
    "    print(cl)\n",
    "    cl_sample = adata[[ i == cl for i in adata.obs['lineage'] ]].obs_names\n",
    "    # n = int(round(len(cl_sample)/2, 0))\n",
    "    cl_downsample = random.sample(set(cl_sample), n )\n",
    "    holder.append(cl_downsample)\n",
    "    \n",
    "# samples to include\n",
    "samples = list(chain(*holder))\n",
    "\n",
    "# Filter adata_count\n",
    "adata = adata[[ i in samples for i in adata.obs_names ]]\n",
    "adata.X.shape"
   ]
  },
  {
   "cell_type": "code",
   "execution_count": 35,
   "metadata": {},
   "outputs": [
    {
     "data": {
      "text/plain": [
       "View of AnnData object with n_obs × n_vars = 40349 × 28820\n",
       "    obs: 'n_genes', 'sample', 'donor', 'location', 'stage', 'sex', 'study', 'batch_collection', 'enrichment', 'cryopreserved', 'TP', '10xKit', 'dig_protocol', 'percent_mito', 'n_counts', 'batch', 'low_ncounts', 'high_mito', 'low_ncounts_high_mito', 'S_score', 'G2M_score', 'phase', 'scrublet_score', 'scrublet_cluster_score', 'zscore', 'bh_pval', 'bonf_pval', 'is_doublet', 'lineages_v1', 'celltype_v1', 'lineage_v2', 'somatic_celltype_v2', 'PCW', 'sample_source', 'trimester', 'lineage'\n",
       "    var: 'gene_ids-0', 'feature_types-0', 'n_cells-0', 'gene_ids-1', 'feature_types-1', 'n_cells-1', 'gene_ids-10', 'feature_types-10', 'n_cells-10', 'gene_ids-11', 'feature_types-11', 'n_cells-11', 'gene_ids-12', 'feature_types-12', 'n_cells-12', 'gene_ids-13', 'feature_types-13', 'n_cells-13', 'gene_ids-14', 'feature_types-14', 'n_cells-14', 'gene_ids-15', 'feature_types-15', 'n_cells-15', 'gene_ids-16', 'feature_types-16', 'n_cells-16', 'gene_ids-17', 'feature_types-17', 'n_cells-17', 'gene_ids-18', 'feature_types-18', 'n_cells-18', 'gene_ids-19', 'feature_types-19', 'n_cells-19', 'gene_ids-2', 'feature_types-2', 'n_cells-2', 'gene_ids-20', 'feature_types-20', 'n_cells-20', 'gene_ids-21', 'feature_types-21', 'n_cells-21', 'gene_ids-22', 'feature_types-22', 'n_cells-22', 'gene_ids-23', 'feature_types-23', 'n_cells-23', 'gene_ids-24', 'feature_types-24', 'n_cells-24', 'gene_ids-25', 'feature_types-25', 'n_cells-25', 'gene_ids-26', 'feature_types-26', 'n_cells-26', 'gene_ids-27', 'feature_types-27', 'n_cells-27', 'gene_ids-28', 'feature_types-28', 'n_cells-28', 'gene_ids-29', 'feature_types-29', 'n_cells-29', 'gene_ids-3', 'feature_types-3', 'n_cells-3', 'gene_ids-30', 'feature_types-30', 'n_cells-30', 'gene_ids-31', 'feature_types-31', 'n_cells-31', 'gene_ids-32', 'feature_types-32', 'n_cells-32', 'gene_ids-33', 'feature_types-33', 'n_cells-33', 'gene_ids-34', 'feature_types-34', 'n_cells-34', 'gene_ids-35', 'feature_types-35', 'n_cells-35', 'gene_ids-36', 'feature_types-36', 'n_cells-36', 'gene_ids-37', 'feature_types-37', 'n_cells-37', 'gene_ids-38', 'feature_types-38', 'n_cells-38', 'gene_ids-39', 'feature_types-39', 'n_cells-39', 'gene_ids-4', 'feature_types-4', 'n_cells-4', 'gene_ids-40', 'feature_types-40', 'n_cells-40', 'gene_ids-41', 'feature_types-41', 'n_cells-41', 'gene_ids-42', 'feature_types-42', 'n_cells-42', 'gene_ids-43', 'feature_types-43', 'n_cells-43', 'gene_ids-44', 'feature_types-44', 'n_cells-44', 'gene_ids-45', 'feature_types-45', 'n_cells-45', 'gene_ids-46', 'feature_types-46', 'n_cells-46', 'gene_ids-47', 'feature_types-47', 'n_cells-47', 'gene_ids-48', 'feature_types-48', 'n_cells-48', 'gene_ids-49', 'feature_types-49', 'n_cells-49', 'gene_ids-5', 'feature_types-5', 'n_cells-5', 'gene_ids-50', 'feature_types-50', 'n_cells-50', 'gene_ids-51', 'feature_types-51', 'n_cells-51', 'gene_ids-52', 'feature_types-52', 'n_cells-52', 'gene_ids-53', 'feature_types-53', 'n_cells-53', 'gene_ids-54', 'feature_types-54', 'n_cells-54', 'gene_ids-55', 'feature_types-55', 'n_cells-55', 'gene_ids-56', 'feature_types-56', 'n_cells-56', 'gene_ids-57', 'feature_types-57', 'n_cells-57', 'gene_ids-58', 'feature_types-58', 'n_cells-58', 'gene_ids-59', 'feature_types-59', 'n_cells-59', 'gene_ids-6', 'feature_types-6', 'n_cells-6', 'gene_ids-60', 'feature_types-60', 'n_cells-60', 'gene_ids-61', 'feature_types-61', 'n_cells-61', 'gene_ids-62', 'feature_types-62', 'n_cells-62', 'gene_ids-63', 'feature_types-63', 'n_cells-63', 'gene_ids-64', 'feature_types-64', 'n_cells-64', 'gene_ids-65', 'feature_types-65', 'n_cells-65', 'gene_ids-66', 'feature_types-66', 'n_cells-66', 'gene_ids-67', 'feature_types-67', 'n_cells-67', 'gene_ids-68', 'feature_types-68', 'n_cells-68', 'gene_ids-69', 'feature_types-69', 'n_cells-69', 'gene_ids-7', 'feature_types-7', 'n_cells-7', 'gene_ids-70', 'feature_types-70', 'n_cells-70', 'gene_ids-71', 'feature_types-71', 'n_cells-71', 'gene_ids-8', 'feature_types-8', 'n_cells-8', 'gene_ids-9', 'feature_types-9', 'n_cells-9', 'n_cells', 'highly_variable', 'highly_variable_rank', 'means', 'variances', 'variances_norm'\n",
       "    uns: 'TP_colors', 'batch_collection_colors', 'ccgs', 'donor_colors', 'hvg', 'sex_colors'"
      ]
     },
     "execution_count": 35,
     "metadata": {},
     "output_type": "execute_result"
    }
   ],
   "source": [
    "adata"
   ]
  },
  {
   "cell_type": "markdown",
   "metadata": {},
   "source": [
    "#### Save anndata object to perform integration with ATAC with Seurat"
   ]
  },
  {
   "cell_type": "code",
   "execution_count": 36,
   "metadata": {},
   "outputs": [],
   "source": [
    "del adata.uns "
   ]
  },
  {
   "cell_type": "code",
   "execution_count": 37,
   "metadata": {},
   "outputs": [],
   "source": [
    "for i in adata.obs.columns:\n",
    "    if i not in ['lineage', 'donor', 'sample']:\n",
    "        del adata.obs[i] "
   ]
  },
  {
   "cell_type": "code",
   "execution_count": 38,
   "metadata": {},
   "outputs": [
    {
     "data": {
      "text/html": [
       "<div>\n",
       "<style scoped>\n",
       "    .dataframe tbody tr th:only-of-type {\n",
       "        vertical-align: middle;\n",
       "    }\n",
       "\n",
       "    .dataframe tbody tr th {\n",
       "        vertical-align: top;\n",
       "    }\n",
       "\n",
       "    .dataframe thead th {\n",
       "        text-align: right;\n",
       "    }\n",
       "</style>\n",
       "<table border=\"1\" class=\"dataframe\">\n",
       "  <thead>\n",
       "    <tr style=\"text-align: right;\">\n",
       "      <th></th>\n",
       "      <th>sample</th>\n",
       "      <th>donor</th>\n",
       "      <th>lineage</th>\n",
       "    </tr>\n",
       "  </thead>\n",
       "  <tbody>\n",
       "    <tr>\n",
       "      <th>FCA_GND8715519_AAACCTGCACAGAGGT</th>\n",
       "      <td>FCA_GND8715519</td>\n",
       "      <td>Hrv3</td>\n",
       "      <td>Immune</td>\n",
       "    </tr>\n",
       "    <tr>\n",
       "      <th>FCA_GND8715519_AAACCTGCACGAGGTA</th>\n",
       "      <td>FCA_GND8715519</td>\n",
       "      <td>Hrv3</td>\n",
       "      <td>Erythroid</td>\n",
       "    </tr>\n",
       "    <tr>\n",
       "      <th>FCA_GND8715519_AAACCTGCATGGGACA</th>\n",
       "      <td>FCA_GND8715519</td>\n",
       "      <td>Hrv3</td>\n",
       "      <td>GermCells</td>\n",
       "    </tr>\n",
       "    <tr>\n",
       "      <th>FCA_GND8715519_AAACCTGTCCCTAATT</th>\n",
       "      <td>FCA_GND8715519</td>\n",
       "      <td>Hrv3</td>\n",
       "      <td>Immune</td>\n",
       "    </tr>\n",
       "    <tr>\n",
       "      <th>FCA_GND8715519_AAACCTGTCCGTAGGC</th>\n",
       "      <td>FCA_GND8715519</td>\n",
       "      <td>Hrv3</td>\n",
       "      <td>GermCells</td>\n",
       "    </tr>\n",
       "    <tr>\n",
       "      <th>...</th>\n",
       "      <td>...</td>\n",
       "      <td>...</td>\n",
       "      <td>...</td>\n",
       "    </tr>\n",
       "    <tr>\n",
       "      <th>HD_F_GON9883868_TTTGGTTAGTGTACTC</th>\n",
       "      <td>HD_F_GON9883868</td>\n",
       "      <td>Hrv54</td>\n",
       "      <td>Sertoli</td>\n",
       "    </tr>\n",
       "    <tr>\n",
       "      <th>HD_F_GON9883868_TTTGGTTCACAACTGT</th>\n",
       "      <td>HD_F_GON9883868</td>\n",
       "      <td>Hrv54</td>\n",
       "      <td>Sertoli</td>\n",
       "    </tr>\n",
       "    <tr>\n",
       "      <th>HD_F_GON9883868_TTTGGTTGTTCAGGCC</th>\n",
       "      <td>HD_F_GON9883868</td>\n",
       "      <td>Hrv54</td>\n",
       "      <td>Sertoli</td>\n",
       "    </tr>\n",
       "    <tr>\n",
       "      <th>HD_F_GON9883868_TTTGTCAGTAAAGGAG</th>\n",
       "      <td>HD_F_GON9883868</td>\n",
       "      <td>Hrv54</td>\n",
       "      <td>Mesenchymal_GATA2</td>\n",
       "    </tr>\n",
       "    <tr>\n",
       "      <th>HD_F_GON9883868_TTTGTCAGTGACCAAG</th>\n",
       "      <td>HD_F_GON9883868</td>\n",
       "      <td>Hrv54</td>\n",
       "      <td>FetalLeydig</td>\n",
       "    </tr>\n",
       "  </tbody>\n",
       "</table>\n",
       "<p>40349 rows × 3 columns</p>\n",
       "</div>"
      ],
      "text/plain": [
       "                                           sample  donor            lineage\n",
       "FCA_GND8715519_AAACCTGCACAGAGGT    FCA_GND8715519   Hrv3             Immune\n",
       "FCA_GND8715519_AAACCTGCACGAGGTA    FCA_GND8715519   Hrv3          Erythroid\n",
       "FCA_GND8715519_AAACCTGCATGGGACA    FCA_GND8715519   Hrv3          GermCells\n",
       "FCA_GND8715519_AAACCTGTCCCTAATT    FCA_GND8715519   Hrv3             Immune\n",
       "FCA_GND8715519_AAACCTGTCCGTAGGC    FCA_GND8715519   Hrv3          GermCells\n",
       "...                                           ...    ...                ...\n",
       "HD_F_GON9883868_TTTGGTTAGTGTACTC  HD_F_GON9883868  Hrv54            Sertoli\n",
       "HD_F_GON9883868_TTTGGTTCACAACTGT  HD_F_GON9883868  Hrv54            Sertoli\n",
       "HD_F_GON9883868_TTTGGTTGTTCAGGCC  HD_F_GON9883868  Hrv54            Sertoli\n",
       "HD_F_GON9883868_TTTGTCAGTAAAGGAG  HD_F_GON9883868  Hrv54  Mesenchymal_GATA2\n",
       "HD_F_GON9883868_TTTGTCAGTGACCAAG  HD_F_GON9883868  Hrv54        FetalLeydig\n",
       "\n",
       "[40349 rows x 3 columns]"
      ]
     },
     "execution_count": 38,
     "metadata": {},
     "output_type": "execute_result"
    }
   ],
   "source": [
    "adata.obs"
   ]
  },
  {
   "cell_type": "code",
   "execution_count": 39,
   "metadata": {},
   "outputs": [],
   "source": [
    "for j in adata.var.columns:\n",
    "    if j != 'gene_ids-0':\n",
    "        del adata.var[j]"
   ]
  },
  {
   "cell_type": "code",
   "execution_count": 40,
   "metadata": {},
   "outputs": [
    {
     "data": {
      "text/html": [
       "<div>\n",
       "<style scoped>\n",
       "    .dataframe tbody tr th:only-of-type {\n",
       "        vertical-align: middle;\n",
       "    }\n",
       "\n",
       "    .dataframe tbody tr th {\n",
       "        vertical-align: top;\n",
       "    }\n",
       "\n",
       "    .dataframe thead th {\n",
       "        text-align: right;\n",
       "    }\n",
       "</style>\n",
       "<table border=\"1\" class=\"dataframe\">\n",
       "  <thead>\n",
       "    <tr style=\"text-align: right;\">\n",
       "      <th></th>\n",
       "      <th>gene_ids-0</th>\n",
       "    </tr>\n",
       "  </thead>\n",
       "  <tbody>\n",
       "    <tr>\n",
       "      <th>A1BG</th>\n",
       "      <td>ENSG00000121410</td>\n",
       "    </tr>\n",
       "    <tr>\n",
       "      <th>A1BG-AS1</th>\n",
       "      <td>ENSG00000268895</td>\n",
       "    </tr>\n",
       "    <tr>\n",
       "      <th>A1CF</th>\n",
       "      <td>nan</td>\n",
       "    </tr>\n",
       "    <tr>\n",
       "      <th>A2M</th>\n",
       "      <td>ENSG00000175899</td>\n",
       "    </tr>\n",
       "    <tr>\n",
       "      <th>A2M-AS1</th>\n",
       "      <td>ENSG00000245105</td>\n",
       "    </tr>\n",
       "    <tr>\n",
       "      <th>...</th>\n",
       "      <td>...</td>\n",
       "    </tr>\n",
       "    <tr>\n",
       "      <th>ZXDC</th>\n",
       "      <td>ENSG00000070476</td>\n",
       "    </tr>\n",
       "    <tr>\n",
       "      <th>ZYG11A</th>\n",
       "      <td>ENSG00000203995</td>\n",
       "    </tr>\n",
       "    <tr>\n",
       "      <th>ZYG11B</th>\n",
       "      <td>ENSG00000162378</td>\n",
       "    </tr>\n",
       "    <tr>\n",
       "      <th>ZYX</th>\n",
       "      <td>ENSG00000159840</td>\n",
       "    </tr>\n",
       "    <tr>\n",
       "      <th>ZZEF1</th>\n",
       "      <td>ENSG00000074755</td>\n",
       "    </tr>\n",
       "  </tbody>\n",
       "</table>\n",
       "<p>28820 rows × 1 columns</p>\n",
       "</div>"
      ],
      "text/plain": [
       "               gene_ids-0\n",
       "A1BG      ENSG00000121410\n",
       "A1BG-AS1  ENSG00000268895\n",
       "A1CF                  nan\n",
       "A2M       ENSG00000175899\n",
       "A2M-AS1   ENSG00000245105\n",
       "...                   ...\n",
       "ZXDC      ENSG00000070476\n",
       "ZYG11A    ENSG00000203995\n",
       "ZYG11B    ENSG00000162378\n",
       "ZYX       ENSG00000159840\n",
       "ZZEF1     ENSG00000074755\n",
       "\n",
       "[28820 rows x 1 columns]"
      ]
     },
     "execution_count": 40,
     "metadata": {},
     "output_type": "execute_result"
    }
   ],
   "source": [
    "adata.var"
   ]
  },
  {
   "cell_type": "code",
   "execution_count": 41,
   "metadata": {},
   "outputs": [
    {
     "data": {
      "text/plain": [
       "AnnData object with n_obs × n_vars = 40349 × 28820\n",
       "    obs: 'sample', 'donor', 'lineage'\n",
       "    var: 'gene_ids-0'"
      ]
     },
     "execution_count": 41,
     "metadata": {},
     "output_type": "execute_result"
    }
   ],
   "source": [
    "adata"
   ]
  },
  {
   "cell_type": "code",
   "execution_count": 42,
   "metadata": {},
   "outputs": [],
   "source": [
    "# Define variables\n",
    "outdir = \"/nfs/team292/vl6/my_MULTIOME_dir/males_sept2021/\"\n",
    "experiment_prefix = 'males_'"
   ]
  },
  {
   "cell_type": "code",
   "execution_count": 43,
   "metadata": {},
   "outputs": [
    {
     "name": "stderr",
     "output_type": "stream",
     "text": [
      "... storing 'lineage' as categorical\n"
     ]
    }
   ],
   "source": [
    "adata.write(outdir + experiment_prefix + \"_RNAseq.h5ad\")"
   ]
  },
  {
   "cell_type": "code",
   "execution_count": null,
   "metadata": {},
   "outputs": [],
   "source": []
  }
 ],
 "metadata": {
  "kernelspec": {
   "display_name": "atac_env",
   "language": "python",
   "name": "atac_env"
  },
  "language_info": {
   "codemirror_mode": {
    "name": "ipython",
    "version": 3
   },
   "file_extension": ".py",
   "mimetype": "text/x-python",
   "name": "python",
   "nbconvert_exporter": "python",
   "pygments_lexer": "ipython3",
   "version": "3.8.6"
  }
 },
 "nbformat": 4,
 "nbformat_minor": 4
}
