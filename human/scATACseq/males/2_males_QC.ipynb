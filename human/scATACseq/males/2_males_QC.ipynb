{
 "cells": [
  {
   "cell_type": "markdown",
   "metadata": {},
   "source": [
    "## ATAC + MULTIOME (males) - september 2021\n",
    "\n",
    "### Build anndata from cellatac output "
   ]
  },
  {
   "cell_type": "code",
   "execution_count": 45,
   "metadata": {},
   "outputs": [],
   "source": [
    "# Load libraries\n",
    "import pandas as pd \n",
    "import scanpy as sc\n",
    "import numpy as np\n",
    "import scipy.sparse"
   ]
  },
  {
   "cell_type": "code",
   "execution_count": 46,
   "metadata": {},
   "outputs": [],
   "source": [
    "# Define variables\n",
    "outdir = \"/nfs/team292/vl6/my_MULTIOME_dir/males_sept2021/\"\n",
    "experiment_prefix = 'males_'\n",
    "cellatac_outdir = '/warehouse/cellgeni/tic-1124/results200k/'\n"
   ]
  },
  {
   "cell_type": "code",
   "execution_count": 47,
   "metadata": {},
   "outputs": [],
   "source": [
    "input={'cnts': cellatac_outdir + 'peak_matrix/peaks_bc_matrix.mmtx.gz',\n",
    "        \"bcs\": cellatac_outdir + 'peak_matrix/bc.txt',\n",
    "      \"peaks\": cellatac_outdir + 'peak_matrix/peaks.txt',\n",
    "      'clusters': cellatac_outdir + 'qc/seurat-clades.tsv'}\n",
    "\n",
    "output = {\n",
    "    \"cnt_mmtx\":outdir + experiment_prefix + '_ATAC_cisTopic.mmtx',\n",
    "    \"cnt_peaks\":outdir + experiment_prefix + '_ATAC_cisTopic.peaks.tsv',\n",
    "    \"cnt_cells\":outdir + experiment_prefix + '_ATAC_cisTopic.cells.tsv',\n",
    "    \"h5ad\":outdir + experiment_prefix + '_ATAC_raw.h5ad',\n",
    "}"
   ]
  },
  {
   "cell_type": "markdown",
   "metadata": {},
   "source": [
    "#### Make anndata object"
   ]
  },
  {
   "cell_type": "code",
   "execution_count": 50,
   "metadata": {},
   "outputs": [],
   "source": [
    "adata = sc.read_mtx(input[\"cnts\"]).T\n",
    "\n",
    "bc = pd.read_table(input[\"bcs\"], header=None)\n",
    "feat = pd.read_table(input[\"peaks\"], header=None)\n",
    "\n",
    "adata.obs_names = bc[0]\n",
    "adata.var_names = feat[0]"
   ]
  },
  {
   "cell_type": "code",
   "execution_count": 51,
   "metadata": {},
   "outputs": [
    {
     "data": {
      "text/plain": [
       "AnnData object with n_obs × n_vars = 55707 × 483200"
      ]
     },
     "execution_count": 51,
     "metadata": {},
     "output_type": "execute_result"
    }
   ],
   "source": [
    "adata"
   ]
  },
  {
   "cell_type": "code",
   "execution_count": 52,
   "metadata": {},
   "outputs": [
    {
     "data": {
      "text/plain": [
       "06    8513\n",
       "02    6878\n",
       "01    6353\n",
       "13    5731\n",
       "11    5427\n",
       "08    5335\n",
       "12    5264\n",
       "07    4628\n",
       "04    2872\n",
       "10    1461\n",
       "09    1415\n",
       "03    1111\n",
       "05     719\n",
       "Name: code, dtype: int64"
      ]
     },
     "execution_count": 52,
     "metadata": {},
     "output_type": "execute_result"
    }
   ],
   "source": [
    "# Code from cell barcodes \n",
    "adata.obs['code'] = [name[0:2] for name in adata.obs_names]\n",
    "adata.obs['code'].value_counts(dropna = False)"
   ]
  },
  {
   "cell_type": "code",
   "execution_count": 53,
   "metadata": {},
   "outputs": [
    {
     "data": {
      "text/plain": [
       "FCA_GND8795927       8513\n",
       "HCA_F_GON10687820    6878\n",
       "HCA_F_GON10687819    6353\n",
       "HD_F_GON9883955      5731\n",
       "FCA_GND9332157       5427\n",
       "HD_F_GON9479872      5335\n",
       "HD_F_GON9883958      5264\n",
       "FCA_GND8795928       4628\n",
       "FCA_GND8768482       2872\n",
       "HD_F_GON9525612      1461\n",
       "HD_F_GON9525611      1415\n",
       "FCA_GND8768481       1111\n",
       "FCA_GND8768487        719\n",
       "Name: sample, dtype: int64"
      ]
     },
     "execution_count": 53,
     "metadata": {},
     "output_type": "execute_result"
    }
   ],
   "source": [
    "# Sample from code \n",
    "sample_dictionary = {'01' : 'HCA_F_GON10687819', '02' : 'HCA_F_GON10687820', '03' : 'FCA_GND8768481', \n",
    "                    '04' : 'FCA_GND8768482', '05' : 'FCA_GND8768487', '06' : 'FCA_GND8795927',\n",
    "                     '07' : 'FCA_GND8795928', '08' : 'HD_F_GON9479872', '09' : 'HD_F_GON9525611', \n",
    "                     '10' : 'HD_F_GON9525612', '11' : 'FCA_GND9332157', '12' : 'HD_F_GON9883958',\n",
    "                     '13' : 'HD_F_GON9883955'\n",
    "                    }\n",
    "adata.obs['sample'] = adata.obs['code'].map(sample_dictionary) \n",
    "adata.obs['sample'].value_counts(dropna = False)"
   ]
  },
  {
   "cell_type": "code",
   "execution_count": 54,
   "metadata": {},
   "outputs": [
    {
     "data": {
      "text/html": [
       "<div>\n",
       "<style scoped>\n",
       "    .dataframe tbody tr th:only-of-type {\n",
       "        vertical-align: middle;\n",
       "    }\n",
       "\n",
       "    .dataframe tbody tr th {\n",
       "        vertical-align: top;\n",
       "    }\n",
       "\n",
       "    .dataframe thead th {\n",
       "        text-align: right;\n",
       "    }\n",
       "</style>\n",
       "<table border=\"1\" class=\"dataframe\">\n",
       "  <thead>\n",
       "    <tr style=\"text-align: right;\">\n",
       "      <th></th>\n",
       "      <th>code</th>\n",
       "      <th>sample</th>\n",
       "    </tr>\n",
       "  </thead>\n",
       "  <tbody>\n",
       "    <tr>\n",
       "      <th>12-TTTGTGTGTCTAACCA-1</th>\n",
       "      <td>12</td>\n",
       "      <td>HD_F_GON9883958</td>\n",
       "    </tr>\n",
       "    <tr>\n",
       "      <th>12-TTTGTGTGTTAGGCTT-1</th>\n",
       "      <td>12</td>\n",
       "      <td>HD_F_GON9883958</td>\n",
       "    </tr>\n",
       "    <tr>\n",
       "      <th>12-TTTGTGTGTTCCAGTA-1</th>\n",
       "      <td>12</td>\n",
       "      <td>HD_F_GON9883958</td>\n",
       "    </tr>\n",
       "    <tr>\n",
       "      <th>12-TTTGTGTGTTTAGAAG-1</th>\n",
       "      <td>12</td>\n",
       "      <td>HD_F_GON9883958</td>\n",
       "    </tr>\n",
       "    <tr>\n",
       "      <th>12-TTTGTGTTCTCGTAGA-1</th>\n",
       "      <td>12</td>\n",
       "      <td>HD_F_GON9883958</td>\n",
       "    </tr>\n",
       "  </tbody>\n",
       "</table>\n",
       "</div>"
      ],
      "text/plain": [
       "                      code           sample\n",
       "12-TTTGTGTGTCTAACCA-1   12  HD_F_GON9883958\n",
       "12-TTTGTGTGTTAGGCTT-1   12  HD_F_GON9883958\n",
       "12-TTTGTGTGTTCCAGTA-1   12  HD_F_GON9883958\n",
       "12-TTTGTGTGTTTAGAAG-1   12  HD_F_GON9883958\n",
       "12-TTTGTGTTCTCGTAGA-1   12  HD_F_GON9883958"
      ]
     },
     "execution_count": 54,
     "metadata": {},
     "output_type": "execute_result"
    }
   ],
   "source": [
    "adata.obs.tail()"
   ]
  },
  {
   "cell_type": "markdown",
   "metadata": {},
   "source": [
    "#### Load peak annotations (done with R script by Emma)"
   ]
  },
  {
   "cell_type": "code",
   "execution_count": 55,
   "metadata": {},
   "outputs": [],
   "source": [
    "peak_anno_df = pd.read_csv(outdir + \"ATACpeaks_annotation.csv\", index_col=0)\n",
    "peak_anno_df.index = peak_anno_df[\"peak_id\"]\n",
    "peak_anno_df.drop(\"peak_id\",1, inplace=True)\n",
    "adata.var = pd.concat([adata.var, peak_anno_df], 1)"
   ]
  },
  {
   "cell_type": "markdown",
   "metadata": {},
   "source": [
    "#### Doublecheck that these are all male samples "
   ]
  },
  {
   "cell_type": "code",
   "execution_count": 56,
   "metadata": {},
   "outputs": [
    {
     "data": {
      "text/plain": [
       "chr1     41822\n",
       "chr2     41069\n",
       "chr3     33671\n",
       "chr6     29020\n",
       "chr5     28437\n",
       "chr4     27250\n",
       "chr7     25909\n",
       "chr10    24348\n",
       "chr11    23819\n",
       "chr8     23277\n",
       "chr12    23043\n",
       "chr9     20682\n",
       "chr17    17183\n",
       "chr14    15285\n",
       "chr15    15191\n",
       "chr13    15109\n",
       "chr16    14474\n",
       "chrX     12850\n",
       "chr20    12748\n",
       "chr18    12498\n",
       "chr19    10632\n",
       "chr22     8162\n",
       "chr21     6150\n",
       "chrY       571\n",
       "Name: chromosome, dtype: int64"
      ]
     },
     "execution_count": 56,
     "metadata": {},
     "output_type": "execute_result"
    }
   ],
   "source": [
    "adata.var['chromosome'] = [i.split(\":\")[0] for i in adata.var_names]\n",
    "adata.var['chromosome'].value_counts(dropna = False)"
   ]
  },
  {
   "cell_type": "code",
   "execution_count": 57,
   "metadata": {},
   "outputs": [],
   "source": [
    "chr_Y = adata[:, list(adata.var[adata.var['chromosome'] == \"chrY\"].index)]\n",
    "chr_Y_df = pd.DataFrame(chr_Y.X.toarray(), index = chr_Y.obs_names, columns = chr_Y.var_names)"
   ]
  },
  {
   "cell_type": "code",
   "execution_count": 58,
   "metadata": {},
   "outputs": [
    {
     "name": "stderr",
     "output_type": "stream",
     "text": [
      "Trying to set attribute `.obs` of view, copying.\n"
     ]
    },
    {
     "data": {
      "text/html": [
       "<div>\n",
       "<style scoped>\n",
       "    .dataframe tbody tr th:only-of-type {\n",
       "        vertical-align: middle;\n",
       "    }\n",
       "\n",
       "    .dataframe tbody tr th {\n",
       "        vertical-align: top;\n",
       "    }\n",
       "\n",
       "    .dataframe thead th {\n",
       "        text-align: right;\n",
       "    }\n",
       "</style>\n",
       "<table border=\"1\" class=\"dataframe\">\n",
       "  <thead>\n",
       "    <tr style=\"text-align: right;\">\n",
       "      <th></th>\n",
       "      <th>barcode</th>\n",
       "      <th>sample</th>\n",
       "    </tr>\n",
       "  </thead>\n",
       "  <tbody>\n",
       "    <tr>\n",
       "      <th>03-AAACGAAAGCTGAGGT-1</th>\n",
       "      <td>03-AAACGAAAGCTGAGGT-1</td>\n",
       "      <td>FCA_GND8768481</td>\n",
       "    </tr>\n",
       "    <tr>\n",
       "      <th>03-AAACGAACAATCATCG-1</th>\n",
       "      <td>03-AAACGAACAATCATCG-1</td>\n",
       "      <td>FCA_GND8768481</td>\n",
       "    </tr>\n",
       "    <tr>\n",
       "      <th>03-AAACGAACATGCACTA-1</th>\n",
       "      <td>03-AAACGAACATGCACTA-1</td>\n",
       "      <td>FCA_GND8768481</td>\n",
       "    </tr>\n",
       "    <tr>\n",
       "      <th>03-AAACTCGTCACCCGGA-1</th>\n",
       "      <td>03-AAACTCGTCACCCGGA-1</td>\n",
       "      <td>FCA_GND8768481</td>\n",
       "    </tr>\n",
       "    <tr>\n",
       "      <th>03-AAACTGCCAAGGGTAC-1</th>\n",
       "      <td>03-AAACTGCCAAGGGTAC-1</td>\n",
       "      <td>FCA_GND8768481</td>\n",
       "    </tr>\n",
       "  </tbody>\n",
       "</table>\n",
       "</div>"
      ],
      "text/plain": [
       "                                     barcode          sample\n",
       "03-AAACGAAAGCTGAGGT-1  03-AAACGAAAGCTGAGGT-1  FCA_GND8768481\n",
       "03-AAACGAACAATCATCG-1  03-AAACGAACAATCATCG-1  FCA_GND8768481\n",
       "03-AAACGAACATGCACTA-1  03-AAACGAACATGCACTA-1  FCA_GND8768481\n",
       "03-AAACTCGTCACCCGGA-1  03-AAACTCGTCACCCGGA-1  FCA_GND8768481\n",
       "03-AAACTGCCAAGGGTAC-1  03-AAACTGCCAAGGGTAC-1  FCA_GND8768481"
      ]
     },
     "execution_count": 58,
     "metadata": {},
     "output_type": "execute_result"
    }
   ],
   "source": [
    "# Mapping of cells to individuals \n",
    "chr_Y.obs['barcode'] = chr_Y.obs_names\n",
    "cells_celltypes = chr_Y.obs[['barcode', 'sample']]\n",
    "cells_celltypes.head()"
   ]
  },
  {
   "cell_type": "code",
   "execution_count": 59,
   "metadata": {},
   "outputs": [
    {
     "data": {
      "text/plain": [
       "FCA_GND8768481       15894.0\n",
       "FCA_GND8768482       16682.0\n",
       "FCA_GND8768487        5658.0\n",
       "FCA_GND8795927       32556.0\n",
       "FCA_GND8795928       31265.0\n",
       "FCA_GND9332157       28052.0\n",
       "HCA_F_GON10687819    12284.0\n",
       "HCA_F_GON10687820    14140.0\n",
       "HD_F_GON9479872      39446.0\n",
       "HD_F_GON9525611      24994.0\n",
       "HD_F_GON9525612      25950.0\n",
       "HD_F_GON9883955      31468.0\n",
       "HD_F_GON9883958      31555.0\n",
       "dtype: float32"
      ]
     },
     "execution_count": 59,
     "metadata": {},
     "output_type": "execute_result"
    }
   ],
   "source": [
    "cells_mapping = cells_celltypes.groupby('sample').groups\n",
    "# Sum by rows \n",
    "for key in cells_mapping: \n",
    "    # print(key)\n",
    "    chr_Y_df.loc[key] = chr_Y_df.loc[cells_mapping[key]].sum(axis = 0)\n",
    "\n",
    "rows_celltypes = list(np.unique(adata.obs['sample']))\n",
    "chr_Y_df = chr_Y_df.loc[rows_celltypes, :]\n",
    "chr_Y_df.sum(axis = 1)"
   ]
  },
  {
   "cell_type": "markdown",
   "metadata": {},
   "source": [
    "#### Load annotations of snRNAseq from MULTIOME samples "
   ]
  },
  {
   "cell_type": "markdown",
   "metadata": {},
   "source": [
    "1. Germ cells "
   ]
  },
  {
   "cell_type": "code",
   "execution_count": 62,
   "metadata": {},
   "outputs": [],
   "source": [
    "path_to_multiome = '/nfs/team292/lg18/with_valentina/gonadsV2_revision/'"
   ]
  },
  {
   "cell_type": "code",
   "execution_count": 64,
   "metadata": {},
   "outputs": [
    {
     "data": {
      "text/html": [
       "<div>\n",
       "<style scoped>\n",
       "    .dataframe tbody tr th:only-of-type {\n",
       "        vertical-align: middle;\n",
       "    }\n",
       "\n",
       "    .dataframe tbody tr th {\n",
       "        vertical-align: top;\n",
       "    }\n",
       "\n",
       "    .dataframe thead th {\n",
       "        text-align: right;\n",
       "    }\n",
       "</style>\n",
       "<table border=\"1\" class=\"dataframe\">\n",
       "  <thead>\n",
       "    <tr style=\"text-align: right;\">\n",
       "      <th></th>\n",
       "      <th>Unnamed: 0</th>\n",
       "      <th>n_genes</th>\n",
       "      <th>sample</th>\n",
       "      <th>donor</th>\n",
       "      <th>Library_ATAC</th>\n",
       "      <th>Library_RNA</th>\n",
       "      <th>iRods_path</th>\n",
       "      <th>percent_mito</th>\n",
       "      <th>n_counts</th>\n",
       "      <th>batch</th>\n",
       "      <th>...</th>\n",
       "      <th>bh_pval</th>\n",
       "      <th>bonf_pval</th>\n",
       "      <th>pcw</th>\n",
       "      <th>lineage</th>\n",
       "      <th>celltype_samplespecific</th>\n",
       "      <th>S_score</th>\n",
       "      <th>G2M_score</th>\n",
       "      <th>phase</th>\n",
       "      <th>leiden</th>\n",
       "      <th>celltype</th>\n",
       "    </tr>\n",
       "  </thead>\n",
       "  <tbody>\n",
       "    <tr>\n",
       "      <th>0</th>\n",
       "      <td>HCA_F_GON10713286_AAACGCGCACTGGCCA</td>\n",
       "      <td>5701</td>\n",
       "      <td>HCA_F_GON10713286</td>\n",
       "      <td>Hrv41</td>\n",
       "      <td>HCA_F_GON10687820</td>\n",
       "      <td>HCA_F_GON10713286</td>\n",
       "      <td>/seq/illumina/cellranger-arc/cellranger-arc101...</td>\n",
       "      <td>0.001894</td>\n",
       "      <td>18223.0</td>\n",
       "      <td>0</td>\n",
       "      <td>...</td>\n",
       "      <td>0.901686</td>\n",
       "      <td>1.000000</td>\n",
       "      <td>8.8</td>\n",
       "      <td>GermCells</td>\n",
       "      <td>NaN</td>\n",
       "      <td>1.146592</td>\n",
       "      <td>0.513035</td>\n",
       "      <td>S</td>\n",
       "      <td>2</td>\n",
       "      <td>PGC_mitotic</td>\n",
       "    </tr>\n",
       "    <tr>\n",
       "      <th>1</th>\n",
       "      <td>HCA_F_GON10713286_AACAGCAAGAGGAGGA</td>\n",
       "      <td>6154</td>\n",
       "      <td>HCA_F_GON10713286</td>\n",
       "      <td>Hrv41</td>\n",
       "      <td>HCA_F_GON10687820</td>\n",
       "      <td>HCA_F_GON10713286</td>\n",
       "      <td>/seq/illumina/cellranger-arc/cellranger-arc101...</td>\n",
       "      <td>0.002846</td>\n",
       "      <td>20717.0</td>\n",
       "      <td>0</td>\n",
       "      <td>...</td>\n",
       "      <td>0.901686</td>\n",
       "      <td>1.000000</td>\n",
       "      <td>8.8</td>\n",
       "      <td>GermCells</td>\n",
       "      <td>NaN</td>\n",
       "      <td>0.037504</td>\n",
       "      <td>-0.186892</td>\n",
       "      <td>S</td>\n",
       "      <td>0</td>\n",
       "      <td>PGC</td>\n",
       "    </tr>\n",
       "    <tr>\n",
       "      <th>2</th>\n",
       "      <td>HCA_F_GON10713286_AACAGCAAGCTAAAGG</td>\n",
       "      <td>5009</td>\n",
       "      <td>HCA_F_GON10713286</td>\n",
       "      <td>Hrv41</td>\n",
       "      <td>HCA_F_GON10687820</td>\n",
       "      <td>HCA_F_GON10713286</td>\n",
       "      <td>/seq/illumina/cellranger-arc/cellranger-arc101...</td>\n",
       "      <td>0.001948</td>\n",
       "      <td>15032.0</td>\n",
       "      <td>0</td>\n",
       "      <td>...</td>\n",
       "      <td>0.901686</td>\n",
       "      <td>1.000000</td>\n",
       "      <td>8.8</td>\n",
       "      <td>GermCells</td>\n",
       "      <td>NaN</td>\n",
       "      <td>-0.347650</td>\n",
       "      <td>-0.672939</td>\n",
       "      <td>G1</td>\n",
       "      <td>0</td>\n",
       "      <td>PGC</td>\n",
       "    </tr>\n",
       "    <tr>\n",
       "      <th>3</th>\n",
       "      <td>HCA_F_GON10713286_AACAGCAAGTCAATCA</td>\n",
       "      <td>8263</td>\n",
       "      <td>HCA_F_GON10713286</td>\n",
       "      <td>Hrv41</td>\n",
       "      <td>HCA_F_GON10687820</td>\n",
       "      <td>HCA_F_GON10713286</td>\n",
       "      <td>/seq/illumina/cellranger-arc/cellranger-arc101...</td>\n",
       "      <td>0.003338</td>\n",
       "      <td>38623.0</td>\n",
       "      <td>0</td>\n",
       "      <td>...</td>\n",
       "      <td>0.000037</td>\n",
       "      <td>0.010037</td>\n",
       "      <td>8.8</td>\n",
       "      <td>GermCells</td>\n",
       "      <td>NaN</td>\n",
       "      <td>0.018986</td>\n",
       "      <td>3.420874</td>\n",
       "      <td>G2M</td>\n",
       "      <td>2</td>\n",
       "      <td>PGC_mitotic</td>\n",
       "    </tr>\n",
       "    <tr>\n",
       "      <th>4</th>\n",
       "      <td>HCA_F_GON10713286_AACATCATCCACCCTG</td>\n",
       "      <td>5685</td>\n",
       "      <td>HCA_F_GON10713286</td>\n",
       "      <td>Hrv41</td>\n",
       "      <td>HCA_F_GON10687820</td>\n",
       "      <td>HCA_F_GON10713286</td>\n",
       "      <td>/seq/illumina/cellranger-arc/cellranger-arc101...</td>\n",
       "      <td>0.001917</td>\n",
       "      <td>17283.0</td>\n",
       "      <td>0</td>\n",
       "      <td>...</td>\n",
       "      <td>0.901686</td>\n",
       "      <td>1.000000</td>\n",
       "      <td>8.8</td>\n",
       "      <td>GermCells</td>\n",
       "      <td>NaN</td>\n",
       "      <td>0.281357</td>\n",
       "      <td>-0.657518</td>\n",
       "      <td>S</td>\n",
       "      <td>0</td>\n",
       "      <td>PGC</td>\n",
       "    </tr>\n",
       "  </tbody>\n",
       "</table>\n",
       "<p>5 rows × 23 columns</p>\n",
       "</div>"
      ],
      "text/plain": [
       "                           Unnamed: 0  n_genes             sample  donor  \\\n",
       "0  HCA_F_GON10713286_AAACGCGCACTGGCCA     5701  HCA_F_GON10713286  Hrv41   \n",
       "1  HCA_F_GON10713286_AACAGCAAGAGGAGGA     6154  HCA_F_GON10713286  Hrv41   \n",
       "2  HCA_F_GON10713286_AACAGCAAGCTAAAGG     5009  HCA_F_GON10713286  Hrv41   \n",
       "3  HCA_F_GON10713286_AACAGCAAGTCAATCA     8263  HCA_F_GON10713286  Hrv41   \n",
       "4  HCA_F_GON10713286_AACATCATCCACCCTG     5685  HCA_F_GON10713286  Hrv41   \n",
       "\n",
       "        Library_ATAC        Library_RNA  \\\n",
       "0  HCA_F_GON10687820  HCA_F_GON10713286   \n",
       "1  HCA_F_GON10687820  HCA_F_GON10713286   \n",
       "2  HCA_F_GON10687820  HCA_F_GON10713286   \n",
       "3  HCA_F_GON10687820  HCA_F_GON10713286   \n",
       "4  HCA_F_GON10687820  HCA_F_GON10713286   \n",
       "\n",
       "                                          iRods_path  percent_mito  n_counts  \\\n",
       "0  /seq/illumina/cellranger-arc/cellranger-arc101...      0.001894   18223.0   \n",
       "1  /seq/illumina/cellranger-arc/cellranger-arc101...      0.002846   20717.0   \n",
       "2  /seq/illumina/cellranger-arc/cellranger-arc101...      0.001948   15032.0   \n",
       "3  /seq/illumina/cellranger-arc/cellranger-arc101...      0.003338   38623.0   \n",
       "4  /seq/illumina/cellranger-arc/cellranger-arc101...      0.001917   17283.0   \n",
       "\n",
       "   batch  ...   bh_pval  bonf_pval  pcw    lineage  celltype_samplespecific  \\\n",
       "0      0  ...  0.901686   1.000000  8.8  GermCells                      NaN   \n",
       "1      0  ...  0.901686   1.000000  8.8  GermCells                      NaN   \n",
       "2      0  ...  0.901686   1.000000  8.8  GermCells                      NaN   \n",
       "3      0  ...  0.000037   0.010037  8.8  GermCells                      NaN   \n",
       "4      0  ...  0.901686   1.000000  8.8  GermCells                      NaN   \n",
       "\n",
       "    S_score G2M_score phase  leiden     celltype  \n",
       "0  1.146592  0.513035     S       2  PGC_mitotic  \n",
       "1  0.037504 -0.186892     S       0          PGC  \n",
       "2 -0.347650 -0.672939    G1       0          PGC  \n",
       "3  0.018986  3.420874   G2M       2  PGC_mitotic  \n",
       "4  0.281357 -0.657518     S       0          PGC  \n",
       "\n",
       "[5 rows x 23 columns]"
      ]
     },
     "execution_count": 64,
     "metadata": {},
     "output_type": "execute_result"
    }
   ],
   "source": [
    "germcells = pd.read_csv(path_to_multiome + 'multiomics_male_germcells.csv')\n",
    "germcells.head()"
   ]
  },
  {
   "cell_type": "code",
   "execution_count": 65,
   "metadata": {},
   "outputs": [
    {
     "data": {
      "text/plain": [
       "HCA_F_GON10687819    475\n",
       "HCA_F_GON10687820    194\n",
       "HD_F_GON9525612       38\n",
       "HD_F_GON9525611       32\n",
       "Name: Library_ATAC, dtype: int64"
      ]
     },
     "execution_count": 65,
     "metadata": {},
     "output_type": "execute_result"
    }
   ],
   "source": [
    "germcells['Library_ATAC'].value_counts()"
   ]
  },
  {
   "cell_type": "code",
   "execution_count": 66,
   "metadata": {},
   "outputs": [],
   "source": [
    "code_correspondence = {'HCA_F_GON10687819' : '01', 'HCA_F_GON10687820' : '02', 'HD_F_GON9525612' : '10',\n",
    "                      'HD_F_GON9525611' : '09'}"
   ]
  },
  {
   "cell_type": "code",
   "execution_count": 67,
   "metadata": {},
   "outputs": [],
   "source": [
    "germcells['ATAC_code'] = germcells['Library_ATAC'].map(code_correspondence)"
   ]
  },
  {
   "cell_type": "code",
   "execution_count": 68,
   "metadata": {},
   "outputs": [
    {
     "data": {
      "text/plain": [
       "01    475\n",
       "02    194\n",
       "10     38\n",
       "09     32\n",
       "Name: ATAC_code, dtype: int64"
      ]
     },
     "execution_count": 68,
     "metadata": {},
     "output_type": "execute_result"
    }
   ],
   "source": [
    "germcells['ATAC_code'].value_counts(dropna = False)"
   ]
  },
  {
   "cell_type": "code",
   "execution_count": 69,
   "metadata": {},
   "outputs": [],
   "source": [
    "germcells['barcode'] = [i.split('_')[-1] for i in germcells['Unnamed: 0']]"
   ]
  },
  {
   "cell_type": "code",
   "execution_count": 70,
   "metadata": {},
   "outputs": [],
   "source": [
    "germcells['ATAC_barcode'] = germcells['ATAC_code'] + '-' + germcells['barcode'] + '-1'"
   ]
  },
  {
   "cell_type": "code",
   "execution_count": 80,
   "metadata": {},
   "outputs": [
    {
     "data": {
      "text/plain": [
       "PGC                 239\n",
       "preSpermatogonia    221\n",
       "PGC_mitotic         152\n",
       "GC                  105\n",
       "Doublet              22\n",
       "Name: celltype, dtype: int64"
      ]
     },
     "execution_count": 80,
     "metadata": {},
     "output_type": "execute_result"
    }
   ],
   "source": [
    "germcells['celltype'].value_counts(dropna = False)"
   ]
  },
  {
   "cell_type": "markdown",
   "metadata": {},
   "source": [
    "2. Somatic cells "
   ]
  },
  {
   "cell_type": "code",
   "execution_count": 71,
   "metadata": {},
   "outputs": [
    {
     "data": {
      "text/html": [
       "<div>\n",
       "<style scoped>\n",
       "    .dataframe tbody tr th:only-of-type {\n",
       "        vertical-align: middle;\n",
       "    }\n",
       "\n",
       "    .dataframe tbody tr th {\n",
       "        vertical-align: top;\n",
       "    }\n",
       "\n",
       "    .dataframe thead th {\n",
       "        text-align: right;\n",
       "    }\n",
       "</style>\n",
       "<table border=\"1\" class=\"dataframe\">\n",
       "  <thead>\n",
       "    <tr style=\"text-align: right;\">\n",
       "      <th></th>\n",
       "      <th>Unnamed: 0</th>\n",
       "      <th>n_genes</th>\n",
       "      <th>sample</th>\n",
       "      <th>donor</th>\n",
       "      <th>Library_ATAC</th>\n",
       "      <th>Library_RNA</th>\n",
       "      <th>iRods_path</th>\n",
       "      <th>percent_mito</th>\n",
       "      <th>n_counts</th>\n",
       "      <th>batch</th>\n",
       "      <th>...</th>\n",
       "      <th>bonf_pval</th>\n",
       "      <th>pcw</th>\n",
       "      <th>lineage</th>\n",
       "      <th>celltype_samplespecific</th>\n",
       "      <th>S_score</th>\n",
       "      <th>G2M_score</th>\n",
       "      <th>phase</th>\n",
       "      <th>leiden</th>\n",
       "      <th>leiden_R</th>\n",
       "      <th>celltype</th>\n",
       "    </tr>\n",
       "  </thead>\n",
       "  <tbody>\n",
       "    <tr>\n",
       "      <th>0</th>\n",
       "      <td>HCA_F_GON10713286_AAACATGCAGGTATTT</td>\n",
       "      <td>3875</td>\n",
       "      <td>HCA_F_GON10713286</td>\n",
       "      <td>Hrv41</td>\n",
       "      <td>HCA_F_GON10687820</td>\n",
       "      <td>HCA_F_GON10713286</td>\n",
       "      <td>/seq/illumina/cellranger-arc/cellranger-arc101...</td>\n",
       "      <td>0.002676</td>\n",
       "      <td>10070.0</td>\n",
       "      <td>0</td>\n",
       "      <td>...</td>\n",
       "      <td>1.000000</td>\n",
       "      <td>8.8</td>\n",
       "      <td>Mesenchymal_LHX9</td>\n",
       "      <td>NaN</td>\n",
       "      <td>1.507850</td>\n",
       "      <td>0.092105</td>\n",
       "      <td>S</td>\n",
       "      <td>7</td>\n",
       "      <td>7</td>\n",
       "      <td>Mesenchymal_LHX9</td>\n",
       "    </tr>\n",
       "    <tr>\n",
       "      <th>1</th>\n",
       "      <td>HCA_F_GON10713286_AAACATGCAGTTTACG</td>\n",
       "      <td>5139</td>\n",
       "      <td>HCA_F_GON10713286</td>\n",
       "      <td>Hrv41</td>\n",
       "      <td>HCA_F_GON10687820</td>\n",
       "      <td>HCA_F_GON10713286</td>\n",
       "      <td>/seq/illumina/cellranger-arc/cellranger-arc101...</td>\n",
       "      <td>0.005092</td>\n",
       "      <td>13619.0</td>\n",
       "      <td>0</td>\n",
       "      <td>...</td>\n",
       "      <td>1.000000</td>\n",
       "      <td>8.8</td>\n",
       "      <td>Sertoli</td>\n",
       "      <td>NaN</td>\n",
       "      <td>-0.091674</td>\n",
       "      <td>-0.706570</td>\n",
       "      <td>G1</td>\n",
       "      <td>4</td>\n",
       "      <td>4</td>\n",
       "      <td>Sertoli</td>\n",
       "    </tr>\n",
       "    <tr>\n",
       "      <th>2</th>\n",
       "      <td>HCA_F_GON10713286_AAACCAACAAGCTTAT</td>\n",
       "      <td>5234</td>\n",
       "      <td>HCA_F_GON10713286</td>\n",
       "      <td>Hrv41</td>\n",
       "      <td>HCA_F_GON10687820</td>\n",
       "      <td>HCA_F_GON10713286</td>\n",
       "      <td>/seq/illumina/cellranger-arc/cellranger-arc101...</td>\n",
       "      <td>0.007096</td>\n",
       "      <td>14606.0</td>\n",
       "      <td>0</td>\n",
       "      <td>...</td>\n",
       "      <td>1.000000</td>\n",
       "      <td>8.8</td>\n",
       "      <td>Sertoli</td>\n",
       "      <td>NaN</td>\n",
       "      <td>-0.039820</td>\n",
       "      <td>-0.939547</td>\n",
       "      <td>G1</td>\n",
       "      <td>0</td>\n",
       "      <td>0</td>\n",
       "      <td>Sertoli</td>\n",
       "    </tr>\n",
       "    <tr>\n",
       "      <th>3</th>\n",
       "      <td>HCA_F_GON10713286_AAACCAACATAACGGG</td>\n",
       "      <td>1195</td>\n",
       "      <td>HCA_F_GON10713286</td>\n",
       "      <td>Hrv41</td>\n",
       "      <td>HCA_F_GON10687820</td>\n",
       "      <td>HCA_F_GON10713286</td>\n",
       "      <td>/seq/illumina/cellranger-arc/cellranger-arc101...</td>\n",
       "      <td>0.007257</td>\n",
       "      <td>1487.0</td>\n",
       "      <td>0</td>\n",
       "      <td>...</td>\n",
       "      <td>1.000000</td>\n",
       "      <td>8.8</td>\n",
       "      <td>Sertoli</td>\n",
       "      <td>NaN</td>\n",
       "      <td>-0.002272</td>\n",
       "      <td>-0.006809</td>\n",
       "      <td>G1</td>\n",
       "      <td>0</td>\n",
       "      <td>0</td>\n",
       "      <td>Sertoli</td>\n",
       "    </tr>\n",
       "    <tr>\n",
       "      <th>4</th>\n",
       "      <td>HCA_F_GON10713286_AAACCGAAGAAGCTAG</td>\n",
       "      <td>4897</td>\n",
       "      <td>HCA_F_GON10713286</td>\n",
       "      <td>Hrv41</td>\n",
       "      <td>HCA_F_GON10687820</td>\n",
       "      <td>HCA_F_GON10713286</td>\n",
       "      <td>/seq/illumina/cellranger-arc/cellranger-arc101...</td>\n",
       "      <td>0.004505</td>\n",
       "      <td>11114.0</td>\n",
       "      <td>0</td>\n",
       "      <td>...</td>\n",
       "      <td>0.046413</td>\n",
       "      <td>8.8</td>\n",
       "      <td>Sertoli</td>\n",
       "      <td>NaN</td>\n",
       "      <td>0.127001</td>\n",
       "      <td>-0.411759</td>\n",
       "      <td>S</td>\n",
       "      <td>0</td>\n",
       "      <td>0</td>\n",
       "      <td>Sertoli</td>\n",
       "    </tr>\n",
       "  </tbody>\n",
       "</table>\n",
       "<p>5 rows × 24 columns</p>\n",
       "</div>"
      ],
      "text/plain": [
       "                           Unnamed: 0  n_genes             sample  donor  \\\n",
       "0  HCA_F_GON10713286_AAACATGCAGGTATTT     3875  HCA_F_GON10713286  Hrv41   \n",
       "1  HCA_F_GON10713286_AAACATGCAGTTTACG     5139  HCA_F_GON10713286  Hrv41   \n",
       "2  HCA_F_GON10713286_AAACCAACAAGCTTAT     5234  HCA_F_GON10713286  Hrv41   \n",
       "3  HCA_F_GON10713286_AAACCAACATAACGGG     1195  HCA_F_GON10713286  Hrv41   \n",
       "4  HCA_F_GON10713286_AAACCGAAGAAGCTAG     4897  HCA_F_GON10713286  Hrv41   \n",
       "\n",
       "        Library_ATAC        Library_RNA  \\\n",
       "0  HCA_F_GON10687820  HCA_F_GON10713286   \n",
       "1  HCA_F_GON10687820  HCA_F_GON10713286   \n",
       "2  HCA_F_GON10687820  HCA_F_GON10713286   \n",
       "3  HCA_F_GON10687820  HCA_F_GON10713286   \n",
       "4  HCA_F_GON10687820  HCA_F_GON10713286   \n",
       "\n",
       "                                          iRods_path  percent_mito  n_counts  \\\n",
       "0  /seq/illumina/cellranger-arc/cellranger-arc101...      0.002676   10070.0   \n",
       "1  /seq/illumina/cellranger-arc/cellranger-arc101...      0.005092   13619.0   \n",
       "2  /seq/illumina/cellranger-arc/cellranger-arc101...      0.007096   14606.0   \n",
       "3  /seq/illumina/cellranger-arc/cellranger-arc101...      0.007257    1487.0   \n",
       "4  /seq/illumina/cellranger-arc/cellranger-arc101...      0.004505   11114.0   \n",
       "\n",
       "   batch  ...  bonf_pval  pcw           lineage  celltype_samplespecific  \\\n",
       "0      0  ...   1.000000  8.8  Mesenchymal_LHX9                      NaN   \n",
       "1      0  ...   1.000000  8.8           Sertoli                      NaN   \n",
       "2      0  ...   1.000000  8.8           Sertoli                      NaN   \n",
       "3      0  ...   1.000000  8.8           Sertoli                      NaN   \n",
       "4      0  ...   0.046413  8.8           Sertoli                      NaN   \n",
       "\n",
       "    S_score  G2M_score phase leiden  leiden_R          celltype  \n",
       "0  1.507850   0.092105     S      7         7  Mesenchymal_LHX9  \n",
       "1 -0.091674  -0.706570    G1      4         4           Sertoli  \n",
       "2 -0.039820  -0.939547    G1      0         0           Sertoli  \n",
       "3 -0.002272  -0.006809    G1      0         0           Sertoli  \n",
       "4  0.127001  -0.411759     S      0         0           Sertoli  \n",
       "\n",
       "[5 rows x 24 columns]"
      ]
     },
     "execution_count": 71,
     "metadata": {},
     "output_type": "execute_result"
    }
   ],
   "source": [
    "supporting = pd.read_csv(path_to_multiome + 'multiomics_male_somatic.csv')\n",
    "supporting.head()"
   ]
  },
  {
   "cell_type": "code",
   "execution_count": 72,
   "metadata": {},
   "outputs": [
    {
     "data": {
      "text/plain": [
       "Sertoli             6304\n",
       "Mesenchymal_LHX9    2141\n",
       "FetalLeydig         1235\n",
       "early_sPAX8          601\n",
       "Doublet              484\n",
       "CoelEpi_LHX9         348\n",
       "Name: celltype, dtype: int64"
      ]
     },
     "execution_count": 72,
     "metadata": {},
     "output_type": "execute_result"
    }
   ],
   "source": [
    "supporting['celltype'].value_counts()"
   ]
  },
  {
   "cell_type": "code",
   "execution_count": 73,
   "metadata": {},
   "outputs": [],
   "source": [
    "supporting['ATAC_code'] = supporting['Library_ATAC'].map(code_correspondence)"
   ]
  },
  {
   "cell_type": "code",
   "execution_count": 74,
   "metadata": {},
   "outputs": [],
   "source": [
    "supporting['barcode'] = [i.split('_')[-1] for i in supporting['Unnamed: 0']]\n",
    "supporting['ATAC_barcode'] = supporting['ATAC_code'] + '-' + supporting['barcode'] + '-1'"
   ]
  },
  {
   "cell_type": "code",
   "execution_count": 75,
   "metadata": {},
   "outputs": [],
   "source": [
    "adata.obs['multiome_GermCells'] = adata.obs_names.map(pd.Series(germcells.celltype.values,index=germcells.ATAC_barcode).to_dict())"
   ]
  },
  {
   "cell_type": "code",
   "execution_count": 76,
   "metadata": {},
   "outputs": [
    {
     "data": {
      "text/plain": [
       "NaN                 54968\n",
       "PGC                   239\n",
       "preSpermatogonia      221\n",
       "PGC_mitotic           152\n",
       "GC                    105\n",
       "Doublet                22\n",
       "Name: multiome_GermCells, dtype: int64"
      ]
     },
     "execution_count": 76,
     "metadata": {},
     "output_type": "execute_result"
    }
   ],
   "source": [
    "adata.obs['multiome_GermCells'].value_counts(dropna = False)"
   ]
  },
  {
   "cell_type": "code",
   "execution_count": 77,
   "metadata": {},
   "outputs": [],
   "source": [
    "adata.obs['multiome_Somatic'] = adata.obs_names.map(pd.Series(supporting.celltype.values,index=supporting.ATAC_barcode).to_dict())"
   ]
  },
  {
   "cell_type": "code",
   "execution_count": 78,
   "metadata": {},
   "outputs": [
    {
     "data": {
      "text/plain": [
       "NaN                 44594\n",
       "Sertoli              6304\n",
       "Mesenchymal_LHX9     2141\n",
       "FetalLeydig          1235\n",
       "early_sPAX8           601\n",
       "Doublet               484\n",
       "CoelEpi_LHX9          348\n",
       "Name: multiome_Somatic, dtype: int64"
      ]
     },
     "execution_count": 78,
     "metadata": {},
     "output_type": "execute_result"
    }
   ],
   "source": [
    "adata.obs['multiome_Somatic'].value_counts(dropna = False)"
   ]
  },
  {
   "cell_type": "markdown",
   "metadata": {},
   "source": [
    "#### Save binary data to layers"
   ]
  },
  {
   "cell_type": "code",
   "execution_count": 81,
   "metadata": {},
   "outputs": [
    {
     "data": {
      "text/plain": [
       "AnnData object with n_obs × n_vars = 55707 × 483200\n",
       "    obs: 'code', 'sample', 'multiome_GermCells', 'multiome_Somatic'\n",
       "    var: 'peak_width', 'exon', 'gene', 'promoter', 'annotation', 'gene_name', 'gene_id', 'tss_distance', 'ENCODE_blacklist', 'chromosome'\n",
       "    layers: 'binary_raw'"
      ]
     },
     "execution_count": 81,
     "metadata": {},
     "output_type": "execute_result"
    }
   ],
   "source": [
    "adata.layers[\"binary_raw\"] = adata.X\n",
    "adata.layers[\"binary_raw\"][adata.layers[\"binary_raw\"] > 1] = 1\n",
    "adata"
   ]
  },
  {
   "cell_type": "markdown",
   "metadata": {},
   "source": [
    "#### Peak filtering"
   ]
  },
  {
   "cell_type": "code",
   "execution_count": 82,
   "metadata": {},
   "outputs": [
    {
     "data": {
      "text/plain": [
       "array([[<AxesSubplot:title={'center':'peak_width'}>]], dtype=object)"
      ]
     },
     "execution_count": 82,
     "metadata": {},
     "output_type": "execute_result"
    },
    {
     "data": {
      "image/png": "[encoded data removed]",
      "text/plain": [
       "<Figure size 1800x432 with 1 Axes>"
      ]
     },
     "metadata": {
      "needs_background": "light"
     },
     "output_type": "display_data"
    }
   ],
   "source": [
    "adata.var.hist(column = 'peak_width', bins = 200, grid = False, figsize = (25,6), color = '#870052')"
   ]
  },
  {
   "cell_type": "code",
   "execution_count": 83,
   "metadata": {},
   "outputs": [
    {
     "data": {
      "text/plain": [
       "AnnData object with n_obs × n_vars = 55707 × 483200\n",
       "    obs: 'code', 'sample', 'multiome_GermCells', 'multiome_Somatic'\n",
       "    var: 'peak_width', 'exon', 'gene', 'promoter', 'annotation', 'gene_name', 'gene_id', 'tss_distance', 'ENCODE_blacklist', 'chromosome', 'n_cells_by_counts', 'mean_counts', 'log1p_mean_counts', 'pct_dropout_by_counts', 'total_counts', 'log1p_total_counts'\n",
       "    layers: 'binary_raw'"
      ]
     },
     "execution_count": 83,
     "metadata": {},
     "output_type": "execute_result"
    }
   ],
   "source": [
    "var_qc = sc.pp.calculate_qc_metrics(adata, layer = \"binary_raw\")[1]\n",
    "adata.var = pd.concat([adata.var, var_qc], 1)\n",
    "adata"
   ]
  },
  {
   "cell_type": "code",
   "execution_count": 84,
   "metadata": {},
   "outputs": [
    {
     "data": {
      "text/html": [
       "<div>\n",
       "<style scoped>\n",
       "    .dataframe tbody tr th:only-of-type {\n",
       "        vertical-align: middle;\n",
       "    }\n",
       "\n",
       "    .dataframe tbody tr th {\n",
       "        vertical-align: top;\n",
       "    }\n",
       "\n",
       "    .dataframe thead th {\n",
       "        text-align: right;\n",
       "    }\n",
       "</style>\n",
       "<table border=\"1\" class=\"dataframe\">\n",
       "  <thead>\n",
       "    <tr style=\"text-align: right;\">\n",
       "      <th></th>\n",
       "      <th>peak_width</th>\n",
       "      <th>exon</th>\n",
       "      <th>gene</th>\n",
       "      <th>promoter</th>\n",
       "      <th>annotation</th>\n",
       "      <th>gene_name</th>\n",
       "      <th>gene_id</th>\n",
       "      <th>tss_distance</th>\n",
       "      <th>ENCODE_blacklist</th>\n",
       "      <th>chromosome</th>\n",
       "      <th>n_cells_by_counts</th>\n",
       "      <th>mean_counts</th>\n",
       "      <th>log1p_mean_counts</th>\n",
       "      <th>pct_dropout_by_counts</th>\n",
       "      <th>total_counts</th>\n",
       "      <th>log1p_total_counts</th>\n",
       "    </tr>\n",
       "  </thead>\n",
       "  <tbody>\n",
       "    <tr>\n",
       "      <th>chr1:10003-10446</th>\n",
       "      <td>444</td>\n",
       "      <td>0</td>\n",
       "      <td>0</td>\n",
       "      <td>0</td>\n",
       "      <td>intergenic</td>\n",
       "      <td>NaN</td>\n",
       "      <td>NaN</td>\n",
       "      <td>58644</td>\n",
       "      <td>1</td>\n",
       "      <td>chr1</td>\n",
       "      <td>445</td>\n",
       "      <td>0.007988</td>\n",
       "      <td>0.007956</td>\n",
       "      <td>99.201178</td>\n",
       "      <td>445.0</td>\n",
       "      <td>6.100319</td>\n",
       "    </tr>\n",
       "    <tr>\n",
       "      <th>chr1:180674-181626</th>\n",
       "      <td>953</td>\n",
       "      <td>0</td>\n",
       "      <td>0</td>\n",
       "      <td>1</td>\n",
       "      <td>promoter</td>\n",
       "      <td>FO538757.2</td>\n",
       "      <td>ENSG00000279928</td>\n",
       "      <td>766</td>\n",
       "      <td>1</td>\n",
       "      <td>chr1</td>\n",
       "      <td>1859</td>\n",
       "      <td>0.033371</td>\n",
       "      <td>0.032826</td>\n",
       "      <td>96.662897</td>\n",
       "      <td>1859.0</td>\n",
       "      <td>7.528332</td>\n",
       "    </tr>\n",
       "    <tr>\n",
       "      <th>chr1:191306-191630</th>\n",
       "      <td>325</td>\n",
       "      <td>0</td>\n",
       "      <td>1</td>\n",
       "      <td>0</td>\n",
       "      <td>intron</td>\n",
       "      <td>FO538757.1</td>\n",
       "      <td>ENSG00000279457</td>\n",
       "      <td>3780</td>\n",
       "      <td>1</td>\n",
       "      <td>chr1</td>\n",
       "      <td>305</td>\n",
       "      <td>0.005475</td>\n",
       "      <td>0.005460</td>\n",
       "      <td>99.452493</td>\n",
       "      <td>305.0</td>\n",
       "      <td>5.723585</td>\n",
       "    </tr>\n",
       "    <tr>\n",
       "      <th>chr1:267865-268092</th>\n",
       "      <td>228</td>\n",
       "      <td>0</td>\n",
       "      <td>0</td>\n",
       "      <td>0</td>\n",
       "      <td>intergenic</td>\n",
       "      <td>NaN</td>\n",
       "      <td>NaN</td>\n",
       "      <td>67542</td>\n",
       "      <td>1</td>\n",
       "      <td>chr1</td>\n",
       "      <td>511</td>\n",
       "      <td>0.009173</td>\n",
       "      <td>0.009131</td>\n",
       "      <td>99.082701</td>\n",
       "      <td>511.0</td>\n",
       "      <td>6.238325</td>\n",
       "    </tr>\n",
       "    <tr>\n",
       "      <th>chr1:586070-586287</th>\n",
       "      <td>218</td>\n",
       "      <td>0</td>\n",
       "      <td>0</td>\n",
       "      <td>0</td>\n",
       "      <td>intergenic</td>\n",
       "      <td>NaN</td>\n",
       "      <td>NaN</td>\n",
       "      <td>100366</td>\n",
       "      <td>1</td>\n",
       "      <td>chr1</td>\n",
       "      <td>451</td>\n",
       "      <td>0.008096</td>\n",
       "      <td>0.008063</td>\n",
       "      <td>99.190407</td>\n",
       "      <td>451.0</td>\n",
       "      <td>6.113682</td>\n",
       "    </tr>\n",
       "  </tbody>\n",
       "</table>\n",
       "</div>"
      ],
      "text/plain": [
       "                    peak_width  exon  gene  promoter  annotation   gene_name  \\\n",
       "chr1:10003-10446           444     0     0         0  intergenic         NaN   \n",
       "chr1:180674-181626         953     0     0         1    promoter  FO538757.2   \n",
       "chr1:191306-191630         325     0     1         0      intron  FO538757.1   \n",
       "chr1:267865-268092         228     0     0         0  intergenic         NaN   \n",
       "chr1:586070-586287         218     0     0         0  intergenic         NaN   \n",
       "\n",
       "                            gene_id  tss_distance  ENCODE_blacklist  \\\n",
       "chr1:10003-10446                NaN         58644                 1   \n",
       "chr1:180674-181626  ENSG00000279928           766                 1   \n",
       "chr1:191306-191630  ENSG00000279457          3780                 1   \n",
       "chr1:267865-268092              NaN         67542                 1   \n",
       "chr1:586070-586287              NaN        100366                 1   \n",
       "\n",
       "                   chromosome  n_cells_by_counts  mean_counts  \\\n",
       "chr1:10003-10446         chr1                445     0.007988   \n",
       "chr1:180674-181626       chr1               1859     0.033371   \n",
       "chr1:191306-191630       chr1                305     0.005475   \n",
       "chr1:267865-268092       chr1                511     0.009173   \n",
       "chr1:586070-586287       chr1                451     0.008096   \n",
       "\n",
       "                    log1p_mean_counts  pct_dropout_by_counts  total_counts  \\\n",
       "chr1:10003-10446             0.007956              99.201178         445.0   \n",
       "chr1:180674-181626           0.032826              96.662897        1859.0   \n",
       "chr1:191306-191630           0.005460              99.452493         305.0   \n",
       "chr1:267865-268092           0.009131              99.082701         511.0   \n",
       "chr1:586070-586287           0.008063              99.190407         451.0   \n",
       "\n",
       "                    log1p_total_counts  \n",
       "chr1:10003-10446              6.100319  \n",
       "chr1:180674-181626            7.528332  \n",
       "chr1:191306-191630            5.723585  \n",
       "chr1:267865-268092            6.238325  \n",
       "chr1:586070-586287            6.113682  "
      ]
     },
     "execution_count": 84,
     "metadata": {},
     "output_type": "execute_result"
    }
   ],
   "source": [
    "adata.var.head()"
   ]
  },
  {
   "cell_type": "code",
   "execution_count": 85,
   "metadata": {},
   "outputs": [
    {
     "data": {
      "text/plain": [
       "array([[<AxesSubplot:title={'center':'total_counts'}>]], dtype=object)"
      ]
     },
     "execution_count": 85,
     "metadata": {},
     "output_type": "execute_result"
    },
    {
     "data": {
      "image/png": "[encoded data removed]",
      "text/plain": [
       "<Figure size 1800x432 with 1 Axes>"
      ]
     },
     "metadata": {
      "needs_background": "light"
     },
     "output_type": "display_data"
    }
   ],
   "source": [
    "adata.var.hist(column = 'total_counts', bins = 200, grid = False, figsize = (25,6), color = '#870052')"
   ]
  },
  {
   "cell_type": "code",
   "execution_count": 86,
   "metadata": {},
   "outputs": [
    {
     "name": "stdout",
     "output_type": "stream",
     "text": [
      "30% : 16712.100000000002\n",
      "0.1% : 55.70700000000001\n"
     ]
    }
   ],
   "source": [
    "thirty_percent = len(adata.obs_names) / 100 * 30\n",
    "point_one_percent = len(adata.obs_names) / 100 * 0.1\n",
    "print(\"30% : {}\".format(thirty_percent))\n",
    "print(\"0.1% : {}\".format(point_one_percent))"
   ]
  },
  {
   "cell_type": "code",
   "execution_count": 87,
   "metadata": {},
   "outputs": [
    {
     "data": {
      "text/plain": [
       "View of AnnData object with n_obs × n_vars = 55707 × 468017\n",
       "    obs: 'code', 'sample', 'multiome_GermCells', 'multiome_Somatic'\n",
       "    var: 'peak_width', 'exon', 'gene', 'promoter', 'annotation', 'gene_name', 'gene_id', 'tss_distance', 'ENCODE_blacklist', 'chromosome', 'n_cells_by_counts', 'mean_counts', 'log1p_mean_counts', 'pct_dropout_by_counts', 'total_counts', 'log1p_total_counts'\n",
       "    layers: 'binary_raw'"
      ]
     },
     "execution_count": 87,
     "metadata": {},
     "output_type": "execute_result"
    }
   ],
   "source": [
    "# Accessible in at least k cells\n",
    "adata = adata[:,adata.var.total_counts > point_one_percent]\n",
    "adata = adata[:,adata.var.total_counts < thirty_percent]\n",
    "adata"
   ]
  },
  {
   "cell_type": "code",
   "execution_count": 88,
   "metadata": {},
   "outputs": [
    {
     "data": {
      "text/plain": [
       "View of AnnData object with n_obs × n_vars = 55707 × 466223\n",
       "    obs: 'code', 'sample', 'multiome_GermCells', 'multiome_Somatic'\n",
       "    var: 'peak_width', 'exon', 'gene', 'promoter', 'annotation', 'gene_name', 'gene_id', 'tss_distance', 'ENCODE_blacklist', 'chromosome', 'n_cells_by_counts', 'mean_counts', 'log1p_mean_counts', 'pct_dropout_by_counts', 'total_counts', 'log1p_total_counts'\n",
       "    layers: 'binary_raw'"
      ]
     },
     "execution_count": 88,
     "metadata": {},
     "output_type": "execute_result"
    }
   ],
   "source": [
    "# Remove peaks in ENCODE blacklist\n",
    "adata = adata[:, adata.var.ENCODE_blacklist == 0]\n",
    "adata"
   ]
  },
  {
   "cell_type": "code",
   "execution_count": 89,
   "metadata": {},
   "outputs": [
    {
     "data": {
      "text/plain": [
       "View of AnnData object with n_obs × n_vars = 55707 × 414300\n",
       "    obs: 'code', 'sample', 'multiome_GermCells', 'multiome_Somatic'\n",
       "    var: 'peak_width', 'exon', 'gene', 'promoter', 'annotation', 'gene_name', 'gene_id', 'tss_distance', 'ENCODE_blacklist', 'chromosome', 'n_cells_by_counts', 'mean_counts', 'log1p_mean_counts', 'pct_dropout_by_counts', 'total_counts', 'log1p_total_counts'\n",
       "    layers: 'binary_raw'"
      ]
     },
     "execution_count": 89,
     "metadata": {},
     "output_type": "execute_result"
    }
   ],
   "source": [
    "# Filter by width (remove peaks at the lowest end, closest to min peak width in MACS2)\n",
    "\n",
    "adata = adata[:, adata.var.peak_width > 210]\n",
    "adata = adata[:, adata.var.peak_width < 1500]\n",
    "adata"
   ]
  },
  {
   "cell_type": "code",
   "execution_count": 90,
   "metadata": {},
   "outputs": [
    {
     "data": {
      "text/html": [
       "<div>\n",
       "<style scoped>\n",
       "    .dataframe tbody tr th:only-of-type {\n",
       "        vertical-align: middle;\n",
       "    }\n",
       "\n",
       "    .dataframe tbody tr th {\n",
       "        vertical-align: top;\n",
       "    }\n",
       "\n",
       "    .dataframe thead th {\n",
       "        text-align: right;\n",
       "    }\n",
       "</style>\n",
       "<table border=\"1\" class=\"dataframe\">\n",
       "  <thead>\n",
       "    <tr style=\"text-align: right;\">\n",
       "      <th></th>\n",
       "      <th>peak_width</th>\n",
       "      <th>exon</th>\n",
       "      <th>gene</th>\n",
       "      <th>promoter</th>\n",
       "      <th>annotation</th>\n",
       "      <th>gene_name</th>\n",
       "      <th>gene_id</th>\n",
       "      <th>tss_distance</th>\n",
       "      <th>ENCODE_blacklist</th>\n",
       "      <th>chromosome</th>\n",
       "      <th>n_cells_by_counts</th>\n",
       "      <th>mean_counts</th>\n",
       "      <th>log1p_mean_counts</th>\n",
       "      <th>pct_dropout_by_counts</th>\n",
       "      <th>total_counts</th>\n",
       "      <th>log1p_total_counts</th>\n",
       "    </tr>\n",
       "  </thead>\n",
       "  <tbody>\n",
       "    <tr>\n",
       "      <th>chr1:816748-817444</th>\n",
       "      <td>697</td>\n",
       "      <td>0</td>\n",
       "      <td>0</td>\n",
       "      <td>0</td>\n",
       "      <td>intergenic</td>\n",
       "      <td>NaN</td>\n",
       "      <td>NaN</td>\n",
       "      <td>106483</td>\n",
       "      <td>0</td>\n",
       "      <td>chr1</td>\n",
       "      <td>816</td>\n",
       "      <td>0.014648</td>\n",
       "      <td>0.014542</td>\n",
       "      <td>98.535193</td>\n",
       "      <td>816.0</td>\n",
       "      <td>6.705639</td>\n",
       "    </tr>\n",
       "    <tr>\n",
       "      <th>chr1:817739-818222</th>\n",
       "      <td>484</td>\n",
       "      <td>0</td>\n",
       "      <td>0</td>\n",
       "      <td>0</td>\n",
       "      <td>intergenic</td>\n",
       "      <td>NaN</td>\n",
       "      <td>NaN</td>\n",
       "      <td>105705</td>\n",
       "      <td>0</td>\n",
       "      <td>chr1</td>\n",
       "      <td>289</td>\n",
       "      <td>0.005188</td>\n",
       "      <td>0.005174</td>\n",
       "      <td>99.481214</td>\n",
       "      <td>289.0</td>\n",
       "      <td>5.669881</td>\n",
       "    </tr>\n",
       "    <tr>\n",
       "      <th>chr1:818798-819092</th>\n",
       "      <td>295</td>\n",
       "      <td>0</td>\n",
       "      <td>0</td>\n",
       "      <td>0</td>\n",
       "      <td>intergenic</td>\n",
       "      <td>NaN</td>\n",
       "      <td>NaN</td>\n",
       "      <td>104835</td>\n",
       "      <td>0</td>\n",
       "      <td>chr1</td>\n",
       "      <td>168</td>\n",
       "      <td>0.003016</td>\n",
       "      <td>0.003011</td>\n",
       "      <td>99.698422</td>\n",
       "      <td>168.0</td>\n",
       "      <td>5.129899</td>\n",
       "    </tr>\n",
       "    <tr>\n",
       "      <th>chr1:825790-826054</th>\n",
       "      <td>265</td>\n",
       "      <td>0</td>\n",
       "      <td>0</td>\n",
       "      <td>0</td>\n",
       "      <td>intergenic</td>\n",
       "      <td>NaN</td>\n",
       "      <td>NaN</td>\n",
       "      <td>97873</td>\n",
       "      <td>0</td>\n",
       "      <td>chr1</td>\n",
       "      <td>378</td>\n",
       "      <td>0.006786</td>\n",
       "      <td>0.006763</td>\n",
       "      <td>99.321450</td>\n",
       "      <td>378.0</td>\n",
       "      <td>5.937536</td>\n",
       "    </tr>\n",
       "    <tr>\n",
       "      <th>chr1:826607-827807</th>\n",
       "      <td>1201</td>\n",
       "      <td>0</td>\n",
       "      <td>0</td>\n",
       "      <td>0</td>\n",
       "      <td>intergenic</td>\n",
       "      <td>NaN</td>\n",
       "      <td>NaN</td>\n",
       "      <td>96120</td>\n",
       "      <td>0</td>\n",
       "      <td>chr1</td>\n",
       "      <td>7354</td>\n",
       "      <td>0.132012</td>\n",
       "      <td>0.123997</td>\n",
       "      <td>86.798787</td>\n",
       "      <td>7354.0</td>\n",
       "      <td>8.903135</td>\n",
       "    </tr>\n",
       "  </tbody>\n",
       "</table>\n",
       "</div>"
      ],
      "text/plain": [
       "                    peak_width  exon  gene  promoter  annotation gene_name  \\\n",
       "chr1:816748-817444         697     0     0         0  intergenic       NaN   \n",
       "chr1:817739-818222         484     0     0         0  intergenic       NaN   \n",
       "chr1:818798-819092         295     0     0         0  intergenic       NaN   \n",
       "chr1:825790-826054         265     0     0         0  intergenic       NaN   \n",
       "chr1:826607-827807        1201     0     0         0  intergenic       NaN   \n",
       "\n",
       "                   gene_id  tss_distance  ENCODE_blacklist chromosome  \\\n",
       "chr1:816748-817444     NaN        106483                 0       chr1   \n",
       "chr1:817739-818222     NaN        105705                 0       chr1   \n",
       "chr1:818798-819092     NaN        104835                 0       chr1   \n",
       "chr1:825790-826054     NaN         97873                 0       chr1   \n",
       "chr1:826607-827807     NaN         96120                 0       chr1   \n",
       "\n",
       "                    n_cells_by_counts  mean_counts  log1p_mean_counts  \\\n",
       "chr1:816748-817444                816     0.014648           0.014542   \n",
       "chr1:817739-818222                289     0.005188           0.005174   \n",
       "chr1:818798-819092                168     0.003016           0.003011   \n",
       "chr1:825790-826054                378     0.006786           0.006763   \n",
       "chr1:826607-827807               7354     0.132012           0.123997   \n",
       "\n",
       "                    pct_dropout_by_counts  total_counts  log1p_total_counts  \n",
       "chr1:816748-817444              98.535193         816.0            6.705639  \n",
       "chr1:817739-818222              99.481214         289.0            5.669881  \n",
       "chr1:818798-819092              99.698422         168.0            5.129899  \n",
       "chr1:825790-826054              99.321450         378.0            5.937536  \n",
       "chr1:826607-827807              86.798787        7354.0            8.903135  "
      ]
     },
     "execution_count": 90,
     "metadata": {},
     "output_type": "execute_result"
    }
   ],
   "source": [
    "adata.var.head()"
   ]
  },
  {
   "cell_type": "code",
   "execution_count": 91,
   "metadata": {},
   "outputs": [
    {
     "data": {
      "text/plain": [
       "intergenic    190264\n",
       "intron        168013\n",
       "exon           43128\n",
       "promoter       12895\n",
       "Name: annotation, dtype: int64"
      ]
     },
     "execution_count": 91,
     "metadata": {},
     "output_type": "execute_result"
    }
   ],
   "source": [
    "adata.var['annotation'].value_counts()"
   ]
  },
  {
   "cell_type": "code",
   "execution_count": 92,
   "metadata": {},
   "outputs": [
    {
     "data": {
      "text/html": [
       "<div>\n",
       "<style scoped>\n",
       "    .dataframe tbody tr th:only-of-type {\n",
       "        vertical-align: middle;\n",
       "    }\n",
       "\n",
       "    .dataframe tbody tr th {\n",
       "        vertical-align: top;\n",
       "    }\n",
       "\n",
       "    .dataframe thead th {\n",
       "        text-align: right;\n",
       "    }\n",
       "</style>\n",
       "<table border=\"1\" class=\"dataframe\">\n",
       "  <thead>\n",
       "    <tr style=\"text-align: right;\">\n",
       "      <th></th>\n",
       "      <th>code</th>\n",
       "      <th>sample</th>\n",
       "      <th>multiome_GermCells</th>\n",
       "      <th>multiome_Somatic</th>\n",
       "    </tr>\n",
       "  </thead>\n",
       "  <tbody>\n",
       "    <tr>\n",
       "      <th>03-AAACGAAAGCTGAGGT-1</th>\n",
       "      <td>03</td>\n",
       "      <td>FCA_GND8768481</td>\n",
       "      <td>NaN</td>\n",
       "      <td>NaN</td>\n",
       "    </tr>\n",
       "    <tr>\n",
       "      <th>03-AAACGAACAATCATCG-1</th>\n",
       "      <td>03</td>\n",
       "      <td>FCA_GND8768481</td>\n",
       "      <td>NaN</td>\n",
       "      <td>NaN</td>\n",
       "    </tr>\n",
       "    <tr>\n",
       "      <th>03-AAACGAACATGCACTA-1</th>\n",
       "      <td>03</td>\n",
       "      <td>FCA_GND8768481</td>\n",
       "      <td>NaN</td>\n",
       "      <td>NaN</td>\n",
       "    </tr>\n",
       "    <tr>\n",
       "      <th>03-AAACTCGTCACCCGGA-1</th>\n",
       "      <td>03</td>\n",
       "      <td>FCA_GND8768481</td>\n",
       "      <td>NaN</td>\n",
       "      <td>NaN</td>\n",
       "    </tr>\n",
       "    <tr>\n",
       "      <th>03-AAACTGCCAAGGGTAC-1</th>\n",
       "      <td>03</td>\n",
       "      <td>FCA_GND8768481</td>\n",
       "      <td>NaN</td>\n",
       "      <td>NaN</td>\n",
       "    </tr>\n",
       "  </tbody>\n",
       "</table>\n",
       "</div>"
      ],
      "text/plain": [
       "                      code          sample multiome_GermCells multiome_Somatic\n",
       "03-AAACGAAAGCTGAGGT-1   03  FCA_GND8768481                NaN              NaN\n",
       "03-AAACGAACAATCATCG-1   03  FCA_GND8768481                NaN              NaN\n",
       "03-AAACGAACATGCACTA-1   03  FCA_GND8768481                NaN              NaN\n",
       "03-AAACTCGTCACCCGGA-1   03  FCA_GND8768481                NaN              NaN\n",
       "03-AAACTGCCAAGGGTAC-1   03  FCA_GND8768481                NaN              NaN"
      ]
     },
     "execution_count": 92,
     "metadata": {},
     "output_type": "execute_result"
    }
   ],
   "source": [
    "adata.obs.head()"
   ]
  },
  {
   "cell_type": "code",
   "execution_count": 93,
   "metadata": {},
   "outputs": [
    {
     "data": {
      "text/plain": [
       "AnnData object with n_obs × n_vars = 55707 × 414300\n",
       "    obs: 'cellatac_clusters'\n",
       "    var: 'peak_width', 'exon', 'gene', 'promoter', 'annotation', 'gene_name', 'gene_id', 'tss_distance', 'ENCODE_blacklist', 'chromosome', 'n_cells_by_counts', 'mean_counts', 'log1p_mean_counts', 'pct_dropout_by_counts', 'total_counts', 'log1p_total_counts'\n",
       "    layers: 'binary_raw'"
      ]
     },
     "execution_count": 93,
     "metadata": {},
     "output_type": "execute_result"
    }
   ],
   "source": [
    "### Filter peaks that are not accessible in at least 5% of cells from a coarse cluster\n",
    "min_frac=0.05\n",
    "# Load cluster information from cellatac outputs\n",
    "clusters = pd.read_table(input[\"clusters\"], header = None, index_col = 0)\n",
    "clusters.columns = [\"cellatac_clusters\"]\n",
    "adata.obs = clusters.loc[adata.obs_names]\n",
    "adata"
   ]
  },
  {
   "cell_type": "code",
   "execution_count": 94,
   "metadata": {},
   "outputs": [
    {
     "data": {
      "text/html": [
       "<div>\n",
       "<style scoped>\n",
       "    .dataframe tbody tr th:only-of-type {\n",
       "        vertical-align: middle;\n",
       "    }\n",
       "\n",
       "    .dataframe tbody tr th {\n",
       "        vertical-align: top;\n",
       "    }\n",
       "\n",
       "    .dataframe thead th {\n",
       "        text-align: right;\n",
       "    }\n",
       "</style>\n",
       "<table border=\"1\" class=\"dataframe\">\n",
       "  <thead>\n",
       "    <tr style=\"text-align: right;\">\n",
       "      <th></th>\n",
       "      <th>cellatac_clusters</th>\n",
       "    </tr>\n",
       "  </thead>\n",
       "  <tbody>\n",
       "    <tr>\n",
       "      <th>03-AAACGAAAGCTGAGGT-1</th>\n",
       "      <td>18</td>\n",
       "    </tr>\n",
       "    <tr>\n",
       "      <th>03-AAACGAACAATCATCG-1</th>\n",
       "      <td>18</td>\n",
       "    </tr>\n",
       "    <tr>\n",
       "      <th>03-AAACGAACATGCACTA-1</th>\n",
       "      <td>3</td>\n",
       "    </tr>\n",
       "    <tr>\n",
       "      <th>03-AAACTCGTCACCCGGA-1</th>\n",
       "      <td>18</td>\n",
       "    </tr>\n",
       "    <tr>\n",
       "      <th>03-AAACTGCCAAGGGTAC-1</th>\n",
       "      <td>31</td>\n",
       "    </tr>\n",
       "  </tbody>\n",
       "</table>\n",
       "</div>"
      ],
      "text/plain": [
       "                       cellatac_clusters\n",
       "03-AAACGAAAGCTGAGGT-1                 18\n",
       "03-AAACGAACAATCATCG-1                 18\n",
       "03-AAACGAACATGCACTA-1                  3\n",
       "03-AAACTCGTCACCCGGA-1                 18\n",
       "03-AAACTGCCAAGGGTAC-1                 31"
      ]
     },
     "execution_count": 94,
     "metadata": {},
     "output_type": "execute_result"
    }
   ],
   "source": [
    "adata.obs.head()"
   ]
  },
  {
   "cell_type": "code",
   "execution_count": 95,
   "metadata": {},
   "outputs": [
    {
     "name": "stderr",
     "output_type": "stream",
     "text": [
      "/opt/conda/envs/atac_env/lib/python3.8/site-packages/IPython/core/interactiveshell.py:3427: SparseEfficiencyWarning: Comparing a sparse matrix with a nonzero scalar using != is inefficient, try using == instead.\n",
      "  exec(code_obj, self.user_global_ns, self.user_ns)\n",
      "/opt/conda/envs/atac_env/lib/python3.8/site-packages/scipy/sparse/_index.py:125: SparseEfficiencyWarning: Changing the sparsity structure of a csr_matrix is expensive. lil_matrix is more efficient.\n",
      "  self._set_arrayXarray(i, j, x)\n"
     ]
    }
   ],
   "source": [
    "n_clusters = len(np.unique(adata.obs[[\"cellatac_clusters\"]]))\n",
    "clus_mat = np.empty([adata.n_obs, n_clusters])\n",
    "for cl in np.unique(adata.obs[[\"cellatac_clusters\"]]):\n",
    "    clus_mat[np.where(adata.obs['cellatac_clusters']==cl)[0],cl] = 1\n",
    "\n",
    "clus_mat = scipy.sparse.csr_matrix(clus_mat)\n",
    "clus_mat[clus_mat != 1 ] = 0"
   ]
  },
  {
   "cell_type": "code",
   "execution_count": 96,
   "metadata": {},
   "outputs": [],
   "source": [
    "cl_peak_mat = np.dot(clus_mat.T, adata.layers[\"binary_raw\"])"
   ]
  },
  {
   "cell_type": "code",
   "execution_count": 97,
   "metadata": {},
   "outputs": [],
   "source": [
    "cl_peak_frac = cl_peak_mat/clus_mat.sum(0).T"
   ]
  },
  {
   "cell_type": "code",
   "execution_count": 98,
   "metadata": {},
   "outputs": [
    {
     "data": {
      "text/plain": [
       "(1, 414300)"
      ]
     },
     "execution_count": 98,
     "metadata": {},
     "output_type": "execute_result"
    }
   ],
   "source": [
    "cl_peak_frac.max(0).shape"
   ]
  },
  {
   "cell_type": "code",
   "execution_count": 99,
   "metadata": {},
   "outputs": [
    {
     "data": {
      "text/plain": [
       "(1, 414300)"
      ]
     },
     "execution_count": 99,
     "metadata": {},
     "output_type": "execute_result"
    }
   ],
   "source": [
    "bool_matrix = cl_peak_frac.max(0) > min_frac\n",
    "bool_matrix.shape"
   ]
  },
  {
   "cell_type": "code",
   "execution_count": 100,
   "metadata": {},
   "outputs": [
    {
     "data": {
      "text/plain": [
       "(414300,)"
      ]
     },
     "execution_count": 100,
     "metadata": {},
     "output_type": "execute_result"
    }
   ],
   "source": [
    "bool_vector = np.squeeze(np.asarray(bool_matrix))\n",
    "bool_vector.shape"
   ]
  },
  {
   "cell_type": "code",
   "execution_count": 101,
   "metadata": {},
   "outputs": [],
   "source": [
    "adata = adata[:, bool_vector]"
   ]
  },
  {
   "cell_type": "code",
   "execution_count": 102,
   "metadata": {},
   "outputs": [
    {
     "data": {
      "text/plain": [
       "View of AnnData object with n_obs × n_vars = 55707 × 184906\n",
       "    obs: 'cellatac_clusters'\n",
       "    var: 'peak_width', 'exon', 'gene', 'promoter', 'annotation', 'gene_name', 'gene_id', 'tss_distance', 'ENCODE_blacklist', 'chromosome', 'n_cells_by_counts', 'mean_counts', 'log1p_mean_counts', 'pct_dropout_by_counts', 'total_counts', 'log1p_total_counts'\n",
       "    layers: 'binary_raw'"
      ]
     },
     "execution_count": 102,
     "metadata": {},
     "output_type": "execute_result"
    }
   ],
   "source": [
    "adata"
   ]
  },
  {
   "cell_type": "code",
   "execution_count": 103,
   "metadata": {},
   "outputs": [
    {
     "name": "stderr",
     "output_type": "stream",
     "text": [
      "Trying to set attribute `.obs` of view, copying.\n"
     ]
    }
   ],
   "source": [
    "sc.pp.calculate_qc_metrics(adata, layer = \"binary_raw\", inplace = True)"
   ]
  },
  {
   "cell_type": "code",
   "execution_count": 104,
   "metadata": {},
   "outputs": [
    {
     "data": {
      "text/plain": [
       "array([[<AxesSubplot:title={'center':'log1p_total_counts'}>]],\n",
       "      dtype=object)"
      ]
     },
     "execution_count": 104,
     "metadata": {},
     "output_type": "execute_result"
    },
    {
     "data": {
      "image/png": "[encoded data removed]",
      "text/plain": [
       "<Figure size 1800x432 with 1 Axes>"
      ]
     },
     "metadata": {
      "needs_background": "light"
     },
     "output_type": "display_data"
    }
   ],
   "source": [
    "adata.var.hist(column = 'log1p_total_counts', bins = 200, grid = False, figsize = (25,6), color = '#870052')"
   ]
  },
  {
   "cell_type": "code",
   "execution_count": 105,
   "metadata": {},
   "outputs": [
    {
     "data": {
      "text/plain": [
       "array([[<AxesSubplot:title={'center':'log1p_total_counts'}>]],\n",
       "      dtype=object)"
      ]
     },
     "execution_count": 105,
     "metadata": {},
     "output_type": "execute_result"
    },
    {
     "data": {
      "image/png": "[encoded data removed]",
      "text/plain": [
       "<Figure size 1800x432 with 1 Axes>"
      ]
     },
     "metadata": {
      "needs_background": "light"
     },
     "output_type": "display_data"
    }
   ],
   "source": [
    "adata.obs.hist(column = 'log1p_total_counts', bins = 200, grid = False, figsize = (25,6), color = '#870052')"
   ]
  },
  {
   "cell_type": "code",
   "execution_count": 106,
   "metadata": {},
   "outputs": [],
   "source": [
    "adata.obs['multiome_GermCells'] = adata.obs_names.map(pd.Series(germcells.celltype.values,index=germcells.ATAC_barcode).to_dict())\n",
    "adata.obs['multiome_Somatic'] = adata.obs_names.map(pd.Series(supporting.celltype.values,index=supporting.ATAC_barcode).to_dict())"
   ]
  },
  {
   "cell_type": "code",
   "execution_count": 107,
   "metadata": {},
   "outputs": [
    {
     "data": {
      "text/html": [
       "<div>\n",
       "<style scoped>\n",
       "    .dataframe tbody tr th:only-of-type {\n",
       "        vertical-align: middle;\n",
       "    }\n",
       "\n",
       "    .dataframe tbody tr th {\n",
       "        vertical-align: top;\n",
       "    }\n",
       "\n",
       "    .dataframe thead th {\n",
       "        text-align: right;\n",
       "    }\n",
       "</style>\n",
       "<table border=\"1\" class=\"dataframe\">\n",
       "  <thead>\n",
       "    <tr style=\"text-align: right;\">\n",
       "      <th></th>\n",
       "      <th>multiome_GermCells</th>\n",
       "      <th>log1p_total_counts</th>\n",
       "    </tr>\n",
       "  </thead>\n",
       "  <tbody>\n",
       "    <tr>\n",
       "      <th>0</th>\n",
       "      <td>Doublet</td>\n",
       "      <td>9.454344</td>\n",
       "    </tr>\n",
       "    <tr>\n",
       "      <th>1</th>\n",
       "      <td>GC</td>\n",
       "      <td>6.839671</td>\n",
       "    </tr>\n",
       "    <tr>\n",
       "      <th>2</th>\n",
       "      <td>PGC</td>\n",
       "      <td>6.697628</td>\n",
       "    </tr>\n",
       "    <tr>\n",
       "      <th>3</th>\n",
       "      <td>PGC_mitotic</td>\n",
       "      <td>6.855468</td>\n",
       "    </tr>\n",
       "    <tr>\n",
       "      <th>4</th>\n",
       "      <td>preSpermatogonia</td>\n",
       "      <td>6.947725</td>\n",
       "    </tr>\n",
       "  </tbody>\n",
       "</table>\n",
       "</div>"
      ],
      "text/plain": [
       "  multiome_GermCells  log1p_total_counts\n",
       "0            Doublet            9.454344\n",
       "1                 GC            6.839671\n",
       "2                PGC            6.697628\n",
       "3        PGC_mitotic            6.855468\n",
       "4   preSpermatogonia            6.947725"
      ]
     },
     "execution_count": 107,
     "metadata": {},
     "output_type": "execute_result"
    }
   ],
   "source": [
    "adata.obs.groupby('multiome_GermCells', as_index=False)['log1p_total_counts'].mean()"
   ]
  },
  {
   "cell_type": "code",
   "execution_count": 108,
   "metadata": {},
   "outputs": [
    {
     "data": {
      "text/plain": [
       "PGC                 239\n",
       "preSpermatogonia    221\n",
       "PGC_mitotic         152\n",
       "GC                  105\n",
       "Doublet              22\n",
       "Name: multiome_GermCells, dtype: int64"
      ]
     },
     "execution_count": 108,
     "metadata": {},
     "output_type": "execute_result"
    }
   ],
   "source": [
    "adata.obs['multiome_GermCells'].value_counts()"
   ]
  },
  {
   "cell_type": "code",
   "execution_count": 109,
   "metadata": {},
   "outputs": [
    {
     "data": {
      "text/html": [
       "<div>\n",
       "<style scoped>\n",
       "    .dataframe tbody tr th:only-of-type {\n",
       "        vertical-align: middle;\n",
       "    }\n",
       "\n",
       "    .dataframe tbody tr th {\n",
       "        vertical-align: top;\n",
       "    }\n",
       "\n",
       "    .dataframe thead th {\n",
       "        text-align: right;\n",
       "    }\n",
       "</style>\n",
       "<table border=\"1\" class=\"dataframe\">\n",
       "  <thead>\n",
       "    <tr style=\"text-align: right;\">\n",
       "      <th></th>\n",
       "      <th>multiome_Somatic</th>\n",
       "      <th>log1p_total_counts</th>\n",
       "    </tr>\n",
       "  </thead>\n",
       "  <tbody>\n",
       "    <tr>\n",
       "      <th>0</th>\n",
       "      <td>CoelEpi_LHX9</td>\n",
       "      <td>6.867040</td>\n",
       "    </tr>\n",
       "    <tr>\n",
       "      <th>1</th>\n",
       "      <td>Doublet</td>\n",
       "      <td>6.347393</td>\n",
       "    </tr>\n",
       "    <tr>\n",
       "      <th>2</th>\n",
       "      <td>FetalLeydig</td>\n",
       "      <td>7.575802</td>\n",
       "    </tr>\n",
       "    <tr>\n",
       "      <th>3</th>\n",
       "      <td>Mesenchymal_LHX9</td>\n",
       "      <td>7.195584</td>\n",
       "    </tr>\n",
       "    <tr>\n",
       "      <th>4</th>\n",
       "      <td>Sertoli</td>\n",
       "      <td>7.452519</td>\n",
       "    </tr>\n",
       "    <tr>\n",
       "      <th>5</th>\n",
       "      <td>early_sPAX8</td>\n",
       "      <td>6.962538</td>\n",
       "    </tr>\n",
       "  </tbody>\n",
       "</table>\n",
       "</div>"
      ],
      "text/plain": [
       "   multiome_Somatic  log1p_total_counts\n",
       "0      CoelEpi_LHX9            6.867040\n",
       "1           Doublet            6.347393\n",
       "2       FetalLeydig            7.575802\n",
       "3  Mesenchymal_LHX9            7.195584\n",
       "4           Sertoli            7.452519\n",
       "5       early_sPAX8            6.962538"
      ]
     },
     "execution_count": 109,
     "metadata": {},
     "output_type": "execute_result"
    }
   ],
   "source": [
    "adata.obs.groupby('multiome_Somatic', as_index=False)['log1p_total_counts'].mean()"
   ]
  },
  {
   "cell_type": "code",
   "execution_count": 111,
   "metadata": {},
   "outputs": [
    {
     "data": {
      "text/plain": [
       "Sertoli             6304\n",
       "Mesenchymal_LHX9    2141\n",
       "FetalLeydig         1235\n",
       "early_sPAX8          601\n",
       "Doublet              484\n",
       "CoelEpi_LHX9         348\n",
       "Name: multiome_Somatic, dtype: int64"
      ]
     },
     "execution_count": 111,
     "metadata": {},
     "output_type": "execute_result"
    }
   ],
   "source": [
    "adata.obs['multiome_Somatic'].value_counts()"
   ]
  },
  {
   "cell_type": "code",
   "execution_count": 115,
   "metadata": {},
   "outputs": [
    {
     "data": {
      "text/plain": [
       "View of AnnData object with n_obs × n_vars = 54542 × 184906\n",
       "    obs: 'cellatac_clusters', 'n_genes_by_counts', 'log1p_n_genes_by_counts', 'total_counts', 'log1p_total_counts', 'pct_counts_in_top_50_genes', 'pct_counts_in_top_100_genes', 'pct_counts_in_top_200_genes', 'pct_counts_in_top_500_genes', 'multiome_GermCells', 'multiome_Somatic'\n",
       "    var: 'peak_width', 'exon', 'gene', 'promoter', 'annotation', 'gene_name', 'gene_id', 'tss_distance', 'ENCODE_blacklist', 'chromosome', 'n_cells_by_counts', 'mean_counts', 'log1p_mean_counts', 'pct_dropout_by_counts', 'total_counts', 'log1p_total_counts'\n",
       "    layers: 'binary_raw'"
      ]
     },
     "execution_count": 115,
     "metadata": {},
     "output_type": "execute_result"
    }
   ],
   "source": [
    "bdata = adata[adata.obs.log1p_total_counts >= 5]\n",
    "bdata"
   ]
  },
  {
   "cell_type": "code",
   "execution_count": 116,
   "metadata": {},
   "outputs": [
    {
     "data": {
      "text/plain": [
       "Sertoli             5922\n",
       "Mesenchymal_LHX9    2017\n",
       "FetalLeydig         1155\n",
       "early_sPAX8          558\n",
       "Doublet              413\n",
       "CoelEpi_LHX9         310\n",
       "Name: multiome_Somatic, dtype: int64"
      ]
     },
     "execution_count": 116,
     "metadata": {},
     "output_type": "execute_result"
    }
   ],
   "source": [
    "bdata.obs['multiome_Somatic'].value_counts()"
   ]
  },
  {
   "cell_type": "code",
   "execution_count": 117,
   "metadata": {},
   "outputs": [
    {
     "data": {
      "text/plain": [
       "PGC                 219\n",
       "preSpermatogonia    201\n",
       "PGC_mitotic         142\n",
       "GC                   97\n",
       "Doublet              22\n",
       "Name: multiome_GermCells, dtype: int64"
      ]
     },
     "execution_count": 117,
     "metadata": {},
     "output_type": "execute_result"
    }
   ],
   "source": [
    "bdata.obs['multiome_GermCells'].value_counts()"
   ]
  },
  {
   "cell_type": "code",
   "execution_count": 118,
   "metadata": {},
   "outputs": [
    {
     "name": "stderr",
     "output_type": "stream",
     "text": [
      "/opt/conda/envs/atac_env/lib/python3.8/site-packages/anndata/_core/anndata.py:1207: ImplicitModificationWarning: Initializing view as actual.\n",
      "  warnings.warn(\n",
      "Trying to set attribute `.obs` of view, copying.\n",
      "... storing 'multiome_GermCells' as categorical\n",
      "Trying to set attribute `.obs` of view, copying.\n",
      "... storing 'multiome_Somatic' as categorical\n",
      "Trying to set attribute `.var` of view, copying.\n",
      "... storing 'annotation' as categorical\n",
      "Trying to set attribute `.var` of view, copying.\n",
      "... storing 'gene_name' as categorical\n",
      "Trying to set attribute `.var` of view, copying.\n",
      "... storing 'gene_id' as categorical\n",
      "Trying to set attribute `.var` of view, copying.\n",
      "... storing 'chromosome' as categorical\n"
     ]
    }
   ],
   "source": [
    "## Write output anndata\n",
    "bdata.write_h5ad(output[\"h5ad\"])"
   ]
  },
  {
   "cell_type": "markdown",
   "metadata": {},
   "source": [
    "#### End of notebook"
   ]
  },
  {
   "cell_type": "code",
   "execution_count": null,
   "metadata": {},
   "outputs": [],
   "source": []
  }
 ],
 "metadata": {
  "kernelspec": {
   "display_name": "atac_env",
   "language": "python",
   "name": "atac_env"
  },
  "language_info": {
   "codemirror_mode": {
    "name": "ipython",
    "version": 3
   },
   "file_extension": ".py",
   "mimetype": "text/x-python",
   "name": "python",
   "nbconvert_exporter": "python",
   "pygments_lexer": "ipython3",
   "version": "3.8.6"
  }
 },
 "nbformat": 4,
 "nbformat_minor": 4
}
