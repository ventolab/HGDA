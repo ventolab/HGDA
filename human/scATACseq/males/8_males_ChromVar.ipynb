{
 "cells": [
  {
   "cell_type": "markdown",
   "metadata": {},
   "source": [
    "## ATAC + MULTIOME MALES (september 2021)"
   ]
  },
  {
   "cell_type": "markdown",
   "metadata": {},
   "source": [
    "### Convert to Seurat objects for CICERO"
   ]
  },
  {
   "cell_type": "code",
   "execution_count": 1,
   "metadata": {},
   "outputs": [],
   "source": [
    "import numpy as np\n",
    "import scanpy as sc \n",
    "import pandas as pd\n",
    "import anndata\n"
   ]
  },
  {
   "cell_type": "code",
   "execution_count": 2,
   "metadata": {},
   "outputs": [],
   "source": [
    "import rpy2.rinterface_lib.callbacks\n",
    "import logging"
   ]
  },
  {
   "cell_type": "code",
   "execution_count": 3,
   "metadata": {},
   "outputs": [],
   "source": [
    "# Ignore R warning messages\n",
    "#Note: this can be commented out to get more verbose R output\n",
    "rpy2.rinterface_lib.callbacks.logger.setLevel(logging.ERROR)"
   ]
  },
  {
   "cell_type": "code",
   "execution_count": 4,
   "metadata": {},
   "outputs": [
    {
     "name": "stderr",
     "output_type": "stream",
     "text": [
      "WARNING: If you miss a compact list, please try `print_header`!\n"
     ]
    },
    {
     "name": "stdout",
     "output_type": "stream",
     "text": [
      "-----\n",
      "anndata     0.7.5\n",
      "scanpy      1.7.0\n",
      "sinfo       0.3.1\n",
      "-----\n",
      "PIL                 8.1.0\n",
      "anndata             0.7.5\n",
      "anndata2ri          1.0.6\n",
      "backcall            0.2.0\n",
      "cairo               1.20.0\n",
      "cffi                1.14.4\n",
      "constants           NA\n",
      "cycler              0.10.0\n",
      "cython_runtime      NA\n",
      "dateutil            2.8.1\n",
      "decorator           4.4.2\n",
      "get_version         2.1\n",
      "h5py                3.1.0\n",
      "highs_wrapper       NA\n",
      "igraph              0.8.3\n",
      "ipykernel           5.4.3\n",
      "ipython_genutils    0.2.0\n",
      "jedi                0.18.0\n",
      "jinja2              2.11.3\n",
      "joblib              1.0.0\n",
      "kiwisolver          1.3.1\n",
      "legacy_api_wrap     1.2\n",
      "leidenalg           0.8.3\n",
      "llvmlite            0.35.0\n",
      "markupsafe          1.1.1\n",
      "matplotlib          3.3.4\n",
      "mpl_toolkits        NA\n",
      "natsort             7.1.1\n",
      "numba               0.52.0\n",
      "numexpr             2.7.2\n",
      "numpy               1.21.2\n",
      "packaging           20.9\n",
      "pandas              1.2.1\n",
      "parso               0.8.1\n",
      "pexpect             4.8.0\n",
      "pickleshare         0.7.5\n",
      "pkg_resources       NA\n",
      "prompt_toolkit      3.0.14\n",
      "ptyprocess          0.7.0\n",
      "pygments            2.7.4\n",
      "pyparsing           2.4.7\n",
      "pytz                2021.1\n",
      "rpy2                3.4.2\n",
      "scanpy              1.7.0\n",
      "scipy               1.6.0\n",
      "setuptools_scm      NA\n",
      "sinfo               0.3.1\n",
      "six                 1.15.0\n",
      "sklearn             0.24.1\n",
      "storemagic          NA\n",
      "tables              3.6.1\n",
      "texttable           1.6.3\n",
      "tornado             6.1\n",
      "traitlets           5.0.5\n",
      "tzlocal             NA\n",
      "wcwidth             0.2.5\n",
      "zmq                 22.0.2\n",
      "-----\n",
      "IPython             7.20.0\n",
      "jupyter_client      6.1.11\n",
      "jupyter_core        4.7.1\n",
      "-----\n",
      "Python 3.8.6 | packaged by conda-forge | (default, Jan 25 2021, 23:21:18) [GCC 9.3.0]\n",
      "Linux-4.15.0-158-generic-x86_64-with-glibc2.10\n",
      "60 logical CPU cores, x86_64\n",
      "-----\n",
      "Session information updated at 2021-10-09 18:03\n",
      "\n"
     ]
    }
   ],
   "source": [
    "import anndata2ri\n",
    "anndata2ri.activate()\n",
    "sc.logging.print_versions()"
   ]
  },
  {
   "cell_type": "code",
   "execution_count": 5,
   "metadata": {},
   "outputs": [
    {
     "name": "stdout",
     "output_type": "stream",
     "text": [
      "1.0.6\n",
      "0.7.5\n"
     ]
    }
   ],
   "source": [
    "print(anndata2ri.__version__)\n",
    "print(anndata.__version__)"
   ]
  },
  {
   "cell_type": "code",
   "execution_count": 6,
   "metadata": {},
   "outputs": [],
   "source": [
    "%load_ext rpy2.ipython"
   ]
  },
  {
   "cell_type": "code",
   "execution_count": 7,
   "metadata": {},
   "outputs": [],
   "source": [
    "%%R\n",
    "\n",
    "library(Signac)\n",
    "library(Seurat)\n",
    "library(SeuratDisk)\n",
    "library(GenomeInfoDb)\n",
    "library(EnsDb.Hsapiens.v86)\n",
    "library(BSgenome.Hsapiens.UCSC.hg38)\n",
    "library(ensembldb)\n",
    "library(JASPAR2018)\n",
    "library(TFBSTools)\n",
    "library(patchwork)\n",
    "library(universalmotif)\n",
    "library(MotifDb)\n",
    "library(TFBSTools)\n",
    "library(patchwork)\n",
    "library(chromVAR)\n",
    "library(motifmatchr)"
   ]
  },
  {
   "cell_type": "markdown",
   "metadata": {},
   "source": [
    "For future reference most packages were installed here: */tmp/RtmpGjkK1o/downloaded_packages/*"
   ]
  },
  {
   "cell_type": "markdown",
   "metadata": {},
   "source": [
    "**Set directories**"
   ]
  },
  {
   "cell_type": "code",
   "execution_count": 8,
   "metadata": {},
   "outputs": [],
   "source": [
    "# Define variables\n",
    "outdir = \"/nfs/team292/vl6/my_MULTIOME_dir/males_sept2021/\"\n",
    "experiment_prefix = 'males_'"
   ]
  },
  {
   "cell_type": "markdown",
   "metadata": {},
   "source": [
    "#### Convert the h5ad created with cisTopic into a Seurat object with peaks assay"
   ]
  },
  {
   "cell_type": "code",
   "execution_count": 9,
   "metadata": {},
   "outputs": [
    {
     "data": {
      "text/plain": [
       "AnnData object with n_obs × n_vars = 52285 × 184906\n",
       "    obs: 'cellatac_clusters', 'n_genes_by_counts', 'log1p_n_genes_by_counts', 'total_counts', 'log1p_total_counts', 'pct_counts_in_top_50_genes', 'pct_counts_in_top_100_genes', 'pct_counts_in_top_200_genes', 'pct_counts_in_top_500_genes', 'multiome_GermCells', 'multiome_Somatic', 'code', 'sample', 'sex', 'stage', 'individual', 'doublet_score', 'doublet_score_0.75', 'Immune', 'Erythroid', 'GermCells', 'Mesenchymal_LHX9', 'FetalLeydig', 'Epithelial', 'Sertoli', 'PV', 'Mesenchymal_GATA2', 'Endothelial', 'CoelEpi', 'Supporting', 'Neural', 'max', 'leiden', 'cell_type', 'matching_barcode', 'somatic_annotation'\n",
       "    var: 'peak_width', 'exon', 'gene', 'promoter', 'annotation', 'gene_name', 'gene_id', 'tss_distance', 'ENCODE_blacklist', 'chromosome', 'n_cells_by_counts', 'mean_counts', 'log1p_mean_counts', 'pct_dropout_by_counts', 'total_counts', 'log1p_total_counts'\n",
       "    uns: 'cell_type_colors', 'cellatac_clusters_colors', 'individual_colors', 'leiden', 'leiden_colors', 'lineage_colors', 'multiome_GermCells_colors', 'multiome_Somatic_colors', 'neighbors', 'sample_colors', 'sex_colors', 'somatic_annotation_colors', 'somatic_colors', 'stage_colors', 'umap'\n",
       "    obsm: 'X_cistopic_38', 'X_harmony', 'X_umap'\n",
       "    varm: 'peak2gene'\n",
       "    layers: 'binary_raw'\n",
       "    obsp: 'connectivities', 'distances'"
      ]
     },
     "execution_count": 9,
     "metadata": {},
     "output_type": "execute_result"
    }
   ],
   "source": [
    "ATAC_scanpy = sc.read_h5ad(outdir + experiment_prefix + \"_ATAC.wCisTopic_harmony.h5ad\")\n",
    "ATAC_scanpy"
   ]
  },
  {
   "cell_type": "code",
   "execution_count": 10,
   "metadata": {},
   "outputs": [
    {
     "data": {
      "text/plain": [
       "<52285x184906 sparse matrix of type '<class 'numpy.float32'>'\n",
       "\twith 228027573 stored elements in Compressed Sparse Row format>"
      ]
     },
     "execution_count": 10,
     "metadata": {},
     "output_type": "execute_result"
    }
   ],
   "source": [
    "ATAC_scanpy.X"
   ]
  },
  {
   "cell_type": "code",
   "execution_count": 11,
   "metadata": {},
   "outputs": [
    {
     "data": {
      "text/plain": [
       "<52285x184906 sparse matrix of type '<class 'numpy.float32'>'\n",
       "\twith 228027573 stored elements in Compressed Sparse Row format>"
      ]
     },
     "execution_count": 11,
     "metadata": {},
     "output_type": "execute_result"
    }
   ],
   "source": [
    "binary_raw = ATAC_scanpy.layers['binary_raw']\n",
    "binary_raw"
   ]
  },
  {
   "cell_type": "code",
   "execution_count": 12,
   "metadata": {},
   "outputs": [
    {
     "data": {
      "text/plain": [
       "(52285, 184906)"
      ]
     },
     "execution_count": 12,
     "metadata": {},
     "output_type": "execute_result"
    }
   ],
   "source": [
    "binary_raw.shape"
   ]
  },
  {
   "cell_type": "markdown",
   "metadata": {},
   "source": [
    "Step 1: from sparse matrix (python format) to dgcMatrix (R format)\n",
    "\n",
    "I found this function here: <https://github.com/theislab/anndata2ri/issues/8>"
   ]
  },
  {
   "cell_type": "code",
   "execution_count": 13,
   "metadata": {},
   "outputs": [],
   "source": [
    "import numpy as np\n",
    "from scipy import sparse\n",
    "\n",
    "import rpy2.robjects as ro\n",
    "from rpy2.robjects import pandas2ri, numpy2ri\n",
    "from rpy2.robjects.conversion import localconverter\n",
    "\n",
    "ro.r(\"library(Matrix)\")\n",
    "\n",
    "def csr_to_dgc(csr):\n",
    "    \"\"\"Convert (and transpose) a csr matrix from python to a R dgCMatrix (not sure if type is consistent)\n",
    "    \"\"\"\n",
    "    numeric = ro.r(\"as.numeric\")\n",
    "    with localconverter(ro.default_converter + ro.numpy2ri.converter):\n",
    "        X = ro.r(\"sparseMatrix\")(\n",
    "            i=numeric(csr.indices),\n",
    "            p=numeric(csr.indptr),\n",
    "            x=numeric(csr.data),\n",
    "            dims=list(csr.shape[::-1]),\n",
    "            index1=False\n",
    "        )\n",
    "    return X"
   ]
  },
  {
   "cell_type": "code",
   "execution_count": 14,
   "metadata": {},
   "outputs": [
    {
     "data": {
      "text/plain": [
       "<rpy2.robjects.methods.RS4 object at 0x7f4321bd9900> [RTYPES.S4SXP]\n",
       "R classes: ('dgCMatrix',)"
      ]
     },
     "execution_count": 14,
     "metadata": {},
     "output_type": "execute_result"
    }
   ],
   "source": [
    "ATAC_R = csr_to_dgc(binary_raw)\n",
    "ATAC_R"
   ]
  },
  {
   "cell_type": "code",
   "execution_count": 15,
   "metadata": {},
   "outputs": [
    {
     "name": "stdout",
     "output_type": "stream",
     "text": [
      "[1] 184906  52285\n"
     ]
    }
   ],
   "source": [
    "%%R -i ATAC_R -o ATAC_dgT\n",
    "\n",
    "ATAC_dgT <- as(ATAC_R, \"dgTMatrix\")\n",
    "print(dim(ATAC_dgT)) # Check the shape of the matrix "
   ]
  },
  {
   "cell_type": "markdown",
   "metadata": {},
   "source": [
    "Step 2: save metadata per cell and per peak and add colnames and rownames to the peak matrix"
   ]
  },
  {
   "cell_type": "code",
   "execution_count": 16,
   "metadata": {},
   "outputs": [],
   "source": [
    "metadata_cell = ATAC_scanpy.obs\n",
    "metadata_peak = ATAC_scanpy.var\n",
    "layers = ATAC_scanpy.layers\n",
    "reduction_cistopic = ATAC_scanpy.obsm['X_cistopic_38']\n",
    "reduction_umap = ATAC_scanpy.obsm['X_umap']\n",
    "reduction_harmony = ATAC_scanpy.obsm['X_harmony']"
   ]
  },
  {
   "cell_type": "code",
   "execution_count": 17,
   "metadata": {},
   "outputs": [],
   "source": [
    "del ATAC_scanpy.obs['cellatac_clusters']"
   ]
  },
  {
   "cell_type": "code",
   "execution_count": 18,
   "metadata": {},
   "outputs": [],
   "source": [
    "%%R -i ATAC_dgT -i metadata_cell -i metadata_peak \n",
    "\n",
    "rownames(ATAC_dgT) <- rownames(metadata_peak) # Add rownames to peak matrix\n",
    "colnames(ATAC_dgT) <- rownames(metadata_cell) # Add colnames to peak matrix "
   ]
  },
  {
   "cell_type": "code",
   "execution_count": 19,
   "metadata": {},
   "outputs": [
    {
     "name": "stdout",
     "output_type": "stream",
     "text": [
      "[1] \"chr1:816748-817444\" \"chr1:826607-827807\" \"chr1:842637-843180\"\n",
      "[4] \"chr1:858058-859045\" \"chr1:868834-869154\" \"chr1:869371-870234\"\n",
      "[1] \"03-AAACGAAAGCTGAGGT-1\" \"03-AAACGAACAATCATCG-1\" \"03-AAACGAACATGCACTA-1\"\n",
      "[4] \"03-AAACTCGTCACCCGGA-1\" \"03-AAACTGCCAAGGGTAC-1\" \"03-AAACTGCGTGAATGTA-1\"\n",
      "NULL\n"
     ]
    }
   ],
   "source": [
    "%%R \n",
    "print(head(rownames(ATAC_dgT)))\n",
    "print(head(colnames(ATAC_dgT)))\n",
    "print(names(ATAC_dgT))"
   ]
  },
  {
   "cell_type": "markdown",
   "metadata": {},
   "source": [
    "Step 3: build ChromatinAssay with peaks x cells matrix "
   ]
  },
  {
   "cell_type": "code",
   "execution_count": 20,
   "metadata": {},
   "outputs": [
    {
     "name": "stdout",
     "output_type": "stream",
     "text": [
      "ChromatinAssay data with 184906 features for 52285 cells\n",
      "Variable features: 0 \n",
      "Genome: hg38 \n",
      "Annotation present: FALSE \n",
      "Motifs present: FALSE \n",
      "Fragment files: 0 \n"
     ]
    }
   ],
   "source": [
    "%%R -o chrom_assay \n",
    "\n",
    " chrom_assay <- CreateChromatinAssay(\n",
    "    counts = ATAC_dgT,\n",
    "    sep = c(\":\", \"-\"),\n",
    "    genome = \"hg38\",\n",
    "    ranges = NULL,\n",
    " )\n",
    "chrom_assay"
   ]
  },
  {
   "cell_type": "markdown",
   "metadata": {},
   "source": [
    "Step 4: build Seurat object from chromatin assay "
   ]
  },
  {
   "cell_type": "code",
   "execution_count": 21,
   "metadata": {},
   "outputs": [
    {
     "name": "stdout",
     "output_type": "stream",
     "text": [
      "An object of class Seurat \n",
      "184906 features across 52285 samples within 1 assay \n",
      "Active assay: peaks (184906 features, 0 variable features)\n"
     ]
    }
   ],
   "source": [
    "%%R -o ATAC_Seurat -i metadata_cell\n",
    "\n",
    "ATAC_Seurat <- CreateSeuratObject(\n",
    "    counts = chrom_assay,\n",
    "    assay = \"peaks\",\n",
    "    meta.data = metadata_cell,\n",
    "  )\n",
    "ATAC_Seurat"
   ]
  },
  {
   "cell_type": "code",
   "execution_count": 22,
   "metadata": {},
   "outputs": [
    {
     "name": "stdout",
     "output_type": "stream",
     "text": [
      "\n",
      " Hrv3 Hrv10 Hrv15 Hrv17 Hrv18 Hrv21 Hrv40 Hrv41 Hrv54 Hrv55 \n",
      " 6558  2847  3511  7486  4553  5375  5289  5784  5214  5668 \n",
      "\n",
      "        GermCells           CoelEpi        Supporting           Sertoli \n",
      "             1403               470              1686             17020 \n",
      " Mesenchymal_LHX9       FetalLeydig Mesenchymal_GATA2                PV \n",
      "            10214              2506             11195               511 \n",
      "           Immune       Endothelial        Epithelial         Erythroid \n",
      "             1226              1388              1124               638 \n",
      "           Neural \n",
      "             2904 \n"
     ]
    }
   ],
   "source": [
    "%%R \n",
    "print(table(ATAC_Seurat@meta.data$individual))\n",
    "print(table(ATAC_Seurat@meta.data$cell_type))"
   ]
  },
  {
   "cell_type": "markdown",
   "metadata": {},
   "source": [
    "Step 5: Add dimensionality reductions to Seurat object "
   ]
  },
  {
   "cell_type": "code",
   "execution_count": 23,
   "metadata": {},
   "outputs": [],
   "source": [
    "%%R -i reduction_cistopic -i metadata_cell -o reduction_cistopic_2 \n",
    "\n",
    "reduction_cistopic_2 <- data.matrix(reduction_cistopic)\n",
    "key <- \"cisTopic_\"\n",
    "colnames(reduction_cistopic_2) <- paste0(key, 1:ncol(x = reduction_cistopic_2))\n",
    "rownames(reduction_cistopic_2) <- rownames(metadata_cell)\n",
    "#print(head(reduction_cistopic_2))"
   ]
  },
  {
   "cell_type": "code",
   "execution_count": 24,
   "metadata": {},
   "outputs": [],
   "source": [
    "%%R -i reduction_umap -i metadata_cell -o reduction_umap_2 \n",
    "\n",
    "reduction_umap_2 <- data.matrix(reduction_umap)\n",
    "key2 <- \"UMAP_\"\n",
    "colnames(reduction_umap_2) <- paste0(key2, 1:ncol(x = reduction_umap_2))\n",
    "rownames(reduction_umap_2) <- rownames(metadata_cell)\n",
    "#print(head(reduction_umap_2))"
   ]
  },
  {
   "cell_type": "code",
   "execution_count": 25,
   "metadata": {},
   "outputs": [],
   "source": [
    "%%R -i reduction_harmony -i metadata_cell -o reduction_harmony_2 \n",
    "\n",
    "reduction_harmony_2 <- data.matrix(reduction_harmony)\n",
    "key3 <- \"Harmony_\"\n",
    "colnames(reduction_harmony_2) <- paste0(key3, 1:ncol(x = reduction_harmony_2))\n",
    "rownames(reduction_harmony_2) <- rownames(metadata_cell)\n",
    "#print(head(reduction_harmony_2))"
   ]
  },
  {
   "cell_type": "code",
   "execution_count": 26,
   "metadata": {},
   "outputs": [
    {
     "name": "stdout",
     "output_type": "stream",
     "text": [
      "An object of class Seurat \n",
      "184906 features across 52285 samples within 1 assay \n",
      "Active assay: peaks (184906 features, 0 variable features)\n",
      " 3 dimensional reductions calculated: cisTopics, umap, harmony\n"
     ]
    }
   ],
   "source": [
    "%%R \n",
    "\n",
    "ATAC_Seurat@reductions$cisTopics <- CreateDimReducObject(embeddings = reduction_cistopic_2, assay = \"peaks\")\n",
    "ATAC_Seurat@reductions$umap <- CreateDimReducObject(embeddings = reduction_umap_2, assay = \"peaks\")\n",
    "ATAC_Seurat@reductions$harmony <- CreateDimReducObject(embeddings = reduction_harmony_2, assay = \"peaks\")\n",
    "ATAC_Seurat"
   ]
  },
  {
   "cell_type": "markdown",
   "metadata": {},
   "source": [
    "### Save RDS object of females "
   ]
  },
  {
   "cell_type": "code",
   "execution_count": 27,
   "metadata": {},
   "outputs": [],
   "source": [
    "%%R -i outdir -i experiment_prefix\n",
    "\n",
    "saveRDS(ATAC_Seurat, file = paste0(outdir, experiment_prefix, \"_full.rds\"))"
   ]
  },
  {
   "cell_type": "code",
   "execution_count": 9,
   "metadata": {},
   "outputs": [],
   "source": [
    "%%R -i outdir -i experiment_prefix\n",
    "\n",
    "ATAC_Seurat <- readRDS(file = paste0(outdir, experiment_prefix, \"_full.rds\"))"
   ]
  },
  {
   "cell_type": "markdown",
   "metadata": {},
   "source": [
    "## TF motifs with ChromVar"
   ]
  },
  {
   "cell_type": "markdown",
   "metadata": {},
   "source": [
    "#### Add motifs"
   ]
  },
  {
   "cell_type": "code",
   "execution_count": 10,
   "metadata": {},
   "outputs": [
    {
     "name": "stdout",
     "output_type": "stream",
     "text": [
      "[1] 638 147 683\n"
     ]
    }
   ],
   "source": [
    "%%R -o pfm\n",
    "\n",
    "# Get a list of motif position frequency matrices from the JASPAR, HOCOMOCO, HOMER and SwissRegulon databases\n",
    "pfm <- getMatrixSet(\n",
    "  x = JASPAR2018,\n",
    "  opts = list(species = 9606, all_versions = FALSE)\n",
    ")\n",
    "\n",
    "tf_motif_hoco=subset(MotifDb, organism=='Hsapiens' & dataSource=='HOCOMOCOv10')\n",
    "pfmHoco = convert_motifs(tf_motif_hoco, 'TFBSTools-PWMatrix')\n",
    "pfmHoco_names =  sapply(pfmHoco, function(x) x@ID)\n",
    "names(tf_motif_hoco) = pfmHoco_names\n",
    "for (i in 1:length(pfmHoco) ){\n",
    "    # Convert into a PCM\n",
    "    x = t(pfmHoco[[i]]@profileMatrix) - apply(pfmHoco[[i]]@profileMatrix, 2, min) # normalize per column\n",
    "    pfmHoco[[i]]@profileMatrix = round(t(x / apply(x, 1, max))*100) # mulitply x100 and round\n",
    "    class(pfmHoco[[i]]@profileMatrix) <- 'integer'\n",
    "    pfm[[pfmHoco_names[i]]] <- pfmHoco[[i]]\n",
    "}\n",
    "# add data from SwissRegulon                       \n",
    "tf_motif_SwissRegulon=subset(MotifDb, organism=='Hsapiens' & dataSource=='SwissRegulon')\n",
    "pfmSwissRegulon = convert_motifs(tf_motif_SwissRegulon, 'TFBSTools-PWMatrix')\n",
    "pfmSwissRegulon_names =  sapply(pfmSwissRegulon, function(x) x@ID)\n",
    "names(tf_motif_SwissRegulon) = pfmSwissRegulon_names\n",
    "for (i in 1:length(pfmSwissRegulon) ){\n",
    "    # Convert into a PCM\n",
    "    x = t(pfmSwissRegulon[[i]]@profileMatrix) - apply(pfmSwissRegulon[[i]]@profileMatrix, 2, min) # normalize per column\n",
    "    pfmSwissRegulon[[i]]@profileMatrix = round(t(x / apply(x, 1, max))*100) # mulitply x100 and round\n",
    "    class(pfmSwissRegulon[[i]]@profileMatrix) <- 'integer'\n",
    "    pfm[[pfmSwissRegulon_names[i]]] <- pfmSwissRegulon[[i]]\n",
    "}\n",
    "\n",
    "\n",
    "# add data from HOMER                       \n",
    "tf_motif_HOMER=subset(MotifDb, dataSource=='HOMER')\n",
    "pfmHOMER = convert_motifs(tf_motif_HOMER, 'TFBSTools-PWMatrix')\n",
    "pfmHOMER_names =  sapply(pfmHOMER, function(x) x@ID)\n",
    "names(pfmHOMER) = paste0( sapply( strsplit(pfmHOMER_names, '\\\\('), head, 1), '.HOMER')\n",
    "#print(names(pfmHOMER))\n",
    "names(pfmHOMER)[93] = \"FOXL2.HOMER\"\n",
    " \n",
    "pfmHOMER = pfmHOMER[ grep('[a-z]',  names(pfmHOMER), invert = T) ] # remove non-human (lowercase)\n",
    "#print(names(pfmHOMER))\n",
    "\n",
    "for (i in 1:length(pfmHOMER) ){\n",
    "    # Convert into a PCM\n",
    "    x = t(pfmHOMER[[i]]@profileMatrix) - apply(pfmHOMER[[i]]@profileMatrix, 2, min) # normalize per column\n",
    "    pfmHOMER[[i]]@profileMatrix = round(t(x / apply(x, 1, max))*100) # mulitply x100 and round\n",
    "    class(pfmHOMER[[i]]@profileMatrix) <- 'integer'\n",
    "    pfmHOMER[[i]]@name = gsub('.HOMER', '', names(pfmHOMER)[i])\n",
    "    pfm[[names(pfmHOMER)[i]]] <- pfmHOMER[[i]]\n",
    "}\n",
    "\n",
    "\n",
    "# Add name in id\n",
    "idx =  grep('^MA', names(pfm) )\n",
    "for (i in idx ){\n",
    "    pfm[[i]]@ID = paste0(pfm[[i]]@name, '.', pfm[[i]]@ID)\n",
    "    names(pfm)[i] = pfm[[i]]@ID\n",
    "}\n",
    "\n",
    "# remove pcm with NAs\n",
    "pfm = pfm[ ! sapply(pfm, function(x) any(is.na(x@profileMatrix))) ]\n",
    "\n",
    "length(pfm)\n",
    "table(unlist(sapply(pfm, function(x) x@tags$dataSource)))"
   ]
  },
  {
   "cell_type": "markdown",
   "metadata": {},
   "source": [
    "#### Add motifs"
   ]
  },
  {
   "cell_type": "code",
   "execution_count": 11,
   "metadata": {},
   "outputs": [
    {
     "name": "stdout",
     "output_type": "stream",
     "text": [
      "An object of class Seurat \n",
      "184906 features across 52285 samples within 1 assay \n",
      "Active assay: peaks (184906 features, 0 variable features)\n",
      " 3 dimensional reductions calculated: cisTopics, umap, harmony\n"
     ]
    }
   ],
   "source": [
    "%%R -o ATAC_Seurat_withMotifs\n",
    "\n",
    "ATAC_Seurat_withMotifs <- AddMotifs(object = ATAC_Seurat, \n",
    "                         genome= BSgenome.Hsapiens.UCSC.hg38, \n",
    "                         pfm = pfm, \n",
    "                         assay = \"peaks\", \n",
    "                         verbose = TRUE)\n",
    "\n",
    "ATAC_Seurat_withMotifs"
   ]
  },
  {
   "cell_type": "markdown",
   "metadata": {},
   "source": [
    "#### Compute per-cell motif activity scores with chromVar"
   ]
  },
  {
   "cell_type": "code",
   "execution_count": 12,
   "metadata": {},
   "outputs": [
    {
     "name": "stdout",
     "output_type": "stream",
     "text": [
      "An object of class Seurat \n",
      "186826 features across 52285 samples within 2 assays \n",
      "Active assay: peaks (184906 features, 0 variable features)\n",
      " 1 other assay present: chromvar\n",
      " 3 dimensional reductions calculated: cisTopics, umap, harmony\n"
     ]
    }
   ],
   "source": [
    "%%R -o ATAC_Seurat_withChromVar\n",
    "\n",
    "library(BiocParallel)\n",
    "register(SerialParam())\n",
    "ATAC_Seurat_withChromVar <- RunChromVAR(\n",
    "  object = ATAC_Seurat_withMotifs,\n",
    "  genome = BSgenome.Hsapiens.UCSC.hg38,\n",
    "  assay=\"peaks\"\n",
    ")\n",
    "ATAC_Seurat_withChromVar"
   ]
  },
  {
   "cell_type": "code",
   "execution_count": 13,
   "metadata": {},
   "outputs": [],
   "source": [
    "%%R -i outdir -i experiment_prefix\n",
    "\n",
    "saveRDS(ATAC_Seurat_withChromVar, file = paste0(outdir, experiment_prefix, \"_chromVar_binary.rds\"))"
   ]
  },
  {
   "cell_type": "code",
   "execution_count": 14,
   "metadata": {},
   "outputs": [],
   "source": [
    "%%R -i pfm -o motif2names\n",
    "\n",
    "library(dplyr) \n",
    "motif2names <- lapply(pfm, function(x) x@name)\n",
    "names(motif2names) <- sapply(pfm, function(x) x@ID) %>% gsub('_', '-', .)"
   ]
  },
  {
   "cell_type": "code",
   "execution_count": 15,
   "metadata": {},
   "outputs": [],
   "source": [
    "%%R \n",
    "\n",
    "DefaultAssay(ATAC_Seurat_withChromVar) <- \"chromvar\" # Change default assay "
   ]
  },
  {
   "cell_type": "code",
   "execution_count": 16,
   "metadata": {},
   "outputs": [
    {
     "name": "stdout",
     "output_type": "stream",
     "text": [
      "\n",
      "    CoelEpi_GATA2      CoelEpi_LHX9       Endothelial        Epithelial \n",
      "             1672               661              1388              1124 \n",
      "        Erythroid       FetalLeydig         GermCells                Gi \n",
      "              638              2358              1403               598 \n",
      "           Immune Mesenchymal_GATA2            Neural                PV \n",
      "             1226             11195              2904               511 \n",
      "          Sertoli                Ti  early_supporting             sPAX8 \n",
      "            16629              8503               719               756 \n"
     ]
    }
   ],
   "source": [
    "%%R \n",
    "\n",
    "Idents(ATAC_Seurat_withChromVar) <- ATAC_Seurat_withChromVar@meta.data$somatic_annotation\n",
    "print(table(Idents(ATAC_Seurat_withChromVar)))"
   ]
  },
  {
   "cell_type": "code",
   "execution_count": null,
   "metadata": {},
   "outputs": [],
   "source": [
    "%%R -i outdir -o all_da_peaks\n",
    "\n",
    "all_da_peaks = FindAllMarkers(ATAC_Seurat_withChromVar, test.use = 'LR', verbose = T, only.pos = F, random.seed = 1, logfc.threshold = 0, min.pct = 0, return.thresh = 1)\n",
    "write.csv(all_da_peaks, file = paste0(outdir, 'TFs/DARs/all_DA_peaks_LR.csv'))"
   ]
  },
  {
   "cell_type": "markdown",
   "metadata": {},
   "source": [
    "#### z-scores per cell type annotation"
   ]
  },
  {
   "cell_type": "code",
   "execution_count": 10,
   "metadata": {},
   "outputs": [
    {
     "name": "stdout",
     "output_type": "stream",
     "text": [
      "An object of class Seurat \n",
      "186826 features across 52285 samples within 2 assays \n",
      "Active assay: chromvar (1920 features, 0 variable features)\n",
      " 1 other assay present: peaks\n",
      " 3 dimensional reductions calculated: cisTopics, umap, harmony\n"
     ]
    }
   ],
   "source": [
    "%%R -i outdir -i experiment_prefix\n",
    "\n",
    "ATAC_Seurat_withChromVar <- readRDS(file = paste0(outdir, experiment_prefix, \"_chromVar_binary.rds\"))\n",
    "DefaultAssay(ATAC_Seurat_withChromVar) <- \"chromvar\" # Change default assay \n",
    "ATAC_Seurat_withChromVar"
   ]
  },
  {
   "cell_type": "code",
   "execution_count": 11,
   "metadata": {},
   "outputs": [],
   "source": [
    "%%R -o chromvar_assay\n",
    "\n",
    "chromvar_assay <- as.data.frame(t(x = as.matrix(x = GetAssayData(object = ATAC_Seurat_withChromVar))))"
   ]
  },
  {
   "cell_type": "code",
   "execution_count": 12,
   "metadata": {},
   "outputs": [
    {
     "data": {
      "text/plain": [
       "(52285, 1920)"
      ]
     },
     "execution_count": 12,
     "metadata": {},
     "output_type": "execute_result"
    }
   ],
   "source": [
    "chromvar_assay.shape"
   ]
  },
  {
   "cell_type": "code",
   "execution_count": 13,
   "metadata": {},
   "outputs": [
    {
     "data": {
      "text/html": [
       "<div>\n",
       "<style scoped>\n",
       "    .dataframe tbody tr th:only-of-type {\n",
       "        vertical-align: middle;\n",
       "    }\n",
       "\n",
       "    .dataframe tbody tr th {\n",
       "        vertical-align: top;\n",
       "    }\n",
       "\n",
       "    .dataframe thead th {\n",
       "        text-align: right;\n",
       "    }\n",
       "</style>\n",
       "<table border=\"1\" class=\"dataframe\">\n",
       "  <thead>\n",
       "    <tr style=\"text-align: right;\">\n",
       "      <th></th>\n",
       "      <th>barcode</th>\n",
       "      <th>somatic_annotation</th>\n",
       "    </tr>\n",
       "  </thead>\n",
       "  <tbody>\n",
       "    <tr>\n",
       "      <th>03-AAACGAAAGCTGAGGT-1</th>\n",
       "      <td>03-AAACGAAAGCTGAGGT-1</td>\n",
       "      <td>Sertoli</td>\n",
       "    </tr>\n",
       "    <tr>\n",
       "      <th>03-AAACGAACAATCATCG-1</th>\n",
       "      <td>03-AAACGAACAATCATCG-1</td>\n",
       "      <td>Sertoli</td>\n",
       "    </tr>\n",
       "    <tr>\n",
       "      <th>03-AAACGAACATGCACTA-1</th>\n",
       "      <td>03-AAACGAACATGCACTA-1</td>\n",
       "      <td>Sertoli</td>\n",
       "    </tr>\n",
       "    <tr>\n",
       "      <th>03-AAACTCGTCACCCGGA-1</th>\n",
       "      <td>03-AAACTCGTCACCCGGA-1</td>\n",
       "      <td>Sertoli</td>\n",
       "    </tr>\n",
       "    <tr>\n",
       "      <th>03-AAACTGCCAAGGGTAC-1</th>\n",
       "      <td>03-AAACTGCCAAGGGTAC-1</td>\n",
       "      <td>CoelEpi_LHX9</td>\n",
       "    </tr>\n",
       "  </tbody>\n",
       "</table>\n",
       "</div>"
      ],
      "text/plain": [
       "                                     barcode somatic_annotation\n",
       "03-AAACGAAAGCTGAGGT-1  03-AAACGAAAGCTGAGGT-1            Sertoli\n",
       "03-AAACGAACAATCATCG-1  03-AAACGAACAATCATCG-1            Sertoli\n",
       "03-AAACGAACATGCACTA-1  03-AAACGAACATGCACTA-1            Sertoli\n",
       "03-AAACTCGTCACCCGGA-1  03-AAACTCGTCACCCGGA-1            Sertoli\n",
       "03-AAACTGCCAAGGGTAC-1  03-AAACTGCCAAGGGTAC-1       CoelEpi_LHX9"
      ]
     },
     "execution_count": 13,
     "metadata": {},
     "output_type": "execute_result"
    }
   ],
   "source": [
    "# Mapping of cells to cell types \n",
    "ATAC_scanpy.obs['barcode'] = ATAC_scanpy.obs_names\n",
    "cells_celltypes = ATAC_scanpy.obs[['barcode', 'somatic_annotation']]\n",
    "cells_celltypes.head()"
   ]
  },
  {
   "cell_type": "code",
   "execution_count": 14,
   "metadata": {},
   "outputs": [],
   "source": [
    "cells_mapping_clusters = cells_celltypes.groupby('somatic_annotation').groups"
   ]
  },
  {
   "cell_type": "code",
   "execution_count": 15,
   "metadata": {},
   "outputs": [
    {
     "name": "stdout",
     "output_type": "stream",
     "text": [
      "CoelEpi_GATA2\n",
      "CoelEpi_LHX9\n",
      "Endothelial\n",
      "Epithelial\n",
      "Erythroid\n",
      "FetalLeydig\n",
      "GermCells\n",
      "Gi\n",
      "Immune\n",
      "Mesenchymal_GATA2\n",
      "Neural\n",
      "PV\n",
      "Sertoli\n",
      "Ti\n",
      "early_supporting\n",
      "sPAX8\n"
     ]
    }
   ],
   "source": [
    "# Mean by rows \n",
    "for key in cells_mapping_clusters: \n",
    "    print(key)\n",
    "    chromvar_assay.loc[key] = chromvar_assay.loc[cells_mapping_clusters[key]].mean(axis = 0)"
   ]
  },
  {
   "cell_type": "code",
   "execution_count": 16,
   "metadata": {},
   "outputs": [
    {
     "name": "stdout",
     "output_type": "stream",
     "text": [
      "['CoelEpi_GATA2', 'CoelEpi_LHX9', 'Endothelial', 'Epithelial', 'Erythroid', 'FetalLeydig', 'GermCells', 'Gi', 'Immune', 'Mesenchymal_GATA2', 'Neural', 'PV', 'Sertoli', 'Ti', 'early_supporting', 'sPAX8']\n"
     ]
    }
   ],
   "source": [
    "rows_celltypes = list(np.unique(cells_celltypes['somatic_annotation']))\n",
    "print(rows_celltypes)\n",
    "# Select only aggregated rows\n",
    "chromvar_assay = chromvar_assay.loc[rows_celltypes, ]"
   ]
  },
  {
   "cell_type": "code",
   "execution_count": 17,
   "metadata": {},
   "outputs": [],
   "source": [
    "# Normalize by column (TF)\n",
    "from scipy.stats import zscore\n",
    "chromvar_assay_zscore = chromvar_assay.apply(zscore)"
   ]
  },
  {
   "cell_type": "code",
   "execution_count": 18,
   "metadata": {},
   "outputs": [],
   "source": [
    "chromvar_assay_zscore.to_csv(outdir + experiment_prefix + \"_chromvar_celltype_zscore.csv\")"
   ]
  },
  {
   "cell_type": "code",
   "execution_count": 10,
   "metadata": {},
   "outputs": [],
   "source": [
    "chromvar_assay_zscore = pd.read_csv(outdir + experiment_prefix + \"_chromvar_celltype_zscore.csv\", index_col = 0)"
   ]
  },
  {
   "cell_type": "code",
   "execution_count": 11,
   "metadata": {},
   "outputs": [],
   "source": [
    "chromvar_assay_zscore = chromvar_assay_zscore.reindex(['GermCells',\n",
    "                                                 'CoelEpi_GATA2', 'CoelEpi_LHX9','early_supporting',  'sPAX8', 'Sertoli',\n",
    "                                                  'Ti',  'Gi', 'FetalLeydig',\n",
    "                                                 'Mesenchymal_GATA2', \n",
    "                                                 'PV','Endothelial', 'Immune', 'Epithelial','Erythroid', 'Neural'\n",
    "                                          ])\n"
   ]
  },
  {
   "cell_type": "code",
   "execution_count": 12,
   "metadata": {},
   "outputs": [],
   "source": [
    "import matplotlib as mpl\n",
    "mpl.rcParams['pdf.fonttype'] = 42"
   ]
  },
  {
   "cell_type": "code",
   "execution_count": 13,
   "metadata": {},
   "outputs": [],
   "source": [
    "import seaborn as sns\n",
    "my_cmap = sns.diverging_palette(240, 10, s = 100, l = 40,n=10, as_cmap=True)\n",
    "sns.set(font_scale=1.5)"
   ]
  },
  {
   "cell_type": "code",
   "execution_count": 14,
   "metadata": {},
   "outputs": [
    {
     "data": {
      "text/plain": [
       "(16, 1920)"
      ]
     },
     "execution_count": 14,
     "metadata": {},
     "output_type": "execute_result"
    }
   ],
   "source": [
    "chromvar_assay_zscore.shape"
   ]
  },
  {
   "cell_type": "code",
   "execution_count": 23,
   "metadata": {},
   "outputs": [
    {
     "name": "stderr",
     "output_type": "stream",
     "text": [
      "/opt/conda/envs/atac_env/lib/python3.8/site-packages/seaborn/matrix.py:649: UserWarning: Clustering large matrix with scipy. Installing `fastcluster` may give better performance.\n",
      "  warnings.warn(msg)\n"
     ]
    },
    {
     "data": {
      "image/png": "[encoded data removed]",
      "text/plain": [
       "<Figure size 576x576 with 4 Axes>"
      ]
     },
     "metadata": {},
     "output_type": "display_data"
    }
   ],
   "source": [
    "heatmap_TFs = sns.clustermap(chromvar_assay_zscore, row_cluster=False, annot=False, xticklabels = False, yticklabels = \"auto\",  figsize=(8, 8),\n",
    "                         cmap = my_cmap)\n",
    "heatmap_TFs.savefig(\"/home/jovyan/MULTIOME_july2021/figures_males/heatmap_males_TFs.pdf\")\n"
   ]
  },
  {
   "cell_type": "markdown",
   "metadata": {},
   "source": [
    "### Select top 3 TFs per cell type "
   ]
  },
  {
   "cell_type": "code",
   "execution_count": 31,
   "metadata": {},
   "outputs": [],
   "source": [
    "top_tfs = []\n",
    "for c in chromvar_assay_zscore.index:\n",
    "    df_c = chromvar_assay_zscore.loc[c]\n",
    "    df_c = df_c.sort_values(axis = 0, ascending = False)\n",
    "    top_4 = df_c[0:7].index\n",
    "    top_tfs.extend(top_4)"
   ]
  },
  {
   "cell_type": "code",
   "execution_count": 32,
   "metadata": {},
   "outputs": [],
   "source": [
    "chromvar_assay_zscore_top4 = chromvar_assay_zscore[top_tfs]"
   ]
  },
  {
   "cell_type": "code",
   "execution_count": null,
   "metadata": {},
   "outputs": [],
   "source": []
  },
  {
   "cell_type": "code",
   "execution_count": 33,
   "metadata": {},
   "outputs": [
    {
     "data": {
      "text/plain": [
       "Index(['PEBB-HUMAN.H10MO.C', 'HNF1B-HUMAN.H10MO.B', 'HNF1B.MA0153.2',\n",
       "       'HNF1A.MA0046.2', 'HNF1B.SwissRegulon', 'HNF1A-HUMAN.H10MO.A',\n",
       "       'HNF1A.SwissRegulon', 'GRHL2.MA1105.1', 'GATA1::TAL1.MA0140.2',\n",
       "       'GATA1-HUMAN.H10MO.A'],\n",
       "      dtype='object')"
      ]
     },
     "execution_count": 33,
     "metadata": {},
     "output_type": "execute_result"
    }
   ],
   "source": [
    "chromvar_assay_zscore_top4.columns[90:100]"
   ]
  },
  {
   "cell_type": "code",
   "execution_count": 34,
   "metadata": {},
   "outputs": [
    {
     "data": {
      "text/plain": [
       "48"
      ]
     },
     "execution_count": 34,
     "metadata": {},
     "output_type": "execute_result"
    }
   ],
   "source": [
    "to_plot = ['NFYB.MA0502.1','NFYA.MA0060.3','CEBPZ.SwissRegulon',\n",
    "        'SOX7.SwissRegulon','ZNF675.HOMER',  'FOXA2-HUMAN.H10MO.A',\n",
    "           'PROX1-HUMAN.H10MO.D',  'TEAD4-HUMAN.H10MO.A',   'EGR2.SwissRegulon',\n",
    "           'OVOL1.SwissRegulon','TBX15.SwissRegulon',  'MESP1.SwissRegulon',\n",
    "       'PAX1.SwissRegulon', 'PAX9.MA0781.1', 'THAP1.MA0597.1', \n",
    "           'DMRT3.MA0610.1','DMRT6.HOMER',  'SOX10-HUMAN.H10MO.D', \n",
    "           'VSX1.MA0725.1','VSX2.MA0726.1',\n",
    "       'POU6F2.MA0793.1',\n",
    "       'HOXA9.SwissRegulon',  'HXC6-HUMAN.H10MO.D', 'ZNF317.HOMER',\n",
    "           'RORA-HUMAN.H10MO.B', 'RORG-HUMAN.H10MO.C', 'RORC.SwissRegulon',\n",
    "           'HSF2-HUMAN.H10MO.A', 'STAT5A.SwissRegulon',  'HSF1-HUMAN.H10MO.A',\n",
    "           'EBF1.MA0154.3','EBF3.SwissRegulon', 'MEF2D-HUMAN.H10MO.C',\n",
    "      'FLI1.SwissRegulon','FEV-HUMAN.H10MO.C', 'EHF-HUMAN.H10MO.S',\n",
    "           'SPI1.MA0080.4','SPIC.SwissRegulon', 'SPIB-HUMAN.H10MO.B', \n",
    "           'HNF1B.MA0153.2', 'HNF1A.MA0046.2', 'GRHL2.MA1105.1',\n",
    "    'GATA1-HUMAN.H10MO.A', 'GATA2-HUMAN.H10MO.A',  'GATA6.SwissRegulon',\n",
    "           'PRRX1.SwissRegulon', 'PHX2A-HUMAN.H10MO.D',\n",
    "       'PHX2B-HUMAN.H10MO.D',\n",
    "       \n",
    "           ]\n",
    "len(to_plot)"
   ]
  },
  {
   "cell_type": "code",
   "execution_count": 35,
   "metadata": {},
   "outputs": [
    {
     "data": {
      "text/plain": [
       "Index(['NFYB.MA0502.1', 'NFYA.MA0060.3', 'CEBPZ.SwissRegulon',\n",
       "       'SOX7.SwissRegulon', 'ZNF675.HOMER', 'FOXA2-HUMAN.H10MO.A',\n",
       "       'PROX1-HUMAN.H10MO.D', 'TEAD4-HUMAN.H10MO.A', 'EGR2.SwissRegulon',\n",
       "       'OVOL1.SwissRegulon', 'TBX15.SwissRegulon', 'MESP1.SwissRegulon',\n",
       "       'PAX1.SwissRegulon', 'PAX9.MA0781.1', 'THAP1.MA0597.1',\n",
       "       'DMRT3.MA0610.1', 'DMRT3.MA0610.1', 'DMRT6.HOMER', 'DMRT6.HOMER',\n",
       "       'SOX10-HUMAN.H10MO.D', 'VSX1.MA0725.1', 'VSX2.MA0726.1',\n",
       "       'POU6F2.MA0793.1', 'HOXA9.SwissRegulon', 'HXC6-HUMAN.H10MO.D',\n",
       "       'ZNF317.HOMER', 'RORA-HUMAN.H10MO.B', 'RORG-HUMAN.H10MO.C',\n",
       "       'RORC.SwissRegulon', 'HSF2-HUMAN.H10MO.A', 'STAT5A.SwissRegulon',\n",
       "       'HSF1-HUMAN.H10MO.A', 'EBF1.MA0154.3', 'EBF3.SwissRegulon',\n",
       "       'MEF2D-HUMAN.H10MO.C', 'FLI1.SwissRegulon', 'FEV-HUMAN.H10MO.C',\n",
       "       'EHF-HUMAN.H10MO.S', 'SPI1.MA0080.4', 'SPIC.SwissRegulon',\n",
       "       'SPIB-HUMAN.H10MO.B', 'HNF1B.MA0153.2', 'HNF1A.MA0046.2',\n",
       "       'GRHL2.MA1105.1', 'GATA1-HUMAN.H10MO.A', 'GATA2-HUMAN.H10MO.A',\n",
       "       'GATA6.SwissRegulon', 'PRRX1.SwissRegulon', 'PHX2A-HUMAN.H10MO.D',\n",
       "       'PHX2B-HUMAN.H10MO.D'],\n",
       "      dtype='object')"
      ]
     },
     "execution_count": 35,
     "metadata": {},
     "output_type": "execute_result"
    }
   ],
   "source": [
    "chromvar_assay_zscore_top4 = chromvar_assay_zscore_top4[to_plot]\n",
    "chromvar_assay_zscore_top4.columns"
   ]
  },
  {
   "cell_type": "code",
   "execution_count": 36,
   "metadata": {},
   "outputs": [],
   "source": [
    "chromvar_assay_zscore_top4.columns = [col.split(\".\")[0] for col in chromvar_assay_zscore_top4.columns]"
   ]
  },
  {
   "cell_type": "code",
   "execution_count": 37,
   "metadata": {},
   "outputs": [],
   "source": [
    "chromvar_assay_zscore_top4.columns = [col.split(\"-\")[0] for col in chromvar_assay_zscore_top4.columns]"
   ]
  },
  {
   "cell_type": "code",
   "execution_count": 38,
   "metadata": {},
   "outputs": [
    {
     "data": {
      "text/plain": [
       "(16, 48)"
      ]
     },
     "execution_count": 38,
     "metadata": {},
     "output_type": "execute_result"
    }
   ],
   "source": [
    "chromvar_assay_zscore_top4 = chromvar_assay_zscore_top4.loc[:,~chromvar_assay_zscore_top4.columns.duplicated()]\n",
    "chromvar_assay_zscore_top4.shape"
   ]
  },
  {
   "cell_type": "code",
   "execution_count": 39,
   "metadata": {},
   "outputs": [
    {
     "name": "stderr",
     "output_type": "stream",
     "text": [
      "<ipython-input-39-63a9665b3b7d>:2: MatplotlibDeprecationWarning: \n",
      "The DivergingNorm class was deprecated in Matplotlib 3.2 and will be removed two minor releases later. Use TwoSlopeNorm instead.\n",
      "  divnorm = matplotlib.colors.DivergingNorm(vmin=chromvar_assay_zscore.values.min(), vcenter=0, vmax=chromvar_assay_zscore.values.max())\n"
     ]
    }
   ],
   "source": [
    "import matplotlib\n",
    "divnorm = matplotlib.colors.DivergingNorm(vmin=chromvar_assay_zscore.values.min(), vcenter=0, vmax=chromvar_assay_zscore.values.max())\n"
   ]
  },
  {
   "cell_type": "code",
   "execution_count": 46,
   "metadata": {},
   "outputs": [
    {
     "data": {
      "image/png": "[encoded data removed]",
      "text/plain": [
       "<Figure size 720x720 with 4 Axes>"
      ]
     },
     "metadata": {},
     "output_type": "display_data"
    }
   ],
   "source": [
    "sns.set(font_scale=2)\n",
    "heatmap_TFs = sns.clustermap(chromvar_assay_zscore_top4, row_cluster=False, col_cluster = False, annot=False, xticklabels = True, yticklabels = \"auto\",  figsize=(10, 10),\n",
    "                         cmap = my_cmap, norm=divnorm)\n",
    "heatmap_TFs.savefig(\"/home/jovyan/MULTIOME_july2021/figures_males/heatmap_males_TFs_top3_curated_fake.pdf\")\n"
   ]
  },
  {
   "cell_type": "markdown",
   "metadata": {},
   "source": [
    "### Plot TFs associated with DSD"
   ]
  },
  {
   "cell_type": "code",
   "execution_count": 109,
   "metadata": {},
   "outputs": [],
   "source": [
    "dsd_tfs = ['ARX', 'ATRX', 'BMP15', 'CBX2', 'DAX1', 'DHH', 'DHX37', 'DMRT1', 'EMX2', 'ESR2', 'FGF9', 'FGFR2', 'FOXL2',\n",
    "          'GATA4', 'HHAT', 'MAP3K1', 'NR2F2', 'NR5A1', 'NUP107', 'RSPO1', 'SOX3', 'SOX8', 'SOX9', 'SOX10', 'SRY', \n",
    "          'STARD8', 'TSPYL1', 'WNT4', 'WT1', 'WWOX', 'ZFPM2', 'ZNRF3']"
   ]
  },
  {
   "cell_type": "code",
   "execution_count": 116,
   "metadata": {},
   "outputs": [],
   "source": [
    "dsd_tfs = ['GATA4', 'LHX9', 'ARX', 'GATA2', 'NR2F1']"
   ]
  },
  {
   "cell_type": "code",
   "execution_count": 117,
   "metadata": {},
   "outputs": [],
   "source": [
    "df = pd.DataFrame(chromvar_assay_zscore.columns)"
   ]
  },
  {
   "cell_type": "code",
   "execution_count": 118,
   "metadata": {},
   "outputs": [
    {
     "data": {
      "text/plain": [
       "164           LHX9.MA0701.1\n",
       "190          NR2F1.MA0017.2\n",
       "343          BARX1.MA0875.1\n",
       "376          GATA2.MA0036.3\n",
       "467       ARX-HUMAN.H10MO.D\n",
       "478     BARX1-HUMAN.H10MO.D\n",
       "479     BARX2-HUMAN.H10MO.D\n",
       "625     GATA2-HUMAN.H10MO.A\n",
       "627     GATA4-HUMAN.H10MO.B\n",
       "754      LHX9-HUMAN.H10MO.D\n",
       "1102       ARX.SwissRegulon\n",
       "1116     BARX1.SwissRegulon\n",
       "1117     BARX2.SwissRegulon\n",
       "1263     GATA2.SwissRegulon\n",
       "1265     GATA4.SwissRegulon\n",
       "1407      LHX9.SwissRegulon\n",
       "1501     NR2F1.SwissRegulon\n",
       "Name: 0, dtype: object"
      ]
     },
     "execution_count": 118,
     "metadata": {},
     "output_type": "execute_result"
    }
   ],
   "source": [
    "df[0][df[0].str.contains('|'.join(dsd_tfs))]\n"
   ]
  },
  {
   "cell_type": "code",
   "execution_count": 112,
   "metadata": {},
   "outputs": [],
   "source": [
    "dsd_tfs_present = ['ARX.SwissRegulon', 'DMRT1.HOMER', 'EMX2.SwissRegulon', 'ESR2.SwissRegulon',\n",
    "                  'GATA4.SwissRegulon', 'FOXL2.HOMER',\n",
    "                  'NR2F2.MA1111.1', 'SOX3.SwissRegulon', \n",
    "                   'SOX8-HUMAN.H10MO.D', 'SOX9.SwissRegulon', \n",
    "                  'SOX10.SwissRegulon', 'SRY.SwissRegulon', \n",
    "                  'WT1-HUMAN.H10MO.D']\n"
   ]
  },
  {
   "cell_type": "code",
   "execution_count": 119,
   "metadata": {},
   "outputs": [],
   "source": [
    "dsd_tfs_present = ['GATA4-HUMAN.H10MO.B', 'GATA4.SwissRegulon', 'LHX9.MA0701.1', 'LHX9.SwissRegulon', \n",
    "                  'ARX-HUMAN.H10MO.D', 'ARX.SwissRegulon', 'GATA2.SwissRegulon', 'GATA2.MA0036.3', \n",
    "                  'NR2F1.SwissRegulon', 'NR2F1.MA0017.2']"
   ]
  },
  {
   "cell_type": "code",
   "execution_count": 120,
   "metadata": {},
   "outputs": [
    {
     "data": {
      "text/plain": [
       "Index(['GATA4-HUMAN.H10MO.B', 'GATA4.SwissRegulon', 'LHX9.MA0701.1',\n",
       "       'LHX9.SwissRegulon', 'ARX-HUMAN.H10MO.D', 'ARX.SwissRegulon',\n",
       "       'GATA2.SwissRegulon', 'GATA2.MA0036.3', 'NR2F1.SwissRegulon',\n",
       "       'NR2F1.MA0017.2'],\n",
       "      dtype='object')"
      ]
     },
     "execution_count": 120,
     "metadata": {},
     "output_type": "execute_result"
    }
   ],
   "source": [
    "chromvar_assay_zscore_DSD = chromvar_assay_zscore[dsd_tfs_present]\n",
    "chromvar_assay_zscore_DSD.columns"
   ]
  },
  {
   "cell_type": "code",
   "execution_count": 121,
   "metadata": {},
   "outputs": [],
   "source": [
    "chromvar_assay_zscore_DSD.columns = [col.split(\".\")[0] for col in chromvar_assay_zscore_DSD.columns]\n",
    "chromvar_assay_zscore_DSD.columns = [col.split(\"-\")[0] for col in chromvar_assay_zscore_DSD.columns]\n"
   ]
  },
  {
   "cell_type": "code",
   "execution_count": 124,
   "metadata": {},
   "outputs": [],
   "source": [
    "chromvar_assay_zscore_DSD = chromvar_assay_zscore_DSD.loc[['CoelEpi_GATA2', 'CoelEpi_LHX9', 'Ti', 'Gi', \n",
    "                                                          'FetalLeydig', 'Mesenchymal_GATA2']]"
   ]
  },
  {
   "cell_type": "code",
   "execution_count": 125,
   "metadata": {},
   "outputs": [
    {
     "data": {
      "image/png": "[encoded data removed]",
      "text/plain": [
       "<Figure size 1008x1008 with 4 Axes>"
      ]
     },
     "metadata": {},
     "output_type": "display_data"
    }
   ],
   "source": [
    "sns.set(font_scale=1.8)\n",
    "heatmap_TFs = sns.clustermap(chromvar_assay_zscore_DSD, row_cluster=False, col_cluster = False, annot=False, xticklabels = True, yticklabels = \"auto\",  figsize=(14, 14),\n",
    "                         cmap = my_cmap, norm=divnorm)\n",
    "heatmap_TFs.savefig(\"/home/jovyan/MULTIOME_july2021/figures_males/DSD_TFs_heatmap.pdf\")\n"
   ]
  },
  {
   "cell_type": "markdown",
   "metadata": {},
   "source": [
    "#### End of notebook"
   ]
  },
  {
   "cell_type": "code",
   "execution_count": null,
   "metadata": {},
   "outputs": [],
   "source": []
  }
 ],
 "metadata": {
  "kernelspec": {
   "display_name": "atac_env",
   "language": "python",
   "name": "atac_env"
  },
  "language_info": {
   "codemirror_mode": {
    "name": "ipython",
    "version": 3
   },
   "file_extension": ".py",
   "mimetype": "text/x-python",
   "name": "python",
   "nbconvert_exporter": "python",
   "pygments_lexer": "ipython3",
   "version": "3.8.6"
  }
 },
 "nbformat": 4,
 "nbformat_minor": 4
}
