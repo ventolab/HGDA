{
 "cells": [
  {
   "cell_type": "code",
   "execution_count": 1,
   "metadata": {},
   "outputs": [],
   "source": [
    "import scanpy as sc\n",
    "import anndata as an\n",
    "import pandas as pd\n",
    "import numpy as np\n",
    "# import matplotlib as mpl\n",
    "import matplotlib.pyplot as plt\n",
    "import seaborn as sns\n",
    "import os\n",
    "\n",
    "plt.rcParams['pdf.fonttype'] = 42\n",
    "plt.rcParams['ps.fonttype'] = 42\n",
    "plt.rcParams[\"font.family\"] = \"Arial\"\n",
    "\n",
    "sc.set_figure_params(figsize=(4, 4))\n",
    "\n",
    "palette = ['#199de5', '#fbbc04']"
   ]
  },
  {
   "cell_type": "code",
   "execution_count": 2,
   "metadata": {},
   "outputs": [],
   "source": [
    "\n",
    "sc.set_figure_params(facecolor=\"white\", figsize=(8, 8), dpi_save=300)\n",
    "sc.settings.verbosity = 1\n",
    "sc.settings.figdir = './figures-visium/'"
   ]
  },
  {
   "cell_type": "code",
   "execution_count": 14,
   "metadata": {},
   "outputs": [],
   "source": [
    "path = '/nfs/team292/lg18/gonads/data/visium/'\n",
    "\n",
    "\n",
    "# sample IDs\n",
    "donors_match = {\n",
    "           'Hrv15':[\"F94\", \"Hrv15\", \"Hrv18\", 'Hrv32', 'Hrv10', 'F88', 'Hrv27', 'Hrv25'],\n",
    "           'Hrv69':['Hr69', 'Hrv58', 'Hrv59', 'Hrv65'],\n",
    "           'F83':[\"F83\", \"Hrv34\",'Hrv86', 'F133','Hrv59'], \n",
    "           'F91':[\"F91\", \"F87\", 'Hrv37', 'Hrv30','Hrv26'],\n",
    "           'F94':[\"F94\", \"Hrv15\", \"Hrv18\", 'Hrv32', 'Hrv10', 'F88'],\n",
    "           'Hrv11':[\"Hrv11\", \"Hrv85\", \"Hrv91\", \"F96\", \"Hrv39\",\"Hrv57\"],\n",
    "           'F81':['F81', 'Hrv12', 'Hrv47', 'F99', 'F126','F84','Hrv13'],\n",
    "           'Hrv41':['Hrv41', 'Hrv31'],\n",
    "           'Hrv58':['Hrv58','Hr69', 'Hrv59', 'Hrv65'],\n",
    "           'Hrv3':['Hrv3', 'Hrv45', 'Hrv51', 'Hrv19','Hrv71', 'Hrv54'],\n",
    "           'Hrv27':['Hrv27', 'Hrv25', 'Hrv35', 'F122', 'Hrv40', 'Hrv33'],\n",
    "           'Hrv13':['Hrv13', 'F99', 'F126','F84']}\n",
    "\n",
    "Vsamples = {'F91':[\"FCA_GNDST8796127\", \"FCA_GNDST8796128\"],\n",
    "           'Hrv11':[\"FCA_GNDST8796131\", \"FCA_GNDST8796132\"],\n",
    "           'F83':[\"FCA_GNDST8796125\", \"FCA_GNDST8796126\"], \n",
    "           'F94':[\"FCA_GNDST8796129\", \"FCA_GNDST8796130\"],\n",
    "           'F81':['FCA_GNDST9421027'],\n",
    "           'Hrv41':['FCA_GNDST9421026'],\n",
    "           'Hrv69':['FCA_GNDST10484130', 'FCA_GNDST10484131'],\n",
    "           'Hrv58':['FCA_GNDST10484129','FCA_GNDST10484132'],\n",
    "           'Hrv3':['FCA_GNDST10485488'],\n",
    "           'Hrv27':['FCA_GNDST10485487'],\n",
    "           'Hrv13':['FCA_GNDST10485485'],\n",
    "           'Hrv15':['FCA_GNDST10485486'],\n",
    "           'females':[\"FCA_GNDST8796125\", \"FCA_GNDST8796126\", \n",
    "                       \"FCA_GNDST8796127\", \"FCA_GNDST8796128\", \n",
    "                       \"FCA_GNDST8796131\", \"FCA_GNDST8796132\",\n",
    "                      'FCA_GNDST9421027',\n",
    "                      'FCA_GNDST10484130', 'FCA_GNDST10484131',\n",
    "                       'FCA_GNDST10484129','FCA_GNDST10484132'],\n",
    "            'males':[\"FCA_GNDST8796129\", \"FCA_GNDST8796130\",\n",
    "                     'FCA_GNDST9421026', \n",
    "                     'FCA_GNDST10485488',\n",
    "                     'FCA_GNDST10485487',\n",
    "                     'FCA_GNDST10485485',\n",
    "                     'FCA_GNDST10485486']\n",
    "           }\n",
    "            "
   ]
  },
  {
   "cell_type": "markdown",
   "metadata": {},
   "source": [
    "# Reading Visium data\n",
    "\n",
    "\n",
    "The function read_visium returns an AnnData object that contains counts, images and spatial coordinates. We will calculate standards QC metrics with pp.calculate_qc_metrics and visualize them.\n",
    "\n",
    "An anndata will be saved for cell2location.\n"
   ]
  },
  {
   "cell_type": "code",
   "execution_count": 15,
   "metadata": {},
   "outputs": [],
   "source": [
    "def read_and_qc(sample_name, path):\n",
    "\n",
    "    adata = sc.read_visium(path + str(sample_name),\n",
    "                           count_file='filtered_feature_bc_matrix.h5', load_images=True)\n",
    "    adata.obs['sample'] = sample_name\n",
    "    adata.var['SYMBOL'] = adata.var_names\n",
    "    adata.var.rename(columns={'gene_ids': 'ENSEMBL'}, inplace=True)\n",
    "    adata.var_names = adata.var['ENSEMBL']\n",
    "    adata.var.drop(columns='ENSEMBL', inplace=True)\n",
    "\n",
    "    # Calculate QC metrics\n",
    "    sc.pp.calculate_qc_metrics(adata, inplace=True)\n",
    "    adata.var['mt'] = [gene.startswith('mt-') for gene in adata.var['SYMBOL']]\n",
    "    adata.obs['mt_frac'] = adata[:, adata.var['mt'].tolist()].X.sum(1).A.squeeze()/adata.obs['total_counts']\n",
    "\n",
    "    # mitochondria-encoded (MT) genes should be removed for spatial mapping\n",
    "    adata.obsm['mt'] = adata[:, adata.var['mt'].values].X.toarray()\n",
    "    adata = adata[:, ~adata.var['mt'].values]\n",
    "\n",
    "    # add sample name to obs names\n",
    "    adata.obs[\"sample\"] = [str(i) for i in adata.obs['sample']]\n",
    "    adata.obs_names = adata.obs[\"sample\"] \\\n",
    "                          + '_' + adata.obs_names\n",
    "    adata.obs.index.name = 'spot_id'\n",
    "\n",
    "    return adata\n",
    "\n",
    "\n",
    "def select_slide(adata, s, s_col='sample'):\n",
    "    r\"\"\" Select data for one slide from the spatial anndata object.\n",
    "\n",
    "    :param adata: Anndata object with multiple spatial samples\n",
    "    :param s: name of selected sample\n",
    "    :param s_col: column in adata.obs listing sample name for each location\n",
    "    \"\"\"\n",
    "\n",
    "    slide = adata[adata.obs[s_col].isin([s]), :]\n",
    "    s_keys = list(slide.uns['spatial'].keys())\n",
    "    s_spatial = np.array(s_keys)[[s in k for k in s_keys]][0]\n",
    "\n",
    "    slide.uns['spatial'] = {s_spatial: slide.uns['spatial'][s_spatial]}\n",
    "\n",
    "    return slide"
   ]
  },
  {
   "cell_type": "code",
   "execution_count": 16,
   "metadata": {},
   "outputs": [
    {
     "name": "stdout",
     "output_type": "stream",
     "text": [
      "F91\n"
     ]
    },
    {
     "name": "stderr",
     "output_type": "stream",
     "text": [
      "Variable names are not unique. To make them unique, call `.var_names_make_unique`.\n",
      "Variable names are not unique. To make them unique, call `.var_names_make_unique`.\n",
      "Trying to set attribute `.obs` of view, copying.\n",
      "Variable names are not unique. To make them unique, call `.var_names_make_unique`.\n",
      "Variable names are not unique. To make them unique, call `.var_names_make_unique`.\n",
      "Trying to set attribute `.obs` of view, copying.\n",
      "... storing 'sample_name' as categorical\n",
      "... storing 'feature_types' as categorical\n",
      "... storing 'genome' as categorical\n",
      "... storing 'SYMBOL' as categorical\n"
     ]
    },
    {
     "name": "stdout",
     "output_type": "stream",
     "text": [
      "Hrv11\n"
     ]
    },
    {
     "name": "stderr",
     "output_type": "stream",
     "text": [
      "Variable names are not unique. To make them unique, call `.var_names_make_unique`.\n",
      "Variable names are not unique. To make them unique, call `.var_names_make_unique`.\n",
      "Trying to set attribute `.obs` of view, copying.\n",
      "Variable names are not unique. To make them unique, call `.var_names_make_unique`.\n",
      "Variable names are not unique. To make them unique, call `.var_names_make_unique`.\n",
      "Trying to set attribute `.obs` of view, copying.\n",
      "... storing 'sample_name' as categorical\n",
      "... storing 'feature_types' as categorical\n",
      "... storing 'genome' as categorical\n",
      "... storing 'SYMBOL' as categorical\n"
     ]
    },
    {
     "name": "stdout",
     "output_type": "stream",
     "text": [
      "F83\n"
     ]
    },
    {
     "name": "stderr",
     "output_type": "stream",
     "text": [
      "Variable names are not unique. To make them unique, call `.var_names_make_unique`.\n",
      "Variable names are not unique. To make them unique, call `.var_names_make_unique`.\n",
      "Trying to set attribute `.obs` of view, copying.\n",
      "Variable names are not unique. To make them unique, call `.var_names_make_unique`.\n",
      "Variable names are not unique. To make them unique, call `.var_names_make_unique`.\n",
      "Trying to set attribute `.obs` of view, copying.\n",
      "... storing 'sample_name' as categorical\n",
      "... storing 'feature_types' as categorical\n",
      "... storing 'genome' as categorical\n",
      "... storing 'SYMBOL' as categorical\n"
     ]
    },
    {
     "name": "stdout",
     "output_type": "stream",
     "text": [
      "F94\n"
     ]
    },
    {
     "name": "stderr",
     "output_type": "stream",
     "text": [
      "Variable names are not unique. To make them unique, call `.var_names_make_unique`.\n",
      "Variable names are not unique. To make them unique, call `.var_names_make_unique`.\n",
      "Trying to set attribute `.obs` of view, copying.\n",
      "Variable names are not unique. To make them unique, call `.var_names_make_unique`.\n",
      "Variable names are not unique. To make them unique, call `.var_names_make_unique`.\n",
      "Trying to set attribute `.obs` of view, copying.\n",
      "... storing 'sample_name' as categorical\n",
      "... storing 'feature_types' as categorical\n",
      "... storing 'genome' as categorical\n",
      "... storing 'SYMBOL' as categorical\n"
     ]
    },
    {
     "name": "stdout",
     "output_type": "stream",
     "text": [
      "F81\n"
     ]
    },
    {
     "name": "stderr",
     "output_type": "stream",
     "text": [
      "Variable names are not unique. To make them unique, call `.var_names_make_unique`.\n",
      "Variable names are not unique. To make them unique, call `.var_names_make_unique`.\n",
      "Trying to set attribute `.obs` of view, copying.\n",
      "... storing 'sample_name' as categorical\n",
      "... storing 'feature_types' as categorical\n",
      "... storing 'genome' as categorical\n",
      "... storing 'SYMBOL' as categorical\n"
     ]
    },
    {
     "name": "stdout",
     "output_type": "stream",
     "text": [
      "Hrv41\n"
     ]
    },
    {
     "name": "stderr",
     "output_type": "stream",
     "text": [
      "Variable names are not unique. To make them unique, call `.var_names_make_unique`.\n",
      "Variable names are not unique. To make them unique, call `.var_names_make_unique`.\n",
      "Trying to set attribute `.obs` of view, copying.\n",
      "... storing 'sample_name' as categorical\n",
      "... storing 'feature_types' as categorical\n",
      "... storing 'genome' as categorical\n",
      "... storing 'SYMBOL' as categorical\n"
     ]
    },
    {
     "name": "stdout",
     "output_type": "stream",
     "text": [
      "Hrv69\n"
     ]
    },
    {
     "name": "stderr",
     "output_type": "stream",
     "text": [
      "Variable names are not unique. To make them unique, call `.var_names_make_unique`.\n",
      "Variable names are not unique. To make them unique, call `.var_names_make_unique`.\n",
      "Trying to set attribute `.obs` of view, copying.\n",
      "Variable names are not unique. To make them unique, call `.var_names_make_unique`.\n",
      "Variable names are not unique. To make them unique, call `.var_names_make_unique`.\n",
      "Trying to set attribute `.obs` of view, copying.\n",
      "... storing 'sample_name' as categorical\n",
      "... storing 'feature_types' as categorical\n",
      "... storing 'genome' as categorical\n",
      "... storing 'SYMBOL' as categorical\n"
     ]
    },
    {
     "name": "stdout",
     "output_type": "stream",
     "text": [
      "Hrv58\n"
     ]
    },
    {
     "name": "stderr",
     "output_type": "stream",
     "text": [
      "Variable names are not unique. To make them unique, call `.var_names_make_unique`.\n",
      "Variable names are not unique. To make them unique, call `.var_names_make_unique`.\n",
      "Trying to set attribute `.obs` of view, copying.\n",
      "Variable names are not unique. To make them unique, call `.var_names_make_unique`.\n",
      "Variable names are not unique. To make them unique, call `.var_names_make_unique`.\n",
      "Trying to set attribute `.obs` of view, copying.\n",
      "... storing 'sample_name' as categorical\n",
      "... storing 'feature_types' as categorical\n",
      "... storing 'genome' as categorical\n",
      "... storing 'SYMBOL' as categorical\n"
     ]
    },
    {
     "name": "stdout",
     "output_type": "stream",
     "text": [
      "Hrv3\n"
     ]
    },
    {
     "name": "stderr",
     "output_type": "stream",
     "text": [
      "Variable names are not unique. To make them unique, call `.var_names_make_unique`.\n",
      "Variable names are not unique. To make them unique, call `.var_names_make_unique`.\n",
      "Trying to set attribute `.obs` of view, copying.\n",
      "... storing 'sample_name' as categorical\n",
      "... storing 'feature_types' as categorical\n",
      "... storing 'genome' as categorical\n",
      "... storing 'SYMBOL' as categorical\n"
     ]
    },
    {
     "name": "stdout",
     "output_type": "stream",
     "text": [
      "Hrv27\n"
     ]
    },
    {
     "name": "stderr",
     "output_type": "stream",
     "text": [
      "Variable names are not unique. To make them unique, call `.var_names_make_unique`.\n",
      "Variable names are not unique. To make them unique, call `.var_names_make_unique`.\n",
      "Trying to set attribute `.obs` of view, copying.\n",
      "... storing 'sample_name' as categorical\n",
      "... storing 'feature_types' as categorical\n",
      "... storing 'genome' as categorical\n",
      "... storing 'SYMBOL' as categorical\n"
     ]
    },
    {
     "name": "stdout",
     "output_type": "stream",
     "text": [
      "Hrv13\n"
     ]
    },
    {
     "name": "stderr",
     "output_type": "stream",
     "text": [
      "Variable names are not unique. To make them unique, call `.var_names_make_unique`.\n",
      "Variable names are not unique. To make them unique, call `.var_names_make_unique`.\n",
      "Trying to set attribute `.obs` of view, copying.\n",
      "... storing 'sample_name' as categorical\n",
      "... storing 'feature_types' as categorical\n",
      "... storing 'genome' as categorical\n",
      "... storing 'SYMBOL' as categorical\n"
     ]
    },
    {
     "name": "stdout",
     "output_type": "stream",
     "text": [
      "Hrv15\n"
     ]
    },
    {
     "name": "stderr",
     "output_type": "stream",
     "text": [
      "Variable names are not unique. To make them unique, call `.var_names_make_unique`.\n",
      "Variable names are not unique. To make them unique, call `.var_names_make_unique`.\n",
      "Trying to set attribute `.obs` of view, copying.\n",
      "... storing 'sample_name' as categorical\n",
      "... storing 'feature_types' as categorical\n",
      "... storing 'genome' as categorical\n",
      "... storing 'SYMBOL' as categorical\n"
     ]
    },
    {
     "name": "stdout",
     "output_type": "stream",
     "text": [
      "females\n"
     ]
    },
    {
     "name": "stderr",
     "output_type": "stream",
     "text": [
      "Variable names are not unique. To make them unique, call `.var_names_make_unique`.\n",
      "Variable names are not unique. To make them unique, call `.var_names_make_unique`.\n",
      "Trying to set attribute `.obs` of view, copying.\n",
      "Variable names are not unique. To make them unique, call `.var_names_make_unique`.\n",
      "Variable names are not unique. To make them unique, call `.var_names_make_unique`.\n",
      "Trying to set attribute `.obs` of view, copying.\n",
      "Variable names are not unique. To make them unique, call `.var_names_make_unique`.\n",
      "Variable names are not unique. To make them unique, call `.var_names_make_unique`.\n",
      "Trying to set attribute `.obs` of view, copying.\n",
      "Variable names are not unique. To make them unique, call `.var_names_make_unique`.\n",
      "Variable names are not unique. To make them unique, call `.var_names_make_unique`.\n",
      "Trying to set attribute `.obs` of view, copying.\n",
      "Variable names are not unique. To make them unique, call `.var_names_make_unique`.\n",
      "Variable names are not unique. To make them unique, call `.var_names_make_unique`.\n",
      "Trying to set attribute `.obs` of view, copying.\n",
      "Variable names are not unique. To make them unique, call `.var_names_make_unique`.\n",
      "Variable names are not unique. To make them unique, call `.var_names_make_unique`.\n",
      "Trying to set attribute `.obs` of view, copying.\n",
      "Variable names are not unique. To make them unique, call `.var_names_make_unique`.\n",
      "Variable names are not unique. To make them unique, call `.var_names_make_unique`.\n",
      "Trying to set attribute `.obs` of view, copying.\n",
      "Variable names are not unique. To make them unique, call `.var_names_make_unique`.\n",
      "Variable names are not unique. To make them unique, call `.var_names_make_unique`.\n",
      "Trying to set attribute `.obs` of view, copying.\n",
      "Variable names are not unique. To make them unique, call `.var_names_make_unique`.\n",
      "Variable names are not unique. To make them unique, call `.var_names_make_unique`.\n",
      "Trying to set attribute `.obs` of view, copying.\n",
      "Variable names are not unique. To make them unique, call `.var_names_make_unique`.\n",
      "Variable names are not unique. To make them unique, call `.var_names_make_unique`.\n",
      "Trying to set attribute `.obs` of view, copying.\n",
      "Variable names are not unique. To make them unique, call `.var_names_make_unique`.\n",
      "Variable names are not unique. To make them unique, call `.var_names_make_unique`.\n",
      "Trying to set attribute `.obs` of view, copying.\n",
      "... storing 'sample_name' as categorical\n",
      "... storing 'feature_types' as categorical\n",
      "... storing 'genome' as categorical\n",
      "... storing 'SYMBOL-FCA_GNDST10484129' as categorical\n",
      "... storing 'SYMBOL-FCA_GNDST10484130' as categorical\n",
      "... storing 'SYMBOL-FCA_GNDST10484131' as categorical\n",
      "... storing 'SYMBOL-FCA_GNDST10484132' as categorical\n",
      "... storing 'SYMBOL-FCA_GNDST8796125' as categorical\n",
      "... storing 'SYMBOL-FCA_GNDST8796126' as categorical\n",
      "... storing 'SYMBOL-FCA_GNDST8796127' as categorical\n",
      "... storing 'SYMBOL-FCA_GNDST8796128' as categorical\n",
      "... storing 'SYMBOL-FCA_GNDST8796131' as categorical\n",
      "... storing 'SYMBOL-FCA_GNDST8796132' as categorical\n",
      "... storing 'SYMBOL-FCA_GNDST9421027' as categorical\n"
     ]
    },
    {
     "name": "stdout",
     "output_type": "stream",
     "text": [
      "males\n"
     ]
    },
    {
     "name": "stderr",
     "output_type": "stream",
     "text": [
      "Variable names are not unique. To make them unique, call `.var_names_make_unique`.\n",
      "Variable names are not unique. To make them unique, call `.var_names_make_unique`.\n",
      "Trying to set attribute `.obs` of view, copying.\n",
      "Variable names are not unique. To make them unique, call `.var_names_make_unique`.\n",
      "Variable names are not unique. To make them unique, call `.var_names_make_unique`.\n",
      "Trying to set attribute `.obs` of view, copying.\n",
      "Variable names are not unique. To make them unique, call `.var_names_make_unique`.\n",
      "Variable names are not unique. To make them unique, call `.var_names_make_unique`.\n",
      "Trying to set attribute `.obs` of view, copying.\n",
      "Variable names are not unique. To make them unique, call `.var_names_make_unique`.\n",
      "Variable names are not unique. To make them unique, call `.var_names_make_unique`.\n",
      "Trying to set attribute `.obs` of view, copying.\n",
      "Variable names are not unique. To make them unique, call `.var_names_make_unique`.\n",
      "Variable names are not unique. To make them unique, call `.var_names_make_unique`.\n",
      "Trying to set attribute `.obs` of view, copying.\n",
      "Variable names are not unique. To make them unique, call `.var_names_make_unique`.\n",
      "Variable names are not unique. To make them unique, call `.var_names_make_unique`.\n",
      "Trying to set attribute `.obs` of view, copying.\n",
      "Variable names are not unique. To make them unique, call `.var_names_make_unique`.\n",
      "Variable names are not unique. To make them unique, call `.var_names_make_unique`.\n",
      "Trying to set attribute `.obs` of view, copying.\n",
      "... storing 'sample_name' as categorical\n",
      "... storing 'feature_types' as categorical\n",
      "... storing 'genome' as categorical\n",
      "... storing 'SYMBOL-FCA_GNDST10485485' as categorical\n",
      "... storing 'SYMBOL-FCA_GNDST10485486' as categorical\n",
      "... storing 'SYMBOL-FCA_GNDST10485487' as categorical\n",
      "... storing 'SYMBOL-FCA_GNDST10485488' as categorical\n",
      "... storing 'SYMBOL-FCA_GNDST8796129' as categorical\n",
      "... storing 'SYMBOL-FCA_GNDST8796130' as categorical\n",
      "... storing 'SYMBOL-FCA_GNDST9421026' as categorical\n"
     ]
    }
   ],
   "source": [
    "for sam in Vsamples.keys():\n",
    "    print(sam)\n",
    "    # read first sample\n",
    "    adata = read_and_qc(Vsamples[sam][0], path=path)\n",
    "\n",
    "    # read the remaining samples\n",
    "    slides = {}\n",
    "    for i in Vsamples[sam][1:]:\n",
    "        adata_1 = read_and_qc(i, path=path)\n",
    "        slides[str(i)] = adata_1\n",
    "\n",
    "    adata_0 = adata.copy()\n",
    "\n",
    "    # combine individual samples\n",
    "    adata = adata.concatenate(\n",
    "        list(slides.values()),\n",
    "        batch_key=\"sample\",\n",
    "        uns_merge=\"unique\",\n",
    "        batch_categories=Vsamples[sam],\n",
    "        index_unique=None\n",
    "    )\n",
    "    # merging metadata\n",
    "    adata.obs['sample_name'] = sam\n",
    "\n",
    "    \n",
    "    os.system('mkdir -p '+ path+'/cell2location/'+ sam +'/')  \n",
    "    adata.write(path + '/cell2location/' + sam + '/'+ sam + '_visium.h5ad')\n",
    "      "
   ]
  },
  {
   "cell_type": "code",
   "execution_count": null,
   "metadata": {},
   "outputs": [],
   "source": [
    "# VsamplesPaper  = {'F91':[\"FCA_GNDST8796127\", \"FCA_GNDST8796128\"],\n",
    "#            'Hrv11':[\"FCA_GNDST8796131\", \"FCA_GNDST8796132\"],\n",
    "#            'F83':[\"FCA_GNDST8796125\", \"FCA_GNDST8796126\"], \n",
    "#            'F94':[\"FCA_GNDST8796129\", \"FCA_GNDST8796130\"],\n",
    "#                    'Hr69':['FCA_GNDST10484130', 'FCA_GNDST10484131'],\n",
    "#             'Hrv58':['FCA_GNDST10484129','FCA_GNDST10484132'],\n",
    "#                   'Hrv27':['FCA_GNDST10485487'],\n",
    "#              'Hrv3':['FCA_GNDST10485488']\n",
    "#                  }\n",
    "\n",
    "\n",
    "# fig, axs = plt.subplots(4, 2, figsize=(8, 15))\n",
    "\n",
    "# j = 0\n",
    "# for sam in VsamplesPaper.keys():\n",
    "#     i = 0\n",
    "#     for sli in Vsamples[sam]:\n",
    "#         spt_adata =  read_and_qc(Vsamples[sam][0], path=path)\n",
    "#         sns.distplot(spt_adata.obs[\"n_genes_by_counts\"], kde=False, bins=100, hist_kws={\"alpha\": 0.2}, ax=axs[j][i])\n",
    "#         i = i + 1\n",
    "#     j = j + 1\n",
    "      "
   ]
  },
  {
   "cell_type": "markdown",
   "metadata": {},
   "source": [
    "# Reading the merged scRNA dataset\n"
   ]
  },
  {
   "cell_type": "code",
   "execution_count": 5,
   "metadata": {},
   "outputs": [
    {
     "data": {
      "text/plain": [
       "(396565, 28820)"
      ]
     },
     "execution_count": 5,
     "metadata": {},
     "output_type": "execute_result"
    }
   ],
   "source": [
    "path2sc = '/nfs/team292/lg18/with_valentina/gonadsV2_revision/'\n",
    "adata = sc.read(path2sc+'FCA-gonads_rawcounts.h5ad')\n",
    "adata.X.shape"
   ]
  },
  {
   "cell_type": "code",
   "execution_count": 6,
   "metadata": {},
   "outputs": [
    {
     "name": "stderr",
     "output_type": "stream",
     "text": [
      "/home/jovyan/my-conda-envs/cellpymc/lib/python3.7/site-packages/IPython/core/interactiveshell.py:3166: DtypeWarning: Columns (29,30,32) have mixed types.Specify dtype option on import or set low_memory=False.\n",
      "  interactivity=interactivity, compiler=compiler, result=result)\n",
      "/home/jovyan/my-conda-envs/cellpymc/lib/python3.7/site-packages/IPython/core/interactiveshell.py:3166: DtypeWarning: Columns (29,30) have mixed types.Specify dtype option on import or set low_memory=False.\n",
      "  interactivity=interactivity, compiler=compiler, result=result)\n"
     ]
    }
   ],
   "source": [
    "# Add old cluster subname\n",
    "metaF = pd.read_csv(path2sc+'/FCA-gonads_female_annotated.csv')\n",
    "metaF = metaF.set_index('Unnamed: 0')\n",
    "metaF.head()\n",
    "\n",
    "metaM = pd.read_csv(path2sc+'/FCA-gonads_male_annotated.csv')\n",
    "metaM = metaM.set_index('Unnamed: 0')\n",
    "metaM.head()\n",
    "\n",
    "\n",
    "cell_annotM = metaM['lineage'].to_dict()\n",
    "cell_annotF = metaF['lineage'].to_dict()\n",
    "cell_annot = {**cell_annotM , **cell_annotF}\n",
    "adata.obs['lineage'] = adata.obs_names.map(cell_annot).astype('category')"
   ]
  },
  {
   "cell_type": "markdown",
   "metadata": {},
   "source": [
    "### Add cell type annotations from subanalysis as LABELS"
   ]
  },
  {
   "cell_type": "code",
   "execution_count": 7,
   "metadata": {},
   "outputs": [
    {
     "name": "stderr",
     "output_type": "stream",
     "text": [
      "/home/jovyan/my-conda-envs/cellpymc/lib/python3.7/site-packages/IPython/core/interactiveshell.py:3166: DtypeWarning: Columns (29,30,37) have mixed types.Specify dtype option on import or set low_memory=False.\n",
      "  interactivity=interactivity, compiler=compiler, result=result)\n",
      "/home/jovyan/my-conda-envs/cellpymc/lib/python3.7/site-packages/IPython/core/interactiveshell.py:3166: DtypeWarning: Columns (29,30,31,32,37) have mixed types.Specify dtype option on import or set low_memory=False.\n",
      "  interactivity=interactivity, compiler=compiler, result=result)\n"
     ]
    },
    {
     "data": {
      "text/plain": [
       "Mesenchymal_GATA2       84229\n",
       "Sertoli                 36917\n",
       "lowQC                   35077\n",
       "Ti                      34808\n",
       "Oi                      25730\n",
       "preGC_IIb               23825\n",
       "Epithelial              20222\n",
       "preGC_I                 15599\n",
       "Endothelial             14484\n",
       "preGC_IIa               13772\n",
       "PV                      12679\n",
       "OSE                      8222\n",
       "Doublet                  6091\n",
       "early_supporting         5894\n",
       "CoelEpi_LHX9             5547\n",
       "Immune                   5533\n",
       "Gi                       4749\n",
       "cont                     4145\n",
       "CoelEpi_GATA2            4050\n",
       "Neural                   3783\n",
       "PGC                      3764\n",
       "early_sPAX8              3648\n",
       "GermCells                3523\n",
       "SMCs                     3044\n",
       "FetalLeydig              2874\n",
       "oogonia_STRA8            2203\n",
       "late_sPAX8               2118\n",
       "oogonia_meiotic          1875\n",
       "CoelEpi_LHX9_cycling     1858\n",
       "early_somatic            1414\n",
       "Erythroid                1371\n",
       "pre_oocyte                812\n",
       "oocyte                    723\n",
       "pre_spermatogonia         621\n",
       "GC_mitotic                510\n",
       "GC                        485\n",
       "granulosa                 366\n",
       "Name: celltype, dtype: int64"
      ]
     },
     "execution_count": 7,
     "metadata": {},
     "output_type": "execute_result"
    }
   ],
   "source": [
    "# Add  cluster subname\n",
    "supF = pd.read_csv(path2sc+'/FCA-gonads_somatic_annotated.csv')\n",
    "supF = supF.set_index('Unnamed: 0')\n",
    "supF.head()\n",
    "\n",
    "supM = pd.read_csv(path2sc+'/FCA-gonads_somaticEarly_annotated.csv')\n",
    "supM = supM.set_index('Unnamed: 0')\n",
    "supM.head()\n",
    "\n",
    "germs = pd.read_csv(path2sc+'/FCA-gonads_germcellsClean_annotated.csv')\n",
    "germs = germs.set_index('Unnamed: 0')\n",
    "germs.head()\n",
    "\n",
    "cell_annotSM = supM['celltype'].to_dict()\n",
    "cell_annotSF = supF['celltype'].to_dict()\n",
    "cell_annotG = germs['celltype'].to_dict()\n",
    "cell_annot = {**cell_annotSM , **cell_annotSF, **cell_annotG}\n",
    "adata.obs['celltype'] = adata.obs_names.map(cell_annot)#.astype('category')\n",
    "\n",
    "\n",
    "# Replace NaN with big clusters \n",
    "adata.obs['celltype'] = adata.obs['celltype'].fillna(adata.obs['lineage'])\n",
    "adata.obs['labels'] = adata.obs['celltype']\n",
    "\n",
    "adata.obs['celltype'].value_counts(dropna = False)"
   ]
  },
  {
   "cell_type": "code",
   "execution_count": 8,
   "metadata": {},
   "outputs": [
    {
     "name": "stderr",
     "output_type": "stream",
     "text": [
      "/home/jovyan/my-conda-envs/cellpymc/lib/python3.7/site-packages/pandas/core/arrays/categorical.py:2487: FutureWarning: The `inplace` parameter in pandas.Categorical.remove_unused_categories is deprecated and will be removed in a future version.\n",
      "  res = method(*args, **kwargs)\n"
     ]
    },
    {
     "data": {
      "text/plain": [
       "Mesenchymal_GATA2    84229\n",
       "Sertoli              36917\n",
       "Ti                   34808\n",
       "Oi                   25730\n",
       "preGC_IIb            23825\n",
       "Epithelial           20222\n",
       "preGC_I              15599\n",
       "Endothelial          14484\n",
       "preGC_IIa            13772\n",
       "PV                   12679\n",
       "OSE                   8222\n",
       "early_supporting      5894\n",
       "CoelEpi_LHX9          5547\n",
       "Immune                5533\n",
       "Gi                    4749\n",
       "CoelEpi_GATA2         4050\n",
       "Neural                3783\n",
       "PGC                   3764\n",
       "early_sPAX8           3648\n",
       "SMCs                  3044\n",
       "FetalLeydig           2874\n",
       "oogonia_STRA8         2203\n",
       "late_sPAX8            2118\n",
       "oogonia_meiotic       1875\n",
       "early_somatic         1414\n",
       "pre_oocyte             812\n",
       "oocyte                 723\n",
       "pre_spermatogonia      621\n",
       "GC_mitotic             510\n",
       "GC                     485\n",
       "granulosa              366\n",
       "Name: labels, dtype: int64"
      ]
     },
     "execution_count": 8,
     "metadata": {},
     "output_type": "execute_result"
    }
   ],
   "source": [
    "## Remove unreliable populations\n",
    "# adata = adata[[ 'G1' in i for i in adata.obs.phase]]\n",
    "adata = adata[[ 'cycling' not in i for i in adata.obs.labels]]\n",
    "adata = adata[[ i not in ['GermCells', 'Erythroid', 'cont', 'lowQC', 'Doublet'] for i in adata.obs.labels]]\n",
    "set(adata.obs.labels)\n",
    "adata.obs.labels.value_counts()"
   ]
  },
  {
   "cell_type": "markdown",
   "metadata": {},
   "source": [
    "### Use Ensembl id as GENE "
   ]
  },
  {
   "cell_type": "code",
   "execution_count": 9,
   "metadata": {},
   "outputs": [
    {
     "name": "stderr",
     "output_type": "stream",
     "text": [
      "Trying to set attribute `.var` of view, copying.\n"
     ]
    }
   ],
   "source": [
    "adata.var['SYMBOL'] = adata.var_names\n",
    "adata.var.rename(columns={'gene_ids-0': 'ENSEMBL'}, inplace=True)\n",
    "adata.var_names = adata.var['ENSEMBL']\n",
    "adata.var.drop(columns='ENSEMBL', inplace=True)"
   ]
  },
  {
   "cell_type": "markdown",
   "metadata": {},
   "source": [
    "### Slice dataset per individual"
   ]
  },
  {
   "cell_type": "code",
   "execution_count": 13,
   "metadata": {},
   "outputs": [
    {
     "name": "stdout",
     "output_type": "stream",
     "text": [
      "Hrv15\n"
     ]
    },
    {
     "name": "stderr",
     "output_type": "stream",
     "text": [
      "/home/jovyan/my-conda-envs/cellpymc/lib/python3.7/site-packages/pandas/core/arrays/categorical.py:2487: FutureWarning: The `inplace` parameter in pandas.Categorical.remove_unused_categories is deprecated and will be removed in a future version.\n",
      "  res = method(*args, **kwargs)\n",
      "/home/jovyan/my-conda-envs/cellpymc/lib/python3.7/site-packages/pandas/core/arrays/categorical.py:2487: FutureWarning: The `inplace` parameter in pandas.Categorical.remove_unused_categories is deprecated and will be removed in a future version.\n",
      "  res = method(*args, **kwargs)\n",
      "Trying to set attribute `.obs` of view, copying.\n",
      "/home/jovyan/my-conda-envs/cellpymc/lib/python3.7/site-packages/anndata/_core/anndata.py:119: ImplicitModificationWarning: Transforming to str index.\n",
      "  warnings.warn(\"Transforming to str index.\", ImplicitModificationWarning)\n",
      "Variable names are not unique. To make them unique, call `.var_names_make_unique`.\n",
      "Variable names are not unique. To make them unique, call `.var_names_make_unique`.\n",
      "Variable names are not unique. To make them unique, call `.var_names_make_unique`.\n",
      "Variable names are not unique. To make them unique, call `.var_names_make_unique`.\n",
      "Variable names are not unique. To make them unique, call `.var_names_make_unique`.\n",
      "Variable names are not unique. To make them unique, call `.var_names_make_unique`.\n",
      "/home/jovyan/my-conda-envs/cellpymc/lib/python3.7/site-packages/pandas/core/arrays/categorical.py:2487: FutureWarning: The `inplace` parameter in pandas.Categorical.remove_unused_categories is deprecated and will be removed in a future version.\n",
      "  res = method(*args, **kwargs)\n",
      "/home/jovyan/my-conda-envs/cellpymc/lib/python3.7/site-packages/anndata/_core/anndata.py:1208: ImplicitModificationWarning: Initializing view as actual.\n",
      "  \"Initializing view as actual.\", ImplicitModificationWarning\n",
      "Trying to set attribute `.obs` of view, copying.\n",
      "Variable names are not unique. To make them unique, call `.var_names_make_unique`.\n",
      "Variable names are not unique. To make them unique, call `.var_names_make_unique`.\n",
      "... storing 'celltype' as categorical\n",
      "Trying to set attribute `.obs` of view, copying.\n",
      "Variable names are not unique. To make them unique, call `.var_names_make_unique`.\n",
      "Variable names are not unique. To make them unique, call `.var_names_make_unique`.\n",
      "... storing 'labels' as categorical\n"
     ]
    },
    {
     "name": "stdout",
     "output_type": "stream",
     "text": [
      "labels\n",
      "CoelEpi_LHX9           534\n",
      "Endothelial           3044\n",
      "Epithelial             294\n",
      "FetalLeydig            753\n",
      "Immune                 868\n",
      "Mesenchymal_GATA2    15147\n",
      "Neural                  56\n",
      "PGC                    114\n",
      "PV                    1137\n",
      "Sertoli              12982\n",
      "Ti                   13314\n",
      "late_sPAX8            1644\n",
      "pre_spermatogonia        4\n",
      "dtype: int64\n",
      "Hrv69\n"
     ]
    },
    {
     "name": "stderr",
     "output_type": "stream",
     "text": [
      "/home/jovyan/my-conda-envs/cellpymc/lib/python3.7/site-packages/pandas/core/arrays/categorical.py:2487: FutureWarning: The `inplace` parameter in pandas.Categorical.remove_unused_categories is deprecated and will be removed in a future version.\n",
      "  res = method(*args, **kwargs)\n",
      "/home/jovyan/my-conda-envs/cellpymc/lib/python3.7/site-packages/pandas/core/arrays/categorical.py:2487: FutureWarning: The `inplace` parameter in pandas.Categorical.remove_unused_categories is deprecated and will be removed in a future version.\n",
      "  res = method(*args, **kwargs)\n",
      "Trying to set attribute `.obs` of view, copying.\n",
      "/home/jovyan/my-conda-envs/cellpymc/lib/python3.7/site-packages/anndata/_core/anndata.py:119: ImplicitModificationWarning: Transforming to str index.\n",
      "  warnings.warn(\"Transforming to str index.\", ImplicitModificationWarning)\n",
      "Variable names are not unique. To make them unique, call `.var_names_make_unique`.\n",
      "Variable names are not unique. To make them unique, call `.var_names_make_unique`.\n",
      "Variable names are not unique. To make them unique, call `.var_names_make_unique`.\n",
      "Variable names are not unique. To make them unique, call `.var_names_make_unique`.\n",
      "Variable names are not unique. To make them unique, call `.var_names_make_unique`.\n",
      "Variable names are not unique. To make them unique, call `.var_names_make_unique`.\n",
      "/home/jovyan/my-conda-envs/cellpymc/lib/python3.7/site-packages/pandas/core/arrays/categorical.py:2487: FutureWarning: The `inplace` parameter in pandas.Categorical.remove_unused_categories is deprecated and will be removed in a future version.\n",
      "  res = method(*args, **kwargs)\n",
      "/home/jovyan/my-conda-envs/cellpymc/lib/python3.7/site-packages/anndata/_core/anndata.py:1208: ImplicitModificationWarning: Initializing view as actual.\n",
      "  \"Initializing view as actual.\", ImplicitModificationWarning\n",
      "Trying to set attribute `.obs` of view, copying.\n",
      "Variable names are not unique. To make them unique, call `.var_names_make_unique`.\n",
      "Variable names are not unique. To make them unique, call `.var_names_make_unique`.\n",
      "... storing 'celltype' as categorical\n",
      "Trying to set attribute `.obs` of view, copying.\n",
      "Variable names are not unique. To make them unique, call `.var_names_make_unique`.\n",
      "Variable names are not unique. To make them unique, call `.var_names_make_unique`.\n",
      "... storing 'labels' as categorical\n"
     ]
    },
    {
     "name": "stdout",
     "output_type": "stream",
     "text": [
      "labels\n",
      "CoelEpi_LHX9           21\n",
      "Endothelial          1692\n",
      "Epithelial           4096\n",
      "GC_mitotic             32\n",
      "Gi                     26\n",
      "Immune                570\n",
      "Mesenchymal_GATA2    8791\n",
      "Neural                415\n",
      "OSE                   104\n",
      "Oi                   2595\n",
      "PGC                    49\n",
      "PV                   4479\n",
      "SMCs                 3031\n",
      "granulosa             339\n",
      "oocyte                225\n",
      "oogonia_STRA8         145\n",
      "oogonia_meiotic       235\n",
      "preGC_I               166\n",
      "preGC_IIa             116\n",
      "preGC_IIb             822\n",
      "pre_oocyte            170\n",
      "dtype: int64\n",
      "F83\n"
     ]
    },
    {
     "name": "stderr",
     "output_type": "stream",
     "text": [
      "/home/jovyan/my-conda-envs/cellpymc/lib/python3.7/site-packages/pandas/core/arrays/categorical.py:2487: FutureWarning: The `inplace` parameter in pandas.Categorical.remove_unused_categories is deprecated and will be removed in a future version.\n",
      "  res = method(*args, **kwargs)\n",
      "/home/jovyan/my-conda-envs/cellpymc/lib/python3.7/site-packages/pandas/core/arrays/categorical.py:2487: FutureWarning: The `inplace` parameter in pandas.Categorical.remove_unused_categories is deprecated and will be removed in a future version.\n",
      "  res = method(*args, **kwargs)\n",
      "Trying to set attribute `.obs` of view, copying.\n",
      "/home/jovyan/my-conda-envs/cellpymc/lib/python3.7/site-packages/anndata/_core/anndata.py:119: ImplicitModificationWarning: Transforming to str index.\n",
      "  warnings.warn(\"Transforming to str index.\", ImplicitModificationWarning)\n",
      "Variable names are not unique. To make them unique, call `.var_names_make_unique`.\n",
      "Variable names are not unique. To make them unique, call `.var_names_make_unique`.\n",
      "Variable names are not unique. To make them unique, call `.var_names_make_unique`.\n",
      "Variable names are not unique. To make them unique, call `.var_names_make_unique`.\n",
      "Variable names are not unique. To make them unique, call `.var_names_make_unique`.\n",
      "Variable names are not unique. To make them unique, call `.var_names_make_unique`.\n",
      "/home/jovyan/my-conda-envs/cellpymc/lib/python3.7/site-packages/pandas/core/arrays/categorical.py:2487: FutureWarning: The `inplace` parameter in pandas.Categorical.remove_unused_categories is deprecated and will be removed in a future version.\n",
      "  res = method(*args, **kwargs)\n",
      "/home/jovyan/my-conda-envs/cellpymc/lib/python3.7/site-packages/anndata/_core/anndata.py:1208: ImplicitModificationWarning: Initializing view as actual.\n",
      "  \"Initializing view as actual.\", ImplicitModificationWarning\n",
      "Trying to set attribute `.obs` of view, copying.\n",
      "Variable names are not unique. To make them unique, call `.var_names_make_unique`.\n",
      "Variable names are not unique. To make them unique, call `.var_names_make_unique`.\n",
      "... storing 'celltype' as categorical\n",
      "Trying to set attribute `.obs` of view, copying.\n",
      "Variable names are not unique. To make them unique, call `.var_names_make_unique`.\n",
      "Variable names are not unique. To make them unique, call `.var_names_make_unique`.\n",
      "... storing 'labels' as categorical\n"
     ]
    },
    {
     "name": "stdout",
     "output_type": "stream",
     "text": [
      "labels\n",
      "CoelEpi_LHX9           202\n",
      "Endothelial           1932\n",
      "GC                     217\n",
      "GC_mitotic             304\n",
      "Gi                     280\n",
      "Immune                 401\n",
      "Mesenchymal_GATA2     6301\n",
      "Neural                  82\n",
      "OSE                   3820\n",
      "Oi                    9809\n",
      "PGC                   1311\n",
      "PV                    1322\n",
      "early_sPAX8             35\n",
      "granulosa               26\n",
      "oocyte                 525\n",
      "oogonia_STRA8         1489\n",
      "oogonia_meiotic       1506\n",
      "preGC_I               2286\n",
      "preGC_IIa             2639\n",
      "preGC_IIb            12416\n",
      "pre_oocyte             646\n",
      "dtype: int64\n",
      "F91\n"
     ]
    },
    {
     "name": "stderr",
     "output_type": "stream",
     "text": [
      "/home/jovyan/my-conda-envs/cellpymc/lib/python3.7/site-packages/pandas/core/arrays/categorical.py:2487: FutureWarning: The `inplace` parameter in pandas.Categorical.remove_unused_categories is deprecated and will be removed in a future version.\n",
      "  res = method(*args, **kwargs)\n",
      "/home/jovyan/my-conda-envs/cellpymc/lib/python3.7/site-packages/pandas/core/arrays/categorical.py:2487: FutureWarning: The `inplace` parameter in pandas.Categorical.remove_unused_categories is deprecated and will be removed in a future version.\n",
      "  res = method(*args, **kwargs)\n",
      "Trying to set attribute `.obs` of view, copying.\n",
      "/home/jovyan/my-conda-envs/cellpymc/lib/python3.7/site-packages/anndata/_core/anndata.py:119: ImplicitModificationWarning: Transforming to str index.\n",
      "  warnings.warn(\"Transforming to str index.\", ImplicitModificationWarning)\n",
      "Variable names are not unique. To make them unique, call `.var_names_make_unique`.\n",
      "Variable names are not unique. To make them unique, call `.var_names_make_unique`.\n",
      "Variable names are not unique. To make them unique, call `.var_names_make_unique`.\n",
      "Variable names are not unique. To make them unique, call `.var_names_make_unique`.\n",
      "Variable names are not unique. To make them unique, call `.var_names_make_unique`.\n",
      "Variable names are not unique. To make them unique, call `.var_names_make_unique`.\n",
      "/home/jovyan/my-conda-envs/cellpymc/lib/python3.7/site-packages/pandas/core/arrays/categorical.py:2487: FutureWarning: The `inplace` parameter in pandas.Categorical.remove_unused_categories is deprecated and will be removed in a future version.\n",
      "  res = method(*args, **kwargs)\n",
      "/home/jovyan/my-conda-envs/cellpymc/lib/python3.7/site-packages/anndata/_core/anndata.py:1208: ImplicitModificationWarning: Initializing view as actual.\n",
      "  \"Initializing view as actual.\", ImplicitModificationWarning\n",
      "Trying to set attribute `.obs` of view, copying.\n",
      "Variable names are not unique. To make them unique, call `.var_names_make_unique`.\n",
      "Variable names are not unique. To make them unique, call `.var_names_make_unique`.\n",
      "... storing 'celltype' as categorical\n",
      "Trying to set attribute `.obs` of view, copying.\n",
      "Variable names are not unique. To make them unique, call `.var_names_make_unique`.\n",
      "Variable names are not unique. To make them unique, call `.var_names_make_unique`.\n",
      "... storing 'labels' as categorical\n"
     ]
    },
    {
     "name": "stdout",
     "output_type": "stream",
     "text": [
      "labels\n",
      "CoelEpi_GATA2          96\n",
      "CoelEpi_LHX9          409\n",
      "Endothelial           654\n",
      "Epithelial            711\n",
      "GC                     20\n",
      "GC_mitotic             55\n",
      "Gi                    333\n",
      "Immune                299\n",
      "Mesenchymal_GATA2    6470\n",
      "Neural                 45\n",
      "OSE                  1826\n",
      "Oi                   4417\n",
      "PGC                   250\n",
      "PV                    386\n",
      "early_sPAX8           305\n",
      "early_supporting       29\n",
      "oogonia_STRA8         257\n",
      "oogonia_meiotic        49\n",
      "preGC_I              5558\n",
      "preGC_IIa            4347\n",
      "preGC_IIb            5245\n",
      "pre_oocyte             10\n",
      "dtype: int64\n",
      "F94\n"
     ]
    },
    {
     "name": "stderr",
     "output_type": "stream",
     "text": [
      "/home/jovyan/my-conda-envs/cellpymc/lib/python3.7/site-packages/pandas/core/arrays/categorical.py:2487: FutureWarning: The `inplace` parameter in pandas.Categorical.remove_unused_categories is deprecated and will be removed in a future version.\n",
      "  res = method(*args, **kwargs)\n",
      "/home/jovyan/my-conda-envs/cellpymc/lib/python3.7/site-packages/pandas/core/arrays/categorical.py:2487: FutureWarning: The `inplace` parameter in pandas.Categorical.remove_unused_categories is deprecated and will be removed in a future version.\n",
      "  res = method(*args, **kwargs)\n",
      "Trying to set attribute `.obs` of view, copying.\n",
      "/home/jovyan/my-conda-envs/cellpymc/lib/python3.7/site-packages/anndata/_core/anndata.py:119: ImplicitModificationWarning: Transforming to str index.\n",
      "  warnings.warn(\"Transforming to str index.\", ImplicitModificationWarning)\n",
      "Variable names are not unique. To make them unique, call `.var_names_make_unique`.\n",
      "Variable names are not unique. To make them unique, call `.var_names_make_unique`.\n",
      "Variable names are not unique. To make them unique, call `.var_names_make_unique`.\n",
      "Variable names are not unique. To make them unique, call `.var_names_make_unique`.\n",
      "Variable names are not unique. To make them unique, call `.var_names_make_unique`.\n",
      "Variable names are not unique. To make them unique, call `.var_names_make_unique`.\n",
      "/home/jovyan/my-conda-envs/cellpymc/lib/python3.7/site-packages/pandas/core/arrays/categorical.py:2487: FutureWarning: The `inplace` parameter in pandas.Categorical.remove_unused_categories is deprecated and will be removed in a future version.\n",
      "  res = method(*args, **kwargs)\n",
      "/home/jovyan/my-conda-envs/cellpymc/lib/python3.7/site-packages/anndata/_core/anndata.py:1208: ImplicitModificationWarning: Initializing view as actual.\n",
      "  \"Initializing view as actual.\", ImplicitModificationWarning\n",
      "Trying to set attribute `.obs` of view, copying.\n",
      "Variable names are not unique. To make them unique, call `.var_names_make_unique`.\n",
      "Variable names are not unique. To make them unique, call `.var_names_make_unique`.\n",
      "... storing 'celltype' as categorical\n",
      "Trying to set attribute `.obs` of view, copying.\n",
      "Variable names are not unique. To make them unique, call `.var_names_make_unique`.\n",
      "Variable names are not unique. To make them unique, call `.var_names_make_unique`.\n",
      "... storing 'labels' as categorical\n"
     ]
    },
    {
     "name": "stdout",
     "output_type": "stream",
     "text": [
      "labels\n",
      "CoelEpi_LHX9           474\n",
      "Endothelial           1371\n",
      "Epithelial             292\n",
      "FetalLeydig            394\n",
      "Immune                 602\n",
      "Mesenchymal_GATA2    12443\n",
      "Neural                  51\n",
      "PGC                    104\n",
      "PV                     654\n",
      "Sertoli              10744\n",
      "Ti                    5450\n",
      "late_sPAX8             826\n",
      "dtype: int64\n",
      "Hrv11\n"
     ]
    },
    {
     "name": "stderr",
     "output_type": "stream",
     "text": [
      "/home/jovyan/my-conda-envs/cellpymc/lib/python3.7/site-packages/pandas/core/arrays/categorical.py:2487: FutureWarning: The `inplace` parameter in pandas.Categorical.remove_unused_categories is deprecated and will be removed in a future version.\n",
      "  res = method(*args, **kwargs)\n",
      "/home/jovyan/my-conda-envs/cellpymc/lib/python3.7/site-packages/pandas/core/arrays/categorical.py:2487: FutureWarning: The `inplace` parameter in pandas.Categorical.remove_unused_categories is deprecated and will be removed in a future version.\n",
      "  res = method(*args, **kwargs)\n",
      "Trying to set attribute `.obs` of view, copying.\n",
      "/home/jovyan/my-conda-envs/cellpymc/lib/python3.7/site-packages/anndata/_core/anndata.py:119: ImplicitModificationWarning: Transforming to str index.\n",
      "  warnings.warn(\"Transforming to str index.\", ImplicitModificationWarning)\n",
      "Variable names are not unique. To make them unique, call `.var_names_make_unique`.\n",
      "Variable names are not unique. To make them unique, call `.var_names_make_unique`.\n",
      "Variable names are not unique. To make them unique, call `.var_names_make_unique`.\n",
      "Variable names are not unique. To make them unique, call `.var_names_make_unique`.\n",
      "Variable names are not unique. To make them unique, call `.var_names_make_unique`.\n",
      "Variable names are not unique. To make them unique, call `.var_names_make_unique`.\n",
      "/home/jovyan/my-conda-envs/cellpymc/lib/python3.7/site-packages/pandas/core/arrays/categorical.py:2487: FutureWarning: The `inplace` parameter in pandas.Categorical.remove_unused_categories is deprecated and will be removed in a future version.\n",
      "  res = method(*args, **kwargs)\n",
      "/home/jovyan/my-conda-envs/cellpymc/lib/python3.7/site-packages/anndata/_core/anndata.py:1208: ImplicitModificationWarning: Initializing view as actual.\n",
      "  \"Initializing view as actual.\", ImplicitModificationWarning\n",
      "Trying to set attribute `.obs` of view, copying.\n",
      "Variable names are not unique. To make them unique, call `.var_names_make_unique`.\n",
      "Variable names are not unique. To make them unique, call `.var_names_make_unique`.\n",
      "... storing 'celltype' as categorical\n",
      "Trying to set attribute `.obs` of view, copying.\n",
      "Variable names are not unique. To make them unique, call `.var_names_make_unique`.\n",
      "Variable names are not unique. To make them unique, call `.var_names_make_unique`.\n",
      "... storing 'labels' as categorical\n"
     ]
    },
    {
     "name": "stdout",
     "output_type": "stream",
     "text": [
      "labels\n",
      "CoelEpi_LHX9          237\n",
      "Endothelial          1239\n",
      "Epithelial           2404\n",
      "GC                     29\n",
      "GC_mitotic             73\n",
      "Gi                    110\n",
      "Immune                217\n",
      "Mesenchymal_GATA2    4075\n",
      "Neural                623\n",
      "OSE                   910\n",
      "Oi                   2591\n",
      "PGC                   277\n",
      "PV                   3070\n",
      "early_sPAX8            32\n",
      "oocyte                 13\n",
      "oogonia_STRA8         222\n",
      "oogonia_meiotic       163\n",
      "preGC_I               823\n",
      "preGC_IIa            1192\n",
      "preGC_IIb            4238\n",
      "pre_oocyte             63\n",
      "dtype: int64\n",
      "F81\n"
     ]
    },
    {
     "name": "stderr",
     "output_type": "stream",
     "text": [
      "/home/jovyan/my-conda-envs/cellpymc/lib/python3.7/site-packages/pandas/core/arrays/categorical.py:2487: FutureWarning: The `inplace` parameter in pandas.Categorical.remove_unused_categories is deprecated and will be removed in a future version.\n",
      "  res = method(*args, **kwargs)\n",
      "/home/jovyan/my-conda-envs/cellpymc/lib/python3.7/site-packages/pandas/core/arrays/categorical.py:2487: FutureWarning: The `inplace` parameter in pandas.Categorical.remove_unused_categories is deprecated and will be removed in a future version.\n",
      "  res = method(*args, **kwargs)\n",
      "Trying to set attribute `.obs` of view, copying.\n",
      "/home/jovyan/my-conda-envs/cellpymc/lib/python3.7/site-packages/anndata/_core/anndata.py:119: ImplicitModificationWarning: Transforming to str index.\n",
      "  warnings.warn(\"Transforming to str index.\", ImplicitModificationWarning)\n",
      "Variable names are not unique. To make them unique, call `.var_names_make_unique`.\n",
      "Variable names are not unique. To make them unique, call `.var_names_make_unique`.\n",
      "Variable names are not unique. To make them unique, call `.var_names_make_unique`.\n",
      "Variable names are not unique. To make them unique, call `.var_names_make_unique`.\n",
      "Variable names are not unique. To make them unique, call `.var_names_make_unique`.\n",
      "Variable names are not unique. To make them unique, call `.var_names_make_unique`.\n",
      "/home/jovyan/my-conda-envs/cellpymc/lib/python3.7/site-packages/pandas/core/arrays/categorical.py:2487: FutureWarning: The `inplace` parameter in pandas.Categorical.remove_unused_categories is deprecated and will be removed in a future version.\n",
      "  res = method(*args, **kwargs)\n",
      "/home/jovyan/my-conda-envs/cellpymc/lib/python3.7/site-packages/anndata/_core/anndata.py:1208: ImplicitModificationWarning: Initializing view as actual.\n",
      "  \"Initializing view as actual.\", ImplicitModificationWarning\n",
      "Trying to set attribute `.obs` of view, copying.\n",
      "Variable names are not unique. To make them unique, call `.var_names_make_unique`.\n",
      "Variable names are not unique. To make them unique, call `.var_names_make_unique`.\n",
      "... storing 'celltype' as categorical\n",
      "Trying to set attribute `.obs` of view, copying.\n",
      "Variable names are not unique. To make them unique, call `.var_names_make_unique`.\n",
      "Variable names are not unique. To make them unique, call `.var_names_make_unique`.\n",
      "... storing 'labels' as categorical\n"
     ]
    },
    {
     "name": "stdout",
     "output_type": "stream",
     "text": [
      "labels\n",
      "CoelEpi_GATA2         171\n",
      "CoelEpi_LHX9          628\n",
      "Endothelial           417\n",
      "Epithelial            632\n",
      "Gi                    342\n",
      "Immune                125\n",
      "Mesenchymal_GATA2    7968\n",
      "Neural                257\n",
      "OSE                   943\n",
      "Oi                   3967\n",
      "PGC                   187\n",
      "PV                    239\n",
      "early_sPAX8           957\n",
      "early_somatic          38\n",
      "early_supporting      143\n",
      "preGC_I              5540\n",
      "preGC_IIa            4674\n",
      "dtype: int64\n",
      "Hrv41\n"
     ]
    },
    {
     "name": "stderr",
     "output_type": "stream",
     "text": [
      "/home/jovyan/my-conda-envs/cellpymc/lib/python3.7/site-packages/pandas/core/arrays/categorical.py:2487: FutureWarning: The `inplace` parameter in pandas.Categorical.remove_unused_categories is deprecated and will be removed in a future version.\n",
      "  res = method(*args, **kwargs)\n",
      "/home/jovyan/my-conda-envs/cellpymc/lib/python3.7/site-packages/pandas/core/arrays/categorical.py:2487: FutureWarning: The `inplace` parameter in pandas.Categorical.remove_unused_categories is deprecated and will be removed in a future version.\n",
      "  res = method(*args, **kwargs)\n",
      "Trying to set attribute `.obs` of view, copying.\n",
      "/home/jovyan/my-conda-envs/cellpymc/lib/python3.7/site-packages/anndata/_core/anndata.py:119: ImplicitModificationWarning: Transforming to str index.\n",
      "  warnings.warn(\"Transforming to str index.\", ImplicitModificationWarning)\n",
      "Variable names are not unique. To make them unique, call `.var_names_make_unique`.\n",
      "Variable names are not unique. To make them unique, call `.var_names_make_unique`.\n",
      "Variable names are not unique. To make them unique, call `.var_names_make_unique`.\n",
      "Variable names are not unique. To make them unique, call `.var_names_make_unique`.\n",
      "Variable names are not unique. To make them unique, call `.var_names_make_unique`.\n",
      "Variable names are not unique. To make them unique, call `.var_names_make_unique`.\n",
      "/home/jovyan/my-conda-envs/cellpymc/lib/python3.7/site-packages/pandas/core/arrays/categorical.py:2487: FutureWarning: The `inplace` parameter in pandas.Categorical.remove_unused_categories is deprecated and will be removed in a future version.\n",
      "  res = method(*args, **kwargs)\n",
      "/home/jovyan/my-conda-envs/cellpymc/lib/python3.7/site-packages/anndata/_core/anndata.py:1208: ImplicitModificationWarning: Initializing view as actual.\n",
      "  \"Initializing view as actual.\", ImplicitModificationWarning\n",
      "Trying to set attribute `.obs` of view, copying.\n",
      "Variable names are not unique. To make them unique, call `.var_names_make_unique`.\n",
      "Variable names are not unique. To make them unique, call `.var_names_make_unique`.\n",
      "... storing 'celltype' as categorical\n",
      "Trying to set attribute `.obs` of view, copying.\n",
      "Variable names are not unique. To make them unique, call `.var_names_make_unique`.\n",
      "Variable names are not unique. To make them unique, call `.var_names_make_unique`.\n",
      "... storing 'labels' as categorical\n"
     ]
    },
    {
     "name": "stdout",
     "output_type": "stream",
     "text": [
      "labels\n",
      "CoelEpi_GATA2         510\n",
      "CoelEpi_LHX9          411\n",
      "Endothelial           518\n",
      "Epithelial            860\n",
      "FetalLeydig           200\n",
      "Immune                384\n",
      "Mesenchymal_GATA2    3724\n",
      "PGC                    12\n",
      "PV                    118\n",
      "Sertoli               883\n",
      "Ti                    605\n",
      "early_sPAX8           348\n",
      "late_sPAX8            117\n",
      "dtype: int64\n",
      "Hrv58\n"
     ]
    },
    {
     "name": "stderr",
     "output_type": "stream",
     "text": [
      "/home/jovyan/my-conda-envs/cellpymc/lib/python3.7/site-packages/pandas/core/arrays/categorical.py:2487: FutureWarning: The `inplace` parameter in pandas.Categorical.remove_unused_categories is deprecated and will be removed in a future version.\n",
      "  res = method(*args, **kwargs)\n",
      "/home/jovyan/my-conda-envs/cellpymc/lib/python3.7/site-packages/pandas/core/arrays/categorical.py:2487: FutureWarning: The `inplace` parameter in pandas.Categorical.remove_unused_categories is deprecated and will be removed in a future version.\n",
      "  res = method(*args, **kwargs)\n",
      "Trying to set attribute `.obs` of view, copying.\n",
      "/home/jovyan/my-conda-envs/cellpymc/lib/python3.7/site-packages/anndata/_core/anndata.py:119: ImplicitModificationWarning: Transforming to str index.\n",
      "  warnings.warn(\"Transforming to str index.\", ImplicitModificationWarning)\n",
      "Variable names are not unique. To make them unique, call `.var_names_make_unique`.\n",
      "Variable names are not unique. To make them unique, call `.var_names_make_unique`.\n",
      "Variable names are not unique. To make them unique, call `.var_names_make_unique`.\n",
      "Variable names are not unique. To make them unique, call `.var_names_make_unique`.\n",
      "Variable names are not unique. To make them unique, call `.var_names_make_unique`.\n",
      "Variable names are not unique. To make them unique, call `.var_names_make_unique`.\n",
      "/home/jovyan/my-conda-envs/cellpymc/lib/python3.7/site-packages/pandas/core/arrays/categorical.py:2487: FutureWarning: The `inplace` parameter in pandas.Categorical.remove_unused_categories is deprecated and will be removed in a future version.\n",
      "  res = method(*args, **kwargs)\n",
      "/home/jovyan/my-conda-envs/cellpymc/lib/python3.7/site-packages/anndata/_core/anndata.py:1208: ImplicitModificationWarning: Initializing view as actual.\n",
      "  \"Initializing view as actual.\", ImplicitModificationWarning\n",
      "Trying to set attribute `.obs` of view, copying.\n",
      "Variable names are not unique. To make them unique, call `.var_names_make_unique`.\n",
      "Variable names are not unique. To make them unique, call `.var_names_make_unique`.\n",
      "... storing 'celltype' as categorical\n",
      "Trying to set attribute `.obs` of view, copying.\n",
      "Variable names are not unique. To make them unique, call `.var_names_make_unique`.\n",
      "Variable names are not unique. To make them unique, call `.var_names_make_unique`.\n",
      "... storing 'labels' as categorical\n"
     ]
    },
    {
     "name": "stdout",
     "output_type": "stream",
     "text": [
      "labels\n",
      "CoelEpi_LHX9           21\n",
      "Endothelial          1692\n",
      "Epithelial           4096\n",
      "GC_mitotic             32\n",
      "Gi                     26\n",
      "Immune                570\n",
      "Mesenchymal_GATA2    8791\n",
      "Neural                415\n",
      "OSE                   104\n",
      "Oi                   2595\n",
      "PGC                    49\n",
      "PV                   4479\n",
      "SMCs                 3031\n",
      "granulosa             339\n",
      "oocyte                225\n",
      "oogonia_STRA8         145\n",
      "oogonia_meiotic       235\n",
      "preGC_I               166\n",
      "preGC_IIa             116\n",
      "preGC_IIb             822\n",
      "pre_oocyte            170\n",
      "dtype: int64\n",
      "Hrv3\n"
     ]
    },
    {
     "name": "stderr",
     "output_type": "stream",
     "text": [
      "/home/jovyan/my-conda-envs/cellpymc/lib/python3.7/site-packages/pandas/core/arrays/categorical.py:2487: FutureWarning: The `inplace` parameter in pandas.Categorical.remove_unused_categories is deprecated and will be removed in a future version.\n",
      "  res = method(*args, **kwargs)\n",
      "/home/jovyan/my-conda-envs/cellpymc/lib/python3.7/site-packages/pandas/core/arrays/categorical.py:2487: FutureWarning: The `inplace` parameter in pandas.Categorical.remove_unused_categories is deprecated and will be removed in a future version.\n",
      "  res = method(*args, **kwargs)\n",
      "Trying to set attribute `.obs` of view, copying.\n",
      "/home/jovyan/my-conda-envs/cellpymc/lib/python3.7/site-packages/anndata/_core/anndata.py:119: ImplicitModificationWarning: Transforming to str index.\n",
      "  warnings.warn(\"Transforming to str index.\", ImplicitModificationWarning)\n",
      "Variable names are not unique. To make them unique, call `.var_names_make_unique`.\n",
      "Variable names are not unique. To make them unique, call `.var_names_make_unique`.\n",
      "Variable names are not unique. To make them unique, call `.var_names_make_unique`.\n",
      "Variable names are not unique. To make them unique, call `.var_names_make_unique`.\n",
      "Variable names are not unique. To make them unique, call `.var_names_make_unique`.\n",
      "Variable names are not unique. To make them unique, call `.var_names_make_unique`.\n",
      "/home/jovyan/my-conda-envs/cellpymc/lib/python3.7/site-packages/pandas/core/arrays/categorical.py:2487: FutureWarning: The `inplace` parameter in pandas.Categorical.remove_unused_categories is deprecated and will be removed in a future version.\n",
      "  res = method(*args, **kwargs)\n",
      "/home/jovyan/my-conda-envs/cellpymc/lib/python3.7/site-packages/anndata/_core/anndata.py:1208: ImplicitModificationWarning: Initializing view as actual.\n",
      "  \"Initializing view as actual.\", ImplicitModificationWarning\n",
      "Trying to set attribute `.obs` of view, copying.\n",
      "Variable names are not unique. To make them unique, call `.var_names_make_unique`.\n",
      "Variable names are not unique. To make them unique, call `.var_names_make_unique`.\n",
      "... storing 'celltype' as categorical\n",
      "Trying to set attribute `.obs` of view, copying.\n",
      "Variable names are not unique. To make them unique, call `.var_names_make_unique`.\n",
      "Variable names are not unique. To make them unique, call `.var_names_make_unique`.\n",
      "... storing 'labels' as categorical\n"
     ]
    },
    {
     "name": "stdout",
     "output_type": "stream",
     "text": [
      "labels\n",
      "CoelEpi_LHX9           93\n",
      "Endothelial           339\n",
      "Epithelial            188\n",
      "FetalLeydig           348\n",
      "GC                    101\n",
      "GC_mitotic             10\n",
      "Immune                358\n",
      "Mesenchymal_GATA2    1241\n",
      "PGC                   340\n",
      "PV                    226\n",
      "Sertoli              5515\n",
      "Ti                   3242\n",
      "late_sPAX8             70\n",
      "pre_spermatogonia     390\n",
      "dtype: int64\n",
      "Hrv27\n"
     ]
    },
    {
     "name": "stderr",
     "output_type": "stream",
     "text": [
      "/home/jovyan/my-conda-envs/cellpymc/lib/python3.7/site-packages/pandas/core/arrays/categorical.py:2487: FutureWarning: The `inplace` parameter in pandas.Categorical.remove_unused_categories is deprecated and will be removed in a future version.\n",
      "  res = method(*args, **kwargs)\n",
      "/home/jovyan/my-conda-envs/cellpymc/lib/python3.7/site-packages/pandas/core/arrays/categorical.py:2487: FutureWarning: The `inplace` parameter in pandas.Categorical.remove_unused_categories is deprecated and will be removed in a future version.\n",
      "  res = method(*args, **kwargs)\n",
      "Trying to set attribute `.obs` of view, copying.\n",
      "/home/jovyan/my-conda-envs/cellpymc/lib/python3.7/site-packages/anndata/_core/anndata.py:119: ImplicitModificationWarning: Transforming to str index.\n",
      "  warnings.warn(\"Transforming to str index.\", ImplicitModificationWarning)\n",
      "Variable names are not unique. To make them unique, call `.var_names_make_unique`.\n",
      "Variable names are not unique. To make them unique, call `.var_names_make_unique`.\n",
      "Variable names are not unique. To make them unique, call `.var_names_make_unique`.\n",
      "Variable names are not unique. To make them unique, call `.var_names_make_unique`.\n",
      "Variable names are not unique. To make them unique, call `.var_names_make_unique`.\n",
      "Variable names are not unique. To make them unique, call `.var_names_make_unique`.\n",
      "/home/jovyan/my-conda-envs/cellpymc/lib/python3.7/site-packages/pandas/core/arrays/categorical.py:2487: FutureWarning: The `inplace` parameter in pandas.Categorical.remove_unused_categories is deprecated and will be removed in a future version.\n",
      "  res = method(*args, **kwargs)\n",
      "/home/jovyan/my-conda-envs/cellpymc/lib/python3.7/site-packages/anndata/_core/anndata.py:1208: ImplicitModificationWarning: Initializing view as actual.\n",
      "  \"Initializing view as actual.\", ImplicitModificationWarning\n",
      "Trying to set attribute `.obs` of view, copying.\n",
      "Variable names are not unique. To make them unique, call `.var_names_make_unique`.\n",
      "Variable names are not unique. To make them unique, call `.var_names_make_unique`.\n",
      "... storing 'celltype' as categorical\n",
      "Trying to set attribute `.obs` of view, copying.\n",
      "Variable names are not unique. To make them unique, call `.var_names_make_unique`.\n",
      "Variable names are not unique. To make them unique, call `.var_names_make_unique`.\n",
      "... storing 'labels' as categorical\n"
     ]
    },
    {
     "name": "stdout",
     "output_type": "stream",
     "text": [
      "labels\n",
      "CoelEpi_LHX9           674\n",
      "Endothelial           2236\n",
      "Epithelial             308\n",
      "FetalLeydig            799\n",
      "GC                      91\n",
      "GC_mitotic              31\n",
      "Immune                 850\n",
      "Mesenchymal_GATA2     9494\n",
      "Neural                  22\n",
      "PGC                   1003\n",
      "PV                     737\n",
      "Sertoli              13313\n",
      "Ti                   18125\n",
      "late_sPAX8             939\n",
      "pre_spermatogonia      115\n",
      "dtype: int64\n",
      "Hrv13\n"
     ]
    },
    {
     "name": "stderr",
     "output_type": "stream",
     "text": [
      "/home/jovyan/my-conda-envs/cellpymc/lib/python3.7/site-packages/pandas/core/arrays/categorical.py:2487: FutureWarning: The `inplace` parameter in pandas.Categorical.remove_unused_categories is deprecated and will be removed in a future version.\n",
      "  res = method(*args, **kwargs)\n",
      "/home/jovyan/my-conda-envs/cellpymc/lib/python3.7/site-packages/pandas/core/arrays/categorical.py:2487: FutureWarning: The `inplace` parameter in pandas.Categorical.remove_unused_categories is deprecated and will be removed in a future version.\n",
      "  res = method(*args, **kwargs)\n",
      "Trying to set attribute `.obs` of view, copying.\n",
      "/home/jovyan/my-conda-envs/cellpymc/lib/python3.7/site-packages/anndata/_core/anndata.py:119: ImplicitModificationWarning: Transforming to str index.\n",
      "  warnings.warn(\"Transforming to str index.\", ImplicitModificationWarning)\n",
      "Variable names are not unique. To make them unique, call `.var_names_make_unique`.\n",
      "Variable names are not unique. To make them unique, call `.var_names_make_unique`.\n",
      "Variable names are not unique. To make them unique, call `.var_names_make_unique`.\n",
      "Variable names are not unique. To make them unique, call `.var_names_make_unique`.\n",
      "Variable names are not unique. To make them unique, call `.var_names_make_unique`.\n",
      "Variable names are not unique. To make them unique, call `.var_names_make_unique`.\n",
      "/home/jovyan/my-conda-envs/cellpymc/lib/python3.7/site-packages/pandas/core/arrays/categorical.py:2487: FutureWarning: The `inplace` parameter in pandas.Categorical.remove_unused_categories is deprecated and will be removed in a future version.\n",
      "  res = method(*args, **kwargs)\n",
      "/home/jovyan/my-conda-envs/cellpymc/lib/python3.7/site-packages/anndata/_core/anndata.py:1208: ImplicitModificationWarning: Initializing view as actual.\n",
      "  \"Initializing view as actual.\", ImplicitModificationWarning\n",
      "Trying to set attribute `.obs` of view, copying.\n",
      "Variable names are not unique. To make them unique, call `.var_names_make_unique`.\n",
      "Variable names are not unique. To make them unique, call `.var_names_make_unique`.\n",
      "... storing 'celltype' as categorical\n",
      "Trying to set attribute `.obs` of view, copying.\n",
      "Variable names are not unique. To make them unique, call `.var_names_make_unique`.\n",
      "Variable names are not unique. To make them unique, call `.var_names_make_unique`.\n",
      "... storing 'labels' as categorical\n"
     ]
    },
    {
     "name": "stdout",
     "output_type": "stream",
     "text": [
      "labels\n",
      "CoelEpi_GATA2         118\n",
      "CoelEpi_LHX9          504\n",
      "Endothelial           178\n",
      "Epithelial            484\n",
      "Gi                    136\n",
      "Immune                 68\n",
      "Mesenchymal_GATA2    2723\n",
      "Neural                 17\n",
      "OSE                   598\n",
      "Oi                   1789\n",
      "PGC                   173\n",
      "PV                    120\n",
      "early_sPAX8           663\n",
      "early_somatic          36\n",
      "early_supporting      109\n",
      "preGC_I              2759\n",
      "preGC_IIa            1797\n",
      "preGC_IIb              36\n",
      "dtype: int64\n"
     ]
    },
    {
     "data": {
      "image/png": "[encoded data removed]",
      "text/plain": [
       "<Figure size 640x640 with 1 Axes>"
      ]
     },
     "metadata": {},
     "output_type": "display_data"
    }
   ],
   "source": [
    "germ_cells = ['PGC', 'PGC_mitotic',  'GC_mitotic',  'oogonia_STRA8',  'oogonia_meiotic', 'pre_oocyte', 'oocyte', 'pre_spermatogonia']\n",
    "male_cl = ['Ti', 'pre_spermatogonia', 'FetalLeydig', 'Sertoli', 'late_sPAX8']\n",
    "female_cl = ['Oi',  'oogonia_STRA8',  'oogonia_meiotic', 'pre_oocyte', 'oocyte', 'preGC_I', 'preGC_IIa', 'preGC_IIb',  'granulosa', 'OSE']\n",
    "\n",
    "for sam in donors_match.keys():\n",
    "    print(sam)\n",
    "    andata_f = adata[[ind in donors_match[sam] for ind in adata.obs['donor']]]\n",
    "    freqs = andata_f.obs.groupby('labels').size()\n",
    "    # keep labels more than 5 cells\n",
    "#     if 'Hrv11' in sam:\n",
    "#         andata_f = andata_f[[i  in freqs[ freqs > 6].index for i in andata_f.obs.labels ]]\n",
    "#     else:\n",
    "    andata_f = andata_f[[i in freqs[ freqs > 3 ].index for i in andata_f.obs.labels ]] \n",
    "    andata_f = andata_f[[i in freqs[ freqs > 15 ].index or i in germ_cells for i in andata_f.obs.labels ]]        \n",
    "       \n",
    "    # F83 does not have any epithelial duct, from visual inspection of the H&E\n",
    "    if 'F83' in sam:\n",
    "        andata_f = andata_f[[ i not in 'Epithelial'  for i in andata_f.obs.labels ]] \n",
    "        andata_f = andata_f[[ i not in male_cl  for i in andata_f.obs.labels ]]  \n",
    "    if 'Hrv69' in sam:\n",
    "        andata_f = andata_f[[ i not in male_cl  for i in andata_f.obs.labels ]] \n",
    "    if 'Hrv58' in sam:\n",
    "        andata_f = andata_f[[ i not in male_cl  for i in andata_f.obs.labels ]] \n",
    "    if 'F91' in sam:\n",
    "        andata_f = andata_f[[ i not in ['granulosa']  for i in andata_f.obs.labels ]]\n",
    "        andata_f = andata_f[[ i not in male_cl  for i in andata_f.obs.labels ]]  \n",
    "    if 'Hrv11' in sam:\n",
    "        andata_f = andata_f[[ i not in ['granulosa']  for i in andata_f.obs.labels ]]\n",
    "        andata_f = andata_f[[ i not in male_cl  for i in andata_f.obs.labels ]]  \n",
    "    if 'F81' in sam:\n",
    "        andata_f = andata_f[[ i not in ['preGC_IIb', 'granulosa']  for i in andata_f.obs.labels ]]\n",
    "        andata_f = andata_f[[ i not in male_cl  for i in andata_f.obs.labels ]]     \n",
    "    if 'Hrv13' in sam:\n",
    "        andata_f = andata_f[[ i not in male_cl  for i in andata_f.obs.labels ]] \n",
    "    if 'F94' in sam:\n",
    "        andata_f = andata_f[[ i not in female_cl  for i in andata_f.obs.labels ]]  \n",
    "    if 'Hrv41' in sam:\n",
    "        andata_f = andata_f[[ i not in female_cl  for i in andata_f.obs.labels ]]  \n",
    "    if 'Hrv3' in sam:\n",
    "        andata_f = andata_f[[ i not in female_cl  for i in andata_f.obs.labels ]]   \n",
    "    if 'Hrv15' in sam:\n",
    "        andata_f = andata_f[[ i not in female_cl  for i in andata_f.obs.labels ]]   \n",
    "    if 'Hrv27' in sam:\n",
    "        andata_f = andata_f[[ i not in female_cl  for i in andata_f.obs.labels ]] \n",
    "# Reduce the number of genes by discarding lowly expressed genes\n",
    "# This is performed using 2 cut-off to remove as many lowly expressed genes as possible and yet avoid highly variable gene selection (HVG):\n",
    "# - Include all genes expressed by at least 1% of cells (cell_count_cutoff2)\n",
    "# - BECAUSE WE HAVE VERY RARE CELL TYPES (germ cells) Include genes expressed by at least 0.01% of cells (cell_count_cutoff) \n",
    "#   when they have high counts in non-zero cells (nonz_mean_cutoff)\n",
    "\n",
    "    # Remove cells and genes with 0 counts everywhere\n",
    "    sc.pp.filter_cells(andata_f, min_genes=2)\n",
    "    sc.pp.filter_genes(andata_f, min_cells=2)\n",
    "\n",
    "    # calculate the mean of each gene across non-zero cells\n",
    "    andata_f.var['n_cells'] = (andata_f.X.toarray() > 0).sum(0)\n",
    "    andata_f.var['nonz_mean'] = andata_f.X.toarray().sum(0) / andata_f.var['n_cells']\n",
    "    nonz_mean_cutoff = 0.05\n",
    "    cell_count_cutoff = np.log10(andata_f.shape[0] * 0.0001)\n",
    "    cell_count_cutoff2 = np.log10(andata_f.shape[0] * 0.01)\n",
    "    plt.vlines(nonz_mean_cutoff, cell_count_cutoff, cell_count_cutoff2, color='red');\n",
    "    plt.hlines(cell_count_cutoff, nonz_mean_cutoff, 1, color='red');\n",
    "    plt.hlines(cell_count_cutoff2, 0, nonz_mean_cutoff, color='red');\n",
    "\n",
    "    # select genes based on mean expression in non-zero cells\n",
    "    andata_ff = andata_f[:,(np.array(np.log10(andata_f.var['nonz_mean']) > nonz_mean_cutoff)\n",
    "                            | np.array(np.log10(andata_f.var['n_cells']) > cell_count_cutoff2))\n",
    "                             & np.array(np.log10(andata_f.var['n_cells']) > cell_count_cutoff)\n",
    "                             & np.array(~andata_f.var.index.isna())]\n",
    "\n",
    "    os.system('mkdir -p '+ path+'/cell2location/'+sam+'/')  \n",
    "    andata_ff.write(path + '/cell2location/' + sam + '/'+ sam + '_scRNAseq.h5ad')\n",
    "    \n",
    "    freqs = andata_ff.obs.groupby('labels').size()\n",
    "    print(freqs)"
   ]
  },
  {
   "cell_type": "markdown",
   "metadata": {},
   "source": [
    "# Slice dataset for females"
   ]
  },
  {
   "cell_type": "code",
   "execution_count": null,
   "metadata": {},
   "outputs": [],
   "source": [
    "germ_cells = ['PGC', 'PGC_mitotic',  'GC', 'GC_mitotic',  'oogonia_STRA8',  'oogonia_meiotic',  'oocyte', 'pre_oocyte']\n",
    "sam = ['Hrv58', 'Hrv69', 'F83', 'F91', 'Hrv11']\n",
    "andata_f = adata[[ind in sam for ind in adata.obs['donor']]]\n",
    "freqs = andata_f.obs.groupby('labels').size()\n",
    "andata_f = andata_f[[i in freqs[ freqs > 50 ].index for i in andata_f.obs.labels ]] \n",
    "andata_f = andata_f[[i in freqs[ freqs > 40 ].index or i in germ_cells for i in andata_f.obs.labels ]]        \n",
    "\n",
    "\n",
    "# Remove male clusters\n",
    "andata_f = andata_f[[ i not in male_cl  for i in andata_f.obs.labels ]]  \n",
    "# Reduce the number of genes by discarding lowly expressed genes\n",
    "# This is performed using 2 cut-off to remove as many lowly expressed genes as possible and yet avoid highly variable gene selection (HVG):\n",
    "# - Include all genes expressed by at least 1% of cells (cell_count_cutoff2)\n",
    "# - BECAUSE WE HAVE VERY RARE CELL TYPES (germ cells) Include genes expressed by at least 0.01% of cells (cell_count_cutoff) \n",
    "#   when they have high counts in non-zero cells (nonz_mean_cutoff)\n",
    "\n",
    "# Remove cells and genes with 0 counts everywhere\n",
    "sc.pp.filter_cells(andata_f, min_genes=2)\n",
    "sc.pp.filter_genes(andata_f, min_cells=2)\n",
    "\n",
    "# calculate the mean of each gene across non-zero cells\n",
    "andata_f.var['n_cells'] = (andata_f.X.toarray() > 0).sum(0)\n",
    "andata_f.var['nonz_mean'] = andata_f.X.toarray().sum(0) / andata_f.var['n_cells']\n",
    "# plt.hist2d(np.log10(andata_f.var['nonz_mean']),\n",
    "#            np.log10(andata_f.var['n_cells']), bins=100,\n",
    "#            norm=mpl.colors.LogNorm(),\n",
    "#            range=[[0,0.5], [1,4.5]]);\n",
    "nonz_mean_cutoff = 0.05\n",
    "cell_count_cutoff = np.log10(andata_f.shape[0] * 0.0001)\n",
    "cell_count_cutoff2 = np.log10(andata_f.shape[0] * 0.01)\n",
    "plt.vlines(nonz_mean_cutoff, cell_count_cutoff, cell_count_cutoff2, color='red');\n",
    "plt.hlines(cell_count_cutoff, nonz_mean_cutoff, 1, color='red');\n",
    "plt.hlines(cell_count_cutoff2, 0, nonz_mean_cutoff, color='red');\n",
    "\n",
    "# select genes based on mean expression in non-zero cells\n",
    "andata_ff = andata_f[:,(np.array(np.log10(andata_f.var['nonz_mean']) > nonz_mean_cutoff)\n",
    "                        | np.array(np.log10(andata_f.var['n_cells']) > cell_count_cutoff2))\n",
    "                         & np.array(np.log10(andata_f.var['n_cells']) > cell_count_cutoff)\n",
    "                         & np.array(~andata_f.var.index.isna())]\n",
    "\n",
    "os.system('mkdir -p '+ path+'/cell2location/females/')  \n",
    "andata_ff.write(path + '/cell2location/females/females_scRNAseq.h5ad')\n",
    "\n",
    "freqs = andata_ff.obs.groupby('labels').size()\n",
    "print(freqs)"
   ]
  },
  {
   "cell_type": "markdown",
   "metadata": {},
   "source": [
    "# Slice dataset for males"
   ]
  },
  {
   "cell_type": "code",
   "execution_count": null,
   "metadata": {},
   "outputs": [],
   "source": [
    "germ_cells = ['sLGR5', 'PGC', 'PGC_mitotic',  'GC_mitotic',  'oogonia_STRA8',  'oogonia_meiotic',  'oocyte', 'gonocyte']\n",
    "sam = ['F94', 'Hrv41', 'Hrv3', 'Hrv27','Hrv15']\n",
    "andata_f = adata[[ind in sam for ind in adata.obs['donor']]]\n",
    "freqs = andata_f.obs.groupby('labels').size()\n",
    "andata_f = andata_f[[i in freqs[ freqs > 5 ].index for i in andata_f.obs.labels ]] \n",
    "andata_f = andata_f[[i in freqs[ freqs > 30 ].index or i in germ_cells for i in andata_f.obs.labels ]]        \n",
    "\n",
    "\n",
    "# Remove female clusters\n",
    "andata_f = andata_f[[ i not in female_cl  for i in andata_f.obs.labels ]] # Reduce the number of genes by discarding lowly expressed genes\n",
    "# This is performed using 2 cut-off to remove as many lowly expressed genes as possible and yet avoid highly variable gene selection (HVG):\n",
    "# - Include all genes expressed by at least 1% of cells (cell_count_cutoff2)\n",
    "# - BECAUSE WE HAVE VERY RARE CELL TYPES (germ cells) Include genes expressed by at least 0.01% of cells (cell_count_cutoff) \n",
    "#   when they have high counts in non-zero cells (nonz_mean_cutoff)\n",
    "\n",
    "# Remove cells and genes with 0 counts everywhere\n",
    "sc.pp.filter_cells(andata_f, min_genes=2)\n",
    "sc.pp.filter_genes(andata_f, min_cells=2)\n",
    "\n",
    "# calculate the mean of each gene across non-zero cells\n",
    "andata_f.var['n_cells'] = (andata_f.X.toarray() > 0).sum(0)\n",
    "andata_f.var['nonz_mean'] = andata_f.X.toarray().sum(0) / andata_f.var['n_cells']\n",
    "# plt.hist2d(np.log10(andata_f.var['nonz_mean']),\n",
    "#            np.log10(andata_f.var['n_cells']), bins=100,\n",
    "#            norm=mpl.colors.LogNorm(),\n",
    "#            range=[[0,0.5], [1,4.5]]);\n",
    "nonz_mean_cutoff = 0.05\n",
    "cell_count_cutoff = np.log10(andata_f.shape[0] * 0.0001)\n",
    "cell_count_cutoff2 = np.log10(andata_f.shape[0] * 0.01)\n",
    "plt.vlines(nonz_mean_cutoff, cell_count_cutoff, cell_count_cutoff2, color='red');\n",
    "plt.hlines(cell_count_cutoff, nonz_mean_cutoff, 1, color='red');\n",
    "plt.hlines(cell_count_cutoff2, 0, nonz_mean_cutoff, color='red');\n",
    "\n",
    "# select genes based on mean expression in non-zero cells\n",
    "andata_ff = andata_f[:,(np.array(np.log10(andata_f.var['nonz_mean']) > nonz_mean_cutoff)\n",
    "                        | np.array(np.log10(andata_f.var['n_cells']) > cell_count_cutoff2))\n",
    "                         & np.array(np.log10(andata_f.var['n_cells']) > cell_count_cutoff)\n",
    "                         & np.array(~andata_f.var.index.isna())]\n",
    "\n",
    "os.system('mkdir -p '+ path+'/cell2location/males/')  \n",
    "andata_ff.write(path + '/cell2location/males/males_scRNAseq.h5ad')\n",
    "\n",
    "freqs = andata_ff.obs.groupby('labels').size()\n",
    "print(freqs)"
   ]
  },
  {
   "cell_type": "code",
   "execution_count": null,
   "metadata": {},
   "outputs": [],
   "source": []
  }
 ],
 "metadata": {
  "kernelspec": {
   "display_name": "cellpymc",
   "language": "python",
   "name": "cellpymc"
  },
  "language_info": {
   "codemirror_mode": {
    "name": "ipython",
    "version": 3
   },
   "file_extension": ".py",
   "mimetype": "text/x-python",
   "name": "python",
   "nbconvert_exporter": "python",
   "pygments_lexer": "ipython3",
   "version": "3.7.10"
  }
 },
 "nbformat": 4,
 "nbformat_minor": 4
}
