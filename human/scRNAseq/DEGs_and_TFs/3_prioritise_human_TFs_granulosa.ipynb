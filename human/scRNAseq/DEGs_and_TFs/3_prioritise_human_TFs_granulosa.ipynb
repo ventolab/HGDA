{
 "cells": [
  {
   "cell_type": "markdown",
   "metadata": {},
   "source": [
    "# Granulosa lineage HUMANs - TFs prioritization"
   ]
  },
  {
   "cell_type": "code",
   "execution_count": 1,
   "metadata": {},
   "outputs": [
    {
     "name": "stderr",
     "output_type": "stream",
     "text": [
      "\n",
      "Attaching package: ‘dplyr’\n",
      "\n",
      "\n",
      "The following objects are masked from ‘package:stats’:\n",
      "\n",
      "    filter, lag\n",
      "\n",
      "\n",
      "The following objects are masked from ‘package:base’:\n",
      "\n",
      "    intersect, setdiff, setequal, union\n",
      "\n",
      "\n"
     ]
    }
   ],
   "source": [
    "library(dplyr)\n",
    "library(RColorBrewer)\n",
    "library(ggplot2)\n",
    "library(pheatmap)\n",
    "library(cowplot)\n",
    "library(reshape2)"
   ]
  },
  {
   "cell_type": "code",
   "execution_count": 2,
   "metadata": {},
   "outputs": [
    {
     "data": {
      "text/plain": [
       "R version 4.0.3 (2020-10-10)\n",
       "Platform: x86_64-conda-linux-gnu (64-bit)\n",
       "Running under: Ubuntu 20.04.1 LTS\n",
       "\n",
       "Matrix products: default\n",
       "BLAS:   /home/jovyan/my-conda-envs/R_Seurat3/lib/libblas.so.3.8.0\n",
       "LAPACK: /home/jovyan/my-conda-envs/R_Seurat3/lib/liblapack.so.3.8.0\n",
       "\n",
       "locale:\n",
       " [1] LC_CTYPE=en_US.UTF-8       LC_NUMERIC=C              \n",
       " [3] LC_TIME=en_US.UTF-8        LC_COLLATE=en_US.UTF-8    \n",
       " [5] LC_MONETARY=en_US.UTF-8    LC_MESSAGES=en_US.UTF-8   \n",
       " [7] LC_PAPER=en_US.UTF-8       LC_NAME=C                 \n",
       " [9] LC_ADDRESS=C               LC_TELEPHONE=C            \n",
       "[11] LC_MEASUREMENT=en_US.UTF-8 LC_IDENTIFICATION=C       \n",
       "\n",
       "attached base packages:\n",
       "[1] stats     graphics  grDevices utils     datasets  methods   base     \n",
       "\n",
       "other attached packages:\n",
       "[1] reshape2_1.4.4     cowplot_1.1.1      pheatmap_1.0.12    ggplot2_3.3.3     \n",
       "[5] RColorBrewer_1.1-2 dplyr_1.0.5       \n",
       "\n",
       "loaded via a namespace (and not attached):\n",
       " [1] Rcpp_1.0.6          plyr_1.8.6          pillar_1.5.1       \n",
       " [4] compiler_4.0.3      base64enc_0.1-3     tools_4.0.3        \n",
       " [7] digest_0.6.27       uuid_0.1-4          jsonlite_1.7.2     \n",
       "[10] evaluate_0.14       lifecycle_1.0.0     tibble_3.1.0       \n",
       "[13] gtable_0.3.0        pkgconfig_2.0.3     rlang_0.4.10       \n",
       "[16] IRdisplay_1.0       DBI_1.1.1           IRkernel_1.1.1.9000\n",
       "[19] stringr_1.4.0       repr_1.1.3          withr_2.4.1        \n",
       "[22] generics_0.1.0      vctrs_0.3.6         grid_4.0.3         \n",
       "[25] tidyselect_1.1.0    glue_1.4.2          R6_2.5.0           \n",
       "[28] fansi_0.4.2         pbdZMQ_0.3-5        purrr_0.3.4        \n",
       "[31] magrittr_2.0.1      scales_1.1.1        ellipsis_0.3.1     \n",
       "[34] htmltools_0.5.1.1   assertthat_0.2.1    colorspace_2.0-0   \n",
       "[37] utf8_1.2.1          stringi_1.5.3       munsell_0.5.0      \n",
       "[40] crayon_1.4.1       "
      ]
     },
     "metadata": {},
     "output_type": "display_data"
    }
   ],
   "source": [
    "sessionInfo()"
   ]
  },
  {
   "cell_type": "code",
   "execution_count": 3,
   "metadata": {},
   "outputs": [],
   "source": [
    "path_to_gonads = '/nfs/team292/lg18/with_valentina/gonadsV2_revision/'"
   ]
  },
  {
   "cell_type": "markdown",
   "metadata": {},
   "source": [
    "# Load measurements\n",
    "## RNA derived TFs info"
   ]
  },
  {
   "cell_type": "code",
   "execution_count": 4,
   "metadata": {},
   "outputs": [],
   "source": [
    "# Load TF activities computed with Dorothea\n",
    "TFact = read.csv(paste0(path_to_gonads,'/FCA_somaticOvary_TFact.tsv'), stringsAsFactors = F, sep ='\\t')\n",
    "TFact$Dorothea_score = strsplit(TFact$gene, split = '-') %>% sapply(., tail, 1) #  dorothea score\n",
    "TFact$TF = strsplit(TFact$gene, split = '-') %>% sapply(., head, 1) # remove dorothea score\n",
    "TFact$gene = TFact$gene\n",
    "TFact$ID = paste0(TFact$cluster, '__', TFact$TF)\n",
    "TFact$RNA_TFact = ifelse(TFact$p_val_adj < 0.01 & TFact$avg_logFC > 0.1 , 1, 0) \n",
    "\n",
    "\n",
    "# Load differentially expressed genes\n",
    "DEGs = read.csv(paste0(path_to_gonads,'/FCA-gonad_somaticOvary_DEGs.tsv'), stringsAsFactors = F, sep ='\\t')\n",
    "DEGs$TF = DEGs$gene\n",
    "DEGs$ID = paste0(DEGs$cluster, '__', DEGs$TF)\n",
    "# DEGs$avg_logFC = DEGs$avg_logFC\n",
    "DEGs$RNA_DEGs = ifelse(DEGs$p_val_adj < 0.01 & DEGs$avg_logFC >= 0.1 & DEGs$pct.1 > 0.2, 1, 0) "
   ]
  },
  {
   "cell_type": "markdown",
   "metadata": {},
   "source": [
    "## ATAC derived TFs info"
   ]
  },
  {
   "cell_type": "code",
   "execution_count": 5,
   "metadata": {},
   "outputs": [],
   "source": [
    "TFmotifs = read.csv('/nfs/team292/vl6/my_MULTIOME_dir/supporting_july2021/TFs/DARs/all_DA_peaks_LR_for_Luz.csv', stringsAsFactors = F)\n",
    "colnames(TFmotifs)[ colnames(TFmotifs) == 'avg_log2FC'] = 'avg_logFC'\n",
    "\n",
    "TFmotifs$cluster = gsub('-', '_', TFmotifs$cluster)\n",
    "TFmotifs$cluster = gsub('sPAX8', 'early_sPAX8', TFmotifs$cluster)\n",
    "# TFmotifs$cluster = gsub('pre_spermatogonia', 'pre-spermatogonia', TFmotifs$cluster)\n",
    "TFmotifs$TF = strsplit(TFmotifs$X, split = '\\\\.') %>% sapply(., head, 1)\n",
    "TFmotifs$TF = gsub('-HUMAN', '', TFmotifs$TF)\n",
    "TFmotifs = subset(TFmotifs, TF %in% c(TFact$TF, DEGs$TF) )\n",
    "TFmotifs$ID = paste0(TFmotifs$cluster, '__', TFmotifs$TF)\n",
    "# TFmotifs = subset(TFmotifs, TF %in% TFact$TF)\n",
    "TFmotifs = TFmotifs[ order(TFmotifs$avg_logFC, decreasing = T) , ]\n",
    "TFmotifs = TFmotifs[ ! duplicated(TFmotifs$ID) , ]\n",
    "\n",
    "TFmotifs$ATAC_TFact = ifelse(TFmotifs$p_val_adj < 0.01 & TFmotifs$avg_logFC > 0.1 , 1, 0) "
   ]
  },
  {
   "cell_type": "markdown",
   "metadata": {},
   "source": [
    "### Check clusters are shared"
   ]
  },
  {
   "cell_type": "code",
   "execution_count": 6,
   "metadata": {},
   "outputs": [
    {
     "name": "stdout",
     "output_type": "stream",
     "text": [
      "[1] \"early_somatic\"\n",
      "[1] \"shared\"\n",
      "[1] \"preGC_IIa\"        \"preGC_I\"          \"CoelEpi_LHX9\"     \"OSE\"             \n",
      "[5] \"early_supporting\" \"preGC_IIb\"        \"granulosa\"       \n"
     ]
    }
   ],
   "source": [
    "shared = Reduce(intersect, list(TFmotifs$cluster, TFact$cluster, DEGs$cluster) )\n",
    "print(setdiff(DEGs$cluster, shared ))\n",
    "print('shared')\n",
    "print(intersect(DEGs$cluster, shared ))"
   ]
  },
  {
   "cell_type": "markdown",
   "metadata": {},
   "source": [
    "# Merge into a dataframe"
   ]
  },
  {
   "cell_type": "code",
   "execution_count": 7,
   "metadata": {},
   "outputs": [],
   "source": [
    "# add prefix to column names to identify origin\n",
    "names(TFact)[c(1:2,5, 8)] = paste0('RNA_TFact.', names(TFact)[c(1:2,5,8)])\n",
    "names(DEGs)[c(1:5)] = paste0('RNA_DEGs.', names(DEGs)[c(1:5)])\n",
    "names(TFmotifs)[c(2:3,6)] = paste0('ATAC_TFact.', names(TFmotifs)[c(2:3,6)])\n",
    "names(TFmotifs)[1] = 'ATAC_PWM' "
   ]
  },
  {
   "cell_type": "code",
   "execution_count": 8,
   "metadata": {},
   "outputs": [
    {
     "data": {
      "text/html": [
       "<table class=\"dataframe\">\n",
       "<caption>A data.frame: 6 × 20</caption>\n",
       "<thead>\n",
       "\t<tr><th></th><th scope=col>ID</th><th scope=col>RNA_DEGs.p_val</th><th scope=col>RNA_DEGs.avg_logFC</th><th scope=col>RNA_DEGs.pct.1</th><th scope=col>RNA_DEGs.pct.2</th><th scope=col>RNA_DEGs.p_val_adj</th><th scope=col>cluster</th><th scope=col>gene</th><th scope=col>TF</th><th scope=col>RNA_DEGs</th><th scope=col>RNA_TFact.p_val</th><th scope=col>RNA_TFact.avg_logFC</th><th scope=col>RNA_TFact.p_val_adj</th><th scope=col>RNA_TFact.Dorothea_score</th><th scope=col>RNA_TFact</th><th scope=col>ATAC_PWM</th><th scope=col>ATAC_TFact.p_val</th><th scope=col>ATAC_TFact.avg_logFC</th><th scope=col>ATAC_TFact.p_val_adj</th><th scope=col>ATAC_TFact</th></tr>\n",
       "\t<tr><th></th><th scope=col>&lt;chr&gt;</th><th scope=col>&lt;dbl&gt;</th><th scope=col>&lt;dbl&gt;</th><th scope=col>&lt;dbl&gt;</th><th scope=col>&lt;dbl&gt;</th><th scope=col>&lt;dbl&gt;</th><th scope=col>&lt;chr&gt;</th><th scope=col>&lt;chr&gt;</th><th scope=col>&lt;chr&gt;</th><th scope=col>&lt;dbl&gt;</th><th scope=col>&lt;dbl&gt;</th><th scope=col>&lt;dbl&gt;</th><th scope=col>&lt;dbl&gt;</th><th scope=col>&lt;chr&gt;</th><th scope=col>&lt;dbl&gt;</th><th scope=col>&lt;chr&gt;</th><th scope=col>&lt;dbl&gt;</th><th scope=col>&lt;dbl&gt;</th><th scope=col>&lt;dbl&gt;</th><th scope=col>&lt;dbl&gt;</th></tr>\n",
       "</thead>\n",
       "<tbody>\n",
       "\t<tr><th scope=row>1</th><td>CoelEpi_LHX9__ADNP </td><td>         NA</td><td>0.0000000000</td><td>   NA</td><td>   NA</td><td>1</td><td>CoelEpi_LHX9</td><td>ADNP </td><td>ADNP </td><td>0</td><td>7.751420e-12</td><td>-0.4139814</td><td>1.066595e-08</td><td>D</td><td>0</td><td>NA               </td><td>          NA</td><td> 0.0000000</td><td>1.000000e+00</td><td>0</td></tr>\n",
       "\t<tr><th scope=row>2</th><td>CoelEpi_LHX9__ADNP2</td><td>         NA</td><td>0.0000000000</td><td>   NA</td><td>   NA</td><td>1</td><td>CoelEpi_LHX9</td><td>ADNP2</td><td>ADNP2</td><td>0</td><td>2.800632e-14</td><td>-0.4738519</td><td>3.853669e-11</td><td>E</td><td>0</td><td>NA               </td><td>          NA</td><td> 0.0000000</td><td>1.000000e+00</td><td>0</td></tr>\n",
       "\t<tr><th scope=row>3</th><td>CoelEpi_LHX9__AEBP2</td><td>0.599066883</td><td>0.0003403847</td><td>0.208</td><td>0.224</td><td>1</td><td>CoelEpi_LHX9</td><td>AEBP2</td><td>AEBP2</td><td>0</td><td>1.119509e-05</td><td>-0.2891948</td><td>1.540445e-02</td><td>E</td><td>0</td><td>NA               </td><td>          NA</td><td> 0.0000000</td><td>1.000000e+00</td><td>0</td></tr>\n",
       "\t<tr><th scope=row>4</th><td>CoelEpi_LHX9__AHR  </td><td>0.039467137</td><td>0.0658903044</td><td>0.185</td><td>0.145</td><td>1</td><td>CoelEpi_LHX9</td><td>AHR  </td><td>AHR  </td><td>0</td><td>7.900296e-08</td><td>-0.2770679</td><td>1.087081e-04</td><td>B</td><td>0</td><td>AHR.SwissRegulon </td><td>3.759244e-21</td><td> 0.3963754</td><td>7.217748e-18</td><td>1</td></tr>\n",
       "\t<tr><th scope=row>5</th><td>CoelEpi_LHX9__AHRR </td><td>0.001146924</td><td>0.0668011286</td><td>0.030</td><td>0.010</td><td>1</td><td>CoelEpi_LHX9</td><td>AHRR </td><td>AHRR </td><td>0</td><td>2.589658e-44</td><td>-0.8486817</td><td>3.563369e-41</td><td>E</td><td>0</td><td>NA               </td><td>          NA</td><td> 0.0000000</td><td>1.000000e+00</td><td>0</td></tr>\n",
       "\t<tr><th scope=row>6</th><td>CoelEpi_LHX9__AIRE </td><td>         NA</td><td>0.0000000000</td><td>   NA</td><td>   NA</td><td>1</td><td>CoelEpi_LHX9</td><td>AIRE </td><td>AIRE </td><td>0</td><td>1.897572e-05</td><td>-0.1880948</td><td>2.611059e-02</td><td>E</td><td>0</td><td>AIRE.SwissRegulon</td><td>9.047466e-01</td><td>-0.3017886</td><td>1.000000e+00</td><td>0</td></tr>\n",
       "</tbody>\n",
       "</table>\n"
      ],
      "text/latex": [
       "A data.frame: 6 × 20\n",
       "\\begin{tabular}{r|llllllllllllllllllll}\n",
       "  & ID & RNA\\_DEGs.p\\_val & RNA\\_DEGs.avg\\_logFC & RNA\\_DEGs.pct.1 & RNA\\_DEGs.pct.2 & RNA\\_DEGs.p\\_val\\_adj & cluster & gene & TF & RNA\\_DEGs & RNA\\_TFact.p\\_val & RNA\\_TFact.avg\\_logFC & RNA\\_TFact.p\\_val\\_adj & RNA\\_TFact.Dorothea\\_score & RNA\\_TFact & ATAC\\_PWM & ATAC\\_TFact.p\\_val & ATAC\\_TFact.avg\\_logFC & ATAC\\_TFact.p\\_val\\_adj & ATAC\\_TFact\\\\\n",
       "  & <chr> & <dbl> & <dbl> & <dbl> & <dbl> & <dbl> & <chr> & <chr> & <chr> & <dbl> & <dbl> & <dbl> & <dbl> & <chr> & <dbl> & <chr> & <dbl> & <dbl> & <dbl> & <dbl>\\\\\n",
       "\\hline\n",
       "\t1 & CoelEpi\\_LHX9\\_\\_ADNP  &          NA & 0.0000000000 &    NA &    NA & 1 & CoelEpi\\_LHX9 & ADNP  & ADNP  & 0 & 7.751420e-12 & -0.4139814 & 1.066595e-08 & D & 0 & NA                &           NA &  0.0000000 & 1.000000e+00 & 0\\\\\n",
       "\t2 & CoelEpi\\_LHX9\\_\\_ADNP2 &          NA & 0.0000000000 &    NA &    NA & 1 & CoelEpi\\_LHX9 & ADNP2 & ADNP2 & 0 & 2.800632e-14 & -0.4738519 & 3.853669e-11 & E & 0 & NA                &           NA &  0.0000000 & 1.000000e+00 & 0\\\\\n",
       "\t3 & CoelEpi\\_LHX9\\_\\_AEBP2 & 0.599066883 & 0.0003403847 & 0.208 & 0.224 & 1 & CoelEpi\\_LHX9 & AEBP2 & AEBP2 & 0 & 1.119509e-05 & -0.2891948 & 1.540445e-02 & E & 0 & NA                &           NA &  0.0000000 & 1.000000e+00 & 0\\\\\n",
       "\t4 & CoelEpi\\_LHX9\\_\\_AHR   & 0.039467137 & 0.0658903044 & 0.185 & 0.145 & 1 & CoelEpi\\_LHX9 & AHR   & AHR   & 0 & 7.900296e-08 & -0.2770679 & 1.087081e-04 & B & 0 & AHR.SwissRegulon  & 3.759244e-21 &  0.3963754 & 7.217748e-18 & 1\\\\\n",
       "\t5 & CoelEpi\\_LHX9\\_\\_AHRR  & 0.001146924 & 0.0668011286 & 0.030 & 0.010 & 1 & CoelEpi\\_LHX9 & AHRR  & AHRR  & 0 & 2.589658e-44 & -0.8486817 & 3.563369e-41 & E & 0 & NA                &           NA &  0.0000000 & 1.000000e+00 & 0\\\\\n",
       "\t6 & CoelEpi\\_LHX9\\_\\_AIRE  &          NA & 0.0000000000 &    NA &    NA & 1 & CoelEpi\\_LHX9 & AIRE  & AIRE  & 0 & 1.897572e-05 & -0.1880948 & 2.611059e-02 & E & 0 & AIRE.SwissRegulon & 9.047466e-01 & -0.3017886 & 1.000000e+00 & 0\\\\\n",
       "\\end{tabular}\n"
      ],
      "text/markdown": [
       "\n",
       "A data.frame: 6 × 20\n",
       "\n",
       "| <!--/--> | ID &lt;chr&gt; | RNA_DEGs.p_val &lt;dbl&gt; | RNA_DEGs.avg_logFC &lt;dbl&gt; | RNA_DEGs.pct.1 &lt;dbl&gt; | RNA_DEGs.pct.2 &lt;dbl&gt; | RNA_DEGs.p_val_adj &lt;dbl&gt; | cluster &lt;chr&gt; | gene &lt;chr&gt; | TF &lt;chr&gt; | RNA_DEGs &lt;dbl&gt; | RNA_TFact.p_val &lt;dbl&gt; | RNA_TFact.avg_logFC &lt;dbl&gt; | RNA_TFact.p_val_adj &lt;dbl&gt; | RNA_TFact.Dorothea_score &lt;chr&gt; | RNA_TFact &lt;dbl&gt; | ATAC_PWM &lt;chr&gt; | ATAC_TFact.p_val &lt;dbl&gt; | ATAC_TFact.avg_logFC &lt;dbl&gt; | ATAC_TFact.p_val_adj &lt;dbl&gt; | ATAC_TFact &lt;dbl&gt; |\n",
       "|---|---|---|---|---|---|---|---|---|---|---|---|---|---|---|---|---|---|---|---|---|\n",
       "| 1 | CoelEpi_LHX9__ADNP  |          NA | 0.0000000000 |    NA |    NA | 1 | CoelEpi_LHX9 | ADNP  | ADNP  | 0 | 7.751420e-12 | -0.4139814 | 1.066595e-08 | D | 0 | NA                |           NA |  0.0000000 | 1.000000e+00 | 0 |\n",
       "| 2 | CoelEpi_LHX9__ADNP2 |          NA | 0.0000000000 |    NA |    NA | 1 | CoelEpi_LHX9 | ADNP2 | ADNP2 | 0 | 2.800632e-14 | -0.4738519 | 3.853669e-11 | E | 0 | NA                |           NA |  0.0000000 | 1.000000e+00 | 0 |\n",
       "| 3 | CoelEpi_LHX9__AEBP2 | 0.599066883 | 0.0003403847 | 0.208 | 0.224 | 1 | CoelEpi_LHX9 | AEBP2 | AEBP2 | 0 | 1.119509e-05 | -0.2891948 | 1.540445e-02 | E | 0 | NA                |           NA |  0.0000000 | 1.000000e+00 | 0 |\n",
       "| 4 | CoelEpi_LHX9__AHR   | 0.039467137 | 0.0658903044 | 0.185 | 0.145 | 1 | CoelEpi_LHX9 | AHR   | AHR   | 0 | 7.900296e-08 | -0.2770679 | 1.087081e-04 | B | 0 | AHR.SwissRegulon  | 3.759244e-21 |  0.3963754 | 7.217748e-18 | 1 |\n",
       "| 5 | CoelEpi_LHX9__AHRR  | 0.001146924 | 0.0668011286 | 0.030 | 0.010 | 1 | CoelEpi_LHX9 | AHRR  | AHRR  | 0 | 2.589658e-44 | -0.8486817 | 3.563369e-41 | E | 0 | NA                |           NA |  0.0000000 | 1.000000e+00 | 0 |\n",
       "| 6 | CoelEpi_LHX9__AIRE  |          NA | 0.0000000000 |    NA |    NA | 1 | CoelEpi_LHX9 | AIRE  | AIRE  | 0 | 1.897572e-05 | -0.1880948 | 2.611059e-02 | E | 0 | AIRE.SwissRegulon | 9.047466e-01 | -0.3017886 | 1.000000e+00 | 0 |\n",
       "\n"
      ],
      "text/plain": [
       "  ID                  RNA_DEGs.p_val RNA_DEGs.avg_logFC RNA_DEGs.pct.1\n",
       "1 CoelEpi_LHX9__ADNP           NA    0.0000000000          NA         \n",
       "2 CoelEpi_LHX9__ADNP2          NA    0.0000000000          NA         \n",
       "3 CoelEpi_LHX9__AEBP2 0.599066883    0.0003403847       0.208         \n",
       "4 CoelEpi_LHX9__AHR   0.039467137    0.0658903044       0.185         \n",
       "5 CoelEpi_LHX9__AHRR  0.001146924    0.0668011286       0.030         \n",
       "6 CoelEpi_LHX9__AIRE           NA    0.0000000000          NA         \n",
       "  RNA_DEGs.pct.2 RNA_DEGs.p_val_adj cluster      gene  TF    RNA_DEGs\n",
       "1    NA          1                  CoelEpi_LHX9 ADNP  ADNP  0       \n",
       "2    NA          1                  CoelEpi_LHX9 ADNP2 ADNP2 0       \n",
       "3 0.224          1                  CoelEpi_LHX9 AEBP2 AEBP2 0       \n",
       "4 0.145          1                  CoelEpi_LHX9 AHR   AHR   0       \n",
       "5 0.010          1                  CoelEpi_LHX9 AHRR  AHRR  0       \n",
       "6    NA          1                  CoelEpi_LHX9 AIRE  AIRE  0       \n",
       "  RNA_TFact.p_val RNA_TFact.avg_logFC RNA_TFact.p_val_adj\n",
       "1 7.751420e-12    -0.4139814          1.066595e-08       \n",
       "2 2.800632e-14    -0.4738519          3.853669e-11       \n",
       "3 1.119509e-05    -0.2891948          1.540445e-02       \n",
       "4 7.900296e-08    -0.2770679          1.087081e-04       \n",
       "5 2.589658e-44    -0.8486817          3.563369e-41       \n",
       "6 1.897572e-05    -0.1880948          2.611059e-02       \n",
       "  RNA_TFact.Dorothea_score RNA_TFact ATAC_PWM          ATAC_TFact.p_val\n",
       "1 D                        0         NA                          NA    \n",
       "2 E                        0         NA                          NA    \n",
       "3 E                        0         NA                          NA    \n",
       "4 B                        0         AHR.SwissRegulon  3.759244e-21    \n",
       "5 E                        0         NA                          NA    \n",
       "6 E                        0         AIRE.SwissRegulon 9.047466e-01    \n",
       "  ATAC_TFact.avg_logFC ATAC_TFact.p_val_adj ATAC_TFact\n",
       "1  0.0000000           1.000000e+00         0         \n",
       "2  0.0000000           1.000000e+00         0         \n",
       "3  0.0000000           1.000000e+00         0         \n",
       "4  0.3963754           7.217748e-18         1         \n",
       "5  0.0000000           1.000000e+00         0         \n",
       "6 -0.3017886           1.000000e+00         0         "
      ]
     },
     "metadata": {},
     "output_type": "display_data"
    }
   ],
   "source": [
    "DEGs = subset(DEGs, TF %in% c(TFact$TF, TFmotifs$TF) )\n",
    "\n",
    "# merge RNA measurements\n",
    "df = merge(DEGs, TFact, by = 'ID', all = T)\n",
    "# add info in missing DEGs\n",
    "idx = is.na(df$cluster.x)\n",
    "df$cluster.x[ idx ] = df$cluster.y[ idx ]\n",
    "df$TF.x[ idx ] = df$TF.y[ idx ]\n",
    "df$gene.x[ idx ] = df$gene.y[ idx ]\n",
    "\n",
    "df = df[, grep('y$', names(df), invert = T) ] # remove unwanted columns\n",
    "colnames(df) = gsub('.x$', '', colnames(df))\n",
    "\n",
    "# # append ATAC measurements\n",
    "df = merge(df, TFmotifs, by = 'ID', all = T)\n",
    "# add info in missing DEGs\n",
    "idx = is.na(df$cluster.x)\n",
    "df$cluster.x[ idx ] = df$cluster.y[ idx ]\n",
    "df$TF.x[ idx ] = df$TF.y[ idx ]\n",
    "df$gene.x[ idx ] = df$gene.y[ idx ]\n",
    "\n",
    "df = df[, grep('y$', names(df), invert = T) ] # remove unwanted columns\n",
    "colnames(df) = gsub('.x$', '', colnames(df))\n",
    "\n",
    "# Format \n",
    "df = df[, ! colnames(df) %in% c('pct.1', 'pct.2') ]\n",
    "df$gene = df$TF\n",
    "# Clean NAs\n",
    "for (i in c('RNA_DEGs', 'RNA_TFact', 'ATAC_TFact'))\n",
    "    df[ is.na( df[ , i]) , i] = 0\n",
    "\n",
    "for (i in c('RNA_DEGs.avg_logFC', 'RNA_TFact.avg_logFC', 'ATAC_TFact.avg_logFC'))\n",
    "    df[ is.na( df[ , i]) , i] = 0\n",
    "for (i in c('RNA_DEGs.p_val_adj', 'RNA_TFact.p_val_adj', 'ATAC_TFact.p_val_adj'))\n",
    "    df[ is.na( df[ , i]) , i] = 1\n",
    "\n",
    "head(df)"
   ]
  },
  {
   "cell_type": "code",
   "execution_count": 9,
   "metadata": {},
   "outputs": [
    {
     "data": {
      "text/html": [
       "<table class=\"dataframe\">\n",
       "<caption>A data.frame: 6 × 21</caption>\n",
       "<thead>\n",
       "\t<tr><th></th><th scope=col>TF</th><th scope=col>cluster</th><th scope=col>N_agreement</th><th scope=col>ID</th><th scope=col>ATAC_PWM</th><th scope=col>gene</th><th scope=col>RNA_DEGs.p_val</th><th scope=col>RNA_DEGs.avg_logFC</th><th scope=col>RNA_DEGs.pct.1</th><th scope=col>RNA_DEGs.pct.2</th><th scope=col>⋯</th><th scope=col>RNA_DEGs</th><th scope=col>RNA_TFact.p_val</th><th scope=col>RNA_TFact.avg_logFC</th><th scope=col>RNA_TFact.p_val_adj</th><th scope=col>RNA_TFact.Dorothea_score</th><th scope=col>RNA_TFact</th><th scope=col>ATAC_TFact.p_val</th><th scope=col>ATAC_TFact.avg_logFC</th><th scope=col>ATAC_TFact.p_val_adj</th><th scope=col>ATAC_TFact</th></tr>\n",
       "\t<tr><th></th><th scope=col>&lt;chr&gt;</th><th scope=col>&lt;chr&gt;</th><th scope=col>&lt;dbl&gt;</th><th scope=col>&lt;chr&gt;</th><th scope=col>&lt;chr&gt;</th><th scope=col>&lt;chr&gt;</th><th scope=col>&lt;dbl&gt;</th><th scope=col>&lt;dbl&gt;</th><th scope=col>&lt;dbl&gt;</th><th scope=col>&lt;dbl&gt;</th><th scope=col>⋯</th><th scope=col>&lt;dbl&gt;</th><th scope=col>&lt;dbl&gt;</th><th scope=col>&lt;dbl&gt;</th><th scope=col>&lt;dbl&gt;</th><th scope=col>&lt;chr&gt;</th><th scope=col>&lt;dbl&gt;</th><th scope=col>&lt;dbl&gt;</th><th scope=col>&lt;dbl&gt;</th><th scope=col>&lt;dbl&gt;</th><th scope=col>&lt;dbl&gt;</th></tr>\n",
       "</thead>\n",
       "<tbody>\n",
       "\t<tr><th scope=row>506</th><td>NFIB   </td><td>CoelEpi_LHX9    </td><td>3</td><td>CoelEpi_LHX9__NFIB       </td><td>NFIB.SwissRegulon     </td><td>NFIB   </td><td>1.027223e-16</td><td>0.2714450</td><td>0.730</td><td>0.606</td><td>⋯</td><td>1</td><td>4.518503e-22</td><td>0.4696849</td><td>6.217460e-19</td><td>E </td><td>1</td><td> 1.174438e-35</td><td>4.4674621</td><td> 2.254920e-32</td><td>1</td></tr>\n",
       "\t<tr><th scope=row>509</th><td>NFIX   </td><td>CoelEpi_LHX9    </td><td>3</td><td>CoelEpi_LHX9__NFIX       </td><td>NFIX.SwissRegulon     </td><td>NFIX   </td><td>4.012526e-09</td><td>0.2164568</td><td>0.235</td><td>0.127</td><td>⋯</td><td>1</td><td>3.617010e-21</td><td>1.0180643</td><td>4.977006e-18</td><td>E </td><td>1</td><td> 1.174438e-35</td><td>4.4674621</td><td> 2.254920e-32</td><td>1</td></tr>\n",
       "\t<tr><th scope=row>2895</th><td>CREB3L2</td><td>early_supporting</td><td>3</td><td>early_supporting__CREB3L2</td><td>CREB3L2.SwissRegulon.1</td><td>CREB3L2</td><td>1.542641e-11</td><td>0.1658625</td><td>0.318</td><td>0.165</td><td>⋯</td><td>1</td><td>3.530178e-33</td><td>0.4482661</td><td>4.857524e-30</td><td>D </td><td>1</td><td> 3.411303e-43</td><td>0.2415400</td><td> 6.549702e-40</td><td>1</td></tr>\n",
       "\t<tr><th scope=row>2939</th><td>E2F4   </td><td>early_supporting</td><td>3</td><td>early_supporting__E2F4   </td><td>E2F4.MA0470.1.1       </td><td>E2F4   </td><td>4.355112e-07</td><td>0.1349259</td><td>0.470</td><td>0.311</td><td>⋯</td><td>1</td><td>7.731151e-13</td><td>0.2314748</td><td>1.063806e-09</td><td>AA</td><td>1</td><td>4.638742e-227</td><td>0.5437334</td><td>8.906384e-224</td><td>1</td></tr>\n",
       "\t<tr><th scope=row>2940</th><td>E2F5   </td><td>early_supporting</td><td>3</td><td>early_supporting__E2F5   </td><td>E2F5-HUMAN.H10MO.B.1  </td><td>E2F5   </td><td>2.584797e-26</td><td>0.2982455</td><td>0.330</td><td>0.126</td><td>⋯</td><td>1</td><td>3.111133e-09</td><td>0.3700149</td><td>4.280919e-06</td><td>C </td><td>1</td><td> 5.398421e-07</td><td>0.1120300</td><td> 1.036497e-03</td><td>1</td></tr>\n",
       "\t<tr><th scope=row>2951</th><td>EGR3   </td><td>early_supporting</td><td>3</td><td>early_supporting__EGR3   </td><td>EGR3.MA0732.1.1       </td><td>EGR3   </td><td>9.809083e-13</td><td>0.2123276</td><td>0.235</td><td>0.107</td><td>⋯</td><td>1</td><td>6.246046e-07</td><td>0.3249447</td><td>8.594559e-04</td><td>E </td><td>1</td><td>2.637957e-205</td><td>0.5456717</td><td>5.064878e-202</td><td>1</td></tr>\n",
       "</tbody>\n",
       "</table>\n"
      ],
      "text/latex": [
       "A data.frame: 6 × 21\n",
       "\\begin{tabular}{r|lllllllllllllllllllll}\n",
       "  & TF & cluster & N\\_agreement & ID & ATAC\\_PWM & gene & RNA\\_DEGs.p\\_val & RNA\\_DEGs.avg\\_logFC & RNA\\_DEGs.pct.1 & RNA\\_DEGs.pct.2 & ⋯ & RNA\\_DEGs & RNA\\_TFact.p\\_val & RNA\\_TFact.avg\\_logFC & RNA\\_TFact.p\\_val\\_adj & RNA\\_TFact.Dorothea\\_score & RNA\\_TFact & ATAC\\_TFact.p\\_val & ATAC\\_TFact.avg\\_logFC & ATAC\\_TFact.p\\_val\\_adj & ATAC\\_TFact\\\\\n",
       "  & <chr> & <chr> & <dbl> & <chr> & <chr> & <chr> & <dbl> & <dbl> & <dbl> & <dbl> & ⋯ & <dbl> & <dbl> & <dbl> & <dbl> & <chr> & <dbl> & <dbl> & <dbl> & <dbl> & <dbl>\\\\\n",
       "\\hline\n",
       "\t506 & NFIB    & CoelEpi\\_LHX9     & 3 & CoelEpi\\_LHX9\\_\\_NFIB        & NFIB.SwissRegulon      & NFIB    & 1.027223e-16 & 0.2714450 & 0.730 & 0.606 & ⋯ & 1 & 4.518503e-22 & 0.4696849 & 6.217460e-19 & E  & 1 &  1.174438e-35 & 4.4674621 &  2.254920e-32 & 1\\\\\n",
       "\t509 & NFIX    & CoelEpi\\_LHX9     & 3 & CoelEpi\\_LHX9\\_\\_NFIX        & NFIX.SwissRegulon      & NFIX    & 4.012526e-09 & 0.2164568 & 0.235 & 0.127 & ⋯ & 1 & 3.617010e-21 & 1.0180643 & 4.977006e-18 & E  & 1 &  1.174438e-35 & 4.4674621 &  2.254920e-32 & 1\\\\\n",
       "\t2895 & CREB3L2 & early\\_supporting & 3 & early\\_supporting\\_\\_CREB3L2 & CREB3L2.SwissRegulon.1 & CREB3L2 & 1.542641e-11 & 0.1658625 & 0.318 & 0.165 & ⋯ & 1 & 3.530178e-33 & 0.4482661 & 4.857524e-30 & D  & 1 &  3.411303e-43 & 0.2415400 &  6.549702e-40 & 1\\\\\n",
       "\t2939 & E2F4    & early\\_supporting & 3 & early\\_supporting\\_\\_E2F4    & E2F4.MA0470.1.1        & E2F4    & 4.355112e-07 & 0.1349259 & 0.470 & 0.311 & ⋯ & 1 & 7.731151e-13 & 0.2314748 & 1.063806e-09 & AA & 1 & 4.638742e-227 & 0.5437334 & 8.906384e-224 & 1\\\\\n",
       "\t2940 & E2F5    & early\\_supporting & 3 & early\\_supporting\\_\\_E2F5    & E2F5-HUMAN.H10MO.B.1   & E2F5    & 2.584797e-26 & 0.2982455 & 0.330 & 0.126 & ⋯ & 1 & 3.111133e-09 & 0.3700149 & 4.280919e-06 & C  & 1 &  5.398421e-07 & 0.1120300 &  1.036497e-03 & 1\\\\\n",
       "\t2951 & EGR3    & early\\_supporting & 3 & early\\_supporting\\_\\_EGR3    & EGR3.MA0732.1.1        & EGR3    & 9.809083e-13 & 0.2123276 & 0.235 & 0.107 & ⋯ & 1 & 6.246046e-07 & 0.3249447 & 8.594559e-04 & E  & 1 & 2.637957e-205 & 0.5456717 & 5.064878e-202 & 1\\\\\n",
       "\\end{tabular}\n"
      ],
      "text/markdown": [
       "\n",
       "A data.frame: 6 × 21\n",
       "\n",
       "| <!--/--> | TF &lt;chr&gt; | cluster &lt;chr&gt; | N_agreement &lt;dbl&gt; | ID &lt;chr&gt; | ATAC_PWM &lt;chr&gt; | gene &lt;chr&gt; | RNA_DEGs.p_val &lt;dbl&gt; | RNA_DEGs.avg_logFC &lt;dbl&gt; | RNA_DEGs.pct.1 &lt;dbl&gt; | RNA_DEGs.pct.2 &lt;dbl&gt; | ⋯ ⋯ | RNA_DEGs &lt;dbl&gt; | RNA_TFact.p_val &lt;dbl&gt; | RNA_TFact.avg_logFC &lt;dbl&gt; | RNA_TFact.p_val_adj &lt;dbl&gt; | RNA_TFact.Dorothea_score &lt;chr&gt; | RNA_TFact &lt;dbl&gt; | ATAC_TFact.p_val &lt;dbl&gt; | ATAC_TFact.avg_logFC &lt;dbl&gt; | ATAC_TFact.p_val_adj &lt;dbl&gt; | ATAC_TFact &lt;dbl&gt; |\n",
       "|---|---|---|---|---|---|---|---|---|---|---|---|---|---|---|---|---|---|---|---|---|---|\n",
       "| 506 | NFIB    | CoelEpi_LHX9     | 3 | CoelEpi_LHX9__NFIB        | NFIB.SwissRegulon      | NFIB    | 1.027223e-16 | 0.2714450 | 0.730 | 0.606 | ⋯ | 1 | 4.518503e-22 | 0.4696849 | 6.217460e-19 | E  | 1 |  1.174438e-35 | 4.4674621 |  2.254920e-32 | 1 |\n",
       "| 509 | NFIX    | CoelEpi_LHX9     | 3 | CoelEpi_LHX9__NFIX        | NFIX.SwissRegulon      | NFIX    | 4.012526e-09 | 0.2164568 | 0.235 | 0.127 | ⋯ | 1 | 3.617010e-21 | 1.0180643 | 4.977006e-18 | E  | 1 |  1.174438e-35 | 4.4674621 |  2.254920e-32 | 1 |\n",
       "| 2895 | CREB3L2 | early_supporting | 3 | early_supporting__CREB3L2 | CREB3L2.SwissRegulon.1 | CREB3L2 | 1.542641e-11 | 0.1658625 | 0.318 | 0.165 | ⋯ | 1 | 3.530178e-33 | 0.4482661 | 4.857524e-30 | D  | 1 |  3.411303e-43 | 0.2415400 |  6.549702e-40 | 1 |\n",
       "| 2939 | E2F4    | early_supporting | 3 | early_supporting__E2F4    | E2F4.MA0470.1.1        | E2F4    | 4.355112e-07 | 0.1349259 | 0.470 | 0.311 | ⋯ | 1 | 7.731151e-13 | 0.2314748 | 1.063806e-09 | AA | 1 | 4.638742e-227 | 0.5437334 | 8.906384e-224 | 1 |\n",
       "| 2940 | E2F5    | early_supporting | 3 | early_supporting__E2F5    | E2F5-HUMAN.H10MO.B.1   | E2F5    | 2.584797e-26 | 0.2982455 | 0.330 | 0.126 | ⋯ | 1 | 3.111133e-09 | 0.3700149 | 4.280919e-06 | C  | 1 |  5.398421e-07 | 0.1120300 |  1.036497e-03 | 1 |\n",
       "| 2951 | EGR3    | early_supporting | 3 | early_supporting__EGR3    | EGR3.MA0732.1.1        | EGR3    | 9.809083e-13 | 0.2123276 | 0.235 | 0.107 | ⋯ | 1 | 6.246046e-07 | 0.3249447 | 8.594559e-04 | E  | 1 | 2.637957e-205 | 0.5456717 | 5.064878e-202 | 1 |\n",
       "\n"
      ],
      "text/plain": [
       "     TF      cluster          N_agreement ID                       \n",
       "506  NFIB    CoelEpi_LHX9     3           CoelEpi_LHX9__NFIB       \n",
       "509  NFIX    CoelEpi_LHX9     3           CoelEpi_LHX9__NFIX       \n",
       "2895 CREB3L2 early_supporting 3           early_supporting__CREB3L2\n",
       "2939 E2F4    early_supporting 3           early_supporting__E2F4   \n",
       "2940 E2F5    early_supporting 3           early_supporting__E2F5   \n",
       "2951 EGR3    early_supporting 3           early_supporting__EGR3   \n",
       "     ATAC_PWM               gene    RNA_DEGs.p_val RNA_DEGs.avg_logFC\n",
       "506  NFIB.SwissRegulon      NFIB    1.027223e-16   0.2714450         \n",
       "509  NFIX.SwissRegulon      NFIX    4.012526e-09   0.2164568         \n",
       "2895 CREB3L2.SwissRegulon.1 CREB3L2 1.542641e-11   0.1658625         \n",
       "2939 E2F4.MA0470.1.1        E2F4    4.355112e-07   0.1349259         \n",
       "2940 E2F5-HUMAN.H10MO.B.1   E2F5    2.584797e-26   0.2982455         \n",
       "2951 EGR3.MA0732.1.1        EGR3    9.809083e-13   0.2123276         \n",
       "     RNA_DEGs.pct.1 RNA_DEGs.pct.2 ⋯ RNA_DEGs RNA_TFact.p_val\n",
       "506  0.730          0.606          ⋯ 1        4.518503e-22   \n",
       "509  0.235          0.127          ⋯ 1        3.617010e-21   \n",
       "2895 0.318          0.165          ⋯ 1        3.530178e-33   \n",
       "2939 0.470          0.311          ⋯ 1        7.731151e-13   \n",
       "2940 0.330          0.126          ⋯ 1        3.111133e-09   \n",
       "2951 0.235          0.107          ⋯ 1        6.246046e-07   \n",
       "     RNA_TFact.avg_logFC RNA_TFact.p_val_adj RNA_TFact.Dorothea_score RNA_TFact\n",
       "506  0.4696849           6.217460e-19        E                        1        \n",
       "509  1.0180643           4.977006e-18        E                        1        \n",
       "2895 0.4482661           4.857524e-30        D                        1        \n",
       "2939 0.2314748           1.063806e-09        AA                       1        \n",
       "2940 0.3700149           4.280919e-06        C                        1        \n",
       "2951 0.3249447           8.594559e-04        E                        1        \n",
       "     ATAC_TFact.p_val ATAC_TFact.avg_logFC ATAC_TFact.p_val_adj ATAC_TFact\n",
       "506   1.174438e-35    4.4674621             2.254920e-32        1         \n",
       "509   1.174438e-35    4.4674621             2.254920e-32        1         \n",
       "2895  3.411303e-43    0.2415400             6.549702e-40        1         \n",
       "2939 4.638742e-227    0.5437334            8.906384e-224        1         \n",
       "2940  5.398421e-07    0.1120300             1.036497e-03        1         \n",
       "2951 2.637957e-205    0.5456717            5.064878e-202        1         "
      ]
     },
     "metadata": {},
     "output_type": "display_data"
    }
   ],
   "source": [
    "# compute agreement\n",
    "df$N_agreement = apply(df[, c('RNA_DEGs', 'RNA_TFact', 'ATAC_TFact') ], 1, function(x){\n",
    "    x[ is.na(x) ] = 0\n",
    "    sum(x)\n",
    "})\n",
    "# reorganize columns\n",
    "coln = c('TF', 'cluster', 'N_agreement', 'ID', 'ATAC_PWM', 'gene')\n",
    "df = df[ , c(coln, setdiff(colnames(df), coln) ) ]\n",
    "\n",
    "\n",
    "# order by agreement\n",
    "df = df[ order(df$N_agreement, decreasing = T) , ]\n",
    "\n",
    "# save\n",
    "write.csv(df, file = 'figures_somatic/granulosa_human_TFs_measurements.csv', row.names=F)\n",
    "head(df)"
   ]
  },
  {
   "cell_type": "markdown",
   "metadata": {},
   "source": [
    "# Plot - shared"
   ]
  },
  {
   "cell_type": "code",
   "execution_count": 10,
   "metadata": {},
   "outputs": [],
   "source": [
    "# Select TFs of interest    \n",
    "df$RNA_DEGs.avg_logFC = signif(df$RNA_DEGs.avg_logFC, 2)\n",
    "df$ATAC_TFact.avg_logFC = signif(df$ATAC_TFact.avg_logFC, 2)\n",
    "df$RNA_TFact.avg_logFC = signif(df$RNA_TFact.avg_logFC, 2)\n",
    "idx_tf = which(df$N_agreement == 3 | \n",
    "               (df$N_agreement == 2 & df$RNA_DEGs == 1 & df$RNA_DEGs.avg_logFC >= 0.5 ) |\n",
    "               (df$N_agreement == 2 & df$RNA_DEGs == 1 & df$ATAC_TFact.avg_logFC >= 0.75 ) |\n",
    "               (df$N_agreement == 2 & df$RNA_DEGs == 1 & df$RNA_TFact.avg_logFC >= 0.75 )\n",
    "              )\n",
    "\n",
    "\n"
   ]
  },
  {
   "cell_type": "code",
   "execution_count": 11,
   "metadata": {},
   "outputs": [],
   "source": [
    "# Order selected genes alphabetically\n",
    "df_selected = df[idx_tf, ]\n",
    "df_selected = df_selected[ order(df_selected$TF) , ]\n",
    "\n",
    "# Define clusters to plot \n",
    "# Define clusters to plot \n",
    "CLofinterest = c('CoelEpi_LHX9',  'early_supporting', #\"early_sPAX8\",\n",
    "                 'preGC_I',  \n",
    "                 'OSE', 'preGC_IIa', 'preGC_IIb','granulosa')\n",
    "CLofinterest2 = c('preGC_I',  \n",
    "                 'OSE', 'preGC_IIa', 'preGC_IIb','granulosa')\n",
    "\n",
    "# Order selected genes by cluster\n",
    "df_selected = lapply(CLofinterest2, function(i)\n",
    "      subset(df_selected, cluster == i))\n",
    "df_selected = do.call(rbind, df_selected)\n",
    "\n",
    "TFofinterest = unique(df_selected$TF)       "
   ]
  },
  {
   "cell_type": "code",
   "execution_count": 12,
   "metadata": {},
   "outputs": [
    {
     "data": {
      "text/html": [
       "46"
      ],
      "text/latex": [
       "46"
      ],
      "text/markdown": [
       "46"
      ],
      "text/plain": [
       "[1] 46"
      ]
     },
     "metadata": {},
     "output_type": "display_data"
    }
   ],
   "source": [
    "length(unique(TFofinterest))"
   ]
  },
  {
   "cell_type": "code",
   "execution_count": 13,
   "metadata": {},
   "outputs": [],
   "source": [
    "write.csv(df_selected, file = 'figures_somatic/granulosa_human_relevantTFs_priotitized.csv', row.names=F)"
   ]
  },
  {
   "cell_type": "markdown",
   "metadata": {},
   "source": [
    "## as heatmaps"
   ]
  },
  {
   "cell_type": "code",
   "execution_count": 14,
   "metadata": {},
   "outputs": [
    {
     "data": {
      "text/html": [
       "<table class=\"dataframe\">\n",
       "<caption>A data.frame: 21 × 2</caption>\n",
       "<thead>\n",
       "\t<tr><th scope=col>colnames.df_selected.</th><th scope=col>X1.ncol.df_selected.</th></tr>\n",
       "\t<tr><th scope=col>&lt;chr&gt;</th><th scope=col>&lt;int&gt;</th></tr>\n",
       "</thead>\n",
       "<tbody>\n",
       "\t<tr><td>TF                      </td><td> 1</td></tr>\n",
       "\t<tr><td>cluster                 </td><td> 2</td></tr>\n",
       "\t<tr><td>N_agreement             </td><td> 3</td></tr>\n",
       "\t<tr><td>ID                      </td><td> 4</td></tr>\n",
       "\t<tr><td>ATAC_PWM                </td><td> 5</td></tr>\n",
       "\t<tr><td>gene                    </td><td> 6</td></tr>\n",
       "\t<tr><td>RNA_DEGs.p_val          </td><td> 7</td></tr>\n",
       "\t<tr><td>RNA_DEGs.avg_logFC      </td><td> 8</td></tr>\n",
       "\t<tr><td>RNA_DEGs.pct.1          </td><td> 9</td></tr>\n",
       "\t<tr><td>RNA_DEGs.pct.2          </td><td>10</td></tr>\n",
       "\t<tr><td>RNA_DEGs.p_val_adj      </td><td>11</td></tr>\n",
       "\t<tr><td>RNA_DEGs                </td><td>12</td></tr>\n",
       "\t<tr><td>RNA_TFact.p_val         </td><td>13</td></tr>\n",
       "\t<tr><td>RNA_TFact.avg_logFC     </td><td>14</td></tr>\n",
       "\t<tr><td>RNA_TFact.p_val_adj     </td><td>15</td></tr>\n",
       "\t<tr><td>RNA_TFact.Dorothea_score</td><td>16</td></tr>\n",
       "\t<tr><td>RNA_TFact               </td><td>17</td></tr>\n",
       "\t<tr><td>ATAC_TFact.p_val        </td><td>18</td></tr>\n",
       "\t<tr><td>ATAC_TFact.avg_logFC    </td><td>19</td></tr>\n",
       "\t<tr><td>ATAC_TFact.p_val_adj    </td><td>20</td></tr>\n",
       "\t<tr><td>ATAC_TFact              </td><td>21</td></tr>\n",
       "</tbody>\n",
       "</table>\n"
      ],
      "text/latex": [
       "A data.frame: 21 × 2\n",
       "\\begin{tabular}{ll}\n",
       " colnames.df\\_selected. & X1.ncol.df\\_selected.\\\\\n",
       " <chr> & <int>\\\\\n",
       "\\hline\n",
       "\t TF                       &  1\\\\\n",
       "\t cluster                  &  2\\\\\n",
       "\t N\\_agreement              &  3\\\\\n",
       "\t ID                       &  4\\\\\n",
       "\t ATAC\\_PWM                 &  5\\\\\n",
       "\t gene                     &  6\\\\\n",
       "\t RNA\\_DEGs.p\\_val           &  7\\\\\n",
       "\t RNA\\_DEGs.avg\\_logFC       &  8\\\\\n",
       "\t RNA\\_DEGs.pct.1           &  9\\\\\n",
       "\t RNA\\_DEGs.pct.2           & 10\\\\\n",
       "\t RNA\\_DEGs.p\\_val\\_adj       & 11\\\\\n",
       "\t RNA\\_DEGs                 & 12\\\\\n",
       "\t RNA\\_TFact.p\\_val          & 13\\\\\n",
       "\t RNA\\_TFact.avg\\_logFC      & 14\\\\\n",
       "\t RNA\\_TFact.p\\_val\\_adj      & 15\\\\\n",
       "\t RNA\\_TFact.Dorothea\\_score & 16\\\\\n",
       "\t RNA\\_TFact                & 17\\\\\n",
       "\t ATAC\\_TFact.p\\_val         & 18\\\\\n",
       "\t ATAC\\_TFact.avg\\_logFC     & 19\\\\\n",
       "\t ATAC\\_TFact.p\\_val\\_adj     & 20\\\\\n",
       "\t ATAC\\_TFact               & 21\\\\\n",
       "\\end{tabular}\n"
      ],
      "text/markdown": [
       "\n",
       "A data.frame: 21 × 2\n",
       "\n",
       "| colnames.df_selected. &lt;chr&gt; | X1.ncol.df_selected. &lt;int&gt; |\n",
       "|---|---|\n",
       "| TF                       |  1 |\n",
       "| cluster                  |  2 |\n",
       "| N_agreement              |  3 |\n",
       "| ID                       |  4 |\n",
       "| ATAC_PWM                 |  5 |\n",
       "| gene                     |  6 |\n",
       "| RNA_DEGs.p_val           |  7 |\n",
       "| RNA_DEGs.avg_logFC       |  8 |\n",
       "| RNA_DEGs.pct.1           |  9 |\n",
       "| RNA_DEGs.pct.2           | 10 |\n",
       "| RNA_DEGs.p_val_adj       | 11 |\n",
       "| RNA_DEGs                 | 12 |\n",
       "| RNA_TFact.p_val          | 13 |\n",
       "| RNA_TFact.avg_logFC      | 14 |\n",
       "| RNA_TFact.p_val_adj      | 15 |\n",
       "| RNA_TFact.Dorothea_score | 16 |\n",
       "| RNA_TFact                | 17 |\n",
       "| ATAC_TFact.p_val         | 18 |\n",
       "| ATAC_TFact.avg_logFC     | 19 |\n",
       "| ATAC_TFact.p_val_adj     | 20 |\n",
       "| ATAC_TFact               | 21 |\n",
       "\n"
      ],
      "text/plain": [
       "   colnames.df_selected.    X1.ncol.df_selected.\n",
       "1  TF                        1                  \n",
       "2  cluster                   2                  \n",
       "3  N_agreement               3                  \n",
       "4  ID                        4                  \n",
       "5  ATAC_PWM                  5                  \n",
       "6  gene                      6                  \n",
       "7  RNA_DEGs.p_val            7                  \n",
       "8  RNA_DEGs.avg_logFC        8                  \n",
       "9  RNA_DEGs.pct.1            9                  \n",
       "10 RNA_DEGs.pct.2           10                  \n",
       "11 RNA_DEGs.p_val_adj       11                  \n",
       "12 RNA_DEGs                 12                  \n",
       "13 RNA_TFact.p_val          13                  \n",
       "14 RNA_TFact.avg_logFC      14                  \n",
       "15 RNA_TFact.p_val_adj      15                  \n",
       "16 RNA_TFact.Dorothea_score 16                  \n",
       "17 RNA_TFact                17                  \n",
       "18 ATAC_TFact.p_val         18                  \n",
       "19 ATAC_TFact.avg_logFC     19                  \n",
       "20 ATAC_TFact.p_val_adj     20                  \n",
       "21 ATAC_TFact               21                  "
      ]
     },
     "metadata": {},
     "output_type": "display_data"
    }
   ],
   "source": [
    "data.frame(colnames(df_selected), 1:ncol(df_selected))"
   ]
  },
  {
   "cell_type": "code",
   "execution_count": 15,
   "metadata": {},
   "outputs": [],
   "source": [
    "load_RNAzscores = function(TFofinterest, df_selected, nonstrict = F){\n",
    "    # Load Expr matrix for heatmap ploting\n",
    "    x_Expre = read.csv('figures/data_utils/average_log.csv', stringsAsFactors = F, row.names = 1) %>% t(.)\n",
    "    rownames(x_Expre) = strsplit(rownames(x_Expre), '\\\\.') %>% sapply(., tail, 1)\n",
    "\n",
    "    x_Expre = x_Expre[ rownames(x_Expre) %in% CLofinterest ,  colnames(x_Expre) %in%  TFofinterest  ]\n",
    "    rn = rownames(x_Expre)\n",
    "    x_Expre = apply(x_Expre, 2, scale)\n",
    "    rownames(x_Expre) = rn\n",
    "\n",
    "    # Add labels\n",
    "    x_Expre_Lab = x_Expre\n",
    "    x_Expre_Lab[] = ''\n",
    "    for (i in rownames(x_Expre) )\n",
    "        for (j in colnames(x_Expre) ){\n",
    "            x = subset(df_selected, cluster == i & TF == j)\n",
    "            if( nrow(x) == 1 ){\n",
    "                if( x[3] > 1 & ! is.na(x[11]) ){\n",
    "                    if(x[3] == 3)\n",
    "                        x_Expre_Lab[i,j] = '*'\n",
    "                     if ( x[3] == 2 & x[12] == 1 ){\n",
    "                        if( ! is.na( x[20])) \n",
    "                            if(x[21] == 1)\n",
    "                             x_Expre_Lab[i,j] = 'o'\n",
    "                        if( ! is.na( x[15])) \n",
    "                            if(x[17] == 1 )\n",
    "                             x_Expre_Lab[i,j] = 'a'\n",
    "                        }\n",
    "                }\n",
    "                if ( nonstrict & x_Expre_Lab[i,j] == ''){\n",
    "                        if( ! is.na( x[20])) \n",
    "                            if(x[21] == 1)\n",
    "                             x_Expre_Lab[i,j] = 'o'\n",
    "                        if( ! is.na( x[15])) \n",
    "                            if(x[17] == 1 )\n",
    "                             x_Expre_Lab[i,j] = 'a'\n",
    "                 }\n",
    "            }\n",
    "        }\n",
    "        X = list(zscores = x_Expre, labels = x_Expre_Lab)        \n",
    "        return(X)\n",
    "}\n",
    "                        \n",
    "# Load TF act Dorothea matrix  for heatmap ploting\n",
    "x_TFact = read.csv('figures_somatic/somaticOvary_TFact_percluster.csv', stringsAsFactors = F, row.names = 1)\n",
    "colnames(x_TFact) = strsplit(colnames(x_TFact), split = '\\\\.') %>% sapply(., head, 1)\n",
    "x_TFact = x_TFact[ rownames(x_TFact) %in% CLofinterest , colnames(x_TFact) %in%  TFofinterest ]\n",
    "rn = rownames(x_TFact)\n",
    "x_TFact = apply(x_TFact, 2, scale)\n",
    "rownames(x_TFact) = rn\n",
    "\n",
    "            \n",
    "\n",
    "# Load TFmotifs matrix  for heatmap ploting\n",
    "x_TFmotifs = read.csv('/nfs/team292/vl6/my_MULTIOME_dir/supporting_july2021/supporting__chromvar_celltype_zscore_for_Luz.csv', stringsAsFactors = F, row.names = 1)\n",
    "x_TFmotifs = x_TFmotifs[ rownames(x_TFmotifs) %in% CLofinterest , ]\n",
    "\n",
    "idx = colnames(x_TFmotifs) %in% TFmotifs$X\n",
    "x_TFmotifs = x_TFmotifs[ , idx ] # remove duplicated motifs to match TFmotifs\n",
    "colnames(x_TFmotifs) = strsplit(colnames(x_TFmotifs), split = '\\\\.') %>% sapply(., head, 1)\n",
    "\n",
    "\n"
   ]
  },
  {
   "cell_type": "code",
   "execution_count": 17,
   "metadata": {},
   "outputs": [
    {
     "name": "stdout",
     "output_type": "stream",
     "text": [
      "[1] \"CoelEpi_LHX9\"     \"early_supporting\" \"preGC_I\"          \"OSE\"             \n",
      "[5] \"preGC_IIa\"        \"preGC_IIb\"        \"granulosa\"       \n",
      "[1]  7 46\n",
      "[1]  7 46\n"
     ]
    }
   ],
   "source": [
    "myHeatmap = function(X, TFs, cl, pdf_file, display_numbers = NULL){\n",
    "    print(cl)\n",
    "    tfs = intersect(TFs, colnames(X))\n",
    "    cls =  intersect(cl, rownames(X))\n",
    "    X = X[ cls,  tfs ]\n",
    "    print(dim(X))\n",
    "    \n",
    "    paletteLength <- 50\n",
    "    myColor <- colorRampPalette(c(brewer.pal(n = 5, name = 'Blues')[4], \"white\", brewer.pal(n = 5, name = 'Reds')[4]))(paletteLength)\n",
    "    # length(breaks) == length(paletteLength) + 1\n",
    "    # use floor and ceiling to deal with even/odd length pallettelengths\n",
    "    myBreaks <- c(seq(min(X), 0, length.out=ceiling(paletteLength/2) + 1), \n",
    "                  seq(max(X)/paletteLength, max(X), length.out=floor(paletteLength/2)))    \n",
    "    if( is.null(display_numbers) ){\n",
    "        pheatmap(X, cellheight = 10, cellwidth = 10, cluster_rows = F, cluster_cols = F, \n",
    "                 color=myColor, breaks=myBreaks,\n",
    "                filename = pdf_file)\n",
    "    }else{     \n",
    "        display_numbers = display_numbers[ cls,  tfs ]\n",
    "        print(dim(display_numbers))\n",
    "        pheatmap(t(X), cellheight = 10, cellwidth = 10, cluster_rows = F, cluster_cols = F, display_numbers = t(display_numbers), \n",
    "                 color=myColor, breaks=myBreaks,\n",
    "                filename = pdf_file)\n",
    "        }\n",
    "}\n",
    "# myHeatmap(x_TFact, TFofinterest, CLofinterest, 'figures_somatic/heatmap_human_relevantTFs_RNA_TFact_scores.pdf')\n",
    "RNAexpr = load_RNAzscores(TFofinterest, df_selected)\n",
    "myHeatmap(RNAexpr$zscores, TFofinterest, CLofinterest, 'figures_somatic/granulosa_heatmap_human_relevantTFs_RNA_avgLog.pdf', display_numbers = RNAexpr$labels)\n",
    "# myHeatmap(x_TFmotifs, TFofinterest, CLofinterest, 'figures-germcells/0_FS1_heatmap_TFintersection_snATAC_TFact.pdf')"
   ]
  },
  {
   "cell_type": "markdown",
   "metadata": {},
   "source": [
    "# Plot CellSign TFs"
   ]
  },
  {
   "cell_type": "code",
   "execution_count": 21,
   "metadata": {},
   "outputs": [
    {
     "name": "stdout",
     "output_type": "stream",
     "text": [
      "[1] \"preGC_I\"          \"granulosa\"        \"preGC_IIb\"        \"preGC_IIa\"       \n",
      "[5] \"OSE\"              \"early_supporting\" \"CoelEpi_LHX9\"    \n",
      "[1]  7 13\n",
      "[1]  7 13\n"
     ]
    }
   ],
   "source": [
    "# Add TFs from CellSign analysis\n",
    "cellsign_TFs = c('AR', 'SMAD1', 'STAT1',\n",
    "                         'ID4', 'STAT3',\n",
    "                         'ESR1', 'NR1H4', \n",
    "                          'STAT5B', 'ELK1', 'HES1', 'HEY1','HEY2', 'HES4')\n",
    "RNAexpr = load_RNAzscores(cellsign_TFs, df, nonstrict = T)\n",
    "myHeatmap(RNAexpr$zscores, cellsign_TFs, c('preGC_I', 'granulosa', 'preGC_IIb', 'preGC_IIa', 'OSE', 'early_supporting', 'CoelEpi_LHX9'), 'figures_somatic/granulosa_heatmap_human_TFsfromCellSign_RNA_avgLog.pdf', display_numbers = RNAexpr$labels)"
   ]
  },
  {
   "cell_type": "code",
   "execution_count": 19,
   "metadata": {},
   "outputs": [
    {
     "data": {
      "text/html": [
       "<table class=\"dataframe\">\n",
       "<caption>A data.frame: 8 × 19</caption>\n",
       "<thead>\n",
       "\t<tr><th></th><th scope=col>TF</th><th scope=col>cluster</th><th scope=col>N_agreement</th><th scope=col>gene</th><th scope=col>RNA_DEGs.p_val</th><th scope=col>RNA_DEGs.avg_logFC</th><th scope=col>RNA_DEGs.pct.1</th><th scope=col>RNA_DEGs.pct.2</th><th scope=col>RNA_DEGs.p_val_adj</th><th scope=col>RNA_DEGs</th><th scope=col>RNA_TFact.p_val</th><th scope=col>RNA_TFact.avg_logFC</th><th scope=col>RNA_TFact.p_val_adj</th><th scope=col>RNA_TFact.Dorothea_score</th><th scope=col>RNA_TFact</th><th scope=col>ATAC_TFact.p_val</th><th scope=col>ATAC_TFact.avg_logFC</th><th scope=col>ATAC_TFact.p_val_adj</th><th scope=col>ATAC_TFact</th></tr>\n",
       "\t<tr><th></th><th scope=col>&lt;chr&gt;</th><th scope=col>&lt;chr&gt;</th><th scope=col>&lt;dbl&gt;</th><th scope=col>&lt;chr&gt;</th><th scope=col>&lt;dbl&gt;</th><th scope=col>&lt;dbl&gt;</th><th scope=col>&lt;dbl&gt;</th><th scope=col>&lt;dbl&gt;</th><th scope=col>&lt;dbl&gt;</th><th scope=col>&lt;dbl&gt;</th><th scope=col>&lt;dbl&gt;</th><th scope=col>&lt;dbl&gt;</th><th scope=col>&lt;dbl&gt;</th><th scope=col>&lt;chr&gt;</th><th scope=col>&lt;dbl&gt;</th><th scope=col>&lt;dbl&gt;</th><th scope=col>&lt;dbl&gt;</th><th scope=col>&lt;dbl&gt;</th><th scope=col>&lt;dbl&gt;</th></tr>\n",
       "</thead>\n",
       "<tbody>\n",
       "\t<tr><th scope=row>3520</th><td>SMAD1</td><td>early_supporting</td><td>2</td><td>SMAD1</td><td>          NA</td><td>0.000</td><td>   NA</td><td>   NA</td><td>1.000000e+00</td><td>0</td><td>1.196736e-09</td><td> 0.370</td><td>1.646709e-06</td><td>C</td><td>1</td><td>2.875578e-191</td><td> 0.500</td><td>5.521110e-188</td><td>1</td></tr>\n",
       "\t<tr><th scope=row>7756</th><td>SMAD1</td><td>preGC_I         </td><td>2</td><td>SMAD1</td><td>1.855508e-13</td><td>0.340</td><td>0.390</td><td>0.245</td><td>2.891809e-09</td><td>1</td><td>9.532185e-07</td><td>-0.280</td><td>1.311629e-03</td><td>C</td><td>0</td><td> 4.670586e-06</td><td> 0.280</td><td> 8.967525e-03</td><td>1</td></tr>\n",
       "\t<tr><th scope=row>709</th><td>SMAD1</td><td>CoelEpi_LHX9    </td><td>0</td><td>SMAD1</td><td>2.438399e-02</td><td>0.120</td><td>0.305</td><td>0.258</td><td>1.000000e+00</td><td>0</td><td>3.883213e-03</td><td> 0.100</td><td>1.000000e+00</td><td>C</td><td>0</td><td> 4.554700e-02</td><td> 0.079</td><td> 1.000000e+00</td><td>0</td></tr>\n",
       "\t<tr><th scope=row>2109</th><td>SMAD1</td><td>early_somatic   </td><td>0</td><td>SMAD1</td><td>          NA</td><td>0.000</td><td>   NA</td><td>   NA</td><td>1.000000e+00</td><td>0</td><td>7.908590e-01</td><td>-0.022</td><td>1.000000e+00</td><td>C</td><td>0</td><td>           NA</td><td> 0.000</td><td> 1.000000e+00</td><td>0</td></tr>\n",
       "\t<tr><th scope=row>4932</th><td>SMAD1</td><td>granulosa       </td><td>0</td><td>SMAD1</td><td>9.382557e-01</td><td>0.020</td><td>0.254</td><td>0.265</td><td>1.000000e+00</td><td>0</td><td>8.542069e-01</td><td> 0.014</td><td>1.000000e+00</td><td>C</td><td>0</td><td> 3.881740e-05</td><td> 0.190</td><td> 7.452941e-02</td><td>0</td></tr>\n",
       "\t<tr><th scope=row>6344</th><td>SMAD1</td><td>OSE             </td><td>0</td><td>SMAD1</td><td>          NA</td><td>0.000</td><td>   NA</td><td>   NA</td><td>1.000000e+00</td><td>0</td><td>6.414122e-01</td><td>-0.013</td><td>1.000000e+00</td><td>C</td><td>0</td><td>4.812802e-137</td><td>-0.670</td><td>9.240580e-134</td><td>0</td></tr>\n",
       "\t<tr><th scope=row>9168</th><td>SMAD1</td><td>preGC_IIa       </td><td>0</td><td>SMAD1</td><td>2.420391e-01</td><td>0.019</td><td>0.292</td><td>0.260</td><td>1.000000e+00</td><td>0</td><td>3.000927e-08</td><td>-0.340</td><td>4.129275e-05</td><td>C</td><td>0</td><td> 1.470835e-11</td><td> 0.066</td><td> 2.824003e-08</td><td>0</td></tr>\n",
       "\t<tr><th scope=row>10580</th><td>SMAD1</td><td>preGC_IIb       </td><td>0</td><td>SMAD1</td><td>          NA</td><td>0.000</td><td>   NA</td><td>   NA</td><td>1.000000e+00</td><td>0</td><td>1.339438e-01</td><td> 0.043</td><td>1.000000e+00</td><td>C</td><td>0</td><td> 3.611342e-45</td><td>-0.350</td><td> 6.933776e-42</td><td>0</td></tr>\n",
       "</tbody>\n",
       "</table>\n"
      ],
      "text/latex": [
       "A data.frame: 8 × 19\n",
       "\\begin{tabular}{r|lllllllllllllllllll}\n",
       "  & TF & cluster & N\\_agreement & gene & RNA\\_DEGs.p\\_val & RNA\\_DEGs.avg\\_logFC & RNA\\_DEGs.pct.1 & RNA\\_DEGs.pct.2 & RNA\\_DEGs.p\\_val\\_adj & RNA\\_DEGs & RNA\\_TFact.p\\_val & RNA\\_TFact.avg\\_logFC & RNA\\_TFact.p\\_val\\_adj & RNA\\_TFact.Dorothea\\_score & RNA\\_TFact & ATAC\\_TFact.p\\_val & ATAC\\_TFact.avg\\_logFC & ATAC\\_TFact.p\\_val\\_adj & ATAC\\_TFact\\\\\n",
       "  & <chr> & <chr> & <dbl> & <chr> & <dbl> & <dbl> & <dbl> & <dbl> & <dbl> & <dbl> & <dbl> & <dbl> & <dbl> & <chr> & <dbl> & <dbl> & <dbl> & <dbl> & <dbl>\\\\\n",
       "\\hline\n",
       "\t3520 & SMAD1 & early\\_supporting & 2 & SMAD1 &           NA & 0.000 &    NA &    NA & 1.000000e+00 & 0 & 1.196736e-09 &  0.370 & 1.646709e-06 & C & 1 & 2.875578e-191 &  0.500 & 5.521110e-188 & 1\\\\\n",
       "\t7756 & SMAD1 & preGC\\_I          & 2 & SMAD1 & 1.855508e-13 & 0.340 & 0.390 & 0.245 & 2.891809e-09 & 1 & 9.532185e-07 & -0.280 & 1.311629e-03 & C & 0 &  4.670586e-06 &  0.280 &  8.967525e-03 & 1\\\\\n",
       "\t709 & SMAD1 & CoelEpi\\_LHX9     & 0 & SMAD1 & 2.438399e-02 & 0.120 & 0.305 & 0.258 & 1.000000e+00 & 0 & 3.883213e-03 &  0.100 & 1.000000e+00 & C & 0 &  4.554700e-02 &  0.079 &  1.000000e+00 & 0\\\\\n",
       "\t2109 & SMAD1 & early\\_somatic    & 0 & SMAD1 &           NA & 0.000 &    NA &    NA & 1.000000e+00 & 0 & 7.908590e-01 & -0.022 & 1.000000e+00 & C & 0 &            NA &  0.000 &  1.000000e+00 & 0\\\\\n",
       "\t4932 & SMAD1 & granulosa        & 0 & SMAD1 & 9.382557e-01 & 0.020 & 0.254 & 0.265 & 1.000000e+00 & 0 & 8.542069e-01 &  0.014 & 1.000000e+00 & C & 0 &  3.881740e-05 &  0.190 &  7.452941e-02 & 0\\\\\n",
       "\t6344 & SMAD1 & OSE              & 0 & SMAD1 &           NA & 0.000 &    NA &    NA & 1.000000e+00 & 0 & 6.414122e-01 & -0.013 & 1.000000e+00 & C & 0 & 4.812802e-137 & -0.670 & 9.240580e-134 & 0\\\\\n",
       "\t9168 & SMAD1 & preGC\\_IIa        & 0 & SMAD1 & 2.420391e-01 & 0.019 & 0.292 & 0.260 & 1.000000e+00 & 0 & 3.000927e-08 & -0.340 & 4.129275e-05 & C & 0 &  1.470835e-11 &  0.066 &  2.824003e-08 & 0\\\\\n",
       "\t10580 & SMAD1 & preGC\\_IIb        & 0 & SMAD1 &           NA & 0.000 &    NA &    NA & 1.000000e+00 & 0 & 1.339438e-01 &  0.043 & 1.000000e+00 & C & 0 &  3.611342e-45 & -0.350 &  6.933776e-42 & 0\\\\\n",
       "\\end{tabular}\n"
      ],
      "text/markdown": [
       "\n",
       "A data.frame: 8 × 19\n",
       "\n",
       "| <!--/--> | TF &lt;chr&gt; | cluster &lt;chr&gt; | N_agreement &lt;dbl&gt; | gene &lt;chr&gt; | RNA_DEGs.p_val &lt;dbl&gt; | RNA_DEGs.avg_logFC &lt;dbl&gt; | RNA_DEGs.pct.1 &lt;dbl&gt; | RNA_DEGs.pct.2 &lt;dbl&gt; | RNA_DEGs.p_val_adj &lt;dbl&gt; | RNA_DEGs &lt;dbl&gt; | RNA_TFact.p_val &lt;dbl&gt; | RNA_TFact.avg_logFC &lt;dbl&gt; | RNA_TFact.p_val_adj &lt;dbl&gt; | RNA_TFact.Dorothea_score &lt;chr&gt; | RNA_TFact &lt;dbl&gt; | ATAC_TFact.p_val &lt;dbl&gt; | ATAC_TFact.avg_logFC &lt;dbl&gt; | ATAC_TFact.p_val_adj &lt;dbl&gt; | ATAC_TFact &lt;dbl&gt; |\n",
       "|---|---|---|---|---|---|---|---|---|---|---|---|---|---|---|---|---|---|---|---|\n",
       "| 3520 | SMAD1 | early_supporting | 2 | SMAD1 |           NA | 0.000 |    NA |    NA | 1.000000e+00 | 0 | 1.196736e-09 |  0.370 | 1.646709e-06 | C | 1 | 2.875578e-191 |  0.500 | 5.521110e-188 | 1 |\n",
       "| 7756 | SMAD1 | preGC_I          | 2 | SMAD1 | 1.855508e-13 | 0.340 | 0.390 | 0.245 | 2.891809e-09 | 1 | 9.532185e-07 | -0.280 | 1.311629e-03 | C | 0 |  4.670586e-06 |  0.280 |  8.967525e-03 | 1 |\n",
       "| 709 | SMAD1 | CoelEpi_LHX9     | 0 | SMAD1 | 2.438399e-02 | 0.120 | 0.305 | 0.258 | 1.000000e+00 | 0 | 3.883213e-03 |  0.100 | 1.000000e+00 | C | 0 |  4.554700e-02 |  0.079 |  1.000000e+00 | 0 |\n",
       "| 2109 | SMAD1 | early_somatic    | 0 | SMAD1 |           NA | 0.000 |    NA |    NA | 1.000000e+00 | 0 | 7.908590e-01 | -0.022 | 1.000000e+00 | C | 0 |            NA |  0.000 |  1.000000e+00 | 0 |\n",
       "| 4932 | SMAD1 | granulosa        | 0 | SMAD1 | 9.382557e-01 | 0.020 | 0.254 | 0.265 | 1.000000e+00 | 0 | 8.542069e-01 |  0.014 | 1.000000e+00 | C | 0 |  3.881740e-05 |  0.190 |  7.452941e-02 | 0 |\n",
       "| 6344 | SMAD1 | OSE              | 0 | SMAD1 |           NA | 0.000 |    NA |    NA | 1.000000e+00 | 0 | 6.414122e-01 | -0.013 | 1.000000e+00 | C | 0 | 4.812802e-137 | -0.670 | 9.240580e-134 | 0 |\n",
       "| 9168 | SMAD1 | preGC_IIa        | 0 | SMAD1 | 2.420391e-01 | 0.019 | 0.292 | 0.260 | 1.000000e+00 | 0 | 3.000927e-08 | -0.340 | 4.129275e-05 | C | 0 |  1.470835e-11 |  0.066 |  2.824003e-08 | 0 |\n",
       "| 10580 | SMAD1 | preGC_IIb        | 0 | SMAD1 |           NA | 0.000 |    NA |    NA | 1.000000e+00 | 0 | 1.339438e-01 |  0.043 | 1.000000e+00 | C | 0 |  3.611342e-45 | -0.350 |  6.933776e-42 | 0 |\n",
       "\n"
      ],
      "text/plain": [
       "      TF    cluster          N_agreement gene  RNA_DEGs.p_val\n",
       "3520  SMAD1 early_supporting 2           SMAD1           NA  \n",
       "7756  SMAD1 preGC_I          2           SMAD1 1.855508e-13  \n",
       "709   SMAD1 CoelEpi_LHX9     0           SMAD1 2.438399e-02  \n",
       "2109  SMAD1 early_somatic    0           SMAD1           NA  \n",
       "4932  SMAD1 granulosa        0           SMAD1 9.382557e-01  \n",
       "6344  SMAD1 OSE              0           SMAD1           NA  \n",
       "9168  SMAD1 preGC_IIa        0           SMAD1 2.420391e-01  \n",
       "10580 SMAD1 preGC_IIb        0           SMAD1           NA  \n",
       "      RNA_DEGs.avg_logFC RNA_DEGs.pct.1 RNA_DEGs.pct.2 RNA_DEGs.p_val_adj\n",
       "3520  0.000                 NA             NA          1.000000e+00      \n",
       "7756  0.340              0.390          0.245          2.891809e-09      \n",
       "709   0.120              0.305          0.258          1.000000e+00      \n",
       "2109  0.000                 NA             NA          1.000000e+00      \n",
       "4932  0.020              0.254          0.265          1.000000e+00      \n",
       "6344  0.000                 NA             NA          1.000000e+00      \n",
       "9168  0.019              0.292          0.260          1.000000e+00      \n",
       "10580 0.000                 NA             NA          1.000000e+00      \n",
       "      RNA_DEGs RNA_TFact.p_val RNA_TFact.avg_logFC RNA_TFact.p_val_adj\n",
       "3520  0        1.196736e-09     0.370              1.646709e-06       \n",
       "7756  1        9.532185e-07    -0.280              1.311629e-03       \n",
       "709   0        3.883213e-03     0.100              1.000000e+00       \n",
       "2109  0        7.908590e-01    -0.022              1.000000e+00       \n",
       "4932  0        8.542069e-01     0.014              1.000000e+00       \n",
       "6344  0        6.414122e-01    -0.013              1.000000e+00       \n",
       "9168  0        3.000927e-08    -0.340              4.129275e-05       \n",
       "10580 0        1.339438e-01     0.043              1.000000e+00       \n",
       "      RNA_TFact.Dorothea_score RNA_TFact ATAC_TFact.p_val ATAC_TFact.avg_logFC\n",
       "3520  C                        1         2.875578e-191     0.500              \n",
       "7756  C                        0          4.670586e-06     0.280              \n",
       "709   C                        0          4.554700e-02     0.079              \n",
       "2109  C                        0                    NA     0.000              \n",
       "4932  C                        0          3.881740e-05     0.190              \n",
       "6344  C                        0         4.812802e-137    -0.670              \n",
       "9168  C                        0          1.470835e-11     0.066              \n",
       "10580 C                        0          3.611342e-45    -0.350              \n",
       "      ATAC_TFact.p_val_adj ATAC_TFact\n",
       "3520  5.521110e-188        1         \n",
       "7756   8.967525e-03        1         \n",
       "709    1.000000e+00        0         \n",
       "2109   1.000000e+00        0         \n",
       "4932   7.452941e-02        0         \n",
       "6344  9.240580e-134        0         \n",
       "9168   2.824003e-08        0         \n",
       "10580  6.933776e-42        0         "
      ]
     },
     "metadata": {},
     "output_type": "display_data"
    }
   ],
   "source": [
    "subset(df, TF == 'SMAD1')[, - c(4:5) ]"
   ]
  },
  {
   "cell_type": "code",
   "execution_count": 20,
   "metadata": {},
   "outputs": [
    {
     "data": {
      "text/html": [
       "<style>\n",
       ".list-inline {list-style: none; margin:0; padding: 0}\n",
       ".list-inline>li {display: inline-block}\n",
       ".list-inline>li:not(:last-child)::after {content: \"\\00b7\"; padding: 0 .5ex}\n",
       "</style>\n",
       "<ol class=list-inline><li>'CoelEpi_LHX9'</li><li>'early_supporting'</li><li>'preGC_I'</li><li>'OSE'</li><li>'preGC_IIa'</li><li>'preGC_IIb'</li><li>'granulosa'</li></ol>\n"
      ],
      "text/latex": [
       "\\begin{enumerate*}\n",
       "\\item 'CoelEpi\\_LHX9'\n",
       "\\item 'early\\_supporting'\n",
       "\\item 'preGC\\_I'\n",
       "\\item 'OSE'\n",
       "\\item 'preGC\\_IIa'\n",
       "\\item 'preGC\\_IIb'\n",
       "\\item 'granulosa'\n",
       "\\end{enumerate*}\n"
      ],
      "text/markdown": [
       "1. 'CoelEpi_LHX9'\n",
       "2. 'early_supporting'\n",
       "3. 'preGC_I'\n",
       "4. 'OSE'\n",
       "5. 'preGC_IIa'\n",
       "6. 'preGC_IIb'\n",
       "7. 'granulosa'\n",
       "\n",
       "\n"
      ],
      "text/plain": [
       "[1] \"CoelEpi_LHX9\"     \"early_supporting\" \"preGC_I\"          \"OSE\"             \n",
       "[5] \"preGC_IIa\"        \"preGC_IIb\"        \"granulosa\"       "
      ]
     },
     "metadata": {},
     "output_type": "display_data"
    }
   ],
   "source": [
    "CLofinterest"
   ]
  },
  {
   "cell_type": "code",
   "execution_count": null,
   "metadata": {},
   "outputs": [],
   "source": []
  }
 ],
 "metadata": {
  "kernelspec": {
   "display_name": "R",
   "language": "R",
   "name": "ir"
  },
  "language_info": {
   "codemirror_mode": "r",
   "file_extension": ".r",
   "mimetype": "text/x-r-source",
   "name": "R",
   "pygments_lexer": "r",
   "version": "4.0.3"
  }
 },
 "nbformat": 4,
 "nbformat_minor": 4
}
