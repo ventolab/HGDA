{
 "cells": [
  {
   "cell_type": "markdown",
   "metadata": {},
   "source": [
    "# Granulosa lineage HUMANs - TFs prioritization"
   ]
  },
  {
   "cell_type": "code",
   "execution_count": 1,
   "metadata": {},
   "outputs": [
    {
     "name": "stderr",
     "output_type": "stream",
     "text": [
      "\n",
      "Attaching package: ‘dplyr’\n",
      "\n",
      "\n",
      "The following objects are masked from ‘package:stats’:\n",
      "\n",
      "    filter, lag\n",
      "\n",
      "\n",
      "The following objects are masked from ‘package:base’:\n",
      "\n",
      "    intersect, setdiff, setequal, union\n",
      "\n",
      "\n"
     ]
    }
   ],
   "source": [
    "library(dplyr)\n",
    "library(RColorBrewer)\n",
    "library(ggplot2)\n",
    "library(pheatmap)\n",
    "library(cowplot)\n",
    "library(reshape2)"
   ]
  },
  {
   "cell_type": "code",
   "execution_count": 2,
   "metadata": {},
   "outputs": [
    {
     "data": {
      "text/plain": [
       "R version 4.0.3 (2020-10-10)\n",
       "Platform: x86_64-conda-linux-gnu (64-bit)\n",
       "Running under: Ubuntu 20.04.1 LTS\n",
       "\n",
       "Matrix products: default\n",
       "BLAS:   /home/jovyan/my-conda-envs/R_Seurat3/lib/libblas.so.3.8.0\n",
       "LAPACK: /home/jovyan/my-conda-envs/R_Seurat3/lib/liblapack.so.3.8.0\n",
       "\n",
       "locale:\n",
       " [1] LC_CTYPE=en_US.UTF-8       LC_NUMERIC=C              \n",
       " [3] LC_TIME=en_US.UTF-8        LC_COLLATE=en_US.UTF-8    \n",
       " [5] LC_MONETARY=en_US.UTF-8    LC_MESSAGES=en_US.UTF-8   \n",
       " [7] LC_PAPER=en_US.UTF-8       LC_NAME=C                 \n",
       " [9] LC_ADDRESS=C               LC_TELEPHONE=C            \n",
       "[11] LC_MEASUREMENT=en_US.UTF-8 LC_IDENTIFICATION=C       \n",
       "\n",
       "attached base packages:\n",
       "[1] stats     graphics  grDevices utils     datasets  methods   base     \n",
       "\n",
       "other attached packages:\n",
       "[1] reshape2_1.4.4     cowplot_1.1.1      pheatmap_1.0.12    ggplot2_3.3.3     \n",
       "[5] RColorBrewer_1.1-2 dplyr_1.0.5       \n",
       "\n",
       "loaded via a namespace (and not attached):\n",
       " [1] Rcpp_1.0.6          plyr_1.8.6          pillar_1.5.1       \n",
       " [4] compiler_4.0.3      base64enc_0.1-3     tools_4.0.3        \n",
       " [7] digest_0.6.27       uuid_0.1-4          jsonlite_1.7.2     \n",
       "[10] evaluate_0.14       lifecycle_1.0.0     tibble_3.1.0       \n",
       "[13] gtable_0.3.0        pkgconfig_2.0.3     rlang_0.4.10       \n",
       "[16] IRdisplay_1.0       DBI_1.1.1           IRkernel_1.1.1.9000\n",
       "[19] stringr_1.4.0       repr_1.1.3          withr_2.4.1        \n",
       "[22] generics_0.1.0      vctrs_0.3.6         grid_4.0.3         \n",
       "[25] tidyselect_1.1.0    glue_1.4.2          R6_2.5.0           \n",
       "[28] fansi_0.4.2         pbdZMQ_0.3-5        purrr_0.3.4        \n",
       "[31] magrittr_2.0.1      scales_1.1.1        ellipsis_0.3.1     \n",
       "[34] htmltools_0.5.1.1   assertthat_0.2.1    colorspace_2.0-0   \n",
       "[37] utf8_1.2.1          stringi_1.5.3       munsell_0.5.0      \n",
       "[40] crayon_1.4.1       "
      ]
     },
     "metadata": {},
     "output_type": "display_data"
    }
   ],
   "source": [
    "sessionInfo()"
   ]
  },
  {
   "cell_type": "code",
   "execution_count": 3,
   "metadata": {},
   "outputs": [],
   "source": [
    "path_to_gonads = '/nfs/team292/lg18/with_valentina/gonadsV2_revision/'"
   ]
  },
  {
   "cell_type": "markdown",
   "metadata": {},
   "source": [
    "# Load measurements\n",
    "## human TFs from multiomics integration"
   ]
  },
  {
   "cell_type": "code",
   "execution_count": 4,
   "metadata": {},
   "outputs": [
    {
     "data": {
      "text/html": [
       "<style>\n",
       ".list-inline {list-style: none; margin:0; padding: 0}\n",
       ".list-inline>li {display: inline-block}\n",
       ".list-inline>li:not(:last-child)::after {content: \"\\00b7\"; padding: 0 .5ex}\n",
       "</style>\n",
       "<ol class=list-inline><li>11283</li><li>21</li></ol>\n"
      ],
      "text/latex": [
       "\\begin{enumerate*}\n",
       "\\item 11283\n",
       "\\item 21\n",
       "\\end{enumerate*}\n"
      ],
      "text/markdown": [
       "1. 11283\n",
       "2. 21\n",
       "\n",
       "\n"
      ],
      "text/plain": [
       "[1] 11283    21"
      ]
     },
     "metadata": {},
     "output_type": "display_data"
    },
    {
     "data": {
      "text/html": [
       "1406"
      ],
      "text/latex": [
       "1406"
      ],
      "text/markdown": [
       "1406"
      ],
      "text/plain": [
       "[1] 1406"
      ]
     },
     "metadata": {},
     "output_type": "display_data"
    }
   ],
   "source": [
    "# Load TF activities computed with Dorothea\n",
    "HUMAN = read.csv('figures_somatic/granulosa_human_TFs_measurements.csv', stringsAsFactors = F)\n",
    "HUMAN = subset(HUMAN, ! is.na(gene) )\n",
    "HUMAN$ID = paste0(HUMAN$cluster, '__', HUMAN$TF)\n",
    "dim(HUMAN)\n",
    "length(unique(HUMAN$gene))"
   ]
  },
  {
   "cell_type": "code",
   "execution_count": 5,
   "metadata": {},
   "outputs": [],
   "source": [
    "# Load TF activities computed with Dorothea\n",
    "HUMAN_prioritized = read.csv('figures_somatic/granulosa_human_relevantTFs_priotitized.csv', stringsAsFactors = F)\n",
    "# HUMAN = subset(HUMAN, N_agreement > 1)\n",
    "HUMAN_prioritized$ID = paste0(HUMAN_prioritized$cluster, '__', HUMAN_prioritized$gene)"
   ]
  },
  {
   "cell_type": "markdown",
   "metadata": {},
   "source": [
    "## mouse"
   ]
  },
  {
   "cell_type": "code",
   "execution_count": 6,
   "metadata": {},
   "outputs": [
    {
     "data": {
      "text/html": [
       "<style>\n",
       ".list-inline {list-style: none; margin:0; padding: 0}\n",
       ".list-inline>li {display: inline-block}\n",
       ".list-inline>li:not(:last-child)::after {content: \"\\00b7\"; padding: 0 .5ex}\n",
       "</style>\n",
       "<ol class=list-inline><li>41948</li><li>9</li></ol>\n"
      ],
      "text/latex": [
       "\\begin{enumerate*}\n",
       "\\item 41948\n",
       "\\item 9\n",
       "\\end{enumerate*}\n"
      ],
      "text/markdown": [
       "1. 41948\n",
       "2. 9\n",
       "\n",
       "\n"
      ],
      "text/plain": [
       "[1] 41948     9"
      ]
     },
     "metadata": {},
     "output_type": "display_data"
    }
   ],
   "source": [
    "MOUSE = read.csv(paste0(path_to_gonads, 'mouse-gonads_pregranulosa_DEGs.tsv'), stringsAsFactors = F, sep = '\\t')\n",
    "MOUSE$cluster[ MOUSE$cluster == 'preGC_II' ] = 'preGC_IIb'\n",
    "MOUSE$cluster[ MOUSE$cluster == 'CoelEpi_Lhx9' ] = 'CoelEpi_LHX9'\n",
    "# MOUSE = subset(MOUSE, p_val_adj < 0.01 & avg_logFC > 0.1)\n",
    "MOUSE$gene_mouse = MOUSE$gene\n",
    "MOUSE$mouse_DEG = 0\n",
    "MOUSE$mouse_DEG[ MOUSE$p_val_adj < 0.05 & MOUSE$avg_logFC > 0 ] = 1\n",
    "dim(MOUSE)\n",
    "\n",
    "\n",
    "# load orthologous\n",
    "orthologous = read.csv('/nfs/team292/vl6/Mouse_Niu2020/biomart_human_mouse_orthologs.tsv', stringsAsFactors = F, sep ='\\t')\n",
    "# Remove duplicates prioritizing gene match\n",
    "orthologous$match = (toupper(orthologous$Mouse.gene.name) == orthologous$Gene.name) * 1\n",
    "orthologous = orthologous[ order(orthologous$match, decreasing = T),  ]\n",
    "orthologous = orthologous[ ! duplicated(orthologous$Mouse.gene.name),  ]\n",
    "orthologous = orthologous[ ! duplicated(orthologous$Gene.name),  ]\n",
    "rownames(orthologous) = orthologous$Mouse.gene.name\n",
    "\n",
    "# Reannotate `gene` with orthologous\n",
    "MOUSE$gene = orthologous[ MOUSE$gene_mouse , ]$Gene.name\n",
    "MOUSE$gene[ is.na(MOUSE$gene) ] = toupper(MOUSE$gene_mouse[ is.na(MOUSE$gene) ])\n",
    "\n",
    "# Make id\n",
    "MOUSE$ID = paste0(MOUSE$cluster, '__', MOUSE$gene)"
   ]
  },
  {
   "cell_type": "markdown",
   "metadata": {},
   "source": [
    "## monkey"
   ]
  },
  {
   "cell_type": "code",
   "execution_count": 7,
   "metadata": {},
   "outputs": [
    {
     "data": {
      "text/html": [
       "<style>\n",
       ".list-inline {list-style: none; margin:0; padding: 0}\n",
       ".list-inline>li {display: inline-block}\n",
       ".list-inline>li:not(:last-child)::after {content: \"\\00b7\"; padding: 0 .5ex}\n",
       "</style>\n",
       "<ol class=list-inline><li>26419</li><li>9</li></ol>\n"
      ],
      "text/latex": [
       "\\begin{enumerate*}\n",
       "\\item 26419\n",
       "\\item 9\n",
       "\\end{enumerate*}\n"
      ],
      "text/markdown": [
       "1. 26419\n",
       "2. 9\n",
       "\n",
       "\n"
      ],
      "text/plain": [
       "[1] 26419     9"
      ]
     },
     "metadata": {},
     "output_type": "display_data"
    }
   ],
   "source": [
    "MONKEY = read.csv(paste0(path_to_gonads, 'monkey-gonads_granulosa_DEGs.tsv'), stringsAsFactors = F, sep = '\\t')\n",
    "MONKEY$cluster[ MONKEY$cluster == 'preGC_II' ] = 'preGC_IIb'\n",
    "# MONKEY = subset(MONKEY, p_val_adj < 0.01 & avg_logFC > 0.1)\n",
    "MONKEY$monkey_DEG = 0\n",
    "MONKEY$monkey_DEG[ MONKEY$p_val_adj < 0.05 & MONKEY$avg_logFC > 0 ] = 1\n",
    "MONKEY$ID = paste0(MONKEY$cluster, '__', MONKEY$gene)\n",
    "dim(MONKEY)"
   ]
  },
  {
   "cell_type": "markdown",
   "metadata": {},
   "source": [
    "### Check clusters are shared"
   ]
  },
  {
   "cell_type": "code",
   "execution_count": 8,
   "metadata": {},
   "outputs": [
    {
     "data": {
      "text/html": [
       "<style>\n",
       ".list-inline {list-style: none; margin:0; padding: 0}\n",
       ".list-inline>li {display: inline-block}\n",
       ".list-inline>li:not(:last-child)::after {content: \"\\00b7\"; padding: 0 .5ex}\n",
       "</style>\n",
       "<ol class=list-inline><li>'preGC_IIb'</li><li>'CoelEpi_LHX9'</li><li>'preGC_I'</li><li>'OSE'</li><li>'granulosa'</li></ol>\n"
      ],
      "text/latex": [
       "\\begin{enumerate*}\n",
       "\\item 'preGC\\_IIb'\n",
       "\\item 'CoelEpi\\_LHX9'\n",
       "\\item 'preGC\\_I'\n",
       "\\item 'OSE'\n",
       "\\item 'granulosa'\n",
       "\\end{enumerate*}\n"
      ],
      "text/markdown": [
       "1. 'preGC_IIb'\n",
       "2. 'CoelEpi_LHX9'\n",
       "3. 'preGC_I'\n",
       "4. 'OSE'\n",
       "5. 'granulosa'\n",
       "\n",
       "\n"
      ],
      "text/plain": [
       "[1] \"preGC_IIb\"    \"CoelEpi_LHX9\" \"preGC_I\"      \"OSE\"          \"granulosa\"   "
      ]
     },
     "metadata": {},
     "output_type": "display_data"
    }
   ],
   "source": [
    "unique(MOUSE$cluster)"
   ]
  },
  {
   "cell_type": "code",
   "execution_count": 9,
   "metadata": {},
   "outputs": [
    {
     "data": {
      "text/html": [
       "<style>\n",
       ".list-inline {list-style: none; margin:0; padding: 0}\n",
       ".list-inline>li {display: inline-block}\n",
       ".list-inline>li:not(:last-child)::after {content: \"\\00b7\"; padding: 0 .5ex}\n",
       "</style>\n",
       "<ol class=list-inline><li>'CoelEpi_LHX9'</li><li>'OSE'</li><li>'granulosa'</li><li>'preGC_I'</li><li>'preGC_IIb'</li></ol>\n"
      ],
      "text/latex": [
       "\\begin{enumerate*}\n",
       "\\item 'CoelEpi\\_LHX9'\n",
       "\\item 'OSE'\n",
       "\\item 'granulosa'\n",
       "\\item 'preGC\\_I'\n",
       "\\item 'preGC\\_IIb'\n",
       "\\end{enumerate*}\n"
      ],
      "text/markdown": [
       "1. 'CoelEpi_LHX9'\n",
       "2. 'OSE'\n",
       "3. 'granulosa'\n",
       "4. 'preGC_I'\n",
       "5. 'preGC_IIb'\n",
       "\n",
       "\n"
      ],
      "text/plain": [
       "[1] \"CoelEpi_LHX9\" \"OSE\"          \"granulosa\"    \"preGC_I\"      \"preGC_IIb\"   "
      ]
     },
     "metadata": {},
     "output_type": "display_data"
    }
   ],
   "source": [
    "unique(MONKEY$cluster)"
   ]
  },
  {
   "cell_type": "code",
   "execution_count": 10,
   "metadata": {},
   "outputs": [
    {
     "name": "stderr",
     "output_type": "stream",
     "text": [
      "different\n",
      "\n"
     ]
    },
    {
     "name": "stdout",
     "output_type": "stream",
     "text": [
      "[1] \"early_supporting\" \"early_somatic\"    \"preGC_IIa\"       \n"
     ]
    },
    {
     "name": "stderr",
     "output_type": "stream",
     "text": [
      "shared\n",
      "\n"
     ]
    },
    {
     "name": "stdout",
     "output_type": "stream",
     "text": [
      "[1] \"CoelEpi_LHX9\" \"granulosa\"    \"OSE\"          \"preGC_I\"      \"preGC_IIb\"   \n"
     ]
    }
   ],
   "source": [
    "shared = Reduce(intersect, list(MOUSE$cluster, HUMAN$cluster, MONKEY$cluster) )\n",
    "message('different')\n",
    "print(setdiff(HUMAN$cluster, shared ))\n",
    "message('shared')\n",
    "print(intersect(HUMAN$cluster, shared ))"
   ]
  },
  {
   "cell_type": "markdown",
   "metadata": {},
   "source": [
    "# Merge into a dataframe"
   ]
  },
  {
   "cell_type": "code",
   "execution_count": 11,
   "metadata": {},
   "outputs": [],
   "source": [
    "# add prefix to column names to identify origin\n",
    "names(MOUSE)[c(1:5)] = paste0('mouse.', names(MOUSE)[c(1:5)])\n",
    "names(MONKEY)[c(1:5)] = paste0('monkey', names(MONKEY)[c(1:5)])"
   ]
  },
  {
   "cell_type": "code",
   "execution_count": 12,
   "metadata": {},
   "outputs": [
    {
     "data": {
      "text/html": [
       "1406"
      ],
      "text/latex": [
       "1406"
      ],
      "text/markdown": [
       "1406"
      ],
      "text/plain": [
       "[1] 1406"
      ]
     },
     "metadata": {},
     "output_type": "display_data"
    },
    {
     "data": {
      "text/html": [
       "1406"
      ],
      "text/latex": [
       "1406"
      ],
      "text/markdown": [
       "1406"
      ],
      "text/plain": [
       "[1] 1406"
      ]
     },
     "metadata": {},
     "output_type": "display_data"
    },
    {
     "data": {
      "text/html": [
       "1406"
      ],
      "text/latex": [
       "1406"
      ],
      "text/markdown": [
       "1406"
      ],
      "text/plain": [
       "[1] 1406"
      ]
     },
     "metadata": {},
     "output_type": "display_data"
    }
   ],
   "source": [
    "# HUMAN = subset(HUMAN, gene %in% c(MOUSE$gene, MONKEY$gene) )\n",
    "MOUSE = subset(MOUSE, gene %in% c(HUMAN$gene) )\n",
    "MONKEY = subset(MONKEY, gene %in% c(HUMAN$gene) )\n",
    "length(unique(HUMAN$gene))\n",
    "\n",
    "# merge RNA measurements\n",
    "df = merge(HUMAN, MOUSE, by = 'ID', all = T)\n",
    "df = df[, grep('y$', names(df), invert = T) ] # remove unwanted columns\n",
    "colnames(df) = gsub('.x$', '', colnames(df))\n",
    "length(unique(df$gene))\n",
    "\n",
    "# merge RNA measurements\n",
    "df = merge(df, MONKEY, by = 'ID', all = T)\n",
    "df = df[, grep('y$', names(df), invert = T) ] # remove unwanted columns\n",
    "colnames(df) = gsub('.x$', '', colnames(df))\n",
    "length(unique(df$gene))"
   ]
  },
  {
   "cell_type": "markdown",
   "metadata": {},
   "source": [
    "## format and save table"
   ]
  },
  {
   "cell_type": "code",
   "execution_count": 13,
   "metadata": {},
   "outputs": [
    {
     "data": {
      "text/html": [
       "1406"
      ],
      "text/latex": [
       "1406"
      ],
      "text/markdown": [
       "1406"
      ],
      "text/plain": [
       "[1] 1406"
      ]
     },
     "metadata": {},
     "output_type": "display_data"
    }
   ],
   "source": [
    "df = subset(df, ! is.na(N_agreement) )\n",
    "df$mouse_DEG[ is.na(df$mouse_DEG) ] = 0\n",
    "df$monkey_DEG[ is.na(df$monkey_DEG) ] = 0\n",
    "df$N_agreement_species = df$mouse_DEG + df$monkey_DEG\n",
    "# df = subset(df, N_agreement_species > 0 )\n",
    "length(unique(df$gene))"
   ]
  },
  {
   "cell_type": "code",
   "execution_count": 14,
   "metadata": {},
   "outputs": [],
   "source": [
    "# reorganize columns\n",
    "coln = c('gene', 'cluster', 'N_agreement', 'ID')\n",
    "df = df[ , c(coln, setdiff(colnames(df), coln) ) ]\n",
    "\n",
    "# order by agreement\n",
    "df = df[ order(df$N_agreement, decreasing = T) , ]"
   ]
  },
  {
   "cell_type": "code",
   "execution_count": 15,
   "metadata": {},
   "outputs": [
    {
     "data": {
      "text/html": [
       "1406"
      ],
      "text/latex": [
       "1406"
      ],
      "text/markdown": [
       "1406"
      ],
      "text/plain": [
       "[1] 1406"
      ]
     },
     "metadata": {},
     "output_type": "display_data"
    }
   ],
   "source": [
    "length(unique(df$gene))"
   ]
  },
  {
   "cell_type": "code",
   "execution_count": 16,
   "metadata": {},
   "outputs": [],
   "source": [
    "# save\n",
    "write.csv(df, file = 'figures_somatic/granulosa_crosspecie_TF_measurements.csv', row.names=F)"
   ]
  },
  {
   "cell_type": "code",
   "execution_count": 17,
   "metadata": {},
   "outputs": [
    {
     "data": {
      "text/html": [
       "<table class=\"dataframe\">\n",
       "<caption>A data.frame: 8 × 35</caption>\n",
       "<thead>\n",
       "\t<tr><th></th><th scope=col>gene</th><th scope=col>cluster</th><th scope=col>N_agreement</th><th scope=col>ID</th><th scope=col>TF</th><th scope=col>ATAC_PWM</th><th scope=col>RNA_DEGs.p_val</th><th scope=col>RNA_DEGs.avg_logFC</th><th scope=col>RNA_DEGs.pct.1</th><th scope=col>RNA_DEGs.pct.2</th><th scope=col>⋯</th><th scope=col>mouse.p_val_adj</th><th scope=col>gene_mouse</th><th scope=col>mouse_DEG</th><th scope=col>monkeyp_val</th><th scope=col>monkeyavg_logFC</th><th scope=col>monkeypct.1</th><th scope=col>monkeypct.2</th><th scope=col>monkeyp_val_adj</th><th scope=col>monkey_DEG</th><th scope=col>N_agreement_species</th></tr>\n",
       "\t<tr><th></th><th scope=col>&lt;chr&gt;</th><th scope=col>&lt;chr&gt;</th><th scope=col>&lt;int&gt;</th><th scope=col>&lt;chr&gt;</th><th scope=col>&lt;chr&gt;</th><th scope=col>&lt;chr&gt;</th><th scope=col>&lt;dbl&gt;</th><th scope=col>&lt;dbl&gt;</th><th scope=col>&lt;dbl&gt;</th><th scope=col>&lt;dbl&gt;</th><th scope=col>⋯</th><th scope=col>&lt;dbl&gt;</th><th scope=col>&lt;chr&gt;</th><th scope=col>&lt;dbl&gt;</th><th scope=col>&lt;dbl&gt;</th><th scope=col>&lt;dbl&gt;</th><th scope=col>&lt;dbl&gt;</th><th scope=col>&lt;dbl&gt;</th><th scope=col>&lt;dbl&gt;</th><th scope=col>&lt;dbl&gt;</th><th scope=col>&lt;dbl&gt;</th></tr>\n",
       "</thead>\n",
       "<tbody>\n",
       "\t<tr><th scope=row>350</th><td>ID4</td><td>CoelEpi_LHX9    </td><td>2</td><td>CoelEpi_LHX9__ID4    </td><td>ID4</td><td>ID4.SwissRegulon   </td><td>5.199681e-30</td><td>0.5108670</td><td>0.642</td><td>0.405</td><td>⋯</td><td>2.243726e-49</td><td>Id4</td><td>1</td><td>1.444076e-22</td><td>1.1543969</td><td>0.633</td><td>0.100</td><td>1.692457e-18</td><td>1</td><td>2</td></tr>\n",
       "\t<tr><th scope=row>3161</th><td>ID4</td><td>early_supporting</td><td>2</td><td>early_supporting__ID4</td><td>ID4</td><td>ID4.MA0824.1.1     </td><td>2.616457e-19</td><td>0.3271443</td><td>0.630</td><td>0.407</td><td>⋯</td><td>          NA</td><td>NA </td><td>0</td><td>          NA</td><td>       NA</td><td>   NA</td><td>   NA</td><td>          NA</td><td>0</td><td>0</td></tr>\n",
       "\t<tr><th scope=row>5986</th><td>ID4</td><td>OSE             </td><td>2</td><td>OSE__ID4             </td><td>ID4</td><td>ID4.SwissRegulon.3 </td><td>2.596700e-08</td><td>0.2537180</td><td>0.542</td><td>0.420</td><td>⋯</td><td>          NA</td><td>NA </td><td>0</td><td>2.072936e-04</td><td>0.1072702</td><td>0.184</td><td>0.093</td><td>1.000000e+00</td><td>0</td><td>0</td></tr>\n",
       "\t<tr><th scope=row>4573</th><td>ID4</td><td>granulosa       </td><td>1</td><td>granulosa__ID4       </td><td>ID4</td><td>ID4-HUMAN.H10MO.D.6</td><td>          NA</td><td>0.0000000</td><td>   NA</td><td>   NA</td><td>⋯</td><td>          NA</td><td>NA </td><td>0</td><td>          NA</td><td>       NA</td><td>   NA</td><td>   NA</td><td>          NA</td><td>0</td><td>0</td></tr>\n",
       "\t<tr><th scope=row>8811</th><td>ID4</td><td>preGC_IIa       </td><td>1</td><td>preGC_IIa__ID4       </td><td>ID4</td><td>ID4.SwissRegulon.4 </td><td>          NA</td><td>0.0000000</td><td>   NA</td><td>   NA</td><td>⋯</td><td>          NA</td><td>NA </td><td>0</td><td>          NA</td><td>       NA</td><td>   NA</td><td>   NA</td><td>          NA</td><td>0</td><td>0</td></tr>\n",
       "\t<tr><th scope=row>1755</th><td>ID4</td><td>early_somatic   </td><td>0</td><td>early_somatic__ID4   </td><td>ID4</td><td>NA                 </td><td>          NA</td><td>0.0000000</td><td>   NA</td><td>   NA</td><td>⋯</td><td>          NA</td><td>NA </td><td>0</td><td>          NA</td><td>       NA</td><td>   NA</td><td>   NA</td><td>          NA</td><td>0</td><td>0</td></tr>\n",
       "\t<tr><th scope=row>7399</th><td>ID4</td><td>preGC_I         </td><td>0</td><td>preGC_I__ID4         </td><td>ID4</td><td>ID4-HUMAN.H10MO.D.2</td><td>          NA</td><td>0.0000000</td><td>   NA</td><td>   NA</td><td>⋯</td><td>1.746769e-03</td><td>Id4</td><td>1</td><td>          NA</td><td>       NA</td><td>   NA</td><td>   NA</td><td>          NA</td><td>0</td><td>1</td></tr>\n",
       "\t<tr><th scope=row>10223</th><td>ID4</td><td>preGC_IIb       </td><td>0</td><td>preGC_IIb__ID4       </td><td>ID4</td><td>ID4.SwissRegulon.5 </td><td>          NA</td><td>0.0000000</td><td>   NA</td><td>   NA</td><td>⋯</td><td>          NA</td><td>NA </td><td>0</td><td>          NA</td><td>       NA</td><td>   NA</td><td>   NA</td><td>          NA</td><td>0</td><td>0</td></tr>\n",
       "</tbody>\n",
       "</table>\n"
      ],
      "text/latex": [
       "A data.frame: 8 × 35\n",
       "\\begin{tabular}{r|lllllllllllllllllllll}\n",
       "  & gene & cluster & N\\_agreement & ID & TF & ATAC\\_PWM & RNA\\_DEGs.p\\_val & RNA\\_DEGs.avg\\_logFC & RNA\\_DEGs.pct.1 & RNA\\_DEGs.pct.2 & ⋯ & mouse.p\\_val\\_adj & gene\\_mouse & mouse\\_DEG & monkeyp\\_val & monkeyavg\\_logFC & monkeypct.1 & monkeypct.2 & monkeyp\\_val\\_adj & monkey\\_DEG & N\\_agreement\\_species\\\\\n",
       "  & <chr> & <chr> & <int> & <chr> & <chr> & <chr> & <dbl> & <dbl> & <dbl> & <dbl> & ⋯ & <dbl> & <chr> & <dbl> & <dbl> & <dbl> & <dbl> & <dbl> & <dbl> & <dbl> & <dbl>\\\\\n",
       "\\hline\n",
       "\t350 & ID4 & CoelEpi\\_LHX9     & 2 & CoelEpi\\_LHX9\\_\\_ID4     & ID4 & ID4.SwissRegulon    & 5.199681e-30 & 0.5108670 & 0.642 & 0.405 & ⋯ & 2.243726e-49 & Id4 & 1 & 1.444076e-22 & 1.1543969 & 0.633 & 0.100 & 1.692457e-18 & 1 & 2\\\\\n",
       "\t3161 & ID4 & early\\_supporting & 2 & early\\_supporting\\_\\_ID4 & ID4 & ID4.MA0824.1.1      & 2.616457e-19 & 0.3271443 & 0.630 & 0.407 & ⋯ &           NA & NA  & 0 &           NA &        NA &    NA &    NA &           NA & 0 & 0\\\\\n",
       "\t5986 & ID4 & OSE              & 2 & OSE\\_\\_ID4              & ID4 & ID4.SwissRegulon.3  & 2.596700e-08 & 0.2537180 & 0.542 & 0.420 & ⋯ &           NA & NA  & 0 & 2.072936e-04 & 0.1072702 & 0.184 & 0.093 & 1.000000e+00 & 0 & 0\\\\\n",
       "\t4573 & ID4 & granulosa        & 1 & granulosa\\_\\_ID4        & ID4 & ID4-HUMAN.H10MO.D.6 &           NA & 0.0000000 &    NA &    NA & ⋯ &           NA & NA  & 0 &           NA &        NA &    NA &    NA &           NA & 0 & 0\\\\\n",
       "\t8811 & ID4 & preGC\\_IIa        & 1 & preGC\\_IIa\\_\\_ID4        & ID4 & ID4.SwissRegulon.4  &           NA & 0.0000000 &    NA &    NA & ⋯ &           NA & NA  & 0 &           NA &        NA &    NA &    NA &           NA & 0 & 0\\\\\n",
       "\t1755 & ID4 & early\\_somatic    & 0 & early\\_somatic\\_\\_ID4    & ID4 & NA                  &           NA & 0.0000000 &    NA &    NA & ⋯ &           NA & NA  & 0 &           NA &        NA &    NA &    NA &           NA & 0 & 0\\\\\n",
       "\t7399 & ID4 & preGC\\_I          & 0 & preGC\\_I\\_\\_ID4          & ID4 & ID4-HUMAN.H10MO.D.2 &           NA & 0.0000000 &    NA &    NA & ⋯ & 1.746769e-03 & Id4 & 1 &           NA &        NA &    NA &    NA &           NA & 0 & 1\\\\\n",
       "\t10223 & ID4 & preGC\\_IIb        & 0 & preGC\\_IIb\\_\\_ID4        & ID4 & ID4.SwissRegulon.5  &           NA & 0.0000000 &    NA &    NA & ⋯ &           NA & NA  & 0 &           NA &        NA &    NA &    NA &           NA & 0 & 0\\\\\n",
       "\\end{tabular}\n"
      ],
      "text/markdown": [
       "\n",
       "A data.frame: 8 × 35\n",
       "\n",
       "| <!--/--> | gene &lt;chr&gt; | cluster &lt;chr&gt; | N_agreement &lt;int&gt; | ID &lt;chr&gt; | TF &lt;chr&gt; | ATAC_PWM &lt;chr&gt; | RNA_DEGs.p_val &lt;dbl&gt; | RNA_DEGs.avg_logFC &lt;dbl&gt; | RNA_DEGs.pct.1 &lt;dbl&gt; | RNA_DEGs.pct.2 &lt;dbl&gt; | ⋯ ⋯ | mouse.p_val_adj &lt;dbl&gt; | gene_mouse &lt;chr&gt; | mouse_DEG &lt;dbl&gt; | monkeyp_val &lt;dbl&gt; | monkeyavg_logFC &lt;dbl&gt; | monkeypct.1 &lt;dbl&gt; | monkeypct.2 &lt;dbl&gt; | monkeyp_val_adj &lt;dbl&gt; | monkey_DEG &lt;dbl&gt; | N_agreement_species &lt;dbl&gt; |\n",
       "|---|---|---|---|---|---|---|---|---|---|---|---|---|---|---|---|---|---|---|---|---|---|\n",
       "| 350 | ID4 | CoelEpi_LHX9     | 2 | CoelEpi_LHX9__ID4     | ID4 | ID4.SwissRegulon    | 5.199681e-30 | 0.5108670 | 0.642 | 0.405 | ⋯ | 2.243726e-49 | Id4 | 1 | 1.444076e-22 | 1.1543969 | 0.633 | 0.100 | 1.692457e-18 | 1 | 2 |\n",
       "| 3161 | ID4 | early_supporting | 2 | early_supporting__ID4 | ID4 | ID4.MA0824.1.1      | 2.616457e-19 | 0.3271443 | 0.630 | 0.407 | ⋯ |           NA | NA  | 0 |           NA |        NA |    NA |    NA |           NA | 0 | 0 |\n",
       "| 5986 | ID4 | OSE              | 2 | OSE__ID4              | ID4 | ID4.SwissRegulon.3  | 2.596700e-08 | 0.2537180 | 0.542 | 0.420 | ⋯ |           NA | NA  | 0 | 2.072936e-04 | 0.1072702 | 0.184 | 0.093 | 1.000000e+00 | 0 | 0 |\n",
       "| 4573 | ID4 | granulosa        | 1 | granulosa__ID4        | ID4 | ID4-HUMAN.H10MO.D.6 |           NA | 0.0000000 |    NA |    NA | ⋯ |           NA | NA  | 0 |           NA |        NA |    NA |    NA |           NA | 0 | 0 |\n",
       "| 8811 | ID4 | preGC_IIa        | 1 | preGC_IIa__ID4        | ID4 | ID4.SwissRegulon.4  |           NA | 0.0000000 |    NA |    NA | ⋯ |           NA | NA  | 0 |           NA |        NA |    NA |    NA |           NA | 0 | 0 |\n",
       "| 1755 | ID4 | early_somatic    | 0 | early_somatic__ID4    | ID4 | NA                  |           NA | 0.0000000 |    NA |    NA | ⋯ |           NA | NA  | 0 |           NA |        NA |    NA |    NA |           NA | 0 | 0 |\n",
       "| 7399 | ID4 | preGC_I          | 0 | preGC_I__ID4          | ID4 | ID4-HUMAN.H10MO.D.2 |           NA | 0.0000000 |    NA |    NA | ⋯ | 1.746769e-03 | Id4 | 1 |           NA |        NA |    NA |    NA |           NA | 0 | 1 |\n",
       "| 10223 | ID4 | preGC_IIb        | 0 | preGC_IIb__ID4        | ID4 | ID4.SwissRegulon.5  |           NA | 0.0000000 |    NA |    NA | ⋯ |           NA | NA  | 0 |           NA |        NA |    NA |    NA |           NA | 0 | 0 |\n",
       "\n"
      ],
      "text/plain": [
       "      gene cluster          N_agreement ID                    TF \n",
       "350   ID4  CoelEpi_LHX9     2           CoelEpi_LHX9__ID4     ID4\n",
       "3161  ID4  early_supporting 2           early_supporting__ID4 ID4\n",
       "5986  ID4  OSE              2           OSE__ID4              ID4\n",
       "4573  ID4  granulosa        1           granulosa__ID4        ID4\n",
       "8811  ID4  preGC_IIa        1           preGC_IIa__ID4        ID4\n",
       "1755  ID4  early_somatic    0           early_somatic__ID4    ID4\n",
       "7399  ID4  preGC_I          0           preGC_I__ID4          ID4\n",
       "10223 ID4  preGC_IIb        0           preGC_IIb__ID4        ID4\n",
       "      ATAC_PWM            RNA_DEGs.p_val RNA_DEGs.avg_logFC RNA_DEGs.pct.1\n",
       "350   ID4.SwissRegulon    5.199681e-30   0.5108670          0.642         \n",
       "3161  ID4.MA0824.1.1      2.616457e-19   0.3271443          0.630         \n",
       "5986  ID4.SwissRegulon.3  2.596700e-08   0.2537180          0.542         \n",
       "4573  ID4-HUMAN.H10MO.D.6           NA   0.0000000             NA         \n",
       "8811  ID4.SwissRegulon.4            NA   0.0000000             NA         \n",
       "1755  NA                            NA   0.0000000             NA         \n",
       "7399  ID4-HUMAN.H10MO.D.2           NA   0.0000000             NA         \n",
       "10223 ID4.SwissRegulon.5            NA   0.0000000             NA         \n",
       "      RNA_DEGs.pct.2 ⋯ mouse.p_val_adj gene_mouse mouse_DEG monkeyp_val \n",
       "350   0.405          ⋯ 2.243726e-49    Id4        1         1.444076e-22\n",
       "3161  0.407          ⋯           NA    NA         0                   NA\n",
       "5986  0.420          ⋯           NA    NA         0         2.072936e-04\n",
       "4573     NA          ⋯           NA    NA         0                   NA\n",
       "8811     NA          ⋯           NA    NA         0                   NA\n",
       "1755     NA          ⋯           NA    NA         0                   NA\n",
       "7399     NA          ⋯ 1.746769e-03    Id4        1                   NA\n",
       "10223    NA          ⋯           NA    NA         0                   NA\n",
       "      monkeyavg_logFC monkeypct.1 monkeypct.2 monkeyp_val_adj monkey_DEG\n",
       "350   1.1543969       0.633       0.100       1.692457e-18    1         \n",
       "3161         NA          NA          NA                 NA    0         \n",
       "5986  0.1072702       0.184       0.093       1.000000e+00    0         \n",
       "4573         NA          NA          NA                 NA    0         \n",
       "8811         NA          NA          NA                 NA    0         \n",
       "1755         NA          NA          NA                 NA    0         \n",
       "7399         NA          NA          NA                 NA    0         \n",
       "10223        NA          NA          NA                 NA    0         \n",
       "      N_agreement_species\n",
       "350   2                  \n",
       "3161  0                  \n",
       "5986  0                  \n",
       "4573  0                  \n",
       "8811  0                  \n",
       "1755  0                  \n",
       "7399  1                  \n",
       "10223 0                  "
      ]
     },
     "metadata": {},
     "output_type": "display_data"
    }
   ],
   "source": [
    "subset(df, gene == 'ID4')"
   ]
  },
  {
   "cell_type": "markdown",
   "metadata": {},
   "source": [
    "## Plot heatmap summary for selected human TFs"
   ]
  },
  {
   "cell_type": "code",
   "execution_count": 18,
   "metadata": {},
   "outputs": [],
   "source": [
    "selectedTF_df = subset(df, ID %in% HUMAN_prioritized$ID )"
   ]
  },
  {
   "cell_type": "code",
   "execution_count": 19,
   "metadata": {},
   "outputs": [],
   "source": [
    "cluster_order = c('CoelEpi_LHX9',  'early_supporting', \n",
    "                 'preGC_I',  \n",
    "                 'OSE', 'preGC_IIa', 'preGC_IIb','granulosa')\n",
    "selectedTF_df = selectedTF_df[ order(selectedTF_df$gene) , ]\n",
    "sorted_tfs = lapply(cluster_order, function(i)\n",
    "      subset(selectedTF_df, cluster == i))\n",
    "sorted_tfs = do.call(rbind, sorted_tfs)"
   ]
  },
  {
   "cell_type": "code",
   "execution_count": 20,
   "metadata": {},
   "outputs": [],
   "source": [
    "# save\n",
    "write.csv(sorted_tfs, file = 'figures_somatic/granulosa_crosspecie_TF_measurements_humanTFs.csv', row.names=F)"
   ]
  },
  {
   "cell_type": "code",
   "execution_count": 21,
   "metadata": {},
   "outputs": [],
   "source": [
    "sorted_tfs = sorted_tfs[, c('gene', 'ID', 'N_agreement', 'monkey_DEG', 'mouse_DEG', 'N_agreement_species') ]\n",
    "sorted_tfs = sorted_tfs[! duplicated(sorted_tfs$gene), ]\n",
    "rownames(sorted_tfs) = sorted_tfs$gene"
   ]
  },
  {
   "cell_type": "code",
   "execution_count": 22,
   "metadata": {},
   "outputs": [
    {
     "data": {
      "text/html": [
       "46"
      ],
      "text/latex": [
       "46"
      ],
      "text/markdown": [
       "46"
      ],
      "text/plain": [
       "[1] 46"
      ]
     },
     "metadata": {},
     "output_type": "display_data"
    }
   ],
   "source": [
    "length(unique(sorted_tfs$gene))"
   ]
  },
  {
   "cell_type": "code",
   "execution_count": 23,
   "metadata": {},
   "outputs": [],
   "source": [
    "xx = sorted_tfs[,c('N_agreement', 'monkey_DEG', 'mouse_DEG')]"
   ]
  },
  {
   "cell_type": "code",
   "execution_count": 24,
   "metadata": {},
   "outputs": [],
   "source": [
    "paletteLength <- 50\n",
    "myColor <- colorRampPalette(c(\"white\", brewer.pal(n = 5, name = 'Reds')[2]))(paletteLength)\n",
    "xx[ xx[,1] > 0 ,1]= 1\n",
    "sym = xx\n",
    "sym[] = ''\n",
    "sym[ xx > 0 ] = '*'\n",
    "pheatmap(xx, cellheight = 10, cellwidth = 10, cluster_rows = F, cluster_cols = F, display_numbers = sym, color=myColor, \n",
    "        filename = 'figures_somatic/granulosa_human_relevanTFs_crosspecie_summary.pdf')"
   ]
  },
  {
   "cell_type": "code",
   "execution_count": 25,
   "metadata": {},
   "outputs": [
    {
     "data": {
      "text/html": [
       "<table class=\"dataframe\">\n",
       "<caption>A data.frame: 52 × 35</caption>\n",
       "<thead>\n",
       "\t<tr><th></th><th scope=col>gene</th><th scope=col>cluster</th><th scope=col>N_agreement</th><th scope=col>ID</th><th scope=col>TF</th><th scope=col>ATAC_PWM</th><th scope=col>RNA_DEGs.p_val</th><th scope=col>RNA_DEGs.avg_logFC</th><th scope=col>RNA_DEGs.pct.1</th><th scope=col>RNA_DEGs.pct.2</th><th scope=col>⋯</th><th scope=col>mouse.p_val_adj</th><th scope=col>gene_mouse</th><th scope=col>mouse_DEG</th><th scope=col>monkeyp_val</th><th scope=col>monkeyavg_logFC</th><th scope=col>monkeypct.1</th><th scope=col>monkeypct.2</th><th scope=col>monkeyp_val_adj</th><th scope=col>monkey_DEG</th><th scope=col>N_agreement_species</th></tr>\n",
       "\t<tr><th></th><th scope=col>&lt;chr&gt;</th><th scope=col>&lt;chr&gt;</th><th scope=col>&lt;int&gt;</th><th scope=col>&lt;chr&gt;</th><th scope=col>&lt;chr&gt;</th><th scope=col>&lt;chr&gt;</th><th scope=col>&lt;dbl&gt;</th><th scope=col>&lt;dbl&gt;</th><th scope=col>&lt;dbl&gt;</th><th scope=col>&lt;dbl&gt;</th><th scope=col>⋯</th><th scope=col>&lt;dbl&gt;</th><th scope=col>&lt;chr&gt;</th><th scope=col>&lt;dbl&gt;</th><th scope=col>&lt;dbl&gt;</th><th scope=col>&lt;dbl&gt;</th><th scope=col>&lt;dbl&gt;</th><th scope=col>&lt;dbl&gt;</th><th scope=col>&lt;dbl&gt;</th><th scope=col>&lt;dbl&gt;</th><th scope=col>&lt;dbl&gt;</th></tr>\n",
       "</thead>\n",
       "<tbody>\n",
       "\t<tr><th scope=row>4244</th><td>ARNT2 </td><td>granulosa</td><td>3</td><td>granulosa__ARNT2 </td><td>ARNT2 </td><td>ARNT2-HUMAN.H10MO.D.6</td><td> 2.025863e-10</td><td>0.2877110</td><td>0.262</td><td>0.144</td><td>⋯</td><td> 4.256818e-24</td><td>Arnt2 </td><td>1</td><td>          NA</td><td>        NA</td><td>   NA</td><td>   NA</td><td>          NA</td><td>0</td><td>1</td></tr>\n",
       "\t<tr><th scope=row>5660</th><td>ARX   </td><td>OSE      </td><td>2</td><td>OSE__ARX         </td><td>ARX   </td><td>ARX-HUMAN.H10MO.D.3  </td><td> 7.428609e-17</td><td>0.2917867</td><td>0.302</td><td>0.139</td><td>⋯</td><td> 2.192757e-53</td><td>Arx   </td><td>1</td><td>          NA</td><td>        NA</td><td>   NA</td><td>   NA</td><td>          NA</td><td>0</td><td>1</td></tr>\n",
       "\t<tr><th scope=row>4270</th><td>BBX   </td><td>granulosa</td><td>2</td><td>granulosa__BBX   </td><td>BBX   </td><td>BBX.SwissRegulon.6   </td><td> 1.110236e-09</td><td>0.1808088</td><td>0.757</td><td>0.691</td><td>⋯</td><td> 3.321182e-35</td><td>Bbx   </td><td>1</td><td>          NA</td><td>        NA</td><td>   NA</td><td>   NA</td><td>          NA</td><td>0</td><td>1</td></tr>\n",
       "\t<tr><th scope=row>5694</th><td>BNC1  </td><td>OSE      </td><td>2</td><td>OSE__BNC1        </td><td>BNC1  </td><td>NA                   </td><td> 3.727822e-62</td><td>0.6074326</td><td>0.490</td><td>0.147</td><td>⋯</td><td>1.108752e-129</td><td>Bnc1  </td><td>1</td><td>5.676002e-28</td><td>0.43665094</td><td>0.268</td><td>0.036</td><td>6.652275e-24</td><td>1</td><td>2</td></tr>\n",
       "\t<tr><th scope=row>4371</th><td>ELK1  </td><td>granulosa</td><td>2</td><td>granulosa__ELK1  </td><td>ELK1  </td><td>ELK1-HUMAN.H10MO.A.6 </td><td> 1.184003e-14</td><td>0.2837151</td><td>0.685</td><td>0.549</td><td>⋯</td><td>           NA</td><td>NA    </td><td>0</td><td>          NA</td><td>        NA</td><td>   NA</td><td>   NA</td><td>          NA</td><td>0</td><td>0</td></tr>\n",
       "\t<tr><th scope=row>4376</th><td>EMX2  </td><td>granulosa</td><td>2</td><td>granulosa__EMX2  </td><td>EMX2  </td><td>EMX2.SwissRegulon.6  </td><td> 6.923518e-16</td><td>0.2446977</td><td>0.807</td><td>0.689</td><td>⋯</td><td>           NA</td><td>NA    </td><td>0</td><td>4.548041e-02</td><td>0.04420203</td><td>0.792</td><td>0.640</td><td>1.000000e+00</td><td>0</td><td>0</td></tr>\n",
       "\t<tr><th scope=row>5789</th><td>EMX2  </td><td>OSE      </td><td>2</td><td>OSE__EMX2        </td><td>EMX2  </td><td>EMX2.MA0886.1.3      </td><td> 6.559718e-20</td><td>0.2620331</td><td>0.845</td><td>0.682</td><td>⋯</td><td>           NA</td><td>NA    </td><td>0</td><td>9.832716e-06</td><td>0.24279627</td><td>0.744</td><td>0.656</td><td>1.152394e-01</td><td>0</td><td>0</td></tr>\n",
       "\t<tr><th scope=row>4390</th><td>ETS1  </td><td>granulosa</td><td>3</td><td>granulosa__ETS1  </td><td>ETS1  </td><td>ETS1.MA0098.3.6      </td><td> 5.650235e-29</td><td>0.4448545</td><td>0.257</td><td>0.079</td><td>⋯</td><td> 6.631871e-01</td><td>Ets1  </td><td>0</td><td>          NA</td><td>        NA</td><td>   NA</td><td>   NA</td><td>          NA</td><td>0</td><td>0</td></tr>\n",
       "\t<tr><th scope=row>4396</th><td>ETV5  </td><td>granulosa</td><td>2</td><td>granulosa__ETV5  </td><td>ETV5  </td><td>ETV5.SwissRegulon.6  </td><td> 4.501048e-18</td><td>0.4104564</td><td>0.340</td><td>0.169</td><td>⋯</td><td> 1.000000e+00</td><td>Etv5  </td><td>0</td><td>          NA</td><td>        NA</td><td>   NA</td><td>   NA</td><td>          NA</td><td>0</td><td>0</td></tr>\n",
       "\t<tr><th scope=row>4430</th><td>FOXK1 </td><td>granulosa</td><td>2</td><td>granulosa__FOXK1 </td><td>FOXK1 </td><td>FOXK1.MA0852.2.6     </td><td> 2.237827e-09</td><td>0.2461814</td><td>0.262</td><td>0.148</td><td>⋯</td><td> 1.000000e+00</td><td>Foxk1 </td><td>0</td><td>          NA</td><td>        NA</td><td>   NA</td><td>   NA</td><td>          NA</td><td>0</td><td>0</td></tr>\n",
       "\t<tr><th scope=row>4433</th><td>FOXL2 </td><td>granulosa</td><td>3</td><td>granulosa__FOXL2 </td><td>FOXL2 </td><td>FOXL2.HOMER.6        </td><td> 3.634837e-91</td><td>0.7561346</td><td>0.845</td><td>0.329</td><td>⋯</td><td>1.452432e-213</td><td>Foxl2 </td><td>1</td><td>1.912632e-01</td><td>0.01479497</td><td>0.032</td><td>0.018</td><td>1.000000e+00</td><td>0</td><td>1</td></tr>\n",
       "\t<tr><th scope=row>7259</th><td>FOXL2 </td><td>preGC_I  </td><td>2</td><td>preGC_I__FOXL2   </td><td>FOXL2 </td><td>FOXL2.HOMER.2        </td><td> 5.210902e-71</td><td>0.7017469</td><td>0.738</td><td>0.337</td><td>⋯</td><td>           NA</td><td>NA    </td><td>0</td><td>5.685683e-02</td><td>0.05438791</td><td>0.037</td><td>0.017</td><td>1.000000e+00</td><td>0</td><td>0</td></tr>\n",
       "\t<tr><th scope=row>7265</th><td>FOXO1 </td><td>preGC_I  </td><td>2</td><td>preGC_I__FOXO1   </td><td>FOXO1 </td><td>FOXO1.SwissRegulon.2 </td><td> 1.488054e-11</td><td>0.3190231</td><td>0.280</td><td>0.156</td><td>⋯</td><td>           NA</td><td>NA    </td><td>0</td><td>2.736482e-10</td><td>0.26870729</td><td>0.222</td><td>0.076</td><td>3.207157e-06</td><td>1</td><td>1</td></tr>\n",
       "\t<tr><th scope=row>7269</th><td>FOXP1 </td><td>preGC_I  </td><td>3</td><td>preGC_I__FOXP1   </td><td>FOXP1 </td><td>FOXP1.HOMER.2        </td><td> 3.973725e-18</td><td>0.3701438</td><td>0.570</td><td>0.388</td><td>⋯</td><td>           NA</td><td>NA    </td><td>0</td><td>3.570961e-09</td><td>0.33572801</td><td>0.626</td><td>0.438</td><td>4.185167e-05</td><td>1</td><td>1</td></tr>\n",
       "\t<tr><th scope=row>4443</th><td>FOXP1 </td><td>granulosa</td><td>2</td><td>granulosa__FOXP1 </td><td>FOXP1 </td><td>FOXP1.MA0481.2.6     </td><td> 1.326585e-12</td><td>0.2814178</td><td>0.555</td><td>0.392</td><td>⋯</td><td>           NA</td><td>NA    </td><td>0</td><td>3.573621e-02</td><td>0.07316786</td><td>0.564</td><td>0.457</td><td>1.000000e+00</td><td>0</td><td>0</td></tr>\n",
       "\t<tr><th scope=row>4493</th><td>HES4  </td><td>granulosa</td><td>2</td><td>granulosa__HES4  </td><td>HES4  </td><td>NA                   </td><td>2.578950e-176</td><td>1.1248880</td><td>0.818</td><td>0.197</td><td>⋯</td><td>           NA</td><td>NA    </td><td>0</td><td>2.168012e-31</td><td>0.46855584</td><td>0.280</td><td>0.032</td><td>2.540910e-27</td><td>1</td><td>1</td></tr>\n",
       "\t<tr><th scope=row>4498</th><td>HEY1  </td><td>granulosa</td><td>2</td><td>granulosa__HEY1  </td><td>HEY1  </td><td>HEY1.MA0823.1.6      </td><td>6.540599e-110</td><td>0.6773119</td><td>0.323</td><td>0.028</td><td>⋯</td><td> 3.169818e-95</td><td>Hey1  </td><td>1</td><td>3.082092e-06</td><td>0.22450414</td><td>0.260</td><td>0.135</td><td>3.612212e-02</td><td>1</td><td>2</td></tr>\n",
       "\t<tr><th scope=row>4499</th><td>HEY2  </td><td>granulosa</td><td>2</td><td>granulosa__HEY2  </td><td>HEY2  </td><td>HEY2.MA0649.1.6      </td><td>1.795510e-292</td><td>1.1480594</td><td>0.599</td><td>0.023</td><td>⋯</td><td>1.987298e-136</td><td>Hey2  </td><td>1</td><td>8.212351e-66</td><td>0.89468229</td><td>0.680</td><td>0.137</td><td>9.624875e-62</td><td>1</td><td>2</td></tr>\n",
       "\t<tr><th scope=row>4500</th><td>HEYL  </td><td>granulosa</td><td>2</td><td>granulosa__HEYL  </td><td>HEYL  </td><td>NA                   </td><td> 0.000000e+00</td><td>1.0789273</td><td>0.564</td><td>0.009</td><td>⋯</td><td>3.352956e-295</td><td>Heyl  </td><td>1</td><td>3.708882e-44</td><td>0.54612227</td><td>0.336</td><td>0.028</td><td>4.346809e-40</td><td>1</td><td>2</td></tr>\n",
       "\t<tr><th scope=row>4504</th><td>HIF1A </td><td>granulosa</td><td>3</td><td>granulosa__HIF1A </td><td>HIF1A </td><td>HIF1A.MA1106.1.6     </td><td> 8.551548e-18</td><td>0.3013195</td><td>0.685</td><td>0.563</td><td>⋯</td><td>           NA</td><td>NA    </td><td>0</td><td>3.186359e-01</td><td>0.01838072</td><td>0.564</td><td>0.480</td><td>1.000000e+00</td><td>0</td><td>0</td></tr>\n",
       "\t<tr><th scope=row>10154</th><td>HIF1A </td><td>preGC_IIb</td><td>3</td><td>preGC_IIb__HIF1A </td><td>HIF1A </td><td>HIF1A.MA1106.1.5     </td><td> 1.724652e-10</td><td>0.2193488</td><td>0.657</td><td>0.565</td><td>⋯</td><td> 2.468331e-38</td><td>Hif1a </td><td>1</td><td>9.580710e-02</td><td>0.08678218</td><td>0.532</td><td>0.490</td><td>1.000000e+00</td><td>0</td><td>1</td></tr>\n",
       "\t<tr><th scope=row>5975</th><td>HOXD3 </td><td>OSE      </td><td>2</td><td>OSE__HOXD3       </td><td>HOXD3 </td><td>HOXD3.SwissRegulon.3 </td><td> 3.709990e-10</td><td>0.2379123</td><td>0.435</td><td>0.286</td><td>⋯</td><td> 1.000000e+00</td><td>Hoxd3 </td><td>0</td><td>1.250348e-04</td><td>0.17448107</td><td>0.160</td><td>0.078</td><td>1.000000e+00</td><td>0</td><td>0</td></tr>\n",
       "\t<tr><th scope=row>5978</th><td>HOXD9 </td><td>OSE      </td><td>2</td><td>OSE__HOXD9       </td><td>HOXD9 </td><td>HOXD9.SwissRegulon.3 </td><td> 7.743068e-25</td><td>0.4010671</td><td>0.598</td><td>0.373</td><td>⋯</td><td> 2.178629e-51</td><td>Hoxd9 </td><td>1</td><td>5.021164e-11</td><td>0.33107576</td><td>0.688</td><td>0.468</td><td>5.884804e-07</td><td>1</td><td>2</td></tr>\n",
       "\t<tr><th scope=row>10241</th><td>IRX3  </td><td>preGC_IIb</td><td>2</td><td>preGC_IIb__IRX3  </td><td>IRX3  </td><td>IRX3.SwissRegulon.5  </td><td> 9.425312e-44</td><td>0.5559565</td><td>0.578</td><td>0.264</td><td>⋯</td><td> 3.676911e-58</td><td>Irx3  </td><td>1</td><td>1.800683e-07</td><td>0.31429414</td><td>0.480</td><td>0.318</td><td>2.110401e-03</td><td>1</td><td>2</td></tr>\n",
       "\t<tr><th scope=row>6037</th><td>KLF5  </td><td>OSE      </td><td>2</td><td>OSE__KLF5        </td><td>KLF5  </td><td>KLF5.HOMER.3         </td><td> 4.977327e-36</td><td>0.4713310</td><td>0.322</td><td>0.102</td><td>⋯</td><td> 9.545871e-65</td><td>Klf5  </td><td>1</td><td>1.848136e-02</td><td>0.15631107</td><td>0.272</td><td>0.203</td><td>1.000000e+00</td><td>0</td><td>1</td></tr>\n",
       "\t<tr><th scope=row>6049</th><td>LHX2  </td><td>OSE      </td><td>3</td><td>OSE__LHX2        </td><td>LHX2  </td><td>LHX2.MA0700.1.3      </td><td>1.765006e-130</td><td>0.8855739</td><td>0.677</td><td>0.160</td><td>⋯</td><td> 1.000000e+00</td><td>Lhx2  </td><td>0</td><td>1.230869e-32</td><td>0.74119503</td><td>0.760</td><td>0.402</td><td>1.442578e-28</td><td>1</td><td>1</td></tr>\n",
       "\t<tr><th scope=row>10286</th><td>LHX2  </td><td>preGC_IIb</td><td>3</td><td>preGC_IIb__LHX2  </td><td>LHX2  </td><td>LHX2.SwissRegulon.5  </td><td> 1.716060e-31</td><td>0.4471918</td><td>0.450</td><td>0.193</td><td>⋯</td><td>           NA</td><td>NA    </td><td>0</td><td>8.788687e-12</td><td>0.30723702</td><td>0.684</td><td>0.427</td><td>1.030034e-07</td><td>1</td><td>1</td></tr>\n",
       "\t<tr><th scope=row>6054</th><td>LHX9  </td><td>OSE      </td><td>2</td><td>OSE__LHX9        </td><td>LHX9  </td><td>LHX9.MA0701.1.3      </td><td> 8.807792e-34</td><td>0.3861413</td><td>0.855</td><td>0.564</td><td>⋯</td><td> 3.003106e-64</td><td>Lhx9  </td><td>1</td><td>1.098426e-12</td><td>0.25492277</td><td>0.172</td><td>0.039</td><td>1.287355e-08</td><td>1</td><td>2</td></tr>\n",
       "\t<tr><th scope=row>6116</th><td>MYRF  </td><td>OSE      </td><td>2</td><td>OSE__MYRF        </td><td>MYRF  </td><td>NA                   </td><td> 1.366424e-56</td><td>0.5618854</td><td>0.718</td><td>0.355</td><td>⋯</td><td>1.245007e-131</td><td>Myrf  </td><td>1</td><td>2.312378e-25</td><td>0.55846129</td><td>0.592</td><td>0.255</td><td>2.710107e-21</td><td>1</td><td>2</td></tr>\n",
       "\t<tr><th scope=row>4771</th><td>NR1H4 </td><td>granulosa</td><td>2</td><td>granulosa__NR1H4 </td><td>NR1H4 </td><td>NR1H4.MA1110.1.6     </td><td>6.663361e-233</td><td>1.2690246</td><td>0.854</td><td>0.149</td><td>⋯</td><td> 1.000000e+00</td><td>Nr1h4 </td><td>0</td><td>1.038542e-41</td><td>0.68192950</td><td>0.552</td><td>0.129</td><td>1.217172e-37</td><td>1</td><td>1</td></tr>\n",
       "\t<tr><th scope=row>10421</th><td>NR1H4 </td><td>preGC_IIb</td><td>2</td><td>preGC_IIb__NR1H4 </td><td>NR1H4 </td><td>NR1H4.MA1110.1.5     </td><td> 3.972677e-67</td><td>0.6213922</td><td>0.585</td><td>0.178</td><td>⋯</td><td>           NA</td><td>NA    </td><td>0</td><td>1.262058e-04</td><td>0.25018719</td><td>0.316</td><td>0.206</td><td>1.000000e+00</td><td>0</td><td>0</td></tr>\n",
       "\t<tr><th scope=row>7622</th><td>OSR1  </td><td>preGC_I  </td><td>3</td><td>preGC_I__OSR1    </td><td>OSR1  </td><td>OSR1.SwissRegulon.2  </td><td> 4.262700e-97</td><td>0.8681020</td><td>0.462</td><td>0.092</td><td>⋯</td><td>           NA</td><td>NA    </td><td>0</td><td>7.255076e-07</td><td>0.27125697</td><td>0.206</td><td>0.091</td><td>8.502950e-03</td><td>1</td><td>1</td></tr>\n",
       "\t<tr><th scope=row>6225</th><td>PBX1  </td><td>OSE      </td><td>2</td><td>OSE__PBX1        </td><td>PBX1  </td><td>PBX1-HUMAN.H10MO.B.3 </td><td> 1.874000e-40</td><td>0.4082611</td><td>0.810</td><td>0.581</td><td>⋯</td><td> 1.303466e-02</td><td>Pbx1  </td><td>1</td><td>5.464990e-07</td><td>0.28789815</td><td>0.620</td><td>0.481</td><td>6.404969e-03</td><td>1</td><td>2</td></tr>\n",
       "\t<tr><th scope=row>4814</th><td>PBX3  </td><td>granulosa</td><td>3</td><td>granulosa__PBX3  </td><td>PBX3  </td><td>PBX3-HUMAN.H10MO.B.6 </td><td> 1.702015e-23</td><td>0.3745736</td><td>0.290</td><td>0.109</td><td>⋯</td><td>           NA</td><td>NA    </td><td>0</td><td>1.497403e-15</td><td>0.43319800</td><td>0.528</td><td>0.264</td><td>1.754957e-11</td><td>1</td><td>1</td></tr>\n",
       "\t<tr><th scope=row>4817</th><td>PEG3  </td><td>granulosa</td><td>2</td><td>granulosa__PEG3  </td><td>PEG3  </td><td>NA                   </td><td> 2.747698e-50</td><td>0.4687051</td><td>0.865</td><td>0.642</td><td>⋯</td><td>           NA</td><td>NA    </td><td>0</td><td>1.006858e-15</td><td>0.32102166</td><td>0.980</td><td>0.871</td><td>1.180037e-11</td><td>1</td><td>1</td></tr>\n",
       "\t<tr><th scope=row>6300</th><td>RELB  </td><td>OSE      </td><td>3</td><td>OSE__RELB        </td><td>RELB  </td><td>RELB-HUMAN.H10MO.C.3 </td><td> 9.048243e-19</td><td>0.3557459</td><td>0.270</td><td>0.117</td><td>⋯</td><td> 1.432510e-04</td><td>Relb  </td><td>1</td><td>1.075751e-05</td><td>0.11266015</td><td>0.080</td><td>0.021</td><td>1.260781e-01</td><td>0</td><td>1</td></tr>\n",
       "\t<tr><th scope=row>4956</th><td>SOX15 </td><td>granulosa</td><td>3</td><td>granulosa__SOX15 </td><td>SOX15 </td><td>SOX15.MA1152.1.6     </td><td> 5.467125e-21</td><td>0.3567888</td><td>0.298</td><td>0.120</td><td>⋯</td><td> 1.251844e-28</td><td>Sox15 </td><td>1</td><td>          NA</td><td>        NA</td><td>   NA</td><td>   NA</td><td>          NA</td><td>0</td><td>1</td></tr>\n",
       "\t<tr><th scope=row>7789</th><td>SOX4  </td><td>preGC_I  </td><td>2</td><td>preGC_I__SOX4    </td><td>SOX4  </td><td>SOX4-HUMAN.H10MO.C.2 </td><td> 1.574969e-21</td><td>0.1817984</td><td>0.963</td><td>0.936</td><td>⋯</td><td> 1.270374e-05</td><td>Sox4  </td><td>1</td><td>6.568177e-25</td><td>0.69373403</td><td>0.733</td><td>0.460</td><td>7.697904e-21</td><td>1</td><td>2</td></tr>\n",
       "\t<tr><th scope=row>4970</th><td>SP100 </td><td>granulosa</td><td>2</td><td>granulosa__SP100 </td><td>SP100 </td><td>SP100.SwissRegulon.6 </td><td> 2.104593e-19</td><td>0.3470580</td><td>0.343</td><td>0.157</td><td>⋯</td><td>           NA</td><td>NA    </td><td>0</td><td>4.699176e-07</td><td>0.17075712</td><td>0.224</td><td>0.098</td><td>5.507434e-03</td><td>1</td><td>1</td></tr>\n",
       "\t<tr><th scope=row>7815</th><td>STAT1 </td><td>preGC_I  </td><td>3</td><td>preGC_I__STAT1   </td><td>STAT1 </td><td>STAT1.MA0137.3.2     </td><td> 1.049511e-08</td><td>0.2879470</td><td>0.402</td><td>0.288</td><td>⋯</td><td>           NA</td><td>NA    </td><td>0</td><td>          NA</td><td>        NA</td><td>   NA</td><td>   NA</td><td>          NA</td><td>0</td><td>0</td></tr>\n",
       "\t<tr><th scope=row>10715</th><td>TOX3  </td><td>preGC_IIb</td><td>2</td><td>preGC_IIb__TOX3  </td><td>TOX3  </td><td>NA                   </td><td> 1.944012e-58</td><td>0.5884558</td><td>0.765</td><td>0.409</td><td>⋯</td><td>           NA</td><td>NA    </td><td>0</td><td>7.274622e-50</td><td>0.83472967</td><td>0.628</td><td>0.166</td><td>8.525858e-46</td><td>1</td><td>1</td></tr>\n",
       "\t<tr><th scope=row>5075</th><td>TSHZ1 </td><td>granulosa</td><td>2</td><td>granulosa__TSHZ1 </td><td>TSHZ1 </td><td>NA                   </td><td> 2.250603e-09</td><td>0.2635943</td><td>0.207</td><td>0.106</td><td>⋯</td><td>           NA</td><td>NA    </td><td>0</td><td>1.752477e-01</td><td>0.04650858</td><td>0.252</td><td>0.208</td><td>1.000000e+00</td><td>0</td><td>0</td></tr>\n",
       "\t<tr><th scope=row>5098</th><td>YBX3  </td><td>granulosa</td><td>2</td><td>granulosa__YBX3  </td><td>YBX3  </td><td>NA                   </td><td> 1.721670e-70</td><td>0.6170485</td><td>0.837</td><td>0.566</td><td>⋯</td><td>           NA</td><td>NA    </td><td>0</td><td>1.275559e-17</td><td>0.46788682</td><td>0.740</td><td>0.455</td><td>1.494955e-13</td><td>1</td><td>1</td></tr>\n",
       "\t<tr><th scope=row>5126</th><td>ZBTB38</td><td>granulosa</td><td>2</td><td>granulosa__ZBTB38</td><td>ZBTB38</td><td>NA                   </td><td> 3.192044e-14</td><td>0.3447236</td><td>0.307</td><td>0.158</td><td>⋯</td><td> 1.000000e+00</td><td>Zbtb38</td><td>0</td><td>1.147127e-01</td><td>0.03807694</td><td>0.092</td><td>0.062</td><td>1.000000e+00</td><td>0</td><td>0</td></tr>\n",
       "\t<tr><th scope=row>5130</th><td>ZBTB41</td><td>granulosa</td><td>2</td><td>granulosa__ZBTB41</td><td>ZBTB41</td><td>NA                   </td><td> 3.361202e-12</td><td>0.3099233</td><td>0.282</td><td>0.149</td><td>⋯</td><td>           NA</td><td>NA    </td><td>0</td><td>          NA</td><td>        NA</td><td>   NA</td><td>   NA</td><td>          NA</td><td>0</td><td>0</td></tr>\n",
       "\t<tr><th scope=row>5133</th><td>ZBTB44</td><td>granulosa</td><td>2</td><td>granulosa__ZBTB44</td><td>ZBTB44</td><td>NA                   </td><td> 5.786477e-08</td><td>0.2604005</td><td>0.356</td><td>0.243</td><td>⋯</td><td>           NA</td><td>NA    </td><td>0</td><td>1.097827e-01</td><td>0.02129032</td><td>0.204</td><td>0.154</td><td>1.000000e+00</td><td>0</td><td>0</td></tr>\n",
       "\t<tr><th scope=row>5279</th><td>ZNF275</td><td>granulosa</td><td>2</td><td>granulosa__ZNF275</td><td>ZNF275</td><td>NA                   </td><td> 4.223158e-44</td><td>0.5943811</td><td>0.486</td><td>0.196</td><td>⋯</td><td>           NA</td><td>NA    </td><td>0</td><td>          NA</td><td>        NA</td><td>   NA</td><td>   NA</td><td>          NA</td><td>0</td><td>0</td></tr>\n",
       "\t<tr><th scope=row>5405</th><td>ZNF514</td><td>granulosa</td><td>2</td><td>granulosa__ZNF514</td><td>ZNF514</td><td>NA                   </td><td> 2.437478e-19</td><td>0.3285111</td><td>0.257</td><td>0.100</td><td>⋯</td><td>           NA</td><td>NA    </td><td>0</td><td>3.262369e-01</td><td>0.01262477</td><td>0.052</td><td>0.038</td><td>1.000000e+00</td><td>0</td><td>0</td></tr>\n",
       "\t<tr><th scope=row>5477</th><td>ZNF611</td><td>granulosa</td><td>2</td><td>granulosa__ZNF611</td><td>ZNF611</td><td>NA                   </td><td> 2.882460e-27</td><td>0.4404068</td><td>0.282</td><td>0.097</td><td>⋯</td><td>           NA</td><td>NA    </td><td>0</td><td>          NA</td><td>        NA</td><td>   NA</td><td>   NA</td><td>          NA</td><td>0</td><td>0</td></tr>\n",
       "\t<tr><th scope=row>5540</th><td>ZNF714</td><td>granulosa</td><td>2</td><td>granulosa__ZNF714</td><td>ZNF714</td><td>NA                   </td><td> 2.612448e-23</td><td>0.4369628</td><td>0.478</td><td>0.258</td><td>⋯</td><td>           NA</td><td>NA    </td><td>0</td><td>          NA</td><td>        NA</td><td>   NA</td><td>   NA</td><td>          NA</td><td>0</td><td>0</td></tr>\n",
       "\t<tr><th scope=row>5546</th><td>ZNF737</td><td>granulosa</td><td>2</td><td>granulosa__ZNF737</td><td>ZNF737</td><td>NA                   </td><td> 8.577911e-09</td><td>0.2900131</td><td>0.367</td><td>0.255</td><td>⋯</td><td>           NA</td><td>NA    </td><td>0</td><td>          NA</td><td>        NA</td><td>   NA</td><td>   NA</td><td>          NA</td><td>0</td><td>0</td></tr>\n",
       "\t<tr><th scope=row>5588</th><td>ZNF808</td><td>granulosa</td><td>2</td><td>granulosa__ZNF808</td><td>ZNF808</td><td>NA                   </td><td> 2.162658e-07</td><td>0.2152227</td><td>0.207</td><td>0.116</td><td>⋯</td><td>           NA</td><td>NA    </td><td>0</td><td>1.310961e-01</td><td>0.02758457</td><td>0.036</td><td>0.019</td><td>1.000000e+00</td><td>0</td><td>0</td></tr>\n",
       "</tbody>\n",
       "</table>\n"
      ],
      "text/latex": [
       "A data.frame: 52 × 35\n",
       "\\begin{tabular}{r|lllllllllllllllllllll}\n",
       "  & gene & cluster & N\\_agreement & ID & TF & ATAC\\_PWM & RNA\\_DEGs.p\\_val & RNA\\_DEGs.avg\\_logFC & RNA\\_DEGs.pct.1 & RNA\\_DEGs.pct.2 & ⋯ & mouse.p\\_val\\_adj & gene\\_mouse & mouse\\_DEG & monkeyp\\_val & monkeyavg\\_logFC & monkeypct.1 & monkeypct.2 & monkeyp\\_val\\_adj & monkey\\_DEG & N\\_agreement\\_species\\\\\n",
       "  & <chr> & <chr> & <int> & <chr> & <chr> & <chr> & <dbl> & <dbl> & <dbl> & <dbl> & ⋯ & <dbl> & <chr> & <dbl> & <dbl> & <dbl> & <dbl> & <dbl> & <dbl> & <dbl> & <dbl>\\\\\n",
       "\\hline\n",
       "\t4244 & ARNT2  & granulosa & 3 & granulosa\\_\\_ARNT2  & ARNT2  & ARNT2-HUMAN.H10MO.D.6 &  2.025863e-10 & 0.2877110 & 0.262 & 0.144 & ⋯ &  4.256818e-24 & Arnt2  & 1 &           NA &         NA &    NA &    NA &           NA & 0 & 1\\\\\n",
       "\t5660 & ARX    & OSE       & 2 & OSE\\_\\_ARX          & ARX    & ARX-HUMAN.H10MO.D.3   &  7.428609e-17 & 0.2917867 & 0.302 & 0.139 & ⋯ &  2.192757e-53 & Arx    & 1 &           NA &         NA &    NA &    NA &           NA & 0 & 1\\\\\n",
       "\t4270 & BBX    & granulosa & 2 & granulosa\\_\\_BBX    & BBX    & BBX.SwissRegulon.6    &  1.110236e-09 & 0.1808088 & 0.757 & 0.691 & ⋯ &  3.321182e-35 & Bbx    & 1 &           NA &         NA &    NA &    NA &           NA & 0 & 1\\\\\n",
       "\t5694 & BNC1   & OSE       & 2 & OSE\\_\\_BNC1         & BNC1   & NA                    &  3.727822e-62 & 0.6074326 & 0.490 & 0.147 & ⋯ & 1.108752e-129 & Bnc1   & 1 & 5.676002e-28 & 0.43665094 & 0.268 & 0.036 & 6.652275e-24 & 1 & 2\\\\\n",
       "\t4371 & ELK1   & granulosa & 2 & granulosa\\_\\_ELK1   & ELK1   & ELK1-HUMAN.H10MO.A.6  &  1.184003e-14 & 0.2837151 & 0.685 & 0.549 & ⋯ &            NA & NA     & 0 &           NA &         NA &    NA &    NA &           NA & 0 & 0\\\\\n",
       "\t4376 & EMX2   & granulosa & 2 & granulosa\\_\\_EMX2   & EMX2   & EMX2.SwissRegulon.6   &  6.923518e-16 & 0.2446977 & 0.807 & 0.689 & ⋯ &            NA & NA     & 0 & 4.548041e-02 & 0.04420203 & 0.792 & 0.640 & 1.000000e+00 & 0 & 0\\\\\n",
       "\t5789 & EMX2   & OSE       & 2 & OSE\\_\\_EMX2         & EMX2   & EMX2.MA0886.1.3       &  6.559718e-20 & 0.2620331 & 0.845 & 0.682 & ⋯ &            NA & NA     & 0 & 9.832716e-06 & 0.24279627 & 0.744 & 0.656 & 1.152394e-01 & 0 & 0\\\\\n",
       "\t4390 & ETS1   & granulosa & 3 & granulosa\\_\\_ETS1   & ETS1   & ETS1.MA0098.3.6       &  5.650235e-29 & 0.4448545 & 0.257 & 0.079 & ⋯ &  6.631871e-01 & Ets1   & 0 &           NA &         NA &    NA &    NA &           NA & 0 & 0\\\\\n",
       "\t4396 & ETV5   & granulosa & 2 & granulosa\\_\\_ETV5   & ETV5   & ETV5.SwissRegulon.6   &  4.501048e-18 & 0.4104564 & 0.340 & 0.169 & ⋯ &  1.000000e+00 & Etv5   & 0 &           NA &         NA &    NA &    NA &           NA & 0 & 0\\\\\n",
       "\t4430 & FOXK1  & granulosa & 2 & granulosa\\_\\_FOXK1  & FOXK1  & FOXK1.MA0852.2.6      &  2.237827e-09 & 0.2461814 & 0.262 & 0.148 & ⋯ &  1.000000e+00 & Foxk1  & 0 &           NA &         NA &    NA &    NA &           NA & 0 & 0\\\\\n",
       "\t4433 & FOXL2  & granulosa & 3 & granulosa\\_\\_FOXL2  & FOXL2  & FOXL2.HOMER.6         &  3.634837e-91 & 0.7561346 & 0.845 & 0.329 & ⋯ & 1.452432e-213 & Foxl2  & 1 & 1.912632e-01 & 0.01479497 & 0.032 & 0.018 & 1.000000e+00 & 0 & 1\\\\\n",
       "\t7259 & FOXL2  & preGC\\_I   & 2 & preGC\\_I\\_\\_FOXL2    & FOXL2  & FOXL2.HOMER.2         &  5.210902e-71 & 0.7017469 & 0.738 & 0.337 & ⋯ &            NA & NA     & 0 & 5.685683e-02 & 0.05438791 & 0.037 & 0.017 & 1.000000e+00 & 0 & 0\\\\\n",
       "\t7265 & FOXO1  & preGC\\_I   & 2 & preGC\\_I\\_\\_FOXO1    & FOXO1  & FOXO1.SwissRegulon.2  &  1.488054e-11 & 0.3190231 & 0.280 & 0.156 & ⋯ &            NA & NA     & 0 & 2.736482e-10 & 0.26870729 & 0.222 & 0.076 & 3.207157e-06 & 1 & 1\\\\\n",
       "\t7269 & FOXP1  & preGC\\_I   & 3 & preGC\\_I\\_\\_FOXP1    & FOXP1  & FOXP1.HOMER.2         &  3.973725e-18 & 0.3701438 & 0.570 & 0.388 & ⋯ &            NA & NA     & 0 & 3.570961e-09 & 0.33572801 & 0.626 & 0.438 & 4.185167e-05 & 1 & 1\\\\\n",
       "\t4443 & FOXP1  & granulosa & 2 & granulosa\\_\\_FOXP1  & FOXP1  & FOXP1.MA0481.2.6      &  1.326585e-12 & 0.2814178 & 0.555 & 0.392 & ⋯ &            NA & NA     & 0 & 3.573621e-02 & 0.07316786 & 0.564 & 0.457 & 1.000000e+00 & 0 & 0\\\\\n",
       "\t4493 & HES4   & granulosa & 2 & granulosa\\_\\_HES4   & HES4   & NA                    & 2.578950e-176 & 1.1248880 & 0.818 & 0.197 & ⋯ &            NA & NA     & 0 & 2.168012e-31 & 0.46855584 & 0.280 & 0.032 & 2.540910e-27 & 1 & 1\\\\\n",
       "\t4498 & HEY1   & granulosa & 2 & granulosa\\_\\_HEY1   & HEY1   & HEY1.MA0823.1.6       & 6.540599e-110 & 0.6773119 & 0.323 & 0.028 & ⋯ &  3.169818e-95 & Hey1   & 1 & 3.082092e-06 & 0.22450414 & 0.260 & 0.135 & 3.612212e-02 & 1 & 2\\\\\n",
       "\t4499 & HEY2   & granulosa & 2 & granulosa\\_\\_HEY2   & HEY2   & HEY2.MA0649.1.6       & 1.795510e-292 & 1.1480594 & 0.599 & 0.023 & ⋯ & 1.987298e-136 & Hey2   & 1 & 8.212351e-66 & 0.89468229 & 0.680 & 0.137 & 9.624875e-62 & 1 & 2\\\\\n",
       "\t4500 & HEYL   & granulosa & 2 & granulosa\\_\\_HEYL   & HEYL   & NA                    &  0.000000e+00 & 1.0789273 & 0.564 & 0.009 & ⋯ & 3.352956e-295 & Heyl   & 1 & 3.708882e-44 & 0.54612227 & 0.336 & 0.028 & 4.346809e-40 & 1 & 2\\\\\n",
       "\t4504 & HIF1A  & granulosa & 3 & granulosa\\_\\_HIF1A  & HIF1A  & HIF1A.MA1106.1.6      &  8.551548e-18 & 0.3013195 & 0.685 & 0.563 & ⋯ &            NA & NA     & 0 & 3.186359e-01 & 0.01838072 & 0.564 & 0.480 & 1.000000e+00 & 0 & 0\\\\\n",
       "\t10154 & HIF1A  & preGC\\_IIb & 3 & preGC\\_IIb\\_\\_HIF1A  & HIF1A  & HIF1A.MA1106.1.5      &  1.724652e-10 & 0.2193488 & 0.657 & 0.565 & ⋯ &  2.468331e-38 & Hif1a  & 1 & 9.580710e-02 & 0.08678218 & 0.532 & 0.490 & 1.000000e+00 & 0 & 1\\\\\n",
       "\t5975 & HOXD3  & OSE       & 2 & OSE\\_\\_HOXD3        & HOXD3  & HOXD3.SwissRegulon.3  &  3.709990e-10 & 0.2379123 & 0.435 & 0.286 & ⋯ &  1.000000e+00 & Hoxd3  & 0 & 1.250348e-04 & 0.17448107 & 0.160 & 0.078 & 1.000000e+00 & 0 & 0\\\\\n",
       "\t5978 & HOXD9  & OSE       & 2 & OSE\\_\\_HOXD9        & HOXD9  & HOXD9.SwissRegulon.3  &  7.743068e-25 & 0.4010671 & 0.598 & 0.373 & ⋯ &  2.178629e-51 & Hoxd9  & 1 & 5.021164e-11 & 0.33107576 & 0.688 & 0.468 & 5.884804e-07 & 1 & 2\\\\\n",
       "\t10241 & IRX3   & preGC\\_IIb & 2 & preGC\\_IIb\\_\\_IRX3   & IRX3   & IRX3.SwissRegulon.5   &  9.425312e-44 & 0.5559565 & 0.578 & 0.264 & ⋯ &  3.676911e-58 & Irx3   & 1 & 1.800683e-07 & 0.31429414 & 0.480 & 0.318 & 2.110401e-03 & 1 & 2\\\\\n",
       "\t6037 & KLF5   & OSE       & 2 & OSE\\_\\_KLF5         & KLF5   & KLF5.HOMER.3          &  4.977327e-36 & 0.4713310 & 0.322 & 0.102 & ⋯ &  9.545871e-65 & Klf5   & 1 & 1.848136e-02 & 0.15631107 & 0.272 & 0.203 & 1.000000e+00 & 0 & 1\\\\\n",
       "\t6049 & LHX2   & OSE       & 3 & OSE\\_\\_LHX2         & LHX2   & LHX2.MA0700.1.3       & 1.765006e-130 & 0.8855739 & 0.677 & 0.160 & ⋯ &  1.000000e+00 & Lhx2   & 0 & 1.230869e-32 & 0.74119503 & 0.760 & 0.402 & 1.442578e-28 & 1 & 1\\\\\n",
       "\t10286 & LHX2   & preGC\\_IIb & 3 & preGC\\_IIb\\_\\_LHX2   & LHX2   & LHX2.SwissRegulon.5   &  1.716060e-31 & 0.4471918 & 0.450 & 0.193 & ⋯ &            NA & NA     & 0 & 8.788687e-12 & 0.30723702 & 0.684 & 0.427 & 1.030034e-07 & 1 & 1\\\\\n",
       "\t6054 & LHX9   & OSE       & 2 & OSE\\_\\_LHX9         & LHX9   & LHX9.MA0701.1.3       &  8.807792e-34 & 0.3861413 & 0.855 & 0.564 & ⋯ &  3.003106e-64 & Lhx9   & 1 & 1.098426e-12 & 0.25492277 & 0.172 & 0.039 & 1.287355e-08 & 1 & 2\\\\\n",
       "\t6116 & MYRF   & OSE       & 2 & OSE\\_\\_MYRF         & MYRF   & NA                    &  1.366424e-56 & 0.5618854 & 0.718 & 0.355 & ⋯ & 1.245007e-131 & Myrf   & 1 & 2.312378e-25 & 0.55846129 & 0.592 & 0.255 & 2.710107e-21 & 1 & 2\\\\\n",
       "\t4771 & NR1H4  & granulosa & 2 & granulosa\\_\\_NR1H4  & NR1H4  & NR1H4.MA1110.1.6      & 6.663361e-233 & 1.2690246 & 0.854 & 0.149 & ⋯ &  1.000000e+00 & Nr1h4  & 0 & 1.038542e-41 & 0.68192950 & 0.552 & 0.129 & 1.217172e-37 & 1 & 1\\\\\n",
       "\t10421 & NR1H4  & preGC\\_IIb & 2 & preGC\\_IIb\\_\\_NR1H4  & NR1H4  & NR1H4.MA1110.1.5      &  3.972677e-67 & 0.6213922 & 0.585 & 0.178 & ⋯ &            NA & NA     & 0 & 1.262058e-04 & 0.25018719 & 0.316 & 0.206 & 1.000000e+00 & 0 & 0\\\\\n",
       "\t7622 & OSR1   & preGC\\_I   & 3 & preGC\\_I\\_\\_OSR1     & OSR1   & OSR1.SwissRegulon.2   &  4.262700e-97 & 0.8681020 & 0.462 & 0.092 & ⋯ &            NA & NA     & 0 & 7.255076e-07 & 0.27125697 & 0.206 & 0.091 & 8.502950e-03 & 1 & 1\\\\\n",
       "\t6225 & PBX1   & OSE       & 2 & OSE\\_\\_PBX1         & PBX1   & PBX1-HUMAN.H10MO.B.3  &  1.874000e-40 & 0.4082611 & 0.810 & 0.581 & ⋯ &  1.303466e-02 & Pbx1   & 1 & 5.464990e-07 & 0.28789815 & 0.620 & 0.481 & 6.404969e-03 & 1 & 2\\\\\n",
       "\t4814 & PBX3   & granulosa & 3 & granulosa\\_\\_PBX3   & PBX3   & PBX3-HUMAN.H10MO.B.6  &  1.702015e-23 & 0.3745736 & 0.290 & 0.109 & ⋯ &            NA & NA     & 0 & 1.497403e-15 & 0.43319800 & 0.528 & 0.264 & 1.754957e-11 & 1 & 1\\\\\n",
       "\t4817 & PEG3   & granulosa & 2 & granulosa\\_\\_PEG3   & PEG3   & NA                    &  2.747698e-50 & 0.4687051 & 0.865 & 0.642 & ⋯ &            NA & NA     & 0 & 1.006858e-15 & 0.32102166 & 0.980 & 0.871 & 1.180037e-11 & 1 & 1\\\\\n",
       "\t6300 & RELB   & OSE       & 3 & OSE\\_\\_RELB         & RELB   & RELB-HUMAN.H10MO.C.3  &  9.048243e-19 & 0.3557459 & 0.270 & 0.117 & ⋯ &  1.432510e-04 & Relb   & 1 & 1.075751e-05 & 0.11266015 & 0.080 & 0.021 & 1.260781e-01 & 0 & 1\\\\\n",
       "\t4956 & SOX15  & granulosa & 3 & granulosa\\_\\_SOX15  & SOX15  & SOX15.MA1152.1.6      &  5.467125e-21 & 0.3567888 & 0.298 & 0.120 & ⋯ &  1.251844e-28 & Sox15  & 1 &           NA &         NA &    NA &    NA &           NA & 0 & 1\\\\\n",
       "\t7789 & SOX4   & preGC\\_I   & 2 & preGC\\_I\\_\\_SOX4     & SOX4   & SOX4-HUMAN.H10MO.C.2  &  1.574969e-21 & 0.1817984 & 0.963 & 0.936 & ⋯ &  1.270374e-05 & Sox4   & 1 & 6.568177e-25 & 0.69373403 & 0.733 & 0.460 & 7.697904e-21 & 1 & 2\\\\\n",
       "\t4970 & SP100  & granulosa & 2 & granulosa\\_\\_SP100  & SP100  & SP100.SwissRegulon.6  &  2.104593e-19 & 0.3470580 & 0.343 & 0.157 & ⋯ &            NA & NA     & 0 & 4.699176e-07 & 0.17075712 & 0.224 & 0.098 & 5.507434e-03 & 1 & 1\\\\\n",
       "\t7815 & STAT1  & preGC\\_I   & 3 & preGC\\_I\\_\\_STAT1    & STAT1  & STAT1.MA0137.3.2      &  1.049511e-08 & 0.2879470 & 0.402 & 0.288 & ⋯ &            NA & NA     & 0 &           NA &         NA &    NA &    NA &           NA & 0 & 0\\\\\n",
       "\t10715 & TOX3   & preGC\\_IIb & 2 & preGC\\_IIb\\_\\_TOX3   & TOX3   & NA                    &  1.944012e-58 & 0.5884558 & 0.765 & 0.409 & ⋯ &            NA & NA     & 0 & 7.274622e-50 & 0.83472967 & 0.628 & 0.166 & 8.525858e-46 & 1 & 1\\\\\n",
       "\t5075 & TSHZ1  & granulosa & 2 & granulosa\\_\\_TSHZ1  & TSHZ1  & NA                    &  2.250603e-09 & 0.2635943 & 0.207 & 0.106 & ⋯ &            NA & NA     & 0 & 1.752477e-01 & 0.04650858 & 0.252 & 0.208 & 1.000000e+00 & 0 & 0\\\\\n",
       "\t5098 & YBX3   & granulosa & 2 & granulosa\\_\\_YBX3   & YBX3   & NA                    &  1.721670e-70 & 0.6170485 & 0.837 & 0.566 & ⋯ &            NA & NA     & 0 & 1.275559e-17 & 0.46788682 & 0.740 & 0.455 & 1.494955e-13 & 1 & 1\\\\\n",
       "\t5126 & ZBTB38 & granulosa & 2 & granulosa\\_\\_ZBTB38 & ZBTB38 & NA                    &  3.192044e-14 & 0.3447236 & 0.307 & 0.158 & ⋯ &  1.000000e+00 & Zbtb38 & 0 & 1.147127e-01 & 0.03807694 & 0.092 & 0.062 & 1.000000e+00 & 0 & 0\\\\\n",
       "\t5130 & ZBTB41 & granulosa & 2 & granulosa\\_\\_ZBTB41 & ZBTB41 & NA                    &  3.361202e-12 & 0.3099233 & 0.282 & 0.149 & ⋯ &            NA & NA     & 0 &           NA &         NA &    NA &    NA &           NA & 0 & 0\\\\\n",
       "\t5133 & ZBTB44 & granulosa & 2 & granulosa\\_\\_ZBTB44 & ZBTB44 & NA                    &  5.786477e-08 & 0.2604005 & 0.356 & 0.243 & ⋯ &            NA & NA     & 0 & 1.097827e-01 & 0.02129032 & 0.204 & 0.154 & 1.000000e+00 & 0 & 0\\\\\n",
       "\t5279 & ZNF275 & granulosa & 2 & granulosa\\_\\_ZNF275 & ZNF275 & NA                    &  4.223158e-44 & 0.5943811 & 0.486 & 0.196 & ⋯ &            NA & NA     & 0 &           NA &         NA &    NA &    NA &           NA & 0 & 0\\\\\n",
       "\t5405 & ZNF514 & granulosa & 2 & granulosa\\_\\_ZNF514 & ZNF514 & NA                    &  2.437478e-19 & 0.3285111 & 0.257 & 0.100 & ⋯ &            NA & NA     & 0 & 3.262369e-01 & 0.01262477 & 0.052 & 0.038 & 1.000000e+00 & 0 & 0\\\\\n",
       "\t5477 & ZNF611 & granulosa & 2 & granulosa\\_\\_ZNF611 & ZNF611 & NA                    &  2.882460e-27 & 0.4404068 & 0.282 & 0.097 & ⋯ &            NA & NA     & 0 &           NA &         NA &    NA &    NA &           NA & 0 & 0\\\\\n",
       "\t5540 & ZNF714 & granulosa & 2 & granulosa\\_\\_ZNF714 & ZNF714 & NA                    &  2.612448e-23 & 0.4369628 & 0.478 & 0.258 & ⋯ &            NA & NA     & 0 &           NA &         NA &    NA &    NA &           NA & 0 & 0\\\\\n",
       "\t5546 & ZNF737 & granulosa & 2 & granulosa\\_\\_ZNF737 & ZNF737 & NA                    &  8.577911e-09 & 0.2900131 & 0.367 & 0.255 & ⋯ &            NA & NA     & 0 &           NA &         NA &    NA &    NA &           NA & 0 & 0\\\\\n",
       "\t5588 & ZNF808 & granulosa & 2 & granulosa\\_\\_ZNF808 & ZNF808 & NA                    &  2.162658e-07 & 0.2152227 & 0.207 & 0.116 & ⋯ &            NA & NA     & 0 & 1.310961e-01 & 0.02758457 & 0.036 & 0.019 & 1.000000e+00 & 0 & 0\\\\\n",
       "\\end{tabular}\n"
      ],
      "text/markdown": [
       "\n",
       "A data.frame: 52 × 35\n",
       "\n",
       "| <!--/--> | gene &lt;chr&gt; | cluster &lt;chr&gt; | N_agreement &lt;int&gt; | ID &lt;chr&gt; | TF &lt;chr&gt; | ATAC_PWM &lt;chr&gt; | RNA_DEGs.p_val &lt;dbl&gt; | RNA_DEGs.avg_logFC &lt;dbl&gt; | RNA_DEGs.pct.1 &lt;dbl&gt; | RNA_DEGs.pct.2 &lt;dbl&gt; | ⋯ ⋯ | mouse.p_val_adj &lt;dbl&gt; | gene_mouse &lt;chr&gt; | mouse_DEG &lt;dbl&gt; | monkeyp_val &lt;dbl&gt; | monkeyavg_logFC &lt;dbl&gt; | monkeypct.1 &lt;dbl&gt; | monkeypct.2 &lt;dbl&gt; | monkeyp_val_adj &lt;dbl&gt; | monkey_DEG &lt;dbl&gt; | N_agreement_species &lt;dbl&gt; |\n",
       "|---|---|---|---|---|---|---|---|---|---|---|---|---|---|---|---|---|---|---|---|---|---|\n",
       "| 4244 | ARNT2  | granulosa | 3 | granulosa__ARNT2  | ARNT2  | ARNT2-HUMAN.H10MO.D.6 |  2.025863e-10 | 0.2877110 | 0.262 | 0.144 | ⋯ |  4.256818e-24 | Arnt2  | 1 |           NA |         NA |    NA |    NA |           NA | 0 | 1 |\n",
       "| 5660 | ARX    | OSE       | 2 | OSE__ARX          | ARX    | ARX-HUMAN.H10MO.D.3   |  7.428609e-17 | 0.2917867 | 0.302 | 0.139 | ⋯ |  2.192757e-53 | Arx    | 1 |           NA |         NA |    NA |    NA |           NA | 0 | 1 |\n",
       "| 4270 | BBX    | granulosa | 2 | granulosa__BBX    | BBX    | BBX.SwissRegulon.6    |  1.110236e-09 | 0.1808088 | 0.757 | 0.691 | ⋯ |  3.321182e-35 | Bbx    | 1 |           NA |         NA |    NA |    NA |           NA | 0 | 1 |\n",
       "| 5694 | BNC1   | OSE       | 2 | OSE__BNC1         | BNC1   | NA                    |  3.727822e-62 | 0.6074326 | 0.490 | 0.147 | ⋯ | 1.108752e-129 | Bnc1   | 1 | 5.676002e-28 | 0.43665094 | 0.268 | 0.036 | 6.652275e-24 | 1 | 2 |\n",
       "| 4371 | ELK1   | granulosa | 2 | granulosa__ELK1   | ELK1   | ELK1-HUMAN.H10MO.A.6  |  1.184003e-14 | 0.2837151 | 0.685 | 0.549 | ⋯ |            NA | NA     | 0 |           NA |         NA |    NA |    NA |           NA | 0 | 0 |\n",
       "| 4376 | EMX2   | granulosa | 2 | granulosa__EMX2   | EMX2   | EMX2.SwissRegulon.6   |  6.923518e-16 | 0.2446977 | 0.807 | 0.689 | ⋯ |            NA | NA     | 0 | 4.548041e-02 | 0.04420203 | 0.792 | 0.640 | 1.000000e+00 | 0 | 0 |\n",
       "| 5789 | EMX2   | OSE       | 2 | OSE__EMX2         | EMX2   | EMX2.MA0886.1.3       |  6.559718e-20 | 0.2620331 | 0.845 | 0.682 | ⋯ |            NA | NA     | 0 | 9.832716e-06 | 0.24279627 | 0.744 | 0.656 | 1.152394e-01 | 0 | 0 |\n",
       "| 4390 | ETS1   | granulosa | 3 | granulosa__ETS1   | ETS1   | ETS1.MA0098.3.6       |  5.650235e-29 | 0.4448545 | 0.257 | 0.079 | ⋯ |  6.631871e-01 | Ets1   | 0 |           NA |         NA |    NA |    NA |           NA | 0 | 0 |\n",
       "| 4396 | ETV5   | granulosa | 2 | granulosa__ETV5   | ETV5   | ETV5.SwissRegulon.6   |  4.501048e-18 | 0.4104564 | 0.340 | 0.169 | ⋯ |  1.000000e+00 | Etv5   | 0 |           NA |         NA |    NA |    NA |           NA | 0 | 0 |\n",
       "| 4430 | FOXK1  | granulosa | 2 | granulosa__FOXK1  | FOXK1  | FOXK1.MA0852.2.6      |  2.237827e-09 | 0.2461814 | 0.262 | 0.148 | ⋯ |  1.000000e+00 | Foxk1  | 0 |           NA |         NA |    NA |    NA |           NA | 0 | 0 |\n",
       "| 4433 | FOXL2  | granulosa | 3 | granulosa__FOXL2  | FOXL2  | FOXL2.HOMER.6         |  3.634837e-91 | 0.7561346 | 0.845 | 0.329 | ⋯ | 1.452432e-213 | Foxl2  | 1 | 1.912632e-01 | 0.01479497 | 0.032 | 0.018 | 1.000000e+00 | 0 | 1 |\n",
       "| 7259 | FOXL2  | preGC_I   | 2 | preGC_I__FOXL2    | FOXL2  | FOXL2.HOMER.2         |  5.210902e-71 | 0.7017469 | 0.738 | 0.337 | ⋯ |            NA | NA     | 0 | 5.685683e-02 | 0.05438791 | 0.037 | 0.017 | 1.000000e+00 | 0 | 0 |\n",
       "| 7265 | FOXO1  | preGC_I   | 2 | preGC_I__FOXO1    | FOXO1  | FOXO1.SwissRegulon.2  |  1.488054e-11 | 0.3190231 | 0.280 | 0.156 | ⋯ |            NA | NA     | 0 | 2.736482e-10 | 0.26870729 | 0.222 | 0.076 | 3.207157e-06 | 1 | 1 |\n",
       "| 7269 | FOXP1  | preGC_I   | 3 | preGC_I__FOXP1    | FOXP1  | FOXP1.HOMER.2         |  3.973725e-18 | 0.3701438 | 0.570 | 0.388 | ⋯ |            NA | NA     | 0 | 3.570961e-09 | 0.33572801 | 0.626 | 0.438 | 4.185167e-05 | 1 | 1 |\n",
       "| 4443 | FOXP1  | granulosa | 2 | granulosa__FOXP1  | FOXP1  | FOXP1.MA0481.2.6      |  1.326585e-12 | 0.2814178 | 0.555 | 0.392 | ⋯ |            NA | NA     | 0 | 3.573621e-02 | 0.07316786 | 0.564 | 0.457 | 1.000000e+00 | 0 | 0 |\n",
       "| 4493 | HES4   | granulosa | 2 | granulosa__HES4   | HES4   | NA                    | 2.578950e-176 | 1.1248880 | 0.818 | 0.197 | ⋯ |            NA | NA     | 0 | 2.168012e-31 | 0.46855584 | 0.280 | 0.032 | 2.540910e-27 | 1 | 1 |\n",
       "| 4498 | HEY1   | granulosa | 2 | granulosa__HEY1   | HEY1   | HEY1.MA0823.1.6       | 6.540599e-110 | 0.6773119 | 0.323 | 0.028 | ⋯ |  3.169818e-95 | Hey1   | 1 | 3.082092e-06 | 0.22450414 | 0.260 | 0.135 | 3.612212e-02 | 1 | 2 |\n",
       "| 4499 | HEY2   | granulosa | 2 | granulosa__HEY2   | HEY2   | HEY2.MA0649.1.6       | 1.795510e-292 | 1.1480594 | 0.599 | 0.023 | ⋯ | 1.987298e-136 | Hey2   | 1 | 8.212351e-66 | 0.89468229 | 0.680 | 0.137 | 9.624875e-62 | 1 | 2 |\n",
       "| 4500 | HEYL   | granulosa | 2 | granulosa__HEYL   | HEYL   | NA                    |  0.000000e+00 | 1.0789273 | 0.564 | 0.009 | ⋯ | 3.352956e-295 | Heyl   | 1 | 3.708882e-44 | 0.54612227 | 0.336 | 0.028 | 4.346809e-40 | 1 | 2 |\n",
       "| 4504 | HIF1A  | granulosa | 3 | granulosa__HIF1A  | HIF1A  | HIF1A.MA1106.1.6      |  8.551548e-18 | 0.3013195 | 0.685 | 0.563 | ⋯ |            NA | NA     | 0 | 3.186359e-01 | 0.01838072 | 0.564 | 0.480 | 1.000000e+00 | 0 | 0 |\n",
       "| 10154 | HIF1A  | preGC_IIb | 3 | preGC_IIb__HIF1A  | HIF1A  | HIF1A.MA1106.1.5      |  1.724652e-10 | 0.2193488 | 0.657 | 0.565 | ⋯ |  2.468331e-38 | Hif1a  | 1 | 9.580710e-02 | 0.08678218 | 0.532 | 0.490 | 1.000000e+00 | 0 | 1 |\n",
       "| 5975 | HOXD3  | OSE       | 2 | OSE__HOXD3        | HOXD3  | HOXD3.SwissRegulon.3  |  3.709990e-10 | 0.2379123 | 0.435 | 0.286 | ⋯ |  1.000000e+00 | Hoxd3  | 0 | 1.250348e-04 | 0.17448107 | 0.160 | 0.078 | 1.000000e+00 | 0 | 0 |\n",
       "| 5978 | HOXD9  | OSE       | 2 | OSE__HOXD9        | HOXD9  | HOXD9.SwissRegulon.3  |  7.743068e-25 | 0.4010671 | 0.598 | 0.373 | ⋯ |  2.178629e-51 | Hoxd9  | 1 | 5.021164e-11 | 0.33107576 | 0.688 | 0.468 | 5.884804e-07 | 1 | 2 |\n",
       "| 10241 | IRX3   | preGC_IIb | 2 | preGC_IIb__IRX3   | IRX3   | IRX3.SwissRegulon.5   |  9.425312e-44 | 0.5559565 | 0.578 | 0.264 | ⋯ |  3.676911e-58 | Irx3   | 1 | 1.800683e-07 | 0.31429414 | 0.480 | 0.318 | 2.110401e-03 | 1 | 2 |\n",
       "| 6037 | KLF5   | OSE       | 2 | OSE__KLF5         | KLF5   | KLF5.HOMER.3          |  4.977327e-36 | 0.4713310 | 0.322 | 0.102 | ⋯ |  9.545871e-65 | Klf5   | 1 | 1.848136e-02 | 0.15631107 | 0.272 | 0.203 | 1.000000e+00 | 0 | 1 |\n",
       "| 6049 | LHX2   | OSE       | 3 | OSE__LHX2         | LHX2   | LHX2.MA0700.1.3       | 1.765006e-130 | 0.8855739 | 0.677 | 0.160 | ⋯ |  1.000000e+00 | Lhx2   | 0 | 1.230869e-32 | 0.74119503 | 0.760 | 0.402 | 1.442578e-28 | 1 | 1 |\n",
       "| 10286 | LHX2   | preGC_IIb | 3 | preGC_IIb__LHX2   | LHX2   | LHX2.SwissRegulon.5   |  1.716060e-31 | 0.4471918 | 0.450 | 0.193 | ⋯ |            NA | NA     | 0 | 8.788687e-12 | 0.30723702 | 0.684 | 0.427 | 1.030034e-07 | 1 | 1 |\n",
       "| 6054 | LHX9   | OSE       | 2 | OSE__LHX9         | LHX9   | LHX9.MA0701.1.3       |  8.807792e-34 | 0.3861413 | 0.855 | 0.564 | ⋯ |  3.003106e-64 | Lhx9   | 1 | 1.098426e-12 | 0.25492277 | 0.172 | 0.039 | 1.287355e-08 | 1 | 2 |\n",
       "| 6116 | MYRF   | OSE       | 2 | OSE__MYRF         | MYRF   | NA                    |  1.366424e-56 | 0.5618854 | 0.718 | 0.355 | ⋯ | 1.245007e-131 | Myrf   | 1 | 2.312378e-25 | 0.55846129 | 0.592 | 0.255 | 2.710107e-21 | 1 | 2 |\n",
       "| 4771 | NR1H4  | granulosa | 2 | granulosa__NR1H4  | NR1H4  | NR1H4.MA1110.1.6      | 6.663361e-233 | 1.2690246 | 0.854 | 0.149 | ⋯ |  1.000000e+00 | Nr1h4  | 0 | 1.038542e-41 | 0.68192950 | 0.552 | 0.129 | 1.217172e-37 | 1 | 1 |\n",
       "| 10421 | NR1H4  | preGC_IIb | 2 | preGC_IIb__NR1H4  | NR1H4  | NR1H4.MA1110.1.5      |  3.972677e-67 | 0.6213922 | 0.585 | 0.178 | ⋯ |            NA | NA     | 0 | 1.262058e-04 | 0.25018719 | 0.316 | 0.206 | 1.000000e+00 | 0 | 0 |\n",
       "| 7622 | OSR1   | preGC_I   | 3 | preGC_I__OSR1     | OSR1   | OSR1.SwissRegulon.2   |  4.262700e-97 | 0.8681020 | 0.462 | 0.092 | ⋯ |            NA | NA     | 0 | 7.255076e-07 | 0.27125697 | 0.206 | 0.091 | 8.502950e-03 | 1 | 1 |\n",
       "| 6225 | PBX1   | OSE       | 2 | OSE__PBX1         | PBX1   | PBX1-HUMAN.H10MO.B.3  |  1.874000e-40 | 0.4082611 | 0.810 | 0.581 | ⋯ |  1.303466e-02 | Pbx1   | 1 | 5.464990e-07 | 0.28789815 | 0.620 | 0.481 | 6.404969e-03 | 1 | 2 |\n",
       "| 4814 | PBX3   | granulosa | 3 | granulosa__PBX3   | PBX3   | PBX3-HUMAN.H10MO.B.6  |  1.702015e-23 | 0.3745736 | 0.290 | 0.109 | ⋯ |            NA | NA     | 0 | 1.497403e-15 | 0.43319800 | 0.528 | 0.264 | 1.754957e-11 | 1 | 1 |\n",
       "| 4817 | PEG3   | granulosa | 2 | granulosa__PEG3   | PEG3   | NA                    |  2.747698e-50 | 0.4687051 | 0.865 | 0.642 | ⋯ |            NA | NA     | 0 | 1.006858e-15 | 0.32102166 | 0.980 | 0.871 | 1.180037e-11 | 1 | 1 |\n",
       "| 6300 | RELB   | OSE       | 3 | OSE__RELB         | RELB   | RELB-HUMAN.H10MO.C.3  |  9.048243e-19 | 0.3557459 | 0.270 | 0.117 | ⋯ |  1.432510e-04 | Relb   | 1 | 1.075751e-05 | 0.11266015 | 0.080 | 0.021 | 1.260781e-01 | 0 | 1 |\n",
       "| 4956 | SOX15  | granulosa | 3 | granulosa__SOX15  | SOX15  | SOX15.MA1152.1.6      |  5.467125e-21 | 0.3567888 | 0.298 | 0.120 | ⋯ |  1.251844e-28 | Sox15  | 1 |           NA |         NA |    NA |    NA |           NA | 0 | 1 |\n",
       "| 7789 | SOX4   | preGC_I   | 2 | preGC_I__SOX4     | SOX4   | SOX4-HUMAN.H10MO.C.2  |  1.574969e-21 | 0.1817984 | 0.963 | 0.936 | ⋯ |  1.270374e-05 | Sox4   | 1 | 6.568177e-25 | 0.69373403 | 0.733 | 0.460 | 7.697904e-21 | 1 | 2 |\n",
       "| 4970 | SP100  | granulosa | 2 | granulosa__SP100  | SP100  | SP100.SwissRegulon.6  |  2.104593e-19 | 0.3470580 | 0.343 | 0.157 | ⋯ |            NA | NA     | 0 | 4.699176e-07 | 0.17075712 | 0.224 | 0.098 | 5.507434e-03 | 1 | 1 |\n",
       "| 7815 | STAT1  | preGC_I   | 3 | preGC_I__STAT1    | STAT1  | STAT1.MA0137.3.2      |  1.049511e-08 | 0.2879470 | 0.402 | 0.288 | ⋯ |            NA | NA     | 0 |           NA |         NA |    NA |    NA |           NA | 0 | 0 |\n",
       "| 10715 | TOX3   | preGC_IIb | 2 | preGC_IIb__TOX3   | TOX3   | NA                    |  1.944012e-58 | 0.5884558 | 0.765 | 0.409 | ⋯ |            NA | NA     | 0 | 7.274622e-50 | 0.83472967 | 0.628 | 0.166 | 8.525858e-46 | 1 | 1 |\n",
       "| 5075 | TSHZ1  | granulosa | 2 | granulosa__TSHZ1  | TSHZ1  | NA                    |  2.250603e-09 | 0.2635943 | 0.207 | 0.106 | ⋯ |            NA | NA     | 0 | 1.752477e-01 | 0.04650858 | 0.252 | 0.208 | 1.000000e+00 | 0 | 0 |\n",
       "| 5098 | YBX3   | granulosa | 2 | granulosa__YBX3   | YBX3   | NA                    |  1.721670e-70 | 0.6170485 | 0.837 | 0.566 | ⋯ |            NA | NA     | 0 | 1.275559e-17 | 0.46788682 | 0.740 | 0.455 | 1.494955e-13 | 1 | 1 |\n",
       "| 5126 | ZBTB38 | granulosa | 2 | granulosa__ZBTB38 | ZBTB38 | NA                    |  3.192044e-14 | 0.3447236 | 0.307 | 0.158 | ⋯ |  1.000000e+00 | Zbtb38 | 0 | 1.147127e-01 | 0.03807694 | 0.092 | 0.062 | 1.000000e+00 | 0 | 0 |\n",
       "| 5130 | ZBTB41 | granulosa | 2 | granulosa__ZBTB41 | ZBTB41 | NA                    |  3.361202e-12 | 0.3099233 | 0.282 | 0.149 | ⋯ |            NA | NA     | 0 |           NA |         NA |    NA |    NA |           NA | 0 | 0 |\n",
       "| 5133 | ZBTB44 | granulosa | 2 | granulosa__ZBTB44 | ZBTB44 | NA                    |  5.786477e-08 | 0.2604005 | 0.356 | 0.243 | ⋯ |            NA | NA     | 0 | 1.097827e-01 | 0.02129032 | 0.204 | 0.154 | 1.000000e+00 | 0 | 0 |\n",
       "| 5279 | ZNF275 | granulosa | 2 | granulosa__ZNF275 | ZNF275 | NA                    |  4.223158e-44 | 0.5943811 | 0.486 | 0.196 | ⋯ |            NA | NA     | 0 |           NA |         NA |    NA |    NA |           NA | 0 | 0 |\n",
       "| 5405 | ZNF514 | granulosa | 2 | granulosa__ZNF514 | ZNF514 | NA                    |  2.437478e-19 | 0.3285111 | 0.257 | 0.100 | ⋯ |            NA | NA     | 0 | 3.262369e-01 | 0.01262477 | 0.052 | 0.038 | 1.000000e+00 | 0 | 0 |\n",
       "| 5477 | ZNF611 | granulosa | 2 | granulosa__ZNF611 | ZNF611 | NA                    |  2.882460e-27 | 0.4404068 | 0.282 | 0.097 | ⋯ |            NA | NA     | 0 |           NA |         NA |    NA |    NA |           NA | 0 | 0 |\n",
       "| 5540 | ZNF714 | granulosa | 2 | granulosa__ZNF714 | ZNF714 | NA                    |  2.612448e-23 | 0.4369628 | 0.478 | 0.258 | ⋯ |            NA | NA     | 0 |           NA |         NA |    NA |    NA |           NA | 0 | 0 |\n",
       "| 5546 | ZNF737 | granulosa | 2 | granulosa__ZNF737 | ZNF737 | NA                    |  8.577911e-09 | 0.2900131 | 0.367 | 0.255 | ⋯ |            NA | NA     | 0 |           NA |         NA |    NA |    NA |           NA | 0 | 0 |\n",
       "| 5588 | ZNF808 | granulosa | 2 | granulosa__ZNF808 | ZNF808 | NA                    |  2.162658e-07 | 0.2152227 | 0.207 | 0.116 | ⋯ |            NA | NA     | 0 | 1.310961e-01 | 0.02758457 | 0.036 | 0.019 | 1.000000e+00 | 0 | 0 |\n",
       "\n"
      ],
      "text/plain": [
       "      gene   cluster   N_agreement ID                TF    \n",
       "4244  ARNT2  granulosa 3           granulosa__ARNT2  ARNT2 \n",
       "5660  ARX    OSE       2           OSE__ARX          ARX   \n",
       "4270  BBX    granulosa 2           granulosa__BBX    BBX   \n",
       "5694  BNC1   OSE       2           OSE__BNC1         BNC1  \n",
       "4371  ELK1   granulosa 2           granulosa__ELK1   ELK1  \n",
       "4376  EMX2   granulosa 2           granulosa__EMX2   EMX2  \n",
       "5789  EMX2   OSE       2           OSE__EMX2         EMX2  \n",
       "4390  ETS1   granulosa 3           granulosa__ETS1   ETS1  \n",
       "4396  ETV5   granulosa 2           granulosa__ETV5   ETV5  \n",
       "4430  FOXK1  granulosa 2           granulosa__FOXK1  FOXK1 \n",
       "4433  FOXL2  granulosa 3           granulosa__FOXL2  FOXL2 \n",
       "7259  FOXL2  preGC_I   2           preGC_I__FOXL2    FOXL2 \n",
       "7265  FOXO1  preGC_I   2           preGC_I__FOXO1    FOXO1 \n",
       "7269  FOXP1  preGC_I   3           preGC_I__FOXP1    FOXP1 \n",
       "4443  FOXP1  granulosa 2           granulosa__FOXP1  FOXP1 \n",
       "4493  HES4   granulosa 2           granulosa__HES4   HES4  \n",
       "4498  HEY1   granulosa 2           granulosa__HEY1   HEY1  \n",
       "4499  HEY2   granulosa 2           granulosa__HEY2   HEY2  \n",
       "4500  HEYL   granulosa 2           granulosa__HEYL   HEYL  \n",
       "4504  HIF1A  granulosa 3           granulosa__HIF1A  HIF1A \n",
       "10154 HIF1A  preGC_IIb 3           preGC_IIb__HIF1A  HIF1A \n",
       "5975  HOXD3  OSE       2           OSE__HOXD3        HOXD3 \n",
       "5978  HOXD9  OSE       2           OSE__HOXD9        HOXD9 \n",
       "10241 IRX3   preGC_IIb 2           preGC_IIb__IRX3   IRX3  \n",
       "6037  KLF5   OSE       2           OSE__KLF5         KLF5  \n",
       "6049  LHX2   OSE       3           OSE__LHX2         LHX2  \n",
       "10286 LHX2   preGC_IIb 3           preGC_IIb__LHX2   LHX2  \n",
       "6054  LHX9   OSE       2           OSE__LHX9         LHX9  \n",
       "6116  MYRF   OSE       2           OSE__MYRF         MYRF  \n",
       "4771  NR1H4  granulosa 2           granulosa__NR1H4  NR1H4 \n",
       "10421 NR1H4  preGC_IIb 2           preGC_IIb__NR1H4  NR1H4 \n",
       "7622  OSR1   preGC_I   3           preGC_I__OSR1     OSR1  \n",
       "6225  PBX1   OSE       2           OSE__PBX1         PBX1  \n",
       "4814  PBX3   granulosa 3           granulosa__PBX3   PBX3  \n",
       "4817  PEG3   granulosa 2           granulosa__PEG3   PEG3  \n",
       "6300  RELB   OSE       3           OSE__RELB         RELB  \n",
       "4956  SOX15  granulosa 3           granulosa__SOX15  SOX15 \n",
       "7789  SOX4   preGC_I   2           preGC_I__SOX4     SOX4  \n",
       "4970  SP100  granulosa 2           granulosa__SP100  SP100 \n",
       "7815  STAT1  preGC_I   3           preGC_I__STAT1    STAT1 \n",
       "10715 TOX3   preGC_IIb 2           preGC_IIb__TOX3   TOX3  \n",
       "5075  TSHZ1  granulosa 2           granulosa__TSHZ1  TSHZ1 \n",
       "5098  YBX3   granulosa 2           granulosa__YBX3   YBX3  \n",
       "5126  ZBTB38 granulosa 2           granulosa__ZBTB38 ZBTB38\n",
       "5130  ZBTB41 granulosa 2           granulosa__ZBTB41 ZBTB41\n",
       "5133  ZBTB44 granulosa 2           granulosa__ZBTB44 ZBTB44\n",
       "5279  ZNF275 granulosa 2           granulosa__ZNF275 ZNF275\n",
       "5405  ZNF514 granulosa 2           granulosa__ZNF514 ZNF514\n",
       "5477  ZNF611 granulosa 2           granulosa__ZNF611 ZNF611\n",
       "5540  ZNF714 granulosa 2           granulosa__ZNF714 ZNF714\n",
       "5546  ZNF737 granulosa 2           granulosa__ZNF737 ZNF737\n",
       "5588  ZNF808 granulosa 2           granulosa__ZNF808 ZNF808\n",
       "      ATAC_PWM              RNA_DEGs.p_val RNA_DEGs.avg_logFC RNA_DEGs.pct.1\n",
       "4244  ARNT2-HUMAN.H10MO.D.6  2.025863e-10  0.2877110          0.262         \n",
       "5660  ARX-HUMAN.H10MO.D.3    7.428609e-17  0.2917867          0.302         \n",
       "4270  BBX.SwissRegulon.6     1.110236e-09  0.1808088          0.757         \n",
       "5694  NA                     3.727822e-62  0.6074326          0.490         \n",
       "4371  ELK1-HUMAN.H10MO.A.6   1.184003e-14  0.2837151          0.685         \n",
       "4376  EMX2.SwissRegulon.6    6.923518e-16  0.2446977          0.807         \n",
       "5789  EMX2.MA0886.1.3        6.559718e-20  0.2620331          0.845         \n",
       "4390  ETS1.MA0098.3.6        5.650235e-29  0.4448545          0.257         \n",
       "4396  ETV5.SwissRegulon.6    4.501048e-18  0.4104564          0.340         \n",
       "4430  FOXK1.MA0852.2.6       2.237827e-09  0.2461814          0.262         \n",
       "4433  FOXL2.HOMER.6          3.634837e-91  0.7561346          0.845         \n",
       "7259  FOXL2.HOMER.2          5.210902e-71  0.7017469          0.738         \n",
       "7265  FOXO1.SwissRegulon.2   1.488054e-11  0.3190231          0.280         \n",
       "7269  FOXP1.HOMER.2          3.973725e-18  0.3701438          0.570         \n",
       "4443  FOXP1.MA0481.2.6       1.326585e-12  0.2814178          0.555         \n",
       "4493  NA                    2.578950e-176  1.1248880          0.818         \n",
       "4498  HEY1.MA0823.1.6       6.540599e-110  0.6773119          0.323         \n",
       "4499  HEY2.MA0649.1.6       1.795510e-292  1.1480594          0.599         \n",
       "4500  NA                     0.000000e+00  1.0789273          0.564         \n",
       "4504  HIF1A.MA1106.1.6       8.551548e-18  0.3013195          0.685         \n",
       "10154 HIF1A.MA1106.1.5       1.724652e-10  0.2193488          0.657         \n",
       "5975  HOXD3.SwissRegulon.3   3.709990e-10  0.2379123          0.435         \n",
       "5978  HOXD9.SwissRegulon.3   7.743068e-25  0.4010671          0.598         \n",
       "10241 IRX3.SwissRegulon.5    9.425312e-44  0.5559565          0.578         \n",
       "6037  KLF5.HOMER.3           4.977327e-36  0.4713310          0.322         \n",
       "6049  LHX2.MA0700.1.3       1.765006e-130  0.8855739          0.677         \n",
       "10286 LHX2.SwissRegulon.5    1.716060e-31  0.4471918          0.450         \n",
       "6054  LHX9.MA0701.1.3        8.807792e-34  0.3861413          0.855         \n",
       "6116  NA                     1.366424e-56  0.5618854          0.718         \n",
       "4771  NR1H4.MA1110.1.6      6.663361e-233  1.2690246          0.854         \n",
       "10421 NR1H4.MA1110.1.5       3.972677e-67  0.6213922          0.585         \n",
       "7622  OSR1.SwissRegulon.2    4.262700e-97  0.8681020          0.462         \n",
       "6225  PBX1-HUMAN.H10MO.B.3   1.874000e-40  0.4082611          0.810         \n",
       "4814  PBX3-HUMAN.H10MO.B.6   1.702015e-23  0.3745736          0.290         \n",
       "4817  NA                     2.747698e-50  0.4687051          0.865         \n",
       "6300  RELB-HUMAN.H10MO.C.3   9.048243e-19  0.3557459          0.270         \n",
       "4956  SOX15.MA1152.1.6       5.467125e-21  0.3567888          0.298         \n",
       "7789  SOX4-HUMAN.H10MO.C.2   1.574969e-21  0.1817984          0.963         \n",
       "4970  SP100.SwissRegulon.6   2.104593e-19  0.3470580          0.343         \n",
       "7815  STAT1.MA0137.3.2       1.049511e-08  0.2879470          0.402         \n",
       "10715 NA                     1.944012e-58  0.5884558          0.765         \n",
       "5075  NA                     2.250603e-09  0.2635943          0.207         \n",
       "5098  NA                     1.721670e-70  0.6170485          0.837         \n",
       "5126  NA                     3.192044e-14  0.3447236          0.307         \n",
       "5130  NA                     3.361202e-12  0.3099233          0.282         \n",
       "5133  NA                     5.786477e-08  0.2604005          0.356         \n",
       "5279  NA                     4.223158e-44  0.5943811          0.486         \n",
       "5405  NA                     2.437478e-19  0.3285111          0.257         \n",
       "5477  NA                     2.882460e-27  0.4404068          0.282         \n",
       "5540  NA                     2.612448e-23  0.4369628          0.478         \n",
       "5546  NA                     8.577911e-09  0.2900131          0.367         \n",
       "5588  NA                     2.162658e-07  0.2152227          0.207         \n",
       "      RNA_DEGs.pct.2 ⋯ mouse.p_val_adj gene_mouse mouse_DEG monkeyp_val \n",
       "4244  0.144          ⋯  4.256818e-24   Arnt2      1                   NA\n",
       "5660  0.139          ⋯  2.192757e-53   Arx        1                   NA\n",
       "4270  0.691          ⋯  3.321182e-35   Bbx        1                   NA\n",
       "5694  0.147          ⋯ 1.108752e-129   Bnc1       1         5.676002e-28\n",
       "4371  0.549          ⋯            NA   NA         0                   NA\n",
       "4376  0.689          ⋯            NA   NA         0         4.548041e-02\n",
       "5789  0.682          ⋯            NA   NA         0         9.832716e-06\n",
       "4390  0.079          ⋯  6.631871e-01   Ets1       0                   NA\n",
       "4396  0.169          ⋯  1.000000e+00   Etv5       0                   NA\n",
       "4430  0.148          ⋯  1.000000e+00   Foxk1      0                   NA\n",
       "4433  0.329          ⋯ 1.452432e-213   Foxl2      1         1.912632e-01\n",
       "7259  0.337          ⋯            NA   NA         0         5.685683e-02\n",
       "7265  0.156          ⋯            NA   NA         0         2.736482e-10\n",
       "7269  0.388          ⋯            NA   NA         0         3.570961e-09\n",
       "4443  0.392          ⋯            NA   NA         0         3.573621e-02\n",
       "4493  0.197          ⋯            NA   NA         0         2.168012e-31\n",
       "4498  0.028          ⋯  3.169818e-95   Hey1       1         3.082092e-06\n",
       "4499  0.023          ⋯ 1.987298e-136   Hey2       1         8.212351e-66\n",
       "4500  0.009          ⋯ 3.352956e-295   Heyl       1         3.708882e-44\n",
       "4504  0.563          ⋯            NA   NA         0         3.186359e-01\n",
       "10154 0.565          ⋯  2.468331e-38   Hif1a      1         9.580710e-02\n",
       "5975  0.286          ⋯  1.000000e+00   Hoxd3      0         1.250348e-04\n",
       "5978  0.373          ⋯  2.178629e-51   Hoxd9      1         5.021164e-11\n",
       "10241 0.264          ⋯  3.676911e-58   Irx3       1         1.800683e-07\n",
       "6037  0.102          ⋯  9.545871e-65   Klf5       1         1.848136e-02\n",
       "6049  0.160          ⋯  1.000000e+00   Lhx2       0         1.230869e-32\n",
       "10286 0.193          ⋯            NA   NA         0         8.788687e-12\n",
       "6054  0.564          ⋯  3.003106e-64   Lhx9       1         1.098426e-12\n",
       "6116  0.355          ⋯ 1.245007e-131   Myrf       1         2.312378e-25\n",
       "4771  0.149          ⋯  1.000000e+00   Nr1h4      0         1.038542e-41\n",
       "10421 0.178          ⋯            NA   NA         0         1.262058e-04\n",
       "7622  0.092          ⋯            NA   NA         0         7.255076e-07\n",
       "6225  0.581          ⋯  1.303466e-02   Pbx1       1         5.464990e-07\n",
       "4814  0.109          ⋯            NA   NA         0         1.497403e-15\n",
       "4817  0.642          ⋯            NA   NA         0         1.006858e-15\n",
       "6300  0.117          ⋯  1.432510e-04   Relb       1         1.075751e-05\n",
       "4956  0.120          ⋯  1.251844e-28   Sox15      1                   NA\n",
       "7789  0.936          ⋯  1.270374e-05   Sox4       1         6.568177e-25\n",
       "4970  0.157          ⋯            NA   NA         0         4.699176e-07\n",
       "7815  0.288          ⋯            NA   NA         0                   NA\n",
       "10715 0.409          ⋯            NA   NA         0         7.274622e-50\n",
       "5075  0.106          ⋯            NA   NA         0         1.752477e-01\n",
       "5098  0.566          ⋯            NA   NA         0         1.275559e-17\n",
       "5126  0.158          ⋯  1.000000e+00   Zbtb38     0         1.147127e-01\n",
       "5130  0.149          ⋯            NA   NA         0                   NA\n",
       "5133  0.243          ⋯            NA   NA         0         1.097827e-01\n",
       "5279  0.196          ⋯            NA   NA         0                   NA\n",
       "5405  0.100          ⋯            NA   NA         0         3.262369e-01\n",
       "5477  0.097          ⋯            NA   NA         0                   NA\n",
       "5540  0.258          ⋯            NA   NA         0                   NA\n",
       "5546  0.255          ⋯            NA   NA         0                   NA\n",
       "5588  0.116          ⋯            NA   NA         0         1.310961e-01\n",
       "      monkeyavg_logFC monkeypct.1 monkeypct.2 monkeyp_val_adj monkey_DEG\n",
       "4244          NA         NA          NA                 NA    0         \n",
       "5660          NA         NA          NA                 NA    0         \n",
       "4270          NA         NA          NA                 NA    0         \n",
       "5694  0.43665094      0.268       0.036       6.652275e-24    1         \n",
       "4371          NA         NA          NA                 NA    0         \n",
       "4376  0.04420203      0.792       0.640       1.000000e+00    0         \n",
       "5789  0.24279627      0.744       0.656       1.152394e-01    0         \n",
       "4390          NA         NA          NA                 NA    0         \n",
       "4396          NA         NA          NA                 NA    0         \n",
       "4430          NA         NA          NA                 NA    0         \n",
       "4433  0.01479497      0.032       0.018       1.000000e+00    0         \n",
       "7259  0.05438791      0.037       0.017       1.000000e+00    0         \n",
       "7265  0.26870729      0.222       0.076       3.207157e-06    1         \n",
       "7269  0.33572801      0.626       0.438       4.185167e-05    1         \n",
       "4443  0.07316786      0.564       0.457       1.000000e+00    0         \n",
       "4493  0.46855584      0.280       0.032       2.540910e-27    1         \n",
       "4498  0.22450414      0.260       0.135       3.612212e-02    1         \n",
       "4499  0.89468229      0.680       0.137       9.624875e-62    1         \n",
       "4500  0.54612227      0.336       0.028       4.346809e-40    1         \n",
       "4504  0.01838072      0.564       0.480       1.000000e+00    0         \n",
       "10154 0.08678218      0.532       0.490       1.000000e+00    0         \n",
       "5975  0.17448107      0.160       0.078       1.000000e+00    0         \n",
       "5978  0.33107576      0.688       0.468       5.884804e-07    1         \n",
       "10241 0.31429414      0.480       0.318       2.110401e-03    1         \n",
       "6037  0.15631107      0.272       0.203       1.000000e+00    0         \n",
       "6049  0.74119503      0.760       0.402       1.442578e-28    1         \n",
       "10286 0.30723702      0.684       0.427       1.030034e-07    1         \n",
       "6054  0.25492277      0.172       0.039       1.287355e-08    1         \n",
       "6116  0.55846129      0.592       0.255       2.710107e-21    1         \n",
       "4771  0.68192950      0.552       0.129       1.217172e-37    1         \n",
       "10421 0.25018719      0.316       0.206       1.000000e+00    0         \n",
       "7622  0.27125697      0.206       0.091       8.502950e-03    1         \n",
       "6225  0.28789815      0.620       0.481       6.404969e-03    1         \n",
       "4814  0.43319800      0.528       0.264       1.754957e-11    1         \n",
       "4817  0.32102166      0.980       0.871       1.180037e-11    1         \n",
       "6300  0.11266015      0.080       0.021       1.260781e-01    0         \n",
       "4956          NA         NA          NA                 NA    0         \n",
       "7789  0.69373403      0.733       0.460       7.697904e-21    1         \n",
       "4970  0.17075712      0.224       0.098       5.507434e-03    1         \n",
       "7815          NA         NA          NA                 NA    0         \n",
       "10715 0.83472967      0.628       0.166       8.525858e-46    1         \n",
       "5075  0.04650858      0.252       0.208       1.000000e+00    0         \n",
       "5098  0.46788682      0.740       0.455       1.494955e-13    1         \n",
       "5126  0.03807694      0.092       0.062       1.000000e+00    0         \n",
       "5130          NA         NA          NA                 NA    0         \n",
       "5133  0.02129032      0.204       0.154       1.000000e+00    0         \n",
       "5279          NA         NA          NA                 NA    0         \n",
       "5405  0.01262477      0.052       0.038       1.000000e+00    0         \n",
       "5477          NA         NA          NA                 NA    0         \n",
       "5540          NA         NA          NA                 NA    0         \n",
       "5546          NA         NA          NA                 NA    0         \n",
       "5588  0.02758457      0.036       0.019       1.000000e+00    0         \n",
       "      N_agreement_species\n",
       "4244  1                  \n",
       "5660  1                  \n",
       "4270  1                  \n",
       "5694  2                  \n",
       "4371  0                  \n",
       "4376  0                  \n",
       "5789  0                  \n",
       "4390  0                  \n",
       "4396  0                  \n",
       "4430  0                  \n",
       "4433  1                  \n",
       "7259  0                  \n",
       "7265  1                  \n",
       "7269  1                  \n",
       "4443  0                  \n",
       "4493  1                  \n",
       "4498  2                  \n",
       "4499  2                  \n",
       "4500  2                  \n",
       "4504  0                  \n",
       "10154 1                  \n",
       "5975  0                  \n",
       "5978  2                  \n",
       "10241 2                  \n",
       "6037  1                  \n",
       "6049  1                  \n",
       "10286 1                  \n",
       "6054  2                  \n",
       "6116  2                  \n",
       "4771  1                  \n",
       "10421 0                  \n",
       "7622  1                  \n",
       "6225  2                  \n",
       "4814  1                  \n",
       "4817  1                  \n",
       "6300  1                  \n",
       "4956  1                  \n",
       "7789  2                  \n",
       "4970  1                  \n",
       "7815  0                  \n",
       "10715 1                  \n",
       "5075  0                  \n",
       "5098  1                  \n",
       "5126  0                  \n",
       "5130  0                  \n",
       "5133  0                  \n",
       "5279  0                  \n",
       "5405  0                  \n",
       "5477  0                  \n",
       "5540  0                  \n",
       "5546  0                  \n",
       "5588  0                  "
      ]
     },
     "metadata": {},
     "output_type": "display_data"
    }
   ],
   "source": [
    "selectedTF_df"
   ]
  },
  {
   "cell_type": "markdown",
   "metadata": {},
   "source": [
    "## Plot heatmap summary for non selected human TFs that are conserved"
   ]
  },
  {
   "cell_type": "code",
   "execution_count": 26,
   "metadata": {},
   "outputs": [],
   "source": [
    "selectedTF_df = subset(df, ! ID %in% HUMAN_prioritized$ID )"
   ]
  },
  {
   "cell_type": "code",
   "execution_count": 27,
   "metadata": {},
   "outputs": [],
   "source": [
    "selectedTF_df1 = subset(selectedTF_df, N_agreement > 1 & N_agreement_species  > 0)\n",
    "selectedTF_df2 = subset(selectedTF_df, RNA_DEGs > 0 & N_agreement_species == 2)\n",
    "selectedTF_df = unique(rbind(selectedTF_df1, selectedTF_df2))"
   ]
  },
  {
   "cell_type": "code",
   "execution_count": 28,
   "metadata": {},
   "outputs": [],
   "source": [
    "cluster_order = cluster_order\n",
    "selectedTF_df = selectedTF_df[ order(selectedTF_df$gene) , ]\n",
    "sorted_tfs = lapply(cluster_order, function(i)\n",
    "      subset(selectedTF_df, cluster == i))\n",
    "sorted_tfs = do.call(rbind, sorted_tfs)"
   ]
  },
  {
   "cell_type": "code",
   "execution_count": 29,
   "metadata": {},
   "outputs": [],
   "source": [
    "# save\n",
    "write.csv(sorted_tfs, file = 'figures_somatic/granulosa_crosspecie_TF_measurements_otherconservedTFs.csv', row.names=F)"
   ]
  },
  {
   "cell_type": "code",
   "execution_count": 30,
   "metadata": {},
   "outputs": [],
   "source": [
    "sorted_tfs = sorted_tfs[, c('gene', 'ID', 'N_agreement', 'monkey_DEG', 'mouse_DEG', 'N_agreement_species') ]\n",
    "sorted_tfs = sorted_tfs[! duplicated(sorted_tfs$gene), ]\n",
    "rownames(sorted_tfs) = sorted_tfs$gene"
   ]
  },
  {
   "cell_type": "code",
   "execution_count": 31,
   "metadata": {},
   "outputs": [],
   "source": [
    "xx = sorted_tfs[,c('N_agreement', 'monkey_DEG', 'mouse_DEG')]"
   ]
  },
  {
   "cell_type": "code",
   "execution_count": 32,
   "metadata": {},
   "outputs": [],
   "source": [
    "paletteLength <- 50\n",
    "myColor <- colorRampPalette(c(\"white\", brewer.pal(n = 5, name = 'Reds')[2]))(paletteLength)\n",
    "xx[ xx[,1] > 0 ,1]= 1\n",
    "sym = xx\n",
    "sym[] = ''\n",
    "sym[ xx > 0 ] = '*'\n",
    "pheatmap(xx, cellheight = 10, cellwidth = 10, cluster_rows = F, cluster_cols = F, display_numbers = sym, color=myColor, \n",
    "        filename = 'figures_somatic/granulosa_otherconservedTFs_crosspecie_summary.pdf')"
   ]
  },
  {
   "cell_type": "code",
   "execution_count": 33,
   "metadata": {},
   "outputs": [
    {
     "data": {
      "text/html": [
       "<style>\n",
       ".list-inline {list-style: none; margin:0; padding: 0}\n",
       ".list-inline>li {display: inline-block}\n",
       ".list-inline>li:not(:last-child)::after {content: \"\\00b7\"; padding: 0 .5ex}\n",
       "</style>\n",
       "<ol class=list-inline><li>'CoelEpi_LHX9'</li><li>'early_supporting'</li><li>'preGC_I'</li><li>'OSE'</li><li>'preGC_IIa'</li><li>'preGC_IIb'</li><li>'granulosa'</li></ol>\n"
      ],
      "text/latex": [
       "\\begin{enumerate*}\n",
       "\\item 'CoelEpi\\_LHX9'\n",
       "\\item 'early\\_supporting'\n",
       "\\item 'preGC\\_I'\n",
       "\\item 'OSE'\n",
       "\\item 'preGC\\_IIa'\n",
       "\\item 'preGC\\_IIb'\n",
       "\\item 'granulosa'\n",
       "\\end{enumerate*}\n"
      ],
      "text/markdown": [
       "1. 'CoelEpi_LHX9'\n",
       "2. 'early_supporting'\n",
       "3. 'preGC_I'\n",
       "4. 'OSE'\n",
       "5. 'preGC_IIa'\n",
       "6. 'preGC_IIb'\n",
       "7. 'granulosa'\n",
       "\n",
       "\n"
      ],
      "text/plain": [
       "[1] \"CoelEpi_LHX9\"     \"early_supporting\" \"preGC_I\"          \"OSE\"             \n",
       "[5] \"preGC_IIa\"        \"preGC_IIb\"        \"granulosa\"       "
      ]
     },
     "metadata": {},
     "output_type": "display_data"
    }
   ],
   "source": [
    "cluster_order"
   ]
  },
  {
   "cell_type": "code",
   "execution_count": null,
   "metadata": {},
   "outputs": [],
   "source": []
  }
 ],
 "metadata": {
  "kernelspec": {
   "display_name": "R",
   "language": "R",
   "name": "ir"
  },
  "language_info": {
   "codemirror_mode": "r",
   "file_extension": ".r",
   "mimetype": "text/x-r-source",
   "name": "R",
   "pygments_lexer": "r",
   "version": "4.0.3"
  }
 },
 "nbformat": 4,
 "nbformat_minor": 4
}
