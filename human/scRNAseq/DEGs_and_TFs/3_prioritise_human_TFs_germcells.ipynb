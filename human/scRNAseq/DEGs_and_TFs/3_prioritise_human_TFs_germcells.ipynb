{
 "cells": [
  {
   "cell_type": "markdown",
   "metadata": {},
   "source": [
    "# Germ lineage HUMANs - TFs prioritization"
   ]
  },
  {
   "cell_type": "code",
   "execution_count": 1,
   "metadata": {},
   "outputs": [
    {
     "name": "stderr",
     "output_type": "stream",
     "text": [
      "\n",
      "Attaching package: ‘dplyr’\n",
      "\n",
      "\n",
      "The following objects are masked from ‘package:stats’:\n",
      "\n",
      "    filter, lag\n",
      "\n",
      "\n",
      "The following objects are masked from ‘package:base’:\n",
      "\n",
      "    intersect, setdiff, setequal, union\n",
      "\n",
      "\n"
     ]
    }
   ],
   "source": [
    "library(dplyr)\n",
    "library(RColorBrewer)\n",
    "library(ggplot2)\n",
    "library(pheatmap)\n",
    "library(cowplot)\n",
    "library(reshape2)"
   ]
  },
  {
   "cell_type": "code",
   "execution_count": 2,
   "metadata": {},
   "outputs": [
    {
     "data": {
      "text/plain": [
       "R version 4.0.3 (2020-10-10)\n",
       "Platform: x86_64-conda-linux-gnu (64-bit)\n",
       "Running under: Ubuntu 20.04.1 LTS\n",
       "\n",
       "Matrix products: default\n",
       "BLAS:   /home/jovyan/my-conda-envs/R_Seurat3/lib/libblas.so.3.8.0\n",
       "LAPACK: /home/jovyan/my-conda-envs/R_Seurat3/lib/liblapack.so.3.8.0\n",
       "\n",
       "locale:\n",
       " [1] LC_CTYPE=en_US.UTF-8       LC_NUMERIC=C              \n",
       " [3] LC_TIME=en_US.UTF-8        LC_COLLATE=en_US.UTF-8    \n",
       " [5] LC_MONETARY=en_US.UTF-8    LC_MESSAGES=en_US.UTF-8   \n",
       " [7] LC_PAPER=en_US.UTF-8       LC_NAME=C                 \n",
       " [9] LC_ADDRESS=C               LC_TELEPHONE=C            \n",
       "[11] LC_MEASUREMENT=en_US.UTF-8 LC_IDENTIFICATION=C       \n",
       "\n",
       "attached base packages:\n",
       "[1] stats     graphics  grDevices utils     datasets  methods   base     \n",
       "\n",
       "other attached packages:\n",
       "[1] reshape2_1.4.4     cowplot_1.1.1      pheatmap_1.0.12    ggplot2_3.3.3     \n",
       "[5] RColorBrewer_1.1-2 dplyr_1.0.5       \n",
       "\n",
       "loaded via a namespace (and not attached):\n",
       " [1] Rcpp_1.0.6          plyr_1.8.6          pillar_1.5.1       \n",
       " [4] compiler_4.0.3      base64enc_0.1-3     tools_4.0.3        \n",
       " [7] digest_0.6.27       uuid_0.1-4          jsonlite_1.7.2     \n",
       "[10] evaluate_0.14       lifecycle_1.0.0     tibble_3.1.0       \n",
       "[13] gtable_0.3.0        pkgconfig_2.0.3     rlang_0.4.10       \n",
       "[16] IRdisplay_1.0       DBI_1.1.1           IRkernel_1.1.1.9000\n",
       "[19] stringr_1.4.0       repr_1.1.3          withr_2.4.1        \n",
       "[22] generics_0.1.0      vctrs_0.3.6         grid_4.0.3         \n",
       "[25] tidyselect_1.1.0    glue_1.4.2          R6_2.5.0           \n",
       "[28] fansi_0.4.2         pbdZMQ_0.3-5        purrr_0.3.4        \n",
       "[31] magrittr_2.0.1      scales_1.1.1        ellipsis_0.3.1     \n",
       "[34] htmltools_0.5.1.1   assertthat_0.2.1    colorspace_2.0-0   \n",
       "[37] utf8_1.2.1          stringi_1.5.3       munsell_0.5.0      \n",
       "[40] crayon_1.4.1       "
      ]
     },
     "metadata": {},
     "output_type": "display_data"
    }
   ],
   "source": [
    "sessionInfo()"
   ]
  },
  {
   "cell_type": "code",
   "execution_count": 3,
   "metadata": {},
   "outputs": [],
   "source": [
    "path_to_gonads = '/nfs/team292/lg18/with_valentina/gonadsV2_revision/'"
   ]
  },
  {
   "cell_type": "markdown",
   "metadata": {},
   "source": [
    "# Load measurements\n",
    "## RNA derived TFs info"
   ]
  },
  {
   "cell_type": "code",
   "execution_count": 4,
   "metadata": {},
   "outputs": [],
   "source": [
    "# Load TF activities computed with Dorothea\n",
    "TFact = read.csv(paste0(path_to_gonads,'/FCA_germcells_TFact.tsv'), stringsAsFactors = F, sep ='\\t')\n",
    "TFact$Dorothea_score = strsplit(TFact$gene, split = '-') %>% sapply(., tail, 1) #  dorothea score\n",
    "TFact$TF = strsplit(TFact$gene, split = '-') %>% sapply(., head, 1) # remove dorothea score\n",
    "TFact$gene = TFact$gene\n",
    "TFact$ID = paste0(TFact$cluster, '__', TFact$TF)\n",
    "TFact$RNA_TFact = ifelse(TFact$p_val_adj < 0.01 & TFact$avg_logFC > 0.1 , 1, 0) \n",
    "\n",
    "\n",
    "# Load differentially expressed genes\n",
    "DEGs = read.csv(paste0(path_to_gonads,'/FCA-gonad_germcells_DEGs.tsv'), stringsAsFactors = F, sep ='\\t')\n",
    "DEGs$TF = DEGs$gene\n",
    "DEGs$ID = paste0(DEGs$cluster, '__', DEGs$TF)\n",
    "# DEGs$avg_logFC = DEGs$avg_logFC\n",
    "DEGs$RNA_DEGs = ifelse(DEGs$p_val_adj < 0.01 & DEGs$avg_logFC > 0.15, 1, 0) "
   ]
  },
  {
   "cell_type": "markdown",
   "metadata": {},
   "source": [
    "## ATAC derived TFs info"
   ]
  },
  {
   "cell_type": "code",
   "execution_count": 5,
   "metadata": {},
   "outputs": [],
   "source": [
    "TFmotifs = read.csv('/nfs/team292/vl6/my_MULTIOME_dir/germcells_july2021/TFs/DARs/all_DA_peaks_LR.csv', stringsAsFactors = F)\n",
    "colnames(TFmotifs)[ colnames(TFmotifs) == 'avg_log2FC'] = 'avg_logFC'\n",
    "\n",
    "TFmotifs$cluster = gsub('-', '_', TFmotifs$cluster)\n",
    "# TFmotifs$cluster = gsub('oogonia_meiotic', 'oogonia_meiosis', TFmotifs$cluster)\n",
    "# TFmotifs$cluster = gsub('pre_spermatogonia', 'pre-spermatogonia', TFmotifs$cluster)\n",
    "TFmotifs$TF = strsplit(TFmotifs$X, split = '\\\\.') %>% sapply(., head, 1)\n",
    "TFmotifs$TF = gsub('-HUMAN', '', TFmotifs$TF)\n",
    "TFmotifs = subset(TFmotifs, TF %in% c(TFact$TF, DEGs$TF) )\n",
    "TFmotifs$ID = paste0(TFmotifs$cluster, '__', TFmotifs$TF)\n",
    "# TFmotifs = subset(TFmotifs, TF %in% TFact$TF)\n",
    "TFmotifs = TFmotifs[ order(TFmotifs$avg_logFC, decreasing = T) , ]\n",
    "TFmotifs = TFmotifs[ ! duplicated(TFmotifs$ID) , ]\n",
    "\n",
    "TFmotifs$ATAC_TFact = ifelse(TFmotifs$p_val_adj < 0.01 & TFmotifs$avg_logFC > 0.1 , 1, 0) "
   ]
  },
  {
   "cell_type": "markdown",
   "metadata": {},
   "source": [
    "### Check clusters are shared"
   ]
  },
  {
   "cell_type": "code",
   "execution_count": 6,
   "metadata": {},
   "outputs": [
    {
     "name": "stdout",
     "output_type": "stream",
     "text": [
      "[1] \"GC_mitotic\"\n",
      "[1] \"PGC\"               \"GC\"                \"oocyte\"           \n",
      "[4] \"oogonia_STRA8\"     \"pre_oocyte\"        \"oogonia_meiotic\"  \n",
      "[7] \"pre_spermatogonia\"\n"
     ]
    }
   ],
   "source": [
    "shared = Reduce(intersect, list(TFmotifs$cluster, TFact$cluster, DEGs$cluster) )\n",
    "print(setdiff(DEGs$cluster, shared ))\n",
    "print(intersect(DEGs$cluster, shared ))"
   ]
  },
  {
   "cell_type": "markdown",
   "metadata": {},
   "source": [
    "# Merge into a dataframe"
   ]
  },
  {
   "cell_type": "code",
   "execution_count": 7,
   "metadata": {},
   "outputs": [],
   "source": [
    "# add prefix to column names to identify origin\n",
    "names(TFact)[c(1:2,5, 8)] = paste0('RNA_TFact.', names(TFact)[c(1:2,5,8)])\n",
    "names(DEGs)[c(1:5)] = paste0('RNA_DEGs.', names(DEGs)[c(1:5)])\n",
    "names(TFmotifs)[c(2:3,6)] = paste0('ATAC_TFact.', names(TFmotifs)[c(2:3,6)])\n",
    "names(TFmotifs)[1] = 'ATAC_PWM' "
   ]
  },
  {
   "cell_type": "code",
   "execution_count": 8,
   "metadata": {},
   "outputs": [
    {
     "data": {
      "text/html": [
       "<table class=\"dataframe\">\n",
       "<caption>A data.frame: 6 × 20</caption>\n",
       "<thead>\n",
       "\t<tr><th></th><th scope=col>ID</th><th scope=col>RNA_DEGs.p_val</th><th scope=col>RNA_DEGs.avg_logFC</th><th scope=col>RNA_DEGs.pct.1</th><th scope=col>RNA_DEGs.pct.2</th><th scope=col>RNA_DEGs.p_val_adj</th><th scope=col>cluster</th><th scope=col>gene</th><th scope=col>TF</th><th scope=col>RNA_DEGs</th><th scope=col>RNA_TFact.p_val</th><th scope=col>RNA_TFact.avg_logFC</th><th scope=col>RNA_TFact.p_val_adj</th><th scope=col>RNA_TFact.Dorothea_score</th><th scope=col>RNA_TFact</th><th scope=col>ATAC_PWM</th><th scope=col>ATAC_TFact.p_val</th><th scope=col>ATAC_TFact.avg_logFC</th><th scope=col>ATAC_TFact.p_val_adj</th><th scope=col>ATAC_TFact</th></tr>\n",
       "\t<tr><th></th><th scope=col>&lt;chr&gt;</th><th scope=col>&lt;dbl&gt;</th><th scope=col>&lt;dbl&gt;</th><th scope=col>&lt;dbl&gt;</th><th scope=col>&lt;dbl&gt;</th><th scope=col>&lt;dbl&gt;</th><th scope=col>&lt;chr&gt;</th><th scope=col>&lt;chr&gt;</th><th scope=col>&lt;chr&gt;</th><th scope=col>&lt;dbl&gt;</th><th scope=col>&lt;dbl&gt;</th><th scope=col>&lt;dbl&gt;</th><th scope=col>&lt;dbl&gt;</th><th scope=col>&lt;chr&gt;</th><th scope=col>&lt;dbl&gt;</th><th scope=col>&lt;chr&gt;</th><th scope=col>&lt;dbl&gt;</th><th scope=col>&lt;dbl&gt;</th><th scope=col>&lt;dbl&gt;</th><th scope=col>&lt;dbl&gt;</th></tr>\n",
       "</thead>\n",
       "<tbody>\n",
       "\t<tr><th scope=row>1</th><td>GC__ADNP </td><td>0.0002855294</td><td>0.1002194</td><td>0.528</td><td>0.423</td><td>1</td><td>GC</td><td>ADNP </td><td>ADNP </td><td>0</td><td>6.268939e-07</td><td> 0.1929231</td><td>0.0008669943</td><td>D</td><td>1</td><td>NA                 </td><td>       NA</td><td> 0.0000000</td><td>1</td><td>0</td></tr>\n",
       "\t<tr><th scope=row>2</th><td>GC__ADNP2</td><td>          NA</td><td>0.0000000</td><td>   NA</td><td>   NA</td><td>1</td><td>GC</td><td>ADNP2</td><td>ADNP2</td><td>0</td><td>2.163933e-01</td><td>-0.2144921</td><td>1.0000000000</td><td>E</td><td>0</td><td>NA                 </td><td>       NA</td><td> 0.0000000</td><td>1</td><td>0</td></tr>\n",
       "\t<tr><th scope=row>3</th><td>GC__AEBP2</td><td>          NA</td><td>0.0000000</td><td>   NA</td><td>   NA</td><td>1</td><td>GC</td><td>AEBP2</td><td>AEBP2</td><td>0</td><td>7.413126e-02</td><td>-0.1902172</td><td>1.0000000000</td><td>E</td><td>0</td><td>NA                 </td><td>       NA</td><td> 0.0000000</td><td>1</td><td>0</td></tr>\n",
       "\t<tr><th scope=row>4</th><td>GC__AHR  </td><td>          NA</td><td>0.0000000</td><td>   NA</td><td>   NA</td><td>1</td><td>GC</td><td>AHR  </td><td>AHR  </td><td>0</td><td>1.214789e-03</td><td>-0.1550981</td><td>1.0000000000</td><td>B</td><td>0</td><td>AHR-HUMAN.H10MO.B.1</td><td>0.5656201</td><td>-0.2206721</td><td>1</td><td>0</td></tr>\n",
       "\t<tr><th scope=row>5</th><td>GC__AHRR </td><td>          NA</td><td>0.0000000</td><td>   NA</td><td>   NA</td><td>1</td><td>GC</td><td>AHRR </td><td>AHRR </td><td>0</td><td>3.530590e-05</td><td> 0.1745275</td><td>0.0488280530</td><td>E</td><td>0</td><td>NA                 </td><td>       NA</td><td> 0.0000000</td><td>1</td><td>0</td></tr>\n",
       "\t<tr><th scope=row>6</th><td>GC__AIRE </td><td>          NA</td><td>0.0000000</td><td>   NA</td><td>   NA</td><td>1</td><td>GC</td><td>AIRE </td><td>AIRE </td><td>0</td><td>6.313612e-01</td><td>-0.2040962</td><td>1.0000000000</td><td>E</td><td>0</td><td>AIRE.SwissRegulon.1</td><td>0.4149412</td><td>-0.7937911</td><td>1</td><td>0</td></tr>\n",
       "</tbody>\n",
       "</table>\n"
      ],
      "text/latex": [
       "A data.frame: 6 × 20\n",
       "\\begin{tabular}{r|llllllllllllllllllll}\n",
       "  & ID & RNA\\_DEGs.p\\_val & RNA\\_DEGs.avg\\_logFC & RNA\\_DEGs.pct.1 & RNA\\_DEGs.pct.2 & RNA\\_DEGs.p\\_val\\_adj & cluster & gene & TF & RNA\\_DEGs & RNA\\_TFact.p\\_val & RNA\\_TFact.avg\\_logFC & RNA\\_TFact.p\\_val\\_adj & RNA\\_TFact.Dorothea\\_score & RNA\\_TFact & ATAC\\_PWM & ATAC\\_TFact.p\\_val & ATAC\\_TFact.avg\\_logFC & ATAC\\_TFact.p\\_val\\_adj & ATAC\\_TFact\\\\\n",
       "  & <chr> & <dbl> & <dbl> & <dbl> & <dbl> & <dbl> & <chr> & <chr> & <chr> & <dbl> & <dbl> & <dbl> & <dbl> & <chr> & <dbl> & <chr> & <dbl> & <dbl> & <dbl> & <dbl>\\\\\n",
       "\\hline\n",
       "\t1 & GC\\_\\_ADNP  & 0.0002855294 & 0.1002194 & 0.528 & 0.423 & 1 & GC & ADNP  & ADNP  & 0 & 6.268939e-07 &  0.1929231 & 0.0008669943 & D & 1 & NA                  &        NA &  0.0000000 & 1 & 0\\\\\n",
       "\t2 & GC\\_\\_ADNP2 &           NA & 0.0000000 &    NA &    NA & 1 & GC & ADNP2 & ADNP2 & 0 & 2.163933e-01 & -0.2144921 & 1.0000000000 & E & 0 & NA                  &        NA &  0.0000000 & 1 & 0\\\\\n",
       "\t3 & GC\\_\\_AEBP2 &           NA & 0.0000000 &    NA &    NA & 1 & GC & AEBP2 & AEBP2 & 0 & 7.413126e-02 & -0.1902172 & 1.0000000000 & E & 0 & NA                  &        NA &  0.0000000 & 1 & 0\\\\\n",
       "\t4 & GC\\_\\_AHR   &           NA & 0.0000000 &    NA &    NA & 1 & GC & AHR   & AHR   & 0 & 1.214789e-03 & -0.1550981 & 1.0000000000 & B & 0 & AHR-HUMAN.H10MO.B.1 & 0.5656201 & -0.2206721 & 1 & 0\\\\\n",
       "\t5 & GC\\_\\_AHRR  &           NA & 0.0000000 &    NA &    NA & 1 & GC & AHRR  & AHRR  & 0 & 3.530590e-05 &  0.1745275 & 0.0488280530 & E & 0 & NA                  &        NA &  0.0000000 & 1 & 0\\\\\n",
       "\t6 & GC\\_\\_AIRE  &           NA & 0.0000000 &    NA &    NA & 1 & GC & AIRE  & AIRE  & 0 & 6.313612e-01 & -0.2040962 & 1.0000000000 & E & 0 & AIRE.SwissRegulon.1 & 0.4149412 & -0.7937911 & 1 & 0\\\\\n",
       "\\end{tabular}\n"
      ],
      "text/markdown": [
       "\n",
       "A data.frame: 6 × 20\n",
       "\n",
       "| <!--/--> | ID &lt;chr&gt; | RNA_DEGs.p_val &lt;dbl&gt; | RNA_DEGs.avg_logFC &lt;dbl&gt; | RNA_DEGs.pct.1 &lt;dbl&gt; | RNA_DEGs.pct.2 &lt;dbl&gt; | RNA_DEGs.p_val_adj &lt;dbl&gt; | cluster &lt;chr&gt; | gene &lt;chr&gt; | TF &lt;chr&gt; | RNA_DEGs &lt;dbl&gt; | RNA_TFact.p_val &lt;dbl&gt; | RNA_TFact.avg_logFC &lt;dbl&gt; | RNA_TFact.p_val_adj &lt;dbl&gt; | RNA_TFact.Dorothea_score &lt;chr&gt; | RNA_TFact &lt;dbl&gt; | ATAC_PWM &lt;chr&gt; | ATAC_TFact.p_val &lt;dbl&gt; | ATAC_TFact.avg_logFC &lt;dbl&gt; | ATAC_TFact.p_val_adj &lt;dbl&gt; | ATAC_TFact &lt;dbl&gt; |\n",
       "|---|---|---|---|---|---|---|---|---|---|---|---|---|---|---|---|---|---|---|---|---|\n",
       "| 1 | GC__ADNP  | 0.0002855294 | 0.1002194 | 0.528 | 0.423 | 1 | GC | ADNP  | ADNP  | 0 | 6.268939e-07 |  0.1929231 | 0.0008669943 | D | 1 | NA                  |        NA |  0.0000000 | 1 | 0 |\n",
       "| 2 | GC__ADNP2 |           NA | 0.0000000 |    NA |    NA | 1 | GC | ADNP2 | ADNP2 | 0 | 2.163933e-01 | -0.2144921 | 1.0000000000 | E | 0 | NA                  |        NA |  0.0000000 | 1 | 0 |\n",
       "| 3 | GC__AEBP2 |           NA | 0.0000000 |    NA |    NA | 1 | GC | AEBP2 | AEBP2 | 0 | 7.413126e-02 | -0.1902172 | 1.0000000000 | E | 0 | NA                  |        NA |  0.0000000 | 1 | 0 |\n",
       "| 4 | GC__AHR   |           NA | 0.0000000 |    NA |    NA | 1 | GC | AHR   | AHR   | 0 | 1.214789e-03 | -0.1550981 | 1.0000000000 | B | 0 | AHR-HUMAN.H10MO.B.1 | 0.5656201 | -0.2206721 | 1 | 0 |\n",
       "| 5 | GC__AHRR  |           NA | 0.0000000 |    NA |    NA | 1 | GC | AHRR  | AHRR  | 0 | 3.530590e-05 |  0.1745275 | 0.0488280530 | E | 0 | NA                  |        NA |  0.0000000 | 1 | 0 |\n",
       "| 6 | GC__AIRE  |           NA | 0.0000000 |    NA |    NA | 1 | GC | AIRE  | AIRE  | 0 | 6.313612e-01 | -0.2040962 | 1.0000000000 | E | 0 | AIRE.SwissRegulon.1 | 0.4149412 | -0.7937911 | 1 | 0 |\n",
       "\n"
      ],
      "text/plain": [
       "  ID        RNA_DEGs.p_val RNA_DEGs.avg_logFC RNA_DEGs.pct.1 RNA_DEGs.pct.2\n",
       "1 GC__ADNP  0.0002855294   0.1002194          0.528          0.423         \n",
       "2 GC__ADNP2           NA   0.0000000             NA             NA         \n",
       "3 GC__AEBP2           NA   0.0000000             NA             NA         \n",
       "4 GC__AHR             NA   0.0000000             NA             NA         \n",
       "5 GC__AHRR            NA   0.0000000             NA             NA         \n",
       "6 GC__AIRE            NA   0.0000000             NA             NA         \n",
       "  RNA_DEGs.p_val_adj cluster gene  TF    RNA_DEGs RNA_TFact.p_val\n",
       "1 1                  GC      ADNP  ADNP  0        6.268939e-07   \n",
       "2 1                  GC      ADNP2 ADNP2 0        2.163933e-01   \n",
       "3 1                  GC      AEBP2 AEBP2 0        7.413126e-02   \n",
       "4 1                  GC      AHR   AHR   0        1.214789e-03   \n",
       "5 1                  GC      AHRR  AHRR  0        3.530590e-05   \n",
       "6 1                  GC      AIRE  AIRE  0        6.313612e-01   \n",
       "  RNA_TFact.avg_logFC RNA_TFact.p_val_adj RNA_TFact.Dorothea_score RNA_TFact\n",
       "1  0.1929231          0.0008669943        D                        1        \n",
       "2 -0.2144921          1.0000000000        E                        0        \n",
       "3 -0.1902172          1.0000000000        E                        0        \n",
       "4 -0.1550981          1.0000000000        B                        0        \n",
       "5  0.1745275          0.0488280530        E                        0        \n",
       "6 -0.2040962          1.0000000000        E                        0        \n",
       "  ATAC_PWM            ATAC_TFact.p_val ATAC_TFact.avg_logFC\n",
       "1 NA                         NA         0.0000000          \n",
       "2 NA                         NA         0.0000000          \n",
       "3 NA                         NA         0.0000000          \n",
       "4 AHR-HUMAN.H10MO.B.1 0.5656201        -0.2206721          \n",
       "5 NA                         NA         0.0000000          \n",
       "6 AIRE.SwissRegulon.1 0.4149412        -0.7937911          \n",
       "  ATAC_TFact.p_val_adj ATAC_TFact\n",
       "1 1                    0         \n",
       "2 1                    0         \n",
       "3 1                    0         \n",
       "4 1                    0         \n",
       "5 1                    0         \n",
       "6 1                    0         "
      ]
     },
     "metadata": {},
     "output_type": "display_data"
    }
   ],
   "source": [
    "DEGs = subset(DEGs, TF %in% c(TFact$TF, TFmotifs$TF) )\n",
    "\n",
    "# merge RNA measurements\n",
    "df = merge(DEGs, TFact, by = 'ID', all = T)\n",
    "# add info in missing DEGs\n",
    "idx = is.na(df$cluster.x)\n",
    "df$cluster.x[ idx ] = df$cluster.y[ idx ]\n",
    "df$TF.x[ idx ] = df$TF.y[ idx ]\n",
    "df$gene.x[ idx ] = df$gene.y[ idx ]\n",
    "\n",
    "df = df[, grep('y$', names(df), invert = T) ] # remove unwanted columns\n",
    "colnames(df) = gsub('.x$', '', colnames(df))\n",
    "\n",
    "# # append ATAC measurements\n",
    "df = merge(df, TFmotifs, by = 'ID', all = T)\n",
    "# add info in missing DEGs\n",
    "idx = is.na(df$cluster.x)\n",
    "df$cluster.x[ idx ] = df$cluster.y[ idx ]\n",
    "df$TF.x[ idx ] = df$TF.y[ idx ]\n",
    "df$gene.x[ idx ] = df$gene.y[ idx ]\n",
    "\n",
    "df = df[, grep('y$', names(df), invert = T) ] # remove unwanted columns\n",
    "colnames(df) = gsub('.x$', '', colnames(df))\n",
    "\n",
    "# Format \n",
    "df = df[, ! colnames(df) %in% c('pct.1', 'pct.2') ]\n",
    "df$gene = df$TF\n",
    "# Clean NAs\n",
    "for (i in c('RNA_DEGs', 'RNA_TFact', 'ATAC_TFact'))\n",
    "    df[ is.na( df[ , i]) , i] = 0\n",
    "\n",
    "for (i in c('RNA_DEGs.avg_logFC', 'RNA_TFact.avg_logFC', 'ATAC_TFact.avg_logFC'))\n",
    "    df[ is.na( df[ , i]) , i] = 0\n",
    "for (i in c('RNA_DEGs.p_val_adj', 'RNA_TFact.p_val_adj', 'ATAC_TFact.p_val_adj'))\n",
    "    df[ is.na( df[ , i]) , i] = 1\n",
    "\n",
    "head(df)"
   ]
  },
  {
   "cell_type": "code",
   "execution_count": 9,
   "metadata": {},
   "outputs": [
    {
     "data": {
      "text/html": [
       "<table class=\"dataframe\">\n",
       "<caption>A data.frame: 6 × 21</caption>\n",
       "<thead>\n",
       "\t<tr><th></th><th scope=col>TF</th><th scope=col>cluster</th><th scope=col>N_agreement</th><th scope=col>ID</th><th scope=col>ATAC_PWM</th><th scope=col>gene</th><th scope=col>RNA_DEGs.p_val</th><th scope=col>RNA_DEGs.avg_logFC</th><th scope=col>RNA_DEGs.pct.1</th><th scope=col>RNA_DEGs.pct.2</th><th scope=col>⋯</th><th scope=col>RNA_DEGs</th><th scope=col>RNA_TFact.p_val</th><th scope=col>RNA_TFact.avg_logFC</th><th scope=col>RNA_TFact.p_val_adj</th><th scope=col>RNA_TFact.Dorothea_score</th><th scope=col>RNA_TFact</th><th scope=col>ATAC_TFact.p_val</th><th scope=col>ATAC_TFact.avg_logFC</th><th scope=col>ATAC_TFact.p_val_adj</th><th scope=col>ATAC_TFact</th></tr>\n",
       "\t<tr><th></th><th scope=col>&lt;chr&gt;</th><th scope=col>&lt;chr&gt;</th><th scope=col>&lt;dbl&gt;</th><th scope=col>&lt;chr&gt;</th><th scope=col>&lt;chr&gt;</th><th scope=col>&lt;chr&gt;</th><th scope=col>&lt;dbl&gt;</th><th scope=col>&lt;dbl&gt;</th><th scope=col>&lt;dbl&gt;</th><th scope=col>&lt;dbl&gt;</th><th scope=col>⋯</th><th scope=col>&lt;dbl&gt;</th><th scope=col>&lt;dbl&gt;</th><th scope=col>&lt;dbl&gt;</th><th scope=col>&lt;dbl&gt;</th><th scope=col>&lt;chr&gt;</th><th scope=col>&lt;dbl&gt;</th><th scope=col>&lt;dbl&gt;</th><th scope=col>&lt;dbl&gt;</th><th scope=col>&lt;dbl&gt;</th><th scope=col>&lt;dbl&gt;</th></tr>\n",
       "</thead>\n",
       "<tbody>\n",
       "\t<tr><th scope=row>758</th><td>SOX4 </td><td>GC    </td><td>3</td><td>GC__SOX4     </td><td>SOX4.MA0867.1.1      </td><td>SOX4 </td><td> 9.263640e-40</td><td>0.4334770</td><td>0.941</td><td>0.654</td><td>⋯</td><td>1</td><td> 5.966407e-21</td><td>0.3307047</td><td> 8.251541e-18</td><td>E </td><td>1</td><td>6.632225e-09</td><td> 0.2671011</td><td>1.273387e-05</td><td>1</td></tr>\n",
       "\t<tr><th scope=row>2884</th><td>BARX2</td><td>oocyte</td><td>3</td><td>oocyte__BARX2</td><td>BARX2-HUMAN.H10MO.D.5</td><td>BARX2</td><td> 2.407859e-07</td><td>0.1809690</td><td>0.116</td><td>0.047</td><td>⋯</td><td>1</td><td> 6.066193e-81</td><td>0.8863681</td><td> 8.389545e-78</td><td>E </td><td>1</td><td>1.919306e-19</td><td> 1.1599274</td><td>3.685067e-16</td><td>1</td></tr>\n",
       "\t<tr><th scope=row>3025</th><td>FIGLA</td><td>oocyte</td><td>3</td><td>oocyte__FIGLA</td><td>FIGLA.MA0820.1.5     </td><td>FIGLA</td><td>1.000960e-194</td><td>1.3789022</td><td>0.859</td><td>0.140</td><td>⋯</td><td>1</td><td>7.400333e-153</td><td>1.8039547</td><td>1.023466e-149</td><td>B </td><td>1</td><td>0.000000e+00</td><td>16.8569292</td><td>0.000000e+00</td><td>1</td></tr>\n",
       "\t<tr><th scope=row>3120</th><td>HEY2 </td><td>oocyte</td><td>3</td><td>oocyte__HEY2 </td><td>HEY2.MA0649.1.5      </td><td>HEY2 </td><td> 1.031171e-11</td><td>0.4092867</td><td>0.409</td><td>0.273</td><td>⋯</td><td>1</td><td> 1.049073e-42</td><td>0.5778002</td><td> 1.450868e-39</td><td>E </td><td>1</td><td>1.220886e-25</td><td> 0.6699419</td><td>2.344102e-22</td><td>1</td></tr>\n",
       "\t<tr><th scope=row>3536</th><td>RORA </td><td>oocyte</td><td>3</td><td>oocyte__RORA </td><td>RORA-HUMAN.H10MO.B.5 </td><td>RORA </td><td> 2.040031e-07</td><td>0.2381747</td><td>0.212</td><td>0.116</td><td>⋯</td><td>1</td><td> 1.562040e-12</td><td>0.3656247</td><td> 2.160301e-09</td><td>D </td><td>1</td><td>1.798406e-20</td><td> 0.7540820</td><td>3.452940e-17</td><td>1</td></tr>\n",
       "\t<tr><th scope=row>3627</th><td>STAT1</td><td>oocyte</td><td>3</td><td>oocyte__STAT1</td><td>STAT1.SwissRegulon.5 </td><td>STAT1</td><td> 1.127996e-07</td><td>0.3694292</td><td>0.347</td><td>0.242</td><td>⋯</td><td>1</td><td> 9.035608e-15</td><td>0.3059179</td><td> 1.249625e-11</td><td>AA</td><td>1</td><td>5.241050e-09</td><td> 0.4025960</td><td>1.006282e-05</td><td>1</td></tr>\n",
       "</tbody>\n",
       "</table>\n"
      ],
      "text/latex": [
       "A data.frame: 6 × 21\n",
       "\\begin{tabular}{r|lllllllllllllllllllll}\n",
       "  & TF & cluster & N\\_agreement & ID & ATAC\\_PWM & gene & RNA\\_DEGs.p\\_val & RNA\\_DEGs.avg\\_logFC & RNA\\_DEGs.pct.1 & RNA\\_DEGs.pct.2 & ⋯ & RNA\\_DEGs & RNA\\_TFact.p\\_val & RNA\\_TFact.avg\\_logFC & RNA\\_TFact.p\\_val\\_adj & RNA\\_TFact.Dorothea\\_score & RNA\\_TFact & ATAC\\_TFact.p\\_val & ATAC\\_TFact.avg\\_logFC & ATAC\\_TFact.p\\_val\\_adj & ATAC\\_TFact\\\\\n",
       "  & <chr> & <chr> & <dbl> & <chr> & <chr> & <chr> & <dbl> & <dbl> & <dbl> & <dbl> & ⋯ & <dbl> & <dbl> & <dbl> & <dbl> & <chr> & <dbl> & <dbl> & <dbl> & <dbl> & <dbl>\\\\\n",
       "\\hline\n",
       "\t758 & SOX4  & GC     & 3 & GC\\_\\_SOX4      & SOX4.MA0867.1.1       & SOX4  &  9.263640e-40 & 0.4334770 & 0.941 & 0.654 & ⋯ & 1 &  5.966407e-21 & 0.3307047 &  8.251541e-18 & E  & 1 & 6.632225e-09 &  0.2671011 & 1.273387e-05 & 1\\\\\n",
       "\t2884 & BARX2 & oocyte & 3 & oocyte\\_\\_BARX2 & BARX2-HUMAN.H10MO.D.5 & BARX2 &  2.407859e-07 & 0.1809690 & 0.116 & 0.047 & ⋯ & 1 &  6.066193e-81 & 0.8863681 &  8.389545e-78 & E  & 1 & 1.919306e-19 &  1.1599274 & 3.685067e-16 & 1\\\\\n",
       "\t3025 & FIGLA & oocyte & 3 & oocyte\\_\\_FIGLA & FIGLA.MA0820.1.5      & FIGLA & 1.000960e-194 & 1.3789022 & 0.859 & 0.140 & ⋯ & 1 & 7.400333e-153 & 1.8039547 & 1.023466e-149 & B  & 1 & 0.000000e+00 & 16.8569292 & 0.000000e+00 & 1\\\\\n",
       "\t3120 & HEY2  & oocyte & 3 & oocyte\\_\\_HEY2  & HEY2.MA0649.1.5       & HEY2  &  1.031171e-11 & 0.4092867 & 0.409 & 0.273 & ⋯ & 1 &  1.049073e-42 & 0.5778002 &  1.450868e-39 & E  & 1 & 1.220886e-25 &  0.6699419 & 2.344102e-22 & 1\\\\\n",
       "\t3536 & RORA  & oocyte & 3 & oocyte\\_\\_RORA  & RORA-HUMAN.H10MO.B.5  & RORA  &  2.040031e-07 & 0.2381747 & 0.212 & 0.116 & ⋯ & 1 &  1.562040e-12 & 0.3656247 &  2.160301e-09 & D  & 1 & 1.798406e-20 &  0.7540820 & 3.452940e-17 & 1\\\\\n",
       "\t3627 & STAT1 & oocyte & 3 & oocyte\\_\\_STAT1 & STAT1.SwissRegulon.5  & STAT1 &  1.127996e-07 & 0.3694292 & 0.347 & 0.242 & ⋯ & 1 &  9.035608e-15 & 0.3059179 &  1.249625e-11 & AA & 1 & 5.241050e-09 &  0.4025960 & 1.006282e-05 & 1\\\\\n",
       "\\end{tabular}\n"
      ],
      "text/markdown": [
       "\n",
       "A data.frame: 6 × 21\n",
       "\n",
       "| <!--/--> | TF &lt;chr&gt; | cluster &lt;chr&gt; | N_agreement &lt;dbl&gt; | ID &lt;chr&gt; | ATAC_PWM &lt;chr&gt; | gene &lt;chr&gt; | RNA_DEGs.p_val &lt;dbl&gt; | RNA_DEGs.avg_logFC &lt;dbl&gt; | RNA_DEGs.pct.1 &lt;dbl&gt; | RNA_DEGs.pct.2 &lt;dbl&gt; | ⋯ ⋯ | RNA_DEGs &lt;dbl&gt; | RNA_TFact.p_val &lt;dbl&gt; | RNA_TFact.avg_logFC &lt;dbl&gt; | RNA_TFact.p_val_adj &lt;dbl&gt; | RNA_TFact.Dorothea_score &lt;chr&gt; | RNA_TFact &lt;dbl&gt; | ATAC_TFact.p_val &lt;dbl&gt; | ATAC_TFact.avg_logFC &lt;dbl&gt; | ATAC_TFact.p_val_adj &lt;dbl&gt; | ATAC_TFact &lt;dbl&gt; |\n",
       "|---|---|---|---|---|---|---|---|---|---|---|---|---|---|---|---|---|---|---|---|---|---|\n",
       "| 758 | SOX4  | GC     | 3 | GC__SOX4      | SOX4.MA0867.1.1       | SOX4  |  9.263640e-40 | 0.4334770 | 0.941 | 0.654 | ⋯ | 1 |  5.966407e-21 | 0.3307047 |  8.251541e-18 | E  | 1 | 6.632225e-09 |  0.2671011 | 1.273387e-05 | 1 |\n",
       "| 2884 | BARX2 | oocyte | 3 | oocyte__BARX2 | BARX2-HUMAN.H10MO.D.5 | BARX2 |  2.407859e-07 | 0.1809690 | 0.116 | 0.047 | ⋯ | 1 |  6.066193e-81 | 0.8863681 |  8.389545e-78 | E  | 1 | 1.919306e-19 |  1.1599274 | 3.685067e-16 | 1 |\n",
       "| 3025 | FIGLA | oocyte | 3 | oocyte__FIGLA | FIGLA.MA0820.1.5      | FIGLA | 1.000960e-194 | 1.3789022 | 0.859 | 0.140 | ⋯ | 1 | 7.400333e-153 | 1.8039547 | 1.023466e-149 | B  | 1 | 0.000000e+00 | 16.8569292 | 0.000000e+00 | 1 |\n",
       "| 3120 | HEY2  | oocyte | 3 | oocyte__HEY2  | HEY2.MA0649.1.5       | HEY2  |  1.031171e-11 | 0.4092867 | 0.409 | 0.273 | ⋯ | 1 |  1.049073e-42 | 0.5778002 |  1.450868e-39 | E  | 1 | 1.220886e-25 |  0.6699419 | 2.344102e-22 | 1 |\n",
       "| 3536 | RORA  | oocyte | 3 | oocyte__RORA  | RORA-HUMAN.H10MO.B.5  | RORA  |  2.040031e-07 | 0.2381747 | 0.212 | 0.116 | ⋯ | 1 |  1.562040e-12 | 0.3656247 |  2.160301e-09 | D  | 1 | 1.798406e-20 |  0.7540820 | 3.452940e-17 | 1 |\n",
       "| 3627 | STAT1 | oocyte | 3 | oocyte__STAT1 | STAT1.SwissRegulon.5  | STAT1 |  1.127996e-07 | 0.3694292 | 0.347 | 0.242 | ⋯ | 1 |  9.035608e-15 | 0.3059179 |  1.249625e-11 | AA | 1 | 5.241050e-09 |  0.4025960 | 1.006282e-05 | 1 |\n",
       "\n"
      ],
      "text/plain": [
       "     TF    cluster N_agreement ID            ATAC_PWM              gene \n",
       "758  SOX4  GC      3           GC__SOX4      SOX4.MA0867.1.1       SOX4 \n",
       "2884 BARX2 oocyte  3           oocyte__BARX2 BARX2-HUMAN.H10MO.D.5 BARX2\n",
       "3025 FIGLA oocyte  3           oocyte__FIGLA FIGLA.MA0820.1.5      FIGLA\n",
       "3120 HEY2  oocyte  3           oocyte__HEY2  HEY2.MA0649.1.5       HEY2 \n",
       "3536 RORA  oocyte  3           oocyte__RORA  RORA-HUMAN.H10MO.B.5  RORA \n",
       "3627 STAT1 oocyte  3           oocyte__STAT1 STAT1.SwissRegulon.5  STAT1\n",
       "     RNA_DEGs.p_val RNA_DEGs.avg_logFC RNA_DEGs.pct.1 RNA_DEGs.pct.2 ⋯ RNA_DEGs\n",
       "758   9.263640e-40  0.4334770          0.941          0.654          ⋯ 1       \n",
       "2884  2.407859e-07  0.1809690          0.116          0.047          ⋯ 1       \n",
       "3025 1.000960e-194  1.3789022          0.859          0.140          ⋯ 1       \n",
       "3120  1.031171e-11  0.4092867          0.409          0.273          ⋯ 1       \n",
       "3536  2.040031e-07  0.2381747          0.212          0.116          ⋯ 1       \n",
       "3627  1.127996e-07  0.3694292          0.347          0.242          ⋯ 1       \n",
       "     RNA_TFact.p_val RNA_TFact.avg_logFC RNA_TFact.p_val_adj\n",
       "758   5.966407e-21   0.3307047            8.251541e-18      \n",
       "2884  6.066193e-81   0.8863681            8.389545e-78      \n",
       "3025 7.400333e-153   1.8039547           1.023466e-149      \n",
       "3120  1.049073e-42   0.5778002            1.450868e-39      \n",
       "3536  1.562040e-12   0.3656247            2.160301e-09      \n",
       "3627  9.035608e-15   0.3059179            1.249625e-11      \n",
       "     RNA_TFact.Dorothea_score RNA_TFact ATAC_TFact.p_val ATAC_TFact.avg_logFC\n",
       "758  E                        1         6.632225e-09      0.2671011          \n",
       "2884 E                        1         1.919306e-19      1.1599274          \n",
       "3025 B                        1         0.000000e+00     16.8569292          \n",
       "3120 E                        1         1.220886e-25      0.6699419          \n",
       "3536 D                        1         1.798406e-20      0.7540820          \n",
       "3627 AA                       1         5.241050e-09      0.4025960          \n",
       "     ATAC_TFact.p_val_adj ATAC_TFact\n",
       "758  1.273387e-05         1         \n",
       "2884 3.685067e-16         1         \n",
       "3025 0.000000e+00         1         \n",
       "3120 2.344102e-22         1         \n",
       "3536 3.452940e-17         1         \n",
       "3627 1.006282e-05         1         "
      ]
     },
     "metadata": {},
     "output_type": "display_data"
    }
   ],
   "source": [
    "# compute agreement\n",
    "df$N_agreement = apply(df[, c('RNA_DEGs', 'RNA_TFact', 'ATAC_TFact') ], 1, function(x){\n",
    "    x[ is.na(x) ] = 0\n",
    "    sum(x)\n",
    "})\n",
    "# reorganize columns\n",
    "coln = c('TF', 'cluster', 'N_agreement', 'ID', 'ATAC_PWM', 'gene')\n",
    "df = df[ , c(coln, setdiff(colnames(df), coln) ) ]\n",
    "\n",
    "\n",
    "# order by agreement\n",
    "df = df[ order(df$N_agreement, decreasing = T) , ]\n",
    "\n",
    "# save\n",
    "write.csv(df, file = 'figures_germcells/human_TFs_measurements.csv', row.names=F)\n",
    "head(df)"
   ]
  },
  {
   "cell_type": "markdown",
   "metadata": {},
   "source": [
    "# Plot - shared"
   ]
  },
  {
   "cell_type": "code",
   "execution_count": 10,
   "metadata": {},
   "outputs": [],
   "source": [
    "# Select TFs of interest    \n",
    "df$RNA_DEGs.avg_logFC = signif(df$RNA_DEGs.avg_logFC, 2)\n",
    "df$ATAC_TFact.avg_logFC = signif(df$ATAC_TFact.avg_logFC, 2)\n",
    "df$RNA_TFact.avg_logFC = signif(df$RNA_TFact.avg_logFC, 2)\n",
    "\n",
    "# TFs need to meet be strongly supported by 3 or 2 evidences with high fold changes \n",
    "idx_tf_1 = which(df$N_agreement == 3 | \n",
    "               (df$N_agreement == 2 & df$RNA_DEGs == 1 & df$RNA_DEGs.avg_logFC > 0.75 ) |\n",
    "               (df$N_agreement == 2 & df$RNA_DEGs == 1 & df$ATAC_TFact.avg_logFC > 0.75 ) |\n",
    "               (df$N_agreement == 2 & df$RNA_DEGs == 1 & df$RNA_TFact.avg_logFC > 0.7 )\n",
    "              )\n",
    "# Expression changes need to be robust \n",
    "idx_tf_2 = which( df$RNA_DEGs.avg_logFC >= 0.2 & df$RNA_DEGs.pct.1 >= 0.25)\n",
    "\n",
    "idx_tf = intersect(idx_tf_1, idx_tf_2)\n",
    "\n",
    "# These are next to the thresholds - add manually\n",
    "i = which(df$TF == 'ZHX3')[1]\n",
    "idx_tf = c(idx_tf, i)\n",
    "i = which(df$TF == 'KLF4')[2]\n",
    "idx_tf = c(idx_tf, i)\n",
    "\n",
    "idx_tf = unique(idx_tf)"
   ]
  },
  {
   "cell_type": "code",
   "execution_count": 11,
   "metadata": {},
   "outputs": [],
   "source": [
    "# Order selected genes alphabetically\n",
    "df_selected = df[idx_tf, ]\n",
    "df_selected = df_selected[ order(df_selected$TF) , ]\n",
    "\n",
    "# Define clusters to plot \n",
    "CLofinterest = c('PGC', 'GC', 'oogonia_STRA8', 'oogonia_meiotic', 'pre_oocyte', 'oocyte',  'pre_spermatogonia')\n",
    "\n",
    "# Order selected genes by cluster\n",
    "df_selected = lapply(CLofinterest, function(i)\n",
    "      subset(df_selected, cluster == i))\n",
    "df_selected = do.call(rbind, df_selected)\n",
    "\n",
    "TFofinterest = unique(df_selected$TF)       "
   ]
  },
  {
   "cell_type": "code",
   "execution_count": 12,
   "metadata": {
    "tags": []
   },
   "outputs": [
    {
     "data": {
      "text/html": [
       "80"
      ],
      "text/latex": [
       "80"
      ],
      "text/markdown": [
       "80"
      ],
      "text/plain": [
       "[1] 80"
      ]
     },
     "metadata": {},
     "output_type": "display_data"
    }
   ],
   "source": [
    "length(unique(TFofinterest))"
   ]
  },
  {
   "cell_type": "code",
   "execution_count": 13,
   "metadata": {},
   "outputs": [],
   "source": [
    "write.csv(df_selected, file = 'figures_germcells/human_relevantTFs_priotitized.csv', row.names=F)\n"
   ]
  },
  {
   "cell_type": "markdown",
   "metadata": {},
   "source": [
    "## as heatmaps"
   ]
  },
  {
   "cell_type": "code",
   "execution_count": 14,
   "metadata": {},
   "outputs": [
    {
     "data": {
      "text/html": [
       "<table class=\"dataframe\">\n",
       "<caption>A data.frame: 21 × 2</caption>\n",
       "<thead>\n",
       "\t<tr><th scope=col>colnames.df_selected.</th><th scope=col>X1.ncol.df_selected.</th></tr>\n",
       "\t<tr><th scope=col>&lt;chr&gt;</th><th scope=col>&lt;int&gt;</th></tr>\n",
       "</thead>\n",
       "<tbody>\n",
       "\t<tr><td>TF                      </td><td> 1</td></tr>\n",
       "\t<tr><td>cluster                 </td><td> 2</td></tr>\n",
       "\t<tr><td>N_agreement             </td><td> 3</td></tr>\n",
       "\t<tr><td>ID                      </td><td> 4</td></tr>\n",
       "\t<tr><td>ATAC_PWM                </td><td> 5</td></tr>\n",
       "\t<tr><td>gene                    </td><td> 6</td></tr>\n",
       "\t<tr><td>RNA_DEGs.p_val          </td><td> 7</td></tr>\n",
       "\t<tr><td>RNA_DEGs.avg_logFC      </td><td> 8</td></tr>\n",
       "\t<tr><td>RNA_DEGs.pct.1          </td><td> 9</td></tr>\n",
       "\t<tr><td>RNA_DEGs.pct.2          </td><td>10</td></tr>\n",
       "\t<tr><td>RNA_DEGs.p_val_adj      </td><td>11</td></tr>\n",
       "\t<tr><td>RNA_DEGs                </td><td>12</td></tr>\n",
       "\t<tr><td>RNA_TFact.p_val         </td><td>13</td></tr>\n",
       "\t<tr><td>RNA_TFact.avg_logFC     </td><td>14</td></tr>\n",
       "\t<tr><td>RNA_TFact.p_val_adj     </td><td>15</td></tr>\n",
       "\t<tr><td>RNA_TFact.Dorothea_score</td><td>16</td></tr>\n",
       "\t<tr><td>RNA_TFact               </td><td>17</td></tr>\n",
       "\t<tr><td>ATAC_TFact.p_val        </td><td>18</td></tr>\n",
       "\t<tr><td>ATAC_TFact.avg_logFC    </td><td>19</td></tr>\n",
       "\t<tr><td>ATAC_TFact.p_val_adj    </td><td>20</td></tr>\n",
       "\t<tr><td>ATAC_TFact              </td><td>21</td></tr>\n",
       "</tbody>\n",
       "</table>\n"
      ],
      "text/latex": [
       "A data.frame: 21 × 2\n",
       "\\begin{tabular}{ll}\n",
       " colnames.df\\_selected. & X1.ncol.df\\_selected.\\\\\n",
       " <chr> & <int>\\\\\n",
       "\\hline\n",
       "\t TF                       &  1\\\\\n",
       "\t cluster                  &  2\\\\\n",
       "\t N\\_agreement              &  3\\\\\n",
       "\t ID                       &  4\\\\\n",
       "\t ATAC\\_PWM                 &  5\\\\\n",
       "\t gene                     &  6\\\\\n",
       "\t RNA\\_DEGs.p\\_val           &  7\\\\\n",
       "\t RNA\\_DEGs.avg\\_logFC       &  8\\\\\n",
       "\t RNA\\_DEGs.pct.1           &  9\\\\\n",
       "\t RNA\\_DEGs.pct.2           & 10\\\\\n",
       "\t RNA\\_DEGs.p\\_val\\_adj       & 11\\\\\n",
       "\t RNA\\_DEGs                 & 12\\\\\n",
       "\t RNA\\_TFact.p\\_val          & 13\\\\\n",
       "\t RNA\\_TFact.avg\\_logFC      & 14\\\\\n",
       "\t RNA\\_TFact.p\\_val\\_adj      & 15\\\\\n",
       "\t RNA\\_TFact.Dorothea\\_score & 16\\\\\n",
       "\t RNA\\_TFact                & 17\\\\\n",
       "\t ATAC\\_TFact.p\\_val         & 18\\\\\n",
       "\t ATAC\\_TFact.avg\\_logFC     & 19\\\\\n",
       "\t ATAC\\_TFact.p\\_val\\_adj     & 20\\\\\n",
       "\t ATAC\\_TFact               & 21\\\\\n",
       "\\end{tabular}\n"
      ],
      "text/markdown": [
       "\n",
       "A data.frame: 21 × 2\n",
       "\n",
       "| colnames.df_selected. &lt;chr&gt; | X1.ncol.df_selected. &lt;int&gt; |\n",
       "|---|---|\n",
       "| TF                       |  1 |\n",
       "| cluster                  |  2 |\n",
       "| N_agreement              |  3 |\n",
       "| ID                       |  4 |\n",
       "| ATAC_PWM                 |  5 |\n",
       "| gene                     |  6 |\n",
       "| RNA_DEGs.p_val           |  7 |\n",
       "| RNA_DEGs.avg_logFC       |  8 |\n",
       "| RNA_DEGs.pct.1           |  9 |\n",
       "| RNA_DEGs.pct.2           | 10 |\n",
       "| RNA_DEGs.p_val_adj       | 11 |\n",
       "| RNA_DEGs                 | 12 |\n",
       "| RNA_TFact.p_val          | 13 |\n",
       "| RNA_TFact.avg_logFC      | 14 |\n",
       "| RNA_TFact.p_val_adj      | 15 |\n",
       "| RNA_TFact.Dorothea_score | 16 |\n",
       "| RNA_TFact                | 17 |\n",
       "| ATAC_TFact.p_val         | 18 |\n",
       "| ATAC_TFact.avg_logFC     | 19 |\n",
       "| ATAC_TFact.p_val_adj     | 20 |\n",
       "| ATAC_TFact               | 21 |\n",
       "\n"
      ],
      "text/plain": [
       "   colnames.df_selected.    X1.ncol.df_selected.\n",
       "1  TF                        1                  \n",
       "2  cluster                   2                  \n",
       "3  N_agreement               3                  \n",
       "4  ID                        4                  \n",
       "5  ATAC_PWM                  5                  \n",
       "6  gene                      6                  \n",
       "7  RNA_DEGs.p_val            7                  \n",
       "8  RNA_DEGs.avg_logFC        8                  \n",
       "9  RNA_DEGs.pct.1            9                  \n",
       "10 RNA_DEGs.pct.2           10                  \n",
       "11 RNA_DEGs.p_val_adj       11                  \n",
       "12 RNA_DEGs                 12                  \n",
       "13 RNA_TFact.p_val          13                  \n",
       "14 RNA_TFact.avg_logFC      14                  \n",
       "15 RNA_TFact.p_val_adj      15                  \n",
       "16 RNA_TFact.Dorothea_score 16                  \n",
       "17 RNA_TFact                17                  \n",
       "18 ATAC_TFact.p_val         18                  \n",
       "19 ATAC_TFact.avg_logFC     19                  \n",
       "20 ATAC_TFact.p_val_adj     20                  \n",
       "21 ATAC_TFact               21                  "
      ]
     },
     "metadata": {},
     "output_type": "display_data"
    }
   ],
   "source": [
    "data.frame(colnames(df_selected), 1:ncol(df_selected))"
   ]
  },
  {
   "cell_type": "code",
   "execution_count": 15,
   "metadata": {},
   "outputs": [],
   "source": [
    "load_RNAzscores = function(TFofinterest, df_selected, nonstrict = F){\n",
    "    # Load Expr matrix for heatmap ploting\n",
    "    x_Expre = read.csv('figures/data_utils/average_log.csv', stringsAsFactors = F, row.names = 1) %>% t(.)\n",
    "    rownames(x_Expre) = strsplit(rownames(x_Expre), '\\\\.') %>% sapply(., tail, 1)\n",
    "\n",
    "    x_Expre = x_Expre[ rownames(x_Expre) %in% CLofinterest ,  colnames(x_Expre) %in%  TFofinterest  ]\n",
    "    rn = rownames(x_Expre)\n",
    "    x_Expre = apply(x_Expre, 2, scale)\n",
    "    rownames(x_Expre) = rn\n",
    "\n",
    "    # Add labels\n",
    "    x_Expre_Lab = x_Expre\n",
    "    x_Expre_Lab[] = ''\n",
    "    for (i in rownames(x_Expre) )\n",
    "        for (j in colnames(x_Expre) ){\n",
    "            x = subset(df_selected, cluster == i & TF == j)\n",
    "            if( nrow(x) == 1 ){\n",
    "                if( x[3] > 1 & ! is.na(x[11]) ){\n",
    "                    if(x[3] == 3)\n",
    "                        x_Expre_Lab[i,j] = '*'\n",
    "                     if ( x[3] == 2 & x[12] == 1 ){\n",
    "                        if( ! is.na( x[20])) \n",
    "                            if(x[21] == 1)\n",
    "                             x_Expre_Lab[i,j] = 'o'\n",
    "                        if( ! is.na( x[15])) \n",
    "                            if(x[17] == 1 )\n",
    "                             x_Expre_Lab[i,j] = 'a'\n",
    "                        }\n",
    "                }\n",
    "                if ( nonstrict & x_Expre_Lab[i,j] == ''){\n",
    "                        if( ! is.na( x[20])) \n",
    "                            if(x[21] == 1)\n",
    "                             x_Expre_Lab[i,j] = 'o'\n",
    "                        if( ! is.na( x[15])) \n",
    "                            if(x[17] == 1 )\n",
    "                             x_Expre_Lab[i,j] = 'a'\n",
    "                 }\n",
    "            }\n",
    "        }\n",
    "        X = list(zscores = x_Expre, labels = x_Expre_Lab)        \n",
    "        return(X)\n",
    "}\n",
    "            \n",
    "            \n",
    "# Load TF act Dorothea matrix  for heatmap ploting\n",
    "x_TFact = read.csv('figures_germcells/TFact_percluster.csv', stringsAsFactors = F, row.names = 1)\n",
    "colnames(x_TFact) = strsplit(colnames(x_TFact), split = '\\\\.') %>% sapply(., head, 1)\n",
    "x_TFact = x_TFact[ rownames(x_TFact) %in% CLofinterest , colnames(x_TFact) %in%  TFofinterest ]\n",
    "rn = rownames(x_TFact)\n",
    "x_TFact = apply(x_TFact, 2, scale)\n",
    "rownames(x_TFact) = rn\n",
    "\n",
    "    \n",
    "# Load TFmotifs matrix  for heatmap ploting\n",
    "x_TFmotifs = read.csv('/nfs/team292/vl6/my_MULTIOME_dir/germcells_july2021/germcells__chromvar_celltype_zscore.csv', stringsAsFactors = F, row.names = 1)\n",
    "x_TFmotifs = x_TFmotifs[ rownames(x_TFmotifs) %in% CLofinterest , ]"
   ]
  },
  {
   "cell_type": "code",
   "execution_count": 16,
   "metadata": {},
   "outputs": [
    {
     "name": "stdout",
     "output_type": "stream",
     "text": [
      "[1] \"PGC\"               \"GC\"                \"oogonia_STRA8\"    \n",
      "[4] \"oogonia_meiotic\"   \"pre_oocyte\"        \"oocyte\"           \n",
      "[7] \"pre_spermatogonia\"\n",
      "[1]  7 80\n",
      "[1]  7 80\n"
     ]
    }
   ],
   "source": [
    "myHeatmap = function(X, TFs, cl, pdf_file, display_numbers = NULL){\n",
    "    print(cl)\n",
    "    tfs = intersect(TFs, colnames(X))\n",
    "    cls =  intersect(cl, rownames(X))\n",
    "    X = X[ cls,  tfs ]\n",
    "    print(dim(X))\n",
    "    \n",
    "    paletteLength <- 50\n",
    "    myColor <- colorRampPalette(c(brewer.pal(n = 5, name = 'Blues')[4], \"white\", brewer.pal(n = 5, name = 'Reds')[4]))(paletteLength)\n",
    "    # length(breaks) == length(paletteLength) + 1\n",
    "    # use floor and ceiling to deal with even/odd length pallettelengths\n",
    "    myBreaks <- c(seq(min(X), 0, length.out=ceiling(paletteLength/2) + 1), \n",
    "                  seq(max(X)/paletteLength, max(X), length.out=floor(paletteLength/2)))    \n",
    "    if( is.null(display_numbers) ){\n",
    "        pheatmap(X, cellheight = 10, cellwidth = 10, cluster_rows = F, cluster_cols = F, \n",
    "                 color=myColor, breaks=myBreaks,\n",
    "                filename = pdf_file)\n",
    "    }else{     \n",
    "        display_numbers = display_numbers[ cls,  tfs ]\n",
    "        print(dim(display_numbers))\n",
    "        pheatmap(t(X), cellheight = 10, cellwidth = 10, cluster_rows = F, cluster_cols = F, display_numbers = t(display_numbers), \n",
    "                 color=myColor, breaks=myBreaks,\n",
    "                filename = pdf_file)\n",
    "        }\n",
    "}\n",
    "RNAexpr = load_RNAzscores(TFofinterest, df_selected)\n",
    "myHeatmap(RNAexpr$zscores, TFofinterest, CLofinterest,  'figures_germcells/heatmap_human_relevantTFs_RNA_avgLog.pdf', display_numbers = RNAexpr$labels)"
   ]
  },
  {
   "cell_type": "markdown",
   "metadata": {},
   "source": [
    "# Plot CellSign TFs"
   ]
  },
  {
   "cell_type": "code",
   "execution_count": 17,
   "metadata": {},
   "outputs": [
    {
     "name": "stdout",
     "output_type": "stream",
     "text": [
      "[1] \"PGC\"             \"GC\"              \"oogonia_STRA8\"   \"oogonia_meiotic\"\n",
      "[5] \"pre_oocyte\"      \"oocyte\"         \n",
      "[1] 6 9\n",
      "[1] 6 9\n"
     ]
    }
   ],
   "source": [
    "# Add TFs from CellSign analysis\n",
    "cellsign_TFs = c('STAT3', \n",
    "                         'ZGLP1', 'RARA', 'RARB', 'ESR1',\n",
    "                         'STAT5B',\n",
    "                         'SMAD2', 'ESR2', 'OTX2', 'ESR2')\n",
    "RNAexpr = load_RNAzscores(cellsign_TFs, df, nonstrict = T)\n",
    "myHeatmap(RNAexpr$zscores, cellsign_TFs, CLofinterest[-length(CLofinterest)], 'figures_germcells/heatmap_human_TFsfromCellSign_RNA_avgLog.pdf', display_numbers = RNAexpr$labels)"
   ]
  },
  {
   "cell_type": "code",
   "execution_count": null,
   "metadata": {},
   "outputs": [],
   "source": []
  }
 ],
 "metadata": {
  "kernelspec": {
   "display_name": "R",
   "language": "R",
   "name": "ir"
  },
  "language_info": {
   "codemirror_mode": "r",
   "file_extension": ".r",
   "mimetype": "text/x-r-source",
   "name": "R",
   "pygments_lexer": "r",
   "version": "4.0.3"
  }
 },
 "nbformat": 4,
 "nbformat_minor": 4
}
