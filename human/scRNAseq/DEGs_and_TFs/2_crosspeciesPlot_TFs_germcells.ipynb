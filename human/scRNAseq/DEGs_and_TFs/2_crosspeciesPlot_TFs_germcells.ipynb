{
 "cells": [
  {
   "cell_type": "markdown",
   "metadata": {},
   "source": [
    "# Germ lineage HUMANs - TFs prioritization"
   ]
  },
  {
   "cell_type": "code",
   "execution_count": 1,
   "metadata": {},
   "outputs": [
    {
     "name": "stderr",
     "output_type": "stream",
     "text": [
      "\n",
      "Attaching package: ‘dplyr’\n",
      "\n",
      "\n",
      "The following objects are masked from ‘package:stats’:\n",
      "\n",
      "    filter, lag\n",
      "\n",
      "\n",
      "The following objects are masked from ‘package:base’:\n",
      "\n",
      "    intersect, setdiff, setequal, union\n",
      "\n",
      "\n"
     ]
    }
   ],
   "source": [
    "library(dplyr)\n",
    "library(RColorBrewer)\n",
    "library(ggplot2)\n",
    "library(pheatmap)\n",
    "library(cowplot)\n",
    "library(reshape2)"
   ]
  },
  {
   "cell_type": "code",
   "execution_count": 2,
   "metadata": {},
   "outputs": [
    {
     "data": {
      "text/plain": [
       "R version 4.0.3 (2020-10-10)\n",
       "Platform: x86_64-conda-linux-gnu (64-bit)\n",
       "Running under: Ubuntu 20.04.1 LTS\n",
       "\n",
       "Matrix products: default\n",
       "BLAS:   /home/jovyan/my-conda-envs/R_Seurat3/lib/libblas.so.3.8.0\n",
       "LAPACK: /home/jovyan/my-conda-envs/R_Seurat3/lib/liblapack.so.3.8.0\n",
       "\n",
       "locale:\n",
       " [1] LC_CTYPE=en_US.UTF-8       LC_NUMERIC=C              \n",
       " [3] LC_TIME=en_US.UTF-8        LC_COLLATE=en_US.UTF-8    \n",
       " [5] LC_MONETARY=en_US.UTF-8    LC_MESSAGES=en_US.UTF-8   \n",
       " [7] LC_PAPER=en_US.UTF-8       LC_NAME=C                 \n",
       " [9] LC_ADDRESS=C               LC_TELEPHONE=C            \n",
       "[11] LC_MEASUREMENT=en_US.UTF-8 LC_IDENTIFICATION=C       \n",
       "\n",
       "attached base packages:\n",
       "[1] stats     graphics  grDevices utils     datasets  methods   base     \n",
       "\n",
       "other attached packages:\n",
       "[1] reshape2_1.4.4     cowplot_1.1.1      pheatmap_1.0.12    ggplot2_3.3.3     \n",
       "[5] RColorBrewer_1.1-2 dplyr_1.0.5       \n",
       "\n",
       "loaded via a namespace (and not attached):\n",
       " [1] Rcpp_1.0.6          plyr_1.8.6          pillar_1.5.1       \n",
       " [4] compiler_4.0.3      base64enc_0.1-3     tools_4.0.3        \n",
       " [7] digest_0.6.27       uuid_0.1-4          jsonlite_1.7.2     \n",
       "[10] evaluate_0.14       lifecycle_1.0.0     tibble_3.1.0       \n",
       "[13] gtable_0.3.0        pkgconfig_2.0.3     rlang_0.4.10       \n",
       "[16] IRdisplay_1.0       DBI_1.1.1           IRkernel_1.1.1.9000\n",
       "[19] stringr_1.4.0       repr_1.1.3          withr_2.4.1        \n",
       "[22] generics_0.1.0      vctrs_0.3.6         grid_4.0.3         \n",
       "[25] tidyselect_1.1.0    glue_1.4.2          R6_2.5.0           \n",
       "[28] fansi_0.4.2         pbdZMQ_0.3-5        purrr_0.3.4        \n",
       "[31] magrittr_2.0.1      scales_1.1.1        ellipsis_0.3.1     \n",
       "[34] htmltools_0.5.1.1   assertthat_0.2.1    colorspace_2.0-0   \n",
       "[37] utf8_1.2.1          stringi_1.5.3       munsell_0.5.0      \n",
       "[40] crayon_1.4.1       "
      ]
     },
     "metadata": {},
     "output_type": "display_data"
    }
   ],
   "source": [
    "sessionInfo()"
   ]
  },
  {
   "cell_type": "code",
   "execution_count": 3,
   "metadata": {},
   "outputs": [],
   "source": [
    "path_to_gonads = '/nfs/team292/lg18/with_valentina/gonadsV2_revision/'"
   ]
  },
  {
   "cell_type": "markdown",
   "metadata": {},
   "source": [
    "# Load measurements\n",
    "## human TFs from multiomics integration"
   ]
  },
  {
   "cell_type": "code",
   "execution_count": 4,
   "metadata": {},
   "outputs": [
    {
     "data": {
      "text/html": [
       "<style>\n",
       ".list-inline {list-style: none; margin:0; padding: 0}\n",
       ".list-inline>li {display: inline-block}\n",
       ".list-inline>li:not(:last-child)::after {content: \"\\00b7\"; padding: 0 .5ex}\n",
       "</style>\n",
       "<ol class=list-inline><li>11451</li><li>21</li></ol>\n"
      ],
      "text/latex": [
       "\\begin{enumerate*}\n",
       "\\item 11451\n",
       "\\item 21\n",
       "\\end{enumerate*}\n"
      ],
      "text/markdown": [
       "1. 11451\n",
       "2. 21\n",
       "\n",
       "\n"
      ],
      "text/plain": [
       "[1] 11451    21"
      ]
     },
     "metadata": {},
     "output_type": "display_data"
    },
    {
     "data": {
      "text/html": [
       "1429"
      ],
      "text/latex": [
       "1429"
      ],
      "text/markdown": [
       "1429"
      ],
      "text/plain": [
       "[1] 1429"
      ]
     },
     "metadata": {},
     "output_type": "display_data"
    }
   ],
   "source": [
    "# Load TF activities computed with Dorothea\n",
    "HUMAN = read.csv('figures_germcells/human_TFs_measurements.csv', stringsAsFactors = F)\n",
    "HUMAN = subset(HUMAN, ! is.na(gene) )\n",
    "HUMAN$ID = paste0(HUMAN$cluster, '__', HUMAN$TF)\n",
    "dim(HUMAN)\n",
    "length(unique(HUMAN$gene))"
   ]
  },
  {
   "cell_type": "code",
   "execution_count": 5,
   "metadata": {},
   "outputs": [],
   "source": [
    "# Load TF activities computed with Dorothea\n",
    "HUMAN_prioritized = read.csv('figures_germcells/human_relevantTFs_priotitized.csv', stringsAsFactors = F)\n",
    "# HUMAN = subset(HUMAN, N_agreement > 1)\n",
    "HUMAN_prioritized$ID = paste0(HUMAN_prioritized$cluster, '__', HUMAN_prioritized$gene)"
   ]
  },
  {
   "cell_type": "markdown",
   "metadata": {},
   "source": [
    "## mouse"
   ]
  },
  {
   "cell_type": "code",
   "execution_count": 6,
   "metadata": {},
   "outputs": [
    {
     "data": {
      "text/html": [
       "<style>\n",
       ".list-inline {list-style: none; margin:0; padding: 0}\n",
       ".list-inline>li {display: inline-block}\n",
       ".list-inline>li:not(:last-child)::after {content: \"\\00b7\"; padding: 0 .5ex}\n",
       "</style>\n",
       "<ol class=list-inline><li>38741</li><li>9</li></ol>\n"
      ],
      "text/latex": [
       "\\begin{enumerate*}\n",
       "\\item 38741\n",
       "\\item 9\n",
       "\\end{enumerate*}\n"
      ],
      "text/markdown": [
       "1. 38741\n",
       "2. 9\n",
       "\n",
       "\n"
      ],
      "text/plain": [
       "[1] 38741     9"
      ]
     },
     "metadata": {},
     "output_type": "display_data"
    }
   ],
   "source": [
    "MOUSE = read.csv(paste0(path_to_gonads, 'mouse-gonads_germcells_DEGs.tsv'), stringsAsFactors = F, sep = '\\t')\n",
    "MOUSE$gene_mouse = MOUSE$gene\n",
    "MOUSE$mouse_DEG = 0\n",
    "MOUSE$mouse_DEG[ MOUSE$p_val_adj < 0.05 & MOUSE$avg_logFC > 0 ] = 1\n",
    "dim(MOUSE)\n",
    "\n",
    "\n",
    "# load orthologous\n",
    "orthologous = read.csv('/nfs/team292/vl6/Mouse_Niu2020/biomart_human_mouse_orthologs.tsv', stringsAsFactors = F, sep ='\\t')\n",
    "# Remove duplicates prioritizing gene match\n",
    "orthologous$match = (toupper(orthologous$Mouse.gene.name) == orthologous$Gene.name) * 1\n",
    "orthologous = orthologous[ order(orthologous$match, decreasing = T),  ]\n",
    "orthologous = orthologous[ ! duplicated(orthologous$Mouse.gene.name),  ]\n",
    "orthologous = orthologous[ ! duplicated(orthologous$Gene.name),  ]\n",
    "rownames(orthologous) = orthologous$Mouse.gene.name\n",
    "\n",
    "# Reannotate `gene` with orthologous\n",
    "MOUSE$gene = orthologous[ MOUSE$gene_mouse , ]$Gene.name\n",
    "MOUSE$gene[ is.na(MOUSE$gene) ] = toupper(MOUSE$gene_mouse[ is.na(MOUSE$gene) ])\n",
    "\n",
    "# Make id\n",
    "MOUSE$ID = paste0(MOUSE$cluster, '__', MOUSE$gene)"
   ]
  },
  {
   "cell_type": "markdown",
   "metadata": {},
   "source": [
    "## monkey"
   ]
  },
  {
   "cell_type": "code",
   "execution_count": 7,
   "metadata": {},
   "outputs": [
    {
     "data": {
      "text/html": [
       "<style>\n",
       ".list-inline {list-style: none; margin:0; padding: 0}\n",
       ".list-inline>li {display: inline-block}\n",
       ".list-inline>li:not(:last-child)::after {content: \"\\00b7\"; padding: 0 .5ex}\n",
       "</style>\n",
       "<ol class=list-inline><li>23367</li><li>9</li></ol>\n"
      ],
      "text/latex": [
       "\\begin{enumerate*}\n",
       "\\item 23367\n",
       "\\item 9\n",
       "\\end{enumerate*}\n"
      ],
      "text/markdown": [
       "1. 23367\n",
       "2. 9\n",
       "\n",
       "\n"
      ],
      "text/plain": [
       "[1] 23367     9"
      ]
     },
     "metadata": {},
     "output_type": "display_data"
    }
   ],
   "source": [
    "MONKEY = read.csv(paste0(path_to_gonads, 'monkey-gonads_germcells_DEGs.tsv'), stringsAsFactors = F, sep = '\\t')\n",
    "MONKEY$monkey_DEG = 0\n",
    "MONKEY$monkey_DEG[ MONKEY$p_val_adj < 0.05 & MONKEY$avg_logFC > 0 ] = 1\n",
    "MONKEY$ID = paste0(MONKEY$cluster, '__', MONKEY$gene)\n",
    "dim(MONKEY)"
   ]
  },
  {
   "cell_type": "markdown",
   "metadata": {},
   "source": [
    "### Check clusters are shared"
   ]
  },
  {
   "cell_type": "code",
   "execution_count": 8,
   "metadata": {},
   "outputs": [
    {
     "name": "stderr",
     "output_type": "stream",
     "text": [
      "different\n",
      "\n"
     ]
    },
    {
     "name": "stdout",
     "output_type": "stream",
     "text": [
      "[1] \"GC\"                \"pre_spermatogonia\" \"GC_mitotic\"       \n"
     ]
    },
    {
     "name": "stderr",
     "output_type": "stream",
     "text": [
      "shared\n",
      "\n"
     ]
    },
    {
     "name": "stdout",
     "output_type": "stream",
     "text": [
      "[1] \"oocyte\"          \"oogonia_meiotic\" \"oogonia_STRA8\"   \"PGC\"            \n",
      "[5] \"pre_oocyte\"     \n"
     ]
    }
   ],
   "source": [
    "shared = Reduce(intersect, list(MOUSE$cluster, HUMAN$cluster, MONKEY$cluster) )\n",
    "message('different')\n",
    "print(setdiff(HUMAN$cluster, shared ))\n",
    "message('shared')\n",
    "print(intersect(HUMAN$cluster, shared ))"
   ]
  },
  {
   "cell_type": "markdown",
   "metadata": {},
   "source": [
    "# Merge into a dataframe"
   ]
  },
  {
   "cell_type": "code",
   "execution_count": 9,
   "metadata": {},
   "outputs": [],
   "source": [
    "# add prefix to column names to identify origin\n",
    "names(MOUSE)[c(1:5)] = paste0('mouse.', names(MOUSE)[c(1:5)])\n",
    "names(MONKEY)[c(1:5)] = paste0('monkey', names(MONKEY)[c(1:5)])"
   ]
  },
  {
   "cell_type": "code",
   "execution_count": 10,
   "metadata": {},
   "outputs": [
    {
     "data": {
      "text/html": [
       "1429"
      ],
      "text/latex": [
       "1429"
      ],
      "text/markdown": [
       "1429"
      ],
      "text/plain": [
       "[1] 1429"
      ]
     },
     "metadata": {},
     "output_type": "display_data"
    },
    {
     "data": {
      "text/html": [
       "1429"
      ],
      "text/latex": [
       "1429"
      ],
      "text/markdown": [
       "1429"
      ],
      "text/plain": [
       "[1] 1429"
      ]
     },
     "metadata": {},
     "output_type": "display_data"
    },
    {
     "data": {
      "text/html": [
       "1429"
      ],
      "text/latex": [
       "1429"
      ],
      "text/markdown": [
       "1429"
      ],
      "text/plain": [
       "[1] 1429"
      ]
     },
     "metadata": {},
     "output_type": "display_data"
    }
   ],
   "source": [
    "# HUMAN = subset(HUMAN, gene %in% c(MOUSE$gene, MONKEY$gene) )\n",
    "MOUSE = subset(MOUSE, gene %in% c(HUMAN$gene) )\n",
    "MONKEY = subset(MONKEY, gene %in% c(HUMAN$gene) )\n",
    "length(unique(HUMAN$gene))\n",
    "\n",
    "# merge RNA measurements\n",
    "df = merge(HUMAN, MOUSE, by = 'ID', all = T)\n",
    "df = df[, grep('y$', names(df), invert = T) ] # remove unwanted columns\n",
    "colnames(df) = gsub('.x$', '', colnames(df))\n",
    "length(unique(df$gene))\n",
    "\n",
    "# merge RNA measurements\n",
    "df = merge(df, MONKEY, by = 'ID', all = T)\n",
    "df = df[, grep('y$', names(df), invert = T) ] # remove unwanted columns\n",
    "colnames(df) = gsub('.x$', '', colnames(df))\n",
    "length(unique(df$gene))"
   ]
  },
  {
   "cell_type": "markdown",
   "metadata": {},
   "source": [
    "## format and save table"
   ]
  },
  {
   "cell_type": "code",
   "execution_count": 11,
   "metadata": {},
   "outputs": [
    {
     "data": {
      "text/html": [
       "1429"
      ],
      "text/latex": [
       "1429"
      ],
      "text/markdown": [
       "1429"
      ],
      "text/plain": [
       "[1] 1429"
      ]
     },
     "metadata": {},
     "output_type": "display_data"
    }
   ],
   "source": [
    "df = subset(df, ! is.na(N_agreement) )\n",
    "df$mouse_DEG[ is.na(df$mouse_DEG) ] = 0\n",
    "df$monkey_DEG[ is.na(df$monkey_DEG) ] = 0\n",
    "df$N_agreement_species = df$mouse_DEG + df$monkey_DEG\n",
    "# df = subset(df, N_agreement_species > 0 )\n",
    "length(unique(df$gene))"
   ]
  },
  {
   "cell_type": "code",
   "execution_count": 12,
   "metadata": {},
   "outputs": [],
   "source": [
    "# reorganize columns\n",
    "coln = c('TF', 'cluster', 'N_agreement', 'ID')\n",
    "df = df[ , c(coln, setdiff(colnames(df), coln) ) ]\n",
    "\n",
    "# order by agreement\n",
    "df = df[ order(df$N_agreement, decreasing = T) , ]"
   ]
  },
  {
   "cell_type": "code",
   "execution_count": 13,
   "metadata": {},
   "outputs": [
    {
     "data": {
      "text/html": [
       "1429"
      ],
      "text/latex": [
       "1429"
      ],
      "text/markdown": [
       "1429"
      ],
      "text/plain": [
       "[1] 1429"
      ]
     },
     "metadata": {},
     "output_type": "display_data"
    }
   ],
   "source": [
    "length(unique(df$gene))"
   ]
  },
  {
   "cell_type": "code",
   "execution_count": 14,
   "metadata": {},
   "outputs": [],
   "source": [
    "# save\n",
    "write.csv(df, file = 'figures_germcells/crosspecie_TF_measurements.csv', row.names=F)"
   ]
  },
  {
   "cell_type": "code",
   "execution_count": 15,
   "metadata": {},
   "outputs": [
    {
     "data": {
      "text/html": [
       "<table class=\"dataframe\">\n",
       "<caption>A data.frame: 8 × 35</caption>\n",
       "<thead>\n",
       "\t<tr><th></th><th scope=col>TF</th><th scope=col>cluster</th><th scope=col>N_agreement</th><th scope=col>ID</th><th scope=col>ATAC_PWM</th><th scope=col>gene</th><th scope=col>RNA_DEGs.p_val</th><th scope=col>RNA_DEGs.avg_logFC</th><th scope=col>RNA_DEGs.pct.1</th><th scope=col>RNA_DEGs.pct.2</th><th scope=col>⋯</th><th scope=col>mouse.p_val_adj</th><th scope=col>gene_mouse</th><th scope=col>mouse_DEG</th><th scope=col>monkeyp_val</th><th scope=col>monkeyavg_logFC</th><th scope=col>monkeypct.1</th><th scope=col>monkeypct.2</th><th scope=col>monkeyp_val_adj</th><th scope=col>monkey_DEG</th><th scope=col>N_agreement_species</th></tr>\n",
       "\t<tr><th></th><th scope=col>&lt;chr&gt;</th><th scope=col>&lt;chr&gt;</th><th scope=col>&lt;int&gt;</th><th scope=col>&lt;chr&gt;</th><th scope=col>&lt;chr&gt;</th><th scope=col>&lt;chr&gt;</th><th scope=col>&lt;dbl&gt;</th><th scope=col>&lt;dbl&gt;</th><th scope=col>&lt;dbl&gt;</th><th scope=col>&lt;dbl&gt;</th><th scope=col>⋯</th><th scope=col>&lt;dbl&gt;</th><th scope=col>&lt;chr&gt;</th><th scope=col>&lt;dbl&gt;</th><th scope=col>&lt;dbl&gt;</th><th scope=col>&lt;dbl&gt;</th><th scope=col>&lt;dbl&gt;</th><th scope=col>&lt;dbl&gt;</th><th scope=col>&lt;dbl&gt;</th><th scope=col>&lt;dbl&gt;</th><th scope=col>&lt;dbl&gt;</th></tr>\n",
       "</thead>\n",
       "<tbody>\n",
       "\t<tr><th scope=row>10374</th><td>ID4</td><td>pre_spermatogonia</td><td>3</td><td>pre_spermatogonia__ID4</td><td>ID4.SwissRegulon.6</td><td>ID4</td><td>7.858912e-75</td><td>0.72091062</td><td>0.812</td><td>0.398</td><td>⋯</td><td>          NA</td><td>NA </td><td>0</td><td>         NA</td><td>        NA</td><td>   NA</td><td>   NA</td><td>NA</td><td>0</td><td>0</td></tr>\n",
       "\t<tr><th scope=row>3195</th><td>ID4</td><td>oocyte           </td><td>2</td><td>oocyte__ID4           </td><td>ID4.MA0824.1.5    </td><td>ID4</td><td>          NA</td><td>0.00000000</td><td>   NA</td><td>   NA</td><td>⋯</td><td>          NA</td><td>NA </td><td>0</td><td>0.628283583</td><td>0.01008425</td><td>0.088</td><td>0.105</td><td> 1</td><td>0</td><td>0</td></tr>\n",
       "\t<tr><th scope=row>354</th><td>ID4</td><td>GC               </td><td>1</td><td>GC__ID4               </td><td>ID4.SwissRegulon.1</td><td>ID4</td><td>1.362251e-09</td><td>0.21378466</td><td>0.600</td><td>0.429</td><td>⋯</td><td>          NA</td><td>NA </td><td>0</td><td>         NA</td><td>        NA</td><td>   NA</td><td>   NA</td><td>NA</td><td>0</td><td>0</td></tr>\n",
       "\t<tr><th scope=row>4630</th><td>ID4</td><td>oogonia_meiotic  </td><td>1</td><td>oogonia_meiotic__ID4  </td><td>ID4.SwissRegulon.3</td><td>ID4</td><td>          NA</td><td>0.00000000</td><td>   NA</td><td>   NA</td><td>⋯</td><td>          NA</td><td>NA </td><td>0</td><td>         NA</td><td>        NA</td><td>   NA</td><td>   NA</td><td>NA</td><td>0</td><td>0</td></tr>\n",
       "\t<tr><th scope=row>8938</th><td>ID4</td><td>pre_oocyte       </td><td>1</td><td>pre_oocyte__ID4       </td><td>ID4.SwissRegulon.4</td><td>ID4</td><td>          NA</td><td>0.00000000</td><td>   NA</td><td>   NA</td><td>⋯</td><td>1.991178e-42</td><td>Id4</td><td>1</td><td>0.003078191</td><td>0.22306552</td><td>0.169</td><td>0.084</td><td> 1</td><td>0</td><td>1</td></tr>\n",
       "\t<tr><th scope=row>1776</th><td>ID4</td><td>GC_mitotic       </td><td>0</td><td>GC_mitotic__ID4       </td><td>NA                </td><td>ID4</td><td>8.585621e-06</td><td>0.06223148</td><td>0.622</td><td>0.425</td><td>⋯</td><td>          NA</td><td>NA </td><td>0</td><td>         NA</td><td>        NA</td><td>   NA</td><td>   NA</td><td>NA</td><td>0</td><td>0</td></tr>\n",
       "\t<tr><th scope=row>6067</th><td>ID4</td><td>oogonia_STRA8    </td><td>0</td><td>oogonia_STRA8__ID4    </td><td>ID4.SwissRegulon.2</td><td>ID4</td><td>          NA</td><td>0.00000000</td><td>   NA</td><td>   NA</td><td>⋯</td><td>          NA</td><td>NA </td><td>0</td><td>         NA</td><td>        NA</td><td>   NA</td><td>   NA</td><td>NA</td><td>0</td><td>0</td></tr>\n",
       "\t<tr><th scope=row>7503</th><td>ID4</td><td>PGC              </td><td>0</td><td>PGC__ID4              </td><td>ID4-HUMAN.H10MO.D </td><td>ID4</td><td>3.293004e-07</td><td>0.09836821</td><td>0.628</td><td>0.425</td><td>⋯</td><td>          NA</td><td>NA </td><td>0</td><td>         NA</td><td>        NA</td><td>   NA</td><td>   NA</td><td>NA</td><td>0</td><td>0</td></tr>\n",
       "</tbody>\n",
       "</table>\n"
      ],
      "text/latex": [
       "A data.frame: 8 × 35\n",
       "\\begin{tabular}{r|lllllllllllllllllllll}\n",
       "  & TF & cluster & N\\_agreement & ID & ATAC\\_PWM & gene & RNA\\_DEGs.p\\_val & RNA\\_DEGs.avg\\_logFC & RNA\\_DEGs.pct.1 & RNA\\_DEGs.pct.2 & ⋯ & mouse.p\\_val\\_adj & gene\\_mouse & mouse\\_DEG & monkeyp\\_val & monkeyavg\\_logFC & monkeypct.1 & monkeypct.2 & monkeyp\\_val\\_adj & monkey\\_DEG & N\\_agreement\\_species\\\\\n",
       "  & <chr> & <chr> & <int> & <chr> & <chr> & <chr> & <dbl> & <dbl> & <dbl> & <dbl> & ⋯ & <dbl> & <chr> & <dbl> & <dbl> & <dbl> & <dbl> & <dbl> & <dbl> & <dbl> & <dbl>\\\\\n",
       "\\hline\n",
       "\t10374 & ID4 & pre\\_spermatogonia & 3 & pre\\_spermatogonia\\_\\_ID4 & ID4.SwissRegulon.6 & ID4 & 7.858912e-75 & 0.72091062 & 0.812 & 0.398 & ⋯ &           NA & NA  & 0 &          NA &         NA &    NA &    NA & NA & 0 & 0\\\\\n",
       "\t3195 & ID4 & oocyte            & 2 & oocyte\\_\\_ID4            & ID4.MA0824.1.5     & ID4 &           NA & 0.00000000 &    NA &    NA & ⋯ &           NA & NA  & 0 & 0.628283583 & 0.01008425 & 0.088 & 0.105 &  1 & 0 & 0\\\\\n",
       "\t354 & ID4 & GC                & 1 & GC\\_\\_ID4                & ID4.SwissRegulon.1 & ID4 & 1.362251e-09 & 0.21378466 & 0.600 & 0.429 & ⋯ &           NA & NA  & 0 &          NA &         NA &    NA &    NA & NA & 0 & 0\\\\\n",
       "\t4630 & ID4 & oogonia\\_meiotic   & 1 & oogonia\\_meiotic\\_\\_ID4   & ID4.SwissRegulon.3 & ID4 &           NA & 0.00000000 &    NA &    NA & ⋯ &           NA & NA  & 0 &          NA &         NA &    NA &    NA & NA & 0 & 0\\\\\n",
       "\t8938 & ID4 & pre\\_oocyte        & 1 & pre\\_oocyte\\_\\_ID4        & ID4.SwissRegulon.4 & ID4 &           NA & 0.00000000 &    NA &    NA & ⋯ & 1.991178e-42 & Id4 & 1 & 0.003078191 & 0.22306552 & 0.169 & 0.084 &  1 & 0 & 1\\\\\n",
       "\t1776 & ID4 & GC\\_mitotic        & 0 & GC\\_mitotic\\_\\_ID4        & NA                 & ID4 & 8.585621e-06 & 0.06223148 & 0.622 & 0.425 & ⋯ &           NA & NA  & 0 &          NA &         NA &    NA &    NA & NA & 0 & 0\\\\\n",
       "\t6067 & ID4 & oogonia\\_STRA8     & 0 & oogonia\\_STRA8\\_\\_ID4     & ID4.SwissRegulon.2 & ID4 &           NA & 0.00000000 &    NA &    NA & ⋯ &           NA & NA  & 0 &          NA &         NA &    NA &    NA & NA & 0 & 0\\\\\n",
       "\t7503 & ID4 & PGC               & 0 & PGC\\_\\_ID4               & ID4-HUMAN.H10MO.D  & ID4 & 3.293004e-07 & 0.09836821 & 0.628 & 0.425 & ⋯ &           NA & NA  & 0 &          NA &         NA &    NA &    NA & NA & 0 & 0\\\\\n",
       "\\end{tabular}\n"
      ],
      "text/markdown": [
       "\n",
       "A data.frame: 8 × 35\n",
       "\n",
       "| <!--/--> | TF &lt;chr&gt; | cluster &lt;chr&gt; | N_agreement &lt;int&gt; | ID &lt;chr&gt; | ATAC_PWM &lt;chr&gt; | gene &lt;chr&gt; | RNA_DEGs.p_val &lt;dbl&gt; | RNA_DEGs.avg_logFC &lt;dbl&gt; | RNA_DEGs.pct.1 &lt;dbl&gt; | RNA_DEGs.pct.2 &lt;dbl&gt; | ⋯ ⋯ | mouse.p_val_adj &lt;dbl&gt; | gene_mouse &lt;chr&gt; | mouse_DEG &lt;dbl&gt; | monkeyp_val &lt;dbl&gt; | monkeyavg_logFC &lt;dbl&gt; | monkeypct.1 &lt;dbl&gt; | monkeypct.2 &lt;dbl&gt; | monkeyp_val_adj &lt;dbl&gt; | monkey_DEG &lt;dbl&gt; | N_agreement_species &lt;dbl&gt; |\n",
       "|---|---|---|---|---|---|---|---|---|---|---|---|---|---|---|---|---|---|---|---|---|---|\n",
       "| 10374 | ID4 | pre_spermatogonia | 3 | pre_spermatogonia__ID4 | ID4.SwissRegulon.6 | ID4 | 7.858912e-75 | 0.72091062 | 0.812 | 0.398 | ⋯ |           NA | NA  | 0 |          NA |         NA |    NA |    NA | NA | 0 | 0 |\n",
       "| 3195 | ID4 | oocyte            | 2 | oocyte__ID4            | ID4.MA0824.1.5     | ID4 |           NA | 0.00000000 |    NA |    NA | ⋯ |           NA | NA  | 0 | 0.628283583 | 0.01008425 | 0.088 | 0.105 |  1 | 0 | 0 |\n",
       "| 354 | ID4 | GC                | 1 | GC__ID4                | ID4.SwissRegulon.1 | ID4 | 1.362251e-09 | 0.21378466 | 0.600 | 0.429 | ⋯ |           NA | NA  | 0 |          NA |         NA |    NA |    NA | NA | 0 | 0 |\n",
       "| 4630 | ID4 | oogonia_meiotic   | 1 | oogonia_meiotic__ID4   | ID4.SwissRegulon.3 | ID4 |           NA | 0.00000000 |    NA |    NA | ⋯ |           NA | NA  | 0 |          NA |         NA |    NA |    NA | NA | 0 | 0 |\n",
       "| 8938 | ID4 | pre_oocyte        | 1 | pre_oocyte__ID4        | ID4.SwissRegulon.4 | ID4 |           NA | 0.00000000 |    NA |    NA | ⋯ | 1.991178e-42 | Id4 | 1 | 0.003078191 | 0.22306552 | 0.169 | 0.084 |  1 | 0 | 1 |\n",
       "| 1776 | ID4 | GC_mitotic        | 0 | GC_mitotic__ID4        | NA                 | ID4 | 8.585621e-06 | 0.06223148 | 0.622 | 0.425 | ⋯ |           NA | NA  | 0 |          NA |         NA |    NA |    NA | NA | 0 | 0 |\n",
       "| 6067 | ID4 | oogonia_STRA8     | 0 | oogonia_STRA8__ID4     | ID4.SwissRegulon.2 | ID4 |           NA | 0.00000000 |    NA |    NA | ⋯ |           NA | NA  | 0 |          NA |         NA |    NA |    NA | NA | 0 | 0 |\n",
       "| 7503 | ID4 | PGC               | 0 | PGC__ID4               | ID4-HUMAN.H10MO.D  | ID4 | 3.293004e-07 | 0.09836821 | 0.628 | 0.425 | ⋯ |           NA | NA  | 0 |          NA |         NA |    NA |    NA | NA | 0 | 0 |\n",
       "\n"
      ],
      "text/plain": [
       "      TF  cluster           N_agreement ID                    \n",
       "10374 ID4 pre_spermatogonia 3           pre_spermatogonia__ID4\n",
       "3195  ID4 oocyte            2           oocyte__ID4           \n",
       "354   ID4 GC                1           GC__ID4               \n",
       "4630  ID4 oogonia_meiotic   1           oogonia_meiotic__ID4  \n",
       "8938  ID4 pre_oocyte        1           pre_oocyte__ID4       \n",
       "1776  ID4 GC_mitotic        0           GC_mitotic__ID4       \n",
       "6067  ID4 oogonia_STRA8     0           oogonia_STRA8__ID4    \n",
       "7503  ID4 PGC               0           PGC__ID4              \n",
       "      ATAC_PWM           gene RNA_DEGs.p_val RNA_DEGs.avg_logFC RNA_DEGs.pct.1\n",
       "10374 ID4.SwissRegulon.6 ID4  7.858912e-75   0.72091062         0.812         \n",
       "3195  ID4.MA0824.1.5     ID4            NA   0.00000000            NA         \n",
       "354   ID4.SwissRegulon.1 ID4  1.362251e-09   0.21378466         0.600         \n",
       "4630  ID4.SwissRegulon.3 ID4            NA   0.00000000            NA         \n",
       "8938  ID4.SwissRegulon.4 ID4            NA   0.00000000            NA         \n",
       "1776  NA                 ID4  8.585621e-06   0.06223148         0.622         \n",
       "6067  ID4.SwissRegulon.2 ID4            NA   0.00000000            NA         \n",
       "7503  ID4-HUMAN.H10MO.D  ID4  3.293004e-07   0.09836821         0.628         \n",
       "      RNA_DEGs.pct.2 ⋯ mouse.p_val_adj gene_mouse mouse_DEG monkeyp_val\n",
       "10374 0.398          ⋯           NA    NA         0                  NA\n",
       "3195     NA          ⋯           NA    NA         0         0.628283583\n",
       "354   0.429          ⋯           NA    NA         0                  NA\n",
       "4630     NA          ⋯           NA    NA         0                  NA\n",
       "8938     NA          ⋯ 1.991178e-42    Id4        1         0.003078191\n",
       "1776  0.425          ⋯           NA    NA         0                  NA\n",
       "6067     NA          ⋯           NA    NA         0                  NA\n",
       "7503  0.425          ⋯           NA    NA         0                  NA\n",
       "      monkeyavg_logFC monkeypct.1 monkeypct.2 monkeyp_val_adj monkey_DEG\n",
       "10374         NA         NA          NA       NA              0         \n",
       "3195  0.01008425      0.088       0.105        1              0         \n",
       "354           NA         NA          NA       NA              0         \n",
       "4630          NA         NA          NA       NA              0         \n",
       "8938  0.22306552      0.169       0.084        1              0         \n",
       "1776          NA         NA          NA       NA              0         \n",
       "6067          NA         NA          NA       NA              0         \n",
       "7503          NA         NA          NA       NA              0         \n",
       "      N_agreement_species\n",
       "10374 0                  \n",
       "3195  0                  \n",
       "354   0                  \n",
       "4630  0                  \n",
       "8938  1                  \n",
       "1776  0                  \n",
       "6067  0                  \n",
       "7503  0                  "
      ]
     },
     "metadata": {},
     "output_type": "display_data"
    }
   ],
   "source": [
    "subset(df, gene == 'ID4')"
   ]
  },
  {
   "cell_type": "markdown",
   "metadata": {},
   "source": [
    "## Plot heatmap summary for selected human TFs"
   ]
  },
  {
   "cell_type": "code",
   "execution_count": 16,
   "metadata": {},
   "outputs": [],
   "source": [
    "selectedTF_df = subset(df, ID %in% HUMAN_prioritized$ID )"
   ]
  },
  {
   "cell_type": "code",
   "execution_count": 17,
   "metadata": {},
   "outputs": [],
   "source": [
    "cluster_order = c('PGC', 'GC', 'oogonia_STRA8', 'oogonia_meiotic', 'pre_oocyte', 'oocyte',  'pre_spermatogonia')\n",
    "selectedTF_df = selectedTF_df[ order(selectedTF_df$gene) , ]\n",
    "sorted_tfs = lapply(cluster_order, function(i)\n",
    "      subset(selectedTF_df, cluster == i))\n",
    "sorted_tfs = do.call(rbind, sorted_tfs)"
   ]
  },
  {
   "cell_type": "code",
   "execution_count": 18,
   "metadata": {},
   "outputs": [],
   "source": [
    "# save\n",
    "write.csv(sorted_tfs, file = 'figures_germcells/crosspecie_TF_measurements_humanTFs.csv', row.names=F)"
   ]
  },
  {
   "cell_type": "code",
   "execution_count": 19,
   "metadata": {},
   "outputs": [],
   "source": [
    "sorted_tfs = sorted_tfs[, c('gene', 'ID', 'N_agreement', 'monkey_DEG', 'mouse_DEG', 'N_agreement_species') ]\n",
    "sorted_tfs = sorted_tfs[! duplicated(sorted_tfs$gene), ]\n",
    "rownames(sorted_tfs) = sorted_tfs$gene"
   ]
  },
  {
   "cell_type": "code",
   "execution_count": 20,
   "metadata": {},
   "outputs": [
    {
     "data": {
      "text/html": [
       "80"
      ],
      "text/latex": [
       "80"
      ],
      "text/markdown": [
       "80"
      ],
      "text/plain": [
       "[1] 80"
      ]
     },
     "metadata": {},
     "output_type": "display_data"
    }
   ],
   "source": [
    "length(unique(sorted_tfs$gene))"
   ]
  },
  {
   "cell_type": "code",
   "execution_count": 21,
   "metadata": {},
   "outputs": [],
   "source": [
    "xx = sorted_tfs[,c('N_agreement', 'monkey_DEG', 'mouse_DEG')]"
   ]
  },
  {
   "cell_type": "code",
   "execution_count": 22,
   "metadata": {},
   "outputs": [],
   "source": [
    "paletteLength <- 50\n",
    "myColor <- colorRampPalette(c(\"white\", brewer.pal(n = 5, name = 'Reds')[2]))(paletteLength)\n",
    "xx[ xx[,1] > 0 ,1]= 1\n",
    "sym = xx\n",
    "sym[] = ''\n",
    "sym[ xx > 0 ] = '*'\n",
    "pheatmap(xx, cellheight = 10, cellwidth = 10, cluster_rows = F, cluster_cols = F, display_numbers = sym, color=myColor, \n",
    "        filename = 'figures_germcells/human_relevanTFs_crosspecie_summary.pdf')"
   ]
  },
  {
   "cell_type": "markdown",
   "metadata": {},
   "source": [
    "## Plot heatmap summary for non selected human TFs that are conserved"
   ]
  },
  {
   "cell_type": "code",
   "execution_count": 23,
   "metadata": {},
   "outputs": [],
   "source": [
    "selectedTF_df = subset(df, ! ID %in% HUMAN_prioritized$ID )"
   ]
  },
  {
   "cell_type": "code",
   "execution_count": 24,
   "metadata": {},
   "outputs": [],
   "source": [
    "selectedTF_df1 = subset(selectedTF_df, N_agreement > 1 & N_agreement_species  > 0)\n",
    "selectedTF_df2 = subset(selectedTF_df, RNA_DEGs > 0 & N_agreement_species == 2)\n",
    "selectedTF_df = unique(rbind(selectedTF_df1, selectedTF_df2))"
   ]
  },
  {
   "cell_type": "code",
   "execution_count": 25,
   "metadata": {},
   "outputs": [],
   "source": [
    "cluster_order = c('PGC', 'GC', 'oogonia_STRA8', 'oogonia_meiotic', 'pre_oocyte', 'oocyte',  'pre_spermatogonia')\n",
    "selectedTF_df = selectedTF_df[ order(selectedTF_df$gene) , ]\n",
    "sorted_tfs = lapply(cluster_order, function(i)\n",
    "      subset(selectedTF_df, cluster == i))\n",
    "sorted_tfs = do.call(rbind, sorted_tfs)"
   ]
  },
  {
   "cell_type": "code",
   "execution_count": 26,
   "metadata": {},
   "outputs": [],
   "source": [
    "# save\n",
    "write.csv(sorted_tfs, file = 'figures_germcells/crosspecie_TF_measurements_otherconservedTFs.csv', row.names=F)"
   ]
  },
  {
   "cell_type": "code",
   "execution_count": 27,
   "metadata": {},
   "outputs": [],
   "source": [
    "sorted_tfs = sorted_tfs[, c('gene', 'ID', 'N_agreement', 'monkey_DEG', 'mouse_DEG', 'N_agreement_species') ]\n",
    "sorted_tfs = sorted_tfs[! duplicated(sorted_tfs$gene), ]\n",
    "rownames(sorted_tfs) = sorted_tfs$gene"
   ]
  },
  {
   "cell_type": "code",
   "execution_count": 28,
   "metadata": {},
   "outputs": [],
   "source": [
    "xx = sorted_tfs[,c('N_agreement', 'monkey_DEG', 'mouse_DEG')]"
   ]
  },
  {
   "cell_type": "code",
   "execution_count": 29,
   "metadata": {},
   "outputs": [],
   "source": [
    "paletteLength <- 50\n",
    "myColor <- colorRampPalette(c(\"white\", brewer.pal(n = 5, name = 'Reds')[2]))(paletteLength)\n",
    "xx[ xx[,1] > 0 ,1]= 1\n",
    "sym = xx\n",
    "sym[] = ''\n",
    "sym[ xx > 0 ] = '*'\n",
    "pheatmap(xx, cellheight = 10, cellwidth = 10, cluster_rows = F, cluster_cols = F, display_numbers = sym, color=myColor, \n",
    "        filename = 'figures_germcells/otherconservedTFs_crosspecie_summary.pdf')"
   ]
  },
  {
   "cell_type": "code",
   "execution_count": null,
   "metadata": {},
   "outputs": [],
   "source": []
  }
 ],
 "metadata": {
  "kernelspec": {
   "display_name": "R",
   "language": "R",
   "name": "ir"
  },
  "language_info": {
   "codemirror_mode": "r",
   "file_extension": ".r",
   "mimetype": "text/x-r-source",
   "name": "R",
   "pygments_lexer": "r",
   "version": "4.0.3"
  }
 },
 "nbformat": 4,
 "nbformat_minor": 4
}
