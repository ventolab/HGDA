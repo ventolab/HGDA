{
 "cells": [
  {
   "cell_type": "markdown",
   "id": "pursuant-upgrade",
   "metadata": {},
   "source": [
    "# CellSign - GRANULOSA-GERM cells"
   ]
  },
  {
   "cell_type": "code",
   "execution_count": 1,
   "id": "swedish-receiver",
   "metadata": {},
   "outputs": [
    {
     "name": "stderr",
     "output_type": "stream",
     "text": [
      "\n",
      "Attaching package: ‘dplyr’\n",
      "\n",
      "\n",
      "The following objects are masked from ‘package:stats’:\n",
      "\n",
      "    filter, lag\n",
      "\n",
      "\n",
      "The following objects are masked from ‘package:base’:\n",
      "\n",
      "    intersect, setdiff, setequal, union\n",
      "\n",
      "\n"
     ]
    }
   ],
   "source": [
    "library(dplyr)\n",
    "library(RColorBrewer)\n",
    "library(ggplot2)\n",
    "library(pheatmap)\n",
    "library(cowplot)\n",
    "library(reshape2)\n",
    "# library(plyr)\n",
    "\n",
    "R2TF_df = read.csv('~/gonads/human_v2/cellphoneDB/database/R2TF_interactions_curated.csv', stringsAsFactors = F, sep=',')\n",
    "R2TF = lapply(unique(R2TF_df$receptor_symbol_a), function(re) subset(R2TF_df, receptor_symbol_a==re)$TF_symbol_a )\n",
    "names(R2TF) = unique(R2TF_df$receptor_symbol_a)\n",
    "CellSign_TFs = unlist(R2TF) %>% unique(.)\n",
    "              \n",
    "              \n",
    "extract_relevant_cell2receptor = function(result){\n",
    "    \n",
    "    # simplify names to match TF database\n",
    "    result$name_a = result$gene_a\n",
    "    result$name_a[ grep('complex', result$partner_a) ] = gsub('complex:', '', result$partner_a[ grep('complex', result$partner_a) ])\n",
    "\n",
    "    result$name_b = result$gene_b\n",
    "    result$name_b[ grep('complex', result$partner_b) ] = gsub('complex:', '', result$partner_b[ grep('complex', result$partner_b) ])\n",
    "\n",
    "    \n",
    "    # filte rinteractions containing such receptors\n",
    "    result = subset(result,  name_a %in% names(R2TF) | name_b %in% names(R2TF))\n",
    "    \n",
    "    \n",
    "    # partner - A\n",
    "    result_a = subset(result,  name_a %in% names(R2TF) )[ , grep('\\\\.\\\\.\\\\.', colnames(result) ) ]\n",
    "    receptors_a = subset(result,  name_a %in% names(R2TF) )$name_a\n",
    "    result_a = result_a[ , colSums(result_a) > 0 ]\n",
    "\n",
    "\n",
    "\n",
    "    celltype_a = sapply(strsplit(colnames(result_a), split = '\\\\.\\\\.\\\\.'), head, 1)\n",
    "    result_a = sapply(unique(celltype_a), function(cell){\n",
    "        apply(result_a[ , celltype_a == cell ], 1, sum) %>% unname(.)\n",
    "    })\n",
    "\n",
    "\n",
    "    result_a = sapply(unique(receptors_a), function(receptor){\n",
    "        x = result_a[ which(receptors_a == receptor) , ]\n",
    "        if( is.matrix(x) ) {\n",
    "            x = apply(x, 2, sum) %>% unname(.)\n",
    "        }else{\n",
    "            x\n",
    "        }\n",
    "        return(x)\n",
    "    })\n",
    "\n",
    "    rownames(result_a) = unique(celltype_a)\n",
    "    df_a = melt(result_a)\n",
    "    df_a = subset(df_a, value > 0)\n",
    "    df_a\n",
    "    \n",
    "    # partner - B\n",
    "    result_b = subset(result,  name_b %in% names(R2TF) )[ , grep('\\\\.\\\\.\\\\.', colnames(result) ) ]\n",
    "    receptors_b = subset(result,  name_b %in% names(R2TF) )$name_b\n",
    "    result_b = result_b[ , colSums(result_b) > 0 ]\n",
    "\n",
    "\n",
    "\n",
    "    celltype_b = sapply(strsplit(colnames(result_b), split = '\\\\.\\\\.\\\\.'), tail, 1)\n",
    "    result_b = sapply(unique(celltype_b), function(cell){\n",
    "        apply(result_b[ , celltype_b == cell ], 1, sum) %>% unname(.)\n",
    "    })\n",
    "\n",
    "\n",
    "    result_b = sapply(unique(receptors_b), function(receptor){\n",
    "        x = result_b[ which(receptors_b == receptor) , ]\n",
    "        if( is.matrix(x) ) {\n",
    "            x = apply(x, 2, sum) %>% unname(.)\n",
    "        }else{\n",
    "            x\n",
    "        }\n",
    "        return(x)\n",
    "    })\n",
    "\n",
    "    rownames(result_b) = unique(celltype_b)\n",
    "    df_b = melt(result_b)\n",
    "    df_b = subset(df_b, value > 0)\n",
    "    df_b\n",
    "    \n",
    "    df = rbind(df_a[,1:2], df_b[,1:2]) %>% unique()\n",
    "    names(df) = c('celltype', 'receptor')\n",
    "    \n",
    "    return(df)\n",
    "    \n",
    "}"
   ]
  },
  {
   "cell_type": "markdown",
   "id": "requested-corrections",
   "metadata": {},
   "source": [
    "## Identify relevant TFs"
   ]
  },
  {
   "cell_type": "code",
   "execution_count": 2,
   "id": "contained-princess",
   "metadata": {},
   "outputs": [
    {
     "data": {
      "text/html": [
       "<style>\n",
       ".list-inline {list-style: none; margin:0; padding: 0}\n",
       ".list-inline>li {display: inline-block}\n",
       ".list-inline>li:not(:last-child)::after {content: \"\\00b7\"; padding: 0 .5ex}\n",
       "</style>\n",
       "<ol class=list-inline><li>'SOX4'</li><li>'HEY2'</li><li>'RORA'</li><li>'STAT1'</li><li>'STAT3'</li><li>'AR'</li><li>'ID4'</li><li>'RARB'</li><li>'NR6A1'</li><li>'ESR2'</li><li>'NR2E1'</li><li>'NR2E3'</li><li>'OTX2'</li><li>'SMAD2'</li><li>'PGR'</li><li>'RARG'</li><li>'ZGLP1'</li><li>'NR2F6'</li><li>'NR3C1'</li><li>'HES1'</li><li>'HES5'</li><li>'HEY1'</li><li>'PPARG'</li><li>'STAT5B'</li><li>'NR1D1'</li><li>'NR1H2'</li><li>'NR2C1'</li><li>'RXRG'</li><li>'NR2C2'</li><li>'RARA'</li></ol>\n"
      ],
      "text/latex": [
       "\\begin{enumerate*}\n",
       "\\item 'SOX4'\n",
       "\\item 'HEY2'\n",
       "\\item 'RORA'\n",
       "\\item 'STAT1'\n",
       "\\item 'STAT3'\n",
       "\\item 'AR'\n",
       "\\item 'ID4'\n",
       "\\item 'RARB'\n",
       "\\item 'NR6A1'\n",
       "\\item 'ESR2'\n",
       "\\item 'NR2E1'\n",
       "\\item 'NR2E3'\n",
       "\\item 'OTX2'\n",
       "\\item 'SMAD2'\n",
       "\\item 'PGR'\n",
       "\\item 'RARG'\n",
       "\\item 'ZGLP1'\n",
       "\\item 'NR2F6'\n",
       "\\item 'NR3C1'\n",
       "\\item 'HES1'\n",
       "\\item 'HES5'\n",
       "\\item 'HEY1'\n",
       "\\item 'PPARG'\n",
       "\\item 'STAT5B'\n",
       "\\item 'NR1D1'\n",
       "\\item 'NR1H2'\n",
       "\\item 'NR2C1'\n",
       "\\item 'RXRG'\n",
       "\\item 'NR2C2'\n",
       "\\item 'RARA'\n",
       "\\end{enumerate*}\n"
      ],
      "text/markdown": [
       "1. 'SOX4'\n",
       "2. 'HEY2'\n",
       "3. 'RORA'\n",
       "4. 'STAT1'\n",
       "5. 'STAT3'\n",
       "6. 'AR'\n",
       "7. 'ID4'\n",
       "8. 'RARB'\n",
       "9. 'NR6A1'\n",
       "10. 'ESR2'\n",
       "11. 'NR2E1'\n",
       "12. 'NR2E3'\n",
       "13. 'OTX2'\n",
       "14. 'SMAD2'\n",
       "15. 'PGR'\n",
       "16. 'RARG'\n",
       "17. 'ZGLP1'\n",
       "18. 'NR2F6'\n",
       "19. 'NR3C1'\n",
       "20. 'HES1'\n",
       "21. 'HES5'\n",
       "22. 'HEY1'\n",
       "23. 'PPARG'\n",
       "24. 'STAT5B'\n",
       "25. 'NR1D1'\n",
       "26. 'NR1H2'\n",
       "27. 'NR2C1'\n",
       "28. 'RXRG'\n",
       "29. 'NR2C2'\n",
       "30. 'RARA'\n",
       "\n",
       "\n"
      ],
      "text/plain": [
       " [1] \"SOX4\"   \"HEY2\"   \"RORA\"   \"STAT1\"  \"STAT3\"  \"AR\"     \"ID4\"    \"RARB\"  \n",
       " [9] \"NR6A1\"  \"ESR2\"   \"NR2E1\"  \"NR2E3\"  \"OTX2\"   \"SMAD2\"  \"PGR\"    \"RARG\"  \n",
       "[17] \"ZGLP1\"  \"NR2F6\"  \"NR3C1\"  \"HES1\"   \"HES5\"   \"HEY1\"   \"PPARG\"  \"STAT5B\"\n",
       "[25] \"NR1D1\"  \"NR1H2\"  \"NR2C1\"  \"RXRG\"   \"NR2C2\"  \"RARA\"  "
      ]
     },
     "metadata": {},
     "output_type": "display_data"
    },
    {
     "data": {
      "text/html": [
       "<style>\n",
       ".list-inline {list-style: none; margin:0; padding: 0}\n",
       ".list-inline>li {display: inline-block}\n",
       ".list-inline>li:not(:last-child)::after {content: \"\\00b7\"; padding: 0 .5ex}\n",
       "</style>\n",
       "<ol class=list-inline><li>'SOX4'</li><li>'STAT1'</li><li>'ETS1'</li><li>'ID4'</li><li>'NR5A1'</li><li>'SMAD5'</li><li>'FOXO1'</li><li>'NR0B1'</li><li>'NR2F2'</li><li>'NR4A2'</li><li>'NR4A3'</li><li>'STAT2'</li><li>'ELK1'</li><li>'HES1'</li><li>'HES4'</li><li>'HEY1'</li><li>'HEY2'</li><li>'HEYL'</li><li>'NR1H4'</li><li>'NR3C2'</li><li>'STAT6'</li><li>'ESR1'</li><li>'SMAD1'</li><li>'NR6A1'</li><li>'FOXC1'</li><li>'NR3C1'</li><li>'RARG'</li><li>'NR1D1'</li><li>'NR1H2'</li><li>'PPARA'</li><li>'RARB'</li><li>'RORA'</li><li>'STAT5B'</li><li>'VDR'</li><li>'GLI2'</li><li>'RORB'</li><li>'STAT3'</li><li>'AR'</li><li>'FOXO3'</li><li>'SMAD3'</li><li>'THRA'</li><li>'NR2F6'</li><li>'NFKB1'</li></ol>\n"
      ],
      "text/latex": [
       "\\begin{enumerate*}\n",
       "\\item 'SOX4'\n",
       "\\item 'STAT1'\n",
       "\\item 'ETS1'\n",
       "\\item 'ID4'\n",
       "\\item 'NR5A1'\n",
       "\\item 'SMAD5'\n",
       "\\item 'FOXO1'\n",
       "\\item 'NR0B1'\n",
       "\\item 'NR2F2'\n",
       "\\item 'NR4A2'\n",
       "\\item 'NR4A3'\n",
       "\\item 'STAT2'\n",
       "\\item 'ELK1'\n",
       "\\item 'HES1'\n",
       "\\item 'HES4'\n",
       "\\item 'HEY1'\n",
       "\\item 'HEY2'\n",
       "\\item 'HEYL'\n",
       "\\item 'NR1H4'\n",
       "\\item 'NR3C2'\n",
       "\\item 'STAT6'\n",
       "\\item 'ESR1'\n",
       "\\item 'SMAD1'\n",
       "\\item 'NR6A1'\n",
       "\\item 'FOXC1'\n",
       "\\item 'NR3C1'\n",
       "\\item 'RARG'\n",
       "\\item 'NR1D1'\n",
       "\\item 'NR1H2'\n",
       "\\item 'PPARA'\n",
       "\\item 'RARB'\n",
       "\\item 'RORA'\n",
       "\\item 'STAT5B'\n",
       "\\item 'VDR'\n",
       "\\item 'GLI2'\n",
       "\\item 'RORB'\n",
       "\\item 'STAT3'\n",
       "\\item 'AR'\n",
       "\\item 'FOXO3'\n",
       "\\item 'SMAD3'\n",
       "\\item 'THRA'\n",
       "\\item 'NR2F6'\n",
       "\\item 'NFKB1'\n",
       "\\end{enumerate*}\n"
      ],
      "text/markdown": [
       "1. 'SOX4'\n",
       "2. 'STAT1'\n",
       "3. 'ETS1'\n",
       "4. 'ID4'\n",
       "5. 'NR5A1'\n",
       "6. 'SMAD5'\n",
       "7. 'FOXO1'\n",
       "8. 'NR0B1'\n",
       "9. 'NR2F2'\n",
       "10. 'NR4A2'\n",
       "11. 'NR4A3'\n",
       "12. 'STAT2'\n",
       "13. 'ELK1'\n",
       "14. 'HES1'\n",
       "15. 'HES4'\n",
       "16. 'HEY1'\n",
       "17. 'HEY2'\n",
       "18. 'HEYL'\n",
       "19. 'NR1H4'\n",
       "20. 'NR3C2'\n",
       "21. 'STAT6'\n",
       "22. 'ESR1'\n",
       "23. 'SMAD1'\n",
       "24. 'NR6A1'\n",
       "25. 'FOXC1'\n",
       "26. 'NR3C1'\n",
       "27. 'RARG'\n",
       "28. 'NR1D1'\n",
       "29. 'NR1H2'\n",
       "30. 'PPARA'\n",
       "31. 'RARB'\n",
       "32. 'RORA'\n",
       "33. 'STAT5B'\n",
       "34. 'VDR'\n",
       "35. 'GLI2'\n",
       "36. 'RORB'\n",
       "37. 'STAT3'\n",
       "38. 'AR'\n",
       "39. 'FOXO3'\n",
       "40. 'SMAD3'\n",
       "41. 'THRA'\n",
       "42. 'NR2F6'\n",
       "43. 'NFKB1'\n",
       "\n",
       "\n"
      ],
      "text/plain": [
       " [1] \"SOX4\"   \"STAT1\"  \"ETS1\"   \"ID4\"    \"NR5A1\"  \"SMAD5\"  \"FOXO1\"  \"NR0B1\" \n",
       " [9] \"NR2F2\"  \"NR4A2\"  \"NR4A3\"  \"STAT2\"  \"ELK1\"   \"HES1\"   \"HES4\"   \"HEY1\"  \n",
       "[17] \"HEY2\"   \"HEYL\"   \"NR1H4\"  \"NR3C2\"  \"STAT6\"  \"ESR1\"   \"SMAD1\"  \"NR6A1\" \n",
       "[25] \"FOXC1\"  \"NR3C1\"  \"RARG\"   \"NR1D1\"  \"NR1H2\"  \"PPARA\"  \"RARB\"   \"RORA\"  \n",
       "[33] \"STAT5B\" \"VDR\"    \"GLI2\"   \"RORB\"   \"STAT3\"  \"AR\"     \"FOXO3\"  \"SMAD3\" \n",
       "[41] \"THRA\"   \"NR2F6\"  \"NFKB1\" "
      ]
     },
     "metadata": {},
     "output_type": "display_data"
    },
    {
     "data": {
      "text/html": [
       "<table class=\"dataframe\">\n",
       "<caption>A data.frame: 6 × 3</caption>\n",
       "<thead>\n",
       "\t<tr><th></th><th scope=col>cluster</th><th scope=col>TF</th><th scope=col>ID</th></tr>\n",
       "\t<tr><th></th><th scope=col>&lt;chr&gt;</th><th scope=col>&lt;chr&gt;</th><th scope=col>&lt;chr&gt;</th></tr>\n",
       "</thead>\n",
       "<tbody>\n",
       "\t<tr><th scope=row>1</th><td>GC               </td><td>SOX4 </td><td>GC__SOX4             </td></tr>\n",
       "\t<tr><th scope=row>4</th><td>oocyte           </td><td>HEY2 </td><td>oocyte__HEY2         </td></tr>\n",
       "\t<tr><th scope=row>5</th><td>oocyte           </td><td>RORA </td><td>oocyte__RORA         </td></tr>\n",
       "\t<tr><th scope=row>6</th><td>oocyte           </td><td>STAT1</td><td>oocyte__STAT1        </td></tr>\n",
       "\t<tr><th scope=row>25</th><td>PGC              </td><td>STAT3</td><td>PGC__STAT3           </td></tr>\n",
       "\t<tr><th scope=row>27</th><td>pre_spermatogonia</td><td>AR   </td><td>pre_spermatogonia__AR</td></tr>\n",
       "</tbody>\n",
       "</table>\n"
      ],
      "text/latex": [
       "A data.frame: 6 × 3\n",
       "\\begin{tabular}{r|lll}\n",
       "  & cluster & TF & ID\\\\\n",
       "  & <chr> & <chr> & <chr>\\\\\n",
       "\\hline\n",
       "\t1 & GC                & SOX4  & GC\\_\\_SOX4             \\\\\n",
       "\t4 & oocyte            & HEY2  & oocyte\\_\\_HEY2         \\\\\n",
       "\t5 & oocyte            & RORA  & oocyte\\_\\_RORA         \\\\\n",
       "\t6 & oocyte            & STAT1 & oocyte\\_\\_STAT1        \\\\\n",
       "\t25 & PGC               & STAT3 & PGC\\_\\_STAT3           \\\\\n",
       "\t27 & pre\\_spermatogonia & AR    & pre\\_spermatogonia\\_\\_AR\\\\\n",
       "\\end{tabular}\n"
      ],
      "text/markdown": [
       "\n",
       "A data.frame: 6 × 3\n",
       "\n",
       "| <!--/--> | cluster &lt;chr&gt; | TF &lt;chr&gt; | ID &lt;chr&gt; |\n",
       "|---|---|---|---|\n",
       "| 1 | GC                | SOX4  | GC__SOX4              |\n",
       "| 4 | oocyte            | HEY2  | oocyte__HEY2          |\n",
       "| 5 | oocyte            | RORA  | oocyte__RORA          |\n",
       "| 6 | oocyte            | STAT1 | oocyte__STAT1         |\n",
       "| 25 | PGC               | STAT3 | PGC__STAT3            |\n",
       "| 27 | pre_spermatogonia | AR    | pre_spermatogonia__AR |\n",
       "\n"
      ],
      "text/plain": [
       "   cluster           TF    ID                   \n",
       "1  GC                SOX4  GC__SOX4             \n",
       "4  oocyte            HEY2  oocyte__HEY2         \n",
       "5  oocyte            RORA  oocyte__RORA         \n",
       "6  oocyte            STAT1 oocyte__STAT1        \n",
       "25 PGC               STAT3 PGC__STAT3           \n",
       "27 pre_spermatogonia AR    pre_spermatogonia__AR"
      ]
     },
     "metadata": {},
     "output_type": "display_data"
    }
   ],
   "source": [
    "germ_TFs = read.csv('figures_germcells/human_TFs_measurements.csv', stringsAsFactors = F)\n",
    "germ_TFs = subset(germ_TFs, RNA_TFact == 1  |  ATAC_TFact==1)\n",
    "germ_TFs = subset(germ_TFs, RNA_DEGs.avg_logFC > 0.1)\n",
    "germ_TFs = subset(germ_TFs, TF %in% CellSign_TFs)\n",
    "unique(germ_TFs$TF)\n",
    "\n",
    "\n",
    "soma_TFs = read.csv('figures_somatic/granulosa_human_TFs_measurements.csv', stringsAsFactors = F)\n",
    "soma_TFs = subset(soma_TFs, RNA_TFact == 1 |  ATAC_TFact==1)\n",
    "soma_TFs = subset(soma_TFs, RNA_DEGs.avg_logFC > 0.1 )\n",
    "soma_TFs = subset(soma_TFs, TF %in% CellSign_TFs)\n",
    "unique(soma_TFs$TF)\n",
    "\n",
    "cell2TF_relevant = rbind(germ_TFs, soma_TFs)[, c('cluster', 'TF', 'ID') ]\n",
    "head(cell2TF_relevant)"
   ]
  },
  {
   "cell_type": "markdown",
   "id": "greater-tokyo",
   "metadata": {},
   "source": [
    "# CellSign: identify relevant Receptors linked to TFs"
   ]
  },
  {
   "cell_type": "code",
   "execution_count": 3,
   "id": "color-criterion",
   "metadata": {},
   "outputs": [],
   "source": [
    "result = read.csv('cellphoneDB/out_Rversion/relevant_interactions.txt', stringsAsFactors = F, sep = '\\t')"
   ]
  },
  {
   "cell_type": "code",
   "execution_count": 4,
   "id": "wound-blood",
   "metadata": {},
   "outputs": [],
   "source": [
    "cell2R_relevant = extract_relevant_cell2receptor(result)\n",
    "cell2R_relevant$celltype = gsub('Somatic.', '', cell2R_relevant$celltype)\n",
    "cell2R_relevant$celltype = gsub('Germ.', '', cell2R_relevant$celltype)\n",
    "cell2R_relevant$ID = paste(cell2R_relevant$celltype, cell2R_relevant$receptor, sep = '__')"
   ]
  },
  {
   "cell_type": "code",
   "execution_count": 5,
   "id": "figured-ivory",
   "metadata": {},
   "outputs": [],
   "source": [
    "MERGED = list()\n",
    "for ( relR in intersect(names(R2TF), cell2R_relevant$receptor)  ){\n",
    "    if( relR %in%  cell2R_relevant$receptor){\n",
    "        celltypes_with_R = subset(cell2R_relevant, receptor == relR)$celltype \n",
    "        for (downstreamTF in R2TF[[relR]] ){\n",
    "            celltypes_with_TFR = subset(cell2TF_relevant, cluster %in% celltypes_with_R & TF == downstreamTF)$cluster %>% unique(.)\n",
    "            if( length(celltypes_with_TFR) >= 1){\n",
    "                for (cell in celltypes_with_TFR )\n",
    "                    id = paste(relR, downstreamTF, cell)\n",
    "                    MERGED[[id]] = cbind( subset(cell2R_relevant, receptor == relR & celltype == cell),\n",
    "                                         subset(cell2TF_relevant, TF == downstreamTF & cluster == cell)\n",
    "                )\n",
    "            }\n",
    "            \n",
    "        }\n",
    "            \n",
    "    }    \n",
    "}"
   ]
  },
  {
   "cell_type": "code",
   "execution_count": 6,
   "id": "smaller-myanmar",
   "metadata": {},
   "outputs": [],
   "source": [
    "CellSign_results = melt(MERGED, id.vars = names(MERGED[[1]]) )  \n",
    "write.csv(df, file = 'cellphoneDB/out_Rversion/relevant_downstream_CellSign.txt', row.names=F)"
   ]
  },
  {
   "cell_type": "markdown",
   "id": "funny-stadium",
   "metadata": {},
   "source": [
    "## Explore results"
   ]
  },
  {
   "cell_type": "code",
   "execution_count": 7,
   "id": "appointed-chapel",
   "metadata": {},
   "outputs": [
    {
     "data": {
      "text/html": [
       "<table class=\"dataframe\">\n",
       "<caption>A data.frame: 6 × 7</caption>\n",
       "<thead>\n",
       "\t<tr><th></th><th scope=col>celltype</th><th scope=col>receptor</th><th scope=col>ID</th><th scope=col>cluster</th><th scope=col>TF</th><th scope=col>ID.1</th><th scope=col>L1</th></tr>\n",
       "\t<tr><th></th><th scope=col>&lt;chr&gt;</th><th scope=col>&lt;fct&gt;</th><th scope=col>&lt;chr&gt;</th><th scope=col>&lt;chr&gt;</th><th scope=col>&lt;chr&gt;</th><th scope=col>&lt;chr&gt;</th><th scope=col>&lt;chr&gt;</th></tr>\n",
       "</thead>\n",
       "<tbody>\n",
       "\t<tr><th scope=row>1</th><td>oocyte       </td><td>ACVR_1B2B_receptor</td><td>oocyte__ACVR_1B2B_receptor </td><td>oocyte       </td><td>SMAD2</td><td>oocyte__ACVR_1B2B_receptor </td><td>ACVR_1B2B_receptor SMAD2 oocyte </td></tr>\n",
       "\t<tr><th scope=row>2</th><td>preGC_I      </td><td>AR                </td><td>preGC_I__AR                </td><td>preGC_I      </td><td>AR   </td><td>preGC_I__AR                </td><td>AR AR preGC_I                   </td></tr>\n",
       "\t<tr><th scope=row>3</th><td>preGC_I      </td><td>BMPR1A_BMPR2      </td><td>preGC_I__BMPR1A_BMPR2      </td><td>preGC_I      </td><td>SMAD1</td><td>preGC_I__BMPR1A_BMPR2      </td><td>BMPR1A_BMPR2 SMAD1 preGC_I      </td></tr>\n",
       "\t<tr><th scope=row>4</th><td>oogonia_STRA8</td><td>BMPR1A_BMPR2      </td><td>oogonia_STRA8__BMPR1A_BMPR2</td><td>oogonia_STRA8</td><td>ZGLP1</td><td>oogonia_STRA8__BMPR1A_BMPR2</td><td>BMPR1A_BMPR2 ZGLP1 oogonia_STRA8</td></tr>\n",
       "\t<tr><th scope=row>5</th><td>preGC_I      </td><td>BMPR1B_BMPR2      </td><td>preGC_I__BMPR1B_BMPR2      </td><td>preGC_I      </td><td>SMAD1</td><td>preGC_I__BMPR1B_BMPR2      </td><td>BMPR1B_BMPR2 SMAD1 preGC_I      </td></tr>\n",
       "\t<tr><th scope=row>6</th><td>oogonia_STRA8</td><td>BMPR1B_BMPR2      </td><td>oogonia_STRA8__BMPR1B_BMPR2</td><td>oogonia_STRA8</td><td>ZGLP1</td><td>oogonia_STRA8__BMPR1B_BMPR2</td><td>BMPR1B_BMPR2 ZGLP1 oogonia_STRA8</td></tr>\n",
       "</tbody>\n",
       "</table>\n"
      ],
      "text/latex": [
       "A data.frame: 6 × 7\n",
       "\\begin{tabular}{r|lllllll}\n",
       "  & celltype & receptor & ID & cluster & TF & ID.1 & L1\\\\\n",
       "  & <chr> & <fct> & <chr> & <chr> & <chr> & <chr> & <chr>\\\\\n",
       "\\hline\n",
       "\t1 & oocyte        & ACVR\\_1B2B\\_receptor & oocyte\\_\\_ACVR\\_1B2B\\_receptor  & oocyte        & SMAD2 & oocyte\\_\\_ACVR\\_1B2B\\_receptor  & ACVR\\_1B2B\\_receptor SMAD2 oocyte \\\\\n",
       "\t2 & preGC\\_I       & AR                 & preGC\\_I\\_\\_AR                 & preGC\\_I       & AR    & preGC\\_I\\_\\_AR                 & AR AR preGC\\_I                   \\\\\n",
       "\t3 & preGC\\_I       & BMPR1A\\_BMPR2       & preGC\\_I\\_\\_BMPR1A\\_BMPR2       & preGC\\_I       & SMAD1 & preGC\\_I\\_\\_BMPR1A\\_BMPR2       & BMPR1A\\_BMPR2 SMAD1 preGC\\_I      \\\\\n",
       "\t4 & oogonia\\_STRA8 & BMPR1A\\_BMPR2       & oogonia\\_STRA8\\_\\_BMPR1A\\_BMPR2 & oogonia\\_STRA8 & ZGLP1 & oogonia\\_STRA8\\_\\_BMPR1A\\_BMPR2 & BMPR1A\\_BMPR2 ZGLP1 oogonia\\_STRA8\\\\\n",
       "\t5 & preGC\\_I       & BMPR1B\\_BMPR2       & preGC\\_I\\_\\_BMPR1B\\_BMPR2       & preGC\\_I       & SMAD1 & preGC\\_I\\_\\_BMPR1B\\_BMPR2       & BMPR1B\\_BMPR2 SMAD1 preGC\\_I      \\\\\n",
       "\t6 & oogonia\\_STRA8 & BMPR1B\\_BMPR2       & oogonia\\_STRA8\\_\\_BMPR1B\\_BMPR2 & oogonia\\_STRA8 & ZGLP1 & oogonia\\_STRA8\\_\\_BMPR1B\\_BMPR2 & BMPR1B\\_BMPR2 ZGLP1 oogonia\\_STRA8\\\\\n",
       "\\end{tabular}\n"
      ],
      "text/markdown": [
       "\n",
       "A data.frame: 6 × 7\n",
       "\n",
       "| <!--/--> | celltype &lt;chr&gt; | receptor &lt;fct&gt; | ID &lt;chr&gt; | cluster &lt;chr&gt; | TF &lt;chr&gt; | ID.1 &lt;chr&gt; | L1 &lt;chr&gt; |\n",
       "|---|---|---|---|---|---|---|---|\n",
       "| 1 | oocyte        | ACVR_1B2B_receptor | oocyte__ACVR_1B2B_receptor  | oocyte        | SMAD2 | oocyte__ACVR_1B2B_receptor  | ACVR_1B2B_receptor SMAD2 oocyte  |\n",
       "| 2 | preGC_I       | AR                 | preGC_I__AR                 | preGC_I       | AR    | preGC_I__AR                 | AR AR preGC_I                    |\n",
       "| 3 | preGC_I       | BMPR1A_BMPR2       | preGC_I__BMPR1A_BMPR2       | preGC_I       | SMAD1 | preGC_I__BMPR1A_BMPR2       | BMPR1A_BMPR2 SMAD1 preGC_I       |\n",
       "| 4 | oogonia_STRA8 | BMPR1A_BMPR2       | oogonia_STRA8__BMPR1A_BMPR2 | oogonia_STRA8 | ZGLP1 | oogonia_STRA8__BMPR1A_BMPR2 | BMPR1A_BMPR2 ZGLP1 oogonia_STRA8 |\n",
       "| 5 | preGC_I       | BMPR1B_BMPR2       | preGC_I__BMPR1B_BMPR2       | preGC_I       | SMAD1 | preGC_I__BMPR1B_BMPR2       | BMPR1B_BMPR2 SMAD1 preGC_I       |\n",
       "| 6 | oogonia_STRA8 | BMPR1B_BMPR2       | oogonia_STRA8__BMPR1B_BMPR2 | oogonia_STRA8 | ZGLP1 | oogonia_STRA8__BMPR1B_BMPR2 | BMPR1B_BMPR2 ZGLP1 oogonia_STRA8 |\n",
       "\n"
      ],
      "text/plain": [
       "  celltype      receptor           ID                          cluster      \n",
       "1 oocyte        ACVR_1B2B_receptor oocyte__ACVR_1B2B_receptor  oocyte       \n",
       "2 preGC_I       AR                 preGC_I__AR                 preGC_I      \n",
       "3 preGC_I       BMPR1A_BMPR2       preGC_I__BMPR1A_BMPR2       preGC_I      \n",
       "4 oogonia_STRA8 BMPR1A_BMPR2       oogonia_STRA8__BMPR1A_BMPR2 oogonia_STRA8\n",
       "5 preGC_I       BMPR1B_BMPR2       preGC_I__BMPR1B_BMPR2       preGC_I      \n",
       "6 oogonia_STRA8 BMPR1B_BMPR2       oogonia_STRA8__BMPR1B_BMPR2 oogonia_STRA8\n",
       "  TF    ID.1                        L1                              \n",
       "1 SMAD2 oocyte__ACVR_1B2B_receptor  ACVR_1B2B_receptor SMAD2 oocyte \n",
       "2 AR    preGC_I__AR                 AR AR preGC_I                   \n",
       "3 SMAD1 preGC_I__BMPR1A_BMPR2       BMPR1A_BMPR2 SMAD1 preGC_I      \n",
       "4 ZGLP1 oogonia_STRA8__BMPR1A_BMPR2 BMPR1A_BMPR2 ZGLP1 oogonia_STRA8\n",
       "5 SMAD1 preGC_I__BMPR1B_BMPR2       BMPR1B_BMPR2 SMAD1 preGC_I      \n",
       "6 ZGLP1 oogonia_STRA8__BMPR1B_BMPR2 BMPR1B_BMPR2 ZGLP1 oogonia_STRA8"
      ]
     },
     "metadata": {},
     "output_type": "display_data"
    }
   ],
   "source": [
    "head(CellSign_results)"
   ]
  },
  {
   "cell_type": "code",
   "execution_count": 8,
   "id": "resistant-prompt",
   "metadata": {},
   "outputs": [
    {
     "name": "stderr",
     "output_type": "stream",
     "text": [
      "oocyte\n",
      "\n"
     ]
    },
    {
     "name": "stdout",
     "output_type": "stream",
     "text": [
      "   celltype           receptor    TF\n",
      "1    oocyte ACVR_1B2B_receptor SMAD2\n",
      "18   oocyte               ESR2  ESR2\n",
      "31   oocyte               RORA  RORA\n",
      "38   oocyte                DCC  OTX2\n"
     ]
    },
    {
     "name": "stderr",
     "output_type": "stream",
     "text": [
      "preGC_I\n",
      "\n"
     ]
    },
    {
     "name": "stdout",
     "output_type": "stream",
     "text": [
      "   celltype     receptor    TF\n",
      "2   preGC_I           AR    AR\n",
      "3   preGC_I BMPR1A_BMPR2 SMAD1\n",
      "5   preGC_I BMPR1B_BMPR2 SMAD1\n",
      "8   preGC_I  BMR1A_AVR2B SMAD1\n",
      "11  preGC_I  BMR1B_AVR2B SMAD1\n",
      "22  preGC_I        MERTK STAT1\n"
     ]
    },
    {
     "name": "stderr",
     "output_type": "stream",
     "text": [
      "oogonia_STRA8\n",
      "\n"
     ]
    },
    {
     "name": "stdout",
     "output_type": "stream",
     "text": [
      "        celltype             receptor    TF\n",
      "4  oogonia_STRA8         BMPR1A_BMPR2 ZGLP1\n",
      "6  oogonia_STRA8         BMPR1B_BMPR2 ZGLP1\n",
      "7  oogonia_STRA8          BMR1A_ACR2A ZGLP1\n",
      "9  oogonia_STRA8          BMR1A_AVR2B ZGLP1\n",
      "10 oogonia_STRA8          BMR1B_AVR2A ZGLP1\n",
      "12 oogonia_STRA8          BMR1B_AVR2B ZGLP1\n",
      "32 oogonia_STRA8 RAreceptor_RARA_RXRA  RARA\n",
      "33 oogonia_STRA8 RAreceptor_RARB_RXRB  RARB\n",
      "34 oogonia_STRA8      RAreceptor_RARA  RARA\n",
      "35 oogonia_STRA8      RAreceptor_RARB  RARB\n"
     ]
    },
    {
     "name": "stderr",
     "output_type": "stream",
     "text": [
      "early_supporting\n",
      "\n"
     ]
    },
    {
     "name": "stdout",
     "output_type": "stream",
     "text": [
      "           celltype receptor    TF\n",
      "13 early_supporting    CXCR4 STAT1\n",
      "30 early_supporting   PDGFRA STAT1\n"
     ]
    },
    {
     "name": "stderr",
     "output_type": "stream",
     "text": [
      "PGC\n",
      "\n"
     ]
    },
    {
     "name": "stdout",
     "output_type": "stream",
     "text": [
      "   celltype receptor    TF\n",
      "14      PGC    CXCR4 STAT3\n",
      "20      PGC      KIT STAT3\n"
     ]
    },
    {
     "name": "stderr",
     "output_type": "stream",
     "text": [
      "OSE\n",
      "\n"
     ]
    },
    {
     "name": "stdout",
     "output_type": "stream",
     "text": [
      "   celltype receptor    TF\n",
      "15      OSE     EGFR STAT3\n",
      "19      OSE    FGFR2  ESR1\n",
      "27      OSE   NOTCH2   ID4\n"
     ]
    },
    {
     "name": "stderr",
     "output_type": "stream",
     "text": [
      "granulosa\n",
      "\n"
     ]
    },
    {
     "name": "stdout",
     "output_type": "stream",
     "text": [
      "    celltype receptor     TF\n",
      "16 granulosa     EGFR STAT5B\n",
      "23 granulosa   NOTCH1   HES1\n",
      "24 granulosa   NOTCH1   HEY1\n",
      "25 granulosa   NOTCH1   HEY2\n",
      "26 granulosa   NOTCH2   HES1\n",
      "28 granulosa   NOTCH3   HES4\n",
      "37 granulosa    EPHB4   ELK1\n",
      "39 granulosa    EPHB2   ELK1\n"
     ]
    },
    {
     "name": "stderr",
     "output_type": "stream",
     "text": [
      "preGC_IIb\n",
      "\n"
     ]
    },
    {
     "name": "stdout",
     "output_type": "stream",
     "text": [
      "    celltype receptor    TF\n",
      "17 preGC_IIb     ESR1  ESR1\n",
      "29 preGC_IIb    NR1H4 NR1H4\n"
     ]
    },
    {
     "name": "stderr",
     "output_type": "stream",
     "text": [
      "oogonia_meiotic\n",
      "\n"
     ]
    },
    {
     "name": "stdout",
     "output_type": "stream",
     "text": [
      "          celltype receptor     TF\n",
      "21 oogonia_meiotic      KIT STAT5B\n"
     ]
    },
    {
     "name": "stderr",
     "output_type": "stream",
     "text": [
      "CoelEpi_LHX9\n",
      "\n"
     ]
    },
    {
     "name": "stdout",
     "output_type": "stream",
     "text": [
      "       celltype        receptor    TF\n",
      "36 CoelEpi_LHX9 RAreceptor_RARG  RARG\n",
      "40 CoelEpi_LHX9           PTH1R FOXC1\n"
     ]
    }
   ],
   "source": [
    "CellSign_percelltype = list()\n",
    "for (cl in unique(CellSign_results$celltype) ){\n",
    "    message(cl)\n",
    "    x = subset(CellSign_results, celltype == cl)\n",
    "    CellSign_percelltype[[cl]] = x\n",
    "    print(x[, c('celltype', 'receptor', 'TF') ])\n",
    "}\n",
    "CellSign_results = melt(CellSign_percelltype, id.vars = names(CellSign_percelltype[[1]]) )  "
   ]
  },
  {
   "cell_type": "markdown",
   "id": "tracked-increase",
   "metadata": {},
   "source": [
    "# plot"
   ]
  },
  {
   "cell_type": "code",
   "execution_count": 9,
   "id": "honest-footwear",
   "metadata": {},
   "outputs": [],
   "source": [
    "priorTF_germs = subset(CellSign_results, celltype %in% germ_TFs$cluster )$TF  %>% unique(.)\n",
    "priorTF_soma = subset(CellSign_results, celltype %in% soma_TFs$cluster )$TF  %>% unique(.)"
   ]
  }
 ],
 "metadata": {
  "kernelspec": {
   "display_name": "R",
   "language": "R",
   "name": "ir"
  },
  "language_info": {
   "codemirror_mode": "r",
   "file_extension": ".r",
   "mimetype": "text/x-r-source",
   "name": "R",
   "pygments_lexer": "r",
   "version": "4.0.3"
  }
 },
 "nbformat": 4,
 "nbformat_minor": 5
}
