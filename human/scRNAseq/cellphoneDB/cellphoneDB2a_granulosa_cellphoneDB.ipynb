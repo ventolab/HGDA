{
 "cells": [
  {
   "cell_type": "markdown",
   "metadata": {},
   "source": [
    "# Run cellphoneDB"
   ]
  },
  {
   "cell_type": "markdown",
   "metadata": {},
   "source": [
    "Code\n",
    "\n",
    "```\n",
    "source activate cpdb\n",
    "```\n",
    "\n",
    "\n",
    "### Create database\n",
    "\n",
    "```\n",
    "cellphonedb database generate \\\n",
    "    --result-path database \\\n",
    "    --user-gene ~/gonads/scRNAseq_analysis_FCA_2sex/cellphoneDB/database/gene_input_all.csv \\\n",
    "    --user-complex ~/gonads/scRNAseq_analysis_FCA_2sex/cellphoneDB/database/complex_curated_032021.tsv \\\n",
    "    --user-interactions ~/gonads/scRNAseq_analysis_FCA_2sex/cellphoneDB/database/interaction_curated_032021.tsv\n",
    "```\n",
    "\n",
    "\n",
    "\n",
    "\n",
    "### Run cellphone without statistical analysis - just get expressed interactions\n",
    "\n",
    "```\n",
    "cellphonedb method degs_analysis \\\n",
    "    ~/gonads/human_v2/cellphoneDB/ovarian_meta.tsv \\\n",
    "    ~/gonads/human_v2/cellphoneDB/granulosa_normloqTransformed.h5ad \\\n",
    "    ~/gonads/human_v2/cellphoneDB/DEGs.tsv \\\n",
    "    --microenvs ~/gonads/human_v2/cellphoneDB/ovarian_microenviroment.tsv \\\n",
    "    --database ~/gonads/human_v2/cellphoneDB/database/cellphonedb_user_2021-03-11-15_06.db \\\n",
    "    --counts-data hgnc_symbol \\\n",
    "    --output-path out/ \\\n",
    "    --threshold 0\n",
    "```\n"
   ]
  }
 ],
 "metadata": {
  "kernelspec": {
   "display_name": "R",
   "language": "R",
   "name": "r-seurat3"
  },
  "language_info": {
   "codemirror_mode": "r",
   "file_extension": ".r",
   "mimetype": "text/x-r-source",
   "name": "R",
   "pygments_lexer": "r",
   "version": "4.0.3"
  }
 },
 "nbformat": 4,
 "nbformat_minor": 4
}
