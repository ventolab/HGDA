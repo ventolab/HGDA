{
 "cells": [
  {
   "cell_type": "markdown",
   "metadata": {},
   "source": [
    "# Generate cellphoneDB input files"
   ]
  },
  {
   "cell_type": "code",
   "execution_count": 1,
   "metadata": {},
   "outputs": [],
   "source": [
    "import numpy as np\n",
    "import pandas as pd\n",
    "import scanpy as sc\n",
    "import anndata\n",
    "import os\n",
    "import sys\n",
    "\n",
    "def MovePlots(plotpattern, subplotdir):\n",
    "    os.system('mkdir -p '+str(sc.settings.figdir)+'/'+subplotdir)\n",
    "    os.system('mv '+str(sc.settings.figdir)+'/*'+plotpattern+'** '+str(sc.settings.figdir)+'/'+subplotdir)\n",
    "\n",
    "sc.settings.verbosity = 1  # verbosity: errors (0), warnings (1), info (2), hints (3)\n",
    "sc.settings.figdir = './figures/data_utils/'\n",
    "sc.settings.set_figure_params(dpi=80)  # low dpi (dots per inch) yields small inline figures\n",
    "\n",
    "sys.executable\n",
    "\n",
    "\n",
    "def grouped_obs_percent(adata, group_key, layer=None, gene_symbols=None):\n",
    "    if layer is not None:\n",
    "        getX = lambda x: x.layers[layer]\n",
    "    else:\n",
    "        getX = lambda x: x.X\n",
    "    if gene_symbols is not None:\n",
    "        new_idx = adata.var[idx]\n",
    "    else:\n",
    "        new_idx = adata.var_names\n",
    "\n",
    "    grouped = adata.obs.groupby(group_key)\n",
    "    out = pd.DataFrame(\n",
    "        np.zeros((adata.shape[1], len(grouped)), dtype=np.float64),\n",
    "        columns=list(grouped.groups.keys()),\n",
    "        index=adata.var_names\n",
    "    )\n",
    "\n",
    "    for group, idx in grouped.indices.items():\n",
    "        X = getX(adata[idx])\n",
    "        X.data = X.data > 0.01\n",
    "        perc = np.asarray(np.sum(X,axis=0)/X.shape[0]).reshape(-1)\n",
    "        out[group] = [round(i, 2) for i in perc ]\n",
    "    return out\n",
    "\n",
    "\n",
    "def grouped_obs_mean(adata, group_key, layer=None, gene_symbols=None):\n",
    "    if layer is not None:\n",
    "        getX = lambda x: x.layers[layer]\n",
    "    else:\n",
    "        getX = lambda x: x.X\n",
    "    if gene_symbols is not None:\n",
    "        new_idx = adata.var[idx]\n",
    "    else:\n",
    "        new_idx = adata.var_names\n",
    "\n",
    "    grouped = adata.obs.groupby(group_key)\n",
    "    out = pd.DataFrame(\n",
    "        np.zeros((adata.shape[1], len(grouped)), dtype=np.float64),\n",
    "        columns=list(grouped.groups.keys()),\n",
    "        index=adata.var_names\n",
    "    )\n",
    "\n",
    "    for group, idx in grouped.indices.items():\n",
    "        X = getX(adata[idx])\n",
    "        out[group] = np.ravel(X.mean(axis=0, dtype=np.float64))\n",
    "    return out"
   ]
  },
  {
   "cell_type": "markdown",
   "metadata": {},
   "source": [
    "# Prepare INPUT\n",
    "\n",
    "## Load andata"
   ]
  },
  {
   "cell_type": "code",
   "execution_count": 2,
   "metadata": {},
   "outputs": [],
   "source": [
    "path_to_gonads = '/nfs/team292/lg18/with_valentina/gonadsV2_revision/'\n",
    "adata = sc.read(path_to_gonads + 'FCA-gonads_rawcounts.h5ad')"
   ]
  },
  {
   "cell_type": "markdown",
   "metadata": {},
   "source": [
    "### Load cell clusters annotation"
   ]
  },
  {
   "cell_type": "code",
   "execution_count": 3,
   "metadata": {},
   "outputs": [
    {
     "name": "stderr",
     "output_type": "stream",
     "text": [
      "/home/jovyan/my-conda-envs/sc_analysis/lib/python3.7/site-packages/IPython/core/interactiveshell.py:3166: DtypeWarning: Columns (29,30,32) have mixed types.Specify dtype option on import or set low_memory=False.\n",
      "  interactivity=interactivity, compiler=compiler, result=result)\n",
      "/home/jovyan/my-conda-envs/sc_analysis/lib/python3.7/site-packages/IPython/core/interactiveshell.py:3166: DtypeWarning: Columns (29,30) have mixed types.Specify dtype option on import or set low_memory=False.\n",
      "  interactivity=interactivity, compiler=compiler, result=result)\n"
     ]
    },
    {
     "data": {
      "text/plain": [
       "Mesenchymal_GATA2    84229\n",
       "Mesenchymal_LHX9     62747\n",
       "preGranulosa         38881\n",
       "Sertoli              34969\n",
       "lowQC                34677\n",
       "Supporting           31454\n",
       "CoelEpi              24297\n",
       "Epithelial           20222\n",
       "GermCells            14516\n",
       "Endothelial          14484\n",
       "PV                   12679\n",
       "Doublet               5821\n",
       "Immune                5533\n",
       "Neural                3783\n",
       "SMCs                  3044\n",
       "FetalLeydig           2426\n",
       "cont                  1432\n",
       "Erythroid             1371\n",
       "Name: lineage, dtype: int64"
      ]
     },
     "execution_count": 3,
     "metadata": {},
     "output_type": "execute_result"
    }
   ],
   "source": [
    "# Add old cluster subname\n",
    "metaF = pd.read_csv(path_to_gonads+'/FCA-gonads_female_annotated.csv')\n",
    "metaF = metaF.set_index('Unnamed: 0')\n",
    "metaF.head()\n",
    "\n",
    "metaM = pd.read_csv(path_to_gonads+'/FCA-gonads_male_annotated.csv')\n",
    "metaM = metaM.set_index('Unnamed: 0')\n",
    "metaM.head()\n",
    "\n",
    "\n",
    "cell_annotM = metaM['lineage'].to_dict()\n",
    "cell_annotF = metaF['lineage'].to_dict()\n",
    "cell_annot = {**cell_annotM , **cell_annotF}\n",
    "adata.obs['lineage'] = adata.obs_names.map(cell_annot)\n",
    "adata.obs['lineage'].value_counts()"
   ]
  },
  {
   "cell_type": "code",
   "execution_count": 4,
   "metadata": {},
   "outputs": [],
   "source": [
    "# adata.obs['lineage'] = adata.obs['clusters_manual'].tolist()\n",
    "# adata.obs['lineage'] = adata.obs['lineage'].replace(regex=r'Supporting_female', value='Supporting')\n",
    "# set(adata.obs['lineage'] )\n"
   ]
  },
  {
   "cell_type": "code",
   "execution_count": 5,
   "metadata": {},
   "outputs": [],
   "source": [
    "# del adata.obs['study']\n",
    "# del adata.obs['stage']\n",
    "# del adata.obs['location']\n",
    "# del adata.obs['5v1.1']\n",
    "# del adata.obs['batch_collection']\n",
    "# del adata.obs['TP']\n",
    "# del adata.obs['cryopreserved']\n",
    "# del adata.obs['clusters_manual']\n",
    "# del adata.obs['batch']\n",
    "# del adata.obs['clusters']\n",
    "# del adata.obs['sub_clusters']"
   ]
  },
  {
   "cell_type": "markdown",
   "metadata": {},
   "source": [
    "# Import sub-analysis"
   ]
  },
  {
   "cell_type": "code",
   "execution_count": 6,
   "metadata": {},
   "outputs": [
    {
     "name": "stderr",
     "output_type": "stream",
     "text": [
      "/home/jovyan/my-conda-envs/sc_analysis/lib/python3.7/site-packages/IPython/core/interactiveshell.py:3166: DtypeWarning: Columns (29,30,37) have mixed types.Specify dtype option on import or set low_memory=False.\n",
      "  interactivity=interactivity, compiler=compiler, result=result)\n"
     ]
    },
    {
     "data": {
      "text/plain": [
       "Mesenchymal_GATA2               84229\n",
       "Somatic.Sertoli                 36917\n",
       "Somatic.Ti                      34808\n",
       "lowQC                           34516\n",
       "Somatic.Oi                      25730\n",
       "Somatic.preGC_IIb               23825\n",
       "Epithelial                      20222\n",
       "Somatic.preGC_I                 15599\n",
       "Endothelial                     14484\n",
       "Somatic.preGC_IIa               13772\n",
       "PV                              12679\n",
       "Somatic.OSE                      8222\n",
       "Somatic.early_supporting         5894\n",
       "Doublet                          5821\n",
       "Somatic.CoelEpi_LHX9             5547\n",
       "Immune                           5533\n",
       "Somatic.Gi                       4749\n",
       "Somatic.CoelEpi_GATA2            4050\n",
       "Neural                           3783\n",
       "Germ.PGC                         3764\n",
       "Somatic.early_sPAX8              3648\n",
       "GermCells                        3523\n",
       "SMCs                             3044\n",
       "Somatic.FetalLeydig              2874\n",
       "Somatic.cont                     2713\n",
       "Germ.oogonia_STRA8               2203\n",
       "Somatic.late_sPAX8               2118\n",
       "Germ.oogonia_meiotic             1875\n",
       "Somatic.CoelEpi_LHX9_cycling     1858\n",
       "cont                             1432\n",
       "Somatic.early_somatic            1414\n",
       "Erythroid                        1371\n",
       "Germ.pre_oocyte                   812\n",
       "Germ.oocyte                       723\n",
       "Germ.pre_spermatogonia            621\n",
       "CoelEpi                           534\n",
       "Germ.GC_mitotic                   510\n",
       "Germ.GC                           485\n",
       "Somatic.granulosa                 366\n",
       "Supporting                        235\n",
       "Mesenchymal_LHX9                   57\n",
       "preGranulosa                        5\n",
       "Name: celltype, dtype: int64"
      ]
     },
     "execution_count": 6,
     "metadata": {},
     "output_type": "execute_result"
    }
   ],
   "source": [
    "# Add somatic cluster subname\n",
    "meta = pd.read_csv(path_to_gonads+'FCA-gonads_somatic_annotated.csv')\n",
    "meta = meta.set_index('Unnamed: 0')\n",
    "meta['celltype'] = ['Somatic.'+i for i in meta['celltype'] ]\n",
    "meta.head()\n",
    "\n",
    "\n",
    "# Add germ cluster subname\n",
    "metaF = pd.read_csv(path_to_gonads+'/FCA-gonads_germcellsClean_annotated.csv')\n",
    "metaF = metaF.set_index('Unnamed: 0')\n",
    "metaF['celltype'] = ['Germ.'+i for i in metaF['celltype'] ]\n",
    "metaF.head()\n",
    "\n",
    "cell_annotM = meta['celltype'].to_dict()\n",
    "cell_annotF = metaF['celltype'].to_dict()\n",
    "cell_annot = {**cell_annotM , **cell_annotF}\n",
    "adata.obs['celltype'] = adata.obs_names.map(cell_annot)\n",
    "adata.obs['celltype'] = adata.obs['celltype'].fillna(adata.obs['lineage'])\n",
    "adata.obs['celltype'].value_counts()"
   ]
  },
  {
   "cell_type": "code",
   "execution_count": 7,
   "metadata": {},
   "outputs": [
    {
     "name": "stderr",
     "output_type": "stream",
     "text": [
      "/home/jovyan/my-conda-envs/sc_analysis/lib/python3.7/site-packages/pandas/core/arrays/categorical.py:2487: FutureWarning: The `inplace` parameter in pandas.Categorical.remove_unused_categories is deprecated and will be removed in a future version.\n",
      "  res = method(*args, **kwargs)\n"
     ]
    },
    {
     "data": {
      "text/plain": [
       "Mesenchymal_GATA2           84229\n",
       "Somatic.Sertoli             36917\n",
       "Somatic.Ti                  34808\n",
       "Somatic.Oi                  25730\n",
       "Somatic.preGC_IIb           23825\n",
       "Epithelial                  20222\n",
       "Somatic.preGC_I             15599\n",
       "Endothelial                 14484\n",
       "Somatic.preGC_IIa           13772\n",
       "PV                          12679\n",
       "Somatic.OSE                  8222\n",
       "Somatic.early_supporting     5894\n",
       "Somatic.CoelEpi_LHX9         5547\n",
       "Immune                       5533\n",
       "Somatic.Gi                   4749\n",
       "Somatic.CoelEpi_GATA2        4050\n",
       "Neural                       3783\n",
       "Germ.PGC                     3764\n",
       "Somatic.early_sPAX8          3648\n",
       "SMCs                         3044\n",
       "Somatic.FetalLeydig          2874\n",
       "Germ.oogonia_STRA8           2203\n",
       "Somatic.late_sPAX8           2118\n",
       "Germ.oogonia_meiotic         1875\n",
       "Somatic.early_somatic        1414\n",
       "Erythroid                    1371\n",
       "Germ.pre_oocyte               812\n",
       "Germ.oocyte                   723\n",
       "Germ.pre_spermatogonia        621\n",
       "Germ.GC_mitotic               510\n",
       "Germ.GC                       485\n",
       "Somatic.granulosa             366\n",
       "Name: celltype, dtype: int64"
      ]
     },
     "execution_count": 7,
     "metadata": {},
     "output_type": "execute_result"
    }
   ],
   "source": [
    "# Clean cells\n",
    "adata = adata[[ i not in ['cont', 'Doublet', 'lowQC', 'Supporting' ,'CoelEpi',  'GermCells', 'Mesenchymal_LHX9', 'preGranulosa']  for i in adata.obs.celltype ]]\n",
    "adata = adata[[ 'cont' not in i  for i in adata.obs.celltype ]]\n",
    "adata = adata[[ 'lowQC' not in i  for i in adata.obs.celltype ]]\n",
    "adata = adata[[ 'Doublet' not in i  for i in adata.obs.celltype ]]\n",
    "adata = adata[[ 'cycling' not in i  for i in adata.obs.celltype ]]\n",
    "adata.obs['celltype'].value_counts(dropna = False)"
   ]
  },
  {
   "cell_type": "markdown",
   "metadata": {},
   "source": [
    "# Subset dataset"
   ]
  },
  {
   "cell_type": "code",
   "execution_count": 8,
   "metadata": {},
   "outputs": [],
   "source": [
    "# save for cellphoneDB granulosa anaysis\n",
    "germ = ['Germ.GC','Germ.PGC', 'Germ.oocyte','Germ.oogonia_STRA8','Germ.oogonia_meiotic','Germ.pre_oocyte']\n",
    "somatic = ['Somatic.CoelEpi_LHX9', 'Somatic.early_supporting', 'Somatic.OSE','Somatic.preGC_I','Somatic.preGC_IIa','Somatic.preGC_IIb', 'Somatic.granulosa']\n",
    "cellphoneDB_adata =  adata[[ i in somatic+germ for i in adata.obs.celltype ]]\n",
    "cellphoneDB_adata = cellphoneDB_adata[[ 'female' in i for i in cellphoneDB_adata.obs.sex ]]"
   ]
  },
  {
   "cell_type": "code",
   "execution_count": 9,
   "metadata": {},
   "outputs": [
    {
     "name": "stderr",
     "output_type": "stream",
     "text": [
      "Trying to set attribute `.obs` of view, copying.\n"
     ]
    }
   ],
   "source": [
    "sc.pp.filter_cells(cellphoneDB_adata, min_genes=1500)"
   ]
  },
  {
   "cell_type": "code",
   "execution_count": 10,
   "metadata": {},
   "outputs": [
    {
     "name": "stderr",
     "output_type": "stream",
     "text": [
      "Trying to set attribute `.obs` of view, copying.\n"
     ]
    }
   ],
   "source": [
    "sc.pp.normalize_per_cell(cellphoneDB_adata)\n",
    "sc.pp.log1p(cellphoneDB_adata)                                                                                                            \n",
    "# sc.pp.scale(adata, max_value=10)"
   ]
  },
  {
   "cell_type": "code",
   "execution_count": 11,
   "metadata": {},
   "outputs": [
    {
     "name": "stderr",
     "output_type": "stream",
     "text": [
      "... storing 'lineage' as categorical\n",
      "... storing 'celltype' as categorical\n"
     ]
    }
   ],
   "source": [
    "cellphoneDB_adata.write('cellphoneDB/granulosa_normloqTransformed.h5ad')"
   ]
  },
  {
   "cell_type": "code",
   "execution_count": 12,
   "metadata": {},
   "outputs": [],
   "source": [
    "df_meta = pd.DataFrame(data={'Cell':list(cellphoneDB_adata.obs.index),\n",
    "                             'cell_type':[ str(i) for i in cellphoneDB_adata.obs['celltype']] })\n",
    "df_meta.set_index('Cell', inplace=True)\n",
    "df_meta.to_csv('cellphoneDB/ovarian_meta.tsv', sep = '\\t')"
   ]
  },
  {
   "cell_type": "markdown",
   "metadata": {},
   "source": [
    "# Merge DEGs file"
   ]
  },
  {
   "cell_type": "code",
   "execution_count": 13,
   "metadata": {},
   "outputs": [],
   "source": [
    "germDEG = pd.read_csv(path_to_gonads+'/FCA-gonad_germcells_DEGs.tsv', header=0, index_col=None, sep='\\t')\n",
    "germDEG['lineage'] = 'Germ'\n",
    "germDEG['celltype'] = germDEG['cluster']\n",
    "germDEG['cluster'] = ['Germ.'+i for i in germDEG['cluster'] ]\n",
    "\n",
    "somaDEG = pd.read_csv(path_to_gonads+'/FCA-gonad_somaticOvary_DEGs.tsv', header=0, index_col=None, sep='\\t')\n",
    "somaDEG['lineage'] = 'Somatic'\n",
    "somaDEG['celltype'] = somaDEG['cluster']\n",
    "somaDEG['cluster'] = ['Somatic.'+i for i in somaDEG['cluster'] ]"
   ]
  },
  {
   "cell_type": "code",
   "execution_count": 14,
   "metadata": {},
   "outputs": [],
   "source": [
    "DEG = germDEG.append(somaDEG)\n",
    "pd.DataFrame(DEG).to_csv('cellphoneDB/all_DEG_tests.tsv', sep='\\t', index=False)"
   ]
  },
  {
   "cell_type": "code",
   "execution_count": 15,
   "metadata": {},
   "outputs": [],
   "source": [
    "# select significant\n",
    "DEG = DEG[ DEG.p_val_adj < 0.01]\n",
    "DEG = DEG[ DEG.avg_logFC > 0.05]\n",
    "DEG = DEG[ DEG['pct.1'] > 0.09 ]"
   ]
  },
  {
   "cell_type": "code",
   "execution_count": 16,
   "metadata": {},
   "outputs": [],
   "source": [
    "# make sure DEGs only includes samples in meta\n",
    "cl2include = set(cellphoneDB_adata.obs.celltype.tolist())\n",
    "idx = np.array([i in cl2include for i in DEG.cluster])\n",
    "DEG = DEG[ idx ]"
   ]
  },
  {
   "cell_type": "code",
   "execution_count": 17,
   "metadata": {},
   "outputs": [],
   "source": [
    "cncol = DEG.columns.tolist()\n",
    "cncol = [item for item in cncol if item not in ['cluster', 'gene'] ]\n",
    "DEG = DEG[ ['cluster', 'gene']+cncol ]\n",
    "pd.DataFrame(DEG).to_csv('cellphoneDB/DEGs.tsv', sep='\\t', index=False)"
   ]
  },
  {
   "cell_type": "markdown",
   "metadata": {},
   "source": [
    "## Compute % percent and average files - for plotting latter"
   ]
  },
  {
   "cell_type": "code",
   "execution_count": 18,
   "metadata": {},
   "outputs": [],
   "source": [
    "cellphoneDB_adata.write('cellphoneDB/granulosa_normloqTransformed.h5ad')"
   ]
  },
  {
   "cell_type": "code",
   "execution_count": 19,
   "metadata": {},
   "outputs": [
    {
     "name": "stderr",
     "output_type": "stream",
     "text": [
      "/home/jovyan/my-conda-envs/sc_analysis/lib/python3.7/site-packages/pandas/core/arrays/categorical.py:2487: FutureWarning: The `inplace` parameter in pandas.Categorical.remove_unused_categories is deprecated and will be removed in a future version.\n",
      "  res = method(*args, **kwargs)\n"
     ]
    }
   ],
   "source": [
    "percent = grouped_obs_percent(cellphoneDB_adata, 'celltype')\n",
    "pd.DataFrame(percent).to_csv('cellphoneDB/ovarian_percent.csv')\n",
    "\n",
    "means = grouped_obs_mean(cellphoneDB_adata, 'celltype')\n",
    "pd.DataFrame(means).to_csv('cellphoneDB/ovarian_average_log.csv')"
   ]
  },
  {
   "cell_type": "code",
   "execution_count": null,
   "metadata": {},
   "outputs": [],
   "source": []
  }
 ],
 "metadata": {
  "kernelspec": {
   "display_name": "Python sc_analysis",
   "language": "python",
   "name": "sc_analysis"
  },
  "language_info": {
   "codemirror_mode": {
    "name": "ipython",
    "version": 3
   },
   "file_extension": ".py",
   "mimetype": "text/x-python",
   "name": "python",
   "nbconvert_exporter": "python",
   "pygments_lexer": "ipython3",
   "version": "3.7.10"
  }
 },
 "nbformat": 4,
 "nbformat_minor": 4
}
