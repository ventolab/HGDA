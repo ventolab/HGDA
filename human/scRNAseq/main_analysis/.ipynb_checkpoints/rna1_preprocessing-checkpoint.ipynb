{
 "cells": [
  {
   "cell_type": "markdown",
   "metadata": {},
   "source": [
    "# FCA analysis - preprocessing"
   ]
  },
  {
   "cell_type": "code",
   "execution_count": 1,
   "metadata": {},
   "outputs": [
    {
     "name": "stderr",
     "output_type": "stream",
     "text": [
      "WARNING: If you miss a compact list, please try `print_header`!\n"
     ]
    },
    {
     "name": "stdout",
     "output_type": "stream",
     "text": [
      "-----\n",
      "anndata     0.7.5\n",
      "scanpy      1.7.1\n",
      "sinfo       0.3.1\n",
      "-----\n",
      "PIL                 8.1.2\n",
      "anndata             0.7.5\n",
      "anyio               NA\n",
      "attr                20.3.0\n",
      "babel               2.9.0\n",
      "backcall            0.2.0\n",
      "brotli              NA\n",
      "cairo               1.20.0\n",
      "certifi             2020.12.05\n",
      "cffi                1.14.5\n",
      "chardet             4.0.0\n",
      "cloudpickle         1.6.0\n",
      "colorama            0.4.4\n",
      "cycler              0.10.0\n",
      "cython_runtime      NA\n",
      "cytoolz             0.11.0\n",
      "dask                2021.03.1\n",
      "dateutil            2.8.1\n",
      "decorator           4.4.2\n",
      "fsspec              0.8.7\n",
      "get_version         2.1\n",
      "google              NA\n",
      "h5py                3.1.0\n",
      "idna                2.10\n",
      "igraph              0.8.3\n",
      "ipykernel           5.5.0\n",
      "ipython_genutils    0.2.0\n",
      "jedi                0.18.0\n",
      "jinja2              2.11.3\n",
      "joblib              1.0.1\n",
      "json5               NA\n",
      "jsonschema          3.2.0\n",
      "jupyter_server      1.4.1\n",
      "jupyterlab_server   2.3.0\n",
      "kiwisolver          1.3.1\n",
      "legacy_api_wrap     0.0.0\n",
      "leidenalg           0.8.3\n",
      "llvmlite            0.34.0\n",
      "louvain             0.7.0\n",
      "markupsafe          1.1.1\n",
      "matplotlib          3.3.4\n",
      "mpl_toolkits        NA\n",
      "natsort             7.1.1\n",
      "nbclassic           NA\n",
      "nbformat            5.1.2\n",
      "numba               0.51.2\n",
      "numexpr             2.7.3\n",
      "numpy               1.20.1\n",
      "packaging           20.9\n",
      "pandas              1.2.3\n",
      "parso               0.8.1\n",
      "pexpect             4.8.0\n",
      "pickleshare         0.7.5\n",
      "pkg_resources       NA\n",
      "prometheus_client   NA\n",
      "prompt_toolkit      3.0.16\n",
      "psutil              5.8.0\n",
      "ptyprocess          0.7.0\n",
      "pvectorc            NA\n",
      "pyarrow             0.16.0\n",
      "pygments            2.8.0\n",
      "pyparsing           2.4.7\n",
      "pyrsistent          NA\n",
      "pytoml              NA\n",
      "pytz                2021.1\n",
      "requests            2.25.1\n",
      "ruamel              NA\n",
      "scanpy              1.7.1\n",
      "scipy               1.6.1\n",
      "send2trash          NA\n",
      "setuptools_scm      NA\n",
      "sinfo               0.3.1\n",
      "six                 1.15.0\n",
      "sklearn             0.24.1\n",
      "sniffio             1.2.0\n",
      "socks               1.7.1\n",
      "sphinxcontrib       NA\n",
      "storemagic          NA\n",
      "tables              3.6.1\n",
      "tblib               1.7.0\n",
      "texttable           1.6.3\n",
      "tlz                 0.11.0\n",
      "toolz               0.11.1\n",
      "tornado             6.1\n",
      "traitlets           5.0.5\n",
      "typing_extensions   NA\n",
      "urllib3             1.26.3\n",
      "wcwidth             0.2.5\n",
      "yaml                5.3.1\n",
      "zmq                 22.0.3\n",
      "-----\n",
      "IPython             7.21.0\n",
      "jupyter_client      6.1.11\n",
      "jupyter_core        4.7.1\n",
      "jupyterlab          3.0.9\n",
      "notebook            6.2.0\n",
      "-----\n",
      "Python 3.8.8 | packaged by conda-forge | (default, Feb 20 2021, 16:22:27) [GCC 9.3.0]\n",
      "Linux-4.15.0-156-generic-x86_64-with-glibc2.10\n",
      "26 logical CPU cores, x86_64\n",
      "-----\n",
      "Session information updated at 2021-10-14 00:23\n",
      "\n"
     ]
    },
    {
     "data": {
      "text/plain": [
       "'/opt/conda/bin/python'"
      ]
     },
     "execution_count": 1,
     "metadata": {},
     "output_type": "execute_result"
    }
   ],
   "source": [
    "import numpy as np\n",
    "import pandas as pd\n",
    "import scanpy as sc\n",
    "import matplotlib.pyplot as plt\n",
    "import os\n",
    "import sys\n",
    "\n",
    "\n",
    "def MovePlots(plotpattern, subplotdir):\n",
    "    os.system('mkdir -p '+str(sc.settings.figdir)+'/'+subplotdir)\n",
    "    os.system('mv '+str(sc.settings.figdir)+'/*'+plotpattern+'** '+str(sc.settings.figdir)+'/'+subplotdir)\n",
    "\n",
    "\n",
    "sc.settings.verbosity = 3  # verbosity: errors (0), warnings (1), info (2), hints (3)\n",
    "sc.settings.figdir = './figures/preprocessing/'\n",
    "sc.logging.print_versions()\n",
    "sc.settings.set_figure_params(dpi=80)  # low dpi (dots per inch) yields small inline figures\n",
    "\n",
    "sys.executable"
   ]
  },
  {
   "cell_type": "markdown",
   "metadata": {},
   "source": [
    "## Import data\n",
    "Import sample metadata"
   ]
  },
  {
   "cell_type": "code",
   "execution_count": 2,
   "metadata": {},
   "outputs": [
    {
     "name": "stdout",
     "output_type": "stream",
     "text": [
      "Number of samples:  72\n"
     ]
    }
   ],
   "source": [
    "data_dir = '/nfs/users/nfs_l/lg18/team292/lg18/gonads/data/scRNAseq/FCA/'\n",
    "meta = pd.read_csv(data_dir+'rawdata/meta_noimmune_v2.csv',index_col=0)\n",
    "meta['stage'] = meta['stage'].astype('str')\n",
    "plotmeta = list(meta.columns)\n",
    "plotmeta.append('sample')\n",
    "print('Number of samples: ', meta.index.size)"
   ]
  },
  {
   "cell_type": "code",
   "execution_count": 3,
   "metadata": {},
   "outputs": [
    {
     "data": {
      "text/html": [
       "<div>\n",
       "<style scoped>\n",
       "    .dataframe tbody tr th:only-of-type {\n",
       "        vertical-align: middle;\n",
       "    }\n",
       "\n",
       "    .dataframe tbody tr th {\n",
       "        vertical-align: top;\n",
       "    }\n",
       "\n",
       "    .dataframe thead th {\n",
       "        text-align: right;\n",
       "    }\n",
       "</style>\n",
       "<table border=\"1\" class=\"dataframe\">\n",
       "  <thead>\n",
       "    <tr style=\"text-align: right;\">\n",
       "      <th></th>\n",
       "      <th>donor</th>\n",
       "      <th>location</th>\n",
       "      <th>stage</th>\n",
       "      <th>sex</th>\n",
       "      <th>study</th>\n",
       "      <th>batch_collection</th>\n",
       "      <th>enrichment</th>\n",
       "      <th>cryopreserved</th>\n",
       "      <th>TP</th>\n",
       "      <th>10xKit</th>\n",
       "      <th>dig_protocol</th>\n",
       "    </tr>\n",
       "    <tr>\n",
       "      <th>sample</th>\n",
       "      <th></th>\n",
       "      <th></th>\n",
       "      <th></th>\n",
       "      <th></th>\n",
       "      <th></th>\n",
       "      <th></th>\n",
       "      <th></th>\n",
       "      <th></th>\n",
       "      <th></th>\n",
       "      <th></th>\n",
       "      <th></th>\n",
       "    </tr>\n",
       "  </thead>\n",
       "  <tbody>\n",
       "    <tr>\n",
       "      <th>FCA_GND8047885</th>\n",
       "      <td>F81</td>\n",
       "      <td>Gonad_and_extragonadal</td>\n",
       "      <td>8.8</td>\n",
       "      <td>female</td>\n",
       "      <td>FCA</td>\n",
       "      <td>A</td>\n",
       "      <td>CD45-</td>\n",
       "      <td>No</td>\n",
       "      <td>U</td>\n",
       "      <td>5v1.1</td>\n",
       "      <td>P_tryp</td>\n",
       "    </tr>\n",
       "    <tr>\n",
       "      <th>FCA_GND8125923</th>\n",
       "      <td>F86</td>\n",
       "      <td>Gonad_and_extragonadal</td>\n",
       "      <td>7.5</td>\n",
       "      <td>female</td>\n",
       "      <td>FCA</td>\n",
       "      <td>B</td>\n",
       "      <td>CD45-</td>\n",
       "      <td>No</td>\n",
       "      <td>U</td>\n",
       "      <td>5v1.1</td>\n",
       "      <td>P_tryp</td>\n",
       "    </tr>\n",
       "    <tr>\n",
       "      <th>FCA_GND8125925</th>\n",
       "      <td>F87</td>\n",
       "      <td>Gonad_and_extragonadal</td>\n",
       "      <td>11.0</td>\n",
       "      <td>female</td>\n",
       "      <td>FCA</td>\n",
       "      <td>B</td>\n",
       "      <td>CD45-</td>\n",
       "      <td>No</td>\n",
       "      <td>U</td>\n",
       "      <td>5v1.1</td>\n",
       "      <td>P_tryp</td>\n",
       "    </tr>\n",
       "    <tr>\n",
       "      <th>FCA_GND8103050</th>\n",
       "      <td>F83</td>\n",
       "      <td>Gonad_and_extragonadal</td>\n",
       "      <td>17.0</td>\n",
       "      <td>female</td>\n",
       "      <td>FCA</td>\n",
       "      <td>C</td>\n",
       "      <td>CD45-</td>\n",
       "      <td>No</td>\n",
       "      <td>U</td>\n",
       "      <td>5v1.1</td>\n",
       "      <td>P_tryp</td>\n",
       "    </tr>\n",
       "    <tr>\n",
       "      <th>FCA_GND8103053</th>\n",
       "      <td>F84</td>\n",
       "      <td>Gonad_and_extragonadal</td>\n",
       "      <td>9.0</td>\n",
       "      <td>female</td>\n",
       "      <td>FCA</td>\n",
       "      <td>Cpoor</td>\n",
       "      <td>CD45-</td>\n",
       "      <td>No</td>\n",
       "      <td>U</td>\n",
       "      <td>5v1.1</td>\n",
       "      <td>P_tryp</td>\n",
       "    </tr>\n",
       "    <tr>\n",
       "      <th>...</th>\n",
       "      <td>...</td>\n",
       "      <td>...</td>\n",
       "      <td>...</td>\n",
       "      <td>...</td>\n",
       "      <td>...</td>\n",
       "      <td>...</td>\n",
       "      <td>...</td>\n",
       "      <td>...</td>\n",
       "      <td>...</td>\n",
       "      <td>...</td>\n",
       "      <td>...</td>\n",
       "    </tr>\n",
       "    <tr>\n",
       "      <th>HD_F_GON9525516</th>\n",
       "      <td>Hrv91</td>\n",
       "      <td>Gonad</td>\n",
       "      <td>13.0</td>\n",
       "      <td>female</td>\n",
       "      <td>FCA</td>\n",
       "      <td>R</td>\n",
       "      <td>total</td>\n",
       "      <td>No</td>\n",
       "      <td>Sur</td>\n",
       "      <td>5DUAL</td>\n",
       "      <td>P_tryp</td>\n",
       "    </tr>\n",
       "    <tr>\n",
       "      <th>FCA_GND10375779</th>\n",
       "      <td>Hrv86</td>\n",
       "      <td>Gonad_and_extragonadal</td>\n",
       "      <td>16.0</td>\n",
       "      <td>female</td>\n",
       "      <td>FCA</td>\n",
       "      <td>S</td>\n",
       "      <td>total</td>\n",
       "      <td>No</td>\n",
       "      <td>Sur</td>\n",
       "      <td>5DUAL</td>\n",
       "      <td>P_tryp</td>\n",
       "    </tr>\n",
       "    <tr>\n",
       "      <th>FCA_GND10375780</th>\n",
       "      <td>Hrv86</td>\n",
       "      <td>Gonad_and_extragonadal</td>\n",
       "      <td>16.0</td>\n",
       "      <td>female</td>\n",
       "      <td>FCA</td>\n",
       "      <td>S</td>\n",
       "      <td>total</td>\n",
       "      <td>No</td>\n",
       "      <td>Sur</td>\n",
       "      <td>5DUAL</td>\n",
       "      <td>P_tryp</td>\n",
       "    </tr>\n",
       "    <tr>\n",
       "      <th>HCA_F_GON10941968</th>\n",
       "      <td>Hrv99</td>\n",
       "      <td>Gonad_and_extragonadal</td>\n",
       "      <td>8.0</td>\n",
       "      <td>female</td>\n",
       "      <td>FCA</td>\n",
       "      <td>T</td>\n",
       "      <td>total</td>\n",
       "      <td>No</td>\n",
       "      <td>Sur</td>\n",
       "      <td>5DUAL</td>\n",
       "      <td>P_tryp</td>\n",
       "    </tr>\n",
       "    <tr>\n",
       "      <th>HCA_F_GON10941969</th>\n",
       "      <td>Hrv99</td>\n",
       "      <td>Gonad_and_extragonadal</td>\n",
       "      <td>8.0</td>\n",
       "      <td>female</td>\n",
       "      <td>FCA</td>\n",
       "      <td>T</td>\n",
       "      <td>total</td>\n",
       "      <td>No</td>\n",
       "      <td>Sur</td>\n",
       "      <td>5DUAL</td>\n",
       "      <td>P_tryp</td>\n",
       "    </tr>\n",
       "  </tbody>\n",
       "</table>\n",
       "<p>72 rows × 11 columns</p>\n",
       "</div>"
      ],
      "text/plain": [
       "                   donor                location stage     sex study  \\\n",
       "sample                                                                 \n",
       "FCA_GND8047885       F81  Gonad_and_extragonadal   8.8  female   FCA   \n",
       "FCA_GND8125923       F86  Gonad_and_extragonadal   7.5  female   FCA   \n",
       "FCA_GND8125925       F87  Gonad_and_extragonadal  11.0  female   FCA   \n",
       "FCA_GND8103050       F83  Gonad_and_extragonadal  17.0  female   FCA   \n",
       "FCA_GND8103053       F84  Gonad_and_extragonadal   9.0  female   FCA   \n",
       "...                  ...                     ...   ...     ...   ...   \n",
       "HD_F_GON9525516    Hrv91                   Gonad  13.0  female   FCA   \n",
       "FCA_GND10375779    Hrv86  Gonad_and_extragonadal  16.0  female   FCA   \n",
       "FCA_GND10375780    Hrv86  Gonad_and_extragonadal  16.0  female   FCA   \n",
       "HCA_F_GON10941968  Hrv99  Gonad_and_extragonadal   8.0  female   FCA   \n",
       "HCA_F_GON10941969  Hrv99  Gonad_and_extragonadal   8.0  female   FCA   \n",
       "\n",
       "                  batch_collection enrichment cryopreserved   TP 10xKit  \\\n",
       "sample                                                                    \n",
       "FCA_GND8047885                   A      CD45-            No    U  5v1.1   \n",
       "FCA_GND8125923                   B      CD45-            No    U  5v1.1   \n",
       "FCA_GND8125925                   B      CD45-            No    U  5v1.1   \n",
       "FCA_GND8103050                   C      CD45-            No    U  5v1.1   \n",
       "FCA_GND8103053               Cpoor      CD45-            No    U  5v1.1   \n",
       "...                            ...        ...           ...  ...    ...   \n",
       "HD_F_GON9525516                  R      total            No  Sur  5DUAL   \n",
       "FCA_GND10375779                  S      total            No  Sur  5DUAL   \n",
       "FCA_GND10375780                  S      total            No  Sur  5DUAL   \n",
       "HCA_F_GON10941968                T      total            No  Sur  5DUAL   \n",
       "HCA_F_GON10941969                T      total            No  Sur  5DUAL   \n",
       "\n",
       "                  dig_protocol  \n",
       "sample                          \n",
       "FCA_GND8047885          P_tryp  \n",
       "FCA_GND8125923          P_tryp  \n",
       "FCA_GND8125925          P_tryp  \n",
       "FCA_GND8103050          P_tryp  \n",
       "FCA_GND8103053          P_tryp  \n",
       "...                        ...  \n",
       "HD_F_GON9525516         P_tryp  \n",
       "FCA_GND10375779         P_tryp  \n",
       "FCA_GND10375780         P_tryp  \n",
       "HCA_F_GON10941968       P_tryp  \n",
       "HCA_F_GON10941969       P_tryp  \n",
       "\n",
       "[72 rows x 11 columns]"
      ]
     },
     "execution_count": 3,
     "metadata": {},
     "output_type": "execute_result"
    }
   ],
   "source": [
    "meta"
   ]
  },
  {
   "cell_type": "markdown",
   "metadata": {},
   "source": [
    "## Preprocessing\n",
    "### Load 10x \n",
    "\n",
    "Filter: 1) cells (< 10 genes); 2) genes (< 3 cells) \n",
    "\n",
    "Quantify: 1) % mitochondrial genes; 2) total counts\n"
   ]
  },
  {
   "cell_type": "code",
   "execution_count": 4,
   "metadata": {},
   "outputs": [
    {
     "name": "stderr",
     "output_type": "stream",
     "text": [
      "... reading from cache file cache/nfs-users-nfs_l-lg18-team292-lg18-gonads-data-scRNAseq-FCA-rawdata-FCA_GND8047885-filtered_feature_bc_matrix-matrix.h5ad\n"
     ]
    },
    {
     "name": "stdout",
     "output_type": "stream",
     "text": [
      "FCA_GND8047885\n"
     ]
    },
    {
     "name": "stderr",
     "output_type": "stream",
     "text": [
      "filtered out 13510 genes that are detected in less than 3 cells\n",
      "filtered out 15 cells that have less than 150 genes expressed\n",
      "... reading from cache file cache/nfs-users-nfs_l-lg18-team292-lg18-gonads-data-scRNAseq-FCA-rawdata-FCA_GND8125923-filtered_feature_bc_matrix-matrix.h5ad\n"
     ]
    },
    {
     "name": "stdout",
     "output_type": "stream",
     "text": [
      "Total number of cells: 9227\n",
      "Total number of genes: 20028\n",
      "FCA_GND8125923\n"
     ]
    },
    {
     "name": "stderr",
     "output_type": "stream",
     "text": [
      "filtered out 12810 genes that are detected in less than 3 cells\n",
      "filtered out 66 cells that have less than 150 genes expressed\n",
      "... reading from cache file cache/nfs-users-nfs_l-lg18-team292-lg18-gonads-data-scRNAseq-FCA-rawdata-FCA_GND8125925-filtered_feature_bc_matrix-matrix.h5ad\n"
     ]
    },
    {
     "name": "stdout",
     "output_type": "stream",
     "text": [
      "Total number of cells: 4147\n",
      "Total number of genes: 20728\n",
      "FCA_GND8125925\n"
     ]
    },
    {
     "name": "stderr",
     "output_type": "stream",
     "text": [
      "filtered out 14764 genes that are detected in less than 3 cells\n",
      "filtered out 136 cells that have less than 150 genes expressed\n",
      "... reading from cache file cache/nfs-users-nfs_l-lg18-team292-lg18-gonads-data-scRNAseq-FCA-rawdata-FCA_GND8103050-filtered_feature_bc_matrix-matrix.h5ad\n"
     ]
    },
    {
     "name": "stdout",
     "output_type": "stream",
     "text": [
      "Total number of cells: 3093\n",
      "Total number of genes: 18774\n",
      "FCA_GND8103050\n"
     ]
    },
    {
     "name": "stderr",
     "output_type": "stream",
     "text": [
      "filtered out 12350 genes that are detected in less than 3 cells\n",
      "filtered out 18 cells that have less than 150 genes expressed\n",
      "... reading from cache file cache/nfs-users-nfs_l-lg18-team292-lg18-gonads-data-scRNAseq-FCA-rawdata-FCA_GND8103053-filtered_feature_bc_matrix-matrix.h5ad\n"
     ]
    },
    {
     "name": "stdout",
     "output_type": "stream",
     "text": [
      "Total number of cells: 11516\n",
      "Total number of genes: 21188\n",
      "FCA_GND8103053\n"
     ]
    },
    {
     "name": "stderr",
     "output_type": "stream",
     "text": [
      "filtered out 15821 genes that are detected in less than 3 cells\n",
      "filtered out 9 cells that have less than 150 genes expressed\n",
      "... reading from cache file cache/nfs-users-nfs_l-lg18-team292-lg18-gonads-data-scRNAseq-FCA-rawdata-FCA_GND8622625-filtered_feature_bc_matrix-matrix.h5ad\n"
     ]
    },
    {
     "name": "stdout",
     "output_type": "stream",
     "text": [
      "Total number of cells: 3472\n",
      "Total number of genes: 17717\n",
      "FCA_GND8622625\n"
     ]
    },
    {
     "name": "stderr",
     "output_type": "stream",
     "text": [
      "filtered out 16461 genes that are detected in less than 3 cells\n",
      "filtered out 35 cells that have less than 150 genes expressed\n",
      "... reading from cache file cache/nfs-users-nfs_l-lg18-team292-lg18-gonads-data-scRNAseq-FCA-rawdata-FCA_GND8622626-filtered_feature_bc_matrix-matrix.h5ad\n"
     ]
    },
    {
     "name": "stdout",
     "output_type": "stream",
     "text": [
      "Total number of cells: 1157\n",
      "Total number of genes: 17077\n",
      "FCA_GND8622626\n"
     ]
    },
    {
     "name": "stderr",
     "output_type": "stream",
     "text": [
      "filtered out 16577 genes that are detected in less than 3 cells\n",
      "filtered out 25 cells that have less than 150 genes expressed\n",
      "... reading from cache file cache/nfs-users-nfs_l-lg18-team292-lg18-gonads-data-scRNAseq-FCA-rawdata-FCA_GND8622628-filtered_feature_bc_matrix-matrix.h5ad\n"
     ]
    },
    {
     "name": "stdout",
     "output_type": "stream",
     "text": [
      "Total number of cells: 1056\n",
      "Total number of genes: 16961\n",
      "FCA_GND8622628\n"
     ]
    },
    {
     "name": "stderr",
     "output_type": "stream",
     "text": [
      "filtered out 12668 genes that are detected in less than 3 cells\n",
      "filtered out 126 cells that have less than 150 genes expressed\n",
      "... reading from cache file cache/nfs-users-nfs_l-lg18-team292-lg18-gonads-data-scRNAseq-FCA-rawdata-FCA_GND8715408-filtered_feature_bc_matrix-matrix.h5ad\n"
     ]
    },
    {
     "name": "stdout",
     "output_type": "stream",
     "text": [
      "Total number of cells: 5227\n",
      "Total number of genes: 20870\n",
      "FCA_GND8715408\n"
     ]
    },
    {
     "name": "stderr",
     "output_type": "stream",
     "text": [
      "filtered out 15403 genes that are detected in less than 3 cells\n",
      "filtered out 489 cells that have less than 150 genes expressed\n",
      "... reading from cache file cache/nfs-users-nfs_l-lg18-team292-lg18-gonads-data-scRNAseq-FCA-rawdata-FCA_GND8289580-filtered_feature_bc_matrix-matrix.h5ad\n"
     ]
    },
    {
     "name": "stdout",
     "output_type": "stream",
     "text": [
      "Total number of cells: 2890\n",
      "Total number of genes: 18135\n",
      "FCA_GND8289580\n"
     ]
    },
    {
     "name": "stderr",
     "output_type": "stream",
     "text": [
      "filtered out 13595 genes that are detected in less than 3 cells\n",
      "filtered out 80 cells that have less than 150 genes expressed\n",
      "... reading from cache file cache/nfs-users-nfs_l-lg18-team292-lg18-gonads-data-scRNAseq-FCA-rawdata-FCA_GND8622630-filtered_feature_bc_matrix-matrix.h5ad\n",
      "filtered out 21362 genes that are detected in less than 3 cells\n",
      "... reading from cache file cache/nfs-users-nfs_l-lg18-team292-lg18-gonads-data-scRNAseq-FCA-rawdata-FCA_GND8715519-filtered_feature_bc_matrix-matrix.h5ad\n"
     ]
    },
    {
     "name": "stdout",
     "output_type": "stream",
     "text": [
      "Total number of cells: 10833\n",
      "Total number of genes: 19943\n",
      "FCA_GND8622630\n",
      "Total number of cells: 100\n",
      "Total number of genes: 12176\n",
      "FCA_GND8715519\n"
     ]
    },
    {
     "name": "stderr",
     "output_type": "stream",
     "text": [
      "filtered out 11260 genes that are detected in less than 3 cells\n",
      "filtered out 15 cells that have less than 150 genes expressed\n",
      "... reading from cache file cache/nfs-users-nfs_l-lg18-team292-lg18-gonads-data-scRNAseq-FCA-rawdata-FCA_GND8784460-filtered_feature_bc_matrix-matrix.h5ad\n"
     ]
    },
    {
     "name": "stdout",
     "output_type": "stream",
     "text": [
      "Total number of cells: 5825\n",
      "Total number of genes: 22278\n",
      "FCA_GND8784460\n"
     ]
    },
    {
     "name": "stderr",
     "output_type": "stream",
     "text": [
      "filtered out 12539 genes that are detected in less than 3 cells\n",
      "filtered out 41 cells that have less than 150 genes expressed\n",
      "... reading from cache file cache/nfs-users-nfs_l-lg18-team292-lg18-gonads-data-scRNAseq-FCA-rawdata-FCA_GND8784458-filtered_feature_bc_matrix-matrix.h5ad\n"
     ]
    },
    {
     "name": "stdout",
     "output_type": "stream",
     "text": [
      "Total number of cells: 6965\n",
      "Total number of genes: 20999\n",
      "FCA_GND8784458\n"
     ]
    },
    {
     "name": "stderr",
     "output_type": "stream",
     "text": [
      "filtered out 12483 genes that are detected in less than 3 cells\n",
      "... reading from cache file cache/nfs-users-nfs_l-lg18-team292-lg18-gonads-data-scRNAseq-FCA-rawdata-FCA_GND8810844-filtered_feature_bc_matrix-matrix.h5ad\n"
     ]
    },
    {
     "name": "stdout",
     "output_type": "stream",
     "text": [
      "Total number of cells: 8703\n",
      "Total number of genes: 21055\n",
      "FCA_GND8810844\n"
     ]
    },
    {
     "name": "stderr",
     "output_type": "stream",
     "text": [
      "filtered out 13828 genes that are detected in less than 3 cells\n",
      "filtered out 31 cells that have less than 150 genes expressed\n",
      "... reading from cache file cache/nfs-users-nfs_l-lg18-team292-lg18-gonads-data-scRNAseq-FCA-rawdata-FCA_GND8810845-filtered_feature_bc_matrix-matrix.h5ad\n"
     ]
    },
    {
     "name": "stdout",
     "output_type": "stream",
     "text": [
      "Total number of cells: 3024\n",
      "Total number of genes: 19710\n",
      "FCA_GND8810845\n"
     ]
    },
    {
     "name": "stderr",
     "output_type": "stream",
     "text": [
      "filtered out 16301 genes that are detected in less than 3 cells\n",
      "filtered out 3 cells that have less than 150 genes expressed\n",
      "... reading from cache file cache/nfs-users-nfs_l-lg18-team292-lg18-gonads-data-scRNAseq-FCA-rawdata-FCA_GND8810848-filtered_feature_bc_matrix-matrix.h5ad\n"
     ]
    },
    {
     "name": "stdout",
     "output_type": "stream",
     "text": [
      "Total number of cells: 1761\n",
      "Total number of genes: 17237\n",
      "FCA_GND8810848\n"
     ]
    },
    {
     "name": "stderr",
     "output_type": "stream",
     "text": [
      "filtered out 13848 genes that are detected in less than 3 cells\n",
      "filtered out 17 cells that have less than 150 genes expressed\n",
      "... reading from cache file cache/nfs-users-nfs_l-lg18-team292-lg18-gonads-data-scRNAseq-FCA-rawdata-FCA_GND8810846-filtered_feature_bc_matrix-matrix.h5ad\n"
     ]
    },
    {
     "name": "stdout",
     "output_type": "stream",
     "text": [
      "Total number of cells: 2733\n",
      "Total number of genes: 19690\n",
      "FCA_GND8810846\n"
     ]
    },
    {
     "name": "stderr",
     "output_type": "stream",
     "text": [
      "filtered out 15905 genes that are detected in less than 3 cells\n",
      "filtered out 243 cells that have less than 150 genes expressed\n",
      "... reading from cache file cache/nfs-users-nfs_l-lg18-team292-lg18-gonads-data-scRNAseq-FCA-rawdata-FCA_GND8810850-filtered_feature_bc_matrix-matrix.h5ad\n"
     ]
    },
    {
     "name": "stdout",
     "output_type": "stream",
     "text": [
      "Total number of cells: 1988\n",
      "Total number of genes: 17633\n",
      "FCA_GND8810850\n"
     ]
    },
    {
     "name": "stderr",
     "output_type": "stream",
     "text": [
      "filtered out 16261 genes that are detected in less than 3 cells\n",
      "filtered out 5 cells that have less than 150 genes expressed\n",
      "... reading from cache file cache/nfs-users-nfs_l-lg18-team292-lg18-gonads-data-scRNAseq-FCA-rawdata-FCA_GND8810851-filtered_feature_bc_matrix-matrix.h5ad\n"
     ]
    },
    {
     "name": "stdout",
     "output_type": "stream",
     "text": [
      "Total number of cells: 2197\n",
      "Total number of genes: 17277\n",
      "FCA_GND8810851\n"
     ]
    },
    {
     "name": "stderr",
     "output_type": "stream",
     "text": [
      "filtered out 11461 genes that are detected in less than 3 cells\n",
      "filtered out 6 cells that have less than 150 genes expressed\n",
      "... reading from cache file cache/nfs-users-nfs_l-lg18-team292-lg18-gonads-data-scRNAseq-FCA-rawdata-FCA_GND8810852-filtered_feature_bc_matrix-matrix.h5ad\n"
     ]
    },
    {
     "name": "stdout",
     "output_type": "stream",
     "text": [
      "Total number of cells: 11159\n",
      "Total number of genes: 22077\n",
      "FCA_GND8810852\n"
     ]
    },
    {
     "name": "stderr",
     "output_type": "stream",
     "text": [
      "filtered out 13797 genes that are detected in less than 3 cells\n",
      "filtered out 31 cells that have less than 150 genes expressed\n",
      "... reading from cache file cache/nfs-users-nfs_l-lg18-team292-lg18-gonads-data-scRNAseq-FCA-rawdata-FCA_GND9331965-filtered_feature_bc_matrix-matrix.h5ad\n"
     ]
    },
    {
     "name": "stdout",
     "output_type": "stream",
     "text": [
      "Total number of cells: 5265\n",
      "Total number of genes: 19741\n",
      "FCA_GND9331965\n"
     ]
    },
    {
     "name": "stderr",
     "output_type": "stream",
     "text": [
      "filtered out 11304 genes that are detected in less than 3 cells\n",
      "filtered out 46 cells that have less than 150 genes expressed\n",
      "... reading from cache file cache/nfs-users-nfs_l-lg18-team292-lg18-gonads-data-scRNAseq-FCA-rawdata-FCA_GND9331966-filtered_feature_bc_matrix-matrix.h5ad\n"
     ]
    },
    {
     "name": "stdout",
     "output_type": "stream",
     "text": [
      "Total number of cells: 10326\n",
      "Total number of genes: 22234\n",
      "FCA_GND9331966\n"
     ]
    },
    {
     "name": "stderr",
     "output_type": "stream",
     "text": [
      "filtered out 11973 genes that are detected in less than 3 cells\n",
      "filtered out 47 cells that have less than 150 genes expressed\n",
      "... reading from cache file cache/nfs-users-nfs_l-lg18-team292-lg18-gonads-data-scRNAseq-FCA-rawdata-FCA_GND9331967-filtered_feature_bc_matrix-matrix.h5ad\n"
     ]
    },
    {
     "name": "stdout",
     "output_type": "stream",
     "text": [
      "Total number of cells: 27637\n",
      "Total number of genes: 21565\n",
      "FCA_GND9331967\n"
     ]
    },
    {
     "name": "stderr",
     "output_type": "stream",
     "text": [
      "filtered out 12509 genes that are detected in less than 3 cells\n",
      "filtered out 1 cells that have less than 150 genes expressed\n",
      "... reading from cache file cache/nfs-users-nfs_l-lg18-team292-lg18-gonads-data-scRNAseq-FCA-rawdata-FCA_GND9331968-filtered_feature_bc_matrix-matrix.h5ad\n"
     ]
    },
    {
     "name": "stdout",
     "output_type": "stream",
     "text": [
      "Total number of cells: 14345\n",
      "Total number of genes: 21029\n",
      "FCA_GND9331968\n"
     ]
    },
    {
     "name": "stderr",
     "output_type": "stream",
     "text": [
      "filtered out 11962 genes that are detected in less than 3 cells\n",
      "filtered out 24 cells that have less than 150 genes expressed\n",
      "... reading from cache file cache/nfs-users-nfs_l-lg18-team292-lg18-gonads-data-scRNAseq-FCA-rawdata-FCA_GND9331969-filtered_feature_bc_matrix-matrix.h5ad\n"
     ]
    },
    {
     "name": "stdout",
     "output_type": "stream",
     "text": [
      "Total number of cells: 11138\n",
      "Total number of genes: 21576\n",
      "FCA_GND9331969\n"
     ]
    },
    {
     "name": "stderr",
     "output_type": "stream",
     "text": [
      "filtered out 16481 genes that are detected in less than 3 cells\n",
      "filtered out 1 cells that have less than 150 genes expressed\n",
      "... reading from cache file cache/nfs-users-nfs_l-lg18-team292-lg18-gonads-data-scRNAseq-FCA-rawdata-FCA_GND9331970-filtered_feature_bc_matrix-matrix.h5ad\n"
     ]
    },
    {
     "name": "stdout",
     "output_type": "stream",
     "text": [
      "Total number of cells: 869\n",
      "Total number of genes: 17057\n",
      "FCA_GND9331970\n"
     ]
    },
    {
     "name": "stderr",
     "output_type": "stream",
     "text": [
      "filtered out 13196 genes that are detected in less than 3 cells\n",
      "filtered out 1 cells that have less than 150 genes expressed\n",
      "... reading from cache file cache/nfs-users-nfs_l-lg18-team292-lg18-gonads-data-scRNAseq-FCA-rawdata-FCA_GND9295208-filtered_feature_bc_matrix-matrix.h5ad\n"
     ]
    },
    {
     "name": "stdout",
     "output_type": "stream",
     "text": [
      "Total number of cells: 12288\n",
      "Total number of genes: 20342\n",
      "FCA_GND9295208\n"
     ]
    },
    {
     "name": "stderr",
     "output_type": "stream",
     "text": [
      "filtered out 16020 genes that are detected in less than 3 cells\n",
      "filtered out 43 cells that have less than 150 genes expressed\n",
      "... reading from cache file cache/nfs-users-nfs_l-lg18-team292-lg18-gonads-data-scRNAseq-FCA-rawdata-FCA_GND9295209-filtered_feature_bc_matrix-matrix.h5ad\n"
     ]
    },
    {
     "name": "stdout",
     "output_type": "stream",
     "text": [
      "Total number of cells: 1527\n",
      "Total number of genes: 17518\n",
      "FCA_GND9295209\n"
     ]
    },
    {
     "name": "stderr",
     "output_type": "stream",
     "text": [
      "filtered out 15625 genes that are detected in less than 3 cells\n",
      "filtered out 45 cells that have less than 150 genes expressed\n",
      "... reading from cache file cache/nfs-users-nfs_l-lg18-team292-lg18-gonads-data-scRNAseq-FCA-rawdata-FCA_GND9295210-filtered_feature_bc_matrix-matrix.h5ad\n"
     ]
    },
    {
     "name": "stdout",
     "output_type": "stream",
     "text": [
      "Total number of cells: 1754\n",
      "Total number of genes: 17913\n",
      "FCA_GND9295210\n"
     ]
    },
    {
     "name": "stderr",
     "output_type": "stream",
     "text": [
      "filtered out 12397 genes that are detected in less than 3 cells\n",
      "... reading from cache file cache/nfs-users-nfs_l-lg18-team292-lg18-gonads-data-scRNAseq-FCA-rawdata-FCA_GND9295212-filtered_feature_bc_matrix-matrix.h5ad\n"
     ]
    },
    {
     "name": "stdout",
     "output_type": "stream",
     "text": [
      "Total number of cells: 10000\n",
      "Total number of genes: 21141\n",
      "FCA_GND9295212\n"
     ]
    },
    {
     "name": "stderr",
     "output_type": "stream",
     "text": [
      "filtered out 12614 genes that are detected in less than 3 cells\n",
      "... reading from cache file cache/nfs-users-nfs_l-lg18-team292-lg18-gonads-data-scRNAseq-FCA-rawdata-FCA_GND9332062-filtered_feature_bc_matrix-matrix.h5ad\n"
     ]
    },
    {
     "name": "stdout",
     "output_type": "stream",
     "text": [
      "Total number of cells: 10000\n",
      "Total number of genes: 20924\n",
      "FCA_GND9332062\n"
     ]
    },
    {
     "name": "stderr",
     "output_type": "stream",
     "text": [
      "filtered out 10683 genes that are detected in less than 3 cells\n",
      "filtered out 82 cells that have less than 150 genes expressed\n",
      "... reading from cache file cache/nfs-users-nfs_l-lg18-team292-lg18-gonads-data-scRNAseq-FCA-rawdata-FCA_GND9332064-filtered_feature_bc_matrix-matrix.h5ad\n"
     ]
    },
    {
     "name": "stdout",
     "output_type": "stream",
     "text": [
      "Total number of cells: 21584\n",
      "Total number of genes: 22855\n",
      "FCA_GND9332064\n"
     ]
    },
    {
     "name": "stderr",
     "output_type": "stream",
     "text": [
      "filtered out 13879 genes that are detected in less than 3 cells\n",
      "filtered out 25 cells that have less than 150 genes expressed\n",
      "... reading from cache file cache/nfs-users-nfs_l-lg18-team292-lg18-gonads-data-scRNAseq-FCA-rawdata-FCA_GND9332065-filtered_feature_bc_matrix-matrix.h5ad\n"
     ]
    },
    {
     "name": "stdout",
     "output_type": "stream",
     "text": [
      "Total number of cells: 1573\n",
      "Total number of genes: 19659\n",
      "FCA_GND9332065\n"
     ]
    },
    {
     "name": "stderr",
     "output_type": "stream",
     "text": [
      "filtered out 14663 genes that are detected in less than 3 cells\n",
      "filtered out 8 cells that have less than 150 genes expressed\n",
      "... reading from cache file cache/nfs-users-nfs_l-lg18-team292-lg18-gonads-data-scRNAseq-FCA-rawdata-FCA_GND9332061-filtered_feature_bc_matrix-matrix.h5ad\n"
     ]
    },
    {
     "name": "stdout",
     "output_type": "stream",
     "text": [
      "Total number of cells: 2240\n",
      "Total number of genes: 18875\n",
      "FCA_GND9332061\n"
     ]
    },
    {
     "name": "stderr",
     "output_type": "stream",
     "text": [
      "filtered out 13213 genes that are detected in less than 3 cells\n",
      "filtered out 1 cells that have less than 150 genes expressed\n",
      "... reading from cache file cache/nfs-users-nfs_l-lg18-team292-lg18-gonads-data-scRNAseq-FCA-rawdata-HD_F_GON9460406-filtered_feature_bc_matrix-matrix.h5ad\n"
     ]
    },
    {
     "name": "stdout",
     "output_type": "stream",
     "text": [
      "Total number of cells: 10673\n",
      "Total number of genes: 20325\n",
      "HD_F_GON9460406\n"
     ]
    },
    {
     "name": "stderr",
     "output_type": "stream",
     "text": [
      "filtered out 10700 genes that are detected in less than 3 cells\n",
      "filtered out 7 cells that have less than 150 genes expressed\n",
      "... reading from cache file cache/nfs-users-nfs_l-lg18-team292-lg18-gonads-data-scRNAseq-FCA-rawdata-HD_F_GON9460407-filtered_feature_bc_matrix-matrix.h5ad\n"
     ]
    },
    {
     "name": "stdout",
     "output_type": "stream",
     "text": [
      "Total number of cells: 10941\n",
      "Total number of genes: 22838\n",
      "HD_F_GON9460407\n"
     ]
    },
    {
     "name": "stderr",
     "output_type": "stream",
     "text": [
      "filtered out 10474 genes that are detected in less than 3 cells\n",
      "filtered out 4 cells that have less than 150 genes expressed\n",
      "... reading from cache file cache/nfs-users-nfs_l-lg18-team292-lg18-gonads-data-scRNAseq-FCA-rawdata-HD_F_GON9460408-filtered_feature_bc_matrix-matrix.h5ad\n"
     ]
    },
    {
     "name": "stdout",
     "output_type": "stream",
     "text": [
      "Total number of cells: 10077\n",
      "Total number of genes: 23064\n",
      "HD_F_GON9460408\n"
     ]
    },
    {
     "name": "stderr",
     "output_type": "stream",
     "text": [
      "filtered out 11077 genes that are detected in less than 3 cells\n",
      "filtered out 63 cells that have less than 150 genes expressed\n",
      "... reading from cache file cache/nfs-users-nfs_l-lg18-team292-lg18-gonads-data-scRNAseq-FCA-rawdata-HD_F_GON9480063-filtered_feature_bc_matrix-matrix.h5ad\n"
     ]
    },
    {
     "name": "stdout",
     "output_type": "stream",
     "text": [
      "Total number of cells: 10739\n",
      "Total number of genes: 22461\n",
      "HD_F_GON9480063\n"
     ]
    },
    {
     "name": "stderr",
     "output_type": "stream",
     "text": [
      "filtered out 10778 genes that are detected in less than 3 cells\n",
      "filtered out 3 cells that have less than 150 genes expressed\n",
      "... reading from cache file cache/nfs-users-nfs_l-lg18-team292-lg18-gonads-data-scRNAseq-FCA-rawdata-HD_F_GON9480064-filtered_feature_bc_matrix-matrix.h5ad\n"
     ]
    },
    {
     "name": "stdout",
     "output_type": "stream",
     "text": [
      "Total number of cells: 8631\n",
      "Total number of genes: 22760\n",
      "HD_F_GON9480064\n"
     ]
    },
    {
     "name": "stderr",
     "output_type": "stream",
     "text": [
      "filtered out 10808 genes that are detected in less than 3 cells\n",
      "filtered out 1 cells that have less than 150 genes expressed\n",
      "... reading from cache file cache/nfs-users-nfs_l-lg18-team292-lg18-gonads-data-scRNAseq-FCA-rawdata-HD_F_GON9480066-filtered_feature_bc_matrix-matrix.h5ad\n"
     ]
    },
    {
     "name": "stdout",
     "output_type": "stream",
     "text": [
      "Total number of cells: 8374\n",
      "Total number of genes: 22730\n",
      "HD_F_GON9480066\n"
     ]
    },
    {
     "name": "stderr",
     "output_type": "stream",
     "text": [
      "filtered out 12824 genes that are detected in less than 3 cells\n",
      "filtered out 1 cells that have less than 150 genes expressed\n",
      "... reading from cache file cache/nfs-users-nfs_l-lg18-team292-lg18-gonads-data-scRNAseq-FCA-rawdata-HD_F_GON9479968-filtered_feature_bc_matrix-matrix.h5ad\n"
     ]
    },
    {
     "name": "stdout",
     "output_type": "stream",
     "text": [
      "Total number of cells: 5971\n",
      "Total number of genes: 20714\n",
      "HD_F_GON9479968\n"
     ]
    },
    {
     "name": "stderr",
     "output_type": "stream",
     "text": [
      "filtered out 14206 genes that are detected in less than 3 cells\n",
      "filtered out 15 cells that have less than 150 genes expressed\n",
      "... reading from cache file cache/nfs-users-nfs_l-lg18-team292-lg18-gonads-data-scRNAseq-FCA-rawdata-HD_F_GON9479969-filtered_feature_bc_matrix-matrix.h5ad\n"
     ]
    },
    {
     "name": "stdout",
     "output_type": "stream",
     "text": [
      "Total number of cells: 1538\n",
      "Total number of genes: 19332\n",
      "HD_F_GON9479969\n"
     ]
    },
    {
     "name": "stderr",
     "output_type": "stream",
     "text": [
      "filtered out 12506 genes that are detected in less than 3 cells\n",
      "filtered out 286 cells that have less than 150 genes expressed\n",
      "... reading from cache file cache/nfs-users-nfs_l-lg18-team292-lg18-gonads-data-scRNAseq-FCA-rawdata-HD_F_GON9479970-filtered_feature_bc_matrix-matrix.h5ad\n"
     ]
    },
    {
     "name": "stdout",
     "output_type": "stream",
     "text": [
      "Total number of cells: 4714\n",
      "Total number of genes: 21032\n",
      "HD_F_GON9479970\n"
     ]
    },
    {
     "name": "stderr",
     "output_type": "stream",
     "text": [
      "filtered out 13048 genes that are detected in less than 3 cells\n",
      "filtered out 7 cells that have less than 150 genes expressed\n",
      "... reading from cache file cache/nfs-users-nfs_l-lg18-team292-lg18-gonads-data-scRNAseq-FCA-rawdata-HD_F_GON9699334-filtered_feature_bc_matrix-matrix.h5ad\n"
     ]
    },
    {
     "name": "stdout",
     "output_type": "stream",
     "text": [
      "Total number of cells: 6280\n",
      "Total number of genes: 20490\n",
      "HD_F_GON9699334\n"
     ]
    },
    {
     "name": "stderr",
     "output_type": "stream",
     "text": [
      "filtered out 9271 genes that are detected in less than 3 cells\n",
      "filtered out 55 cells that have less than 150 genes expressed\n",
      "... reading from cache file cache/nfs-users-nfs_l-lg18-team292-lg18-gonads-data-scRNAseq-FCA-rawdata-HD_F_GON9699332-filtered_feature_bc_matrix-matrix.h5ad\n"
     ]
    },
    {
     "name": "stdout",
     "output_type": "stream",
     "text": [
      "Total number of cells: 8792\n",
      "Total number of genes: 24267\n",
      "HD_F_GON9699332\n"
     ]
    },
    {
     "name": "stderr",
     "output_type": "stream",
     "text": [
      "filtered out 9818 genes that are detected in less than 3 cells\n",
      "filtered out 40 cells that have less than 150 genes expressed\n",
      "... reading from cache file cache/nfs-users-nfs_l-lg18-team292-lg18-gonads-data-scRNAseq-FCA-rawdata-HD_F_GON9699337-filtered_feature_bc_matrix-matrix.h5ad\n"
     ]
    },
    {
     "name": "stdout",
     "output_type": "stream",
     "text": [
      "Total number of cells: 8192\n",
      "Total number of genes: 23720\n",
      "HD_F_GON9699337\n"
     ]
    },
    {
     "name": "stderr",
     "output_type": "stream",
     "text": [
      "filtered out 11816 genes that are detected in less than 3 cells\n",
      "filtered out 58 cells that have less than 150 genes expressed\n",
      "... reading from cache file cache/nfs-users-nfs_l-lg18-team292-lg18-gonads-data-scRNAseq-FCA-rawdata-HD_F_GON9883867-filtered_feature_bc_matrix-matrix.h5ad\n"
     ]
    },
    {
     "name": "stdout",
     "output_type": "stream",
     "text": [
      "Total number of cells: 2029\n",
      "Total number of genes: 21722\n",
      "HD_F_GON9883867\n"
     ]
    },
    {
     "name": "stderr",
     "output_type": "stream",
     "text": [
      "filtered out 11305 genes that are detected in less than 3 cells\n",
      "filtered out 46 cells that have less than 150 genes expressed\n",
      "... reading from cache file cache/nfs-users-nfs_l-lg18-team292-lg18-gonads-data-scRNAseq-FCA-rawdata-HD_F_GON9883866-filtered_feature_bc_matrix-matrix.h5ad\n"
     ]
    },
    {
     "name": "stdout",
     "output_type": "stream",
     "text": [
      "Total number of cells: 7598\n",
      "Total number of genes: 22233\n",
      "HD_F_GON9883866\n"
     ]
    },
    {
     "name": "stderr",
     "output_type": "stream",
     "text": [
      "filtered out 13964 genes that are detected in less than 3 cells\n",
      "filtered out 10 cells that have less than 150 genes expressed\n",
      "... reading from cache file cache/nfs-users-nfs_l-lg18-team292-lg18-gonads-data-scRNAseq-FCA-rawdata-HD_F_GON9883862-filtered_feature_bc_matrix-matrix.h5ad\n"
     ]
    },
    {
     "name": "stdout",
     "output_type": "stream",
     "text": [
      "Total number of cells: 2007\n",
      "Total number of genes: 19574\n",
      "HD_F_GON9883862\n"
     ]
    },
    {
     "name": "stderr",
     "output_type": "stream",
     "text": [
      "filtered out 10134 genes that are detected in less than 3 cells\n",
      "filtered out 35 cells that have less than 150 genes expressed\n",
      "... reading from cache file cache/nfs-users-nfs_l-lg18-team292-lg18-gonads-data-scRNAseq-FCA-rawdata-HD_F_GON9883863-filtered_feature_bc_matrix-matrix.h5ad\n"
     ]
    },
    {
     "name": "stdout",
     "output_type": "stream",
     "text": [
      "Total number of cells: 7562\n",
      "Total number of genes: 23404\n",
      "HD_F_GON9883863\n"
     ]
    },
    {
     "name": "stderr",
     "output_type": "stream",
     "text": [
      "filtered out 9946 genes that are detected in less than 3 cells\n",
      "filtered out 49 cells that have less than 150 genes expressed\n",
      "... reading from cache file cache/nfs-users-nfs_l-lg18-team292-lg18-gonads-data-scRNAseq-FCA-rawdata-HD_F_GON9883859-filtered_feature_bc_matrix-matrix.h5ad\n"
     ]
    },
    {
     "name": "stdout",
     "output_type": "stream",
     "text": [
      "Total number of cells: 8046\n",
      "Total number of genes: 23592\n",
      "HD_F_GON9883859\n"
     ]
    },
    {
     "name": "stderr",
     "output_type": "stream",
     "text": [
      "filtered out 14469 genes that are detected in less than 3 cells\n",
      "filtered out 67 cells that have less than 150 genes expressed\n",
      "... reading from cache file cache/nfs-users-nfs_l-lg18-team292-lg18-gonads-data-scRNAseq-FCA-rawdata-HD_F_GON9855674-filtered_feature_bc_matrix-matrix.h5ad\n"
     ]
    },
    {
     "name": "stdout",
     "output_type": "stream",
     "text": [
      "Total number of cells: 4562\n",
      "Total number of genes: 19069\n",
      "HD_F_GON9855674\n"
     ]
    },
    {
     "name": "stderr",
     "output_type": "stream",
     "text": [
      "filtered out 11182 genes that are detected in less than 3 cells\n",
      "filtered out 22 cells that have less than 150 genes expressed\n",
      "... reading from cache file cache/nfs-users-nfs_l-lg18-team292-lg18-gonads-data-scRNAseq-FCA-rawdata-HD_F_GON9855673-filtered_feature_bc_matrix-matrix.h5ad\n"
     ]
    },
    {
     "name": "stdout",
     "output_type": "stream",
     "text": [
      "Total number of cells: 5184\n",
      "Total number of genes: 22356\n",
      "HD_F_GON9855673\n"
     ]
    },
    {
     "name": "stderr",
     "output_type": "stream",
     "text": [
      "filtered out 10144 genes that are detected in less than 3 cells\n",
      "... reading from cache file cache/nfs-users-nfs_l-lg18-team292-lg18-gonads-data-scRNAseq-FCA-rawdata-HD_F_GON9699427-filtered_feature_bc_matrix-matrix.h5ad\n"
     ]
    },
    {
     "name": "stdout",
     "output_type": "stream",
     "text": [
      "Total number of cells: 7260\n",
      "Total number of genes: 23394\n",
      "HD_F_GON9699427\n"
     ]
    },
    {
     "name": "stderr",
     "output_type": "stream",
     "text": [
      "filtered out 12955 genes that are detected in less than 3 cells\n",
      "filtered out 9 cells that have less than 150 genes expressed\n",
      "... reading from cache file cache/nfs-users-nfs_l-lg18-team292-lg18-gonads-data-scRNAseq-FCA-rawdata-HD_F_GON9699428-filtered_feature_bc_matrix-matrix.h5ad\n"
     ]
    },
    {
     "name": "stdout",
     "output_type": "stream",
     "text": [
      "Total number of cells: 5936\n",
      "Total number of genes: 20583\n",
      "HD_F_GON9699428\n"
     ]
    },
    {
     "name": "stderr",
     "output_type": "stream",
     "text": [
      "filtered out 12261 genes that are detected in less than 3 cells\n",
      "... reading from cache file cache/nfs-users-nfs_l-lg18-team292-lg18-gonads-data-scRNAseq-FCA-rawdata-HD_F_GON9699338-filtered_feature_bc_matrix-matrix.h5ad\n"
     ]
    },
    {
     "name": "stdout",
     "output_type": "stream",
     "text": [
      "Total number of cells: 4000\n",
      "Total number of genes: 21277\n",
      "HD_F_GON9699338\n"
     ]
    },
    {
     "name": "stderr",
     "output_type": "stream",
     "text": [
      "filtered out 10380 genes that are detected in less than 3 cells\n",
      "filtered out 7 cells that have less than 150 genes expressed\n",
      "... reading from cache file cache/nfs-users-nfs_l-lg18-team292-lg18-gonads-data-scRNAseq-FCA-rawdata-HD_F_GON9883868-filtered_feature_bc_matrix-matrix.h5ad\n"
     ]
    },
    {
     "name": "stdout",
     "output_type": "stream",
     "text": [
      "Total number of cells: 6838\n",
      "Total number of genes: 23158\n",
      "HD_F_GON9883868\n"
     ]
    },
    {
     "name": "stderr",
     "output_type": "stream",
     "text": [
      "filtered out 12408 genes that are detected in less than 3 cells\n",
      "filtered out 9 cells that have less than 150 genes expressed\n",
      "... reading from cache file cache/nfs-users-nfs_l-lg18-team292-lg18-gonads-data-scRNAseq-FCA-rawdata-HD_F_GON9699336-filtered_feature_bc_matrix-matrix.h5ad\n"
     ]
    },
    {
     "name": "stdout",
     "output_type": "stream",
     "text": [
      "Total number of cells: 5216\n",
      "Total number of genes: 21130\n",
      "HD_F_GON9699336\n"
     ]
    },
    {
     "name": "stderr",
     "output_type": "stream",
     "text": [
      "filtered out 10981 genes that are detected in less than 3 cells\n",
      "filtered out 25 cells that have less than 150 genes expressed\n",
      "... reading from cache file cache/nfs-users-nfs_l-lg18-team292-lg18-gonads-data-scRNAseq-FCA-rawdata-HD_F_GON9883865-filtered_feature_bc_matrix-matrix.h5ad\n"
     ]
    },
    {
     "name": "stdout",
     "output_type": "stream",
     "text": [
      "Total number of cells: 6554\n",
      "Total number of genes: 22557\n",
      "HD_F_GON9883865\n"
     ]
    },
    {
     "name": "stderr",
     "output_type": "stream",
     "text": [
      "filtered out 11843 genes that are detected in less than 3 cells\n",
      "filtered out 5 cells that have less than 150 genes expressed\n",
      "... reading from cache file cache/nfs-users-nfs_l-lg18-team292-lg18-gonads-data-scRNAseq-FCA-rawdata-HD_F_GON9699429-filtered_feature_bc_matrix-matrix.h5ad\n"
     ]
    },
    {
     "name": "stdout",
     "output_type": "stream",
     "text": [
      "Total number of cells: 7327\n",
      "Total number of genes: 21695\n",
      "HD_F_GON9699429\n"
     ]
    },
    {
     "name": "stderr",
     "output_type": "stream",
     "text": [
      "filtered out 12769 genes that are detected in less than 3 cells\n",
      "filtered out 36 cells that have less than 150 genes expressed\n",
      "... reading from cache file cache/nfs-users-nfs_l-lg18-team292-lg18-gonads-data-scRNAseq-FCA-rawdata-HCA_F_GON10828898-filtered_feature_bc_matrix-matrix.h5ad\n"
     ]
    },
    {
     "name": "stdout",
     "output_type": "stream",
     "text": [
      "Total number of cells: 5056\n",
      "Total number of genes: 20769\n",
      "HCA_F_GON10828898\n"
     ]
    },
    {
     "name": "stderr",
     "output_type": "stream",
     "text": [
      "filtered out 9925 genes that are detected in less than 3 cells\n",
      "filtered out 18 cells that have less than 150 genes expressed\n",
      "... reading from cache file cache/nfs-users-nfs_l-lg18-team292-lg18-gonads-data-scRNAseq-FCA-rawdata-HCA_F_GON10828899-filtered_feature_bc_matrix-matrix.h5ad\n"
     ]
    },
    {
     "name": "stdout",
     "output_type": "stream",
     "text": [
      "Total number of cells: 5934\n",
      "Total number of genes: 23613\n",
      "HCA_F_GON10828899\n"
     ]
    },
    {
     "name": "stderr",
     "output_type": "stream",
     "text": [
      "filtered out 10957 genes that are detected in less than 3 cells\n",
      "filtered out 16 cells that have less than 150 genes expressed\n",
      "... reading from cache file cache/nfs-users-nfs_l-lg18-team292-lg18-gonads-data-scRNAseq-FCA-rawdata-HCA_F_GON10828900-filtered_feature_bc_matrix-matrix.h5ad\n"
     ]
    },
    {
     "name": "stdout",
     "output_type": "stream",
     "text": [
      "Total number of cells: 3071\n",
      "Total number of genes: 22581\n",
      "HCA_F_GON10828900\n"
     ]
    },
    {
     "name": "stderr",
     "output_type": "stream",
     "text": [
      "filtered out 11985 genes that are detected in less than 3 cells\n",
      "filtered out 12 cells that have less than 150 genes expressed\n",
      "... reading from cache file cache/nfs-users-nfs_l-lg18-team292-lg18-gonads-data-scRNAseq-FCA-rawdata-HCA_F_GON10828901-filtered_feature_bc_matrix-matrix.h5ad\n"
     ]
    },
    {
     "name": "stdout",
     "output_type": "stream",
     "text": [
      "Total number of cells: 5138\n",
      "Total number of genes: 21553\n",
      "HCA_F_GON10828901\n"
     ]
    },
    {
     "name": "stderr",
     "output_type": "stream",
     "text": [
      "filtered out 9829 genes that are detected in less than 3 cells\n",
      "filtered out 1 cells that have less than 150 genes expressed\n",
      "... reading from cache file cache/nfs-users-nfs_l-lg18-team292-lg18-gonads-data-scRNAseq-FCA-rawdata-HCA_F_GON10828902-filtered_feature_bc_matrix-matrix.h5ad\n"
     ]
    },
    {
     "name": "stdout",
     "output_type": "stream",
     "text": [
      "Total number of cells: 12003\n",
      "Total number of genes: 23709\n",
      "HCA_F_GON10828902\n"
     ]
    },
    {
     "name": "stderr",
     "output_type": "stream",
     "text": [
      "filtered out 9692 genes that are detected in less than 3 cells\n",
      "filtered out 3 cells that have less than 150 genes expressed\n",
      "... reading from cache file cache/nfs-users-nfs_l-lg18-team292-lg18-gonads-data-scRNAseq-FCA-rawdata-HD_F_GON9525515-filtered_feature_bc_matrix-matrix.h5ad\n"
     ]
    },
    {
     "name": "stdout",
     "output_type": "stream",
     "text": [
      "Total number of cells: 10635\n",
      "Total number of genes: 23846\n",
      "HD_F_GON9525515\n"
     ]
    },
    {
     "name": "stderr",
     "output_type": "stream",
     "text": [
      "filtered out 10106 genes that are detected in less than 3 cells\n",
      "filtered out 61 cells that have less than 150 genes expressed\n",
      "... reading from cache file cache/nfs-users-nfs_l-lg18-team292-lg18-gonads-data-scRNAseq-FCA-rawdata-HD_F_GON9525516-filtered_feature_bc_matrix-matrix.h5ad\n"
     ]
    },
    {
     "name": "stdout",
     "output_type": "stream",
     "text": [
      "Total number of cells: 4860\n",
      "Total number of genes: 23432\n",
      "HD_F_GON9525516\n"
     ]
    },
    {
     "name": "stderr",
     "output_type": "stream",
     "text": [
      "filtered out 11010 genes that are detected in less than 3 cells\n",
      "filtered out 17 cells that have less than 150 genes expressed\n",
      "... reading from cache file cache/nfs-users-nfs_l-lg18-team292-lg18-gonads-data-scRNAseq-FCA-rawdata-FCA_GND10375779-filtered_feature_bc_matrix-matrix.h5ad\n"
     ]
    },
    {
     "name": "stdout",
     "output_type": "stream",
     "text": [
      "Total number of cells: 3698\n",
      "Total number of genes: 22528\n",
      "FCA_GND10375779\n"
     ]
    },
    {
     "name": "stderr",
     "output_type": "stream",
     "text": [
      "filtered out 11139 genes that are detected in less than 3 cells\n",
      "filtered out 85 cells that have less than 150 genes expressed\n",
      "... reading from cache file cache/nfs-users-nfs_l-lg18-team292-lg18-gonads-data-scRNAseq-FCA-rawdata-FCA_GND10375780-filtered_feature_bc_matrix-matrix.h5ad\n"
     ]
    },
    {
     "name": "stdout",
     "output_type": "stream",
     "text": [
      "Total number of cells: 4027\n",
      "Total number of genes: 22399\n",
      "FCA_GND10375780\n"
     ]
    },
    {
     "name": "stderr",
     "output_type": "stream",
     "text": [
      "filtered out 11131 genes that are detected in less than 3 cells\n",
      "filtered out 29 cells that have less than 150 genes expressed\n",
      "... reading from cache file cache/nfs-users-nfs_l-lg18-team292-lg18-gonads-data-scRNAseq-FCA-rawdata-HCA_F_GON10941968-filtered_feature_bc_matrix-matrix.h5ad\n"
     ]
    },
    {
     "name": "stdout",
     "output_type": "stream",
     "text": [
      "Total number of cells: 5017\n",
      "Total number of genes: 22407\n",
      "HCA_F_GON10941968\n"
     ]
    },
    {
     "name": "stderr",
     "output_type": "stream",
     "text": [
      "filtered out 10314 genes that are detected in less than 3 cells\n",
      "filtered out 82 cells that have less than 150 genes expressed\n",
      "... reading from cache file cache/nfs-users-nfs_l-lg18-team292-lg18-gonads-data-scRNAseq-FCA-rawdata-HCA_F_GON10941969-filtered_feature_bc_matrix-matrix.h5ad\n"
     ]
    },
    {
     "name": "stdout",
     "output_type": "stream",
     "text": [
      "Total number of cells: 6691\n",
      "Total number of genes: 23224\n",
      "HCA_F_GON10941969\n"
     ]
    },
    {
     "name": "stderr",
     "output_type": "stream",
     "text": [
      "filtered out 10723 genes that are detected in less than 3 cells\n",
      "filtered out 57 cells that have less than 150 genes expressed\n"
     ]
    },
    {
     "name": "stdout",
     "output_type": "stream",
     "text": [
      "Total number of cells: 6266\n",
      "Total number of genes: 22815\n"
     ]
    }
   ],
   "source": [
    "holder = []\n",
    "for sample in meta.index:\n",
    "    print(sample)\n",
    "    # Load 10x data as AnnData\n",
    "    holder.append(sc.read_10x_mtx(data_dir+'rawdata/'+sample+'/filtered_feature_bc_matrix/',cache=True)) \n",
    "    # Set names of observation as sample + _ + barcode/probe\n",
    "    holder[-1].obs_names = [sample+'_'+i.split('-')[0] for i in holder[-1].obs_names]\n",
    "    # Filer genes expressed in less than 3 cells\n",
    "    sc.pp.filter_genes(holder[-1], min_cells=3)\n",
    "    # Filer cells with less than 10 genes expressed\n",
    "    sc.pp.filter_cells(holder[-1], min_genes=150)\n",
    "    # add in metadata\n",
    "    holder[-1].obs['sample'] = sample\n",
    "    for val in meta.columns:\n",
    "        holder[-1].obs[val] = meta[val][sample]\n",
    "    # Extract mitochondial genes\n",
    "    mito_genes = [name for name in holder[-1].var_names if name.startswith('MT-')]\n",
    "    #for each cell compute fraction of counts in mito genes vs. all genes\n",
    "    #the `.A1` is only necessary, as X is sparse - it transform to a dense array after summing\n",
    "    holder[-1].obs['percent_mito'] = np.sum(\n",
    "        holder[-1][:, mito_genes].X, axis=1).A1 / np.sum(holder[-1].X, axis=1).A1\n",
    "    #add the total counts per cell as observations-annotation to adata\n",
    "    holder[-1].obs['n_counts'] = holder[-1].X.sum(axis=1).A1\n",
    "    print('Total number of cells: {:d}'.format(holder[-1].n_obs))\n",
    "    print('Total number of genes: {:d}'.format(holder[-1].n_vars))"
   ]
  },
  {
   "cell_type": "code",
   "execution_count": 5,
   "metadata": {},
   "outputs": [
    {
     "name": "stdout",
     "output_type": "stream",
     "text": [
      "72\n"
     ]
    },
    {
     "data": {
      "text/plain": [
       "AnnData object with n_obs × n_vars = 475056 × 28946\n",
       "    obs: 'n_genes', 'sample', 'donor', 'location', 'stage', 'sex', 'study', 'batch_collection', 'enrichment', 'cryopreserved', 'TP', '10xKit', 'dig_protocol', 'percent_mito', 'n_counts', 'batch'\n",
       "    var: 'gene_ids-0', 'feature_types-0', 'n_cells-0', 'gene_ids-1', 'feature_types-1', 'n_cells-1', 'gene_ids-10', 'feature_types-10', 'n_cells-10', 'gene_ids-11', 'feature_types-11', 'n_cells-11', 'gene_ids-12', 'feature_types-12', 'n_cells-12', 'gene_ids-13', 'feature_types-13', 'n_cells-13', 'gene_ids-14', 'feature_types-14', 'n_cells-14', 'gene_ids-15', 'feature_types-15', 'n_cells-15', 'gene_ids-16', 'feature_types-16', 'n_cells-16', 'gene_ids-17', 'feature_types-17', 'n_cells-17', 'gene_ids-18', 'feature_types-18', 'n_cells-18', 'gene_ids-19', 'feature_types-19', 'n_cells-19', 'gene_ids-2', 'feature_types-2', 'n_cells-2', 'gene_ids-20', 'feature_types-20', 'n_cells-20', 'gene_ids-21', 'feature_types-21', 'n_cells-21', 'gene_ids-22', 'feature_types-22', 'n_cells-22', 'gene_ids-23', 'feature_types-23', 'n_cells-23', 'gene_ids-24', 'feature_types-24', 'n_cells-24', 'gene_ids-25', 'feature_types-25', 'n_cells-25', 'gene_ids-26', 'feature_types-26', 'n_cells-26', 'gene_ids-27', 'feature_types-27', 'n_cells-27', 'gene_ids-28', 'feature_types-28', 'n_cells-28', 'gene_ids-29', 'feature_types-29', 'n_cells-29', 'gene_ids-3', 'feature_types-3', 'n_cells-3', 'gene_ids-30', 'feature_types-30', 'n_cells-30', 'gene_ids-31', 'feature_types-31', 'n_cells-31', 'gene_ids-32', 'feature_types-32', 'n_cells-32', 'gene_ids-33', 'feature_types-33', 'n_cells-33', 'gene_ids-34', 'feature_types-34', 'n_cells-34', 'gene_ids-35', 'feature_types-35', 'n_cells-35', 'gene_ids-36', 'feature_types-36', 'n_cells-36', 'gene_ids-37', 'feature_types-37', 'n_cells-37', 'gene_ids-38', 'feature_types-38', 'n_cells-38', 'gene_ids-39', 'feature_types-39', 'n_cells-39', 'gene_ids-4', 'feature_types-4', 'n_cells-4', 'gene_ids-40', 'feature_types-40', 'n_cells-40', 'gene_ids-41', 'feature_types-41', 'n_cells-41', 'gene_ids-42', 'feature_types-42', 'n_cells-42', 'gene_ids-43', 'feature_types-43', 'n_cells-43', 'gene_ids-44', 'feature_types-44', 'n_cells-44', 'gene_ids-45', 'feature_types-45', 'n_cells-45', 'gene_ids-46', 'feature_types-46', 'n_cells-46', 'gene_ids-47', 'feature_types-47', 'n_cells-47', 'gene_ids-48', 'feature_types-48', 'n_cells-48', 'gene_ids-49', 'feature_types-49', 'n_cells-49', 'gene_ids-5', 'feature_types-5', 'n_cells-5', 'gene_ids-50', 'feature_types-50', 'n_cells-50', 'gene_ids-51', 'feature_types-51', 'n_cells-51', 'gene_ids-52', 'feature_types-52', 'n_cells-52', 'gene_ids-53', 'feature_types-53', 'n_cells-53', 'gene_ids-54', 'feature_types-54', 'n_cells-54', 'gene_ids-55', 'feature_types-55', 'n_cells-55', 'gene_ids-56', 'feature_types-56', 'n_cells-56', 'gene_ids-57', 'feature_types-57', 'n_cells-57', 'gene_ids-58', 'feature_types-58', 'n_cells-58', 'gene_ids-59', 'feature_types-59', 'n_cells-59', 'gene_ids-6', 'feature_types-6', 'n_cells-6', 'gene_ids-60', 'feature_types-60', 'n_cells-60', 'gene_ids-61', 'feature_types-61', 'n_cells-61', 'gene_ids-62', 'feature_types-62', 'n_cells-62', 'gene_ids-63', 'feature_types-63', 'n_cells-63', 'gene_ids-64', 'feature_types-64', 'n_cells-64', 'gene_ids-65', 'feature_types-65', 'n_cells-65', 'gene_ids-66', 'feature_types-66', 'n_cells-66', 'gene_ids-67', 'feature_types-67', 'n_cells-67', 'gene_ids-68', 'feature_types-68', 'n_cells-68', 'gene_ids-69', 'feature_types-69', 'n_cells-69', 'gene_ids-7', 'feature_types-7', 'n_cells-7', 'gene_ids-70', 'feature_types-70', 'n_cells-70', 'gene_ids-71', 'feature_types-71', 'n_cells-71', 'gene_ids-8', 'feature_types-8', 'n_cells-8', 'gene_ids-9', 'feature_types-9', 'n_cells-9'"
      ]
     },
     "execution_count": 5,
     "metadata": {},
     "output_type": "execute_result"
    }
   ],
   "source": [
    "# confirm N samples\n",
    "print(len(holder))\n",
    "# merge datasets\n",
    "adata = holder[0].concatenate(holder[1:],join='outer',index_unique=None)\n",
    "# copy of this matrix in Compressed Sparse Row format\n",
    "adata.X = adata.X.tocsr()\n",
    "adata"
   ]
  },
  {
   "cell_type": "markdown",
   "metadata": {},
   "source": [
    "### QC pplots\n",
    "\n",
    "Plot distributions of the values n_genes, n_counts and percent_mito"
   ]
  },
  {
   "cell_type": "code",
   "execution_count": 6,
   "metadata": {},
   "outputs": [
    {
     "name": "stderr",
     "output_type": "stream",
     "text": [
      "... storing 'sample' as categorical\n",
      "... storing 'donor' as categorical\n",
      "... storing 'location' as categorical\n",
      "... storing 'stage' as categorical\n",
      "... storing 'sex' as categorical\n",
      "... storing 'study' as categorical\n",
      "... storing 'batch_collection' as categorical\n",
      "... storing 'enrichment' as categorical\n",
      "... storing 'cryopreserved' as categorical\n",
      "... storing 'TP' as categorical\n",
      "... storing '10xKit' as categorical\n",
      "... storing 'dig_protocol' as categorical\n",
      "... storing 'gene_ids-0' as categorical\n",
      "... storing 'feature_types-0' as categorical\n",
      "... storing 'gene_ids-1' as categorical\n",
      "... storing 'feature_types-1' as categorical\n",
      "... storing 'gene_ids-10' as categorical\n",
      "... storing 'feature_types-10' as categorical\n",
      "... storing 'gene_ids-11' as categorical\n",
      "... storing 'feature_types-11' as categorical\n",
      "... storing 'gene_ids-12' as categorical\n",
      "... storing 'feature_types-12' as categorical\n",
      "... storing 'gene_ids-13' as categorical\n",
      "... storing 'feature_types-13' as categorical\n",
      "... storing 'gene_ids-14' as categorical\n",
      "... storing 'feature_types-14' as categorical\n",
      "... storing 'gene_ids-15' as categorical\n",
      "... storing 'feature_types-15' as categorical\n",
      "... storing 'gene_ids-16' as categorical\n",
      "... storing 'feature_types-16' as categorical\n",
      "... storing 'gene_ids-17' as categorical\n",
      "... storing 'feature_types-17' as categorical\n",
      "... storing 'gene_ids-18' as categorical\n",
      "... storing 'feature_types-18' as categorical\n",
      "... storing 'gene_ids-19' as categorical\n",
      "... storing 'feature_types-19' as categorical\n",
      "... storing 'gene_ids-2' as categorical\n",
      "... storing 'feature_types-2' as categorical\n",
      "... storing 'gene_ids-20' as categorical\n",
      "... storing 'feature_types-20' as categorical\n",
      "... storing 'gene_ids-21' as categorical\n",
      "... storing 'feature_types-21' as categorical\n",
      "... storing 'gene_ids-22' as categorical\n",
      "... storing 'feature_types-22' as categorical\n",
      "... storing 'gene_ids-23' as categorical\n",
      "... storing 'feature_types-23' as categorical\n",
      "... storing 'gene_ids-24' as categorical\n",
      "... storing 'feature_types-24' as categorical\n",
      "... storing 'gene_ids-25' as categorical\n",
      "... storing 'feature_types-25' as categorical\n",
      "... storing 'gene_ids-26' as categorical\n",
      "... storing 'feature_types-26' as categorical\n",
      "... storing 'gene_ids-27' as categorical\n",
      "... storing 'feature_types-27' as categorical\n",
      "... storing 'gene_ids-28' as categorical\n",
      "... storing 'feature_types-28' as categorical\n",
      "... storing 'gene_ids-29' as categorical\n",
      "... storing 'feature_types-29' as categorical\n",
      "... storing 'gene_ids-3' as categorical\n",
      "... storing 'feature_types-3' as categorical\n",
      "... storing 'gene_ids-30' as categorical\n",
      "... storing 'feature_types-30' as categorical\n",
      "... storing 'gene_ids-31' as categorical\n",
      "... storing 'feature_types-31' as categorical\n",
      "... storing 'gene_ids-32' as categorical\n",
      "... storing 'feature_types-32' as categorical\n",
      "... storing 'gene_ids-33' as categorical\n",
      "... storing 'feature_types-33' as categorical\n",
      "... storing 'gene_ids-34' as categorical\n",
      "... storing 'feature_types-34' as categorical\n",
      "... storing 'gene_ids-35' as categorical\n",
      "... storing 'feature_types-35' as categorical\n",
      "... storing 'gene_ids-36' as categorical\n",
      "... storing 'feature_types-36' as categorical\n",
      "... storing 'gene_ids-37' as categorical\n",
      "... storing 'feature_types-37' as categorical\n",
      "... storing 'gene_ids-38' as categorical\n",
      "... storing 'feature_types-38' as categorical\n",
      "... storing 'gene_ids-39' as categorical\n",
      "... storing 'feature_types-39' as categorical\n",
      "... storing 'gene_ids-4' as categorical\n",
      "... storing 'feature_types-4' as categorical\n",
      "... storing 'gene_ids-40' as categorical\n",
      "... storing 'feature_types-40' as categorical\n",
      "... storing 'gene_ids-41' as categorical\n",
      "... storing 'feature_types-41' as categorical\n",
      "... storing 'gene_ids-42' as categorical\n",
      "... storing 'feature_types-42' as categorical\n",
      "... storing 'gene_ids-43' as categorical\n",
      "... storing 'feature_types-43' as categorical\n",
      "... storing 'gene_ids-44' as categorical\n",
      "... storing 'feature_types-44' as categorical\n",
      "... storing 'gene_ids-45' as categorical\n",
      "... storing 'feature_types-45' as categorical\n",
      "... storing 'gene_ids-46' as categorical\n",
      "... storing 'feature_types-46' as categorical\n",
      "... storing 'gene_ids-47' as categorical\n",
      "... storing 'feature_types-47' as categorical\n",
      "... storing 'gene_ids-48' as categorical\n",
      "... storing 'feature_types-48' as categorical\n",
      "... storing 'gene_ids-49' as categorical\n",
      "... storing 'feature_types-49' as categorical\n",
      "... storing 'gene_ids-5' as categorical\n",
      "... storing 'feature_types-5' as categorical\n",
      "... storing 'gene_ids-50' as categorical\n",
      "... storing 'feature_types-50' as categorical\n",
      "... storing 'gene_ids-51' as categorical\n",
      "... storing 'feature_types-51' as categorical\n",
      "... storing 'gene_ids-52' as categorical\n",
      "... storing 'feature_types-52' as categorical\n",
      "... storing 'gene_ids-53' as categorical\n",
      "... storing 'feature_types-53' as categorical\n",
      "... storing 'gene_ids-54' as categorical\n",
      "... storing 'feature_types-54' as categorical\n",
      "... storing 'gene_ids-55' as categorical\n",
      "... storing 'feature_types-55' as categorical\n",
      "... storing 'gene_ids-56' as categorical\n",
      "... storing 'feature_types-56' as categorical\n",
      "... storing 'gene_ids-57' as categorical\n",
      "... storing 'feature_types-57' as categorical\n",
      "... storing 'gene_ids-58' as categorical\n",
      "... storing 'feature_types-58' as categorical\n",
      "... storing 'gene_ids-59' as categorical\n",
      "... storing 'feature_types-59' as categorical\n",
      "... storing 'gene_ids-6' as categorical\n",
      "... storing 'feature_types-6' as categorical\n",
      "... storing 'gene_ids-60' as categorical\n",
      "... storing 'feature_types-60' as categorical\n",
      "... storing 'gene_ids-61' as categorical\n",
      "... storing 'feature_types-61' as categorical\n",
      "... storing 'gene_ids-62' as categorical\n",
      "... storing 'feature_types-62' as categorical\n",
      "... storing 'gene_ids-63' as categorical\n",
      "... storing 'feature_types-63' as categorical\n",
      "... storing 'gene_ids-64' as categorical\n",
      "... storing 'feature_types-64' as categorical\n",
      "... storing 'gene_ids-65' as categorical\n",
      "... storing 'feature_types-65' as categorical\n",
      "... storing 'gene_ids-66' as categorical\n",
      "... storing 'feature_types-66' as categorical\n",
      "... storing 'gene_ids-67' as categorical\n",
      "... storing 'feature_types-67' as categorical\n",
      "... storing 'gene_ids-68' as categorical\n",
      "... storing 'feature_types-68' as categorical\n",
      "... storing 'gene_ids-69' as categorical\n",
      "... storing 'feature_types-69' as categorical\n",
      "... storing 'gene_ids-7' as categorical\n",
      "... storing 'feature_types-7' as categorical\n",
      "... storing 'gene_ids-70' as categorical\n",
      "... storing 'feature_types-70' as categorical\n",
      "... storing 'gene_ids-71' as categorical\n",
      "... storing 'feature_types-71' as categorical\n",
      "... storing 'gene_ids-8' as categorical\n",
      "... storing 'feature_types-8' as categorical\n",
      "... storing 'gene_ids-9' as categorical\n",
      "... storing 'feature_types-9' as categorical\n",
      "WARNING: saving figure to file figures/preprocessing/violin.pdf\n",
      "WARNING: saving figure to file figures/preprocessing/scatter_numi_vs_mito.pdf\n",
      "WARNING: saving figure to file figures/preprocessing/scatter_numi_vs_ngenes.pdf\n"
     ]
    },
    {
     "data": {
      "text/plain": [
       "<matplotlib.axes._axes.Axes at 0x7f9e268ab3d0>"
      ]
     },
     "execution_count": 6,
     "metadata": {},
     "output_type": "execute_result"
    }
   ],
   "source": [
    "sc.pl.violin(adata, ['n_genes', 'n_counts', 'percent_mito'],jitter=0.4, multi_panel=True, save='.pdf', show=False)\n",
    "sc.pl.scatter(adata, x='n_counts', y='percent_mito', save='_numi_vs_mito.pdf', show=False)\n",
    "sc.pl.scatter(adata, x='n_counts', y='n_genes', save='_numi_vs_ngenes.pdf', show=False)"
   ]
  },
  {
   "cell_type": "code",
   "execution_count": 7,
   "metadata": {},
   "outputs": [
    {
     "name": "stderr",
     "output_type": "stream",
     "text": [
      "WARNING: saving figure to file figures/preprocessing/violin_batch_collection.pdf\n",
      "WARNING: saving figure to file figures/preprocessing/violin_TP.pdf\n"
     ]
    },
    {
     "data": {
      "text/plain": [
       "[<matplotlib.axes._axes.Axes at 0x7f9f401b53d0>,\n",
       " <matplotlib.axes._axes.Axes at 0x7f9e2648bd60>,\n",
       " <matplotlib.axes._axes.Axes at 0x7f9f48d70fa0>]"
      ]
     },
     "execution_count": 7,
     "metadata": {},
     "output_type": "execute_result"
    }
   ],
   "source": [
    "sc.pl.violin(adata, ['n_genes', 'n_counts', 'percent_mito'], groupby='batch_collection', rotation = 90, jitter=0.4, save='_batch_collection.pdf', show=False)\n",
    "sc.pl.violin(adata, ['n_genes', 'n_counts', 'percent_mito'], groupby='TP', rotation = 90, jitter=0.4, save='_TP.pdf', show=False)"
   ]
  },
  {
   "cell_type": "code",
   "execution_count": 8,
   "metadata": {},
   "outputs": [
    {
     "name": "stdout",
     "output_type": "stream",
     "text": [
      "Total number of cells: 475056\n",
      "Total number of genes: 28946\n"
     ]
    }
   ],
   "source": [
    "print('Total number of cells: {:d}'.format(adata.n_obs))\n",
    "print('Total number of genes: {:d}'.format(adata.n_vars))\n",
    "pd.DataFrame(adata.obs).to_csv(str(sc.settings.figdir)+'/metadata_prefilters.csv')"
   ]
  },
  {
   "cell_type": "markdown",
   "metadata": {},
   "source": [
    "### Sex specific genes"
   ]
  },
  {
   "cell_type": "code",
   "execution_count": 9,
   "metadata": {},
   "outputs": [
    {
     "name": "stderr",
     "output_type": "stream",
     "text": [
      "/opt/conda/lib/python3.8/site-packages/pandas/core/arrays/categorical.py:2487: FutureWarning: The `inplace` parameter in pandas.Categorical.remove_unused_categories is deprecated and will be removed in a future version.\n",
      "  res = method(*args, **kwargs)\n",
      "Trying to set attribute `.uns` of view, copying.\n"
     ]
    },
    {
     "data": {
      "image/png": "[encoded data removed]",
      "text/plain": [
       "<Figure size 1116.72x320 with 3 Axes>"
      ]
     },
     "metadata": {
      "needs_background": "light"
     },
     "output_type": "display_data"
    }
   ],
   "source": [
    "sc.pl.violin(adata[[ i in ['R', 'S', 'T'] for i in adata.obs.batch_collection]], ['SRY', 'RPS4Y1','DDX3Y'], groupby='donor', rotation = 90) # MALE"
   ]
  },
  {
   "cell_type": "code",
   "execution_count": 10,
   "metadata": {},
   "outputs": [
    {
     "name": "stderr",
     "output_type": "stream",
     "text": [
      "/opt/conda/lib/python3.8/site-packages/pandas/core/arrays/categorical.py:2487: FutureWarning: The `inplace` parameter in pandas.Categorical.remove_unused_categories is deprecated and will be removed in a future version.\n",
      "  res = method(*args, **kwargs)\n",
      "Trying to set attribute `.uns` of view, copying.\n"
     ]
    },
    {
     "data": {
      "image/png": "[encoded data removed]",
      "text/plain": [
       "<Figure size 1116.72x320 with 3 Axes>"
      ]
     },
     "metadata": {
      "needs_background": "light"
     },
     "output_type": "display_data"
    },
    {
     "name": "stderr",
     "output_type": "stream",
     "text": [
      "/opt/conda/lib/python3.8/site-packages/pandas/core/arrays/categorical.py:2487: FutureWarning: The `inplace` parameter in pandas.Categorical.remove_unused_categories is deprecated and will be removed in a future version.\n",
      "  res = method(*args, **kwargs)\n",
      "Trying to set attribute `.uns` of view, copying.\n"
     ]
    },
    {
     "data": {
      "image/png": "[encoded data removed]",
      "text/plain": [
       "<Figure size 1116.72x320 with 3 Axes>"
      ]
     },
     "metadata": {
      "needs_background": "light"
     },
     "output_type": "display_data"
    },
    {
     "data": {
      "image/png": "[encoded data removed]",
      "text/plain": [
       "<Figure size 1116.72x320 with 3 Axes>"
      ]
     },
     "metadata": {
      "needs_background": "light"
     },
     "output_type": "display_data"
    }
   ],
   "source": [
    "sc.pl.violin(adata[[ i == 'female' for i in adata.obs.sex]], ['SRY', 'RPS4Y1','DDX3Y'], groupby='donor', rotation = 90) # FEMALE\n",
    "sc.pl.violin(adata[[ i == 'male' for i in adata.obs.sex]], ['SRY', 'RPS4Y1','DDX3Y'], groupby='donor', rotation = 90) # MALE\n",
    "sc.pl.violin(adata, ['SRY', 'RPS4Y1','DDX3Y'], groupby='sex') # MALE"
   ]
  },
  {
   "cell_type": "markdown",
   "metadata": {},
   "source": [
    "### Filter cells with few genes\n",
    "Check number of genes per cell distribution and filter cells accordingly"
   ]
  },
  {
   "cell_type": "code",
   "execution_count": 11,
   "metadata": {},
   "outputs": [
    {
     "data": {
      "text/plain": [
       "<matplotlib.lines.Line2D at 0x7f9e265cad00>"
      ]
     },
     "execution_count": 11,
     "metadata": {},
     "output_type": "execute_result"
    },
    {
     "data": {
      "image/png": "[encoded data removed]",
      "text/plain": [
       "<Figure size 320x320 with 1 Axes>"
      ]
     },
     "metadata": {
      "needs_background": "light"
     },
     "output_type": "display_data"
    }
   ],
   "source": [
    "plt.hist(adata.obs['n_genes'], bins = 100)\n",
    "plt.axvline(500, linestyle = '--', color = 'red')"
   ]
  },
  {
   "cell_type": "code",
   "execution_count": 12,
   "metadata": {},
   "outputs": [
    {
     "name": "stderr",
     "output_type": "stream",
     "text": [
      "filtered out 40804 cells that have less than 500 genes expressed\n",
      "/opt/conda/lib/python3.8/site-packages/pandas/core/arrays/categorical.py:2487: FutureWarning: The `inplace` parameter in pandas.Categorical.remove_unused_categories is deprecated and will be removed in a future version.\n",
      "  res = method(*args, **kwargs)\n"
     ]
    }
   ],
   "source": [
    "sc.pp.filter_cells(adata, min_genes=500)"
   ]
  },
  {
   "cell_type": "code",
   "execution_count": 13,
   "metadata": {},
   "outputs": [
    {
     "name": "stdout",
     "output_type": "stream",
     "text": [
      "Total number of cells: 434252\n",
      "Total number of genes: 28946\n"
     ]
    },
    {
     "data": {
      "text/html": [
       "<div>\n",
       "<style scoped>\n",
       "    .dataframe tbody tr th:only-of-type {\n",
       "        vertical-align: middle;\n",
       "    }\n",
       "\n",
       "    .dataframe tbody tr th {\n",
       "        vertical-align: top;\n",
       "    }\n",
       "\n",
       "    .dataframe thead th {\n",
       "        text-align: right;\n",
       "    }\n",
       "</style>\n",
       "<table border=\"1\" class=\"dataframe\">\n",
       "  <thead>\n",
       "    <tr style=\"text-align: right;\">\n",
       "      <th></th>\n",
       "      <th>counts</th>\n",
       "      <th>freqs</th>\n",
       "    </tr>\n",
       "    <tr>\n",
       "      <th>categories</th>\n",
       "      <th></th>\n",
       "      <th></th>\n",
       "    </tr>\n",
       "  </thead>\n",
       "  <tbody>\n",
       "    <tr>\n",
       "      <th>F81</th>\n",
       "      <td>9189</td>\n",
       "      <td>0.021161</td>\n",
       "    </tr>\n",
       "    <tr>\n",
       "      <th>F83</th>\n",
       "      <td>11353</td>\n",
       "      <td>0.026144</td>\n",
       "    </tr>\n",
       "    <tr>\n",
       "      <th>F84</th>\n",
       "      <td>3307</td>\n",
       "      <td>0.007615</td>\n",
       "    </tr>\n",
       "    <tr>\n",
       "      <th>F86</th>\n",
       "      <td>4112</td>\n",
       "      <td>0.009469</td>\n",
       "    </tr>\n",
       "    <tr>\n",
       "      <th>F87</th>\n",
       "      <td>2780</td>\n",
       "      <td>0.006402</td>\n",
       "    </tr>\n",
       "    <tr>\n",
       "      <th>F88</th>\n",
       "      <td>10558</td>\n",
       "      <td>0.024313</td>\n",
       "    </tr>\n",
       "    <tr>\n",
       "      <th>F89</th>\n",
       "      <td>1818</td>\n",
       "      <td>0.004187</td>\n",
       "    </tr>\n",
       "    <tr>\n",
       "      <th>F91</th>\n",
       "      <td>5095</td>\n",
       "      <td>0.011733</td>\n",
       "    </tr>\n",
       "    <tr>\n",
       "      <th>F93</th>\n",
       "      <td>100</td>\n",
       "      <td>0.000230</td>\n",
       "    </tr>\n",
       "    <tr>\n",
       "      <th>F96</th>\n",
       "      <td>2126</td>\n",
       "      <td>0.004896</td>\n",
       "    </tr>\n",
       "    <tr>\n",
       "      <th>F99</th>\n",
       "      <td>6838</td>\n",
       "      <td>0.015747</td>\n",
       "    </tr>\n",
       "    <tr>\n",
       "      <th>F100</th>\n",
       "      <td>2429</td>\n",
       "      <td>0.005594</td>\n",
       "    </tr>\n",
       "    <tr>\n",
       "      <th>F122</th>\n",
       "      <td>19929</td>\n",
       "      <td>0.045893</td>\n",
       "    </tr>\n",
       "    <tr>\n",
       "      <th>F123</th>\n",
       "      <td>3530</td>\n",
       "      <td>0.008129</td>\n",
       "    </tr>\n",
       "    <tr>\n",
       "      <th>F126</th>\n",
       "      <td>1235</td>\n",
       "      <td>0.002844</td>\n",
       "    </tr>\n",
       "    <tr>\n",
       "      <th>F133</th>\n",
       "      <td>14416</td>\n",
       "      <td>0.033197</td>\n",
       "    </tr>\n",
       "    <tr>\n",
       "      <th>Hrv3</th>\n",
       "      <td>4335</td>\n",
       "      <td>0.009983</td>\n",
       "    </tr>\n",
       "    <tr>\n",
       "      <th>Hrv10</th>\n",
       "      <td>7870</td>\n",
       "      <td>0.018123</td>\n",
       "    </tr>\n",
       "    <tr>\n",
       "      <th>Hrv11</th>\n",
       "      <td>2707</td>\n",
       "      <td>0.006234</td>\n",
       "    </tr>\n",
       "    <tr>\n",
       "      <th>Hrv12</th>\n",
       "      <td>1672</td>\n",
       "      <td>0.003850</td>\n",
       "    </tr>\n",
       "    <tr>\n",
       "      <th>Hrv13</th>\n",
       "      <td>2529</td>\n",
       "      <td>0.005824</td>\n",
       "    </tr>\n",
       "    <tr>\n",
       "      <th>Hrv15</th>\n",
       "      <td>1348</td>\n",
       "      <td>0.003104</td>\n",
       "    </tr>\n",
       "    <tr>\n",
       "      <th>Hrv16</th>\n",
       "      <td>1676</td>\n",
       "      <td>0.003860</td>\n",
       "    </tr>\n",
       "    <tr>\n",
       "      <th>Hrv17</th>\n",
       "      <td>10445</td>\n",
       "      <td>0.024053</td>\n",
       "    </tr>\n",
       "    <tr>\n",
       "      <th>Hrv18</th>\n",
       "      <td>4207</td>\n",
       "      <td>0.009688</td>\n",
       "    </tr>\n",
       "    <tr>\n",
       "      <th>Hrv21</th>\n",
       "      <td>9997</td>\n",
       "      <td>0.023021</td>\n",
       "    </tr>\n",
       "    <tr>\n",
       "      <th>Hrv25</th>\n",
       "      <td>9615</td>\n",
       "      <td>0.022142</td>\n",
       "    </tr>\n",
       "    <tr>\n",
       "      <th>Hrv27</th>\n",
       "      <td>9993</td>\n",
       "      <td>0.023012</td>\n",
       "    </tr>\n",
       "    <tr>\n",
       "      <th>Hrv30</th>\n",
       "      <td>9683</td>\n",
       "      <td>0.022298</td>\n",
       "    </tr>\n",
       "    <tr>\n",
       "      <th>Hrv31</th>\n",
       "      <td>723</td>\n",
       "      <td>0.001665</td>\n",
       "    </tr>\n",
       "    <tr>\n",
       "      <th>Hrv32</th>\n",
       "      <td>22083</td>\n",
       "      <td>0.050853</td>\n",
       "    </tr>\n",
       "    <tr>\n",
       "      <th>Hrv33</th>\n",
       "      <td>13421</td>\n",
       "      <td>0.030906</td>\n",
       "    </tr>\n",
       "    <tr>\n",
       "      <th>Hrv34</th>\n",
       "      <td>19584</td>\n",
       "      <td>0.045098</td>\n",
       "    </tr>\n",
       "    <tr>\n",
       "      <th>Hrv37</th>\n",
       "      <td>20186</td>\n",
       "      <td>0.046485</td>\n",
       "    </tr>\n",
       "    <tr>\n",
       "      <th>Hrv39</th>\n",
       "      <td>4314</td>\n",
       "      <td>0.009934</td>\n",
       "    </tr>\n",
       "    <tr>\n",
       "      <th>Hrv40</th>\n",
       "      <td>5704</td>\n",
       "      <td>0.013135</td>\n",
       "    </tr>\n",
       "    <tr>\n",
       "      <th>Hrv41</th>\n",
       "      <td>10203</td>\n",
       "      <td>0.023496</td>\n",
       "    </tr>\n",
       "    <tr>\n",
       "      <th>Hrv47</th>\n",
       "      <td>5652</td>\n",
       "      <td>0.013015</td>\n",
       "    </tr>\n",
       "    <tr>\n",
       "      <th>Hrv49</th>\n",
       "      <td>14480</td>\n",
       "      <td>0.033345</td>\n",
       "    </tr>\n",
       "    <tr>\n",
       "      <th>Hrv51</th>\n",
       "      <td>5147</td>\n",
       "      <td>0.011853</td>\n",
       "    </tr>\n",
       "    <tr>\n",
       "      <th>Hrv54</th>\n",
       "      <td>10800</td>\n",
       "      <td>0.024870</td>\n",
       "    </tr>\n",
       "    <tr>\n",
       "      <th>Hrv55</th>\n",
       "      <td>15778</td>\n",
       "      <td>0.036334</td>\n",
       "    </tr>\n",
       "    <tr>\n",
       "      <th>Hrv57</th>\n",
       "      <td>8873</td>\n",
       "      <td>0.020433</td>\n",
       "    </tr>\n",
       "    <tr>\n",
       "      <th>Hrv58</th>\n",
       "      <td>33932</td>\n",
       "      <td>0.078139</td>\n",
       "    </tr>\n",
       "    <tr>\n",
       "      <th>Hrv59</th>\n",
       "      <td>3689</td>\n",
       "      <td>0.008495</td>\n",
       "    </tr>\n",
       "    <tr>\n",
       "      <th>Hrv85</th>\n",
       "      <td>4699</td>\n",
       "      <td>0.010821</td>\n",
       "    </tr>\n",
       "    <tr>\n",
       "      <th>Hrv86</th>\n",
       "      <td>8747</td>\n",
       "      <td>0.020143</td>\n",
       "    </tr>\n",
       "    <tr>\n",
       "      <th>Hrv91</th>\n",
       "      <td>3606</td>\n",
       "      <td>0.008304</td>\n",
       "    </tr>\n",
       "    <tr>\n",
       "      <th>Hrv92</th>\n",
       "      <td>13826</td>\n",
       "      <td>0.031839</td>\n",
       "    </tr>\n",
       "    <tr>\n",
       "      <th>Hrv93</th>\n",
       "      <td>21357</td>\n",
       "      <td>0.049181</td>\n",
       "    </tr>\n",
       "    <tr>\n",
       "      <th>Hrv99</th>\n",
       "      <td>12556</td>\n",
       "      <td>0.028914</td>\n",
       "    </tr>\n",
       "  </tbody>\n",
       "</table>\n",
       "</div>"
      ],
      "text/plain": [
       "            counts     freqs\n",
       "categories                  \n",
       "F81           9189  0.021161\n",
       "F83          11353  0.026144\n",
       "F84           3307  0.007615\n",
       "F86           4112  0.009469\n",
       "F87           2780  0.006402\n",
       "F88          10558  0.024313\n",
       "F89           1818  0.004187\n",
       "F91           5095  0.011733\n",
       "F93            100  0.000230\n",
       "F96           2126  0.004896\n",
       "F99           6838  0.015747\n",
       "F100          2429  0.005594\n",
       "F122         19929  0.045893\n",
       "F123          3530  0.008129\n",
       "F126          1235  0.002844\n",
       "F133         14416  0.033197\n",
       "Hrv3          4335  0.009983\n",
       "Hrv10         7870  0.018123\n",
       "Hrv11         2707  0.006234\n",
       "Hrv12         1672  0.003850\n",
       "Hrv13         2529  0.005824\n",
       "Hrv15         1348  0.003104\n",
       "Hrv16         1676  0.003860\n",
       "Hrv17        10445  0.024053\n",
       "Hrv18         4207  0.009688\n",
       "Hrv21         9997  0.023021\n",
       "Hrv25         9615  0.022142\n",
       "Hrv27         9993  0.023012\n",
       "Hrv30         9683  0.022298\n",
       "Hrv31          723  0.001665\n",
       "Hrv32        22083  0.050853\n",
       "Hrv33        13421  0.030906\n",
       "Hrv34        19584  0.045098\n",
       "Hrv37        20186  0.046485\n",
       "Hrv39         4314  0.009934\n",
       "Hrv40         5704  0.013135\n",
       "Hrv41        10203  0.023496\n",
       "Hrv47         5652  0.013015\n",
       "Hrv49        14480  0.033345\n",
       "Hrv51         5147  0.011853\n",
       "Hrv54        10800  0.024870\n",
       "Hrv55        15778  0.036334\n",
       "Hrv57         8873  0.020433\n",
       "Hrv58        33932  0.078139\n",
       "Hrv59         3689  0.008495\n",
       "Hrv85         4699  0.010821\n",
       "Hrv86         8747  0.020143\n",
       "Hrv91         3606  0.008304\n",
       "Hrv92        13826  0.031839\n",
       "Hrv93        21357  0.049181\n",
       "Hrv99        12556  0.028914"
      ]
     },
     "execution_count": 13,
     "metadata": {},
     "output_type": "execute_result"
    }
   ],
   "source": [
    "print('Total number of cells: {:d}'.format(adata.n_obs))\n",
    "print('Total number of genes: {:d}'.format(adata.n_vars))\n",
    "adata.obs['donor'].values.describe()"
   ]
  },
  {
   "cell_type": "markdown",
   "metadata": {},
   "source": [
    "\n",
    "### Filter cells with large % mitochondrial genes"
   ]
  },
  {
   "cell_type": "code",
   "execution_count": 14,
   "metadata": {},
   "outputs": [
    {
     "data": {
      "image/png": "[encoded data removed]",
      "text/plain": [
       "<Figure size 372.24x320 with 1 Axes>"
      ]
     },
     "metadata": {
      "needs_background": "light"
     },
     "output_type": "display_data"
    }
   ],
   "source": [
    "sc.pl.violin(adata, ['percent_mito'], groupby='donor', rotation = 90) #hPGCs"
   ]
  },
  {
   "cell_type": "code",
   "execution_count": 15,
   "metadata": {},
   "outputs": [
    {
     "data": {
      "text/plain": [
       "<matplotlib.lines.Line2D at 0x7f9e1c6ecd00>"
      ]
     },
     "execution_count": 15,
     "metadata": {},
     "output_type": "execute_result"
    },
    {
     "data": {
      "image/png": "[encoded data removed]",
      "text/plain": [
       "<Figure size 320x320 with 1 Axes>"
      ]
     },
     "metadata": {
      "needs_background": "light"
     },
     "output_type": "display_data"
    }
   ],
   "source": [
    "plt.hist(adata.obs['percent_mito'], bins = 100, cumulative=True)\n",
    "plt.axvline(0.1, linestyle = '--', color = 'red')\n",
    "plt.axvline(0.2, linestyle = '--', color = 'darkred')\n",
    "plt.axhline(adata.n_obs*0.99, linestyle = '-', color = 'green')"
   ]
  },
  {
   "cell_type": "code",
   "execution_count": 16,
   "metadata": {},
   "outputs": [
    {
     "name": "stderr",
     "output_type": "stream",
     "text": [
      "/opt/conda/lib/python3.8/site-packages/pandas/core/arrays/categorical.py:2487: FutureWarning: The `inplace` parameter in pandas.Categorical.remove_unused_categories is deprecated and will be removed in a future version.\n",
      "  res = method(*args, **kwargs)\n"
     ]
    }
   ],
   "source": [
    "# >20%\n",
    "adata = adata[adata.obs['percent_mito'] < 0.2, :]"
   ]
  },
  {
   "cell_type": "code",
   "execution_count": 17,
   "metadata": {},
   "outputs": [
    {
     "name": "stdout",
     "output_type": "stream",
     "text": [
      "Total number of cells: 406257\n",
      "Total number of genes: 28946\n"
     ]
    },
    {
     "data": {
      "text/html": [
       "<div>\n",
       "<style scoped>\n",
       "    .dataframe tbody tr th:only-of-type {\n",
       "        vertical-align: middle;\n",
       "    }\n",
       "\n",
       "    .dataframe tbody tr th {\n",
       "        vertical-align: top;\n",
       "    }\n",
       "\n",
       "    .dataframe thead th {\n",
       "        text-align: right;\n",
       "    }\n",
       "</style>\n",
       "<table border=\"1\" class=\"dataframe\">\n",
       "  <thead>\n",
       "    <tr style=\"text-align: right;\">\n",
       "      <th></th>\n",
       "      <th>counts</th>\n",
       "      <th>freqs</th>\n",
       "    </tr>\n",
       "    <tr>\n",
       "      <th>categories</th>\n",
       "      <th></th>\n",
       "      <th></th>\n",
       "    </tr>\n",
       "  </thead>\n",
       "  <tbody>\n",
       "    <tr>\n",
       "      <th>F81</th>\n",
       "      <td>9169</td>\n",
       "      <td>0.022569</td>\n",
       "    </tr>\n",
       "    <tr>\n",
       "      <th>F83</th>\n",
       "      <td>11197</td>\n",
       "      <td>0.027561</td>\n",
       "    </tr>\n",
       "    <tr>\n",
       "      <th>F84</th>\n",
       "      <td>3307</td>\n",
       "      <td>0.008140</td>\n",
       "    </tr>\n",
       "    <tr>\n",
       "      <th>F86</th>\n",
       "      <td>4084</td>\n",
       "      <td>0.010053</td>\n",
       "    </tr>\n",
       "    <tr>\n",
       "      <th>F87</th>\n",
       "      <td>2698</td>\n",
       "      <td>0.006641</td>\n",
       "    </tr>\n",
       "    <tr>\n",
       "      <th>F88</th>\n",
       "      <td>10241</td>\n",
       "      <td>0.025208</td>\n",
       "    </tr>\n",
       "    <tr>\n",
       "      <th>F89</th>\n",
       "      <td>1810</td>\n",
       "      <td>0.004455</td>\n",
       "    </tr>\n",
       "    <tr>\n",
       "      <th>F91</th>\n",
       "      <td>5050</td>\n",
       "      <td>0.012431</td>\n",
       "    </tr>\n",
       "    <tr>\n",
       "      <th>F93</th>\n",
       "      <td>100</td>\n",
       "      <td>0.000246</td>\n",
       "    </tr>\n",
       "    <tr>\n",
       "      <th>F96</th>\n",
       "      <td>2023</td>\n",
       "      <td>0.004980</td>\n",
       "    </tr>\n",
       "    <tr>\n",
       "      <th>F99</th>\n",
       "      <td>6786</td>\n",
       "      <td>0.016704</td>\n",
       "    </tr>\n",
       "    <tr>\n",
       "      <th>F100</th>\n",
       "      <td>2350</td>\n",
       "      <td>0.005785</td>\n",
       "    </tr>\n",
       "    <tr>\n",
       "      <th>F122</th>\n",
       "      <td>19582</td>\n",
       "      <td>0.048201</td>\n",
       "    </tr>\n",
       "    <tr>\n",
       "      <th>F123</th>\n",
       "      <td>3526</td>\n",
       "      <td>0.008679</td>\n",
       "    </tr>\n",
       "    <tr>\n",
       "      <th>F126</th>\n",
       "      <td>1178</td>\n",
       "      <td>0.002900</td>\n",
       "    </tr>\n",
       "    <tr>\n",
       "      <th>F133</th>\n",
       "      <td>13624</td>\n",
       "      <td>0.033535</td>\n",
       "    </tr>\n",
       "    <tr>\n",
       "      <th>Hrv3</th>\n",
       "      <td>3582</td>\n",
       "      <td>0.008817</td>\n",
       "    </tr>\n",
       "    <tr>\n",
       "      <th>Hrv10</th>\n",
       "      <td>7384</td>\n",
       "      <td>0.018176</td>\n",
       "    </tr>\n",
       "    <tr>\n",
       "      <th>Hrv11</th>\n",
       "      <td>2614</td>\n",
       "      <td>0.006434</td>\n",
       "    </tr>\n",
       "    <tr>\n",
       "      <th>Hrv12</th>\n",
       "      <td>1670</td>\n",
       "      <td>0.004111</td>\n",
       "    </tr>\n",
       "    <tr>\n",
       "      <th>Hrv13</th>\n",
       "      <td>2436</td>\n",
       "      <td>0.005996</td>\n",
       "    </tr>\n",
       "    <tr>\n",
       "      <th>Hrv15</th>\n",
       "      <td>1261</td>\n",
       "      <td>0.003104</td>\n",
       "    </tr>\n",
       "    <tr>\n",
       "      <th>Hrv16</th>\n",
       "      <td>1630</td>\n",
       "      <td>0.004012</td>\n",
       "    </tr>\n",
       "    <tr>\n",
       "      <th>Hrv17</th>\n",
       "      <td>10057</td>\n",
       "      <td>0.024755</td>\n",
       "    </tr>\n",
       "    <tr>\n",
       "      <th>Hrv18</th>\n",
       "      <td>3777</td>\n",
       "      <td>0.009297</td>\n",
       "    </tr>\n",
       "    <tr>\n",
       "      <th>Hrv21</th>\n",
       "      <td>8927</td>\n",
       "      <td>0.021974</td>\n",
       "    </tr>\n",
       "    <tr>\n",
       "      <th>Hrv25</th>\n",
       "      <td>8983</td>\n",
       "      <td>0.022112</td>\n",
       "    </tr>\n",
       "    <tr>\n",
       "      <th>Hrv27</th>\n",
       "      <td>8758</td>\n",
       "      <td>0.021558</td>\n",
       "    </tr>\n",
       "    <tr>\n",
       "      <th>Hrv30</th>\n",
       "      <td>9247</td>\n",
       "      <td>0.022761</td>\n",
       "    </tr>\n",
       "    <tr>\n",
       "      <th>Hrv31</th>\n",
       "      <td>694</td>\n",
       "      <td>0.001708</td>\n",
       "    </tr>\n",
       "    <tr>\n",
       "      <th>Hrv32</th>\n",
       "      <td>18353</td>\n",
       "      <td>0.045176</td>\n",
       "    </tr>\n",
       "    <tr>\n",
       "      <th>Hrv33</th>\n",
       "      <td>12070</td>\n",
       "      <td>0.029710</td>\n",
       "    </tr>\n",
       "    <tr>\n",
       "      <th>Hrv34</th>\n",
       "      <td>18208</td>\n",
       "      <td>0.044819</td>\n",
       "    </tr>\n",
       "    <tr>\n",
       "      <th>Hrv37</th>\n",
       "      <td>18839</td>\n",
       "      <td>0.046372</td>\n",
       "    </tr>\n",
       "    <tr>\n",
       "      <th>Hrv39</th>\n",
       "      <td>4098</td>\n",
       "      <td>0.010087</td>\n",
       "    </tr>\n",
       "    <tr>\n",
       "      <th>Hrv40</th>\n",
       "      <td>5007</td>\n",
       "      <td>0.012325</td>\n",
       "    </tr>\n",
       "    <tr>\n",
       "      <th>Hrv41</th>\n",
       "      <td>8833</td>\n",
       "      <td>0.021742</td>\n",
       "    </tr>\n",
       "    <tr>\n",
       "      <th>Hrv47</th>\n",
       "      <td>5415</td>\n",
       "      <td>0.013329</td>\n",
       "    </tr>\n",
       "    <tr>\n",
       "      <th>Hrv49</th>\n",
       "      <td>12500</td>\n",
       "      <td>0.030769</td>\n",
       "    </tr>\n",
       "    <tr>\n",
       "      <th>Hrv51</th>\n",
       "      <td>3975</td>\n",
       "      <td>0.009784</td>\n",
       "    </tr>\n",
       "    <tr>\n",
       "      <th>Hrv54</th>\n",
       "      <td>8105</td>\n",
       "      <td>0.019950</td>\n",
       "    </tr>\n",
       "    <tr>\n",
       "      <th>Hrv55</th>\n",
       "      <td>14869</td>\n",
       "      <td>0.036600</td>\n",
       "    </tr>\n",
       "    <tr>\n",
       "      <th>Hrv57</th>\n",
       "      <td>8826</td>\n",
       "      <td>0.021725</td>\n",
       "    </tr>\n",
       "    <tr>\n",
       "      <th>Hrv58</th>\n",
       "      <td>32353</td>\n",
       "      <td>0.079637</td>\n",
       "    </tr>\n",
       "    <tr>\n",
       "      <th>Hrv59</th>\n",
       "      <td>3216</td>\n",
       "      <td>0.007916</td>\n",
       "    </tr>\n",
       "    <tr>\n",
       "      <th>Hrv85</th>\n",
       "      <td>4508</td>\n",
       "      <td>0.011096</td>\n",
       "    </tr>\n",
       "    <tr>\n",
       "      <th>Hrv86</th>\n",
       "      <td>8424</td>\n",
       "      <td>0.020736</td>\n",
       "    </tr>\n",
       "    <tr>\n",
       "      <th>Hrv91</th>\n",
       "      <td>3438</td>\n",
       "      <td>0.008463</td>\n",
       "    </tr>\n",
       "    <tr>\n",
       "      <th>Hrv92</th>\n",
       "      <td>13782</td>\n",
       "      <td>0.033924</td>\n",
       "    </tr>\n",
       "    <tr>\n",
       "      <th>Hrv93</th>\n",
       "      <td>21239</td>\n",
       "      <td>0.052280</td>\n",
       "    </tr>\n",
       "    <tr>\n",
       "      <th>Hrv99</th>\n",
       "      <td>12454</td>\n",
       "      <td>0.030655</td>\n",
       "    </tr>\n",
       "  </tbody>\n",
       "</table>\n",
       "</div>"
      ],
      "text/plain": [
       "            counts     freqs\n",
       "categories                  \n",
       "F81           9169  0.022569\n",
       "F83          11197  0.027561\n",
       "F84           3307  0.008140\n",
       "F86           4084  0.010053\n",
       "F87           2698  0.006641\n",
       "F88          10241  0.025208\n",
       "F89           1810  0.004455\n",
       "F91           5050  0.012431\n",
       "F93            100  0.000246\n",
       "F96           2023  0.004980\n",
       "F99           6786  0.016704\n",
       "F100          2350  0.005785\n",
       "F122         19582  0.048201\n",
       "F123          3526  0.008679\n",
       "F126          1178  0.002900\n",
       "F133         13624  0.033535\n",
       "Hrv3          3582  0.008817\n",
       "Hrv10         7384  0.018176\n",
       "Hrv11         2614  0.006434\n",
       "Hrv12         1670  0.004111\n",
       "Hrv13         2436  0.005996\n",
       "Hrv15         1261  0.003104\n",
       "Hrv16         1630  0.004012\n",
       "Hrv17        10057  0.024755\n",
       "Hrv18         3777  0.009297\n",
       "Hrv21         8927  0.021974\n",
       "Hrv25         8983  0.022112\n",
       "Hrv27         8758  0.021558\n",
       "Hrv30         9247  0.022761\n",
       "Hrv31          694  0.001708\n",
       "Hrv32        18353  0.045176\n",
       "Hrv33        12070  0.029710\n",
       "Hrv34        18208  0.044819\n",
       "Hrv37        18839  0.046372\n",
       "Hrv39         4098  0.010087\n",
       "Hrv40         5007  0.012325\n",
       "Hrv41         8833  0.021742\n",
       "Hrv47         5415  0.013329\n",
       "Hrv49        12500  0.030769\n",
       "Hrv51         3975  0.009784\n",
       "Hrv54         8105  0.019950\n",
       "Hrv55        14869  0.036600\n",
       "Hrv57         8826  0.021725\n",
       "Hrv58        32353  0.079637\n",
       "Hrv59         3216  0.007916\n",
       "Hrv85         4508  0.011096\n",
       "Hrv86         8424  0.020736\n",
       "Hrv91         3438  0.008463\n",
       "Hrv92        13782  0.033924\n",
       "Hrv93        21239  0.052280\n",
       "Hrv99        12454  0.030655"
      ]
     },
     "execution_count": 17,
     "metadata": {},
     "output_type": "execute_result"
    }
   ],
   "source": [
    "print('Total number of cells: {:d}'.format(adata.n_obs))\n",
    "print('Total number of genes: {:d}'.format(adata.n_vars))\n",
    "adata.obs['donor'].values.describe()"
   ]
  },
  {
   "cell_type": "markdown",
   "metadata": {},
   "source": [
    "### Remove cells with low counts high mito combo"
   ]
  },
  {
   "cell_type": "code",
   "execution_count": 18,
   "metadata": {},
   "outputs": [
    {
     "name": "stderr",
     "output_type": "stream",
     "text": [
      "Trying to set attribute `.obs` of view, copying.\n",
      "/opt/conda/lib/python3.8/site-packages/pandas/core/arrays/categorical.py:2487: FutureWarning: The `inplace` parameter in pandas.Categorical.remove_unused_categories is deprecated and will be removed in a future version.\n",
      "  res = method(*args, **kwargs)\n"
     ]
    }
   ],
   "source": [
    "x = [ int(i) < 1500 for i in adata.obs['n_counts']]\n",
    "adata.obs['low_ncounts'] = [ str(i) for i in x ]\n",
    "\n",
    "y = [ i > 0.1 for i in adata.obs['percent_mito']]\n",
    "adata.obs['high_mito'] = [ str(i) for i in y ]\n",
    "\n",
    "mask = [all(tup) for tup in zip(x,y)]\n",
    "adata.obs['low_ncounts_high_mito'] = [ str(i) for i in mask ]\n",
    "\n",
    "adata = adata[[ 'False' in i for i in adata.obs['low_ncounts_high_mito']   ]] # there is a bug so I have to iterate ... sorry "
   ]
  },
  {
   "cell_type": "code",
   "execution_count": 19,
   "metadata": {},
   "outputs": [
    {
     "name": "stdout",
     "output_type": "stream",
     "text": [
      "Total number of cells: 396565\n",
      "Total number of genes: 28946\n"
     ]
    }
   ],
   "source": [
    "print('Total number of cells: {:d}'.format(adata.n_obs))\n",
    "print('Total number of genes: {:d}'.format(adata.n_vars))\n",
    "adata.obs['donor'].values.describe()\n",
    "pd.DataFrame(adata.obs).to_csv(str(sc.settings.figdir)+'/metadata_filtered.csv')"
   ]
  },
  {
   "cell_type": "markdown",
   "metadata": {},
   "source": [
    "### Filter genes expressed in less than 3 cells"
   ]
  },
  {
   "cell_type": "code",
   "execution_count": 20,
   "metadata": {},
   "outputs": [
    {
     "name": "stderr",
     "output_type": "stream",
     "text": [
      "filtered out 126 genes that are detected in less than 3 cells\n",
      "Trying to set attribute `.var` of view, copying.\n"
     ]
    }
   ],
   "source": [
    "sc.pp.filter_genes(adata, min_cells=3)"
   ]
  },
  {
   "cell_type": "code",
   "execution_count": 21,
   "metadata": {},
   "outputs": [
    {
     "name": "stdout",
     "output_type": "stream",
     "text": [
      "Total number of cells: 396565\n",
      "Total number of genes: 28820\n"
     ]
    }
   ],
   "source": [
    "print('Total number of cells: {:d}'.format(adata.n_obs))\n",
    "print('Total number of genes: {:d}'.format(adata.n_vars))"
   ]
  },
  {
   "cell_type": "markdown",
   "metadata": {},
   "source": [
    "### Identify cells behaving like cc genes\n",
    "Per genes analysis: identify genes behaving like known cell cycle genes"
   ]
  },
  {
   "cell_type": "code",
   "execution_count": 22,
   "metadata": {},
   "outputs": [
    {
     "name": "stderr",
     "output_type": "stream",
     "text": [
      "normalizing by total count per cell\n",
      "    finished (0:00:13): normalized adata.X and added    'n_counts', counts per cell before normalization (adata.obs)\n"
     ]
    }
   ],
   "source": [
    "bdata = adata.copy()\n",
    "# Normalize total counts per cell\n",
    "sc.pp.normalize_per_cell(bdata, counts_per_cell_after=1e4)\n",
    "# Logarithmize the data matrix\n",
    "sc.pp.log1p(bdata)"
   ]
  },
  {
   "cell_type": "code",
   "execution_count": 23,
   "metadata": {},
   "outputs": [
    {
     "name": "stderr",
     "output_type": "stream",
     "text": [
      "extracting highly variable genes\n",
      "    finished (0:00:24)\n",
      "--> added\n",
      "    'highly_variable', boolean vector (adata.var)\n",
      "    'means', float vector (adata.var)\n",
      "    'dispersions', float vector (adata.var)\n",
      "    'dispersions_norm', float vector (adata.var)\n",
      "/opt/conda/lib/python3.8/site-packages/pandas/core/arrays/categorical.py:2487: FutureWarning: The `inplace` parameter in pandas.Categorical.remove_unused_categories is deprecated and will be removed in a future version.\n",
      "  res = method(*args, **kwargs)\n"
     ]
    }
   ],
   "source": [
    "# Extract highly variable genes\n",
    "sc.pp.highly_variable_genes(bdata)\n",
    "highly_variable_genes = bdata.var[\"highly_variable\"]\n",
    "bdata = bdata[:, highly_variable_genes]"
   ]
  },
  {
   "cell_type": "code",
   "execution_count": 24,
   "metadata": {},
   "outputs": [],
   "source": [
    "# Traspose matrix for a GENE-centered analysis\n",
    "bdata = bdata.copy().T"
   ]
  },
  {
   "cell_type": "code",
   "execution_count": 25,
   "metadata": {},
   "outputs": [
    {
     "data": {
      "text/plain": [
       "(2240, 396565)"
      ]
     },
     "execution_count": 25,
     "metadata": {},
     "output_type": "execute_result"
    }
   ],
   "source": [
    "bdata.X.shape"
   ]
  },
  {
   "cell_type": "code",
   "execution_count": 26,
   "metadata": {},
   "outputs": [
    {
     "name": "stderr",
     "output_type": "stream",
     "text": [
      "... as `zero_center=True`, sparse input is densified and may lead to large memory consumption\n",
      "computing PCA\n",
      "    with n_comps=50\n",
      "    finished (0:00:58)\n",
      "WARNING: saving figure to file figures/preprocessing/pca_variance_ratio_ccg_identification.pdf\n"
     ]
    },
    {
     "data": {
      "image/png": "[encoded data removed]",
      "text/plain": [
       "<Figure size 320x320 with 1 Axes>"
      ]
     },
     "metadata": {
      "needs_background": "light"
     },
     "output_type": "display_data"
    }
   ],
   "source": [
    "# Scale data to unit variance and zero mean\n",
    "sc.pp.scale(bdata, max_value=10)\n",
    "\n",
    "# Scatter plot in PCA coordinates\n",
    "sc.tl.pca(bdata)\n",
    "bdata.obsm['X_pca'] *= -1  # multiply by -1 to match Seurat\n",
    "# Plot the variance ratio\n",
    "sc.pl.pca_variance_ratio(bdata, log=True, save='_ccg_identification.pdf')"
   ]
  },
  {
   "cell_type": "code",
   "execution_count": 27,
   "metadata": {},
   "outputs": [
    {
     "name": "stderr",
     "output_type": "stream",
     "text": [
      "computing neighbors\n",
      "    using 'X_pca' with n_pcs = 10\n",
      "    finished: added to `.uns['neighbors']`\n",
      "    `.obsp['distances']`, distances for each pair of neighbors\n",
      "    `.obsp['connectivities']`, weighted adjacency matrix (0:00:15)\n",
      "computing UMAP\n",
      "    finished: added\n",
      "    'X_umap', UMAP coordinates (adata.obsm) (0:00:03)\n",
      "running Louvain clustering\n",
      "    using the \"louvain\" package of Traag (2017)\n",
      "    finished: found 12 clusters and added\n",
      "    'louvain', the cluster labels (adata.obs, categorical) (0:00:00)\n"
     ]
    }
   ],
   "source": [
    "num_pcs = 10\n",
    "# Compute a neighborhood graph of observations\n",
    "sc.pp.neighbors(bdata, n_pcs=num_pcs)\n",
    "# Embed the neighborhood graph using UMAP\n",
    "sc.tl.umap(bdata)\n",
    "# Cluster GENES into subgroups using louvain: resolution < 1 to find less clusters\n",
    "sc.tl.louvain(bdata, resolution=1)"
   ]
  },
  {
   "cell_type": "code",
   "execution_count": 28,
   "metadata": {},
   "outputs": [
    {
     "name": "stderr",
     "output_type": "stream",
     "text": [
      "... storing 'known_cyclers' as categorical\n",
      "... storing 'low_ncounts' as categorical\n",
      "... storing 'high_mito' as categorical\n",
      "... storing 'low_ncounts_high_mito' as categorical\n",
      "WARNING: saving figure to file figures/preprocessing/umap_ccg_identification.pdf\n"
     ]
    },
    {
     "data": {
      "image/png": "[encoded data removed]",
      "text/plain": [
       "<Figure size 772.8x320 with 2 Axes>"
      ]
     },
     "metadata": {},
     "output_type": "display_data"
    },
    {
     "name": "stdout",
     "output_type": "stream",
     "text": [
      "CCNB2    9\n",
      "CDK1     9\n",
      "MKI67    9\n",
      "PCNA     9\n",
      "Name: louvain, dtype: category\n",
      "Categories (12, object): ['0', '1', '2', '3', ..., '8', '9', '10', '11']\n"
     ]
    }
   ],
   "source": [
    "# Locate ccs cluster\n",
    "bdata.obs['known_cyclers'] = [i in ['CDK1','MKI67','CCNB2','PCNA'] for i in bdata.obs_names]\n",
    "bdata.obs['known_cyclers'] = [ str(i) for i in  bdata.obs['known_cyclers']]\n",
    "sc.pl.umap(bdata, color=['known_cyclers', 'louvain'], color_map='OrRd',save='_ccg_identification.pdf')\n",
    "print(bdata.obs.loc[[i in ['CDK1','MKI67','CCNB2','PCNA'] for i in bdata.obs_names],'louvain'])"
   ]
  },
  {
   "cell_type": "code",
   "execution_count": 29,
   "metadata": {},
   "outputs": [
    {
     "name": "stdout",
     "output_type": "stream",
     "text": [
      "Cell cycle genes cluster is 9\n"
     ]
    }
   ],
   "source": [
    "ccgs_cl = bdata.obs.loc['CDK1',['louvain']][0]\n",
    "print(\"Cell cycle genes cluster is \"+ccgs_cl)"
   ]
  },
  {
   "cell_type": "markdown",
   "metadata": {},
   "source": [
    "### Flag ccgs"
   ]
  },
  {
   "cell_type": "code",
   "execution_count": 30,
   "metadata": {},
   "outputs": [],
   "source": [
    "# Add unstructured dict-like annotation for ccgs\n",
    "adata.uns['ccgs'] = list(bdata.obs[bdata.obs['louvain']==ccgs_cl].index)"
   ]
  },
  {
   "cell_type": "code",
   "execution_count": 31,
   "metadata": {},
   "outputs": [],
   "source": [
    "# Move plots\n",
    "MovePlots('ccg_identification','ccg_identification')"
   ]
  },
  {
   "cell_type": "markdown",
   "metadata": {},
   "source": [
    "# Score cell cycle"
   ]
  },
  {
   "cell_type": "code",
   "execution_count": 32,
   "metadata": {
    "tags": []
   },
   "outputs": [],
   "source": [
    "s_genes = [x.strip() for x in open('/home/jovyan/utils/S_genes.tsv')]\n",
    "g2m_genes = [x.strip() for x in open('/home/jovyan/utils/G2M_genes.tsv')]\n",
    "\n",
    "s_genes = [x for x in s_genes if x in adata.var_names]\n",
    "g2m_genes = [x for x in g2m_genes if x in adata.var_names]"
   ]
  },
  {
   "cell_type": "code",
   "execution_count": 33,
   "metadata": {},
   "outputs": [
    {
     "name": "stderr",
     "output_type": "stream",
     "text": [
      "calculating cell cycle phase\n",
      "computing score 'S_score'\n",
      "/opt/conda/lib/python3.8/site-packages/pandas/core/arrays/categorical.py:2487: FutureWarning: The `inplace` parameter in pandas.Categorical.remove_unused_categories is deprecated and will be removed in a future version.\n",
      "  res = method(*args, **kwargs)\n",
      "    finished: added\n",
      "    'S_score', score of gene set (adata.obs).\n",
      "    503 total control genes are used. (0:00:17)\n",
      "computing score 'G2M_score'\n",
      "/opt/conda/lib/python3.8/site-packages/pandas/core/arrays/categorical.py:2487: FutureWarning: The `inplace` parameter in pandas.Categorical.remove_unused_categories is deprecated and will be removed in a future version.\n",
      "  res = method(*args, **kwargs)\n",
      "    finished: added\n",
      "    'G2M_score', score of gene set (adata.obs).\n",
      "    378 total control genes are used. (0:00:17)\n",
      "-->     'phase', cell cycle phase (adata.obs)\n"
     ]
    }
   ],
   "source": [
    "sc.tl.score_genes_cell_cycle(adata, s_genes=s_genes, g2m_genes=g2m_genes)"
   ]
  },
  {
   "cell_type": "markdown",
   "metadata": {},
   "source": [
    "## Identify HVGs\n",
    "\n",
    "Flavor='seurat_v3' expects count data.\n",
    "\n",
    "For mor einformations, see \"Feature selection for individual datasets\" at https://www.sciencedirect.com/science/article/pii/S0092867419305598"
   ]
  },
  {
   "cell_type": "code",
   "execution_count": 34,
   "metadata": {},
   "outputs": [
    {
     "name": "stderr",
     "output_type": "stream",
     "text": [
      "If you pass `n_top_genes`, all cutoffs are ignored.\n",
      "extracting highly variable genes\n",
      "/opt/conda/lib/python3.8/site-packages/pandas/core/arrays/categorical.py:2487: FutureWarning: The `inplace` parameter in pandas.Categorical.remove_unused_categories is deprecated and will be removed in a future version.\n",
      "  res = method(*args, **kwargs)\n",
      "/opt/conda/lib/python3.8/site-packages/scanpy/preprocessing/_highly_variable_genes.py:144: FutureWarning: Slicing a positional slice with .loc is not supported, and will raise TypeError in a future version.  Use .loc with labels or .iloc with positions instead.\n",
      "  df.loc[: int(n_top_genes), 'highly_variable'] = True\n",
      "--> added\n",
      "    'highly_variable', boolean vector (adata.var)\n",
      "    'highly_variable_rank', float vector (adata.var)\n",
      "    'means', float vector (adata.var)\n",
      "    'variances', float vector (adata.var)\n",
      "    'variances_norm', float vector (adata.var)\n"
     ]
    }
   ],
   "source": [
    "sc.pp.highly_variable_genes(adata, flavor='seurat_v3', n_top_genes=2000, subset=False)"
   ]
  },
  {
   "cell_type": "markdown",
   "metadata": {},
   "source": [
    "## Load scrublet"
   ]
  },
  {
   "cell_type": "code",
   "execution_count": 35,
   "metadata": {},
   "outputs": [],
   "source": [
    "scorenames = ['scrublet_score','scrublet_cluster_score','zscore','bh_pval','bonf_pval']\n",
    "\n",
    "scrdf = []\n",
    "for sample in meta.index:\n",
    "    scrdf.append(pd.read_csv('scrublet-scores/'+sample+'.csv', header=0, index_col=0))\n",
    "scrdf = pd.concat(scrdf)\n",
    "scrdf.index = [i.replace('-1', '') for i in scrdf.index]\n",
    "\n",
    "idx = [ i in adata.obs_names for i in scrdf.index ]\n",
    "scrdf = scrdf[idx]\n",
    "for score in scorenames:\n",
    "    adata.obs[score] = scrdf[score]\n",
    "adata.obs['is_doublet'] = adata.obs['bonf_pval'] < 0.01"
   ]
  },
  {
   "cell_type": "markdown",
   "metadata": {},
   "source": [
    "# Load previous annotations"
   ]
  },
  {
   "cell_type": "code",
   "execution_count": 36,
   "metadata": {},
   "outputs": [
    {
     "name": "stderr",
     "output_type": "stream",
     "text": [
      "/opt/conda/lib/python3.8/site-packages/IPython/core/interactiveshell.py:3165: DtypeWarning: Columns (24,25,27) have mixed types.Specify dtype option on import or set low_memory=False.\n",
      "  has_raised = await self.run_ast_nodes(code_ast.body, cell_name,\n"
     ]
    }
   ],
   "source": [
    "# Add old cluster name\n",
    "clu_annot = pd.read_csv('/nfs/team292/lg18/with_valentina/gonadsV1_submitted/FCA-M5-annotatedCluster4Seurat.csv', header=0, index_col=0)\n",
    "clu_annot.head()\n",
    "\n",
    "cell_annot = clu_annot['clusters_manual'].to_dict()\n",
    "adata.obs['lineages_v1'] = adata.obs_names.map(cell_annot)"
   ]
  },
  {
   "cell_type": "code",
   "execution_count": 37,
   "metadata": {},
   "outputs": [],
   "source": [
    "# Add old cluster subname\n",
    "meta_som = pd.read_csv('/nfs/team292/lg18/with_valentina/gonadsV1_submitted/supporting_nocycling_annotation.csv')\n",
    "meta_som = meta_som.set_index('Unnamed: 0')\n",
    "meta_som.head()\n",
    "\n",
    "meta_germ = pd.read_csv('/nfs/team292/lg18/with_valentina/gonadsV1_submitted/germcells_annotation.csv')\n",
    "meta_germ = meta_germ.set_index('Unnamed: 0')\n",
    "meta_germ.head()\n",
    "\n",
    "meta_mes = pd.read_csv('/nfs/team292/lg18/with_valentina/gonadsV1_submitted/mesenchymal_annotated.csv')\n",
    "meta_mes = meta_mes.set_index('Unnamed: 0')\n",
    "meta_mes.head()\n",
    "\n",
    "meta_epi = pd.read_csv('/nfs/team292/lg18/with_valentina/gonadsV1_submitted/epithelials_highresolution_annotation.csv')\n",
    "meta_epi = meta_epi.set_index('Unnamed: 0')\n",
    "meta_epi.head()\n",
    "\n",
    "meta_endo = pd.read_csv('/nfs/team292/lg18/with_valentina/gonadsV1_submitted/endothelial_nocycling_annotation.csv')\n",
    "meta_endo = meta_endo.set_index('Unnamed: 0')\n",
    "meta_endo.head()\n",
    "\n",
    "som_cell_annot = meta_som['annotated_clusters'].to_dict()\n",
    "germ_cell_annot = meta_germ['annotated_clusters'].to_dict()\n",
    "mes_cell_annot = meta_mes['annotated_clusters'].to_dict()\n",
    "epi_cell_annot = meta_epi['annotated_clusters'].to_dict()\n",
    "endo_cell_annot = meta_endo['annotated_clusters'].to_dict()\n",
    "cell_annot = {**som_cell_annot, **germ_cell_annot, **mes_cell_annot, **epi_cell_annot, **endo_cell_annot}\n",
    "adata.obs['celltype_v1'] = adata.obs_names.map(cell_annot)\n",
    "\n",
    "# Replace NaN with big clusters \n",
    "adata.obs['celltype_v1'] = adata.obs['celltype_v1'].fillna(adata.obs['lineages_v1'])"
   ]
  },
  {
   "cell_type": "code",
   "execution_count": 38,
   "metadata": {},
   "outputs": [
    {
     "name": "stderr",
     "output_type": "stream",
     "text": [
      "/opt/conda/lib/python3.8/site-packages/IPython/core/interactiveshell.py:3165: DtypeWarning: Columns (29,30,32) have mixed types.Specify dtype option on import or set low_memory=False.\n",
      "  has_raised = await self.run_ast_nodes(code_ast.body, cell_name,\n",
      "/opt/conda/lib/python3.8/site-packages/IPython/core/interactiveshell.py:3165: DtypeWarning: Columns (29,30) have mixed types.Specify dtype option on import or set low_memory=False.\n",
      "  has_raised = await self.run_ast_nodes(code_ast.body, cell_name,\n"
     ]
    }
   ],
   "source": [
    "# Add old cluster subname\n",
    "meta_som = pd.read_csv('/nfs/team292/lg18/with_valentina/gonadsV2_revision/FCA-gonads_female_annotated.csv')\n",
    "meta_som = meta_som.set_index('Unnamed: 0')\n",
    "meta_som.head()\n",
    "\n",
    "meta_germ = pd.read_csv('/nfs/team292/lg18/with_valentina/gonadsV2_revision/FCA-gonads_male_annotated.csv')\n",
    "meta_germ = meta_germ.set_index('Unnamed: 0')\n",
    "meta_germ.head()\n",
    "\n",
    "cell_annot1 = meta_som['lineage'].to_dict()\n",
    "cell_annot2 = meta_germ['lineage'].to_dict()\n",
    "cell_annot = {**cell_annot1, **cell_annot2}\n",
    "adata.obs['lineage_v2'] = adata.obs_names.map(cell_annot)\n",
    "\n"
   ]
  },
  {
   "cell_type": "code",
   "execution_count": 39,
   "metadata": {},
   "outputs": [],
   "source": [
    "# Add old cluster subname\n",
    "meta_som = pd.read_csv('/nfs/team292/lg18/with_valentina/gonadsV2_revision/old/FCA-gonads_scVI_supporting_1stEarly.csv')\n",
    "meta_som = meta_som.set_index('Unnamed: 0')\n",
    "meta_som.head()\n",
    "\n",
    "meta_germ = pd.read_csv('/nfs/team292/lg18/with_valentina/gonadsV2_revision/old/FCA-gonads_scVI_supporting_late.csv')\n",
    "meta_germ = meta_germ.set_index('Unnamed: 0')\n",
    "meta_germ.head()\n",
    "\n",
    "cell_annot1 = meta_som['celltype'].to_dict()\n",
    "cell_annot2 = meta_germ['celltype'].to_dict()\n",
    "cell_annot = {**cell_annot1, **cell_annot2}\n",
    "adata.obs['somatic_celltype_v2'] = adata.obs_names.map(cell_annot)\n",
    "\n"
   ]
  },
  {
   "cell_type": "code",
   "execution_count": 40,
   "metadata": {},
   "outputs": [],
   "source": [
    "# format some metadata\n",
    "# PCW as numerical\n",
    "adata.obs['PCW'] = adata.obs.stage.astype('float').tolist()\n",
    "\n",
    "adata.obs['trimester'] = '2nd'\n",
    "adata.obs.loc[(adata.obs.PCW < 12 ),'trimester']= '1st'"
   ]
  },
  {
   "cell_type": "markdown",
   "metadata": {},
   "source": [
    "# Save raw counts"
   ]
  },
  {
   "cell_type": "code",
   "execution_count": 41,
   "metadata": {},
   "outputs": [
    {
     "name": "stderr",
     "output_type": "stream",
     "text": [
      "... storing 'low_ncounts' as categorical\n",
      "... storing 'high_mito' as categorical\n",
      "... storing 'low_ncounts_high_mito' as categorical\n",
      "... storing 'phase' as categorical\n",
      "... storing 'lineages_v1' as categorical\n",
      "... storing 'celltype_v1' as categorical\n",
      "... storing 'lineage_v2' as categorical\n",
      "... storing 'somatic_celltype_v2' as categorical\n",
      "... storing 'sample_source' as categorical\n",
      "... storing 'trimester' as categorical\n"
     ]
    }
   ],
   "source": [
    "adata.write('/nfs/team292/lg18/with_valentina/gonadsV2_revision/FCA-gonads_rawcounts.h5ad')"
   ]
  },
  {
   "cell_type": "code",
   "execution_count": null,
   "metadata": {
    "tags": []
   },
   "outputs": [],
   "source": [
    "adata.raw = adata.copy()"
   ]
  },
  {
   "cell_type": "markdown",
   "metadata": {},
   "source": [
    "# Normalize and do dim reduction"
   ]
  },
  {
   "cell_type": "markdown",
   "metadata": {},
   "source": [
    "### Remove cc genes"
   ]
  },
  {
   "cell_type": "code",
   "execution_count": null,
   "metadata": {},
   "outputs": [],
   "source": [
    "adata = adata[:,[i not in adata.uns['ccgs'] for i in adata.var_names]]\n",
    "print('Total number of genes after ccg filter: {:d}'.format(adata.n_vars))"
   ]
  },
  {
   "cell_type": "markdown",
   "metadata": {},
   "source": [
    "### Normalize per cell and log transform"
   ]
  },
  {
   "cell_type": "markdown",
   "metadata": {},
   "source": [
    "After removing unwanted cells and genes from the dataset, the next step is to normalize the data. \n",
    "By default, we employ a global-scaling normalization method “LogNormalize” that normalizes the feature expression measurements for each cell by the total expression, multiplies this by a scale factor (10,000 by default), and log-transforms the result. "
   ]
  },
  {
   "cell_type": "code",
   "execution_count": null,
   "metadata": {},
   "outputs": [],
   "source": [
    "sc.pp.normalize_per_cell(adata, counts_per_cell_after=1e4)\n",
    "sc.pp.log1p(adata)"
   ]
  },
  {
   "cell_type": "markdown",
   "metadata": {},
   "source": [
    "### PCA\n",
    "**1. Filter HVGs in bdata and do PCA with them**"
   ]
  },
  {
   "cell_type": "code",
   "execution_count": null,
   "metadata": {},
   "outputs": [],
   "source": [
    "bdata = adata[:, adata.var['highly_variable']]\n",
    "print('Total number of cells: {:d}'.format(bdata.n_obs))\n",
    "print('Total number of genes: {:d}'.format(bdata.n_vars))"
   ]
  },
  {
   "cell_type": "code",
   "execution_count": null,
   "metadata": {},
   "outputs": [],
   "source": [
    "sc.pp.scale(bdata, max_value=10)\n",
    "sc.tl.pca(bdata, svd_solver='arpack', n_comps=50)"
   ]
  },
  {
   "cell_type": "markdown",
   "metadata": {},
   "source": [
    "**2. Transfer PCA to the main adata**"
   ]
  },
  {
   "cell_type": "code",
   "execution_count": null,
   "metadata": {},
   "outputs": [],
   "source": [
    "adata.var['highly_variable'].fillna(value=False, inplace=True) # fill NaNs with False so that subsetting to HVGs is possible\n",
    "adata.obsm['X_pca'] = bdata.obsm['X_pca'].copy()\n",
    "adata.uns['pca'] = bdata.uns['pca'].copy()\n",
    "adata.varm['PCs'] = np.zeros(shape=(adata.n_vars, 50))\n",
    "adata.varm['PCs'][adata.var['highly_variable']] = bdata.varm['PCs']\n",
    "sc.pl.pca_variance_ratio(adata, log=True, save='.pdf')"
   ]
  },
  {
   "cell_type": "markdown",
   "metadata": {},
   "source": [
    "### UMAP"
   ]
  },
  {
   "cell_type": "code",
   "execution_count": null,
   "metadata": {},
   "outputs": [],
   "source": [
    "n_pcs = 21\n",
    "\n",
    "sc.pp.neighbors(adata, n_pcs = n_pcs)\n",
    "sc.tl.umap(adata)"
   ]
  },
  {
   "cell_type": "markdown",
   "metadata": {},
   "source": [
    "# Save processed"
   ]
  },
  {
   "cell_type": "code",
   "execution_count": null,
   "metadata": {},
   "outputs": [],
   "source": [
    "adata.write('FCA-M1processed.h5ad')"
   ]
  },
  {
   "cell_type": "markdown",
   "metadata": {},
   "source": [
    "# Visualize data"
   ]
  },
  {
   "cell_type": "code",
   "execution_count": null,
   "metadata": {},
   "outputs": [],
   "source": [
    "sc.pl.umap(adata, color=['PCW', 'donor', 'sex', 'cryopreserved', 'enrichment'], save='_predoublet.pdf', ncols = 2)"
   ]
  },
  {
   "cell_type": "markdown",
   "metadata": {},
   "source": [
    "# Plot markers"
   ]
  },
  {
   "cell_type": "code",
   "execution_count": null,
   "metadata": {},
   "outputs": [],
   "source": [
    "sc.pl.umap(adata, color=['n_genes', 'percent_mito'], save='_predoublet_stats.pdf', ncols = 2, color_map='OrRd', use_raw=False)"
   ]
  },
  {
   "cell_type": "code",
   "execution_count": null,
   "metadata": {},
   "outputs": [],
   "source": [
    "sc.pl.umap(adata, color=['scrublet_score', 'scrublet_cluster_score'], color_map='OrRd')"
   ]
  },
  {
   "cell_type": "code",
   "execution_count": null,
   "metadata": {},
   "outputs": [],
   "source": []
  }
 ],
 "metadata": {
  "kernelspec": {
   "display_name": "Python scvelo",
   "language": "python",
   "name": "scvelo"
  },
  "language_info": {
   "codemirror_mode": {
    "name": "ipython",
    "version": 3
   },
   "file_extension": ".py",
   "mimetype": "text/x-python",
   "name": "python",
   "nbconvert_exporter": "python",
   "pygments_lexer": "ipython3",
   "version": "3.8.8"
  }
 },
 "nbformat": 4,
 "nbformat_minor": 4
}
