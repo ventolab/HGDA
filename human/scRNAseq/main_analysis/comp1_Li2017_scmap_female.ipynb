{
 "cells": [
  {
   "cell_type": "markdown",
   "metadata": {},
   "source": [
    "# scmap for label transfer between our scRNAseq ref and Li et al 2017\n"
   ]
  },
  {
   "cell_type": "code",
   "execution_count": 1,
   "metadata": {},
   "outputs": [
    {
     "name": "stdout",
     "output_type": "stream",
     "text": [
      "scanpy==1.7.1 anndata==0.7.5 umap==0.5.1 numpy==1.20.1 scipy==1.6.0 pandas==1.2.3 scikit-learn==0.24.1 statsmodels==0.12.2 python-igraph==0.8.3 louvain==0.7.0 leidenalg==0.8.3\n"
     ]
    },
    {
     "data": {
      "text/plain": [
       "'/home/jovyan/my-conda-envs/sc_analysis/bin/python'"
      ]
     },
     "execution_count": 1,
     "metadata": {},
     "output_type": "execute_result"
    }
   ],
   "source": [
    "import numpy as np\n",
    "import pandas as pd\n",
    "import scanpy as sc\n",
    "import os\n",
    "import sys\n",
    "import warnings\n",
    "import anndata\n",
    "warnings.filterwarnings('ignore')\n",
    "\n",
    "\n",
    "def MovePlots(plotpattern, subplotdir):\n",
    "    os.system('mkdir -p '+str(sc.settings.figdir)+'/'+subplotdir)\n",
    "    os.system('mv '+str(sc.settings.figdir)+'/*'+plotpattern+'** '+str(sc.settings.figdir)+'/'+subplotdir)\n",
    "\n",
    "\n",
    "sc.settings.verbosity = 3  # verbosity: errors (0), warnings (1), info (2), hints (3)\n",
    "sc.settings.figdir = './figures_compare/scmap/'\n",
    "sc.logging.print_header()\n",
    "sc.settings.set_figure_params(dpi=80)  # low dpi (dots per inch) yields small inline figures\n",
    "\n",
    "sys.executable"
   ]
  },
  {
   "cell_type": "markdown",
   "metadata": {},
   "source": [
    "## Load data\n",
    "### Li et al. 2017 ref"
   ]
  },
  {
   "cell_type": "code",
   "execution_count": 2,
   "metadata": {},
   "outputs": [
    {
     "name": "stdout",
     "output_type": "stream",
     "text": [
      "1845\n"
     ]
    }
   ],
   "source": [
    "Li2017_dir = '/nfs/team292/lg18/with_valentina/Li2017_hsaGonads_GSE86146/'\n",
    "\n",
    "#Load meta\n",
    "meta = pd.read_csv(Li2017_dir+'clusters_tableS1_sheet3.csv', header=0, index_col=0)\n",
    "print(len(meta))"
   ]
  },
  {
   "cell_type": "code",
   "execution_count": 3,
   "metadata": {},
   "outputs": [
    {
     "name": "stderr",
     "output_type": "stream",
     "text": [
      "Observation names are not unique. To make them unique, call `.obs_names_make_unique`.\n",
      "Variable names are not unique. To make them unique, call `.var_names_make_unique`.\n",
      "Variable names are not unique. To make them unique, call `.var_names_make_unique`.\n",
      "Variable names are not unique. To make them unique, call `.var_names_make_unique`.\n"
     ]
    }
   ],
   "source": [
    "# Note we need to traspose\n",
    "Li2017_adataR = sc.read_csv(Li2017_dir+'FGC_tpm_expr.txt', delimiter='\\t').T\n",
    "Li2017_adataR = Li2017_adataR[[ i in meta.index for i in Li2017_adataR.obs_names ]]\n",
    "\n",
    "Li2017_adataR.var_names_make_unique()"
   ]
  },
  {
   "cell_type": "code",
   "execution_count": 4,
   "metadata": {},
   "outputs": [
    {
     "name": "stdout",
     "output_type": "stream",
     "text": [
      "                         Cluster    Annot             FullAnnot\n",
      "F_10W_embryo1_sc10  Female_FGC#1  Mitotic  Female_FGC#1 Mitotic\n",
      "F_10W_embryo1_sc11  Female_FGC#1  Mitotic  Female_FGC#1 Mitotic\n",
      "F_10W_embryo1_sc12  Female_FGC#1  Mitotic  Female_FGC#1 Mitotic\n",
      "F_10W_embryo1_sc13  Female_FGC#1  Mitotic  Female_FGC#1 Mitotic\n",
      "F_10W_embryo1_sc15  Female_FGC#1  Mitotic  Female_FGC#1 Mitotic\n"
     ]
    },
    {
     "data": {
      "text/plain": [
       "{'Female_FGC#1 Mitotic',\n",
       " 'Female_FGC#2 RA responsive',\n",
       " 'Female_FGC#3 Meiotic',\n",
       " 'Female_FGC#4 Oogenesis',\n",
       " 'Female_Soma#1 Endothelial',\n",
       " 'Female_Soma#2 early Granulosa',\n",
       " 'Female_Soma#3 mural granulosa',\n",
       " 'Female_Soma#4 late granulosa',\n",
       " 'Male_FGC#1 Migrating',\n",
       " 'Male_FGC#2 Mitotic',\n",
       " 'Male_FGC#3 Mitotic arrest',\n",
       " 'Male_Soma#1 Endothelial',\n",
       " 'Male_Soma#2 Sertoli',\n",
       " 'Male_Soma#3 precursor Leydig',\n",
       " 'Male_Soma#4 differetniated Leydig'}"
      ]
     },
     "execution_count": 4,
     "metadata": {},
     "output_type": "execute_result"
    }
   ],
   "source": [
    "#Add meta\n",
    "Li2017_adataR.obs = pd.concat([Li2017_adataR.obs, meta[ [i in Li2017_adataR.obs.index for i in meta.index] ]], join='inner', axis=1)\n",
    "print(Li2017_adataR.obs[0:5])\n",
    "set(Li2017_adataR.obs['FullAnnot'])"
   ]
  },
  {
   "cell_type": "code",
   "execution_count": 5,
   "metadata": {},
   "outputs": [],
   "source": [
    "Li2017_adataR.obs['clusters'] = Li2017_adataR.obs['FullAnnot']\n",
    "Li2017_adataR.obs['clusters'].value_counts(dropna = False)\n",
    "Li2017_adataR = Li2017_adataR[[ 'Male' in i for i in Li2017_adataR.obs['clusters']]]"
   ]
  },
  {
   "cell_type": "code",
   "execution_count": null,
   "metadata": {},
   "outputs": [],
   "source": []
  },
  {
   "cell_type": "markdown",
   "metadata": {},
   "source": [
    "### our atlas"
   ]
  },
  {
   "cell_type": "code",
   "execution_count": 6,
   "metadata": {},
   "outputs": [],
   "source": [
    "gonadsAtlasR = sc.read('/nfs/team292/lg18/with_valentina/gonadsV2_revision/FCA-gonads_rawcounts.h5ad')"
   ]
  },
  {
   "cell_type": "code",
   "execution_count": 7,
   "metadata": {},
   "outputs": [],
   "source": [
    "# Add old cluster subname\n",
    "metaF = pd.read_csv('/nfs/team292/lg18/with_valentina/gonadsV2_revision/FCA-gonads_female_annotated.csv')\n",
    "metaF = metaF.set_index('Unnamed: 0')\n",
    "metaF.head()\n",
    "\n",
    "metaM = pd.read_csv('/nfs/team292/lg18/with_valentina/gonadsV2_revision/FCA-gonads_male_annotated.csv')\n",
    "metaM = metaM.set_index('Unnamed: 0')\n",
    "metaM.head()\n",
    "\n",
    "\n",
    "cell_annotM = metaM['lineage'].to_dict()\n",
    "cell_annotF = metaF['lineage'].to_dict()\n",
    "cell_annot = {**cell_annotM , **cell_annotF}\n",
    "gonadsAtlasR.obs['lineage'] = gonadsAtlasR.obs_names.map(cell_annot).astype('category')"
   ]
  },
  {
   "cell_type": "code",
   "execution_count": 8,
   "metadata": {},
   "outputs": [],
   "source": [
    "gonadsAtlasR = gonadsAtlasR[[ not pd.isna(i) for i in gonadsAtlasR.obs.lineage ]]\n",
    "gonadsAtlasR = gonadsAtlasR[[i not in ['lowQC', 'Doublet', 'cont'] for i in gonadsAtlasR.obs.lineage]]\n",
    "gonadsAtlasR = gonadsAtlasR[[i  in ['G1'] for i in gonadsAtlasR.obs.phase]]\n",
    "gonadsAtlasR = gonadsAtlasR[['female' not in i for i in gonadsAtlasR.obs.sex]]\n",
    "# gonadsAtlasR"
   ]
  },
  {
   "cell_type": "code",
   "execution_count": 9,
   "metadata": {},
   "outputs": [],
   "source": [
    "gonadsAtlas = anndata.AnnData(X=gonadsAtlasR.X, var=gonadsAtlasR.var, obs=gonadsAtlasR.obs, asview=False)"
   ]
  },
  {
   "cell_type": "markdown",
   "metadata": {},
   "source": [
    "## Intersect genes"
   ]
  },
  {
   "cell_type": "code",
   "execution_count": 10,
   "metadata": {},
   "outputs": [
    {
     "name": "stdout",
     "output_type": "stream",
     "text": [
      "common genes:  19343\n",
      "(113463, 19343)\n",
      "(853, 19343)\n"
     ]
    }
   ],
   "source": [
    "sc_genes = Li2017_adataR.var_names.to_list()\n",
    "sn_genes = gonadsAtlas.var_names.to_list()\n",
    "\n",
    "common_genes = list(set(Li2017_adataR.var.index.values).intersection(gonadsAtlas.var.index.values))\n",
    "print('common genes: ', len(common_genes))\n",
    "gonadsAtlas = gonadsAtlas[:,common_genes]\n",
    "Li2017_adataR = Li2017_adataR[:,common_genes]\n",
    "print(gonadsAtlas.X.shape)\n",
    "print(Li2017_adataR.X.shape)"
   ]
  },
  {
   "cell_type": "markdown",
   "metadata": {},
   "source": [
    "## R2PY setup\n"
   ]
  },
  {
   "cell_type": "code",
   "execution_count": 11,
   "metadata": {},
   "outputs": [],
   "source": [
    "import rpy2.rinterface_lib.callbacks\n",
    "import logging"
   ]
  },
  {
   "cell_type": "code",
   "execution_count": 12,
   "metadata": {},
   "outputs": [],
   "source": [
    "# Ignore R warning messages\n",
    "#Note: this can be commented out to get more verbose R output\n",
    "rpy2.rinterface_lib.callbacks.logger.setLevel(logging.ERROR)"
   ]
  },
  {
   "cell_type": "code",
   "execution_count": 13,
   "metadata": {},
   "outputs": [],
   "source": [
    "import anndata2ri\n",
    "anndata2ri.activate()"
   ]
  },
  {
   "cell_type": "code",
   "execution_count": 14,
   "metadata": {},
   "outputs": [],
   "source": [
    "%load_ext rpy2.ipython"
   ]
  },
  {
   "cell_type": "markdown",
   "metadata": {},
   "source": [
    "## scmap"
   ]
  },
  {
   "cell_type": "code",
   "execution_count": 15,
   "metadata": {},
   "outputs": [],
   "source": [
    "%%R\n",
    "library(Matrix)\n",
    "library(scmap)"
   ]
  },
  {
   "cell_type": "code",
   "execution_count": 16,
   "metadata": {},
   "outputs": [
    {
     "name": "stdout",
     "output_type": "stream",
     "text": [
      "class: SingleCellExperiment \n",
      "dim: 19343 853 \n",
      "metadata(0):\n",
      "assays(1): X\n",
      "rownames(19343): TPTE BAZ1B ... CD46 ZMIZ2\n",
      "rowData names(0):\n",
      "colnames(853): M_10W_embryo1_sc1 M_10W_embryo1_sc10 ...\n",
      "  M_9W_embryo1_sc9 M_9W_embryo1_sc90\n",
      "colData names(4): Cluster Annot FullAnnot clusters\n",
      "reducedDimNames(0):\n",
      "altExpNames(0):\n"
     ]
    }
   ],
   "source": [
    "%%R -i Li2017_adataR\n",
    "Li2017_adataR"
   ]
  },
  {
   "cell_type": "code",
   "execution_count": 17,
   "metadata": {},
   "outputs": [
    {
     "name": "stdout",
     "output_type": "stream",
     "text": [
      "filtered out 1783 genes that are detected in less than 10 cells\n"
     ]
    }
   ],
   "source": [
    "adataDown = sc.pp.subsample(gonadsAtlas, fraction=0.5, random_state=0, copy=True)\n",
    "adataDown = anndata.AnnData(X=adataDown.X, var=adataDown.var, obs=adataDown.obs, asview=False)\n",
    "sc.pp.filter_genes(adataDown, min_cells=10)"
   ]
  },
  {
   "cell_type": "code",
   "execution_count": 18,
   "metadata": {},
   "outputs": [],
   "source": [
    "adataDown.X = adataDown.X.toarray()"
   ]
  },
  {
   "cell_type": "code",
   "execution_count": 19,
   "metadata": {},
   "outputs": [
    {
     "name": "stdout",
     "output_type": "stream",
     "text": [
      "class: SingleCellExperiment \n",
      "dim: 17560 56731 \n",
      "metadata(0):\n",
      "assays(1): X\n",
      "rownames(17560): TPTE BAZ1B ... CD46 ZMIZ2\n",
      "rowData names(223): gene_ids.0 feature_types.0 ... variances_norm\n",
      "  feature_symbol\n",
      "colnames(56731): FCA_GND9331966_TAGAGCTTCGTTACAG\n",
      "  HD_F_GON9883859_GTAGGCCAGAGCCTAG ... FCA_GND9332062_TCGCGTTCAGATAATG\n",
      "  FCA_GND9331966_GTAACTGAGTCATGCT\n",
      "colData names(36): n_genes sample ... trimester lineage\n",
      "reducedDimNames(0):\n",
      "altExpNames(0):\n"
     ]
    }
   ],
   "source": [
    "%%R -i adataDown\n",
    "rowData(adataDown)$feature_symbol <- rownames(adataDown)\n",
    "adataDown"
   ]
  },
  {
   "cell_type": "code",
   "execution_count": 20,
   "metadata": {},
   "outputs": [
    {
     "name": "stdout",
     "output_type": "stream",
     "text": [
      "[1] \"X\"         \"logcounts\"\n"
     ]
    }
   ],
   "source": [
    "%%R \n",
    "\n",
    "counts <- assay(Li2017_adataR, \"X\")\n",
    "libsizes <- colSums(counts)\n",
    "size.factors <- libsizes/mean(libsizes)\n",
    "logcounts(Li2017_adataR) <- log2(t(t(counts)/size.factors) + 1)\n",
    "assayNames(Li2017_adataR)"
   ]
  },
  {
   "cell_type": "code",
   "execution_count": 21,
   "metadata": {},
   "outputs": [
    {
     "name": "stdout",
     "output_type": "stream",
     "text": [
      "\n",
      "FALSE  TRUE \n",
      "18943   400 \n"
     ]
    },
    {
     "data": {
      "image/png": "[encoded data removed]"
     },
     "metadata": {},
     "output_type": "display_data"
    }
   ],
   "source": [
    "%%R\n",
    "\n",
    "rowData(Li2017_adataR)$feature_symbol <- rownames(Li2017_adataR)\n",
    "logcounts(Li2017_adataR) <- as.matrix(logcounts(Li2017_adataR))\n",
    "Li2017_adataR <- selectFeatures(Li2017_adataR, n_features = 400, suppress_plot = FALSE)\n",
    "print(table(rowData(Li2017_adataR)$scmap_features))"
   ]
  },
  {
   "cell_type": "code",
   "execution_count": 22,
   "metadata": {},
   "outputs": [
    {
     "name": "stdout",
     "output_type": "stream",
     "text": [
      "      Male_FGC#2 Mitotic Male_FGC#3 Mitotic arrest\n",
      "AAK1            6.186099                  6.814566\n",
      "AASDH           6.162406                  5.481596\n",
      "ACTG2           6.656912                  0.000000\n",
      "ACTN1           7.043988                  4.994272\n",
      "ADAL            6.021047                  7.018499\n",
      "AEN             6.965861                  4.434702\n",
      "      Male_Soma#4 differetniated Leydig Male_Soma#2 Sertoli\n",
      "AAK1                          1.7559482            1.891113\n",
      "AASDH                         3.9321455            0.000000\n",
      "ACTG2                         0.0000000            0.000000\n",
      "ACTN1                         0.7633493            0.000000\n",
      "ADAL                          2.7179591            0.000000\n",
      "AEN                           1.2599374            0.000000\n",
      "      Male_Soma#3 precursor Leydig Male_FGC#1 Migrating Male_Soma#1 Endothelial\n",
      "AAK1                      2.965662             4.807847                7.309366\n",
      "AASDH                     0.000000             6.897046                0.000000\n",
      "ACTG2                     0.000000             9.425267                0.000000\n",
      "ACTN1                     0.000000             7.346444                3.977693\n",
      "ADAL                      0.000000             5.967563                0.000000\n",
      "AEN                       0.000000             6.815520                0.000000\n"
     ]
    },
    {
     "data": {
      "image/png": "[encoded data removed]"
     },
     "metadata": {},
     "output_type": "display_data"
    }
   ],
   "source": [
    "%%R \n",
    "\n",
    "Li2017_adataR <- indexCluster(Li2017_adataR, cluster_col = \"clusters\")\n",
    "print(head(metadata(Li2017_adataR)$scmap_cluster_index))\n",
    "heatmap(as.matrix(metadata(Li2017_adataR)$scmap_cluster_index))"
   ]
  },
  {
   "cell_type": "code",
   "execution_count": 23,
   "metadata": {},
   "outputs": [
    {
     "name": "stdout",
     "output_type": "stream",
     "text": [
      "[1] \"X\"         \"logcounts\"\n"
     ]
    }
   ],
   "source": [
    "%%R \n",
    "\n",
    "counts <- assay(adataDown, \"X\")\n",
    "libsizes <- colSums(counts)\n",
    "size.factors <- libsizes/mean(libsizes)\n",
    "logcounts(adataDown) <- log2(t(t(counts)/size.factors) + 1)\n",
    "logcounts(adataDown) <- as.matrix(logcounts(adataDown))\n",
    "assayNames(adataDown)"
   ]
  },
  {
   "cell_type": "code",
   "execution_count": 24,
   "metadata": {},
   "outputs": [],
   "source": [
    "%%R -o scmapCluster_results\n",
    "\n",
    "scmapCluster_results <- scmapCluster(\n",
    "  projection = adataDown,  threshold = 0.5,\n",
    "  index_list = list(\n",
    "    Li2017_adataR = metadata(Li2017_adataR)$scmap_cluster_index\n",
    "  )\n",
    ")"
   ]
  },
  {
   "cell_type": "code",
   "execution_count": 25,
   "metadata": {},
   "outputs": [
    {
     "name": "stdout",
     "output_type": "stream",
     "text": [
      "     Li2017_adataR                 \n",
      "[1,] \"unassigned\"                  \n",
      "[2,] \"unassigned\"                  \n",
      "[3,] \"Male_Soma#3 precursor Leydig\"\n",
      "[4,] \"Male_Soma#2 Sertoli\"         \n",
      "[5,] \"unassigned\"                  \n",
      "[6,] \"Male_Soma#2 Sertoli\"         \n",
      "     Li2017_adataR\n",
      "[1,]     0.3694091\n",
      "[2,]     0.4837884\n",
      "[3,]     0.5595994\n",
      "[4,]     0.5852868\n",
      "[5,]     0.4885168\n",
      "[6,]     0.6245603\n",
      "[1] \"unassigned\"                   \"unassigned\"                  \n",
      "[3] \"Male_Soma#3 precursor Leydig\" \"Male_Soma#2 Sertoli\"         \n",
      "[5] \"unassigned\"                   \"Male_Soma#2 Sertoli\"         \n"
     ]
    }
   ],
   "source": [
    "%%R \n",
    "\n",
    "print(head(scmapCluster_results$scmap_cluster_labs))\n",
    "print(head(scmapCluster_results$scmap_cluster_siml))\n",
    "print(head(scmapCluster_results$combined_labs))"
   ]
  },
  {
   "cell_type": "code",
   "execution_count": 26,
   "metadata": {},
   "outputs": [
    {
     "data": {
      "text/html": [
       "\n",
       "        <span>ListVector with 3 elements.</span>\n",
       "        <table>\n",
       "        <tbody>\n",
       "        \n",
       "          <tr>\n",
       "            <th>\n",
       "            scmap_cluster_labs\n",
       "            </th>\n",
       "            <td>\n",
       "            <rpy2.rinterface_lib.sexp.StrSexpVector object at 0x7f280c3033c0> [RTYPES.STRSXP]\n",
       "            </td>\n",
       "          </tr>\n",
       "        \n",
       "          <tr>\n",
       "            <th>\n",
       "            scmap_cluster_siml\n",
       "            </th>\n",
       "            <td>\n",
       "            <rpy2.rinterface.FloatSexpVector object at 0x7f280c303d80> [RTYPES.REALSXP]\n",
       "            </td>\n",
       "          </tr>\n",
       "        \n",
       "          <tr>\n",
       "            <th>\n",
       "            combined_labs\n",
       "            </th>\n",
       "            <td>\n",
       "            <rpy2.rinterface_lib.sexp.StrSexpVector object at 0x7f280c300040> [RTYPES.STRSXP]\n",
       "            </td>\n",
       "          </tr>\n",
       "        \n",
       "        </tbody>\n",
       "        </table>\n",
       "        "
      ],
      "text/plain": [
       "<rpy2.robjects.vectors.ListVector object at 0x7f28e990dc40> [RTYPES.VECSXP]\n",
       "R classes: ('list',)\n",
       "[StrSexpVector, FloatSexpVector, StrSexpVector]\n",
       "  scmap_cluster_labs: <class 'rpy2.rinterface_lib.sexp.StrSexpVector'>\n",
       "  <rpy2.rinterface_lib.sexp.StrSexpVector object at 0x7f280c300580> [RTYPES.STRSXP]\n",
       "  scmap_cluster_siml: <class 'rpy2.rinterface.FloatSexpVector'>\n",
       "  <rpy2.rinterface.FloatSexpVector object at 0x7f280c303c00> [RTYPES.REALSXP]\n",
       "  combined_labs: <class 'rpy2.rinterface_lib.sexp.StrSexpVector'>\n",
       "  <rpy2.rinterface_lib.sexp.StrSexpVector object at 0x7f280c303ec0> [RTYPES.STRSXP]"
      ]
     },
     "execution_count": 26,
     "metadata": {},
     "output_type": "execute_result"
    }
   ],
   "source": [
    "scmapCluster_results"
   ]
  },
  {
   "cell_type": "code",
   "execution_count": 27,
   "metadata": {},
   "outputs": [
    {
     "data": {
      "text/plain": [
       "Male_Soma#3 precursor Leydig         23224\n",
       "unassigned                           17771\n",
       "Male_Soma#2 Sertoli                  13990\n",
       "Male_Soma#4 differetniated Leydig      829\n",
       "Male_Soma#1 Endothelial                390\n",
       "Male_FGC#2 Mitotic                     340\n",
       "Male_FGC#3 Mitotic arrest              181\n",
       "Male_FGC#1 Migrating                     6\n",
       "Name: scmap_labels, dtype: int64"
      ]
     },
     "execution_count": 27,
     "metadata": {},
     "output_type": "execute_result"
    }
   ],
   "source": [
    "labels = list(scmapCluster_results[0])\n",
    "adataDown.obs['scmap_labels'] = labels\n",
    "adataDown.obs['scmap_labels'].value_counts(dropna = False)"
   ]
  },
  {
   "cell_type": "code",
   "execution_count": 28,
   "metadata": {},
   "outputs": [],
   "source": [
    "similarities = scmapCluster_results[1]\n",
    "similarities = [val for sublist in similarities for val in sublist]\n",
    "#similarities\n",
    "adataDown.obs['scmap_similarities'] = similarities"
   ]
  },
  {
   "cell_type": "code",
   "execution_count": 29,
   "metadata": {},
   "outputs": [],
   "source": [
    "adataDown.obs[['scmap_labels', 'scmap_similarities']].to_csv('/nfs/team292/lg18/with_valentina/Li2017pred_males.csv')"
   ]
  },
  {
   "cell_type": "code",
   "execution_count": 30,
   "metadata": {},
   "outputs": [],
   "source": [
    "# sc.pl.umap(gonadsAtlasR, color='scmap_labels')\n",
    "# sc.pl.umap(gonadsAtlasR, color='scmap_similarities')\n",
    "# sc.pl.umap(gonadsAtlasR, color='clusters')"
   ]
  },
  {
   "cell_type": "code",
   "execution_count": null,
   "metadata": {},
   "outputs": [],
   "source": []
  }
 ],
 "metadata": {
  "kernelspec": {
   "display_name": "Python sc_analysis",
   "language": "python",
   "name": "sc_analysis"
  },
  "language_info": {
   "codemirror_mode": {
    "name": "ipython",
    "version": 3
   },
   "file_extension": ".py",
   "mimetype": "text/x-python",
   "name": "python",
   "nbconvert_exporter": "python",
   "pygments_lexer": "ipython3",
   "version": "3.7.10"
  }
 },
 "nbformat": 4,
 "nbformat_minor": 4
}
