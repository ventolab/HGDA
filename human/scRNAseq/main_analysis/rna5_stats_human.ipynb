{
 "cells": [
  {
   "cell_type": "markdown",
   "metadata": {},
   "source": [
    "# Generate soma stats"
   ]
  },
  {
   "cell_type": "code",
   "execution_count": 1,
   "metadata": {},
   "outputs": [],
   "source": [
    "import numpy as np\n",
    "import pandas as pd\n",
    "import scanpy as sc\n",
    "import anndata\n",
    "import os\n",
    "import sys\n",
    "\n",
    "def MovePlots(plotpattern, subplotdir):\n",
    "    os.system('mkdir -p '+str(sc.settings.figdir)+'/'+subplotdir)\n",
    "    os.system('mv '+str(sc.settings.figdir)+'/*'+plotpattern+'** '+str(sc.settings.figdir)+'/'+subplotdir)\n",
    "\n",
    "sc.settings.verbosity = 1  # verbosity: errors (0), warnings (1), info (2), hints (3)\n",
    "sc.settings.figdir = './figures/data_utils/'\n",
    "sc.settings.set_figure_params(dpi=80)  # low dpi (dots per inch) yields small inline figures\n",
    "\n",
    "sys.executable\n",
    "\n",
    "\n",
    "def grouped_obs_percent(adata, group_key, layer=None, gene_symbols=None):\n",
    "    if layer is not None:\n",
    "        getX = lambda x: x.layers[layer]\n",
    "    else:\n",
    "        getX = lambda x: x.X\n",
    "    if gene_symbols is not None:\n",
    "        new_idx = adata.var[idx]\n",
    "    else:\n",
    "        new_idx = adata.var_names\n",
    "\n",
    "    grouped = adata.obs.groupby(group_key)\n",
    "    out = pd.DataFrame(\n",
    "        np.zeros((adata.shape[1], len(grouped)), dtype=np.float64),\n",
    "        columns=list(grouped.groups.keys()),\n",
    "        index=adata.var_names\n",
    "    )\n",
    "\n",
    "    for group, idx in grouped.indices.items():\n",
    "        X = getX(adata[idx])\n",
    "        X.data = X.data > 0.01\n",
    "        perc = np.asarray(np.sum(X,axis=0)/X.shape[0]).reshape(-1)\n",
    "        out[group] = [round(i, 2) for i in perc ]\n",
    "    return out\n",
    "\n",
    "\n",
    "def grouped_obs_mean(adata, group_key, layer=None, gene_symbols=None):\n",
    "    if layer is not None:\n",
    "        getX = lambda x: x.layers[layer]\n",
    "    else:\n",
    "        getX = lambda x: x.X\n",
    "    if gene_symbols is not None:\n",
    "        new_idx = adata.var[idx]\n",
    "    else:\n",
    "        new_idx = adata.var_names\n",
    "\n",
    "    grouped = adata.obs.groupby(group_key)\n",
    "    out = pd.DataFrame(\n",
    "        np.zeros((adata.shape[1], len(grouped)), dtype=np.float64),\n",
    "        columns=list(grouped.groups.keys()),\n",
    "        index=adata.var_names\n",
    "    )\n",
    "\n",
    "    for group, idx in grouped.indices.items():\n",
    "        X = getX(adata[idx])\n",
    "        out[group] = np.ravel(X.mean(axis=0, dtype=np.float64))\n",
    "    return out"
   ]
  },
  {
   "cell_type": "markdown",
   "metadata": {},
   "source": [
    "# Prepare INPUT\n",
    "\n",
    "## Load andata"
   ]
  },
  {
   "cell_type": "code",
   "execution_count": 2,
   "metadata": {},
   "outputs": [],
   "source": [
    "path_to_gonads = '/nfs/team292/lg18/with_valentina/gonadsV2_revision/'\n",
    "adata = sc.read(path_to_gonads + 'FCA-gonads_rawcounts.h5ad')"
   ]
  },
  {
   "cell_type": "markdown",
   "metadata": {},
   "source": [
    "### Load cell clusters annotation"
   ]
  },
  {
   "cell_type": "code",
   "execution_count": 3,
   "metadata": {},
   "outputs": [
    {
     "name": "stderr",
     "output_type": "stream",
     "text": [
      "/home/jovyan/my-conda-envs/sc_analysis/lib/python3.7/site-packages/IPython/core/interactiveshell.py:3166: DtypeWarning: Columns (29,30,32) have mixed types.Specify dtype option on import or set low_memory=False.\n",
      "  interactivity=interactivity, compiler=compiler, result=result)\n",
      "/home/jovyan/my-conda-envs/sc_analysis/lib/python3.7/site-packages/IPython/core/interactiveshell.py:3166: DtypeWarning: Columns (29,30) have mixed types.Specify dtype option on import or set low_memory=False.\n",
      "  interactivity=interactivity, compiler=compiler, result=result)\n"
     ]
    },
    {
     "data": {
      "text/plain": [
       "Mesenchymal_GATA2    84229\n",
       "Mesenchymal_LHX9     62747\n",
       "preGranulosa         38881\n",
       "Sertoli              34969\n",
       "lowQC                34677\n",
       "Supporting           31454\n",
       "CoelEpi              24297\n",
       "Epithelial           20222\n",
       "GermCells            14516\n",
       "Endothelial          14484\n",
       "PV                   12679\n",
       "Doublet               5821\n",
       "Immune                5533\n",
       "Neural                3783\n",
       "SMCs                  3044\n",
       "FetalLeydig           2426\n",
       "cont                  1432\n",
       "Erythroid             1371\n",
       "Name: lineage, dtype: int64"
      ]
     },
     "execution_count": 3,
     "metadata": {},
     "output_type": "execute_result"
    }
   ],
   "source": [
    "# Add old cluster subname\n",
    "metaF = pd.read_csv(path_to_gonads+'/FCA-gonads_female_annotated.csv')\n",
    "metaF = metaF.set_index('Unnamed: 0')\n",
    "metaF.head()\n",
    "\n",
    "metaM = pd.read_csv(path_to_gonads+'/FCA-gonads_male_annotated.csv')\n",
    "metaM = metaM.set_index('Unnamed: 0')\n",
    "metaM.head()\n",
    "\n",
    "\n",
    "cell_annotM = metaM['lineage'].to_dict()\n",
    "cell_annotF = metaF['lineage'].to_dict()\n",
    "cell_annot = {**cell_annotM , **cell_annotF}\n",
    "adata.obs['lineage'] = adata.obs_names.map(cell_annot)\n",
    "adata.obs['lineage'].value_counts()"
   ]
  },
  {
   "cell_type": "code",
   "execution_count": 4,
   "metadata": {},
   "outputs": [],
   "source": [
    "# adata.obs['lineage'] = adata.obs['clusters_manual'].tolist()\n",
    "# adata.obs['lineage'] = adata.obs['lineage'].replace(regex=r'Supporting_female', value='Supporting')\n",
    "# set(adata.obs['lineage'] )\n"
   ]
  },
  {
   "cell_type": "code",
   "execution_count": 5,
   "metadata": {},
   "outputs": [],
   "source": [
    "# del adata.obs['study']\n",
    "# del adata.obs['stage']\n",
    "# del adata.obs['location']\n",
    "# del adata.obs['5v1.1']\n",
    "# del adata.obs['batch_collection']\n",
    "# del adata.obs['TP']\n",
    "# del adata.obs['cryopreserved']\n",
    "# del adata.obs['clusters_manual']\n",
    "# del adata.obs['batch']\n",
    "# del adata.obs['clusters']\n",
    "# del adata.obs['sub_clusters']"
   ]
  },
  {
   "cell_type": "markdown",
   "metadata": {},
   "source": [
    "# Import sub-analysis"
   ]
  },
  {
   "cell_type": "code",
   "execution_count": 7,
   "metadata": {},
   "outputs": [
    {
     "name": "stderr",
     "output_type": "stream",
     "text": [
      "/home/jovyan/my-conda-envs/sc_analysis/lib/python3.7/site-packages/IPython/core/interactiveshell.py:3166: DtypeWarning: Columns (29,30,37) have mixed types.Specify dtype option on import or set low_memory=False.\n",
      "  interactivity=interactivity, compiler=compiler, result=result)\n"
     ]
    },
    {
     "data": {
      "text/plain": [
       "Mesenchymal_GATA2               84229\n",
       "Somatic.Sertoli                 36917\n",
       "Somatic.Ti                      34808\n",
       "lowQC                           34516\n",
       "Somatic.Oi                      25730\n",
       "Somatic.preGC_IIb               23825\n",
       "Somatic.preGC_I                 15599\n",
       "Somatic.preGC_IIa               13772\n",
       "PV                              12679\n",
       "Epithelial                       9113\n",
       "Somatic.OSE                      8222\n",
       "Somatic.early_supporting         5894\n",
       "Doublet                          5821\n",
       "Somatic.CoelEpi_LHX9             5547\n",
       "Immune                           5533\n",
       "Endo.Fenestrated_EC              5385\n",
       "Epi.Epi_wolffian                 5282\n",
       "Somatic.Gi                       4749\n",
       "Somatic.CoelEpi_GATA2            4050\n",
       "Neural                           3783\n",
       "Germ.PGC                         3764\n",
       "Somatic.early_sPAX8              3648\n",
       "GermCells                        3523\n",
       "Endo.Venous_EC                   3450\n",
       "SMCs                             3044\n",
       "Somatic.FetalLeydig              2874\n",
       "Endothelial                      2788\n",
       "Somatic.cont                     2713\n",
       "Epi.Epi_glomerular               2657\n",
       "Epi.Epi_Mullerian                2278\n",
       "Germ.oogonia_STRA8               2203\n",
       "Somatic.late_sPAX8               2118\n",
       "Germ.oogonia_meiotic             1875\n",
       "Somatic.CoelEpi_LHX9_cycling     1858\n",
       "Endo.Arterial_EC                 1519\n",
       "cont                             1432\n",
       "Somatic.early_somatic            1414\n",
       "Erythroid                        1371\n",
       "Endo.Lymphatic_EC                 895\n",
       "Epi.Epi_mesonephros               892\n",
       "Germ.pre_oocyte                   812\n",
       "Germ.oocyte                       723\n",
       "Germ.pre_spermatogonia            621\n",
       "CoelEpi                           534\n",
       "Germ.GC_mitotic                   510\n",
       "Germ.GC                           485\n",
       "Endo.Glomerular_EC                447\n",
       "Somatic.granulosa                 366\n",
       "Supporting                        235\n",
       "Mesenchymal_LHX9                   57\n",
       "preGranulosa                        5\n",
       "Name: celltype, dtype: int64"
      ]
     },
     "execution_count": 7,
     "metadata": {},
     "output_type": "execute_result"
    }
   ],
   "source": [
    "# Add somatic cluster subname\n",
    "meta = pd.read_csv(path_to_gonads+'FCA-gonads_somatic_annotated.csv')\n",
    "meta = meta.set_index('Unnamed: 0')\n",
    "meta['celltype'] = ['Somatic.'+i for i in meta['celltype'] ]\n",
    "meta.head()\n",
    "\n",
    "\n",
    "# Add germ cluster subname\n",
    "metaF = pd.read_csv(path_to_gonads+'/FCA-gonads_germcellsClean_annotated.csv')\n",
    "metaF = metaF.set_index('Unnamed: 0')\n",
    "metaF['celltype'] = ['Germ.'+i for i in metaF['celltype'] ]\n",
    "metaF.head()\n",
    "\n",
    "# Add endothelials\n",
    "metaEnd = pd.read_csv('/nfs/team292/vl6/immune_fetal_gonads/endothelial.csv')\n",
    "metaEnd = metaEnd.set_index('Unnamed: 0')\n",
    "metaEnd['celltype'] = ['Endo.'+i for i in metaEnd['celltype'] ]\n",
    "metaEnd.head()\n",
    "\n",
    "\n",
    "# Add epithelials cluster subname\n",
    "metaEpi = pd.read_csv(path_to_gonads+'/FCA-gonads_sPAX8_annotated.csv')\n",
    "metaEpi = metaEpi.set_index('Unnamed: 0')\n",
    "metaEpi['celltype'] = ['Epi.'+i for i in metaEpi['celltype'] ]\n",
    "metaEpi = metaEpi [ metaEpi['lineage'] == 'Epithelial' ]\n",
    "metaEpi.head()\n",
    "\n",
    "\n",
    "cell_annotM = meta['celltype'].to_dict()\n",
    "cell_annotF = metaF['celltype'].to_dict()\n",
    "cell_annotE = metaEpi['celltype'].to_dict()\n",
    "cell_annotEnd = metaEnd['celltype'].to_dict()\n",
    "cell_annot = {**cell_annotM , **cell_annotF, **cell_annotE, **cell_annotEnd}\n",
    "adata.obs['celltype'] = adata.obs_names.map(cell_annot)\n",
    "adata.obs['celltype'] = adata.obs['celltype'].fillna(adata.obs['lineage'])\n",
    "adata.obs['celltype'].value_counts()"
   ]
  },
  {
   "cell_type": "code",
   "execution_count": 8,
   "metadata": {},
   "outputs": [
    {
     "name": "stderr",
     "output_type": "stream",
     "text": [
      "/home/jovyan/my-conda-envs/sc_analysis/lib/python3.7/site-packages/pandas/core/arrays/categorical.py:2487: FutureWarning: The `inplace` parameter in pandas.Categorical.remove_unused_categories is deprecated and will be removed in a future version.\n",
      "  res = method(*args, **kwargs)\n"
     ]
    },
    {
     "data": {
      "text/plain": [
       "Mesenchymal_GATA2               84229\n",
       "Somatic.Sertoli                 36917\n",
       "Somatic.Ti                      34808\n",
       "Somatic.Oi                      25730\n",
       "Somatic.preGC_IIb               23825\n",
       "Somatic.preGC_I                 15599\n",
       "Somatic.preGC_IIa               13772\n",
       "PV                              12679\n",
       "Somatic.OSE                      8222\n",
       "Somatic.early_supporting         5894\n",
       "Somatic.CoelEpi_LHX9             5547\n",
       "Immune                           5533\n",
       "Endo.Fenestrated_EC              5385\n",
       "Epi.Epi_wolffian                 5282\n",
       "Somatic.Gi                       4749\n",
       "Somatic.CoelEpi_GATA2            4050\n",
       "Neural                           3783\n",
       "Germ.PGC                         3764\n",
       "Somatic.early_sPAX8              3648\n",
       "Endo.Venous_EC                   3450\n",
       "SMCs                             3044\n",
       "Somatic.FetalLeydig              2874\n",
       "Epi.Epi_glomerular               2657\n",
       "Epi.Epi_Mullerian                2278\n",
       "Germ.oogonia_STRA8               2203\n",
       "Somatic.late_sPAX8               2118\n",
       "Germ.oogonia_meiotic             1875\n",
       "Somatic.CoelEpi_LHX9_cycling     1858\n",
       "Endo.Arterial_EC                 1519\n",
       "Somatic.early_somatic            1414\n",
       "Erythroid                        1371\n",
       "Endo.Lymphatic_EC                 895\n",
       "Epi.Epi_mesonephros               892\n",
       "Germ.pre_oocyte                   812\n",
       "Germ.oocyte                       723\n",
       "Germ.pre_spermatogonia            621\n",
       "Germ.GC_mitotic                   510\n",
       "Germ.GC                           485\n",
       "Endo.Glomerular_EC                447\n",
       "Somatic.granulosa                 366\n",
       "Name: celltype, dtype: int64"
      ]
     },
     "execution_count": 8,
     "metadata": {},
     "output_type": "execute_result"
    }
   ],
   "source": [
    "# Clean cells\n",
    "adata = adata[[ i not in ['cont', 'Doublet', 'lowQC', 'Supporting' ,'CoelEpi',  'Endothelial', 'Epithelial', 'GermCells', 'Mesenchymal_LHX9', 'preGranulosa']  for i in adata.obs.celltype ]]\n",
    "adata = adata[[ 'cont' not in i  for i in adata.obs.celltype ]]\n",
    "adata = adata[[ 'lowQC' not in i  for i in adata.obs.celltype ]]\n",
    "adata = adata[[ 'Doublet' not in i  for i in adata.obs.celltype ]]\n",
    "# adata = adata[[ 'cycling' not in i  for i in adata.obs.celltype ]]\n",
    "adata.obs['celltype'].value_counts(dropna = False)"
   ]
  },
  {
   "cell_type": "markdown",
   "metadata": {},
   "source": [
    "# Barcode stats"
   ]
  },
  {
   "cell_type": "code",
   "execution_count": 9,
   "metadata": {},
   "outputs": [],
   "source": [
    "adata.obs.to_csv(str(sc.settings.figdir)+'/barcodes_stats.csv')"
   ]
  },
  {
   "cell_type": "markdown",
   "metadata": {},
   "source": [
    "# MARKERS"
   ]
  },
  {
   "cell_type": "code",
   "execution_count": 53,
   "metadata": {},
   "outputs": [],
   "source": [
    "import matplotlib.pyplot as plt\n",
    "plt.rcParams['pdf.fonttype'] = 42\n",
    "plt.rcParams['ps.fonttype'] = 42\n",
    "plt.rcParams[\"font.family\"] = \"Arial\"\n",
    "sc.set_figure_params(figsize=(4, 4))\n",
    "palette = ['#199de5', '#fbbc04']"
   ]
  },
  {
   "cell_type": "code",
   "execution_count": 52,
   "metadata": {},
   "outputs": [
    {
     "name": "stderr",
     "output_type": "stream",
     "text": [
      "/home/jovyan/my-conda-envs/sc_analysis/lib/python3.7/site-packages/pandas/core/arrays/categorical.py:2487: FutureWarning: The `inplace` parameter in pandas.Categorical.remove_unused_categories is deprecated and will be removed in a future version.\n",
      "  res = method(*args, **kwargs)\n",
      "Trying to set attribute `.obs` of view, copying.\n",
      "WARNING: saving figure to file figures/data_utils/dotplot_gonadalTFs.pdf\n",
      "findfont: Font family ['Arial'] not found. Falling back to DejaVu Sans.\n"
     ]
    },
    {
     "data": {
      "image/png": "[encoded data removed]",
      "text/plain": [
       "<Figure size 268x276 with 4 Axes>"
      ]
     },
     "metadata": {
      "needs_background": "light"
     },
     "output_type": "display_data"
    }
   ],
   "source": [
    "adata.obs['lineage2'] = adata.obs['lineage'].tolist()\n",
    "adata.obs.at[adata.obs['celltype'] == 'Somatic.CoelEpi_GATA2', 'lineage2'] = 'CoelEpi_GATA2'\n",
    "adata.obs.at[adata.obs['celltype'] == 'Somatic.Gi', 'lineage2'] = 'Gi'\n",
    "adata.obs.at[adata.obs['celltype'] == 'Somatic.Ti', 'lineage2'] = 'Ti'\n",
    "adata.obs.at[adata.obs['celltype'] == 'Somatic.Oi', 'lineage2'] = 'Oi'\n",
    "XX = adata[[ i in ['CoelEpi', 'Mesenchymal_LHX9', 'Mesenchymal_GATA2',   'FetalLeydig'] for i in adata.obs.lineage]]\n",
    "XX = XX[[ i not in ['Mesenchymal_LHX9'] for i in XX.obs.lineage2]]\n",
    "\n",
    "XX.obs['lineage2'] = XX.obs['lineage2'].astype('category')\n",
    "XX.obs['lineage2'].cat.reorder_categories(['CoelEpi', \n",
    "#                                            'Supporting', 'Sertoli','preGranulosa', \n",
    "                                           'Gi', 'Ti', 'FetalLeydig', 'Oi',\n",
    "                                           'Mesenchymal_GATA2', \n",
    "                                              'CoelEpi_GATA2'], inplace=True)\n",
    "sc.pl.dotplot(XX, \n",
    "              ['GATA4', 'LHX9', 'ARX', 'WT1', 'NR5A1'], groupby='lineage2', standard_scale = 'var',\n",
    "             save='gonadalTFs.pdf')"
   ]
  },
  {
   "cell_type": "code",
   "execution_count": 9,
   "metadata": {
    "tags": []
   },
   "outputs": [],
   "source": [
    "import rpy2.rinterface_lib.callbacks\n",
    "import logging\n",
    "# Ignore R warning messages\n",
    "#Note: this can be commented out to get more verbose R output\n",
    "rpy2.rinterface_lib.callbacks.logger.setLevel(logging.ERROR)\n",
    "import anndata2ri\n",
    "anndata2ri.activate()\n",
    "%load_ext rpy2.ipython\n"
   ]
  },
  {
   "cell_type": "code",
   "execution_count": 10,
   "metadata": {},
   "outputs": [
    {
     "name": "stderr",
     "output_type": "stream",
     "text": [
      "Trying to set attribute `.obs` of view, copying.\n",
      "/home/jovyan/my-conda-envs/sc_analysis/lib/python3.7/site-packages/pandas/core/arrays/categorical.py:2487: FutureWarning: The `inplace` parameter in pandas.Categorical.remove_unused_categories is deprecated and will be removed in a future version.\n",
      "  res = method(*args, **kwargs)\n",
      "Trying to set attribute `.var` of view, copying.\n"
     ]
    }
   ],
   "source": [
    "#  Downsample to the smallest pop size\n",
    "target_cells = 100\n",
    "adata.obs['celltype'].astype('category')\n",
    "\n",
    "adata.obs['cell'] = adata.obs.index\n",
    "adatas = [adata[adata.obs['celltype'].isin([cl])] for cl in set(adata.obs['celltype']) ]\n",
    "\n",
    "for dat in adatas:\n",
    "    if dat.n_obs > target_cells:\n",
    "        sc.pp.subsample(dat, n_obs=target_cells, random_state=0)\n",
    "adata_downsampled = adatas[0].concatenate(*adatas[1:])\n",
    "adataDown = adata[[ i in adata_downsampled.obs.cell.tolist() for i in adata.obs['cell'] ]]\n",
    "\n",
    "sc.pp.filter_genes(adataDown, min_cells=20)"
   ]
  },
  {
   "cell_type": "code",
   "execution_count": 11,
   "metadata": {},
   "outputs": [
    {
     "data": {
      "text/plain": [
       "Somatic.early_supporting    100\n",
       "Neural                      100\n",
       "Somatic.OSE                 100\n",
       "Endo.Fenestrated_EC         100\n",
       "Germ.oocyte                 100\n",
       "Endo.Venous_EC              100\n",
       "Somatic.preGC_I             100\n",
       "Somatic.Oi                  100\n",
       "Somatic.early_somatic       100\n",
       "Germ.oogonia_STRA8          100\n",
       "Erythroid                   100\n",
       "Germ.PGC                    100\n",
       "Epi.Epi_mesonephros         100\n",
       "Germ.oogonia_meiotic        100\n",
       "Somatic.preGC_IIa           100\n",
       "Somatic.Gi                  100\n",
       "Germ.GC_mitotic             100\n",
       "Somatic.CoelEpi_GATA2       100\n",
       "Somatic.preGC_IIb           100\n",
       "Germ.GC                     100\n",
       "PV                          100\n",
       "Germ.pre_spermatogonia      100\n",
       "Mesenchymal_GATA2           100\n",
       "Somatic.Ti                  100\n",
       "Endo.Arterial_EC            100\n",
       "Somatic.late_sPAX8          100\n",
       "Somatic.granulosa           100\n",
       "Somatic.FetalLeydig         100\n",
       "Germ.pre_oocyte             100\n",
       "Somatic.early_sPAX8         100\n",
       "Endo.Lymphatic_EC           100\n",
       "Endo.Glomerular_EC          100\n",
       "Somatic.Sertoli             100\n",
       "Epi.Epi_Mullerian           100\n",
       "Somatic.CoelEpi_LHX9        100\n",
       "Immune                      100\n",
       "Epi.Epi_glomerular          100\n",
       "Epi.Epi_wolffian            100\n",
       "Endothelial                 100\n",
       "SMCs                        100\n",
       "Name: celltype, dtype: int64"
      ]
     },
     "execution_count": 11,
     "metadata": {},
     "output_type": "execute_result"
    }
   ],
   "source": [
    "adataDown.obs['celltype'].value_counts(dropna = False)"
   ]
  },
  {
   "cell_type": "code",
   "execution_count": 12,
   "metadata": {},
   "outputs": [],
   "source": [
    "adataDown.X = adataDown.X.toarray()\n",
    "\n",
    "idx = ['n_genes', 'sample', 'donor', 'location', 'stage', 'study', 'batch_collection', 'enrichment', 'cryopreserved', 'TP', '10xKit', 'dig_protocol', 'percent_mito', 'n_counts', 'batch', 'low_ncounts', 'high_mito', 'low_ncounts_high_mito', 'S_score', 'G2M_score', 'phase', 'scrublet_score', 'scrublet_cluster_score', 'zscore', 'bh_pval', 'bonf_pval', 'is_doublet', 'lineages_v1', 'celltype_v1', 'lineage_v2', 'PCW', 'sample_source', 'trimester', 'lineage']\n",
    "for i in idx:\n",
    "    del adataDown.obs[i]\n",
    "    \n",
    "adataDown.obs['celltype'] = adataDown.obs['celltype'].astype(str)"
   ]
  },
  {
   "cell_type": "code",
   "execution_count": 13,
   "metadata": {},
   "outputs": [
    {
     "name": "stdout",
     "output_type": "stream",
     "text": [
      "class: SingleCellExperiment \n",
      "dim: 18251 4000 \n",
      "metadata(6): TP_colors batch_collection_colors ... hvg sex_colors\n",
      "assays(1): X\n",
      "rownames(18251): A1BG A1BG-AS1 ... ZYX ZZEF1\n",
      "rowData names(222): gene_ids.0 feature_types.0 ... variances\n",
      "  variances_norm\n",
      "colnames(4000): FCA_GND8047885_AAACGGGTCGTGGACC\n",
      "  FCA_GND8047885_AAATGCCAGGTGACCA ...\n",
      "  HCA_F_GON10941969_TTGCCGTGTGTCGCTG HCA_F_GON10941969_TTGTAGGAGATGCCAG\n",
      "colData names(4): sex somatic_celltype_v2 celltype cell\n",
      "reducedDimNames(0):\n",
      "altExpNames(0):\n"
     ]
    }
   ],
   "source": [
    "%%R -i adataDown\n",
    "adataDown"
   ]
  },
  {
   "cell_type": "code",
   "execution_count": 14,
   "metadata": {},
   "outputs": [],
   "source": [
    "%%R -o mrks\n",
    "\n",
    "library(SoupX)\n",
    "counts <- assay(adataDown, \"X\")\n",
    "colnames(counts) <- colnames(adataDown)\n",
    "rownames(counts) <- rownames(adataDown)\n",
    "mrks = quickMarkers(counts, colData(adataDown)$celltype, N = 100) # where clusters is the cell type assignment and 100 means I want the top 100 genes per cluster that pass the hypergeometric test"
   ]
  },
  {
   "cell_type": "code",
   "execution_count": 15,
   "metadata": {},
   "outputs": [
    {
     "data": {
      "text/html": [
       "<div>\n",
       "<style scoped>\n",
       "    .dataframe tbody tr th:only-of-type {\n",
       "        vertical-align: middle;\n",
       "    }\n",
       "\n",
       "    .dataframe tbody tr th {\n",
       "        vertical-align: top;\n",
       "    }\n",
       "\n",
       "    .dataframe thead th {\n",
       "        text-align: right;\n",
       "    }\n",
       "</style>\n",
       "<table border=\"1\" class=\"dataframe\">\n",
       "  <thead>\n",
       "    <tr style=\"text-align: right;\">\n",
       "      <th></th>\n",
       "      <th>gene</th>\n",
       "      <th>cluster</th>\n",
       "      <th>geneFrequency</th>\n",
       "      <th>geneFrequencyOutsideCluster</th>\n",
       "      <th>geneFrequencySecondBest</th>\n",
       "      <th>geneFrequencyGlobal</th>\n",
       "      <th>secondBestClusterName</th>\n",
       "      <th>tfidf</th>\n",
       "      <th>idf</th>\n",
       "      <th>qval</th>\n",
       "    </tr>\n",
       "  </thead>\n",
       "  <tbody>\n",
       "    <tr>\n",
       "      <th>701</th>\n",
       "      <td>CDH6</td>\n",
       "      <td>Epi.Epi_mesonephros</td>\n",
       "      <td>0.94</td>\n",
       "      <td>0.072564</td>\n",
       "      <td>0.52</td>\n",
       "      <td>0.09425</td>\n",
       "      <td>Epi.Epi_wolffian</td>\n",
       "      <td>2.220096</td>\n",
       "      <td>2.361804</td>\n",
       "      <td>4.920246e-89</td>\n",
       "    </tr>\n",
       "    <tr>\n",
       "      <th>702</th>\n",
       "      <td>TM4SF4</td>\n",
       "      <td>Epi.Epi_mesonephros</td>\n",
       "      <td>0.55</td>\n",
       "      <td>0.007692</td>\n",
       "      <td>0.14</td>\n",
       "      <td>0.02125</td>\n",
       "      <td>Epi.Epi_wolffian</td>\n",
       "      <td>2.118269</td>\n",
       "      <td>3.851398</td>\n",
       "      <td>3.163541e-70</td>\n",
       "    </tr>\n",
       "    <tr>\n",
       "      <th>703</th>\n",
       "      <td>KLK6</td>\n",
       "      <td>Epi.Epi_mesonephros</td>\n",
       "      <td>0.84</td>\n",
       "      <td>0.061538</td>\n",
       "      <td>0.80</td>\n",
       "      <td>0.08100</td>\n",
       "      <td>Epi.Epi_glomerular</td>\n",
       "      <td>2.111177</td>\n",
       "      <td>2.513306</td>\n",
       "      <td>1.631865e-75</td>\n",
       "    </tr>\n",
       "    <tr>\n",
       "      <th>704</th>\n",
       "      <td>KREMEN2</td>\n",
       "      <td>Epi.Epi_mesonephros</td>\n",
       "      <td>0.81</td>\n",
       "      <td>0.062564</td>\n",
       "      <td>0.46</td>\n",
       "      <td>0.08125</td>\n",
       "      <td>Somatic.CoelEpi_GATA2</td>\n",
       "      <td>2.033282</td>\n",
       "      <td>2.510224</td>\n",
       "      <td>3.686499e-70</td>\n",
       "    </tr>\n",
       "    <tr>\n",
       "      <th>705</th>\n",
       "      <td>LRP2</td>\n",
       "      <td>Epi.Epi_mesonephros</td>\n",
       "      <td>0.67</td>\n",
       "      <td>0.040000</td>\n",
       "      <td>0.39</td>\n",
       "      <td>0.05575</td>\n",
       "      <td>Epi.Epi_wolffian</td>\n",
       "      <td>1.934208</td>\n",
       "      <td>2.886878</td>\n",
       "      <td>4.804849e-60</td>\n",
       "    </tr>\n",
       "    <tr>\n",
       "      <th>...</th>\n",
       "      <td>...</td>\n",
       "      <td>...</td>\n",
       "      <td>...</td>\n",
       "      <td>...</td>\n",
       "      <td>...</td>\n",
       "      <td>...</td>\n",
       "      <td>...</td>\n",
       "      <td>...</td>\n",
       "      <td>...</td>\n",
       "      <td>...</td>\n",
       "    </tr>\n",
       "    <tr>\n",
       "      <th>796</th>\n",
       "      <td>TUBB4A</td>\n",
       "      <td>Epi.Epi_mesonephros</td>\n",
       "      <td>0.65</td>\n",
       "      <td>0.156410</td>\n",
       "      <td>0.52</td>\n",
       "      <td>0.16875</td>\n",
       "      <td>Epi.Epi_wolffian</td>\n",
       "      <td>1.156569</td>\n",
       "      <td>1.779337</td>\n",
       "      <td>2.371146e-25</td>\n",
       "    </tr>\n",
       "    <tr>\n",
       "      <th>797</th>\n",
       "      <td>C5orf49</td>\n",
       "      <td>Epi.Epi_mesonephros</td>\n",
       "      <td>0.37</td>\n",
       "      <td>0.035641</td>\n",
       "      <td>0.24</td>\n",
       "      <td>0.04400</td>\n",
       "      <td>Epi.Epi_Mullerian</td>\n",
       "      <td>1.155719</td>\n",
       "      <td>3.123566</td>\n",
       "      <td>7.149699e-24</td>\n",
       "    </tr>\n",
       "    <tr>\n",
       "      <th>798</th>\n",
       "      <td>AGRN</td>\n",
       "      <td>Epi.Epi_mesonephros</td>\n",
       "      <td>0.81</td>\n",
       "      <td>0.225641</td>\n",
       "      <td>0.57</td>\n",
       "      <td>0.24025</td>\n",
       "      <td>Somatic.CoelEpi_GATA2</td>\n",
       "      <td>1.155121</td>\n",
       "      <td>1.426075</td>\n",
       "      <td>1.477925e-31</td>\n",
       "    </tr>\n",
       "    <tr>\n",
       "      <th>799</th>\n",
       "      <td>RERG</td>\n",
       "      <td>Epi.Epi_mesonephros</td>\n",
       "      <td>0.53</td>\n",
       "      <td>0.102564</td>\n",
       "      <td>0.41</td>\n",
       "      <td>0.11325</td>\n",
       "      <td>Somatic.CoelEpi_GATA2</td>\n",
       "      <td>1.154423</td>\n",
       "      <td>2.178158</td>\n",
       "      <td>3.523824e-23</td>\n",
       "    </tr>\n",
       "    <tr>\n",
       "      <th>800</th>\n",
       "      <td>DSC2</td>\n",
       "      <td>Epi.Epi_mesonephros</td>\n",
       "      <td>0.72</td>\n",
       "      <td>0.188974</td>\n",
       "      <td>0.57</td>\n",
       "      <td>0.20225</td>\n",
       "      <td>Somatic.CoelEpi_GATA2</td>\n",
       "      <td>1.150741</td>\n",
       "      <td>1.598251</td>\n",
       "      <td>2.396746e-27</td>\n",
       "    </tr>\n",
       "  </tbody>\n",
       "</table>\n",
       "<p>100 rows × 10 columns</p>\n",
       "</div>"
      ],
      "text/plain": [
       "        gene              cluster  geneFrequency  geneFrequencyOutsideCluster  \\\n",
       "701     CDH6  Epi.Epi_mesonephros           0.94                     0.072564   \n",
       "702   TM4SF4  Epi.Epi_mesonephros           0.55                     0.007692   \n",
       "703     KLK6  Epi.Epi_mesonephros           0.84                     0.061538   \n",
       "704  KREMEN2  Epi.Epi_mesonephros           0.81                     0.062564   \n",
       "705     LRP2  Epi.Epi_mesonephros           0.67                     0.040000   \n",
       "..       ...                  ...            ...                          ...   \n",
       "796   TUBB4A  Epi.Epi_mesonephros           0.65                     0.156410   \n",
       "797  C5orf49  Epi.Epi_mesonephros           0.37                     0.035641   \n",
       "798     AGRN  Epi.Epi_mesonephros           0.81                     0.225641   \n",
       "799     RERG  Epi.Epi_mesonephros           0.53                     0.102564   \n",
       "800     DSC2  Epi.Epi_mesonephros           0.72                     0.188974   \n",
       "\n",
       "     geneFrequencySecondBest  geneFrequencyGlobal  secondBestClusterName  \\\n",
       "701                     0.52              0.09425       Epi.Epi_wolffian   \n",
       "702                     0.14              0.02125       Epi.Epi_wolffian   \n",
       "703                     0.80              0.08100     Epi.Epi_glomerular   \n",
       "704                     0.46              0.08125  Somatic.CoelEpi_GATA2   \n",
       "705                     0.39              0.05575       Epi.Epi_wolffian   \n",
       "..                       ...                  ...                    ...   \n",
       "796                     0.52              0.16875       Epi.Epi_wolffian   \n",
       "797                     0.24              0.04400      Epi.Epi_Mullerian   \n",
       "798                     0.57              0.24025  Somatic.CoelEpi_GATA2   \n",
       "799                     0.41              0.11325  Somatic.CoelEpi_GATA2   \n",
       "800                     0.57              0.20225  Somatic.CoelEpi_GATA2   \n",
       "\n",
       "        tfidf       idf          qval  \n",
       "701  2.220096  2.361804  4.920246e-89  \n",
       "702  2.118269  3.851398  3.163541e-70  \n",
       "703  2.111177  2.513306  1.631865e-75  \n",
       "704  2.033282  2.510224  3.686499e-70  \n",
       "705  1.934208  2.886878  4.804849e-60  \n",
       "..        ...       ...           ...  \n",
       "796  1.156569  1.779337  2.371146e-25  \n",
       "797  1.155719  3.123566  7.149699e-24  \n",
       "798  1.155121  1.426075  1.477925e-31  \n",
       "799  1.154423  2.178158  3.523824e-23  \n",
       "800  1.150741  1.598251  2.396746e-27  \n",
       "\n",
       "[100 rows x 10 columns]"
      ]
     },
     "execution_count": 15,
     "metadata": {},
     "output_type": "execute_result"
    }
   ],
   "source": [
    "mrks[ mrks.cluster == 'Epi.Epi_mesonephros' ]"
   ]
  },
  {
   "cell_type": "code",
   "execution_count": 16,
   "metadata": {},
   "outputs": [],
   "source": [
    "mrks.to_csv(str(sc.settings.figdir)+'/TFIDF.csv')"
   ]
  },
  {
   "cell_type": "markdown",
   "metadata": {},
   "source": [
    "# Compute cluster stats"
   ]
  },
  {
   "cell_type": "code",
   "execution_count": 17,
   "metadata": {},
   "outputs": [
    {
     "name": "stderr",
     "output_type": "stream",
     "text": [
      "/home/jovyan/my-conda-envs/sc_analysis/lib/python3.7/site-packages/pandas/core/arrays/categorical.py:2487: FutureWarning: The `inplace` parameter in pandas.Categorical.remove_unused_categories is deprecated and will be removed in a future version.\n",
      "  res = method(*args, **kwargs)\n"
     ]
    }
   ],
   "source": [
    "sc.pp.normalize_per_cell(adata)\n",
    "sc.pp.log1p(adata)                                                                                                            \n",
    "# sc.pp.scale(adata, max_value=10)"
   ]
  },
  {
   "cell_type": "code",
   "execution_count": 18,
   "metadata": {},
   "outputs": [
    {
     "name": "stderr",
     "output_type": "stream",
     "text": [
      "/home/jovyan/my-conda-envs/sc_analysis/lib/python3.7/site-packages/pandas/core/arrays/categorical.py:2487: FutureWarning: The `inplace` parameter in pandas.Categorical.remove_unused_categories is deprecated and will be removed in a future version.\n",
      "  res = method(*args, **kwargs)\n"
     ]
    }
   ],
   "source": [
    "sc.pp.filter_cells(adata, min_genes=1000)"
   ]
  },
  {
   "cell_type": "code",
   "execution_count": 19,
   "metadata": {},
   "outputs": [],
   "source": [
    "# percentatge expression\n",
    "percent = grouped_obs_percent(adata, 'celltype')\n",
    "pd.DataFrame(percent).to_csv(str(sc.settings.figdir)+'/percent.csv')\n",
    "# average expression\n",
    "means = grouped_obs_mean(adata, 'celltype')\n",
    "pd.DataFrame(means).to_csv(str(sc.settings.figdir)+'/average_log.csv')"
   ]
  },
  {
   "cell_type": "code",
   "execution_count": null,
   "metadata": {},
   "outputs": [],
   "source": []
  }
 ],
 "metadata": {
  "kernelspec": {
   "display_name": "Python sc_analysis",
   "language": "python",
   "name": "sc_analysis"
  },
  "language_info": {
   "codemirror_mode": {
    "name": "ipython",
    "version": 3
   },
   "file_extension": ".py",
   "mimetype": "text/x-python",
   "name": "python",
   "nbconvert_exporter": "python",
   "pygments_lexer": "ipython3",
   "version": "3.7.10"
  }
 },
 "nbformat": 4,
 "nbformat_minor": 4
}
