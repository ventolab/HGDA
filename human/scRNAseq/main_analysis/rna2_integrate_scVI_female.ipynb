{
 "cells": [
  {
   "cell_type": "code",
   "execution_count": 26,
   "metadata": {},
   "outputs": [],
   "source": [
    "import sys\n",
    "\n",
    "#if branch is stable, will install via pypi, else will install from source\n",
    "branch = \"stable\"\n",
    "IN_COLAB = \"google.colab\" in sys.modules\n",
    "\n",
    "if IN_COLAB and branch == \"stable\":\n",
    "    !pip install --quiet scvi-tools[tutorials]\n",
    "elif IN_COLAB and branch != \"stable\":\n",
    "    !pip install --quiet --upgrade jsonschema\n",
    "    !pip install --quiet git+https://github.com/yoseflab/scvi-tools@$branch#egg=scvi-tools[tutorials]"
   ]
  },
  {
   "cell_type": "code",
   "execution_count": 27,
   "metadata": {},
   "outputs": [],
   "source": [
    "def Barplot(which_var, adata, var='clusters', height=3, color = False):\n",
    "    plotdata = pd.crosstab(adata.obs[var], adata.obs[which_var], normalize='index') * 100\n",
    "    if 'category' in plotdata.index.dtype.name:\n",
    "        plotdata.index.reorder_categories(adata.obs[var].cat.categories[::-1])\n",
    "\n",
    "    if not color:\n",
    "        ax1 = plotdata.plot.barh(stacked = True, edgecolor = 'none', zorder = 3, figsize = (6,height), fontsize = 14, grid = False)\n",
    "    else:\n",
    "        ax1 = plotdata.plot.barh(stacked = True, edgecolor = 'none', zorder = 3, figsize = (6,height), fontsize = 14, grid = False, color = color)\n",
    "    ax1.set_title(which_var+' %')\n",
    "    ax1.set_ylabel(var)\n",
    "    horiz_offset = 1\n",
    "    vert_offset = 1.\n",
    "    ax1 = ax1.legend(bbox_to_anchor = (horiz_offset, vert_offset))\n",
    "#     ax1.figure.savefig(str(sc.settings.figdir)+'/barplot_'+var+'_proportions_'+which_var+'.pdf', bbox_inches='tight',\n",
    "#                        dpi=300, orientation='landscape', format= 'pdf', optimize=True)"
   ]
  },
  {
   "cell_type": "code",
   "execution_count": 28,
   "metadata": {},
   "outputs": [],
   "source": [
    " palette = [\"#E31A1C\", \"#1F78B4\", \"#A6CEE3\",  \"#B2DF8A\", \"#33A02C\", \"#FB9A99\",  \"#FDBF6F\", \"#FF7F00\", \"#CAB2D6\", \"#6A3D9A\", \"#FFFF99\", \"#B15928\", \"#66C2A5\",\n",
    "               \"#FC8D62\", \"#8DA0CB\", \"#B3B3B3\", \"#A6D854\", \"#FFD92F\", \"#E5C494\", \"#E78AC3\"]"
   ]
  },
  {
   "cell_type": "markdown",
   "metadata": {},
   "source": [
    "#### Set up scVI environment"
   ]
  },
  {
   "cell_type": "code",
   "execution_count": 29,
   "metadata": {},
   "outputs": [],
   "source": [
    "import scvi\n",
    "import scanpy as sc\n",
    "\n",
    "sc.set_figure_params(figsize=(4, 4))"
   ]
  },
  {
   "cell_type": "code",
   "execution_count": 30,
   "metadata": {},
   "outputs": [],
   "source": [
    "import pandas as pd \n",
    "import numpy as np"
   ]
  },
  {
   "cell_type": "markdown",
   "metadata": {},
   "source": [
    "# FEMALE"
   ]
  },
  {
   "cell_type": "markdown",
   "metadata": {},
   "source": [
    "### Read in dataset"
   ]
  },
  {
   "cell_type": "code",
   "execution_count": 31,
   "metadata": {},
   "outputs": [],
   "source": [
    "path_to_gonads = '/nfs/team292/lg18/with_valentina/gonadsV2_revision/'"
   ]
  },
  {
   "cell_type": "code",
   "execution_count": 32,
   "metadata": {},
   "outputs": [],
   "source": [
    "adata = sc.read(path_to_gonads + 'FCA-gonads_rawcounts.h5ad')"
   ]
  },
  {
   "cell_type": "code",
   "execution_count": 33,
   "metadata": {},
   "outputs": [
    {
     "data": {
      "text/plain": [
       "(243972, 28820)"
      ]
     },
     "execution_count": 33,
     "metadata": {},
     "output_type": "execute_result"
    }
   ],
   "source": [
    "adata = adata[['female' in i for i in adata.obs.sex]]\n",
    "adata.X.shape"
   ]
  },
  {
   "cell_type": "code",
   "execution_count": 34,
   "metadata": {},
   "outputs": [
    {
     "name": "stderr",
     "output_type": "stream",
     "text": [
      "Trying to set attribute `.var` of view, copying.\n",
      "/opt/conda/envs/scvi-singularity/lib/python3.7/site-packages/anndata/_core/views.py:31: PerformanceWarning: DataFrame is highly fragmented.  This is usually the result of calling `frame.insert` many times, which has poor performance.  Consider joining all columns at once using pd.concat(axis=1) instead.  To get a de-fragmented frame, use `newframe = frame.copy()`\n",
      "  container[idx] = value\n"
     ]
    },
    {
     "data": {
      "text/plain": [
       "(243972, 28381)"
      ]
     },
     "execution_count": 34,
     "metadata": {},
     "output_type": "execute_result"
    }
   ],
   "source": [
    "sc.pp.filter_genes(adata, min_counts=3)\n",
    "adata.X.shape"
   ]
  },
  {
   "cell_type": "markdown",
   "metadata": {},
   "source": [
    "### OPTIONAL - Remove cc genes"
   ]
  },
  {
   "cell_type": "code",
   "execution_count": 35,
   "metadata": {},
   "outputs": [
    {
     "name": "stdout",
     "output_type": "stream",
     "text": [
      "Total number of genes after ccg filter: 28266\n"
     ]
    }
   ],
   "source": [
    "# ccgs defined in M1\n",
    "adata = adata[:,[i not in adata.uns['ccgs'] for i in adata.var_names]]\n",
    "print('Total number of genes after ccg filter: {:d}'.format(adata.n_vars))"
   ]
  },
  {
   "cell_type": "markdown",
   "metadata": {},
   "source": [
    "### Identify HVGs"
   ]
  },
  {
   "cell_type": "markdown",
   "metadata": {},
   "source": [
    "!!! Unlike before (at least I think), now they recommend subsetting to highly variable genes before running scVI \n",
    "\n",
    "--> the tutorial says anywhere in between 1000 and 10,000 should be fine, so I arbitrarily chose 2000"
   ]
  },
  {
   "cell_type": "code",
   "execution_count": 36,
   "metadata": {},
   "outputs": [
    {
     "name": "stderr",
     "output_type": "stream",
     "text": [
      "Trying to set attribute `.uns` of view, copying.\n",
      "/opt/conda/envs/scvi-singularity/lib/python3.7/site-packages/scanpy/preprocessing/_highly_variable_genes.py:167: PerformanceWarning: DataFrame is highly fragmented.  This is usually the result of calling `frame.insert` many times, which has poor performance.  Consider joining all columns at once using pd.concat(axis=1) instead.  To get a de-fragmented frame, use `newframe = frame.copy()`\n",
      "  'highly_variable_nbatches'\n"
     ]
    }
   ],
   "source": [
    "sc.pp.highly_variable_genes(\n",
    "    adata,\n",
    "    n_top_genes=2000,\n",
    "    subset=False,\n",
    "    flavor=\"seurat_v3\",\n",
    "    batch_key=\"donor\"\n",
    ")"
   ]
  },
  {
   "cell_type": "code",
   "execution_count": 37,
   "metadata": {},
   "outputs": [],
   "source": [
    "# subset object for scVI\n",
    "bdata = adata[:, adata.var['highly_variable']]\n",
    "bdata.layers[\"counts\"] = bdata.X.copy() # preserve counts"
   ]
  },
  {
   "cell_type": "markdown",
   "metadata": {},
   "source": [
    "## Normalize - optional"
   ]
  },
  {
   "cell_type": "code",
   "execution_count": 38,
   "metadata": {},
   "outputs": [],
   "source": [
    "sc.pp.normalize_per_cell(adata, counts_per_cell_after=1e4)\n",
    "sc.pp.log1p(adata)"
   ]
  },
  {
   "cell_type": "markdown",
   "metadata": {},
   "source": [
    "## scVI"
   ]
  },
  {
   "cell_type": "markdown",
   "metadata": {},
   "source": [
    "!!! Here you can specify your covariates you want to correct for"
   ]
  },
  {
   "cell_type": "code",
   "execution_count": 40,
   "metadata": {},
   "outputs": [
    {
     "name": "stdout",
     "output_type": "stream",
     "text": [
      "\u001b[34mINFO    \u001b[0m Using batches from adata.obs\u001b[1m[\u001b[0m\u001b[32m\"donor\"\u001b[0m\u001b[1m]\u001b[0m                                               \n",
      "\u001b[34mINFO    \u001b[0m No label_key inputted, assuming all cells have same label                           \n",
      "\u001b[34mINFO    \u001b[0m Using data from adata.layers\u001b[1m[\u001b[0m\u001b[32m\"counts\"\u001b[0m\u001b[1m]\u001b[0m                                              \n",
      "\u001b[34mINFO    \u001b[0m Computing library size prior per batch                                              \n",
      "\u001b[34mINFO    \u001b[0m Successfully registered anndata object containing \u001b[1;36m243972\u001b[0m cells, \u001b[1;36m2000\u001b[0m vars, \u001b[1;36m30\u001b[0m       \n",
      "         batches, \u001b[1;36m1\u001b[0m labels, and \u001b[1;36m0\u001b[0m proteins. Also registered \u001b[1;36m1\u001b[0m extra categorical covariates   \n",
      "         and \u001b[1;36m0\u001b[0m extra continuous covariates.                                                  \n",
      "\u001b[34mINFO    \u001b[0m Please do not further modify adata until model is trained.                          \n"
     ]
    }
   ],
   "source": [
    "scvi.data.setup_anndata(\n",
    "    bdata,\n",
    "    layer=\"counts\",\n",
    "    batch_key='donor',\n",
    "    categorical_covariate_keys=[\"sample_source\"] #,\n",
    "#     continuous_covariate_keys=[\"percent_mito\"]#\n",
    ")"
   ]
  },
  {
   "cell_type": "code",
   "execution_count": 41,
   "metadata": {},
   "outputs": [],
   "source": [
    "model = scvi.model.SCVI(bdata, n_latent= 60)"
   ]
  },
  {
   "cell_type": "code",
   "execution_count": 42,
   "metadata": {},
   "outputs": [
    {
     "data": {
      "text/html": [
       "<pre style=\"white-space:pre;overflow-x:auto;line-height:normal;font-family:Menlo,'DejaVu Sans Mono',consolas,'Courier New',monospace\">SCVI Model with the following params: \n",
       "n_hidden: <span style=\"color: #008080; text-decoration-color: #008080; font-weight: bold\">128</span>, n_latent: <span style=\"color: #008080; text-decoration-color: #008080; font-weight: bold\">60</span>, n_layers: <span style=\"color: #008080; text-decoration-color: #008080; font-weight: bold\">1</span>, dropout_rate: <span style=\"color: #008080; text-decoration-color: #008080; font-weight: bold\">0.1</span>, dispersion: gene, \n",
       "gene_likelihood: zinb, latent_distribution: normal\n",
       "Training status: Not Trained\n",
       "</pre>\n"
      ],
      "text/plain": [
       "SCVI Model with the following params: \n",
       "n_hidden: \u001b[1;36m128\u001b[0m, n_latent: \u001b[1;36m60\u001b[0m, n_layers: \u001b[1;36m1\u001b[0m, dropout_rate: \u001b[1;36m0.1\u001b[0m, dispersion: gene, \n",
       "gene_likelihood: zinb, latent_distribution: normal\n",
       "Training status: Not Trained\n"
      ]
     },
     "metadata": {},
     "output_type": "display_data"
    },
    {
     "data": {
      "text/html": [
       "<pre style=\"white-space:pre;overflow-x:auto;line-height:normal;font-family:Menlo,'DejaVu Sans Mono',consolas,'Courier New',monospace\">\n",
       "\n",
       "To print summary of associated AnnData, use: <span style=\"color: #af00d7; text-decoration-color: #af00d7\">scvi.data.view_anndata_setup(model.adata)</span>\n",
       "</pre>\n"
      ],
      "text/plain": [
       "\n",
       "\n",
       "To print summary of associated AnnData, use: \u001b[38;5;128mscvi.data.view_anndata_setup(model.adata)\u001b[0m\n"
      ]
     },
     "metadata": {},
     "output_type": "display_data"
    },
    {
     "data": {
      "text/plain": []
     },
     "execution_count": 42,
     "metadata": {},
     "output_type": "execute_result"
    }
   ],
   "source": [
    "model"
   ]
  },
  {
   "cell_type": "code",
   "execution_count": 43,
   "metadata": {
    "scrolled": true
   },
   "outputs": [
    {
     "name": "stderr",
     "output_type": "stream",
     "text": [
      "GPU available: True, used: True\n",
      "TPU available: False, using: 0 TPU cores\n",
      "LOCAL_RANK: 0 - CUDA_VISIBLE_DEVICES: [0]\n"
     ]
    },
    {
     "name": "stdout",
     "output_type": "stream",
     "text": [
      "Epoch 33/33: 100%|██████████████████████████████████████████████████████████████████████████████████████████████████████████| 33/33 [09:13<00:00, 16.77s/it, loss=568, v_num=1]\n"
     ]
    }
   ],
   "source": [
    "model.train()"
   ]
  },
  {
   "cell_type": "code",
   "execution_count": 44,
   "metadata": {},
   "outputs": [],
   "source": [
    "latent = model.get_latent_representation()"
   ]
  },
  {
   "cell_type": "code",
   "execution_count": 45,
   "metadata": {},
   "outputs": [],
   "source": [
    "adata.obsm[\"X_scVI\"] = latent"
   ]
  },
  {
   "cell_type": "markdown",
   "metadata": {},
   "source": [
    "### Save latent space"
   ]
  },
  {
   "cell_type": "code",
   "execution_count": 46,
   "metadata": {},
   "outputs": [],
   "source": [
    "pd.DataFrame(adata.obsm[\"X_scVI\"]).to_csv(path_to_gonads+'/FCA-gonads_XscVI_latent_female.csv')"
   ]
  }
 ],
 "metadata": {
  "kernelspec": {
   "display_name": "Python 3",
   "language": "python",
   "name": "python3"
  },
  "language_info": {
   "codemirror_mode": {
    "name": "ipython",
    "version": 3
   },
   "file_extension": ".py",
   "mimetype": "text/x-python",
   "name": "python",
   "nbconvert_exporter": "python",
   "pygments_lexer": "ipython3",
   "version": "3.8.8"
  }
 },
 "nbformat": 4,
 "nbformat_minor": 4
}
