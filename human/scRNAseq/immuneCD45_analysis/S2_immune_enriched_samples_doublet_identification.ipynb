{
 "cells": [
  {
   "cell_type": "markdown",
   "metadata": {},
   "source": [
    "#### Doublet identification (step 2) for CD45+ enriched samples"
   ]
  },
  {
   "cell_type": "code",
   "execution_count": 1,
   "metadata": {},
   "outputs": [
    {
     "name": "stderr",
     "output_type": "stream",
     "text": [
      "WARNING: If you miss a compact list, please try `print_header`!\n"
     ]
    },
    {
     "name": "stdout",
     "output_type": "stream",
     "text": [
      "-----\n",
      "anndata     0.7.5\n",
      "scanpy      1.7.1\n",
      "sinfo       0.3.1\n",
      "-----\n",
      "PIL                 8.1.0\n",
      "anndata             0.7.5\n",
      "backcall            0.2.0\n",
      "cairo               1.20.0\n",
      "cffi                1.14.5\n",
      "constants           NA\n",
      "cycler              0.10.0\n",
      "cython_runtime      NA\n",
      "dateutil            2.8.1\n",
      "decorator           4.4.2\n",
      "get_version         2.1\n",
      "google              NA\n",
      "h5py                2.10.0\n",
      "highs_wrapper       NA\n",
      "igraph              0.8.3\n",
      "ipykernel           5.5.0\n",
      "ipython_genutils    0.2.0\n",
      "jedi                0.18.0\n",
      "joblib              1.0.1\n",
      "kiwisolver          1.3.1\n",
      "legacy_api_wrap     1.2\n",
      "leidenalg           0.8.3\n",
      "llvmlite            0.35.0\n",
      "matplotlib          3.3.4\n",
      "mpl_toolkits        NA\n",
      "natsort             7.1.1\n",
      "numba               0.52.0\n",
      "numexpr             2.7.2\n",
      "numpy               1.19.5\n",
      "packaging           20.9\n",
      "pandas              1.2.2\n",
      "parso               0.8.1\n",
      "pexpect             4.8.0\n",
      "pickleshare         0.7.5\n",
      "pkg_resources       NA\n",
      "prompt_toolkit      3.0.16\n",
      "psutil              5.8.0\n",
      "ptyprocess          0.7.0\n",
      "pygments            2.8.0\n",
      "pyparsing           2.4.7\n",
      "pytz                2021.1\n",
      "scanpy              1.7.1\n",
      "scipy               1.6.0\n",
      "setuptools_scm      NA\n",
      "sinfo               0.3.1\n",
      "six                 1.15.0\n",
      "sklearn             0.24.1\n",
      "storemagic          NA\n",
      "tables              3.6.1\n",
      "texttable           1.6.3\n",
      "tornado             6.1\n",
      "traitlets           5.0.5\n",
      "typing_extensions   NA\n",
      "wcwidth             0.2.5\n",
      "zmq                 22.0.3\n",
      "-----\n",
      "IPython             7.20.0\n",
      "jupyter_client      6.1.11\n",
      "jupyter_core        4.7.1\n",
      "-----\n",
      "Python 3.8.8 | packaged by conda-forge | (default, Feb 20 2021, 16:22:27) [GCC 9.3.0]\n",
      "Linux-4.15.0-112-generic-x86_64-with-glibc2.10\n",
      "26 logical CPU cores, x86_64\n",
      "-----\n",
      "Session information updated at 2021-05-06 16:40\n",
      "\n"
     ]
    },
    {
     "data": {
      "text/plain": [
       "'/home/jovyan/my-conda-envs/scanpy_env/bin/python'"
      ]
     },
     "execution_count": 1,
     "metadata": {},
     "output_type": "execute_result"
    }
   ],
   "source": [
    "import numpy as np\n",
    "import pandas as pd\n",
    "import scanpy as sc\n",
    "import os\n",
    "import sys\n",
    "import warnings\n",
    "warnings.filterwarnings('ignore')\n",
    "\n",
    "\n",
    "def MovePlots(plotpattern, subplotdir):\n",
    "    os.system('mkdir -p '+str(sc.settings.figdir)+'/'+subplotdir)\n",
    "    os.system('mv '+str(sc.settings.figdir)+'/*'+plotpattern+'** '+str(sc.settings.figdir)+'/'+subplotdir)\n",
    "\n",
    "\n",
    "sc.settings.verbosity = 3  # verbosity: errors (0), warnings (1), info (2), hints (3)\n",
    "sc.settings.figdir = './final-figures/doublet/'\n",
    "sc.logging.print_versions()\n",
    "sc.settings.set_figure_params(dpi=80)  # low dpi (dots per inch) yields small inline figures\n",
    "\n",
    "sys.executable"
   ]
  },
  {
   "cell_type": "code",
   "execution_count": 2,
   "metadata": {},
   "outputs": [],
   "source": [
    "path_to_results = '/nfs/team292/vl6/immune_fetal_gonads/'"
   ]
  },
  {
   "cell_type": "code",
   "execution_count": 6,
   "metadata": {},
   "outputs": [],
   "source": [
    "from scanpy import logging as logg\n",
    "from scanpy.neighbors import neighbors\n",
    "from anndata import AnnData\n",
    "from scipy.sparse import csc_matrix\n",
    "import numpy as np\n",
    "\n",
    "\n",
    "def woublet(\n",
    "        adata,\n",
    "        sim_doublet_ratio=2,\n",
    "        n_neighbors=30,\n",
    "        expected_doublet_rate=0.1,\n",
    "        total_counts_key = 'n_counts',\n",
    "        copy=False):\n",
    "    \"\"\" Method for detecting mixed-celltype doublets. More documentation coming. In the meantime, email Sam Wolock with questions: swolock@g.harvard.edu\n",
    "    adata: scanpy AnnData data matrix\n",
    "    sim_doublet_ratio: number of doublets to simulate, relative to the number of observed transcriptomes (=adata.X.shape[0])\n",
    "    n_neighbors: number of neighbors used in the k-nearest-neighbor classifier\n",
    "    expected_doublet_rate: expected frequency of doublets. If unknown, a reasonable guess is 0.05. This parameter rescales the doublet scores but does not affect their ordering.\n",
    "    total_counts_key: name of the field in adata.obs that contains total counts per cell, used for weighting a cell's relative contribution to simulated doublets. If not present, all cells are weighted equally.\n",
    "    \"\"\"\n",
    "    adata = adata.copy() if copy else adata\n",
    "\n",
    "    if 'X_pca' not in adata.obsm_keys():\n",
    "        raise ValueError(\n",
    "            'Did not find \\'X_pca\\'. Run `sc.pp.pca` first.')\n",
    "\n",
    "    if total_counts_key in adata.obs:\n",
    "        total_counts = np.array(adata.obs[total_counts_key])\n",
    "    else:\n",
    "        total_counts = np.ones(adata.X.shape[0])\n",
    "\n",
    "    # Simulate doublets by averaging PC coordinates of random cell pairs\n",
    "    logg.info('Simulating doublets')\n",
    "    PCdat, doub_labels, parent_ix = simulate_doublets_from_pca(adata.obsm['X_pca'], \n",
    "        total_counts=total_counts, \n",
    "        sim_doublet_ratio=sim_doublet_ratio)\n",
    "\n",
    "\n",
    "    adata_doub = AnnData(csc_matrix((PCdat.shape[0], 1)))\n",
    "    adata_doub.obsm['X_pca'] = PCdat\n",
    "\n",
    "    # Calculate doublet scores using k-nearest-neighbor classifier\n",
    "    logg.info('Running KNN classifier')\n",
    "    adata.obs['doublet_score'], adata.uns['sim_doublet_score'] = calculate_doublet_scores(\n",
    "        adata_doub, \n",
    "        doub_labels, \n",
    "        n_neighbors=n_neighbors, \n",
    "        expected_doublet_rate = expected_doublet_rate)\n",
    "\n",
    "    adata.obs['doublet_score']\n",
    "\n",
    "    return adata if copy else None\n",
    "\n",
    "\n",
    "\n",
    "#========================================================================================#\n",
    "\n",
    "def simulate_doublets_from_pca(PCdat, total_counts=[], sim_doublet_ratio=1):\n",
    "    '''\n",
    "    Simulate doublets by averaging PCA coordinates of random cell pairs.\n",
    "    Average is weighted by total counts of each parent cell, if provided.\n",
    "\n",
    "    Returns:\n",
    "    PCdoub (matrix of size (num_cells+num_sim_doubs, num_pcs)): PCA matrix with the simulated doublet PCA coordinates appended to the original data matrix PCdat.\n",
    "    doub_labels (array of size (num_cells+num_sim_doubs)): 0 if observed cell, 1 if simulated doublet\n",
    "    pair_ix (matrix of size(num_sim_doubs, 2)): each row gives the indices of the parent cells used to generate the simulated doublet\n",
    "    '''\n",
    "\n",
    "    n_obs = PCdat.shape[0]\n",
    "    n_doub = int(n_obs * sim_doublet_ratio)\n",
    "\n",
    "    if len(total_counts) == 0:\n",
    "        total_counts = np.ones(n_obs)\n",
    "\n",
    "    pair_ix = np.random.randint(0, n_obs, size=(n_doub, 2))\n",
    "\n",
    "    pair_tots = np.hstack((total_counts[pair_ix[:, 0]][:,None], total_counts[pair_ix[:, 1]][:,None]))\n",
    "    pair_tots = np.array(pair_tots, dtype=float)\n",
    "    pair_fracs = pair_tots / np.sum(pair_tots, axis=1)[:,None]\n",
    "\n",
    "    PCdoub = PCdat[pair_ix[:, 0],:] * pair_fracs[:, 0][:,None] + PCdat[pair_ix[:, 1],:] * pair_fracs[:, 1][:,None]\n",
    "\n",
    "    PCdoub = np.vstack((PCdat, PCdoub))\n",
    "    doub_labels = np.concatenate((np.zeros(n_obs), np.ones(n_doub)))\n",
    "\n",
    "    return PCdoub, doub_labels, pair_ix\n",
    "\n",
    "#========================================================================================#\n",
    "\n",
    "def calculate_doublet_scores(adata, doub_labels, n_neighbors=30, expected_doublet_rate = 1.0):\n",
    "    n_obs = sum(doub_labels == 0)\n",
    "    n_sim = sum(doub_labels == 1)\n",
    "\n",
    "    # Adjust k (number of nearest neighbors) based on the ratio of simulated to observed cells\n",
    "    k_adj = int(round(n_neighbors * (1+n_sim/float(n_obs))))\n",
    "\n",
    "    # Find k_adj nearest neighbors\n",
    "    neighbors(adata, n_neighbors = k_adj, use_rep = 'X_pca')\n",
    "\n",
    "    # Calculate doublet score based on ratio of simulated cell neighbors vs. observed cell neighbors\n",
    "    matrix = adata.obsp['distances']\n",
    "    n_sim_neigh = (matrix[:,doub_labels == 1]>0).sum(1).A.squeeze()\n",
    "    n_obs_neigh = (matrix[:,doub_labels == 0]>0).sum(1).A.squeeze()\n",
    "    \n",
    "    doub_score = n_sim_neigh / (n_sim_neigh + n_obs_neigh * n_sim / float(n_obs) / expected_doublet_rate)\n",
    "    doub_score_obs = doub_score[doub_labels == 0]\n",
    "\n",
    "    # return doublet scores for observed cells and simulated cells\n",
    "    return doub_score[doub_labels == 0], doub_score[doub_labels == 1]"
   ]
  },
  {
   "cell_type": "markdown",
   "metadata": {},
   "source": [
    "#### Load preprocessed data"
   ]
  },
  {
   "cell_type": "code",
   "execution_count": 7,
   "metadata": {},
   "outputs": [
    {
     "data": {
      "text/plain": [
       "(35619, 24625)"
      ]
     },
     "execution_count": 7,
     "metadata": {},
     "output_type": "execute_result"
    }
   ],
   "source": [
    "adata = sc.read(path_to_results + 'enriched_samples_M1preprocessing.h5ad')\n",
    "adata.X.shape"
   ]
  },
  {
   "cell_type": "markdown",
   "metadata": {},
   "source": [
    "#### Estimate doublet score"
   ]
  },
  {
   "cell_type": "code",
   "execution_count": 8,
   "metadata": {},
   "outputs": [
    {
     "name": "stdout",
     "output_type": "stream",
     "text": [
      "FCA_GND8047884\n",
      "computing PCA\n",
      "    on highly variable genes\n",
      "    with n_comps=50\n",
      "    finished (0:00:00)\n",
      "Simulating doublets\n",
      "Running KNN classifier\n",
      "computing neighbors\n",
      "    finished: added to `.uns['neighbors']`\n",
      "    `.obsp['distances']`, distances for each pair of neighbors\n",
      "    `.obsp['connectivities']`, weighted adjacency matrix (0:00:01)\n",
      "FCA_GND8103049\n",
      "computing PCA\n",
      "    on highly variable genes\n",
      "    with n_comps=50\n",
      "    finished (0:00:01)\n",
      "Simulating doublets\n",
      "Running KNN classifier\n",
      "computing neighbors\n",
      "    finished: added to `.uns['neighbors']`\n",
      "    `.obsp['distances']`, distances for each pair of neighbors\n",
      "    `.obsp['connectivities']`, weighted adjacency matrix (0:00:22)\n",
      "FCA_GND8103052\n",
      "computing PCA\n",
      "    on highly variable genes\n",
      "    with n_comps=50\n",
      "    finished (0:00:00)\n",
      "Simulating doublets\n",
      "Running KNN classifier\n",
      "computing neighbors\n",
      "    finished: added to `.uns['neighbors']`\n",
      "    `.obsp['distances']`, distances for each pair of neighbors\n",
      "    `.obsp['connectivities']`, weighted adjacency matrix (0:00:12)\n",
      "FCA_GND8125922\n",
      "computing PCA\n",
      "    on highly variable genes\n",
      "    with n_comps=50\n",
      "    finished (0:00:01)\n",
      "Simulating doublets\n",
      "Running KNN classifier\n",
      "computing neighbors\n",
      "    finished: added to `.uns['neighbors']`\n",
      "    `.obsp['distances']`, distances for each pair of neighbors\n",
      "    `.obsp['connectivities']`, weighted adjacency matrix (0:00:16)\n",
      "FCA_GND8125924\n",
      "computing PCA\n",
      "    on highly variable genes\n",
      "    with n_comps=50\n",
      "    finished (0:00:01)\n",
      "Simulating doublets\n",
      "Running KNN classifier\n",
      "computing neighbors\n",
      "    finished: added to `.uns['neighbors']`\n",
      "    `.obsp['distances']`, distances for each pair of neighbors\n",
      "    `.obsp['connectivities']`, weighted adjacency matrix (0:00:10)\n",
      "FCA_GND8289579\n",
      "computing PCA\n",
      "    on highly variable genes\n",
      "    with n_comps=50\n",
      "    finished (0:00:01)\n",
      "Simulating doublets\n",
      "Running KNN classifier\n",
      "computing neighbors\n",
      "    finished: added to `.uns['neighbors']`\n",
      "    `.obsp['distances']`, distances for each pair of neighbors\n",
      "    `.obsp['connectivities']`, weighted adjacency matrix (0:00:16)\n",
      "FCA_GND8622627\n",
      "computing PCA\n",
      "    on highly variable genes\n",
      "    with n_comps=50\n",
      "    finished (0:00:01)\n",
      "Simulating doublets\n",
      "Running KNN classifier\n",
      "computing neighbors\n",
      "    finished: added to `.uns['neighbors']`\n",
      "    `.obsp['distances']`, distances for each pair of neighbors\n",
      "    `.obsp['connectivities']`, weighted adjacency matrix (0:00:03)\n",
      "FCA_GND8622629\n",
      "computing PCA\n",
      "    on highly variable genes\n",
      "    with n_comps=50\n",
      "    finished (0:00:01)\n",
      "Simulating doublets\n",
      "Running KNN classifier\n",
      "computing neighbors\n",
      "    finished: added to `.uns['neighbors']`\n",
      "    `.obsp['distances']`, distances for each pair of neighbors\n",
      "    `.obsp['connectivities']`, weighted adjacency matrix (0:00:10)\n",
      "FCA_GND8622631\n",
      "computing PCA\n",
      "    on highly variable genes\n",
      "    with n_comps=50\n",
      "    finished (0:00:01)\n",
      "Simulating doublets\n",
      "Running KNN classifier\n",
      "computing neighbors\n",
      "    finished: added to `.uns['neighbors']`\n",
      "    `.obsp['distances']`, distances for each pair of neighbors\n",
      "    `.obsp['connectivities']`, weighted adjacency matrix (0:00:12)\n",
      "FCA_GND8715407\n",
      "computing PCA\n",
      "    on highly variable genes\n",
      "    with n_comps=50\n",
      "    finished (0:00:01)\n",
      "Simulating doublets\n",
      "Running KNN classifier\n",
      "computing neighbors\n",
      "    finished: added to `.uns['neighbors']`\n",
      "    `.obsp['distances']`, distances for each pair of neighbors\n",
      "    `.obsp['connectivities']`, weighted adjacency matrix (0:00:16)\n",
      "FCA_GND8784459\n",
      "computing PCA\n",
      "    on highly variable genes\n",
      "    with n_comps=50\n",
      "    finished (0:00:00)\n",
      "Simulating doublets\n",
      "Running KNN classifier\n",
      "computing neighbors\n",
      "    finished: added to `.uns['neighbors']`\n",
      "    `.obsp['distances']`, distances for each pair of neighbors\n",
      "    `.obsp['connectivities']`, weighted adjacency matrix (0:00:00)\n"
     ]
    }
   ],
   "source": [
    "# Estimate doublet scoper per sample and set to 0\n",
    "holder = np.zeros((adata.shape[0],))\n",
    "for smp in np.unique(adata.obs['sample']):\n",
    "    print(smp)\n",
    "    adata_smp = adata[adata.obs['sample']==smp]\n",
    "    sc.tl.pca(adata_smp)\n",
    "    woublet(adata_smp)\n",
    "    holder[adata.obs['sample']==smp] = adata_smp.obs['doublet_score']\n",
    "adata.obs['doublet_score'] = holder"
   ]
  },
  {
   "cell_type": "code",
   "execution_count": 9,
   "metadata": {},
   "outputs": [],
   "source": [
    "# Check doublets distribution\n",
    "adata.obs['doublet_score_0.75'] = adata.obs['doublet_score'] > 0.75"
   ]
  },
  {
   "cell_type": "markdown",
   "metadata": {},
   "source": [
    "#### Load scrublet"
   ]
  },
  {
   "cell_type": "code",
   "execution_count": 10,
   "metadata": {},
   "outputs": [
    {
     "name": "stdout",
     "output_type": "stream",
     "text": [
      "Number of samples:  11\n"
     ]
    }
   ],
   "source": [
    "path_to_data = '/nfs/users/nfs_l/lg18/team292/lg18/gonads/data/scRNAseq/FCA/rawdata/'\n",
    "metadata = pd.read_csv(path_to_data + 'meta_2sex.csv', index_col = 0)\n",
    "# Select process = CD45+ \n",
    "metadata_enriched = metadata[metadata['process'] == 'CD45+']\n",
    "metadata_enriched['stage'] = metadata_enriched['stage'].astype('str')\n",
    "plotmeta = list(metadata_enriched.columns)\n",
    "plotmeta.append('sample')\n",
    "print('Number of samples: ', metadata_enriched.index.size)"
   ]
  },
  {
   "cell_type": "code",
   "execution_count": 11,
   "metadata": {},
   "outputs": [],
   "source": [
    "scorenames = ['scrublet_score','scrublet_cluster_score','zscore','bh_pval','bonf_pval']\n",
    "\n",
    "scrdf = []\n",
    "for sample in metadata_enriched.index:\n",
    "    scrdf.append(pd.read_csv('scrublet-scores/'+sample+'.csv', header=0, index_col=0))\n",
    "scrdf = pd.concat(scrdf)\n",
    "scrdf.index = [i.replace('-1', '') for i in scrdf.index]\n",
    "for score in scorenames:\n",
    "    adata.obs[score] = scrdf[score]\n",
    "adata.obs['is_doublet'] = adata.obs['bonf_pval'] < 0.01"
   ]
  },
  {
   "cell_type": "code",
   "execution_count": 12,
   "metadata": {},
   "outputs": [
    {
     "name": "stdout",
     "output_type": "stream",
     "text": [
      "0.00718717538392431\n"
     ]
    }
   ],
   "source": [
    "# doublets %\n",
    "print(adata.obs['doublet_score_0.75'].sum() / adata.shape[0])"
   ]
  },
  {
   "cell_type": "markdown",
   "metadata": {},
   "source": [
    "#### Save"
   ]
  },
  {
   "cell_type": "code",
   "execution_count": 13,
   "metadata": {},
   "outputs": [],
   "source": [
    "adata.write(path_to_results + 'enriched_samples_M2doubletscores.h5ad')"
   ]
  },
  {
   "cell_type": "markdown",
   "metadata": {},
   "source": [
    "#### End of notebook"
   ]
  },
  {
   "cell_type": "code",
   "execution_count": null,
   "metadata": {},
   "outputs": [],
   "source": []
  }
 ],
 "metadata": {
  "kernelspec": {
   "display_name": "scanpy_env",
   "language": "python",
   "name": "scanpy_env"
  },
  "language_info": {
   "codemirror_mode": {
    "name": "ipython",
    "version": 3
   },
   "file_extension": ".py",
   "mimetype": "text/x-python",
   "name": "python",
   "nbconvert_exporter": "python",
   "pygments_lexer": "ipython3",
   "version": "3.8.0"
  }
 },
 "nbformat": 4,
 "nbformat_minor": 4
}
