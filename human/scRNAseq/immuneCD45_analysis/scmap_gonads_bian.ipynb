{
 "cells": [
  {
   "cell_type": "markdown",
   "metadata": {},
   "source": [
    "### scmap to compare our gonadal immune cells to myeloid cells from Bian et al., 2020"
   ]
  },
  {
   "cell_type": "code",
   "execution_count": 1,
   "metadata": {},
   "outputs": [],
   "source": [
    "import numpy as np\n",
    "import scanpy as sc \n",
    "import pandas as pd\n",
    "import anndata\n",
    "sc.settings.set_figure_params(dpi=80)"
   ]
  },
  {
   "cell_type": "code",
   "execution_count": 2,
   "metadata": {},
   "outputs": [],
   "source": [
    "import rpy2.rinterface_lib.callbacks\n",
    "import logging"
   ]
  },
  {
   "cell_type": "code",
   "execution_count": 3,
   "metadata": {},
   "outputs": [],
   "source": [
    "# Ignore R warning messages\n",
    "#Note: this can be commented out to get more verbose R output\n",
    "rpy2.rinterface_lib.callbacks.logger.setLevel(logging.ERROR)"
   ]
  },
  {
   "cell_type": "code",
   "execution_count": 4,
   "metadata": {},
   "outputs": [],
   "source": [
    "import anndata2ri\n",
    "anndata2ri.activate()"
   ]
  },
  {
   "cell_type": "code",
   "execution_count": 5,
   "metadata": {},
   "outputs": [],
   "source": [
    "%load_ext rpy2.ipython"
   ]
  },
  {
   "cell_type": "code",
   "execution_count": 6,
   "metadata": {},
   "outputs": [],
   "source": [
    "%%R\n",
    "library(Matrix)\n",
    "library(scmap)"
   ]
  },
  {
   "cell_type": "markdown",
   "metadata": {},
   "source": [
    "#### Load data"
   ]
  },
  {
   "cell_type": "code",
   "execution_count": 48,
   "metadata": {},
   "outputs": [],
   "source": [
    "path_to_bian = '/nfs/team292/vl6/Microglia/'\n",
    "path_to_atlas = '/nfs/team292/vl6/immune_fetal_gonads/'"
   ]
  },
  {
   "cell_type": "code",
   "execution_count": 68,
   "metadata": {},
   "outputs": [
    {
     "data": {
      "text/plain": [
       "(1231, 18917)"
      ]
     },
     "execution_count": 68,
     "metadata": {},
     "output_type": "execute_result"
    }
   ],
   "source": [
    "bian = sc.read(path_to_bian + 'Paper_microglia.h5ad')\n",
    "bian = anndata.AnnData(X = bian.raw.X, var = bian.raw.var, obs = bian.obs)\n",
    "bian.shape"
   ]
  },
  {
   "cell_type": "code",
   "execution_count": 69,
   "metadata": {},
   "outputs": [
    {
     "data": {
      "text/plain": [
       "(20556, 21209)"
      ]
     },
     "execution_count": 69,
     "metadata": {},
     "output_type": "execute_result"
    }
   ],
   "source": [
    "atlas = sc.read(path_to_atlas +'immune_merged_lineages.h5ad')\n",
    "atlas.shape"
   ]
  },
  {
   "cell_type": "code",
   "execution_count": 70,
   "metadata": {},
   "outputs": [
    {
     "data": {
      "text/plain": [
       "(20556, 29052)"
      ]
     },
     "execution_count": 70,
     "metadata": {},
     "output_type": "execute_result"
    }
   ],
   "source": [
    "atlas = anndata.AnnData(X = atlas.raw.X, var = atlas.raw.var, obs = atlas.obs)\n",
    "atlas.shape"
   ]
  },
  {
   "cell_type": "markdown",
   "metadata": {},
   "source": [
    "#### Intersect genes"
   ]
  },
  {
   "cell_type": "code",
   "execution_count": 71,
   "metadata": {},
   "outputs": [
    {
     "data": {
      "text/plain": [
       "16299"
      ]
     },
     "execution_count": 71,
     "metadata": {},
     "output_type": "execute_result"
    }
   ],
   "source": [
    "bian_genes = bian.var_names.to_list()\n",
    "atlas_genes = atlas.var_names.to_list()\n",
    "\n",
    "from functools import reduce\n",
    "inters = reduce(np.intersect1d, (bian_genes, atlas_genes))\n",
    "len(inters)"
   ]
  },
  {
   "cell_type": "code",
   "execution_count": 72,
   "metadata": {},
   "outputs": [
    {
     "data": {
      "text/plain": [
       "View of AnnData object with n_obs × n_vars = 1231 × 16299\n",
       "    obs: 'tissue', 'paper_annotation', 'stage', 'individual', 'paper_cluster', 'n_genes', 'n_counts', 'sample'\n",
       "    var: 'n_cells'"
      ]
     },
     "execution_count": 72,
     "metadata": {},
     "output_type": "execute_result"
    }
   ],
   "source": [
    "bian = bian[:, list(inters)]\n",
    "bian"
   ]
  },
  {
   "cell_type": "code",
   "execution_count": 73,
   "metadata": {},
   "outputs": [],
   "source": [
    "atlas = atlas[:, list(inters)]"
   ]
  },
  {
   "cell_type": "markdown",
   "metadata": {},
   "source": [
    "#### Convert anndata to SingleCellExperiment"
   ]
  },
  {
   "cell_type": "code",
   "execution_count": 74,
   "metadata": {},
   "outputs": [
    {
     "name": "stdout",
     "output_type": "stream",
     "text": [
      "class: SingleCellExperiment \n",
      "dim: 16299 20556 \n",
      "metadata(0):\n",
      "assays(1): X\n",
      "rownames(16299): A1BG A1CF ... ZYX ZZEF1\n",
      "rowData names(256): gene_ids.0.0 feature_types.0.0 ... variances.1\n",
      "  variances_norm.1\n",
      "colnames(20556): FCA_GND8047884_CCCATACAGAGATGAG\n",
      "  FCA_GND8047884_CTTAGGATCAGTGCAT ...\n",
      "  HCA_F_GON10941969_TTTCCTCTCCTTGACC HCA_F_GON10941969_TTTGGTTCAAGGTTCT\n",
      "colData names(65): batch batch_collection ... prob_pro.B.cell lineages\n",
      "reducedDimNames(0):\n",
      "altExpNames(0):\n"
     ]
    }
   ],
   "source": [
    "%%R -i atlas\n",
    "atlas"
   ]
  },
  {
   "cell_type": "code",
   "execution_count": 75,
   "metadata": {},
   "outputs": [
    {
     "name": "stdout",
     "output_type": "stream",
     "text": [
      "class: SingleCellExperiment \n",
      "dim: 16299 1231 \n",
      "metadata(0):\n",
      "assays(1): X\n",
      "rownames(16299): A1BG A1CF ... ZYX ZZEF1\n",
      "rowData names(1): n_cells\n",
      "colnames(1231): YS5_TKR180900693_HT3YJCCXY_L4_sc60\n",
      "  YS5_TKR180900693_HT3YJCCXY_L4_sc64 ... L3_FKDL190665156.1a_sc47\n",
      "  L3_FKDL190665156.1a_sc48\n",
      "colData names(8): tissue paper_annotation ... n_counts sample\n",
      "reducedDimNames(0):\n",
      "altExpNames(0):\n"
     ]
    }
   ],
   "source": [
    "%%R -i bian\n",
    "bian"
   ]
  },
  {
   "cell_type": "markdown",
   "metadata": {},
   "source": [
    "#### Feature selection"
   ]
  },
  {
   "cell_type": "code",
   "execution_count": 76,
   "metadata": {},
   "outputs": [
    {
     "name": "stdout",
     "output_type": "stream",
     "text": [
      "[1] \"X\"         \"logcounts\"\n"
     ]
    }
   ],
   "source": [
    "%%R \n",
    "\n",
    "counts <- assay(bian, \"X\")\n",
    "libsizes <- colSums(counts)\n",
    "size.factors <- libsizes/mean(libsizes)\n",
    "logcounts(bian) <- log2(t(t(counts)/size.factors) + 1)\n",
    "assayNames(bian)"
   ]
  },
  {
   "cell_type": "code",
   "execution_count": 77,
   "metadata": {},
   "outputs": [
    {
     "name": "stdout",
     "output_type": "stream",
     "text": [
      "\n",
      "FALSE  TRUE \n",
      "15999   300 \n"
     ]
    },
    {
     "data": {
      "image/png": "[encoded data removed]"
     },
     "metadata": {},
     "output_type": "display_data"
    }
   ],
   "source": [
    "%%R\n",
    "\n",
    "rowData(bian)$feature_symbol <- rownames(bian)\n",
    "logcounts(bian) <- as.matrix(logcounts(bian))\n",
    "bian <- selectFeatures(bian, n_features = 300, suppress_plot = FALSE)\n",
    "print(table(rowData(bian)$scmap_features))"
   ]
  },
  {
   "cell_type": "markdown",
   "metadata": {},
   "source": [
    "### scmap-cluster"
   ]
  },
  {
   "cell_type": "code",
   "execution_count": 78,
   "metadata": {},
   "outputs": [
    {
     "name": "stdout",
     "output_type": "stream",
     "text": [
      "           Mac_2       MkP     ErP      GMP Monocyte Myeloblast Lymphoblast\n",
      "A2M    6.3961661 0.0000000 0.00000 0.000000 2.434667   0.000000    0.000000\n",
      "AAK1   5.0784493 0.8896725 0.00000 1.377855 3.646283   4.023477    0.750214\n",
      "ABCG2  5.4177824 0.0000000 0.00000 0.000000 1.286528   0.000000    0.000000\n",
      "ACAA1  1.0587831 1.8234246 3.78445 1.603184 3.297013   2.729270    4.065105\n",
      "ADAM28 0.7413152 0.0000000 0.00000 0.000000 4.257195   0.000000    4.885229\n",
      "ADAP2  7.1489448 0.0000000 0.00000 0.000000 5.102202   1.930591    0.000000\n",
      "             LMP      EMP Mast cell    Mac_4    Mac_1      ILC    Mac_3\n",
      "A2M    1.3511106 0.000000  0.000000 7.541290 6.160626 0.000000 6.367759\n",
      "AAK1   1.8842761 0.000000  1.212564 5.578590 4.689407 4.887467 5.371387\n",
      "ABCG2  0.8231866 0.000000  0.000000 3.373880 5.583687 0.000000 5.059786\n",
      "ACAA1  3.8297130 3.765198  1.434175 0.000000 2.488334 0.000000 3.430538\n",
      "ADAM28 4.5268781 0.000000  0.000000 5.917298 0.000000 0.000000 0.000000\n",
      "ADAP2  3.5046414 0.000000  0.000000 6.389407 6.806813 0.000000 7.209237\n",
      "           HSPC\n",
      "A2M    0.000000\n",
      "AAK1   0.000000\n",
      "ABCG2  0.000000\n",
      "ACAA1  0.000000\n",
      "ADAM28 1.675534\n",
      "ADAP2  0.000000\n"
     ]
    },
    {
     "data": {
      "image/png": "[encoded data removed]"
     },
     "metadata": {},
     "output_type": "display_data"
    }
   ],
   "source": [
    "%%R \n",
    "\n",
    "bian <- indexCluster(bian, cluster_col = \"paper_cluster\")\n",
    "print(head(metadata(bian)$scmap_cluster_index))\n",
    "heatmap(as.matrix(metadata(bian)$scmap_cluster_index))"
   ]
  },
  {
   "cell_type": "markdown",
   "metadata": {},
   "source": [
    "#### Projection"
   ]
  },
  {
   "cell_type": "code",
   "execution_count": 79,
   "metadata": {},
   "outputs": [
    {
     "name": "stdout",
     "output_type": "stream",
     "text": [
      "[1] \"X\"         \"logcounts\"\n"
     ]
    }
   ],
   "source": [
    "%%R \n",
    "\n",
    "rowData(atlas)$feature_symbol <- rownames(atlas)\n",
    "counts <- assay(atlas, \"X\")\n",
    "libsizes <- colSums(counts)\n",
    "size.factors <- libsizes/mean(libsizes)\n",
    "logcounts(atlas) <- log2(t(t(counts)/size.factors) + 1)\n",
    "logcounts(atlas) <- as.matrix(logcounts(atlas))\n",
    "assayNames(atlas)"
   ]
  },
  {
   "cell_type": "code",
   "execution_count": 80,
   "metadata": {},
   "outputs": [],
   "source": [
    "%%R -o scmapCluster_results\n",
    "\n",
    "scmapCluster_results <- scmapCluster(\n",
    "  projection = atlas, \n",
    "  index_list = list(\n",
    "    bian = metadata(bian)$scmap_cluster_index\n",
    "  )\n",
    ")"
   ]
  },
  {
   "cell_type": "code",
   "execution_count": 81,
   "metadata": {},
   "outputs": [
    {
     "name": "stdout",
     "output_type": "stream",
     "text": [
      "     bian        \n",
      "[1,] \"unassigned\"\n",
      "[2,] \"unassigned\"\n",
      "[3,] \"Myeloblast\"\n",
      "[4,] \"unassigned\"\n",
      "[5,] \"Mac_1\"     \n",
      "[6,] \"unassigned\"\n",
      "          bian\n",
      "[1,] 0.4342971\n",
      "[2,] 0.5580652\n",
      "[3,] 0.7249438\n",
      "[4,] 0.3322989\n",
      "[5,] 0.7736249\n",
      "[6,] 0.5554887\n",
      "[1] \"unassigned\" \"unassigned\" \"Myeloblast\" \"unassigned\" \"Mac_1\"     \n",
      "[6] \"unassigned\"\n"
     ]
    }
   ],
   "source": [
    "%%R \n",
    "\n",
    "print(head(scmapCluster_results$scmap_cluster_labs))\n",
    "print(head(scmapCluster_results$scmap_cluster_siml))\n",
    "print(head(scmapCluster_results$combined_labs))"
   ]
  },
  {
   "cell_type": "code",
   "execution_count": 82,
   "metadata": {},
   "outputs": [],
   "source": [
    "labels = list(scmapCluster_results[0])"
   ]
  },
  {
   "cell_type": "code",
   "execution_count": 83,
   "metadata": {},
   "outputs": [
    {
     "name": "stderr",
     "output_type": "stream",
     "text": [
      "Trying to set attribute `.obs` of view, copying.\n"
     ]
    },
    {
     "data": {
      "text/plain": [
       "unassigned     16083\n",
       "Mac_1           1416\n",
       "Mac_3            838\n",
       "Mac_2            765\n",
       "Mac_4            508\n",
       "Monocyte         347\n",
       "Myeloblast       337\n",
       "ErP              134\n",
       "GMP               28\n",
       "Mast cell         26\n",
       "HSPC              20\n",
       "Lymphoblast       18\n",
       "MkP               16\n",
       "EMP               11\n",
       "LMP                9\n",
       "Name: scmap_labels, dtype: int64"
      ]
     },
     "execution_count": 83,
     "metadata": {},
     "output_type": "execute_result"
    }
   ],
   "source": [
    "atlas.obs['scmap_labels'] = labels\n",
    "atlas.obs['scmap_labels'].value_counts(dropna = False)"
   ]
  },
  {
   "cell_type": "code",
   "execution_count": 84,
   "metadata": {},
   "outputs": [],
   "source": [
    "similarities = scmapCluster_results[1]\n",
    "similarities = [val for sublist in similarities for val in sublist]\n",
    "#similarities"
   ]
  },
  {
   "cell_type": "code",
   "execution_count": 85,
   "metadata": {},
   "outputs": [],
   "source": [
    "atlas.obs['scmap_similarities'] = similarities"
   ]
  },
  {
   "cell_type": "markdown",
   "metadata": {},
   "source": [
    "#### Save scmap results "
   ]
  },
  {
   "cell_type": "code",
   "execution_count": 86,
   "metadata": {},
   "outputs": [],
   "source": [
    "atlas.obs[['scmap_labels', 'scmap_similarities']].to_csv(path_to_atlas + 'scmap_from_Bian.csv')"
   ]
  },
  {
   "cell_type": "code",
   "execution_count": null,
   "metadata": {},
   "outputs": [],
   "source": []
  }
 ],
 "metadata": {
  "kernelspec": {
   "display_name": "atac_env",
   "language": "python",
   "name": "atac_env"
  },
  "language_info": {
   "codemirror_mode": {
    "name": "ipython",
    "version": 3
   },
   "file_extension": ".py",
   "mimetype": "text/x-python",
   "name": "python",
   "nbconvert_exporter": "python",
   "pygments_lexer": "ipython3",
   "version": "3.8.6"
  }
 },
 "nbformat": 4,
 "nbformat_minor": 4
}
