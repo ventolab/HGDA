{
 "cells": [
  {
   "cell_type": "markdown",
   "metadata": {},
   "source": [
    "# FCA analysis - preprocessing"
   ]
  },
  {
   "cell_type": "code",
   "execution_count": 1,
   "metadata": {},
   "outputs": [
    {
     "name": "stderr",
     "output_type": "stream",
     "text": [
      "/home/jovyan/my-conda-envs/anndata06/lib/python3.9/site-packages/anndata/core/anndata.py:17: FutureWarning: pandas.core.index is deprecated and will be removed in a future version.  The public classes are available in the top-level namespace.\n",
      "  from pandas.core.index import RangeIndex\n"
     ]
    },
    {
     "name": "stdout",
     "output_type": "stream",
     "text": [
      "scanpy==1.4.4 anndata==0.6.22 umap==0.5.1 numpy==1.20.0 scipy==1.6.2 pandas==1.2.1 scikit-learn==0.24.1 statsmodels==0.12.2\n"
     ]
    },
    {
     "data": {
      "text/plain": [
       "'/home/jovyan/my-conda-envs/anndata06/bin/python'"
      ]
     },
     "execution_count": 1,
     "metadata": {},
     "output_type": "execute_result"
    }
   ],
   "source": [
    "import numpy as np\n",
    "import pandas as pd\n",
    "import scanpy as sc\n",
    "import matplotlib.pyplot as plt\n",
    "import os\n",
    "import sys\n",
    "\n",
    "\n",
    "def MovePlots(plotpattern, subplotdir):\n",
    "    os.system('mkdir -p '+str(sc.settings.figdir)+'/'+subplotdir)\n",
    "    os.system('mv '+str(sc.settings.figdir)+'/*'+plotpattern+'** '+str(sc.settings.figdir)+'/'+subplotdir)\n",
    "\n",
    "\n",
    "sc.settings.verbosity = 3  # verbosity: errors (0), warnings (1), info (2), hints (3)\n",
    "sc.settings.figdir = './figures/preprocessing/'\n",
    "sc.logging.print_versions()\n",
    "sc.settings.set_figure_params(dpi=80)  # low dpi (dots per inch) yields small inline figures\n",
    "\n",
    "sys.executable"
   ]
  },
  {
   "cell_type": "markdown",
   "metadata": {},
   "source": [
    "## Import data\n",
    "Import sample metadata"
   ]
  },
  {
   "cell_type": "code",
   "execution_count": 2,
   "metadata": {},
   "outputs": [
    {
     "name": "stdout",
     "output_type": "stream",
     "text": [
      "Number of samples:  53\n"
     ]
    }
   ],
   "source": [
    "data_dir = '/nfs/users/nfs_l/lg18/team292/lg18/gonads/data/scRNAseq/FCA/'\n",
    "meta = pd.read_csv(data_dir+'rawdata/meta_noimmune_v2.csv',index_col=0)\n",
    "meta['stage'] = meta['stage'].astype('str')\n",
    "plotmeta = list(meta.columns)\n",
    "plotmeta.append('sample')\n",
    "print('Number of samples: ', meta.index.size)"
   ]
  },
  {
   "cell_type": "code",
   "execution_count": 3,
   "metadata": {},
   "outputs": [
    {
     "data": {
      "text/html": [
       "<div>\n",
       "<style scoped>\n",
       "    .dataframe tbody tr th:only-of-type {\n",
       "        vertical-align: middle;\n",
       "    }\n",
       "\n",
       "    .dataframe tbody tr th {\n",
       "        vertical-align: top;\n",
       "    }\n",
       "\n",
       "    .dataframe thead th {\n",
       "        text-align: right;\n",
       "    }\n",
       "</style>\n",
       "<table border=\"1\" class=\"dataframe\">\n",
       "  <thead>\n",
       "    <tr style=\"text-align: right;\">\n",
       "      <th></th>\n",
       "      <th>individual</th>\n",
       "      <th>location</th>\n",
       "      <th>stage</th>\n",
       "      <th>sex</th>\n",
       "      <th>study</th>\n",
       "      <th>batch_collection</th>\n",
       "      <th>process</th>\n",
       "      <th>cryopreserved</th>\n",
       "      <th>TP</th>\n",
       "      <th>5v1.1</th>\n",
       "    </tr>\n",
       "    <tr>\n",
       "      <th>sample</th>\n",
       "      <th></th>\n",
       "      <th></th>\n",
       "      <th></th>\n",
       "      <th></th>\n",
       "      <th></th>\n",
       "      <th></th>\n",
       "      <th></th>\n",
       "      <th></th>\n",
       "      <th></th>\n",
       "      <th></th>\n",
       "    </tr>\n",
       "  </thead>\n",
       "  <tbody>\n",
       "    <tr>\n",
       "      <th>FCA_GND8047885</th>\n",
       "      <td>F81</td>\n",
       "      <td>Gonad</td>\n",
       "      <td>8.8</td>\n",
       "      <td>female</td>\n",
       "      <td>FCA</td>\n",
       "      <td>A</td>\n",
       "      <td>CD45-</td>\n",
       "      <td>No</td>\n",
       "      <td>U</td>\n",
       "      <td>5v1.1</td>\n",
       "    </tr>\n",
       "    <tr>\n",
       "      <th>FCA_GND8125923</th>\n",
       "      <td>F86</td>\n",
       "      <td>Gonad</td>\n",
       "      <td>7.5</td>\n",
       "      <td>female</td>\n",
       "      <td>FCA</td>\n",
       "      <td>B</td>\n",
       "      <td>CD45-</td>\n",
       "      <td>No</td>\n",
       "      <td>U</td>\n",
       "      <td>5v1.1</td>\n",
       "    </tr>\n",
       "    <tr>\n",
       "      <th>FCA_GND8125925</th>\n",
       "      <td>F87</td>\n",
       "      <td>Gonad</td>\n",
       "      <td>11.0</td>\n",
       "      <td>female</td>\n",
       "      <td>FCA</td>\n",
       "      <td>B</td>\n",
       "      <td>CD45-</td>\n",
       "      <td>No</td>\n",
       "      <td>U</td>\n",
       "      <td>5v1.1</td>\n",
       "    </tr>\n",
       "    <tr>\n",
       "      <th>FCA_GND8103050</th>\n",
       "      <td>F83</td>\n",
       "      <td>Gonad</td>\n",
       "      <td>17.0</td>\n",
       "      <td>female</td>\n",
       "      <td>FCA</td>\n",
       "      <td>C</td>\n",
       "      <td>CD45-</td>\n",
       "      <td>No</td>\n",
       "      <td>U</td>\n",
       "      <td>5v1.1</td>\n",
       "    </tr>\n",
       "    <tr>\n",
       "      <th>FCA_GND8103053</th>\n",
       "      <td>F84</td>\n",
       "      <td>Gonad</td>\n",
       "      <td>9.0</td>\n",
       "      <td>female</td>\n",
       "      <td>FCA</td>\n",
       "      <td>Cpoor</td>\n",
       "      <td>CD45-</td>\n",
       "      <td>No</td>\n",
       "      <td>U</td>\n",
       "      <td>5v1.1</td>\n",
       "    </tr>\n",
       "    <tr>\n",
       "      <th>FCA_GND8622625</th>\n",
       "      <td>F89</td>\n",
       "      <td>Gonad</td>\n",
       "      <td>8.4</td>\n",
       "      <td>female</td>\n",
       "      <td>FCA</td>\n",
       "      <td>E</td>\n",
       "      <td>total</td>\n",
       "      <td>No</td>\n",
       "      <td>U</td>\n",
       "      <td>5v1.1</td>\n",
       "    </tr>\n",
       "    <tr>\n",
       "      <th>FCA_GND8622626</th>\n",
       "      <td>F89</td>\n",
       "      <td>Gonad</td>\n",
       "      <td>8.4</td>\n",
       "      <td>female</td>\n",
       "      <td>FCA</td>\n",
       "      <td>E</td>\n",
       "      <td>total</td>\n",
       "      <td>No</td>\n",
       "      <td>U</td>\n",
       "      <td>5v1.1</td>\n",
       "    </tr>\n",
       "    <tr>\n",
       "      <th>FCA_GND8622628</th>\n",
       "      <td>F91</td>\n",
       "      <td>Gonad</td>\n",
       "      <td>11.0</td>\n",
       "      <td>female</td>\n",
       "      <td>FCA</td>\n",
       "      <td>E</td>\n",
       "      <td>CD45-</td>\n",
       "      <td>No</td>\n",
       "      <td>U</td>\n",
       "      <td>5v1.1</td>\n",
       "    </tr>\n",
       "    <tr>\n",
       "      <th>FCA_GND8715408</th>\n",
       "      <td>F96</td>\n",
       "      <td>Gonad</td>\n",
       "      <td>14.0</td>\n",
       "      <td>female</td>\n",
       "      <td>FCA</td>\n",
       "      <td>F</td>\n",
       "      <td>CD45-</td>\n",
       "      <td>No</td>\n",
       "      <td>Med</td>\n",
       "      <td>5v1.1</td>\n",
       "    </tr>\n",
       "    <tr>\n",
       "      <th>FCA_GND8289580</th>\n",
       "      <td>F88</td>\n",
       "      <td>Gonad</td>\n",
       "      <td>11.0</td>\n",
       "      <td>male</td>\n",
       "      <td>FCA</td>\n",
       "      <td>D</td>\n",
       "      <td>CD45-</td>\n",
       "      <td>No</td>\n",
       "      <td>U</td>\n",
       "      <td>5v1.1</td>\n",
       "    </tr>\n",
       "    <tr>\n",
       "      <th>FCA_GND8622630</th>\n",
       "      <td>F93</td>\n",
       "      <td>Gonad</td>\n",
       "      <td>6.0</td>\n",
       "      <td>male</td>\n",
       "      <td>FCA</td>\n",
       "      <td>E</td>\n",
       "      <td>CD45-</td>\n",
       "      <td>No</td>\n",
       "      <td>U</td>\n",
       "      <td>5v1.1</td>\n",
       "    </tr>\n",
       "    <tr>\n",
       "      <th>FCA_GND8715519</th>\n",
       "      <td>Hrv3</td>\n",
       "      <td>Gonad</td>\n",
       "      <td>19.0</td>\n",
       "      <td>male</td>\n",
       "      <td>FCA</td>\n",
       "      <td>G</td>\n",
       "      <td>total</td>\n",
       "      <td>No</td>\n",
       "      <td>Med</td>\n",
       "      <td>5v1.1</td>\n",
       "    </tr>\n",
       "    <tr>\n",
       "      <th>FCA_GND8784460</th>\n",
       "      <td>F99</td>\n",
       "      <td>Gonad</td>\n",
       "      <td>8.6</td>\n",
       "      <td>female</td>\n",
       "      <td>FCA</td>\n",
       "      <td>H</td>\n",
       "      <td>CD45-</td>\n",
       "      <td>No</td>\n",
       "      <td>Med</td>\n",
       "      <td>5v1.1</td>\n",
       "    </tr>\n",
       "    <tr>\n",
       "      <th>FCA_GND8784458</th>\n",
       "      <td>Hrv10</td>\n",
       "      <td>Gonad</td>\n",
       "      <td>9.0</td>\n",
       "      <td>male</td>\n",
       "      <td>FCA</td>\n",
       "      <td>H</td>\n",
       "      <td>total</td>\n",
       "      <td>No</td>\n",
       "      <td>Med</td>\n",
       "      <td>5v1.1</td>\n",
       "    </tr>\n",
       "    <tr>\n",
       "      <th>FCA_GND8810844</th>\n",
       "      <td>Hrv11</td>\n",
       "      <td>Gonad</td>\n",
       "      <td>14.0</td>\n",
       "      <td>female</td>\n",
       "      <td>FCA</td>\n",
       "      <td>I</td>\n",
       "      <td>total</td>\n",
       "      <td>No</td>\n",
       "      <td>Med</td>\n",
       "      <td>5v1.1</td>\n",
       "    </tr>\n",
       "    <tr>\n",
       "      <th>FCA_GND8810845</th>\n",
       "      <td>Hrv12</td>\n",
       "      <td>Gonad</td>\n",
       "      <td>8.6</td>\n",
       "      <td>female</td>\n",
       "      <td>FCA</td>\n",
       "      <td>I</td>\n",
       "      <td>total</td>\n",
       "      <td>No</td>\n",
       "      <td>Sur</td>\n",
       "      <td>5v1.1</td>\n",
       "    </tr>\n",
       "    <tr>\n",
       "      <th>FCA_GND8810848</th>\n",
       "      <td>Hrv13</td>\n",
       "      <td>Gonad</td>\n",
       "      <td>9.0</td>\n",
       "      <td>female</td>\n",
       "      <td>FCA</td>\n",
       "      <td>I</td>\n",
       "      <td>total</td>\n",
       "      <td>No</td>\n",
       "      <td>Med</td>\n",
       "      <td>5v1.1</td>\n",
       "    </tr>\n",
       "    <tr>\n",
       "      <th>FCA_GND8810846</th>\n",
       "      <td>Hrv15</td>\n",
       "      <td>Gonad</td>\n",
       "      <td>12.0</td>\n",
       "      <td>male</td>\n",
       "      <td>FCA</td>\n",
       "      <td>I</td>\n",
       "      <td>total</td>\n",
       "      <td>No</td>\n",
       "      <td>Med</td>\n",
       "      <td>5v1.1</td>\n",
       "    </tr>\n",
       "    <tr>\n",
       "      <th>FCA_GND8810850</th>\n",
       "      <td>Hrv16</td>\n",
       "      <td>Gonad</td>\n",
       "      <td>7.0</td>\n",
       "      <td>male</td>\n",
       "      <td>FCA</td>\n",
       "      <td>I</td>\n",
       "      <td>total</td>\n",
       "      <td>No</td>\n",
       "      <td>Med</td>\n",
       "      <td>5v1.1</td>\n",
       "    </tr>\n",
       "    <tr>\n",
       "      <th>FCA_GND8810851</th>\n",
       "      <td>Hrv17</td>\n",
       "      <td>Gonad</td>\n",
       "      <td>7.0</td>\n",
       "      <td>male</td>\n",
       "      <td>FCA</td>\n",
       "      <td>I</td>\n",
       "      <td>total</td>\n",
       "      <td>No</td>\n",
       "      <td>Med</td>\n",
       "      <td>5v1.1</td>\n",
       "    </tr>\n",
       "    <tr>\n",
       "      <th>FCA_GND8810852</th>\n",
       "      <td>Hrv18</td>\n",
       "      <td>Gonad</td>\n",
       "      <td>12.0</td>\n",
       "      <td>male</td>\n",
       "      <td>FCA</td>\n",
       "      <td>I</td>\n",
       "      <td>total</td>\n",
       "      <td>No</td>\n",
       "      <td>Med</td>\n",
       "      <td>5v1.1</td>\n",
       "    </tr>\n",
       "    <tr>\n",
       "      <th>FCA_GND9331965</th>\n",
       "      <td>Hrv30</td>\n",
       "      <td>Gonad</td>\n",
       "      <td>12.0</td>\n",
       "      <td>female</td>\n",
       "      <td>FCA</td>\n",
       "      <td>J</td>\n",
       "      <td>total</td>\n",
       "      <td>No</td>\n",
       "      <td>Sur</td>\n",
       "      <td>5v1.1</td>\n",
       "    </tr>\n",
       "    <tr>\n",
       "      <th>FCA_GND9331966</th>\n",
       "      <td>Hrv32</td>\n",
       "      <td>Gonad</td>\n",
       "      <td>12.0</td>\n",
       "      <td>male</td>\n",
       "      <td>FCA</td>\n",
       "      <td>J</td>\n",
       "      <td>total</td>\n",
       "      <td>No</td>\n",
       "      <td>Sur</td>\n",
       "      <td>5v1.1</td>\n",
       "    </tr>\n",
       "    <tr>\n",
       "      <th>FCA_GND9331967</th>\n",
       "      <td>Hrv33</td>\n",
       "      <td>Gonad</td>\n",
       "      <td>15.0</td>\n",
       "      <td>male</td>\n",
       "      <td>FCA</td>\n",
       "      <td>J</td>\n",
       "      <td>total</td>\n",
       "      <td>No</td>\n",
       "      <td>Sur</td>\n",
       "      <td>5v1.1</td>\n",
       "    </tr>\n",
       "    <tr>\n",
       "      <th>FCA_GND9331968</th>\n",
       "      <td>Hrv34</td>\n",
       "      <td>Gonad</td>\n",
       "      <td>16.0</td>\n",
       "      <td>female</td>\n",
       "      <td>FCA</td>\n",
       "      <td>J</td>\n",
       "      <td>total</td>\n",
       "      <td>No</td>\n",
       "      <td>Sur</td>\n",
       "      <td>5v1.1</td>\n",
       "    </tr>\n",
       "    <tr>\n",
       "      <th>FCA_GND9331969</th>\n",
       "      <td>Hrv31</td>\n",
       "      <td>Gonad</td>\n",
       "      <td>11.0</td>\n",
       "      <td>male</td>\n",
       "      <td>FCA</td>\n",
       "      <td>J</td>\n",
       "      <td>total</td>\n",
       "      <td>Yes</td>\n",
       "      <td>Sur</td>\n",
       "      <td>5v1.1</td>\n",
       "    </tr>\n",
       "    <tr>\n",
       "      <th>FCA_GND9331970</th>\n",
       "      <td>Hrv25</td>\n",
       "      <td>Gonad</td>\n",
       "      <td>14.0</td>\n",
       "      <td>male</td>\n",
       "      <td>FCA</td>\n",
       "      <td>J</td>\n",
       "      <td>total</td>\n",
       "      <td>Yes</td>\n",
       "      <td>Sur</td>\n",
       "      <td>5v1.1</td>\n",
       "    </tr>\n",
       "    <tr>\n",
       "      <th>FCA_GND9295208</th>\n",
       "      <td>F100</td>\n",
       "      <td>Gonad</td>\n",
       "      <td>16.0</td>\n",
       "      <td>male</td>\n",
       "      <td>FCA</td>\n",
       "      <td>K</td>\n",
       "      <td>total</td>\n",
       "      <td>No</td>\n",
       "      <td>U</td>\n",
       "      <td>5v1.1</td>\n",
       "    </tr>\n",
       "    <tr>\n",
       "      <th>FCA_GND9295209</th>\n",
       "      <td>F100</td>\n",
       "      <td>Gonad</td>\n",
       "      <td>16.0</td>\n",
       "      <td>male</td>\n",
       "      <td>FCA</td>\n",
       "      <td>K</td>\n",
       "      <td>total</td>\n",
       "      <td>No</td>\n",
       "      <td>U</td>\n",
       "      <td>5v1.1</td>\n",
       "    </tr>\n",
       "    <tr>\n",
       "      <th>FCA_GND9295210</th>\n",
       "      <td>Hrv21</td>\n",
       "      <td>Gonad</td>\n",
       "      <td>17.0</td>\n",
       "      <td>male</td>\n",
       "      <td>FCA</td>\n",
       "      <td>K</td>\n",
       "      <td>total</td>\n",
       "      <td>No</td>\n",
       "      <td>Sur</td>\n",
       "      <td>5v1.1</td>\n",
       "    </tr>\n",
       "    <tr>\n",
       "      <th>FCA_GND9295212</th>\n",
       "      <td>Hrv27</td>\n",
       "      <td>Gonad</td>\n",
       "      <td>14.0</td>\n",
       "      <td>male</td>\n",
       "      <td>FCA</td>\n",
       "      <td>K</td>\n",
       "      <td>total</td>\n",
       "      <td>No</td>\n",
       "      <td>Sur</td>\n",
       "      <td>5v1.1</td>\n",
       "    </tr>\n",
       "    <tr>\n",
       "      <th>FCA_GND9332062</th>\n",
       "      <td>F122</td>\n",
       "      <td>Gonad</td>\n",
       "      <td>15.0</td>\n",
       "      <td>male</td>\n",
       "      <td>FCA</td>\n",
       "      <td>L</td>\n",
       "      <td>total</td>\n",
       "      <td>No</td>\n",
       "      <td>Med</td>\n",
       "      <td>5v1.1</td>\n",
       "    </tr>\n",
       "    <tr>\n",
       "      <th>FCA_GND9332064</th>\n",
       "      <td>F123</td>\n",
       "      <td>Gonad</td>\n",
       "      <td>6.0</td>\n",
       "      <td>female</td>\n",
       "      <td>FCA</td>\n",
       "      <td>L</td>\n",
       "      <td>total</td>\n",
       "      <td>No</td>\n",
       "      <td>Med</td>\n",
       "      <td>5v1.1</td>\n",
       "    </tr>\n",
       "    <tr>\n",
       "      <th>FCA_GND9332065</th>\n",
       "      <td>F123</td>\n",
       "      <td>Gonad</td>\n",
       "      <td>6.0</td>\n",
       "      <td>female</td>\n",
       "      <td>FCA</td>\n",
       "      <td>L</td>\n",
       "      <td>total</td>\n",
       "      <td>No</td>\n",
       "      <td>Med</td>\n",
       "      <td>5v1.1</td>\n",
       "    </tr>\n",
       "    <tr>\n",
       "      <th>FCA_GND9332061</th>\n",
       "      <td>Hrv34</td>\n",
       "      <td>Gonad</td>\n",
       "      <td>16.0</td>\n",
       "      <td>female</td>\n",
       "      <td>FCA</td>\n",
       "      <td>L</td>\n",
       "      <td>total</td>\n",
       "      <td>No</td>\n",
       "      <td>U</td>\n",
       "      <td>5v1.1</td>\n",
       "    </tr>\n",
       "    <tr>\n",
       "      <th>HD_F_GON9460406</th>\n",
       "      <td>Hrv37</td>\n",
       "      <td>Gonad</td>\n",
       "      <td>10.0</td>\n",
       "      <td>female</td>\n",
       "      <td>FCA</td>\n",
       "      <td>M</td>\n",
       "      <td>total</td>\n",
       "      <td>No</td>\n",
       "      <td>Sur</td>\n",
       "      <td>5v1.1</td>\n",
       "    </tr>\n",
       "    <tr>\n",
       "      <th>HD_F_GON9460407</th>\n",
       "      <td>Hrv37</td>\n",
       "      <td>Gonad</td>\n",
       "      <td>10.0</td>\n",
       "      <td>female</td>\n",
       "      <td>FCA</td>\n",
       "      <td>M</td>\n",
       "      <td>total</td>\n",
       "      <td>No</td>\n",
       "      <td>Sur</td>\n",
       "      <td>5v1.1</td>\n",
       "    </tr>\n",
       "    <tr>\n",
       "      <th>HD_F_GON9460408</th>\n",
       "      <td>Hrv41</td>\n",
       "      <td>Gonad</td>\n",
       "      <td>8.6</td>\n",
       "      <td>male</td>\n",
       "      <td>FCA</td>\n",
       "      <td>M</td>\n",
       "      <td>total</td>\n",
       "      <td>Yes</td>\n",
       "      <td>U</td>\n",
       "      <td>5v1.1</td>\n",
       "    </tr>\n",
       "    <tr>\n",
       "      <th>HD_F_GON9480063</th>\n",
       "      <td>Hrv49</td>\n",
       "      <td>Gonad</td>\n",
       "      <td>13.0</td>\n",
       "      <td>female</td>\n",
       "      <td>FCA</td>\n",
       "      <td>N</td>\n",
       "      <td>total</td>\n",
       "      <td>No</td>\n",
       "      <td>Sur</td>\n",
       "      <td>5v1.1</td>\n",
       "    </tr>\n",
       "    <tr>\n",
       "      <th>HD_F_GON9480064</th>\n",
       "      <td>Hrv49</td>\n",
       "      <td>Gonad</td>\n",
       "      <td>13.0</td>\n",
       "      <td>female</td>\n",
       "      <td>FCA</td>\n",
       "      <td>N</td>\n",
       "      <td>total</td>\n",
       "      <td>No</td>\n",
       "      <td>Sur</td>\n",
       "      <td>5v1.1</td>\n",
       "    </tr>\n",
       "    <tr>\n",
       "      <th>HD_F_GON9480066</th>\n",
       "      <td>Hrv47</td>\n",
       "      <td>Gonad</td>\n",
       "      <td>8.6</td>\n",
       "      <td>female</td>\n",
       "      <td>FCA</td>\n",
       "      <td>N</td>\n",
       "      <td>total</td>\n",
       "      <td>Yes</td>\n",
       "      <td>Sur</td>\n",
       "      <td>5v1.1</td>\n",
       "    </tr>\n",
       "    <tr>\n",
       "      <th>HD_F_GON9479968</th>\n",
       "      <td>F126</td>\n",
       "      <td>Gonad</td>\n",
       "      <td>9.0</td>\n",
       "      <td>female</td>\n",
       "      <td>FCA</td>\n",
       "      <td>N</td>\n",
       "      <td>total</td>\n",
       "      <td>No</td>\n",
       "      <td>Sur</td>\n",
       "      <td>5v1.1</td>\n",
       "    </tr>\n",
       "    <tr>\n",
       "      <th>HD_F_GON9479969</th>\n",
       "      <td>Hrv39</td>\n",
       "      <td>Gonad</td>\n",
       "      <td>14.0</td>\n",
       "      <td>female</td>\n",
       "      <td>FCA</td>\n",
       "      <td>N</td>\n",
       "      <td>total</td>\n",
       "      <td>Yes</td>\n",
       "      <td>Sur</td>\n",
       "      <td>5v1.1</td>\n",
       "    </tr>\n",
       "    <tr>\n",
       "      <th>HD_F_GON9479970</th>\n",
       "      <td>Hrv40</td>\n",
       "      <td>Gonad</td>\n",
       "      <td>15.0</td>\n",
       "      <td>male</td>\n",
       "      <td>FCA</td>\n",
       "      <td>N</td>\n",
       "      <td>total</td>\n",
       "      <td>No</td>\n",
       "      <td>Sur</td>\n",
       "      <td>5v1.1</td>\n",
       "    </tr>\n",
       "    <tr>\n",
       "      <th>HD_F_GON9699334</th>\n",
       "      <td>Hrv58</td>\n",
       "      <td>Gonad</td>\n",
       "      <td>21.0</td>\n",
       "      <td>female</td>\n",
       "      <td>FCA</td>\n",
       "      <td>O</td>\n",
       "      <td>total</td>\n",
       "      <td>No</td>\n",
       "      <td>Sur</td>\n",
       "      <td>5DUAL</td>\n",
       "    </tr>\n",
       "    <tr>\n",
       "      <th>HD_F_GON9699332</th>\n",
       "      <td>Hrv58</td>\n",
       "      <td>Gonad</td>\n",
       "      <td>21.0</td>\n",
       "      <td>female</td>\n",
       "      <td>FCA</td>\n",
       "      <td>O</td>\n",
       "      <td>total</td>\n",
       "      <td>No</td>\n",
       "      <td>Sur</td>\n",
       "      <td>5DUAL</td>\n",
       "    </tr>\n",
       "    <tr>\n",
       "      <th>HD_F_GON9699337</th>\n",
       "      <td>Hrv59</td>\n",
       "      <td>Gonad</td>\n",
       "      <td>18.0</td>\n",
       "      <td>female</td>\n",
       "      <td>FCA</td>\n",
       "      <td>O</td>\n",
       "      <td>total</td>\n",
       "      <td>No</td>\n",
       "      <td>Sur</td>\n",
       "      <td>5DUAL</td>\n",
       "    </tr>\n",
       "    <tr>\n",
       "      <th>HD_F_GON9883867</th>\n",
       "      <td>Hrv58</td>\n",
       "      <td>Gonad</td>\n",
       "      <td>21.0</td>\n",
       "      <td>female</td>\n",
       "      <td>FCA</td>\n",
       "      <td>O</td>\n",
       "      <td>total</td>\n",
       "      <td>No</td>\n",
       "      <td>Sur</td>\n",
       "      <td>5v1.0</td>\n",
       "    </tr>\n",
       "    <tr>\n",
       "      <th>HD_F_GON9883866</th>\n",
       "      <td>Hrv59</td>\n",
       "      <td>Gonad</td>\n",
       "      <td>18.0</td>\n",
       "      <td>female</td>\n",
       "      <td>FCA</td>\n",
       "      <td>O</td>\n",
       "      <td>total</td>\n",
       "      <td>No</td>\n",
       "      <td>Sur</td>\n",
       "      <td>5v1.0</td>\n",
       "    </tr>\n",
       "    <tr>\n",
       "      <th>HD_F_GON9883862</th>\n",
       "      <td>F133</td>\n",
       "      <td>Gonad</td>\n",
       "      <td>17.0</td>\n",
       "      <td>female</td>\n",
       "      <td>FCA</td>\n",
       "      <td>O</td>\n",
       "      <td>total</td>\n",
       "      <td>No</td>\n",
       "      <td>Sur</td>\n",
       "      <td>5v1.1</td>\n",
       "    </tr>\n",
       "    <tr>\n",
       "      <th>HD_F_GON9883863</th>\n",
       "      <td>F133</td>\n",
       "      <td>Gonad</td>\n",
       "      <td>17.0</td>\n",
       "      <td>female</td>\n",
       "      <td>FCA</td>\n",
       "      <td>O</td>\n",
       "      <td>total</td>\n",
       "      <td>No</td>\n",
       "      <td>Sur</td>\n",
       "      <td>5v1.1</td>\n",
       "    </tr>\n",
       "    <tr>\n",
       "      <th>HD_F_GON9883859</th>\n",
       "      <td>Hrv55</td>\n",
       "      <td>Gonad</td>\n",
       "      <td>17.0</td>\n",
       "      <td>male</td>\n",
       "      <td>FCA_test</td>\n",
       "      <td>O</td>\n",
       "      <td>total</td>\n",
       "      <td>No</td>\n",
       "      <td>Sur</td>\n",
       "      <td>5v1.0</td>\n",
       "    </tr>\n",
       "    <tr>\n",
       "      <th>HD_F_GON9883868</th>\n",
       "      <td>Hrv54</td>\n",
       "      <td>Gonad</td>\n",
       "      <td>21.0</td>\n",
       "      <td>male</td>\n",
       "      <td>FCA_test</td>\n",
       "      <td>O</td>\n",
       "      <td>total</td>\n",
       "      <td>No</td>\n",
       "      <td>Sur</td>\n",
       "      <td>5v1.0</td>\n",
       "    </tr>\n",
       "  </tbody>\n",
       "</table>\n",
       "</div>"
      ],
      "text/plain": [
       "                individual location stage     sex     study batch_collection  \\\n",
       "sample                                                                         \n",
       "FCA_GND8047885         F81    Gonad   8.8  female       FCA                A   \n",
       "FCA_GND8125923         F86    Gonad   7.5  female       FCA                B   \n",
       "FCA_GND8125925         F87    Gonad  11.0  female       FCA                B   \n",
       "FCA_GND8103050         F83    Gonad  17.0  female       FCA                C   \n",
       "FCA_GND8103053         F84    Gonad   9.0  female       FCA            Cpoor   \n",
       "FCA_GND8622625         F89    Gonad   8.4  female       FCA                E   \n",
       "FCA_GND8622626         F89    Gonad   8.4  female       FCA                E   \n",
       "FCA_GND8622628         F91    Gonad  11.0  female       FCA                E   \n",
       "FCA_GND8715408         F96    Gonad  14.0  female       FCA                F   \n",
       "FCA_GND8289580         F88    Gonad  11.0    male       FCA                D   \n",
       "FCA_GND8622630         F93    Gonad   6.0    male       FCA                E   \n",
       "FCA_GND8715519        Hrv3    Gonad  19.0    male       FCA                G   \n",
       "FCA_GND8784460         F99    Gonad   8.6  female       FCA                H   \n",
       "FCA_GND8784458       Hrv10    Gonad   9.0    male       FCA                H   \n",
       "FCA_GND8810844       Hrv11    Gonad  14.0  female       FCA                I   \n",
       "FCA_GND8810845       Hrv12    Gonad   8.6  female       FCA                I   \n",
       "FCA_GND8810848       Hrv13    Gonad   9.0  female       FCA                I   \n",
       "FCA_GND8810846       Hrv15    Gonad  12.0    male       FCA                I   \n",
       "FCA_GND8810850       Hrv16    Gonad   7.0    male       FCA                I   \n",
       "FCA_GND8810851       Hrv17    Gonad   7.0    male       FCA                I   \n",
       "FCA_GND8810852       Hrv18    Gonad  12.0    male       FCA                I   \n",
       "FCA_GND9331965       Hrv30    Gonad  12.0  female       FCA                J   \n",
       "FCA_GND9331966       Hrv32    Gonad  12.0    male       FCA                J   \n",
       "FCA_GND9331967       Hrv33    Gonad  15.0    male       FCA                J   \n",
       "FCA_GND9331968       Hrv34    Gonad  16.0  female       FCA                J   \n",
       "FCA_GND9331969       Hrv31    Gonad  11.0    male       FCA                J   \n",
       "FCA_GND9331970       Hrv25    Gonad  14.0    male       FCA                J   \n",
       "FCA_GND9295208        F100    Gonad  16.0    male       FCA                K   \n",
       "FCA_GND9295209        F100    Gonad  16.0    male       FCA                K   \n",
       "FCA_GND9295210       Hrv21    Gonad  17.0    male       FCA                K   \n",
       "FCA_GND9295212       Hrv27    Gonad  14.0    male       FCA                K   \n",
       "FCA_GND9332062        F122    Gonad  15.0    male       FCA                L   \n",
       "FCA_GND9332064        F123    Gonad   6.0  female       FCA                L   \n",
       "FCA_GND9332065        F123    Gonad   6.0  female       FCA                L   \n",
       "FCA_GND9332061       Hrv34    Gonad  16.0  female       FCA                L   \n",
       "HD_F_GON9460406      Hrv37    Gonad  10.0  female       FCA                M   \n",
       "HD_F_GON9460407      Hrv37    Gonad  10.0  female       FCA                M   \n",
       "HD_F_GON9460408      Hrv41    Gonad   8.6    male       FCA                M   \n",
       "HD_F_GON9480063      Hrv49    Gonad  13.0  female       FCA                N   \n",
       "HD_F_GON9480064      Hrv49    Gonad  13.0  female       FCA                N   \n",
       "HD_F_GON9480066      Hrv47    Gonad   8.6  female       FCA                N   \n",
       "HD_F_GON9479968       F126    Gonad   9.0  female       FCA                N   \n",
       "HD_F_GON9479969      Hrv39    Gonad  14.0  female       FCA                N   \n",
       "HD_F_GON9479970      Hrv40    Gonad  15.0    male       FCA                N   \n",
       "HD_F_GON9699334      Hrv58    Gonad  21.0  female       FCA                O   \n",
       "HD_F_GON9699332      Hrv58    Gonad  21.0  female       FCA                O   \n",
       "HD_F_GON9699337      Hrv59    Gonad  18.0  female       FCA                O   \n",
       "HD_F_GON9883867      Hrv58    Gonad  21.0  female       FCA                O   \n",
       "HD_F_GON9883866      Hrv59    Gonad  18.0  female       FCA                O   \n",
       "HD_F_GON9883862       F133    Gonad  17.0  female       FCA                O   \n",
       "HD_F_GON9883863       F133    Gonad  17.0  female       FCA                O   \n",
       "HD_F_GON9883859      Hrv55    Gonad  17.0    male  FCA_test                O   \n",
       "HD_F_GON9883868      Hrv54    Gonad  21.0    male  FCA_test                O   \n",
       "\n",
       "                process cryopreserved   TP  5v1.1  \n",
       "sample                                             \n",
       "FCA_GND8047885    CD45-            No    U  5v1.1  \n",
       "FCA_GND8125923    CD45-            No    U  5v1.1  \n",
       "FCA_GND8125925    CD45-            No    U  5v1.1  \n",
       "FCA_GND8103050    CD45-            No    U  5v1.1  \n",
       "FCA_GND8103053    CD45-            No    U  5v1.1  \n",
       "FCA_GND8622625    total            No    U  5v1.1  \n",
       "FCA_GND8622626    total            No    U  5v1.1  \n",
       "FCA_GND8622628    CD45-            No    U  5v1.1  \n",
       "FCA_GND8715408    CD45-            No  Med  5v1.1  \n",
       "FCA_GND8289580    CD45-            No    U  5v1.1  \n",
       "FCA_GND8622630    CD45-            No    U  5v1.1  \n",
       "FCA_GND8715519    total            No  Med  5v1.1  \n",
       "FCA_GND8784460    CD45-            No  Med  5v1.1  \n",
       "FCA_GND8784458    total            No  Med  5v1.1  \n",
       "FCA_GND8810844    total            No  Med  5v1.1  \n",
       "FCA_GND8810845    total            No  Sur  5v1.1  \n",
       "FCA_GND8810848    total            No  Med  5v1.1  \n",
       "FCA_GND8810846    total            No  Med  5v1.1  \n",
       "FCA_GND8810850    total            No  Med  5v1.1  \n",
       "FCA_GND8810851    total            No  Med  5v1.1  \n",
       "FCA_GND8810852    total            No  Med  5v1.1  \n",
       "FCA_GND9331965    total            No  Sur  5v1.1  \n",
       "FCA_GND9331966    total            No  Sur  5v1.1  \n",
       "FCA_GND9331967    total            No  Sur  5v1.1  \n",
       "FCA_GND9331968    total            No  Sur  5v1.1  \n",
       "FCA_GND9331969    total           Yes  Sur  5v1.1  \n",
       "FCA_GND9331970    total           Yes  Sur  5v1.1  \n",
       "FCA_GND9295208    total            No    U  5v1.1  \n",
       "FCA_GND9295209    total            No    U  5v1.1  \n",
       "FCA_GND9295210    total            No  Sur  5v1.1  \n",
       "FCA_GND9295212    total            No  Sur  5v1.1  \n",
       "FCA_GND9332062    total            No  Med  5v1.1  \n",
       "FCA_GND9332064    total            No  Med  5v1.1  \n",
       "FCA_GND9332065    total            No  Med  5v1.1  \n",
       "FCA_GND9332061    total            No    U  5v1.1  \n",
       "HD_F_GON9460406   total            No  Sur  5v1.1  \n",
       "HD_F_GON9460407   total            No  Sur  5v1.1  \n",
       "HD_F_GON9460408   total           Yes    U  5v1.1  \n",
       "HD_F_GON9480063   total            No  Sur  5v1.1  \n",
       "HD_F_GON9480064   total            No  Sur  5v1.1  \n",
       "HD_F_GON9480066   total           Yes  Sur  5v1.1  \n",
       "HD_F_GON9479968   total            No  Sur  5v1.1  \n",
       "HD_F_GON9479969   total           Yes  Sur  5v1.1  \n",
       "HD_F_GON9479970   total            No  Sur  5v1.1  \n",
       "HD_F_GON9699334   total            No  Sur  5DUAL  \n",
       "HD_F_GON9699332   total            No  Sur  5DUAL  \n",
       "HD_F_GON9699337   total            No  Sur  5DUAL  \n",
       "HD_F_GON9883867   total            No  Sur  5v1.0  \n",
       "HD_F_GON9883866   total            No  Sur  5v1.0  \n",
       "HD_F_GON9883862   total            No  Sur  5v1.1  \n",
       "HD_F_GON9883863   total            No  Sur  5v1.1  \n",
       "HD_F_GON9883859   total            No  Sur  5v1.0  \n",
       "HD_F_GON9883868   total            No  Sur  5v1.0  "
      ]
     },
     "execution_count": 3,
     "metadata": {},
     "output_type": "execute_result"
    }
   ],
   "source": [
    "meta"
   ]
  },
  {
   "cell_type": "markdown",
   "metadata": {},
   "source": [
    "## Preprocessing\n",
    "### Load 10x \n",
    "\n",
    "Filter: 1) cells (< 10 genes); 2) genes (< 3 cells) \n",
    "\n",
    "Quantify: 1) % mitochondrial genes; 2) total counts\n"
   ]
  },
  {
   "cell_type": "code",
   "execution_count": 4,
   "metadata": {},
   "outputs": [
    {
     "name": "stdout",
     "output_type": "stream",
     "text": [
      "FCA_GND8047885\n",
      "... reading from cache file cache/nfs-users-nfs_l-lg18-team292-lg18-gonads-data-scRNAseq-FCA-rawdata-FCA_GND8047885-filtered_feature_bc_matrix-matrix.h5ad\n"
     ]
    },
    {
     "name": "stderr",
     "output_type": "stream",
     "text": [
      "/home/jovyan/my-conda-envs/anndata06/lib/python3.9/site-packages/anndata/core/anndata.py:1237: FutureWarning: is_categorical is deprecated and will be removed in a future version.  Use is_categorical_dtype instead\n",
      "  if is_categorical(df_full[k]):\n"
     ]
    },
    {
     "name": "stdout",
     "output_type": "stream",
     "text": [
      "filtered out 13510 genes that are detectedin less than 3 cells\n"
     ]
    },
    {
     "name": "stderr",
     "output_type": "stream",
     "text": [
      "Trying to set attribute `.var` of view, making a copy.\n"
     ]
    },
    {
     "name": "stdout",
     "output_type": "stream",
     "text": [
      "filtered out 15 cells that haveless than 150 genes expressed\n",
      "Total number of cells: 9227\n",
      "Total number of genes: 20028\n",
      "FCA_GND8125923\n",
      "... reading from cache file cache/nfs-users-nfs_l-lg18-team292-lg18-gonads-data-scRNAseq-FCA-rawdata-FCA_GND8125923-filtered_feature_bc_matrix-matrix.h5ad\n",
      "filtered out 12810 genes that are detectedin less than 3 cells\n"
     ]
    },
    {
     "name": "stderr",
     "output_type": "stream",
     "text": [
      "Trying to set attribute `.var` of view, making a copy.\n"
     ]
    },
    {
     "name": "stdout",
     "output_type": "stream",
     "text": [
      "filtered out 66 cells that haveless than 150 genes expressed\n",
      "Total number of cells: 4147\n",
      "Total number of genes: 20728\n",
      "FCA_GND8125925\n",
      "... reading from cache file cache/nfs-users-nfs_l-lg18-team292-lg18-gonads-data-scRNAseq-FCA-rawdata-FCA_GND8125925-filtered_feature_bc_matrix-matrix.h5ad\n",
      "filtered out 14764 genes that are detectedin less than 3 cells\n"
     ]
    },
    {
     "name": "stderr",
     "output_type": "stream",
     "text": [
      "Trying to set attribute `.var` of view, making a copy.\n"
     ]
    },
    {
     "name": "stdout",
     "output_type": "stream",
     "text": [
      "filtered out 136 cells that haveless than 150 genes expressed\n",
      "Total number of cells: 3093\n",
      "Total number of genes: 18774\n",
      "FCA_GND8103050\n",
      "... reading from cache file cache/nfs-users-nfs_l-lg18-team292-lg18-gonads-data-scRNAseq-FCA-rawdata-FCA_GND8103050-filtered_feature_bc_matrix-matrix.h5ad\n",
      "filtered out 12350 genes that are detectedin less than 3 cells\n"
     ]
    },
    {
     "name": "stderr",
     "output_type": "stream",
     "text": [
      "Trying to set attribute `.var` of view, making a copy.\n"
     ]
    },
    {
     "name": "stdout",
     "output_type": "stream",
     "text": [
      "filtered out 18 cells that haveless than 150 genes expressed\n",
      "Total number of cells: 11516\n",
      "Total number of genes: 21188\n",
      "FCA_GND8103053\n",
      "... reading from cache file cache/nfs-users-nfs_l-lg18-team292-lg18-gonads-data-scRNAseq-FCA-rawdata-FCA_GND8103053-filtered_feature_bc_matrix-matrix.h5ad\n",
      "filtered out 15821 genes that are detectedin less than 3 cells\n"
     ]
    },
    {
     "name": "stderr",
     "output_type": "stream",
     "text": [
      "Trying to set attribute `.var` of view, making a copy.\n"
     ]
    },
    {
     "name": "stdout",
     "output_type": "stream",
     "text": [
      "filtered out 9 cells that haveless than 150 genes expressed\n",
      "Total number of cells: 3472\n",
      "Total number of genes: 17717\n",
      "FCA_GND8622625\n",
      "... reading from cache file cache/nfs-users-nfs_l-lg18-team292-lg18-gonads-data-scRNAseq-FCA-rawdata-FCA_GND8622625-filtered_feature_bc_matrix-matrix.h5ad\n",
      "filtered out 16461 genes that are detectedin less than 3 cells\n"
     ]
    },
    {
     "name": "stderr",
     "output_type": "stream",
     "text": [
      "Trying to set attribute `.var` of view, making a copy.\n"
     ]
    },
    {
     "name": "stdout",
     "output_type": "stream",
     "text": [
      "filtered out 35 cells that haveless than 150 genes expressed\n",
      "Total number of cells: 1157\n",
      "Total number of genes: 17077\n",
      "FCA_GND8622626\n",
      "... reading from cache file cache/nfs-users-nfs_l-lg18-team292-lg18-gonads-data-scRNAseq-FCA-rawdata-FCA_GND8622626-filtered_feature_bc_matrix-matrix.h5ad\n",
      "filtered out 16577 genes that are detectedin less than 3 cells\n"
     ]
    },
    {
     "name": "stderr",
     "output_type": "stream",
     "text": [
      "Trying to set attribute `.var` of view, making a copy.\n"
     ]
    },
    {
     "name": "stdout",
     "output_type": "stream",
     "text": [
      "filtered out 25 cells that haveless than 150 genes expressed\n",
      "Total number of cells: 1056\n",
      "Total number of genes: 16961\n",
      "FCA_GND8622628\n",
      "... reading from cache file cache/nfs-users-nfs_l-lg18-team292-lg18-gonads-data-scRNAseq-FCA-rawdata-FCA_GND8622628-filtered_feature_bc_matrix-matrix.h5ad\n",
      "filtered out 12668 genes that are detectedin less than 3 cells\n"
     ]
    },
    {
     "name": "stderr",
     "output_type": "stream",
     "text": [
      "Trying to set attribute `.var` of view, making a copy.\n"
     ]
    },
    {
     "name": "stdout",
     "output_type": "stream",
     "text": [
      "filtered out 126 cells that haveless than 150 genes expressed\n",
      "Total number of cells: 5227\n",
      "Total number of genes: 20870\n",
      "FCA_GND8715408\n",
      "... reading from cache file cache/nfs-users-nfs_l-lg18-team292-lg18-gonads-data-scRNAseq-FCA-rawdata-FCA_GND8715408-filtered_feature_bc_matrix-matrix.h5ad\n",
      "filtered out 15403 genes that are detectedin less than 3 cells\n"
     ]
    },
    {
     "name": "stderr",
     "output_type": "stream",
     "text": [
      "Trying to set attribute `.var` of view, making a copy.\n"
     ]
    },
    {
     "name": "stdout",
     "output_type": "stream",
     "text": [
      "filtered out 489 cells that haveless than 150 genes expressed\n",
      "Total number of cells: 2890\n",
      "Total number of genes: 18135\n",
      "FCA_GND8289580\n",
      "... reading from cache file cache/nfs-users-nfs_l-lg18-team292-lg18-gonads-data-scRNAseq-FCA-rawdata-FCA_GND8289580-filtered_feature_bc_matrix-matrix.h5ad\n",
      "filtered out 13595 genes that are detectedin less than 3 cells\n"
     ]
    },
    {
     "name": "stderr",
     "output_type": "stream",
     "text": [
      "Trying to set attribute `.var` of view, making a copy.\n"
     ]
    },
    {
     "name": "stdout",
     "output_type": "stream",
     "text": [
      "filtered out 80 cells that haveless than 150 genes expressed\n",
      "Total number of cells: 10833\n",
      "Total number of genes: 19943\n",
      "FCA_GND8622630\n",
      "... reading from cache file cache/nfs-users-nfs_l-lg18-team292-lg18-gonads-data-scRNAseq-FCA-rawdata-FCA_GND8622630-filtered_feature_bc_matrix-matrix.h5ad\n",
      "filtered out 21362 genes that are detectedin less than 3 cells\n"
     ]
    },
    {
     "name": "stderr",
     "output_type": "stream",
     "text": [
      "Trying to set attribute `.var` of view, making a copy.\n"
     ]
    },
    {
     "name": "stdout",
     "output_type": "stream",
     "text": [
      "Total number of cells: 100\n",
      "Total number of genes: 12176\n",
      "FCA_GND8715519\n",
      "... reading from cache file cache/nfs-users-nfs_l-lg18-team292-lg18-gonads-data-scRNAseq-FCA-rawdata-FCA_GND8715519-filtered_feature_bc_matrix-matrix.h5ad\n",
      "filtered out 11260 genes that are detectedin less than 3 cells\n"
     ]
    },
    {
     "name": "stderr",
     "output_type": "stream",
     "text": [
      "Trying to set attribute `.var` of view, making a copy.\n"
     ]
    },
    {
     "name": "stdout",
     "output_type": "stream",
     "text": [
      "filtered out 15 cells that haveless than 150 genes expressed\n",
      "Total number of cells: 5825\n",
      "Total number of genes: 22278\n",
      "FCA_GND8784460\n",
      "... reading from cache file cache/nfs-users-nfs_l-lg18-team292-lg18-gonads-data-scRNAseq-FCA-rawdata-FCA_GND8784460-filtered_feature_bc_matrix-matrix.h5ad\n",
      "filtered out 12539 genes that are detectedin less than 3 cells\n"
     ]
    },
    {
     "name": "stderr",
     "output_type": "stream",
     "text": [
      "Trying to set attribute `.var` of view, making a copy.\n"
     ]
    },
    {
     "name": "stdout",
     "output_type": "stream",
     "text": [
      "filtered out 41 cells that haveless than 150 genes expressed\n",
      "Total number of cells: 6965\n",
      "Total number of genes: 20999\n",
      "FCA_GND8784458\n",
      "... reading from cache file cache/nfs-users-nfs_l-lg18-team292-lg18-gonads-data-scRNAseq-FCA-rawdata-FCA_GND8784458-filtered_feature_bc_matrix-matrix.h5ad\n",
      "filtered out 12483 genes that are detectedin less than 3 cells\n"
     ]
    },
    {
     "name": "stderr",
     "output_type": "stream",
     "text": [
      "Trying to set attribute `.var` of view, making a copy.\n"
     ]
    },
    {
     "name": "stdout",
     "output_type": "stream",
     "text": [
      "Total number of cells: 8703\n",
      "Total number of genes: 21055\n",
      "FCA_GND8810844\n",
      "... reading from cache file cache/nfs-users-nfs_l-lg18-team292-lg18-gonads-data-scRNAseq-FCA-rawdata-FCA_GND8810844-filtered_feature_bc_matrix-matrix.h5ad\n",
      "filtered out 13828 genes that are detectedin less than 3 cells\n"
     ]
    },
    {
     "name": "stderr",
     "output_type": "stream",
     "text": [
      "Trying to set attribute `.var` of view, making a copy.\n"
     ]
    },
    {
     "name": "stdout",
     "output_type": "stream",
     "text": [
      "filtered out 31 cells that haveless than 150 genes expressed\n",
      "Total number of cells: 3024\n",
      "Total number of genes: 19710\n",
      "FCA_GND8810845\n",
      "... reading from cache file cache/nfs-users-nfs_l-lg18-team292-lg18-gonads-data-scRNAseq-FCA-rawdata-FCA_GND8810845-filtered_feature_bc_matrix-matrix.h5ad\n",
      "filtered out 16301 genes that are detectedin less than 3 cells\n"
     ]
    },
    {
     "name": "stderr",
     "output_type": "stream",
     "text": [
      "Trying to set attribute `.var` of view, making a copy.\n"
     ]
    },
    {
     "name": "stdout",
     "output_type": "stream",
     "text": [
      "filtered out 3 cells that haveless than 150 genes expressed\n",
      "Total number of cells: 1761\n",
      "Total number of genes: 17237\n",
      "FCA_GND8810848\n",
      "... reading from cache file cache/nfs-users-nfs_l-lg18-team292-lg18-gonads-data-scRNAseq-FCA-rawdata-FCA_GND8810848-filtered_feature_bc_matrix-matrix.h5ad\n",
      "filtered out 13848 genes that are detectedin less than 3 cells\n"
     ]
    },
    {
     "name": "stderr",
     "output_type": "stream",
     "text": [
      "Trying to set attribute `.var` of view, making a copy.\n"
     ]
    },
    {
     "name": "stdout",
     "output_type": "stream",
     "text": [
      "filtered out 17 cells that haveless than 150 genes expressed\n",
      "Total number of cells: 2733\n",
      "Total number of genes: 19690\n",
      "FCA_GND8810846\n",
      "... reading from cache file cache/nfs-users-nfs_l-lg18-team292-lg18-gonads-data-scRNAseq-FCA-rawdata-FCA_GND8810846-filtered_feature_bc_matrix-matrix.h5ad\n",
      "filtered out 15905 genes that are detectedin less than 3 cells\n"
     ]
    },
    {
     "name": "stderr",
     "output_type": "stream",
     "text": [
      "Trying to set attribute `.var` of view, making a copy.\n"
     ]
    },
    {
     "name": "stdout",
     "output_type": "stream",
     "text": [
      "filtered out 243 cells that haveless than 150 genes expressed\n",
      "Total number of cells: 1988\n",
      "Total number of genes: 17633\n",
      "FCA_GND8810850\n",
      "... reading from cache file cache/nfs-users-nfs_l-lg18-team292-lg18-gonads-data-scRNAseq-FCA-rawdata-FCA_GND8810850-filtered_feature_bc_matrix-matrix.h5ad\n",
      "filtered out 16261 genes that are detectedin less than 3 cells\n"
     ]
    },
    {
     "name": "stderr",
     "output_type": "stream",
     "text": [
      "Trying to set attribute `.var` of view, making a copy.\n"
     ]
    },
    {
     "name": "stdout",
     "output_type": "stream",
     "text": [
      "filtered out 5 cells that haveless than 150 genes expressed\n",
      "Total number of cells: 2197\n",
      "Total number of genes: 17277\n",
      "FCA_GND8810851\n",
      "... reading from cache file cache/nfs-users-nfs_l-lg18-team292-lg18-gonads-data-scRNAseq-FCA-rawdata-FCA_GND8810851-filtered_feature_bc_matrix-matrix.h5ad\n",
      "filtered out 11461 genes that are detectedin less than 3 cells\n"
     ]
    },
    {
     "name": "stderr",
     "output_type": "stream",
     "text": [
      "Trying to set attribute `.var` of view, making a copy.\n"
     ]
    },
    {
     "name": "stdout",
     "output_type": "stream",
     "text": [
      "filtered out 6 cells that haveless than 150 genes expressed\n",
      "Total number of cells: 11159\n",
      "Total number of genes: 22077\n",
      "FCA_GND8810852\n",
      "... reading from cache file cache/nfs-users-nfs_l-lg18-team292-lg18-gonads-data-scRNAseq-FCA-rawdata-FCA_GND8810852-filtered_feature_bc_matrix-matrix.h5ad\n",
      "filtered out 13797 genes that are detectedin less than 3 cells\n"
     ]
    },
    {
     "name": "stderr",
     "output_type": "stream",
     "text": [
      "Trying to set attribute `.var` of view, making a copy.\n"
     ]
    },
    {
     "name": "stdout",
     "output_type": "stream",
     "text": [
      "filtered out 31 cells that haveless than 150 genes expressed\n",
      "Total number of cells: 5265\n",
      "Total number of genes: 19741\n",
      "FCA_GND9331965\n",
      "... reading from cache file cache/nfs-users-nfs_l-lg18-team292-lg18-gonads-data-scRNAseq-FCA-rawdata-FCA_GND9331965-filtered_feature_bc_matrix-matrix.h5ad\n",
      "filtered out 11304 genes that are detectedin less than 3 cells\n"
     ]
    },
    {
     "name": "stderr",
     "output_type": "stream",
     "text": [
      "Trying to set attribute `.var` of view, making a copy.\n"
     ]
    },
    {
     "name": "stdout",
     "output_type": "stream",
     "text": [
      "filtered out 46 cells that haveless than 150 genes expressed\n",
      "Total number of cells: 10326\n",
      "Total number of genes: 22234\n",
      "FCA_GND9331966\n",
      "... reading from cache file cache/nfs-users-nfs_l-lg18-team292-lg18-gonads-data-scRNAseq-FCA-rawdata-FCA_GND9331966-filtered_feature_bc_matrix-matrix.h5ad\n",
      "filtered out 11973 genes that are detectedin less than 3 cells\n"
     ]
    },
    {
     "name": "stderr",
     "output_type": "stream",
     "text": [
      "Trying to set attribute `.var` of view, making a copy.\n"
     ]
    },
    {
     "name": "stdout",
     "output_type": "stream",
     "text": [
      "filtered out 47 cells that haveless than 150 genes expressed\n",
      "Total number of cells: 27637\n",
      "Total number of genes: 21565\n",
      "FCA_GND9331967\n",
      "... reading from cache file cache/nfs-users-nfs_l-lg18-team292-lg18-gonads-data-scRNAseq-FCA-rawdata-FCA_GND9331967-filtered_feature_bc_matrix-matrix.h5ad\n",
      "filtered out 12509 genes that are detectedin less than 3 cells\n"
     ]
    },
    {
     "name": "stderr",
     "output_type": "stream",
     "text": [
      "Trying to set attribute `.var` of view, making a copy.\n"
     ]
    },
    {
     "name": "stdout",
     "output_type": "stream",
     "text": [
      "filtered out 1 cells that haveless than 150 genes expressed\n",
      "Total number of cells: 14345\n",
      "Total number of genes: 21029\n",
      "FCA_GND9331968\n",
      "... reading from cache file cache/nfs-users-nfs_l-lg18-team292-lg18-gonads-data-scRNAseq-FCA-rawdata-FCA_GND9331968-filtered_feature_bc_matrix-matrix.h5ad\n",
      "filtered out 11962 genes that are detectedin less than 3 cells\n"
     ]
    },
    {
     "name": "stderr",
     "output_type": "stream",
     "text": [
      "Trying to set attribute `.var` of view, making a copy.\n"
     ]
    },
    {
     "name": "stdout",
     "output_type": "stream",
     "text": [
      "filtered out 24 cells that haveless than 150 genes expressed\n",
      "Total number of cells: 11138\n",
      "Total number of genes: 21576\n",
      "FCA_GND9331969\n",
      "... reading from cache file cache/nfs-users-nfs_l-lg18-team292-lg18-gonads-data-scRNAseq-FCA-rawdata-FCA_GND9331969-filtered_feature_bc_matrix-matrix.h5ad\n",
      "filtered out 16481 genes that are detectedin less than 3 cells\n"
     ]
    },
    {
     "name": "stderr",
     "output_type": "stream",
     "text": [
      "Trying to set attribute `.var` of view, making a copy.\n"
     ]
    },
    {
     "name": "stdout",
     "output_type": "stream",
     "text": [
      "filtered out 1 cells that haveless than 150 genes expressed\n",
      "Total number of cells: 869\n",
      "Total number of genes: 17057\n",
      "FCA_GND9331970\n",
      "... reading from cache file cache/nfs-users-nfs_l-lg18-team292-lg18-gonads-data-scRNAseq-FCA-rawdata-FCA_GND9331970-filtered_feature_bc_matrix-matrix.h5ad\n",
      "filtered out 13196 genes that are detectedin less than 3 cells\n"
     ]
    },
    {
     "name": "stderr",
     "output_type": "stream",
     "text": [
      "Trying to set attribute `.var` of view, making a copy.\n"
     ]
    },
    {
     "name": "stdout",
     "output_type": "stream",
     "text": [
      "filtered out 1 cells that haveless than 150 genes expressed\n",
      "Total number of cells: 12288\n",
      "Total number of genes: 20342\n",
      "FCA_GND9295208\n",
      "... reading from cache file cache/nfs-users-nfs_l-lg18-team292-lg18-gonads-data-scRNAseq-FCA-rawdata-FCA_GND9295208-filtered_feature_bc_matrix-matrix.h5ad\n",
      "filtered out 16020 genes that are detectedin less than 3 cells\n"
     ]
    },
    {
     "name": "stderr",
     "output_type": "stream",
     "text": [
      "Trying to set attribute `.var` of view, making a copy.\n"
     ]
    },
    {
     "name": "stdout",
     "output_type": "stream",
     "text": [
      "filtered out 43 cells that haveless than 150 genes expressed\n",
      "Total number of cells: 1527\n",
      "Total number of genes: 17518\n",
      "FCA_GND9295209\n",
      "... reading from cache file cache/nfs-users-nfs_l-lg18-team292-lg18-gonads-data-scRNAseq-FCA-rawdata-FCA_GND9295209-filtered_feature_bc_matrix-matrix.h5ad\n",
      "filtered out 15625 genes that are detectedin less than 3 cells\n"
     ]
    },
    {
     "name": "stderr",
     "output_type": "stream",
     "text": [
      "Trying to set attribute `.var` of view, making a copy.\n"
     ]
    },
    {
     "name": "stdout",
     "output_type": "stream",
     "text": [
      "filtered out 45 cells that haveless than 150 genes expressed\n",
      "Total number of cells: 1754\n",
      "Total number of genes: 17913\n",
      "FCA_GND9295210\n",
      "... reading from cache file cache/nfs-users-nfs_l-lg18-team292-lg18-gonads-data-scRNAseq-FCA-rawdata-FCA_GND9295210-filtered_feature_bc_matrix-matrix.h5ad\n",
      "filtered out 12397 genes that are detectedin less than 3 cells\n"
     ]
    },
    {
     "name": "stderr",
     "output_type": "stream",
     "text": [
      "Trying to set attribute `.var` of view, making a copy.\n"
     ]
    },
    {
     "name": "stdout",
     "output_type": "stream",
     "text": [
      "Total number of cells: 10000\n",
      "Total number of genes: 21141\n",
      "FCA_GND9295212\n",
      "... reading from cache file cache/nfs-users-nfs_l-lg18-team292-lg18-gonads-data-scRNAseq-FCA-rawdata-FCA_GND9295212-filtered_feature_bc_matrix-matrix.h5ad\n",
      "filtered out 12614 genes that are detectedin less than 3 cells\n"
     ]
    },
    {
     "name": "stderr",
     "output_type": "stream",
     "text": [
      "Trying to set attribute `.var` of view, making a copy.\n"
     ]
    },
    {
     "name": "stdout",
     "output_type": "stream",
     "text": [
      "Total number of cells: 10000\n",
      "Total number of genes: 20924\n",
      "FCA_GND9332062\n",
      "... reading from cache file cache/nfs-users-nfs_l-lg18-team292-lg18-gonads-data-scRNAseq-FCA-rawdata-FCA_GND9332062-filtered_feature_bc_matrix-matrix.h5ad\n",
      "filtered out 10683 genes that are detectedin less than 3 cells\n"
     ]
    },
    {
     "name": "stderr",
     "output_type": "stream",
     "text": [
      "Trying to set attribute `.var` of view, making a copy.\n"
     ]
    },
    {
     "name": "stdout",
     "output_type": "stream",
     "text": [
      "filtered out 82 cells that haveless than 150 genes expressed\n",
      "Total number of cells: 21584\n",
      "Total number of genes: 22855\n",
      "FCA_GND9332064\n",
      "... reading from cache file cache/nfs-users-nfs_l-lg18-team292-lg18-gonads-data-scRNAseq-FCA-rawdata-FCA_GND9332064-filtered_feature_bc_matrix-matrix.h5ad\n",
      "filtered out 13879 genes that are detectedin less than 3 cells\n"
     ]
    },
    {
     "name": "stderr",
     "output_type": "stream",
     "text": [
      "Trying to set attribute `.var` of view, making a copy.\n"
     ]
    },
    {
     "name": "stdout",
     "output_type": "stream",
     "text": [
      "filtered out 25 cells that haveless than 150 genes expressed\n",
      "Total number of cells: 1573\n",
      "Total number of genes: 19659\n",
      "FCA_GND9332065\n",
      "... reading from cache file cache/nfs-users-nfs_l-lg18-team292-lg18-gonads-data-scRNAseq-FCA-rawdata-FCA_GND9332065-filtered_feature_bc_matrix-matrix.h5ad\n",
      "filtered out 14663 genes that are detectedin less than 3 cells\n"
     ]
    },
    {
     "name": "stderr",
     "output_type": "stream",
     "text": [
      "Trying to set attribute `.var` of view, making a copy.\n"
     ]
    },
    {
     "name": "stdout",
     "output_type": "stream",
     "text": [
      "filtered out 8 cells that haveless than 150 genes expressed\n",
      "Total number of cells: 2240\n",
      "Total number of genes: 18875\n",
      "FCA_GND9332061\n",
      "... reading from cache file cache/nfs-users-nfs_l-lg18-team292-lg18-gonads-data-scRNAseq-FCA-rawdata-FCA_GND9332061-filtered_feature_bc_matrix-matrix.h5ad\n",
      "filtered out 13213 genes that are detectedin less than 3 cells\n"
     ]
    },
    {
     "name": "stderr",
     "output_type": "stream",
     "text": [
      "Trying to set attribute `.var` of view, making a copy.\n"
     ]
    },
    {
     "name": "stdout",
     "output_type": "stream",
     "text": [
      "filtered out 1 cells that haveless than 150 genes expressed\n",
      "Total number of cells: 10673\n",
      "Total number of genes: 20325\n",
      "HD_F_GON9460406\n",
      "... reading from cache file cache/nfs-users-nfs_l-lg18-team292-lg18-gonads-data-scRNAseq-FCA-rawdata-HD_F_GON9460406-filtered_feature_bc_matrix-matrix.h5ad\n",
      "filtered out 10700 genes that are detectedin less than 3 cells\n"
     ]
    },
    {
     "name": "stderr",
     "output_type": "stream",
     "text": [
      "Trying to set attribute `.var` of view, making a copy.\n"
     ]
    },
    {
     "name": "stdout",
     "output_type": "stream",
     "text": [
      "filtered out 7 cells that haveless than 150 genes expressed\n",
      "Total number of cells: 10941\n",
      "Total number of genes: 22838\n",
      "HD_F_GON9460407\n",
      "... reading from cache file cache/nfs-users-nfs_l-lg18-team292-lg18-gonads-data-scRNAseq-FCA-rawdata-HD_F_GON9460407-filtered_feature_bc_matrix-matrix.h5ad\n",
      "filtered out 10474 genes that are detectedin less than 3 cells\n"
     ]
    },
    {
     "name": "stderr",
     "output_type": "stream",
     "text": [
      "Trying to set attribute `.var` of view, making a copy.\n"
     ]
    },
    {
     "name": "stdout",
     "output_type": "stream",
     "text": [
      "filtered out 4 cells that haveless than 150 genes expressed\n",
      "Total number of cells: 10077\n",
      "Total number of genes: 23064\n",
      "HD_F_GON9460408\n",
      "... reading from cache file cache/nfs-users-nfs_l-lg18-team292-lg18-gonads-data-scRNAseq-FCA-rawdata-HD_F_GON9460408-filtered_feature_bc_matrix-matrix.h5ad\n",
      "filtered out 11077 genes that are detectedin less than 3 cells\n"
     ]
    },
    {
     "name": "stderr",
     "output_type": "stream",
     "text": [
      "Trying to set attribute `.var` of view, making a copy.\n"
     ]
    },
    {
     "name": "stdout",
     "output_type": "stream",
     "text": [
      "filtered out 63 cells that haveless than 150 genes expressed\n",
      "Total number of cells: 10739\n",
      "Total number of genes: 22461\n",
      "HD_F_GON9480063\n",
      "... reading from cache file cache/nfs-users-nfs_l-lg18-team292-lg18-gonads-data-scRNAseq-FCA-rawdata-HD_F_GON9480063-filtered_feature_bc_matrix-matrix.h5ad\n",
      "filtered out 10778 genes that are detectedin less than 3 cells\n"
     ]
    },
    {
     "name": "stderr",
     "output_type": "stream",
     "text": [
      "Trying to set attribute `.var` of view, making a copy.\n"
     ]
    },
    {
     "name": "stdout",
     "output_type": "stream",
     "text": [
      "filtered out 3 cells that haveless than 150 genes expressed\n",
      "Total number of cells: 8631\n",
      "Total number of genes: 22760\n",
      "HD_F_GON9480064\n",
      "... reading from cache file cache/nfs-users-nfs_l-lg18-team292-lg18-gonads-data-scRNAseq-FCA-rawdata-HD_F_GON9480064-filtered_feature_bc_matrix-matrix.h5ad\n",
      "filtered out 10808 genes that are detectedin less than 3 cells\n"
     ]
    },
    {
     "name": "stderr",
     "output_type": "stream",
     "text": [
      "Trying to set attribute `.var` of view, making a copy.\n"
     ]
    },
    {
     "name": "stdout",
     "output_type": "stream",
     "text": [
      "filtered out 1 cells that haveless than 150 genes expressed\n",
      "Total number of cells: 8374\n",
      "Total number of genes: 22730\n",
      "HD_F_GON9480066\n",
      "... reading from cache file cache/nfs-users-nfs_l-lg18-team292-lg18-gonads-data-scRNAseq-FCA-rawdata-HD_F_GON9480066-filtered_feature_bc_matrix-matrix.h5ad\n",
      "filtered out 12824 genes that are detectedin less than 3 cells\n"
     ]
    },
    {
     "name": "stderr",
     "output_type": "stream",
     "text": [
      "Trying to set attribute `.var` of view, making a copy.\n"
     ]
    },
    {
     "name": "stdout",
     "output_type": "stream",
     "text": [
      "filtered out 1 cells that haveless than 150 genes expressed\n",
      "Total number of cells: 5971\n",
      "Total number of genes: 20714\n",
      "HD_F_GON9479968\n",
      "... reading from cache file cache/nfs-users-nfs_l-lg18-team292-lg18-gonads-data-scRNAseq-FCA-rawdata-HD_F_GON9479968-filtered_feature_bc_matrix-matrix.h5ad\n",
      "filtered out 14206 genes that are detectedin less than 3 cells\n"
     ]
    },
    {
     "name": "stderr",
     "output_type": "stream",
     "text": [
      "Trying to set attribute `.var` of view, making a copy.\n"
     ]
    },
    {
     "name": "stdout",
     "output_type": "stream",
     "text": [
      "filtered out 15 cells that haveless than 150 genes expressed\n",
      "Total number of cells: 1538\n",
      "Total number of genes: 19332\n",
      "HD_F_GON9479969\n",
      "... reading from cache file cache/nfs-users-nfs_l-lg18-team292-lg18-gonads-data-scRNAseq-FCA-rawdata-HD_F_GON9479969-filtered_feature_bc_matrix-matrix.h5ad\n",
      "filtered out 12506 genes that are detectedin less than 3 cells\n"
     ]
    },
    {
     "name": "stderr",
     "output_type": "stream",
     "text": [
      "Trying to set attribute `.var` of view, making a copy.\n"
     ]
    },
    {
     "name": "stdout",
     "output_type": "stream",
     "text": [
      "filtered out 286 cells that haveless than 150 genes expressed\n",
      "Total number of cells: 4714\n",
      "Total number of genes: 21032\n",
      "HD_F_GON9479970\n",
      "... reading from cache file cache/nfs-users-nfs_l-lg18-team292-lg18-gonads-data-scRNAseq-FCA-rawdata-HD_F_GON9479970-filtered_feature_bc_matrix-matrix.h5ad\n",
      "filtered out 13048 genes that are detectedin less than 3 cells\n"
     ]
    },
    {
     "name": "stderr",
     "output_type": "stream",
     "text": [
      "Trying to set attribute `.var` of view, making a copy.\n"
     ]
    },
    {
     "name": "stdout",
     "output_type": "stream",
     "text": [
      "filtered out 7 cells that haveless than 150 genes expressed\n",
      "Total number of cells: 6280\n",
      "Total number of genes: 20490\n",
      "HD_F_GON9699334\n",
      "... reading from cache file cache/nfs-users-nfs_l-lg18-team292-lg18-gonads-data-scRNAseq-FCA-rawdata-HD_F_GON9699334-filtered_feature_bc_matrix-matrix.h5ad\n",
      "filtered out 9271 genes that are detectedin less than 3 cells\n"
     ]
    },
    {
     "name": "stderr",
     "output_type": "stream",
     "text": [
      "Trying to set attribute `.var` of view, making a copy.\n"
     ]
    },
    {
     "name": "stdout",
     "output_type": "stream",
     "text": [
      "filtered out 55 cells that haveless than 150 genes expressed\n",
      "Total number of cells: 8792\n",
      "Total number of genes: 24267\n",
      "HD_F_GON9699332\n",
      "... reading from cache file cache/nfs-users-nfs_l-lg18-team292-lg18-gonads-data-scRNAseq-FCA-rawdata-HD_F_GON9699332-filtered_feature_bc_matrix-matrix.h5ad\n",
      "filtered out 9818 genes that are detectedin less than 3 cells\n"
     ]
    },
    {
     "name": "stderr",
     "output_type": "stream",
     "text": [
      "Trying to set attribute `.var` of view, making a copy.\n"
     ]
    },
    {
     "name": "stdout",
     "output_type": "stream",
     "text": [
      "filtered out 40 cells that haveless than 150 genes expressed\n",
      "Total number of cells: 8192\n",
      "Total number of genes: 23720\n",
      "HD_F_GON9699337\n",
      "... reading from cache file cache/nfs-users-nfs_l-lg18-team292-lg18-gonads-data-scRNAseq-FCA-rawdata-HD_F_GON9699337-filtered_feature_bc_matrix-matrix.h5ad\n",
      "filtered out 11816 genes that are detectedin less than 3 cells\n"
     ]
    },
    {
     "name": "stderr",
     "output_type": "stream",
     "text": [
      "Trying to set attribute `.var` of view, making a copy.\n"
     ]
    },
    {
     "name": "stdout",
     "output_type": "stream",
     "text": [
      "filtered out 58 cells that haveless than 150 genes expressed\n",
      "Total number of cells: 2029\n",
      "Total number of genes: 21722\n",
      "HD_F_GON9883867\n",
      "... reading from cache file cache/nfs-users-nfs_l-lg18-team292-lg18-gonads-data-scRNAseq-FCA-rawdata-HD_F_GON9883867-filtered_feature_bc_matrix-matrix.h5ad\n",
      "filtered out 11305 genes that are detectedin less than 3 cells\n"
     ]
    },
    {
     "name": "stderr",
     "output_type": "stream",
     "text": [
      "Trying to set attribute `.var` of view, making a copy.\n"
     ]
    },
    {
     "name": "stdout",
     "output_type": "stream",
     "text": [
      "filtered out 46 cells that haveless than 150 genes expressed\n",
      "Total number of cells: 7598\n",
      "Total number of genes: 22233\n",
      "HD_F_GON9883866\n",
      "... reading from cache file cache/nfs-users-nfs_l-lg18-team292-lg18-gonads-data-scRNAseq-FCA-rawdata-HD_F_GON9883866-filtered_feature_bc_matrix-matrix.h5ad\n",
      "filtered out 13964 genes that are detectedin less than 3 cells\n"
     ]
    },
    {
     "name": "stderr",
     "output_type": "stream",
     "text": [
      "Trying to set attribute `.var` of view, making a copy.\n"
     ]
    },
    {
     "name": "stdout",
     "output_type": "stream",
     "text": [
      "filtered out 10 cells that haveless than 150 genes expressed\n",
      "Total number of cells: 2007\n",
      "Total number of genes: 19574\n",
      "HD_F_GON9883862\n",
      "... reading from cache file cache/nfs-users-nfs_l-lg18-team292-lg18-gonads-data-scRNAseq-FCA-rawdata-HD_F_GON9883862-filtered_feature_bc_matrix-matrix.h5ad\n",
      "filtered out 10134 genes that are detectedin less than 3 cells\n"
     ]
    },
    {
     "name": "stderr",
     "output_type": "stream",
     "text": [
      "Trying to set attribute `.var` of view, making a copy.\n"
     ]
    },
    {
     "name": "stdout",
     "output_type": "stream",
     "text": [
      "filtered out 35 cells that haveless than 150 genes expressed\n",
      "Total number of cells: 7562\n",
      "Total number of genes: 23404\n",
      "HD_F_GON9883863\n",
      "... reading from cache file cache/nfs-users-nfs_l-lg18-team292-lg18-gonads-data-scRNAseq-FCA-rawdata-HD_F_GON9883863-filtered_feature_bc_matrix-matrix.h5ad\n",
      "filtered out 9946 genes that are detectedin less than 3 cells\n"
     ]
    },
    {
     "name": "stderr",
     "output_type": "stream",
     "text": [
      "Trying to set attribute `.var` of view, making a copy.\n"
     ]
    },
    {
     "name": "stdout",
     "output_type": "stream",
     "text": [
      "filtered out 49 cells that haveless than 150 genes expressed\n",
      "Total number of cells: 8046\n",
      "Total number of genes: 23592\n",
      "HD_F_GON9883859\n",
      "... reading from cache file cache/nfs-users-nfs_l-lg18-team292-lg18-gonads-data-scRNAseq-FCA-rawdata-HD_F_GON9883859-filtered_feature_bc_matrix-matrix.h5ad\n",
      "filtered out 14469 genes that are detectedin less than 3 cells\n"
     ]
    },
    {
     "name": "stderr",
     "output_type": "stream",
     "text": [
      "Trying to set attribute `.var` of view, making a copy.\n"
     ]
    },
    {
     "name": "stdout",
     "output_type": "stream",
     "text": [
      "filtered out 67 cells that haveless than 150 genes expressed\n",
      "Total number of cells: 4562\n",
      "Total number of genes: 19069\n",
      "HD_F_GON9883868\n",
      "... reading from cache file cache/nfs-users-nfs_l-lg18-team292-lg18-gonads-data-scRNAseq-FCA-rawdata-HD_F_GON9883868-filtered_feature_bc_matrix-matrix.h5ad\n",
      "filtered out 12408 genes that are detectedin less than 3 cells\n"
     ]
    },
    {
     "name": "stderr",
     "output_type": "stream",
     "text": [
      "Trying to set attribute `.var` of view, making a copy.\n"
     ]
    },
    {
     "name": "stdout",
     "output_type": "stream",
     "text": [
      "filtered out 9 cells that haveless than 150 genes expressed\n",
      "Total number of cells: 5216\n",
      "Total number of genes: 21130\n"
     ]
    }
   ],
   "source": [
    "holder = []\n",
    "for sample in meta.index:\n",
    "    print(sample)\n",
    "    # Load 10x data as AnnData\n",
    "    holder.append(sc.read_10x_mtx(data_dir+'rawdata/'+sample+'/filtered_feature_bc_matrix/',cache=True)) \n",
    "    # Set names of observation as sample + _ + barcode/probe\n",
    "    holder[-1].obs_names = [sample+'_'+i.split('-')[0] for i in holder[-1].obs_names]\n",
    "    # Filer genes expressed in less than 3 cells\n",
    "    sc.pp.filter_genes(holder[-1], min_cells=3)\n",
    "    # Filer cells with less than 10 genes expressed\n",
    "    sc.pp.filter_cells(holder[-1], min_genes=150)\n",
    "    # add in metadata\n",
    "    holder[-1].obs['sample'] = sample\n",
    "    for val in meta.columns:\n",
    "        holder[-1].obs[val] = meta[val][sample]\n",
    "    # Extract mitochondial genes\n",
    "    mito_genes = [name for name in holder[-1].var_names if name.startswith('MT-')]\n",
    "    #for each cell compute fraction of counts in mito genes vs. all genes\n",
    "    #the `.A1` is only necessary, as X is sparse - it transform to a dense array after summing\n",
    "    holder[-1].obs['percent_mito'] = np.sum(\n",
    "        holder[-1][:, mito_genes].X, axis=1).A1 / np.sum(holder[-1].X, axis=1).A1\n",
    "    #add the total counts per cell as observations-annotation to adata\n",
    "    holder[-1].obs['n_counts'] = holder[-1].X.sum(axis=1).A1\n",
    "    print('Total number of cells: {:d}'.format(holder[-1].n_obs))\n",
    "    print('Total number of genes: {:d}'.format(holder[-1].n_vars))"
   ]
  },
  {
   "cell_type": "code",
   "execution_count": null,
   "metadata": {},
   "outputs": [
    {
     "name": "stdout",
     "output_type": "stream",
     "text": [
      "53\n"
     ]
    }
   ],
   "source": [
    "# confirm N samples\n",
    "print(len(holder))\n",
    "# merge datasets\n",
    "adata = holder[0].concatenate(holder[1:],join='outer',index_unique=None)\n",
    "# copy of this matrix in Compressed Sparse Row format\n",
    "adata.X = adata.X.tocsr()\n",
    "adata"
   ]
  },
  {
   "cell_type": "markdown",
   "metadata": {},
   "source": [
    "### QC pplots\n",
    "\n",
    "Plot distributions of the values n_genes, n_counts and percent_mito"
   ]
  },
  {
   "cell_type": "code",
   "execution_count": null,
   "metadata": {},
   "outputs": [],
   "source": [
    "print('Total number of cells: {:d}'.format(adata.n_obs))\n",
    "print('Total number of genes: {:d}'.format(adata.n_vars))"
   ]
  },
  {
   "cell_type": "markdown",
   "metadata": {},
   "source": [
    "### Filter cells with few genes\n",
    "Check number of genes per cell distribution and filter cells accordingly"
   ]
  },
  {
   "cell_type": "code",
   "execution_count": null,
   "metadata": {},
   "outputs": [],
   "source": [
    "plt.hist(adata.obs['n_genes'], bins = 100)\n",
    "plt.axvline(200, linestyle = '--', color = 'red')"
   ]
  },
  {
   "cell_type": "code",
   "execution_count": null,
   "metadata": {},
   "outputs": [],
   "source": [
    "sc.pp.filter_cells(adata, min_genes=300)"
   ]
  },
  {
   "cell_type": "code",
   "execution_count": null,
   "metadata": {},
   "outputs": [],
   "source": [
    "print('Total number of cells: {:d}'.format(adata.n_obs))\n",
    "print('Total number of genes: {:d}'.format(adata.n_vars))"
   ]
  },
  {
   "cell_type": "markdown",
   "metadata": {},
   "source": [
    "### Filter genes expressed in less than 3 cells"
   ]
  },
  {
   "cell_type": "code",
   "execution_count": null,
   "metadata": {},
   "outputs": [],
   "source": [
    "sc.pp.filter_genes(adata, min_cells=3)"
   ]
  },
  {
   "cell_type": "code",
   "execution_count": null,
   "metadata": {},
   "outputs": [],
   "source": [
    "print('Total number of cells: {:d}'.format(adata.n_obs))\n",
    "print('Total number of genes: {:d}'.format(adata.n_vars))"
   ]
  },
  {
   "cell_type": "markdown",
   "metadata": {},
   "source": [
    "\n",
    "### Filter cells with large % mitochondrial genes"
   ]
  },
  {
   "cell_type": "code",
   "execution_count": null,
   "metadata": {},
   "outputs": [],
   "source": [
    "plt.hist(adata.obs['percent_mito'], bins = 100, cumulative=True)\n",
    "plt.axvline(0.1, linestyle = '--', color = 'red')\n",
    "plt.axvline(0.2, linestyle = '--', color = 'darkred')\n",
    "plt.axhline(adata.n_obs*0.99, linestyle = '-', color = 'green')"
   ]
  },
  {
   "cell_type": "code",
   "execution_count": null,
   "metadata": {},
   "outputs": [],
   "source": [
    "# >20%\n",
    "adata = adata[adata.obs['percent_mito'] < 0.2, :]"
   ]
  },
  {
   "cell_type": "code",
   "execution_count": null,
   "metadata": {},
   "outputs": [],
   "source": [
    "print('Total number of cells: {:d}'.format(adata.n_obs))\n",
    "print('Total number of genes: {:d}'.format(adata.n_vars))"
   ]
  },
  {
   "cell_type": "markdown",
   "metadata": {},
   "source": [
    "# Add metadata "
   ]
  },
  {
   "cell_type": "code",
   "execution_count": null,
   "metadata": {},
   "outputs": [],
   "source": [
    "# format some metadata\n",
    "# PCW as numerical\n",
    "adata.obs['PCW'] = adata.obs.stage.astype('float').tolist()\n",
    "# source: L=london; N=newcastle\n",
    "adata.obs['sample_source'] = 'N'\n",
    "idx = np.array(['Hrv' in i for i in adata.obs['individual']])\n",
    "adata.obs.at[ idx, 'sample_source']  = 'L'"
   ]
  },
  {
   "cell_type": "code",
   "execution_count": null,
   "metadata": {},
   "outputs": [],
   "source": [
    "# Add cluster name and doublet information\n",
    "clu_annot = pd.read_csv('figures_manual_annotation/clustering_metadata.csv', header=0, index_col=0)\n",
    "import collections \n",
    "\n",
    "if collections.Counter(adata.obs.index) == collections.Counter(clu_annot.index): \n",
    "    print (\"The lists are identical\") \n",
    "else : \n",
    "    print (\"The lists are not identical\") \n",
    "    \n",
    "vars2import = ['clusters_manual','old_clusters','louvain', 'is_doublet', 'scrublet_cluster_score', 'scrublet_score']\n",
    "for var in vars2import:\n",
    "    adata.obs[var] = clu_annot[var]"
   ]
  },
  {
   "cell_type": "code",
   "execution_count": null,
   "metadata": {},
   "outputs": [],
   "source": [
    "adata.obs.head()"
   ]
  },
  {
   "cell_type": "markdown",
   "metadata": {},
   "source": [
    "# Save"
   ]
  },
  {
   "cell_type": "code",
   "execution_count": null,
   "metadata": {},
   "outputs": [],
   "source": [
    "# del adata.obs['location']\n",
    "del adata.obs['clusters']"
   ]
  },
  {
   "cell_type": "code",
   "execution_count": null,
   "metadata": {},
   "outputs": [],
   "source": [
    "adata.write('/nfs/team292/lg18/with_valentina/FCA-M5-annotatedCluster4Seurat.h5ad')"
   ]
  }
 ],
 "metadata": {
  "kernelspec": {
   "display_name": "Python anndata 0.6",
   "language": "python",
   "name": "anndata06"
  },
  "language_info": {
   "codemirror_mode": {
    "name": "ipython",
    "version": 3
   },
   "file_extension": ".py",
   "mimetype": "text/x-python",
   "name": "python",
   "nbconvert_exporter": "python",
   "pygments_lexer": "ipython3",
   "version": "3.9.2"
  }
 },
 "nbformat": 4,
 "nbformat_minor": 4
}
