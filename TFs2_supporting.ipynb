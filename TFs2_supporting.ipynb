{
 "cells": [
  {
   "cell_type": "markdown",
   "metadata": {},
   "source": [
    "# Supporting lineage - TFs intersection"
   ]
  },
  {
   "cell_type": "code",
   "execution_count": 20,
   "metadata": {},
   "outputs": [],
   "source": [
    "library(Seurat)\n",
    "library(dplyr)\n",
    "library(RColorBrewer)\n",
    "library(destiny, quietly = TRUE)\n",
    "library(gam)\n",
    "library(harmony)\n",
    "library(ggplot2)\n",
    "library(pheatmap)\n",
    "library(cowplot)\n",
    "library(reshape2)\n",
    "library(SoupX)\n",
    "# source('G_lib_TFacts.r')\n",
    "\n",
    "luz_colors = c('#c466b0', \n",
    "               '#779eed', '#aad3f2', '#71a2c7', '#60bddb',   '#70ccbe', \n",
    "               '#7b9e99', '#91bd80', '#bdb380',  '#d4db81',  '#dbc381', '#ebd3c3', \n",
    "               '#e08b8b', '#edb7b7', '#d9abb7', '#d96884', '#e64e74', '#d9a5c3', '#cc8fdb')\n",
    "\n",
    "colors = c(luz_colors, \n",
    "           brewer.pal(n=12, name = 'Paired'), \n",
    "           brewer.pal(n=8, name = 'Set2'),\n",
    "          brewer.pal(n=8, name = 'Set3'),\n",
    "          brewer.pal(n=8, name = 'Accent'),\n",
    "          brewer.pal(n=8, name = 'Pastel1'))\n",
    "\n",
    "def_colors = list( reds = luz_colors[13:length(luz_colors) ],\n",
    "                 yellows = luz_colors[7:12],\n",
    "                 blues = luz_colors[2:6],\n",
    "                 greys = c('#e8e8e8', '#b5b5b5', '#a6a6a6') )\n",
    "\n",
    "col_dot = c('grey90',  brewer.pal(n = 9, name = 'Reds')[7])\n",
    "\n",
    "downsample_data = function(anndataO, var = 'annotated_clusters', N=200){\n",
    "    samples = list()\n",
    "    for (cl in unique(anndataO@meta.data[,var]) ){\n",
    "        cells = colnames(anndataO)[ anndataO@meta.data[,var] == cl ]\n",
    "        samples[[cl]] = cells\n",
    "        if( length(cells) > N )\n",
    "            samples[[cl]] = sample(cells, size = N, replace = F)\n",
    "    }\n",
    "    anndataO = subset(anndataO, cells = unlist(samples))\n",
    "    \n",
    "    gene_counts = tabulate(anndataO@assays$RNA@counts@i + 1)\n",
    "    anndataO = subset(anndataO, features = names(gene_counts)[ gene_counts > 3 ] )\n",
    "    \n",
    "    return(anndataO)\n",
    "}\n"
   ]
  },
  {
   "cell_type": "code",
   "execution_count": 21,
   "metadata": {},
   "outputs": [
    {
     "data": {
      "text/plain": [
       "R version 4.0.3 (2020-10-10)\n",
       "Platform: x86_64-conda-linux-gnu (64-bit)\n",
       "Running under: Ubuntu 20.04.1 LTS\n",
       "\n",
       "Matrix products: default\n",
       "BLAS:   /home/jovyan/my-conda-envs/R_Seurat3/lib/libblas.so.3.8.0\n",
       "LAPACK: /home/jovyan/my-conda-envs/R_Seurat3/lib/liblapack.so.3.8.0\n",
       "\n",
       "locale:\n",
       " [1] LC_CTYPE=en_US.UTF-8       LC_NUMERIC=C              \n",
       " [3] LC_TIME=en_US.UTF-8        LC_COLLATE=en_US.UTF-8    \n",
       " [5] LC_MONETARY=en_US.UTF-8    LC_MESSAGES=en_US.UTF-8   \n",
       " [7] LC_PAPER=en_US.UTF-8       LC_NAME=C                 \n",
       " [9] LC_ADDRESS=C               LC_TELEPHONE=C            \n",
       "[11] LC_MEASUREMENT=en_US.UTF-8 LC_IDENTIFICATION=C       \n",
       "\n",
       "attached base packages:\n",
       "[1] splines   stats     graphics  grDevices utils     datasets  methods  \n",
       "[8] base     \n",
       "\n",
       "other attached packages:\n",
       " [1] SoupX_1.5.0        reshape2_1.4.4     cowplot_1.1.1      pheatmap_1.0.12   \n",
       " [5] ggplot2_3.3.3      harmony_1.0        Rcpp_1.0.6         gam_1.20          \n",
       " [9] foreach_1.5.1      destiny_3.4.0      RColorBrewer_1.1-2 dplyr_1.0.5       \n",
       "[13] Seurat_3.2.2      \n",
       "\n",
       "loaded via a namespace (and not attached):\n",
       "  [1] readxl_1.3.1                uuid_0.1-4                 \n",
       "  [3] RcppEigen_0.3.3.9.1         plyr_1.8.6                 \n",
       "  [5] igraph_1.2.6                repr_1.1.3                 \n",
       "  [7] lazyeval_0.2.2              sp_1.4-5                   \n",
       "  [9] RcppHNSW_0.3.0              listenv_0.8.0              \n",
       " [11] GenomeInfoDb_1.26.0         digest_0.6.27              \n",
       " [13] htmltools_0.5.1.1           fansi_0.4.2                \n",
       " [15] magrittr_2.0.1              tensor_1.5                 \n",
       " [17] cluster_2.1.1               ROCR_1.0-11                \n",
       " [19] openxlsx_4.2.3              globals_0.14.0             \n",
       " [21] matrixStats_0.58.0          xts_0.12.1                 \n",
       " [23] colorspace_2.0-0            ggrepel_0.9.1              \n",
       " [25] haven_2.3.1                 hexbin_1.28.2              \n",
       " [27] crayon_1.4.1                RCurl_1.98-1.2             \n",
       " [29] jsonlite_1.7.2              spatstat_1.64-1            \n",
       " [31] spatstat.data_2.0-0         iterators_1.0.13           \n",
       " [33] survival_3.2-7              zoo_1.8-9                  \n",
       " [35] glue_1.4.2                  polyclip_1.10-0            \n",
       " [37] gtable_0.3.0                zlibbioc_1.36.0            \n",
       " [39] XVector_0.30.0              leiden_0.3.7               \n",
       " [41] DelayedArray_0.16.0         car_3.0-10                 \n",
       " [43] future.apply_1.7.0          SingleCellExperiment_1.12.0\n",
       " [45] BiocGenerics_0.36.0         DEoptimR_1.0-8             \n",
       " [47] abind_1.4-5                 VIM_6.1.0                  \n",
       " [49] scales_1.1.1                ggplot.multistats_1.0.0    \n",
       " [51] DBI_1.1.1                   ggthemes_4.2.4             \n",
       " [53] miniUI_0.1.1.1              laeken_0.5.1               \n",
       " [55] viridisLite_0.3.0           xtable_1.8-4               \n",
       " [57] reticulate_1.18             proxy_0.4-25               \n",
       " [59] foreign_0.8-81              rsvd_1.0.3                 \n",
       " [61] stats4_4.0.3                vcd_1.4-8                  \n",
       " [63] htmlwidgets_1.5.3           httr_1.4.2                 \n",
       " [65] ellipsis_0.3.1              ica_1.0-2                  \n",
       " [67] pkgconfig_2.0.3             nnet_7.3-15                \n",
       " [69] uwot_0.1.10                 deldir_0.2-10              \n",
       " [71] utf8_1.2.1                  tidyselect_1.1.0           \n",
       " [73] rlang_0.4.10                later_1.1.0.1              \n",
       " [75] cellranger_1.1.0            munsell_0.5.0              \n",
       " [77] tools_4.0.3                 generics_0.1.0             \n",
       " [79] ranger_0.12.1               ggridges_0.5.3             \n",
       " [81] evaluate_0.14               stringr_1.4.0              \n",
       " [83] fastmap_1.1.0               goftest_1.2-2              \n",
       " [85] fitdistrplus_1.1-3          zip_2.1.1                  \n",
       " [87] robustbase_0.93-7           purrr_0.3.4                \n",
       " [89] RANN_2.6.1                  pbapply_1.4-3              \n",
       " [91] future_1.21.0               nlme_3.1-152               \n",
       " [93] mime_0.10                   compiler_4.0.3             \n",
       " [95] plotly_4.9.3                curl_4.3                   \n",
       " [97] png_0.1-7                   e1071_1.7-4                \n",
       " [99] spatstat.utils_2.0-0        smoother_1.1               \n",
       "[101] tibble_3.1.0                stringi_1.5.3              \n",
       "[103] RSpectra_0.16-0             forcats_0.5.1              \n",
       "[105] lattice_0.20-41             IRdisplay_1.0              \n",
       "[107] Matrix_1.3-2                vctrs_0.3.6                \n",
       "[109] pillar_1.5.1                lifecycle_1.0.0            \n",
       "[111] lmtest_0.9-38               RcppAnnoy_0.0.18           \n",
       "[113] data.table_1.14.0           bitops_1.0-6               \n",
       "[115] irlba_2.3.3                 httpuv_1.5.5               \n",
       "[117] patchwork_1.1.1             GenomicRanges_1.42.0       \n",
       "[119] pcaMethods_1.82.0           R6_2.5.0                   \n",
       "[121] promises_1.2.0.1            KernSmooth_2.23-18         \n",
       "[123] gridExtra_2.3               rio_0.5.26                 \n",
       "[125] IRanges_2.24.0              parallelly_1.23.0          \n",
       "[127] codetools_0.2-18            boot_1.3-27                \n",
       "[129] MASS_7.3-53.1               assertthat_0.2.1           \n",
       "[131] SummarizedExperiment_1.20.0 withr_2.4.1                \n",
       "[133] sctransform_0.3.2           S4Vectors_0.28.0           \n",
       "[135] GenomeInfoDbData_1.2.4      hms_1.0.0                  \n",
       "[137] mgcv_1.8-34                 parallel_4.0.3             \n",
       "[139] grid_4.0.3                  rpart_4.1-15               \n",
       "[141] IRkernel_1.1.1.9000         tidyr_1.1.3                \n",
       "[143] class_7.3-18                carData_3.0-4              \n",
       "[145] MatrixGenerics_1.2.0        Rtsne_0.15                 \n",
       "[147] TTR_0.24.2                  pbdZMQ_0.3-5               \n",
       "[149] scatterplot3d_0.3-41        Biobase_2.50.0             \n",
       "[151] shiny_1.6.0                 base64enc_0.1-3            "
      ]
     },
     "metadata": {},
     "output_type": "display_data"
    }
   ],
   "source": [
    "sessionInfo()"
   ]
  },
  {
   "cell_type": "markdown",
   "metadata": {},
   "source": [
    "# Load RNA derived TFs info"
   ]
  },
  {
   "cell_type": "code",
   "execution_count": 22,
   "metadata": {},
   "outputs": [],
   "source": [
    "TFact = read.csv('figures-supporting/0_FS2_table_TFacts.csv', stringsAsFactors = F)\n",
    "# TFact$cluster[ TFact$cluster == 'Sertoli' ] = 'Sertoli_NR4A1'\n",
    "TFact$TF = strsplit(TFact$gene, split = '-[A-E]') %>% sapply(., head, 1)\n",
    "TFact$ID = paste0(TFact$cluster, '__', TFact$TF)\n",
    "TFact$scRNA_TFact = ifelse(TFact$p_val_adj < 0.05 & TFact$avg_log2FC > 0.1 , 1, 0) \n",
    "\n",
    "\n",
    "DEGs = read.csv('figures-supporting/0_FS2_table_DEGsAll.csv', stringsAsFactors = F)\n",
    "# DEGs = subset(DEGs, gene %in% TFact$TF)\n",
    "DEGs$TF = DEGs$gene\n",
    "DEGs$ID = paste0(DEGs$cluster, '__', DEGs$TF)\n",
    "# DEGs$avg_log2FC = DEGs$avg_logFC\n",
    "DEGs$scRNA_DEGs = ifelse(DEGs$p_val_adj < 0.05 & DEGs$avg_log2FC > 0.1, 1, 0) "
   ]
  },
  {
   "cell_type": "markdown",
   "metadata": {},
   "source": [
    "# Load ATAC derived TFs info"
   ]
  },
  {
   "cell_type": "code",
   "execution_count": 23,
   "metadata": {},
   "outputs": [],
   "source": [
    "TFmotifs = read.csv('/nfs/team292/vl6/my_MULTIOME_dir/supporting_apr2021/TFs/DARs/all_DA_peaks_LR.csv', stringsAsFactors = F)\n",
    "\n",
    "TFmotifs$cluster = gsub('-', '_', TFmotifs$cluster)\n",
    "TFmotifs$cluster = gsub('FetalLeydig_like', 'FetalLeydig-like', TFmotifs$cluster)\n",
    "TFmotifs$TF = strsplit(TFmotifs$X, split = '\\\\.') %>% sapply(., head, 1)\n",
    "TFmotifs$TF = gsub('-HUMAN', '', TFmotifs$TF)\n",
    "TFmotifs = subset(TFmotifs, TF %in% c(TFact$TF, DEGs$TF) )\n",
    "TFmotifs$ID = paste0(TFmotifs$cluster, '__', TFmotifs$TF)\n",
    "# TFmotifs = subset(TFmotifs, TF %in% TFact$TF)\n",
    "TFmotifs = TFmotifs[ order(TFmotifs$avg_log2FC, decreasing = T) , ]\n",
    "TFmotifs = TFmotifs[ ! duplicated(TFmotifs$ID) , ]\n",
    "\n",
    "TFmotifs$snATAC_TFact = ifelse(TFmotifs$p_val_adj < 0.05 & TFmotifs$avg_log2FC > 0.1 , 1, 0) "
   ]
  },
  {
   "cell_type": "markdown",
   "metadata": {},
   "source": [
    "# Intersect cluster names"
   ]
  },
  {
   "cell_type": "code",
   "execution_count": 24,
   "metadata": {},
   "outputs": [
    {
     "data": {
      "text/html": [
       "<style>\n",
       ".list-inline {list-style: none; margin:0; padding: 0}\n",
       ".list-inline>li {display: inline-block}\n",
       ".list-inline>li:not(:last-child)::after {content: \"\\00b7\"; padding: 0 .5ex}\n",
       "</style>\n",
       "<ol class=list-inline><li>'FetalLeydig-like'</li><li>'ovarianSurf'</li><li>'sPAX8m'</li><li>'Sertoli'</li><li>'sLGR5_female'</li><li>'preGC_III_Notch'</li><li>'coelEpi_female'</li><li>'preGC_II_hypoxia'</li><li>'preGC_II'</li><li>'sKITLG_male'</li><li>'coelEpi_male'</li><li>'sPAX8b'</li><li>'sKITLG_female'</li><li>'preGC_I_OSR1'</li><li>'sLGR5_male'</li></ol>\n"
      ],
      "text/latex": [
       "\\begin{enumerate*}\n",
       "\\item 'FetalLeydig-like'\n",
       "\\item 'ovarianSurf'\n",
       "\\item 'sPAX8m'\n",
       "\\item 'Sertoli'\n",
       "\\item 'sLGR5\\_female'\n",
       "\\item 'preGC\\_III\\_Notch'\n",
       "\\item 'coelEpi\\_female'\n",
       "\\item 'preGC\\_II\\_hypoxia'\n",
       "\\item 'preGC\\_II'\n",
       "\\item 'sKITLG\\_male'\n",
       "\\item 'coelEpi\\_male'\n",
       "\\item 'sPAX8b'\n",
       "\\item 'sKITLG\\_female'\n",
       "\\item 'preGC\\_I\\_OSR1'\n",
       "\\item 'sLGR5\\_male'\n",
       "\\end{enumerate*}\n"
      ],
      "text/markdown": [
       "1. 'FetalLeydig-like'\n",
       "2. 'ovarianSurf'\n",
       "3. 'sPAX8m'\n",
       "4. 'Sertoli'\n",
       "5. 'sLGR5_female'\n",
       "6. 'preGC_III_Notch'\n",
       "7. 'coelEpi_female'\n",
       "8. 'preGC_II_hypoxia'\n",
       "9. 'preGC_II'\n",
       "10. 'sKITLG_male'\n",
       "11. 'coelEpi_male'\n",
       "12. 'sPAX8b'\n",
       "13. 'sKITLG_female'\n",
       "14. 'preGC_I_OSR1'\n",
       "15. 'sLGR5_male'\n",
       "\n",
       "\n"
      ],
      "text/plain": [
       " [1] \"FetalLeydig-like\" \"ovarianSurf\"      \"sPAX8m\"           \"Sertoli\"         \n",
       " [5] \"sLGR5_female\"     \"preGC_III_Notch\"  \"coelEpi_female\"   \"preGC_II_hypoxia\"\n",
       " [9] \"preGC_II\"         \"sKITLG_male\"      \"coelEpi_male\"     \"sPAX8b\"          \n",
       "[13] \"sKITLG_female\"    \"preGC_I_OSR1\"     \"sLGR5_male\"      "
      ]
     },
     "metadata": {},
     "output_type": "display_data"
    },
    {
     "data": {
      "text/html": [
       "<style>\n",
       ".list-inline {list-style: none; margin:0; padding: 0}\n",
       ".list-inline>li {display: inline-block}\n",
       ".list-inline>li:not(:last-child)::after {content: \"\\00b7\"; padding: 0 .5ex}\n",
       "</style>\n",
       "<ol class=list-inline><li>'coelEpi'</li><li>'sKITLG'</li><li>'sLGR5_female'</li><li>'ovarianSurf'</li><li>'preGC_II_hypoxia'</li><li>'Sertoli_WFDC2'</li><li>'Sertoli'</li><li>'FetalLeydig-like'</li><li>'preGC_II'</li><li>'sPAX8b'</li><li>'preGC_III_Notch'</li><li>'sPAX8m'</li><li>'preGC_III'</li><li>'preGC_I_OSR1'</li><li>'sLGR5_male'</li></ol>\n"
      ],
      "text/latex": [
       "\\begin{enumerate*}\n",
       "\\item 'coelEpi'\n",
       "\\item 'sKITLG'\n",
       "\\item 'sLGR5\\_female'\n",
       "\\item 'ovarianSurf'\n",
       "\\item 'preGC\\_II\\_hypoxia'\n",
       "\\item 'Sertoli\\_WFDC2'\n",
       "\\item 'Sertoli'\n",
       "\\item 'FetalLeydig-like'\n",
       "\\item 'preGC\\_II'\n",
       "\\item 'sPAX8b'\n",
       "\\item 'preGC\\_III\\_Notch'\n",
       "\\item 'sPAX8m'\n",
       "\\item 'preGC\\_III'\n",
       "\\item 'preGC\\_I\\_OSR1'\n",
       "\\item 'sLGR5\\_male'\n",
       "\\end{enumerate*}\n"
      ],
      "text/markdown": [
       "1. 'coelEpi'\n",
       "2. 'sKITLG'\n",
       "3. 'sLGR5_female'\n",
       "4. 'ovarianSurf'\n",
       "5. 'preGC_II_hypoxia'\n",
       "6. 'Sertoli_WFDC2'\n",
       "7. 'Sertoli'\n",
       "8. 'FetalLeydig-like'\n",
       "9. 'preGC_II'\n",
       "10. 'sPAX8b'\n",
       "11. 'preGC_III_Notch'\n",
       "12. 'sPAX8m'\n",
       "13. 'preGC_III'\n",
       "14. 'preGC_I_OSR1'\n",
       "15. 'sLGR5_male'\n",
       "\n",
       "\n"
      ],
      "text/plain": [
       " [1] \"coelEpi\"          \"sKITLG\"           \"sLGR5_female\"     \"ovarianSurf\"     \n",
       " [5] \"preGC_II_hypoxia\" \"Sertoli_WFDC2\"    \"Sertoli\"          \"FetalLeydig-like\"\n",
       " [9] \"preGC_II\"         \"sPAX8b\"           \"preGC_III_Notch\"  \"sPAX8m\"          \n",
       "[13] \"preGC_III\"        \"preGC_I_OSR1\"     \"sLGR5_male\"      "
      ]
     },
     "metadata": {},
     "output_type": "display_data"
    },
    {
     "data": {
      "text/html": [
       "<style>\n",
       ".list-inline {list-style: none; margin:0; padding: 0}\n",
       ".list-inline>li {display: inline-block}\n",
       ".list-inline>li:not(:last-child)::after {content: \"\\00b7\"; padding: 0 .5ex}\n",
       "</style>\n",
       "<ol class=list-inline><li>'coelEpi'</li><li>'sKITLG'</li><li>'sLGR5_male'</li><li>'sLGR5_female'</li><li>'sPAX8b'</li><li>'sPAX8m'</li><li>'preGC_I_OSR1'</li><li>'ovarianSurf'</li><li>'preGC_II'</li><li>'preGC_II_hypoxia'</li><li>'preGC_III'</li><li>'preGC_III_Notch'</li><li>'Sertoli_WFDC2'</li><li>'Sertoli'</li><li>'FetalLeydig-like'</li></ol>\n"
      ],
      "text/latex": [
       "\\begin{enumerate*}\n",
       "\\item 'coelEpi'\n",
       "\\item 'sKITLG'\n",
       "\\item 'sLGR5\\_male'\n",
       "\\item 'sLGR5\\_female'\n",
       "\\item 'sPAX8b'\n",
       "\\item 'sPAX8m'\n",
       "\\item 'preGC\\_I\\_OSR1'\n",
       "\\item 'ovarianSurf'\n",
       "\\item 'preGC\\_II'\n",
       "\\item 'preGC\\_II\\_hypoxia'\n",
       "\\item 'preGC\\_III'\n",
       "\\item 'preGC\\_III\\_Notch'\n",
       "\\item 'Sertoli\\_WFDC2'\n",
       "\\item 'Sertoli'\n",
       "\\item 'FetalLeydig-like'\n",
       "\\end{enumerate*}\n"
      ],
      "text/markdown": [
       "1. 'coelEpi'\n",
       "2. 'sKITLG'\n",
       "3. 'sLGR5_male'\n",
       "4. 'sLGR5_female'\n",
       "5. 'sPAX8b'\n",
       "6. 'sPAX8m'\n",
       "7. 'preGC_I_OSR1'\n",
       "8. 'ovarianSurf'\n",
       "9. 'preGC_II'\n",
       "10. 'preGC_II_hypoxia'\n",
       "11. 'preGC_III'\n",
       "12. 'preGC_III_Notch'\n",
       "13. 'Sertoli_WFDC2'\n",
       "14. 'Sertoli'\n",
       "15. 'FetalLeydig-like'\n",
       "\n",
       "\n"
      ],
      "text/plain": [
       " [1] \"coelEpi\"          \"sKITLG\"           \"sLGR5_male\"       \"sLGR5_female\"    \n",
       " [5] \"sPAX8b\"           \"sPAX8m\"           \"preGC_I_OSR1\"     \"ovarianSurf\"     \n",
       " [9] \"preGC_II\"         \"preGC_II_hypoxia\" \"preGC_III\"        \"preGC_III_Notch\" \n",
       "[13] \"Sertoli_WFDC2\"    \"Sertoli\"          \"FetalLeydig-like\""
      ]
     },
     "metadata": {},
     "output_type": "display_data"
    },
    {
     "data": {
      "text/html": [
       "<style>\n",
       ".list-inline {list-style: none; margin:0; padding: 0}\n",
       ".list-inline>li {display: inline-block}\n",
       ".list-inline>li:not(:last-child)::after {content: \"\\00b7\"; padding: 0 .5ex}\n",
       "</style>\n",
       "<ol class=list-inline><li>'sLGR5_female'</li><li>'ovarianSurf'</li><li>'preGC_II_hypoxia'</li><li>'Sertoli'</li><li>'FetalLeydig-like'</li><li>'preGC_II'</li><li>'sPAX8b'</li><li>'preGC_III_Notch'</li><li>'sPAX8m'</li><li>'preGC_I_OSR1'</li><li>'sLGR5_male'</li></ol>\n"
      ],
      "text/latex": [
       "\\begin{enumerate*}\n",
       "\\item 'sLGR5\\_female'\n",
       "\\item 'ovarianSurf'\n",
       "\\item 'preGC\\_II\\_hypoxia'\n",
       "\\item 'Sertoli'\n",
       "\\item 'FetalLeydig-like'\n",
       "\\item 'preGC\\_II'\n",
       "\\item 'sPAX8b'\n",
       "\\item 'preGC\\_III\\_Notch'\n",
       "\\item 'sPAX8m'\n",
       "\\item 'preGC\\_I\\_OSR1'\n",
       "\\item 'sLGR5\\_male'\n",
       "\\end{enumerate*}\n"
      ],
      "text/markdown": [
       "1. 'sLGR5_female'\n",
       "2. 'ovarianSurf'\n",
       "3. 'preGC_II_hypoxia'\n",
       "4. 'Sertoli'\n",
       "5. 'FetalLeydig-like'\n",
       "6. 'preGC_II'\n",
       "7. 'sPAX8b'\n",
       "8. 'preGC_III_Notch'\n",
       "9. 'sPAX8m'\n",
       "10. 'preGC_I_OSR1'\n",
       "11. 'sLGR5_male'\n",
       "\n",
       "\n"
      ],
      "text/plain": [
       " [1] \"sLGR5_female\"     \"ovarianSurf\"      \"preGC_II_hypoxia\" \"Sertoli\"         \n",
       " [5] \"FetalLeydig-like\" \"preGC_II\"         \"sPAX8b\"           \"preGC_III_Notch\" \n",
       " [9] \"sPAX8m\"           \"preGC_I_OSR1\"     \"sLGR5_male\"      "
      ]
     },
     "metadata": {},
     "output_type": "display_data"
    }
   ],
   "source": [
    "unique(TFmotifs$cluster)\n",
    "unique(TFact$cluster)\n",
    "unique(DEGs$cluster)\n",
    "\n",
    "\n",
    "intersect(TFact$cluster,TFmotifs$cluster)"
   ]
  },
  {
   "cell_type": "markdown",
   "metadata": {},
   "source": [
    "## Merge for plotting"
   ]
  },
  {
   "cell_type": "code",
   "execution_count": 25,
   "metadata": {},
   "outputs": [],
   "source": [
    "cnames = intersect(colnames(TFact), colnames(DEGs)) %>% intersect(., colnames(TFmotifs))\n",
    "df2plot = data.frame(TFact[,cnames], type='scRNA_TFactivities', stringsAsFactors = F)\n",
    "df2plot = rbind(df2plot,\n",
    "               data.frame(DEGs[, cnames], type='scRNA_Expression', stringsAsFactors = F))\n",
    "df2plot = rbind(df2plot,\n",
    "               data.frame(TFmotifs[, cnames], type='snATA_TFmotif_access', stringsAsFactors = F))"
   ]
  },
  {
   "cell_type": "markdown",
   "metadata": {},
   "source": [
    "# Intersect TFs"
   ]
  },
  {
   "cell_type": "code",
   "execution_count": 26,
   "metadata": {},
   "outputs": [],
   "source": [
    "names(TFact)[c(1:2,5)] = paste0('scRNA_TFact_', names(TFact)[c(1:2,5)])\n",
    "names(DEGs)[c(1:5)] = paste0('scRNA_DEGs_', names(DEGs)[c(1:5)])\n",
    "names(TFmotifs)[c(2:3,6)] = paste0('snATAC_TFact_', names(TFmotifs)[c(2:3,6)])\n",
    "names(TFmotifs)[1] = 'snATAC_PWM' "
   ]
  },
  {
   "cell_type": "code",
   "execution_count": 27,
   "metadata": {},
   "outputs": [
    {
     "data": {
      "text/html": [
       "<table class=\"dataframe\">\n",
       "<caption>A data.frame: 6 × 19</caption>\n",
       "<thead>\n",
       "\t<tr><th></th><th scope=col>ID</th><th scope=col>scRNA_DEGs_p_val</th><th scope=col>scRNA_DEGs_avg_log2FC</th><th scope=col>scRNA_DEGs_pct.1</th><th scope=col>scRNA_DEGs_pct.2</th><th scope=col>scRNA_DEGs_p_val_adj</th><th scope=col>scRNA_DEGs</th><th scope=col>scRNA_TFact_p_val</th><th scope=col>scRNA_TFact_avg_log2FC</th><th scope=col>scRNA_TFact_p_val_adj</th><th scope=col>scRNA_TFact</th><th scope=col>snATAC_PWM</th><th scope=col>snATAC_TFact_p_val</th><th scope=col>snATAC_TFact_avg_log2FC</th><th scope=col>snATAC_TFact_p_val_adj</th><th scope=col>cluster</th><th scope=col>gene</th><th scope=col>TF</th><th scope=col>snATAC_TFact</th></tr>\n",
       "\t<tr><th></th><th scope=col>&lt;chr&gt;</th><th scope=col>&lt;dbl&gt;</th><th scope=col>&lt;dbl&gt;</th><th scope=col>&lt;dbl&gt;</th><th scope=col>&lt;dbl&gt;</th><th scope=col>&lt;dbl&gt;</th><th scope=col>&lt;dbl&gt;</th><th scope=col>&lt;dbl&gt;</th><th scope=col>&lt;dbl&gt;</th><th scope=col>&lt;dbl&gt;</th><th scope=col>&lt;dbl&gt;</th><th scope=col>&lt;chr&gt;</th><th scope=col>&lt;dbl&gt;</th><th scope=col>&lt;dbl&gt;</th><th scope=col>&lt;dbl&gt;</th><th scope=col>&lt;chr&gt;</th><th scope=col>&lt;chr&gt;</th><th scope=col>&lt;chr&gt;</th><th scope=col>&lt;dbl&gt;</th></tr>\n",
       "</thead>\n",
       "<tbody>\n",
       "\t<tr><th scope=row>1</th><td>coelEpi__A1BG  </td><td>3.908860e-05</td><td> 0.09081064</td><td>0.194</td><td>0.145</td><td>1.000000e+00</td><td>0</td><td>NA</td><td>NA</td><td>NA</td><td>NA</td><td>NA</td><td>NA</td><td>NA</td><td>NA</td><td>NA</td><td>NA</td><td>NA</td><td>NA</td></tr>\n",
       "\t<tr><th scope=row>2</th><td>coelEpi__A2ML1 </td><td>1.092570e-43</td><td>-0.18541273</td><td>0.009</td><td>0.127</td><td>3.084324e-39</td><td>0</td><td>NA</td><td>NA</td><td>NA</td><td>NA</td><td>NA</td><td>NA</td><td>NA</td><td>NA</td><td>NA</td><td>NA</td><td>NA</td><td>NA</td></tr>\n",
       "\t<tr><th scope=row>3</th><td>coelEpi__A4GALT</td><td>1.805626e-33</td><td>-0.25571978</td><td>0.086</td><td>0.216</td><td>5.097282e-29</td><td>0</td><td>NA</td><td>NA</td><td>NA</td><td>NA</td><td>NA</td><td>NA</td><td>NA</td><td>NA</td><td>NA</td><td>NA</td><td>NA</td><td>NA</td></tr>\n",
       "\t<tr><th scope=row>4</th><td>coelEpi__AAGAB </td><td>1.225512e-04</td><td>-0.07575950</td><td>0.137</td><td>0.165</td><td>1.000000e+00</td><td>0</td><td>NA</td><td>NA</td><td>NA</td><td>NA</td><td>NA</td><td>NA</td><td>NA</td><td>NA</td><td>NA</td><td>NA</td><td>NA</td><td>NA</td></tr>\n",
       "\t<tr><th scope=row>5</th><td>coelEpi__AAMP  </td><td>3.491967e-17</td><td>-0.21063174</td><td>0.433</td><td>0.525</td><td>9.857824e-13</td><td>0</td><td>NA</td><td>NA</td><td>NA</td><td>NA</td><td>NA</td><td>NA</td><td>NA</td><td>NA</td><td>NA</td><td>NA</td><td>NA</td><td>NA</td></tr>\n",
       "\t<tr><th scope=row>6</th><td>coelEpi__AASDH </td><td>2.507657e-04</td><td>-0.07742730</td><td>0.131</td><td>0.156</td><td>1.000000e+00</td><td>0</td><td>NA</td><td>NA</td><td>NA</td><td>NA</td><td>NA</td><td>NA</td><td>NA</td><td>NA</td><td>NA</td><td>NA</td><td>NA</td><td>NA</td></tr>\n",
       "</tbody>\n",
       "</table>\n"
      ],
      "text/latex": [
       "A data.frame: 6 × 19\n",
       "\\begin{tabular}{r|lllllllllllllllllll}\n",
       "  & ID & scRNA\\_DEGs\\_p\\_val & scRNA\\_DEGs\\_avg\\_log2FC & scRNA\\_DEGs\\_pct.1 & scRNA\\_DEGs\\_pct.2 & scRNA\\_DEGs\\_p\\_val\\_adj & scRNA\\_DEGs & scRNA\\_TFact\\_p\\_val & scRNA\\_TFact\\_avg\\_log2FC & scRNA\\_TFact\\_p\\_val\\_adj & scRNA\\_TFact & snATAC\\_PWM & snATAC\\_TFact\\_p\\_val & snATAC\\_TFact\\_avg\\_log2FC & snATAC\\_TFact\\_p\\_val\\_adj & cluster & gene & TF & snATAC\\_TFact\\\\\n",
       "  & <chr> & <dbl> & <dbl> & <dbl> & <dbl> & <dbl> & <dbl> & <dbl> & <dbl> & <dbl> & <dbl> & <chr> & <dbl> & <dbl> & <dbl> & <chr> & <chr> & <chr> & <dbl>\\\\\n",
       "\\hline\n",
       "\t1 & coelEpi\\_\\_A1BG   & 3.908860e-05 &  0.09081064 & 0.194 & 0.145 & 1.000000e+00 & 0 & NA & NA & NA & NA & NA & NA & NA & NA & NA & NA & NA & NA\\\\\n",
       "\t2 & coelEpi\\_\\_A2ML1  & 1.092570e-43 & -0.18541273 & 0.009 & 0.127 & 3.084324e-39 & 0 & NA & NA & NA & NA & NA & NA & NA & NA & NA & NA & NA & NA\\\\\n",
       "\t3 & coelEpi\\_\\_A4GALT & 1.805626e-33 & -0.25571978 & 0.086 & 0.216 & 5.097282e-29 & 0 & NA & NA & NA & NA & NA & NA & NA & NA & NA & NA & NA & NA\\\\\n",
       "\t4 & coelEpi\\_\\_AAGAB  & 1.225512e-04 & -0.07575950 & 0.137 & 0.165 & 1.000000e+00 & 0 & NA & NA & NA & NA & NA & NA & NA & NA & NA & NA & NA & NA\\\\\n",
       "\t5 & coelEpi\\_\\_AAMP   & 3.491967e-17 & -0.21063174 & 0.433 & 0.525 & 9.857824e-13 & 0 & NA & NA & NA & NA & NA & NA & NA & NA & NA & NA & NA & NA\\\\\n",
       "\t6 & coelEpi\\_\\_AASDH  & 2.507657e-04 & -0.07742730 & 0.131 & 0.156 & 1.000000e+00 & 0 & NA & NA & NA & NA & NA & NA & NA & NA & NA & NA & NA & NA\\\\\n",
       "\\end{tabular}\n"
      ],
      "text/markdown": [
       "\n",
       "A data.frame: 6 × 19\n",
       "\n",
       "| <!--/--> | ID &lt;chr&gt; | scRNA_DEGs_p_val &lt;dbl&gt; | scRNA_DEGs_avg_log2FC &lt;dbl&gt; | scRNA_DEGs_pct.1 &lt;dbl&gt; | scRNA_DEGs_pct.2 &lt;dbl&gt; | scRNA_DEGs_p_val_adj &lt;dbl&gt; | scRNA_DEGs &lt;dbl&gt; | scRNA_TFact_p_val &lt;dbl&gt; | scRNA_TFact_avg_log2FC &lt;dbl&gt; | scRNA_TFact_p_val_adj &lt;dbl&gt; | scRNA_TFact &lt;dbl&gt; | snATAC_PWM &lt;chr&gt; | snATAC_TFact_p_val &lt;dbl&gt; | snATAC_TFact_avg_log2FC &lt;dbl&gt; | snATAC_TFact_p_val_adj &lt;dbl&gt; | cluster &lt;chr&gt; | gene &lt;chr&gt; | TF &lt;chr&gt; | snATAC_TFact &lt;dbl&gt; |\n",
       "|---|---|---|---|---|---|---|---|---|---|---|---|---|---|---|---|---|---|---|---|\n",
       "| 1 | coelEpi__A1BG   | 3.908860e-05 |  0.09081064 | 0.194 | 0.145 | 1.000000e+00 | 0 | NA | NA | NA | NA | NA | NA | NA | NA | NA | NA | NA | NA |\n",
       "| 2 | coelEpi__A2ML1  | 1.092570e-43 | -0.18541273 | 0.009 | 0.127 | 3.084324e-39 | 0 | NA | NA | NA | NA | NA | NA | NA | NA | NA | NA | NA | NA |\n",
       "| 3 | coelEpi__A4GALT | 1.805626e-33 | -0.25571978 | 0.086 | 0.216 | 5.097282e-29 | 0 | NA | NA | NA | NA | NA | NA | NA | NA | NA | NA | NA | NA |\n",
       "| 4 | coelEpi__AAGAB  | 1.225512e-04 | -0.07575950 | 0.137 | 0.165 | 1.000000e+00 | 0 | NA | NA | NA | NA | NA | NA | NA | NA | NA | NA | NA | NA |\n",
       "| 5 | coelEpi__AAMP   | 3.491967e-17 | -0.21063174 | 0.433 | 0.525 | 9.857824e-13 | 0 | NA | NA | NA | NA | NA | NA | NA | NA | NA | NA | NA | NA |\n",
       "| 6 | coelEpi__AASDH  | 2.507657e-04 | -0.07742730 | 0.131 | 0.156 | 1.000000e+00 | 0 | NA | NA | NA | NA | NA | NA | NA | NA | NA | NA | NA | NA |\n",
       "\n"
      ],
      "text/plain": [
       "  ID              scRNA_DEGs_p_val scRNA_DEGs_avg_log2FC scRNA_DEGs_pct.1\n",
       "1 coelEpi__A1BG   3.908860e-05      0.09081064           0.194           \n",
       "2 coelEpi__A2ML1  1.092570e-43     -0.18541273           0.009           \n",
       "3 coelEpi__A4GALT 1.805626e-33     -0.25571978           0.086           \n",
       "4 coelEpi__AAGAB  1.225512e-04     -0.07575950           0.137           \n",
       "5 coelEpi__AAMP   3.491967e-17     -0.21063174           0.433           \n",
       "6 coelEpi__AASDH  2.507657e-04     -0.07742730           0.131           \n",
       "  scRNA_DEGs_pct.2 scRNA_DEGs_p_val_adj scRNA_DEGs scRNA_TFact_p_val\n",
       "1 0.145            1.000000e+00         0          NA               \n",
       "2 0.127            3.084324e-39         0          NA               \n",
       "3 0.216            5.097282e-29         0          NA               \n",
       "4 0.165            1.000000e+00         0          NA               \n",
       "5 0.525            9.857824e-13         0          NA               \n",
       "6 0.156            1.000000e+00         0          NA               \n",
       "  scRNA_TFact_avg_log2FC scRNA_TFact_p_val_adj scRNA_TFact snATAC_PWM\n",
       "1 NA                     NA                    NA          NA        \n",
       "2 NA                     NA                    NA          NA        \n",
       "3 NA                     NA                    NA          NA        \n",
       "4 NA                     NA                    NA          NA        \n",
       "5 NA                     NA                    NA          NA        \n",
       "6 NA                     NA                    NA          NA        \n",
       "  snATAC_TFact_p_val snATAC_TFact_avg_log2FC snATAC_TFact_p_val_adj cluster\n",
       "1 NA                 NA                      NA                     NA     \n",
       "2 NA                 NA                      NA                     NA     \n",
       "3 NA                 NA                      NA                     NA     \n",
       "4 NA                 NA                      NA                     NA     \n",
       "5 NA                 NA                      NA                     NA     \n",
       "6 NA                 NA                      NA                     NA     \n",
       "  gene TF snATAC_TFact\n",
       "1 NA   NA NA          \n",
       "2 NA   NA NA          \n",
       "3 NA   NA NA          \n",
       "4 NA   NA NA          \n",
       "5 NA   NA NA          \n",
       "6 NA   NA NA          "
      ]
     },
     "metadata": {},
     "output_type": "display_data"
    }
   ],
   "source": [
    "df = merge(DEGs, TFact, by = 'ID', all = T)\n",
    "df = df[, grep('y$', names(df), invert = T) ] # remove unwanted columns\n",
    "df = merge(df, TFmotifs, by = 'ID', all = T)\n",
    "df = df[, grep('y$', names(df), invert = T) ] # remove unwanted columns\n",
    "df = df[, grep('x$', names(df), invert = T) ] # remove unwanted columns\n",
    "head(df)"
   ]
  },
  {
   "cell_type": "code",
   "execution_count": 28,
   "metadata": {},
   "outputs": [
    {
     "data": {
      "text/html": [
       "<table class=\"dataframe\">\n",
       "<caption>A data.frame: 6 × 20</caption>\n",
       "<thead>\n",
       "\t<tr><th></th><th scope=col>cluster</th><th scope=col>gene</th><th scope=col>ID</th><th scope=col>scRNA_DEGs</th><th scope=col>scRNA_DEGs_avg_log2FC</th><th scope=col>scRNA_DEGs_p_val</th><th scope=col>scRNA_DEGs_p_val_adj</th><th scope=col>scRNA_DEGs_pct.1</th><th scope=col>scRNA_DEGs_pct.2</th><th scope=col>scRNA_TFact</th><th scope=col>scRNA_TFact_avg_log2FC</th><th scope=col>scRNA_TFact_p_val</th><th scope=col>scRNA_TFact_p_val_adj</th><th scope=col>snATAC_PWM</th><th scope=col>snATAC_TFact</th><th scope=col>snATAC_TFact_avg_log2FC</th><th scope=col>snATAC_TFact_p_val</th><th scope=col>snATAC_TFact_p_val_adj</th><th scope=col>TF</th><th scope=col>N_agreement</th></tr>\n",
       "\t<tr><th></th><th scope=col>&lt;chr&gt;</th><th scope=col>&lt;chr&gt;</th><th scope=col>&lt;chr&gt;</th><th scope=col>&lt;dbl&gt;</th><th scope=col>&lt;dbl&gt;</th><th scope=col>&lt;dbl&gt;</th><th scope=col>&lt;dbl&gt;</th><th scope=col>&lt;dbl&gt;</th><th scope=col>&lt;dbl&gt;</th><th scope=col>&lt;dbl&gt;</th><th scope=col>&lt;dbl&gt;</th><th scope=col>&lt;dbl&gt;</th><th scope=col>&lt;dbl&gt;</th><th scope=col>&lt;chr&gt;</th><th scope=col>&lt;dbl&gt;</th><th scope=col>&lt;dbl&gt;</th><th scope=col>&lt;dbl&gt;</th><th scope=col>&lt;dbl&gt;</th><th scope=col>&lt;chr&gt;</th><th scope=col>&lt;dbl&gt;</th></tr>\n",
       "</thead>\n",
       "<tbody>\n",
       "\t<tr><th scope=row>1</th><td>coelEpi</td><td>NA</td><td>coelEpi__A1BG  </td><td>0</td><td> 0.09081064</td><td>3.908860e-05</td><td>1.000000e+00</td><td>0.194</td><td>0.145</td><td>NA</td><td>NA</td><td>NA</td><td>NA</td><td>NA</td><td>NA</td><td>NA</td><td>NA</td><td>NA</td><td>A1BG  </td><td>0</td></tr>\n",
       "\t<tr><th scope=row>2</th><td>coelEpi</td><td>NA</td><td>coelEpi__A2ML1 </td><td>0</td><td>-0.18541273</td><td>1.092570e-43</td><td>3.084324e-39</td><td>0.009</td><td>0.127</td><td>NA</td><td>NA</td><td>NA</td><td>NA</td><td>NA</td><td>NA</td><td>NA</td><td>NA</td><td>NA</td><td>A2ML1 </td><td>0</td></tr>\n",
       "\t<tr><th scope=row>3</th><td>coelEpi</td><td>NA</td><td>coelEpi__A4GALT</td><td>0</td><td>-0.25571978</td><td>1.805626e-33</td><td>5.097282e-29</td><td>0.086</td><td>0.216</td><td>NA</td><td>NA</td><td>NA</td><td>NA</td><td>NA</td><td>NA</td><td>NA</td><td>NA</td><td>NA</td><td>A4GALT</td><td>0</td></tr>\n",
       "\t<tr><th scope=row>4</th><td>coelEpi</td><td>NA</td><td>coelEpi__AAGAB </td><td>0</td><td>-0.07575950</td><td>1.225512e-04</td><td>1.000000e+00</td><td>0.137</td><td>0.165</td><td>NA</td><td>NA</td><td>NA</td><td>NA</td><td>NA</td><td>NA</td><td>NA</td><td>NA</td><td>NA</td><td>AAGAB </td><td>0</td></tr>\n",
       "\t<tr><th scope=row>5</th><td>coelEpi</td><td>NA</td><td>coelEpi__AAMP  </td><td>0</td><td>-0.21063174</td><td>3.491967e-17</td><td>9.857824e-13</td><td>0.433</td><td>0.525</td><td>NA</td><td>NA</td><td>NA</td><td>NA</td><td>NA</td><td>NA</td><td>NA</td><td>NA</td><td>NA</td><td>AAMP  </td><td>0</td></tr>\n",
       "\t<tr><th scope=row>6</th><td>coelEpi</td><td>NA</td><td>coelEpi__AASDH </td><td>0</td><td>-0.07742730</td><td>2.507657e-04</td><td>1.000000e+00</td><td>0.131</td><td>0.156</td><td>NA</td><td>NA</td><td>NA</td><td>NA</td><td>NA</td><td>NA</td><td>NA</td><td>NA</td><td>NA</td><td>AASDH </td><td>0</td></tr>\n",
       "</tbody>\n",
       "</table>\n"
      ],
      "text/latex": [
       "A data.frame: 6 × 20\n",
       "\\begin{tabular}{r|llllllllllllllllllll}\n",
       "  & cluster & gene & ID & scRNA\\_DEGs & scRNA\\_DEGs\\_avg\\_log2FC & scRNA\\_DEGs\\_p\\_val & scRNA\\_DEGs\\_p\\_val\\_adj & scRNA\\_DEGs\\_pct.1 & scRNA\\_DEGs\\_pct.2 & scRNA\\_TFact & scRNA\\_TFact\\_avg\\_log2FC & scRNA\\_TFact\\_p\\_val & scRNA\\_TFact\\_p\\_val\\_adj & snATAC\\_PWM & snATAC\\_TFact & snATAC\\_TFact\\_avg\\_log2FC & snATAC\\_TFact\\_p\\_val & snATAC\\_TFact\\_p\\_val\\_adj & TF & N\\_agreement\\\\\n",
       "  & <chr> & <chr> & <chr> & <dbl> & <dbl> & <dbl> & <dbl> & <dbl> & <dbl> & <dbl> & <dbl> & <dbl> & <dbl> & <chr> & <dbl> & <dbl> & <dbl> & <dbl> & <chr> & <dbl>\\\\\n",
       "\\hline\n",
       "\t1 & coelEpi & NA & coelEpi\\_\\_A1BG   & 0 &  0.09081064 & 3.908860e-05 & 1.000000e+00 & 0.194 & 0.145 & NA & NA & NA & NA & NA & NA & NA & NA & NA & A1BG   & 0\\\\\n",
       "\t2 & coelEpi & NA & coelEpi\\_\\_A2ML1  & 0 & -0.18541273 & 1.092570e-43 & 3.084324e-39 & 0.009 & 0.127 & NA & NA & NA & NA & NA & NA & NA & NA & NA & A2ML1  & 0\\\\\n",
       "\t3 & coelEpi & NA & coelEpi\\_\\_A4GALT & 0 & -0.25571978 & 1.805626e-33 & 5.097282e-29 & 0.086 & 0.216 & NA & NA & NA & NA & NA & NA & NA & NA & NA & A4GALT & 0\\\\\n",
       "\t4 & coelEpi & NA & coelEpi\\_\\_AAGAB  & 0 & -0.07575950 & 1.225512e-04 & 1.000000e+00 & 0.137 & 0.165 & NA & NA & NA & NA & NA & NA & NA & NA & NA & AAGAB  & 0\\\\\n",
       "\t5 & coelEpi & NA & coelEpi\\_\\_AAMP   & 0 & -0.21063174 & 3.491967e-17 & 9.857824e-13 & 0.433 & 0.525 & NA & NA & NA & NA & NA & NA & NA & NA & NA & AAMP   & 0\\\\\n",
       "\t6 & coelEpi & NA & coelEpi\\_\\_AASDH  & 0 & -0.07742730 & 2.507657e-04 & 1.000000e+00 & 0.131 & 0.156 & NA & NA & NA & NA & NA & NA & NA & NA & NA & AASDH  & 0\\\\\n",
       "\\end{tabular}\n"
      ],
      "text/markdown": [
       "\n",
       "A data.frame: 6 × 20\n",
       "\n",
       "| <!--/--> | cluster &lt;chr&gt; | gene &lt;chr&gt; | ID &lt;chr&gt; | scRNA_DEGs &lt;dbl&gt; | scRNA_DEGs_avg_log2FC &lt;dbl&gt; | scRNA_DEGs_p_val &lt;dbl&gt; | scRNA_DEGs_p_val_adj &lt;dbl&gt; | scRNA_DEGs_pct.1 &lt;dbl&gt; | scRNA_DEGs_pct.2 &lt;dbl&gt; | scRNA_TFact &lt;dbl&gt; | scRNA_TFact_avg_log2FC &lt;dbl&gt; | scRNA_TFact_p_val &lt;dbl&gt; | scRNA_TFact_p_val_adj &lt;dbl&gt; | snATAC_PWM &lt;chr&gt; | snATAC_TFact &lt;dbl&gt; | snATAC_TFact_avg_log2FC &lt;dbl&gt; | snATAC_TFact_p_val &lt;dbl&gt; | snATAC_TFact_p_val_adj &lt;dbl&gt; | TF &lt;chr&gt; | N_agreement &lt;dbl&gt; |\n",
       "|---|---|---|---|---|---|---|---|---|---|---|---|---|---|---|---|---|---|---|---|---|\n",
       "| 1 | coelEpi | NA | coelEpi__A1BG   | 0 |  0.09081064 | 3.908860e-05 | 1.000000e+00 | 0.194 | 0.145 | NA | NA | NA | NA | NA | NA | NA | NA | NA | A1BG   | 0 |\n",
       "| 2 | coelEpi | NA | coelEpi__A2ML1  | 0 | -0.18541273 | 1.092570e-43 | 3.084324e-39 | 0.009 | 0.127 | NA | NA | NA | NA | NA | NA | NA | NA | NA | A2ML1  | 0 |\n",
       "| 3 | coelEpi | NA | coelEpi__A4GALT | 0 | -0.25571978 | 1.805626e-33 | 5.097282e-29 | 0.086 | 0.216 | NA | NA | NA | NA | NA | NA | NA | NA | NA | A4GALT | 0 |\n",
       "| 4 | coelEpi | NA | coelEpi__AAGAB  | 0 | -0.07575950 | 1.225512e-04 | 1.000000e+00 | 0.137 | 0.165 | NA | NA | NA | NA | NA | NA | NA | NA | NA | AAGAB  | 0 |\n",
       "| 5 | coelEpi | NA | coelEpi__AAMP   | 0 | -0.21063174 | 3.491967e-17 | 9.857824e-13 | 0.433 | 0.525 | NA | NA | NA | NA | NA | NA | NA | NA | NA | AAMP   | 0 |\n",
       "| 6 | coelEpi | NA | coelEpi__AASDH  | 0 | -0.07742730 | 2.507657e-04 | 1.000000e+00 | 0.131 | 0.156 | NA | NA | NA | NA | NA | NA | NA | NA | NA | AASDH  | 0 |\n",
       "\n"
      ],
      "text/plain": [
       "  cluster gene ID              scRNA_DEGs scRNA_DEGs_avg_log2FC\n",
       "1 coelEpi NA   coelEpi__A1BG   0           0.09081064          \n",
       "2 coelEpi NA   coelEpi__A2ML1  0          -0.18541273          \n",
       "3 coelEpi NA   coelEpi__A4GALT 0          -0.25571978          \n",
       "4 coelEpi NA   coelEpi__AAGAB  0          -0.07575950          \n",
       "5 coelEpi NA   coelEpi__AAMP   0          -0.21063174          \n",
       "6 coelEpi NA   coelEpi__AASDH  0          -0.07742730          \n",
       "  scRNA_DEGs_p_val scRNA_DEGs_p_val_adj scRNA_DEGs_pct.1 scRNA_DEGs_pct.2\n",
       "1 3.908860e-05     1.000000e+00         0.194            0.145           \n",
       "2 1.092570e-43     3.084324e-39         0.009            0.127           \n",
       "3 1.805626e-33     5.097282e-29         0.086            0.216           \n",
       "4 1.225512e-04     1.000000e+00         0.137            0.165           \n",
       "5 3.491967e-17     9.857824e-13         0.433            0.525           \n",
       "6 2.507657e-04     1.000000e+00         0.131            0.156           \n",
       "  scRNA_TFact scRNA_TFact_avg_log2FC scRNA_TFact_p_val scRNA_TFact_p_val_adj\n",
       "1 NA          NA                     NA                NA                   \n",
       "2 NA          NA                     NA                NA                   \n",
       "3 NA          NA                     NA                NA                   \n",
       "4 NA          NA                     NA                NA                   \n",
       "5 NA          NA                     NA                NA                   \n",
       "6 NA          NA                     NA                NA                   \n",
       "  snATAC_PWM snATAC_TFact snATAC_TFact_avg_log2FC snATAC_TFact_p_val\n",
       "1 NA         NA           NA                      NA                \n",
       "2 NA         NA           NA                      NA                \n",
       "3 NA         NA           NA                      NA                \n",
       "4 NA         NA           NA                      NA                \n",
       "5 NA         NA           NA                      NA                \n",
       "6 NA         NA           NA                      NA                \n",
       "  snATAC_TFact_p_val_adj TF     N_agreement\n",
       "1 NA                     A1BG   0          \n",
       "2 NA                     A2ML1  0          \n",
       "3 NA                     A4GALT 0          \n",
       "4 NA                     AAGAB  0          \n",
       "5 NA                     AAMP   0          \n",
       "6 NA                     AASDH  0          "
      ]
     },
     "metadata": {},
     "output_type": "display_data"
    }
   ],
   "source": [
    "df = df[ , ! names(df) %in% c('L1' ) ]\n",
    "df$cluster = strsplit(df$ID, '__') %>% sapply(., head, 1)\n",
    "df$TF = strsplit(df$ID, '__') %>% sapply(., tail, 1)\n",
    "df = df[, sort(names(df)) ]\n",
    "df$N_agreement = apply(df[, c('scRNA_DEGs', 'scRNA_TFact', 'snATAC_TFact') ], 1, function(x){\n",
    "    x[ is.na(x) ] = 0\n",
    "    sum(x)\n",
    "})\n",
    "head(df)"
   ]
  },
  {
   "cell_type": "code",
   "execution_count": 29,
   "metadata": {},
   "outputs": [
    {
     "data": {
      "text/html": [
       "<table class=\"dataframe\">\n",
       "<caption>A data.frame: 6 × 20</caption>\n",
       "<thead>\n",
       "\t<tr><th></th><th scope=col>cluster</th><th scope=col>TF</th><th scope=col>N_agreement</th><th scope=col>snATAC_PWM</th><th scope=col>ID</th><th scope=col>scRNA_DEGs</th><th scope=col>scRNA_DEGs_avg_log2FC</th><th scope=col>scRNA_DEGs_p_val</th><th scope=col>scRNA_DEGs_p_val_adj</th><th scope=col>scRNA_DEGs_pct.1</th><th scope=col>scRNA_DEGs_pct.2</th><th scope=col>scRNA_TFact</th><th scope=col>scRNA_TFact_avg_log2FC</th><th scope=col>scRNA_TFact_p_val</th><th scope=col>scRNA_TFact_p_val_adj</th><th scope=col>snATAC_PWM.1</th><th scope=col>snATAC_TFact</th><th scope=col>snATAC_TFact_avg_log2FC</th><th scope=col>snATAC_TFact_p_val</th><th scope=col>snATAC_TFact_p_val_adj</th></tr>\n",
       "\t<tr><th></th><th scope=col>&lt;chr&gt;</th><th scope=col>&lt;chr&gt;</th><th scope=col>&lt;dbl&gt;</th><th scope=col>&lt;chr&gt;</th><th scope=col>&lt;chr&gt;</th><th scope=col>&lt;dbl&gt;</th><th scope=col>&lt;dbl&gt;</th><th scope=col>&lt;dbl&gt;</th><th scope=col>&lt;dbl&gt;</th><th scope=col>&lt;dbl&gt;</th><th scope=col>&lt;dbl&gt;</th><th scope=col>&lt;dbl&gt;</th><th scope=col>&lt;dbl&gt;</th><th scope=col>&lt;dbl&gt;</th><th scope=col>&lt;dbl&gt;</th><th scope=col>&lt;chr&gt;</th><th scope=col>&lt;dbl&gt;</th><th scope=col>&lt;dbl&gt;</th><th scope=col>&lt;dbl&gt;</th><th scope=col>&lt;dbl&gt;</th></tr>\n",
       "</thead>\n",
       "<tbody>\n",
       "\t<tr><th scope=row>14575</th><td>FetalLeydig-like</td><td>YBX1  </td><td>3</td><td>YBX1.SwissRegulon    </td><td>FetalLeydig-like__YBX1</td><td>1</td><td>0.5508477</td><td>9.972751e-16</td><td>2.815308e-11</td><td>0.780</td><td>0.880</td><td>1</td><td>0.1610803</td><td>2.000404e-09</td><td>2.770559e-06</td><td>YBX1.SwissRegulon    </td><td>1</td><td> 0.3061308</td><td> 3.362260e-14</td><td> 6.455540e-11</td></tr>\n",
       "\t<tr><th scope=row>15534</th><td>ovarianSurf     </td><td>ARX   </td><td>3</td><td>ARX-HUMAN.H10MO.D.4  </td><td>ovarianSurf__ARX      </td><td>1</td><td>0.2637713</td><td>9.065451e-74</td><td>2.559177e-69</td><td>0.256</td><td>0.043</td><td>1</td><td>0.4953523</td><td>1.461708e-28</td><td>2.024465e-25</td><td>ARX-HUMAN.H10MO.D.4  </td><td>1</td><td> 2.0150131</td><td> 0.000000e+00</td><td> 0.000000e+00</td></tr>\n",
       "\t<tr><th scope=row>16626</th><td>ovarianSurf     </td><td>EMX1  </td><td>3</td><td>EMX1.MA0612.1.4      </td><td>ovarianSurf__EMX1     </td><td>1</td><td>0.1091104</td><td>6.854979e-54</td><td>1.935161e-49</td><td>0.088</td><td>0.004</td><td>1</td><td>0.4774452</td><td>3.028194e-30</td><td>4.194049e-27</td><td>EMX1.MA0612.1.4      </td><td>1</td><td>14.2640310</td><td> 0.000000e+00</td><td> 0.000000e+00</td></tr>\n",
       "\t<tr><th scope=row>16627</th><td>ovarianSurf     </td><td>EMX2  </td><td>3</td><td>EMX2.MA0886.1.4      </td><td>ovarianSurf__EMX2     </td><td>1</td><td>0.4177310</td><td>2.436230e-86</td><td>6.877476e-82</td><td>0.809</td><td>0.473</td><td>1</td><td>0.2357156</td><td>4.094425e-23</td><td>5.670778e-20</td><td>EMX2.MA0886.1.4      </td><td>1</td><td>16.3513353</td><td> 0.000000e+00</td><td> 0.000000e+00</td></tr>\n",
       "\t<tr><th scope=row>17318</th><td>ovarianSurf     </td><td>HOXD10</td><td>3</td><td>HOXD10.SwissRegulon.4</td><td>ovarianSurf__HOXD10   </td><td>1</td><td>0.1006133</td><td>1.566094e-12</td><td>4.421082e-08</td><td>0.087</td><td>0.032</td><td>1</td><td>0.2693982</td><td>1.837990e-13</td><td>2.545616e-10</td><td>HOXD10.SwissRegulon.4</td><td>1</td><td> 0.6432385</td><td>5.581362e-190</td><td>1.071621e-186</td></tr>\n",
       "\t<tr><th scope=row>17324</th><td>ovarianSurf     </td><td>HOXD9 </td><td>3</td><td>HOXD9.SwissRegulon.4 </td><td>ovarianSurf__HOXD9    </td><td>1</td><td>0.3546840</td><td>2.594671e-62</td><td>7.324757e-58</td><td>0.543</td><td>0.256</td><td>1</td><td>0.2419463</td><td>1.765061e-06</td><td>2.444610e-03</td><td>HOXD9.SwissRegulon.4 </td><td>1</td><td> 3.5176353</td><td> 0.000000e+00</td><td> 0.000000e+00</td></tr>\n",
       "</tbody>\n",
       "</table>\n"
      ],
      "text/latex": [
       "A data.frame: 6 × 20\n",
       "\\begin{tabular}{r|llllllllllllllllllll}\n",
       "  & cluster & TF & N\\_agreement & snATAC\\_PWM & ID & scRNA\\_DEGs & scRNA\\_DEGs\\_avg\\_log2FC & scRNA\\_DEGs\\_p\\_val & scRNA\\_DEGs\\_p\\_val\\_adj & scRNA\\_DEGs\\_pct.1 & scRNA\\_DEGs\\_pct.2 & scRNA\\_TFact & scRNA\\_TFact\\_avg\\_log2FC & scRNA\\_TFact\\_p\\_val & scRNA\\_TFact\\_p\\_val\\_adj & snATAC\\_PWM.1 & snATAC\\_TFact & snATAC\\_TFact\\_avg\\_log2FC & snATAC\\_TFact\\_p\\_val & snATAC\\_TFact\\_p\\_val\\_adj\\\\\n",
       "  & <chr> & <chr> & <dbl> & <chr> & <chr> & <dbl> & <dbl> & <dbl> & <dbl> & <dbl> & <dbl> & <dbl> & <dbl> & <dbl> & <dbl> & <chr> & <dbl> & <dbl> & <dbl> & <dbl>\\\\\n",
       "\\hline\n",
       "\t14575 & FetalLeydig-like & YBX1   & 3 & YBX1.SwissRegulon     & FetalLeydig-like\\_\\_YBX1 & 1 & 0.5508477 & 9.972751e-16 & 2.815308e-11 & 0.780 & 0.880 & 1 & 0.1610803 & 2.000404e-09 & 2.770559e-06 & YBX1.SwissRegulon     & 1 &  0.3061308 &  3.362260e-14 &  6.455540e-11\\\\\n",
       "\t15534 & ovarianSurf      & ARX    & 3 & ARX-HUMAN.H10MO.D.4   & ovarianSurf\\_\\_ARX       & 1 & 0.2637713 & 9.065451e-74 & 2.559177e-69 & 0.256 & 0.043 & 1 & 0.4953523 & 1.461708e-28 & 2.024465e-25 & ARX-HUMAN.H10MO.D.4   & 1 &  2.0150131 &  0.000000e+00 &  0.000000e+00\\\\\n",
       "\t16626 & ovarianSurf      & EMX1   & 3 & EMX1.MA0612.1.4       & ovarianSurf\\_\\_EMX1      & 1 & 0.1091104 & 6.854979e-54 & 1.935161e-49 & 0.088 & 0.004 & 1 & 0.4774452 & 3.028194e-30 & 4.194049e-27 & EMX1.MA0612.1.4       & 1 & 14.2640310 &  0.000000e+00 &  0.000000e+00\\\\\n",
       "\t16627 & ovarianSurf      & EMX2   & 3 & EMX2.MA0886.1.4       & ovarianSurf\\_\\_EMX2      & 1 & 0.4177310 & 2.436230e-86 & 6.877476e-82 & 0.809 & 0.473 & 1 & 0.2357156 & 4.094425e-23 & 5.670778e-20 & EMX2.MA0886.1.4       & 1 & 16.3513353 &  0.000000e+00 &  0.000000e+00\\\\\n",
       "\t17318 & ovarianSurf      & HOXD10 & 3 & HOXD10.SwissRegulon.4 & ovarianSurf\\_\\_HOXD10    & 1 & 0.1006133 & 1.566094e-12 & 4.421082e-08 & 0.087 & 0.032 & 1 & 0.2693982 & 1.837990e-13 & 2.545616e-10 & HOXD10.SwissRegulon.4 & 1 &  0.6432385 & 5.581362e-190 & 1.071621e-186\\\\\n",
       "\t17324 & ovarianSurf      & HOXD9  & 3 & HOXD9.SwissRegulon.4  & ovarianSurf\\_\\_HOXD9     & 1 & 0.3546840 & 2.594671e-62 & 7.324757e-58 & 0.543 & 0.256 & 1 & 0.2419463 & 1.765061e-06 & 2.444610e-03 & HOXD9.SwissRegulon.4  & 1 &  3.5176353 &  0.000000e+00 &  0.000000e+00\\\\\n",
       "\\end{tabular}\n"
      ],
      "text/markdown": [
       "\n",
       "A data.frame: 6 × 20\n",
       "\n",
       "| <!--/--> | cluster &lt;chr&gt; | TF &lt;chr&gt; | N_agreement &lt;dbl&gt; | snATAC_PWM &lt;chr&gt; | ID &lt;chr&gt; | scRNA_DEGs &lt;dbl&gt; | scRNA_DEGs_avg_log2FC &lt;dbl&gt; | scRNA_DEGs_p_val &lt;dbl&gt; | scRNA_DEGs_p_val_adj &lt;dbl&gt; | scRNA_DEGs_pct.1 &lt;dbl&gt; | scRNA_DEGs_pct.2 &lt;dbl&gt; | scRNA_TFact &lt;dbl&gt; | scRNA_TFact_avg_log2FC &lt;dbl&gt; | scRNA_TFact_p_val &lt;dbl&gt; | scRNA_TFact_p_val_adj &lt;dbl&gt; | snATAC_PWM.1 &lt;chr&gt; | snATAC_TFact &lt;dbl&gt; | snATAC_TFact_avg_log2FC &lt;dbl&gt; | snATAC_TFact_p_val &lt;dbl&gt; | snATAC_TFact_p_val_adj &lt;dbl&gt; |\n",
       "|---|---|---|---|---|---|---|---|---|---|---|---|---|---|---|---|---|---|---|---|---|\n",
       "| 14575 | FetalLeydig-like | YBX1   | 3 | YBX1.SwissRegulon     | FetalLeydig-like__YBX1 | 1 | 0.5508477 | 9.972751e-16 | 2.815308e-11 | 0.780 | 0.880 | 1 | 0.1610803 | 2.000404e-09 | 2.770559e-06 | YBX1.SwissRegulon     | 1 |  0.3061308 |  3.362260e-14 |  6.455540e-11 |\n",
       "| 15534 | ovarianSurf      | ARX    | 3 | ARX-HUMAN.H10MO.D.4   | ovarianSurf__ARX       | 1 | 0.2637713 | 9.065451e-74 | 2.559177e-69 | 0.256 | 0.043 | 1 | 0.4953523 | 1.461708e-28 | 2.024465e-25 | ARX-HUMAN.H10MO.D.4   | 1 |  2.0150131 |  0.000000e+00 |  0.000000e+00 |\n",
       "| 16626 | ovarianSurf      | EMX1   | 3 | EMX1.MA0612.1.4       | ovarianSurf__EMX1      | 1 | 0.1091104 | 6.854979e-54 | 1.935161e-49 | 0.088 | 0.004 | 1 | 0.4774452 | 3.028194e-30 | 4.194049e-27 | EMX1.MA0612.1.4       | 1 | 14.2640310 |  0.000000e+00 |  0.000000e+00 |\n",
       "| 16627 | ovarianSurf      | EMX2   | 3 | EMX2.MA0886.1.4       | ovarianSurf__EMX2      | 1 | 0.4177310 | 2.436230e-86 | 6.877476e-82 | 0.809 | 0.473 | 1 | 0.2357156 | 4.094425e-23 | 5.670778e-20 | EMX2.MA0886.1.4       | 1 | 16.3513353 |  0.000000e+00 |  0.000000e+00 |\n",
       "| 17318 | ovarianSurf      | HOXD10 | 3 | HOXD10.SwissRegulon.4 | ovarianSurf__HOXD10    | 1 | 0.1006133 | 1.566094e-12 | 4.421082e-08 | 0.087 | 0.032 | 1 | 0.2693982 | 1.837990e-13 | 2.545616e-10 | HOXD10.SwissRegulon.4 | 1 |  0.6432385 | 5.581362e-190 | 1.071621e-186 |\n",
       "| 17324 | ovarianSurf      | HOXD9  | 3 | HOXD9.SwissRegulon.4  | ovarianSurf__HOXD9     | 1 | 0.3546840 | 2.594671e-62 | 7.324757e-58 | 0.543 | 0.256 | 1 | 0.2419463 | 1.765061e-06 | 2.444610e-03 | HOXD9.SwissRegulon.4  | 1 |  3.5176353 |  0.000000e+00 |  0.000000e+00 |\n",
       "\n"
      ],
      "text/plain": [
       "      cluster          TF     N_agreement snATAC_PWM           \n",
       "14575 FetalLeydig-like YBX1   3           YBX1.SwissRegulon    \n",
       "15534 ovarianSurf      ARX    3           ARX-HUMAN.H10MO.D.4  \n",
       "16626 ovarianSurf      EMX1   3           EMX1.MA0612.1.4      \n",
       "16627 ovarianSurf      EMX2   3           EMX2.MA0886.1.4      \n",
       "17318 ovarianSurf      HOXD10 3           HOXD10.SwissRegulon.4\n",
       "17324 ovarianSurf      HOXD9  3           HOXD9.SwissRegulon.4 \n",
       "      ID                     scRNA_DEGs scRNA_DEGs_avg_log2FC scRNA_DEGs_p_val\n",
       "14575 FetalLeydig-like__YBX1 1          0.5508477             9.972751e-16    \n",
       "15534 ovarianSurf__ARX       1          0.2637713             9.065451e-74    \n",
       "16626 ovarianSurf__EMX1      1          0.1091104             6.854979e-54    \n",
       "16627 ovarianSurf__EMX2      1          0.4177310             2.436230e-86    \n",
       "17318 ovarianSurf__HOXD10    1          0.1006133             1.566094e-12    \n",
       "17324 ovarianSurf__HOXD9     1          0.3546840             2.594671e-62    \n",
       "      scRNA_DEGs_p_val_adj scRNA_DEGs_pct.1 scRNA_DEGs_pct.2 scRNA_TFact\n",
       "14575 2.815308e-11         0.780            0.880            1          \n",
       "15534 2.559177e-69         0.256            0.043            1          \n",
       "16626 1.935161e-49         0.088            0.004            1          \n",
       "16627 6.877476e-82         0.809            0.473            1          \n",
       "17318 4.421082e-08         0.087            0.032            1          \n",
       "17324 7.324757e-58         0.543            0.256            1          \n",
       "      scRNA_TFact_avg_log2FC scRNA_TFact_p_val scRNA_TFact_p_val_adj\n",
       "14575 0.1610803              2.000404e-09      2.770559e-06         \n",
       "15534 0.4953523              1.461708e-28      2.024465e-25         \n",
       "16626 0.4774452              3.028194e-30      4.194049e-27         \n",
       "16627 0.2357156              4.094425e-23      5.670778e-20         \n",
       "17318 0.2693982              1.837990e-13      2.545616e-10         \n",
       "17324 0.2419463              1.765061e-06      2.444610e-03         \n",
       "      snATAC_PWM.1          snATAC_TFact snATAC_TFact_avg_log2FC\n",
       "14575 YBX1.SwissRegulon     1             0.3061308             \n",
       "15534 ARX-HUMAN.H10MO.D.4   1             2.0150131             \n",
       "16626 EMX1.MA0612.1.4       1            14.2640310             \n",
       "16627 EMX2.MA0886.1.4       1            16.3513353             \n",
       "17318 HOXD10.SwissRegulon.4 1             0.6432385             \n",
       "17324 HOXD9.SwissRegulon.4  1             3.5176353             \n",
       "      snATAC_TFact_p_val snATAC_TFact_p_val_adj\n",
       "14575  3.362260e-14       6.455540e-11         \n",
       "15534  0.000000e+00       0.000000e+00         \n",
       "16626  0.000000e+00       0.000000e+00         \n",
       "16627  0.000000e+00       0.000000e+00         \n",
       "17318 5.581362e-190      1.071621e-186         \n",
       "17324  0.000000e+00       0.000000e+00         "
      ]
     },
     "metadata": {},
     "output_type": "display_data"
    }
   ],
   "source": [
    "df = df[ order(df$N_agreement, decreasing = T) , ]\n",
    "df = df[ , c(1,19, 20,  14,  3:(ncol(df)-2)) ]\n",
    "write.csv(df, file = 'figures-supporting/0_FS2_table_TFs_intersection.csv', row.names=F)\n",
    "head(df)"
   ]
  },
  {
   "cell_type": "markdown",
   "metadata": {},
   "source": [
    "# Plot - shared"
   ]
  },
  {
   "cell_type": "code",
   "execution_count": 43,
   "metadata": {},
   "outputs": [
    {
     "data": {
      "text/html": [
       "103"
      ],
      "text/latex": [
       "103"
      ],
      "text/markdown": [
       "103"
      ],
      "text/plain": [
       "[1] 103"
      ]
     },
     "metadata": {},
     "output_type": "display_data"
    }
   ],
   "source": [
    "# # Define clusters to plot \n",
    "# CLofinterest = c('coelEpi','sKITLG','sLGR5_male', 'sLGR5_female', 'sPAX8b', 'sPAX8m', \n",
    "#                  'Sertoli_WFDC2', 'Sertoli', 'Sertoli_low',  'FetalLeydig-like',\n",
    "#                  'preGC_I_OSR1', 'ovarianSurf', 'preGC_II', 'preGC_II_hypoxia', 'preGC_III', 'preGC_III_Notch')\n",
    "CLofinterest = c('sLGR5_female', \n",
    "                 'preGC_I_OSR1', 'ovarianSurf', 'preGC_II', 'preGC_II_hypoxia', 'preGC_III', 'preGC_III_Notch')\n",
    "\n",
    "\n",
    "# and order accordingly\n",
    "idx_cl = sapply(CLofinterest, function(x) which(df$cluster == x)) %>% unlist(.)\n",
    "df =  df[idx_cl, ]                \n",
    "\n",
    "                \n",
    "                \n",
    "# Define clusters to plot                \n",
    "idx_tf = which(df$N_agreement == 3 | \n",
    "               (df$N_agreement == 2 & df$scRNA_DEGs == 1 & df$scRNA_DEGs_avg_log2FC > 0.5 ) |\n",
    "               (df$N_agreement == 2 & df$scRNA_DEGs == 1 & df$snATAC_TFact_avg_log2FC > 1 ) |\n",
    "               (df$N_agreement == 2 & df$scRNA_DEGs == 1 & df$scRNA_TFact_avg_log2FC > 1 )\n",
    "              )\n",
    "TFofinterest = df[idx_tf, ]$TF  \n",
    "# TFofinterest = unique(df[df$N_agreement >= 1, ]$TF)                 \n",
    "length(TFofinterest)\n",
    "# TFofinterest = c('POU5F1',  'KLF4', 'TFAP2C', 'ETV5', 'NANOG',  'SOX15',  'SOX17', \n",
    "#                  'ESX1', 'ZGLP1', 'RARA',  'HOXA2', 'HOXA4', 'HOXA5', 'HOXB3','RFX6',\n",
    "#                  'DMRTB1', 'DMRTC2', 'HMGA1', \n",
    "#                  'FIGLA', 'NOBOX', 'SOHLH1',   'SALL3', 'ZFPM2', 'TP63',\n",
    "#                 'MSX2', 'HOXC10', 'HOXD11', 'HSF1', 'HSF2', 'SMAD1', 'SIX1')"
   ]
  },
  {
   "cell_type": "markdown",
   "metadata": {},
   "source": [
    "## as heatmaps"
   ]
  },
  {
   "cell_type": "code",
   "execution_count": 44,
   "metadata": {},
   "outputs": [],
   "source": [
    "# Load TF act Dorothea matrix\n",
    "x_TFact = read.csv('figures-supporting/0_FS2_table_TFact_percluster.csv', stringsAsFactors = F, row.names = 1)\n",
    "colnames(x_TFact) = strsplit(colnames(x_TFact), split = '\\\\.') %>% sapply(., head, 1)\n",
    "x_TFact = x_TFact[ rownames(x_TFact) %in% CLofinterest , colnames(x_TFact) %in%  TFofinterest ]\n",
    "rn = rownames(x_TFact)\n",
    "x_TFact = apply(x_TFact, 2, scale)\n",
    "rownames(x_TFact) = rn\n",
    "\n",
    "# Add labels\n",
    "x_TFact_Lab = x_TFact\n",
    "x_TFact_Lab[] = ''\n",
    "for (i in rownames(x_TFact_Lab) )\n",
    "    for (j in colnames(x_TFact_Lab) ){\n",
    "        x = subset(df, cluster == i & TF == j)\n",
    "        if( nrow(x) == 1 )\n",
    "             if( x[3] > 0 & ! is.na(x[12])){\n",
    "                 if(x[12] == 1 )\n",
    "                         x_TFact_Lab[i,j] = 'a'\n",
    "                 if(x[3] == 3 )\n",
    "                         x_TFact_Lab[i,j] = '*'\n",
    "             }\n",
    "#              if( x[3] > 1 & ! is.na(x[12])){\n",
    "#                 if(x[3] == 3)\n",
    "#                     x_TFact_Lab[i,j] = '*'\n",
    "#                  if ( x[3] == 2 & x[12] == 1 ){\n",
    "#                     if( ! is.na( x[17])) \n",
    "#                         if(x[17] == 1)\n",
    "#                          x_TFact_Lab[i,j] = 'o'\n",
    "#                     if( ! is.na( x[6])) \n",
    "#                         if(x[6] == 1 )\n",
    "#                          x_TFact_Lab[i,j] = 'e'\n",
    "#                     }\n",
    "\n",
    "#             }\n",
    "    }\n",
    "            \n",
    "            \n",
    "\n",
    "# Load TFmotifs matrix\n",
    "x_TFmotifs = read.csv('/nfs/team292/vl6/my_MULTIOME_dir/supporting_apr2021/supporting__chromvar_celltype_zscore.csv', stringsAsFactors = F, row.names = 1)\n",
    "x_TFmotifs = x_TFmotifs[ rownames(x_TFmotifs) %in% CLofinterest , ]\n",
    "\n",
    "idx = colnames(x_TFmotifs) %in% TFmotifs$X\n",
    "x_TFmotifs = x_TFmotifs[ , idx ] # remove duplicated motifs to match TFmotifs\n",
    "colnames(x_TFmotifs) = strsplit(colnames(x_TFmotifs), split = '\\\\.') %>% sapply(., head, 1)\n",
    "\n",
    "\n",
    "# Load Expr matrix\n",
    "x_Expre = read.csv('figures_manual_annotation/data_utils/average_log.csv', stringsAsFactors = F, row.names = 1) %>% t(.)\n",
    "rownames(x_Expre) = gsub('FetalLeydig.like', 'FetalLeydig-like', rownames(x_Expre))\n",
    "x_Expre = x_Expre[ rownames(x_Expre) %in% CLofinterest ,  colnames(x_Expre) %in%  TFofinterest  ]\n",
    "rn = rownames(x_Expre)\n",
    "x_Expre = apply(x_Expre, 2, scale)\n",
    "rownames(x_Expre) = rn\n",
    "\n",
    "# Add labels\n",
    "x_Expre_Lab = x_Expre\n",
    "x_Expre_Lab[] = ''\n",
    "for (i in rownames(x_Expre_Lab) )\n",
    "    for (j in colnames(x_Expre_Lab) ){\n",
    "        x = subset(df, cluster == i & TF == j)\n",
    "        if( nrow(x) == 1 )\n",
    "             if( x[3] > 1 & ! is.na(x[6]) ){\n",
    "                if(x[3] == 3)\n",
    "                    x_Expre_Lab[i,j] = '*'\n",
    "                 if ( x[3] == 2 & x[6] == 1 ){\n",
    "                    if( ! is.na( x[17])) \n",
    "                        if(x[17] == 1)\n",
    "                         x_Expre_Lab[i,j] = 'o'\n",
    "                    if( ! is.na( x[12])) \n",
    "                        if(x[12] == 1 )\n",
    "                         x_Expre_Lab[i,j] = 'a'\n",
    "                 }\n",
    "#                 if ( x[3] == 2 & x[6] == 0 ){\n",
    "#                     if( ! is.na( x[17])) \n",
    "#                         if(x[17] == 1)\n",
    "#                             if( ! is.na( x[12])) \n",
    "#                                 if(x[12] == 1 )\n",
    "#                                      x_Expre_Lab[i,j] = 'oa'\n",
    "#                  }\n",
    "\n",
    "            }\n",
    "    }\n"
   ]
  },
  {
   "cell_type": "code",
   "execution_count": 47,
   "metadata": {},
   "outputs": [
    {
     "name": "stdout",
     "output_type": "stream",
     "text": [
      " [1] \"coelEpi\"          \"sKITLG\"           \"sLGR5_female\"     \"sPAX8b\"          \n",
      " [5] \"preGC_I_OSR1\"     \"ovarianSurf\"      \"preGC_II\"         \"preGC_II_hypoxia\"\n",
      " [9] \"preGC_III\"        \"preGC_III_Notch\" \n",
      "[1]  7 87\n",
      " [1] -2.13453640 -2.04915495 -1.96377349 -1.87839203 -1.79301058 -1.70762912\n",
      " [7] -1.62224767 -1.53686621 -1.45148475 -1.36610330 -1.28072184 -1.19534039\n",
      "[13] -1.10995893 -1.02457747 -0.93919602 -0.85381456 -0.76843311 -0.68305165\n",
      "[19] -0.59767019 -0.51228874 -0.42690728 -0.34152582 -0.25614437 -0.17076291\n",
      "[25] -0.08538146  0.00000000  0.04394328  0.13366080  0.22337832  0.31309584\n",
      "[31]  0.40281336  0.49253088  0.58224840  0.67196592  0.76168344  0.85140096\n",
      "[37]  0.94111848  1.03083600  1.12055352  1.21027104  1.29998857  1.38970609\n",
      "[43]  1.47942361  1.56914113  1.65885865  1.74857617  1.83829369  1.92801121\n",
      "[49]  2.01772873  2.10744625  2.19716377\n",
      " [1] \"coelEpi\"          \"sKITLG\"           \"sLGR5_female\"     \"sPAX8b\"          \n",
      " [5] \"preGC_I_OSR1\"     \"ovarianSurf\"      \"preGC_II\"         \"preGC_II_hypoxia\"\n",
      " [9] \"preGC_III\"        \"preGC_III_Notch\" \n",
      "[1]  7 87\n",
      " [1] -1.74354715 -1.67380527 -1.60406338 -1.53432149 -1.46457961 -1.39483772\n",
      " [7] -1.32509584 -1.25535395 -1.18561206 -1.11587018 -1.04612829 -0.97638640\n",
      "[13] -0.90664452 -0.83690263 -0.76716075 -0.69741886 -0.62767697 -0.55793509\n",
      "[19] -0.48819320 -0.41845132 -0.34870943 -0.27896754 -0.20922566 -0.13948377\n",
      "[25] -0.06974189  0.00000000  0.04493906  0.13668963  0.22844021  0.32019079\n",
      "[31]  0.41194136  0.50369194  0.59544251  0.68719309  0.77894367  0.87069424\n",
      "[37]  0.96244482  1.05419540  1.14594597  1.23769655  1.32944712  1.42119770\n",
      "[43]  1.51294828  1.60469885  1.69644943  1.78820000  1.87995058  1.97170116\n",
      "[49]  2.06345173  2.15520231  2.24695288\n",
      "[1]  7 87\n"
     ]
    }
   ],
   "source": [
    "myHeatmap = function(X, TFs, cl, pdf_file, display_numbers = NULL){\n",
    "    print(cl)\n",
    "    tfs = intersect(TFs, colnames(X))\n",
    "    cls =  intersect(cl, rownames(X))\n",
    "    X = X[ cls,  tfs ]\n",
    "    print(dim(X))\n",
    "    \n",
    "    paletteLength <- 50\n",
    "    myColor <- colorRampPalette(c(brewer.pal(n = 5, name = 'Blues')[4], \"white\", brewer.pal(n = 5, name = 'Reds')[4]))(paletteLength)\n",
    "    # length(breaks) == length(paletteLength) + 1\n",
    "    # use floor and ceiling to deal with even/odd length pallettelengths\n",
    "    myBreaks <- c(seq(min(X), 0, length.out=ceiling(paletteLength/2) + 1), \n",
    "                  seq(max(X)/paletteLength, max(X), length.out=floor(paletteLength/2)))    \n",
    "    print(myBreaks)\n",
    "    if( is.null(display_numbers) ){\n",
    "        pheatmap(X, cellheight = 10, cellwidth = 10, cluster_rows = F, cluster_cols = F, \n",
    "                 color=myColor, breaks=myBreaks,\n",
    "                filename = pdf_file)\n",
    "    }else{     \n",
    "        display_numbers = display_numbers[ cls,  tfs ]\n",
    "        print(dim(display_numbers))\n",
    "        pheatmap(X, cellheight = 10, cellwidth = 10, cluster_rows = F, cluster_cols = F, display_numbers = display_numbers, \n",
    "                 color=myColor, breaks=myBreaks,\n",
    "                filename = pdf_file)\n",
    "        }\n",
    "}\n",
    "\n",
    "CLofinterest = c('coelEpi','sKITLG', 'sLGR5_female', 'sPAX8b',  \n",
    "                 'preGC_I_OSR1', 'ovarianSurf', 'preGC_II', 'preGC_II_hypoxia', 'preGC_III', 'preGC_III_Notch')\n",
    "\n",
    "myHeatmap(x_TFact, TFofinterest, CLofinterest, 'figures-supporting/0_FS2_heatmap_TFintersection_scRNA_TFact.pdf')\n",
    "myHeatmap(x_Expre, TFofinterest, CLofinterest, 'figures-supporting/0_FS2_heatmap_TFintersection_scRNA_DEGs.pdf', display_numbers = x_Expre_Lab)\n",
    "# myHeatmap(x_TFmotifs, TFofinterest, CLofinterest, 'figures-supporting/0_FS2_heatmap_TFintersection_snATAC_TFact.pdf')"
   ]
  },
  {
   "cell_type": "code",
   "execution_count": 46,
   "metadata": {},
   "outputs": [
    {
     "data": {
      "text/html": [
       "103"
      ],
      "text/latex": [
       "103"
      ],
      "text/markdown": [
       "103"
      ],
      "text/plain": [
       "[1] 103"
      ]
     },
     "metadata": {},
     "output_type": "display_data"
    },
    {
     "name": "stdout",
     "output_type": "stream",
     "text": [
      "[1] \"sLGR5_female\"     \"preGC_I_OSR1\"     \"ovarianSurf\"      \"preGC_II\"        \n",
      "[5] \"preGC_II_hypoxia\" \"preGC_III\"        \"preGC_III_Notch\" \n",
      "[1]  7 87\n",
      " [1] -2.13453640 -2.04915495 -1.96377349 -1.87839203 -1.79301058 -1.70762912\n",
      " [7] -1.62224767 -1.53686621 -1.45148475 -1.36610330 -1.28072184 -1.19534039\n",
      "[13] -1.10995893 -1.02457747 -0.93919602 -0.85381456 -0.76843311 -0.68305165\n",
      "[19] -0.59767019 -0.51228874 -0.42690728 -0.34152582 -0.25614437 -0.17076291\n",
      "[25] -0.08538146  0.00000000  0.04394328  0.13366080  0.22337832  0.31309584\n",
      "[31]  0.40281336  0.49253088  0.58224840  0.67196592  0.76168344  0.85140096\n",
      "[37]  0.94111848  1.03083600  1.12055352  1.21027104  1.29998857  1.38970609\n",
      "[43]  1.47942361  1.56914113  1.65885865  1.74857617  1.83829369  1.92801121\n",
      "[49]  2.01772873  2.10744625  2.19716377\n",
      "[1] \"sLGR5_female\"     \"preGC_I_OSR1\"     \"ovarianSurf\"      \"preGC_II\"        \n",
      "[5] \"preGC_II_hypoxia\" \"preGC_III\"        \"preGC_III_Notch\" \n",
      "[1]  7 87\n",
      " [1] -1.74354715 -1.67380527 -1.60406338 -1.53432149 -1.46457961 -1.39483772\n",
      " [7] -1.32509584 -1.25535395 -1.18561206 -1.11587018 -1.04612829 -0.97638640\n",
      "[13] -0.90664452 -0.83690263 -0.76716075 -0.69741886 -0.62767697 -0.55793509\n",
      "[19] -0.48819320 -0.41845132 -0.34870943 -0.27896754 -0.20922566 -0.13948377\n",
      "[25] -0.06974189  0.00000000  0.04493906  0.13668963  0.22844021  0.32019079\n",
      "[31]  0.41194136  0.50369194  0.59544251  0.68719309  0.77894367  0.87069424\n",
      "[37]  0.96244482  1.05419540  1.14594597  1.23769655  1.32944712  1.42119770\n",
      "[43]  1.51294828  1.60469885  1.69644943  1.78820000  1.87995058  1.97170116\n",
      "[49]  2.06345173  2.15520231  2.24695288\n",
      "[1]  7 87\n"
     ]
    }
   ],
   "source": [
    "# Plot only female subset now\n",
    "# CLofinterest = c('coelEpi','sKITLG', 'sLGR5_female', 'sPAX8b',\n",
    "#                  'preGC_I_OSR1', 'ovarianSurf', 'preGC_II', 'preGC_II_hypoxia', 'preGC_III', 'preGC_III_Notch')\n",
    "\n",
    "\n",
    "\n",
    "\n",
    "# and order accordingly\n",
    "idx_cl = sapply(CLofinterest, function(x) which(df$cluster == x)) %>% unlist(.)\n",
    "df =  df[idx_cl, ]                \n",
    "\n",
    "                \n",
    "                \n",
    "# Define clusters to plot                \n",
    "idx_tf = which(df$N_agreement == 3 | \n",
    "               (df$N_agreement == 2 & df$scRNA_DEGs == 1 & df$scRNA_DEGs_avg_log2FC > 0.5 ) |\n",
    "               (df$N_agreement == 2 & df$scRNA_DEGs == 1 & df$snATAC_TFact_avg_log2FC > 1 ) |\n",
    "               (df$N_agreement == 2 & df$scRNA_DEGs == 1 & df$scRNA_TFact_avg_log2FC > 1 )\n",
    "              )\n",
    "TFofinterest = df[idx_tf, ]$TF  \n",
    "length(TFofinterest)                \n",
    "\n",
    "CLofinterest = c('sLGR5_female',  'preGC_I_OSR1', 'ovarianSurf', 'preGC_II', 'preGC_II_hypoxia', 'preGC_III', 'preGC_III_Notch')\n",
    "                \n",
    "myHeatmap(x_TFact, TFofinterest, CLofinterest, 'figures-supporting/0_FS2_heatmap_TFintersection_scRNA_TFact_FEMALES.pdf')\n",
    "myHeatmap(x_Expre, TFofinterest, CLofinterest, 'figures-supporting/0_FS2_heatmap_TFintersection_scRNA_DEGs_FEMALES.pdf', display_numbers = x_Expre_Lab)\n",
    "# myHeatmap(x_TFmotifs, TFofinterest, CLofinterest, 'figures-supporting/0_FS2_heatmap_TFintersection_snATAC_TFact.pdf')"
   ]
  },
  {
   "cell_type": "code",
   "execution_count": null,
   "metadata": {},
   "outputs": [],
   "source": [
    "write.csv(unique(df[idx_tf, 1:2]), file = 'supporting_female_relevant_TFs.csv')"
   ]
  },
  {
   "cell_type": "code",
   "execution_count": null,
   "metadata": {},
   "outputs": [],
   "source": [
    "# plot cellphoneDB TFs\n",
    "cellphoneTFs = c('HES4', 'RBPJ')\n",
    "CLofinterest = rev(CLofinterest)\n",
    "myHeatmap(x_TFact, cellphoneTFs, \n",
    "          CLofinterest, 'figures-supporting/0_FS2_heatmap_TFact_cellphoneDB.pdf', display_numbers = x_TFact_Lab)\n",
    "\n",
    "myHeatmap(x_TFact, cellphoneTFs, CLofinterest, 'figures-supporting/0_FS2_heatmap_TFact_cellphoneDBII.pdf')\n",
    "\n",
    "\n",
    "# myHeatmap(x_Expre, cellphoneTFs, \n",
    "#           CLofinterest, 'figures-supporting/0_FS2_heatmap_TFexp_cellphoneDB.pdf', display_numbers = x_Expre_Lab)\n",
    "\n",
    "# myHeatmap(x_Expre, cellphoneTFs, CLofinterest, 'figures-supporting/0_FS2_heatmap_TFexp_cellphoneDBII.pdf')"
   ]
  },
  {
   "cell_type": "markdown",
   "metadata": {},
   "source": [
    "## what are the Dorothea targets of the new TFs"
   ]
  },
  {
   "cell_type": "code",
   "execution_count": null,
   "metadata": {},
   "outputs": [],
   "source": [
    "# newTFs = c('SOX4', 'HOXA2', 'HOXA4', 'HOXA5', 'HOXB5', 'MXD4', 'DMRTB1', 'TP63')\n",
    "# source('G_lib_TFacts.r')\n",
    "# dorothea_regulon$TF_name = strsplit(dorothea_regulon$tf, '_') %>% sapply(., head, 1 )"
   ]
  },
  {
   "cell_type": "code",
   "execution_count": null,
   "metadata": {},
   "outputs": [],
   "source": [
    "# markers_crosspecie = c('DPPA4', 'ETV4', 'IFITM1', 'KIT', 'MYBL2', 'NANOG', 'NANOS3', 'POU5F1', 'PRDM1', 'RCC2', 'SALL4', 'SOX15', 'SOX17', 'TEAD4', 'TFAP2C', 'XIST', 'GATA3', 'PPARA', \n",
    "#     'DAZL', 'DDX4', 'MAEL', 'ESX1', 'MSX1', 'RFX6', 'STRA8', 'ZGLP1', \n",
    "#     'CHMP2A', 'DMC1', 'DMRTC2', 'INCA1', 'MEIKIN', 'MEIOB', 'MSH4', 'RAD51AP2', 'SPO11', 'SYCP1', 'SYCP3', 'TEX11', 'ZNF711', 'MLH3', 'ZNF131', 'ASTL', 'FIGLA', 'GDF9', 'JAG1', 'NOBOX', 'OOSP2', 'SOHLH1', 'SOHLH2', 'YBX2', 'ZAR1', 'ZP3','BMP15','FOXO3')\n",
    "\n",
    "\n",
    "# subset(dorothea_regulon, TF_name %in% newTFs & \n",
    "#        target %in% DEGs$gene[ DEGs$scRNA_DEGs_p_val_adj < 0.1] &\n",
    "#       target %in% markers_crosspecie )\n",
    "\n",
    "# subset(dorothea_regulon, TF_name %in% 'MXD4'  & \n",
    "#        target %in% DEGs$gene[ DEGs$scRNA_DEGs_p_val_adj < 0.001 & DEGs$scRNA_DEGs_avg_log2FC > 0.5 & DEGs$cluster == 'oogonia_STRA8' ])\n",
    "\n",
    "\n",
    "# subset(dorothea_regulon, TF_name %in% 'ZGLP1'  & \n",
    "#        target %in% DEGs$gene[ DEGs$scRNA_DEGs_p_val_adj < 0.001 & DEGs$scRNA_DEGs_avg_log2FC > 0.5 & DEGs$cluster == 'oogonia_STRA8' ])"
   ]
  },
  {
   "cell_type": "code",
   "execution_count": null,
   "metadata": {},
   "outputs": [],
   "source": []
  },
  {
   "cell_type": "code",
   "execution_count": null,
   "metadata": {},
   "outputs": [],
   "source": []
  }
 ],
 "metadata": {
  "kernelspec": {
   "display_name": "R",
   "language": "R",
   "name": "ir"
  },
  "language_info": {
   "codemirror_mode": "r",
   "file_extension": ".r",
   "mimetype": "text/x-r-source",
   "name": "R",
   "pygments_lexer": "r",
   "version": "4.0.3"
  }
 },
 "nbformat": 4,
 "nbformat_minor": 4
}
