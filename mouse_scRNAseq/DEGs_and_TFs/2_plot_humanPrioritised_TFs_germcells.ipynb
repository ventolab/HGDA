{
 "cells": [
  {
   "cell_type": "code",
   "execution_count": 1,
   "id": "complimentary-accountability",
   "metadata": {},
   "outputs": [
    {
     "name": "stderr",
     "output_type": "stream",
     "text": [
      "\n",
      "Attaching package: ‘dplyr’\n",
      "\n",
      "\n",
      "The following objects are masked from ‘package:stats’:\n",
      "\n",
      "    filter, lag\n",
      "\n",
      "\n",
      "The following objects are masked from ‘package:base’:\n",
      "\n",
      "    intersect, setdiff, setequal, union\n",
      "\n",
      "\n"
     ]
    }
   ],
   "source": [
    "library(dplyr)\n",
    "library(RColorBrewer)\n",
    "library(ggplot2)\n",
    "library(pheatmap)\n",
    "library(cowplot)\n",
    "library(reshape2)"
   ]
  },
  {
   "cell_type": "code",
   "execution_count": 2,
   "id": "agreed-motivation",
   "metadata": {},
   "outputs": [],
   "source": [
    "avgLog2 = read.csv('figures/data_utils/germcells_average_log.csv', stringsAsFactors = F, row.names=1)\n",
    "\n",
    "colnames(avgLog2) = gsub('Germ.', '', colnames(avgLog2))\n",
    "colnames(avgLog2) = gsub('Somatic.', '', colnames(avgLog2))"
   ]
  },
  {
   "cell_type": "code",
   "execution_count": 3,
   "id": "useful-kelly",
   "metadata": {},
   "outputs": [],
   "source": [
    "# Take ZGLP1 info from Niu+Sanger dataset only / Meyer doesn't have info for this gene\n",
    "\n",
    "avgLog2_ZGLP1 = read.csv('figures/data_utils/average_log.csv', stringsAsFactors = F, row.names=1)\n",
    "\n",
    "colnames(avgLog2_ZGLP1) = gsub('Germ.', '', colnames(avgLog2_ZGLP1))\n",
    "colnames(avgLog2_ZGLP1) = gsub('Somatic.', '', colnames(avgLog2_ZGLP1))"
   ]
  },
  {
   "cell_type": "code",
   "execution_count": 4,
   "id": "associate-cutting",
   "metadata": {},
   "outputs": [],
   "source": [
    "# load orthologous\n",
    "orthologous = read.csv('/nfs/team292/vl6/Mouse_Niu2020/biomart_human_mouse_orthologs.tsv', stringsAsFactors = F, sep ='\\t')\n",
    "# Remove duplicates prioritizing gene match\n",
    "orthologous$match = (toupper(orthologous$Mouse.gene.name) == orthologous$Gene.name) * 1\n",
    "orthologous = orthologous[ order(orthologous$match, decreasing = T),  ]\n",
    "orthologous = orthologous[ ! duplicated(orthologous$Mouse.gene.name),  ]\n",
    "orthologous = orthologous[ ! duplicated(orthologous$Gene.name),  ]\n",
    "rownames(orthologous) = orthologous$Mouse.gene.name\n",
    "\n",
    "# Reannotate `gene` with orthologous\n",
    "avgLog2 = avgLog2[rownames(avgLog2) %in% orthologous$Mouse.gene.name, ]\n",
    "rownames(avgLog2) = orthologous[ rownames(avgLog2) , ]$Gene.name\n",
    "avgLog2 = avgLog2[ ! is.na(rownames(avgLog2)), ]"
   ]
  },
  {
   "cell_type": "code",
   "execution_count": 5,
   "id": "executed-forge",
   "metadata": {},
   "outputs": [
    {
     "data": {
      "text/html": [
       "<table class=\"dataframe\">\n",
       "<caption>A data.frame: 3 × 4</caption>\n",
       "<thead>\n",
       "\t<tr><th></th><th scope=col>Gene.stable.ID</th><th scope=col>Mouse.gene.stable.ID</th><th scope=col>Mouse.gene.name</th><th scope=col>Gene.name</th></tr>\n",
       "\t<tr><th></th><th scope=col>&lt;chr&gt;</th><th scope=col>&lt;chr&gt;</th><th scope=col>&lt;chr&gt;</th><th scope=col>&lt;chr&gt;</th></tr>\n",
       "</thead>\n",
       "<tbody>\n",
       "\t<tr><th scope=row>5319</th><td>ENSG00000172201</td><td>ENSMUSG00000021379</td><td>Id4  </td><td>ID4  </td></tr>\n",
       "\t<tr><th scope=row>8580</th><td>ENSG00000220201</td><td>ENSMUSG00000079681</td><td>Zglp1</td><td>ZGLP1</td></tr>\n",
       "\t<tr><th scope=row>13322</th><td>ENSG00000172819</td><td>ENSMUSG00000001288</td><td>Rarg </td><td>RARG </td></tr>\n",
       "</tbody>\n",
       "</table>\n"
      ],
      "text/latex": [
       "A data.frame: 3 × 4\n",
       "\\begin{tabular}{r|llll}\n",
       "  & Gene.stable.ID & Mouse.gene.stable.ID & Mouse.gene.name & Gene.name\\\\\n",
       "  & <chr> & <chr> & <chr> & <chr>\\\\\n",
       "\\hline\n",
       "\t5319 & ENSG00000172201 & ENSMUSG00000021379 & Id4   & ID4  \\\\\n",
       "\t8580 & ENSG00000220201 & ENSMUSG00000079681 & Zglp1 & ZGLP1\\\\\n",
       "\t13322 & ENSG00000172819 & ENSMUSG00000001288 & Rarg  & RARG \\\\\n",
       "\\end{tabular}\n"
      ],
      "text/markdown": [
       "\n",
       "A data.frame: 3 × 4\n",
       "\n",
       "| <!--/--> | Gene.stable.ID &lt;chr&gt; | Mouse.gene.stable.ID &lt;chr&gt; | Mouse.gene.name &lt;chr&gt; | Gene.name &lt;chr&gt; |\n",
       "|---|---|---|---|---|\n",
       "| 5319 | ENSG00000172201 | ENSMUSG00000021379 | Id4   | ID4   |\n",
       "| 8580 | ENSG00000220201 | ENSMUSG00000079681 | Zglp1 | ZGLP1 |\n",
       "| 13322 | ENSG00000172819 | ENSMUSG00000001288 | Rarg  | RARG  |\n",
       "\n"
      ],
      "text/plain": [
       "      Gene.stable.ID  Mouse.gene.stable.ID Mouse.gene.name Gene.name\n",
       "5319  ENSG00000172201 ENSMUSG00000021379   Id4             ID4      \n",
       "8580  ENSG00000220201 ENSMUSG00000079681   Zglp1           ZGLP1    \n",
       "13322 ENSG00000172819 ENSMUSG00000001288   Rarg            RARG     "
      ]
     },
     "metadata": {},
     "output_type": "display_data"
    }
   ],
   "source": [
    "orthologous = read.csv('/nfs/team292/vl6/Mouse_Niu2020/biomart_human_mouse_orthologs.tsv', stringsAsFactors = F, sep ='\\t')\n",
    "subset(orthologous, Gene.name %in% c('ZGLP1', 'RARG', 'ID4') )"
   ]
  },
  {
   "cell_type": "code",
   "execution_count": 6,
   "id": "uniform-nightlife",
   "metadata": {},
   "outputs": [],
   "source": [
    "TF_interspecie = read.csv('../human_v2/figures_germcells/crosspecie_TF_measurements_humanTFs.csv', stringsAsFactors = F)"
   ]
  },
  {
   "cell_type": "code",
   "execution_count": 7,
   "id": "significant-disney",
   "metadata": {},
   "outputs": [],
   "source": [
    "# Define genes and clusters of interest\n",
    "CLofInterest = unique(TF_interspecie$cluster)\n",
    "CLofInterest = intersect( CLofInterest, colnames(avgLog2))\n",
    "\n",
    "TFofInterest = unique(TF_interspecie$TF)\n",
    "# TFofInterest_mouse = TF_interspecie[ ! duplicated(TF_interspecie$TF) , ]$gene_mouse"
   ]
  },
  {
   "cell_type": "code",
   "execution_count": 8,
   "id": "german-contemporary",
   "metadata": {},
   "outputs": [],
   "source": [
    "# scale clusters of interest\n",
    "avgLog2 = avgLog2[,CLofInterest]\n",
    "rn = colnames(avgLog2)\n",
    "avgLog2_scaled = apply(t(avgLog2), 2, scale) \n",
    "avgLog2_scaled = t(avgLog2_scaled)\n",
    "colnames(avgLog2_scaled) = rn"
   ]
  },
  {
   "cell_type": "code",
   "execution_count": 9,
   "id": "coordinate-chile",
   "metadata": {},
   "outputs": [],
   "source": [
    "# prepare matrix with all TFs\n",
    "M = matrix(0, nrow = length(TFofInterest), ncol = length(CLofInterest), dimnames = list(TFofInterest, CLofInterest)  )"
   ]
  },
  {
   "cell_type": "code",
   "execution_count": 10,
   "id": "visible-investor",
   "metadata": {},
   "outputs": [],
   "source": [
    "# Fill the matrix with the Tfs with mouse information\n",
    "MavgLog2 = M\n",
    "\n",
    "idx = TFofInterest %in% rownames(avgLog2)\n",
    "for (cl in CLofInterest)\n",
    "    MavgLog2[ TFofInterest[idx], cl] <- avgLog2_scaled[ TFofInterest[idx], cl]"
   ]
  },
  {
   "cell_type": "code",
   "execution_count": 11,
   "id": "tight-threshold",
   "metadata": {},
   "outputs": [],
   "source": [
    "# add ZGLP1 infor from Sanger + Niu datasets\n",
    "cname = intersect(colnames(avgLog2_ZGLP1), colnames(MavgLog2))\n",
    "avgLog2_ZGLP1[ 'Zglp1', cname ] = scale(as.numeric(avgLog2_ZGLP1[ 'Zglp1', cname ]))\n",
    "for (cl in cname)\n",
    "    MavgLog2[ 'ZGLP1', cl] = avgLog2_ZGLP1[ 'Zglp1', cl ]"
   ]
  },
  {
   "cell_type": "code",
   "execution_count": 12,
   "id": "secure-cruise",
   "metadata": {},
   "outputs": [],
   "source": [
    "# plot\n",
    "paletteLength <- 50\n",
    "myColor <- colorRampPalette(c(brewer.pal(n = 5, name = 'Blues')[4], \"white\", brewer.pal(n = 5, name = 'Reds')[4]))(paletteLength)\n",
    "# length(breaks) == length(paletteLength) + 1\n",
    "# use floor and ceiling to deal with even/odd length pallettelengths\n",
    "myBreaks <- c(seq(min(MavgLog2), 0, length.out=ceiling(paletteLength/2) + 1), \n",
    "              seq(max(MavgLog2)/paletteLength, max(MavgLog2), length.out=floor(paletteLength/2))) \n",
    "\n",
    "\n",
    "pheatmap(MavgLog2, cellheight = 10, cellwidth = 10, cluster_rows = F, cluster_cols = F, color=myColor, breaks=myBreaks,\n",
    "        filename= 'figures_germcells/heatmap_humanTFs_Zscores.pdf')"
   ]
  },
  {
   "cell_type": "code",
   "execution_count": null,
   "id": "sorted-interaction",
   "metadata": {},
   "outputs": [],
   "source": []
  }
 ],
 "metadata": {
  "kernelspec": {
   "display_name": "R",
   "language": "R",
   "name": "ir"
  },
  "language_info": {
   "codemirror_mode": "r",
   "file_extension": ".r",
   "mimetype": "text/x-r-source",
   "name": "R",
   "pygments_lexer": "r",
   "version": "4.0.3"
  }
 },
 "nbformat": 4,
 "nbformat_minor": 5
}
