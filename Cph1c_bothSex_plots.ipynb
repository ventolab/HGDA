{
 "cells": [
  {
   "cell_type": "markdown",
   "metadata": {},
   "source": [
    "# C. Plots"
   ]
  },
  {
   "cell_type": "code",
   "execution_count": 7,
   "metadata": {},
   "outputs": [],
   "source": [
    "library(dplyr)\n",
    "library(reshape2)\n",
    "library(plyr)\n",
    "library(RColorBrewer)\n",
    "library(ggplot2)\n",
    "library(pheatmap)\n",
    "library(cowplot)\n",
    "\n",
    "\n",
    "\n",
    "get_cells2genes = function(CPresults, genes2filter = NULL, show_only_selected = F){\n",
    "    if( ! is.null(genes2filter) ){\n",
    "        idx = sapply(rownames(CPresults), function(x) any(unlist(Int2Gene[[x]]) %in%  genes2filter) )\n",
    "        message(sum(idx), ' interactions')             \n",
    "        CPresults = CPresults[ idx, ]\n",
    "        CPresults = CPresults[ , apply(CPresults, 2, sum) > 0]\n",
    "    }\n",
    "    # reformat as dataframe                                    \n",
    "    df = melt(as.matrix(CPresults))\n",
    "    df$cellphoneDB_hit = df$value                 \n",
    "    if (show_only_selected) # this is to show only expression values if int selected by cellphoneDB\n",
    "        df = subset(df, cellphoneDB_hit == 1)\n",
    "    # extract interaction partners\n",
    "    xA = apply(df, 1, function(x){\n",
    "        data.frame(cell = strsplit(x[2], '--')[[1]][1],\n",
    "            gene = Int2Gene[[x[1]]]$partner_a,\n",
    "                   interaction = x[1], \n",
    "                   partner = strsplit(x[2], '--')[[1]][2],\n",
    "                   cellphoneDB_hit = x[length(x)],\n",
    "                   row.names = NULL)\n",
    "    })\n",
    "    xB = apply(df, 1, function(x){\n",
    "        data.frame(cell = strsplit(x[2], '--')[[1]][2],\n",
    "            gene = Int2Gene[[x[1]]]$partner_b,\n",
    "                   interaction = x[1], \n",
    "                   partner = strsplit(x[2], '--')[[1]][1],\n",
    "                   cellphoneDB_hit = x[length(x)],\n",
    "                   row.names = NULL)\n",
    "    })\n",
    "    x = append(xA, xB)\n",
    "    # Merge as data frame for plotting with ggplot\n",
    "    cells2genesCP = melt(x, id.vars = names(x[[1]]))\n",
    "    cells2genesCP = unique(cells2genesCP[,-6])\n",
    "    # transfer expression info                                  \n",
    "    cells2genesCP$id = paste(cells2genesCP$cell, cells2genesCP$gene)\n",
    "    cells2genesCP$AveExpr_cluster =  AVG$avg[ match(cells2genesCP$id, AVG$id) ]\n",
    "    cells2genesCP$percentExpr_cluster =  PERC$percent[ match(cells2genesCP$id, PERC$id) ] \n",
    "\n",
    "    return(cells2genesCP)\n",
    "}\n",
    "    \n",
    "                                      \n",
    "                                      \n",
    "get_combinations_of_interest = function(Atype, Btype){\n",
    "    all_celltypes = c(Atype, Btype)\n",
    "    # Get all pairwise cluster combinations: A--B, B--A\n",
    "    cluster_combinations = combn(all_celltypes, 2, simplify = T)\n",
    "\n",
    "    # add self interactions\n",
    "    cluster_combinations = cbind(sapply(all_celltypes, function(x) rep(x, 2) ), cluster_combinations)\n",
    "\n",
    "\n",
    "    # We only want to test pairs including at least one cluster in Atype and Btype\n",
    "    keepA = apply(cluster_combinations, 2, function(x) any(x %in% Atype))\n",
    "    keepB = apply(cluster_combinations, 2, function(x) any(x %in% Btype))\n",
    "    cluster_combinations = cluster_combinations[, keepA & keepB]\n",
    "\n",
    "    # # We only want to test pairs including at least one cluster named 'media'\n",
    "    # keep = apply(cluster_combinations, 2, function(x) any(x %in% 'Media'))\n",
    "    # cluster_combinations = cluster_combinations[, keep]\n",
    "    # ncol(cluster_combinations)\n",
    "\n",
    "    # Consider the reverse interaction too: A--B but B--A as well\n",
    "    cluster_combinations = cbind(cluster_combinations, cluster_combinations[2:1,]) %>% t(.) %>% unique(.)  %>% t(.) \n",
    "\n",
    "    # Make cluster pair labels: celltypeA--celltypeB             \n",
    "    cluster_combinations_labels = apply(cluster_combinations, 2, paste, collapse = '--')\n",
    "\n",
    "    colnames(cluster_combinations) = cluster_combinations_labels\n",
    "}"
   ]
  },
  {
   "cell_type": "code",
   "execution_count": 8,
   "metadata": {},
   "outputs": [],
   "source": [
    "# Define variables\n",
    "filter_int_user_curated = T #Use only user_curated interactions?\n",
    "per_cutoff = 0.1 # min % of cells in the cluster required  with expression > 0 for the gene\n",
    "pval_cutoff = 0.001 # max adjusted p-value requeired to consider a gene as DEG\n",
    "logFC_cutoff = 0.2 # min logFC to consider a gene as DEG"
   ]
  },
  {
   "cell_type": "markdown",
   "metadata": {},
   "source": [
    "# Load Microenviroments"
   ]
  },
  {
   "cell_type": "code",
   "execution_count": 9,
   "metadata": {},
   "outputs": [],
   "source": [
    "germs = c('PGC_mitotic', \n",
    "          'PGC', \n",
    "          'oogonia_STRA8', 'oogonia_meiosis', 'oocyte',\n",
    "         'pre-spermatogonia')\n",
    "somaF = c( 'sLGR5_female', 'preGC_I_OSR1',\n",
    "          'ovarianSurf', 'preGC_II', 'preGC_II_hypoxia', 'preGC_III', 'preGC_III_Notch')\n",
    "somaM = c('sPAX8m',\n",
    "    'Sertoli', 'Sertoli_WFDC2', \n",
    "            'sLGR5_male' )\n",
    "somaB = c('coelEpi', 'sKITLG',\n",
    "         'sPAX8b')\n",
    "soma = c(somaM, somaB, somaF)\n",
    "\n",
    "\n",
    "micro_df = read.csv('cellphoneDB/input/microenviroments/microenviroments.csv', stringsAsFactors = F)\n",
    "microenviroments = split(micro_df, micro_df$microenviroment)  %>%  sapply(., select, celltype)\n",
    "names(microenviroments) = gsub('.celltype', '', names(microenviroments))"
   ]
  },
  {
   "cell_type": "markdown",
   "metadata": {},
   "source": [
    "# Load Cellphone Interactions"
   ]
  },
  {
   "cell_type": "code",
   "execution_count": 10,
   "metadata": {},
   "outputs": [],
   "source": [
    "# Load cellphone database - genes and complexes file\n",
    "# Gene names\n",
    "genes_cpDB = read.delim('~/gonads/main/cellphoneDB/hsa_uniprot.txt', stringsAsFactors = F, sep = '\\t')\n",
    "\n",
    "# Complexes members\n",
    "com_cpDB = read.csv('~/gonads/main/cellphoneDB/database/complex_curated_032021.tsv', stringsAsFactors = F, sep='\\t')\n",
    "com_cpDB = unique(com_cpDB)\n",
    "com_cpDB$complex_name = paste0('complex:', com_cpDB$complex_name)\n",
    "# Generate complexes2gene symbol dictionary\n",
    "Com2Gene = lapply(com_cpDB$complex_name, function(cx) subset(genes_cpDB, uniprot %in% unlist(com_cpDB[com_cpDB$complex_name == cx, 2:5]) )$gene_name )\n",
    "Com2Gene = lapply(Com2Gene, unique)\n",
    "names(Com2Gene) = com_cpDB$complex_name\n",
    "                  \n",
    "# Load interactions from cellphoneDB/out/means.txt output file                   \n",
    "int_cpDB = read.delim('~/gonads/main/cellphoneDB/out/means.txt', stringsAsFactors = F)[, 1:10]\n",
    "# MANDATORY: remove \"curated\" because we have cleaned and renamed them (this is a long story, just do it)\n",
    "int_cpDB = subset(int_cpDB, annotation_strategy != 'curated')\n",
    "# OPTIONAL: Use only user_curated interactions?\n",
    "if(filter_int_user_curated)\n",
    "    int_cpDB = subset(int_cpDB, annotation_strategy == 'user_curated')\n",
    "# Generate Int2Gene dictionary\n",
    "Int2Gene = apply(int_cpDB, 1, function(int) {\n",
    "    int = unname(int)\n",
    "    if(int[5] == '') # if partnerA is complex, then retrieve members from dictionary\n",
    "       partnerA = Com2Gene[[int[3]]]\n",
    "    else  # if partnerA is a single gene, take name from file\n",
    "       partnerA = int[5]\n",
    "    if(int[6] == '')  # if partnerB is complex, then retrieve members from dictionary\n",
    "       partnerB = Com2Gene[[int[4]]]\n",
    "    else  # if partnerB is a single gene, take name from file\n",
    "       partnerB = int[6]\n",
    "    list(partner_a=partnerA,partner_b=partnerB)\n",
    "    }) \n",
    "names(Int2Gene) = int_cpDB$interacting_pair"
   ]
  },
  {
   "cell_type": "markdown",
   "metadata": {},
   "source": [
    "# Load data\n",
    "\n",
    "## Load cellphone results file"
   ]
  },
  {
   "cell_type": "code",
   "execution_count": 12,
   "metadata": {},
   "outputs": [
    {
     "data": {
      "text/html": [
       "<table class=\"dataframe\">\n",
       "<caption>A data.frame: 6 × 5</caption>\n",
       "<thead>\n",
       "\t<tr><th></th><th scope=col>PGC--PGC</th><th scope=col>PGC_mitotic--PGC_mitotic</th><th scope=col>coelEpi--coelEpi</th><th scope=col>ovarianSurf--ovarianSurf</th><th scope=col>preGC_II--preGC_II</th></tr>\n",
       "\t<tr><th></th><th scope=col>&lt;int&gt;</th><th scope=col>&lt;int&gt;</th><th scope=col>&lt;int&gt;</th><th scope=col>&lt;int&gt;</th><th scope=col>&lt;int&gt;</th></tr>\n",
       "</thead>\n",
       "<tbody>\n",
       "\t<tr><th scope=row>22Hydroxycholesterol_byCYP11A1_NR1H4</th><td>0</td><td>0</td><td>0</td><td>0</td><td>0</td></tr>\n",
       "\t<tr><th scope=row>Androsterone_byHSD17B6_NR1H4</th><td>0</td><td>0</td><td>0</td><td>0</td><td>0</td></tr>\n",
       "\t<tr><th scope=row>2arachidonoylglycerol_byDAGLB_CNR1</th><td>0</td><td>0</td><td>0</td><td>0</td><td>0</td></tr>\n",
       "\t<tr><th scope=row>FN1_integrin_a4b1_complex</th><td>0</td><td>0</td><td>0</td><td>0</td><td>0</td></tr>\n",
       "\t<tr><th scope=row>PLAUR_integrin_a4b1_complex</th><td>0</td><td>0</td><td>0</td><td>0</td><td>0</td></tr>\n",
       "\t<tr><th scope=row>JAM2_integrin_a4b1_complex</th><td>0</td><td>0</td><td>0</td><td>0</td><td>0</td></tr>\n",
       "</tbody>\n",
       "</table>\n"
      ],
      "text/latex": [
       "A data.frame: 6 × 5\n",
       "\\begin{tabular}{r|lllll}\n",
       "  & PGC--PGC & PGC\\_mitotic--PGC\\_mitotic & coelEpi--coelEpi & ovarianSurf--ovarianSurf & preGC\\_II--preGC\\_II\\\\\n",
       "  & <int> & <int> & <int> & <int> & <int>\\\\\n",
       "\\hline\n",
       "\t22Hydroxycholesterol\\_byCYP11A1\\_NR1H4 & 0 & 0 & 0 & 0 & 0\\\\\n",
       "\tAndrosterone\\_byHSD17B6\\_NR1H4 & 0 & 0 & 0 & 0 & 0\\\\\n",
       "\t2arachidonoylglycerol\\_byDAGLB\\_CNR1 & 0 & 0 & 0 & 0 & 0\\\\\n",
       "\tFN1\\_integrin\\_a4b1\\_complex & 0 & 0 & 0 & 0 & 0\\\\\n",
       "\tPLAUR\\_integrin\\_a4b1\\_complex & 0 & 0 & 0 & 0 & 0\\\\\n",
       "\tJAM2\\_integrin\\_a4b1\\_complex & 0 & 0 & 0 & 0 & 0\\\\\n",
       "\\end{tabular}\n"
      ],
      "text/markdown": [
       "\n",
       "A data.frame: 6 × 5\n",
       "\n",
       "| <!--/--> | PGC--PGC &lt;int&gt; | PGC_mitotic--PGC_mitotic &lt;int&gt; | coelEpi--coelEpi &lt;int&gt; | ovarianSurf--ovarianSurf &lt;int&gt; | preGC_II--preGC_II &lt;int&gt; |\n",
       "|---|---|---|---|---|---|\n",
       "| 22Hydroxycholesterol_byCYP11A1_NR1H4 | 0 | 0 | 0 | 0 | 0 |\n",
       "| Androsterone_byHSD17B6_NR1H4 | 0 | 0 | 0 | 0 | 0 |\n",
       "| 2arachidonoylglycerol_byDAGLB_CNR1 | 0 | 0 | 0 | 0 | 0 |\n",
       "| FN1_integrin_a4b1_complex | 0 | 0 | 0 | 0 | 0 |\n",
       "| PLAUR_integrin_a4b1_complex | 0 | 0 | 0 | 0 | 0 |\n",
       "| JAM2_integrin_a4b1_complex | 0 | 0 | 0 | 0 | 0 |\n",
       "\n"
      ],
      "text/plain": [
       "                                     PGC--PGC PGC_mitotic--PGC_mitotic\n",
       "22Hydroxycholesterol_byCYP11A1_NR1H4 0        0                       \n",
       "Androsterone_byHSD17B6_NR1H4         0        0                       \n",
       "2arachidonoylglycerol_byDAGLB_CNR1   0        0                       \n",
       "FN1_integrin_a4b1_complex            0        0                       \n",
       "PLAUR_integrin_a4b1_complex          0        0                       \n",
       "JAM2_integrin_a4b1_complex           0        0                       \n",
       "                                     coelEpi--coelEpi ovarianSurf--ovarianSurf\n",
       "22Hydroxycholesterol_byCYP11A1_NR1H4 0                0                       \n",
       "Androsterone_byHSD17B6_NR1H4         0                0                       \n",
       "2arachidonoylglycerol_byDAGLB_CNR1   0                0                       \n",
       "FN1_integrin_a4b1_complex            0                0                       \n",
       "PLAUR_integrin_a4b1_complex          0                0                       \n",
       "JAM2_integrin_a4b1_complex           0                0                       \n",
       "                                     preGC_II--preGC_II\n",
       "22Hydroxycholesterol_byCYP11A1_NR1H4 0                 \n",
       "Androsterone_byHSD17B6_NR1H4         0                 \n",
       "2arachidonoylglycerol_byDAGLB_CNR1   0                 \n",
       "FN1_integrin_a4b1_complex            0                 \n",
       "PLAUR_integrin_a4b1_complex          0                 \n",
       "JAM2_integrin_a4b1_complex           0                 "
      ]
     },
     "metadata": {},
     "output_type": "display_data"
    }
   ],
   "source": [
    "CPresults = read.csv(paste0('cellphoneDB/out/interactions_' , pval_cutoff, '_logFC', logFC_cutoff, '.csv'), stringsAsFactors = F)\n",
    "rownames(CPresults) = CPresults$X\n",
    "CPresults = CPresults[, -1]\n",
    "colnames(CPresults) = gsub('\\\\...', '--', colnames(CPresults))\n",
    "head(CPresults)[, 1:5]\n",
    "\n",
    "colnames(CPresults) = gsub('pre--ermatogonia', 'pre-spermatogonia', colnames(CPresults)) # correct R replacing characters in headers"
   ]
  },
  {
   "cell_type": "markdown",
   "metadata": {},
   "source": [
    "# Load expression information"
   ]
  },
  {
   "cell_type": "code",
   "execution_count": 13,
   "metadata": {},
   "outputs": [],
   "source": [
    "# load DE expression info\n",
    "# you need to put in a folder the DE files of the clusters that you're interested in\n",
    "# The file must contain at least four columns (aka, you can reuse the output of the DEG files):\n",
    "# - Gene: gene symbol\n",
    "# - cluster: cell type\n",
    "# - adj.P.Val: adjusted p-value from the DE test\n",
    "# - logFC: from the DE test\n",
    "path_DEGs = 'cellphoneDB/input/DEGs/merged.csv'\n",
    "\n",
    "\n",
    "# Load\n",
    "DE_df = read.csv(path_DEGs, stringsAsFactors = F) %>%\n",
    "        filter(., gene %in% genes_cpDB$gene_name) %>%\n",
    "        filter(., p_val_adj < pval_cutoff) %>%\n",
    "        filter(., avg_logFC > logFC_cutoff)\n",
    "        \n",
    "\n",
    "\n",
    "# Build dictionary clusters2expressed genes\n",
    "clusters = unique(DE_df$cluster)\n",
    "is_DE = lapply(clusters, function(cl){\n",
    "    filter(DE_df, cluster == cl)$gene\n",
    "})\n",
    "names(is_DE) = clusters\n",
    "names(is_DE) = gsub('pre.spermatogonia', 'pre-spermatogonia', names(is_DE))"
   ]
  },
  {
   "cell_type": "code",
   "execution_count": 14,
   "metadata": {},
   "outputs": [
    {
     "data": {
      "text/html": [
       "<table class=\"dataframe\">\n",
       "<caption>A data.frame: 6 × 4</caption>\n",
       "<thead>\n",
       "\t<tr><th></th><th scope=col>gene</th><th scope=col>cluster</th><th scope=col>percent</th><th scope=col>id</th></tr>\n",
       "\t<tr><th></th><th scope=col>&lt;fct&gt;</th><th scope=col>&lt;chr&gt;</th><th scope=col>&lt;dbl&gt;</th><th scope=col>&lt;chr&gt;</th></tr>\n",
       "</thead>\n",
       "<tbody>\n",
       "\t<tr><th scope=row>1</th><td>MIR1302-2HG</td><td>PGC          </td><td>0</td><td>PGC MIR1302-2HG          </td></tr>\n",
       "\t<tr><th scope=row>28231</th><td>MIR1302-2HG</td><td>PGC_mitotic  </td><td>0</td><td>PGC_mitotic MIR1302-2HG  </td></tr>\n",
       "\t<tr><th scope=row>56461</th><td>MIR1302-2HG</td><td>Sertoli      </td><td>0</td><td>Sertoli MIR1302-2HG      </td></tr>\n",
       "\t<tr><th scope=row>84691</th><td>MIR1302-2HG</td><td>Sertoli_WFDC2</td><td>0</td><td>Sertoli_WFDC2 MIR1302-2HG</td></tr>\n",
       "\t<tr><th scope=row>112921</th><td>MIR1302-2HG</td><td>coelEpi      </td><td>0</td><td>coelEpi MIR1302-2HG      </td></tr>\n",
       "\t<tr><th scope=row>141151</th><td>MIR1302-2HG</td><td>oocyte       </td><td>0</td><td>oocyte MIR1302-2HG       </td></tr>\n",
       "</tbody>\n",
       "</table>\n"
      ],
      "text/latex": [
       "A data.frame: 6 × 4\n",
       "\\begin{tabular}{r|llll}\n",
       "  & gene & cluster & percent & id\\\\\n",
       "  & <fct> & <chr> & <dbl> & <chr>\\\\\n",
       "\\hline\n",
       "\t1 & MIR1302-2HG & PGC           & 0 & PGC MIR1302-2HG          \\\\\n",
       "\t28231 & MIR1302-2HG & PGC\\_mitotic   & 0 & PGC\\_mitotic MIR1302-2HG  \\\\\n",
       "\t56461 & MIR1302-2HG & Sertoli       & 0 & Sertoli MIR1302-2HG      \\\\\n",
       "\t84691 & MIR1302-2HG & Sertoli\\_WFDC2 & 0 & Sertoli\\_WFDC2 MIR1302-2HG\\\\\n",
       "\t112921 & MIR1302-2HG & coelEpi       & 0 & coelEpi MIR1302-2HG      \\\\\n",
       "\t141151 & MIR1302-2HG & oocyte        & 0 & oocyte MIR1302-2HG       \\\\\n",
       "\\end{tabular}\n"
      ],
      "text/markdown": [
       "\n",
       "A data.frame: 6 × 4\n",
       "\n",
       "| <!--/--> | gene &lt;fct&gt; | cluster &lt;chr&gt; | percent &lt;dbl&gt; | id &lt;chr&gt; |\n",
       "|---|---|---|---|---|\n",
       "| 1 | MIR1302-2HG | PGC           | 0 | PGC MIR1302-2HG           |\n",
       "| 28231 | MIR1302-2HG | PGC_mitotic   | 0 | PGC_mitotic MIR1302-2HG   |\n",
       "| 56461 | MIR1302-2HG | Sertoli       | 0 | Sertoli MIR1302-2HG       |\n",
       "| 84691 | MIR1302-2HG | Sertoli_WFDC2 | 0 | Sertoli_WFDC2 MIR1302-2HG |\n",
       "| 112921 | MIR1302-2HG | coelEpi       | 0 | coelEpi MIR1302-2HG       |\n",
       "| 141151 | MIR1302-2HG | oocyte        | 0 | oocyte MIR1302-2HG        |\n",
       "\n"
      ],
      "text/plain": [
       "       gene        cluster       percent id                       \n",
       "1      MIR1302-2HG PGC           0       PGC MIR1302-2HG          \n",
       "28231  MIR1302-2HG PGC_mitotic   0       PGC_mitotic MIR1302-2HG  \n",
       "56461  MIR1302-2HG Sertoli       0       Sertoli MIR1302-2HG      \n",
       "84691  MIR1302-2HG Sertoli_WFDC2 0       Sertoli_WFDC2 MIR1302-2HG\n",
       "112921 MIR1302-2HG coelEpi       0       coelEpi MIR1302-2HG      \n",
       "141151 MIR1302-2HG oocyte        0       oocyte MIR1302-2HG       "
      ]
     },
     "metadata": {},
     "output_type": "display_data"
    },
    {
     "data": {
      "text/html": [
       "<style>\n",
       ".list-inline {list-style: none; margin:0; padding: 0}\n",
       ".list-inline>li {display: inline-block}\n",
       ".list-inline>li:not(:last-child)::after {content: \"\\00b7\"; padding: 0 .5ex}\n",
       "</style>\n",
       "<ol class=list-inline><li>'PGC'</li><li>'PGC_mitotic'</li><li>'Sertoli'</li><li>'Sertoli_WFDC2'</li><li>'coelEpi'</li><li>'oocyte'</li><li>'oogonia_STRA8'</li><li>'oogonia_meiosis'</li><li>'ovarianSurf'</li><li>'pre-spermatogonia'</li><li>'preGC_II'</li><li>'preGC_III'</li><li>'preGC_III_Notch'</li><li>'preGC_II_hypoxia'</li><li>'preGC_I_OSR1'</li><li>'sKITLG'</li><li>'sLGR5_female'</li><li>'sLGR5_male'</li><li>'sPAX8b'</li><li>'sPAX8m'</li></ol>\n"
      ],
      "text/latex": [
       "\\begin{enumerate*}\n",
       "\\item 'PGC'\n",
       "\\item 'PGC\\_mitotic'\n",
       "\\item 'Sertoli'\n",
       "\\item 'Sertoli\\_WFDC2'\n",
       "\\item 'coelEpi'\n",
       "\\item 'oocyte'\n",
       "\\item 'oogonia\\_STRA8'\n",
       "\\item 'oogonia\\_meiosis'\n",
       "\\item 'ovarianSurf'\n",
       "\\item 'pre-spermatogonia'\n",
       "\\item 'preGC\\_II'\n",
       "\\item 'preGC\\_III'\n",
       "\\item 'preGC\\_III\\_Notch'\n",
       "\\item 'preGC\\_II\\_hypoxia'\n",
       "\\item 'preGC\\_I\\_OSR1'\n",
       "\\item 'sKITLG'\n",
       "\\item 'sLGR5\\_female'\n",
       "\\item 'sLGR5\\_male'\n",
       "\\item 'sPAX8b'\n",
       "\\item 'sPAX8m'\n",
       "\\end{enumerate*}\n"
      ],
      "text/markdown": [
       "1. 'PGC'\n",
       "2. 'PGC_mitotic'\n",
       "3. 'Sertoli'\n",
       "4. 'Sertoli_WFDC2'\n",
       "5. 'coelEpi'\n",
       "6. 'oocyte'\n",
       "7. 'oogonia_STRA8'\n",
       "8. 'oogonia_meiosis'\n",
       "9. 'ovarianSurf'\n",
       "10. 'pre-spermatogonia'\n",
       "11. 'preGC_II'\n",
       "12. 'preGC_III'\n",
       "13. 'preGC_III_Notch'\n",
       "14. 'preGC_II_hypoxia'\n",
       "15. 'preGC_I_OSR1'\n",
       "16. 'sKITLG'\n",
       "17. 'sLGR5_female'\n",
       "18. 'sLGR5_male'\n",
       "19. 'sPAX8b'\n",
       "20. 'sPAX8m'\n",
       "\n",
       "\n"
      ],
      "text/plain": [
       " [1] \"PGC\"               \"PGC_mitotic\"       \"Sertoli\"          \n",
       " [4] \"Sertoli_WFDC2\"     \"coelEpi\"           \"oocyte\"           \n",
       " [7] \"oogonia_STRA8\"     \"oogonia_meiosis\"   \"ovarianSurf\"      \n",
       "[10] \"pre-spermatogonia\" \"preGC_II\"          \"preGC_III\"        \n",
       "[13] \"preGC_III_Notch\"   \"preGC_II_hypoxia\"  \"preGC_I_OSR1\"     \n",
       "[16] \"sKITLG\"            \"sLGR5_female\"      \"sLGR5_male\"       \n",
       "[19] \"sPAX8b\"            \"sPAX8m\"           "
      ]
     },
     "metadata": {},
     "output_type": "display_data"
    }
   ],
   "source": [
    "# Load percentage expressions\n",
    "path_Per = 'cellphoneDB/input/percent.csv'\n",
    "\n",
    "\n",
    "# Load\n",
    "Per_mat = read.csv(path_Per, stringsAsFactors = F, row.names = 1) \n",
    "Per_df = setNames(melt(as.matrix(Per_mat), factorsAsStrings = T), c('gene', 'cluster', 'percent'))\n",
    "colnames(Per_mat) = gsub('pre.spermatogonia', 'pre-spermatogonia', colnames(Per_mat))\n",
    "\n",
    "\n",
    "# Filetr expressed\n",
    "# Per_df = subset(Per_df, percent >= per_cutoff)\n",
    "Per_df = Per_df[ order(Per_df$gene), ]\n",
    "\n",
    "# Build dictionary clusters2expressed genes                       \n",
    "PERC = Per_df\n",
    "PERC$cluster = gsub('pre.spermatogonia', 'pre-spermatogonia', PERC$cluster)\n",
    "PERC$id = paste(PERC$cluster, PERC$gene)                      \n",
    "head(PERC)\n",
    "unique(PERC$cluster)"
   ]
  },
  {
   "cell_type": "code",
   "execution_count": 15,
   "metadata": {},
   "outputs": [
    {
     "data": {
      "text/html": [
       "<table class=\"dataframe\">\n",
       "<caption>A data.frame: 6 × 4</caption>\n",
       "<thead>\n",
       "\t<tr><th></th><th scope=col>gene</th><th scope=col>cluster</th><th scope=col>avg</th><th scope=col>id</th></tr>\n",
       "\t<tr><th></th><th scope=col>&lt;fct&gt;</th><th scope=col>&lt;fct&gt;</th><th scope=col>&lt;dbl&gt;</th><th scope=col>&lt;chr&gt;</th></tr>\n",
       "</thead>\n",
       "<tbody>\n",
       "\t<tr><th scope=row>1</th><td>MIR1302-2HG</td><td>PGC              </td><td>-0.3860490</td><td>PGC MIR1302-2HG              </td></tr>\n",
       "\t<tr><th scope=row>28231</th><td>MIR1302-2HG</td><td>PGC_mitotic      </td><td>-0.5941947</td><td>PGC_mitotic MIR1302-2HG      </td></tr>\n",
       "\t<tr><th scope=row>56461</th><td>MIR1302-2HG</td><td>oocyte           </td><td>-0.7596473</td><td>oocyte MIR1302-2HG           </td></tr>\n",
       "\t<tr><th scope=row>84691</th><td>MIR1302-2HG</td><td>oogonia_STRA8    </td><td> 0.3858307</td><td>oogonia_STRA8 MIR1302-2HG    </td></tr>\n",
       "\t<tr><th scope=row>112921</th><td>MIR1302-2HG</td><td>oogonia_meiosis  </td><td>-0.5177983</td><td>oogonia_meiosis MIR1302-2HG  </td></tr>\n",
       "\t<tr><th scope=row>141151</th><td>MIR1302-2HG</td><td>pre-spermatogonia</td><td> 1.8718586</td><td>pre-spermatogonia MIR1302-2HG</td></tr>\n",
       "</tbody>\n",
       "</table>\n"
      ],
      "text/latex": [
       "A data.frame: 6 × 4\n",
       "\\begin{tabular}{r|llll}\n",
       "  & gene & cluster & avg & id\\\\\n",
       "  & <fct> & <fct> & <dbl> & <chr>\\\\\n",
       "\\hline\n",
       "\t1 & MIR1302-2HG & PGC               & -0.3860490 & PGC MIR1302-2HG              \\\\\n",
       "\t28231 & MIR1302-2HG & PGC\\_mitotic       & -0.5941947 & PGC\\_mitotic MIR1302-2HG      \\\\\n",
       "\t56461 & MIR1302-2HG & oocyte            & -0.7596473 & oocyte MIR1302-2HG           \\\\\n",
       "\t84691 & MIR1302-2HG & oogonia\\_STRA8     &  0.3858307 & oogonia\\_STRA8 MIR1302-2HG    \\\\\n",
       "\t112921 & MIR1302-2HG & oogonia\\_meiosis   & -0.5177983 & oogonia\\_meiosis MIR1302-2HG  \\\\\n",
       "\t141151 & MIR1302-2HG & pre-spermatogonia &  1.8718586 & pre-spermatogonia MIR1302-2HG\\\\\n",
       "\\end{tabular}\n"
      ],
      "text/markdown": [
       "\n",
       "A data.frame: 6 × 4\n",
       "\n",
       "| <!--/--> | gene &lt;fct&gt; | cluster &lt;fct&gt; | avg &lt;dbl&gt; | id &lt;chr&gt; |\n",
       "|---|---|---|---|---|\n",
       "| 1 | MIR1302-2HG | PGC               | -0.3860490 | PGC MIR1302-2HG               |\n",
       "| 28231 | MIR1302-2HG | PGC_mitotic       | -0.5941947 | PGC_mitotic MIR1302-2HG       |\n",
       "| 56461 | MIR1302-2HG | oocyte            | -0.7596473 | oocyte MIR1302-2HG            |\n",
       "| 84691 | MIR1302-2HG | oogonia_STRA8     |  0.3858307 | oogonia_STRA8 MIR1302-2HG     |\n",
       "| 112921 | MIR1302-2HG | oogonia_meiosis   | -0.5177983 | oogonia_meiosis MIR1302-2HG   |\n",
       "| 141151 | MIR1302-2HG | pre-spermatogonia |  1.8718586 | pre-spermatogonia MIR1302-2HG |\n",
       "\n"
      ],
      "text/plain": [
       "       gene        cluster           avg        id                           \n",
       "1      MIR1302-2HG PGC               -0.3860490 PGC MIR1302-2HG              \n",
       "28231  MIR1302-2HG PGC_mitotic       -0.5941947 PGC_mitotic MIR1302-2HG      \n",
       "56461  MIR1302-2HG oocyte            -0.7596473 oocyte MIR1302-2HG           \n",
       "84691  MIR1302-2HG oogonia_STRA8      0.3858307 oogonia_STRA8 MIR1302-2HG    \n",
       "112921 MIR1302-2HG oogonia_meiosis   -0.5177983 oogonia_meiosis MIR1302-2HG  \n",
       "141151 MIR1302-2HG pre-spermatogonia  1.8718586 pre-spermatogonia MIR1302-2HG"
      ]
     },
     "metadata": {},
     "output_type": "display_data"
    }
   ],
   "source": [
    "# Load average expressions\n",
    "path_Exp = 'cellphoneDB/input/average_log.csv'\n",
    "\n",
    "# Load\n",
    "Avg_mat = read.csv(path_Exp, stringsAsFactors = F, row.names = 1) \n",
    "colnames(Avg_mat) = gsub('pre.spermatogonia', 'pre-spermatogonia', colnames(Avg_mat))\n",
    "Avg_mat = Avg_mat[, colnames(Avg_mat) %in% c(germs, soma)]\n",
    "# scale within lineages\n",
    "cn = colnames(Avg_mat)\n",
    "Avg_matG =  apply(Avg_mat[ ,  colnames(Avg_mat) %in%  germs],1,scale) %>% t(.)\n",
    "colnames(Avg_matG) = intersect(colnames(Avg_mat), germs)\n",
    "Avg_matS =  apply(Avg_mat[ ,  colnames(Avg_mat) %in%  soma],1,scale) %>% t(.)\n",
    "colnames(Avg_matS) = intersect(colnames(Avg_mat), soma)\n",
    "# Avg_matSf =  apply(Avg_mat[ , somaF],1,scale) %>% t(.)\n",
    "# Avg_matSm =  apply(Avg_mat[ , somaM],1,scale) %>% t(.)\n",
    "# Avg_mat = cbind(Avg_matG, Avg_matSf, Avg_matSm)\n",
    "Avg_mat = cbind(Avg_matG, Avg_matS)\n",
    "# colnames(Avg_mat) = cn\n",
    "\n",
    "# convert into a data frame for plotting\n",
    "Avg_df = setNames(melt(as.matrix(Avg_mat), factorsAsStrings = T), c('gene', 'cluster', 'avg'))\n",
    "# Filetr expressed\n",
    "Avg_df = Avg_df[ order(Avg_df$gene),  ]\n",
    "\n",
    "# Build dictionary clusters2expressed genes                       \n",
    "AVG = Avg_df\n",
    "AVG$id = paste(AVG$cluster, AVG$gene)                      \n",
    "head(AVG)"
   ]
  },
  {
   "cell_type": "markdown",
   "metadata": {},
   "source": [
    "# Save results per tissue"
   ]
  },
  {
   "cell_type": "code",
   "execution_count": 18,
   "metadata": {},
   "outputs": [],
   "source": [
    "# Filter cells in ovary only\n",
    "cells = unique(c(microenviroments$cortex, microenviroments$medulla))\n",
    "cells = setdiff(cells, c('sPAX8m', 'sPAX8b'))\n",
    "comb_of_interest = get_combinations_of_interest(intersect(germs, cells), intersect(soma, cells))\n",
    "fCPresults = CPresults[ , colnames(CPresults) %in% comb_of_interest  ]\n",
    "fCPresults = fCPresults[ rowSums(fCPresults) > 0,  ]\n",
    "fCPresults = fCPresults[ , colSums(fCPresults) > 0 ]\n",
    "write.csv(fCPresults, file = 'cellphoneDB/out/ovarian_interactions_0.001_logFC0.2.csv')\n",
    "\n",
    "\n",
    "# Filter cells in testis only\n",
    "cells = unique(c(microenviroments$testis_cords))\n",
    "cells = setdiff(cells, c('sPAX8m', 'sPAX8b'))\n",
    "comb_of_interest = get_combinations_of_interest(intersect(germs, cells), intersect(soma, cells))\n",
    "fCPresults = CPresults[ , colnames(CPresults) %in% comb_of_interest  ]\n",
    "fCPresults = fCPresults[ rowSums(fCPresults) > 0,  ]\n",
    "fCPresults = fCPresults[ , colSums(fCPresults) > 0 ]\n",
    "write.csv(fCPresults, file = 'cellphoneDB/out/testis_interactions_0.001_logFC0.2.csv')"
   ]
  },
  {
   "cell_type": "markdown",
   "metadata": {},
   "source": [
    "# PLOTS\n",
    "### Identify interactions per microenviroment"
   ]
  },
  {
   "cell_type": "code",
   "execution_count": 11,
   "metadata": {},
   "outputs": [],
   "source": [
    "# Filter interactions within microenviroments\n",
    "intXmicroenviroment = list()\n",
    "for (mienv in names(microenviroments)){\n",
    "    idx = sapply(colnames(CPresults), function(x) all(unlist(strsplit(x, split = '--')) %in% microenviroments[[mienv]] )) \n",
    "    intXmicroenviroment[[ mienv ]] = rownames(CPresults)[ apply(CPresults[ , idx], 1, sum ) > 0 ]\n",
    "}             "
   ]
  },
  {
   "cell_type": "markdown",
   "metadata": {},
   "source": [
    "### Extract interactions and plot"
   ]
  },
  {
   "cell_type": "code",
   "execution_count": 12,
   "metadata": {},
   "outputs": [
    {
     "name": "stdout",
     "output_type": "stream",
     "text": [
      "[1] \"cortex\"\n"
     ]
    },
    {
     "name": "stderr",
     "output_type": "stream",
     "text": [
      "71 interactions\n",
      "\n",
      "150 interactions\n",
      "\n"
     ]
    },
    {
     "name": "stdout",
     "output_type": "stream",
     "text": [
      "[1] \"medulla\"\n"
     ]
    },
    {
     "name": "stderr",
     "output_type": "stream",
     "text": [
      "171 interactions\n",
      "\n",
      "153 interactions\n",
      "\n"
     ]
    },
    {
     "name": "stdout",
     "output_type": "stream",
     "text": [
      "[1] \"testis_cords\"\n"
     ]
    },
    {
     "name": "stderr",
     "output_type": "stream",
     "text": [
      "155 interactions\n",
      "\n",
      "179 interactions\n",
      "\n"
     ]
    }
   ],
   "source": [
    "gens_of_interest = rownames(Avg_mat)\n",
    "\n",
    "for (mi in names(microenviroments)){\n",
    "    print(mi)\n",
    "    outdir = paste0('cellphoneDB/out/', mi)\n",
    "    dir.create(outdir, showWarnings = F)\n",
    "    \n",
    "    cells = microenviroments[[mi]]\n",
    "    interactions = intXmicroenviroment[[ mi ]]\n",
    "    \n",
    "    # Gem-somatic interactions\n",
    "    comb_of_interest = get_combinations_of_interest(intersect(germs, cells), intersect(soma, cells))\n",
    "    \n",
    "    fCPresults = CPresults[ interactions ,]\n",
    "    fCPresults = fCPresults[ , colnames(CPresults) %in% comb_of_interest  ]\n",
    "    fCPresults = fCPresults[ rowSums(fCPresults) > 0,  ]\n",
    "    fCPresults = fCPresults[ , colSums(fCPresults) > 0 ]\n",
    "\n",
    "    cells2genes = get_cells2genes(fCPresults, genes2filter = gens_of_interest)\n",
    "    head(cells2genes)\n",
    "    cells2genes$value = 1\n",
    "    cells2genes$cell = as.character(cells2genes$cell)\n",
    "    cells2genes$gene = as.character(cells2genes$gene)\n",
    "    \n",
    "    G_plot = subset(cells2genes, cell %in% germs)\n",
    "    G_plot$cell = factor(G_plot$cell, levels = germs)\n",
    "    df2plot = G_plot[ , names(G_plot) != 'interaction' ] %>% unique(.)\n",
    "    ggplot(df2plot,  aes(x = gene,\n",
    "                        y = cell,\n",
    "                        color = AveExpr_cluster,\n",
    "                        size = percentExpr_cluster)) +      \n",
    "        geom_point() + scale_color_gradient2(low = brewer.pal(n = 5, name = 'Blues')[4], \n",
    "                              high = brewer.pal(n = 5, name = 'Reds')[4], \n",
    "                              mid = 'grey90')+\n",
    "        theme_bw() + theme(axis.text.x = element_text(angle = 90, vjust = 0.5, hjust = 1)) \n",
    "    #     theme(panel.grid.major = element_blank(), panel.grid.minor = element_blank())\n",
    "    wi = round(length(unique(G_plot$gene))/5, 0)+ 1\n",
    "    ggsave(filename = paste0(outdir,'/GSint_germs_' , pval_cutoff, '_logFC', logFC_cutoff, '.pdf'), dpi = 300, width = wi, height = 3)\n",
    "    G_plot = subset(G_plot,  cellphoneDB_hit == 1)\n",
    "    write.csv(G_plot, file = paste0(outdir,'/GSint_germs_' , pval_cutoff, '_logFC', logFC_cutoff, '.csv'))\n",
    "    \n",
    "    S_plot = subset(cells2genes, cell %in% soma)\n",
    "    S_plot$cell = factor(S_plot$cell, levels = soma)\n",
    "    df2plot = S_plot[ , names(S_plot) != 'interaction' ] %>% unique(.)\n",
    "    ggplot(df2plot,  aes(x = gene,\n",
    "                        y = cell,\n",
    "                        color = AveExpr_cluster,\n",
    "                        size = percentExpr_cluster)) +      \n",
    "        geom_point() + scale_color_gradient2(low = brewer.pal(n = 5, name = 'Blues')[4], \n",
    "                              high = brewer.pal(n = 5, name = 'Reds')[4], \n",
    "                              mid = 'grey90')+\n",
    "        theme_bw() + theme(axis.text.x = element_text(angle = 90, vjust = 0.5, hjust = 1)) \n",
    "    #     theme(panel.grid.major = element_blank(), panel.grid.minor = element_blank())\n",
    "\n",
    "    wi = round(length(unique(S_plot$gene))/5, 0)+ 1\n",
    "    ggsave(filename = paste0(outdir,'/GSint_soma_' , pval_cutoff, '_logFC', logFC_cutoff, '.pdf'), dpi = 300, width = wi, height = 3)\n",
    "    S_plot = subset(S_plot,  cellphoneDB_hit == 1)\n",
    "    write.csv(S_plot, file = paste0(outdir,'/GSint_soma_' , pval_cutoff, '_logFC', logFC_cutoff, '.csv'))\n",
    "    \n",
    "    \n",
    "    # somatic-somatic interactions\n",
    "    comb_of_interest = get_combinations_of_interest(intersect(soma, cells), intersect(soma, cells))\n",
    "    \n",
    "    fCPresults = CPresults[ interactions ,]\n",
    "    fCPresults = fCPresults[, colnames(CPresults) %in% comb_of_interest  ]\n",
    "    fCPresults = fCPresults[ rowSums(fCPresults) > 0,  ]\n",
    "    fCPresults = fCPresults[ , colSums(fCPresults) > 0 ]\n",
    "\n",
    "    cells2genes = get_cells2genes(fCPresults, genes2filter = gens_of_interest)\n",
    "    head(cells2genes)\n",
    "    cells2genes$value = 1\n",
    "    cells2genes$cell = as.character(cells2genes$cell)\n",
    "    cells2genes$gene = as.character(cells2genes$gene)\n",
    "    \n",
    "    S_plot = subset(cells2genes, cell %in% intersect(microenviroments[[mi]], soma))\n",
    "    S_plot$cell = factor(S_plot$cell, levels = soma)\n",
    "    df2plot = S_plot[ , names(S_plot) != 'interaction' ] %>% unique(.)\n",
    "    ggplot(df2plot,  aes(x = gene,\n",
    "                        y = cell,\n",
    "                        color = AveExpr_cluster,\n",
    "                        size = percentExpr_cluster)) +      \n",
    "        geom_point() + scale_color_gradient2(low = brewer.pal(n = 5, name = 'Blues')[4], \n",
    "                              high = brewer.pal(n = 5, name = 'Reds')[4], \n",
    "                              mid = 'grey90')+\n",
    "        theme_bw() + theme(axis.text.x = element_text(angle = 90, vjust = 0.5, hjust = 1)) \n",
    "    #     theme(panel.grid.major = element_blank(), panel.grid.minor = element_blank())\n",
    "    wi = round(length(unique(S_plot$gene))/5, 0) + 1\n",
    "    ggsave(filename = paste0(outdir,'/SSint_soma_' , pval_cutoff, '_logFC', logFC_cutoff, '.pdf'), dpi = 300, width = wi, height = 4)\n",
    "    \n",
    "    S_plot = subset(S_plot,  cellphoneDB_hit == 1)\n",
    "    write.csv(S_plot, file = paste0(outdir,'/SSint_soma_' , pval_cutoff, '_logFC', logFC_cutoff, '.csv'))\n",
    "    \n",
    "     \n",
    "}"
   ]
  }
 ],
 "metadata": {
  "kernelspec": {
   "display_name": "R",
   "language": "R",
   "name": "ir"
  },
  "language_info": {
   "codemirror_mode": "r",
   "file_extension": ".r",
   "mimetype": "text/x-r-source",
   "name": "R",
   "pygments_lexer": "r",
   "version": "4.0.3"
  }
 },
 "nbformat": 4,
 "nbformat_minor": 4
}
