{
 "cells": [
  {
   "cell_type": "markdown",
   "metadata": {},
   "source": [
    "### Supervised Machine Learning Models for Cross Species comparison of supporting cells"
   ]
  },
  {
   "cell_type": "code",
   "execution_count": 35,
   "metadata": {},
   "outputs": [
    {
     "name": "stderr",
     "output_type": "stream",
     "text": [
      "WARNING: If you miss a compact list, please try `print_header`!\n"
     ]
    },
    {
     "name": "stdout",
     "output_type": "stream",
     "text": [
      "-----\n",
      "anndata     0.7.5\n",
      "scanpy      1.7.1\n",
      "sinfo       0.3.1\n",
      "-----\n",
      "PIL                 8.1.0\n",
      "anndata             0.7.5\n",
      "backcall            0.2.0\n",
      "cairo               1.20.0\n",
      "cffi                1.14.5\n",
      "constants           NA\n",
      "cycler              0.10.0\n",
      "cython_runtime      NA\n",
      "dateutil            2.8.1\n",
      "decorator           4.4.2\n",
      "get_version         2.1\n",
      "google              NA\n",
      "h5py                2.10.0\n",
      "highs_wrapper       NA\n",
      "igraph              0.8.3\n",
      "ipykernel           5.5.0\n",
      "ipython_genutils    0.2.0\n",
      "jedi                0.18.0\n",
      "joblib              1.0.1\n",
      "kiwisolver          1.3.1\n",
      "legacy_api_wrap     1.2\n",
      "leidenalg           0.8.3\n",
      "llvmlite            0.35.0\n",
      "matplotlib          3.3.4\n",
      "mpl_toolkits        NA\n",
      "natsort             7.1.1\n",
      "numba               0.52.0\n",
      "numexpr             2.7.2\n",
      "numpy               1.19.5\n",
      "packaging           20.9\n",
      "pandas              1.2.2\n",
      "parso               0.8.1\n",
      "pexpect             4.8.0\n",
      "pickleshare         0.7.5\n",
      "pkg_resources       NA\n",
      "prompt_toolkit      3.0.16\n",
      "psutil              5.8.0\n",
      "ptyprocess          0.7.0\n",
      "pycparser           2.20\n",
      "pygments            2.8.0\n",
      "pyparsing           2.4.7\n",
      "pytz                2021.1\n",
      "scanpy              1.7.1\n",
      "scipy               1.6.0\n",
      "seaborn             0.11.1\n",
      "setuptools_scm      NA\n",
      "sinfo               0.3.1\n",
      "six                 1.15.0\n",
      "sklearn             0.24.1\n",
      "statsmodels         0.12.2\n",
      "storemagic          NA\n",
      "tables              3.6.1\n",
      "texttable           1.6.3\n",
      "tornado             6.1\n",
      "traitlets           5.0.5\n",
      "typing_extensions   NA\n",
      "wcwidth             0.2.5\n",
      "zmq                 22.0.3\n",
      "-----\n",
      "IPython             7.20.0\n",
      "jupyter_client      6.1.11\n",
      "jupyter_core        4.7.1\n",
      "-----\n",
      "Python 3.8.8 | packaged by conda-forge | (default, Feb 20 2021, 16:22:27) [GCC 9.3.0]\n",
      "Linux-4.15.0-112-generic-x86_64-with-glibc2.10\n",
      "26 logical CPU cores, x86_64\n",
      "-----\n",
      "Session information updated at 2021-04-30 15:34\n",
      "\n"
     ]
    },
    {
     "data": {
      "text/plain": [
       "'/home/jovyan/my-conda-envs/scanpy_env/bin/python'"
      ]
     },
     "execution_count": 35,
     "metadata": {},
     "output_type": "execute_result"
    }
   ],
   "source": [
    "import numpy as np\n",
    "import pandas as pd\n",
    "import scanpy as sc\n",
    "import matplotlib.pyplot as plt\n",
    "import os\n",
    "import sys\n",
    "import anndata\n",
    "\n",
    "\n",
    "def MovePlots(plotpattern, subplotdir):\n",
    "    os.system('mkdir -p '+str(sc.settings.figdir)+'/'+subplotdir)\n",
    "    os.system('mv '+str(sc.settings.figdir)+'/*'+plotpattern+'** '+str(sc.settings.figdir)+'/'+subplotdir)\n",
    "\n",
    "\n",
    "sc.settings.verbosity = 3  # verbosity: errors (0), warnings (1), info (2), hints (3)\n",
    "sc.settings.figdir = '/home/jovyan/Gonads/Flat_SupportVectorMachine_Fetal/SVM/training/'\n",
    "sc.logging.print_versions()\n",
    "sc.settings.set_figure_params(dpi=80)  # low dpi (dots per inch) yields small inline figures\n",
    "\n",
    "sys.executable"
   ]
  },
  {
   "cell_type": "markdown",
   "metadata": {},
   "source": [
    "**Load our fetal samples**"
   ]
  },
  {
   "cell_type": "code",
   "execution_count": 2,
   "metadata": {},
   "outputs": [
    {
     "name": "stderr",
     "output_type": "stream",
     "text": [
      "/home/jovyan/my-conda-envs/scanpy_env/lib/python3.8/site-packages/pandas/core/arrays/categorical.py:2487: FutureWarning: The `inplace` parameter in pandas.Categorical.remove_unused_categories is deprecated and will be removed in a future version.\n",
      "  res = method(*args, **kwargs)\n"
     ]
    },
    {
     "data": {
      "text/plain": [
       "17.0    25715\n",
       "21.0    21032\n",
       "10.0    19234\n",
       "16.0    19233\n",
       "8.6     14212\n",
       "13.0    14039\n",
       "12.0     9631\n",
       "14.0     9206\n",
       "8.8      9186\n",
       "11.0     7913\n",
       "9.0      7401\n",
       "7.5      4098\n",
       "6.0      3773\n",
       "18.0     3387\n",
       "8.4      2023\n",
       "Name: stage, dtype: int64"
      ]
     },
     "execution_count": 2,
     "metadata": {},
     "output_type": "execute_result"
    }
   ],
   "source": [
    "human = sc.read('/nfs/team292/lg18/with_valentina/FCA-M5-annotatedCluster4Seurat.h5ad')\n",
    "human = human[[i in ['female'] for i in human.obs['sex']]]\n",
    "human.obs['stage'].value_counts()"
   ]
  },
  {
   "cell_type": "markdown",
   "metadata": {},
   "source": [
    "**Take fine grained annotations from Luz on supporting cells**"
   ]
  },
  {
   "cell_type": "code",
   "execution_count": 3,
   "metadata": {},
   "outputs": [
    {
     "name": "stderr",
     "output_type": "stream",
     "text": [
      "Trying to set attribute `.obs` of view, copying.\n"
     ]
    },
    {
     "name": "stdout",
     "output_type": "stream",
     "text": [
      "Sertoli             19227\n",
      "preGC_I_OSR1        11714\n",
      "Sertoli_low          8763\n",
      "preGC_II_hypoxia     8180\n",
      "preGC_III            7871\n",
      "preGC_II             6669\n",
      "ovarianSurf          5148\n",
      "coelEpi              4385\n",
      "sLGR5                2660\n",
      "preGC_III_Notch      2409\n",
      "sPAX8b               1783\n",
      "sPAX8m               1645\n",
      "sKITLG               1245\n",
      "Sertoli_WFDC2        1074\n",
      "FetalLeydig-like      460\n",
      "Name: annotated_clusters, dtype: int64\n"
     ]
    },
    {
     "data": {
      "text/plain": [
       "preGC_I_OSR1        11712\n",
       "preGC_II_hypoxia     8178\n",
       "preGC_II             6645\n",
       "ovarianSurf          5090\n",
       "preGC_III_Notch      2409\n",
       "sLGR5                2380\n",
       "coelEpi              2223\n",
       "sPAX8b               1372\n",
       "sKITLG               1050\n",
       "Name: supporting_clusters, dtype: int64"
      ]
     },
     "execution_count": 3,
     "metadata": {},
     "output_type": "execute_result"
    }
   ],
   "source": [
    "supporting = pd.read_csv('/nfs/team292/lg18/with_valentina/supporting_nocycling_annotation.csv', index_col = 0)\n",
    "print(supporting['annotated_clusters'].value_counts())\n",
    "supporting = supporting[supporting['annotated_clusters'].isin(['coelEpi', 'sLGR5', 'sPAX8b', 'preGC_III_Notch', 'preGC_II', \n",
    "                              'preGC_II_hypoxia', 'preGC_I_OSR1', 'sKITLG',\n",
    "                                'ovarianSurf'])]\n",
    "mapping = supporting['annotated_clusters'].to_dict()\n",
    "human.obs['supporting_clusters'] = human.obs_names.map(mapping)\n",
    "\n",
    "# Remove doublets as well as NaNs corresponding to cells from enriched samples\n",
    "human.obs['supporting_clusters'] = human.obs['supporting_clusters'].astype(str)\n",
    "human = human[[i not in ['nan'] for i in human.obs['supporting_clusters']]]\n",
    "human.obs['supporting_clusters'].value_counts(dropna = False)"
   ]
  },
  {
   "cell_type": "code",
   "execution_count": 4,
   "metadata": {},
   "outputs": [
    {
     "name": "stderr",
     "output_type": "stream",
     "text": [
      "Trying to set attribute `.obs` of view, copying.\n"
     ]
    },
    {
     "data": {
      "text/plain": [
       "preGC_II        14823\n",
       "preGC_I_OSR1    11712\n",
       "ovarianSurf      5090\n",
       "preGC_III        2409\n",
       "sLGR5            2380\n",
       "coelEpi          2223\n",
       "sPAX8b           1372\n",
       "sKITLG           1050\n",
       "Name: supporting_clusters, dtype: int64"
      ]
     },
     "execution_count": 4,
     "metadata": {},
     "output_type": "execute_result"
    }
   ],
   "source": [
    "### Join sub-states of preGC_II and preGC_III\n",
    "joined = {'coelEpi' : 'coelEpi', 'sLGR5' : 'sLGR5', 'sPAX8b' : 'sPAX8b', 'preGC_III_Notch' : 'preGC_III', 'preGC_II' : 'preGC_II', \n",
    "                              'preGC_II_hypoxia' : 'preGC_II', 'preGC_I_OSR1' : 'preGC_I_OSR1', 'sKITLG' : 'sKITLG',\n",
    "                                'ovarianSurf' : 'ovarianSurf'}\n",
    "human.obs['supporting_clusters'] = human.obs['supporting_clusters'].map(joined)\n",
    "human.obs['supporting_clusters'].value_counts(dropna = False)"
   ]
  },
  {
   "cell_type": "markdown",
   "metadata": {},
   "source": [
    "**Intersect genes present in all fetal gonads scRNAseq datasets of human and mouse**"
   ]
  },
  {
   "cell_type": "markdown",
   "metadata": {},
   "source": [
    "Mouse ovary"
   ]
  },
  {
   "cell_type": "code",
   "execution_count": 5,
   "metadata": {},
   "outputs": [
    {
     "data": {
      "text/plain": [
       "AnnData object with n_obs × n_vars = 17686 × 15799\n",
       "    obs: 'batch', 'n_counts', 'n_genes', 'percent_mito', 'sample', 'stage', 'tissue', 'S_score', 'G2M_score', 'phase', 'doublet_score', 'doublet_score_0.75', 'scrublet_score', 'scrublet_cluster_score', 'zscore', 'bh_pval', 'bonf_pval', 'is_doublet', 'leiden', 'cell_type'\n",
       "    var: 'gene_ids-0', 'feature_types-0', 'n_cells-0', 'mouse_ENSEMBL-0', 'human_ENSEMBL-0', 'human_gene_ortholog-0', 'mouse_gene_name-0', 'gene_ids-1', 'feature_types-1', 'n_cells-1', 'mouse_ENSEMBL-1', 'human_ENSEMBL-1', 'human_gene_ortholog-1', 'mouse_gene_name-1', 'gene_ids-2', 'feature_types-2', 'n_cells-2', 'mouse_ENSEMBL-2', 'human_ENSEMBL-2', 'human_gene_ortholog-2', 'mouse_gene_name-2', 'gene_ids-3', 'feature_types-3', 'n_cells-3', 'mouse_ENSEMBL-3', 'human_ENSEMBL-3', 'human_gene_ortholog-3', 'mouse_gene_name-3', 'gene_ids-4', 'feature_types-4', 'n_cells-4', 'mouse_ENSEMBL-4', 'human_ENSEMBL-4', 'human_gene_ortholog-4', 'mouse_gene_name-4', 'gene_ids-5', 'feature_types-5', 'n_cells-5', 'mouse_ENSEMBL-5', 'human_ENSEMBL-5', 'human_gene_ortholog-5', 'mouse_gene_name-5', 'gene_ids-6', 'feature_types-6', 'n_cells-6', 'mouse_ENSEMBL-6', 'human_ENSEMBL-6', 'human_gene_ortholog-6', 'mouse_gene_name-6', 'n_cells'"
      ]
     },
     "execution_count": 5,
     "metadata": {},
     "output_type": "execute_result"
    }
   ],
   "source": [
    "mouse = sc.read(\"/nfs/team292/vl6/Mouse_Niu2020/supporting_mesothelial.h5ad\")\n",
    "mouse = anndata.AnnData(X= mouse.raw.X, var=mouse.raw.var, obs=mouse.obs)\n",
    "mouse "
   ]
  },
  {
   "cell_type": "markdown",
   "metadata": {},
   "source": [
    "Extract the genes from all datasets"
   ]
  },
  {
   "cell_type": "code",
   "execution_count": 6,
   "metadata": {},
   "outputs": [],
   "source": [
    "human_genes = human.var_names.to_list()\n",
    "mouse_genes = mouse.var_names.to_list()"
   ]
  },
  {
   "cell_type": "code",
   "execution_count": 7,
   "metadata": {},
   "outputs": [
    {
     "data": {
      "text/plain": [
       "15381"
      ]
     },
     "execution_count": 7,
     "metadata": {},
     "output_type": "execute_result"
    }
   ],
   "source": [
    "from functools import reduce\n",
    "inters = reduce(np.intersect1d, (human_genes, mouse_genes))\n",
    "len(inters)"
   ]
  },
  {
   "cell_type": "code",
   "execution_count": 8,
   "metadata": {},
   "outputs": [
    {
     "data": {
      "text/plain": [
       "15292"
      ]
     },
     "execution_count": 8,
     "metadata": {},
     "output_type": "execute_result"
    }
   ],
   "source": [
    "cell_cycle_genes = [x.strip() for x in open(file='/nfs/users/nfs_v/vl6/regev_lab_cell_cycle_genes.txt')]\n",
    "cell_cycle_genes = [x for x in cell_cycle_genes if x in list(inters)]\n",
    "inters = [x for x in list(inters) if x not in cell_cycle_genes]\n",
    "len(inters)"
   ]
  },
  {
   "cell_type": "markdown",
   "metadata": {},
   "source": [
    "**Subset fetal data to keep only these genes**"
   ]
  },
  {
   "cell_type": "code",
   "execution_count": 9,
   "metadata": {},
   "outputs": [
    {
     "data": {
      "text/plain": [
       "View of AnnData object with n_obs × n_vars = 41059 × 15292\n",
       "    obs: '5v1.1', 'TP', 'batch', 'batch_collection', 'cryopreserved', 'individual', 'location', 'n_counts', 'n_genes', 'percent_mito', 'process', 'sample', 'sex', 'stage', 'PCW', 'sample_source', 'clusters', 'louvain', 'is_doublet', 'scrublet_cluster_score', 'scrublet_score', 'supporting_clusters'\n",
       "    var: 'gene_ids-0', 'feature_types-0', 'n_cells-0', 'gene_ids-1', 'feature_types-1', 'n_cells-1', 'gene_ids-2', 'feature_types-2', 'n_cells-2', 'gene_ids-3', 'feature_types-3', 'n_cells-3', 'gene_ids-4', 'feature_types-4', 'n_cells-4', 'gene_ids-5', 'feature_types-5', 'n_cells-5', 'gene_ids-6', 'feature_types-6', 'n_cells-6', 'gene_ids-7', 'feature_types-7', 'n_cells-7', 'gene_ids-8', 'feature_types-8', 'n_cells-8', 'gene_ids-9', 'feature_types-9', 'n_cells-9', 'gene_ids-10', 'feature_types-10', 'n_cells-10', 'gene_ids-11', 'feature_types-11', 'n_cells-11', 'gene_ids-12', 'feature_types-12', 'n_cells-12', 'gene_ids-13', 'feature_types-13', 'n_cells-13', 'gene_ids-14', 'feature_types-14', 'n_cells-14', 'gene_ids-15', 'feature_types-15', 'n_cells-15', 'gene_ids-16', 'feature_types-16', 'n_cells-16', 'gene_ids-17', 'feature_types-17', 'n_cells-17', 'gene_ids-18', 'feature_types-18', 'n_cells-18', 'gene_ids-19', 'feature_types-19', 'n_cells-19', 'gene_ids-20', 'feature_types-20', 'n_cells-20', 'gene_ids-21', 'feature_types-21', 'n_cells-21', 'gene_ids-22', 'feature_types-22', 'n_cells-22', 'gene_ids-23', 'feature_types-23', 'n_cells-23', 'gene_ids-24', 'feature_types-24', 'n_cells-24', 'gene_ids-25', 'feature_types-25', 'n_cells-25', 'gene_ids-26', 'feature_types-26', 'n_cells-26', 'gene_ids-27', 'feature_types-27', 'n_cells-27', 'gene_ids-28', 'feature_types-28', 'n_cells-28', 'gene_ids-29', 'feature_types-29', 'n_cells-29', 'gene_ids-30', 'feature_types-30', 'n_cells-30', 'gene_ids-31', 'feature_types-31', 'n_cells-31', 'gene_ids-32', 'feature_types-32', 'n_cells-32', 'gene_ids-33', 'feature_types-33', 'n_cells-33', 'gene_ids-34', 'feature_types-34', 'n_cells-34', 'gene_ids-35', 'feature_types-35', 'n_cells-35', 'gene_ids-36', 'feature_types-36', 'n_cells-36', 'gene_ids-37', 'feature_types-37', 'n_cells-37', 'gene_ids-38', 'feature_types-38', 'n_cells-38', 'gene_ids-39', 'feature_types-39', 'n_cells-39', 'gene_ids-40', 'feature_types-40', 'n_cells-40', 'gene_ids-41', 'feature_types-41', 'n_cells-41', 'gene_ids-42', 'feature_types-42', 'n_cells-42', 'gene_ids-43', 'feature_types-43', 'n_cells-43', 'gene_ids-44', 'feature_types-44', 'n_cells-44', 'gene_ids-45', 'feature_types-45', 'n_cells-45', 'gene_ids-46', 'feature_types-46', 'n_cells-46', 'gene_ids-47', 'feature_types-47', 'n_cells-47', 'gene_ids-48', 'feature_types-48', 'n_cells-48', 'gene_ids-49', 'feature_types-49', 'n_cells-49', 'gene_ids-50', 'feature_types-50', 'n_cells-50', 'gene_ids-51', 'feature_types-51', 'n_cells-51', 'gene_ids-52', 'feature_types-52', 'n_cells-52', 'n_cells'"
      ]
     },
     "execution_count": 9,
     "metadata": {},
     "output_type": "execute_result"
    }
   ],
   "source": [
    "human = human[:, list(inters)]\n",
    "human"
   ]
  },
  {
   "cell_type": "markdown",
   "metadata": {},
   "source": [
    "**Downsample more frequent classes**"
   ]
  },
  {
   "cell_type": "code",
   "execution_count": 10,
   "metadata": {},
   "outputs": [
    {
     "data": {
      "text/plain": [
       "array([14823, 11712,  5090,  2409,  2380,  2223,  1372,  1050])"
      ]
     },
     "execution_count": 10,
     "metadata": {},
     "output_type": "execute_result"
    }
   ],
   "source": [
    "myindex = human.obs['supporting_clusters'].value_counts().index \n",
    "myvalues = human.obs['supporting_clusters'].value_counts().values\n",
    "clusters = pd.Series(myvalues, index = myindex)\n",
    "clusters.values"
   ]
  },
  {
   "cell_type": "code",
   "execution_count": 11,
   "metadata": {},
   "outputs": [
    {
     "name": "stdout",
     "output_type": "stream",
     "text": [
      "preGC_II\n",
      "preGC_I_OSR1\n",
      "ovarianSurf\n",
      "preGC_III\n",
      "sLGR5\n",
      "coelEpi\n"
     ]
    },
    {
     "data": {
      "text/plain": [
       "(11422, 15292)"
      ]
     },
     "execution_count": 11,
     "metadata": {},
     "output_type": "execute_result"
    }
   ],
   "source": [
    "import random\n",
    "from itertools import chain\n",
    "\n",
    "# Find clusters with > n cells\n",
    "n = 1500\n",
    "cl2downsample = clusters.index[ clusters.values > n ]\n",
    "\n",
    "# save all barcode ids from small clusters\n",
    "holder = []\n",
    "holder.append( human.obs_names[[ i not in cl2downsample for i in human.obs['supporting_clusters'] ]] ) \n",
    "\n",
    "# randomly sample n cells in the cl2downsample\n",
    "for cl in cl2downsample:\n",
    "    print(cl)\n",
    "    cl_sample = human[[ i == cl for i in human.obs['supporting_clusters'] ]].obs_names\n",
    "    # n = int(round(len(cl_sample)/2, 0))\n",
    "    cl_downsample = random.sample(set(cl_sample), n )\n",
    "    holder.append(cl_downsample)\n",
    "    \n",
    "# samples to include\n",
    "samples = list(chain(*holder))\n",
    "\n",
    "# Filter adata_count\n",
    "human = human[[ i in samples for i in human.obs_names ]]\n",
    "human.X.shape"
   ]
  },
  {
   "cell_type": "markdown",
   "metadata": {},
   "source": [
    "**Preprocess the data**"
   ]
  },
  {
   "cell_type": "code",
   "execution_count": 12,
   "metadata": {},
   "outputs": [
    {
     "name": "stderr",
     "output_type": "stream",
     "text": [
      "normalizing by total count per cell\n",
      "Trying to set attribute `.obs` of view, copying.\n",
      "    finished (0:00:01): normalized adata.X and added    'n_counts', counts per cell before normalization (adata.obs)\n"
     ]
    }
   ],
   "source": [
    "# Per cell normalization\n",
    "sc.pp.normalize_per_cell(human, counts_per_cell_after=1e4)\n",
    "# Log transformation \n",
    "sc.pp.log1p(human)"
   ]
  },
  {
   "cell_type": "code",
   "execution_count": 13,
   "metadata": {},
   "outputs": [
    {
     "name": "stderr",
     "output_type": "stream",
     "text": [
      "If you pass `n_top_genes`, all cutoffs are ignored.\n",
      "extracting highly variable genes\n",
      "    finished (0:00:02)\n",
      "--> added\n",
      "    'highly_variable', boolean vector (adata.var)\n",
      "    'means', float vector (adata.var)\n",
      "    'dispersions', float vector (adata.var)\n",
      "    'dispersions_norm', float vector (adata.var)\n",
      "/home/jovyan/my-conda-envs/scanpy_env/lib/python3.8/site-packages/pandas/core/arrays/categorical.py:2487: FutureWarning: The `inplace` parameter in pandas.Categorical.remove_unused_categories is deprecated and will be removed in a future version.\n",
      "  res = method(*args, **kwargs)\n"
     ]
    }
   ],
   "source": [
    "# Filter HVGs --> Select top 300 highly variable genes that will serve as features to the machine learning models  \n",
    "sc.pp.highly_variable_genes(human, n_top_genes = 300)\n",
    "highly_variable_genes = human.var[\"highly_variable\"]\n",
    "human = human[:, highly_variable_genes]"
   ]
  },
  {
   "cell_type": "code",
   "execution_count": 14,
   "metadata": {},
   "outputs": [
    {
     "name": "stderr",
     "output_type": "stream",
     "text": [
      "/home/jovyan/my-conda-envs/scanpy_env/lib/python3.8/site-packages/scanpy/preprocessing/_simple.py:810: UserWarning: Revieved a view of an AnnData. Making a copy.\n",
      "  view_to_actual(adata)\n",
      "... as `zero_center=True`, sparse input is densified and may lead to large memory consumption\n"
     ]
    },
    {
     "name": "stdout",
     "output_type": "stream",
     "text": [
      "Total number of cells: 11422\n",
      "Total number of genes: 300\n"
     ]
    }
   ],
   "source": [
    "# Scale\n",
    "sc.pp.scale(human, max_value=10)\n",
    "print('Total number of cells: {:d}'.format(human.n_obs))\n",
    "print('Total number of genes: {:d}'.format(human.n_vars))"
   ]
  },
  {
   "cell_type": "markdown",
   "metadata": {},
   "source": [
    "**Import libraries**"
   ]
  },
  {
   "cell_type": "code",
   "execution_count": 15,
   "metadata": {},
   "outputs": [],
   "source": [
    "# Required libraries regardless of the model you choose\n",
    "from sklearn.metrics import classification_report\n",
    "from sklearn.metrics import confusion_matrix, classification_report, accuracy_score\n",
    "from sklearn.model_selection import GridSearchCV, RandomizedSearchCV\n",
    "from sklearn.model_selection import train_test_split\n",
    "from sklearn.decomposition import PCA\n",
    "from sklearn.pipeline import Pipeline\n",
    "\n",
    "# Library for Logistic Regression\n",
    "from sklearn.linear_model import LogisticRegression\n",
    "\n",
    "# Library for Random Forest \n",
    "from sklearn.ensemble import RandomForestClassifier\n",
    "\n",
    "# Library for Support Vector Machine \n",
    "from sklearn.svm import SVC"
   ]
  },
  {
   "cell_type": "code",
   "execution_count": 16,
   "metadata": {},
   "outputs": [
    {
     "name": "stdout",
     "output_type": "stream",
     "text": [
      "Loading data\n",
      "<class 'numpy.ndarray'> (11422, 300)\n"
     ]
    }
   ],
   "source": [
    "print(\"Loading data\")\n",
    "X = np.array(human.X) # Fetching the count matrix to use as input to the model \n",
    "print(type(X), X.shape)"
   ]
  },
  {
   "cell_type": "code",
   "execution_count": 17,
   "metadata": {},
   "outputs": [],
   "source": [
    "# Choose output variable, meaning the labels you want to predict \n",
    "y = list(human.obs.supporting_clusters.astype('str'))"
   ]
  },
  {
   "cell_type": "code",
   "execution_count": 18,
   "metadata": {},
   "outputs": [],
   "source": [
    "# Split the training dataset into train and test sets \n",
    "X_train, X_test, y_train, y_test = train_test_split(\n",
    "        X,\n",
    "        y,\n",
    "        test_size=0.25, # This can be changed, though it makes sense to use 25-30% of the data for test\n",
    "        random_state=1234,\n",
    "    )"
   ]
  },
  {
   "cell_type": "markdown",
   "metadata": {},
   "source": [
    "**Option 1: Logistic Regression classifier**"
   ]
  },
  {
   "cell_type": "code",
   "execution_count": 19,
   "metadata": {},
   "outputs": [
    {
     "name": "stdout",
     "output_type": "stream",
     "text": [
      "Hyperparameter tuning with exhaustive grid search\n",
      "Best CV params {'pca__n_components': 0.9, 'LogReg__solver': 'sag', 'LogReg__C': 0.01}\n",
      "Softmax training accuracy: 0.9324071912211067\n",
      "Softmax test accuracy: 0.9103641456582633\n"
     ]
    }
   ],
   "source": [
    "# Instantiate a Logistic Regression Classifier and specify L2 regularization\n",
    "lr = LogisticRegression(penalty='l2', multi_class=\"multinomial\", max_iter = 2000)\n",
    "\n",
    "# Instantiate a PCA object\n",
    "pca = PCA()\n",
    "\n",
    "# Create pipeline object\n",
    "pipe = Pipeline(steps=[('pca', pca), ('LogReg', lr)])\n",
    "\n",
    "print('Hyperparameter tuning with exhaustive grid search')\n",
    "\n",
    "# Choose a grid of hyperparameters values (these are arbitrary but reasonable as I took reference values from the documentation)\n",
    "params_lr = {'LogReg__C' : [0.001, 0.01, 0.1, 1, 10, 100], 'LogReg__solver' : [\"lbfgs\", 'newton-cg', 'sag'], \n",
    "                               'pca__n_components' : [0.7, 0.8, 0.9]}\n",
    "\n",
    "# Use grid search cross validation to span the hyperparameter space and choose the best \n",
    "grid_lr = RandomizedSearchCV(estimator = pipe, param_distributions = params_lr, cv = 5, n_jobs = -1)\n",
    "\n",
    "# Fit the model to the training set of the training data\n",
    "grid_lr.fit(X_train, y_train)\n",
    "\n",
    "# Report the best parameters\n",
    "print(\"Best CV params\", grid_lr.best_params_)\n",
    "\n",
    "# Report the best hyperparameters and the corresponding score\n",
    "print(\"Softmax training accuracy:\", grid_lr.score(X_train, y_train))\n",
    "print(\"Softmax test accuracy:\", grid_lr.score(X_test, y_test))"
   ]
  },
  {
   "cell_type": "markdown",
   "metadata": {},
   "source": [
    "**Option 2: Support Vector Machine classifier**"
   ]
  },
  {
   "cell_type": "code",
   "execution_count": 20,
   "metadata": {},
   "outputs": [
    {
     "name": "stdout",
     "output_type": "stream",
     "text": [
      "Hyperparameter tuning with exhaustive grid search\n",
      "Fitting 5 folds for each of 10 candidates, totalling 50 fits\n",
      "Best CV params {'pca__n_components': 0.7, 'SVC__gamma': 0.01, 'SVC__C': 1}\n",
      "Best CV accuracy 0.9096435998722106\n"
     ]
    }
   ],
   "source": [
    "# Instantiate an RBF Support Vector Machine\n",
    "svm = SVC(kernel = \"rbf\", probability = True)\n",
    "\n",
    "# Instantiate a PCA \n",
    "pca = PCA()\n",
    "\n",
    "# Create pipeline object\n",
    "pipe = Pipeline(steps=[('pca', pca), ('SVC', svm)])\n",
    "\n",
    "print('Hyperparameter tuning with exhaustive grid search')\n",
    "\n",
    "# Choose a grid of hyperparameters values (these are arbitrary but reasonable as I took reference values from the documentation)\n",
    "params_svm = {'SVC__C':[0.1, 1, 10, 100], 'SVC__gamma':[0.001, 0.01, 0.1], 'pca__n_components': [0.7, 0.8, 0.9]}\n",
    "\n",
    "# Use grid search cross validation to span the hyperparameter space and choose the best \n",
    "grid_svm = RandomizedSearchCV(pipe, param_distributions = params_svm, cv=5, verbose =1, n_jobs = -1)\n",
    "\n",
    "# Fit the model to the training set of the training data\n",
    "grid_svm.fit(X_train, y_train)\n",
    "\n",
    "# Report the best hyperparameters and the corresponding score\n",
    "print(\"Best CV params\", grid_svm.best_params_)\n",
    "print(\"Best CV accuracy\", grid_svm.best_score_)"
   ]
  },
  {
   "cell_type": "markdown",
   "metadata": {},
   "source": [
    "**Option 3: Random Forest classifier**"
   ]
  },
  {
   "cell_type": "code",
   "execution_count": 21,
   "metadata": {},
   "outputs": [
    {
     "name": "stdout",
     "output_type": "stream",
     "text": [
      "{'bootstrap': True, 'ccp_alpha': 0.0, 'class_weight': None, 'criterion': 'gini', 'max_depth': None, 'max_features': 'auto', 'max_leaf_nodes': None, 'max_samples': None, 'min_impurity_decrease': 0.0, 'min_impurity_split': None, 'min_samples_leaf': 1, 'min_samples_split': 2, 'min_weight_fraction_leaf': 0.0, 'n_estimators': 100, 'n_jobs': None, 'oob_score': False, 'random_state': 123, 'verbose': 0, 'warm_start': False}\n",
      "Hyperparameter tuning with exhaustive grid search\n",
      "Best CV params {'pca__n_components': 0.7, 'RF__n_estimators': 300, 'RF__min_samples_split': 5, 'RF__min_samples_leaf': 1}\n",
      "Best CV accuracy 0.8991372175572753\n"
     ]
    }
   ],
   "source": [
    "# Instantiate a Random Forest Classifier \n",
    "SEED = 123\n",
    "rf = RandomForestClassifier(random_state = SEED) # set a seed to ensure reproducibility of results\n",
    "print(rf.get_params()) # Look at the hyperparameters that can be tuned \n",
    "\n",
    "# Instantiate a PCA object\n",
    "pca = PCA()\n",
    "\n",
    "# Create pipeline object\n",
    "pipe = Pipeline(steps=[('pca', pca), ('RF', rf)])\n",
    "\n",
    "print('Hyperparameter tuning with exhaustive grid search')\n",
    "\n",
    "# Choose a grid of hyperparameters values (these are arbitrary but reasonable as I took reference values from the documentation)\n",
    "params_rf = {\"RF__n_estimators\": [50, 100, 200, 300], 'RF__min_samples_leaf': [1, 5], 'RF__min_samples_split': [2, 5, 10], \n",
    "             'pca__n_components' : [0.7, 0.8,0.9]}\n",
    "\n",
    "# Use grid search cross validation to span the hyperparameter space and choose the best \n",
    "grid_rf = RandomizedSearchCV(estimator = pipe, param_distributions = params_rf, cv = 5, n_jobs = -1)\n",
    "\n",
    "# Fit the model to the training set of the training data\n",
    "grid_rf.fit(X_train, y_train)\n",
    "\n",
    "# Report the best hyperparameters and the corresponding score\n",
    "print(\"Best CV params\", grid_rf.best_params_)\n",
    "print(\"Best CV accuracy\", grid_rf.best_score_)"
   ]
  },
  {
   "cell_type": "markdown",
   "metadata": {},
   "source": [
    "All 3 models return an object (which I called *grid_lr*, *grid_rf*, *grid_svm*, respectively) that has an attribute called **.best_estimator_** which holds the model with the best hyperparameters that was found using grid search cross validation. This is the model that you will use to make predictions."
   ]
  },
  {
   "cell_type": "markdown",
   "metadata": {},
   "source": [
    "**Evaluating the model's performance on the test set of the training data**"
   ]
  },
  {
   "cell_type": "code",
   "execution_count": 22,
   "metadata": {},
   "outputs": [
    {
     "name": "stdout",
     "output_type": "stream",
     "text": [
      "              precision    recall  f1-score   support\n",
      "\n",
      "     coelEpi       0.96      0.95      0.95       366\n",
      " ovarianSurf       0.93      0.89      0.91       366\n",
      "    preGC_II       0.84      0.89      0.86       368\n",
      "   preGC_III       0.99      0.96      0.98       385\n",
      "preGC_I_OSR1       0.88      0.84      0.86       392\n",
      "      sKITLG       0.88      0.85      0.86       275\n",
      "       sLGR5       0.89      0.92      0.91       369\n",
      "      sPAX8b       0.95      0.99      0.97       335\n",
      "\n",
      "    accuracy                           0.91      2856\n",
      "   macro avg       0.91      0.91      0.91      2856\n",
      "weighted avg       0.91      0.91      0.91      2856\n",
      "\n",
      "Accuracy: 0.9142156862745098\n"
     ]
    }
   ],
   "source": [
    "predicted_labels = grid_svm.best_estimator_.predict(X_test) # Here as an example I am using the support vector machine model\n",
    "report_rf = classification_report(y_test, predicted_labels)\n",
    "print(report_rf)\n",
    "print(\"Accuracy:\", accuracy_score(y_test, predicted_labels))"
   ]
  },
  {
   "cell_type": "code",
   "execution_count": 23,
   "metadata": {},
   "outputs": [
    {
     "data": {
      "text/plain": [
       "Text(0.5, 266.08, 'Predicted label')"
      ]
     },
     "execution_count": 23,
     "metadata": {},
     "output_type": "execute_result"
    },
    {
     "data": {
      "image/png": "[encoded data removed]",
      "text/plain": [
       "<Figure size 432x288 with 2 Axes>"
      ]
     },
     "metadata": {
      "needs_background": "light"
     },
     "output_type": "display_data"
    }
   ],
   "source": [
    "cnf_matrix = confusion_matrix(y_test, predicted_labels)\n",
    "import matplotlib.pyplot as plt\n",
    "import seaborn as sns\n",
    "%matplotlib inline\n",
    "\n",
    "class_names=[0,1] # name  of classes\n",
    "fig, ax = plt.subplots()\n",
    "tick_marks = np.arange(len(class_names))\n",
    "plt.xticks(tick_marks, class_names)\n",
    "plt.yticks(tick_marks, class_names)\n",
    "# create heatmap\n",
    "sns.heatmap(pd.DataFrame(cnf_matrix), annot=True, cmap=\"YlGnBu\" ,fmt='g')\n",
    "ax.xaxis.set_label_position(\"top\")\n",
    "plt.tight_layout()\n",
    "plt.title('Confusion matrix', y=1.1)\n",
    "plt.ylabel('Actual label')\n",
    "plt.xlabel('Predicted label')"
   ]
  },
  {
   "cell_type": "code",
   "execution_count": 24,
   "metadata": {},
   "outputs": [
    {
     "name": "stdout",
     "output_type": "stream",
     "text": [
      "Accuracy: 0.9142156862745098\n"
     ]
    }
   ],
   "source": [
    "print(\"Accuracy:\", accuracy_score(y_test, predicted_labels))"
   ]
  },
  {
   "cell_type": "code",
   "execution_count": 25,
   "metadata": {},
   "outputs": [],
   "source": [
    "grid_svm.best_estimator_.feature_names = list(human.var_names)"
   ]
  },
  {
   "cell_type": "markdown",
   "metadata": {},
   "source": [
    "**Predict cell types in the mouse data**"
   ]
  },
  {
   "cell_type": "code",
   "execution_count": 26,
   "metadata": {},
   "outputs": [],
   "source": [
    "def process_and_subset_data(adata, genes):\n",
    "    # save the log transformed counts as raw \n",
    "    adata.raw = adata.copy()\n",
    "    # Per cell normalization\n",
    "    sc.pp.normalize_per_cell(adata, counts_per_cell_after=1e4)\n",
    "    # Log transformation \n",
    "    sc.pp.log1p(adata)\n",
    "    # Subset data\n",
    "    adata = adata[:, list(genes)]\n",
    "    # Scale\n",
    "    sc.pp.scale(adata, max_value=10)\n",
    "    return adata"
   ]
  },
  {
   "cell_type": "code",
   "execution_count": 27,
   "metadata": {},
   "outputs": [],
   "source": [
    "def process_data(adata):\n",
    "    # Per cell normalization\n",
    "    sc.pp.normalize_per_cell(adata, counts_per_cell_after=1e4)\n",
    "    # Log transformation \n",
    "    sc.pp.log1p(adata)\n",
    "    # Scale\n",
    "    sc.pp.scale(adata, max_value=10)"
   ]
  },
  {
   "cell_type": "code",
   "execution_count": 28,
   "metadata": {},
   "outputs": [],
   "source": [
    "import scipy\n",
    "def make_single_predictions(adata, classifier): \n",
    "    #if scipy.sparse.issparse(adata.X):\n",
    "        #adata.X = adata.X.toarray()\n",
    "    adata_X = np.array(adata.X)\n",
    "    print(type(adata_X), adata_X.shape)\n",
    "    adata_preds = classifier.predict(adata_X)\n",
    "    adata.obs['human_classifier_supporting'] = adata_preds\n",
    "    print(adata.obs.human_classifier_supporting.value_counts(dropna = False))"
   ]
  },
  {
   "cell_type": "code",
   "execution_count": 29,
   "metadata": {},
   "outputs": [],
   "source": [
    "def make_correspondence(classifier):\n",
    "    corr = {}\n",
    "    for i in range(0,len(classifier.classes_)):\n",
    "            corr[i] = classifier.classes_[i]\n",
    "    return corr"
   ]
  },
  {
   "cell_type": "code",
   "execution_count": 30,
   "metadata": {},
   "outputs": [],
   "source": [
    "def make_probability_predictions(adata, classifier):\n",
    "    adata_X = np.array(adata.X)\n",
    "    print(type(adata_X), adata_X.shape)\n",
    "    proba_preds = classifier.predict_proba(adata_X)\n",
    "    df_probs = pd.DataFrame(np.column_stack(list(zip(*proba_preds))))\n",
    "    corr = make_correspondence(classifier)\n",
    "    for index in df_probs.columns.values:\n",
    "        celltype = corr[index]\n",
    "        adata.obs['prob_'+celltype] = df_probs[index].to_list()"
   ]
  },
  {
   "cell_type": "markdown",
   "metadata": {},
   "source": [
    "Mouse ovary (Niu et al., 2020)"
   ]
  },
  {
   "cell_type": "code",
   "execution_count": 31,
   "metadata": {},
   "outputs": [
    {
     "name": "stderr",
     "output_type": "stream",
     "text": [
      "normalizing by total count per cell\n",
      "/home/jovyan/my-conda-envs/scanpy_env/lib/python3.8/site-packages/pandas/core/arrays/categorical.py:2487: FutureWarning: The `inplace` parameter in pandas.Categorical.remove_unused_categories is deprecated and will be removed in a future version.\n",
      "  res = method(*args, **kwargs)\n",
      "    finished (0:00:01): normalized adata.X and added    'n_counts', counts per cell before normalization (adata.obs)\n",
      "/home/jovyan/my-conda-envs/scanpy_env/lib/python3.8/site-packages/pandas/core/arrays/categorical.py:2487: FutureWarning: The `inplace` parameter in pandas.Categorical.remove_unused_categories is deprecated and will be removed in a future version.\n",
      "  res = method(*args, **kwargs)\n",
      "/home/jovyan/my-conda-envs/scanpy_env/lib/python3.8/site-packages/scanpy/preprocessing/_simple.py:810: UserWarning: Revieved a view of an AnnData. Making a copy.\n",
      "  view_to_actual(adata)\n",
      "... as `zero_center=True`, sparse input is densified and may lead to large memory consumption\n"
     ]
    },
    {
     "name": "stdout",
     "output_type": "stream",
     "text": [
      "<class 'numpy.ndarray'> (17686, 300)\n",
      "preGC_I_OSR1    5653\n",
      "sKITLG          2939\n",
      "preGC_II        2919\n",
      "coelEpi         2067\n",
      "ovarianSurf     1270\n",
      "sPAX8b          1114\n",
      "preGC_III        957\n",
      "sLGR5            767\n",
      "Name: human_classifier_supporting, dtype: int64\n"
     ]
    }
   ],
   "source": [
    "mouse = process_and_subset_data(mouse, grid_svm.best_estimator_.feature_names)\n",
    "\n",
    "make_single_predictions(mouse, grid_svm.best_estimator_)"
   ]
  },
  {
   "cell_type": "code",
   "execution_count": 32,
   "metadata": {},
   "outputs": [
    {
     "name": "stdout",
     "output_type": "stream",
     "text": [
      "<class 'numpy.ndarray'> (17686, 300)\n"
     ]
    }
   ],
   "source": [
    "make_probability_predictions(mouse, grid_svm.best_estimator_)"
   ]
  },
  {
   "cell_type": "code",
   "execution_count": 33,
   "metadata": {},
   "outputs": [
    {
     "data": {
      "text/plain": [
       "AnnData object with n_obs × n_vars = 17686 × 300\n",
       "    obs: 'batch', 'n_counts', 'n_genes', 'percent_mito', 'sample', 'stage', 'tissue', 'S_score', 'G2M_score', 'phase', 'doublet_score', 'doublet_score_0.75', 'scrublet_score', 'scrublet_cluster_score', 'zscore', 'bh_pval', 'bonf_pval', 'is_doublet', 'leiden', 'cell_type', 'human_classifier_supporting', 'prob_coelEpi', 'prob_ovarianSurf', 'prob_preGC_II', 'prob_preGC_III', 'prob_preGC_I_OSR1', 'prob_sKITLG', 'prob_sLGR5', 'prob_sPAX8b'\n",
       "    var: 'gene_ids-0', 'feature_types-0', 'n_cells-0', 'mouse_ENSEMBL-0', 'human_ENSEMBL-0', 'human_gene_ortholog-0', 'mouse_gene_name-0', 'gene_ids-1', 'feature_types-1', 'n_cells-1', 'mouse_ENSEMBL-1', 'human_ENSEMBL-1', 'human_gene_ortholog-1', 'mouse_gene_name-1', 'gene_ids-2', 'feature_types-2', 'n_cells-2', 'mouse_ENSEMBL-2', 'human_ENSEMBL-2', 'human_gene_ortholog-2', 'mouse_gene_name-2', 'gene_ids-3', 'feature_types-3', 'n_cells-3', 'mouse_ENSEMBL-3', 'human_ENSEMBL-3', 'human_gene_ortholog-3', 'mouse_gene_name-3', 'gene_ids-4', 'feature_types-4', 'n_cells-4', 'mouse_ENSEMBL-4', 'human_ENSEMBL-4', 'human_gene_ortholog-4', 'mouse_gene_name-4', 'gene_ids-5', 'feature_types-5', 'n_cells-5', 'mouse_ENSEMBL-5', 'human_ENSEMBL-5', 'human_gene_ortholog-5', 'mouse_gene_name-5', 'gene_ids-6', 'feature_types-6', 'n_cells-6', 'mouse_ENSEMBL-6', 'human_ENSEMBL-6', 'human_gene_ortholog-6', 'mouse_gene_name-6', 'n_cells', 'mean', 'std'\n",
       "    uns: 'log1p'"
      ]
     },
     "execution_count": 33,
     "metadata": {},
     "output_type": "execute_result"
    }
   ],
   "source": [
    "mouse"
   ]
  },
  {
   "cell_type": "code",
   "execution_count": 34,
   "metadata": {},
   "outputs": [
    {
     "name": "stderr",
     "output_type": "stream",
     "text": [
      "... storing 'human_classifier_supporting' as categorical\n"
     ]
    }
   ],
   "source": [
    "mouse.write('/nfs/team292/vl6/Mouse_Niu2020/supporting_cells_with_human_preds.h5ad')"
   ]
  },
  {
   "cell_type": "code",
   "execution_count": 36,
   "metadata": {},
   "outputs": [
    {
     "data": {
      "text/plain": [
       "AnnData object with n_obs × n_vars = 17686 × 300\n",
       "    obs: 'batch', 'n_counts', 'n_genes', 'percent_mito', 'sample', 'stage', 'tissue', 'S_score', 'G2M_score', 'phase', 'doublet_score', 'doublet_score_0.75', 'scrublet_score', 'scrublet_cluster_score', 'zscore', 'bh_pval', 'bonf_pval', 'is_doublet', 'leiden', 'cell_type', 'human_classifier_supporting', 'prob_coelEpi', 'prob_ovarianSurf', 'prob_preGC_II', 'prob_preGC_III', 'prob_preGC_I_OSR1', 'prob_sKITLG', 'prob_sLGR5', 'prob_sPAX8b'\n",
       "    var: 'gene_ids-0', 'feature_types-0', 'n_cells-0', 'mouse_ENSEMBL-0', 'human_ENSEMBL-0', 'human_gene_ortholog-0', 'mouse_gene_name-0', 'gene_ids-1', 'feature_types-1', 'n_cells-1', 'mouse_ENSEMBL-1', 'human_ENSEMBL-1', 'human_gene_ortholog-1', 'mouse_gene_name-1', 'gene_ids-2', 'feature_types-2', 'n_cells-2', 'mouse_ENSEMBL-2', 'human_ENSEMBL-2', 'human_gene_ortholog-2', 'mouse_gene_name-2', 'gene_ids-3', 'feature_types-3', 'n_cells-3', 'mouse_ENSEMBL-3', 'human_ENSEMBL-3', 'human_gene_ortholog-3', 'mouse_gene_name-3', 'gene_ids-4', 'feature_types-4', 'n_cells-4', 'mouse_ENSEMBL-4', 'human_ENSEMBL-4', 'human_gene_ortholog-4', 'mouse_gene_name-4', 'gene_ids-5', 'feature_types-5', 'n_cells-5', 'mouse_ENSEMBL-5', 'human_ENSEMBL-5', 'human_gene_ortholog-5', 'mouse_gene_name-5', 'gene_ids-6', 'feature_types-6', 'n_cells-6', 'mouse_ENSEMBL-6', 'human_ENSEMBL-6', 'human_gene_ortholog-6', 'mouse_gene_name-6', 'n_cells', 'mean', 'std'"
      ]
     },
     "execution_count": 36,
     "metadata": {},
     "output_type": "execute_result"
    }
   ],
   "source": [
    "mouse = sc.read('/nfs/team292/vl6/Mouse_Niu2020/supporting_cells_with_human_preds.h5ad')\n",
    "mouse"
   ]
  },
  {
   "cell_type": "code",
   "execution_count": 37,
   "metadata": {},
   "outputs": [],
   "source": [
    "mouse_predictions = mouse.obs[['prob_coelEpi', 'prob_ovarianSurf', 'prob_preGC_II', 'prob_preGC_III', 'prob_preGC_I_OSR1', 'prob_sKITLG', 'prob_sLGR5', 'prob_sPAX8b']]"
   ]
  },
  {
   "cell_type": "code",
   "execution_count": 38,
   "metadata": {},
   "outputs": [],
   "source": [
    "mouse_predictions.columns = ['prob_coelEpi', 'prob_ovarianSurf', 'prob_preGC-II', 'prob_preGC-II-late', 'prob_preGC-I', \n",
    "                              'prob_sKITLG', 'prob_sLGR5', 'prob_sPAX8b']"
   ]
  },
  {
   "cell_type": "code",
   "execution_count": 39,
   "metadata": {},
   "outputs": [
    {
     "data": {
      "text/html": [
       "<div>\n",
       "<style scoped>\n",
       "    .dataframe tbody tr th:only-of-type {\n",
       "        vertical-align: middle;\n",
       "    }\n",
       "\n",
       "    .dataframe tbody tr th {\n",
       "        vertical-align: top;\n",
       "    }\n",
       "\n",
       "    .dataframe thead th {\n",
       "        text-align: right;\n",
       "    }\n",
       "</style>\n",
       "<table border=\"1\" class=\"dataframe\">\n",
       "  <thead>\n",
       "    <tr style=\"text-align: right;\">\n",
       "      <th></th>\n",
       "      <th>prob_coelEpi</th>\n",
       "      <th>prob_ovarianSurf</th>\n",
       "      <th>prob_preGC-II</th>\n",
       "      <th>prob_preGC-II-late</th>\n",
       "      <th>prob_preGC-I</th>\n",
       "      <th>prob_sKITLG</th>\n",
       "      <th>prob_sLGR5</th>\n",
       "      <th>prob_sPAX8b</th>\n",
       "    </tr>\n",
       "  </thead>\n",
       "  <tbody>\n",
       "    <tr>\n",
       "      <th>GSM4643732_E11.5gonad_AAACCTGAGTCCGTAT</th>\n",
       "      <td>0.004991</td>\n",
       "      <td>0.064302</td>\n",
       "      <td>0.053718</td>\n",
       "      <td>0.002902</td>\n",
       "      <td>0.392522</td>\n",
       "      <td>0.468897</td>\n",
       "      <td>0.011450</td>\n",
       "      <td>0.001220</td>\n",
       "    </tr>\n",
       "    <tr>\n",
       "      <th>GSM4643732_E11.5gonad_AAACCTGGTAGAGTGC</th>\n",
       "      <td>0.507077</td>\n",
       "      <td>0.028022</td>\n",
       "      <td>0.006706</td>\n",
       "      <td>0.024380</td>\n",
       "      <td>0.018696</td>\n",
       "      <td>0.005979</td>\n",
       "      <td>0.021174</td>\n",
       "      <td>0.387967</td>\n",
       "    </tr>\n",
       "    <tr>\n",
       "      <th>GSM4643732_E11.5gonad_AAACCTGGTCTCCACT</th>\n",
       "      <td>0.053430</td>\n",
       "      <td>0.061211</td>\n",
       "      <td>0.020764</td>\n",
       "      <td>0.003010</td>\n",
       "      <td>0.125714</td>\n",
       "      <td>0.620610</td>\n",
       "      <td>0.035484</td>\n",
       "      <td>0.079776</td>\n",
       "    </tr>\n",
       "    <tr>\n",
       "      <th>GSM4643732_E11.5gonad_AAACCTGTCACGACTA</th>\n",
       "      <td>0.005697</td>\n",
       "      <td>0.013549</td>\n",
       "      <td>0.019637</td>\n",
       "      <td>0.001049</td>\n",
       "      <td>0.251898</td>\n",
       "      <td>0.658406</td>\n",
       "      <td>0.049235</td>\n",
       "      <td>0.000530</td>\n",
       "    </tr>\n",
       "    <tr>\n",
       "      <th>GSM4643732_E11.5gonad_AAACCTGTCGTTACAG</th>\n",
       "      <td>0.666830</td>\n",
       "      <td>0.072470</td>\n",
       "      <td>0.024439</td>\n",
       "      <td>0.010392</td>\n",
       "      <td>0.067505</td>\n",
       "      <td>0.096429</td>\n",
       "      <td>0.024889</td>\n",
       "      <td>0.037047</td>\n",
       "    </tr>\n",
       "  </tbody>\n",
       "</table>\n",
       "</div>"
      ],
      "text/plain": [
       "                                        prob_coelEpi  prob_ovarianSurf  \\\n",
       "GSM4643732_E11.5gonad_AAACCTGAGTCCGTAT      0.004991          0.064302   \n",
       "GSM4643732_E11.5gonad_AAACCTGGTAGAGTGC      0.507077          0.028022   \n",
       "GSM4643732_E11.5gonad_AAACCTGGTCTCCACT      0.053430          0.061211   \n",
       "GSM4643732_E11.5gonad_AAACCTGTCACGACTA      0.005697          0.013549   \n",
       "GSM4643732_E11.5gonad_AAACCTGTCGTTACAG      0.666830          0.072470   \n",
       "\n",
       "                                        prob_preGC-II  prob_preGC-II-late  \\\n",
       "GSM4643732_E11.5gonad_AAACCTGAGTCCGTAT       0.053718            0.002902   \n",
       "GSM4643732_E11.5gonad_AAACCTGGTAGAGTGC       0.006706            0.024380   \n",
       "GSM4643732_E11.5gonad_AAACCTGGTCTCCACT       0.020764            0.003010   \n",
       "GSM4643732_E11.5gonad_AAACCTGTCACGACTA       0.019637            0.001049   \n",
       "GSM4643732_E11.5gonad_AAACCTGTCGTTACAG       0.024439            0.010392   \n",
       "\n",
       "                                        prob_preGC-I  prob_sKITLG  prob_sLGR5  \\\n",
       "GSM4643732_E11.5gonad_AAACCTGAGTCCGTAT      0.392522     0.468897    0.011450   \n",
       "GSM4643732_E11.5gonad_AAACCTGGTAGAGTGC      0.018696     0.005979    0.021174   \n",
       "GSM4643732_E11.5gonad_AAACCTGGTCTCCACT      0.125714     0.620610    0.035484   \n",
       "GSM4643732_E11.5gonad_AAACCTGTCACGACTA      0.251898     0.658406    0.049235   \n",
       "GSM4643732_E11.5gonad_AAACCTGTCGTTACAG      0.067505     0.096429    0.024889   \n",
       "\n",
       "                                        prob_sPAX8b  \n",
       "GSM4643732_E11.5gonad_AAACCTGAGTCCGTAT     0.001220  \n",
       "GSM4643732_E11.5gonad_AAACCTGGTAGAGTGC     0.387967  \n",
       "GSM4643732_E11.5gonad_AAACCTGGTCTCCACT     0.079776  \n",
       "GSM4643732_E11.5gonad_AAACCTGTCACGACTA     0.000530  \n",
       "GSM4643732_E11.5gonad_AAACCTGTCGTTACAG     0.037047  "
      ]
     },
     "execution_count": 39,
     "metadata": {},
     "output_type": "execute_result"
    }
   ],
   "source": [
    "mouse_predictions.head()"
   ]
  },
  {
   "cell_type": "code",
   "execution_count": 40,
   "metadata": {},
   "outputs": [],
   "source": [
    "mouse_predictions.to_csv('/nfs/team292/vl6/Mouse_Niu2020/mouse_Niu2020_supporting_predictions.csv')"
   ]
  },
  {
   "cell_type": "code",
   "execution_count": null,
   "metadata": {},
   "outputs": [],
   "source": []
  }
 ],
 "metadata": {
  "kernelspec": {
   "display_name": "scanpy_env",
   "language": "python",
   "name": "scanpy_env"
  },
  "language_info": {
   "codemirror_mode": {
    "name": "ipython",
    "version": 3
   },
   "file_extension": ".py",
   "mimetype": "text/x-python",
   "name": "python",
   "nbconvert_exporter": "python",
   "pygments_lexer": "ipython3",
   "version": "3.8.8"
  }
 },
 "nbformat": 4,
 "nbformat_minor": 4
}
