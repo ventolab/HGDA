{
 "cells": [
  {
   "cell_type": "markdown",
   "id": "funny-black",
   "metadata": {},
   "source": [
    "## SVM projection of microglia from Bian et al., 2020 on our gonadal immune cells"
   ]
  },
  {
   "cell_type": "code",
   "execution_count": 1,
   "id": "stuffed-willow",
   "metadata": {},
   "outputs": [],
   "source": [
    "import numpy as np\n",
    "import scanpy as sc \n",
    "import pandas as pd\n",
    "import anndata\n",
    "sc.settings.set_figure_params(dpi=80)"
   ]
  },
  {
   "cell_type": "markdown",
   "id": "delayed-holder",
   "metadata": {},
   "source": [
    "#### Load data"
   ]
  },
  {
   "cell_type": "code",
   "execution_count": 2,
   "id": "collaborative-europe",
   "metadata": {},
   "outputs": [],
   "source": [
    "path_to_bian = '/nfs/team292/vl6/Microglia/'\n",
    "path_to_atlas = '/nfs/team292/vl6/immune_fetal_gonads/'"
   ]
  },
  {
   "cell_type": "code",
   "execution_count": 3,
   "id": "african-miracle",
   "metadata": {},
   "outputs": [
    {
     "data": {
      "text/plain": [
       "(1231, 18917)"
      ]
     },
     "execution_count": 3,
     "metadata": {},
     "output_type": "execute_result"
    }
   ],
   "source": [
    "bian = sc.read(path_to_bian + 'Paper_microglia.h5ad')\n",
    "bian = anndata.AnnData(X = bian.raw.X, var = bian.raw.var, obs = bian.obs)\n",
    "bian.shape"
   ]
  },
  {
   "cell_type": "code",
   "execution_count": 4,
   "id": "filled-identity",
   "metadata": {},
   "outputs": [
    {
     "data": {
      "text/plain": [
       "(19538, 20675)"
      ]
     },
     "execution_count": 4,
     "metadata": {},
     "output_type": "execute_result"
    }
   ],
   "source": [
    "atlas = sc.read(path_to_atlas + 'immune_merged_lineages_annotated.h5ad')\n",
    "atlas.shape"
   ]
  },
  {
   "cell_type": "code",
   "execution_count": 5,
   "id": "miniature-anger",
   "metadata": {},
   "outputs": [
    {
     "data": {
      "text/plain": [
       "(19538, 28497)"
      ]
     },
     "execution_count": 5,
     "metadata": {},
     "output_type": "execute_result"
    }
   ],
   "source": [
    "atlas = anndata.AnnData(X = atlas.raw.X, var = atlas.raw.var, obs = atlas.obs)\n",
    "atlas.shape"
   ]
  },
  {
   "cell_type": "markdown",
   "id": "adaptive-island",
   "metadata": {},
   "source": [
    "#### Intersect genes"
   ]
  },
  {
   "cell_type": "code",
   "execution_count": 6,
   "id": "retired-strike",
   "metadata": {},
   "outputs": [
    {
     "data": {
      "text/plain": [
       "16280"
      ]
     },
     "execution_count": 6,
     "metadata": {},
     "output_type": "execute_result"
    }
   ],
   "source": [
    "bian_genes = bian.var_names.to_list()\n",
    "atlas_genes = atlas.var_names.to_list()\n",
    "\n",
    "from functools import reduce\n",
    "inters = reduce(np.intersect1d, (bian_genes, atlas_genes))\n",
    "len(inters)"
   ]
  },
  {
   "cell_type": "code",
   "execution_count": 7,
   "id": "center-thirty",
   "metadata": {},
   "outputs": [
    {
     "name": "stderr",
     "output_type": "stream",
     "text": [
      "/home/jovyan/my-conda-envs/scanpy_env/lib/python3.8/site-packages/pandas/core/arrays/categorical.py:2487: FutureWarning: The `inplace` parameter in pandas.Categorical.remove_unused_categories is deprecated and will be removed in a future version.\n",
      "  res = method(*args, **kwargs)\n"
     ]
    },
    {
     "data": {
      "text/plain": [
       "View of AnnData object with n_obs × n_vars = 1231 × 16280\n",
       "    obs: 'tissue', 'paper_annotation', 'stage', 'individual', 'paper_cluster', 'n_genes', 'n_counts', 'sample'\n",
       "    var: 'n_cells'"
      ]
     },
     "execution_count": 7,
     "metadata": {},
     "output_type": "execute_result"
    }
   ],
   "source": [
    "bian = bian[:, list(inters)]\n",
    "bian"
   ]
  },
  {
   "cell_type": "markdown",
   "id": "opposed-bleeding",
   "metadata": {},
   "source": [
    "#### Process the data"
   ]
  },
  {
   "cell_type": "code",
   "execution_count": 8,
   "id": "korean-kazakhstan",
   "metadata": {},
   "outputs": [
    {
     "name": "stderr",
     "output_type": "stream",
     "text": [
      "Trying to set attribute `.obs` of view, copying.\n"
     ]
    }
   ],
   "source": [
    "# Per cell normalization\n",
    "sc.pp.normalize_per_cell(bian, counts_per_cell_after=1e4)\n",
    "# Log transformation \n",
    "sc.pp.log1p(bian)"
   ]
  },
  {
   "cell_type": "code",
   "execution_count": 9,
   "id": "victorian-draft",
   "metadata": {},
   "outputs": [
    {
     "name": "stderr",
     "output_type": "stream",
     "text": [
      "/home/jovyan/my-conda-envs/scanpy_env/lib/python3.8/site-packages/pandas/core/arrays/categorical.py:2487: FutureWarning: The `inplace` parameter in pandas.Categorical.remove_unused_categories is deprecated and will be removed in a future version.\n",
      "  res = method(*args, **kwargs)\n"
     ]
    }
   ],
   "source": [
    "# Filter HVGs --> Select top 200 highly variable genes that will serve as features to the machine learning models  \n",
    "sc.pp.highly_variable_genes(bian, n_top_genes = 200)\n",
    "highly_variable_genes = bian.var[\"highly_variable\"]\n",
    "bian = bian[:, highly_variable_genes]"
   ]
  },
  {
   "cell_type": "code",
   "execution_count": 10,
   "id": "informal-while",
   "metadata": {},
   "outputs": [
    {
     "name": "stdout",
     "output_type": "stream",
     "text": [
      "Total number of cells: 1231\n",
      "Total number of genes: 200\n"
     ]
    },
    {
     "name": "stderr",
     "output_type": "stream",
     "text": [
      "/home/jovyan/my-conda-envs/scanpy_env/lib/python3.8/site-packages/scanpy/preprocessing/_simple.py:810: UserWarning: Revieved a view of an AnnData. Making a copy.\n",
      "  view_to_actual(adata)\n"
     ]
    }
   ],
   "source": [
    "# Scale\n",
    "sc.pp.scale(bian, max_value=10)\n",
    "print('Total number of cells: {:d}'.format(bian.n_obs))\n",
    "print('Total number of genes: {:d}'.format(bian.n_vars))"
   ]
  },
  {
   "cell_type": "markdown",
   "id": "facial-multiple",
   "metadata": {},
   "source": [
    "#### Train SVM model"
   ]
  },
  {
   "cell_type": "code",
   "execution_count": 11,
   "id": "black-genre",
   "metadata": {},
   "outputs": [],
   "source": [
    "# Required libraries regardless of the model you choose\n",
    "from sklearn.metrics import classification_report\n",
    "from sklearn.metrics import confusion_matrix, classification_report, accuracy_score\n",
    "from sklearn.model_selection import GridSearchCV\n",
    "from sklearn.model_selection import train_test_split\n",
    "from sklearn.decomposition import PCA\n",
    "from sklearn.pipeline import Pipeline\n",
    "\n",
    "# Library for Logistic Regression\n",
    "from sklearn.linear_model import LogisticRegression\n",
    "\n",
    "# Library for Random Forest \n",
    "from sklearn.ensemble import RandomForestClassifier\n",
    "\n",
    "# Library for Support Vector Machine \n",
    "from sklearn.svm import SVC"
   ]
  },
  {
   "cell_type": "code",
   "execution_count": 12,
   "id": "satellite-slide",
   "metadata": {},
   "outputs": [
    {
     "name": "stdout",
     "output_type": "stream",
     "text": [
      "Loading data\n",
      "<class 'numpy.ndarray'> (1231, 200)\n"
     ]
    }
   ],
   "source": [
    "print(\"Loading data\")\n",
    "X = np.array(bian.X) # Fetching the count matrix to use as input to the model \n",
    "print(type(X), X.shape)"
   ]
  },
  {
   "cell_type": "code",
   "execution_count": 13,
   "id": "reserved-poker",
   "metadata": {},
   "outputs": [],
   "source": [
    "# Choose output variable, meaning the labels you want to predict \n",
    "y = list(bian.obs.paper_cluster.astype('str'))"
   ]
  },
  {
   "cell_type": "code",
   "execution_count": 14,
   "id": "empty-outdoors",
   "metadata": {},
   "outputs": [],
   "source": [
    "# Split the training dataset into train and test sets \n",
    "X_train, X_test, y_train, y_test = train_test_split(\n",
    "        X,\n",
    "        y,\n",
    "        test_size=0.3, # This can be changed, though it makes sense to use 25-30% of the data for test\n",
    "        random_state=1234,\n",
    "    )"
   ]
  },
  {
   "cell_type": "code",
   "execution_count": 15,
   "id": "mysterious-capitol",
   "metadata": {},
   "outputs": [
    {
     "name": "stdout",
     "output_type": "stream",
     "text": [
      "Hyperparameter tuning with exhaustive grid search\n",
      "Fitting 5 folds for each of 36 candidates, totalling 180 fits\n",
      "Best CV params {'SVC__C': 10, 'SVC__gamma': 0.001, 'pca__n_components': 0.9}\n",
      "Best CV accuracy 0.8420688264551688\n"
     ]
    }
   ],
   "source": [
    "# Instantiate an RBF Support Vector Machine\n",
    "svm = SVC(kernel = \"rbf\", probability = True)\n",
    "\n",
    "# Instantiate a PCA \n",
    "pca = PCA()\n",
    "\n",
    "# Create pipeline object\n",
    "pipe = Pipeline(steps=[('pca', pca), ('SVC', svm)])\n",
    "\n",
    "print('Hyperparameter tuning with exhaustive grid search')\n",
    "\n",
    "# Choose a grid of hyperparameters values (these are arbitrary but reasonable as I took reference values from the documentation)\n",
    "params_svm = {'SVC__C':[0.1, 1, 10, 100], 'SVC__gamma':[0.001, 0.01, 0.1], 'pca__n_components': [0.7, 0.8, 0.9]}\n",
    "\n",
    "# Use grid search cross validation to span the hyperparameter space and choose the best \n",
    "grid_svm = GridSearchCV(pipe, params_svm, cv=5, verbose =1, n_jobs = -1)\n",
    "\n",
    "# Fit the model to the training set of the training data\n",
    "grid_svm.fit(X_train, y_train)\n",
    "\n",
    "# Report the best hyperparameters and the corresponding score\n",
    "print(\"Best CV params\", grid_svm.best_params_)\n",
    "print(\"Best CV accuracy\", grid_svm.best_score_)"
   ]
  },
  {
   "cell_type": "code",
   "execution_count": 16,
   "id": "introductory-cleaner",
   "metadata": {},
   "outputs": [
    {
     "name": "stdout",
     "output_type": "stream",
     "text": [
      "              precision    recall  f1-score   support\n",
      "\n",
      "         EMP       0.78      0.86      0.82        29\n",
      "         ErP       0.88      0.88      0.88        24\n",
      "         GMP       1.00      0.80      0.89        15\n",
      "        HSPC       1.00      0.67      0.80         9\n",
      "         ILC       1.00      0.80      0.89         5\n",
      "         LMP       0.64      0.85      0.73        34\n",
      " Lymphoblast       0.86      0.78      0.82        41\n",
      "       Mac_1       0.86      0.90      0.88        21\n",
      "       Mac_2       0.83      0.89      0.86        66\n",
      "       Mac_3       0.82      0.60      0.69        15\n",
      "       Mac_4       0.96      0.96      0.96        28\n",
      "   Mast cell       0.86      1.00      0.92         6\n",
      "         MkP       0.80      1.00      0.89         8\n",
      "    Monocyte       0.76      0.61      0.68        41\n",
      "  Myeloblast       0.96      0.96      0.96        28\n",
      "\n",
      "    accuracy                           0.84       370\n",
      "   macro avg       0.87      0.84      0.85       370\n",
      "weighted avg       0.84      0.84      0.83       370\n",
      "\n",
      "Accuracy: 0.8351351351351352\n"
     ]
    }
   ],
   "source": [
    "predicted_labels = grid_svm.best_estimator_.predict(X_test) # Here as an example I am using the support vector machine model\n",
    "report_rf = classification_report(y_test, predicted_labels)\n",
    "print(report_rf)\n",
    "print(\"Accuracy:\", accuracy_score(y_test, predicted_labels))"
   ]
  },
  {
   "cell_type": "code",
   "execution_count": 17,
   "id": "marine-anderson",
   "metadata": {},
   "outputs": [
    {
     "data": {
      "text/plain": [
       "Text(0.5, 266.08, 'Predicted label')"
      ]
     },
     "execution_count": 17,
     "metadata": {},
     "output_type": "execute_result"
    },
    {
     "data": {
      "image/png": "[encoded data removed]",
      "text/plain": [
       "<Figure size 432x288 with 2 Axes>"
      ]
     },
     "metadata": {
      "needs_background": "light"
     },
     "output_type": "display_data"
    }
   ],
   "source": [
    "cnf_matrix = confusion_matrix(y_test, predicted_labels)\n",
    "import matplotlib.pyplot as plt\n",
    "import seaborn as sns\n",
    "%matplotlib inline\n",
    "\n",
    "class_names=[0,1] # name  of classes\n",
    "fig, ax = plt.subplots()\n",
    "tick_marks = np.arange(len(class_names))\n",
    "plt.xticks(tick_marks, class_names)\n",
    "plt.yticks(tick_marks, class_names)\n",
    "# create heatmap\n",
    "sns.heatmap(pd.DataFrame(cnf_matrix), annot=True, cmap=\"YlGnBu\" ,fmt='g')\n",
    "ax.xaxis.set_label_position(\"top\")\n",
    "plt.tight_layout()\n",
    "plt.title('Confusion matrix', y=1.1)\n",
    "plt.ylabel('Actual label')\n",
    "plt.xlabel('Predicted label')"
   ]
  },
  {
   "cell_type": "code",
   "execution_count": 18,
   "id": "municipal-hygiene",
   "metadata": {},
   "outputs": [
    {
     "name": "stdout",
     "output_type": "stream",
     "text": [
      "Accuracy: 0.8351351351351352\n"
     ]
    }
   ],
   "source": [
    "print(\"Accuracy:\", accuracy_score(y_test, predicted_labels))"
   ]
  },
  {
   "cell_type": "code",
   "execution_count": 19,
   "id": "following-haven",
   "metadata": {},
   "outputs": [],
   "source": [
    "grid_svm.best_estimator_.feature_names = list(bian.var_names)"
   ]
  },
  {
   "cell_type": "code",
   "execution_count": 20,
   "id": "headed-submission",
   "metadata": {},
   "outputs": [],
   "source": [
    "def process_and_subset_data(adata, genes):\n",
    "    # save the log transformed counts as raw \n",
    "    adata.raw = adata.copy()\n",
    "    # Per cell normalization\n",
    "    sc.pp.normalize_per_cell(adata, counts_per_cell_after=1e4)\n",
    "    # Log transformation \n",
    "    sc.pp.log1p(adata)\n",
    "    # Subset data\n",
    "    adata = adata[:, list(genes)]\n",
    "    # Scale\n",
    "    sc.pp.scale(adata, max_value=10)\n",
    "    return adata"
   ]
  },
  {
   "cell_type": "code",
   "execution_count": 21,
   "id": "entertaining-applicant",
   "metadata": {},
   "outputs": [],
   "source": [
    "def process_data(adata):\n",
    "    # Per cell normalization\n",
    "    sc.pp.normalize_per_cell(adata, counts_per_cell_after=1e4)\n",
    "    # Log transformation \n",
    "    sc.pp.log1p(adata)\n",
    "    # Scale\n",
    "    sc.pp.scale(adata, max_value=10)"
   ]
  },
  {
   "cell_type": "code",
   "execution_count": 22,
   "id": "loose-connecticut",
   "metadata": {},
   "outputs": [],
   "source": [
    "import scipy\n",
    "def make_single_predictions(adata, classifier): \n",
    "    #if scipy.sparse.issparse(adata.X):\n",
    "        #adata.X = adata.X.toarray()\n",
    "    adata_X = np.array(adata.X)\n",
    "    print(type(adata_X), adata_X.shape)\n",
    "    adata_preds = classifier.predict(adata_X)\n",
    "    adata.obs['human_classifier_supporting'] = adata_preds\n",
    "    print(adata.obs.human_classifier_supporting.value_counts(dropna = False))"
   ]
  },
  {
   "cell_type": "code",
   "execution_count": 23,
   "id": "gothic-aberdeen",
   "metadata": {},
   "outputs": [],
   "source": [
    "def make_correspondence(classifier):\n",
    "    corr = {}\n",
    "    for i in range(0,len(classifier.classes_)):\n",
    "            corr[i] = classifier.classes_[i]\n",
    "    return corr"
   ]
  },
  {
   "cell_type": "code",
   "execution_count": 24,
   "id": "differential-airplane",
   "metadata": {},
   "outputs": [],
   "source": [
    "def make_probability_predictions(adata, classifier):\n",
    "    adata_X = np.array(adata.X)\n",
    "    print(type(adata_X), adata_X.shape)\n",
    "    proba_preds = classifier.predict_proba(adata_X)\n",
    "    df_probs = pd.DataFrame(np.column_stack(list(zip(*proba_preds))))\n",
    "    corr = make_correspondence(classifier)\n",
    "    for index in df_probs.columns.values:\n",
    "        celltype = corr[index]\n",
    "        adata.obs['prob_'+celltype] = df_probs[index].to_list()"
   ]
  },
  {
   "cell_type": "code",
   "execution_count": 25,
   "id": "entire-genealogy",
   "metadata": {},
   "outputs": [
    {
     "name": "stderr",
     "output_type": "stream",
     "text": [
      "/home/jovyan/my-conda-envs/scanpy_env/lib/python3.8/site-packages/pandas/core/arrays/categorical.py:2487: FutureWarning: The `inplace` parameter in pandas.Categorical.remove_unused_categories is deprecated and will be removed in a future version.\n",
      "  res = method(*args, **kwargs)\n",
      "/home/jovyan/my-conda-envs/scanpy_env/lib/python3.8/site-packages/pandas/core/arrays/categorical.py:2487: FutureWarning: The `inplace` parameter in pandas.Categorical.remove_unused_categories is deprecated and will be removed in a future version.\n",
      "  res = method(*args, **kwargs)\n",
      "/home/jovyan/my-conda-envs/scanpy_env/lib/python3.8/site-packages/scanpy/preprocessing/_simple.py:810: UserWarning: Revieved a view of an AnnData. Making a copy.\n",
      "  view_to_actual(adata)\n"
     ]
    },
    {
     "name": "stdout",
     "output_type": "stream",
     "text": [
      "<class 'numpy.ndarray'> (19538, 200)\n",
      "Mac_2          6265\n",
      "Myeloblast     2504\n",
      "Monocyte       2084\n",
      "LMP            1824\n",
      "EMP            1695\n",
      "Lymphoblast    1504\n",
      "ILC            1241\n",
      "Mac_4           579\n",
      "Mac_3           426\n",
      "Mac_1           321\n",
      "GMP             314\n",
      "Mast cell       260\n",
      "MkP             234\n",
      "ErP             218\n",
      "HSPC             69\n",
      "Name: human_classifier_supporting, dtype: int64\n"
     ]
    }
   ],
   "source": [
    "atlas = process_and_subset_data(atlas, grid_svm.best_estimator_.feature_names)\n",
    "make_single_predictions(atlas, grid_svm.best_estimator_)"
   ]
  },
  {
   "cell_type": "code",
   "execution_count": 26,
   "id": "welcome-stamp",
   "metadata": {},
   "outputs": [
    {
     "name": "stdout",
     "output_type": "stream",
     "text": [
      "<class 'numpy.ndarray'> (19538, 200)\n"
     ]
    }
   ],
   "source": [
    "make_probability_predictions(atlas, grid_svm.best_estimator_)"
   ]
  },
  {
   "cell_type": "code",
   "execution_count": 27,
   "id": "whole-payroll",
   "metadata": {},
   "outputs": [],
   "source": [
    "atlas.obs[['prob_EMP', 'prob_ErP', 'prob_GMP', 'prob_HSPC', 'prob_ILC', 'prob_LMP', \n",
    "           'prob_Lymphoblast', 'prob_Mac_1', 'prob_Mac_2', 'prob_Mac_3',\n",
    "           'prob_Mac_4', 'prob_MkP', 'prob_Myeloblast']].to_csv(path_to_atlas + \"_SVM_predictions_Bian.csv\")"
   ]
  },
  {
   "cell_type": "markdown",
   "id": "ignored-uncle",
   "metadata": {},
   "source": [
    "#### End of notebook"
   ]
  },
  {
   "cell_type": "code",
   "execution_count": null,
   "id": "acquired-professional",
   "metadata": {},
   "outputs": [],
   "source": []
  }
 ],
 "metadata": {
  "kernelspec": {
   "display_name": "scanpy_env",
   "language": "python",
   "name": "scanpy_env"
  },
  "language_info": {
   "codemirror_mode": {
    "name": "ipython",
    "version": 3
   },
   "file_extension": ".py",
   "mimetype": "text/x-python",
   "name": "python",
   "nbconvert_exporter": "python",
   "pygments_lexer": "ipython3",
   "version": "3.8.8"
  }
 },
 "nbformat": 4,
 "nbformat_minor": 5
}
