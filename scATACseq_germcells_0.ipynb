{
 "cells": [
  {
   "cell_type": "markdown",
   "metadata": {},
   "source": [
    "## ATAC + MULTIOME GERM CELLS (april 2021)\n",
    "\n",
    "### Build anndata from cellatac output "
   ]
  },
  {
   "cell_type": "code",
   "execution_count": 2,
   "metadata": {},
   "outputs": [],
   "source": [
    "# Load libraries\n",
    "import pandas as pd \n",
    "import scanpy as sc\n",
    "import numpy as np\n",
    "import scipy.sparse"
   ]
  },
  {
   "cell_type": "code",
   "execution_count": 3,
   "metadata": {},
   "outputs": [],
   "source": [
    "# Define variables\n",
    "outdir = \"/nfs/team292/vl6/my_MULTIOME_dir/germcells_apr2021/\"\n",
    "experiment_prefix = 'germcells_'\n",
    "cellatac_outdir = '/lustre/scratch117/cellgen/cellgeni/TIC-atacseq/tic-1005/germcells-work/results200k-b-germ/'\n"
   ]
  },
  {
   "cell_type": "code",
   "execution_count": 4,
   "metadata": {},
   "outputs": [],
   "source": [
    "input={'cnts': cellatac_outdir + 'peak_matrix/peaks_bc_matrix.mmtx.gz',\n",
    "        \"bcs\": cellatac_outdir + 'peak_matrix/bc.txt',\n",
    "      \"peaks\": cellatac_outdir + 'peak_matrix/peaks.txt',\n",
    "      'clusters': cellatac_outdir + 'qc/seurat-clades.tsv'}\n",
    "\n",
    "output = {\n",
    "    \"cnt_mmtx\":outdir + experiment_prefix + '_ATAC_cisTopic.mmtx',\n",
    "    \"cnt_peaks\":outdir + experiment_prefix + '_ATAC_cisTopic.peaks.tsv',\n",
    "    \"cnt_cells\":outdir + experiment_prefix + '_ATAC_cisTopic.cells.tsv',\n",
    "    \"h5ad\":outdir + experiment_prefix + '_ATAC_raw.h5ad',\n",
    "}"
   ]
  },
  {
   "cell_type": "markdown",
   "metadata": {},
   "source": [
    "#### Make anndata object"
   ]
  },
  {
   "cell_type": "code",
   "execution_count": 5,
   "metadata": {},
   "outputs": [],
   "source": [
    "adata = sc.read_mtx(input[\"cnts\"]).T\n",
    "\n",
    "bc = pd.read_table(input[\"bcs\"], header=None)\n",
    "feat = pd.read_table(input[\"peaks\"], header=None)\n",
    "\n",
    "adata.obs_names = bc[0]\n",
    "adata.var_names = feat[0]"
   ]
  },
  {
   "cell_type": "code",
   "execution_count": 6,
   "metadata": {},
   "outputs": [
    {
     "data": {
      "text/plain": [
       "AnnData object with n_obs × n_vars = 2020 × 127681"
      ]
     },
     "execution_count": 6,
     "metadata": {},
     "output_type": "execute_result"
    }
   ],
   "source": [
    "adata"
   ]
  },
  {
   "cell_type": "markdown",
   "metadata": {},
   "source": [
    "#### Load peak annotations (done with R script by Emma)"
   ]
  },
  {
   "cell_type": "code",
   "execution_count": 7,
   "metadata": {},
   "outputs": [],
   "source": [
    "peak_anno_df = pd.read_csv(outdir + \"ATACpeaks_annotation.csv\", index_col=0)\n",
    "peak_anno_df.index = peak_anno_df[\"peak_id\"]\n",
    "peak_anno_df.drop(\"peak_id\",1, inplace=True)\n",
    "adata.var = pd.concat([adata.var, peak_anno_df], 1)"
   ]
  },
  {
   "cell_type": "markdown",
   "metadata": {},
   "source": [
    "#### Save binary data to layers"
   ]
  },
  {
   "cell_type": "code",
   "execution_count": 8,
   "metadata": {},
   "outputs": [],
   "source": [
    "adata.layers[\"binary_raw\"] = adata.X\n",
    "adata.layers[\"binary_raw\"][adata.layers[\"binary_raw\"] > 1] = 1"
   ]
  },
  {
   "cell_type": "markdown",
   "metadata": {},
   "source": [
    "#### Peak filtering"
   ]
  },
  {
   "cell_type": "code",
   "execution_count": 9,
   "metadata": {},
   "outputs": [
    {
     "data": {
      "text/plain": [
       "array([[<AxesSubplot:title={'center':'peak_width'}>]], dtype=object)"
      ]
     },
     "execution_count": 9,
     "metadata": {},
     "output_type": "execute_result"
    },
    {
     "data": {
      "image/png": "[encoded data removed]",
      "text/plain": [
       "<Figure size 1800x432 with 1 Axes>"
      ]
     },
     "metadata": {
      "needs_background": "light"
     },
     "output_type": "display_data"
    }
   ],
   "source": [
    "adata.var.hist(column = 'peak_width', bins = 200, grid = False, figsize = (25,6), color = '#870052')"
   ]
  },
  {
   "cell_type": "code",
   "execution_count": 10,
   "metadata": {},
   "outputs": [
    {
     "name": "stderr",
     "output_type": "stream",
     "text": [
      "/opt/conda/envs/atac_env/lib/python3.8/site-packages/numba/np/ufunc/parallel.py:316: UserWarning: Could not obtain multiprocessing lock due to OS level error: [Errno 28] No space left on device\n",
      "A likely cause of this problem is '/dev/shm' is missing orread-only such that necessary semaphores cannot be written.\n",
      "*** The responsibility of ensuring multiprocessing safe access to this initialization sequence/module import is deferred to the user! ***\n",
      "\n",
      "  warnings.warn(msg % str(e))\n"
     ]
    },
    {
     "data": {
      "text/plain": [
       "AnnData object with n_obs × n_vars = 2020 × 127681\n",
       "    var: 'peak_width', 'exon', 'gene', 'promoter', 'annotation', 'gene_name', 'gene_id', 'tss_distance', 'ENCODE_blacklist', 'n_cells_by_counts', 'mean_counts', 'log1p_mean_counts', 'pct_dropout_by_counts', 'total_counts', 'log1p_total_counts'\n",
       "    layers: 'binary_raw'"
      ]
     },
     "execution_count": 10,
     "metadata": {},
     "output_type": "execute_result"
    }
   ],
   "source": [
    "var_qc = sc.pp.calculate_qc_metrics(adata, layer = \"binary_raw\")[1]\n",
    "adata.var = pd.concat([adata.var, var_qc], 1)\n",
    "adata"
   ]
  },
  {
   "cell_type": "code",
   "execution_count": 11,
   "metadata": {},
   "outputs": [
    {
     "data": {
      "text/html": [
       "<div>\n",
       "<style scoped>\n",
       "    .dataframe tbody tr th:only-of-type {\n",
       "        vertical-align: middle;\n",
       "    }\n",
       "\n",
       "    .dataframe tbody tr th {\n",
       "        vertical-align: top;\n",
       "    }\n",
       "\n",
       "    .dataframe thead th {\n",
       "        text-align: right;\n",
       "    }\n",
       "</style>\n",
       "<table border=\"1\" class=\"dataframe\">\n",
       "  <thead>\n",
       "    <tr style=\"text-align: right;\">\n",
       "      <th></th>\n",
       "      <th>peak_width</th>\n",
       "      <th>exon</th>\n",
       "      <th>gene</th>\n",
       "      <th>promoter</th>\n",
       "      <th>annotation</th>\n",
       "      <th>gene_name</th>\n",
       "      <th>gene_id</th>\n",
       "      <th>tss_distance</th>\n",
       "      <th>ENCODE_blacklist</th>\n",
       "      <th>n_cells_by_counts</th>\n",
       "      <th>mean_counts</th>\n",
       "      <th>log1p_mean_counts</th>\n",
       "      <th>pct_dropout_by_counts</th>\n",
       "      <th>total_counts</th>\n",
       "      <th>log1p_total_counts</th>\n",
       "    </tr>\n",
       "  </thead>\n",
       "  <tbody>\n",
       "    <tr>\n",
       "      <th>chr1:10056-10444</th>\n",
       "      <td>389</td>\n",
       "      <td>0</td>\n",
       "      <td>0</td>\n",
       "      <td>0</td>\n",
       "      <td>intergenic</td>\n",
       "      <td>NaN</td>\n",
       "      <td>NaN</td>\n",
       "      <td>58646</td>\n",
       "      <td>1</td>\n",
       "      <td>56</td>\n",
       "      <td>0.027723</td>\n",
       "      <td>0.027345</td>\n",
       "      <td>97.227723</td>\n",
       "      <td>56.0</td>\n",
       "      <td>4.043051</td>\n",
       "    </tr>\n",
       "    <tr>\n",
       "      <th>chr1:180752-181621</th>\n",
       "      <td>870</td>\n",
       "      <td>0</td>\n",
       "      <td>0</td>\n",
       "      <td>1</td>\n",
       "      <td>promoter</td>\n",
       "      <td>FO538757.2</td>\n",
       "      <td>ENSG00000279928</td>\n",
       "      <td>771</td>\n",
       "      <td>1</td>\n",
       "      <td>746</td>\n",
       "      <td>0.369307</td>\n",
       "      <td>0.314305</td>\n",
       "      <td>63.069307</td>\n",
       "      <td>746.0</td>\n",
       "      <td>6.616065</td>\n",
       "    </tr>\n",
       "    <tr>\n",
       "      <th>chr1:191419-191619</th>\n",
       "      <td>201</td>\n",
       "      <td>0</td>\n",
       "      <td>1</td>\n",
       "      <td>0</td>\n",
       "      <td>intron</td>\n",
       "      <td>FO538757.1</td>\n",
       "      <td>ENSG00000279457</td>\n",
       "      <td>3791</td>\n",
       "      <td>1</td>\n",
       "      <td>21</td>\n",
       "      <td>0.010396</td>\n",
       "      <td>0.010342</td>\n",
       "      <td>98.960396</td>\n",
       "      <td>21.0</td>\n",
       "      <td>3.091043</td>\n",
       "    </tr>\n",
       "    <tr>\n",
       "      <th>chr1:263610-263810</th>\n",
       "      <td>201</td>\n",
       "      <td>0</td>\n",
       "      <td>0</td>\n",
       "      <td>0</td>\n",
       "      <td>intergenic</td>\n",
       "      <td>NaN</td>\n",
       "      <td>NaN</td>\n",
       "      <td>63287</td>\n",
       "      <td>1</td>\n",
       "      <td>9</td>\n",
       "      <td>0.004455</td>\n",
       "      <td>0.004446</td>\n",
       "      <td>99.554455</td>\n",
       "      <td>9.0</td>\n",
       "      <td>2.302585</td>\n",
       "    </tr>\n",
       "    <tr>\n",
       "      <th>chr1:267882-268082</th>\n",
       "      <td>201</td>\n",
       "      <td>0</td>\n",
       "      <td>0</td>\n",
       "      <td>0</td>\n",
       "      <td>intergenic</td>\n",
       "      <td>NaN</td>\n",
       "      <td>NaN</td>\n",
       "      <td>67559</td>\n",
       "      <td>1</td>\n",
       "      <td>34</td>\n",
       "      <td>0.016832</td>\n",
       "      <td>0.016692</td>\n",
       "      <td>98.316832</td>\n",
       "      <td>34.0</td>\n",
       "      <td>3.555348</td>\n",
       "    </tr>\n",
       "  </tbody>\n",
       "</table>\n",
       "</div>"
      ],
      "text/plain": [
       "                    peak_width  exon  gene  promoter  annotation   gene_name  \\\n",
       "chr1:10056-10444           389     0     0         0  intergenic         NaN   \n",
       "chr1:180752-181621         870     0     0         1    promoter  FO538757.2   \n",
       "chr1:191419-191619         201     0     1         0      intron  FO538757.1   \n",
       "chr1:263610-263810         201     0     0         0  intergenic         NaN   \n",
       "chr1:267882-268082         201     0     0         0  intergenic         NaN   \n",
       "\n",
       "                            gene_id  tss_distance  ENCODE_blacklist  \\\n",
       "chr1:10056-10444                NaN         58646                 1   \n",
       "chr1:180752-181621  ENSG00000279928           771                 1   \n",
       "chr1:191419-191619  ENSG00000279457          3791                 1   \n",
       "chr1:263610-263810              NaN         63287                 1   \n",
       "chr1:267882-268082              NaN         67559                 1   \n",
       "\n",
       "                    n_cells_by_counts  mean_counts  log1p_mean_counts  \\\n",
       "chr1:10056-10444                   56     0.027723           0.027345   \n",
       "chr1:180752-181621                746     0.369307           0.314305   \n",
       "chr1:191419-191619                 21     0.010396           0.010342   \n",
       "chr1:263610-263810                  9     0.004455           0.004446   \n",
       "chr1:267882-268082                 34     0.016832           0.016692   \n",
       "\n",
       "                    pct_dropout_by_counts  total_counts  log1p_total_counts  \n",
       "chr1:10056-10444                97.227723          56.0            4.043051  \n",
       "chr1:180752-181621              63.069307         746.0            6.616065  \n",
       "chr1:191419-191619              98.960396          21.0            3.091043  \n",
       "chr1:263610-263810              99.554455           9.0            2.302585  \n",
       "chr1:267882-268082              98.316832          34.0            3.555348  "
      ]
     },
     "execution_count": 11,
     "metadata": {},
     "output_type": "execute_result"
    }
   ],
   "source": [
    "adata.var.head()"
   ]
  },
  {
   "cell_type": "code",
   "execution_count": 12,
   "metadata": {},
   "outputs": [
    {
     "data": {
      "text/plain": [
       "array([[<AxesSubplot:title={'center':'total_counts'}>]], dtype=object)"
      ]
     },
     "execution_count": 12,
     "metadata": {},
     "output_type": "execute_result"
    },
    {
     "data": {
      "image/png": "[encoded data removed]",
      "text/plain": [
       "<Figure size 1800x432 with 1 Axes>"
      ]
     },
     "metadata": {
      "needs_background": "light"
     },
     "output_type": "display_data"
    }
   ],
   "source": [
    "adata.var.hist(column = 'total_counts', bins = 200, grid = False, figsize = (25,6), color = '#870052')"
   ]
  },
  {
   "cell_type": "code",
   "execution_count": 13,
   "metadata": {},
   "outputs": [
    {
     "name": "stdout",
     "output_type": "stream",
     "text": [
      "30% : 606.0\n",
      "0.2% : 4.04\n"
     ]
    }
   ],
   "source": [
    "thirty_percent = len(adata.obs_names) / 100 * 30\n",
    "point_two_percent = len(adata.obs_names) / 100 * 0.2\n",
    "print(\"30% : {}\".format(thirty_percent))\n",
    "print(\"0.2% : {}\".format(point_two_percent))"
   ]
  },
  {
   "cell_type": "code",
   "execution_count": 14,
   "metadata": {},
   "outputs": [
    {
     "data": {
      "text/plain": [
       "View of AnnData object with n_obs × n_vars = 2020 × 123607\n",
       "    var: 'peak_width', 'exon', 'gene', 'promoter', 'annotation', 'gene_name', 'gene_id', 'tss_distance', 'ENCODE_blacklist', 'n_cells_by_counts', 'mean_counts', 'log1p_mean_counts', 'pct_dropout_by_counts', 'total_counts', 'log1p_total_counts'\n",
       "    layers: 'binary_raw'"
      ]
     },
     "execution_count": 14,
     "metadata": {},
     "output_type": "execute_result"
    }
   ],
   "source": [
    "# Accessible in at least k cells\n",
    "adata = adata[:,adata.var.total_counts > point_two_percent]\n",
    "adata = adata[:,adata.var.total_counts < thirty_percent]\n",
    "adata"
   ]
  },
  {
   "cell_type": "code",
   "execution_count": 15,
   "metadata": {},
   "outputs": [
    {
     "data": {
      "text/plain": [
       "View of AnnData object with n_obs × n_vars = 2020 × 122775\n",
       "    var: 'peak_width', 'exon', 'gene', 'promoter', 'annotation', 'gene_name', 'gene_id', 'tss_distance', 'ENCODE_blacklist', 'n_cells_by_counts', 'mean_counts', 'log1p_mean_counts', 'pct_dropout_by_counts', 'total_counts', 'log1p_total_counts'\n",
       "    layers: 'binary_raw'"
      ]
     },
     "execution_count": 15,
     "metadata": {},
     "output_type": "execute_result"
    }
   ],
   "source": [
    "# Remove peaks in ENCODE blacklist\n",
    "adata = adata[:, adata.var.ENCODE_blacklist == 0]\n",
    "adata"
   ]
  },
  {
   "cell_type": "code",
   "execution_count": 16,
   "metadata": {},
   "outputs": [
    {
     "data": {
      "text/plain": [
       "View of AnnData object with n_obs × n_vars = 2020 × 98102\n",
       "    var: 'peak_width', 'exon', 'gene', 'promoter', 'annotation', 'gene_name', 'gene_id', 'tss_distance', 'ENCODE_blacklist', 'n_cells_by_counts', 'mean_counts', 'log1p_mean_counts', 'pct_dropout_by_counts', 'total_counts', 'log1p_total_counts'\n",
       "    layers: 'binary_raw'"
      ]
     },
     "execution_count": 16,
     "metadata": {},
     "output_type": "execute_result"
    }
   ],
   "source": [
    "# Filter by width (remove peaks at the lowest end, closest to min peak width in MACS2)\n",
    "\n",
    "adata = adata[:, adata.var.peak_width > 210]\n",
    "adata = adata[:, adata.var.peak_width < 1500]\n",
    "adata"
   ]
  },
  {
   "cell_type": "code",
   "execution_count": 17,
   "metadata": {},
   "outputs": [
    {
     "data": {
      "text/plain": [
       "intergenic    39252\n",
       "intron        33528\n",
       "exon          21098\n",
       "promoter       4224\n",
       "Name: annotation, dtype: int64"
      ]
     },
     "execution_count": 17,
     "metadata": {},
     "output_type": "execute_result"
    }
   ],
   "source": [
    "adata.var['annotation'].value_counts()"
   ]
  },
  {
   "cell_type": "code",
   "execution_count": 19,
   "metadata": {},
   "outputs": [
    {
     "data": {
      "text/plain": [
       "AnnData object with n_obs × n_vars = 2020 × 98102\n",
       "    obs: 'cellatac_clusters'\n",
       "    var: 'peak_width', 'exon', 'gene', 'promoter', 'annotation', 'gene_name', 'gene_id', 'tss_distance', 'ENCODE_blacklist', 'n_cells_by_counts', 'mean_counts', 'log1p_mean_counts', 'pct_dropout_by_counts', 'total_counts', 'log1p_total_counts'\n",
       "    layers: 'binary_raw'"
      ]
     },
     "execution_count": 19,
     "metadata": {},
     "output_type": "execute_result"
    }
   ],
   "source": [
    "### Filter peaks that are not accessible in at least 4% of cells from a coarse cluster\n",
    "min_frac=0.04\n",
    "# Load cluster information from cellatac outputs\n",
    "clusters = pd.read_table(input[\"clusters\"], header = None, index_col = 0)\n",
    "clusters.columns = [\"cellatac_clusters\"]\n",
    "adata.obs = clusters.loc[adata.obs_names]\n",
    "adata"
   ]
  },
  {
   "cell_type": "code",
   "execution_count": 20,
   "metadata": {},
   "outputs": [
    {
     "data": {
      "text/html": [
       "<div>\n",
       "<style scoped>\n",
       "    .dataframe tbody tr th:only-of-type {\n",
       "        vertical-align: middle;\n",
       "    }\n",
       "\n",
       "    .dataframe tbody tr th {\n",
       "        vertical-align: top;\n",
       "    }\n",
       "\n",
       "    .dataframe thead th {\n",
       "        text-align: right;\n",
       "    }\n",
       "</style>\n",
       "<table border=\"1\" class=\"dataframe\">\n",
       "  <thead>\n",
       "    <tr style=\"text-align: right;\">\n",
       "      <th></th>\n",
       "      <th>cellatac_clusters</th>\n",
       "    </tr>\n",
       "  </thead>\n",
       "  <tbody>\n",
       "    <tr>\n",
       "      <th>01-ACAGAAAAGAGGAATG-1</th>\n",
       "      <td>4</td>\n",
       "    </tr>\n",
       "    <tr>\n",
       "      <th>01-ACTTTCAAGGGCTCTC-1</th>\n",
       "      <td>4</td>\n",
       "    </tr>\n",
       "    <tr>\n",
       "      <th>01-AGCCAGCAGGTGTCGA-1</th>\n",
       "      <td>4</td>\n",
       "    </tr>\n",
       "    <tr>\n",
       "      <th>01-CAGCTAATCTGGCGCA-1</th>\n",
       "      <td>1</td>\n",
       "    </tr>\n",
       "    <tr>\n",
       "      <th>01-GCACCTTGTTACGGAG-1</th>\n",
       "      <td>1</td>\n",
       "    </tr>\n",
       "  </tbody>\n",
       "</table>\n",
       "</div>"
      ],
      "text/plain": [
       "                       cellatac_clusters\n",
       "01-ACAGAAAAGAGGAATG-1                  4\n",
       "01-ACTTTCAAGGGCTCTC-1                  4\n",
       "01-AGCCAGCAGGTGTCGA-1                  4\n",
       "01-CAGCTAATCTGGCGCA-1                  1\n",
       "01-GCACCTTGTTACGGAG-1                  1"
      ]
     },
     "execution_count": 20,
     "metadata": {},
     "output_type": "execute_result"
    }
   ],
   "source": [
    "adata.obs.head()"
   ]
  },
  {
   "cell_type": "code",
   "execution_count": 21,
   "metadata": {},
   "outputs": [
    {
     "name": "stderr",
     "output_type": "stream",
     "text": [
      "/opt/conda/envs/atac_env/lib/python3.8/site-packages/IPython/core/interactiveshell.py:3427: SparseEfficiencyWarning: Comparing a sparse matrix with a nonzero scalar using != is inefficient, try using == instead.\n",
      "  exec(code_obj, self.user_global_ns, self.user_ns)\n"
     ]
    }
   ],
   "source": [
    "n_clusters = len(np.unique(adata.obs[[\"cellatac_clusters\"]]))\n",
    "clus_mat = np.empty([adata.n_obs, n_clusters])\n",
    "for cl in np.unique(adata.obs[[\"cellatac_clusters\"]]):\n",
    "    clus_mat[np.where(adata.obs['cellatac_clusters']==cl)[0],cl] = 1\n",
    "\n",
    "clus_mat = scipy.sparse.csr_matrix(clus_mat)\n",
    "clus_mat[clus_mat != 1 ] = 0"
   ]
  },
  {
   "cell_type": "code",
   "execution_count": 22,
   "metadata": {},
   "outputs": [],
   "source": [
    "cl_peak_mat = np.dot(clus_mat.T, adata.layers[\"binary_raw\"])"
   ]
  },
  {
   "cell_type": "code",
   "execution_count": 23,
   "metadata": {},
   "outputs": [],
   "source": [
    "cl_peak_frac = cl_peak_mat/clus_mat.sum(0).T"
   ]
  },
  {
   "cell_type": "code",
   "execution_count": 24,
   "metadata": {},
   "outputs": [
    {
     "data": {
      "text/plain": [
       "(1, 98102)"
      ]
     },
     "execution_count": 24,
     "metadata": {},
     "output_type": "execute_result"
    }
   ],
   "source": [
    "cl_peak_frac.max(0).shape"
   ]
  },
  {
   "cell_type": "code",
   "execution_count": 25,
   "metadata": {},
   "outputs": [
    {
     "data": {
      "text/plain": [
       "(1, 98102)"
      ]
     },
     "execution_count": 25,
     "metadata": {},
     "output_type": "execute_result"
    }
   ],
   "source": [
    "bool_matrix = cl_peak_frac.max(0) > min_frac\n",
    "bool_matrix.shape"
   ]
  },
  {
   "cell_type": "code",
   "execution_count": 26,
   "metadata": {},
   "outputs": [
    {
     "data": {
      "text/plain": [
       "(98102,)"
      ]
     },
     "execution_count": 26,
     "metadata": {},
     "output_type": "execute_result"
    }
   ],
   "source": [
    "bool_vector = np.squeeze(np.asarray(bool_matrix))\n",
    "bool_vector.shape"
   ]
  },
  {
   "cell_type": "code",
   "execution_count": 27,
   "metadata": {},
   "outputs": [],
   "source": [
    "adata = adata[:, bool_vector]"
   ]
  },
  {
   "cell_type": "code",
   "execution_count": 28,
   "metadata": {},
   "outputs": [
    {
     "data": {
      "text/plain": [
       "View of AnnData object with n_obs × n_vars = 2020 × 86770\n",
       "    obs: 'cellatac_clusters'\n",
       "    var: 'peak_width', 'exon', 'gene', 'promoter', 'annotation', 'gene_name', 'gene_id', 'tss_distance', 'ENCODE_blacklist', 'n_cells_by_counts', 'mean_counts', 'log1p_mean_counts', 'pct_dropout_by_counts', 'total_counts', 'log1p_total_counts'\n",
       "    layers: 'binary_raw'"
      ]
     },
     "execution_count": 28,
     "metadata": {},
     "output_type": "execute_result"
    }
   ],
   "source": [
    "adata"
   ]
  },
  {
   "cell_type": "markdown",
   "metadata": {},
   "source": [
    "#### Filter low quality cells"
   ]
  },
  {
   "cell_type": "code",
   "execution_count": 29,
   "metadata": {},
   "outputs": [
    {
     "name": "stderr",
     "output_type": "stream",
     "text": [
      "Trying to set attribute `.obs` of view, copying.\n"
     ]
    }
   ],
   "source": [
    "sc.pp.calculate_qc_metrics(adata, layer = \"binary_raw\", inplace = True)"
   ]
  },
  {
   "cell_type": "code",
   "execution_count": 30,
   "metadata": {},
   "outputs": [
    {
     "data": {
      "text/plain": [
       "array([[<AxesSubplot:title={'center':'log1p_total_counts'}>]],\n",
       "      dtype=object)"
      ]
     },
     "execution_count": 30,
     "metadata": {},
     "output_type": "execute_result"
    },
    {
     "data": {
      "image/png": "[encoded data removed]",
      "text/plain": [
       "<Figure size 1800x432 with 1 Axes>"
      ]
     },
     "metadata": {
      "needs_background": "light"
     },
     "output_type": "display_data"
    }
   ],
   "source": [
    "adata.var.hist(column = 'log1p_total_counts', bins = 200, grid = False, figsize = (25,6), color = '#870052')"
   ]
  },
  {
   "cell_type": "code",
   "execution_count": 31,
   "metadata": {},
   "outputs": [
    {
     "data": {
      "text/plain": [
       "array([[<AxesSubplot:title={'center':'log1p_total_counts'}>]],\n",
       "      dtype=object)"
      ]
     },
     "execution_count": 31,
     "metadata": {},
     "output_type": "execute_result"
    },
    {
     "data": {
      "image/png": "[encoded data removed]",
      "text/plain": [
       "<Figure size 1800x432 with 1 Axes>"
      ]
     },
     "metadata": {
      "needs_background": "light"
     },
     "output_type": "display_data"
    }
   ],
   "source": [
    "adata.obs.hist(column = 'log1p_total_counts', bins = 200, grid = False, figsize = (25,6), color = '#870052')"
   ]
  },
  {
   "cell_type": "code",
   "execution_count": 32,
   "metadata": {},
   "outputs": [
    {
     "data": {
      "text/plain": [
       "View of AnnData object with n_obs × n_vars = 2017 × 86770\n",
       "    obs: 'cellatac_clusters', 'n_genes_by_counts', 'log1p_n_genes_by_counts', 'total_counts', 'log1p_total_counts', 'pct_counts_in_top_50_genes', 'pct_counts_in_top_100_genes', 'pct_counts_in_top_200_genes', 'pct_counts_in_top_500_genes'\n",
       "    var: 'peak_width', 'exon', 'gene', 'promoter', 'annotation', 'gene_name', 'gene_id', 'tss_distance', 'ENCODE_blacklist', 'n_cells_by_counts', 'mean_counts', 'log1p_mean_counts', 'pct_dropout_by_counts', 'total_counts', 'log1p_total_counts'\n",
       "    layers: 'binary_raw'"
      ]
     },
     "execution_count": 32,
     "metadata": {},
     "output_type": "execute_result"
    }
   ],
   "source": [
    "adata = adata[adata.obs.log1p_total_counts >= 5.5]\n",
    "adata"
   ]
  },
  {
   "cell_type": "code",
   "execution_count": 33,
   "metadata": {},
   "outputs": [
    {
     "name": "stderr",
     "output_type": "stream",
     "text": [
      "/opt/conda/envs/atac_env/lib/python3.8/site-packages/anndata/_core/anndata.py:1207: ImplicitModificationWarning: Initializing view as actual.\n",
      "  warnings.warn(\n",
      "Trying to set attribute `.var` of view, copying.\n",
      "... storing 'annotation' as categorical\n",
      "Trying to set attribute `.var` of view, copying.\n",
      "... storing 'gene_name' as categorical\n",
      "Trying to set attribute `.var` of view, copying.\n",
      "... storing 'gene_id' as categorical\n"
     ]
    }
   ],
   "source": [
    "## Write output anndata\n",
    "adata.write_h5ad(output[\"h5ad\"])"
   ]
  },
  {
   "cell_type": "markdown",
   "metadata": {},
   "source": [
    "#### End of notebook"
   ]
  },
  {
   "cell_type": "code",
   "execution_count": null,
   "metadata": {},
   "outputs": [],
   "source": []
  }
 ],
 "metadata": {
  "kernelspec": {
   "display_name": "atac_env",
   "language": "python",
   "name": "atac_env"
  },
  "language_info": {
   "codemirror_mode": {
    "name": "ipython",
    "version": 3
   },
   "file_extension": ".py",
   "mimetype": "text/x-python",
   "name": "python",
   "nbconvert_exporter": "python",
   "pygments_lexer": "ipython3",
   "version": "3.8.6"
  }
 },
 "nbformat": 4,
 "nbformat_minor": 4
}
