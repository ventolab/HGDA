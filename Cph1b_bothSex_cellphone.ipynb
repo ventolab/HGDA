{
 "cells": [
  {
   "cell_type": "markdown",
   "metadata": {},
   "source": [
    "## B. CellphoneDB:  Identify candidate cell-cell interactions"
   ]
  },
  {
   "cell_type": "code",
   "execution_count": 1,
   "metadata": {},
   "outputs": [
    {
     "name": "stderr",
     "output_type": "stream",
     "text": [
      "\n",
      "Attaching package: ‘dplyr’\n",
      "\n",
      "\n",
      "The following objects are masked from ‘package:stats’:\n",
      "\n",
      "    filter, lag\n",
      "\n",
      "\n",
      "The following objects are masked from ‘package:base’:\n",
      "\n",
      "    intersect, setdiff, setequal, union\n",
      "\n",
      "\n",
      "Loading required package: Rcpp\n",
      "\n"
     ]
    }
   ],
   "source": [
    "library(dplyr)\n",
    "library(reshape2)\n",
    "library(RColorBrewer)\n",
    "library(harmony)\n",
    "library(ggplot2)\n",
    "library(pheatmap)\n",
    "library(cowplot)"
   ]
  },
  {
   "cell_type": "code",
   "execution_count": 2,
   "metadata": {},
   "outputs": [],
   "source": [
    "# Define variables\n",
    "filter_int_user_curated = T #Use only user_curated interactions?\n",
    "per_cutoff = 0.1 # min % of cells in the cluster required  with expression > 0 for the gene\n",
    "pval_cutoff = 0.001 # max adjusted p-value requeired to consider a gene as DEG\n",
    "logFC_cutoff = 0.2 # min logFC to consider a gene as DEG\n",
    "strict_DEG = F # Boolean, True if both partner in an interactions should be differentially expressed. False, if only one partner gene is requires to be a DEGs "
   ]
  },
  {
   "cell_type": "code",
   "execution_count": 3,
   "metadata": {},
   "outputs": [],
   "source": [
    "# Load cellphone database - genes and complexes file\n",
    "# Gene names\n",
    "genes_cpDB = read.delim('~/gonads/main/cellphoneDB/hsa_uniprot.txt', stringsAsFactors = F, sep = '\\t')\n",
    "\n",
    "# Complexes members\n",
    "com_cpDB = read.csv('~/gonads/main/cellphoneDB/database/complex_curated_032021.tsv', stringsAsFactors = F, sep='\\t')\n",
    "com_cpDB = unique(com_cpDB)\n",
    "com_cpDB$complex_name = paste0('complex:', com_cpDB$complex_name)\n",
    "# Generate complexes2gene symbol dictionary\n",
    "Com2Gene = lapply(com_cpDB$complex_name, function(cx) subset(genes_cpDB, uniprot %in% unlist(com_cpDB[com_cpDB$complex_name == cx, 2:5]) )$gene_name )\n",
    "Com2Gene = lapply(Com2Gene, unique)\n",
    "names(Com2Gene) = com_cpDB$complex_name\n",
    "                  \n",
    "# Load interactions from cellphoneDB/out/means.txt output file                   \n",
    "int_cpDB = read.delim('~/gonads/main/cellphoneDB/out/means.txt', stringsAsFactors = F)[, 1:10]\n",
    "# MANDATORY: remove \"curated\" because we have cleaned and renamed them (this is a long story, just do it)\n",
    "int_cpDB = subset(int_cpDB, annotation_strategy != 'curated')\n",
    "# OPTIONAL: Use only user_curated interactions?\n",
    "if(filter_int_user_curated)\n",
    "    int_cpDB = subset(int_cpDB, annotation_strategy == 'user_curated')\n",
    "# Generate Int2Gene dictionary\n",
    "Int2Gene = apply(int_cpDB, 1, function(int) {\n",
    "    int = unname(int)\n",
    "    if(int[5] == '') # if partnerA is complex, then retrieve members from dictionary\n",
    "       partnerA = Com2Gene[[int[3]]]\n",
    "    else  # if partnerA is a single gene, take name from file\n",
    "       partnerA = int[5]\n",
    "    if(int[6] == '')  # if partnerB is complex, then retrieve members from dictionary\n",
    "       partnerB = Com2Gene[[int[4]]]\n",
    "    else  # if partnerB is a single gene, take name from file\n",
    "       partnerB = int[6]\n",
    "    list(partner_a=partnerA,partner_b=partnerB)\n",
    "    }) \n",
    "names(Int2Gene) = int_cpDB$interacting_pair"
   ]
  },
  {
   "cell_type": "code",
   "execution_count": 4,
   "metadata": {},
   "outputs": [
    {
     "data": {
      "text/html": [
       "<style>\n",
       ".dl-inline {width: auto; margin:0; padding: 0}\n",
       ".dl-inline>dt, .dl-inline>dd {float: none; width: auto; display: inline-block}\n",
       ".dl-inline>dt::after {content: \":\\0020\"; padding-right: .5ex}\n",
       ".dl-inline>dt:not(:first-of-type) {padding-left: .5ex}\n",
       "</style><dl class=dl-inline><dt>PGC</dt><dd>9634</dd><dt>PGC_mitotic</dt><dd>10265</dd><dt>coelEpi</dt><dd>7472</dd><dt>oocyte</dt><dd>8315</dd><dt>oogonia_STRA8</dt><dd>10418</dd><dt>oogonia_meiosis</dt><dd>7305</dd><dt>pre.spermatogonia</dt><dd>10300</dd><dt>sPAX8m</dt><dd>6410</dd><dt>Sertoli</dt><dd>6271</dd><dt>Sertoli_WFDC2</dt><dd>8278</dd><dt>ovarianSurf</dt><dd>8223</dd><dt>preGC_II</dt><dd>7515</dd><dt>preGC_III</dt><dd>7718</dd><dt>preGC_III_Notch</dt><dd>7876</dd><dt>preGC_II_hypoxia</dt><dd>8572</dd><dt>preGC_I_OSR1</dt><dd>8197</dd><dt>sKITLG</dt><dd>7937</dd><dt>sLGR5_female</dt><dd>8198</dd><dt>sLGR5_male</dt><dd>7808</dd><dt>sPAX8b</dt><dd>6533</dd></dl>\n"
      ],
      "text/latex": [
       "\\begin{description*}\n",
       "\\item[PGC] 9634\n",
       "\\item[PGC\\textbackslash{}\\_mitotic] 10265\n",
       "\\item[coelEpi] 7472\n",
       "\\item[oocyte] 8315\n",
       "\\item[oogonia\\textbackslash{}\\_STRA8] 10418\n",
       "\\item[oogonia\\textbackslash{}\\_meiosis] 7305\n",
       "\\item[pre.spermatogonia] 10300\n",
       "\\item[sPAX8m] 6410\n",
       "\\item[Sertoli] 6271\n",
       "\\item[Sertoli\\textbackslash{}\\_WFDC2] 8278\n",
       "\\item[ovarianSurf] 8223\n",
       "\\item[preGC\\textbackslash{}\\_II] 7515\n",
       "\\item[preGC\\textbackslash{}\\_III] 7718\n",
       "\\item[preGC\\textbackslash{}\\_III\\textbackslash{}\\_Notch] 7876\n",
       "\\item[preGC\\textbackslash{}\\_II\\textbackslash{}\\_hypoxia] 8572\n",
       "\\item[preGC\\textbackslash{}\\_I\\textbackslash{}\\_OSR1] 8197\n",
       "\\item[sKITLG] 7937\n",
       "\\item[sLGR5\\textbackslash{}\\_female] 8198\n",
       "\\item[sLGR5\\textbackslash{}\\_male] 7808\n",
       "\\item[sPAX8b] 6533\n",
       "\\end{description*}\n"
      ],
      "text/markdown": [
       "PGC\n",
       ":   9634PGC_mitotic\n",
       ":   10265coelEpi\n",
       ":   7472oocyte\n",
       ":   8315oogonia_STRA8\n",
       ":   10418oogonia_meiosis\n",
       ":   7305pre.spermatogonia\n",
       ":   10300sPAX8m\n",
       ":   6410Sertoli\n",
       ":   6271Sertoli_WFDC2\n",
       ":   8278ovarianSurf\n",
       ":   8223preGC_II\n",
       ":   7515preGC_III\n",
       ":   7718preGC_III_Notch\n",
       ":   7876preGC_II_hypoxia\n",
       ":   8572preGC_I_OSR1\n",
       ":   8197sKITLG\n",
       ":   7937sLGR5_female\n",
       ":   8198sLGR5_male\n",
       ":   7808sPAX8b\n",
       ":   6533\n",
       "\n"
      ],
      "text/plain": [
       "              PGC       PGC_mitotic           coelEpi            oocyte \n",
       "             9634             10265              7472              8315 \n",
       "    oogonia_STRA8   oogonia_meiosis pre.spermatogonia            sPAX8m \n",
       "            10418              7305             10300              6410 \n",
       "          Sertoli     Sertoli_WFDC2       ovarianSurf          preGC_II \n",
       "             6271              8278              8223              7515 \n",
       "        preGC_III   preGC_III_Notch  preGC_II_hypoxia      preGC_I_OSR1 \n",
       "             7718              7876              8572              8197 \n",
       "           sKITLG      sLGR5_female        sLGR5_male            sPAX8b \n",
       "             7937              8198              7808              6533 "
      ]
     },
     "metadata": {},
     "output_type": "display_data"
    }
   ],
   "source": [
    "# Load somatic cells DEGs\n",
    "# you need to put in a folder a file for each cluster that you included in cellphone\n",
    "# The file must contain at least three columns (aka, you can reuse the output of the DEG files):\n",
    "# - Gene: gene symbol\n",
    "# - cluster: cell type\n",
    "# - percentExpr_cluster: % of cells in the cluster with expression > 0 for the gene\n",
    "path_Exp = 'cellphoneDB/input/percent.csv'\n",
    "\n",
    "\n",
    "# Load\n",
    "Per_df = read.csv(path_Exp, stringsAsFactors = F, row.names = 1) \n",
    "Per_df = setNames(melt(as.matrix(Per_df), factorsAsStrings = T), c('gene', 'cluster', 'percent'))\n",
    "\n",
    "\n",
    "# Filetr expressed\n",
    "Per_df = subset(Per_df, percent >= per_cutoff)\n",
    "Per_df = Per_df[ order(Per_df$gene), ]\n",
    "\n",
    "# Build dictionary clusters2expressed genes\n",
    "clusters = unique(Per_df$cluster)\n",
    "is_Exp = lapply(clusters, function(cl){\n",
    "    filter(Per_df, cluster == cl)$gene\n",
    "})\n",
    "names(is_Exp) = clusters\n",
    "sapply(is_Exp, length)\n",
    "names(is_Exp) = gsub('pre.spermatogonia', 'pre-spermatogonia', names(is_Exp))"
   ]
  },
  {
   "cell_type": "code",
   "execution_count": 5,
   "metadata": {},
   "outputs": [
    {
     "data": {
      "text/html": [
       "<style>\n",
       ".dl-inline {width: auto; margin:0; padding: 0}\n",
       ".dl-inline>dt, .dl-inline>dd {float: none; width: auto; display: inline-block}\n",
       ".dl-inline>dt::after {content: \":\\0020\"; padding-right: .5ex}\n",
       ".dl-inline>dt:not(:first-of-type) {padding-left: .5ex}\n",
       "</style><dl class=dl-inline><dt>PGC</dt><dd>552</dd><dt>PGC_mitotic</dt><dd>541</dd><dt>coelEpi</dt><dd>511</dd><dt>oocyte</dt><dd>740</dd><dt>oogonia_STRA8</dt><dd>573</dd><dt>oogonia_meiosis</dt><dd>445</dd><dt>pre.spermatogonia</dt><dd>0</dd><dt>sPAX8m</dt><dd>363</dd><dt>Sertoli</dt><dd>1105</dd><dt>Sertoli_WFDC2</dt><dd>686</dd><dt>ovarianSurf</dt><dd>344</dd><dt>preGC_II</dt><dd>181</dd><dt>preGC_III</dt><dd>396</dd><dt>preGC_III_Notch</dt><dd>798</dd><dt>preGC_II_hypoxia</dt><dd>261</dd><dt>preGC_I_OSR1</dt><dd>370</dd><dt>sKITLG</dt><dd>244</dd><dt>sLGR5_female</dt><dd>432</dd><dt>sLGR5_male</dt><dd>669</dd><dt>sPAX8b</dt><dd>514</dd></dl>\n"
      ],
      "text/latex": [
       "\\begin{description*}\n",
       "\\item[PGC] 552\n",
       "\\item[PGC\\textbackslash{}\\_mitotic] 541\n",
       "\\item[coelEpi] 511\n",
       "\\item[oocyte] 740\n",
       "\\item[oogonia\\textbackslash{}\\_STRA8] 573\n",
       "\\item[oogonia\\textbackslash{}\\_meiosis] 445\n",
       "\\item[pre.spermatogonia] 0\n",
       "\\item[sPAX8m] 363\n",
       "\\item[Sertoli] 1105\n",
       "\\item[Sertoli\\textbackslash{}\\_WFDC2] 686\n",
       "\\item[ovarianSurf] 344\n",
       "\\item[preGC\\textbackslash{}\\_II] 181\n",
       "\\item[preGC\\textbackslash{}\\_III] 396\n",
       "\\item[preGC\\textbackslash{}\\_III\\textbackslash{}\\_Notch] 798\n",
       "\\item[preGC\\textbackslash{}\\_II\\textbackslash{}\\_hypoxia] 261\n",
       "\\item[preGC\\textbackslash{}\\_I\\textbackslash{}\\_OSR1] 370\n",
       "\\item[sKITLG] 244\n",
       "\\item[sLGR5\\textbackslash{}\\_female] 432\n",
       "\\item[sLGR5\\textbackslash{}\\_male] 669\n",
       "\\item[sPAX8b] 514\n",
       "\\end{description*}\n"
      ],
      "text/markdown": [
       "PGC\n",
       ":   552PGC_mitotic\n",
       ":   541coelEpi\n",
       ":   511oocyte\n",
       ":   740oogonia_STRA8\n",
       ":   573oogonia_meiosis\n",
       ":   445pre.spermatogonia\n",
       ":   0sPAX8m\n",
       ":   363Sertoli\n",
       ":   1105Sertoli_WFDC2\n",
       ":   686ovarianSurf\n",
       ":   344preGC_II\n",
       ":   181preGC_III\n",
       ":   396preGC_III_Notch\n",
       ":   798preGC_II_hypoxia\n",
       ":   261preGC_I_OSR1\n",
       ":   370sKITLG\n",
       ":   244sLGR5_female\n",
       ":   432sLGR5_male\n",
       ":   669sPAX8b\n",
       ":   514\n",
       "\n"
      ],
      "text/plain": [
       "              PGC       PGC_mitotic           coelEpi            oocyte \n",
       "              552               541               511               740 \n",
       "    oogonia_STRA8   oogonia_meiosis pre.spermatogonia            sPAX8m \n",
       "              573               445                 0               363 \n",
       "          Sertoli     Sertoli_WFDC2       ovarianSurf          preGC_II \n",
       "             1105               686               344               181 \n",
       "        preGC_III   preGC_III_Notch  preGC_II_hypoxia      preGC_I_OSR1 \n",
       "              396               798               261               370 \n",
       "           sKITLG      sLGR5_female        sLGR5_male            sPAX8b \n",
       "              244               432               669               514 "
      ]
     },
     "metadata": {},
     "output_type": "display_data"
    }
   ],
   "source": [
    "# load DE expression info\n",
    "# you need to put in a folder the DE files of the clusters that you're interested in\n",
    "# The file must contain at least four columns (aka, you can reuse the output of the DEG files):\n",
    "# - Gene: gene symbol\n",
    "# - cluster: cell type\n",
    "# - adj.P.Val: adjusted p-value from the DE test\n",
    "# - logFC: from the DE test\n",
    "path_DEGs = 'cellphoneDB/input/DEGs/merged.csv'\n",
    "\n",
    "\n",
    "# Load\n",
    "DE_df = read.csv(path_DEGs, stringsAsFactors = F) %>%\n",
    "        filter(., gene %in% genes_cpDB$gene_name) %>%\n",
    "        filter(., p_val_adj < pval_cutoff) %>%\n",
    "        filter(., avg_logFC > logFC_cutoff)\n",
    "        \n",
    "\n",
    "\n",
    "# Build dictionary clusters2expressed genes\n",
    "clusters = unique(Per_df$cluster)\n",
    "is_DE = lapply(clusters, function(cl){\n",
    "    filter(DE_df, cluster == cl)$gene\n",
    "})\n",
    "names(is_DE) = clusters\n",
    "  \n",
    "sapply(is_DE, length)\n",
    "names(is_DE) = gsub('pre.spermatogonia', 'pre-spermatogonia', names(is_DE))"
   ]
  },
  {
   "cell_type": "code",
   "execution_count": 6,
   "metadata": {},
   "outputs": [
    {
     "data": {
      "text/html": [
       "190"
      ],
      "text/latex": [
       "190"
      ],
      "text/markdown": [
       "190"
      ],
      "text/plain": [
       "[1] 190"
      ]
     },
     "metadata": {},
     "output_type": "display_data"
    }
   ],
   "source": [
    "# Get all pairwise cluster combinations: A--B, B--A\n",
    "cluster_combinations = combn(names(is_Exp), 2, simplify = T)\n",
    "ncol(cluster_combinations)\n",
    "\n",
    "# add self interactions\n",
    "cluster_combinations = cbind(sapply(names(is_Exp), function(x) rep(x, 2) ), cluster_combinations)\n",
    "\n",
    "\n",
    "# We only want to test pairs including at least one cluster in the DE folder (here, epithelial)\n",
    "keep = apply(cluster_combinations, 2, function(x) any(x %in% names(is_DE)))\n",
    "cluster_combinations = cluster_combinations[, keep]\n",
    "             \n",
    "# # We only want to test pairs including at least one cluster named 'media'\n",
    "# keep = apply(cluster_combinations, 2, function(x) any(x %in% 'Media'))\n",
    "# cluster_combinations = cluster_combinations[, keep]\n",
    "# ncol(cluster_combinations)\n",
    "\n",
    "# Consider the reverse interaction too: A--B but B--A as well\n",
    "cluster_combinations = cbind(cluster_combinations, cluster_combinations[2:1,]) %>% t(.) %>% unique(.)  %>% t(.) "
   ]
  },
  {
   "cell_type": "code",
   "execution_count": 7,
   "metadata": {},
   "outputs": [],
   "source": [
    "micro_df = read.csv('cellphoneDB/input/microenviroments/microenviroments.csv', stringsAsFactors = F)\n",
    "microenviroments = split(micro_df, micro_df$microenviroment)  %>%  sapply(., select, celltype)\n",
    "\n",
    "# Filter interactions within microenviroments\n",
    "within_idx = c()\n",
    "for (mienv in microenviroments){\n",
    "    x = apply(cluster_combinations, 1, function(x) x %in% mienv) \n",
    "    within_idx = c(within_idx,\n",
    "                   which(x[, 1] + x[, 2] == 2))\n",
    "}\n",
    "cluster_combinations = cluster_combinations[, within_idx]\n",
    "              "
   ]
  },
  {
   "cell_type": "code",
   "execution_count": 8,
   "metadata": {},
   "outputs": [
    {
     "data": {
      "text/html": [
       "162"
      ],
      "text/latex": [
       "162"
      ],
      "text/markdown": [
       "162"
      ],
      "text/plain": [
       "[1] 162"
      ]
     },
     "metadata": {},
     "output_type": "display_data"
    }
   ],
   "source": [
    "# Make cluster pair labels: celltypeA--celltypeB             \n",
    "cluster_combinations_labels = apply(cluster_combinations, 2, paste, collapse = '---')\n",
    "ncol(cluster_combinations)\n",
    "             \n",
    "colnames(cluster_combinations) = cluster_combinations_labels"
   ]
  },
  {
   "cell_type": "code",
   "execution_count": 9,
   "metadata": {},
   "outputs": [
    {
     "data": {
      "text/html": [
       "<style>\n",
       ".list-inline {list-style: none; margin:0; padding: 0}\n",
       ".list-inline>li {display: inline-block}\n",
       ".list-inline>li:not(:last-child)::after {content: \"\\00b7\"; padding: 0 .5ex}\n",
       "</style>\n",
       "<ol class=list-inline><li>1674</li><li>162</li></ol>\n"
      ],
      "text/latex": [
       "\\begin{enumerate*}\n",
       "\\item 1674\n",
       "\\item 162\n",
       "\\end{enumerate*}\n"
      ],
      "text/markdown": [
       "1. 1674\n",
       "2. 162\n",
       "\n",
       "\n"
      ],
      "text/plain": [
       "[1] 1674  162"
      ]
     },
     "metadata": {},
     "output_type": "display_data"
    }
   ],
   "source": [
    "# Make scaffold matrix: L/R interactions (rows) x celltype pairs (columns)\n",
    "E = matrix(0, nrow = length(Int2Gene), ncol = length(cluster_combinations_labels), \n",
    "           dimnames = list(names(Int2Gene), cluster_combinations_labels) )\n",
    "dim(E) # is it big?"
   ]
  },
  {
   "cell_type": "code",
   "execution_count": 10,
   "metadata": {},
   "outputs": [],
   "source": [
    "# E will be a binary matrix with 1 indicating that all the genes in the interaction are expressed in the corresponding celltype\n",
    "# So, fill 1 if all genes are expressed in all clusters\n",
    "for (Int in rownames(E)){ # iterate over interactions\n",
    "    for (clpair in colnames(E)){ # iterate over celltype pairs\n",
    "        cl_A = cluster_combinations[1, clpair] # celltype_A\n",
    "        cl_B = cluster_combinations[2, clpair] # celltype_B\n",
    "        are_all_expressed = all(Int2Gene[[Int]]$partner_a %in% is_Exp[[cl_A]]) &&  # are all partner_A genes expressed in celltype_A\n",
    "                            all(Int2Gene[[Int]]$partner_b %in% is_Exp[[cl_B]])     # are all partner_B genes expressed in celltype_B\n",
    "        if(are_all_expressed)\n",
    "            E[Int, clpair] = 1\n",
    "    }\n",
    "}"
   ]
  },
  {
   "cell_type": "code",
   "execution_count": 11,
   "metadata": {},
   "outputs": [
    {
     "data": {
      "text/html": [
       "<style>\n",
       ".list-inline {list-style: none; margin:0; padding: 0}\n",
       ".list-inline>li {display: inline-block}\n",
       ".list-inline>li:not(:last-child)::after {content: \"\\00b7\"; padding: 0 .5ex}\n",
       "</style>\n",
       "<ol class=list-inline><li>1674</li><li>158</li></ol>\n"
      ],
      "text/latex": [
       "\\begin{enumerate*}\n",
       "\\item 1674\n",
       "\\item 158\n",
       "\\end{enumerate*}\n"
      ],
      "text/markdown": [
       "1. 1674\n",
       "2. 158\n",
       "\n",
       "\n"
      ],
      "text/plain": [
       "[1] 1674  158"
      ]
     },
     "metadata": {},
     "output_type": "display_data"
    },
    {
     "data": {
      "text/html": [
       "9019"
      ],
      "text/latex": [
       "9019"
      ],
      "text/markdown": [
       "9019"
      ],
      "text/plain": [
       "[1] 9019"
      ]
     },
     "metadata": {},
     "output_type": "display_data"
    }
   ],
   "source": [
    "# keep celltypepairs with at least one expressed interaction\n",
    "keep = apply(E, 2, sum) > 0\n",
    "E = E[,keep]\n",
    "# is it big?\n",
    "dim(E)\n",
    "sum(E)"
   ]
  },
  {
   "cell_type": "code",
   "execution_count": 12,
   "metadata": {},
   "outputs": [
    {
     "data": {
      "text/html": [
       "<style>\n",
       ".list-inline {list-style: none; margin:0; padding: 0}\n",
       ".list-inline>li {display: inline-block}\n",
       ".list-inline>li:not(:last-child)::after {content: \"\\00b7\"; padding: 0 .5ex}\n",
       "</style>\n",
       "<ol class=list-inline><li>464</li><li>158</li></ol>\n"
      ],
      "text/latex": [
       "\\begin{enumerate*}\n",
       "\\item 464\n",
       "\\item 158\n",
       "\\end{enumerate*}\n"
      ],
      "text/markdown": [
       "1. 464\n",
       "2. 158\n",
       "\n",
       "\n"
      ],
      "text/plain": [
       "[1] 464 158"
      ]
     },
     "metadata": {},
     "output_type": "display_data"
    },
    {
     "data": {
      "text/html": [
       "9019"
      ],
      "text/latex": [
       "9019"
      ],
      "text/markdown": [
       "9019"
      ],
      "text/plain": [
       "[1] 9019"
      ]
     },
     "metadata": {},
     "output_type": "display_data"
    }
   ],
   "source": [
    "# keep interactions expressed in at least one celltype pair\n",
    "keep = apply(E, 1, sum) > 0\n",
    "E = E[keep,]\n",
    "# is it big?\n",
    "dim(E)\n",
    "sum(E)"
   ]
  },
  {
   "cell_type": "code",
   "execution_count": 13,
   "metadata": {},
   "outputs": [],
   "source": [
    "# Initialize DE matrix from E and set all values to 0\n",
    "# DE will be a binary matrix with 1 indicating that all the genes in the interaction are expressed in the corresponding celltype\n",
    "# and one is a DE in the celltypes of interests\n",
    "DE = E\n",
    "DE[] = 0"
   ]
  },
  {
   "cell_type": "code",
   "execution_count": 14,
   "metadata": {},
   "outputs": [],
   "source": [
    "if (strict_DEG){\n",
    "    # Fill 1 if BOTH GENES in the interaction is DE\n",
    "    for (Int in rownames(DE)){ # iterate over interactions\n",
    "        for (clpair in colnames(DE)){ # iterate over celltype pairs\n",
    "            cl_A = cluster_combinations[1, clpair] # celltype_A\n",
    "            cl_B = cluster_combinations[2, clpair] # celltype_B\n",
    "            any_DE = any(Int2Gene[[Int]]$partner_a %in% is_DE[[cl_A]]) &&  # is any partner_A gene DE in celltype_A\n",
    "                     any(Int2Gene[[Int]]$partner_b %in% is_DE[[cl_B]])     # is any partner_B gene DE in celltype_B\n",
    "            if(any_DE & E[Int, clpair] == 1) # check all members are expressed\n",
    "                DE[Int, clpair] = 1\n",
    "        }\n",
    "    }\n",
    "}else{\n",
    "    #Fill 1 if at least one gene in the interaction is DE\n",
    "    for (Int in rownames(DE)){ # iterate over interactions\n",
    "        for (clpair in colnames(DE)){ # iterate over celltype pairs\n",
    "            cl_A = cluster_combinations[1, clpair] # celltype_A\n",
    "            cl_B = cluster_combinations[2, clpair] # celltype_B\n",
    "            any_DE = any(Int2Gene[[Int]]$partner_a %in% is_DE[[cl_A]]) ||  # is any partner_A gene DE in celltype_A\n",
    "                     any(Int2Gene[[Int]]$partner_b %in% is_DE[[cl_B]])     # is any partner_B gene DE in celltype_B\n",
    "            if(any_DE & E[Int, clpair] == 1) # check all members are expressed\n",
    "                DE[Int, clpair] = 1\n",
    "        }\n",
    "    }\n",
    "}"
   ]
  },
  {
   "cell_type": "code",
   "execution_count": 15,
   "metadata": {},
   "outputs": [
    {
     "data": {
      "text/html": [
       "<style>\n",
       ".list-inline {list-style: none; margin:0; padding: 0}\n",
       ".list-inline>li {display: inline-block}\n",
       ".list-inline>li:not(:last-child)::after {content: \"\\00b7\"; padding: 0 .5ex}\n",
       "</style>\n",
       "<ol class=list-inline><li>377</li><li>157</li></ol>\n"
      ],
      "text/latex": [
       "\\begin{enumerate*}\n",
       "\\item 377\n",
       "\\item 157\n",
       "\\end{enumerate*}\n"
      ],
      "text/markdown": [
       "1. 377\n",
       "2. 157\n",
       "\n",
       "\n"
      ],
      "text/plain": [
       "[1] 377 157"
      ]
     },
     "metadata": {},
     "output_type": "display_data"
    },
    {
     "data": {
      "text/html": [
       "3414"
      ],
      "text/latex": [
       "3414"
      ],
      "text/markdown": [
       "3414"
      ],
      "text/plain": [
       "[1] 3414"
      ]
     },
     "metadata": {},
     "output_type": "display_data"
    }
   ],
   "source": [
    "# keep celltypepairs with at least one expressed interaction\n",
    "keep = apply(DE, 2, sum) > 0\n",
    "DE = DE[,keep]\n",
    "\n",
    "# keep interactions expressed in at least one celltype pair\n",
    "keep = apply(DE, 1, sum) > 0\n",
    "DE = DE[keep,]\n",
    "\n",
    "# is it big?\n",
    "dim(DE)\n",
    "sum(DE)\n"
   ]
  },
  {
   "cell_type": "code",
   "execution_count": 16,
   "metadata": {},
   "outputs": [],
   "source": [
    "write.csv(DE, file = paste0('cellphoneDB/out/interactions_' , pval_cutoff, '_logFC', logFC_cutoff, '.csv'))"
   ]
  },
  {
   "cell_type": "code",
   "execution_count": 17,
   "metadata": {},
   "outputs": [
    {
     "data": {
      "text/html": [
       "<style>\n",
       ".list-inline {list-style: none; margin:0; padding: 0}\n",
       ".list-inline>li {display: inline-block}\n",
       ".list-inline>li:not(:last-child)::after {content: \"\\00b7\"; padding: 0 .5ex}\n",
       "</style>\n",
       "<ol class=list-inline><li>'RAreceptor_RARA_atRetinoicAcid_byALDH1A1'</li><li>'RAreceptor_RARA_RXRA_atRetinoicAcid_byALDH1A1'</li><li>'RAreceptor_RARB_atRetinoicAcid_byALDH1A1'</li><li>'RAreceptor_RARB_RXRB_atRetinoicAcid_byALDH1A1'</li><li>'RAreceptor_RARG_atRetinoicAcid_byALDH1A1'</li><li>'RAreceptor_RXRA_atRetinoicAcid_byALDH1A1'</li><li>'RAreceptor_RXRB_atRetinoicAcid_byALDH1A1'</li><li>'RAreceptor_RXRG_atRetinoicAcid_byALDH1A1'</li><li>'RAreceptor_RARA_atRetinoicAcid_byALDH1A2'</li><li>'RAreceptor_RARA_RXRA_atRetinoicAcid_byALDH1A2'</li><li>'RAreceptor_RARB_atRetinoicAcid_byALDH1A2'</li><li>'RAreceptor_RARB_RXRB_atRetinoicAcid_byALDH1A2'</li><li>'RAreceptor_RARG_atRetinoicAcid_byALDH1A2'</li><li>'RAreceptor_RXRA_atRetinoicAcid_byALDH1A2'</li><li>'RAreceptor_RXRB_atRetinoicAcid_byALDH1A2'</li><li>'RAreceptor_RXRG_atRetinoicAcid_byALDH1A2'</li></ol>\n"
      ],
      "text/latex": [
       "\\begin{enumerate*}\n",
       "\\item 'RAreceptor\\_RARA\\_atRetinoicAcid\\_byALDH1A1'\n",
       "\\item 'RAreceptor\\_RARA\\_RXRA\\_atRetinoicAcid\\_byALDH1A1'\n",
       "\\item 'RAreceptor\\_RARB\\_atRetinoicAcid\\_byALDH1A1'\n",
       "\\item 'RAreceptor\\_RARB\\_RXRB\\_atRetinoicAcid\\_byALDH1A1'\n",
       "\\item 'RAreceptor\\_RARG\\_atRetinoicAcid\\_byALDH1A1'\n",
       "\\item 'RAreceptor\\_RXRA\\_atRetinoicAcid\\_byALDH1A1'\n",
       "\\item 'RAreceptor\\_RXRB\\_atRetinoicAcid\\_byALDH1A1'\n",
       "\\item 'RAreceptor\\_RXRG\\_atRetinoicAcid\\_byALDH1A1'\n",
       "\\item 'RAreceptor\\_RARA\\_atRetinoicAcid\\_byALDH1A2'\n",
       "\\item 'RAreceptor\\_RARA\\_RXRA\\_atRetinoicAcid\\_byALDH1A2'\n",
       "\\item 'RAreceptor\\_RARB\\_atRetinoicAcid\\_byALDH1A2'\n",
       "\\item 'RAreceptor\\_RARB\\_RXRB\\_atRetinoicAcid\\_byALDH1A2'\n",
       "\\item 'RAreceptor\\_RARG\\_atRetinoicAcid\\_byALDH1A2'\n",
       "\\item 'RAreceptor\\_RXRA\\_atRetinoicAcid\\_byALDH1A2'\n",
       "\\item 'RAreceptor\\_RXRB\\_atRetinoicAcid\\_byALDH1A2'\n",
       "\\item 'RAreceptor\\_RXRG\\_atRetinoicAcid\\_byALDH1A2'\n",
       "\\end{enumerate*}\n"
      ],
      "text/markdown": [
       "1. 'RAreceptor_RARA_atRetinoicAcid_byALDH1A1'\n",
       "2. 'RAreceptor_RARA_RXRA_atRetinoicAcid_byALDH1A1'\n",
       "3. 'RAreceptor_RARB_atRetinoicAcid_byALDH1A1'\n",
       "4. 'RAreceptor_RARB_RXRB_atRetinoicAcid_byALDH1A1'\n",
       "5. 'RAreceptor_RARG_atRetinoicAcid_byALDH1A1'\n",
       "6. 'RAreceptor_RXRA_atRetinoicAcid_byALDH1A1'\n",
       "7. 'RAreceptor_RXRB_atRetinoicAcid_byALDH1A1'\n",
       "8. 'RAreceptor_RXRG_atRetinoicAcid_byALDH1A1'\n",
       "9. 'RAreceptor_RARA_atRetinoicAcid_byALDH1A2'\n",
       "10. 'RAreceptor_RARA_RXRA_atRetinoicAcid_byALDH1A2'\n",
       "11. 'RAreceptor_RARB_atRetinoicAcid_byALDH1A2'\n",
       "12. 'RAreceptor_RARB_RXRB_atRetinoicAcid_byALDH1A2'\n",
       "13. 'RAreceptor_RARG_atRetinoicAcid_byALDH1A2'\n",
       "14. 'RAreceptor_RXRA_atRetinoicAcid_byALDH1A2'\n",
       "15. 'RAreceptor_RXRB_atRetinoicAcid_byALDH1A2'\n",
       "16. 'RAreceptor_RXRG_atRetinoicAcid_byALDH1A2'\n",
       "\n",
       "\n"
      ],
      "text/plain": [
       " [1] \"RAreceptor_RARA_atRetinoicAcid_byALDH1A1\"     \n",
       " [2] \"RAreceptor_RARA_RXRA_atRetinoicAcid_byALDH1A1\"\n",
       " [3] \"RAreceptor_RARB_atRetinoicAcid_byALDH1A1\"     \n",
       " [4] \"RAreceptor_RARB_RXRB_atRetinoicAcid_byALDH1A1\"\n",
       " [5] \"RAreceptor_RARG_atRetinoicAcid_byALDH1A1\"     \n",
       " [6] \"RAreceptor_RXRA_atRetinoicAcid_byALDH1A1\"     \n",
       " [7] \"RAreceptor_RXRB_atRetinoicAcid_byALDH1A1\"     \n",
       " [8] \"RAreceptor_RXRG_atRetinoicAcid_byALDH1A1\"     \n",
       " [9] \"RAreceptor_RARA_atRetinoicAcid_byALDH1A2\"     \n",
       "[10] \"RAreceptor_RARA_RXRA_atRetinoicAcid_byALDH1A2\"\n",
       "[11] \"RAreceptor_RARB_atRetinoicAcid_byALDH1A2\"     \n",
       "[12] \"RAreceptor_RARB_RXRB_atRetinoicAcid_byALDH1A2\"\n",
       "[13] \"RAreceptor_RARG_atRetinoicAcid_byALDH1A2\"     \n",
       "[14] \"RAreceptor_RXRA_atRetinoicAcid_byALDH1A2\"     \n",
       "[15] \"RAreceptor_RXRB_atRetinoicAcid_byALDH1A2\"     \n",
       "[16] \"RAreceptor_RXRG_atRetinoicAcid_byALDH1A2\"     "
      ]
     },
     "metadata": {},
     "output_type": "display_data"
    }
   ],
   "source": [
    "rownames(DE)[ grep('RAr', rownames(DE)) ]\n",
    "\n"
   ]
  },
  {
   "cell_type": "code",
   "execution_count": 18,
   "metadata": {},
   "outputs": [
    {
     "data": {
      "text/html": [
       "<style>\n",
       ".list-inline {list-style: none; margin:0; padding: 0}\n",
       ".list-inline>li {display: inline-block}\n",
       ".list-inline>li:not(:last-child)::after {content: \"\\00b7\"; padding: 0 .5ex}\n",
       "</style>\n",
       "<ol class=list-inline><li>'PGC---PGC'</li><li>'PGC_mitotic---PGC_mitotic'</li><li>'coelEpi---coelEpi'</li><li>'ovarianSurf---ovarianSurf'</li><li>'preGC_II---preGC_II'</li><li>'preGC_II_hypoxia---preGC_II_hypoxia'</li><li>'sKITLG---sKITLG'</li><li>'sLGR5_female---sLGR5_female'</li><li>'PGC---PGC_mitotic'</li><li>'PGC---coelEpi'</li><li>'PGC---ovarianSurf'</li><li>'PGC---preGC_II'</li><li>'PGC---preGC_II_hypoxia'</li><li>'PGC---sKITLG'</li><li>'PGC---sLGR5_female'</li><li>'PGC_mitotic---coelEpi'</li><li>'PGC_mitotic---ovarianSurf'</li><li>'PGC_mitotic---preGC_II'</li><li>'PGC_mitotic---preGC_II_hypoxia'</li><li>'PGC_mitotic---sKITLG'</li><li>'PGC_mitotic---sLGR5_female'</li><li>'coelEpi---ovarianSurf'</li><li>'coelEpi---preGC_II'</li><li>'coelEpi---preGC_II_hypoxia'</li><li>'coelEpi---sKITLG'</li><li>'coelEpi---sLGR5_female'</li><li>'ovarianSurf---preGC_II'</li><li>'ovarianSurf---preGC_II_hypoxia'</li><li>'ovarianSurf---sKITLG'</li><li>'ovarianSurf---sLGR5_female'</li><li>'preGC_II---preGC_II_hypoxia'</li><li>'preGC_II---sKITLG'</li><li>'preGC_II---sLGR5_female'</li><li>'preGC_II_hypoxia---sKITLG'</li><li>'preGC_II_hypoxia---sLGR5_female'</li><li>'sKITLG---sLGR5_female'</li><li>'PGC_mitotic---PGC'</li><li>'coelEpi---PGC'</li><li>'ovarianSurf---PGC'</li><li>'preGC_II---PGC'</li><li>'preGC_II_hypoxia---PGC'</li><li>'sKITLG---PGC'</li><li>'sLGR5_female---PGC'</li><li>'coelEpi---PGC_mitotic'</li><li>'ovarianSurf---PGC_mitotic'</li><li>'preGC_II---PGC_mitotic'</li><li>'preGC_II_hypoxia---PGC_mitotic'</li><li>'sKITLG---PGC_mitotic'</li><li>'sLGR5_female---PGC_mitotic'</li><li>'ovarianSurf---coelEpi'</li><li>'preGC_II---coelEpi'</li><li>'preGC_II_hypoxia---coelEpi'</li><li>'sKITLG---coelEpi'</li><li>'sLGR5_female---coelEpi'</li><li>'preGC_II---ovarianSurf'</li><li>'preGC_II_hypoxia---ovarianSurf'</li><li>'sKITLG---ovarianSurf'</li><li>'sLGR5_female---ovarianSurf'</li><li>'preGC_II_hypoxia---preGC_II'</li><li>'sKITLG---preGC_II'</li><li>'sLGR5_female---preGC_II'</li><li>'sKITLG---preGC_II_hypoxia'</li><li>'sLGR5_female---preGC_II_hypoxia'</li><li>'sLGR5_female---sKITLG'</li><li>'oocyte---oocyte'</li><li>'oogonia_STRA8---oogonia_STRA8'</li><li>'oogonia_meiosis---oogonia_meiosis'</li><li>'preGC_III---preGC_III'</li><li>'preGC_III_Notch---preGC_III_Notch'</li><li>'preGC_I_OSR1---preGC_I_OSR1'</li><li>'sPAX8b---sPAX8b'</li><li>'oocyte---oogonia_STRA8'</li><li>'oocyte---oogonia_meiosis'</li><li>'oocyte---preGC_III'</li><li>'oocyte---preGC_III_Notch'</li><li>'oocyte---preGC_I_OSR1'</li><li>'oocyte---sPAX8b'</li><li>'oogonia_STRA8---oogonia_meiosis'</li><li>'oogonia_STRA8---preGC_III'</li><li>'oogonia_STRA8---preGC_III_Notch'</li><li>'oogonia_STRA8---preGC_I_OSR1'</li><li>'oogonia_STRA8---sPAX8b'</li><li>'oogonia_meiosis---preGC_III'</li><li>'oogonia_meiosis---preGC_III_Notch'</li><li>'oogonia_meiosis---preGC_I_OSR1'</li><li>'oogonia_meiosis---sPAX8b'</li><li>'preGC_III---preGC_III_Notch'</li><li>'preGC_III---preGC_I_OSR1'</li><li>'preGC_III---sPAX8b'</li><li>'preGC_III_Notch---preGC_I_OSR1'</li><li>'preGC_III_Notch---sPAX8b'</li><li>'preGC_I_OSR1---sPAX8b'</li><li>'oogonia_STRA8---oocyte'</li><li>'oogonia_meiosis---oocyte'</li><li>'preGC_III---oocyte'</li><li>'preGC_III_Notch---oocyte'</li><li>'preGC_I_OSR1---oocyte'</li><li>'sPAX8b---oocyte'</li><li>'oogonia_meiosis---oogonia_STRA8'</li><li>'preGC_III---oogonia_STRA8'</li><li>'preGC_III_Notch---oogonia_STRA8'</li><li>'preGC_I_OSR1---oogonia_STRA8'</li><li>'sPAX8b---oogonia_STRA8'</li><li>'preGC_III---oogonia_meiosis'</li><li>'preGC_III_Notch---oogonia_meiosis'</li><li>'preGC_I_OSR1---oogonia_meiosis'</li><li>'sPAX8b---oogonia_meiosis'</li><li>'preGC_III_Notch---preGC_III'</li><li>'preGC_I_OSR1---preGC_III'</li><li>'sPAX8b---preGC_III'</li><li>'preGC_I_OSR1---preGC_III_Notch'</li><li>'sPAX8b---preGC_III_Notch'</li><li>'sPAX8b---preGC_I_OSR1'</li><li>'sPAX8m---sPAX8m'</li><li>'Sertoli---Sertoli'</li><li>'Sertoli_WFDC2---Sertoli_WFDC2'</li><li>'sLGR5_male---sLGR5_male'</li><li>'PGC---pre-spermatogonia'</li><li>'PGC---sPAX8m'</li><li>'PGC---Sertoli'</li><li>'PGC---Sertoli_WFDC2'</li><li>'PGC---sLGR5_male'</li><li>'coelEpi---pre-spermatogonia'</li><li>'coelEpi---sPAX8m'</li><li>'coelEpi---Sertoli'</li><li>'coelEpi---Sertoli_WFDC2'</li><li>'coelEpi---sLGR5_male'</li><li>'pre-spermatogonia---sPAX8m'</li><li>'pre-spermatogonia---Sertoli'</li><li>'pre-spermatogonia---Sertoli_WFDC2'</li><li>'pre-spermatogonia---sLGR5_male'</li><li>'sPAX8m---Sertoli'</li><li>'sPAX8m---Sertoli_WFDC2'</li><li>'sPAX8m---sLGR5_male'</li><li>'Sertoli---Sertoli_WFDC2'</li><li>'Sertoli---sLGR5_male'</li><li>'Sertoli_WFDC2---sLGR5_male'</li><li>'pre-spermatogonia---PGC'</li><li>'sPAX8m---PGC'</li><li>'Sertoli---PGC'</li><li>'Sertoli_WFDC2---PGC'</li><li>'sLGR5_male---PGC'</li><li>'pre-spermatogonia---coelEpi'</li><li>'sPAX8m---coelEpi'</li><li>'Sertoli---coelEpi'</li><li>'Sertoli_WFDC2---coelEpi'</li><li>'sLGR5_male---coelEpi'</li><li>'sPAX8m---pre-spermatogonia'</li><li>'Sertoli---pre-spermatogonia'</li><li>'Sertoli_WFDC2---pre-spermatogonia'</li><li>'sLGR5_male---pre-spermatogonia'</li><li>'Sertoli---sPAX8m'</li><li>'Sertoli_WFDC2---sPAX8m'</li><li>'sLGR5_male---sPAX8m'</li><li>'Sertoli_WFDC2---Sertoli'</li><li>'sLGR5_male---Sertoli'</li><li>'sLGR5_male---Sertoli_WFDC2'</li></ol>\n"
      ],
      "text/latex": [
       "\\begin{enumerate*}\n",
       "\\item 'PGC---PGC'\n",
       "\\item 'PGC\\_mitotic---PGC\\_mitotic'\n",
       "\\item 'coelEpi---coelEpi'\n",
       "\\item 'ovarianSurf---ovarianSurf'\n",
       "\\item 'preGC\\_II---preGC\\_II'\n",
       "\\item 'preGC\\_II\\_hypoxia---preGC\\_II\\_hypoxia'\n",
       "\\item 'sKITLG---sKITLG'\n",
       "\\item 'sLGR5\\_female---sLGR5\\_female'\n",
       "\\item 'PGC---PGC\\_mitotic'\n",
       "\\item 'PGC---coelEpi'\n",
       "\\item 'PGC---ovarianSurf'\n",
       "\\item 'PGC---preGC\\_II'\n",
       "\\item 'PGC---preGC\\_II\\_hypoxia'\n",
       "\\item 'PGC---sKITLG'\n",
       "\\item 'PGC---sLGR5\\_female'\n",
       "\\item 'PGC\\_mitotic---coelEpi'\n",
       "\\item 'PGC\\_mitotic---ovarianSurf'\n",
       "\\item 'PGC\\_mitotic---preGC\\_II'\n",
       "\\item 'PGC\\_mitotic---preGC\\_II\\_hypoxia'\n",
       "\\item 'PGC\\_mitotic---sKITLG'\n",
       "\\item 'PGC\\_mitotic---sLGR5\\_female'\n",
       "\\item 'coelEpi---ovarianSurf'\n",
       "\\item 'coelEpi---preGC\\_II'\n",
       "\\item 'coelEpi---preGC\\_II\\_hypoxia'\n",
       "\\item 'coelEpi---sKITLG'\n",
       "\\item 'coelEpi---sLGR5\\_female'\n",
       "\\item 'ovarianSurf---preGC\\_II'\n",
       "\\item 'ovarianSurf---preGC\\_II\\_hypoxia'\n",
       "\\item 'ovarianSurf---sKITLG'\n",
       "\\item 'ovarianSurf---sLGR5\\_female'\n",
       "\\item 'preGC\\_II---preGC\\_II\\_hypoxia'\n",
       "\\item 'preGC\\_II---sKITLG'\n",
       "\\item 'preGC\\_II---sLGR5\\_female'\n",
       "\\item 'preGC\\_II\\_hypoxia---sKITLG'\n",
       "\\item 'preGC\\_II\\_hypoxia---sLGR5\\_female'\n",
       "\\item 'sKITLG---sLGR5\\_female'\n",
       "\\item 'PGC\\_mitotic---PGC'\n",
       "\\item 'coelEpi---PGC'\n",
       "\\item 'ovarianSurf---PGC'\n",
       "\\item 'preGC\\_II---PGC'\n",
       "\\item 'preGC\\_II\\_hypoxia---PGC'\n",
       "\\item 'sKITLG---PGC'\n",
       "\\item 'sLGR5\\_female---PGC'\n",
       "\\item 'coelEpi---PGC\\_mitotic'\n",
       "\\item 'ovarianSurf---PGC\\_mitotic'\n",
       "\\item 'preGC\\_II---PGC\\_mitotic'\n",
       "\\item 'preGC\\_II\\_hypoxia---PGC\\_mitotic'\n",
       "\\item 'sKITLG---PGC\\_mitotic'\n",
       "\\item 'sLGR5\\_female---PGC\\_mitotic'\n",
       "\\item 'ovarianSurf---coelEpi'\n",
       "\\item 'preGC\\_II---coelEpi'\n",
       "\\item 'preGC\\_II\\_hypoxia---coelEpi'\n",
       "\\item 'sKITLG---coelEpi'\n",
       "\\item 'sLGR5\\_female---coelEpi'\n",
       "\\item 'preGC\\_II---ovarianSurf'\n",
       "\\item 'preGC\\_II\\_hypoxia---ovarianSurf'\n",
       "\\item 'sKITLG---ovarianSurf'\n",
       "\\item 'sLGR5\\_female---ovarianSurf'\n",
       "\\item 'preGC\\_II\\_hypoxia---preGC\\_II'\n",
       "\\item 'sKITLG---preGC\\_II'\n",
       "\\item 'sLGR5\\_female---preGC\\_II'\n",
       "\\item 'sKITLG---preGC\\_II\\_hypoxia'\n",
       "\\item 'sLGR5\\_female---preGC\\_II\\_hypoxia'\n",
       "\\item 'sLGR5\\_female---sKITLG'\n",
       "\\item 'oocyte---oocyte'\n",
       "\\item 'oogonia\\_STRA8---oogonia\\_STRA8'\n",
       "\\item 'oogonia\\_meiosis---oogonia\\_meiosis'\n",
       "\\item 'preGC\\_III---preGC\\_III'\n",
       "\\item 'preGC\\_III\\_Notch---preGC\\_III\\_Notch'\n",
       "\\item 'preGC\\_I\\_OSR1---preGC\\_I\\_OSR1'\n",
       "\\item 'sPAX8b---sPAX8b'\n",
       "\\item 'oocyte---oogonia\\_STRA8'\n",
       "\\item 'oocyte---oogonia\\_meiosis'\n",
       "\\item 'oocyte---preGC\\_III'\n",
       "\\item 'oocyte---preGC\\_III\\_Notch'\n",
       "\\item 'oocyte---preGC\\_I\\_OSR1'\n",
       "\\item 'oocyte---sPAX8b'\n",
       "\\item 'oogonia\\_STRA8---oogonia\\_meiosis'\n",
       "\\item 'oogonia\\_STRA8---preGC\\_III'\n",
       "\\item 'oogonia\\_STRA8---preGC\\_III\\_Notch'\n",
       "\\item 'oogonia\\_STRA8---preGC\\_I\\_OSR1'\n",
       "\\item 'oogonia\\_STRA8---sPAX8b'\n",
       "\\item 'oogonia\\_meiosis---preGC\\_III'\n",
       "\\item 'oogonia\\_meiosis---preGC\\_III\\_Notch'\n",
       "\\item 'oogonia\\_meiosis---preGC\\_I\\_OSR1'\n",
       "\\item 'oogonia\\_meiosis---sPAX8b'\n",
       "\\item 'preGC\\_III---preGC\\_III\\_Notch'\n",
       "\\item 'preGC\\_III---preGC\\_I\\_OSR1'\n",
       "\\item 'preGC\\_III---sPAX8b'\n",
       "\\item 'preGC\\_III\\_Notch---preGC\\_I\\_OSR1'\n",
       "\\item 'preGC\\_III\\_Notch---sPAX8b'\n",
       "\\item 'preGC\\_I\\_OSR1---sPAX8b'\n",
       "\\item 'oogonia\\_STRA8---oocyte'\n",
       "\\item 'oogonia\\_meiosis---oocyte'\n",
       "\\item 'preGC\\_III---oocyte'\n",
       "\\item 'preGC\\_III\\_Notch---oocyte'\n",
       "\\item 'preGC\\_I\\_OSR1---oocyte'\n",
       "\\item 'sPAX8b---oocyte'\n",
       "\\item 'oogonia\\_meiosis---oogonia\\_STRA8'\n",
       "\\item 'preGC\\_III---oogonia\\_STRA8'\n",
       "\\item 'preGC\\_III\\_Notch---oogonia\\_STRA8'\n",
       "\\item 'preGC\\_I\\_OSR1---oogonia\\_STRA8'\n",
       "\\item 'sPAX8b---oogonia\\_STRA8'\n",
       "\\item 'preGC\\_III---oogonia\\_meiosis'\n",
       "\\item 'preGC\\_III\\_Notch---oogonia\\_meiosis'\n",
       "\\item 'preGC\\_I\\_OSR1---oogonia\\_meiosis'\n",
       "\\item 'sPAX8b---oogonia\\_meiosis'\n",
       "\\item 'preGC\\_III\\_Notch---preGC\\_III'\n",
       "\\item 'preGC\\_I\\_OSR1---preGC\\_III'\n",
       "\\item 'sPAX8b---preGC\\_III'\n",
       "\\item 'preGC\\_I\\_OSR1---preGC\\_III\\_Notch'\n",
       "\\item 'sPAX8b---preGC\\_III\\_Notch'\n",
       "\\item 'sPAX8b---preGC\\_I\\_OSR1'\n",
       "\\item 'sPAX8m---sPAX8m'\n",
       "\\item 'Sertoli---Sertoli'\n",
       "\\item 'Sertoli\\_WFDC2---Sertoli\\_WFDC2'\n",
       "\\item 'sLGR5\\_male---sLGR5\\_male'\n",
       "\\item 'PGC---pre-spermatogonia'\n",
       "\\item 'PGC---sPAX8m'\n",
       "\\item 'PGC---Sertoli'\n",
       "\\item 'PGC---Sertoli\\_WFDC2'\n",
       "\\item 'PGC---sLGR5\\_male'\n",
       "\\item 'coelEpi---pre-spermatogonia'\n",
       "\\item 'coelEpi---sPAX8m'\n",
       "\\item 'coelEpi---Sertoli'\n",
       "\\item 'coelEpi---Sertoli\\_WFDC2'\n",
       "\\item 'coelEpi---sLGR5\\_male'\n",
       "\\item 'pre-spermatogonia---sPAX8m'\n",
       "\\item 'pre-spermatogonia---Sertoli'\n",
       "\\item 'pre-spermatogonia---Sertoli\\_WFDC2'\n",
       "\\item 'pre-spermatogonia---sLGR5\\_male'\n",
       "\\item 'sPAX8m---Sertoli'\n",
       "\\item 'sPAX8m---Sertoli\\_WFDC2'\n",
       "\\item 'sPAX8m---sLGR5\\_male'\n",
       "\\item 'Sertoli---Sertoli\\_WFDC2'\n",
       "\\item 'Sertoli---sLGR5\\_male'\n",
       "\\item 'Sertoli\\_WFDC2---sLGR5\\_male'\n",
       "\\item 'pre-spermatogonia---PGC'\n",
       "\\item 'sPAX8m---PGC'\n",
       "\\item 'Sertoli---PGC'\n",
       "\\item 'Sertoli\\_WFDC2---PGC'\n",
       "\\item 'sLGR5\\_male---PGC'\n",
       "\\item 'pre-spermatogonia---coelEpi'\n",
       "\\item 'sPAX8m---coelEpi'\n",
       "\\item 'Sertoli---coelEpi'\n",
       "\\item 'Sertoli\\_WFDC2---coelEpi'\n",
       "\\item 'sLGR5\\_male---coelEpi'\n",
       "\\item 'sPAX8m---pre-spermatogonia'\n",
       "\\item 'Sertoli---pre-spermatogonia'\n",
       "\\item 'Sertoli\\_WFDC2---pre-spermatogonia'\n",
       "\\item 'sLGR5\\_male---pre-spermatogonia'\n",
       "\\item 'Sertoli---sPAX8m'\n",
       "\\item 'Sertoli\\_WFDC2---sPAX8m'\n",
       "\\item 'sLGR5\\_male---sPAX8m'\n",
       "\\item 'Sertoli\\_WFDC2---Sertoli'\n",
       "\\item 'sLGR5\\_male---Sertoli'\n",
       "\\item 'sLGR5\\_male---Sertoli\\_WFDC2'\n",
       "\\end{enumerate*}\n"
      ],
      "text/markdown": [
       "1. 'PGC---PGC'\n",
       "2. 'PGC_mitotic---PGC_mitotic'\n",
       "3. 'coelEpi---coelEpi'\n",
       "4. 'ovarianSurf---ovarianSurf'\n",
       "5. 'preGC_II---preGC_II'\n",
       "6. 'preGC_II_hypoxia---preGC_II_hypoxia'\n",
       "7. 'sKITLG---sKITLG'\n",
       "8. 'sLGR5_female---sLGR5_female'\n",
       "9. 'PGC---PGC_mitotic'\n",
       "10. 'PGC---coelEpi'\n",
       "11. 'PGC---ovarianSurf'\n",
       "12. 'PGC---preGC_II'\n",
       "13. 'PGC---preGC_II_hypoxia'\n",
       "14. 'PGC---sKITLG'\n",
       "15. 'PGC---sLGR5_female'\n",
       "16. 'PGC_mitotic---coelEpi'\n",
       "17. 'PGC_mitotic---ovarianSurf'\n",
       "18. 'PGC_mitotic---preGC_II'\n",
       "19. 'PGC_mitotic---preGC_II_hypoxia'\n",
       "20. 'PGC_mitotic---sKITLG'\n",
       "21. 'PGC_mitotic---sLGR5_female'\n",
       "22. 'coelEpi---ovarianSurf'\n",
       "23. 'coelEpi---preGC_II'\n",
       "24. 'coelEpi---preGC_II_hypoxia'\n",
       "25. 'coelEpi---sKITLG'\n",
       "26. 'coelEpi---sLGR5_female'\n",
       "27. 'ovarianSurf---preGC_II'\n",
       "28. 'ovarianSurf---preGC_II_hypoxia'\n",
       "29. 'ovarianSurf---sKITLG'\n",
       "30. 'ovarianSurf---sLGR5_female'\n",
       "31. 'preGC_II---preGC_II_hypoxia'\n",
       "32. 'preGC_II---sKITLG'\n",
       "33. 'preGC_II---sLGR5_female'\n",
       "34. 'preGC_II_hypoxia---sKITLG'\n",
       "35. 'preGC_II_hypoxia---sLGR5_female'\n",
       "36. 'sKITLG---sLGR5_female'\n",
       "37. 'PGC_mitotic---PGC'\n",
       "38. 'coelEpi---PGC'\n",
       "39. 'ovarianSurf---PGC'\n",
       "40. 'preGC_II---PGC'\n",
       "41. 'preGC_II_hypoxia---PGC'\n",
       "42. 'sKITLG---PGC'\n",
       "43. 'sLGR5_female---PGC'\n",
       "44. 'coelEpi---PGC_mitotic'\n",
       "45. 'ovarianSurf---PGC_mitotic'\n",
       "46. 'preGC_II---PGC_mitotic'\n",
       "47. 'preGC_II_hypoxia---PGC_mitotic'\n",
       "48. 'sKITLG---PGC_mitotic'\n",
       "49. 'sLGR5_female---PGC_mitotic'\n",
       "50. 'ovarianSurf---coelEpi'\n",
       "51. 'preGC_II---coelEpi'\n",
       "52. 'preGC_II_hypoxia---coelEpi'\n",
       "53. 'sKITLG---coelEpi'\n",
       "54. 'sLGR5_female---coelEpi'\n",
       "55. 'preGC_II---ovarianSurf'\n",
       "56. 'preGC_II_hypoxia---ovarianSurf'\n",
       "57. 'sKITLG---ovarianSurf'\n",
       "58. 'sLGR5_female---ovarianSurf'\n",
       "59. 'preGC_II_hypoxia---preGC_II'\n",
       "60. 'sKITLG---preGC_II'\n",
       "61. 'sLGR5_female---preGC_II'\n",
       "62. 'sKITLG---preGC_II_hypoxia'\n",
       "63. 'sLGR5_female---preGC_II_hypoxia'\n",
       "64. 'sLGR5_female---sKITLG'\n",
       "65. 'oocyte---oocyte'\n",
       "66. 'oogonia_STRA8---oogonia_STRA8'\n",
       "67. 'oogonia_meiosis---oogonia_meiosis'\n",
       "68. 'preGC_III---preGC_III'\n",
       "69. 'preGC_III_Notch---preGC_III_Notch'\n",
       "70. 'preGC_I_OSR1---preGC_I_OSR1'\n",
       "71. 'sPAX8b---sPAX8b'\n",
       "72. 'oocyte---oogonia_STRA8'\n",
       "73. 'oocyte---oogonia_meiosis'\n",
       "74. 'oocyte---preGC_III'\n",
       "75. 'oocyte---preGC_III_Notch'\n",
       "76. 'oocyte---preGC_I_OSR1'\n",
       "77. 'oocyte---sPAX8b'\n",
       "78. 'oogonia_STRA8---oogonia_meiosis'\n",
       "79. 'oogonia_STRA8---preGC_III'\n",
       "80. 'oogonia_STRA8---preGC_III_Notch'\n",
       "81. 'oogonia_STRA8---preGC_I_OSR1'\n",
       "82. 'oogonia_STRA8---sPAX8b'\n",
       "83. 'oogonia_meiosis---preGC_III'\n",
       "84. 'oogonia_meiosis---preGC_III_Notch'\n",
       "85. 'oogonia_meiosis---preGC_I_OSR1'\n",
       "86. 'oogonia_meiosis---sPAX8b'\n",
       "87. 'preGC_III---preGC_III_Notch'\n",
       "88. 'preGC_III---preGC_I_OSR1'\n",
       "89. 'preGC_III---sPAX8b'\n",
       "90. 'preGC_III_Notch---preGC_I_OSR1'\n",
       "91. 'preGC_III_Notch---sPAX8b'\n",
       "92. 'preGC_I_OSR1---sPAX8b'\n",
       "93. 'oogonia_STRA8---oocyte'\n",
       "94. 'oogonia_meiosis---oocyte'\n",
       "95. 'preGC_III---oocyte'\n",
       "96. 'preGC_III_Notch---oocyte'\n",
       "97. 'preGC_I_OSR1---oocyte'\n",
       "98. 'sPAX8b---oocyte'\n",
       "99. 'oogonia_meiosis---oogonia_STRA8'\n",
       "100. 'preGC_III---oogonia_STRA8'\n",
       "101. 'preGC_III_Notch---oogonia_STRA8'\n",
       "102. 'preGC_I_OSR1---oogonia_STRA8'\n",
       "103. 'sPAX8b---oogonia_STRA8'\n",
       "104. 'preGC_III---oogonia_meiosis'\n",
       "105. 'preGC_III_Notch---oogonia_meiosis'\n",
       "106. 'preGC_I_OSR1---oogonia_meiosis'\n",
       "107. 'sPAX8b---oogonia_meiosis'\n",
       "108. 'preGC_III_Notch---preGC_III'\n",
       "109. 'preGC_I_OSR1---preGC_III'\n",
       "110. 'sPAX8b---preGC_III'\n",
       "111. 'preGC_I_OSR1---preGC_III_Notch'\n",
       "112. 'sPAX8b---preGC_III_Notch'\n",
       "113. 'sPAX8b---preGC_I_OSR1'\n",
       "114. 'sPAX8m---sPAX8m'\n",
       "115. 'Sertoli---Sertoli'\n",
       "116. 'Sertoli_WFDC2---Sertoli_WFDC2'\n",
       "117. 'sLGR5_male---sLGR5_male'\n",
       "118. 'PGC---pre-spermatogonia'\n",
       "119. 'PGC---sPAX8m'\n",
       "120. 'PGC---Sertoli'\n",
       "121. 'PGC---Sertoli_WFDC2'\n",
       "122. 'PGC---sLGR5_male'\n",
       "123. 'coelEpi---pre-spermatogonia'\n",
       "124. 'coelEpi---sPAX8m'\n",
       "125. 'coelEpi---Sertoli'\n",
       "126. 'coelEpi---Sertoli_WFDC2'\n",
       "127. 'coelEpi---sLGR5_male'\n",
       "128. 'pre-spermatogonia---sPAX8m'\n",
       "129. 'pre-spermatogonia---Sertoli'\n",
       "130. 'pre-spermatogonia---Sertoli_WFDC2'\n",
       "131. 'pre-spermatogonia---sLGR5_male'\n",
       "132. 'sPAX8m---Sertoli'\n",
       "133. 'sPAX8m---Sertoli_WFDC2'\n",
       "134. 'sPAX8m---sLGR5_male'\n",
       "135. 'Sertoli---Sertoli_WFDC2'\n",
       "136. 'Sertoli---sLGR5_male'\n",
       "137. 'Sertoli_WFDC2---sLGR5_male'\n",
       "138. 'pre-spermatogonia---PGC'\n",
       "139. 'sPAX8m---PGC'\n",
       "140. 'Sertoli---PGC'\n",
       "141. 'Sertoli_WFDC2---PGC'\n",
       "142. 'sLGR5_male---PGC'\n",
       "143. 'pre-spermatogonia---coelEpi'\n",
       "144. 'sPAX8m---coelEpi'\n",
       "145. 'Sertoli---coelEpi'\n",
       "146. 'Sertoli_WFDC2---coelEpi'\n",
       "147. 'sLGR5_male---coelEpi'\n",
       "148. 'sPAX8m---pre-spermatogonia'\n",
       "149. 'Sertoli---pre-spermatogonia'\n",
       "150. 'Sertoli_WFDC2---pre-spermatogonia'\n",
       "151. 'sLGR5_male---pre-spermatogonia'\n",
       "152. 'Sertoli---sPAX8m'\n",
       "153. 'Sertoli_WFDC2---sPAX8m'\n",
       "154. 'sLGR5_male---sPAX8m'\n",
       "155. 'Sertoli_WFDC2---Sertoli'\n",
       "156. 'sLGR5_male---Sertoli'\n",
       "157. 'sLGR5_male---Sertoli_WFDC2'\n",
       "\n",
       "\n"
      ],
      "text/plain": [
       "  [1] \"PGC---PGC\"                          \n",
       "  [2] \"PGC_mitotic---PGC_mitotic\"          \n",
       "  [3] \"coelEpi---coelEpi\"                  \n",
       "  [4] \"ovarianSurf---ovarianSurf\"          \n",
       "  [5] \"preGC_II---preGC_II\"                \n",
       "  [6] \"preGC_II_hypoxia---preGC_II_hypoxia\"\n",
       "  [7] \"sKITLG---sKITLG\"                    \n",
       "  [8] \"sLGR5_female---sLGR5_female\"        \n",
       "  [9] \"PGC---PGC_mitotic\"                  \n",
       " [10] \"PGC---coelEpi\"                      \n",
       " [11] \"PGC---ovarianSurf\"                  \n",
       " [12] \"PGC---preGC_II\"                     \n",
       " [13] \"PGC---preGC_II_hypoxia\"             \n",
       " [14] \"PGC---sKITLG\"                       \n",
       " [15] \"PGC---sLGR5_female\"                 \n",
       " [16] \"PGC_mitotic---coelEpi\"              \n",
       " [17] \"PGC_mitotic---ovarianSurf\"          \n",
       " [18] \"PGC_mitotic---preGC_II\"             \n",
       " [19] \"PGC_mitotic---preGC_II_hypoxia\"     \n",
       " [20] \"PGC_mitotic---sKITLG\"               \n",
       " [21] \"PGC_mitotic---sLGR5_female\"         \n",
       " [22] \"coelEpi---ovarianSurf\"              \n",
       " [23] \"coelEpi---preGC_II\"                 \n",
       " [24] \"coelEpi---preGC_II_hypoxia\"         \n",
       " [25] \"coelEpi---sKITLG\"                   \n",
       " [26] \"coelEpi---sLGR5_female\"             \n",
       " [27] \"ovarianSurf---preGC_II\"             \n",
       " [28] \"ovarianSurf---preGC_II_hypoxia\"     \n",
       " [29] \"ovarianSurf---sKITLG\"               \n",
       " [30] \"ovarianSurf---sLGR5_female\"         \n",
       " [31] \"preGC_II---preGC_II_hypoxia\"        \n",
       " [32] \"preGC_II---sKITLG\"                  \n",
       " [33] \"preGC_II---sLGR5_female\"            \n",
       " [34] \"preGC_II_hypoxia---sKITLG\"          \n",
       " [35] \"preGC_II_hypoxia---sLGR5_female\"    \n",
       " [36] \"sKITLG---sLGR5_female\"              \n",
       " [37] \"PGC_mitotic---PGC\"                  \n",
       " [38] \"coelEpi---PGC\"                      \n",
       " [39] \"ovarianSurf---PGC\"                  \n",
       " [40] \"preGC_II---PGC\"                     \n",
       " [41] \"preGC_II_hypoxia---PGC\"             \n",
       " [42] \"sKITLG---PGC\"                       \n",
       " [43] \"sLGR5_female---PGC\"                 \n",
       " [44] \"coelEpi---PGC_mitotic\"              \n",
       " [45] \"ovarianSurf---PGC_mitotic\"          \n",
       " [46] \"preGC_II---PGC_mitotic\"             \n",
       " [47] \"preGC_II_hypoxia---PGC_mitotic\"     \n",
       " [48] \"sKITLG---PGC_mitotic\"               \n",
       " [49] \"sLGR5_female---PGC_mitotic\"         \n",
       " [50] \"ovarianSurf---coelEpi\"              \n",
       " [51] \"preGC_II---coelEpi\"                 \n",
       " [52] \"preGC_II_hypoxia---coelEpi\"         \n",
       " [53] \"sKITLG---coelEpi\"                   \n",
       " [54] \"sLGR5_female---coelEpi\"             \n",
       " [55] \"preGC_II---ovarianSurf\"             \n",
       " [56] \"preGC_II_hypoxia---ovarianSurf\"     \n",
       " [57] \"sKITLG---ovarianSurf\"               \n",
       " [58] \"sLGR5_female---ovarianSurf\"         \n",
       " [59] \"preGC_II_hypoxia---preGC_II\"        \n",
       " [60] \"sKITLG---preGC_II\"                  \n",
       " [61] \"sLGR5_female---preGC_II\"            \n",
       " [62] \"sKITLG---preGC_II_hypoxia\"          \n",
       " [63] \"sLGR5_female---preGC_II_hypoxia\"    \n",
       " [64] \"sLGR5_female---sKITLG\"              \n",
       " [65] \"oocyte---oocyte\"                    \n",
       " [66] \"oogonia_STRA8---oogonia_STRA8\"      \n",
       " [67] \"oogonia_meiosis---oogonia_meiosis\"  \n",
       " [68] \"preGC_III---preGC_III\"              \n",
       " [69] \"preGC_III_Notch---preGC_III_Notch\"  \n",
       " [70] \"preGC_I_OSR1---preGC_I_OSR1\"        \n",
       " [71] \"sPAX8b---sPAX8b\"                    \n",
       " [72] \"oocyte---oogonia_STRA8\"             \n",
       " [73] \"oocyte---oogonia_meiosis\"           \n",
       " [74] \"oocyte---preGC_III\"                 \n",
       " [75] \"oocyte---preGC_III_Notch\"           \n",
       " [76] \"oocyte---preGC_I_OSR1\"              \n",
       " [77] \"oocyte---sPAX8b\"                    \n",
       " [78] \"oogonia_STRA8---oogonia_meiosis\"    \n",
       " [79] \"oogonia_STRA8---preGC_III\"          \n",
       " [80] \"oogonia_STRA8---preGC_III_Notch\"    \n",
       " [81] \"oogonia_STRA8---preGC_I_OSR1\"       \n",
       " [82] \"oogonia_STRA8---sPAX8b\"             \n",
       " [83] \"oogonia_meiosis---preGC_III\"        \n",
       " [84] \"oogonia_meiosis---preGC_III_Notch\"  \n",
       " [85] \"oogonia_meiosis---preGC_I_OSR1\"     \n",
       " [86] \"oogonia_meiosis---sPAX8b\"           \n",
       " [87] \"preGC_III---preGC_III_Notch\"        \n",
       " [88] \"preGC_III---preGC_I_OSR1\"           \n",
       " [89] \"preGC_III---sPAX8b\"                 \n",
       " [90] \"preGC_III_Notch---preGC_I_OSR1\"     \n",
       " [91] \"preGC_III_Notch---sPAX8b\"           \n",
       " [92] \"preGC_I_OSR1---sPAX8b\"              \n",
       " [93] \"oogonia_STRA8---oocyte\"             \n",
       " [94] \"oogonia_meiosis---oocyte\"           \n",
       " [95] \"preGC_III---oocyte\"                 \n",
       " [96] \"preGC_III_Notch---oocyte\"           \n",
       " [97] \"preGC_I_OSR1---oocyte\"              \n",
       " [98] \"sPAX8b---oocyte\"                    \n",
       " [99] \"oogonia_meiosis---oogonia_STRA8\"    \n",
       "[100] \"preGC_III---oogonia_STRA8\"          \n",
       "[101] \"preGC_III_Notch---oogonia_STRA8\"    \n",
       "[102] \"preGC_I_OSR1---oogonia_STRA8\"       \n",
       "[103] \"sPAX8b---oogonia_STRA8\"             \n",
       "[104] \"preGC_III---oogonia_meiosis\"        \n",
       "[105] \"preGC_III_Notch---oogonia_meiosis\"  \n",
       "[106] \"preGC_I_OSR1---oogonia_meiosis\"     \n",
       "[107] \"sPAX8b---oogonia_meiosis\"           \n",
       "[108] \"preGC_III_Notch---preGC_III\"        \n",
       "[109] \"preGC_I_OSR1---preGC_III\"           \n",
       "[110] \"sPAX8b---preGC_III\"                 \n",
       "[111] \"preGC_I_OSR1---preGC_III_Notch\"     \n",
       "[112] \"sPAX8b---preGC_III_Notch\"           \n",
       "[113] \"sPAX8b---preGC_I_OSR1\"              \n",
       "[114] \"sPAX8m---sPAX8m\"                    \n",
       "[115] \"Sertoli---Sertoli\"                  \n",
       "[116] \"Sertoli_WFDC2---Sertoli_WFDC2\"      \n",
       "[117] \"sLGR5_male---sLGR5_male\"            \n",
       "[118] \"PGC---pre-spermatogonia\"            \n",
       "[119] \"PGC---sPAX8m\"                       \n",
       "[120] \"PGC---Sertoli\"                      \n",
       "[121] \"PGC---Sertoli_WFDC2\"                \n",
       "[122] \"PGC---sLGR5_male\"                   \n",
       "[123] \"coelEpi---pre-spermatogonia\"        \n",
       "[124] \"coelEpi---sPAX8m\"                   \n",
       "[125] \"coelEpi---Sertoli\"                  \n",
       "[126] \"coelEpi---Sertoli_WFDC2\"            \n",
       "[127] \"coelEpi---sLGR5_male\"               \n",
       "[128] \"pre-spermatogonia---sPAX8m\"         \n",
       "[129] \"pre-spermatogonia---Sertoli\"        \n",
       "[130] \"pre-spermatogonia---Sertoli_WFDC2\"  \n",
       "[131] \"pre-spermatogonia---sLGR5_male\"     \n",
       "[132] \"sPAX8m---Sertoli\"                   \n",
       "[133] \"sPAX8m---Sertoli_WFDC2\"             \n",
       "[134] \"sPAX8m---sLGR5_male\"                \n",
       "[135] \"Sertoli---Sertoli_WFDC2\"            \n",
       "[136] \"Sertoli---sLGR5_male\"               \n",
       "[137] \"Sertoli_WFDC2---sLGR5_male\"         \n",
       "[138] \"pre-spermatogonia---PGC\"            \n",
       "[139] \"sPAX8m---PGC\"                       \n",
       "[140] \"Sertoli---PGC\"                      \n",
       "[141] \"Sertoli_WFDC2---PGC\"                \n",
       "[142] \"sLGR5_male---PGC\"                   \n",
       "[143] \"pre-spermatogonia---coelEpi\"        \n",
       "[144] \"sPAX8m---coelEpi\"                   \n",
       "[145] \"Sertoli---coelEpi\"                  \n",
       "[146] \"Sertoli_WFDC2---coelEpi\"            \n",
       "[147] \"sLGR5_male---coelEpi\"               \n",
       "[148] \"sPAX8m---pre-spermatogonia\"         \n",
       "[149] \"Sertoli---pre-spermatogonia\"        \n",
       "[150] \"Sertoli_WFDC2---pre-spermatogonia\"  \n",
       "[151] \"sLGR5_male---pre-spermatogonia\"     \n",
       "[152] \"Sertoli---sPAX8m\"                   \n",
       "[153] \"Sertoli_WFDC2---sPAX8m\"             \n",
       "[154] \"sLGR5_male---sPAX8m\"                \n",
       "[155] \"Sertoli_WFDC2---Sertoli\"            \n",
       "[156] \"sLGR5_male---Sertoli\"               \n",
       "[157] \"sLGR5_male---Sertoli_WFDC2\"         "
      ]
     },
     "metadata": {},
     "output_type": "display_data"
    }
   ],
   "source": [
    "colnames(DE)"
   ]
  },
  {
   "cell_type": "code",
   "execution_count": null,
   "metadata": {},
   "outputs": [],
   "source": []
  }
 ],
 "metadata": {
  "kernelspec": {
   "display_name": "R",
   "language": "R",
   "name": "ir"
  },
  "language_info": {
   "codemirror_mode": "r",
   "file_extension": ".r",
   "mimetype": "text/x-r-source",
   "name": "R",
   "pygments_lexer": "r",
   "version": "4.0.3"
  }
 },
 "nbformat": 4,
 "nbformat_minor": 4
}
