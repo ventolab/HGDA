{
 "cells": [
  {
   "cell_type": "markdown",
   "metadata": {},
   "source": [
    "## ATAC + MULTIOME SUPPORTING CELLS (april 2021)\n",
    "\n",
    "### Build anndata from cellatac output "
   ]
  },
  {
   "cell_type": "code",
   "execution_count": 36,
   "metadata": {},
   "outputs": [],
   "source": [
    "# Load libraries\n",
    "import pandas as pd \n",
    "import scanpy as sc\n",
    "import numpy as np\n",
    "import scipy.sparse"
   ]
  },
  {
   "cell_type": "code",
   "execution_count": 37,
   "metadata": {},
   "outputs": [],
   "source": [
    "# Define variables\n",
    "outdir = \"/nfs/team292/vl6/my_MULTIOME_dir/supporting_apr2021/\"\n",
    "experiment_prefix = 'supporting_'\n",
    "cellatac_outdir = '/lustre/scratch117/cellgen/cellgeni/TIC-atacseq/tic-1005/support-work/results200k-b-support/'\n"
   ]
  },
  {
   "cell_type": "code",
   "execution_count": 38,
   "metadata": {},
   "outputs": [],
   "source": [
    "input={'cnts': cellatac_outdir + 'peak_matrix/peaks_bc_matrix.mmtx.gz',\n",
    "        \"bcs\": cellatac_outdir + 'peak_matrix/bc.txt',\n",
    "      \"peaks\": cellatac_outdir + 'peak_matrix/peaks.txt',\n",
    "      'clusters': cellatac_outdir + 'qc/seurat-clades.tsv'}\n",
    "\n",
    "output = {\n",
    "    \"cnt_mmtx\":outdir + experiment_prefix + '_ATAC_cisTopic.mmtx',\n",
    "    \"cnt_peaks\":outdir + experiment_prefix + '_ATAC_cisTopic.peaks.tsv',\n",
    "    \"cnt_cells\":outdir + experiment_prefix + '_ATAC_cisTopic.cells.tsv',\n",
    "    \"h5ad\":outdir + experiment_prefix + '_ATAC_raw.h5ad',\n",
    "}"
   ]
  },
  {
   "cell_type": "markdown",
   "metadata": {},
   "source": [
    "**Make anndata object**"
   ]
  },
  {
   "cell_type": "code",
   "execution_count": 39,
   "metadata": {},
   "outputs": [],
   "source": [
    "adata = sc.read_mtx(input[\"cnts\"]).T\n",
    "\n",
    "bc = pd.read_table(input[\"bcs\"], header=None)\n",
    "feat = pd.read_table(input[\"peaks\"], header=None)\n",
    "\n",
    "adata.obs_names = bc[0]\n",
    "adata.var_names = feat[0]"
   ]
  },
  {
   "cell_type": "code",
   "execution_count": 40,
   "metadata": {},
   "outputs": [
    {
     "data": {
      "text/plain": [
       "AnnData object with n_obs × n_vars = 34018 × 322532"
      ]
     },
     "execution_count": 40,
     "metadata": {},
     "output_type": "execute_result"
    }
   ],
   "source": [
    "adata"
   ]
  },
  {
   "cell_type": "markdown",
   "metadata": {},
   "source": [
    "#### Load peak annotations (done with R script by Emma)"
   ]
  },
  {
   "cell_type": "code",
   "execution_count": 41,
   "metadata": {},
   "outputs": [],
   "source": [
    "peak_anno_df = pd.read_csv(outdir + \"ATACpeaks_annotation.csv\", index_col=0)\n",
    "peak_anno_df.index = peak_anno_df[\"peak_id\"]\n",
    "peak_anno_df.drop(\"peak_id\",1, inplace=True)\n",
    "adata.var = pd.concat([adata.var, peak_anno_df], 1)"
   ]
  },
  {
   "cell_type": "markdown",
   "metadata": {},
   "source": [
    "#### Save binary data to layers"
   ]
  },
  {
   "cell_type": "code",
   "execution_count": 42,
   "metadata": {},
   "outputs": [],
   "source": [
    "adata.layers[\"binary_raw\"] = adata.X\n",
    "adata.layers[\"binary_raw\"][adata.layers[\"binary_raw\"] > 1] = 1"
   ]
  },
  {
   "cell_type": "markdown",
   "metadata": {},
   "source": [
    "#### Peak filtering"
   ]
  },
  {
   "cell_type": "code",
   "execution_count": 43,
   "metadata": {},
   "outputs": [
    {
     "data": {
      "text/plain": [
       "array([[<AxesSubplot:title={'center':'peak_width'}>]], dtype=object)"
      ]
     },
     "execution_count": 43,
     "metadata": {},
     "output_type": "execute_result"
    },
    {
     "data": {
      "image/png": "[encoded data removed]",
      "text/plain": [
       "<Figure size 1800x432 with 1 Axes>"
      ]
     },
     "metadata": {
      "needs_background": "light"
     },
     "output_type": "display_data"
    }
   ],
   "source": [
    "adata.var.hist(column = 'peak_width', bins = 200, grid = False, figsize = (25,6), color = '#870052')"
   ]
  },
  {
   "cell_type": "code",
   "execution_count": 44,
   "metadata": {},
   "outputs": [
    {
     "data": {
      "text/plain": [
       "AnnData object with n_obs × n_vars = 34018 × 322532\n",
       "    var: 'peak_width', 'exon', 'gene', 'promoter', 'annotation', 'gene_name', 'gene_id', 'tss_distance', 'ENCODE_blacklist', 'n_cells_by_counts', 'mean_counts', 'log1p_mean_counts', 'pct_dropout_by_counts', 'total_counts', 'log1p_total_counts'\n",
       "    layers: 'binary_raw'"
      ]
     },
     "execution_count": 44,
     "metadata": {},
     "output_type": "execute_result"
    }
   ],
   "source": [
    "var_qc = sc.pp.calculate_qc_metrics(adata, layer = \"binary_raw\")[1]\n",
    "adata.var = pd.concat([adata.var, var_qc], 1)\n",
    "adata"
   ]
  },
  {
   "cell_type": "code",
   "execution_count": 45,
   "metadata": {},
   "outputs": [
    {
     "data": {
      "text/html": [
       "<div>\n",
       "<style scoped>\n",
       "    .dataframe tbody tr th:only-of-type {\n",
       "        vertical-align: middle;\n",
       "    }\n",
       "\n",
       "    .dataframe tbody tr th {\n",
       "        vertical-align: top;\n",
       "    }\n",
       "\n",
       "    .dataframe thead th {\n",
       "        text-align: right;\n",
       "    }\n",
       "</style>\n",
       "<table border=\"1\" class=\"dataframe\">\n",
       "  <thead>\n",
       "    <tr style=\"text-align: right;\">\n",
       "      <th></th>\n",
       "      <th>peak_width</th>\n",
       "      <th>exon</th>\n",
       "      <th>gene</th>\n",
       "      <th>promoter</th>\n",
       "      <th>annotation</th>\n",
       "      <th>gene_name</th>\n",
       "      <th>gene_id</th>\n",
       "      <th>tss_distance</th>\n",
       "      <th>ENCODE_blacklist</th>\n",
       "      <th>n_cells_by_counts</th>\n",
       "      <th>mean_counts</th>\n",
       "      <th>log1p_mean_counts</th>\n",
       "      <th>pct_dropout_by_counts</th>\n",
       "      <th>total_counts</th>\n",
       "      <th>log1p_total_counts</th>\n",
       "    </tr>\n",
       "  </thead>\n",
       "  <tbody>\n",
       "    <tr>\n",
       "      <th>chr1:10002-10511</th>\n",
       "      <td>510</td>\n",
       "      <td>0</td>\n",
       "      <td>0</td>\n",
       "      <td>0</td>\n",
       "      <td>intergenic</td>\n",
       "      <td>NaN</td>\n",
       "      <td>NaN</td>\n",
       "      <td>58579</td>\n",
       "      <td>1</td>\n",
       "      <td>272</td>\n",
       "      <td>0.007996</td>\n",
       "      <td>0.007964</td>\n",
       "      <td>99.200423</td>\n",
       "      <td>272.0</td>\n",
       "      <td>5.609472</td>\n",
       "    </tr>\n",
       "    <tr>\n",
       "      <th>chr1:180681-181619</th>\n",
       "      <td>939</td>\n",
       "      <td>0</td>\n",
       "      <td>0</td>\n",
       "      <td>1</td>\n",
       "      <td>promoter</td>\n",
       "      <td>FO538757.2</td>\n",
       "      <td>ENSG00000279928</td>\n",
       "      <td>773</td>\n",
       "      <td>1</td>\n",
       "      <td>908</td>\n",
       "      <td>0.026692</td>\n",
       "      <td>0.026342</td>\n",
       "      <td>97.330825</td>\n",
       "      <td>908.0</td>\n",
       "      <td>6.812345</td>\n",
       "    </tr>\n",
       "    <tr>\n",
       "      <th>chr1:267865-268095</th>\n",
       "      <td>231</td>\n",
       "      <td>0</td>\n",
       "      <td>0</td>\n",
       "      <td>0</td>\n",
       "      <td>intergenic</td>\n",
       "      <td>NaN</td>\n",
       "      <td>NaN</td>\n",
       "      <td>67542</td>\n",
       "      <td>1</td>\n",
       "      <td>511</td>\n",
       "      <td>0.015021</td>\n",
       "      <td>0.014910</td>\n",
       "      <td>98.497854</td>\n",
       "      <td>511.0</td>\n",
       "      <td>6.238325</td>\n",
       "    </tr>\n",
       "    <tr>\n",
       "      <th>chr1:586067-586292</th>\n",
       "      <td>226</td>\n",
       "      <td>0</td>\n",
       "      <td>0</td>\n",
       "      <td>0</td>\n",
       "      <td>intergenic</td>\n",
       "      <td>NaN</td>\n",
       "      <td>NaN</td>\n",
       "      <td>100361</td>\n",
       "      <td>1</td>\n",
       "      <td>444</td>\n",
       "      <td>0.013052</td>\n",
       "      <td>0.012967</td>\n",
       "      <td>98.694809</td>\n",
       "      <td>444.0</td>\n",
       "      <td>6.098074</td>\n",
       "    </tr>\n",
       "    <tr>\n",
       "      <th>chr1:629806-630037</th>\n",
       "      <td>232</td>\n",
       "      <td>0</td>\n",
       "      <td>0</td>\n",
       "      <td>0</td>\n",
       "      <td>intergenic</td>\n",
       "      <td>NaN</td>\n",
       "      <td>NaN</td>\n",
       "      <td>56616</td>\n",
       "      <td>1</td>\n",
       "      <td>2563</td>\n",
       "      <td>0.075342</td>\n",
       "      <td>0.072639</td>\n",
       "      <td>92.465753</td>\n",
       "      <td>2563.0</td>\n",
       "      <td>7.849324</td>\n",
       "    </tr>\n",
       "  </tbody>\n",
       "</table>\n",
       "</div>"
      ],
      "text/plain": [
       "                    peak_width  exon  gene  promoter  annotation   gene_name  \\\n",
       "chr1:10002-10511           510     0     0         0  intergenic         NaN   \n",
       "chr1:180681-181619         939     0     0         1    promoter  FO538757.2   \n",
       "chr1:267865-268095         231     0     0         0  intergenic         NaN   \n",
       "chr1:586067-586292         226     0     0         0  intergenic         NaN   \n",
       "chr1:629806-630037         232     0     0         0  intergenic         NaN   \n",
       "\n",
       "                            gene_id  tss_distance  ENCODE_blacklist  \\\n",
       "chr1:10002-10511                NaN         58579                 1   \n",
       "chr1:180681-181619  ENSG00000279928           773                 1   \n",
       "chr1:267865-268095              NaN         67542                 1   \n",
       "chr1:586067-586292              NaN        100361                 1   \n",
       "chr1:629806-630037              NaN         56616                 1   \n",
       "\n",
       "                    n_cells_by_counts  mean_counts  log1p_mean_counts  \\\n",
       "chr1:10002-10511                  272     0.007996           0.007964   \n",
       "chr1:180681-181619                908     0.026692           0.026342   \n",
       "chr1:267865-268095                511     0.015021           0.014910   \n",
       "chr1:586067-586292                444     0.013052           0.012967   \n",
       "chr1:629806-630037               2563     0.075342           0.072639   \n",
       "\n",
       "                    pct_dropout_by_counts  total_counts  log1p_total_counts  \n",
       "chr1:10002-10511                99.200423         272.0            5.609472  \n",
       "chr1:180681-181619              97.330825         908.0            6.812345  \n",
       "chr1:267865-268095              98.497854         511.0            6.238325  \n",
       "chr1:586067-586292              98.694809         444.0            6.098074  \n",
       "chr1:629806-630037              92.465753        2563.0            7.849324  "
      ]
     },
     "execution_count": 45,
     "metadata": {},
     "output_type": "execute_result"
    }
   ],
   "source": [
    "adata.var.head()"
   ]
  },
  {
   "cell_type": "code",
   "execution_count": 46,
   "metadata": {},
   "outputs": [
    {
     "data": {
      "text/plain": [
       "array([[<AxesSubplot:title={'center':'total_counts'}>]], dtype=object)"
      ]
     },
     "execution_count": 46,
     "metadata": {},
     "output_type": "execute_result"
    },
    {
     "data": {
      "image/png": "[encoded data removed]",
      "text/plain": [
       "<Figure size 1800x432 with 1 Axes>"
      ]
     },
     "metadata": {
      "needs_background": "light"
     },
     "output_type": "display_data"
    }
   ],
   "source": [
    "adata.var.hist(column = 'total_counts', bins = 200, grid = False, figsize = (25,6), color = '#870052')"
   ]
  },
  {
   "cell_type": "code",
   "execution_count": 47,
   "metadata": {},
   "outputs": [
    {
     "name": "stdout",
     "output_type": "stream",
     "text": [
      "30% : 10205.4\n",
      "0.2% : 68.036\n"
     ]
    }
   ],
   "source": [
    "thirty_percent = len(adata.obs_names) / 100 * 30\n",
    "point_two_percent = len(adata.obs_names) / 100 * 0.2\n",
    "print(\"30% : {}\".format(thirty_percent))\n",
    "print(\"0.2% : {}\".format(point_two_percent))"
   ]
  },
  {
   "cell_type": "code",
   "execution_count": 48,
   "metadata": {},
   "outputs": [
    {
     "data": {
      "text/plain": [
       "View of AnnData object with n_obs × n_vars = 34018 × 294747\n",
       "    var: 'peak_width', 'exon', 'gene', 'promoter', 'annotation', 'gene_name', 'gene_id', 'tss_distance', 'ENCODE_blacklist', 'n_cells_by_counts', 'mean_counts', 'log1p_mean_counts', 'pct_dropout_by_counts', 'total_counts', 'log1p_total_counts'\n",
       "    layers: 'binary_raw'"
      ]
     },
     "execution_count": 48,
     "metadata": {},
     "output_type": "execute_result"
    }
   ],
   "source": [
    "# Accessible in at least k cells\n",
    "adata = adata[:,adata.var.total_counts > point_two_percent]\n",
    "adata = adata[:,adata.var.total_counts < thirty_percent]\n",
    "adata"
   ]
  },
  {
   "cell_type": "code",
   "execution_count": 49,
   "metadata": {},
   "outputs": [
    {
     "data": {
      "text/plain": [
       "View of AnnData object with n_obs × n_vars = 34018 × 293589\n",
       "    var: 'peak_width', 'exon', 'gene', 'promoter', 'annotation', 'gene_name', 'gene_id', 'tss_distance', 'ENCODE_blacklist', 'n_cells_by_counts', 'mean_counts', 'log1p_mean_counts', 'pct_dropout_by_counts', 'total_counts', 'log1p_total_counts'\n",
       "    layers: 'binary_raw'"
      ]
     },
     "execution_count": 49,
     "metadata": {},
     "output_type": "execute_result"
    }
   ],
   "source": [
    "# Remove peaks in ENCODE blacklist\n",
    "adata = adata[:, adata.var.ENCODE_blacklist == 0]\n",
    "adata"
   ]
  },
  {
   "cell_type": "code",
   "execution_count": 50,
   "metadata": {},
   "outputs": [
    {
     "data": {
      "text/plain": [
       "View of AnnData object with n_obs × n_vars = 34018 × 268182\n",
       "    var: 'peak_width', 'exon', 'gene', 'promoter', 'annotation', 'gene_name', 'gene_id', 'tss_distance', 'ENCODE_blacklist', 'n_cells_by_counts', 'mean_counts', 'log1p_mean_counts', 'pct_dropout_by_counts', 'total_counts', 'log1p_total_counts'\n",
       "    layers: 'binary_raw'"
      ]
     },
     "execution_count": 50,
     "metadata": {},
     "output_type": "execute_result"
    }
   ],
   "source": [
    "# Filter by width (remove peaks at the lowest end, closest to min peak width in MACS2)\n",
    "\n",
    "adata = adata[:, adata.var.peak_width > 210]\n",
    "adata = adata[:, adata.var.peak_width < 1500]\n",
    "adata"
   ]
  },
  {
   "cell_type": "code",
   "execution_count": 51,
   "metadata": {},
   "outputs": [
    {
     "data": {
      "text/html": [
       "<div>\n",
       "<style scoped>\n",
       "    .dataframe tbody tr th:only-of-type {\n",
       "        vertical-align: middle;\n",
       "    }\n",
       "\n",
       "    .dataframe tbody tr th {\n",
       "        vertical-align: top;\n",
       "    }\n",
       "\n",
       "    .dataframe thead th {\n",
       "        text-align: right;\n",
       "    }\n",
       "</style>\n",
       "<table border=\"1\" class=\"dataframe\">\n",
       "  <thead>\n",
       "    <tr style=\"text-align: right;\">\n",
       "      <th></th>\n",
       "      <th>peak_width</th>\n",
       "      <th>exon</th>\n",
       "      <th>gene</th>\n",
       "      <th>promoter</th>\n",
       "      <th>annotation</th>\n",
       "      <th>gene_name</th>\n",
       "      <th>gene_id</th>\n",
       "      <th>tss_distance</th>\n",
       "      <th>ENCODE_blacklist</th>\n",
       "      <th>n_cells_by_counts</th>\n",
       "      <th>mean_counts</th>\n",
       "      <th>log1p_mean_counts</th>\n",
       "      <th>pct_dropout_by_counts</th>\n",
       "      <th>total_counts</th>\n",
       "      <th>log1p_total_counts</th>\n",
       "    </tr>\n",
       "  </thead>\n",
       "  <tbody>\n",
       "    <tr>\n",
       "      <th>chr1:816745-817421</th>\n",
       "      <td>677</td>\n",
       "      <td>0</td>\n",
       "      <td>0</td>\n",
       "      <td>0</td>\n",
       "      <td>intergenic</td>\n",
       "      <td>NaN</td>\n",
       "      <td>NaN</td>\n",
       "      <td>106506</td>\n",
       "      <td>0</td>\n",
       "      <td>488</td>\n",
       "      <td>0.014345</td>\n",
       "      <td>0.014243</td>\n",
       "      <td>98.565465</td>\n",
       "      <td>488.0</td>\n",
       "      <td>6.192362</td>\n",
       "    </tr>\n",
       "    <tr>\n",
       "      <th>chr1:817976-818357</th>\n",
       "      <td>382</td>\n",
       "      <td>0</td>\n",
       "      <td>0</td>\n",
       "      <td>0</td>\n",
       "      <td>intergenic</td>\n",
       "      <td>NaN</td>\n",
       "      <td>NaN</td>\n",
       "      <td>105570</td>\n",
       "      <td>0</td>\n",
       "      <td>116</td>\n",
       "      <td>0.003410</td>\n",
       "      <td>0.003404</td>\n",
       "      <td>99.659004</td>\n",
       "      <td>116.0</td>\n",
       "      <td>4.762174</td>\n",
       "    </tr>\n",
       "    <tr>\n",
       "      <th>chr1:825662-826063</th>\n",
       "      <td>402</td>\n",
       "      <td>0</td>\n",
       "      <td>0</td>\n",
       "      <td>0</td>\n",
       "      <td>intergenic</td>\n",
       "      <td>NaN</td>\n",
       "      <td>NaN</td>\n",
       "      <td>97864</td>\n",
       "      <td>0</td>\n",
       "      <td>619</td>\n",
       "      <td>0.018196</td>\n",
       "      <td>0.018033</td>\n",
       "      <td>98.180375</td>\n",
       "      <td>619.0</td>\n",
       "      <td>6.429719</td>\n",
       "    </tr>\n",
       "    <tr>\n",
       "      <th>chr1:826598-827809</th>\n",
       "      <td>1212</td>\n",
       "      <td>0</td>\n",
       "      <td>0</td>\n",
       "      <td>0</td>\n",
       "      <td>intergenic</td>\n",
       "      <td>NaN</td>\n",
       "      <td>NaN</td>\n",
       "      <td>96118</td>\n",
       "      <td>0</td>\n",
       "      <td>6217</td>\n",
       "      <td>0.182756</td>\n",
       "      <td>0.167847</td>\n",
       "      <td>81.724381</td>\n",
       "      <td>6217.0</td>\n",
       "      <td>8.735204</td>\n",
       "    </tr>\n",
       "    <tr>\n",
       "      <th>chr1:828783-829044</th>\n",
       "      <td>262</td>\n",
       "      <td>0</td>\n",
       "      <td>0</td>\n",
       "      <td>0</td>\n",
       "      <td>intergenic</td>\n",
       "      <td>NaN</td>\n",
       "      <td>NaN</td>\n",
       "      <td>94883</td>\n",
       "      <td>0</td>\n",
       "      <td>280</td>\n",
       "      <td>0.008231</td>\n",
       "      <td>0.008197</td>\n",
       "      <td>99.176906</td>\n",
       "      <td>280.0</td>\n",
       "      <td>5.638355</td>\n",
       "    </tr>\n",
       "  </tbody>\n",
       "</table>\n",
       "</div>"
      ],
      "text/plain": [
       "                    peak_width  exon  gene  promoter  annotation gene_name  \\\n",
       "chr1:816745-817421         677     0     0         0  intergenic       NaN   \n",
       "chr1:817976-818357         382     0     0         0  intergenic       NaN   \n",
       "chr1:825662-826063         402     0     0         0  intergenic       NaN   \n",
       "chr1:826598-827809        1212     0     0         0  intergenic       NaN   \n",
       "chr1:828783-829044         262     0     0         0  intergenic       NaN   \n",
       "\n",
       "                   gene_id  tss_distance  ENCODE_blacklist  n_cells_by_counts  \\\n",
       "chr1:816745-817421     NaN        106506                 0                488   \n",
       "chr1:817976-818357     NaN        105570                 0                116   \n",
       "chr1:825662-826063     NaN         97864                 0                619   \n",
       "chr1:826598-827809     NaN         96118                 0               6217   \n",
       "chr1:828783-829044     NaN         94883                 0                280   \n",
       "\n",
       "                    mean_counts  log1p_mean_counts  pct_dropout_by_counts  \\\n",
       "chr1:816745-817421     0.014345           0.014243              98.565465   \n",
       "chr1:817976-818357     0.003410           0.003404              99.659004   \n",
       "chr1:825662-826063     0.018196           0.018033              98.180375   \n",
       "chr1:826598-827809     0.182756           0.167847              81.724381   \n",
       "chr1:828783-829044     0.008231           0.008197              99.176906   \n",
       "\n",
       "                    total_counts  log1p_total_counts  \n",
       "chr1:816745-817421         488.0            6.192362  \n",
       "chr1:817976-818357         116.0            4.762174  \n",
       "chr1:825662-826063         619.0            6.429719  \n",
       "chr1:826598-827809        6217.0            8.735204  \n",
       "chr1:828783-829044         280.0            5.638355  "
      ]
     },
     "execution_count": 51,
     "metadata": {},
     "output_type": "execute_result"
    }
   ],
   "source": [
    "adata.var.head()"
   ]
  },
  {
   "cell_type": "code",
   "execution_count": 52,
   "metadata": {},
   "outputs": [
    {
     "data": {
      "text/plain": [
       "intergenic    119160\n",
       "intron        110611\n",
       "exon           29793\n",
       "promoter        8618\n",
       "Name: annotation, dtype: int64"
      ]
     },
     "execution_count": 52,
     "metadata": {},
     "output_type": "execute_result"
    }
   ],
   "source": [
    "adata.var['annotation'].value_counts()"
   ]
  },
  {
   "cell_type": "code",
   "execution_count": 53,
   "metadata": {},
   "outputs": [
    {
     "data": {
      "text/plain": [
       "AnnData object with n_obs × n_vars = 34018 × 268182\n",
       "    obs: 'cellatac_clusters'\n",
       "    var: 'peak_width', 'exon', 'gene', 'promoter', 'annotation', 'gene_name', 'gene_id', 'tss_distance', 'ENCODE_blacklist', 'n_cells_by_counts', 'mean_counts', 'log1p_mean_counts', 'pct_dropout_by_counts', 'total_counts', 'log1p_total_counts'\n",
       "    layers: 'binary_raw'"
      ]
     },
     "execution_count": 53,
     "metadata": {},
     "output_type": "execute_result"
    }
   ],
   "source": [
    "### Filter peaks that are not accessible in at least 4% of cells from a coarse cluster\n",
    "min_frac=0.04\n",
    "# Load cluster information from cellatac outputs\n",
    "clusters = pd.read_table(input[\"clusters\"], header = None, index_col = 0)\n",
    "clusters.columns = [\"cellatac_clusters\"]\n",
    "adata.obs = clusters.loc[adata.obs_names]\n",
    "adata"
   ]
  },
  {
   "cell_type": "code",
   "execution_count": 54,
   "metadata": {},
   "outputs": [
    {
     "name": "stderr",
     "output_type": "stream",
     "text": [
      "/opt/conda/envs/atac_env/lib/python3.8/site-packages/IPython/core/interactiveshell.py:3427: SparseEfficiencyWarning: Comparing a sparse matrix with a nonzero scalar using != is inefficient, try using == instead.\n",
      "  exec(code_obj, self.user_global_ns, self.user_ns)\n",
      "/opt/conda/envs/atac_env/lib/python3.8/site-packages/scipy/sparse/_index.py:125: SparseEfficiencyWarning: Changing the sparsity structure of a csr_matrix is expensive. lil_matrix is more efficient.\n",
      "  self._set_arrayXarray(i, j, x)\n"
     ]
    }
   ],
   "source": [
    "n_clusters = len(np.unique(adata.obs[[\"cellatac_clusters\"]]))\n",
    "clus_mat = np.empty([adata.n_obs, n_clusters])\n",
    "for cl in np.unique(adata.obs[[\"cellatac_clusters\"]]):\n",
    "    clus_mat[np.where(adata.obs['cellatac_clusters']==cl)[0],cl] = 1\n",
    "\n",
    "clus_mat = scipy.sparse.csr_matrix(clus_mat)\n",
    "clus_mat[clus_mat != 1 ] = 0"
   ]
  },
  {
   "cell_type": "code",
   "execution_count": 55,
   "metadata": {},
   "outputs": [],
   "source": [
    "cl_peak_mat = np.dot(clus_mat.T, adata.layers[\"binary_raw\"])"
   ]
  },
  {
   "cell_type": "code",
   "execution_count": 56,
   "metadata": {},
   "outputs": [],
   "source": [
    "cl_peak_frac = cl_peak_mat/clus_mat.sum(0).T"
   ]
  },
  {
   "cell_type": "code",
   "execution_count": 57,
   "metadata": {},
   "outputs": [
    {
     "data": {
      "text/plain": [
       "(1, 268182)"
      ]
     },
     "execution_count": 57,
     "metadata": {},
     "output_type": "execute_result"
    }
   ],
   "source": [
    "cl_peak_frac.max(0).shape"
   ]
  },
  {
   "cell_type": "code",
   "execution_count": 58,
   "metadata": {},
   "outputs": [
    {
     "data": {
      "text/plain": [
       "(1, 268182)"
      ]
     },
     "execution_count": 58,
     "metadata": {},
     "output_type": "execute_result"
    }
   ],
   "source": [
    "bool_matrix = cl_peak_frac.max(0) > min_frac\n",
    "bool_matrix.shape"
   ]
  },
  {
   "cell_type": "code",
   "execution_count": 59,
   "metadata": {},
   "outputs": [
    {
     "data": {
      "text/plain": [
       "(268182,)"
      ]
     },
     "execution_count": 59,
     "metadata": {},
     "output_type": "execute_result"
    }
   ],
   "source": [
    "bool_vector = np.squeeze(np.asarray(bool_matrix))\n",
    "bool_vector.shape"
   ]
  },
  {
   "cell_type": "code",
   "execution_count": 60,
   "metadata": {},
   "outputs": [],
   "source": [
    "adata = adata[:, bool_vector]"
   ]
  },
  {
   "cell_type": "code",
   "execution_count": 61,
   "metadata": {},
   "outputs": [
    {
     "data": {
      "text/plain": [
       "View of AnnData object with n_obs × n_vars = 34018 × 170503\n",
       "    obs: 'cellatac_clusters'\n",
       "    var: 'peak_width', 'exon', 'gene', 'promoter', 'annotation', 'gene_name', 'gene_id', 'tss_distance', 'ENCODE_blacklist', 'n_cells_by_counts', 'mean_counts', 'log1p_mean_counts', 'pct_dropout_by_counts', 'total_counts', 'log1p_total_counts'\n",
       "    layers: 'binary_raw'"
      ]
     },
     "execution_count": 61,
     "metadata": {},
     "output_type": "execute_result"
    }
   ],
   "source": [
    "adata"
   ]
  },
  {
   "cell_type": "code",
   "execution_count": 62,
   "metadata": {},
   "outputs": [
    {
     "name": "stderr",
     "output_type": "stream",
     "text": [
      "Trying to set attribute `.obs` of view, copying.\n"
     ]
    }
   ],
   "source": [
    "sc.pp.calculate_qc_metrics(adata, layer = \"binary_raw\", inplace = True)"
   ]
  },
  {
   "cell_type": "code",
   "execution_count": 63,
   "metadata": {},
   "outputs": [
    {
     "data": {
      "text/plain": [
       "array([[<AxesSubplot:title={'center':'log1p_total_counts'}>]],\n",
       "      dtype=object)"
      ]
     },
     "execution_count": 63,
     "metadata": {},
     "output_type": "execute_result"
    },
    {
     "data": {
      "image/png": "[encoded data removed]",
      "text/plain": [
       "<Figure size 1800x432 with 1 Axes>"
      ]
     },
     "metadata": {
      "needs_background": "light"
     },
     "output_type": "display_data"
    }
   ],
   "source": [
    "adata.var.hist(column = 'log1p_total_counts', bins = 200, grid = False, figsize = (25,6), color = '#870052')"
   ]
  },
  {
   "cell_type": "code",
   "execution_count": 64,
   "metadata": {},
   "outputs": [
    {
     "data": {
      "text/plain": [
       "array([[<AxesSubplot:title={'center':'log1p_total_counts'}>]],\n",
       "      dtype=object)"
      ]
     },
     "execution_count": 64,
     "metadata": {},
     "output_type": "execute_result"
    },
    {
     "data": {
      "image/png": "[encoded data removed]",
      "text/plain": [
       "<Figure size 1800x432 with 1 Axes>"
      ]
     },
     "metadata": {
      "needs_background": "light"
     },
     "output_type": "display_data"
    }
   ],
   "source": [
    "adata.obs.hist(column = 'log1p_total_counts', bins = 200, grid = False, figsize = (25,6), color = '#870052')"
   ]
  },
  {
   "cell_type": "code",
   "execution_count": 65,
   "metadata": {},
   "outputs": [
    {
     "data": {
      "text/plain": [
       "View of AnnData object with n_obs × n_vars = 34015 × 170503\n",
       "    obs: 'cellatac_clusters', 'n_genes_by_counts', 'log1p_n_genes_by_counts', 'total_counts', 'log1p_total_counts', 'pct_counts_in_top_50_genes', 'pct_counts_in_top_100_genes', 'pct_counts_in_top_200_genes', 'pct_counts_in_top_500_genes'\n",
       "    var: 'peak_width', 'exon', 'gene', 'promoter', 'annotation', 'gene_name', 'gene_id', 'tss_distance', 'ENCODE_blacklist', 'n_cells_by_counts', 'mean_counts', 'log1p_mean_counts', 'pct_dropout_by_counts', 'total_counts', 'log1p_total_counts'\n",
       "    layers: 'binary_raw'"
      ]
     },
     "execution_count": 65,
     "metadata": {},
     "output_type": "execute_result"
    }
   ],
   "source": [
    "adata = adata[adata.obs.log1p_total_counts >= 5.5]\n",
    "adata"
   ]
  },
  {
   "cell_type": "code",
   "execution_count": 66,
   "metadata": {},
   "outputs": [
    {
     "name": "stderr",
     "output_type": "stream",
     "text": [
      "/opt/conda/envs/atac_env/lib/python3.8/site-packages/anndata/_core/anndata.py:1207: ImplicitModificationWarning: Initializing view as actual.\n",
      "  warnings.warn(\n",
      "Trying to set attribute `.var` of view, copying.\n",
      "... storing 'annotation' as categorical\n",
      "Trying to set attribute `.var` of view, copying.\n",
      "... storing 'gene_name' as categorical\n",
      "Trying to set attribute `.var` of view, copying.\n",
      "... storing 'gene_id' as categorical\n"
     ]
    }
   ],
   "source": [
    "## Write output anndata\n",
    "adata.write_h5ad(output[\"h5ad\"])"
   ]
  },
  {
   "cell_type": "markdown",
   "metadata": {},
   "source": [
    "#### End of notebook"
   ]
  },
  {
   "cell_type": "code",
   "execution_count": null,
   "metadata": {},
   "outputs": [],
   "source": []
  }
 ],
 "metadata": {
  "kernelspec": {
   "display_name": "atac_env",
   "language": "python",
   "name": "atac_env"
  },
  "language_info": {
   "codemirror_mode": {
    "name": "ipython",
    "version": 3
   },
   "file_extension": ".py",
   "mimetype": "text/x-python",
   "name": "python",
   "nbconvert_exporter": "python",
   "pygments_lexer": "ipython3",
   "version": "3.8.6"
  }
 },
 "nbformat": 4,
 "nbformat_minor": 4
}
