{
 "cells": [
  {
   "cell_type": "code",
   "execution_count": 1,
   "id": "fourth-arrow",
   "metadata": {},
   "outputs": [
    {
     "name": "stderr",
     "output_type": "stream",
     "text": [
      "\n",
      "Attaching package: ‘dplyr’\n",
      "\n",
      "\n",
      "The following objects are masked from ‘package:stats’:\n",
      "\n",
      "    filter, lag\n",
      "\n",
      "\n",
      "The following objects are masked from ‘package:base’:\n",
      "\n",
      "    intersect, setdiff, setequal, union\n",
      "\n",
      "\n"
     ]
    }
   ],
   "source": [
    "library(dplyr)\n",
    "library(RColorBrewer)\n",
    "library(ggplot2)\n",
    "library(pheatmap)\n",
    "library(cowplot)\n",
    "library(reshape2)"
   ]
  },
  {
   "cell_type": "code",
   "execution_count": 2,
   "id": "neutral-lender",
   "metadata": {},
   "outputs": [],
   "source": [
    "avgLog2 = read.csv('figures/data_utils/somatic_average_log.csv', stringsAsFactors = F, row.names=1)\n",
    "\n",
    "colnames(avgLog2) = gsub('Germ.', '', colnames(avgLog2))\n",
    "colnames(avgLog2) = gsub('Somatic.', '', colnames(avgLog2))\n",
    "colnames(avgLog2)[ colnames(avgLog2) == 'preGC_II' ] = 'preGC_IIb'"
   ]
  },
  {
   "cell_type": "code",
   "execution_count": 3,
   "id": "municipal-october",
   "metadata": {},
   "outputs": [],
   "source": [
    "TF_interspecie = read.csv('../human_v2/figures_somatic/granulosa_crosspecie_TF_measurements_humanTFs.csv', stringsAsFactors = F)"
   ]
  },
  {
   "cell_type": "code",
   "execution_count": 4,
   "id": "considerable-mentor",
   "metadata": {},
   "outputs": [],
   "source": [
    "# Define genes and clusters of interest\n",
    "CLofInterest = cluster_order = c('CoelEpi_LHX9',  'early_supporting', \n",
    "                 'preGC_I',  \n",
    "                 'OSE', 'preGC_IIa', 'preGC_IIb','granulosa')\n",
    "CLofInterest = intersect( CLofInterest, colnames(avgLog2))\n",
    "\n",
    "TFofInterest = unique(TF_interspecie$TF)\n",
    "TFofInterest_monkey = TF_interspecie[ ! duplicated(TF_interspecie$TF) , ]$gene"
   ]
  },
  {
   "cell_type": "code",
   "execution_count": 5,
   "id": "affecting-strength",
   "metadata": {},
   "outputs": [
    {
     "data": {
      "text/html": [
       "<style>\n",
       ".list-inline {list-style: none; margin:0; padding: 0}\n",
       ".list-inline>li {display: inline-block}\n",
       ".list-inline>li:not(:last-child)::after {content: \"\\00b7\"; padding: 0 .5ex}\n",
       "</style>\n",
       "<ol class=list-inline><li>'CoelEpi_LHX9'</li><li>'OSE'</li><li>'granulosa'</li><li>'preGC_I'</li><li>'preGC_IIb'</li></ol>\n"
      ],
      "text/latex": [
       "\\begin{enumerate*}\n",
       "\\item 'CoelEpi\\_LHX9'\n",
       "\\item 'OSE'\n",
       "\\item 'granulosa'\n",
       "\\item 'preGC\\_I'\n",
       "\\item 'preGC\\_IIb'\n",
       "\\end{enumerate*}\n"
      ],
      "text/markdown": [
       "1. 'CoelEpi_LHX9'\n",
       "2. 'OSE'\n",
       "3. 'granulosa'\n",
       "4. 'preGC_I'\n",
       "5. 'preGC_IIb'\n",
       "\n",
       "\n"
      ],
      "text/plain": [
       "[1] \"CoelEpi_LHX9\" \"OSE\"          \"granulosa\"    \"preGC_I\"      \"preGC_IIb\"   "
      ]
     },
     "metadata": {},
     "output_type": "display_data"
    }
   ],
   "source": [
    "colnames(avgLog2)"
   ]
  },
  {
   "cell_type": "code",
   "execution_count": 6,
   "id": "surgical-sight",
   "metadata": {},
   "outputs": [],
   "source": [
    "# scale clusters of interest\n",
    "avgLog2 = avgLog2[,CLofInterest]\n",
    "rn = colnames(avgLog2)\n",
    "avgLog2_scaled = apply(t(avgLog2), 2, scale) \n",
    "avgLog2_scaled = t(avgLog2_scaled)\n",
    "colnames(avgLog2_scaled) = rn"
   ]
  },
  {
   "cell_type": "code",
   "execution_count": 7,
   "id": "enormous-freight",
   "metadata": {},
   "outputs": [],
   "source": [
    "# prepare matrix with all TFs\n",
    "M = matrix(0, nrow = length(TFofInterest), ncol = length(CLofInterest), dimnames = list(TFofInterest, CLofInterest)  )"
   ]
  },
  {
   "cell_type": "code",
   "execution_count": 8,
   "id": "adverse-trout",
   "metadata": {},
   "outputs": [
    {
     "data": {
      "text/html": [
       "TRUE"
      ],
      "text/latex": [
       "TRUE"
      ],
      "text/markdown": [
       "TRUE"
      ],
      "text/plain": [
       "[1] TRUE"
      ]
     },
     "metadata": {},
     "output_type": "display_data"
    }
   ],
   "source": [
    "# Fill the matrix with the Tfs with mouse information\n",
    "MavgLog2 = M\n",
    "\n",
    "idx = TFofInterest_monkey %in% rownames(avgLog2)\n",
    "\n",
    "all( toupper(TFofInterest_monkey[idx]) %in% TFofInterest[idx])\n",
    "for (cl in CLofInterest)\n",
    "    MavgLog2[ TFofInterest[idx], cl] <- avgLog2_scaled[ TFofInterest_monkey[idx], cl]"
   ]
  },
  {
   "cell_type": "code",
   "execution_count": 9,
   "id": "prepared-jason",
   "metadata": {},
   "outputs": [],
   "source": [
    "# plot\n",
    "paletteLength <- 50\n",
    "myColor <- colorRampPalette(c(brewer.pal(n = 5, name = 'Blues')[4], \"white\", brewer.pal(n = 5, name = 'Reds')[4]))(paletteLength)\n",
    "# length(breaks) == length(paletteLength) + 1\n",
    "# use floor and ceiling to deal with even/odd length pallettelengths\n",
    "myBreaks <- c(seq(min(avgLog2_scaled), 0, length.out=ceiling(paletteLength/2) + 1), \n",
    "              seq(max(avgLog2_scaled)/paletteLength, max(avgLog2_scaled), length.out=floor(paletteLength/2))) \n",
    "\n",
    "\n",
    "pheatmap(MavgLog2, cellheight = 10, cellwidth = 10, cluster_rows = F, cluster_cols = F, color=myColor, breaks=myBreaks,\n",
    "        filename= 'figures_somatic/granulosa_heatmap_humanTFs_Zscores.pdf')"
   ]
  },
  {
   "cell_type": "code",
   "execution_count": null,
   "id": "placed-class",
   "metadata": {},
   "outputs": [],
   "source": []
  }
 ],
 "metadata": {
  "kernelspec": {
   "display_name": "R",
   "language": "R",
   "name": "ir"
  },
  "language_info": {
   "codemirror_mode": "r",
   "file_extension": ".r",
   "mimetype": "text/x-r-source",
   "name": "R",
   "pygments_lexer": "r",
   "version": "4.0.3"
  }
 },
 "nbformat": 4,
 "nbformat_minor": 5
}
