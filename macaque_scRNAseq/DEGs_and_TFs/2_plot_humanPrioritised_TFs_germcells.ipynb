{
 "cells": [
  {
   "cell_type": "code",
   "execution_count": 1,
   "id": "ruled-temperature",
   "metadata": {},
   "outputs": [
    {
     "name": "stderr",
     "output_type": "stream",
     "text": [
      "\n",
      "Attaching package: ‘dplyr’\n",
      "\n",
      "\n",
      "The following objects are masked from ‘package:stats’:\n",
      "\n",
      "    filter, lag\n",
      "\n",
      "\n",
      "The following objects are masked from ‘package:base’:\n",
      "\n",
      "    intersect, setdiff, setequal, union\n",
      "\n",
      "\n"
     ]
    }
   ],
   "source": [
    "library(dplyr)\n",
    "library(RColorBrewer)\n",
    "library(ggplot2)\n",
    "library(pheatmap)\n",
    "library(cowplot)\n",
    "library(reshape2)"
   ]
  },
  {
   "cell_type": "code",
   "execution_count": 2,
   "id": "monthly-passing",
   "metadata": {},
   "outputs": [],
   "source": [
    "avgLog2 = read.csv('figures/data_utils/average_log.csv', stringsAsFactors = F, row.names=1)\n",
    "\n",
    "colnames(avgLog2) = gsub('Germ.', '', colnames(avgLog2))\n",
    "colnames(avgLog2) = gsub('Somatic.', '', colnames(avgLog2))"
   ]
  },
  {
   "cell_type": "code",
   "execution_count": 3,
   "id": "committed-samuel",
   "metadata": {},
   "outputs": [],
   "source": [
    "TF_interspecie = read.csv('../human_v2/figures_germcells/crosspecie_TF_measurements_humanTFs.csv', stringsAsFactors = F)"
   ]
  },
  {
   "cell_type": "code",
   "execution_count": 4,
   "id": "guilty-tuning",
   "metadata": {},
   "outputs": [],
   "source": [
    "# Define genes and clusters of interest\n",
    "CLofInterest = unique(TF_interspecie$cluster)\n",
    "CLofInterest = intersect( CLofInterest, colnames(avgLog2))\n",
    "\n",
    "TFofInterest = unique(TF_interspecie$TF)\n",
    "TFofInterest_monkey = TF_interspecie[ ! duplicated(TF_interspecie$TF) , ]$gene"
   ]
  },
  {
   "cell_type": "code",
   "execution_count": 5,
   "id": "reverse-distributor",
   "metadata": {},
   "outputs": [],
   "source": [
    "# scale clusters of interest\n",
    "avgLog2 = avgLog2[,CLofInterest]\n",
    "rn = colnames(avgLog2)\n",
    "avgLog2_scaled = apply(t(avgLog2), 2, scale) \n",
    "avgLog2_scaled = t(avgLog2_scaled)\n",
    "colnames(avgLog2_scaled) = rn"
   ]
  },
  {
   "cell_type": "code",
   "execution_count": 6,
   "id": "authentic-stock",
   "metadata": {},
   "outputs": [],
   "source": [
    "# prepare matrix with all TFs\n",
    "M = matrix(0, nrow = length(TFofInterest), ncol = length(CLofInterest), dimnames = list(TFofInterest, CLofInterest)  )"
   ]
  },
  {
   "cell_type": "code",
   "execution_count": 7,
   "id": "athletic-charles",
   "metadata": {},
   "outputs": [
    {
     "data": {
      "text/html": [
       "TRUE"
      ],
      "text/latex": [
       "TRUE"
      ],
      "text/markdown": [
       "TRUE"
      ],
      "text/plain": [
       "[1] TRUE"
      ]
     },
     "metadata": {},
     "output_type": "display_data"
    }
   ],
   "source": [
    "# Fill the matrix with the Tfs with mouse information\n",
    "MavgLog2 = M\n",
    "\n",
    "idx = TFofInterest_monkey %in% rownames(avgLog2)\n",
    "\n",
    "all( toupper(TFofInterest_monkey[idx]) %in% TFofInterest[idx])\n",
    "for (cl in CLofInterest)\n",
    "    MavgLog2[ TFofInterest[idx], cl] <- avgLog2_scaled[ TFofInterest_monkey[idx], cl]"
   ]
  },
  {
   "cell_type": "code",
   "execution_count": 8,
   "id": "considered-davis",
   "metadata": {},
   "outputs": [],
   "source": [
    "# plot\n",
    "paletteLength <- 50\n",
    "myColor <- colorRampPalette(c(brewer.pal(n = 5, name = 'Blues')[4], \"white\", brewer.pal(n = 5, name = 'Reds')[4]))(paletteLength)\n",
    "# length(breaks) == length(paletteLength) + 1\n",
    "# use floor and ceiling to deal with even/odd length pallettelengths\n",
    "myBreaks <- c(seq(min(avgLog2_scaled), 0, length.out=ceiling(paletteLength/2) + 1), \n",
    "              seq(max(avgLog2_scaled)/paletteLength, max(avgLog2_scaled), length.out=floor(paletteLength/2))) \n",
    "\n",
    "\n",
    "pheatmap(MavgLog2, cellheight = 10, cellwidth = 10, cluster_rows = F, cluster_cols = F, color=myColor, breaks=myBreaks,\n",
    "        filename= 'figures_germcells/heatmap_humanTFs_Zscores.pdf')"
   ]
  },
  {
   "cell_type": "code",
   "execution_count": null,
   "id": "careful-agenda",
   "metadata": {},
   "outputs": [],
   "source": []
  }
 ],
 "metadata": {
  "kernelspec": {
   "display_name": "R",
   "language": "R",
   "name": "ir"
  },
  "language_info": {
   "codemirror_mode": "r",
   "file_extension": ".r",
   "mimetype": "text/x-r-source",
   "name": "R",
   "pygments_lexer": "r",
   "version": "4.0.3"
  }
 },
 "nbformat": 4,
 "nbformat_minor": 5
}
