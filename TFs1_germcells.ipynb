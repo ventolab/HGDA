{
 "cells": [
  {
   "cell_type": "markdown",
   "metadata": {},
   "source": [
    "# Germ lineage both sex - TFs intersection"
   ]
  },
  {
   "cell_type": "code",
   "execution_count": 5,
   "metadata": {},
   "outputs": [],
   "source": [
    "library(Seurat)\n",
    "library(dplyr)\n",
    "library(RColorBrewer)\n",
    "library(destiny, quietly = TRUE)\n",
    "library(gam)\n",
    "library(harmony)\n",
    "library(ggplot2)\n",
    "library(pheatmap)\n",
    "library(cowplot)\n",
    "library(reshape2)\n",
    "library(SoupX)\n",
    "# source('G_lib_TFacts.r')\n",
    "\n",
    "luz_colors = c('#c466b0', \n",
    "               '#779eed', '#aad3f2', '#71a2c7', '#60bddb',   '#70ccbe', \n",
    "               '#7b9e99', '#91bd80', '#bdb380',  '#d4db81',  '#dbc381', '#ebd3c3', \n",
    "               '#e08b8b', '#edb7b7', '#d9abb7', '#d96884', '#e64e74', '#d9a5c3', '#cc8fdb')\n",
    "\n",
    "colors = c(luz_colors, \n",
    "           brewer.pal(n=12, name = 'Paired'), \n",
    "           brewer.pal(n=8, name = 'Set2'),\n",
    "          brewer.pal(n=8, name = 'Set3'),\n",
    "          brewer.pal(n=8, name = 'Accent'),\n",
    "          brewer.pal(n=8, name = 'Pastel1'))\n",
    "\n",
    "def_colors = list( reds = luz_colors[13:length(luz_colors) ],\n",
    "                 yellows = luz_colors[7:12],\n",
    "                 blues = luz_colors[2:6],\n",
    "                 greys = c('#e8e8e8', '#b5b5b5', '#a6a6a6') )\n",
    "\n",
    "col_dot = c('grey90',  brewer.pal(n = 9, name = 'Reds')[7])\n",
    "\n",
    "downsample_data = function(anndataO, var = 'annotated_clusters', N=200){\n",
    "    samples = list()\n",
    "    for (cl in unique(anndataO@meta.data[,var]) ){\n",
    "        cells = colnames(anndataO)[ anndataO@meta.data[,var] == cl ]\n",
    "        samples[[cl]] = cells\n",
    "        if( length(cells) > N )\n",
    "            samples[[cl]] = sample(cells, size = N, replace = F)\n",
    "    }\n",
    "    anndataO = subset(anndataO, cells = unlist(samples))\n",
    "    \n",
    "    gene_counts = tabulate(anndataO@assays$RNA@counts@i + 1)\n",
    "    anndataO = subset(anndataO, features = names(gene_counts)[ gene_counts > 3 ] )\n",
    "    \n",
    "    return(anndataO)\n",
    "}\n"
   ]
  },
  {
   "cell_type": "code",
   "execution_count": 6,
   "metadata": {},
   "outputs": [
    {
     "data": {
      "text/plain": [
       "R version 4.0.3 (2020-10-10)\n",
       "Platform: x86_64-conda-linux-gnu (64-bit)\n",
       "Running under: Ubuntu 20.04.1 LTS\n",
       "\n",
       "Matrix products: default\n",
       "BLAS:   /home/jovyan/my-conda-envs/R_Seurat3/lib/libblas.so.3.8.0\n",
       "LAPACK: /home/jovyan/my-conda-envs/R_Seurat3/lib/liblapack.so.3.8.0\n",
       "\n",
       "locale:\n",
       " [1] LC_CTYPE=en_US.UTF-8       LC_NUMERIC=C              \n",
       " [3] LC_TIME=en_US.UTF-8        LC_COLLATE=en_US.UTF-8    \n",
       " [5] LC_MONETARY=en_US.UTF-8    LC_MESSAGES=en_US.UTF-8   \n",
       " [7] LC_PAPER=en_US.UTF-8       LC_NAME=C                 \n",
       " [9] LC_ADDRESS=C               LC_TELEPHONE=C            \n",
       "[11] LC_MEASUREMENT=en_US.UTF-8 LC_IDENTIFICATION=C       \n",
       "\n",
       "attached base packages:\n",
       "[1] splines   stats     graphics  grDevices utils     datasets  methods  \n",
       "[8] base     \n",
       "\n",
       "other attached packages:\n",
       " [1] SoupX_1.5.0        reshape2_1.4.4     cowplot_1.1.1      pheatmap_1.0.12   \n",
       " [5] ggplot2_3.3.3      harmony_1.0        Rcpp_1.0.6         gam_1.20          \n",
       " [9] foreach_1.5.1      destiny_3.4.0      RColorBrewer_1.1-2 dplyr_1.0.5       \n",
       "[13] Seurat_3.2.2      \n",
       "\n",
       "loaded via a namespace (and not attached):\n",
       "  [1] readxl_1.3.1                uuid_0.1-4                 \n",
       "  [3] RcppEigen_0.3.3.9.1         plyr_1.8.6                 \n",
       "  [5] igraph_1.2.6                repr_1.1.3                 \n",
       "  [7] lazyeval_0.2.2              sp_1.4-5                   \n",
       "  [9] RcppHNSW_0.3.0              listenv_0.8.0              \n",
       " [11] GenomeInfoDb_1.26.0         digest_0.6.27              \n",
       " [13] htmltools_0.5.1.1           fansi_0.4.2                \n",
       " [15] magrittr_2.0.1              tensor_1.5                 \n",
       " [17] cluster_2.1.1               ROCR_1.0-11                \n",
       " [19] openxlsx_4.2.3              globals_0.14.0             \n",
       " [21] matrixStats_0.58.0          xts_0.12.1                 \n",
       " [23] colorspace_2.0-0            ggrepel_0.9.1              \n",
       " [25] haven_2.3.1                 hexbin_1.28.2              \n",
       " [27] crayon_1.4.1                RCurl_1.98-1.2             \n",
       " [29] jsonlite_1.7.2              spatstat_1.64-1            \n",
       " [31] spatstat.data_2.0-0         iterators_1.0.13           \n",
       " [33] survival_3.2-7              zoo_1.8-9                  \n",
       " [35] glue_1.4.2                  polyclip_1.10-0            \n",
       " [37] gtable_0.3.0                zlibbioc_1.36.0            \n",
       " [39] XVector_0.30.0              leiden_0.3.7               \n",
       " [41] DelayedArray_0.16.0         car_3.0-10                 \n",
       " [43] future.apply_1.7.0          SingleCellExperiment_1.12.0\n",
       " [45] BiocGenerics_0.36.0         DEoptimR_1.0-8             \n",
       " [47] abind_1.4-5                 VIM_6.1.0                  \n",
       " [49] scales_1.1.1                ggplot.multistats_1.0.0    \n",
       " [51] DBI_1.1.1                   ggthemes_4.2.4             \n",
       " [53] miniUI_0.1.1.1              laeken_0.5.1               \n",
       " [55] viridisLite_0.3.0           xtable_1.8-4               \n",
       " [57] reticulate_1.18             proxy_0.4-25               \n",
       " [59] foreign_0.8-81              rsvd_1.0.3                 \n",
       " [61] stats4_4.0.3                vcd_1.4-8                  \n",
       " [63] htmlwidgets_1.5.3           httr_1.4.2                 \n",
       " [65] ellipsis_0.3.1              ica_1.0-2                  \n",
       " [67] pkgconfig_2.0.3             nnet_7.3-15                \n",
       " [69] uwot_0.1.10                 deldir_0.2-10              \n",
       " [71] utf8_1.2.1                  tidyselect_1.1.0           \n",
       " [73] rlang_0.4.10                later_1.1.0.1              \n",
       " [75] cellranger_1.1.0            munsell_0.5.0              \n",
       " [77] tools_4.0.3                 generics_0.1.0             \n",
       " [79] ranger_0.12.1               ggridges_0.5.3             \n",
       " [81] evaluate_0.14               stringr_1.4.0              \n",
       " [83] fastmap_1.1.0               goftest_1.2-2              \n",
       " [85] fitdistrplus_1.1-3          zip_2.1.1                  \n",
       " [87] robustbase_0.93-7           purrr_0.3.4                \n",
       " [89] RANN_2.6.1                  pbapply_1.4-3              \n",
       " [91] future_1.21.0               nlme_3.1-152               \n",
       " [93] mime_0.10                   compiler_4.0.3             \n",
       " [95] plotly_4.9.3                curl_4.3                   \n",
       " [97] png_0.1-7                   e1071_1.7-4                \n",
       " [99] spatstat.utils_2.0-0        smoother_1.1               \n",
       "[101] tibble_3.1.0                stringi_1.5.3              \n",
       "[103] RSpectra_0.16-0             forcats_0.5.1              \n",
       "[105] lattice_0.20-41             IRdisplay_1.0              \n",
       "[107] Matrix_1.3-2                vctrs_0.3.6                \n",
       "[109] pillar_1.5.1                lifecycle_1.0.0            \n",
       "[111] lmtest_0.9-38               RcppAnnoy_0.0.18           \n",
       "[113] data.table_1.14.0           bitops_1.0-6               \n",
       "[115] irlba_2.3.3                 httpuv_1.5.5               \n",
       "[117] patchwork_1.1.1             GenomicRanges_1.42.0       \n",
       "[119] pcaMethods_1.82.0           R6_2.5.0                   \n",
       "[121] promises_1.2.0.1            KernSmooth_2.23-18         \n",
       "[123] gridExtra_2.3               rio_0.5.26                 \n",
       "[125] IRanges_2.24.0              parallelly_1.23.0          \n",
       "[127] codetools_0.2-18            boot_1.3-27                \n",
       "[129] MASS_7.3-53.1               assertthat_0.2.1           \n",
       "[131] SummarizedExperiment_1.20.0 withr_2.4.1                \n",
       "[133] sctransform_0.3.2           S4Vectors_0.28.0           \n",
       "[135] GenomeInfoDbData_1.2.4      hms_1.0.0                  \n",
       "[137] mgcv_1.8-34                 parallel_4.0.3             \n",
       "[139] grid_4.0.3                  rpart_4.1-15               \n",
       "[141] IRkernel_1.1.1.9000         tidyr_1.1.3                \n",
       "[143] class_7.3-18                carData_3.0-4              \n",
       "[145] MatrixGenerics_1.2.0        Rtsne_0.15                 \n",
       "[147] TTR_0.24.2                  pbdZMQ_0.3-5               \n",
       "[149] scatterplot3d_0.3-41        Biobase_2.50.0             \n",
       "[151] shiny_1.6.0                 base64enc_0.1-3            "
      ]
     },
     "metadata": {},
     "output_type": "display_data"
    }
   ],
   "source": [
    "sessionInfo()"
   ]
  },
  {
   "cell_type": "markdown",
   "metadata": {},
   "source": [
    "# Load RNA derived TFs info"
   ]
  },
  {
   "cell_type": "code",
   "execution_count": 7,
   "metadata": {},
   "outputs": [],
   "source": [
    "TFact = read.csv('figures-germcells/0_FS1_table_TFacts.csv', stringsAsFactors = F)\n",
    "# TFact$cluster[ TFact$cluster == 'Sertoli' ] = 'Sertoli_NR4A1'\n",
    "TFact$TF = strsplit(TFact$gene, split = '-[A-E]') %>% sapply(., head, 1)\n",
    "TFact$ID = paste0(TFact$cluster, '__', TFact$TF)\n",
    "TFact$scRNA_TFact = ifelse(TFact$p_val_adj < 0.05 & TFact$avg_log2FC > 0.1 , 1, 0) \n",
    "\n",
    "\n",
    "DEGs = read.csv('figures-germcells/0_FS1_table_DEGs.csv', stringsAsFactors = F)\n",
    "# DEGs = subset(DEGs, gene %in% TFact$TF)\n",
    "DEGs$TF = DEGs$gene\n",
    "DEGs$ID = paste0(DEGs$cluster, '__', DEGs$TF)\n",
    "# DEGs$avg_log2FC = DEGs$avg_logFC\n",
    "DEGs$scRNA_DEGs = ifelse(DEGs$p_val_adj < 0.05 & DEGs$avg_log2FC > 0.1, 1, 0) "
   ]
  },
  {
   "cell_type": "markdown",
   "metadata": {},
   "source": [
    "# Load ATAC derived TFs info"
   ]
  },
  {
   "cell_type": "code",
   "execution_count": 8,
   "metadata": {},
   "outputs": [],
   "source": [
    "TFmotifs = read.csv('/nfs/team292/vl6/my_MULTIOME_dir/germcells_apr2021/TFs/DARs/all_DA_peaks_LR.csv', stringsAsFactors = F)\n",
    "\n",
    "TFmotifs$cluster = gsub('-', '_', TFmotifs$cluster)\n",
    "TFmotifs$cluster = gsub('oogonia_meiotic', 'oogonia_meiosis', TFmotifs$cluster)\n",
    "TFmotifs$cluster = gsub('pre_spermatogonia', 'pre-spermatogonia', TFmotifs$cluster)\n",
    "TFmotifs$TF = strsplit(TFmotifs$X, split = '\\\\.') %>% sapply(., head, 1)\n",
    "TFmotifs$TF = gsub('-HUMAN', '', TFmotifs$TF)\n",
    "TFmotifs = subset(TFmotifs, TF %in% c(TFact$TF, DEGs$TF) )\n",
    "TFmotifs$ID = paste0(TFmotifs$cluster, '__', TFmotifs$TF)\n",
    "# TFmotifs = subset(TFmotifs, TF %in% TFact$TF)\n",
    "TFmotifs = TFmotifs[ order(TFmotifs$avg_log2FC, decreasing = T) , ]\n",
    "TFmotifs = TFmotifs[ ! duplicated(TFmotifs$ID) , ]\n",
    "\n",
    "TFmotifs$snATAC_TFact = ifelse(TFmotifs$p_val_adj < 0.05 & TFmotifs$avg_log2FC > 0.1 , 1, 0) "
   ]
  },
  {
   "cell_type": "markdown",
   "metadata": {},
   "source": [
    "# Intersect cluster names"
   ]
  },
  {
   "cell_type": "code",
   "execution_count": 9,
   "metadata": {},
   "outputs": [
    {
     "data": {
      "text/html": [
       "<style>\n",
       ".list-inline {list-style: none; margin:0; padding: 0}\n",
       ".list-inline>li {display: inline-block}\n",
       ".list-inline>li:not(:last-child)::after {content: \"\\00b7\"; padding: 0 .5ex}\n",
       "</style>\n",
       "<ol class=list-inline><li>'oogonia_meiosis'</li><li>'PGC'</li><li>'pre-spermatogonia'</li><li>'oogonia_STRA8'</li><li>'GC_mitotic'</li></ol>\n"
      ],
      "text/latex": [
       "\\begin{enumerate*}\n",
       "\\item 'oogonia\\_meiosis'\n",
       "\\item 'PGC'\n",
       "\\item 'pre-spermatogonia'\n",
       "\\item 'oogonia\\_STRA8'\n",
       "\\item 'GC\\_mitotic'\n",
       "\\end{enumerate*}\n"
      ],
      "text/markdown": [
       "1. 'oogonia_meiosis'\n",
       "2. 'PGC'\n",
       "3. 'pre-spermatogonia'\n",
       "4. 'oogonia_STRA8'\n",
       "5. 'GC_mitotic'\n",
       "\n",
       "\n"
      ],
      "text/plain": [
       "[1] \"oogonia_meiosis\"   \"PGC\"               \"pre-spermatogonia\"\n",
       "[4] \"oogonia_STRA8\"     \"GC_mitotic\"       "
      ]
     },
     "metadata": {},
     "output_type": "display_data"
    },
    {
     "data": {
      "text/html": [
       "<style>\n",
       ".list-inline {list-style: none; margin:0; padding: 0}\n",
       ".list-inline>li {display: inline-block}\n",
       ".list-inline>li:not(:last-child)::after {content: \"\\00b7\"; padding: 0 .5ex}\n",
       "</style>\n",
       "<ol class=list-inline><li>'oocyte'</li><li>'oogonia_meiosis'</li><li>'PGC_mitotic'</li><li>'PGC'</li><li>'oogonia_STRA8'</li><li>'pre-spermatogonia'</li><li>'GC_mitotic'</li></ol>\n"
      ],
      "text/latex": [
       "\\begin{enumerate*}\n",
       "\\item 'oocyte'\n",
       "\\item 'oogonia\\_meiosis'\n",
       "\\item 'PGC\\_mitotic'\n",
       "\\item 'PGC'\n",
       "\\item 'oogonia\\_STRA8'\n",
       "\\item 'pre-spermatogonia'\n",
       "\\item 'GC\\_mitotic'\n",
       "\\end{enumerate*}\n"
      ],
      "text/markdown": [
       "1. 'oocyte'\n",
       "2. 'oogonia_meiosis'\n",
       "3. 'PGC_mitotic'\n",
       "4. 'PGC'\n",
       "5. 'oogonia_STRA8'\n",
       "6. 'pre-spermatogonia'\n",
       "7. 'GC_mitotic'\n",
       "\n",
       "\n"
      ],
      "text/plain": [
       "[1] \"oocyte\"            \"oogonia_meiosis\"   \"PGC_mitotic\"      \n",
       "[4] \"PGC\"               \"oogonia_STRA8\"     \"pre-spermatogonia\"\n",
       "[7] \"GC_mitotic\"       "
      ]
     },
     "metadata": {},
     "output_type": "display_data"
    },
    {
     "data": {
      "text/html": [
       "<style>\n",
       ".list-inline {list-style: none; margin:0; padding: 0}\n",
       ".list-inline>li {display: inline-block}\n",
       ".list-inline>li:not(:last-child)::after {content: \"\\00b7\"; padding: 0 .5ex}\n",
       "</style>\n",
       "<ol class=list-inline><li>'PGC'</li><li>'PGC_mitotic'</li><li>'GC_mitotic'</li><li>'oogonia_STRA8'</li><li>'oogonia_meiosis'</li><li>'oocyte'</li><li>'pre-spermatogonia'</li></ol>\n"
      ],
      "text/latex": [
       "\\begin{enumerate*}\n",
       "\\item 'PGC'\n",
       "\\item 'PGC\\_mitotic'\n",
       "\\item 'GC\\_mitotic'\n",
       "\\item 'oogonia\\_STRA8'\n",
       "\\item 'oogonia\\_meiosis'\n",
       "\\item 'oocyte'\n",
       "\\item 'pre-spermatogonia'\n",
       "\\end{enumerate*}\n"
      ],
      "text/markdown": [
       "1. 'PGC'\n",
       "2. 'PGC_mitotic'\n",
       "3. 'GC_mitotic'\n",
       "4. 'oogonia_STRA8'\n",
       "5. 'oogonia_meiosis'\n",
       "6. 'oocyte'\n",
       "7. 'pre-spermatogonia'\n",
       "\n",
       "\n"
      ],
      "text/plain": [
       "[1] \"PGC\"               \"PGC_mitotic\"       \"GC_mitotic\"       \n",
       "[4] \"oogonia_STRA8\"     \"oogonia_meiosis\"   \"oocyte\"           \n",
       "[7] \"pre-spermatogonia\""
      ]
     },
     "metadata": {},
     "output_type": "display_data"
    },
    {
     "data": {
      "text/html": [
       "<style>\n",
       ".list-inline {list-style: none; margin:0; padding: 0}\n",
       ".list-inline>li {display: inline-block}\n",
       ".list-inline>li:not(:last-child)::after {content: \"\\00b7\"; padding: 0 .5ex}\n",
       "</style>\n",
       "<ol class=list-inline><li>'oogonia_meiosis'</li><li>'PGC'</li><li>'oogonia_STRA8'</li><li>'pre-spermatogonia'</li><li>'GC_mitotic'</li></ol>\n"
      ],
      "text/latex": [
       "\\begin{enumerate*}\n",
       "\\item 'oogonia\\_meiosis'\n",
       "\\item 'PGC'\n",
       "\\item 'oogonia\\_STRA8'\n",
       "\\item 'pre-spermatogonia'\n",
       "\\item 'GC\\_mitotic'\n",
       "\\end{enumerate*}\n"
      ],
      "text/markdown": [
       "1. 'oogonia_meiosis'\n",
       "2. 'PGC'\n",
       "3. 'oogonia_STRA8'\n",
       "4. 'pre-spermatogonia'\n",
       "5. 'GC_mitotic'\n",
       "\n",
       "\n"
      ],
      "text/plain": [
       "[1] \"oogonia_meiosis\"   \"PGC\"               \"oogonia_STRA8\"    \n",
       "[4] \"pre-spermatogonia\" \"GC_mitotic\"       "
      ]
     },
     "metadata": {},
     "output_type": "display_data"
    }
   ],
   "source": [
    "unique(TFmotifs$cluster)\n",
    "unique(TFact$cluster)\n",
    "unique(DEGs$cluster)\n",
    "\n",
    "\n",
    "intersect(TFact$cluster,TFmotifs$cluster)"
   ]
  },
  {
   "cell_type": "markdown",
   "metadata": {},
   "source": [
    "## Merge for plotting"
   ]
  },
  {
   "cell_type": "code",
   "execution_count": 10,
   "metadata": {},
   "outputs": [],
   "source": [
    "cnames = intersect(colnames(TFact), colnames(DEGs)) %>% intersect(., colnames(TFmotifs))\n",
    "df2plot = data.frame(TFact[,cnames], type='scRNA_TFactivities', stringsAsFactors = F)\n",
    "df2plot = rbind(df2plot,\n",
    "               data.frame(DEGs[, cnames], type='scRNA_Expression', stringsAsFactors = F))\n",
    "df2plot = rbind(df2plot,\n",
    "               data.frame(TFmotifs[, cnames], type='snATA_TFmotif_access', stringsAsFactors = F))"
   ]
  },
  {
   "cell_type": "markdown",
   "metadata": {},
   "source": [
    "# Intersect TFs"
   ]
  },
  {
   "cell_type": "code",
   "execution_count": 11,
   "metadata": {},
   "outputs": [],
   "source": [
    "names(TFact)[c(1:2,5)] = paste0('scRNA_TFact_', names(TFact)[c(1:2,5)])\n",
    "names(DEGs)[c(1:5)] = paste0('scRNA_DEGs_', names(DEGs)[c(1:5)])\n",
    "names(TFmotifs)[c(2:3,6)] = paste0('snATAC_TFact_', names(TFmotifs)[c(2:3,6)])\n",
    "names(TFmotifs)[1] = 'snATAC_PWM' "
   ]
  },
  {
   "cell_type": "code",
   "execution_count": 12,
   "metadata": {},
   "outputs": [
    {
     "data": {
      "text/html": [
       "<table class=\"dataframe\">\n",
       "<caption>A data.frame: 6 × 20</caption>\n",
       "<thead>\n",
       "\t<tr><th></th><th scope=col>ID</th><th scope=col>scRNA_DEGs_p_val</th><th scope=col>scRNA_DEGs_avg_logFC</th><th scope=col>scRNA_DEGs_pct.1</th><th scope=col>scRNA_DEGs_pct.2</th><th scope=col>scRNA_DEGs_p_val_adj</th><th scope=col>avg_log2FC</th><th scope=col>scRNA_DEGs</th><th scope=col>scRNA_TFact_p_val</th><th scope=col>scRNA_TFact_avg_log2FC</th><th scope=col>scRNA_TFact_p_val_adj</th><th scope=col>scRNA_TFact</th><th scope=col>snATAC_PWM</th><th scope=col>snATAC_TFact_p_val</th><th scope=col>snATAC_TFact_avg_log2FC</th><th scope=col>snATAC_TFact_p_val_adj</th><th scope=col>cluster</th><th scope=col>gene</th><th scope=col>TF</th><th scope=col>snATAC_TFact</th></tr>\n",
       "\t<tr><th></th><th scope=col>&lt;chr&gt;</th><th scope=col>&lt;dbl&gt;</th><th scope=col>&lt;dbl&gt;</th><th scope=col>&lt;dbl&gt;</th><th scope=col>&lt;dbl&gt;</th><th scope=col>&lt;dbl&gt;</th><th scope=col>&lt;dbl&gt;</th><th scope=col>&lt;dbl&gt;</th><th scope=col>&lt;dbl&gt;</th><th scope=col>&lt;dbl&gt;</th><th scope=col>&lt;dbl&gt;</th><th scope=col>&lt;dbl&gt;</th><th scope=col>&lt;chr&gt;</th><th scope=col>&lt;dbl&gt;</th><th scope=col>&lt;dbl&gt;</th><th scope=col>&lt;dbl&gt;</th><th scope=col>&lt;chr&gt;</th><th scope=col>&lt;chr&gt;</th><th scope=col>&lt;chr&gt;</th><th scope=col>&lt;dbl&gt;</th></tr>\n",
       "</thead>\n",
       "<tbody>\n",
       "\t<tr><th scope=row>1</th><td>GC_mitotic__A1BG       </td><td>2.464194e-08</td><td> 0.12690515</td><td>0.420</td><td>0.178</td><td>0.0005785188</td><td> 0.12690515</td><td>1</td><td>NA</td><td>NA</td><td>NA</td><td>NA</td><td>NA</td><td>NA</td><td>NA</td><td>NA</td><td>NA</td><td>NA</td><td>NA</td><td>NA</td></tr>\n",
       "\t<tr><th scope=row>2</th><td>GC_mitotic__A2M        </td><td>1.094769e-03</td><td> 0.08178806</td><td>0.240</td><td>0.102</td><td>1.0000000000</td><td> 0.08178806</td><td>0</td><td>NA</td><td>NA</td><td>NA</td><td>NA</td><td>NA</td><td>NA</td><td>NA</td><td>NA</td><td>NA</td><td>NA</td><td>NA</td><td>NA</td></tr>\n",
       "\t<tr><th scope=row>3</th><td>GC_mitotic__A4GALT     </td><td>7.813121e-07</td><td>-0.19754753</td><td>0.130</td><td>0.248</td><td>0.0183428636</td><td>-0.19754753</td><td>0</td><td>NA</td><td>NA</td><td>NA</td><td>NA</td><td>NA</td><td>NA</td><td>NA</td><td>NA</td><td>NA</td><td>NA</td><td>NA</td><td>NA</td></tr>\n",
       "\t<tr><th scope=row>4</th><td>GC_mitotic__AAAS       </td><td>1.099515e-05</td><td> 0.10908761</td><td>0.785</td><td>0.542</td><td>0.2581332145</td><td> 0.10908761</td><td>0</td><td>NA</td><td>NA</td><td>NA</td><td>NA</td><td>NA</td><td>NA</td><td>NA</td><td>NA</td><td>NA</td><td>NA</td><td>NA</td><td>NA</td></tr>\n",
       "\t<tr><th scope=row>5</th><td>GC_mitotic__AACS       </td><td>4.215926e-02</td><td>-0.05749859</td><td>0.075</td><td>0.085</td><td>1.0000000000</td><td>-0.05749859</td><td>0</td><td>NA</td><td>NA</td><td>NA</td><td>NA</td><td>NA</td><td>NA</td><td>NA</td><td>NA</td><td>NA</td><td>NA</td><td>NA</td><td>NA</td></tr>\n",
       "\t<tr><th scope=row>6</th><td>GC_mitotic__AADACL2-AS1</td><td>1.004445e-01</td><td> 0.03099426</td><td>0.260</td><td>0.169</td><td>1.0000000000</td><td> 0.03099426</td><td>0</td><td>NA</td><td>NA</td><td>NA</td><td>NA</td><td>NA</td><td>NA</td><td>NA</td><td>NA</td><td>NA</td><td>NA</td><td>NA</td><td>NA</td></tr>\n",
       "</tbody>\n",
       "</table>\n"
      ],
      "text/latex": [
       "A data.frame: 6 × 20\n",
       "\\begin{tabular}{r|llllllllllllllllllll}\n",
       "  & ID & scRNA\\_DEGs\\_p\\_val & scRNA\\_DEGs\\_avg\\_logFC & scRNA\\_DEGs\\_pct.1 & scRNA\\_DEGs\\_pct.2 & scRNA\\_DEGs\\_p\\_val\\_adj & avg\\_log2FC & scRNA\\_DEGs & scRNA\\_TFact\\_p\\_val & scRNA\\_TFact\\_avg\\_log2FC & scRNA\\_TFact\\_p\\_val\\_adj & scRNA\\_TFact & snATAC\\_PWM & snATAC\\_TFact\\_p\\_val & snATAC\\_TFact\\_avg\\_log2FC & snATAC\\_TFact\\_p\\_val\\_adj & cluster & gene & TF & snATAC\\_TFact\\\\\n",
       "  & <chr> & <dbl> & <dbl> & <dbl> & <dbl> & <dbl> & <dbl> & <dbl> & <dbl> & <dbl> & <dbl> & <dbl> & <chr> & <dbl> & <dbl> & <dbl> & <chr> & <chr> & <chr> & <dbl>\\\\\n",
       "\\hline\n",
       "\t1 & GC\\_mitotic\\_\\_A1BG        & 2.464194e-08 &  0.12690515 & 0.420 & 0.178 & 0.0005785188 &  0.12690515 & 1 & NA & NA & NA & NA & NA & NA & NA & NA & NA & NA & NA & NA\\\\\n",
       "\t2 & GC\\_mitotic\\_\\_A2M         & 1.094769e-03 &  0.08178806 & 0.240 & 0.102 & 1.0000000000 &  0.08178806 & 0 & NA & NA & NA & NA & NA & NA & NA & NA & NA & NA & NA & NA\\\\\n",
       "\t3 & GC\\_mitotic\\_\\_A4GALT      & 7.813121e-07 & -0.19754753 & 0.130 & 0.248 & 0.0183428636 & -0.19754753 & 0 & NA & NA & NA & NA & NA & NA & NA & NA & NA & NA & NA & NA\\\\\n",
       "\t4 & GC\\_mitotic\\_\\_AAAS        & 1.099515e-05 &  0.10908761 & 0.785 & 0.542 & 0.2581332145 &  0.10908761 & 0 & NA & NA & NA & NA & NA & NA & NA & NA & NA & NA & NA & NA\\\\\n",
       "\t5 & GC\\_mitotic\\_\\_AACS        & 4.215926e-02 & -0.05749859 & 0.075 & 0.085 & 1.0000000000 & -0.05749859 & 0 & NA & NA & NA & NA & NA & NA & NA & NA & NA & NA & NA & NA\\\\\n",
       "\t6 & GC\\_mitotic\\_\\_AADACL2-AS1 & 1.004445e-01 &  0.03099426 & 0.260 & 0.169 & 1.0000000000 &  0.03099426 & 0 & NA & NA & NA & NA & NA & NA & NA & NA & NA & NA & NA & NA\\\\\n",
       "\\end{tabular}\n"
      ],
      "text/markdown": [
       "\n",
       "A data.frame: 6 × 20\n",
       "\n",
       "| <!--/--> | ID &lt;chr&gt; | scRNA_DEGs_p_val &lt;dbl&gt; | scRNA_DEGs_avg_logFC &lt;dbl&gt; | scRNA_DEGs_pct.1 &lt;dbl&gt; | scRNA_DEGs_pct.2 &lt;dbl&gt; | scRNA_DEGs_p_val_adj &lt;dbl&gt; | avg_log2FC &lt;dbl&gt; | scRNA_DEGs &lt;dbl&gt; | scRNA_TFact_p_val &lt;dbl&gt; | scRNA_TFact_avg_log2FC &lt;dbl&gt; | scRNA_TFact_p_val_adj &lt;dbl&gt; | scRNA_TFact &lt;dbl&gt; | snATAC_PWM &lt;chr&gt; | snATAC_TFact_p_val &lt;dbl&gt; | snATAC_TFact_avg_log2FC &lt;dbl&gt; | snATAC_TFact_p_val_adj &lt;dbl&gt; | cluster &lt;chr&gt; | gene &lt;chr&gt; | TF &lt;chr&gt; | snATAC_TFact &lt;dbl&gt; |\n",
       "|---|---|---|---|---|---|---|---|---|---|---|---|---|---|---|---|---|---|---|---|---|\n",
       "| 1 | GC_mitotic__A1BG        | 2.464194e-08 |  0.12690515 | 0.420 | 0.178 | 0.0005785188 |  0.12690515 | 1 | NA | NA | NA | NA | NA | NA | NA | NA | NA | NA | NA | NA |\n",
       "| 2 | GC_mitotic__A2M         | 1.094769e-03 |  0.08178806 | 0.240 | 0.102 | 1.0000000000 |  0.08178806 | 0 | NA | NA | NA | NA | NA | NA | NA | NA | NA | NA | NA | NA |\n",
       "| 3 | GC_mitotic__A4GALT      | 7.813121e-07 | -0.19754753 | 0.130 | 0.248 | 0.0183428636 | -0.19754753 | 0 | NA | NA | NA | NA | NA | NA | NA | NA | NA | NA | NA | NA |\n",
       "| 4 | GC_mitotic__AAAS        | 1.099515e-05 |  0.10908761 | 0.785 | 0.542 | 0.2581332145 |  0.10908761 | 0 | NA | NA | NA | NA | NA | NA | NA | NA | NA | NA | NA | NA |\n",
       "| 5 | GC_mitotic__AACS        | 4.215926e-02 | -0.05749859 | 0.075 | 0.085 | 1.0000000000 | -0.05749859 | 0 | NA | NA | NA | NA | NA | NA | NA | NA | NA | NA | NA | NA |\n",
       "| 6 | GC_mitotic__AADACL2-AS1 | 1.004445e-01 |  0.03099426 | 0.260 | 0.169 | 1.0000000000 |  0.03099426 | 0 | NA | NA | NA | NA | NA | NA | NA | NA | NA | NA | NA | NA |\n",
       "\n"
      ],
      "text/plain": [
       "  ID                      scRNA_DEGs_p_val scRNA_DEGs_avg_logFC\n",
       "1 GC_mitotic__A1BG        2.464194e-08      0.12690515         \n",
       "2 GC_mitotic__A2M         1.094769e-03      0.08178806         \n",
       "3 GC_mitotic__A4GALT      7.813121e-07     -0.19754753         \n",
       "4 GC_mitotic__AAAS        1.099515e-05      0.10908761         \n",
       "5 GC_mitotic__AACS        4.215926e-02     -0.05749859         \n",
       "6 GC_mitotic__AADACL2-AS1 1.004445e-01      0.03099426         \n",
       "  scRNA_DEGs_pct.1 scRNA_DEGs_pct.2 scRNA_DEGs_p_val_adj avg_log2FC  scRNA_DEGs\n",
       "1 0.420            0.178            0.0005785188          0.12690515 1         \n",
       "2 0.240            0.102            1.0000000000          0.08178806 0         \n",
       "3 0.130            0.248            0.0183428636         -0.19754753 0         \n",
       "4 0.785            0.542            0.2581332145          0.10908761 0         \n",
       "5 0.075            0.085            1.0000000000         -0.05749859 0         \n",
       "6 0.260            0.169            1.0000000000          0.03099426 0         \n",
       "  scRNA_TFact_p_val scRNA_TFact_avg_log2FC scRNA_TFact_p_val_adj scRNA_TFact\n",
       "1 NA                NA                     NA                    NA         \n",
       "2 NA                NA                     NA                    NA         \n",
       "3 NA                NA                     NA                    NA         \n",
       "4 NA                NA                     NA                    NA         \n",
       "5 NA                NA                     NA                    NA         \n",
       "6 NA                NA                     NA                    NA         \n",
       "  snATAC_PWM snATAC_TFact_p_val snATAC_TFact_avg_log2FC snATAC_TFact_p_val_adj\n",
       "1 NA         NA                 NA                      NA                    \n",
       "2 NA         NA                 NA                      NA                    \n",
       "3 NA         NA                 NA                      NA                    \n",
       "4 NA         NA                 NA                      NA                    \n",
       "5 NA         NA                 NA                      NA                    \n",
       "6 NA         NA                 NA                      NA                    \n",
       "  cluster gene TF snATAC_TFact\n",
       "1 NA      NA   NA NA          \n",
       "2 NA      NA   NA NA          \n",
       "3 NA      NA   NA NA          \n",
       "4 NA      NA   NA NA          \n",
       "5 NA      NA   NA NA          \n",
       "6 NA      NA   NA NA          "
      ]
     },
     "metadata": {},
     "output_type": "display_data"
    }
   ],
   "source": [
    "df = merge(DEGs, TFact, by = 'ID', all = T)\n",
    "df = df[, grep('y$', names(df), invert = T) ] # remove unwanted columns\n",
    "df = merge(df, TFmotifs, by = 'ID', all = T)\n",
    "df = df[, grep('y$', names(df), invert = T) ] # remove unwanted columns\n",
    "df = df[, grep('x$', names(df), invert = T) ] # remove unwanted columns\n",
    "head(df)"
   ]
  },
  {
   "cell_type": "code",
   "execution_count": 13,
   "metadata": {},
   "outputs": [
    {
     "data": {
      "text/html": [
       "<table class=\"dataframe\">\n",
       "<caption>A data.frame: 6 × 20</caption>\n",
       "<thead>\n",
       "\t<tr><th></th><th scope=col>cluster</th><th scope=col>gene</th><th scope=col>ID</th><th scope=col>scRNA_DEGs</th><th scope=col>scRNA_DEGs_avg_logFC</th><th scope=col>scRNA_DEGs_p_val</th><th scope=col>scRNA_DEGs_p_val_adj</th><th scope=col>scRNA_DEGs_pct.1</th><th scope=col>scRNA_DEGs_pct.2</th><th scope=col>scRNA_TFact</th><th scope=col>scRNA_TFact_avg_log2FC</th><th scope=col>scRNA_TFact_p_val</th><th scope=col>scRNA_TFact_p_val_adj</th><th scope=col>snATAC_PWM</th><th scope=col>snATAC_TFact</th><th scope=col>snATAC_TFact_avg_log2FC</th><th scope=col>snATAC_TFact_p_val</th><th scope=col>snATAC_TFact_p_val_adj</th><th scope=col>TF</th><th scope=col>N_agreement</th></tr>\n",
       "\t<tr><th></th><th scope=col>&lt;chr&gt;</th><th scope=col>&lt;chr&gt;</th><th scope=col>&lt;chr&gt;</th><th scope=col>&lt;dbl&gt;</th><th scope=col>&lt;dbl&gt;</th><th scope=col>&lt;dbl&gt;</th><th scope=col>&lt;dbl&gt;</th><th scope=col>&lt;dbl&gt;</th><th scope=col>&lt;dbl&gt;</th><th scope=col>&lt;dbl&gt;</th><th scope=col>&lt;dbl&gt;</th><th scope=col>&lt;dbl&gt;</th><th scope=col>&lt;dbl&gt;</th><th scope=col>&lt;chr&gt;</th><th scope=col>&lt;dbl&gt;</th><th scope=col>&lt;dbl&gt;</th><th scope=col>&lt;dbl&gt;</th><th scope=col>&lt;dbl&gt;</th><th scope=col>&lt;chr&gt;</th><th scope=col>&lt;dbl&gt;</th></tr>\n",
       "</thead>\n",
       "<tbody>\n",
       "\t<tr><th scope=row>1</th><td>GC_mitotic</td><td>NA</td><td>GC_mitotic__A1BG       </td><td>1</td><td> 0.12690515</td><td>2.464194e-08</td><td>0.0005785188</td><td>0.420</td><td>0.178</td><td>NA</td><td>NA</td><td>NA</td><td>NA</td><td>NA</td><td>NA</td><td>NA</td><td>NA</td><td>NA</td><td>A1BG       </td><td>1</td></tr>\n",
       "\t<tr><th scope=row>2</th><td>GC_mitotic</td><td>NA</td><td>GC_mitotic__A2M        </td><td>0</td><td> 0.08178806</td><td>1.094769e-03</td><td>1.0000000000</td><td>0.240</td><td>0.102</td><td>NA</td><td>NA</td><td>NA</td><td>NA</td><td>NA</td><td>NA</td><td>NA</td><td>NA</td><td>NA</td><td>A2M        </td><td>0</td></tr>\n",
       "\t<tr><th scope=row>3</th><td>GC_mitotic</td><td>NA</td><td>GC_mitotic__A4GALT     </td><td>0</td><td>-0.19754753</td><td>7.813121e-07</td><td>0.0183428636</td><td>0.130</td><td>0.248</td><td>NA</td><td>NA</td><td>NA</td><td>NA</td><td>NA</td><td>NA</td><td>NA</td><td>NA</td><td>NA</td><td>A4GALT     </td><td>0</td></tr>\n",
       "\t<tr><th scope=row>4</th><td>GC_mitotic</td><td>NA</td><td>GC_mitotic__AAAS       </td><td>0</td><td> 0.10908761</td><td>1.099515e-05</td><td>0.2581332145</td><td>0.785</td><td>0.542</td><td>NA</td><td>NA</td><td>NA</td><td>NA</td><td>NA</td><td>NA</td><td>NA</td><td>NA</td><td>NA</td><td>AAAS       </td><td>0</td></tr>\n",
       "\t<tr><th scope=row>5</th><td>GC_mitotic</td><td>NA</td><td>GC_mitotic__AACS       </td><td>0</td><td>-0.05749859</td><td>4.215926e-02</td><td>1.0000000000</td><td>0.075</td><td>0.085</td><td>NA</td><td>NA</td><td>NA</td><td>NA</td><td>NA</td><td>NA</td><td>NA</td><td>NA</td><td>NA</td><td>AACS       </td><td>0</td></tr>\n",
       "\t<tr><th scope=row>6</th><td>GC_mitotic</td><td>NA</td><td>GC_mitotic__AADACL2-AS1</td><td>0</td><td> 0.03099426</td><td>1.004445e-01</td><td>1.0000000000</td><td>0.260</td><td>0.169</td><td>NA</td><td>NA</td><td>NA</td><td>NA</td><td>NA</td><td>NA</td><td>NA</td><td>NA</td><td>NA</td><td>AADACL2-AS1</td><td>0</td></tr>\n",
       "</tbody>\n",
       "</table>\n"
      ],
      "text/latex": [
       "A data.frame: 6 × 20\n",
       "\\begin{tabular}{r|llllllllllllllllllll}\n",
       "  & cluster & gene & ID & scRNA\\_DEGs & scRNA\\_DEGs\\_avg\\_logFC & scRNA\\_DEGs\\_p\\_val & scRNA\\_DEGs\\_p\\_val\\_adj & scRNA\\_DEGs\\_pct.1 & scRNA\\_DEGs\\_pct.2 & scRNA\\_TFact & scRNA\\_TFact\\_avg\\_log2FC & scRNA\\_TFact\\_p\\_val & scRNA\\_TFact\\_p\\_val\\_adj & snATAC\\_PWM & snATAC\\_TFact & snATAC\\_TFact\\_avg\\_log2FC & snATAC\\_TFact\\_p\\_val & snATAC\\_TFact\\_p\\_val\\_adj & TF & N\\_agreement\\\\\n",
       "  & <chr> & <chr> & <chr> & <dbl> & <dbl> & <dbl> & <dbl> & <dbl> & <dbl> & <dbl> & <dbl> & <dbl> & <dbl> & <chr> & <dbl> & <dbl> & <dbl> & <dbl> & <chr> & <dbl>\\\\\n",
       "\\hline\n",
       "\t1 & GC\\_mitotic & NA & GC\\_mitotic\\_\\_A1BG        & 1 &  0.12690515 & 2.464194e-08 & 0.0005785188 & 0.420 & 0.178 & NA & NA & NA & NA & NA & NA & NA & NA & NA & A1BG        & 1\\\\\n",
       "\t2 & GC\\_mitotic & NA & GC\\_mitotic\\_\\_A2M         & 0 &  0.08178806 & 1.094769e-03 & 1.0000000000 & 0.240 & 0.102 & NA & NA & NA & NA & NA & NA & NA & NA & NA & A2M         & 0\\\\\n",
       "\t3 & GC\\_mitotic & NA & GC\\_mitotic\\_\\_A4GALT      & 0 & -0.19754753 & 7.813121e-07 & 0.0183428636 & 0.130 & 0.248 & NA & NA & NA & NA & NA & NA & NA & NA & NA & A4GALT      & 0\\\\\n",
       "\t4 & GC\\_mitotic & NA & GC\\_mitotic\\_\\_AAAS        & 0 &  0.10908761 & 1.099515e-05 & 0.2581332145 & 0.785 & 0.542 & NA & NA & NA & NA & NA & NA & NA & NA & NA & AAAS        & 0\\\\\n",
       "\t5 & GC\\_mitotic & NA & GC\\_mitotic\\_\\_AACS        & 0 & -0.05749859 & 4.215926e-02 & 1.0000000000 & 0.075 & 0.085 & NA & NA & NA & NA & NA & NA & NA & NA & NA & AACS        & 0\\\\\n",
       "\t6 & GC\\_mitotic & NA & GC\\_mitotic\\_\\_AADACL2-AS1 & 0 &  0.03099426 & 1.004445e-01 & 1.0000000000 & 0.260 & 0.169 & NA & NA & NA & NA & NA & NA & NA & NA & NA & AADACL2-AS1 & 0\\\\\n",
       "\\end{tabular}\n"
      ],
      "text/markdown": [
       "\n",
       "A data.frame: 6 × 20\n",
       "\n",
       "| <!--/--> | cluster &lt;chr&gt; | gene &lt;chr&gt; | ID &lt;chr&gt; | scRNA_DEGs &lt;dbl&gt; | scRNA_DEGs_avg_logFC &lt;dbl&gt; | scRNA_DEGs_p_val &lt;dbl&gt; | scRNA_DEGs_p_val_adj &lt;dbl&gt; | scRNA_DEGs_pct.1 &lt;dbl&gt; | scRNA_DEGs_pct.2 &lt;dbl&gt; | scRNA_TFact &lt;dbl&gt; | scRNA_TFact_avg_log2FC &lt;dbl&gt; | scRNA_TFact_p_val &lt;dbl&gt; | scRNA_TFact_p_val_adj &lt;dbl&gt; | snATAC_PWM &lt;chr&gt; | snATAC_TFact &lt;dbl&gt; | snATAC_TFact_avg_log2FC &lt;dbl&gt; | snATAC_TFact_p_val &lt;dbl&gt; | snATAC_TFact_p_val_adj &lt;dbl&gt; | TF &lt;chr&gt; | N_agreement &lt;dbl&gt; |\n",
       "|---|---|---|---|---|---|---|---|---|---|---|---|---|---|---|---|---|---|---|---|---|\n",
       "| 1 | GC_mitotic | NA | GC_mitotic__A1BG        | 1 |  0.12690515 | 2.464194e-08 | 0.0005785188 | 0.420 | 0.178 | NA | NA | NA | NA | NA | NA | NA | NA | NA | A1BG        | 1 |\n",
       "| 2 | GC_mitotic | NA | GC_mitotic__A2M         | 0 |  0.08178806 | 1.094769e-03 | 1.0000000000 | 0.240 | 0.102 | NA | NA | NA | NA | NA | NA | NA | NA | NA | A2M         | 0 |\n",
       "| 3 | GC_mitotic | NA | GC_mitotic__A4GALT      | 0 | -0.19754753 | 7.813121e-07 | 0.0183428636 | 0.130 | 0.248 | NA | NA | NA | NA | NA | NA | NA | NA | NA | A4GALT      | 0 |\n",
       "| 4 | GC_mitotic | NA | GC_mitotic__AAAS        | 0 |  0.10908761 | 1.099515e-05 | 0.2581332145 | 0.785 | 0.542 | NA | NA | NA | NA | NA | NA | NA | NA | NA | AAAS        | 0 |\n",
       "| 5 | GC_mitotic | NA | GC_mitotic__AACS        | 0 | -0.05749859 | 4.215926e-02 | 1.0000000000 | 0.075 | 0.085 | NA | NA | NA | NA | NA | NA | NA | NA | NA | AACS        | 0 |\n",
       "| 6 | GC_mitotic | NA | GC_mitotic__AADACL2-AS1 | 0 |  0.03099426 | 1.004445e-01 | 1.0000000000 | 0.260 | 0.169 | NA | NA | NA | NA | NA | NA | NA | NA | NA | AADACL2-AS1 | 0 |\n",
       "\n"
      ],
      "text/plain": [
       "  cluster    gene ID                      scRNA_DEGs scRNA_DEGs_avg_logFC\n",
       "1 GC_mitotic NA   GC_mitotic__A1BG        1           0.12690515         \n",
       "2 GC_mitotic NA   GC_mitotic__A2M         0           0.08178806         \n",
       "3 GC_mitotic NA   GC_mitotic__A4GALT      0          -0.19754753         \n",
       "4 GC_mitotic NA   GC_mitotic__AAAS        0           0.10908761         \n",
       "5 GC_mitotic NA   GC_mitotic__AACS        0          -0.05749859         \n",
       "6 GC_mitotic NA   GC_mitotic__AADACL2-AS1 0           0.03099426         \n",
       "  scRNA_DEGs_p_val scRNA_DEGs_p_val_adj scRNA_DEGs_pct.1 scRNA_DEGs_pct.2\n",
       "1 2.464194e-08     0.0005785188         0.420            0.178           \n",
       "2 1.094769e-03     1.0000000000         0.240            0.102           \n",
       "3 7.813121e-07     0.0183428636         0.130            0.248           \n",
       "4 1.099515e-05     0.2581332145         0.785            0.542           \n",
       "5 4.215926e-02     1.0000000000         0.075            0.085           \n",
       "6 1.004445e-01     1.0000000000         0.260            0.169           \n",
       "  scRNA_TFact scRNA_TFact_avg_log2FC scRNA_TFact_p_val scRNA_TFact_p_val_adj\n",
       "1 NA          NA                     NA                NA                   \n",
       "2 NA          NA                     NA                NA                   \n",
       "3 NA          NA                     NA                NA                   \n",
       "4 NA          NA                     NA                NA                   \n",
       "5 NA          NA                     NA                NA                   \n",
       "6 NA          NA                     NA                NA                   \n",
       "  snATAC_PWM snATAC_TFact snATAC_TFact_avg_log2FC snATAC_TFact_p_val\n",
       "1 NA         NA           NA                      NA                \n",
       "2 NA         NA           NA                      NA                \n",
       "3 NA         NA           NA                      NA                \n",
       "4 NA         NA           NA                      NA                \n",
       "5 NA         NA           NA                      NA                \n",
       "6 NA         NA           NA                      NA                \n",
       "  snATAC_TFact_p_val_adj TF          N_agreement\n",
       "1 NA                     A1BG        1          \n",
       "2 NA                     A2M         0          \n",
       "3 NA                     A4GALT      0          \n",
       "4 NA                     AAAS        0          \n",
       "5 NA                     AACS        0          \n",
       "6 NA                     AADACL2-AS1 0          "
      ]
     },
     "metadata": {},
     "output_type": "display_data"
    }
   ],
   "source": [
    "df = df[ , ! names(df) %in% c('L1' ) ]\n",
    "df$cluster = strsplit(df$ID, '__') %>% sapply(., head, 1)\n",
    "df$TF = strsplit(df$ID, '__') %>% sapply(., tail, 1)\n",
    "df = df[, sort(names(df)) ]\n",
    "df$N_agreement = apply(df[, c('scRNA_DEGs', 'scRNA_TFact', 'snATAC_TFact') ], 1, function(x){\n",
    "    x[ is.na(x) ] = 0\n",
    "    sum(x)\n",
    "})\n",
    "df = df[, -1]\n",
    "head(df)"
   ]
  },
  {
   "cell_type": "code",
   "execution_count": 14,
   "metadata": {},
   "outputs": [
    {
     "data": {
      "text/html": [
       "<table class=\"dataframe\">\n",
       "<caption>A data.frame: 6 × 20</caption>\n",
       "<thead>\n",
       "\t<tr><th></th><th scope=col>cluster</th><th scope=col>TF</th><th scope=col>N_agreement</th><th scope=col>snATAC_PWM</th><th scope=col>ID</th><th scope=col>scRNA_DEGs</th><th scope=col>scRNA_DEGs_avg_logFC</th><th scope=col>scRNA_DEGs_p_val</th><th scope=col>scRNA_DEGs_p_val_adj</th><th scope=col>scRNA_DEGs_pct.1</th><th scope=col>scRNA_DEGs_pct.2</th><th scope=col>scRNA_TFact</th><th scope=col>scRNA_TFact_avg_log2FC</th><th scope=col>scRNA_TFact_p_val</th><th scope=col>scRNA_TFact_p_val_adj</th><th scope=col>snATAC_PWM.1</th><th scope=col>snATAC_TFact</th><th scope=col>snATAC_TFact_avg_log2FC</th><th scope=col>snATAC_TFact_p_val</th><th scope=col>snATAC_TFact_p_val_adj</th></tr>\n",
       "\t<tr><th></th><th scope=col>&lt;chr&gt;</th><th scope=col>&lt;chr&gt;</th><th scope=col>&lt;dbl&gt;</th><th scope=col>&lt;chr&gt;</th><th scope=col>&lt;chr&gt;</th><th scope=col>&lt;dbl&gt;</th><th scope=col>&lt;dbl&gt;</th><th scope=col>&lt;dbl&gt;</th><th scope=col>&lt;dbl&gt;</th><th scope=col>&lt;dbl&gt;</th><th scope=col>&lt;dbl&gt;</th><th scope=col>&lt;dbl&gt;</th><th scope=col>&lt;dbl&gt;</th><th scope=col>&lt;dbl&gt;</th><th scope=col>&lt;dbl&gt;</th><th scope=col>&lt;chr&gt;</th><th scope=col>&lt;dbl&gt;</th><th scope=col>&lt;dbl&gt;</th><th scope=col>&lt;dbl&gt;</th><th scope=col>&lt;dbl&gt;</th></tr>\n",
       "</thead>\n",
       "<tbody>\n",
       "\t<tr><th scope=row>5123</th><td>GC_mitotic     </td><td>HOXA5</td><td>3</td><td>HOXA5.MA0158.1.1    </td><td>GC_mitotic__HOXA5     </td><td>1</td><td>0.1884437</td><td>1.042499e-12</td><td>2.447475e-08</td><td>0.390</td><td>0.105</td><td>1</td><td>0.3878363</td><td>3.212809e-13</td><td>4.449740e-10</td><td>HOXA5.MA0158.1.1    </td><td>1</td><td>1.9730629</td><td>4.052564e-09</td><td>7.780923e-06</td></tr>\n",
       "\t<tr><th scope=row>7329</th><td>GC_mitotic     </td><td>NFIA </td><td>3</td><td>NFIA-HUMAN.H10MO.S.1</td><td>GC_mitotic__NFIA      </td><td>1</td><td>0.1705531</td><td>2.282502e-07</td><td>5.358630e-03</td><td>0.530</td><td>0.280</td><td>1</td><td>0.5336686</td><td>4.086865e-19</td><td>5.660308e-16</td><td>NFIA-HUMAN.H10MO.S.1</td><td>1</td><td>6.5930849</td><td>3.407997e-32</td><td>6.543355e-29</td></tr>\n",
       "\t<tr><th scope=row>32142</th><td>oogonia_meiosis</td><td>KLF10</td><td>3</td><td>KLF10.HOMER.3       </td><td>oogonia_meiosis__KLF10</td><td>1</td><td>0.5677691</td><td>6.617410e-09</td><td>1.553569e-04</td><td>0.400</td><td>0.479</td><td>1</td><td>0.2870639</td><td>1.464499e-12</td><td>2.028332e-09</td><td>KLF10.HOMER.3       </td><td>1</td><td>1.2544136</td><td>6.144267e-12</td><td>1.179699e-08</td></tr>\n",
       "\t<tr><th scope=row>36807</th><td>oogonia_meiosis</td><td>SOX30</td><td>3</td><td>SOX30.SwissRegulon.3</td><td>oogonia_meiosis__SOX30</td><td>1</td><td>0.3588502</td><td>5.536458e-09</td><td>1.299794e-04</td><td>0.205</td><td>0.116</td><td>1</td><td>1.0267208</td><td>5.894308e-65</td><td>8.163617e-62</td><td>SOX30.SwissRegulon.3</td><td>1</td><td>0.7451790</td><td>5.138769e-06</td><td>9.866436e-03</td></tr>\n",
       "\t<tr><th scope=row>44639</th><td>oogonia_STRA8  </td><td>HOXA2</td><td>3</td><td>HOXA2.HOMER.2       </td><td>oogonia_STRA8__HOXA2  </td><td>1</td><td>0.1490289</td><td>1.742450e-25</td><td>4.090750e-21</td><td>0.245</td><td>0.026</td><td>1</td><td>0.4544766</td><td>1.736572e-10</td><td>2.405152e-07</td><td>HOXA2.HOMER.2       </td><td>1</td><td>0.3725193</td><td>1.482851e-35</td><td>2.847074e-32</td></tr>\n",
       "\t<tr><th scope=row>44640</th><td>oogonia_STRA8  </td><td>HOXA3</td><td>3</td><td>HOXA3.SwissRegulon.2</td><td>oogonia_STRA8__HOXA3  </td><td>1</td><td>0.1300804</td><td>2.599976e-08</td><td>6.103963e-04</td><td>0.360</td><td>0.112</td><td>1</td><td>0.9092205</td><td>1.803154e-28</td><td>2.497368e-25</td><td>HOXA3.SwissRegulon.2</td><td>1</td><td>0.4873332</td><td>5.638224e-14</td><td>1.082539e-10</td></tr>\n",
       "</tbody>\n",
       "</table>\n"
      ],
      "text/latex": [
       "A data.frame: 6 × 20\n",
       "\\begin{tabular}{r|llllllllllllllllllll}\n",
       "  & cluster & TF & N\\_agreement & snATAC\\_PWM & ID & scRNA\\_DEGs & scRNA\\_DEGs\\_avg\\_logFC & scRNA\\_DEGs\\_p\\_val & scRNA\\_DEGs\\_p\\_val\\_adj & scRNA\\_DEGs\\_pct.1 & scRNA\\_DEGs\\_pct.2 & scRNA\\_TFact & scRNA\\_TFact\\_avg\\_log2FC & scRNA\\_TFact\\_p\\_val & scRNA\\_TFact\\_p\\_val\\_adj & snATAC\\_PWM.1 & snATAC\\_TFact & snATAC\\_TFact\\_avg\\_log2FC & snATAC\\_TFact\\_p\\_val & snATAC\\_TFact\\_p\\_val\\_adj\\\\\n",
       "  & <chr> & <chr> & <dbl> & <chr> & <chr> & <dbl> & <dbl> & <dbl> & <dbl> & <dbl> & <dbl> & <dbl> & <dbl> & <dbl> & <dbl> & <chr> & <dbl> & <dbl> & <dbl> & <dbl>\\\\\n",
       "\\hline\n",
       "\t5123 & GC\\_mitotic      & HOXA5 & 3 & HOXA5.MA0158.1.1     & GC\\_mitotic\\_\\_HOXA5      & 1 & 0.1884437 & 1.042499e-12 & 2.447475e-08 & 0.390 & 0.105 & 1 & 0.3878363 & 3.212809e-13 & 4.449740e-10 & HOXA5.MA0158.1.1     & 1 & 1.9730629 & 4.052564e-09 & 7.780923e-06\\\\\n",
       "\t7329 & GC\\_mitotic      & NFIA  & 3 & NFIA-HUMAN.H10MO.S.1 & GC\\_mitotic\\_\\_NFIA       & 1 & 0.1705531 & 2.282502e-07 & 5.358630e-03 & 0.530 & 0.280 & 1 & 0.5336686 & 4.086865e-19 & 5.660308e-16 & NFIA-HUMAN.H10MO.S.1 & 1 & 6.5930849 & 3.407997e-32 & 6.543355e-29\\\\\n",
       "\t32142 & oogonia\\_meiosis & KLF10 & 3 & KLF10.HOMER.3        & oogonia\\_meiosis\\_\\_KLF10 & 1 & 0.5677691 & 6.617410e-09 & 1.553569e-04 & 0.400 & 0.479 & 1 & 0.2870639 & 1.464499e-12 & 2.028332e-09 & KLF10.HOMER.3        & 1 & 1.2544136 & 6.144267e-12 & 1.179699e-08\\\\\n",
       "\t36807 & oogonia\\_meiosis & SOX30 & 3 & SOX30.SwissRegulon.3 & oogonia\\_meiosis\\_\\_SOX30 & 1 & 0.3588502 & 5.536458e-09 & 1.299794e-04 & 0.205 & 0.116 & 1 & 1.0267208 & 5.894308e-65 & 8.163617e-62 & SOX30.SwissRegulon.3 & 1 & 0.7451790 & 5.138769e-06 & 9.866436e-03\\\\\n",
       "\t44639 & oogonia\\_STRA8   & HOXA2 & 3 & HOXA2.HOMER.2        & oogonia\\_STRA8\\_\\_HOXA2   & 1 & 0.1490289 & 1.742450e-25 & 4.090750e-21 & 0.245 & 0.026 & 1 & 0.4544766 & 1.736572e-10 & 2.405152e-07 & HOXA2.HOMER.2        & 1 & 0.3725193 & 1.482851e-35 & 2.847074e-32\\\\\n",
       "\t44640 & oogonia\\_STRA8   & HOXA3 & 3 & HOXA3.SwissRegulon.2 & oogonia\\_STRA8\\_\\_HOXA3   & 1 & 0.1300804 & 2.599976e-08 & 6.103963e-04 & 0.360 & 0.112 & 1 & 0.9092205 & 1.803154e-28 & 2.497368e-25 & HOXA3.SwissRegulon.2 & 1 & 0.4873332 & 5.638224e-14 & 1.082539e-10\\\\\n",
       "\\end{tabular}\n"
      ],
      "text/markdown": [
       "\n",
       "A data.frame: 6 × 20\n",
       "\n",
       "| <!--/--> | cluster &lt;chr&gt; | TF &lt;chr&gt; | N_agreement &lt;dbl&gt; | snATAC_PWM &lt;chr&gt; | ID &lt;chr&gt; | scRNA_DEGs &lt;dbl&gt; | scRNA_DEGs_avg_logFC &lt;dbl&gt; | scRNA_DEGs_p_val &lt;dbl&gt; | scRNA_DEGs_p_val_adj &lt;dbl&gt; | scRNA_DEGs_pct.1 &lt;dbl&gt; | scRNA_DEGs_pct.2 &lt;dbl&gt; | scRNA_TFact &lt;dbl&gt; | scRNA_TFact_avg_log2FC &lt;dbl&gt; | scRNA_TFact_p_val &lt;dbl&gt; | scRNA_TFact_p_val_adj &lt;dbl&gt; | snATAC_PWM.1 &lt;chr&gt; | snATAC_TFact &lt;dbl&gt; | snATAC_TFact_avg_log2FC &lt;dbl&gt; | snATAC_TFact_p_val &lt;dbl&gt; | snATAC_TFact_p_val_adj &lt;dbl&gt; |\n",
       "|---|---|---|---|---|---|---|---|---|---|---|---|---|---|---|---|---|---|---|---|---|\n",
       "| 5123 | GC_mitotic      | HOXA5 | 3 | HOXA5.MA0158.1.1     | GC_mitotic__HOXA5      | 1 | 0.1884437 | 1.042499e-12 | 2.447475e-08 | 0.390 | 0.105 | 1 | 0.3878363 | 3.212809e-13 | 4.449740e-10 | HOXA5.MA0158.1.1     | 1 | 1.9730629 | 4.052564e-09 | 7.780923e-06 |\n",
       "| 7329 | GC_mitotic      | NFIA  | 3 | NFIA-HUMAN.H10MO.S.1 | GC_mitotic__NFIA       | 1 | 0.1705531 | 2.282502e-07 | 5.358630e-03 | 0.530 | 0.280 | 1 | 0.5336686 | 4.086865e-19 | 5.660308e-16 | NFIA-HUMAN.H10MO.S.1 | 1 | 6.5930849 | 3.407997e-32 | 6.543355e-29 |\n",
       "| 32142 | oogonia_meiosis | KLF10 | 3 | KLF10.HOMER.3        | oogonia_meiosis__KLF10 | 1 | 0.5677691 | 6.617410e-09 | 1.553569e-04 | 0.400 | 0.479 | 1 | 0.2870639 | 1.464499e-12 | 2.028332e-09 | KLF10.HOMER.3        | 1 | 1.2544136 | 6.144267e-12 | 1.179699e-08 |\n",
       "| 36807 | oogonia_meiosis | SOX30 | 3 | SOX30.SwissRegulon.3 | oogonia_meiosis__SOX30 | 1 | 0.3588502 | 5.536458e-09 | 1.299794e-04 | 0.205 | 0.116 | 1 | 1.0267208 | 5.894308e-65 | 8.163617e-62 | SOX30.SwissRegulon.3 | 1 | 0.7451790 | 5.138769e-06 | 9.866436e-03 |\n",
       "| 44639 | oogonia_STRA8   | HOXA2 | 3 | HOXA2.HOMER.2        | oogonia_STRA8__HOXA2   | 1 | 0.1490289 | 1.742450e-25 | 4.090750e-21 | 0.245 | 0.026 | 1 | 0.4544766 | 1.736572e-10 | 2.405152e-07 | HOXA2.HOMER.2        | 1 | 0.3725193 | 1.482851e-35 | 2.847074e-32 |\n",
       "| 44640 | oogonia_STRA8   | HOXA3 | 3 | HOXA3.SwissRegulon.2 | oogonia_STRA8__HOXA3   | 1 | 0.1300804 | 2.599976e-08 | 6.103963e-04 | 0.360 | 0.112 | 1 | 0.9092205 | 1.803154e-28 | 2.497368e-25 | HOXA3.SwissRegulon.2 | 1 | 0.4873332 | 5.638224e-14 | 1.082539e-10 |\n",
       "\n"
      ],
      "text/plain": [
       "      cluster         TF    N_agreement snATAC_PWM          \n",
       "5123  GC_mitotic      HOXA5 3           HOXA5.MA0158.1.1    \n",
       "7329  GC_mitotic      NFIA  3           NFIA-HUMAN.H10MO.S.1\n",
       "32142 oogonia_meiosis KLF10 3           KLF10.HOMER.3       \n",
       "36807 oogonia_meiosis SOX30 3           SOX30.SwissRegulon.3\n",
       "44639 oogonia_STRA8   HOXA2 3           HOXA2.HOMER.2       \n",
       "44640 oogonia_STRA8   HOXA3 3           HOXA3.SwissRegulon.2\n",
       "      ID                     scRNA_DEGs scRNA_DEGs_avg_logFC scRNA_DEGs_p_val\n",
       "5123  GC_mitotic__HOXA5      1          0.1884437            1.042499e-12    \n",
       "7329  GC_mitotic__NFIA       1          0.1705531            2.282502e-07    \n",
       "32142 oogonia_meiosis__KLF10 1          0.5677691            6.617410e-09    \n",
       "36807 oogonia_meiosis__SOX30 1          0.3588502            5.536458e-09    \n",
       "44639 oogonia_STRA8__HOXA2   1          0.1490289            1.742450e-25    \n",
       "44640 oogonia_STRA8__HOXA3   1          0.1300804            2.599976e-08    \n",
       "      scRNA_DEGs_p_val_adj scRNA_DEGs_pct.1 scRNA_DEGs_pct.2 scRNA_TFact\n",
       "5123  2.447475e-08         0.390            0.105            1          \n",
       "7329  5.358630e-03         0.530            0.280            1          \n",
       "32142 1.553569e-04         0.400            0.479            1          \n",
       "36807 1.299794e-04         0.205            0.116            1          \n",
       "44639 4.090750e-21         0.245            0.026            1          \n",
       "44640 6.103963e-04         0.360            0.112            1          \n",
       "      scRNA_TFact_avg_log2FC scRNA_TFact_p_val scRNA_TFact_p_val_adj\n",
       "5123  0.3878363              3.212809e-13      4.449740e-10         \n",
       "7329  0.5336686              4.086865e-19      5.660308e-16         \n",
       "32142 0.2870639              1.464499e-12      2.028332e-09         \n",
       "36807 1.0267208              5.894308e-65      8.163617e-62         \n",
       "44639 0.4544766              1.736572e-10      2.405152e-07         \n",
       "44640 0.9092205              1.803154e-28      2.497368e-25         \n",
       "      snATAC_PWM.1         snATAC_TFact snATAC_TFact_avg_log2FC\n",
       "5123  HOXA5.MA0158.1.1     1            1.9730629              \n",
       "7329  NFIA-HUMAN.H10MO.S.1 1            6.5930849              \n",
       "32142 KLF10.HOMER.3        1            1.2544136              \n",
       "36807 SOX30.SwissRegulon.3 1            0.7451790              \n",
       "44639 HOXA2.HOMER.2        1            0.3725193              \n",
       "44640 HOXA3.SwissRegulon.2 1            0.4873332              \n",
       "      snATAC_TFact_p_val snATAC_TFact_p_val_adj\n",
       "5123  4.052564e-09       7.780923e-06          \n",
       "7329  3.407997e-32       6.543355e-29          \n",
       "32142 6.144267e-12       1.179699e-08          \n",
       "36807 5.138769e-06       9.866436e-03          \n",
       "44639 1.482851e-35       2.847074e-32          \n",
       "44640 5.638224e-14       1.082539e-10          "
      ]
     },
     "metadata": {},
     "output_type": "display_data"
    }
   ],
   "source": [
    "df = df[ order(df$N_agreement, decreasing = T) , ]\n",
    "df = df[ , c(1,19, 20,  14,  3:(ncol(df)-2)) ]\n",
    "write.csv(df, file = 'figures-germcells/0_FS1_table_TFs_intersection.csv', row.names=F)\n",
    "head(df)"
   ]
  },
  {
   "cell_type": "markdown",
   "metadata": {},
   "source": [
    "# Plot - shared"
   ]
  },
  {
   "cell_type": "code",
   "execution_count": 15,
   "metadata": {},
   "outputs": [
    {
     "data": {
      "text/html": [
       "14797"
      ],
      "text/latex": [
       "14797"
      ],
      "text/markdown": [
       "14797"
      ],
      "text/plain": [
       "[1] 14797"
      ]
     },
     "metadata": {},
     "output_type": "display_data"
    }
   ],
   "source": [
    "# Define clusters to plot \n",
    "CLofinterest = c( 'PGC', 'PGC_mitotic',\n",
    "                 'oogonia_STRA8', \n",
    "                 'oogonia_meiosis', 'oocyte',  'pre-spermatogonia')\n",
    "\n",
    "# and order accordingly\n",
    "idx_cl = sapply(CLofinterest, function(x) which(df$cluster == x)) %>% unlist(.)\n",
    "df =  df[idx_cl, ]                \n",
    "\n",
    "                \n",
    "                \n",
    "# Define clusters to plot                \n",
    "idx_tf = which(df$N_agreement == 3 | \n",
    "               (df$N_agreement == 2 & df$scRNA_DEGs == 1 & df$scRNA_DEGs_avg_logFC > 0.5 ) |\n",
    "               (df$N_agreement == 2 & df$scRNA_DEGs == 1 & df$snATAC_TFact_avg_log2FC > 1 ) |\n",
    "               (df$N_agreement == 2 & df$scRNA_DEGs == 1 & df$scRNA_TFact_avg_log2FC > 1 )\n",
    "              )\n",
    "TFofinterest = unique(df[idx_tf, ]$TF  )\n",
    "length(TFofinterest)\n",
    "write.csv(df[idx_tf, ], file = 'figures-germcells/0_FS1_table_TFs_intersection_SELECTED.csv', row.names=F)\n",
    "# TFofinterest = c('POU5F1',  'KLF4', 'TFAP2C', 'ETV5', 'NANOG',  'SOX15',  'SOX17', \n",
    "#                  'ESX1', 'ZGLP1', 'RARA',  'HOXA2', 'HOXA4', 'HOXA5', 'HOXB3','RFX6',\n",
    "#                  'DMRTB1', 'DMRTC2', 'HMGA1', \n",
    "#                  'FIGLA', 'NOBOX', 'SOHLH1',   'SALL3', 'ZFPM2', 'TP63',\n",
    "#                 'MSX2', 'HOXC10', 'HOXD11', 'HSF1', 'HSF2', 'SMAD1', 'SIX1')"
   ]
  },
  {
   "cell_type": "markdown",
   "metadata": {},
   "source": [
    "## as heatmaps"
   ]
  },
  {
   "cell_type": "code",
   "execution_count": 16,
   "metadata": {},
   "outputs": [],
   "source": [
    "# Load TF act Dorothea matrix\n",
    "x_TFact = read.csv('figures-germcells/0_FS1_table_TFact_percluster.csv', stringsAsFactors = F, row.names = 1)\n",
    "colnames(x_TFact) = strsplit(colnames(x_TFact), split = '\\\\.') %>% sapply(., head, 1)\n",
    "x_TFact = x_TFact[ rownames(x_TFact) %in% CLofinterest , colnames(x_TFact) %in%  TFofinterest ]\n",
    "rn = rownames(x_TFact)\n",
    "x_TFact = apply(x_TFact, 2, scale)\n",
    "rownames(x_TFact) = rn\n",
    "\n",
    "# Add labels\n",
    "x_TFact_Lab = x_TFact\n",
    "x_TFact_Lab[] = ''\n",
    "for (i in rownames(x_TFact_Lab) )\n",
    "    for (j in colnames(x_TFact_Lab) ){\n",
    "        x = subset(df, cluster == i & TF == j)\n",
    "        if( nrow(x) == 1 )\n",
    "             if( x[3] > 0 & ! is.na(x[12])){\n",
    "                 if(x[12] == 1 )\n",
    "                         x_TFact_Lab[i,j] = 'a'\n",
    "                 if(x[3] == 3 )\n",
    "                         x_TFact_Lab[i,j] = '*'\n",
    "             }\n",
    "#              if( x[3] > 1 & ! is.na(x[12])){\n",
    "#                 if(x[3] == 3)\n",
    "#                     x_TFact_Lab[i,j] = '*'\n",
    "#                  if ( x[3] == 2 & x[12] == 1 ){\n",
    "#                     if( ! is.na( x[17])) \n",
    "#                         if(x[17] == 1)\n",
    "#                          x_TFact_Lab[i,j] = 'o'\n",
    "#                     if( ! is.na( x[6])) \n",
    "#                         if(x[6] == 1 )\n",
    "#                          x_TFact_Lab[i,j] = 'e'\n",
    "#                     }\n",
    "\n",
    "#             }\n",
    "    }\n",
    "            \n",
    "            \n",
    "\n",
    "# Load TFmotifs matrix\n",
    "x_TFmotifs = read.csv('/nfs/team292/vl6/my_MULTIOME_dir/germcells_apr2021/germcells__chromvar_celltype_zscore.csv', stringsAsFactors = F, row.names = 1)\n",
    "x_TFmotifs = x_TFmotifs[ rownames(x_TFmotifs) %in% CLofinterest , ]\n",
    "\n",
    "idx = colnames(x_TFmotifs) %in% TFmotifs$X\n",
    "x_TFmotifs = x_TFmotifs[ , idx ] # remove duplicated motifs to match TFmotifs\n",
    "colnames(x_TFmotifs) = strsplit(colnames(x_TFmotifs), split = '\\\\.') %>% sapply(., head, 1)\n",
    "\n",
    "\n",
    "# Load Expr matrix\n",
    "x_Expre = read.csv('figures_manual_annotation/data_utils/average_log.csv', stringsAsFactors = F, row.names = 1) %>% t(.)\n",
    "rownames(x_Expre) = gsub('pre.spermatogonia', 'pre-spermatogonia', rownames(x_Expre))\n",
    "x_Expre = x_Expre[ rownames(x_Expre) %in% CLofinterest ,  colnames(x_Expre) %in%  TFofinterest  ]\n",
    "rn = rownames(x_Expre)\n",
    "x_Expre = apply(x_Expre, 2, scale)\n",
    "rownames(x_Expre) = rn\n",
    "\n",
    "# Add labels\n",
    "x_Expre_Lab = x_Expre\n",
    "x_Expre_Lab[] = ''\n",
    "for (i in rownames(x_Expre_Lab) )\n",
    "    for (j in colnames(x_Expre_Lab) ){\n",
    "        x = subset(df, cluster == i & TF == j)\n",
    "        if( nrow(x) == 1 )\n",
    "             if( x[3] > 1 & ! is.na(x[6]) ){\n",
    "                if(x[3] == 3)\n",
    "                    x_Expre_Lab[i,j] = '*'\n",
    "                 if ( x[3] == 2 & x[6] == 1 ){\n",
    "                    if( ! is.na( x[17])) \n",
    "                        if(x[17] == 1)\n",
    "                         x_Expre_Lab[i,j] = 'o'\n",
    "                    if( ! is.na( x[12])) \n",
    "                        if(x[12] == 1 )\n",
    "                         x_Expre_Lab[i,j] = 'a'\n",
    "                    }\n",
    "\n",
    "            }\n",
    "    }\n"
   ]
  },
  {
   "cell_type": "code",
   "execution_count": 17,
   "metadata": {},
   "outputs": [
    {
     "name": "stdout",
     "output_type": "stream",
     "text": [
      "[1] \"PGC\"               \"PGC_mitotic\"       \"oogonia_STRA8\"    \n",
      "[4] \"oogonia_meiosis\"   \"oocyte\"            \"pre-spermatogonia\"\n",
      "[1]    6 1376\n",
      "[1] \"PGC\"               \"PGC_mitotic\"       \"oogonia_STRA8\"    \n",
      "[4] \"oogonia_meiosis\"   \"oocyte\"            \"pre-spermatogonia\"\n",
      "[1]     6 14791\n"
     ]
    },
    {
     "ename": "ERROR",
     "evalue": "Error in seq.default(min(X), 0, length.out = ceiling(paletteLength/2) + : 'from' must be a finite number\n",
     "output_type": "error",
     "traceback": [
      "Error in seq.default(min(X), 0, length.out = ceiling(paletteLength/2) + : 'from' must be a finite number\nTraceback:\n",
      "1. myHeatmap(x_Expre, TFofinterest, CLofinterest, \"figures-germcells/0_FS1_heatmap_TFintersection_scRNA_DEGs.pdf\", \n .     display_numbers = x_Expre_Lab)",
      "2. seq(min(X), 0, length.out = ceiling(paletteLength/2) + 1)   # at line 12-13 of file <text>",
      "3. seq.default(min(X), 0, length.out = ceiling(paletteLength/2) + \n .     1)",
      "4. stop(\"'from' must be a finite number\")"
     ]
    }
   ],
   "source": [
    "myHeatmap = function(X, TFs, cl, pdf_file, display_numbers = NULL){\n",
    "    print(cl)\n",
    "    tfs = intersect(TFs, colnames(X))\n",
    "    cls =  intersect(cl, rownames(X))\n",
    "    X = X[ cls,  tfs ]\n",
    "    print(dim(X))\n",
    "    \n",
    "    paletteLength <- 50\n",
    "    myColor <- colorRampPalette(c(brewer.pal(n = 5, name = 'Blues')[4], \"white\", brewer.pal(n = 5, name = 'Reds')[4]))(paletteLength)\n",
    "    # length(breaks) == length(paletteLength) + 1\n",
    "    # use floor and ceiling to deal with even/odd length pallettelengths\n",
    "    myBreaks <- c(seq(min(X), 0, length.out=ceiling(paletteLength/2) + 1), \n",
    "                  seq(max(X)/paletteLength, max(X), length.out=floor(paletteLength/2)))    \n",
    "    if( is.null(display_numbers) ){\n",
    "        pheatmap(X, cellheight = 10, cellwidth = 10, cluster_rows = F, cluster_cols = F, \n",
    "                 color=myColor, breaks=myBreaks,\n",
    "                filename = pdf_file)\n",
    "    }else{     \n",
    "        display_numbers = display_numbers[ cls,  tfs ]\n",
    "        print(dim(display_numbers))\n",
    "        pheatmap(X, cellheight = 10, cellwidth = 10, cluster_rows = F, cluster_cols = F, display_numbers = display_numbers, \n",
    "                 color=myColor, breaks=myBreaks,\n",
    "                filename = pdf_file)\n",
    "        }\n",
    "}\n",
    "myHeatmap(x_TFact, TFofinterest, CLofinterest, 'figures-germcells/0_FS1_heatmap_TFintersection_scRNA_TFact.pdf')\n",
    "myHeatmap(x_Expre, TFofinterest, CLofinterest, 'figures-germcells/0_FS1_heatmap_TFintersection_scRNA_DEGs.pdf', display_numbers = x_Expre_Lab)\n",
    "# myHeatmap(x_TFmotifs, TFofinterest, CLofinterest, 'figures-germcells/0_FS1_heatmap_TFintersection_snATAC_TFact.pdf')"
   ]
  },
  {
   "cell_type": "code",
   "execution_count": 20,
   "metadata": {},
   "outputs": [
    {
     "name": "stdout",
     "output_type": "stream",
     "text": [
      "[1] \"oocyte\"          \"oogonia_meiosis\" \"oogonia_STRA8\"   \"PGC\"            \n",
      "[1] 4 8\n",
      "[1] 4 8\n",
      "[1] \"oocyte\"          \"oogonia_meiosis\" \"oogonia_STRA8\"   \"PGC\"            \n",
      "[1] 4 8\n"
     ]
    }
   ],
   "source": [
    "# plot cellphoneDB TFs\n",
    "cellphoneTFs = c('ELK1', 'STAT1', 'STAT3', 'SMAD1', 'SMAD5', 'ZGLP1', 'RXRA', 'ESR2')\n",
    "CLofinterest = c( 'PGC', \n",
    "                 'oogonia_STRA8', \n",
    "                 'oogonia_meiosis', 'oocyte')\n",
    "#                  ,  'pre-spermatogonia')\n",
    "myHeatmap(x_TFact, cellphoneTFs, \n",
    "          rev(CLofinterest), 'figures-germcells/0_FS1_heatmap_TFact_cellphoneDB.pdf', display_numbers = x_TFact_Lab)\n",
    "\n",
    "myHeatmap(x_TFact, cellphoneTFs, rev(CLofinterest), 'figures-germcells/0_FS1_heatmap_TFact_cellphoneDBII.pdf')\n",
    "\n",
    "\n",
    "# # myHeatmap(x_Expre, cellphoneTFs, \n",
    "# #           CLofinterest, 'figures-germcells/0_FS1_heatmap_TFexp_cellphoneDB.pdf', display_numbers = x_Expre_Lab)\n",
    "\n",
    "# # myHeatmap(x_Expre, cellphoneTFs, CLofinterest, 'figures-germcells/0_FS1_heatmap_TFexp_cellphoneDBII.pdf')"
   ]
  },
  {
   "cell_type": "markdown",
   "metadata": {},
   "source": [
    "## what are the Dorothea targets of the new TFs"
   ]
  },
  {
   "cell_type": "code",
   "execution_count": null,
   "metadata": {},
   "outputs": [],
   "source": [
    "# newTFs = c('SOX4', 'HOXA2', 'HOXA4', 'HOXA5', 'HOXB5', 'MXD4', 'DMRTB1', 'TP63')\n",
    "# source('G_lib_TFacts.r')\n",
    "# dorothea_regulon$TF_name = strsplit(dorothea_regulon$tf, '_') %>% sapply(., head, 1 )"
   ]
  },
  {
   "cell_type": "code",
   "execution_count": null,
   "metadata": {},
   "outputs": [],
   "source": [
    "# markers_crosspecie = c('DPPA4', 'ETV4', 'IFITM1', 'KIT', 'MYBL2', 'NANOG', 'NANOS3', 'POU5F1', 'PRDM1', 'RCC2', 'SALL4', 'SOX15', 'SOX17', 'TEAD4', 'TFAP2C', 'XIST', 'GATA3', 'PPARA', \n",
    "#     'DAZL', 'DDX4', 'MAEL', 'ESX1', 'MSX1', 'RFX6', 'STRA8', 'ZGLP1', \n",
    "#     'CHMP2A', 'DMC1', 'DMRTC2', 'INCA1', 'MEIKIN', 'MEIOB', 'MSH4', 'RAD51AP2', 'SPO11', 'SYCP1', 'SYCP3', 'TEX11', 'ZNF711', 'MLH3', 'ZNF131', 'ASTL', 'FIGLA', 'GDF9', 'JAG1', 'NOBOX', 'OOSP2', 'SOHLH1', 'SOHLH2', 'YBX2', 'ZAR1', 'ZP3','BMP15','FOXO3')\n",
    "\n",
    "\n",
    "# subset(dorothea_regulon, TF_name %in% newTFs & \n",
    "#        target %in% DEGs$gene[ DEGs$scRNA_DEGs_p_val_adj < 0.1] &\n",
    "#       target %in% markers_crosspecie )\n",
    "\n",
    "# subset(dorothea_regulon, TF_name %in% 'MXD4'  & \n",
    "#        target %in% DEGs$gene[ DEGs$scRNA_DEGs_p_val_adj < 0.001 & DEGs$scRNA_DEGs_avg_log2FC > 0.5 & DEGs$cluster == 'oogonia_STRA8' ])\n",
    "\n",
    "\n",
    "# subset(dorothea_regulon, TF_name %in% 'ZGLP1'  & \n",
    "#        target %in% DEGs$gene[ DEGs$scRNA_DEGs_p_val_adj < 0.001 & DEGs$scRNA_DEGs_avg_log2FC > 0.5 & DEGs$cluster == 'oogonia_STRA8' ])"
   ]
  },
  {
   "cell_type": "code",
   "execution_count": null,
   "metadata": {},
   "outputs": [],
   "source": []
  },
  {
   "cell_type": "code",
   "execution_count": null,
   "metadata": {},
   "outputs": [],
   "source": []
  }
 ],
 "metadata": {
  "kernelspec": {
   "display_name": "R",
   "language": "R",
   "name": "ir"
  },
  "language_info": {
   "codemirror_mode": "r",
   "file_extension": ".r",
   "mimetype": "text/x-r-source",
   "name": "R",
   "pygments_lexer": "r",
   "version": "4.0.3"
  }
 },
 "nbformat": 4,
 "nbformat_minor": 4
}
