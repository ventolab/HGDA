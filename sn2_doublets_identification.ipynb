{
 "cells": [
  {
   "cell_type": "markdown",
   "metadata": {},
   "source": [
    "# FCA analysis - doublets identification"
   ]
  },
  {
   "cell_type": "code",
   "execution_count": 1,
   "metadata": {},
   "outputs": [
    {
     "name": "stdout",
     "output_type": "stream",
     "text": [
      "scanpy==1.5.1 anndata==0.7.4 umap==0.4.6 numpy==1.19.2 scipy==1.5.3 pandas==1.1.4 scikit-learn==0.23.2 statsmodels==0.12.1 python-igraph==0.8.3 louvain==0.7.0 leidenalg==0.8.2\n"
     ]
    },
    {
     "data": {
      "text/plain": [
       "'/home/jovyan/my-conda-envs/SCanalysis/bin/python'"
      ]
     },
     "execution_count": 1,
     "metadata": {},
     "output_type": "execute_result"
    }
   ],
   "source": [
    "import numpy as np\n",
    "import pandas as pd\n",
    "import scanpy as sc\n",
    "import os\n",
    "import sys\n",
    "import warnings\n",
    "warnings.filterwarnings('ignore')\n",
    "\n",
    "\n",
    "def MovePlots(plotpattern, subplotdir):\n",
    "    os.system('mkdir -p '+str(sc.settings.figdir)+'/'+subplotdir)\n",
    "    os.system('mv '+str(sc.settings.figdir)+'/*'+plotpattern+'** '+str(sc.settings.figdir)+'/'+subplotdir)\n",
    "\n",
    "\n",
    "sc.settings.verbosity = 0  # verbosity: errors (0), warnings (1), info (2), hints (3)\n",
    "sc.settings.figdir = './figures-sn/doublet/'\n",
    "sc.logging.print_versions()\n",
    "sc.settings.set_figure_params(dpi=80)  # low dpi (dots per inch) yields small inline figures\n",
    "\n",
    "sys.executable"
   ]
  },
  {
   "cell_type": "markdown",
   "metadata": {},
   "source": [
    "## Scrumblet code"
   ]
  },
  {
   "cell_type": "code",
   "execution_count": 2,
   "metadata": {},
   "outputs": [],
   "source": [
    "from scanpy import logging as logg\n",
    "from scanpy.neighbors import neighbors\n",
    "from anndata import AnnData\n",
    "from scipy.sparse import csc_matrix\n",
    "import numpy as np\n",
    "\n",
    "\n",
    "def woublet(\n",
    "        adata,\n",
    "        sim_doublet_ratio=2,\n",
    "        n_neighbors=30,\n",
    "        expected_doublet_rate=0.1,\n",
    "        total_counts_key = 'n_counts',\n",
    "        copy=False):\n",
    "    \"\"\" Method for detecting mixed-celltype doublets. More documentation coming. In the meantime, email Sam Wolock with questions: swolock@g.harvard.edu\n",
    "    adata: scanpy AnnData data matrix\n",
    "    sim_doublet_ratio: number of doublets to simulate, relative to the number of observed transcriptomes (=adata.X.shape[0])\n",
    "    n_neighbors: number of neighbors used in the k-nearest-neighbor classifier\n",
    "    expected_doublet_rate: expected frequency of doublets. If unknown, a reasonable guess is 0.05. This parameter rescales the doublet scores but does not affect their ordering.\n",
    "    total_counts_key: name of the field in adata.obs that contains total counts per cell, used for weighting a cell's relative contribution to simulated doublets. If not present, all cells are weighted equally.\n",
    "    \"\"\"\n",
    "    adata = adata.copy() if copy else adata\n",
    "\n",
    "    if 'X_pca' not in adata.obsm_keys():\n",
    "        raise ValueError(\n",
    "            'Did not find \\'X_pca\\'. Run `sc.pp.pca` first.')\n",
    "\n",
    "    if total_counts_key in adata.obs:\n",
    "        total_counts = np.array(adata.obs[total_counts_key])\n",
    "    else:\n",
    "        total_counts = np.ones(adata.X.shape[0])\n",
    "\n",
    "    # Simulate doublets by averaging PC coordinates of random cell pairs\n",
    "    logg.info('Simulating doublets')\n",
    "    PCdat, doub_labels, parent_ix = simulate_doublets_from_pca(adata.obsm['X_pca'], \n",
    "        total_counts=total_counts, \n",
    "        sim_doublet_ratio=sim_doublet_ratio)\n",
    "\n",
    "\n",
    "    adata_doub = AnnData(csc_matrix((PCdat.shape[0], 1)))\n",
    "    adata_doub.obsm['X_pca'] = PCdat\n",
    "\n",
    "    # Calculate doublet scores using k-nearest-neighbor classifier\n",
    "    logg.info('Running KNN classifier')\n",
    "    adata.obs['doublet_score'], adata.uns['sim_doublet_score'] = calculate_doublet_scores(\n",
    "        adata_doub, \n",
    "        doub_labels, \n",
    "        n_neighbors=n_neighbors, \n",
    "        expected_doublet_rate = expected_doublet_rate)\n",
    "\n",
    "    adata.obs['doublet_score']\n",
    "\n",
    "    return adata if copy else None\n",
    "\n",
    "\n",
    "\n",
    "#========================================================================================#\n",
    "\n",
    "def simulate_doublets_from_pca(PCdat, total_counts=[], sim_doublet_ratio=1):\n",
    "    '''\n",
    "    Simulate doublets by averaging PCA coordinates of random cell pairs.\n",
    "    Average is weighted by total counts of each parent cell, if provided.\n",
    "\n",
    "    Returns:\n",
    "    PCdoub (matrix of size (num_cells+num_sim_doubs, num_pcs)): PCA matrix with the simulated doublet PCA coordinates appended to the original data matrix PCdat.\n",
    "    doub_labels (array of size (num_cells+num_sim_doubs)): 0 if observed cell, 1 if simulated doublet\n",
    "    pair_ix (matrix of size(num_sim_doubs, 2)): each row gives the indices of the parent cells used to generate the simulated doublet\n",
    "    '''\n",
    "\n",
    "    n_obs = PCdat.shape[0]\n",
    "    n_doub = int(n_obs * sim_doublet_ratio)\n",
    "\n",
    "    if len(total_counts) == 0:\n",
    "        total_counts = np.ones(n_obs)\n",
    "\n",
    "    pair_ix = np.random.randint(0, n_obs, size=(n_doub, 2))\n",
    "\n",
    "    pair_tots = np.hstack((total_counts[pair_ix[:, 0]][:,None], total_counts[pair_ix[:, 1]][:,None]))\n",
    "    pair_tots = np.array(pair_tots, dtype=float)\n",
    "    pair_fracs = pair_tots / np.sum(pair_tots, axis=1)[:,None]\n",
    "\n",
    "    PCdoub = PCdat[pair_ix[:, 0],:] * pair_fracs[:, 0][:,None] + PCdat[pair_ix[:, 1],:] * pair_fracs[:, 1][:,None]\n",
    "\n",
    "    PCdoub = np.vstack((PCdat, PCdoub))\n",
    "    doub_labels = np.concatenate((np.zeros(n_obs), np.ones(n_doub)))\n",
    "\n",
    "    return PCdoub, doub_labels, pair_ix\n",
    "\n",
    "#========================================================================================#\n",
    "\n",
    "def calculate_doublet_scores(adata, doub_labels, n_neighbors=30, expected_doublet_rate = 1.0):\n",
    "    n_obs = sum(doub_labels == 0)\n",
    "    n_sim = sum(doub_labels == 1)\n",
    "\n",
    "    # Adjust k (number of nearest neighbors) based on the ratio of simulated to observed cells\n",
    "    k_adj = int(round(n_neighbors * (1+n_sim/float(n_obs))))\n",
    "\n",
    "    # Find k_adj nearest neighbors\n",
    "    neighbors(adata, n_neighbors = k_adj, use_rep = 'X_pca')\n",
    "\n",
    "    # Calculate doublet score based on ratio of simulated cell neighbors vs. observed cell neighbors\n",
    "    matrix = adata.uns['neighbors']['distances']\n",
    "    n_sim_neigh = (matrix[:,doub_labels == 1]>0).sum(1).A.squeeze()\n",
    "    n_obs_neigh = (matrix[:,doub_labels == 0]>0).sum(1).A.squeeze()\n",
    "    \n",
    "    doub_score = n_sim_neigh / (n_sim_neigh + n_obs_neigh * n_sim / float(n_obs) / expected_doublet_rate)\n",
    "    doub_score_obs = doub_score[doub_labels == 0]\n",
    "\n",
    "    # return doublet scores for observed cells and simulated cells\n",
    "    return doub_score[doub_labels == 0], doub_score[doub_labels == 1]"
   ]
  },
  {
   "cell_type": "markdown",
   "metadata": {},
   "source": [
    "# Load data"
   ]
  },
  {
   "cell_type": "code",
   "execution_count": 3,
   "metadata": {},
   "outputs": [
    {
     "data": {
      "text/plain": [
       "(7924, 29383)"
      ]
     },
     "execution_count": 3,
     "metadata": {},
     "output_type": "execute_result"
    }
   ],
   "source": [
    "adata = sc.read('FCAsn-M0counts.h5ad')\n",
    "adata.X.shape"
   ]
  },
  {
   "cell_type": "code",
   "execution_count": 4,
   "metadata": {},
   "outputs": [],
   "source": [
    "adata.obs.index = [ i.decode(\"utf-8\") for i in adata.obs.index ]"
   ]
  },
  {
   "cell_type": "markdown",
   "metadata": {},
   "source": [
    "## Load scrublet"
   ]
  },
  {
   "cell_type": "code",
   "execution_count": 5,
   "metadata": {},
   "outputs": [
    {
     "name": "stdout",
     "output_type": "stream",
     "text": [
      "Number of samples:  4\n"
     ]
    }
   ],
   "source": [
    "data_dir = '/nfs/users/nfs_l/lg18/team292/lg18/gonads/data/dual/'\n",
    "meta = pd.read_csv(data_dir+'/meta.txt',index_col=0, sep='\\t')\n",
    "plotmeta = list(meta.columns)\n",
    "plotmeta.append('sample')\n",
    "print('Number of samples: ', meta.index.size)"
   ]
  },
  {
   "cell_type": "code",
   "execution_count": 6,
   "metadata": {},
   "outputs": [],
   "source": [
    "scorenames = ['scrublet_score','scrublet_cluster_score','zscore','bh_pval','bonf_pval']\n",
    "\n",
    "scrdf = []\n",
    "for sample in meta.index:\n",
    "    scrdf.append(pd.read_csv('scrublet-scores/'+sample+'.csv', header=0, index_col=0))\n",
    "scrdf = pd.concat(scrdf)\n",
    "scrdf.index = [i.replace('-1', '') for i in scrdf.index]\n",
    "for score in scorenames:\n",
    "    adata.obs[score] = scrdf[score]\n",
    "adata.obs['is_doublet'] = adata.obs['bonf_pval'] < 0.01"
   ]
  },
  {
   "cell_type": "markdown",
   "metadata": {},
   "source": [
    "## Save"
   ]
  },
  {
   "cell_type": "code",
   "execution_count": 8,
   "metadata": {},
   "outputs": [
    {
     "data": {
      "text/html": [
       "<div>\n",
       "<style scoped>\n",
       "    .dataframe tbody tr th:only-of-type {\n",
       "        vertical-align: middle;\n",
       "    }\n",
       "\n",
       "    .dataframe tbody tr th {\n",
       "        vertical-align: top;\n",
       "    }\n",
       "\n",
       "    .dataframe thead th {\n",
       "        text-align: right;\n",
       "    }\n",
       "</style>\n",
       "<table border=\"1\" class=\"dataframe\">\n",
       "  <thead>\n",
       "    <tr style=\"text-align: right;\">\n",
       "      <th></th>\n",
       "      <th>n_genes</th>\n",
       "      <th>sample</th>\n",
       "      <th>donor</th>\n",
       "      <th>Library_ATAC  Library_RNA      iRods_path</th>\n",
       "      <th>percent_mito</th>\n",
       "      <th>n_counts</th>\n",
       "      <th>batch</th>\n",
       "      <th>scrublet_score</th>\n",
       "      <th>scrublet_cluster_score</th>\n",
       "      <th>zscore</th>\n",
       "      <th>bh_pval</th>\n",
       "      <th>bonf_pval</th>\n",
       "      <th>is_doublet</th>\n",
       "    </tr>\n",
       "  </thead>\n",
       "  <tbody>\n",
       "    <tr>\n",
       "      <th>HD_F_GON9525419_AAACAGCCACCTCAGG</th>\n",
       "      <td>4816</td>\n",
       "      <td>b'HD_F_GON9525419'</td>\n",
       "      <td>b'Hrv15'</td>\n",
       "      <td>b'HD_F_GON9525611        HD_F_GON9525419      ...</td>\n",
       "      <td>0.000665</td>\n",
       "      <td>12037.0</td>\n",
       "      <td>b'0'</td>\n",
       "      <td>0.070248</td>\n",
       "      <td>0.145821</td>\n",
       "      <td>0.607078</td>\n",
       "      <td>0.764257</td>\n",
       "      <td>1.0</td>\n",
       "      <td>False</td>\n",
       "    </tr>\n",
       "    <tr>\n",
       "      <th>HD_F_GON9525419_AAACATGCAGGCTAGA</th>\n",
       "      <td>4581</td>\n",
       "      <td>b'HD_F_GON9525419'</td>\n",
       "      <td>b'Hrv15'</td>\n",
       "      <td>b'HD_F_GON9525611        HD_F_GON9525419      ...</td>\n",
       "      <td>0.000544</td>\n",
       "      <td>12873.0</td>\n",
       "      <td>b'0'</td>\n",
       "      <td>0.140127</td>\n",
       "      <td>0.120690</td>\n",
       "      <td>0.309535</td>\n",
       "      <td>0.764257</td>\n",
       "      <td>1.0</td>\n",
       "      <td>False</td>\n",
       "    </tr>\n",
       "    <tr>\n",
       "      <th>HD_F_GON9525419_AAACCAACATACTCCT</th>\n",
       "      <td>1754</td>\n",
       "      <td>b'HD_F_GON9525419'</td>\n",
       "      <td>b'Hrv15'</td>\n",
       "      <td>b'HD_F_GON9525611        HD_F_GON9525419      ...</td>\n",
       "      <td>0.000000</td>\n",
       "      <td>2951.0</td>\n",
       "      <td>b'0'</td>\n",
       "      <td>0.050967</td>\n",
       "      <td>0.050967</td>\n",
       "      <td>-0.515946</td>\n",
       "      <td>0.764257</td>\n",
       "      <td>1.0</td>\n",
       "      <td>False</td>\n",
       "    </tr>\n",
       "    <tr>\n",
       "      <th>HD_F_GON9525419_AAACCAACATGGTTAT</th>\n",
       "      <td>1880</td>\n",
       "      <td>b'HD_F_GON9525419'</td>\n",
       "      <td>b'Hrv15'</td>\n",
       "      <td>b'HD_F_GON9525611        HD_F_GON9525419      ...</td>\n",
       "      <td>0.000713</td>\n",
       "      <td>2807.0</td>\n",
       "      <td>b'0'</td>\n",
       "      <td>0.129909</td>\n",
       "      <td>0.151515</td>\n",
       "      <td>0.674491</td>\n",
       "      <td>0.764257</td>\n",
       "      <td>1.0</td>\n",
       "      <td>False</td>\n",
       "    </tr>\n",
       "    <tr>\n",
       "      <th>HD_F_GON9525419_AAACCGAAGCGTGCAC</th>\n",
       "      <td>3804</td>\n",
       "      <td>b'HD_F_GON9525419'</td>\n",
       "      <td>b'Hrv15'</td>\n",
       "      <td>b'HD_F_GON9525611        HD_F_GON9525419      ...</td>\n",
       "      <td>0.000357</td>\n",
       "      <td>8394.0</td>\n",
       "      <td>b'0'</td>\n",
       "      <td>0.151515</td>\n",
       "      <td>0.164286</td>\n",
       "      <td>0.825687</td>\n",
       "      <td>0.764257</td>\n",
       "      <td>1.0</td>\n",
       "      <td>False</td>\n",
       "    </tr>\n",
       "  </tbody>\n",
       "</table>\n",
       "</div>"
      ],
      "text/plain": [
       "                                  n_genes              sample     donor  \\\n",
       "HD_F_GON9525419_AAACAGCCACCTCAGG     4816  b'HD_F_GON9525419'  b'Hrv15'   \n",
       "HD_F_GON9525419_AAACATGCAGGCTAGA     4581  b'HD_F_GON9525419'  b'Hrv15'   \n",
       "HD_F_GON9525419_AAACCAACATACTCCT     1754  b'HD_F_GON9525419'  b'Hrv15'   \n",
       "HD_F_GON9525419_AAACCAACATGGTTAT     1880  b'HD_F_GON9525419'  b'Hrv15'   \n",
       "HD_F_GON9525419_AAACCGAAGCGTGCAC     3804  b'HD_F_GON9525419'  b'Hrv15'   \n",
       "\n",
       "                                          Library_ATAC  Library_RNA      iRods_path  \\\n",
       "HD_F_GON9525419_AAACAGCCACCTCAGG  b'HD_F_GON9525611        HD_F_GON9525419      ...   \n",
       "HD_F_GON9525419_AAACATGCAGGCTAGA  b'HD_F_GON9525611        HD_F_GON9525419      ...   \n",
       "HD_F_GON9525419_AAACCAACATACTCCT  b'HD_F_GON9525611        HD_F_GON9525419      ...   \n",
       "HD_F_GON9525419_AAACCAACATGGTTAT  b'HD_F_GON9525611        HD_F_GON9525419      ...   \n",
       "HD_F_GON9525419_AAACCGAAGCGTGCAC  b'HD_F_GON9525611        HD_F_GON9525419      ...   \n",
       "\n",
       "                                  percent_mito  n_counts batch  \\\n",
       "HD_F_GON9525419_AAACAGCCACCTCAGG      0.000665   12037.0  b'0'   \n",
       "HD_F_GON9525419_AAACATGCAGGCTAGA      0.000544   12873.0  b'0'   \n",
       "HD_F_GON9525419_AAACCAACATACTCCT      0.000000    2951.0  b'0'   \n",
       "HD_F_GON9525419_AAACCAACATGGTTAT      0.000713    2807.0  b'0'   \n",
       "HD_F_GON9525419_AAACCGAAGCGTGCAC      0.000357    8394.0  b'0'   \n",
       "\n",
       "                                  scrublet_score  scrublet_cluster_score  \\\n",
       "HD_F_GON9525419_AAACAGCCACCTCAGG        0.070248                0.145821   \n",
       "HD_F_GON9525419_AAACATGCAGGCTAGA        0.140127                0.120690   \n",
       "HD_F_GON9525419_AAACCAACATACTCCT        0.050967                0.050967   \n",
       "HD_F_GON9525419_AAACCAACATGGTTAT        0.129909                0.151515   \n",
       "HD_F_GON9525419_AAACCGAAGCGTGCAC        0.151515                0.164286   \n",
       "\n",
       "                                    zscore   bh_pval  bonf_pval  is_doublet  \n",
       "HD_F_GON9525419_AAACAGCCACCTCAGG  0.607078  0.764257        1.0       False  \n",
       "HD_F_GON9525419_AAACATGCAGGCTAGA  0.309535  0.764257        1.0       False  \n",
       "HD_F_GON9525419_AAACCAACATACTCCT -0.515946  0.764257        1.0       False  \n",
       "HD_F_GON9525419_AAACCAACATGGTTAT  0.674491  0.764257        1.0       False  \n",
       "HD_F_GON9525419_AAACCGAAGCGTGCAC  0.825687  0.764257        1.0       False  "
      ]
     },
     "execution_count": 8,
     "metadata": {},
     "output_type": "execute_result"
    }
   ],
   "source": [
    "adata.obs.head()"
   ]
  },
  {
   "cell_type": "code",
   "execution_count": 7,
   "metadata": {},
   "outputs": [],
   "source": [
    "adata.write('FCAsn-M1doubletscores.h5ad')"
   ]
  }
 ],
 "metadata": {
  "kernelspec": {
   "display_name": "Python (SCanalysis)",
   "language": "python",
   "name": "scanalysis"
  },
  "language_info": {
   "codemirror_mode": {
    "name": "ipython",
    "version": 3
   },
   "file_extension": ".py",
   "mimetype": "text/x-python",
   "name": "python",
   "nbconvert_exporter": "python",
   "pygments_lexer": "ipython3",
   "version": "3.7.8"
  }
 },
 "nbformat": 4,
 "nbformat_minor": 4
}
