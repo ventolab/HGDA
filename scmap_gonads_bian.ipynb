{
 "cells": [
  {
   "cell_type": "markdown",
   "metadata": {},
   "source": [
    "### scmap to compare our gonadal immune cells to myeloid cells from Bian et al., 2020"
   ]
  },
  {
   "cell_type": "code",
   "execution_count": 1,
   "metadata": {},
   "outputs": [],
   "source": [
    "import numpy as np\n",
    "import scanpy as sc \n",
    "import pandas as pd\n",
    "import anndata\n",
    "sc.settings.set_figure_params(dpi=80)"
   ]
  },
  {
   "cell_type": "code",
   "execution_count": 2,
   "metadata": {},
   "outputs": [],
   "source": [
    "import rpy2.rinterface_lib.callbacks\n",
    "import logging"
   ]
  },
  {
   "cell_type": "code",
   "execution_count": 3,
   "metadata": {},
   "outputs": [],
   "source": [
    "# Ignore R warning messages\n",
    "#Note: this can be commented out to get more verbose R output\n",
    "rpy2.rinterface_lib.callbacks.logger.setLevel(logging.ERROR)"
   ]
  },
  {
   "cell_type": "code",
   "execution_count": 4,
   "metadata": {},
   "outputs": [],
   "source": [
    "import anndata2ri\n",
    "anndata2ri.activate()"
   ]
  },
  {
   "cell_type": "code",
   "execution_count": 5,
   "metadata": {},
   "outputs": [],
   "source": [
    "%load_ext rpy2.ipython"
   ]
  },
  {
   "cell_type": "code",
   "execution_count": 6,
   "metadata": {},
   "outputs": [],
   "source": [
    "%%R\n",
    "library(Matrix)\n",
    "library(scmap)"
   ]
  },
  {
   "cell_type": "markdown",
   "metadata": {},
   "source": [
    "#### Load data"
   ]
  },
  {
   "cell_type": "code",
   "execution_count": 7,
   "metadata": {},
   "outputs": [],
   "source": [
    "path_to_bian = '/nfs/team292/vl6/Microglia/'\n",
    "path_to_atlas = '/nfs/team292/vl6/immune_fetal_gonads/'"
   ]
  },
  {
   "cell_type": "code",
   "execution_count": 8,
   "metadata": {},
   "outputs": [
    {
     "data": {
      "text/plain": [
       "(1231, 18917)"
      ]
     },
     "execution_count": 8,
     "metadata": {},
     "output_type": "execute_result"
    }
   ],
   "source": [
    "bian = sc.read(path_to_bian + 'Paper_microglia.h5ad')\n",
    "bian = anndata.AnnData(X = bian.raw.X, var = bian.raw.var, obs = bian.obs)\n",
    "bian.shape"
   ]
  },
  {
   "cell_type": "code",
   "execution_count": 9,
   "metadata": {},
   "outputs": [
    {
     "data": {
      "text/plain": [
       "(19538, 20675)"
      ]
     },
     "execution_count": 9,
     "metadata": {},
     "output_type": "execute_result"
    }
   ],
   "source": [
    "atlas = sc.read(path_to_atlas + 'immune_merged_lineages_annotated.h5ad')\n",
    "atlas.shape"
   ]
  },
  {
   "cell_type": "code",
   "execution_count": 10,
   "metadata": {},
   "outputs": [
    {
     "data": {
      "text/plain": [
       "(19538, 28497)"
      ]
     },
     "execution_count": 10,
     "metadata": {},
     "output_type": "execute_result"
    }
   ],
   "source": [
    "atlas = anndata.AnnData(X = atlas.raw.X, var = atlas.raw.var, obs = atlas.obs)\n",
    "atlas.shape"
   ]
  },
  {
   "cell_type": "markdown",
   "metadata": {},
   "source": [
    "#### Intersect genes"
   ]
  },
  {
   "cell_type": "code",
   "execution_count": 12,
   "metadata": {},
   "outputs": [
    {
     "data": {
      "text/plain": [
       "16280"
      ]
     },
     "execution_count": 12,
     "metadata": {},
     "output_type": "execute_result"
    }
   ],
   "source": [
    "bian_genes = bian.var_names.to_list()\n",
    "atlas_genes = atlas.var_names.to_list()\n",
    "\n",
    "from functools import reduce\n",
    "inters = reduce(np.intersect1d, (bian_genes, atlas_genes))\n",
    "len(inters)"
   ]
  },
  {
   "cell_type": "code",
   "execution_count": 13,
   "metadata": {},
   "outputs": [
    {
     "name": "stderr",
     "output_type": "stream",
     "text": [
      "/home/jovyan/my-conda-envs/scanpy_env/lib/python3.8/site-packages/pandas/core/arrays/categorical.py:2487: FutureWarning: The `inplace` parameter in pandas.Categorical.remove_unused_categories is deprecated and will be removed in a future version.\n",
      "  res = method(*args, **kwargs)\n"
     ]
    },
    {
     "data": {
      "text/plain": [
       "View of AnnData object with n_obs × n_vars = 1231 × 16280\n",
       "    obs: 'tissue', 'paper_annotation', 'stage', 'individual', 'paper_cluster', 'n_genes', 'n_counts', 'sample'\n",
       "    var: 'n_cells'"
      ]
     },
     "execution_count": 13,
     "metadata": {},
     "output_type": "execute_result"
    }
   ],
   "source": [
    "bian = bian[:, list(inters)]\n",
    "bian"
   ]
  },
  {
   "cell_type": "code",
   "execution_count": 14,
   "metadata": {},
   "outputs": [],
   "source": [
    "atlas = atlas[:, list(inters)]"
   ]
  },
  {
   "cell_type": "markdown",
   "metadata": {},
   "source": [
    "#### Downsample more frequent classes in our atlas for computational efficiency"
   ]
  },
  {
   "cell_type": "code",
   "execution_count": 16,
   "metadata": {},
   "outputs": [
    {
     "data": {
      "text/plain": [
       "array([7620, 2668, 1528, 1015, 1003,  743,  743,  571,  547,  519,  489,\n",
       "        355,  343,  329,  274,  226,  211,  210,  144])"
      ]
     },
     "execution_count": 16,
     "metadata": {},
     "output_type": "execute_result"
    }
   ],
   "source": [
    "myindex = atlas.obs['clusters'].value_counts().index \n",
    "myvalues = atlas.obs['clusters'].value_counts().values\n",
    "clusters = pd.Series(myvalues, index = myindex)\n",
    "clusters.values"
   ]
  },
  {
   "cell_type": "code",
   "execution_count": 18,
   "metadata": {},
   "outputs": [
    {
     "name": "stdout",
     "output_type": "stream",
     "text": [
      "tissue-repair mac\n",
      "mono\n",
      "early T\n",
      "pro-B\n",
      "cDC2\n",
      "NK\n",
      "tissue-repair mac cycling\n",
      "microglia-like mac\n",
      "B cell\n",
      "pre-B\n"
     ]
    },
    {
     "data": {
      "text/plain": [
       "(7581, 16280)"
      ]
     },
     "execution_count": 18,
     "metadata": {},
     "output_type": "execute_result"
    }
   ],
   "source": [
    "import random\n",
    "from itertools import chain\n",
    "\n",
    "# Find clusters with > n cells\n",
    "n = 500\n",
    "cl2downsample = clusters.index[ clusters.values > n ]\n",
    "\n",
    "# save all barcode ids from small clusters\n",
    "holder = []\n",
    "holder.append( atlas.obs_names[[ i not in cl2downsample for i in atlas.obs['clusters'] ]] ) \n",
    "\n",
    "# randomly sample n cells in the cl2downsample\n",
    "for cl in cl2downsample:\n",
    "    print(cl)\n",
    "    cl_sample = atlas[[ i == cl for i in atlas.obs['clusters'] ]].obs_names\n",
    "    # n = int(round(len(cl_sample)/2, 0))\n",
    "    cl_downsample = random.sample(set(cl_sample), n )\n",
    "    holder.append(cl_downsample)\n",
    "    \n",
    "# samples to include\n",
    "samples = list(chain(*holder))\n",
    "\n",
    "# Filter adata_count\n",
    "atlas = atlas[[ i in samples for i in atlas.obs_names ]]\n",
    "atlas.X.shape"
   ]
  },
  {
   "cell_type": "markdown",
   "metadata": {},
   "source": [
    "#### Convert anndata to SingleCellExperiment"
   ]
  },
  {
   "cell_type": "code",
   "execution_count": 19,
   "metadata": {},
   "outputs": [
    {
     "name": "stdout",
     "output_type": "stream",
     "text": [
      "class: SingleCellExperiment \n",
      "dim: 16280 7581 \n",
      "metadata(0):\n",
      "assays(1): X\n",
      "rownames(16280): A1BG A1CF ... ZYX ZZEF1\n",
      "rowData names(194): gene_ids.0.0 feature_types.0.0 ...\n",
      "  feature_types.52.1 n_cells.52.1\n",
      "colnames(7581): FCA_GND8047884_CCCATACAGAGATGAG\n",
      "  FCA_GND8047884_TGGCCAGCAGAAGCAC ... HD_F_GON9883868_TGCGTGGCACACATGT\n",
      "  HD_F_GON9883868_TGTATTCAGAAACGCC\n",
      "colData names(59): batch batch_collection ... main_lineages\n",
      "  dpt_pseudotime\n",
      "reducedDimNames(0):\n",
      "altExpNames(0):\n"
     ]
    }
   ],
   "source": [
    "%%R -i atlas\n",
    "atlas"
   ]
  },
  {
   "cell_type": "code",
   "execution_count": 20,
   "metadata": {},
   "outputs": [
    {
     "name": "stdout",
     "output_type": "stream",
     "text": [
      "class: SingleCellExperiment \n",
      "dim: 16280 1231 \n",
      "metadata(0):\n",
      "assays(1): X\n",
      "rownames(16280): A1BG A1CF ... ZYX ZZEF1\n",
      "rowData names(1): n_cells\n",
      "colnames(1231): YS5_TKR180900693_HT3YJCCXY_L4_sc60\n",
      "  YS5_TKR180900693_HT3YJCCXY_L4_sc64 ... L3_FKDL190665156.1a_sc47\n",
      "  L3_FKDL190665156.1a_sc48\n",
      "colData names(8): tissue paper_annotation ... n_counts sample\n",
      "reducedDimNames(0):\n",
      "altExpNames(0):\n"
     ]
    }
   ],
   "source": [
    "%%R -i bian\n",
    "bian"
   ]
  },
  {
   "cell_type": "markdown",
   "metadata": {},
   "source": [
    "#### Feature selection"
   ]
  },
  {
   "cell_type": "code",
   "execution_count": 21,
   "metadata": {},
   "outputs": [
    {
     "name": "stdout",
     "output_type": "stream",
     "text": [
      "[1] \"X\"         \"logcounts\"\n"
     ]
    }
   ],
   "source": [
    "%%R \n",
    "\n",
    "counts <- assay(bian, \"X\")\n",
    "libsizes <- colSums(counts)\n",
    "size.factors <- libsizes/mean(libsizes)\n",
    "logcounts(bian) <- log2(t(t(counts)/size.factors) + 1)\n",
    "assayNames(bian)"
   ]
  },
  {
   "cell_type": "code",
   "execution_count": 22,
   "metadata": {},
   "outputs": [
    {
     "name": "stdout",
     "output_type": "stream",
     "text": [
      "\n",
      "FALSE  TRUE \n",
      "16080   200 \n"
     ]
    },
    {
     "data": {
      "image/png": "[encoded data removed]"
     },
     "metadata": {},
     "output_type": "display_data"
    }
   ],
   "source": [
    "%%R\n",
    "\n",
    "rowData(bian)$feature_symbol <- rownames(bian)\n",
    "logcounts(bian) <- as.matrix(logcounts(bian))\n",
    "bian <- selectFeatures(bian, n_features = 200, suppress_plot = FALSE)\n",
    "print(table(rowData(bian)$scmap_features))"
   ]
  },
  {
   "cell_type": "markdown",
   "metadata": {},
   "source": [
    "### scmap-cluster"
   ]
  },
  {
   "cell_type": "code",
   "execution_count": 23,
   "metadata": {},
   "outputs": [
    {
     "name": "stdout",
     "output_type": "stream",
     "text": [
      "           Mac_2       MkP      ErP      GMP Monocyte Myeloblast Lymphoblast\n",
      "A2M    6.3961552 0.0000000 0.000000 0.000000 2.434654   0.000000   0.0000000\n",
      "AAK1   5.0784340 0.8896653 0.000000 1.377846 3.646268   4.023462   0.7502076\n",
      "ABCG2  5.4177670 0.0000000 0.000000 0.000000 1.286614   0.000000   0.0000000\n",
      "ADAM28 0.7413089 0.0000000 0.000000 0.000000 4.257180   0.000000   4.8852141\n",
      "ADAP2  7.1489291 0.0000000 0.000000 0.000000 5.102187   1.930580   0.0000000\n",
      "AGR2   8.5981185 1.3359149 1.435892 1.706307 7.156074   2.130966   4.9204157\n",
      "             LMP      EMP Mast cell    Mac_4    Mac_1      ILC    Mac_3\n",
      "A2M    1.3511011 0.000000  0.000000 7.541320 6.160611 0.000000 6.367744\n",
      "AAK1   1.8842646 0.000000  1.212555 5.578574 4.689392 4.887452 5.371381\n",
      "ABCG2  0.8231798 0.000000  0.000000 3.373865 5.583679 0.000000 5.059771\n",
      "ADAM28 4.5268630 0.000000  0.000000 5.917282 0.000000 0.000000 0.000000\n",
      "ADAP2  3.5046270 0.000000  0.000000 6.389392 6.806798 0.000000 7.209229\n",
      "AGR2   6.7208834 1.071185  1.579938 4.111301 8.785489 1.839025 6.571922\n",
      "            HSPC\n",
      "A2M    0.0000000\n",
      "AAK1   0.0000000\n",
      "ABCG2  0.0000000\n",
      "ADAM28 1.6755275\n",
      "ADAP2  0.0000000\n",
      "AGR2   0.7919839\n"
     ]
    },
    {
     "data": {
      "image/png": "[encoded data removed]"
     },
     "metadata": {},
     "output_type": "display_data"
    }
   ],
   "source": [
    "%%R \n",
    "\n",
    "bian <- indexCluster(bian, cluster_col = \"paper_cluster\")\n",
    "print(head(metadata(bian)$scmap_cluster_index))\n",
    "heatmap(as.matrix(metadata(bian)$scmap_cluster_index))"
   ]
  },
  {
   "cell_type": "markdown",
   "metadata": {},
   "source": [
    "#### Projection"
   ]
  },
  {
   "cell_type": "code",
   "execution_count": 24,
   "metadata": {},
   "outputs": [
    {
     "name": "stdout",
     "output_type": "stream",
     "text": [
      "[1] \"X\"         \"logcounts\"\n"
     ]
    }
   ],
   "source": [
    "%%R \n",
    "\n",
    "rowData(atlas)$feature_symbol <- rownames(atlas)\n",
    "counts <- assay(atlas, \"X\")\n",
    "libsizes <- colSums(counts)\n",
    "size.factors <- libsizes/mean(libsizes)\n",
    "logcounts(atlas) <- log2(t(t(counts)/size.factors) + 1)\n",
    "logcounts(atlas) <- as.matrix(logcounts(atlas))\n",
    "assayNames(atlas)"
   ]
  },
  {
   "cell_type": "code",
   "execution_count": 25,
   "metadata": {},
   "outputs": [],
   "source": [
    "%%R -o scmapCluster_results\n",
    "\n",
    "scmapCluster_results <- scmapCluster(\n",
    "  projection = atlas, \n",
    "  index_list = list(\n",
    "    bian = metadata(bian)$scmap_cluster_index\n",
    "  )\n",
    ")"
   ]
  },
  {
   "cell_type": "code",
   "execution_count": 26,
   "metadata": {},
   "outputs": [
    {
     "name": "stdout",
     "output_type": "stream",
     "text": [
      "     bian        \n",
      "[1,] \"unassigned\"\n",
      "[2,] \"Myeloblast\"\n",
      "[3,] \"unassigned\"\n",
      "[4,] \"Monocyte\"  \n",
      "[5,] \"Mac_4\"     \n",
      "[6,] \"unassigned\"\n",
      "          bian\n",
      "[1,] 0.3537776\n",
      "[2,] 0.7355914\n",
      "[3,] 0.5885660\n",
      "[4,] 0.7021263\n",
      "[5,] 0.7857722\n",
      "[6,] 0.5530670\n",
      "[1] \"unassigned\" \"Myeloblast\" \"unassigned\" \"Monocyte\"   \"Mac_4\"     \n",
      "[6] \"unassigned\"\n"
     ]
    }
   ],
   "source": [
    "%%R \n",
    "\n",
    "print(head(scmapCluster_results$scmap_cluster_labs))\n",
    "print(head(scmapCluster_results$scmap_cluster_siml))\n",
    "print(head(scmapCluster_results$combined_labs))"
   ]
  },
  {
   "cell_type": "code",
   "execution_count": 27,
   "metadata": {},
   "outputs": [],
   "source": [
    "%%R -o visualize\n",
    "\n",
    "visualize <- plot(\n",
    "  getSankey(\n",
    "    colData(atlas)$clusters, \n",
    "    scmapCluster_results$scmap_cluster_labs[,'bian'],\n",
    "    plot_height = 400\n",
    "  )\n",
    ")"
   ]
  },
  {
   "cell_type": "code",
   "execution_count": 28,
   "metadata": {},
   "outputs": [
    {
     "name": "stdout",
     "output_type": "stream",
     "text": [
      "[1] \"/tmp/RtmpjYzTk2/SankeyID5ad6c3fbe81.html\"\n"
     ]
    }
   ],
   "source": [
    "%%R\n",
    "\n",
    "visualize"
   ]
  },
  {
   "cell_type": "code",
   "execution_count": 29,
   "metadata": {},
   "outputs": [],
   "source": [
    "labels = list(scmapCluster_results[0])"
   ]
  },
  {
   "cell_type": "code",
   "execution_count": 30,
   "metadata": {},
   "outputs": [
    {
     "name": "stderr",
     "output_type": "stream",
     "text": [
      "Trying to set attribute `.obs` of view, copying.\n"
     ]
    },
    {
     "data": {
      "text/plain": [
       "unassigned     6072\n",
       "Mac_4           345\n",
       "Mac_1           219\n",
       "Monocyte        216\n",
       "Myeloblast      185\n",
       "Mac_2           155\n",
       "Mac_3           121\n",
       "ErP             111\n",
       "HSPC             58\n",
       "Mast cell        45\n",
       "GMP              26\n",
       "Lymphoblast      13\n",
       "MkP               8\n",
       "EMP               5\n",
       "LMP               2\n",
       "Name: scmap_labels, dtype: int64"
      ]
     },
     "execution_count": 30,
     "metadata": {},
     "output_type": "execute_result"
    }
   ],
   "source": [
    "atlas.obs['scmap_labels'] = labels\n",
    "atlas.obs['scmap_labels'].value_counts(dropna = False)"
   ]
  },
  {
   "cell_type": "code",
   "execution_count": 31,
   "metadata": {},
   "outputs": [],
   "source": [
    "similarities = scmapCluster_results[1]\n",
    "similarities = [val for sublist in similarities for val in sublist]\n",
    "#similarities"
   ]
  },
  {
   "cell_type": "code",
   "execution_count": 32,
   "metadata": {},
   "outputs": [],
   "source": [
    "atlas.obs['scmap_similarities'] = similarities"
   ]
  },
  {
   "cell_type": "markdown",
   "metadata": {},
   "source": [
    "#### Save scmap results "
   ]
  },
  {
   "cell_type": "code",
   "execution_count": 33,
   "metadata": {},
   "outputs": [],
   "source": [
    "atlas.obs[['scmap_labels', 'scmap_similarities']].to_csv(path_to_atlas + 'scmap_from_Bian.csv')"
   ]
  },
  {
   "cell_type": "code",
   "execution_count": null,
   "metadata": {},
   "outputs": [],
   "source": []
  }
 ],
 "metadata": {
  "kernelspec": {
   "display_name": "scanpy_env",
   "language": "python",
   "name": "scanpy_env"
  },
  "language_info": {
   "codemirror_mode": {
    "name": "ipython",
    "version": 3
   },
   "file_extension": ".py",
   "mimetype": "text/x-python",
   "name": "python",
   "nbconvert_exporter": "python",
   "pygments_lexer": "ipython3",
   "version": "3.8.8"
  }
 },
 "nbformat": 4,
 "nbformat_minor": 4
}
