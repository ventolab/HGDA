{
 "cells": [
  {
   "cell_type": "markdown",
   "metadata": {},
   "source": [
    "## ATAC + MULTIOME (males april 2021)\n",
    "\n",
    "### Build anndata from cellatac output "
   ]
  },
  {
   "cell_type": "code",
   "execution_count": 2,
   "metadata": {},
   "outputs": [],
   "source": [
    "# Load libraries\n",
    "import pandas as pd \n",
    "import scanpy as sc\n",
    "import numpy as np\n",
    "import scipy.sparse"
   ]
  },
  {
   "cell_type": "code",
   "execution_count": 3,
   "metadata": {},
   "outputs": [],
   "source": [
    "# Define variables\n",
    "outdir = \"/nfs/team292/vl6/my_MULTIOME_dir/males_apr2021/\"\n",
    "experiment_prefix = 'males_'\n",
    "cellatac_outdir = '/lustre/scratch117/cellgen/cellgeni/TIC-atacseq/tic-1004/male/results200k-b-male/'\n"
   ]
  },
  {
   "cell_type": "code",
   "execution_count": 4,
   "metadata": {},
   "outputs": [],
   "source": [
    "input={'cnts': cellatac_outdir + 'peak_matrix/peaks_bc_matrix.mmtx.gz',\n",
    "        \"bcs\": cellatac_outdir + 'peak_matrix/bc.txt',\n",
    "      \"peaks\": cellatac_outdir + 'peak_matrix/peaks.txt',\n",
    "      'clusters': cellatac_outdir + 'qc/seurat-clades.tsv'}\n",
    "\n",
    "output = {\n",
    "    \"cnt_mmtx\":outdir + experiment_prefix + '_ATAC_cisTopic.mmtx',\n",
    "    \"cnt_peaks\":outdir + experiment_prefix + '_ATAC_cisTopic.peaks.tsv',\n",
    "    \"cnt_cells\":outdir + experiment_prefix + '_ATAC_cisTopic.cells.tsv',\n",
    "    \"h5ad\":outdir + experiment_prefix + '_ATAC_raw.h5ad',\n",
    "}"
   ]
  },
  {
   "cell_type": "markdown",
   "metadata": {},
   "source": [
    "#### Make anndata object"
   ]
  },
  {
   "cell_type": "code",
   "execution_count": 5,
   "metadata": {},
   "outputs": [],
   "source": [
    "adata = sc.read_mtx(input[\"cnts\"]).T\n",
    "\n",
    "bc = pd.read_table(input[\"bcs\"], header=None)\n",
    "feat = pd.read_table(input[\"peaks\"], header=None)\n",
    "\n",
    "adata.obs_names = bc[0]\n",
    "adata.var_names = feat[0]"
   ]
  },
  {
   "cell_type": "code",
   "execution_count": 6,
   "metadata": {},
   "outputs": [
    {
     "data": {
      "text/plain": [
       "AnnData object with n_obs × n_vars = 31481 × 447835"
      ]
     },
     "execution_count": 6,
     "metadata": {},
     "output_type": "execute_result"
    }
   ],
   "source": [
    "adata"
   ]
  },
  {
   "cell_type": "markdown",
   "metadata": {},
   "source": [
    "#### Match cellatac code to sample"
   ]
  },
  {
   "cell_type": "code",
   "execution_count": 7,
   "metadata": {},
   "outputs": [
    {
     "data": {
      "text/plain": [
       "04    8513\n",
       "07    5427\n",
       "06    5335\n",
       "05    4628\n",
       "02    2872\n",
       "09    1461\n",
       "08    1415\n",
       "01    1111\n",
       "03     719\n",
       "Name: code, dtype: int64"
      ]
     },
     "execution_count": 7,
     "metadata": {},
     "output_type": "execute_result"
    }
   ],
   "source": [
    "# Code from cell barcodes \n",
    "adata.obs['code'] = [name[0:2] for name in adata.obs_names]\n",
    "adata.obs['code'].value_counts(dropna = False)"
   ]
  },
  {
   "cell_type": "code",
   "execution_count": 8,
   "metadata": {},
   "outputs": [
    {
     "data": {
      "text/plain": [
       "FCA_GND8795927     8513\n",
       "FCA_GND9332157     5427\n",
       "HD_F_GON9479872    5335\n",
       "FCA_GND8795928     4628\n",
       "FCA_GND8768482     2872\n",
       "HD_F_GON9525612    1461\n",
       "HD_F_GON9525611    1415\n",
       "FCA_GND8768481     1111\n",
       "FCA_GND8768487      719\n",
       "Name: sample, dtype: int64"
      ]
     },
     "execution_count": 8,
     "metadata": {},
     "output_type": "execute_result"
    }
   ],
   "source": [
    "# Sample from code \n",
    "sample_dictionary = {'01' : 'FCA_GND8768481', '02' : 'FCA_GND8768482', '03' : 'FCA_GND8768487',\n",
    "                    '04' : 'FCA_GND8795927', '05' : 'FCA_GND8795928', '06' : 'HD_F_GON9479872', \n",
    "                    '07' : 'FCA_GND9332157', '08' : 'HD_F_GON9525611', '09' : 'HD_F_GON9525612'}\n",
    "adata.obs['sample'] = adata.obs['code'].map(sample_dictionary) \n",
    "adata.obs['sample'].value_counts(dropna = False)"
   ]
  },
  {
   "cell_type": "markdown",
   "metadata": {},
   "source": [
    "#### Load peak annotations (done with R script by Emma)"
   ]
  },
  {
   "cell_type": "code",
   "execution_count": 9,
   "metadata": {},
   "outputs": [
    {
     "data": {
      "text/plain": [
       "AnnData object with n_obs × n_vars = 31481 × 447835\n",
       "    obs: 'code', 'sample'\n",
       "    var: 'peak_width', 'exon', 'gene', 'promoter', 'annotation', 'gene_name', 'gene_id', 'tss_distance', 'ENCODE_blacklist'"
      ]
     },
     "execution_count": 9,
     "metadata": {},
     "output_type": "execute_result"
    }
   ],
   "source": [
    "peak_anno_df = pd.read_csv(outdir + \"ATACpeaks_annotation.csv\", index_col = 0)\n",
    "peak_anno_df.index = peak_anno_df[\"peak_id\"]\n",
    "peak_anno_df.drop(\"peak_id\",1, inplace = True)\n",
    "adata.var = pd.concat([adata.var, peak_anno_df], 1)\n",
    "adata"
   ]
  },
  {
   "cell_type": "markdown",
   "metadata": {},
   "source": [
    "#### Save binary data to layers"
   ]
  },
  {
   "cell_type": "code",
   "execution_count": 10,
   "metadata": {},
   "outputs": [
    {
     "data": {
      "text/plain": [
       "AnnData object with n_obs × n_vars = 31481 × 447835\n",
       "    obs: 'code', 'sample'\n",
       "    var: 'peak_width', 'exon', 'gene', 'promoter', 'annotation', 'gene_name', 'gene_id', 'tss_distance', 'ENCODE_blacklist'\n",
       "    layers: 'binary_raw'"
      ]
     },
     "execution_count": 10,
     "metadata": {},
     "output_type": "execute_result"
    }
   ],
   "source": [
    "adata.layers[\"binary_raw\"] = adata.X\n",
    "adata.layers[\"binary_raw\"][adata.layers[\"binary_raw\"] > 1] = 1\n",
    "adata"
   ]
  },
  {
   "cell_type": "markdown",
   "metadata": {},
   "source": [
    "#### Peak filtering"
   ]
  },
  {
   "cell_type": "code",
   "execution_count": 11,
   "metadata": {},
   "outputs": [
    {
     "data": {
      "text/plain": [
       "array([[<AxesSubplot:title={'center':'peak_width'}>]], dtype=object)"
      ]
     },
     "execution_count": 11,
     "metadata": {},
     "output_type": "execute_result"
    },
    {
     "data": {
      "image/png": "[encoded data removed]",
      "text/plain": [
       "<Figure size 1800x432 with 1 Axes>"
      ]
     },
     "metadata": {
      "needs_background": "light"
     },
     "output_type": "display_data"
    }
   ],
   "source": [
    "adata.var.hist(column = 'peak_width', bins = 200, grid = False, figsize = (25,6), color = '#870052')"
   ]
  },
  {
   "cell_type": "code",
   "execution_count": 12,
   "metadata": {},
   "outputs": [
    {
     "name": "stderr",
     "output_type": "stream",
     "text": [
      "/opt/conda/envs/atac_env/lib/python3.8/site-packages/numba/np/ufunc/parallel.py:316: UserWarning: Could not obtain multiprocessing lock due to OS level error: [Errno 28] No space left on device\n",
      "A likely cause of this problem is '/dev/shm' is missing orread-only such that necessary semaphores cannot be written.\n",
      "*** The responsibility of ensuring multiprocessing safe access to this initialization sequence/module import is deferred to the user! ***\n",
      "\n",
      "  warnings.warn(msg % str(e))\n"
     ]
    },
    {
     "data": {
      "text/plain": [
       "AnnData object with n_obs × n_vars = 31481 × 447835\n",
       "    obs: 'code', 'sample'\n",
       "    var: 'peak_width', 'exon', 'gene', 'promoter', 'annotation', 'gene_name', 'gene_id', 'tss_distance', 'ENCODE_blacklist', 'n_cells_by_counts', 'mean_counts', 'log1p_mean_counts', 'pct_dropout_by_counts', 'total_counts', 'log1p_total_counts'\n",
       "    layers: 'binary_raw'"
      ]
     },
     "execution_count": 12,
     "metadata": {},
     "output_type": "execute_result"
    }
   ],
   "source": [
    "var_qc = sc.pp.calculate_qc_metrics(adata, layer = \"binary_raw\")[1]\n",
    "adata.var = pd.concat([adata.var, var_qc], 1)\n",
    "adata"
   ]
  },
  {
   "cell_type": "code",
   "execution_count": 13,
   "metadata": {},
   "outputs": [
    {
     "data": {
      "text/html": [
       "<div>\n",
       "<style scoped>\n",
       "    .dataframe tbody tr th:only-of-type {\n",
       "        vertical-align: middle;\n",
       "    }\n",
       "\n",
       "    .dataframe tbody tr th {\n",
       "        vertical-align: top;\n",
       "    }\n",
       "\n",
       "    .dataframe thead th {\n",
       "        text-align: right;\n",
       "    }\n",
       "</style>\n",
       "<table border=\"1\" class=\"dataframe\">\n",
       "  <thead>\n",
       "    <tr style=\"text-align: right;\">\n",
       "      <th></th>\n",
       "      <th>peak_width</th>\n",
       "      <th>exon</th>\n",
       "      <th>gene</th>\n",
       "      <th>promoter</th>\n",
       "      <th>annotation</th>\n",
       "      <th>gene_name</th>\n",
       "      <th>gene_id</th>\n",
       "      <th>tss_distance</th>\n",
       "      <th>ENCODE_blacklist</th>\n",
       "      <th>n_cells_by_counts</th>\n",
       "      <th>mean_counts</th>\n",
       "      <th>log1p_mean_counts</th>\n",
       "      <th>pct_dropout_by_counts</th>\n",
       "      <th>total_counts</th>\n",
       "      <th>log1p_total_counts</th>\n",
       "    </tr>\n",
       "  </thead>\n",
       "  <tbody>\n",
       "    <tr>\n",
       "      <th>chr1:10003-10421</th>\n",
       "      <td>419</td>\n",
       "      <td>0</td>\n",
       "      <td>0</td>\n",
       "      <td>0</td>\n",
       "      <td>intergenic</td>\n",
       "      <td>NaN</td>\n",
       "      <td>NaN</td>\n",
       "      <td>58669</td>\n",
       "      <td>1</td>\n",
       "      <td>265</td>\n",
       "      <td>0.008418</td>\n",
       "      <td>0.008383</td>\n",
       "      <td>99.158222</td>\n",
       "      <td>265.0</td>\n",
       "      <td>5.583496</td>\n",
       "    </tr>\n",
       "    <tr>\n",
       "      <th>chr1:180688-181626</th>\n",
       "      <td>939</td>\n",
       "      <td>0</td>\n",
       "      <td>0</td>\n",
       "      <td>1</td>\n",
       "      <td>promoter</td>\n",
       "      <td>FO538757.2</td>\n",
       "      <td>ENSG00000279928</td>\n",
       "      <td>766</td>\n",
       "      <td>1</td>\n",
       "      <td>970</td>\n",
       "      <td>0.030812</td>\n",
       "      <td>0.030347</td>\n",
       "      <td>96.918776</td>\n",
       "      <td>970.0</td>\n",
       "      <td>6.878326</td>\n",
       "    </tr>\n",
       "    <tr>\n",
       "      <th>chr1:191310-191630</th>\n",
       "      <td>321</td>\n",
       "      <td>0</td>\n",
       "      <td>1</td>\n",
       "      <td>0</td>\n",
       "      <td>intron</td>\n",
       "      <td>FO538757.1</td>\n",
       "      <td>ENSG00000279457</td>\n",
       "      <td>3780</td>\n",
       "      <td>1</td>\n",
       "      <td>234</td>\n",
       "      <td>0.007433</td>\n",
       "      <td>0.007406</td>\n",
       "      <td>99.256695</td>\n",
       "      <td>234.0</td>\n",
       "      <td>5.459586</td>\n",
       "    </tr>\n",
       "    <tr>\n",
       "      <th>chr1:267866-268092</th>\n",
       "      <td>227</td>\n",
       "      <td>0</td>\n",
       "      <td>0</td>\n",
       "      <td>0</td>\n",
       "      <td>intergenic</td>\n",
       "      <td>NaN</td>\n",
       "      <td>NaN</td>\n",
       "      <td>67543</td>\n",
       "      <td>1</td>\n",
       "      <td>306</td>\n",
       "      <td>0.009720</td>\n",
       "      <td>0.009673</td>\n",
       "      <td>99.027985</td>\n",
       "      <td>306.0</td>\n",
       "      <td>5.726848</td>\n",
       "    </tr>\n",
       "    <tr>\n",
       "      <th>chr1:586071-586290</th>\n",
       "      <td>220</td>\n",
       "      <td>0</td>\n",
       "      <td>0</td>\n",
       "      <td>0</td>\n",
       "      <td>intergenic</td>\n",
       "      <td>NaN</td>\n",
       "      <td>NaN</td>\n",
       "      <td>100363</td>\n",
       "      <td>1</td>\n",
       "      <td>280</td>\n",
       "      <td>0.008894</td>\n",
       "      <td>0.008855</td>\n",
       "      <td>99.110575</td>\n",
       "      <td>280.0</td>\n",
       "      <td>5.638355</td>\n",
       "    </tr>\n",
       "  </tbody>\n",
       "</table>\n",
       "</div>"
      ],
      "text/plain": [
       "                    peak_width  exon  gene  promoter  annotation   gene_name  \\\n",
       "chr1:10003-10421           419     0     0         0  intergenic         NaN   \n",
       "chr1:180688-181626         939     0     0         1    promoter  FO538757.2   \n",
       "chr1:191310-191630         321     0     1         0      intron  FO538757.1   \n",
       "chr1:267866-268092         227     0     0         0  intergenic         NaN   \n",
       "chr1:586071-586290         220     0     0         0  intergenic         NaN   \n",
       "\n",
       "                            gene_id  tss_distance  ENCODE_blacklist  \\\n",
       "chr1:10003-10421                NaN         58669                 1   \n",
       "chr1:180688-181626  ENSG00000279928           766                 1   \n",
       "chr1:191310-191630  ENSG00000279457          3780                 1   \n",
       "chr1:267866-268092              NaN         67543                 1   \n",
       "chr1:586071-586290              NaN        100363                 1   \n",
       "\n",
       "                    n_cells_by_counts  mean_counts  log1p_mean_counts  \\\n",
       "chr1:10003-10421                  265     0.008418           0.008383   \n",
       "chr1:180688-181626                970     0.030812           0.030347   \n",
       "chr1:191310-191630                234     0.007433           0.007406   \n",
       "chr1:267866-268092                306     0.009720           0.009673   \n",
       "chr1:586071-586290                280     0.008894           0.008855   \n",
       "\n",
       "                    pct_dropout_by_counts  total_counts  log1p_total_counts  \n",
       "chr1:10003-10421                99.158222         265.0            5.583496  \n",
       "chr1:180688-181626              96.918776         970.0            6.878326  \n",
       "chr1:191310-191630              99.256695         234.0            5.459586  \n",
       "chr1:267866-268092              99.027985         306.0            5.726848  \n",
       "chr1:586071-586290              99.110575         280.0            5.638355  "
      ]
     },
     "execution_count": 13,
     "metadata": {},
     "output_type": "execute_result"
    }
   ],
   "source": [
    "adata.var.head()"
   ]
  },
  {
   "cell_type": "code",
   "execution_count": 14,
   "metadata": {},
   "outputs": [
    {
     "data": {
      "text/plain": [
       "array([[<AxesSubplot:title={'center':'total_counts'}>]], dtype=object)"
      ]
     },
     "execution_count": 14,
     "metadata": {},
     "output_type": "execute_result"
    },
    {
     "data": {
      "image/png": "[encoded data removed]",
      "text/plain": [
       "<Figure size 1800x432 with 1 Axes>"
      ]
     },
     "metadata": {
      "needs_background": "light"
     },
     "output_type": "display_data"
    }
   ],
   "source": [
    "adata.var.hist(column = 'total_counts', bins = 200, grid = False, figsize = (25,6), color = '#870052')"
   ]
  },
  {
   "cell_type": "code",
   "execution_count": 15,
   "metadata": {},
   "outputs": [
    {
     "name": "stdout",
     "output_type": "stream",
     "text": [
      "30% : 9444.3\n",
      "0.2% : 62.962\n"
     ]
    }
   ],
   "source": [
    "thirty_percent = len(adata.obs_names) / 100 * 30\n",
    "point_two_percent = len(adata.obs_names) / 100 * 0.2\n",
    "print(\"30% : {}\".format(thirty_percent))\n",
    "print(\"0.2% : {}\".format(point_two_percent))"
   ]
  },
  {
   "cell_type": "code",
   "execution_count": 16,
   "metadata": {},
   "outputs": [
    {
     "data": {
      "text/plain": [
       "View of AnnData object with n_obs × n_vars = 31481 × 400285\n",
       "    obs: 'code', 'sample'\n",
       "    var: 'peak_width', 'exon', 'gene', 'promoter', 'annotation', 'gene_name', 'gene_id', 'tss_distance', 'ENCODE_blacklist', 'n_cells_by_counts', 'mean_counts', 'log1p_mean_counts', 'pct_dropout_by_counts', 'total_counts', 'log1p_total_counts'\n",
       "    layers: 'binary_raw'"
      ]
     },
     "execution_count": 16,
     "metadata": {},
     "output_type": "execute_result"
    }
   ],
   "source": [
    "# Accessible in at least k cells\n",
    "adata = adata[:,adata.var.total_counts > point_two_percent]\n",
    "adata = adata[:,adata.var.total_counts < thirty_percent]\n",
    "adata"
   ]
  },
  {
   "cell_type": "code",
   "execution_count": 17,
   "metadata": {},
   "outputs": [
    {
     "data": {
      "text/plain": [
       "View of AnnData object with n_obs × n_vars = 31481 × 398815\n",
       "    obs: 'code', 'sample'\n",
       "    var: 'peak_width', 'exon', 'gene', 'promoter', 'annotation', 'gene_name', 'gene_id', 'tss_distance', 'ENCODE_blacklist', 'n_cells_by_counts', 'mean_counts', 'log1p_mean_counts', 'pct_dropout_by_counts', 'total_counts', 'log1p_total_counts'\n",
       "    layers: 'binary_raw'"
      ]
     },
     "execution_count": 17,
     "metadata": {},
     "output_type": "execute_result"
    }
   ],
   "source": [
    "# Remove peaks in ENCODE blacklist\n",
    "adata = adata[:, adata.var.ENCODE_blacklist == 0]\n",
    "adata"
   ]
  },
  {
   "cell_type": "code",
   "execution_count": 18,
   "metadata": {},
   "outputs": [
    {
     "data": {
      "text/plain": [
       "View of AnnData object with n_obs × n_vars = 31481 × 361243\n",
       "    obs: 'code', 'sample'\n",
       "    var: 'peak_width', 'exon', 'gene', 'promoter', 'annotation', 'gene_name', 'gene_id', 'tss_distance', 'ENCODE_blacklist', 'n_cells_by_counts', 'mean_counts', 'log1p_mean_counts', 'pct_dropout_by_counts', 'total_counts', 'log1p_total_counts'\n",
       "    layers: 'binary_raw'"
      ]
     },
     "execution_count": 18,
     "metadata": {},
     "output_type": "execute_result"
    }
   ],
   "source": [
    "# Filter by width (remove peaks at the lowest end, closest to min peak width in MACS2)\n",
    "\n",
    "adata = adata[:, adata.var.peak_width > 210]\n",
    "adata = adata[:, adata.var.peak_width < 1500]\n",
    "adata"
   ]
  },
  {
   "cell_type": "code",
   "execution_count": 19,
   "metadata": {},
   "outputs": [
    {
     "data": {
      "text/html": [
       "<div>\n",
       "<style scoped>\n",
       "    .dataframe tbody tr th:only-of-type {\n",
       "        vertical-align: middle;\n",
       "    }\n",
       "\n",
       "    .dataframe tbody tr th {\n",
       "        vertical-align: top;\n",
       "    }\n",
       "\n",
       "    .dataframe thead th {\n",
       "        text-align: right;\n",
       "    }\n",
       "</style>\n",
       "<table border=\"1\" class=\"dataframe\">\n",
       "  <thead>\n",
       "    <tr style=\"text-align: right;\">\n",
       "      <th></th>\n",
       "      <th>peak_width</th>\n",
       "      <th>exon</th>\n",
       "      <th>gene</th>\n",
       "      <th>promoter</th>\n",
       "      <th>annotation</th>\n",
       "      <th>gene_name</th>\n",
       "      <th>gene_id</th>\n",
       "      <th>tss_distance</th>\n",
       "      <th>ENCODE_blacklist</th>\n",
       "      <th>n_cells_by_counts</th>\n",
       "      <th>mean_counts</th>\n",
       "      <th>log1p_mean_counts</th>\n",
       "      <th>pct_dropout_by_counts</th>\n",
       "      <th>total_counts</th>\n",
       "      <th>log1p_total_counts</th>\n",
       "    </tr>\n",
       "  </thead>\n",
       "  <tbody>\n",
       "    <tr>\n",
       "      <th>chr1:816745-817435</th>\n",
       "      <td>691</td>\n",
       "      <td>0</td>\n",
       "      <td>0</td>\n",
       "      <td>0</td>\n",
       "      <td>intergenic</td>\n",
       "      <td>NaN</td>\n",
       "      <td>NaN</td>\n",
       "      <td>106492</td>\n",
       "      <td>0</td>\n",
       "      <td>565</td>\n",
       "      <td>0.017947</td>\n",
       "      <td>0.017788</td>\n",
       "      <td>98.205267</td>\n",
       "      <td>565.0</td>\n",
       "      <td>6.338594</td>\n",
       "    </tr>\n",
       "    <tr>\n",
       "      <th>chr1:817739-818227</th>\n",
       "      <td>489</td>\n",
       "      <td>0</td>\n",
       "      <td>0</td>\n",
       "      <td>0</td>\n",
       "      <td>intergenic</td>\n",
       "      <td>NaN</td>\n",
       "      <td>NaN</td>\n",
       "      <td>105700</td>\n",
       "      <td>0</td>\n",
       "      <td>200</td>\n",
       "      <td>0.006353</td>\n",
       "      <td>0.006333</td>\n",
       "      <td>99.364696</td>\n",
       "      <td>200.0</td>\n",
       "      <td>5.303305</td>\n",
       "    </tr>\n",
       "    <tr>\n",
       "      <th>chr1:825790-826042</th>\n",
       "      <td>253</td>\n",
       "      <td>0</td>\n",
       "      <td>0</td>\n",
       "      <td>0</td>\n",
       "      <td>intergenic</td>\n",
       "      <td>NaN</td>\n",
       "      <td>NaN</td>\n",
       "      <td>97885</td>\n",
       "      <td>0</td>\n",
       "      <td>277</td>\n",
       "      <td>0.008799</td>\n",
       "      <td>0.008760</td>\n",
       "      <td>99.120104</td>\n",
       "      <td>277.0</td>\n",
       "      <td>5.627621</td>\n",
       "    </tr>\n",
       "    <tr>\n",
       "      <th>chr1:826603-827799</th>\n",
       "      <td>1197</td>\n",
       "      <td>0</td>\n",
       "      <td>0</td>\n",
       "      <td>0</td>\n",
       "      <td>intergenic</td>\n",
       "      <td>NaN</td>\n",
       "      <td>NaN</td>\n",
       "      <td>96128</td>\n",
       "      <td>0</td>\n",
       "      <td>5105</td>\n",
       "      <td>0.162161</td>\n",
       "      <td>0.150281</td>\n",
       "      <td>83.783870</td>\n",
       "      <td>5105.0</td>\n",
       "      <td>8.538172</td>\n",
       "    </tr>\n",
       "    <tr>\n",
       "      <th>chr1:842634-843206</th>\n",
       "      <td>573</td>\n",
       "      <td>0</td>\n",
       "      <td>0</td>\n",
       "      <td>0</td>\n",
       "      <td>intergenic</td>\n",
       "      <td>NaN</td>\n",
       "      <td>NaN</td>\n",
       "      <td>80721</td>\n",
       "      <td>0</td>\n",
       "      <td>188</td>\n",
       "      <td>0.005972</td>\n",
       "      <td>0.005954</td>\n",
       "      <td>99.402814</td>\n",
       "      <td>188.0</td>\n",
       "      <td>5.241747</td>\n",
       "    </tr>\n",
       "  </tbody>\n",
       "</table>\n",
       "</div>"
      ],
      "text/plain": [
       "                    peak_width  exon  gene  promoter  annotation gene_name  \\\n",
       "chr1:816745-817435         691     0     0         0  intergenic       NaN   \n",
       "chr1:817739-818227         489     0     0         0  intergenic       NaN   \n",
       "chr1:825790-826042         253     0     0         0  intergenic       NaN   \n",
       "chr1:826603-827799        1197     0     0         0  intergenic       NaN   \n",
       "chr1:842634-843206         573     0     0         0  intergenic       NaN   \n",
       "\n",
       "                   gene_id  tss_distance  ENCODE_blacklist  n_cells_by_counts  \\\n",
       "chr1:816745-817435     NaN        106492                 0                565   \n",
       "chr1:817739-818227     NaN        105700                 0                200   \n",
       "chr1:825790-826042     NaN         97885                 0                277   \n",
       "chr1:826603-827799     NaN         96128                 0               5105   \n",
       "chr1:842634-843206     NaN         80721                 0                188   \n",
       "\n",
       "                    mean_counts  log1p_mean_counts  pct_dropout_by_counts  \\\n",
       "chr1:816745-817435     0.017947           0.017788              98.205267   \n",
       "chr1:817739-818227     0.006353           0.006333              99.364696   \n",
       "chr1:825790-826042     0.008799           0.008760              99.120104   \n",
       "chr1:826603-827799     0.162161           0.150281              83.783870   \n",
       "chr1:842634-843206     0.005972           0.005954              99.402814   \n",
       "\n",
       "                    total_counts  log1p_total_counts  \n",
       "chr1:816745-817435         565.0            6.338594  \n",
       "chr1:817739-818227         200.0            5.303305  \n",
       "chr1:825790-826042         277.0            5.627621  \n",
       "chr1:826603-827799        5105.0            8.538172  \n",
       "chr1:842634-843206         188.0            5.241747  "
      ]
     },
     "execution_count": 19,
     "metadata": {},
     "output_type": "execute_result"
    }
   ],
   "source": [
    "adata.var.head()"
   ]
  },
  {
   "cell_type": "code",
   "execution_count": 20,
   "metadata": {},
   "outputs": [
    {
     "data": {
      "text/plain": [
       "intergenic    162638\n",
       "intron        148148\n",
       "exon           38972\n",
       "promoter       11485\n",
       "Name: annotation, dtype: int64"
      ]
     },
     "execution_count": 20,
     "metadata": {},
     "output_type": "execute_result"
    }
   ],
   "source": [
    "adata.var['annotation'].value_counts()"
   ]
  },
  {
   "cell_type": "code",
   "execution_count": 21,
   "metadata": {},
   "outputs": [
    {
     "data": {
      "text/plain": [
       "AnnData object with n_obs × n_vars = 31481 × 361243\n",
       "    obs: 'cellatac_clusters'\n",
       "    var: 'peak_width', 'exon', 'gene', 'promoter', 'annotation', 'gene_name', 'gene_id', 'tss_distance', 'ENCODE_blacklist', 'n_cells_by_counts', 'mean_counts', 'log1p_mean_counts', 'pct_dropout_by_counts', 'total_counts', 'log1p_total_counts'\n",
       "    layers: 'binary_raw'"
      ]
     },
     "execution_count": 21,
     "metadata": {},
     "output_type": "execute_result"
    }
   ],
   "source": [
    "### Filter peaks that are not accessible in at least 4% of cells from a coarse cluster\n",
    "min_frac=0.04\n",
    "# Load cluster information from cellatac outputs\n",
    "clusters = pd.read_table(input[\"clusters\"], header = None, index_col = 0)\n",
    "clusters.columns = [\"cellatac_clusters\"]\n",
    "adata.obs = clusters.loc[adata.obs_names]\n",
    "adata"
   ]
  },
  {
   "cell_type": "code",
   "execution_count": 22,
   "metadata": {},
   "outputs": [
    {
     "name": "stderr",
     "output_type": "stream",
     "text": [
      "/opt/conda/envs/atac_env/lib/python3.8/site-packages/IPython/core/interactiveshell.py:3427: SparseEfficiencyWarning: Comparing a sparse matrix with a nonzero scalar using != is inefficient, try using == instead.\n",
      "  exec(code_obj, self.user_global_ns, self.user_ns)\n",
      "/opt/conda/envs/atac_env/lib/python3.8/site-packages/scipy/sparse/_index.py:125: SparseEfficiencyWarning: Changing the sparsity structure of a csr_matrix is expensive. lil_matrix is more efficient.\n",
      "  self._set_arrayXarray(i, j, x)\n"
     ]
    }
   ],
   "source": [
    "n_clusters = len(np.unique(adata.obs[[\"cellatac_clusters\"]]))\n",
    "clus_mat = np.empty([adata.n_obs, n_clusters])\n",
    "for cl in np.unique(adata.obs[[\"cellatac_clusters\"]]):\n",
    "    clus_mat[np.where(adata.obs['cellatac_clusters']==cl)[0],cl] = 1\n",
    "\n",
    "clus_mat = scipy.sparse.csr_matrix(clus_mat)\n",
    "clus_mat[clus_mat != 1 ] = 0"
   ]
  },
  {
   "cell_type": "code",
   "execution_count": 23,
   "metadata": {},
   "outputs": [],
   "source": [
    "cl_peak_mat = np.dot(clus_mat.T, adata.layers[\"binary_raw\"])"
   ]
  },
  {
   "cell_type": "code",
   "execution_count": 24,
   "metadata": {},
   "outputs": [],
   "source": [
    "cl_peak_frac = cl_peak_mat/clus_mat.sum(0).T"
   ]
  },
  {
   "cell_type": "code",
   "execution_count": 25,
   "metadata": {},
   "outputs": [
    {
     "data": {
      "text/plain": [
       "(1, 361243)"
      ]
     },
     "execution_count": 25,
     "metadata": {},
     "output_type": "execute_result"
    }
   ],
   "source": [
    "bool_matrix = cl_peak_frac.max(0) > min_frac\n",
    "bool_matrix.shape"
   ]
  },
  {
   "cell_type": "code",
   "execution_count": 26,
   "metadata": {},
   "outputs": [
    {
     "data": {
      "text/plain": [
       "(361243,)"
      ]
     },
     "execution_count": 26,
     "metadata": {},
     "output_type": "execute_result"
    }
   ],
   "source": [
    "bool_vector = np.squeeze(np.asarray(bool_matrix))\n",
    "bool_vector.shape"
   ]
  },
  {
   "cell_type": "code",
   "execution_count": 27,
   "metadata": {},
   "outputs": [],
   "source": [
    "adata = adata[:, bool_vector]"
   ]
  },
  {
   "cell_type": "code",
   "execution_count": 28,
   "metadata": {},
   "outputs": [
    {
     "data": {
      "text/plain": [
       "View of AnnData object with n_obs × n_vars = 31481 × 232562\n",
       "    obs: 'cellatac_clusters'\n",
       "    var: 'peak_width', 'exon', 'gene', 'promoter', 'annotation', 'gene_name', 'gene_id', 'tss_distance', 'ENCODE_blacklist', 'n_cells_by_counts', 'mean_counts', 'log1p_mean_counts', 'pct_dropout_by_counts', 'total_counts', 'log1p_total_counts'\n",
       "    layers: 'binary_raw'"
      ]
     },
     "execution_count": 28,
     "metadata": {},
     "output_type": "execute_result"
    }
   ],
   "source": [
    "adata"
   ]
  },
  {
   "cell_type": "markdown",
   "metadata": {},
   "source": [
    "#### Filter low quality cells"
   ]
  },
  {
   "cell_type": "code",
   "execution_count": 29,
   "metadata": {},
   "outputs": [
    {
     "name": "stderr",
     "output_type": "stream",
     "text": [
      "Trying to set attribute `.obs` of view, copying.\n"
     ]
    }
   ],
   "source": [
    "sc.pp.calculate_qc_metrics(adata, layer = \"binary_raw\", inplace = True)"
   ]
  },
  {
   "cell_type": "code",
   "execution_count": 30,
   "metadata": {},
   "outputs": [
    {
     "data": {
      "text/plain": [
       "array([[<AxesSubplot:title={'center':'log1p_total_counts'}>]],\n",
       "      dtype=object)"
      ]
     },
     "execution_count": 30,
     "metadata": {},
     "output_type": "execute_result"
    },
    {
     "data": {
      "image/png": "[encoded data removed]",
      "text/plain": [
       "<Figure size 1800x432 with 1 Axes>"
      ]
     },
     "metadata": {
      "needs_background": "light"
     },
     "output_type": "display_data"
    }
   ],
   "source": [
    "adata.var.hist(column = 'log1p_total_counts', bins = 200, grid = False, figsize = (25,6), color = '#870052')"
   ]
  },
  {
   "cell_type": "code",
   "execution_count": 31,
   "metadata": {},
   "outputs": [
    {
     "data": {
      "text/plain": [
       "array([[<AxesSubplot:title={'center':'log1p_total_counts'}>]],\n",
       "      dtype=object)"
      ]
     },
     "execution_count": 31,
     "metadata": {},
     "output_type": "execute_result"
    },
    {
     "data": {
      "image/png": "[encoded data removed]",
      "text/plain": [
       "<Figure size 1800x432 with 1 Axes>"
      ]
     },
     "metadata": {
      "needs_background": "light"
     },
     "output_type": "display_data"
    }
   ],
   "source": [
    "adata.obs.hist(column = 'log1p_total_counts', bins = 200, grid = False, figsize = (25,6), color = '#870052')"
   ]
  },
  {
   "cell_type": "code",
   "execution_count": 32,
   "metadata": {},
   "outputs": [
    {
     "data": {
      "text/plain": [
       "View of AnnData object with n_obs × n_vars = 31261 × 232562\n",
       "    obs: 'cellatac_clusters', 'n_genes_by_counts', 'log1p_n_genes_by_counts', 'total_counts', 'log1p_total_counts', 'pct_counts_in_top_50_genes', 'pct_counts_in_top_100_genes', 'pct_counts_in_top_200_genes', 'pct_counts_in_top_500_genes'\n",
       "    var: 'peak_width', 'exon', 'gene', 'promoter', 'annotation', 'gene_name', 'gene_id', 'tss_distance', 'ENCODE_blacklist', 'n_cells_by_counts', 'mean_counts', 'log1p_mean_counts', 'pct_dropout_by_counts', 'total_counts', 'log1p_total_counts'\n",
       "    layers: 'binary_raw'"
      ]
     },
     "execution_count": 32,
     "metadata": {},
     "output_type": "execute_result"
    }
   ],
   "source": [
    "adata = adata[adata.obs.log1p_total_counts >= 6]\n",
    "adata"
   ]
  },
  {
   "cell_type": "code",
   "execution_count": 33,
   "metadata": {},
   "outputs": [
    {
     "name": "stderr",
     "output_type": "stream",
     "text": [
      "/opt/conda/envs/atac_env/lib/python3.8/site-packages/anndata/_core/anndata.py:1207: ImplicitModificationWarning: Initializing view as actual.\n",
      "  warnings.warn(\n",
      "Trying to set attribute `.var` of view, copying.\n",
      "... storing 'annotation' as categorical\n",
      "Trying to set attribute `.var` of view, copying.\n",
      "... storing 'gene_name' as categorical\n",
      "Trying to set attribute `.var` of view, copying.\n",
      "... storing 'gene_id' as categorical\n"
     ]
    }
   ],
   "source": [
    "## Write output anndata\n",
    "adata.write_h5ad(output[\"h5ad\"])"
   ]
  },
  {
   "cell_type": "markdown",
   "metadata": {},
   "source": [
    "#### End of notebook"
   ]
  },
  {
   "cell_type": "code",
   "execution_count": null,
   "metadata": {},
   "outputs": [],
   "source": []
  },
  {
   "cell_type": "code",
   "execution_count": null,
   "metadata": {},
   "outputs": [],
   "source": []
  }
 ],
 "metadata": {
  "kernelspec": {
   "display_name": "atac_env",
   "language": "python",
   "name": "atac_env"
  },
  "language_info": {
   "codemirror_mode": {
    "name": "ipython",
    "version": 3
   },
   "file_extension": ".py",
   "mimetype": "text/x-python",
   "name": "python",
   "nbconvert_exporter": "python",
   "pygments_lexer": "ipython3",
   "version": "3.8.6"
  }
 },
 "nbformat": 4,
 "nbformat_minor": 4
}
